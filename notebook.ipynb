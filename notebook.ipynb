{
 "cells": [
  {
   "attachments": {},
   "cell_type": "markdown",
   "metadata": {},
   "source": [
    "# CS316 Project"
   ]
  },
  {
   "cell_type": "code",
   "execution_count": 1,
   "metadata": {},
   "outputs": [
    {
     "name": "stderr",
     "output_type": "stream",
     "text": [
      "bash: /home/huukhang1512/miniconda3/envs/tf/lib/libtinfo.so.6: no version information available (required by bash)\n",
      "bash: /home/huukhang1512/miniconda3/envs/tf/lib/libtinfo.so.6: no version information available (required by bash)\n",
      "23/05/29 16:06:26 WARN Utils: Your hostname, huukhang1512-B550I-AORUS-PRO-AX resolves to a loopback address: 127.0.1.1; using 192.168.0.162 instead (on interface wlp6s0)\n",
      "23/05/29 16:06:26 WARN Utils: Set SPARK_LOCAL_IP if you need to bind to another address\n",
      "Using Spark's default log4j profile: org/apache/spark/log4j-defaults.properties\n",
      "Setting default log level to \"WARN\".\n",
      "To adjust logging level use sc.setLogLevel(newLevel). For SparkR, use setLogLevel(newLevel).\n",
      "23/05/29 16:06:27 WARN NativeCodeLoader: Unable to load native-hadoop library for your platform... using builtin-java classes where applicable\n",
      "23/05/29 16:06:27 WARN Utils: Service 'SparkUI' could not bind on port 4040. Attempting port 4041.\n"
     ]
    }
   ],
   "source": [
    "from pyspark.sql import SparkSession\n",
    "spark = SparkSession \\\n",
    "    .builder \\\n",
    "    .appName(\"credit_analysis\") \\\n",
    "    .getOrCreate()\n"
   ]
  },
  {
   "cell_type": "code",
   "execution_count": 2,
   "metadata": {},
   "outputs": [
    {
     "name": "stderr",
     "output_type": "stream",
     "text": [
      "                                                                                \r"
     ]
    }
   ],
   "source": [
    "df_original=spark.read.format(\"csv\").option(\"header\",\"true\").load('./data.csv', inferSchema=True)"
   ]
  },
  {
   "cell_type": "code",
   "execution_count": 3,
   "metadata": {},
   "outputs": [
    {
     "data": {
      "text/plain": [
       "855969"
      ]
     },
     "execution_count": 3,
     "metadata": {},
     "output_type": "execute_result"
    }
   ],
   "source": [
    "df_original.count()"
   ]
  },
  {
   "attachments": {},
   "cell_type": "markdown",
   "metadata": {},
   "source": [
    "## We realised there's many rows that have more delimeters than the others, therefore, we decided to remove some record with wrong delimeter before hand"
   ]
  },
  {
   "cell_type": "code",
   "execution_count": 4,
   "metadata": {},
   "outputs": [],
   "source": [
    "def remove_lines_with_excessive_commas(input_file, output_file):\n",
    "    with open(input_file, 'r') as csv_input, open(output_file, 'w', newline='') as csv_output:\n",
    "        first_line = csv_input.readline()\n",
    "        csv_output.write(first_line)\n",
    "        number_of_comma = first_line.count(',')\n",
    "        lines_removed = 0\n",
    "\n",
    "        for row in csv_input.readlines():\n",
    "            \n",
    "            if row.count(',') <= number_of_comma:\n",
    "                csv_output.write(row)\n",
    "            else:\n",
    "                lines_removed += 1\n",
    "\n",
    "        print(f\"{lines_removed} Lines with more than {number_of_comma} commas have been removed.\")\n",
    "\n",
    "# Usage example\n",
    "input_file = 'data.csv'\n",
    "output_file = 'output.csv'"
   ]
  },
  {
   "cell_type": "code",
   "execution_count": 5,
   "metadata": {},
   "outputs": [
    {
     "name": "stdout",
     "output_type": "stream",
     "text": [
      "51895 Lines with more than 72 commas have been removed.\n"
     ]
    }
   ],
   "source": [
    "remove_lines_with_excessive_commas(input_file, output_file)"
   ]
  },
  {
   "cell_type": "code",
   "execution_count": 6,
   "metadata": {},
   "outputs": [
    {
     "name": "stderr",
     "output_type": "stream",
     "text": [
      "                                                                                \r"
     ]
    }
   ],
   "source": [
    "df=spark.read.format(\"csv\").option(\"header\",\"true\").load('./output.csv', inferSchema=True)"
   ]
  },
  {
   "cell_type": "code",
   "execution_count": 7,
   "metadata": {},
   "outputs": [
    {
     "data": {
      "text/plain": [
       "804074"
      ]
     },
     "execution_count": 7,
     "metadata": {},
     "output_type": "execute_result"
    }
   ],
   "source": [
    "df.count()"
   ]
  },
  {
   "cell_type": "code",
   "execution_count": 8,
   "metadata": {},
   "outputs": [
    {
     "name": "stderr",
     "output_type": "stream",
     "text": [
      "23/05/29 16:06:35 WARN package: Truncated the string representation of a plan since it was too large. This behavior can be adjusted by setting 'spark.sql.debug.maxToStringFields'.\n"
     ]
    },
    {
     "name": "stdout",
     "output_type": "stream",
     "text": [
      "+-------+---------+---------+-----------+---------------+----------+--------+-----------+-----+---------+--------------------+----------+--------------+----------+-------------------+----------+----------+--------------------+--------------+--------------------+--------+----------+-----+-----------+----------------+--------------+----------------------+----------------------+--------+-------+---------+----------+---------+-------------------+---------+-------------+-----------+---------------+---------------+-------------+------------------+----------+-----------------------+------------+---------------+------------+------------------+--------------------------+---------------------------+-----------+----------------+----------------+---------+-------------------------+--------------+------------+-----------+-----------+----------+-----------+-----------+------------------+------------+-------+-----------+-----------+----------+--------+----------------+------+-----------+------------+-----------+\n",
      "|     id|member_id|loan_amnt|funded_amnt|funded_amnt_inv|      term|int_rate|installment|grade|sub_grade|           emp_title|emp_length|home_ownership|annual_inc|verification_status|   issue_d|pymnt_plan|                desc|       purpose|               title|zip_code|addr_state|  dti|delinq_2yrs|earliest_cr_line|inq_last_6mths|mths_since_last_delinq|mths_since_last_record|open_acc|pub_rec|revol_bal|revol_util|total_acc|initial_list_status|out_prncp|out_prncp_inv|total_pymnt|total_pymnt_inv|total_rec_prncp|total_rec_int|total_rec_late_fee|recoveries|collection_recovery_fee|last_pymnt_d|last_pymnt_amnt|next_pymnt_d|last_credit_pull_d|collections_12_mths_ex_med|mths_since_last_major_derog|policy_code|application_type|annual_inc_joint|dti_joint|verification_status_joint|acc_now_delinq|tot_coll_amt|tot_cur_bal|open_acc_6m|open_il_6m|open_il_12m|open_il_24m|mths_since_rcnt_il|total_bal_il|il_util|open_rv_12m|open_rv_24m|max_bal_bc|all_util|total_rev_hi_lim|inq_fi|total_cu_tl|inq_last_12m|default_ind|\n",
      "+-------+---------+---------+-----------+---------------+----------+--------+-----------+-----+---------+--------------------+----------+--------------+----------+-------------------+----------+----------+--------------------+--------------+--------------------+--------+----------+-----+-----------+----------------+--------------+----------------------+----------------------+--------+-------+---------+----------+---------+-------------------+---------+-------------+-----------+---------------+---------------+-------------+------------------+----------+-----------------------+------------+---------------+------------+------------------+--------------------------+---------------------------+-----------+----------------+----------------+---------+-------------------------+--------------+------------+-----------+-----------+----------+-----------+-----------+------------------+------------+-------+-----------+-----------+----------+--------+----------------+------+-----------+------------+-----------+\n",
      "|1077501|  1296599|     5000|       5000|         4975.0| 36 months|   10.65|     162.87|    B|       B2|                null| 10+ years|          RENT|   24000.0|           Verified|01-12-2011|         n|  Borrower added ...|   credit_card|            Computer|   860xx|        AZ|27.65|          0|      01-01-1985|             1|                  null|                  null|       3|      0|    13648|      83.7|        9|                  f|      0.0|          0.0|5861.071414|        5831.78|         5000.0|       861.07|               0.0|       0.0|                    0.0|  01-01-2015|         171.62|        null|        01-01-2016|                         0|                       null|          1|      INDIVIDUAL|            null|     null|                     null|             0|        null|       null|       null|      null|       null|       null|              null|        null|   null|       null|       null|      null|    null|            null|  null|       null|        null|          0|\n",
      "|1077430|  1314167|     2500|       2500|         2500.0| 60 months|   15.27|      59.83|    C|       C4|               Ryder|  < 1 year|          RENT|   30000.0|    Source Verified|01-12-2011|         n|  Borrower added ...|           car|                bike|   309xx|        GA|  1.0|          0|      01-04-1999|             5|                  null|                  null|       3|      0|     1687|       9.4|        4|                  f|      0.0|          0.0|    1008.71|        1008.71|         456.46|       435.17|               0.0|    117.08|                   1.11|  01-04-2013|         119.66|        null|        01-09-2013|                         0|                       null|          1|      INDIVIDUAL|            null|     null|                     null|             0|        null|       null|       null|      null|       null|       null|              null|        null|   null|       null|       null|      null|    null|            null|  null|       null|        null|          1|\n",
      "|1077175|  1313524|     2400|       2400|         2400.0| 36 months|   15.96|      84.33|    C|       C5|                null| 10+ years|          RENT|   12252.0|       Not Verified|01-12-2011|         n|                null|small_business|real estate business|   606xx|        IL| 8.72|          0|      01-11-2001|             2|                  null|                  null|       2|      0|     2956|      98.5|       10|                  f|      0.0|          0.0|3003.653644|        3003.65|         2400.0|       603.65|               0.0|       0.0|                    0.0|  01-06-2014|         649.91|        null|        01-01-2016|                         0|                       null|          1|      INDIVIDUAL|            null|     null|                     null|             0|        null|       null|       null|      null|       null|       null|              null|        null|   null|       null|       null|      null|    null|            null|  null|       null|        null|          0|\n",
      "|1075269|  1311441|     5000|       5000|         5000.0| 36 months|     7.9|     156.46|    A|       A4|Veolia Transportaton|   3 years|          RENT|   36000.0|    Source Verified|01-12-2011|         n|                null|       wedding|My wedding loan I...|   852xx|        AZ| 11.2|          0|      01-11-2004|             3|                  null|                  null|       9|      0|     7963|      28.3|       12|                  f|      0.0|          0.0|5631.377753|        5631.38|         5000.0|       631.38|               0.0|       0.0|                    0.0|  01-01-2015|         161.03|        null|        01-09-2015|                         0|                       null|          1|      INDIVIDUAL|            null|     null|                     null|             0|        null|       null|       null|      null|       null|       null|              null|        null|   null|       null|       null|      null|    null|            null|  null|       null|        null|          0|\n",
      "|1072053|  1288686|     3000|       3000|         3000.0| 36 months|   18.64|     109.43|    E|       E1|     MKC Accounting |   9 years|          RENT|   48000.0|    Source Verified|01-12-2011|         n|  Borrower added ...|           car|     Car Downpayment|   900xx|        CA| 5.35|          0|      01-01-2007|             2|                  null|                  null|       4|      0|     8221|      87.5|        4|                  f|      0.0|          0.0|3938.144334|        3938.14|         3000.0|       938.14|               0.0|       0.0|                    0.0|  01-01-2015|         111.34|        null|        01-12-2014|                         0|                       null|          1|      INDIVIDUAL|            null|     null|                     null|             0|        null|       null|       null|      null|       null|       null|              null|        null|   null|       null|       null|      null|    null|            null|  null|       null|        null|          0|\n",
      "+-------+---------+---------+-----------+---------------+----------+--------+-----------+-----+---------+--------------------+----------+--------------+----------+-------------------+----------+----------+--------------------+--------------+--------------------+--------+----------+-----+-----------+----------------+--------------+----------------------+----------------------+--------+-------+---------+----------+---------+-------------------+---------+-------------+-----------+---------------+---------------+-------------+------------------+----------+-----------------------+------------+---------------+------------+------------------+--------------------------+---------------------------+-----------+----------------+----------------+---------+-------------------------+--------------+------------+-----------+-----------+----------+-----------+-----------+------------------+------------+-------+-----------+-----------+----------+--------+----------------+------+-----------+------------+-----------+\n",
      "only showing top 5 rows\n",
      "\n"
     ]
    }
   ],
   "source": [
    "df.show(5)"
   ]
  },
  {
   "cell_type": "code",
   "execution_count": 9,
   "metadata": {},
   "outputs": [
    {
     "data": {
      "text/plain": [
       "40660"
      ]
     },
     "execution_count": 9,
     "metadata": {},
     "output_type": "execute_result"
    }
   ],
   "source": [
    "df.filter(df['default_ind'] == 1).count()"
   ]
  },
  {
   "cell_type": "code",
   "execution_count": 10,
   "metadata": {},
   "outputs": [
    {
     "data": {
      "text/plain": [
       "['id',\n",
       " 'member_id',\n",
       " 'loan_amnt',\n",
       " 'funded_amnt',\n",
       " 'funded_amnt_inv',\n",
       " 'term',\n",
       " 'int_rate',\n",
       " 'installment',\n",
       " 'grade',\n",
       " 'sub_grade',\n",
       " 'emp_title',\n",
       " 'emp_length',\n",
       " 'home_ownership',\n",
       " 'annual_inc',\n",
       " 'verification_status',\n",
       " 'issue_d',\n",
       " 'pymnt_plan',\n",
       " 'desc',\n",
       " 'purpose',\n",
       " 'title',\n",
       " 'zip_code',\n",
       " 'addr_state',\n",
       " 'dti',\n",
       " 'delinq_2yrs',\n",
       " 'earliest_cr_line',\n",
       " 'inq_last_6mths',\n",
       " 'mths_since_last_delinq',\n",
       " 'mths_since_last_record',\n",
       " 'open_acc',\n",
       " 'pub_rec',\n",
       " 'revol_bal',\n",
       " 'revol_util',\n",
       " 'total_acc',\n",
       " 'initial_list_status',\n",
       " 'out_prncp',\n",
       " 'out_prncp_inv',\n",
       " 'total_pymnt',\n",
       " 'total_pymnt_inv',\n",
       " 'total_rec_prncp',\n",
       " 'total_rec_int',\n",
       " 'total_rec_late_fee',\n",
       " 'recoveries',\n",
       " 'collection_recovery_fee',\n",
       " 'last_pymnt_d',\n",
       " 'last_pymnt_amnt',\n",
       " 'next_pymnt_d',\n",
       " 'last_credit_pull_d',\n",
       " 'collections_12_mths_ex_med',\n",
       " 'mths_since_last_major_derog',\n",
       " 'policy_code',\n",
       " 'application_type',\n",
       " 'annual_inc_joint',\n",
       " 'dti_joint',\n",
       " 'verification_status_joint',\n",
       " 'acc_now_delinq',\n",
       " 'tot_coll_amt',\n",
       " 'tot_cur_bal',\n",
       " 'open_acc_6m',\n",
       " 'open_il_6m',\n",
       " 'open_il_12m',\n",
       " 'open_il_24m',\n",
       " 'mths_since_rcnt_il',\n",
       " 'total_bal_il',\n",
       " 'il_util',\n",
       " 'open_rv_12m',\n",
       " 'open_rv_24m',\n",
       " 'max_bal_bc',\n",
       " 'all_util',\n",
       " 'total_rev_hi_lim',\n",
       " 'inq_fi',\n",
       " 'total_cu_tl',\n",
       " 'inq_last_12m',\n",
       " 'default_ind']"
      ]
     },
     "execution_count": 10,
     "metadata": {},
     "output_type": "execute_result"
    }
   ],
   "source": [
    "df.columns"
   ]
  },
  {
   "cell_type": "code",
   "execution_count": 11,
   "metadata": {},
   "outputs": [
    {
     "name": "stdout",
     "output_type": "stream",
     "text": [
      "+-----------+------+\n",
      "|default_ind| count|\n",
      "+-----------+------+\n",
      "|          1| 40660|\n",
      "|          0|763414|\n",
      "+-----------+------+\n",
      "\n"
     ]
    }
   ],
   "source": [
    "df.groupBy(df[\"default_ind\"]).count().show()"
   ]
  },
  {
   "attachments": {},
   "cell_type": "markdown",
   "metadata": {},
   "source": [
    "5% of the data are `default`"
   ]
  },
  {
   "attachments": {},
   "cell_type": "markdown",
   "metadata": {},
   "source": [
    "Visualisation of default diagram"
   ]
  },
  {
   "cell_type": "code",
   "execution_count": 12,
   "metadata": {},
   "outputs": [
    {
     "name": "stderr",
     "output_type": "stream",
     "text": [
      "WARNING:root:'PYARROW_IGNORE_TIMEZONE' environment variable was not set. It is required to set this environment variable to '1' in both driver and executor sides if you use pyarrow>=2.0.0. pandas-on-Spark will set it for you but it does not work if there is a Spark context already launched.\n",
      "/home/huukhang1512/.local/lib/python3.9/site-packages/scipy/__init__.py:146: UserWarning: A NumPy version >=1.16.5 and <1.23.0 is required for this version of SciPy (detected version 1.24.3\n",
      "  warnings.warn(f\"A NumPy version >={np_minversion} and <{np_maxversion}\"\n"
     ]
    },
    {
     "data": {
      "application/vnd.plotly.v1+json": {
       "config": {
        "plotlyServerURL": "https://plot.ly"
       },
       "data": [
        {
         "domain": {
          "x": [
           0,
           1
          ],
          "y": [
           0,
           1
          ]
         },
         "hovertemplate": "default_ind=%{label}<br>count=%{value}<extra></extra>",
         "labels": [
          1,
          0
         ],
         "legendgroup": "",
         "name": "",
         "showlegend": true,
         "type": "pie",
         "values": [
          40660,
          763414
         ]
        }
       ],
       "layout": {
        "legend": {
         "tracegroupgap": 0
        },
        "margin": {
         "t": 60
        },
        "template": {
         "data": {
          "bar": [
           {
            "error_x": {
             "color": "#2a3f5f"
            },
            "error_y": {
             "color": "#2a3f5f"
            },
            "marker": {
             "line": {
              "color": "#E5ECF6",
              "width": 0.5
             },
             "pattern": {
              "fillmode": "overlay",
              "size": 10,
              "solidity": 0.2
             }
            },
            "type": "bar"
           }
          ],
          "barpolar": [
           {
            "marker": {
             "line": {
              "color": "#E5ECF6",
              "width": 0.5
             },
             "pattern": {
              "fillmode": "overlay",
              "size": 10,
              "solidity": 0.2
             }
            },
            "type": "barpolar"
           }
          ],
          "carpet": [
           {
            "aaxis": {
             "endlinecolor": "#2a3f5f",
             "gridcolor": "white",
             "linecolor": "white",
             "minorgridcolor": "white",
             "startlinecolor": "#2a3f5f"
            },
            "baxis": {
             "endlinecolor": "#2a3f5f",
             "gridcolor": "white",
             "linecolor": "white",
             "minorgridcolor": "white",
             "startlinecolor": "#2a3f5f"
            },
            "type": "carpet"
           }
          ],
          "choropleth": [
           {
            "colorbar": {
             "outlinewidth": 0,
             "ticks": ""
            },
            "type": "choropleth"
           }
          ],
          "contour": [
           {
            "colorbar": {
             "outlinewidth": 0,
             "ticks": ""
            },
            "colorscale": [
             [
              0,
              "#0d0887"
             ],
             [
              0.1111111111111111,
              "#46039f"
             ],
             [
              0.2222222222222222,
              "#7201a8"
             ],
             [
              0.3333333333333333,
              "#9c179e"
             ],
             [
              0.4444444444444444,
              "#bd3786"
             ],
             [
              0.5555555555555556,
              "#d8576b"
             ],
             [
              0.6666666666666666,
              "#ed7953"
             ],
             [
              0.7777777777777778,
              "#fb9f3a"
             ],
             [
              0.8888888888888888,
              "#fdca26"
             ],
             [
              1,
              "#f0f921"
             ]
            ],
            "type": "contour"
           }
          ],
          "contourcarpet": [
           {
            "colorbar": {
             "outlinewidth": 0,
             "ticks": ""
            },
            "type": "contourcarpet"
           }
          ],
          "heatmap": [
           {
            "colorbar": {
             "outlinewidth": 0,
             "ticks": ""
            },
            "colorscale": [
             [
              0,
              "#0d0887"
             ],
             [
              0.1111111111111111,
              "#46039f"
             ],
             [
              0.2222222222222222,
              "#7201a8"
             ],
             [
              0.3333333333333333,
              "#9c179e"
             ],
             [
              0.4444444444444444,
              "#bd3786"
             ],
             [
              0.5555555555555556,
              "#d8576b"
             ],
             [
              0.6666666666666666,
              "#ed7953"
             ],
             [
              0.7777777777777778,
              "#fb9f3a"
             ],
             [
              0.8888888888888888,
              "#fdca26"
             ],
             [
              1,
              "#f0f921"
             ]
            ],
            "type": "heatmap"
           }
          ],
          "heatmapgl": [
           {
            "colorbar": {
             "outlinewidth": 0,
             "ticks": ""
            },
            "colorscale": [
             [
              0,
              "#0d0887"
             ],
             [
              0.1111111111111111,
              "#46039f"
             ],
             [
              0.2222222222222222,
              "#7201a8"
             ],
             [
              0.3333333333333333,
              "#9c179e"
             ],
             [
              0.4444444444444444,
              "#bd3786"
             ],
             [
              0.5555555555555556,
              "#d8576b"
             ],
             [
              0.6666666666666666,
              "#ed7953"
             ],
             [
              0.7777777777777778,
              "#fb9f3a"
             ],
             [
              0.8888888888888888,
              "#fdca26"
             ],
             [
              1,
              "#f0f921"
             ]
            ],
            "type": "heatmapgl"
           }
          ],
          "histogram": [
           {
            "marker": {
             "pattern": {
              "fillmode": "overlay",
              "size": 10,
              "solidity": 0.2
             }
            },
            "type": "histogram"
           }
          ],
          "histogram2d": [
           {
            "colorbar": {
             "outlinewidth": 0,
             "ticks": ""
            },
            "colorscale": [
             [
              0,
              "#0d0887"
             ],
             [
              0.1111111111111111,
              "#46039f"
             ],
             [
              0.2222222222222222,
              "#7201a8"
             ],
             [
              0.3333333333333333,
              "#9c179e"
             ],
             [
              0.4444444444444444,
              "#bd3786"
             ],
             [
              0.5555555555555556,
              "#d8576b"
             ],
             [
              0.6666666666666666,
              "#ed7953"
             ],
             [
              0.7777777777777778,
              "#fb9f3a"
             ],
             [
              0.8888888888888888,
              "#fdca26"
             ],
             [
              1,
              "#f0f921"
             ]
            ],
            "type": "histogram2d"
           }
          ],
          "histogram2dcontour": [
           {
            "colorbar": {
             "outlinewidth": 0,
             "ticks": ""
            },
            "colorscale": [
             [
              0,
              "#0d0887"
             ],
             [
              0.1111111111111111,
              "#46039f"
             ],
             [
              0.2222222222222222,
              "#7201a8"
             ],
             [
              0.3333333333333333,
              "#9c179e"
             ],
             [
              0.4444444444444444,
              "#bd3786"
             ],
             [
              0.5555555555555556,
              "#d8576b"
             ],
             [
              0.6666666666666666,
              "#ed7953"
             ],
             [
              0.7777777777777778,
              "#fb9f3a"
             ],
             [
              0.8888888888888888,
              "#fdca26"
             ],
             [
              1,
              "#f0f921"
             ]
            ],
            "type": "histogram2dcontour"
           }
          ],
          "mesh3d": [
           {
            "colorbar": {
             "outlinewidth": 0,
             "ticks": ""
            },
            "type": "mesh3d"
           }
          ],
          "parcoords": [
           {
            "line": {
             "colorbar": {
              "outlinewidth": 0,
              "ticks": ""
             }
            },
            "type": "parcoords"
           }
          ],
          "pie": [
           {
            "automargin": true,
            "type": "pie"
           }
          ],
          "scatter": [
           {
            "fillpattern": {
             "fillmode": "overlay",
             "size": 10,
             "solidity": 0.2
            },
            "type": "scatter"
           }
          ],
          "scatter3d": [
           {
            "line": {
             "colorbar": {
              "outlinewidth": 0,
              "ticks": ""
             }
            },
            "marker": {
             "colorbar": {
              "outlinewidth": 0,
              "ticks": ""
             }
            },
            "type": "scatter3d"
           }
          ],
          "scattercarpet": [
           {
            "marker": {
             "colorbar": {
              "outlinewidth": 0,
              "ticks": ""
             }
            },
            "type": "scattercarpet"
           }
          ],
          "scattergeo": [
           {
            "marker": {
             "colorbar": {
              "outlinewidth": 0,
              "ticks": ""
             }
            },
            "type": "scattergeo"
           }
          ],
          "scattergl": [
           {
            "marker": {
             "colorbar": {
              "outlinewidth": 0,
              "ticks": ""
             }
            },
            "type": "scattergl"
           }
          ],
          "scattermapbox": [
           {
            "marker": {
             "colorbar": {
              "outlinewidth": 0,
              "ticks": ""
             }
            },
            "type": "scattermapbox"
           }
          ],
          "scatterpolar": [
           {
            "marker": {
             "colorbar": {
              "outlinewidth": 0,
              "ticks": ""
             }
            },
            "type": "scatterpolar"
           }
          ],
          "scatterpolargl": [
           {
            "marker": {
             "colorbar": {
              "outlinewidth": 0,
              "ticks": ""
             }
            },
            "type": "scatterpolargl"
           }
          ],
          "scatterternary": [
           {
            "marker": {
             "colorbar": {
              "outlinewidth": 0,
              "ticks": ""
             }
            },
            "type": "scatterternary"
           }
          ],
          "surface": [
           {
            "colorbar": {
             "outlinewidth": 0,
             "ticks": ""
            },
            "colorscale": [
             [
              0,
              "#0d0887"
             ],
             [
              0.1111111111111111,
              "#46039f"
             ],
             [
              0.2222222222222222,
              "#7201a8"
             ],
             [
              0.3333333333333333,
              "#9c179e"
             ],
             [
              0.4444444444444444,
              "#bd3786"
             ],
             [
              0.5555555555555556,
              "#d8576b"
             ],
             [
              0.6666666666666666,
              "#ed7953"
             ],
             [
              0.7777777777777778,
              "#fb9f3a"
             ],
             [
              0.8888888888888888,
              "#fdca26"
             ],
             [
              1,
              "#f0f921"
             ]
            ],
            "type": "surface"
           }
          ],
          "table": [
           {
            "cells": {
             "fill": {
              "color": "#EBF0F8"
             },
             "line": {
              "color": "white"
             }
            },
            "header": {
             "fill": {
              "color": "#C8D4E3"
             },
             "line": {
              "color": "white"
             }
            },
            "type": "table"
           }
          ]
         },
         "layout": {
          "annotationdefaults": {
           "arrowcolor": "#2a3f5f",
           "arrowhead": 0,
           "arrowwidth": 1
          },
          "autotypenumbers": "strict",
          "coloraxis": {
           "colorbar": {
            "outlinewidth": 0,
            "ticks": ""
           }
          },
          "colorscale": {
           "diverging": [
            [
             0,
             "#8e0152"
            ],
            [
             0.1,
             "#c51b7d"
            ],
            [
             0.2,
             "#de77ae"
            ],
            [
             0.3,
             "#f1b6da"
            ],
            [
             0.4,
             "#fde0ef"
            ],
            [
             0.5,
             "#f7f7f7"
            ],
            [
             0.6,
             "#e6f5d0"
            ],
            [
             0.7,
             "#b8e186"
            ],
            [
             0.8,
             "#7fbc41"
            ],
            [
             0.9,
             "#4d9221"
            ],
            [
             1,
             "#276419"
            ]
           ],
           "sequential": [
            [
             0,
             "#0d0887"
            ],
            [
             0.1111111111111111,
             "#46039f"
            ],
            [
             0.2222222222222222,
             "#7201a8"
            ],
            [
             0.3333333333333333,
             "#9c179e"
            ],
            [
             0.4444444444444444,
             "#bd3786"
            ],
            [
             0.5555555555555556,
             "#d8576b"
            ],
            [
             0.6666666666666666,
             "#ed7953"
            ],
            [
             0.7777777777777778,
             "#fb9f3a"
            ],
            [
             0.8888888888888888,
             "#fdca26"
            ],
            [
             1,
             "#f0f921"
            ]
           ],
           "sequentialminus": [
            [
             0,
             "#0d0887"
            ],
            [
             0.1111111111111111,
             "#46039f"
            ],
            [
             0.2222222222222222,
             "#7201a8"
            ],
            [
             0.3333333333333333,
             "#9c179e"
            ],
            [
             0.4444444444444444,
             "#bd3786"
            ],
            [
             0.5555555555555556,
             "#d8576b"
            ],
            [
             0.6666666666666666,
             "#ed7953"
            ],
            [
             0.7777777777777778,
             "#fb9f3a"
            ],
            [
             0.8888888888888888,
             "#fdca26"
            ],
            [
             1,
             "#f0f921"
            ]
           ]
          },
          "colorway": [
           "#636efa",
           "#EF553B",
           "#00cc96",
           "#ab63fa",
           "#FFA15A",
           "#19d3f3",
           "#FF6692",
           "#B6E880",
           "#FF97FF",
           "#FECB52"
          ],
          "font": {
           "color": "#2a3f5f"
          },
          "geo": {
           "bgcolor": "white",
           "lakecolor": "white",
           "landcolor": "#E5ECF6",
           "showlakes": true,
           "showland": true,
           "subunitcolor": "white"
          },
          "hoverlabel": {
           "align": "left"
          },
          "hovermode": "closest",
          "mapbox": {
           "style": "light"
          },
          "paper_bgcolor": "white",
          "plot_bgcolor": "#E5ECF6",
          "polar": {
           "angularaxis": {
            "gridcolor": "white",
            "linecolor": "white",
            "ticks": ""
           },
           "bgcolor": "#E5ECF6",
           "radialaxis": {
            "gridcolor": "white",
            "linecolor": "white",
            "ticks": ""
           }
          },
          "scene": {
           "xaxis": {
            "backgroundcolor": "#E5ECF6",
            "gridcolor": "white",
            "gridwidth": 2,
            "linecolor": "white",
            "showbackground": true,
            "ticks": "",
            "zerolinecolor": "white"
           },
           "yaxis": {
            "backgroundcolor": "#E5ECF6",
            "gridcolor": "white",
            "gridwidth": 2,
            "linecolor": "white",
            "showbackground": true,
            "ticks": "",
            "zerolinecolor": "white"
           },
           "zaxis": {
            "backgroundcolor": "#E5ECF6",
            "gridcolor": "white",
            "gridwidth": 2,
            "linecolor": "white",
            "showbackground": true,
            "ticks": "",
            "zerolinecolor": "white"
           }
          },
          "shapedefaults": {
           "line": {
            "color": "#2a3f5f"
           }
          },
          "ternary": {
           "aaxis": {
            "gridcolor": "white",
            "linecolor": "white",
            "ticks": ""
           },
           "baxis": {
            "gridcolor": "white",
            "linecolor": "white",
            "ticks": ""
           },
           "bgcolor": "#E5ECF6",
           "caxis": {
            "gridcolor": "white",
            "linecolor": "white",
            "ticks": ""
           }
          },
          "title": {
           "x": 0.05
          },
          "xaxis": {
           "automargin": true,
           "gridcolor": "white",
           "linecolor": "white",
           "ticks": "",
           "title": {
            "standoff": 15
           },
           "zerolinecolor": "white",
           "zerolinewidth": 2
          },
          "yaxis": {
           "automargin": true,
           "gridcolor": "white",
           "linecolor": "white",
           "ticks": "",
           "title": {
            "standoff": 15
           },
           "zerolinecolor": "white",
           "zerolinewidth": 2
          }
         }
        }
       }
      }
     },
     "metadata": {},
     "output_type": "display_data"
    }
   ],
   "source": [
    "df.groupby(['default_ind']).count().to_pandas_on_spark(index_col='default_ind').plot.pie(y='count')"
   ]
  },
  {
   "attachments": {},
   "cell_type": "markdown",
   "metadata": {},
   "source": [
    "We will need to resample a training data that will have equal distribution (50/50) of default and non-default rows"
   ]
  },
  {
   "cell_type": "code",
   "execution_count": 14,
   "metadata": {},
   "outputs": [
    {
     "data": {
      "application/vnd.plotly.v1+json": {
       "config": {
        "plotlyServerURL": "https://plot.ly"
       },
       "data": [
        {
         "domain": {
          "x": [
           0,
           1
          ],
          "y": [
           0,
           1
          ]
         },
         "hovertemplate": "application_type=%{label}<br>count=%{value}<extra></extra>",
         "labels": [
          "INDIVIDUAL",
          "JOINT"
         ],
         "legendgroup": "",
         "name": "",
         "showlegend": true,
         "type": "pie",
         "values": [
          803633,
          441
         ]
        }
       ],
       "layout": {
        "legend": {
         "tracegroupgap": 0
        },
        "margin": {
         "t": 60
        },
        "template": {
         "data": {
          "bar": [
           {
            "error_x": {
             "color": "#2a3f5f"
            },
            "error_y": {
             "color": "#2a3f5f"
            },
            "marker": {
             "line": {
              "color": "#E5ECF6",
              "width": 0.5
             },
             "pattern": {
              "fillmode": "overlay",
              "size": 10,
              "solidity": 0.2
             }
            },
            "type": "bar"
           }
          ],
          "barpolar": [
           {
            "marker": {
             "line": {
              "color": "#E5ECF6",
              "width": 0.5
             },
             "pattern": {
              "fillmode": "overlay",
              "size": 10,
              "solidity": 0.2
             }
            },
            "type": "barpolar"
           }
          ],
          "carpet": [
           {
            "aaxis": {
             "endlinecolor": "#2a3f5f",
             "gridcolor": "white",
             "linecolor": "white",
             "minorgridcolor": "white",
             "startlinecolor": "#2a3f5f"
            },
            "baxis": {
             "endlinecolor": "#2a3f5f",
             "gridcolor": "white",
             "linecolor": "white",
             "minorgridcolor": "white",
             "startlinecolor": "#2a3f5f"
            },
            "type": "carpet"
           }
          ],
          "choropleth": [
           {
            "colorbar": {
             "outlinewidth": 0,
             "ticks": ""
            },
            "type": "choropleth"
           }
          ],
          "contour": [
           {
            "colorbar": {
             "outlinewidth": 0,
             "ticks": ""
            },
            "colorscale": [
             [
              0,
              "#0d0887"
             ],
             [
              0.1111111111111111,
              "#46039f"
             ],
             [
              0.2222222222222222,
              "#7201a8"
             ],
             [
              0.3333333333333333,
              "#9c179e"
             ],
             [
              0.4444444444444444,
              "#bd3786"
             ],
             [
              0.5555555555555556,
              "#d8576b"
             ],
             [
              0.6666666666666666,
              "#ed7953"
             ],
             [
              0.7777777777777778,
              "#fb9f3a"
             ],
             [
              0.8888888888888888,
              "#fdca26"
             ],
             [
              1,
              "#f0f921"
             ]
            ],
            "type": "contour"
           }
          ],
          "contourcarpet": [
           {
            "colorbar": {
             "outlinewidth": 0,
             "ticks": ""
            },
            "type": "contourcarpet"
           }
          ],
          "heatmap": [
           {
            "colorbar": {
             "outlinewidth": 0,
             "ticks": ""
            },
            "colorscale": [
             [
              0,
              "#0d0887"
             ],
             [
              0.1111111111111111,
              "#46039f"
             ],
             [
              0.2222222222222222,
              "#7201a8"
             ],
             [
              0.3333333333333333,
              "#9c179e"
             ],
             [
              0.4444444444444444,
              "#bd3786"
             ],
             [
              0.5555555555555556,
              "#d8576b"
             ],
             [
              0.6666666666666666,
              "#ed7953"
             ],
             [
              0.7777777777777778,
              "#fb9f3a"
             ],
             [
              0.8888888888888888,
              "#fdca26"
             ],
             [
              1,
              "#f0f921"
             ]
            ],
            "type": "heatmap"
           }
          ],
          "heatmapgl": [
           {
            "colorbar": {
             "outlinewidth": 0,
             "ticks": ""
            },
            "colorscale": [
             [
              0,
              "#0d0887"
             ],
             [
              0.1111111111111111,
              "#46039f"
             ],
             [
              0.2222222222222222,
              "#7201a8"
             ],
             [
              0.3333333333333333,
              "#9c179e"
             ],
             [
              0.4444444444444444,
              "#bd3786"
             ],
             [
              0.5555555555555556,
              "#d8576b"
             ],
             [
              0.6666666666666666,
              "#ed7953"
             ],
             [
              0.7777777777777778,
              "#fb9f3a"
             ],
             [
              0.8888888888888888,
              "#fdca26"
             ],
             [
              1,
              "#f0f921"
             ]
            ],
            "type": "heatmapgl"
           }
          ],
          "histogram": [
           {
            "marker": {
             "pattern": {
              "fillmode": "overlay",
              "size": 10,
              "solidity": 0.2
             }
            },
            "type": "histogram"
           }
          ],
          "histogram2d": [
           {
            "colorbar": {
             "outlinewidth": 0,
             "ticks": ""
            },
            "colorscale": [
             [
              0,
              "#0d0887"
             ],
             [
              0.1111111111111111,
              "#46039f"
             ],
             [
              0.2222222222222222,
              "#7201a8"
             ],
             [
              0.3333333333333333,
              "#9c179e"
             ],
             [
              0.4444444444444444,
              "#bd3786"
             ],
             [
              0.5555555555555556,
              "#d8576b"
             ],
             [
              0.6666666666666666,
              "#ed7953"
             ],
             [
              0.7777777777777778,
              "#fb9f3a"
             ],
             [
              0.8888888888888888,
              "#fdca26"
             ],
             [
              1,
              "#f0f921"
             ]
            ],
            "type": "histogram2d"
           }
          ],
          "histogram2dcontour": [
           {
            "colorbar": {
             "outlinewidth": 0,
             "ticks": ""
            },
            "colorscale": [
             [
              0,
              "#0d0887"
             ],
             [
              0.1111111111111111,
              "#46039f"
             ],
             [
              0.2222222222222222,
              "#7201a8"
             ],
             [
              0.3333333333333333,
              "#9c179e"
             ],
             [
              0.4444444444444444,
              "#bd3786"
             ],
             [
              0.5555555555555556,
              "#d8576b"
             ],
             [
              0.6666666666666666,
              "#ed7953"
             ],
             [
              0.7777777777777778,
              "#fb9f3a"
             ],
             [
              0.8888888888888888,
              "#fdca26"
             ],
             [
              1,
              "#f0f921"
             ]
            ],
            "type": "histogram2dcontour"
           }
          ],
          "mesh3d": [
           {
            "colorbar": {
             "outlinewidth": 0,
             "ticks": ""
            },
            "type": "mesh3d"
           }
          ],
          "parcoords": [
           {
            "line": {
             "colorbar": {
              "outlinewidth": 0,
              "ticks": ""
             }
            },
            "type": "parcoords"
           }
          ],
          "pie": [
           {
            "automargin": true,
            "type": "pie"
           }
          ],
          "scatter": [
           {
            "fillpattern": {
             "fillmode": "overlay",
             "size": 10,
             "solidity": 0.2
            },
            "type": "scatter"
           }
          ],
          "scatter3d": [
           {
            "line": {
             "colorbar": {
              "outlinewidth": 0,
              "ticks": ""
             }
            },
            "marker": {
             "colorbar": {
              "outlinewidth": 0,
              "ticks": ""
             }
            },
            "type": "scatter3d"
           }
          ],
          "scattercarpet": [
           {
            "marker": {
             "colorbar": {
              "outlinewidth": 0,
              "ticks": ""
             }
            },
            "type": "scattercarpet"
           }
          ],
          "scattergeo": [
           {
            "marker": {
             "colorbar": {
              "outlinewidth": 0,
              "ticks": ""
             }
            },
            "type": "scattergeo"
           }
          ],
          "scattergl": [
           {
            "marker": {
             "colorbar": {
              "outlinewidth": 0,
              "ticks": ""
             }
            },
            "type": "scattergl"
           }
          ],
          "scattermapbox": [
           {
            "marker": {
             "colorbar": {
              "outlinewidth": 0,
              "ticks": ""
             }
            },
            "type": "scattermapbox"
           }
          ],
          "scatterpolar": [
           {
            "marker": {
             "colorbar": {
              "outlinewidth": 0,
              "ticks": ""
             }
            },
            "type": "scatterpolar"
           }
          ],
          "scatterpolargl": [
           {
            "marker": {
             "colorbar": {
              "outlinewidth": 0,
              "ticks": ""
             }
            },
            "type": "scatterpolargl"
           }
          ],
          "scatterternary": [
           {
            "marker": {
             "colorbar": {
              "outlinewidth": 0,
              "ticks": ""
             }
            },
            "type": "scatterternary"
           }
          ],
          "surface": [
           {
            "colorbar": {
             "outlinewidth": 0,
             "ticks": ""
            },
            "colorscale": [
             [
              0,
              "#0d0887"
             ],
             [
              0.1111111111111111,
              "#46039f"
             ],
             [
              0.2222222222222222,
              "#7201a8"
             ],
             [
              0.3333333333333333,
              "#9c179e"
             ],
             [
              0.4444444444444444,
              "#bd3786"
             ],
             [
              0.5555555555555556,
              "#d8576b"
             ],
             [
              0.6666666666666666,
              "#ed7953"
             ],
             [
              0.7777777777777778,
              "#fb9f3a"
             ],
             [
              0.8888888888888888,
              "#fdca26"
             ],
             [
              1,
              "#f0f921"
             ]
            ],
            "type": "surface"
           }
          ],
          "table": [
           {
            "cells": {
             "fill": {
              "color": "#EBF0F8"
             },
             "line": {
              "color": "white"
             }
            },
            "header": {
             "fill": {
              "color": "#C8D4E3"
             },
             "line": {
              "color": "white"
             }
            },
            "type": "table"
           }
          ]
         },
         "layout": {
          "annotationdefaults": {
           "arrowcolor": "#2a3f5f",
           "arrowhead": 0,
           "arrowwidth": 1
          },
          "autotypenumbers": "strict",
          "coloraxis": {
           "colorbar": {
            "outlinewidth": 0,
            "ticks": ""
           }
          },
          "colorscale": {
           "diverging": [
            [
             0,
             "#8e0152"
            ],
            [
             0.1,
             "#c51b7d"
            ],
            [
             0.2,
             "#de77ae"
            ],
            [
             0.3,
             "#f1b6da"
            ],
            [
             0.4,
             "#fde0ef"
            ],
            [
             0.5,
             "#f7f7f7"
            ],
            [
             0.6,
             "#e6f5d0"
            ],
            [
             0.7,
             "#b8e186"
            ],
            [
             0.8,
             "#7fbc41"
            ],
            [
             0.9,
             "#4d9221"
            ],
            [
             1,
             "#276419"
            ]
           ],
           "sequential": [
            [
             0,
             "#0d0887"
            ],
            [
             0.1111111111111111,
             "#46039f"
            ],
            [
             0.2222222222222222,
             "#7201a8"
            ],
            [
             0.3333333333333333,
             "#9c179e"
            ],
            [
             0.4444444444444444,
             "#bd3786"
            ],
            [
             0.5555555555555556,
             "#d8576b"
            ],
            [
             0.6666666666666666,
             "#ed7953"
            ],
            [
             0.7777777777777778,
             "#fb9f3a"
            ],
            [
             0.8888888888888888,
             "#fdca26"
            ],
            [
             1,
             "#f0f921"
            ]
           ],
           "sequentialminus": [
            [
             0,
             "#0d0887"
            ],
            [
             0.1111111111111111,
             "#46039f"
            ],
            [
             0.2222222222222222,
             "#7201a8"
            ],
            [
             0.3333333333333333,
             "#9c179e"
            ],
            [
             0.4444444444444444,
             "#bd3786"
            ],
            [
             0.5555555555555556,
             "#d8576b"
            ],
            [
             0.6666666666666666,
             "#ed7953"
            ],
            [
             0.7777777777777778,
             "#fb9f3a"
            ],
            [
             0.8888888888888888,
             "#fdca26"
            ],
            [
             1,
             "#f0f921"
            ]
           ]
          },
          "colorway": [
           "#636efa",
           "#EF553B",
           "#00cc96",
           "#ab63fa",
           "#FFA15A",
           "#19d3f3",
           "#FF6692",
           "#B6E880",
           "#FF97FF",
           "#FECB52"
          ],
          "font": {
           "color": "#2a3f5f"
          },
          "geo": {
           "bgcolor": "white",
           "lakecolor": "white",
           "landcolor": "#E5ECF6",
           "showlakes": true,
           "showland": true,
           "subunitcolor": "white"
          },
          "hoverlabel": {
           "align": "left"
          },
          "hovermode": "closest",
          "mapbox": {
           "style": "light"
          },
          "paper_bgcolor": "white",
          "plot_bgcolor": "#E5ECF6",
          "polar": {
           "angularaxis": {
            "gridcolor": "white",
            "linecolor": "white",
            "ticks": ""
           },
           "bgcolor": "#E5ECF6",
           "radialaxis": {
            "gridcolor": "white",
            "linecolor": "white",
            "ticks": ""
           }
          },
          "scene": {
           "xaxis": {
            "backgroundcolor": "#E5ECF6",
            "gridcolor": "white",
            "gridwidth": 2,
            "linecolor": "white",
            "showbackground": true,
            "ticks": "",
            "zerolinecolor": "white"
           },
           "yaxis": {
            "backgroundcolor": "#E5ECF6",
            "gridcolor": "white",
            "gridwidth": 2,
            "linecolor": "white",
            "showbackground": true,
            "ticks": "",
            "zerolinecolor": "white"
           },
           "zaxis": {
            "backgroundcolor": "#E5ECF6",
            "gridcolor": "white",
            "gridwidth": 2,
            "linecolor": "white",
            "showbackground": true,
            "ticks": "",
            "zerolinecolor": "white"
           }
          },
          "shapedefaults": {
           "line": {
            "color": "#2a3f5f"
           }
          },
          "ternary": {
           "aaxis": {
            "gridcolor": "white",
            "linecolor": "white",
            "ticks": ""
           },
           "baxis": {
            "gridcolor": "white",
            "linecolor": "white",
            "ticks": ""
           },
           "bgcolor": "#E5ECF6",
           "caxis": {
            "gridcolor": "white",
            "linecolor": "white",
            "ticks": ""
           }
          },
          "title": {
           "x": 0.05
          },
          "xaxis": {
           "automargin": true,
           "gridcolor": "white",
           "linecolor": "white",
           "ticks": "",
           "title": {
            "standoff": 15
           },
           "zerolinecolor": "white",
           "zerolinewidth": 2
          },
          "yaxis": {
           "automargin": true,
           "gridcolor": "white",
           "linecolor": "white",
           "ticks": "",
           "title": {
            "standoff": 15
           },
           "zerolinecolor": "white",
           "zerolinewidth": 2
          }
         }
        }
       }
      }
     },
     "metadata": {},
     "output_type": "display_data"
    }
   ],
   "source": [
    "df.groupby(['application_type']).count().to_pandas_on_spark(index_col=['application_type']).plot.pie(y='count')"
   ]
  },
  {
   "attachments": {},
   "cell_type": "markdown",
   "metadata": {},
   "source": [
    "The number of data with `application_type == 'JOINT'`  are heavily underrepresent"
   ]
  },
  {
   "attachments": {},
   "cell_type": "markdown",
   "metadata": {},
   "source": [
    "Checking if there's any default cases when `application_type == 'JOINT'`"
   ]
  },
  {
   "cell_type": "code",
   "execution_count": 15,
   "metadata": {},
   "outputs": [
    {
     "data": {
      "text/plain": [
       "0"
      ]
     },
     "execution_count": 15,
     "metadata": {},
     "output_type": "execute_result"
    }
   ],
   "source": [
    "df.filter((df['application_type'] == \"JOINT\") & (df['default_ind'] == '1')).count()"
   ]
  },
  {
   "attachments": {},
   "cell_type": "markdown",
   "metadata": {},
   "source": [
    "Base on the dataset, virutally no `default` happened when the `application_type == 'JOINT'`!"
   ]
  },
  {
   "cell_type": "code",
   "execution_count": 16,
   "metadata": {},
   "outputs": [
    {
     "data": {
      "text/plain": [
       "442"
      ]
     },
     "execution_count": 16,
     "metadata": {},
     "output_type": "execute_result"
    }
   ],
   "source": [
    "df_original.filter(df_original['application_type'] == \"JOINT\").count()"
   ]
  },
  {
   "attachments": {},
   "cell_type": "markdown",
   "metadata": {},
   "source": [
    "We only remove 1 `\"JOINT\"` account from cleaning the CSV dataset"
   ]
  },
  {
   "attachments": {},
   "cell_type": "markdown",
   "metadata": {},
   "source": [
    "## Observation on `null` data fields:"
   ]
  },
  {
   "cell_type": "code",
   "execution_count": 17,
   "metadata": {},
   "outputs": [],
   "source": [
    "null_dict = {col : df.filter(df[col].isNull()).count() for col in df.columns}"
   ]
  },
  {
   "cell_type": "code",
   "execution_count": 18,
   "metadata": {},
   "outputs": [
    {
     "data": {
      "text/plain": [
       "{'id': 0,\n",
       " 'member_id': 0,\n",
       " 'loan_amnt': 0,\n",
       " 'funded_amnt': 0,\n",
       " 'funded_amnt_inv': 0,\n",
       " 'term': 0,\n",
       " 'int_rate': 0,\n",
       " 'installment': 0,\n",
       " 'grade': 0,\n",
       " 'sub_grade': 0,\n",
       " 'emp_title': 47020,\n",
       " 'emp_length': 0,\n",
       " 'home_ownership': 0,\n",
       " 'annual_inc': 0,\n",
       " 'verification_status': 0,\n",
       " 'issue_d': 0,\n",
       " 'pymnt_plan': 0,\n",
       " 'desc': 723334,\n",
       " 'purpose': 0,\n",
       " 'title': 26,\n",
       " 'zip_code': 0,\n",
       " 'addr_state': 0,\n",
       " 'dti': 0,\n",
       " 'delinq_2yrs': 0,\n",
       " 'earliest_cr_line': 0,\n",
       " 'inq_last_6mths': 0,\n",
       " 'mths_since_last_delinq': 408833,\n",
       " 'mths_since_last_record': 677326,\n",
       " 'open_acc': 0,\n",
       " 'pub_rec': 0,\n",
       " 'revol_bal': 0,\n",
       " 'revol_util': 401,\n",
       " 'total_acc': 0,\n",
       " 'initial_list_status': 0,\n",
       " 'out_prncp': 0,\n",
       " 'out_prncp_inv': 0,\n",
       " 'total_pymnt': 0,\n",
       " 'total_pymnt_inv': 0,\n",
       " 'total_rec_prncp': 0,\n",
       " 'total_rec_int': 0,\n",
       " 'total_rec_late_fee': 0,\n",
       " 'recoveries': 0,\n",
       " 'collection_recovery_fee': 0,\n",
       " 'last_pymnt_d': 8755,\n",
       " 'last_pymnt_amnt': 0,\n",
       " 'next_pymnt_d': 216332,\n",
       " 'last_credit_pull_d': 47,\n",
       " 'collections_12_mths_ex_med': 34,\n",
       " 'mths_since_last_major_derog': 597237,\n",
       " 'policy_code': 0,\n",
       " 'application_type': 0,\n",
       " 'annual_inc_joint': 803633,\n",
       " 'dti_joint': 803633,\n",
       " 'verification_status_joint': 803633,\n",
       " 'acc_now_delinq': 0,\n",
       " 'tot_coll_amt': 45453,\n",
       " 'tot_cur_bal': 45453,\n",
       " 'open_acc_6m': 790893,\n",
       " 'open_il_6m': 790893,\n",
       " 'open_il_12m': 790893,\n",
       " 'open_il_24m': 790893,\n",
       " 'mths_since_rcnt_il': 791244,\n",
       " 'total_bal_il': 790893,\n",
       " 'il_util': 792561,\n",
       " 'open_rv_12m': 790893,\n",
       " 'open_rv_24m': 790893,\n",
       " 'max_bal_bc': 790893,\n",
       " 'all_util': 790893,\n",
       " 'total_rev_hi_lim': 45453,\n",
       " 'inq_fi': 790893,\n",
       " 'total_cu_tl': 790893,\n",
       " 'inq_last_12m': 790893,\n",
       " 'default_ind': 0}"
      ]
     },
     "execution_count": 18,
     "metadata": {},
     "output_type": "execute_result"
    }
   ],
   "source": [
    "null_dict"
   ]
  },
  {
   "attachments": {},
   "cell_type": "markdown",
   "metadata": {},
   "source": [
    "- String columns such as `emp_title`, `desc`, `title` won't contribute much to the model training later on, therefore these columns will be dropped\n",
    "- all `*_joint` columns (`annual_inc_joint`, `dti_joint`, `verification_status_joint`) have 803633 null values, equivalent to the number of `INDIVIDUAL` `application_type` rows -> Therefore, only the `application_type` of `JOINT` will have these columns filled\n",
    "- `null` value for `mths_since_last_delinq` indicate that this borrower does not have any delinquencies (does not behind on payment) record.\n",
    "- `null` value for `mths_since_last_record` indicate that this borrower does not have any public record (does not have any public records of bankruptcy and judgement information)\n",
    "- `null` value for `mths_since_last_major_derog` indicate that this borrower does not have any worse rating in the last 90 days\n"
   ]
  },
  {
   "cell_type": "code",
   "execution_count": 25,
   "metadata": {},
   "outputs": [
    {
     "name": "stdout",
     "output_type": "stream",
     "text": [
      "+-------+---------+---------+-----------+---------------+----------+--------+-----------+-----+---------+--------------------+----------+--------------+----------+-------------------+----------+----------+--------------------+------------------+--------------------+--------+----------+-----+-----------+----------------+--------------+----------------------+----------------------+--------+-------+---------+----------+---------+-------------------+---------+-------------+-----------+---------------+---------------+-------------+------------------+----------+-----------------------+------------+---------------+------------+------------------+--------------------------+---------------------------+-----------+----------------+----------------+---------+-------------------------+--------------+------------+-----------+-----------+----------+-----------+-----------+------------------+------------+-------+-----------+-----------+----------+--------+----------------+------+-----------+------------+-----------+\n",
      "|     id|member_id|loan_amnt|funded_amnt|funded_amnt_inv|      term|int_rate|installment|grade|sub_grade|           emp_title|emp_length|home_ownership|annual_inc|verification_status|   issue_d|pymnt_plan|                desc|           purpose|               title|zip_code|addr_state|  dti|delinq_2yrs|earliest_cr_line|inq_last_6mths|mths_since_last_delinq|mths_since_last_record|open_acc|pub_rec|revol_bal|revol_util|total_acc|initial_list_status|out_prncp|out_prncp_inv|total_pymnt|total_pymnt_inv|total_rec_prncp|total_rec_int|total_rec_late_fee|recoveries|collection_recovery_fee|last_pymnt_d|last_pymnt_amnt|next_pymnt_d|last_credit_pull_d|collections_12_mths_ex_med|mths_since_last_major_derog|policy_code|application_type|annual_inc_joint|dti_joint|verification_status_joint|acc_now_delinq|tot_coll_amt|tot_cur_bal|open_acc_6m|open_il_6m|open_il_12m|open_il_24m|mths_since_rcnt_il|total_bal_il|il_util|open_rv_12m|open_rv_24m|max_bal_bc|all_util|total_rev_hi_lim|inq_fi|total_cu_tl|inq_last_12m|default_ind|\n",
      "+-------+---------+---------+-----------+---------------+----------+--------+-----------+-----+---------+--------------------+----------+--------------+----------+-------------------+----------+----------+--------------------+------------------+--------------------+--------+----------+-----+-----------+----------------+--------------+----------------------+----------------------+--------+-------+---------+----------+---------+-------------------+---------+-------------+-----------+---------------+---------------+-------------+------------------+----------+-----------------------+------------+---------------+------------+------------------+--------------------------+---------------------------+-----------+----------------+----------------+---------+-------------------------+--------------+------------+-----------+-----------+----------+-----------+-----------+------------------+------------+-------+-----------+-----------+----------+--------+----------------+------+-----------+------------+-----------+\n",
      "|1069800|  1304679|    15000|      15000|         8725.0| 36 months|   14.27|     514.64|    C|       C2|         nyc transit|   9 years|          RENT|   60000.0|       Not Verified|01-12-2011|         n|  Borrower added ...|debt_consolidation|       consolidation|   103xx|        NY|15.22|          0|      01-10-2003|             1|                  null|                  null|       7|      0|     5872|      57.6|       11|                  f|      0.0|          0.0|        0.0|            0.0|            0.0|          0.0|               0.0|       0.0|                    0.0|        null|            0.0|        null|        01-01-2016|                         0|                       null|          1|      INDIVIDUAL|            null|     null|                     null|             0|        null|       null|       null|      null|       null|       null|              null|        null|   null|       null|       null|      null|    null|            null|  null|       null|        null|          1|\n",
      "|1032519|  1262161|     8000|       8000|         3975.0| 36 months|   14.65|     275.96|    C|       C3|       Southern Felt| 10+ years|          RENT|   72000.0|    Source Verified|01-11-2011|         n|  Borrower added ...|debt_consolidation|  bebt consolidation|   278xx|        NC|22.28|          0|      01-11-1997|             1|                  null|                  null|      10|      0|    32955|      85.8|       31|                  f|      0.0|          0.0|        0.0|            0.0|            0.0|          0.0|               0.0|       0.0|                    0.0|        null|            0.0|        null|        01-01-2016|                         0|                       null|          1|      INDIVIDUAL|            null|     null|                     null|             0|        null|       null|       null|      null|       null|       null|              null|        null|   null|       null|       null|      null|    null|            null|  null|       null|        null|          1|\n",
      "|1016039|  1243723|     6400|       6400|         6400.0| 60 months|   18.25|     163.39|    D|       D5|akrons children h...|   5 years|          RENT|   33000.0|    Source Verified|01-11-2011|         n|                null|    major_purchase|                loan|   445xx|        OH| 9.05|          0|      01-06-2006|             3|                    25|                  null|       4|      0|     2237|      60.5|        6|                  f|      0.0|          0.0|     366.75|         366.75|            0.0|          0.0|               0.0|    366.75|                 66.015|        null|            0.0|        null|        01-04-2012|                         0|                       null|          1|      INDIVIDUAL|            null|     null|                     null|             0|        null|       null|       null|      null|       null|       null|              null|        null|   null|       null|       null|      null|    null|            null|  null|       null|        null|          1|\n",
      "|1009833|  1236591|    18000|      18000|        18000.0| 60 months|   19.03|     467.23|    E|       E2|           ZIMFA INC|   4 years|          RENT|   36000.0|           Verified|01-11-2011|         n|  Borrower added ...|debt_consolidation|   debtconsolidation|   061xx|        CT| 5.43|          0|      01-08-2008|             1|                  null|                  null|      13|      0|     4545|      18.6|       17|                  f|      0.0|          0.0|        0.0|            0.0|            0.0|          0.0|               0.0|       0.0|                    0.0|        null|            0.0|        null|        01-01-2016|                         0|                       null|          1|      INDIVIDUAL|            null|     null|                     null|             0|        null|       null|       null|      null|       null|       null|              null|        null|   null|       null|       null|      null|    null|            null|  null|       null|        null|          1|\n",
      "|1006579|  1232989|     1800|       1800|         1800.0| 36 months|     8.9|      57.16|    A|       A5|   Hospira worldwide|   9 years|          RENT|   50400.0|       Not Verified|01-11-2011|         n|  Borrower added ...|           wedding|             Wedding|   917xx|        CA| 2.64|          0|      01-10-1998|             1|                  null|                  null|       3|      0|     1930|      16.1|       10|                  f|      0.0|          0.0|     1800.0|         1800.0|            0.0|          0.0|               0.0|    1800.0|                    0.0|        null|            0.0|        null|        01-01-2016|                         0|                       null|          1|      INDIVIDUAL|            null|     null|                     null|             0|        null|       null|       null|      null|       null|       null|              null|        null|   null|       null|       null|      null|    null|            null|  null|       null|        null|          1|\n",
      "| 996977|  1221844|     1500|       1500|         1500.0| 36 months|   16.29|      52.96|    D|       D1|            SPY-TECH|    1 year|          RENT|   27000.0|       Not Verified|01-10-2011|         n|  Borrower added ...|           wedding|   Wedding exspenses|   301xx|        GA|18.53|          0|      01-09-2007|             2|                  null|                  null|       9|      0|      743|      26.5|       12|                  f|      0.0|          0.0|      86.05|          86.05|            0.0|          0.0|               0.0|     86.05|                 15.489|        null|            0.0|        null|        01-04-2012|                         0|                       null|          1|      INDIVIDUAL|            null|     null|                     null|             0|        null|       null|       null|      null|       null|       null|              null|        null|   null|       null|       null|      null|    null|            null|  null|       null|        null|          1|\n",
      "| 980312|  1203495|     2000|       2000|         2000.0| 36 months|    7.51|      62.23|    A|       A3|    Southbay Respite|   4 years|          RENT|   18000.0|       Not Verified|01-10-2011|         n|                null|             other|       Personal Loan|   919xx|        CA|16.73|          0|      01-07-2004|             0|                  null|                  null|       5|      0|     2925|      33.2|       20|                  f|      0.0|          0.0|      89.89|          89.89|            0.0|          0.0|               0.0|     89.89|                   0.87|        null|            0.0|        null|        01-03-2012|                         0|                       null|          1|      INDIVIDUAL|            null|     null|                     null|             0|        null|       null|       null|      null|       null|       null|              null|        null|   null|       null|       null|      null|    null|            null|  null|       null|        null|          1|\n",
      "| 971529|  1193277|     1400|       1400|         1400.0| 36 months|     8.9|      44.46|    A|       A5|                RRAD|   8 years|      MORTGAGE|   28800.0|       Not Verified|01-10-2011|         n|                null|debt_consolidation|Debt Consolidatio...|   755xx|        TX|22.25|          1|      01-02-2006|             1|                     9|                  null|       6|      0|      612|      29.1|       26|                  f|      0.0|          0.0|      62.86|          62.86|            0.0|          0.0|               0.0|     62.86|                   0.59|        null|            0.0|        null|        01-09-2015|                         0|                       null|          1|      INDIVIDUAL|            null|     null|                     null|             0|        null|       null|       null|      null|       null|       null|              null|        null|   null|       null|       null|      null|    null|            null|  null|       null|        null|          1|\n",
      "| 892468|  1109415|     4000|       4000|         3975.0| 60 months|   19.03|     103.83|    E|       E2|            Manpower|  < 1 year|          RENT|   19200.0|    Source Verified|01-09-2011|         n|                null|debt_consolidation|Debt Consolidatio...|   630xx|        MO|12.75|          0|      01-08-1999|             3|                  null|                  null|       6|      0|     3887|      82.7|        7|                  f|      0.0|          0.0|     179.57|         178.45|            0.0|          0.0|               0.0|    179.57|                   1.66|        null|            0.0|        null|        01-03-2012|                         0|                       null|          1|      INDIVIDUAL|            null|     null|                     null|             0|        null|       null|       null|      null|       null|       null|              null|        null|   null|       null|       null|      null|    null|            null|  null|       null|        null|          1|\n",
      "| 886664|  1102665|    10400|      10400|        10375.0| 60 months|   17.58|     261.73|    D|       D4|C3 BUSINESS SOLUT...| 10+ years|          RENT|   85325.0|           Verified|01-09-2011|         n|                null|    small_business| opening new busines|   900xx|        CA| 8.93|          0|      01-04-2001|             0|                    64|                   112|       8|      1|      856|       4.7|       11|                  f|      0.0|          0.0|     466.98|         465.86|            0.0|          0.0|               0.0|    466.98|                   4.39|        null|            0.0|        null|        01-10-2011|                         0|                       null|          1|      INDIVIDUAL|            null|     null|                     null|             0|        null|       null|       null|      null|       null|       null|              null|        null|   null|       null|       null|      null|    null|            null|  null|       null|        null|          1|\n",
      "| 836872|  1046958|     4600|       4600|         4600.0| 36 months|   13.99|      157.2|    C|       C3|             Filmtec|   5 years|          RENT|   50000.0|           Verified|01-08-2011|         n|  Borrower added ...|debt_consolidation|       Pay off Bills|   553xx|        MN|14.26|          0|      01-08-1996|             1|                  null|                  null|       9|      0|     5837|      78.9|       12|                  f|      0.0|          0.0|     206.65|         206.65|            0.0|          0.0|               0.0|    206.65|                   2.01|        null|            0.0|        null|        01-02-2012|                         0|                       null|          1|      INDIVIDUAL|            null|     null|                     null|             0|        null|       null|       null|      null|       null|       null|              null|        null|   null|       null|       null|      null|    null|            null|  null|       null|        null|          1|\n",
      "| 821564|  1029915|    22600|      22600|         8925.0| 60 months|   22.11|     625.61|    G|       G1|               Nevhc|   5 years|          RENT|   96500.0|    Source Verified|01-07-2011|         n|                null|    small_business|           Bussiness|   912xx|        CA| 7.05|          0|      01-11-2006|             0|                  null|                  null|       9|      0|    22781|      72.1|       11|                  f|      0.0|          0.0|     1016.4|         401.03|            0.0|          0.0|               0.0|    1016.4|                  10.02|        null|            0.0|        null|        01-01-2012|                         0|                       null|          1|      INDIVIDUAL|            null|     null|                     null|             0|        null|       null|       null|      null|       null|       null|              null|        null|   null|       null|       null|      null|    null|            null|  null|       null|        null|          1|\n",
      "| 813908|  1021386|     1500|       1500|         1500.0| 36 months|    8.49|      47.35|    A|       A5|Elephant Bar Rest...|   3 years|          RENT|   45000.0|       Not Verified|01-07-2011|         n|                null|             other|                Loan|   631xx|        MO| 8.43|          0|      01-04-2005|             0|                  null|                  null|       6|      0|     5285|      27.4|       11|                  f|      0.0|          0.0|      67.32|          67.32|            0.0|          0.0|               0.0|     67.32|                   0.62|        null|            0.0|        null|        01-12-2011|                         0|                       null|          1|      INDIVIDUAL|            null|     null|                     null|             0|        null|       null|       null|      null|       null|       null|              null|        null|   null|       null|       null|      null|    null|            null|  null|       null|        null|          1|\n",
      "| 812628|  1019801|     8450|       8450|         8450.0| 60 months|   13.49|     194.39|    C|       C2|hospital shared s...|   2 years|      MORTGAGE|   16500.0|           Verified|01-07-2011|         n|                null|    major_purchase| Major Purchase Loan|   780xx|        TX|12.73|          0|      01-11-1995|             1|                  null|                  null|       2|      0|        0|       0.0|       14|                  f|      0.0|          0.0|     739.94|         739.94|            0.0|          0.0|               0.0|    739.94|                181.117|        null|            0.0|        null|        01-12-2011|                         0|                       null|          1|      INDIVIDUAL|            null|     null|                     null|             0|        null|       null|       null|      null|       null|       null|              null|        null|   null|       null|       null|      null|    null|            null|  null|       null|        null|          1|\n",
      "| 809611|  1016456|     3000|       3000|         3000.0| 36 months|   15.62|     104.91|    D|       D1|   midway car rental|   4 years|          RENT|   42000.0|    Source Verified|01-07-2011|         n|                null|    small_business|         Improvement|   918xx|        CA| 1.49|          3|      01-04-2001|             0|                    13|                  null|       5|      0|     1190|      13.4|       15|                  f|      0.0|          0.0|     134.69|         134.69|            0.0|          0.0|               0.0|    134.69|                   1.26|        null|            0.0|        null|        01-03-2014|                         0|                       null|          1|      INDIVIDUAL|            null|     null|                     null|             0|        null|       null|       null|      null|       null|       null|              null|        null|   null|       null|       null|      null|    null|            null|  null|       null|        null|          1|\n",
      "| 807187|  1013717|     9600|       9600|         6375.0| 36 months|   13.49|     325.74|    C|       C2|                 UPS|   9 years|      MORTGAGE|   74400.0|           Verified|01-07-2011|         n|                null|debt_consolidation|          A New Life|   757xx|        TX|24.81|          0|      01-02-2000|             0|                    52|                  null|      11|      0|     3952|      35.3|       38|                  f|      0.0|          0.0|     431.48|         430.36|            0.0|          0.0|               0.0|    431.48|                   4.18|        null|            0.0|        null|        01-12-2011|                         0|                       null|          1|      INDIVIDUAL|            null|     null|                     null|             0|        null|       null|       null|      null|       null|       null|              null|        null|   null|       null|       null|      null|    null|            null|  null|       null|        null|          1|\n",
      "| 804512|  1010400|     5000|       5000|         3325.0| 36 months|   12.99|     168.45|    C|       C1|United Centeral Bank|  < 1 year|          RENT|   50000.0|           Verified|01-07-2011|         n|  Borrower added ...|             other|          Other Loan|   907xx|        CA|17.02|          0|      01-11-1994|             2|                    35|                   106|       9|      1|     4999|      34.2|       40|                  f|      0.0|          0.0|     324.83|         257.74|            0.0|          0.0|               0.0|    324.83|                 113.85|        null|            0.0|        null|        01-01-2016|                         0|                       null|          1|      INDIVIDUAL|            null|     null|                     null|             0|        null|       null|       null|      null|       null|       null|              null|        null|   null|       null|       null|      null|    null|            null|  null|       null|        null|          1|\n",
      "| 792555|   996981|     6000|       6000|         4450.0| 36 months|   11.49|     197.83|    B|       B4|Hewlett-Packard C...| 10+ years|      MORTGAGE|   71000.0|           Verified|01-06-2011|         n|  Borrower added ...|debt_consolidation|    Debt Consolidate|   925xx|        CA|22.04|          0|      01-08-1999|             2|                    40|                  null|       6|      0|    11062|      85.8|       40|                  f|      0.0|          0.0|     269.59|         269.59|            0.0|          0.0|               0.0|    269.59|                   2.55|        null|            0.0|        null|        01-12-2011|                         0|                       null|          1|      INDIVIDUAL|            null|     null|                     null|             0|        null|       null|       null|      null|       null|       null|              null|        null|   null|       null|       null|      null|    null|            null|  null|       null|        null|          1|\n",
      "| 777801|   980327|     9600|       9600|         9575.0| 36 months|    5.99|     292.01|    A|       A2|Card Lock Fuel Sy...|   6 years|          RENT|   43200.0|       Not Verified|01-06-2011|         n|  Borrower added ...|debt_consolidation|  Bill Consolidation|   913xx|        CA| 8.03|          0|      01-06-1981|             0|                  null|                  null|       6|      0|     9190|      57.0|        8|                  f|      0.0|          0.0|     431.57|         430.45|            0.0|          0.0|               0.0|    431.57|                   4.21|        null|            0.0|        null|        01-11-2011|                         0|                       null|          1|      INDIVIDUAL|            null|     null|                     null|             0|        null|       null|       null|      null|       null|       null|              null|        null|   null|       null|       null|      null|    null|            null|  null|       null|        null|          1|\n",
      "| 772732|   974723|     2000|       2000|         1900.0| 36 months|   18.39|       72.7|    E|       E2|affordable spiral...|    1 year|          RENT|   24000.0|       Not Verified|01-06-2011|         n|                null|             other|            personal|   850xx|        AZ| 22.6|          0|      01-05-2006|             3|                  null|                  null|       3|      0|        0|      null|       16|                  f|      0.0|          0.0|      89.79|          89.79|            0.0|          0.0|               0.0|     89.79|                   0.85|        null|            0.0|        null|        01-11-2011|                         0|                       null|          1|      INDIVIDUAL|            null|     null|                     null|             0|        null|       null|       null|      null|       null|       null|              null|        null|   null|       null|       null|      null|    null|            null|  null|       null|        null|          1|\n",
      "+-------+---------+---------+-----------+---------------+----------+--------+-----------+-----+---------+--------------------+----------+--------------+----------+-------------------+----------+----------+--------------------+------------------+--------------------+--------+----------+-----+-----------+----------------+--------------+----------------------+----------------------+--------+-------+---------+----------+---------+-------------------+---------+-------------+-----------+---------------+---------------+-------------+------------------+----------+-----------------------+------------+---------------+------------+------------------+--------------------------+---------------------------+-----------+----------------+----------------+---------+-------------------------+--------------+------------+-----------+-----------+----------+-----------+-----------+------------------+------------+-------+-----------+-----------+----------+--------+----------------+------+-----------+------------+-----------+\n",
      "only showing top 20 rows\n",
      "\n"
     ]
    }
   ],
   "source": [
    "df.filter(df['last_pymnt_d'].isNull()).show()"
   ]
  },
  {
   "cell_type": "code",
   "execution_count": 28,
   "metadata": {},
   "outputs": [
    {
     "data": {
      "text/plain": [
       "496"
      ]
     },
     "execution_count": 28,
     "metadata": {},
     "output_type": "execute_result"
    }
   ],
   "source": [
    "df.filter(df['last_pymnt_d'].isNull() & (df['default_ind'] == 1)).count()"
   ]
  },
  {
   "attachments": {},
   "cell_type": "markdown",
   "metadata": {},
   "source": [
    "=> Not all record without `last_pyment_d` resulting in `default` (only 5.6% resulting in `default`). It may indicate that this a new created loan, where the borrower just took this loan and yet to pay their first repayment. Therefore we will keep this column"
   ]
  },
  {
   "cell_type": "code",
   "execution_count": 37,
   "metadata": {},
   "outputs": [
    {
     "name": "stdout",
     "output_type": "stream",
     "text": [
      "+-------------------------+-----+\n",
      "|verification_status_joint|count|\n",
      "+-------------------------+-----+\n",
      "|                 Verified|  138|\n",
      "|          Source Verified|   51|\n",
      "|             Not Verified|  252|\n",
      "+-------------------------+-----+\n",
      "\n"
     ]
    }
   ],
   "source": [
    "df.groupBy(df['verification_status_joint'])\\\n",
    "    .count()\\\n",
    "    .filter(df[\"verification_status_joint\"].isNotNull())\\\n",
    "    .show()"
   ]
  },
  {
   "cell_type": "code",
   "execution_count": 39,
   "metadata": {},
   "outputs": [
    {
     "data": {
      "application/vnd.plotly.v1+json": {
       "config": {
        "plotlyServerURL": "https://plot.ly"
       },
       "data": [
        {
         "domain": {
          "x": [
           0,
           1
          ],
          "y": [
           0,
           1
          ]
         },
         "hovertemplate": "verification_status_joint=%{label}<br>count=%{value}<extra></extra>",
         "labels": [
          "Verified",
          "Source Verified",
          "Not Verified"
         ],
         "legendgroup": "",
         "name": "",
         "showlegend": true,
         "type": "pie",
         "values": [
          138,
          51,
          252
         ]
        }
       ],
       "layout": {
        "legend": {
         "tracegroupgap": 0
        },
        "margin": {
         "t": 60
        },
        "template": {
         "data": {
          "bar": [
           {
            "error_x": {
             "color": "#2a3f5f"
            },
            "error_y": {
             "color": "#2a3f5f"
            },
            "marker": {
             "line": {
              "color": "#E5ECF6",
              "width": 0.5
             },
             "pattern": {
              "fillmode": "overlay",
              "size": 10,
              "solidity": 0.2
             }
            },
            "type": "bar"
           }
          ],
          "barpolar": [
           {
            "marker": {
             "line": {
              "color": "#E5ECF6",
              "width": 0.5
             },
             "pattern": {
              "fillmode": "overlay",
              "size": 10,
              "solidity": 0.2
             }
            },
            "type": "barpolar"
           }
          ],
          "carpet": [
           {
            "aaxis": {
             "endlinecolor": "#2a3f5f",
             "gridcolor": "white",
             "linecolor": "white",
             "minorgridcolor": "white",
             "startlinecolor": "#2a3f5f"
            },
            "baxis": {
             "endlinecolor": "#2a3f5f",
             "gridcolor": "white",
             "linecolor": "white",
             "minorgridcolor": "white",
             "startlinecolor": "#2a3f5f"
            },
            "type": "carpet"
           }
          ],
          "choropleth": [
           {
            "colorbar": {
             "outlinewidth": 0,
             "ticks": ""
            },
            "type": "choropleth"
           }
          ],
          "contour": [
           {
            "colorbar": {
             "outlinewidth": 0,
             "ticks": ""
            },
            "colorscale": [
             [
              0,
              "#0d0887"
             ],
             [
              0.1111111111111111,
              "#46039f"
             ],
             [
              0.2222222222222222,
              "#7201a8"
             ],
             [
              0.3333333333333333,
              "#9c179e"
             ],
             [
              0.4444444444444444,
              "#bd3786"
             ],
             [
              0.5555555555555556,
              "#d8576b"
             ],
             [
              0.6666666666666666,
              "#ed7953"
             ],
             [
              0.7777777777777778,
              "#fb9f3a"
             ],
             [
              0.8888888888888888,
              "#fdca26"
             ],
             [
              1,
              "#f0f921"
             ]
            ],
            "type": "contour"
           }
          ],
          "contourcarpet": [
           {
            "colorbar": {
             "outlinewidth": 0,
             "ticks": ""
            },
            "type": "contourcarpet"
           }
          ],
          "heatmap": [
           {
            "colorbar": {
             "outlinewidth": 0,
             "ticks": ""
            },
            "colorscale": [
             [
              0,
              "#0d0887"
             ],
             [
              0.1111111111111111,
              "#46039f"
             ],
             [
              0.2222222222222222,
              "#7201a8"
             ],
             [
              0.3333333333333333,
              "#9c179e"
             ],
             [
              0.4444444444444444,
              "#bd3786"
             ],
             [
              0.5555555555555556,
              "#d8576b"
             ],
             [
              0.6666666666666666,
              "#ed7953"
             ],
             [
              0.7777777777777778,
              "#fb9f3a"
             ],
             [
              0.8888888888888888,
              "#fdca26"
             ],
             [
              1,
              "#f0f921"
             ]
            ],
            "type": "heatmap"
           }
          ],
          "heatmapgl": [
           {
            "colorbar": {
             "outlinewidth": 0,
             "ticks": ""
            },
            "colorscale": [
             [
              0,
              "#0d0887"
             ],
             [
              0.1111111111111111,
              "#46039f"
             ],
             [
              0.2222222222222222,
              "#7201a8"
             ],
             [
              0.3333333333333333,
              "#9c179e"
             ],
             [
              0.4444444444444444,
              "#bd3786"
             ],
             [
              0.5555555555555556,
              "#d8576b"
             ],
             [
              0.6666666666666666,
              "#ed7953"
             ],
             [
              0.7777777777777778,
              "#fb9f3a"
             ],
             [
              0.8888888888888888,
              "#fdca26"
             ],
             [
              1,
              "#f0f921"
             ]
            ],
            "type": "heatmapgl"
           }
          ],
          "histogram": [
           {
            "marker": {
             "pattern": {
              "fillmode": "overlay",
              "size": 10,
              "solidity": 0.2
             }
            },
            "type": "histogram"
           }
          ],
          "histogram2d": [
           {
            "colorbar": {
             "outlinewidth": 0,
             "ticks": ""
            },
            "colorscale": [
             [
              0,
              "#0d0887"
             ],
             [
              0.1111111111111111,
              "#46039f"
             ],
             [
              0.2222222222222222,
              "#7201a8"
             ],
             [
              0.3333333333333333,
              "#9c179e"
             ],
             [
              0.4444444444444444,
              "#bd3786"
             ],
             [
              0.5555555555555556,
              "#d8576b"
             ],
             [
              0.6666666666666666,
              "#ed7953"
             ],
             [
              0.7777777777777778,
              "#fb9f3a"
             ],
             [
              0.8888888888888888,
              "#fdca26"
             ],
             [
              1,
              "#f0f921"
             ]
            ],
            "type": "histogram2d"
           }
          ],
          "histogram2dcontour": [
           {
            "colorbar": {
             "outlinewidth": 0,
             "ticks": ""
            },
            "colorscale": [
             [
              0,
              "#0d0887"
             ],
             [
              0.1111111111111111,
              "#46039f"
             ],
             [
              0.2222222222222222,
              "#7201a8"
             ],
             [
              0.3333333333333333,
              "#9c179e"
             ],
             [
              0.4444444444444444,
              "#bd3786"
             ],
             [
              0.5555555555555556,
              "#d8576b"
             ],
             [
              0.6666666666666666,
              "#ed7953"
             ],
             [
              0.7777777777777778,
              "#fb9f3a"
             ],
             [
              0.8888888888888888,
              "#fdca26"
             ],
             [
              1,
              "#f0f921"
             ]
            ],
            "type": "histogram2dcontour"
           }
          ],
          "mesh3d": [
           {
            "colorbar": {
             "outlinewidth": 0,
             "ticks": ""
            },
            "type": "mesh3d"
           }
          ],
          "parcoords": [
           {
            "line": {
             "colorbar": {
              "outlinewidth": 0,
              "ticks": ""
             }
            },
            "type": "parcoords"
           }
          ],
          "pie": [
           {
            "automargin": true,
            "type": "pie"
           }
          ],
          "scatter": [
           {
            "fillpattern": {
             "fillmode": "overlay",
             "size": 10,
             "solidity": 0.2
            },
            "type": "scatter"
           }
          ],
          "scatter3d": [
           {
            "line": {
             "colorbar": {
              "outlinewidth": 0,
              "ticks": ""
             }
            },
            "marker": {
             "colorbar": {
              "outlinewidth": 0,
              "ticks": ""
             }
            },
            "type": "scatter3d"
           }
          ],
          "scattercarpet": [
           {
            "marker": {
             "colorbar": {
              "outlinewidth": 0,
              "ticks": ""
             }
            },
            "type": "scattercarpet"
           }
          ],
          "scattergeo": [
           {
            "marker": {
             "colorbar": {
              "outlinewidth": 0,
              "ticks": ""
             }
            },
            "type": "scattergeo"
           }
          ],
          "scattergl": [
           {
            "marker": {
             "colorbar": {
              "outlinewidth": 0,
              "ticks": ""
             }
            },
            "type": "scattergl"
           }
          ],
          "scattermapbox": [
           {
            "marker": {
             "colorbar": {
              "outlinewidth": 0,
              "ticks": ""
             }
            },
            "type": "scattermapbox"
           }
          ],
          "scatterpolar": [
           {
            "marker": {
             "colorbar": {
              "outlinewidth": 0,
              "ticks": ""
             }
            },
            "type": "scatterpolar"
           }
          ],
          "scatterpolargl": [
           {
            "marker": {
             "colorbar": {
              "outlinewidth": 0,
              "ticks": ""
             }
            },
            "type": "scatterpolargl"
           }
          ],
          "scatterternary": [
           {
            "marker": {
             "colorbar": {
              "outlinewidth": 0,
              "ticks": ""
             }
            },
            "type": "scatterternary"
           }
          ],
          "surface": [
           {
            "colorbar": {
             "outlinewidth": 0,
             "ticks": ""
            },
            "colorscale": [
             [
              0,
              "#0d0887"
             ],
             [
              0.1111111111111111,
              "#46039f"
             ],
             [
              0.2222222222222222,
              "#7201a8"
             ],
             [
              0.3333333333333333,
              "#9c179e"
             ],
             [
              0.4444444444444444,
              "#bd3786"
             ],
             [
              0.5555555555555556,
              "#d8576b"
             ],
             [
              0.6666666666666666,
              "#ed7953"
             ],
             [
              0.7777777777777778,
              "#fb9f3a"
             ],
             [
              0.8888888888888888,
              "#fdca26"
             ],
             [
              1,
              "#f0f921"
             ]
            ],
            "type": "surface"
           }
          ],
          "table": [
           {
            "cells": {
             "fill": {
              "color": "#EBF0F8"
             },
             "line": {
              "color": "white"
             }
            },
            "header": {
             "fill": {
              "color": "#C8D4E3"
             },
             "line": {
              "color": "white"
             }
            },
            "type": "table"
           }
          ]
         },
         "layout": {
          "annotationdefaults": {
           "arrowcolor": "#2a3f5f",
           "arrowhead": 0,
           "arrowwidth": 1
          },
          "autotypenumbers": "strict",
          "coloraxis": {
           "colorbar": {
            "outlinewidth": 0,
            "ticks": ""
           }
          },
          "colorscale": {
           "diverging": [
            [
             0,
             "#8e0152"
            ],
            [
             0.1,
             "#c51b7d"
            ],
            [
             0.2,
             "#de77ae"
            ],
            [
             0.3,
             "#f1b6da"
            ],
            [
             0.4,
             "#fde0ef"
            ],
            [
             0.5,
             "#f7f7f7"
            ],
            [
             0.6,
             "#e6f5d0"
            ],
            [
             0.7,
             "#b8e186"
            ],
            [
             0.8,
             "#7fbc41"
            ],
            [
             0.9,
             "#4d9221"
            ],
            [
             1,
             "#276419"
            ]
           ],
           "sequential": [
            [
             0,
             "#0d0887"
            ],
            [
             0.1111111111111111,
             "#46039f"
            ],
            [
             0.2222222222222222,
             "#7201a8"
            ],
            [
             0.3333333333333333,
             "#9c179e"
            ],
            [
             0.4444444444444444,
             "#bd3786"
            ],
            [
             0.5555555555555556,
             "#d8576b"
            ],
            [
             0.6666666666666666,
             "#ed7953"
            ],
            [
             0.7777777777777778,
             "#fb9f3a"
            ],
            [
             0.8888888888888888,
             "#fdca26"
            ],
            [
             1,
             "#f0f921"
            ]
           ],
           "sequentialminus": [
            [
             0,
             "#0d0887"
            ],
            [
             0.1111111111111111,
             "#46039f"
            ],
            [
             0.2222222222222222,
             "#7201a8"
            ],
            [
             0.3333333333333333,
             "#9c179e"
            ],
            [
             0.4444444444444444,
             "#bd3786"
            ],
            [
             0.5555555555555556,
             "#d8576b"
            ],
            [
             0.6666666666666666,
             "#ed7953"
            ],
            [
             0.7777777777777778,
             "#fb9f3a"
            ],
            [
             0.8888888888888888,
             "#fdca26"
            ],
            [
             1,
             "#f0f921"
            ]
           ]
          },
          "colorway": [
           "#636efa",
           "#EF553B",
           "#00cc96",
           "#ab63fa",
           "#FFA15A",
           "#19d3f3",
           "#FF6692",
           "#B6E880",
           "#FF97FF",
           "#FECB52"
          ],
          "font": {
           "color": "#2a3f5f"
          },
          "geo": {
           "bgcolor": "white",
           "lakecolor": "white",
           "landcolor": "#E5ECF6",
           "showlakes": true,
           "showland": true,
           "subunitcolor": "white"
          },
          "hoverlabel": {
           "align": "left"
          },
          "hovermode": "closest",
          "mapbox": {
           "style": "light"
          },
          "paper_bgcolor": "white",
          "plot_bgcolor": "#E5ECF6",
          "polar": {
           "angularaxis": {
            "gridcolor": "white",
            "linecolor": "white",
            "ticks": ""
           },
           "bgcolor": "#E5ECF6",
           "radialaxis": {
            "gridcolor": "white",
            "linecolor": "white",
            "ticks": ""
           }
          },
          "scene": {
           "xaxis": {
            "backgroundcolor": "#E5ECF6",
            "gridcolor": "white",
            "gridwidth": 2,
            "linecolor": "white",
            "showbackground": true,
            "ticks": "",
            "zerolinecolor": "white"
           },
           "yaxis": {
            "backgroundcolor": "#E5ECF6",
            "gridcolor": "white",
            "gridwidth": 2,
            "linecolor": "white",
            "showbackground": true,
            "ticks": "",
            "zerolinecolor": "white"
           },
           "zaxis": {
            "backgroundcolor": "#E5ECF6",
            "gridcolor": "white",
            "gridwidth": 2,
            "linecolor": "white",
            "showbackground": true,
            "ticks": "",
            "zerolinecolor": "white"
           }
          },
          "shapedefaults": {
           "line": {
            "color": "#2a3f5f"
           }
          },
          "ternary": {
           "aaxis": {
            "gridcolor": "white",
            "linecolor": "white",
            "ticks": ""
           },
           "baxis": {
            "gridcolor": "white",
            "linecolor": "white",
            "ticks": ""
           },
           "bgcolor": "#E5ECF6",
           "caxis": {
            "gridcolor": "white",
            "linecolor": "white",
            "ticks": ""
           }
          },
          "title": {
           "x": 0.05
          },
          "xaxis": {
           "automargin": true,
           "gridcolor": "white",
           "linecolor": "white",
           "ticks": "",
           "title": {
            "standoff": 15
           },
           "zerolinecolor": "white",
           "zerolinewidth": 2
          },
          "yaxis": {
           "automargin": true,
           "gridcolor": "white",
           "linecolor": "white",
           "ticks": "",
           "title": {
            "standoff": 15
           },
           "zerolinecolor": "white",
           "zerolinewidth": 2
          }
         }
        }
       }
      }
     },
     "metadata": {},
     "output_type": "display_data"
    }
   ],
   "source": [
    "df.groupBy(df['verification_status_joint'])\\\n",
    "    .count()\\\n",
    "    .filter(df[\"verification_status_joint\"].isNotNull())\\\n",
    "    .to_pandas_on_spark(index_col=['verification_status_joint'])\\\n",
    "    .plot\\\n",
    "    .pie(y='count')"
   ]
  },
  {
   "cell_type": "code",
   "execution_count": 32,
   "metadata": {},
   "outputs": [
    {
     "name": "stdout",
     "output_type": "stream",
     "text": [
      "+-------------------+------+\n",
      "|verification_status| count|\n",
      "+-------------------+------+\n",
      "|           Verified|259501|\n",
      "|    Source Verified|304870|\n",
      "|       Not Verified|239703|\n",
      "+-------------------+------+\n",
      "\n"
     ]
    }
   ],
   "source": [
    "df.groupBy(df['verification_status']).count().show()"
   ]
  },
  {
   "cell_type": "code",
   "execution_count": 31,
   "metadata": {},
   "outputs": [
    {
     "data": {
      "application/vnd.plotly.v1+json": {
       "config": {
        "plotlyServerURL": "https://plot.ly"
       },
       "data": [
        {
         "domain": {
          "x": [
           0,
           1
          ],
          "y": [
           0,
           1
          ]
         },
         "hovertemplate": "verification_status=%{label}<br>count=%{value}<extra></extra>",
         "labels": [
          "Verified",
          "Source Verified",
          "Not Verified"
         ],
         "legendgroup": "",
         "name": "",
         "showlegend": true,
         "type": "pie",
         "values": [
          259501,
          304870,
          239703
         ]
        }
       ],
       "layout": {
        "legend": {
         "tracegroupgap": 0
        },
        "margin": {
         "t": 60
        },
        "template": {
         "data": {
          "bar": [
           {
            "error_x": {
             "color": "#2a3f5f"
            },
            "error_y": {
             "color": "#2a3f5f"
            },
            "marker": {
             "line": {
              "color": "#E5ECF6",
              "width": 0.5
             },
             "pattern": {
              "fillmode": "overlay",
              "size": 10,
              "solidity": 0.2
             }
            },
            "type": "bar"
           }
          ],
          "barpolar": [
           {
            "marker": {
             "line": {
              "color": "#E5ECF6",
              "width": 0.5
             },
             "pattern": {
              "fillmode": "overlay",
              "size": 10,
              "solidity": 0.2
             }
            },
            "type": "barpolar"
           }
          ],
          "carpet": [
           {
            "aaxis": {
             "endlinecolor": "#2a3f5f",
             "gridcolor": "white",
             "linecolor": "white",
             "minorgridcolor": "white",
             "startlinecolor": "#2a3f5f"
            },
            "baxis": {
             "endlinecolor": "#2a3f5f",
             "gridcolor": "white",
             "linecolor": "white",
             "minorgridcolor": "white",
             "startlinecolor": "#2a3f5f"
            },
            "type": "carpet"
           }
          ],
          "choropleth": [
           {
            "colorbar": {
             "outlinewidth": 0,
             "ticks": ""
            },
            "type": "choropleth"
           }
          ],
          "contour": [
           {
            "colorbar": {
             "outlinewidth": 0,
             "ticks": ""
            },
            "colorscale": [
             [
              0,
              "#0d0887"
             ],
             [
              0.1111111111111111,
              "#46039f"
             ],
             [
              0.2222222222222222,
              "#7201a8"
             ],
             [
              0.3333333333333333,
              "#9c179e"
             ],
             [
              0.4444444444444444,
              "#bd3786"
             ],
             [
              0.5555555555555556,
              "#d8576b"
             ],
             [
              0.6666666666666666,
              "#ed7953"
             ],
             [
              0.7777777777777778,
              "#fb9f3a"
             ],
             [
              0.8888888888888888,
              "#fdca26"
             ],
             [
              1,
              "#f0f921"
             ]
            ],
            "type": "contour"
           }
          ],
          "contourcarpet": [
           {
            "colorbar": {
             "outlinewidth": 0,
             "ticks": ""
            },
            "type": "contourcarpet"
           }
          ],
          "heatmap": [
           {
            "colorbar": {
             "outlinewidth": 0,
             "ticks": ""
            },
            "colorscale": [
             [
              0,
              "#0d0887"
             ],
             [
              0.1111111111111111,
              "#46039f"
             ],
             [
              0.2222222222222222,
              "#7201a8"
             ],
             [
              0.3333333333333333,
              "#9c179e"
             ],
             [
              0.4444444444444444,
              "#bd3786"
             ],
             [
              0.5555555555555556,
              "#d8576b"
             ],
             [
              0.6666666666666666,
              "#ed7953"
             ],
             [
              0.7777777777777778,
              "#fb9f3a"
             ],
             [
              0.8888888888888888,
              "#fdca26"
             ],
             [
              1,
              "#f0f921"
             ]
            ],
            "type": "heatmap"
           }
          ],
          "heatmapgl": [
           {
            "colorbar": {
             "outlinewidth": 0,
             "ticks": ""
            },
            "colorscale": [
             [
              0,
              "#0d0887"
             ],
             [
              0.1111111111111111,
              "#46039f"
             ],
             [
              0.2222222222222222,
              "#7201a8"
             ],
             [
              0.3333333333333333,
              "#9c179e"
             ],
             [
              0.4444444444444444,
              "#bd3786"
             ],
             [
              0.5555555555555556,
              "#d8576b"
             ],
             [
              0.6666666666666666,
              "#ed7953"
             ],
             [
              0.7777777777777778,
              "#fb9f3a"
             ],
             [
              0.8888888888888888,
              "#fdca26"
             ],
             [
              1,
              "#f0f921"
             ]
            ],
            "type": "heatmapgl"
           }
          ],
          "histogram": [
           {
            "marker": {
             "pattern": {
              "fillmode": "overlay",
              "size": 10,
              "solidity": 0.2
             }
            },
            "type": "histogram"
           }
          ],
          "histogram2d": [
           {
            "colorbar": {
             "outlinewidth": 0,
             "ticks": ""
            },
            "colorscale": [
             [
              0,
              "#0d0887"
             ],
             [
              0.1111111111111111,
              "#46039f"
             ],
             [
              0.2222222222222222,
              "#7201a8"
             ],
             [
              0.3333333333333333,
              "#9c179e"
             ],
             [
              0.4444444444444444,
              "#bd3786"
             ],
             [
              0.5555555555555556,
              "#d8576b"
             ],
             [
              0.6666666666666666,
              "#ed7953"
             ],
             [
              0.7777777777777778,
              "#fb9f3a"
             ],
             [
              0.8888888888888888,
              "#fdca26"
             ],
             [
              1,
              "#f0f921"
             ]
            ],
            "type": "histogram2d"
           }
          ],
          "histogram2dcontour": [
           {
            "colorbar": {
             "outlinewidth": 0,
             "ticks": ""
            },
            "colorscale": [
             [
              0,
              "#0d0887"
             ],
             [
              0.1111111111111111,
              "#46039f"
             ],
             [
              0.2222222222222222,
              "#7201a8"
             ],
             [
              0.3333333333333333,
              "#9c179e"
             ],
             [
              0.4444444444444444,
              "#bd3786"
             ],
             [
              0.5555555555555556,
              "#d8576b"
             ],
             [
              0.6666666666666666,
              "#ed7953"
             ],
             [
              0.7777777777777778,
              "#fb9f3a"
             ],
             [
              0.8888888888888888,
              "#fdca26"
             ],
             [
              1,
              "#f0f921"
             ]
            ],
            "type": "histogram2dcontour"
           }
          ],
          "mesh3d": [
           {
            "colorbar": {
             "outlinewidth": 0,
             "ticks": ""
            },
            "type": "mesh3d"
           }
          ],
          "parcoords": [
           {
            "line": {
             "colorbar": {
              "outlinewidth": 0,
              "ticks": ""
             }
            },
            "type": "parcoords"
           }
          ],
          "pie": [
           {
            "automargin": true,
            "type": "pie"
           }
          ],
          "scatter": [
           {
            "fillpattern": {
             "fillmode": "overlay",
             "size": 10,
             "solidity": 0.2
            },
            "type": "scatter"
           }
          ],
          "scatter3d": [
           {
            "line": {
             "colorbar": {
              "outlinewidth": 0,
              "ticks": ""
             }
            },
            "marker": {
             "colorbar": {
              "outlinewidth": 0,
              "ticks": ""
             }
            },
            "type": "scatter3d"
           }
          ],
          "scattercarpet": [
           {
            "marker": {
             "colorbar": {
              "outlinewidth": 0,
              "ticks": ""
             }
            },
            "type": "scattercarpet"
           }
          ],
          "scattergeo": [
           {
            "marker": {
             "colorbar": {
              "outlinewidth": 0,
              "ticks": ""
             }
            },
            "type": "scattergeo"
           }
          ],
          "scattergl": [
           {
            "marker": {
             "colorbar": {
              "outlinewidth": 0,
              "ticks": ""
             }
            },
            "type": "scattergl"
           }
          ],
          "scattermapbox": [
           {
            "marker": {
             "colorbar": {
              "outlinewidth": 0,
              "ticks": ""
             }
            },
            "type": "scattermapbox"
           }
          ],
          "scatterpolar": [
           {
            "marker": {
             "colorbar": {
              "outlinewidth": 0,
              "ticks": ""
             }
            },
            "type": "scatterpolar"
           }
          ],
          "scatterpolargl": [
           {
            "marker": {
             "colorbar": {
              "outlinewidth": 0,
              "ticks": ""
             }
            },
            "type": "scatterpolargl"
           }
          ],
          "scatterternary": [
           {
            "marker": {
             "colorbar": {
              "outlinewidth": 0,
              "ticks": ""
             }
            },
            "type": "scatterternary"
           }
          ],
          "surface": [
           {
            "colorbar": {
             "outlinewidth": 0,
             "ticks": ""
            },
            "colorscale": [
             [
              0,
              "#0d0887"
             ],
             [
              0.1111111111111111,
              "#46039f"
             ],
             [
              0.2222222222222222,
              "#7201a8"
             ],
             [
              0.3333333333333333,
              "#9c179e"
             ],
             [
              0.4444444444444444,
              "#bd3786"
             ],
             [
              0.5555555555555556,
              "#d8576b"
             ],
             [
              0.6666666666666666,
              "#ed7953"
             ],
             [
              0.7777777777777778,
              "#fb9f3a"
             ],
             [
              0.8888888888888888,
              "#fdca26"
             ],
             [
              1,
              "#f0f921"
             ]
            ],
            "type": "surface"
           }
          ],
          "table": [
           {
            "cells": {
             "fill": {
              "color": "#EBF0F8"
             },
             "line": {
              "color": "white"
             }
            },
            "header": {
             "fill": {
              "color": "#C8D4E3"
             },
             "line": {
              "color": "white"
             }
            },
            "type": "table"
           }
          ]
         },
         "layout": {
          "annotationdefaults": {
           "arrowcolor": "#2a3f5f",
           "arrowhead": 0,
           "arrowwidth": 1
          },
          "autotypenumbers": "strict",
          "coloraxis": {
           "colorbar": {
            "outlinewidth": 0,
            "ticks": ""
           }
          },
          "colorscale": {
           "diverging": [
            [
             0,
             "#8e0152"
            ],
            [
             0.1,
             "#c51b7d"
            ],
            [
             0.2,
             "#de77ae"
            ],
            [
             0.3,
             "#f1b6da"
            ],
            [
             0.4,
             "#fde0ef"
            ],
            [
             0.5,
             "#f7f7f7"
            ],
            [
             0.6,
             "#e6f5d0"
            ],
            [
             0.7,
             "#b8e186"
            ],
            [
             0.8,
             "#7fbc41"
            ],
            [
             0.9,
             "#4d9221"
            ],
            [
             1,
             "#276419"
            ]
           ],
           "sequential": [
            [
             0,
             "#0d0887"
            ],
            [
             0.1111111111111111,
             "#46039f"
            ],
            [
             0.2222222222222222,
             "#7201a8"
            ],
            [
             0.3333333333333333,
             "#9c179e"
            ],
            [
             0.4444444444444444,
             "#bd3786"
            ],
            [
             0.5555555555555556,
             "#d8576b"
            ],
            [
             0.6666666666666666,
             "#ed7953"
            ],
            [
             0.7777777777777778,
             "#fb9f3a"
            ],
            [
             0.8888888888888888,
             "#fdca26"
            ],
            [
             1,
             "#f0f921"
            ]
           ],
           "sequentialminus": [
            [
             0,
             "#0d0887"
            ],
            [
             0.1111111111111111,
             "#46039f"
            ],
            [
             0.2222222222222222,
             "#7201a8"
            ],
            [
             0.3333333333333333,
             "#9c179e"
            ],
            [
             0.4444444444444444,
             "#bd3786"
            ],
            [
             0.5555555555555556,
             "#d8576b"
            ],
            [
             0.6666666666666666,
             "#ed7953"
            ],
            [
             0.7777777777777778,
             "#fb9f3a"
            ],
            [
             0.8888888888888888,
             "#fdca26"
            ],
            [
             1,
             "#f0f921"
            ]
           ]
          },
          "colorway": [
           "#636efa",
           "#EF553B",
           "#00cc96",
           "#ab63fa",
           "#FFA15A",
           "#19d3f3",
           "#FF6692",
           "#B6E880",
           "#FF97FF",
           "#FECB52"
          ],
          "font": {
           "color": "#2a3f5f"
          },
          "geo": {
           "bgcolor": "white",
           "lakecolor": "white",
           "landcolor": "#E5ECF6",
           "showlakes": true,
           "showland": true,
           "subunitcolor": "white"
          },
          "hoverlabel": {
           "align": "left"
          },
          "hovermode": "closest",
          "mapbox": {
           "style": "light"
          },
          "paper_bgcolor": "white",
          "plot_bgcolor": "#E5ECF6",
          "polar": {
           "angularaxis": {
            "gridcolor": "white",
            "linecolor": "white",
            "ticks": ""
           },
           "bgcolor": "#E5ECF6",
           "radialaxis": {
            "gridcolor": "white",
            "linecolor": "white",
            "ticks": ""
           }
          },
          "scene": {
           "xaxis": {
            "backgroundcolor": "#E5ECF6",
            "gridcolor": "white",
            "gridwidth": 2,
            "linecolor": "white",
            "showbackground": true,
            "ticks": "",
            "zerolinecolor": "white"
           },
           "yaxis": {
            "backgroundcolor": "#E5ECF6",
            "gridcolor": "white",
            "gridwidth": 2,
            "linecolor": "white",
            "showbackground": true,
            "ticks": "",
            "zerolinecolor": "white"
           },
           "zaxis": {
            "backgroundcolor": "#E5ECF6",
            "gridcolor": "white",
            "gridwidth": 2,
            "linecolor": "white",
            "showbackground": true,
            "ticks": "",
            "zerolinecolor": "white"
           }
          },
          "shapedefaults": {
           "line": {
            "color": "#2a3f5f"
           }
          },
          "ternary": {
           "aaxis": {
            "gridcolor": "white",
            "linecolor": "white",
            "ticks": ""
           },
           "baxis": {
            "gridcolor": "white",
            "linecolor": "white",
            "ticks": ""
           },
           "bgcolor": "#E5ECF6",
           "caxis": {
            "gridcolor": "white",
            "linecolor": "white",
            "ticks": ""
           }
          },
          "title": {
           "x": 0.05
          },
          "xaxis": {
           "automargin": true,
           "gridcolor": "white",
           "linecolor": "white",
           "ticks": "",
           "title": {
            "standoff": 15
           },
           "zerolinecolor": "white",
           "zerolinewidth": 2
          },
          "yaxis": {
           "automargin": true,
           "gridcolor": "white",
           "linecolor": "white",
           "ticks": "",
           "title": {
            "standoff": 15
           },
           "zerolinecolor": "white",
           "zerolinewidth": 2
          }
         }
        }
       }
      }
     },
     "metadata": {},
     "output_type": "display_data"
    }
   ],
   "source": [
    "df.groupBy(df['verification_status'])\\\n",
    "    .count()\\\n",
    "    .to_pandas_on_spark(index_col=['verification_status'])\\\n",
    "    .plot.pie(y='count')"
   ]
  },
  {
   "attachments": {},
   "cell_type": "markdown",
   "metadata": {},
   "source": [
    "=> Evenly distributed accross all `INDIVIDUAL` application_type accounts "
   ]
  },
  {
   "attachments": {},
   "cell_type": "markdown",
   "metadata": {},
   "source": [
    "Let's see the relationship between the number of personal finance inquiries (`inq_fi`) and default rate"
   ]
  },
  {
   "cell_type": "code",
   "execution_count": 61,
   "metadata": {},
   "outputs": [
    {
     "data": {
      "text/plain": [
       "0"
      ]
     },
     "execution_count": 61,
     "metadata": {},
     "output_type": "execute_result"
    }
   ],
   "source": [
    "df.filter(df['inq_fi'].isNotNull() & (df['default_ind'] == 1)).count()"
   ]
  },
  {
   "attachments": {},
   "cell_type": "markdown",
   "metadata": {},
   "source": [
    "=> All the borrowers with a record of personal finance inquiries virtually not default. If this field is `null`, it indicate that the borrowers never inquiries any personal finance advice from this firm."
   ]
  },
  {
   "attachments": {},
   "cell_type": "markdown",
   "metadata": {},
   "source": [
    "Next, let's see the relationship between the number of credit inquiries in the last 12 months (`inq_last_12m`) and default rate"
   ]
  },
  {
   "cell_type": "code",
   "execution_count": 64,
   "metadata": {},
   "outputs": [
    {
     "name": "stdout",
     "output_type": "stream",
     "text": [
      "+--------+---------+---------+-----------+---------------+----------+--------+-----------+-----+---------+--------------------+----------+--------------+----------+-------------------+----------+----------+----+------------------+--------------------+--------+----------+-----+-----------+----------------+--------------+----------------------+----------------------+--------+-------+---------+----------+---------+-------------------+---------+-------------+-----------+---------------+---------------+-------------+------------------+----------+-----------------------+------------+---------------+------------+------------------+--------------------------+---------------------------+-----------+----------------+----------------+---------+-------------------------+--------------+------------+-----------+-----------+----------+-----------+-----------+------------------+------------+-------+-----------+-----------+----------+--------+----------------+------+-----------+------------+-----------+\n",
      "|      id|member_id|loan_amnt|funded_amnt|funded_amnt_inv|      term|int_rate|installment|grade|sub_grade|           emp_title|emp_length|home_ownership|annual_inc|verification_status|   issue_d|pymnt_plan|desc|           purpose|               title|zip_code|addr_state|  dti|delinq_2yrs|earliest_cr_line|inq_last_6mths|mths_since_last_delinq|mths_since_last_record|open_acc|pub_rec|revol_bal|revol_util|total_acc|initial_list_status|out_prncp|out_prncp_inv|total_pymnt|total_pymnt_inv|total_rec_prncp|total_rec_int|total_rec_late_fee|recoveries|collection_recovery_fee|last_pymnt_d|last_pymnt_amnt|next_pymnt_d|last_credit_pull_d|collections_12_mths_ex_med|mths_since_last_major_derog|policy_code|application_type|annual_inc_joint|dti_joint|verification_status_joint|acc_now_delinq|tot_coll_amt|tot_cur_bal|open_acc_6m|open_il_6m|open_il_12m|open_il_24m|mths_since_rcnt_il|total_bal_il|il_util|open_rv_12m|open_rv_24m|max_bal_bc|all_util|total_rev_hi_lim|inq_fi|total_cu_tl|inq_last_12m|default_ind|\n",
      "+--------+---------+---------+-----------+---------------+----------+--------+-----------+-----+---------+--------------------+----------+--------------+----------+-------------------+----------+----------+----+------------------+--------------------+--------+----------+-----+-----------+----------------+--------------+----------------------+----------------------+--------+-------+---------+----------+---------+-------------------+---------+-------------+-----------+---------------+---------------+-------------+------------------+----------+-----------------------+------------+---------------+------------+------------------+--------------------------+---------------------------+-----------+----------------+----------------+---------+-------------------------+--------------+------------+-----------+-----------+----------+-----------+-----------+------------------+------------+-------+-----------+-----------+----------+--------+----------------+------+-----------+------------+-----------+\n",
      "|66532261| 71258022|     8000|       8000|         8000.0| 36 months|   14.48|     275.29|    C|       C5|      police officer| 10+ years|      MORTGAGE|  115000.0|           Verified|01-12-2015|         n|null|debt_consolidation|  Debt consolidation|   917xx|        CA|17.11|          0|      01-01-2004|             4|                  null|                    88|      25|      1|    15124|      26.4|       36|                  w|   8000.0|       8000.0|        0.0|            0.0|            0.0|          0.0|               0.0|       0.0|                    0.0|        null|            0.0|  01-02-2016|        01-01-2016|                         0|                       null|          1|      INDIVIDUAL|            null|     null|                     null|             0|           0|     399684|          5|         5|          1|          4|                11|       46560|   66.5|          5|         12|      4527|    48.5|           57200|    10|          1|          32|          0|\n",
      "|67565789| 72419507|    10000|      10000|        10000.0| 36 months|   12.59|     334.97|    C|       C2|Emergency Respons...|   3 years|      MORTGAGE|  150000.0|       Not Verified|01-12-2015|         n|null|               car|       Car financing|   080xx|        NJ| 15.7|          0|      01-12-2005|             5|                  null|                    61|      17|      3|     8388|      38.1|       32|                  w|  10000.0|      10000.0|        0.0|            0.0|            0.0|          0.0|               0.0|       0.0|                    0.0|        null|            0.0|  01-02-2016|        01-01-2016|                         0|                       null|          1|      INDIVIDUAL|            null|     null|                     null|             0|           0|     211397|          3|         3|          1|          3|                 8|       76367|   81.4|          4|          9|      3294|    51.4|           22000|    11|          0|          25|          0|\n",
      "|66583674| 71309474|    16000|      16000|        16000.0| 60 months|   14.48|     376.29|    C|       C5|  Account executive |   7 years|      MORTGAGE|  215000.0|           Verified|01-12-2015|         n|null|    major_purchase|      Major purchase|   462xx|        IN|11.14|          1|      01-08-2003|             3|                    23|                    97|      20|      1|    10235|      20.3|       58|                  w|  16000.0|      16000.0|        0.0|            0.0|            0.0|          0.0|               0.0|       0.0|                    0.0|        null|            0.0|  01-02-2016|        01-01-2016|                         0|                       null|          1|      INDIVIDUAL|            null|     null|                     null|             0|           0|     355620|          5|         2|          4|          6|                 7|       97434|   86.0|          6|          7|      1991|    47.5|           50147|     6|          4|          25|          0|\n",
      "|67306424| 72108172|    20000|      20000|        20000.0| 60 months|   19.99|     529.77|    E|       E4|              owner |   4 years|          RENT|   50000.0|           Verified|01-12-2015|         n|null|debt_consolidation|  Debt consolidation|   606xx|        IL|12.39|          0|      01-06-2007|             5|                    51|                  null|      14|      0|     8829|      16.3|       22|                  w|  20000.0|      20000.0|        0.0|            0.0|            0.0|          0.0|               0.0|       0.0|                    0.0|        null|            0.0|  01-02-2016|        01-01-2016|                         0|                       null|          1|      INDIVIDUAL|            null|     null|                     null|             0|           0|      27687|          0|         3|          0|          0|                62|       18858|   73.1|          2|          3|      4600|    34.7|           54000|     5|          0|          24|          0|\n",
      "|67239024| 72040820|     2875|       2875|         2875.0| 36 months|   16.99|     102.49|    D|       D3|         Production | 10+ years|      MORTGAGE|  143000.0|    Source Verified|01-12-2015|         n|null|debt_consolidation|  Debt consolidation|   465xx|        IN|14.96|          0|      01-06-2003|             2|                    69|                    76|      15|      1|     3003|      34.1|       41|                  w|   2875.0|       2875.0|        0.0|            0.0|            0.0|          0.0|               0.0|       0.0|                    0.0|        null|            0.0|  01-02-2016|        01-01-2016|                         0|                         76|          1|      INDIVIDUAL|            null|     null|                     null|             0|         162|     195449|          2|         5|          7|         11|                 2|       56603|   82.2|          3|          8|       151|    76.7|            8800|     3|          5|          22|          0|\n",
      "|67755980| 72610706|    16000|      16000|        16000.0| 60 months|    18.2|     408.04|    E|       E1|Assistant parts m...| 10+ years|      MORTGAGE|   67000.0|    Source Verified|01-12-2015|         n|null|debt_consolidation|  Debt consolidation|   060xx|        CT|28.37|          2|      01-10-2001|             1|                    16|                  null|      17|      0|    19637|      61.2|       46|                  w|  16000.0|      16000.0|        0.0|            0.0|            0.0|          0.0|               0.0|       0.0|                    0.0|        null|            0.0|  01-02-2016|        01-01-2016|                         0|                         43|          1|      INDIVIDUAL|            null|     null|                     null|             0|           0|      63507|          4|         2|          3|          4|                 5|       43870|   93.5|          2|          8|      1407|    80.4|           32100|     9|          1|          21|          0|\n",
      "|67565766| 72419483|    20800|      20800|        20800.0| 60 months|   11.22|     454.53|    B|       B5|           Analyst I|   2 years|      MORTGAGE|   85000.0|           Verified|01-12-2015|         n|null|debt_consolidation|  Debt consolidation|   605xx|        IL|26.12|          0|      01-10-1998|             5|                    42|                  null|      30|      0|    43316|      53.1|       65|                  w|  20800.0|      20800.0|        0.0|            0.0|            0.0|          0.0|               0.0|       0.0|                    0.0|        null|            0.0|  01-02-2016|        01-01-2016|                         0|                         42|          1|      INDIVIDUAL|            null|     null|                     null|             0|           0|     217666|          6|         9|          4|          5|                 2|       96926|   78.1|          4|          8|      6795|    68.2|           81600|     6|          0|          21|          0|\n",
      "|67257575| 72059347|    35000|      35000|        35000.0| 36 months|   14.48|     1204.4|    C|       C5|                 svp|   2 years|      MORTGAGE|  300000.0|           Verified|01-12-2015|         n|null|debt_consolidation|  Debt consolidation|   281xx|        NC|25.78|          1|      01-01-1985|             0|                    20|                  null|      10|      0|   273361|      93.4|       35|                  w|  35000.0|      35000.0|        0.0|            0.0|            0.0|          0.0|               0.0|       0.0|                    0.0|        null|            0.0|  01-02-2016|        01-01-2016|                         0|                         20|          1|      INDIVIDUAL|            null|     null|                     null|             0|           0|     993549|          1|         3|          1|          1|                 6|       88170|   null|          0|          0|     19922|    93.4|          350300|     8|          0|          20|          0|\n",
      "|67427226| 72238986|    16800|      16800|        16800.0| 60 months|   20.99|     454.41|    E|       E5|       Sales Manager|   8 years|          RENT|   50000.0|       Not Verified|01-12-2015|         n|null|       credit_card|Credit card refin...|   750xx|        TX|24.56|          0|      01-05-2010|             2|                    46|                    81|      13|      1|    15915|      53.8|       29|                  w| 16639.45|     16639.45|     434.82|         434.82|         160.55|       274.27|               0.0|       0.0|                    0.0|  01-01-2016|         454.41|  01-02-2016|        01-01-2016|                         0|                       null|          1|      INDIVIDUAL|            null|     null|                     null|             0|         672|      80034|          1|         3|          1|          3|                12|       64119|   53.3|          2|          7|      3922|    53.6|           29600|     6|          0|          20|          0|\n",
      "|67045435| 71846158|     8400|       8400|         8400.0| 36 months|   15.41|     292.88|    D|       D1|             MANAGER| 10+ years|      MORTGAGE|   52800.0|           Verified|01-12-2015|         n|null|debt_consolidation|  Debt consolidation|   403xx|        KY|27.89|          0|      01-09-2001|             1|                    37|                  null|      13|      0|     8786|      36.0|       37|                  w|   8400.0|       8400.0|        0.0|            0.0|            0.0|          0.0|               0.0|       0.0|                    0.0|        null|            0.0|  01-02-2016|        01-01-2016|                         0|                         65|          1|      INDIVIDUAL|            null|     null|                     null|             0|         245|     258531|          1|         2|          1|          3|                12|       35529|   81.5|          3|          7|      3057|    65.2|           24400|     5|          3|          20|          0|\n",
      "|67355799| 72157527|    15750|      15750|        15750.0| 36 months|    18.2|     570.99|    E|       E1|executive assista...|  < 1 year|           OWN|   47000.0|    Source Verified|01-12-2015|         n|null|debt_consolidation|  Debt consolidation|   606xx|        IL|17.31|          0|      01-09-1998|             1|                  null|                    54|       6|      2|     4209|      66.8|       19|                  f| 15417.89|     15417.89|     555.07|         555.07|         332.12|       222.96|               0.0|       0.0|                    0.0|  01-01-2016|         570.99|  01-02-2016|        01-01-2016|                         0|                       null|          1|      INDIVIDUAL|            null|     null|                     null|             0|           0|      26681|          0|         2|          1|          2|                12|       22472|   82.9|          0|          3|      2470|    79.9|            6300|    10|          0|          20|          0|\n",
      "|68029761| 72888521|    10950|      10950|        10950.0| 36 months|   19.48|     404.05|    E|       E2|          technition|   3 years|          RENT|   60000.0|    Source Verified|01-12-2015|         n|null|debt_consolidation|  Debt consolidation|   030xx|        NH|18.38|          0|      01-02-1988|             2|                    72|                    66|       6|      2|    10502|      65.6|       17|                  w|  10141.9|      10141.9|      808.1|          808.1|          808.1|          0.0|               0.0|       0.0|                    0.0|  01-01-2016|          808.1|  01-02-2016|        01-01-2016|                         0|                         72|          1|      INDIVIDUAL|            null|     null|                     null|             0|        3400|      44181|          0|         1|          2|          2|                 8|       33679|   null|          3|          4|      4138|    65.6|           16000|     7|          0|          19|          0|\n",
      "|68009499| 72868239|    21000|      21000|        21000.0| 36 months|   16.99|     748.61|    D|       D3|VP of Product Man...|    1 year|      MORTGAGE|  185000.0|           Verified|01-12-2015|         n|null|debt_consolidation|  Debt consolidation|   201xx|        VA|21.54|          2|      01-07-2004|             4|                    17|                  null|      15|      0|    21692|      73.5|       48|                  w|      0.0|          0.0|   21138.76|       21138.76|        21000.0|       138.76|               0.0|       0.0|                    0.0|  01-01-2016|       21188.31|        null|        01-01-2016|                         0|                         17|          1|      INDIVIDUAL|            null|     null|                     null|             0|           0|     458681|          2|         5|          1|          3|                11|       67210|   75.0|          5|          8|      5549|    74.2|           29500|     6|          0|          19|          0|\n",
      "|67596030| 72449758|    21000|      21000|        21000.0| 60 months|   16.55|     516.84|    D|       D2|Director of Opera...|  < 1 year|           OWN|  110000.0|           Verified|01-12-2015|         n|null|  home_improvement|    Home improvement|   245xx|        VA|20.13|          0|      01-12-1999|             4|                  null|                  null|      31|      0|    25891|      19.7|       56|                  w|  21000.0|      21000.0|        0.0|            0.0|            0.0|          0.0|               0.0|       0.0|                    0.0|        null|            0.0|  01-02-2016|        01-01-2016|                         0|                       null|          1|      INDIVIDUAL|            null|     null|                     null|             0|           0|     274894|          8|         2|          3|          6|                 3|       67581|   93.6|         11|         18|      3238|    32.4|          131400|     2|          8|          19|          0|\n",
      "|67575343| 72429066|     2800|       2800|         2800.0| 36 months|   13.67|      95.25|    C|       C4|         Rule Writer|   2 years|          RENT|   45000.0|    Source Verified|01-12-2015|         n|null|debt_consolidation|  Debt consolidation|   537xx|        WI| 19.2|          1|      01-12-2006|             2|                    13|                  null|      12|      0|     3200|      40.0|       21|                  w|   2800.0|       2800.0|        0.0|            0.0|            0.0|          0.0|               0.0|       0.0|                    0.0|        null|            0.0|  01-02-2016|        01-01-2016|                         0|                       null|          1|      INDIVIDUAL|            null|     null|                     null|             0|           0|      53941|          2|         8|          2|          2|                 7|       50741|   99.8|          2|          3|      1711|    91.7|            8000|     0|          7|          19|          0|\n",
      "|67465120| 72276832|    18000|      18000|        18000.0| 60 months|   16.55|     443.01|    D|       D2|          IT Analyst|   7 years|      MORTGAGE|  105000.0|           Verified|01-12-2015|         n|null|       credit_card|Credit card refin...|   083xx|        NJ|14.02|          0|      01-11-1988|             5|                    66|                    67|      17|      2|     9097|      35.5|       63|                  w| 17805.24|     17805.24|     426.46|         426.46|         194.76|        231.7|               0.0|       0.0|                    0.0|  01-01-2016|         443.01|  01-02-2016|        01-01-2016|                         0|                       null|          1|      INDIVIDUAL|            null|     null|                     null|             0|         350|     251088|          4|         3|          1|          2|                 5|       53386|   80.7|          6|          9|      3033|    68.1|           25600|     9|          0|          19|          0|\n",
      "|67960111| 72818868|     7200|       7200|         7200.0| 36 months|   13.44|     244.13|    C|       C3|    Clinical Trainer|   2 years|          RENT|   57000.0|    Source Verified|01-12-2015|         n|null|debt_consolidation|  Debt consolidation|   870xx|        NM|24.36|          0|      01-06-2001|             3|                    39|                  null|       8|      0|     1241|      35.5|       11|                  w|   7200.0|       7200.0|        0.0|            0.0|            0.0|          0.0|               0.0|       0.0|                    0.0|        null|            0.0|  01-02-2016|        01-01-2016|                         0|                         39|          1|      INDIVIDUAL|            null|     null|                     null|             0|        2607|      55917|          2|         3|          0|          2|                16|       54676|   80.9|          3|          5|       967|    78.7|            3500|     2|          1|          18|          0|\n",
      "|67398411| 72210176|    27000|      27000|        27000.0| 36 months|   18.99|     989.58|    E|       E3|      Safety Manager|   3 years|      MORTGAGE|   65000.0|           Verified|01-12-2015|         n|null|    major_purchase|      Major purchase|   770xx|        TX| 21.8|          2|      01-06-2000|             0|                    13|                  null|      17|      0|     7009|      38.1|       35|                  w|  27000.0|      27000.0|        0.0|            0.0|            0.0|          0.0|               0.0|       0.0|                    0.0|        null|            0.0|  01-02-2016|        01-01-2016|                         0|                         13|          1|      INDIVIDUAL|            null|     null|                     null|             0|         532|     153974|          1|         3|          1|          2|                 6|       49844|   93.9|          1|         10|      3744|    79.5|           18400|    13|          2|          18|          0|\n",
      "|68082822| 72950551|    24000|      24000|        24000.0| 60 months|   19.89|     634.39|    E|       E3|          Programmer|   6 years|      MORTGAGE|  134000.0|           Verified|01-12-2015|         n|null|debt_consolidation|  Debt consolidation|   060xx|        CT|10.85|          0|      01-05-1994|             2|                  null|                    70|      12|      1|    15912|      34.1|       25|                  w|  24000.0|      24000.0|        0.0|            0.0|            0.0|          0.0|               0.0|       0.0|                    0.0|        null|            0.0|  01-02-2016|        01-01-2016|                         0|                       null|          1|      INDIVIDUAL|            null|     null|                     null|             0|           0|     318185|          4|         2|          3|          3|                 7|       37005|   80.2|          6|         10|      9547|    47.6|           46600|     5|          0|          17|          0|\n",
      "|65701980| 70334707|    17000|      17000|        16875.0| 60 months|   22.99|     479.15|    F|       F2|Sr. Application a...|   3 years|      MORTGAGE|  107000.0|    Source Verified|01-12-2015|         n|null|debt_consolidation|  Debt consolidation|   197xx|        DE|18.56|          0|      01-02-2006|             1|                    45|                  null|      21|      0|    12085|      50.4|       28|                  f| 16846.54|     16722.67|     435.72|         432.52|         153.46|       282.26|               0.0|       0.0|                    0.0|  01-01-2016|         479.15|  01-02-2016|        01-01-2016|                         0|                       null|          1|      INDIVIDUAL|            null|     null|                     null|             0|        2360|     357256|          3|         8|          4|          6|                 2|       89222|   91.9|          1|          2|      3507|    83.6|           24000|     4|          0|          17|          0|\n",
      "+--------+---------+---------+-----------+---------------+----------+--------+-----------+-----+---------+--------------------+----------+--------------+----------+-------------------+----------+----------+----+------------------+--------------------+--------+----------+-----+-----------+----------------+--------------+----------------------+----------------------+--------+-------+---------+----------+---------+-------------------+---------+-------------+-----------+---------------+---------------+-------------+------------------+----------+-----------------------+------------+---------------+------------+------------------+--------------------------+---------------------------+-----------+----------------+----------------+---------+-------------------------+--------------+------------+-----------+-----------+----------+-----------+-----------+------------------+------------+-------+-----------+-----------+----------+--------+----------------+------+-----------+------------+-----------+\n",
      "only showing top 20 rows\n",
      "\n"
     ]
    },
    {
     "name": "stderr",
     "output_type": "stream",
     "text": [
      "                                                                                \r"
     ]
    }
   ],
   "source": [
    "df.filter(df['inq_last_12m'].isNotNull()).sort('inq_last_12m', ascending=False).show()"
   ]
  },
  {
   "cell_type": "code",
   "execution_count": 66,
   "metadata": {},
   "outputs": [
    {
     "data": {
      "text/plain": [
       "0"
      ]
     },
     "execution_count": 66,
     "metadata": {},
     "output_type": "execute_result"
    }
   ],
   "source": [
    "df.filter(df['inq_last_12m'].isNotNull() & (df['default_ind'] == 1)).sort('inq_last_12m', ascending=False).count()"
   ]
  },
  {
   "attachments": {},
   "cell_type": "markdown",
   "metadata": {},
   "source": [
    "In real life, higher number of number of credit inquiries will result in lower result credit, making this loan has a higher chance of default (https://www.canstar.com.au/credit-score/do-credit-checks-affect-your-credit-score/). However it is the opposite with this dataset, as more credit inquiries result in no default rate! "
   ]
  },
  {
   "cell_type": "code",
   "execution_count": 20,
   "metadata": {},
   "outputs": [
    {
     "name": "stdout",
     "output_type": "stream",
     "text": [
      "+-----------+-------------+------------------+--------+---------------+-----------+----------+----------+------------+-----------+\n",
      "|total_pymnt|total_rec_int|total_rec_late_fee|int_rate|total_rec_prncp|funded_amnt|      term|   issue_d|last_pymnt_d|default_ind|\n",
      "+-----------+-------------+------------------+--------+---------------+-----------+----------+----------+------------+-----------+\n",
      "|5861.071414|       861.07|               0.0|   10.65|         5000.0|       5000| 36 months|01-12-2011|  01-01-2015|          0|\n",
      "|    1008.71|       435.17|               0.0|   15.27|         456.46|       2500| 60 months|01-12-2011|  01-04-2013|          1|\n",
      "|3003.653644|       603.65|               0.0|   15.96|         2400.0|       2400| 36 months|01-12-2011|  01-06-2014|          0|\n",
      "|5631.377753|       631.38|               0.0|     7.9|         5000.0|       5000| 36 months|01-12-2011|  01-01-2015|          0|\n",
      "|3938.144334|       938.14|               0.0|   18.64|         3000.0|       3000| 36 months|01-12-2011|  01-01-2015|          0|\n",
      "|     646.02|       294.94|               0.0|   21.28|         162.02|       5600| 60 months|01-12-2011|  01-04-2012|          1|\n",
      "|   13943.08|      1943.08|               0.0|   12.69|        12000.0|      12000| 36 months|01-12-2011|  01-09-2013|          0|\n",
      "|     2270.7|       570.26|               0.0|   13.49|        1256.14|       9000| 36 months|01-12-2011|  01-07-2012|          1|\n",
      "|    7471.99|      1393.42|               0.0|   10.65|        5433.47|      10000| 36 months|01-12-2011|  01-10-2013|          1|\n",
      "|1270.171106|       270.17|               0.0|   16.29|         1000.0|       1000| 36 months|01-12-2011|  01-01-2015|          0|\n",
      "|12519.26045|      2519.26|               0.0|   15.27|        10000.0|      10000| 36 months|01-12-2011|  01-01-2015|          0|\n",
      "|    3785.02|       185.02|               0.0|    6.03|         3600.0|       3600| 36 months|01-12-2011|  01-05-2013|          0|\n",
      "|7164.499852|       1149.5|              15.0|   11.71|         6000.0|       6000| 36 months|01-12-2011|  01-02-2015|          0|\n",
      "|    9459.96|       259.96|               0.0|    6.03|         9200.0|       9200| 36 months|01-12-2011|  01-07-2012|          0|\n",
      "|    14025.4|      3330.44|               0.0|   12.42|       10694.96|      21000| 36 months|01-12-2011|  01-09-2013|          1|\n",
      "|   11536.31|      1536.31|               0.0|   11.71|        10000.0|      10000| 36 months|01-12-2011|  01-10-2013|          0|\n",
      "|    2050.14|       475.25|               0.0|   11.71|        1305.58|       6000| 36 months|01-12-2011|  01-10-2012|          1|\n",
      "|   15823.48|       823.48|               0.0|    9.91|        15000.0|      15000| 36 months|01-12-2011|  01-09-2012|          0|\n",
      "|        0.0|          0.0|               0.0|   14.27|            0.0|      15000| 36 months|01-12-2011|        null|          1|\n",
      "|    1609.12|       719.11|               0.0|   16.77|         629.05|       5000| 60 months|01-12-2011|  01-12-2012|          1|\n",
      "|    4484.79|       484.79|               0.0|   11.71|         4000.0|       4000| 36 months|01-12-2011|  01-04-2013|          0|\n",
      "|10122.20861|      1622.21|               0.0|   11.71|         8500.0|       8500| 36 months|01-12-2011|  01-12-2014|          0|\n",
      "|4898.543558|       523.54|               0.0|    7.51|         4375.0|       4375| 36 months|01-12-2011|  01-01-2015|          0|\n",
      "|   11622.36|      4317.69|               0.0|   15.96|        7304.67|      10000| 60 months|01-12-2011|  01-01-2016|          0|\n",
      "|5714.592129|       714.59|               0.0|     8.9|         5000.0|       5000| 36 months|01-12-2011|  01-01-2015|          0|\n",
      "| 8848.94043|      1848.94|               0.0|   15.96|         7000.0|       7000| 36 months|01-12-2011|  01-01-2015|          0|\n",
      "|14537.45953|      2137.46|               0.0|   10.65|        12400.0|      12400| 36 months|01-12-2011|  01-01-2015|          0|\n",
      "|    16662.6|       1662.6|               0.0|     7.9|        15000.0|      15000| 36 months|01-12-2011|  01-01-2014|          0|\n",
      "|   13506.54|      4199.67|               0.0|   12.69|        9306.87|      12500| 60 months|01-12-2011|  01-01-2016|          0|\n",
      "|10749.76265|      1149.76|               0.0|    7.51|         9600.0|       9600| 36 months|01-12-2011|  01-01-2015|          0|\n",
      "|13516.38296|      1516.38|               0.0|     7.9|        12000.0|      12000| 36 months|01-12-2011|  01-01-2015|          0|\n",
      "|5626.892655|      1226.89|               0.0|   16.77|         4400.0|       4400| 36 months|01-12-2011|  01-01-2015|          0|\n",
      "|16239.91413|      2239.91|               0.0|    9.91|        14000.0|      14000| 36 months|01-12-2011|  01-01-2015|          0|\n",
      "|    5021.37|       696.99|               0.0|     8.9|        4217.38|       5000| 36 months|01-12-2011|  01-08-2014|          1|\n",
      "|11724.56774|      1724.57|               0.0|   10.65|        10000.0|      10000| 36 months|01-12-2011|  01-01-2015|          0|\n",
      "|   10282.67|       282.67|               0.0|    6.03|        10000.0|      10000| 36 months|01-12-2011|  01-07-2012|          0|\n",
      "|12157.38005|      1157.38|               0.0|    6.62|        11000.0|      11000| 36 months|01-12-2011|  01-01-2015|          0|\n",
      "|   16177.77|      2374.34|             24.17|    9.91|       13556.45|      15000| 36 months|01-12-2011|  01-10-2014|          1|\n",
      "|8205.473816|      1205.47|               0.0|   10.65|         7000.0|       7000| 36 months|01-12-2011|  01-01-2015|          0|\n",
      "|    3521.95|      1039.35|               0.0|   15.96|        1903.66|      12000| 36 months|01-12-2011|  01-08-2012|          1|\n",
      "|   18319.14|      9328.33|               0.0|   19.91|        8990.81|      21000| 60 months|01-12-2011|  01-10-2014|          1|\n",
      "|   11474.76|      1474.76|               0.0|   12.42|        10000.0|      10000| 36 months|01-12-2011|  01-07-2013|          0|\n",
      "|9079.334843|      1979.33|               0.0|   16.77|         7100.0|       7100| 36 months|01-12-2011|  01-01-2015|          0|\n",
      "|17402.23999|      4402.24|               0.0|   12.69|        13000.0|      13000| 60 months|01-12-2011|  01-01-2016|          0|\n",
      "|10267.26214|      2252.27|       14.98883533|   16.77|         8000.0|       8000| 36 months|01-12-2011|  01-12-2014|          0|\n",
      "|    8772.91|      2429.23|               1.0|   10.65|        5495.38|      10000| 60 months|01-12-2011|  01-04-2015|          1|\n",
      "|4103.168128|       603.17|               0.0|   10.65|         3500.0|       3500| 36 months|01-12-2011|  01-01-2015|          0|\n",
      "|    5577.75|      2742.43|               0.0|   17.27|        2812.82|       8925| 60 months|01-12-2011|  01-02-2014|          1|\n",
      "|    4173.57|      2265.85|               0.0|   21.28|        1525.83|       8200| 60 months|01-12-2011|  01-06-2013|          1|\n",
      "|18097.34458|      4522.34|               0.0|   17.58|        13575.0|      13575| 60 months|01-12-2011|  01-04-2014|          0|\n",
      "|     3246.8|        246.8|               0.0|   13.49|         3000.0|       3000| 36 months|01-12-2011|  01-09-2012|          0|\n",
      "|15346.46687|      3346.47|               0.0|   16.77|        12000.0|      12000| 36 months|01-12-2011|  01-01-2015|          0|\n",
      "|16459.51914|      2059.52|               0.0|     8.9|        14400.0|      14400| 36 months|01-12-2011|  01-01-2015|          0|\n",
      "|   12699.48|       699.48|               0.0|   14.65|        12000.0|      12000| 36 months|01-12-2011|  01-06-2012|          0|\n",
      "|13413.21605|      2413.22|               0.0|   13.49|        11000.0|      11000| 36 months|01-12-2011|  01-10-2014|          0|\n",
      "|   15557.64|       557.64|               0.0|     7.9|        15000.0|      15000| 36 months|01-12-2011|  01-08-2012|          0|\n",
      "|26027.53964|      8003.76|       23.78149961|   19.91|        18000.0|      18000| 60 months|01-12-2011|  01-10-2014|          0|\n",
      "|   28871.92|      6796.92|               0.0|   17.27|        22075.0|      22075| 60 months|01-12-2011|  01-02-2014|          0|\n",
      "|   10671.62|       671.62|               0.0|   14.27|        10000.0|      10000| 36 months|01-12-2011|  01-07-2012|          0|\n",
      "|14243.15837|      2443.16|               0.0|   12.69|        11800.0|      11800| 36 months|01-12-2011|  01-01-2015|          0|\n",
      "| 4930.30217|        430.3|               0.0|    6.03|         4500.0|       4500| 36 months|01-12-2011|  01-01-2015|          0|\n",
      "|8449.394742|      1449.39|               0.0|   12.69|         7000.0|       7000| 36 months|01-12-2011|  01-01-2015|          0|\n",
      "|   10480.84|      1280.84|               0.0|   12.42|         9200.0|       9200| 36 months|01-12-2011|  01-07-2013|          0|\n",
      "|   16777.04|      6619.44|               0.0|   17.27|        10157.6|      14000| 60 months|01-12-2011|  01-01-2016|          0|\n",
      "|     4907.8|        407.8|               0.0|   10.65|         4500.0|       4500| 60 months|01-12-2011|  01-12-2012|          0|\n",
      "|   14685.36|      2685.36|               0.0|   16.29|        12000.0|      12000| 36 months|01-12-2011|  01-11-2013|          0|\n",
      "|    7687.73|       687.73|               0.0|   10.65|         7000.0|       7000| 36 months|01-12-2011|  01-02-2013|          0|\n",
      "| 11894.8952|       3694.9|               0.0|   19.42|         8200.0|       8200| 60 months|01-12-2011|  01-12-2014|          0|\n",
      "|     7932.3|        932.3|               0.0|   11.71|         7000.0|       7000| 36 months|01-12-2011|  01-06-2013|          0|\n",
      "|    20295.8|      9519.71|               0.0|   22.06|       10776.09|      15300| 60 months|01-12-2011|  01-01-2016|          0|\n",
      "|   15161.27|      2361.27|               0.0|   11.71|        12800.0|      12800| 60 months|01-12-2011|  01-11-2013|          0|\n",
      "|    10037.1|      3473.25|               0.0|   17.27|        3077.85|      17500| 60 months|01-12-2011|  01-04-2013|          1|\n",
      "| 3834.66085|       334.66|               0.0|    6.03|         3500.0|       3500| 36 months|01-12-2011|  01-01-2015|          0|\n",
      "|    6495.11|      2022.71|               0.0|   12.69|         4472.4|       6000| 60 months|01-12-2011|  01-01-2016|          0|\n",
      "|    2452.22|       493.16|               0.0|    9.91|        1700.79|       6200| 36 months|01-12-2011|  01-12-2012|          1|\n",
      "|   19297.95|      7713.92|               0.0|   17.58|       11584.03|      16000| 60 months|01-12-2011|  01-01-2016|          0|\n",
      "|6857.167486|       857.17|               0.0|     8.9|         6000.0|       6000| 36 months|01-12-2011|  01-01-2015|          0|\n",
      "|8350.844344|      1150.84|               0.0|    9.91|         7200.0|       7200| 36 months|01-12-2011|  01-01-2015|          0|\n",
      "|   18218.25|      6786.71|               0.0|   16.77|        8087.75|      18825| 60 months|01-12-2011|  01-09-2014|          1|\n",
      "|7326.009787|      1326.01|               0.0|   13.49|         6000.0|       6000| 36 months|01-12-2011|  01-01-2015|          0|\n",
      "|7325.544153|      1325.54|               0.0|   13.49|         6000.0|       6000| 36 months|01-12-2011|  01-01-2015|          0|\n",
      "|2552.485243|       422.49|              30.0|   12.42|         2100.0|       2100| 36 months|01-12-2011|  01-12-2014|          0|\n",
      "|12156.85732|      1156.86|               0.0|    6.62|        11000.0|      11000| 36 months|01-12-2011|  01-01-2015|          0|\n",
      "|   32887.69|      6087.69|               0.0|   20.89|        26800.0|      26800| 60 months|01-12-2011|  01-03-2013|          0|\n",
      "|     8999.1|        999.1|               0.0|   12.69|         8000.0|       8000| 36 months|01-12-2011|  01-03-2013|          0|\n",
      "|    11730.6|      3145.08|       36.24699818|   18.25|        8320.22|      10000| 36 months|01-12-2011|  01-01-2015|          1|\n",
      "|9434.776936|      1434.78|               0.0|   11.71|         8000.0|       8000| 36 months|01-12-2011|  01-05-2014|          0|\n",
      "|   10868.92|       868.92|               0.0|     8.9|        10000.0|      10000| 36 months|01-12-2011|  01-03-2013|          0|\n",
      "|11264.00958|      1264.01|               0.0|     7.9|        10000.0|      10000| 36 months|01-12-2011|  01-01-2015|          0|\n",
      "|13920.02507|      1920.03|               0.0|    9.91|        12000.0|      12000| 36 months|01-12-2011|  01-01-2015|          0|\n",
      "|   10904.24|       904.24|               0.0|    9.91|        10000.0|      10000| 36 months|01-12-2011|  01-01-2013|          0|\n",
      "|20275.33655|      2275.34|               0.0|     7.9|        18000.0|      18000| 36 months|01-12-2011|  01-01-2015|          0|\n",
      "|     2529.9|         29.9|               0.0|   14.27|         2500.0|       2500| 36 months|01-12-2011|  01-02-2012|          0|\n",
      "|40006.54992|      5006.55|               0.0|     8.9|        35000.0|      35000| 36 months|01-12-2011|  01-01-2015|          0|\n",
      "|    11027.3|       1027.3|               0.0|    7.51|        10000.0|      10000| 36 months|01-12-2011|  01-12-2013|          0|\n",
      "|    5895.68|      2082.11|               0.0|   15.96|        3813.57|      24000| 36 months|01-12-2011|  01-08-2012|          1|\n",
      "|11841.94071|      1216.94|               0.0|    7.51|        10625.0|      10625| 36 months|01-12-2011|  01-06-2014|          0|\n",
      "|    5682.08|       682.08|               0.0|   14.65|         5000.0|       5000| 36 months|01-12-2011|  01-01-2013|          0|\n",
      "|    6737.55|       362.55|               0.0|    7.51|         6375.0|       6375| 36 months|01-12-2011|  01-12-2012|          0|\n",
      "|7041.293751|      1041.29|               0.0|   11.71|         6000.0|       6000| 36 months|01-12-2011|  01-03-2014|          0|\n",
      "+-----------+-------------+------------------+--------+---------------+-----------+----------+----------+------------+-----------+\n",
      "only showing top 100 rows\n",
      "\n"
     ]
    }
   ],
   "source": [
    "df.select('total_pymnt', 'total_rec_int', 'total_rec_late_fee', 'int_rate', 'total_rec_prncp', 'funded_amnt', 'term', 'issue_d', 'last_pymnt_d', 'default_ind').show(100)"
   ]
  },
  {
   "cell_type": "code",
   "execution_count": null,
   "metadata": {},
   "outputs": [],
   "source": []
  },
  {
   "cell_type": "code",
   "execution_count": null,
   "metadata": {},
   "outputs": [
    {
     "name": "stdout",
     "output_type": "stream",
     "text": [
      "+------------+-----------+---------------+-----------+------------------+-------------+--------+-----------+----------+\n",
      "|last_pymnt_d|funded_amnt|total_rec_prncp|default_ind|total_rec_late_fee|total_rec_int|int_rate|total_pymnt|   issue_d|\n",
      "+------------+-----------+---------------+-----------+------------------+-------------+--------+-----------+----------+\n",
      "|  01-06-2015|       8000|         8000.0|          1|               0.0|       587.29|   13.66|8587.289426|01-11-2014|\n",
      "+------------+-----------+---------------+-----------+------------------+-------------+--------+-----------+----------+\n",
      "\n"
     ]
    }
   ],
   "source": [
    "df.select('last_pymnt_d', 'funded_amnt', 'total_rec_prncp', 'default_ind', 'total_rec_late_fee', 'total_rec_int', 'int_rate', 'total_pymnt', 'issue_d').filter((df[\"last_pymnt_d\"] != '01-01-2016') & (df['default_ind'] == 1) & ((df['funded_amnt'] == df['total_rec_prncp'])| (df['funded_amnt'] < df['total_rec_prncp'] -10))).show()\n"
   ]
  },
  {
   "attachments": {},
   "cell_type": "markdown",
   "metadata": {},
   "source": [
    "There's a lot of null values for "
   ]
  },
  {
   "cell_type": "code",
   "execution_count": null,
   "metadata": {},
   "outputs": [
    {
     "name": "stderr",
     "output_type": "stream",
     "text": [
      "                                                                                \r"
     ]
    }
   ],
   "source": [
    "from pyspark.sql import SparkSession\n",
    "spark = SparkSession \\\n",
    "    .builder \\\n",
    "    .appName(\"credit_analysis\") \\\n",
    "    .getOrCreate()\n",
    "df=spark.read.format(\"csv\").option(\"header\",\"true\").load('./data.csv', inferSchema=True)\n",
    "# read csv and infer schema"
   ]
  },
  {
   "cell_type": "code",
   "execution_count": null,
   "metadata": {},
   "outputs": [
    {
     "data": {
      "text/plain": [
       "39"
      ]
     },
     "execution_count": 23,
     "metadata": {},
     "output_type": "execute_result"
    }
   ],
   "source": [
    "df.select(df[\"verification_status_joint\"]).distinct()"
   ]
  },
  {
   "cell_type": "code",
   "execution_count": null,
   "metadata": {},
   "outputs": [
    {
     "name": "stdout",
     "output_type": "stream",
     "text": [
      "+-------+---------+---------+-----------+---------------+----------+--------+-----------+-----+---------+--------------------+----------+--------------+----------+-------------------+----------+----------+--------------------+------------------+--------------------+--------+----------+-----+-----------+----------------+--------------+----------------------+----------------------+--------+-------+---------+----------+---------+-------------------+---------+-------------+-----------+---------------+---------------+-------------+------------------+----------+-----------------------+------------+---------------+------------+------------------+--------------------------+---------------------------+-----------+----------------+----------------+---------+-------------------------+--------------+------------+-----------+-----------+----------+-----------+-----------+------------------+------------+-------+-----------+-----------+----------+--------+----------------+------+-----------+------------+-----------+\n",
      "|     id|member_id|loan_amnt|funded_amnt|funded_amnt_inv|      term|int_rate|installment|grade|sub_grade|           emp_title|emp_length|home_ownership|annual_inc|verification_status|   issue_d|pymnt_plan|                desc|           purpose|               title|zip_code|addr_state|  dti|delinq_2yrs|earliest_cr_line|inq_last_6mths|mths_since_last_delinq|mths_since_last_record|open_acc|pub_rec|revol_bal|revol_util|total_acc|initial_list_status|out_prncp|out_prncp_inv|total_pymnt|total_pymnt_inv|total_rec_prncp|total_rec_int|total_rec_late_fee|recoveries|collection_recovery_fee|last_pymnt_d|last_pymnt_amnt|next_pymnt_d|last_credit_pull_d|collections_12_mths_ex_med|mths_since_last_major_derog|policy_code|application_type|annual_inc_joint|dti_joint|verification_status_joint|acc_now_delinq|tot_coll_amt|tot_cur_bal|open_acc_6m|open_il_6m|open_il_12m|open_il_24m|mths_since_rcnt_il|total_bal_il|il_util|open_rv_12m|open_rv_24m|max_bal_bc|all_util|total_rev_hi_lim|inq_fi|total_cu_tl|inq_last_12m|default_ind|\n",
      "+-------+---------+---------+-----------+---------------+----------+--------+-----------+-----+---------+--------------------+----------+--------------+----------+-------------------+----------+----------+--------------------+------------------+--------------------+--------+----------+-----+-----------+----------------+--------------+----------------------+----------------------+--------+-------+---------+----------+---------+-------------------+---------+-------------+-----------+---------------+---------------+-------------+------------------+----------+-----------------------+------------+---------------+------------+------------------+--------------------------+---------------------------+-----------+----------------+----------------+---------+-------------------------+--------------+------------+-----------+-----------+----------+-----------+-----------+------------------+------------+-------+-----------+-----------+----------+--------+----------------+------+-----------+------------+-----------+\n",
      "|1077501|  1296599|     5000|       5000|         4975.0| 36 months|   10.65|     162.87|    B|       B2|                null| 10+ years|          RENT|     24000|           Verified|01-12-2011|         n|  Borrower added ...|       credit_card|            Computer|   860xx|        AZ|27.65|          0|      01-01-1985|             1|                  null|                  null|       3|      0|    13648|      83.7|        9|                  f|        0|            0|5861.071414|        5831.78|           5000|       861.07|                 0|         0|                      0|  01-01-2015|         171.62|        null|        01-01-2016|                         0|                       null|          1|      INDIVIDUAL|            null|     null|                     null|             0|        null|       null|       null|      null|       null|       null|              null|        null|   null|       null|       null|      null|    null|            null|  null|       null|        null|          0|\n",
      "|1071570|  1306721|     5375|       5375|         5350.0| 60 months|   12.69|     121.45|    B|       B5|           Starbucks|  < 1 year|          RENT|     15000|           Verified|01-12-2011|         n|  Borrower added ...|             other|Building my credi...|   774xx|        TX|18.08|          0|      01-09-2004|             0|                  null|                  null|       2|      0|     9279|      36.5|        3|                  f|        0|            0|    1476.19|        1469.34|         673.48|       533.42|                 0|    269.29|                   2.52|  01-11-2012|         121.45|        null|        01-03-2013|                         0|                       null|          1|      INDIVIDUAL|            null|     null|                     null|             0|        null|       null|       null|      null|       null|       null|              null|        null|   null|       null|       null|      null|    null|            null|  null|       null|        null|          1|\n",
      "|1069740|  1284848|    20250|      20250|    19142.16108| 60 months|   15.27|     484.63|    C|       C4|Archdiocese of Ga...|   3 years|          RENT|     43370|           Verified|01-12-2011|         n|After amassing cr...|debt_consolidation|Freedom From Cred...|   770xx|        TX|26.53|          0|      01-11-1997|             3|                  null|                  null|       8|      0|    17813|      85.6|       22|                  f|        0|            0|27663.04267|       25417.68|          20250|      7413.04|                 0|         0|                      0|  01-08-2015|        6024.09|        null|        01-12-2015|                         0|                       null|          1|      INDIVIDUAL|            null|     null|                     null|             0|        null|       null|       null|      null|       null|       null|              null|        null|   null|       null|       null|      null|    null|            null|  null|       null|        null|          0|\n",
      "|1069800|  1304679|    15000|      15000|         8725.0| 36 months|   14.27|     514.64|    C|       C2|         nyc transit|   9 years|          RENT|     60000|       Not Verified|01-12-2011|         n|  Borrower added ...|debt_consolidation|       consolidation|   103xx|        NY|15.22|          0|      01-10-2003|             1|                  null|                  null|       7|      0|     5872|      57.6|       11|                  f|        0|            0|          0|              0|              0|            0|                 0|         0|                      0|        null|              0|        null|        01-01-2016|                         0|                       null|          1|      INDIVIDUAL|            null|     null|                     null|             0|        null|       null|       null|      null|       null|       null|              null|        null|   null|       null|       null|      null|    null|            null|  null|       null|        null|          1|\n",
      "|1065420|  1299514|    10000|      10000|         9975.0| 60 months|   15.96|     242.97|    C|       C5|    US Legal Support|   2 years|          RENT|     29120|           Verified|01-12-2011|         n|                null|debt_consolidation|     Brown Eyes Loan|   330xx|        FL|22.83|          0|      01-02-1997|             1|                    68|                  null|      11|      0|    16158|      63.6|       31|                  f|  2695.31|      2688.53|   11622.36|        11593.4|        7304.67|      4317.69|                 0|         0|                      0|  01-01-2016|         242.97|  01-01-2016|        01-01-2016|                         0|                       null|          1|      INDIVIDUAL|            null|     null|                     null|             0|        null|       null|       null|      null|       null|       null|              null|        null|   null|       null|       null|      null|    null|            null|  null|       null|        null|          0|\n",
      "|1069346|  1304237|    12500|      12500|        12475.0| 60 months|   12.69|     282.44|    B|       B5|United States Inf...|    1 year|          RENT|     27000|           Verified|01-12-2011|         n|  Borrower added ...|debt_consolidation|    Credit card debt|   604xx|        IL|16.04|          0|      01-12-2001|             3|                  null|                  null|       6|      0|    10143|        50|       24|                  f|  3193.13|      3186.72|   13506.54|       13479.58|        9306.87|      4199.67|                 0|         0|                      0|  01-01-2016|         282.44|  01-01-2016|        01-01-2016|                         0|                       null|          1|      INDIVIDUAL|            null|     null|                     null|             0|        null|       null|       null|      null|       null|       null|              null|        null|   null|       null|       null|      null|    null|            null|  null|       null|        null|          0|\n",
      "|1068120|  1302485|    25600|      25600|        25350.0| 36 months|    9.91|     824.96|    B|       B1|City of Santa Mon...|   9 years|          RENT|    110000|           Verified|01-12-2011|         n|  Borrower added ...|       credit_card|Credit card refin...|   913xx|        CA|15.71|          0|      01-07-1999|             0|                  null|                  null|      11|      0|    26088|        62|       27|                  f|        0|            0|29695.62268|       29405.63|          25600|      4095.62|                 0|         0|                      0|  01-01-2015|         838.27|        null|        01-01-2016|                         0|                       null|          1|      INDIVIDUAL|            null|     null|                     null|             0|        null|       null|       null|      null|       null|       null|              null|        null|   null|       null|       null|      null|    null|            null|  null|       null|        null|          0|\n",
      "|1069410|  1303652|    21000|      21000|        20975.0| 60 months|   19.91|     555.33|    E|       E4|              Costco|   7 years|          RENT|     50000|           Verified|01-12-2011|         n|  Borrower added ...|debt_consolidation|         Bill pay of|   980xx|        WA|21.58|          0|      01-09-1998|             1|                  null|                  null|       7|      0|    19448|      97.6|       14|                  f|        0|            0|   18319.14|       18297.35|        8990.81|      9328.33|                 0|         0|                      0|  01-10-2014|         555.33|        null|        01-01-2016|                         0|                       null|          1|      INDIVIDUAL|            null|     null|                     null|             0|        null|       null|       null|      null|       null|       null|              null|        null|   null|       null|       null|      null|    null|            null|  null|       null|        null|          1|\n",
      "|1068409|  1302790|    16000|      16000|        15950.0| 60 months|   19.91|     423.11|    E|       E4|     CA Technologies|   7 years|          RENT|     81000|           Verified|01-12-2011|         n|  Borrower added ...|       credit_card|      refinance debt|   017xx|        MA|20.52|          0|      01-12-1998|             3|                  null|                  null|      12|      0|    27884|      75.1|       21|                  f|        0|            0|    20876.1|       20810.87|          16000|       4876.1|                 0|         0|                      0|  01-10-2013|        9931.02|        null|        01-01-2016|                         0|                       null|          1|      INDIVIDUAL|            null|     null|                     null|             0|        null|       null|       null|      null|       null|       null|              null|        null|   null|       null|       null|      null|    null|            null|  null|       null|        null|          0|\n",
      "|1068934|  1277395|    17500|       8950|         8925.0| 60 months|   17.27|     223.74|    D|       D3|                null|   6 years|          RENT|     40000|           Verified|01-12-2011|         n|  Borrower added ...|    small_business|            Start Up|   951xx|        CA|19.47|          0|      01-05-2006|             1|                  null|                  null|       5|      0|    10724|      58.9|        6|                  f|  2462.25|      2455.34|   10713.52|       10683.65|        6487.75|      4225.77|                 0|         0|                      0|  01-01-2016|         223.74|  01-01-2016|        01-01-2016|                         0|                       null|          1|      INDIVIDUAL|            null|     null|                     null|             0|        null|       null|       null|      null|       null|       null|              null|        null|   null|       null|       null|      null|    null|            null|  null|       null|        null|          0|\n",
      "|1069126|  1303778|    10000|      10000|         9975.0| 60 months|   10.65|     215.69|    B|       B2|CEC ENTERTAINMENT...| 10+ years|          RENT|     45996|           Verified|01-12-2011|         n|                null|debt_consolidation|       Consolidation|   440xx|        OH|21.73|          0|      01-05-1997|             1|                  null|                  null|       7|      0|    11170|      30.1|       15|                  f|        0|            0|    8772.91|        8751.08|        5495.38|      2429.23|                 1|     847.3|                152.514|  01-04-2015|              1|        null|        01-06-2015|                         0|                       null|          1|      INDIVIDUAL|            null|     null|                     null|             0|        null|       null|       null|      null|       null|       null|              null|        null|   null|       null|       null|      null|    null|            null|  null|       null|        null|          1|\n",
      "|1069043|  1303486|    20975|      13575|        13550.0| 60 months|   17.58|     341.63|    D|       D4|  Dollar Tree Stores|   5 years|      MORTGAGE|     44000|           Verified|01-12-2011|         n|  Borrower added ...|       credit_card|      Refinance Loan|   300xx|        GA|18.79|          0|      01-04-2000|             0|                  null|                   105|      13|      1|    20657|      79.4|       21|                  f|        0|            0|18097.34458|        18064.1|          13575|      4522.34|                 0|         0|                      0|  01-04-2014|        9245.21|        null|        01-04-2014|                         0|                       null|          1|      INDIVIDUAL|            null|     null|                     null|             0|        null|       null|       null|      null|       null|       null|              null|        null|   null|       null|       null|      null|    null|            null|  null|       null|        null|          0|\n",
      "|1068416|  1302799|     7250|       7200|         7175.0| 60 months|   21.67|     197.51|    F|       F3|Cross Country Tra...|  < 1 year|          RENT|     75000|           Verified|01-12-2011|         n|I have been stead...|debt_consolidation|Debt Consolidatio...|   937xx|        CA|24.82|          0|      01-05-2000|             2|                  null|                    97|       9|      1|    21706|      91.2|       19|                  f|        0|            0|    8201.53|        8173.07|           7200|      1001.53|                 0|         0|                      0|  01-09-2012|         6824.7|        null|        01-01-2016|                         0|                       null|          1|      INDIVIDUAL|            null|     null|                     null|             0|        null|       null|       null|      null|       null|       null|              null|        null|   null|       null|       null|      null|    null|            null|  null|       null|        null|          0|\n",
      "|1068994|  1303432|    35000|      22075|        22050.0| 60 months|   17.27|     551.84|    D|       D3|tutor Per ini Cor...|   3 years|      MORTGAGE|    150000|           Verified|01-12-2011|         n|                null|  home_improvement|    Home improvement|   115xx|        NY| 7.51|          0|      01-06-2003|             1|                    35|                  null|      11|      0|     7334|      53.3|       31|                  f|        0|            0|   28871.92|       28839.26|          22075|      6796.92|                 0|         0|                      0|  01-02-2014|       15660.22|        null|        01-02-2014|                         0|                       null|          1|      INDIVIDUAL|            null|     null|                     null|             0|        null|       null|       null|      null|       null|       null|              null|        null|   null|       null|       null|      null|    null|            null|  null|       null|        null|          0|\n",
      "|1063958|  1297940|    14000|      14000|        13975.0| 60 months|   17.27|     349.98|    D|       D3|community college...|   4 years|          RENT|     28000|           Verified|01-12-2011|         n|  Borrower added ...|             other|         dental care|   992xx|        WA| 6.34|          0|      01-07-2005|             2|                  null|                  null|       5|      0|     6986|      79.4|       10|                  f|  3842.41|      3835.51|   16777.04|       16747.17|        10157.6|      6619.44|                 0|         0|                      0|  01-01-2016|         349.98|  01-01-2016|        01-01-2016|                         0|                       null|          1|      INDIVIDUAL|            null|     null|                     null|             0|        null|       null|       null|      null|       null|       null|              null|        null|   null|       null|       null|      null|    null|            null|  null|       null|        null|          0|\n",
      "|1041756|  1272024|     4500|       4500|         4475.0| 60 months|   10.65|      97.06|    B|       B2| barnes distribution|  < 1 year|      MORTGAGE|     42000|    Source Verified|01-12-2011|         n|  Borrower added ...|               car|            Car Loan|   750xx|        TX|  5.4|          0|      01-02-1983|             0|                  null|                  null|       4|      0|     8220|      78.3|        9|                  f|        0|            0|     4907.8|        4880.55|           4500|        407.8|                 0|         0|                      0|  01-12-2012|        3946.24|        null|        01-12-2012|                         0|                       null|          1|      INDIVIDUAL|            null|     null|                     null|             0|        null|       null|       null|      null|       null|       null|              null|        null|   null|       null|       null|      null|    null|            null|  null|       null|        null|          0|\n",
      "|1068575|  1303001|    15300|      15300|        15275.0| 60 months|   22.06|      423.1|    F|       F4|                OSSI|   6 years|          RENT|     85000|           Verified|01-12-2011|         n|                null|       credit_card|       Consolidation|   226xx|        VA|20.58|          0|      01-02-1984|             2|                    56|                  null|      14|      0|    26524|      89.7|       27|                  f|  4523.91|      4516.51|    20295.8|       20262.65|       10776.09|      9519.71|                 0|         0|                      0|  01-01-2016|          423.1|  01-01-2016|        01-01-2016|                         0|                       null|          1|      INDIVIDUAL|            null|     null|                     null|             0|        null|       null|       null|      null|       null|       null|              null|        null|   null|       null|       null|      null|    null|            null|  null|       null|        null|          0|\n",
      "|1049528|  1280928|    20000|      12800|        12775.0| 60 months|   11.71|     282.86|    B|       B3|    NCS Technologies|   4 years|      MORTGAGE|     47800|           Verified|01-12-2011|         n|                null|debt_consolidation|  Bill Consolidation|   226xx|        VA|10.04|          0|      01-11-2001|             0|                  null|                  null|      15|      0|    16447|      46.3|       27|                  f|        0|            0|   15161.27|       15131.66|          12800|      2361.27|                 0|         0|                      0|  01-11-2013|        9242.39|        null|        01-11-2013|                         0|                       null|          1|      INDIVIDUAL|            null|     null|                     null|             0|        null|       null|       null|      null|       null|       null|              null|        null|   null|       null|       null|      null|    null|            null|  null|       null|        null|          0|\n",
      "|1068309|  1302924|    18825|      18825|        18800.0| 60 months|   16.77|     465.53|    D|       D2|Texas Health & Hu...| 10+ years|          RENT|     38000|           Verified|01-12-2011|         n|                null|debt_consolidation| Coledon's Club Loan|   787xx|        TX|23.18|          0|      01-12-2004|             0|                  null|                  null|       6|      0|    11004|      79.7|        7|                  f|        0|            0|   18218.25|       18194.23|        8087.75|      6786.71|                 0|   3343.79|               575.2393|  01-09-2014|         465.53|        null|        01-01-2016|                         0|                       null|          1|      INDIVIDUAL|            null|     null|                     null|             0|        null|       null|       null|      null|       null|       null|              null|        null|   null|       null|       null|      null|    null|            null|  null|       null|        null|          1|\n",
      "|1068202|  1302588|    25000|      25000|    23088.16106| 60 months|   13.49|     575.12|    C|       C1|            Midnight| 10+ years|      MORTGAGE|     67000|           Verified|01-12-2011|         n|  Borrower added ...|       credit_card|Pay off credit ca...|   996xx|        AK|14.15|          0|      01-08-1999|             0|                    28|                  null|       6|      0|    15319|      91.2|       21|                  f|        0|            0|   23880.65|        20309.6|        13833.2|      8008.11|             28.76|   2010.58|               361.9044|  01-03-2015|           1179|        null|        01-07-2015|                         0|                       null|          1|      INDIVIDUAL|            null|     null|                     null|             0|        null|       null|       null|      null|       null|       null|              null|        null|   null|       null|       null|      null|    null|            null|  null|       null|        null|          1|\n",
      "+-------+---------+---------+-----------+---------------+----------+--------+-----------+-----+---------+--------------------+----------+--------------+----------+-------------------+----------+----------+--------------------+------------------+--------------------+--------+----------+-----+-----------+----------------+--------------+----------------------+----------------------+--------+-------+---------+----------+---------+-------------------+---------+-------------+-----------+---------------+---------------+-------------+------------------+----------+-----------------------+------------+---------------+------------+------------------+--------------------------+---------------------------+-----------+----------------+----------------+---------+-------------------------+--------------+------------+-----------+-----------+----------+-----------+-----------+------------------+------------+-------+-----------+-----------+----------+--------+----------------+------+-----------+------------+-----------+\n",
      "only showing top 20 rows\n",
      "\n"
     ]
    }
   ],
   "source": [
    "df.filter(df[\"funded_amnt\"] != df['funded_amnt_inv'] and df[\"issue_d\"]).show()"
   ]
  },
  {
   "cell_type": "code",
   "execution_count": null,
   "metadata": {},
   "outputs": [],
   "source": []
  }
 ],
 "metadata": {
  "kernelspec": {
   "display_name": "tf",
   "language": "python",
   "name": "python3"
  },
  "language_info": {
   "codemirror_mode": {
    "name": "ipython",
    "version": 3
   },
   "file_extension": ".py",
   "mimetype": "text/x-python",
   "name": "python",
   "nbconvert_exporter": "python",
   "pygments_lexer": "ipython3",
   "version": "3.9.16"
  },
  "orig_nbformat": 4
 },
 "nbformat": 4,
 "nbformat_minor": 2
}
