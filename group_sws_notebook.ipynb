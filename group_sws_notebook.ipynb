{
 "cells": [
  {
   "cell_type": "code",
   "execution_count": 1,
   "metadata": {},
   "outputs": [
    {
     "name": "stderr",
     "output_type": "stream",
     "text": [
      "bash: /home/huukhang1512/miniconda3/envs/tf/lib/libtinfo.so.6: no version information available (required by bash)\n",
      "bash: /home/huukhang1512/miniconda3/envs/tf/lib/libtinfo.so.6: no version information available (required by bash)\n",
      "23/06/02 19:18:44 WARN Utils: Your hostname, huukhang1512-B550I-AORUS-PRO-AX resolves to a loopback address: 127.0.1.1; using 192.168.0.162 instead (on interface wlp6s0)\n",
      "23/06/02 19:18:44 WARN Utils: Set SPARK_LOCAL_IP if you need to bind to another address\n",
      "Using Spark's default log4j profile: org/apache/spark/log4j-defaults.properties\n",
      "Setting default log level to \"WARN\".\n",
      "To adjust logging level use sc.setLogLevel(newLevel). For SparkR, use setLogLevel(newLevel).\n",
      "23/06/02 19:18:44 WARN NativeCodeLoader: Unable to load native-hadoop library for your platform... using builtin-java classes where applicable\n",
      "23/06/02 19:18:44 WARN Utils: Service 'SparkUI' could not bind on port 4040. Attempting port 4041.\n",
      "23/06/02 19:18:44 WARN Utils: Service 'SparkUI' could not bind on port 4041. Attempting port 4042.\n"
     ]
    }
   ],
   "source": [
    "from pyspark.sql import SparkSession\n",
    "spark = SparkSession \\\n",
    "    .builder \\\n",
    "    .appName(\"credit_analysis\") \\\n",
    "    .getOrCreate()\n"
   ]
  },
  {
   "cell_type": "code",
   "execution_count": 2,
   "metadata": {},
   "outputs": [
    {
     "name": "stderr",
     "output_type": "stream",
     "text": [
      "                                                                                \r"
     ]
    }
   ],
   "source": [
    "df_original=spark.read.format(\"csv\").option(\"header\",\"true\").load('./data.csv', inferSchema=True)"
   ]
  },
  {
   "cell_type": "code",
   "execution_count": 3,
   "metadata": {},
   "outputs": [
    {
     "data": {
      "text/plain": [
       "855969"
      ]
     },
     "execution_count": 3,
     "metadata": {},
     "output_type": "execute_result"
    }
   ],
   "source": [
    "df_original.count()"
   ]
  },
  {
   "attachments": {},
   "cell_type": "markdown",
   "metadata": {},
   "source": [
    "## We realised there's many rows that have more delimeters than the others, therefore, we decided to remove some record with wrong delimeter before hand"
   ]
  },
  {
   "cell_type": "code",
   "execution_count": 4,
   "metadata": {},
   "outputs": [],
   "source": [
    "def remove_lines_with_excessive_commas(input_file, output_file):\n",
    "    with open(input_file, 'r') as csv_input, open(output_file, 'w', newline='') as csv_output:\n",
    "        first_line = csv_input.readline()\n",
    "        csv_output.write(first_line)\n",
    "        number_of_comma = first_line.count(',')\n",
    "        lines_removed = 0\n",
    "\n",
    "        for row in csv_input.readlines():\n",
    "            \n",
    "            if row.count(',') <= number_of_comma:\n",
    "                csv_output.write(row)\n",
    "            else:\n",
    "                lines_removed += 1\n",
    "\n",
    "        print(f\"{lines_removed} Lines with more than {number_of_comma} commas have been removed.\")\n",
    "\n",
    "# Usage example\n",
    "input_file = 'data.csv'\n",
    "output_file = 'output.csv'"
   ]
  },
  {
   "cell_type": "code",
   "execution_count": 5,
   "metadata": {},
   "outputs": [
    {
     "name": "stdout",
     "output_type": "stream",
     "text": [
      "51895 Lines with more than 72 commas have been removed.\n"
     ]
    }
   ],
   "source": [
    "remove_lines_with_excessive_commas(input_file, output_file)"
   ]
  },
  {
   "cell_type": "code",
   "execution_count": 6,
   "metadata": {},
   "outputs": [
    {
     "name": "stderr",
     "output_type": "stream",
     "text": [
      "                                                                                \r"
     ]
    }
   ],
   "source": [
    "df=spark.read.format(\"csv\").option(\"header\",\"true\").load('./output.csv', inferSchema=True)"
   ]
  },
  {
   "cell_type": "code",
   "execution_count": 7,
   "metadata": {},
   "outputs": [
    {
     "data": {
      "text/plain": [
       "804074"
      ]
     },
     "execution_count": 7,
     "metadata": {},
     "output_type": "execute_result"
    }
   ],
   "source": [
    "df.count()"
   ]
  },
  {
   "cell_type": "code",
   "execution_count": 8,
   "metadata": {},
   "outputs": [
    {
     "name": "stderr",
     "output_type": "stream",
     "text": [
      "23/06/02 19:18:52 WARN package: Truncated the string representation of a plan since it was too large. This behavior can be adjusted by setting 'spark.sql.debug.maxToStringFields'.\n"
     ]
    },
    {
     "name": "stdout",
     "output_type": "stream",
     "text": [
      "+-------+---------+---------+-----------+---------------+----------+--------+-----------+-----+---------+--------------------+----------+--------------+----------+-------------------+----------+----------+--------------------+--------------+--------------------+--------+----------+-----+-----------+----------------+--------------+----------------------+----------------------+--------+-------+---------+----------+---------+-------------------+---------+-------------+-----------+---------------+---------------+-------------+------------------+----------+-----------------------+------------+---------------+------------+------------------+--------------------------+---------------------------+-----------+----------------+----------------+---------+-------------------------+--------------+------------+-----------+-----------+----------+-----------+-----------+------------------+------------+-------+-----------+-----------+----------+--------+----------------+------+-----------+------------+-----------+\n",
      "|     id|member_id|loan_amnt|funded_amnt|funded_amnt_inv|      term|int_rate|installment|grade|sub_grade|           emp_title|emp_length|home_ownership|annual_inc|verification_status|   issue_d|pymnt_plan|                desc|       purpose|               title|zip_code|addr_state|  dti|delinq_2yrs|earliest_cr_line|inq_last_6mths|mths_since_last_delinq|mths_since_last_record|open_acc|pub_rec|revol_bal|revol_util|total_acc|initial_list_status|out_prncp|out_prncp_inv|total_pymnt|total_pymnt_inv|total_rec_prncp|total_rec_int|total_rec_late_fee|recoveries|collection_recovery_fee|last_pymnt_d|last_pymnt_amnt|next_pymnt_d|last_credit_pull_d|collections_12_mths_ex_med|mths_since_last_major_derog|policy_code|application_type|annual_inc_joint|dti_joint|verification_status_joint|acc_now_delinq|tot_coll_amt|tot_cur_bal|open_acc_6m|open_il_6m|open_il_12m|open_il_24m|mths_since_rcnt_il|total_bal_il|il_util|open_rv_12m|open_rv_24m|max_bal_bc|all_util|total_rev_hi_lim|inq_fi|total_cu_tl|inq_last_12m|default_ind|\n",
      "+-------+---------+---------+-----------+---------------+----------+--------+-----------+-----+---------+--------------------+----------+--------------+----------+-------------------+----------+----------+--------------------+--------------+--------------------+--------+----------+-----+-----------+----------------+--------------+----------------------+----------------------+--------+-------+---------+----------+---------+-------------------+---------+-------------+-----------+---------------+---------------+-------------+------------------+----------+-----------------------+------------+---------------+------------+------------------+--------------------------+---------------------------+-----------+----------------+----------------+---------+-------------------------+--------------+------------+-----------+-----------+----------+-----------+-----------+------------------+------------+-------+-----------+-----------+----------+--------+----------------+------+-----------+------------+-----------+\n",
      "|1077501|  1296599|     5000|       5000|         4975.0| 36 months|   10.65|     162.87|    B|       B2|                null| 10+ years|          RENT|   24000.0|           Verified|01-12-2011|         n|  Borrower added ...|   credit_card|            Computer|   860xx|        AZ|27.65|          0|      01-01-1985|             1|                  null|                  null|       3|      0|    13648|      83.7|        9|                  f|      0.0|          0.0|5861.071414|        5831.78|         5000.0|       861.07|               0.0|       0.0|                    0.0|  01-01-2015|         171.62|        null|        01-01-2016|                         0|                       null|          1|      INDIVIDUAL|            null|     null|                     null|             0|        null|       null|       null|      null|       null|       null|              null|        null|   null|       null|       null|      null|    null|            null|  null|       null|        null|          0|\n",
      "|1077430|  1314167|     2500|       2500|         2500.0| 60 months|   15.27|      59.83|    C|       C4|               Ryder|  < 1 year|          RENT|   30000.0|    Source Verified|01-12-2011|         n|  Borrower added ...|           car|                bike|   309xx|        GA|  1.0|          0|      01-04-1999|             5|                  null|                  null|       3|      0|     1687|       9.4|        4|                  f|      0.0|          0.0|    1008.71|        1008.71|         456.46|       435.17|               0.0|    117.08|                   1.11|  01-04-2013|         119.66|        null|        01-09-2013|                         0|                       null|          1|      INDIVIDUAL|            null|     null|                     null|             0|        null|       null|       null|      null|       null|       null|              null|        null|   null|       null|       null|      null|    null|            null|  null|       null|        null|          1|\n",
      "|1077175|  1313524|     2400|       2400|         2400.0| 36 months|   15.96|      84.33|    C|       C5|                null| 10+ years|          RENT|   12252.0|       Not Verified|01-12-2011|         n|                null|small_business|real estate business|   606xx|        IL| 8.72|          0|      01-11-2001|             2|                  null|                  null|       2|      0|     2956|      98.5|       10|                  f|      0.0|          0.0|3003.653644|        3003.65|         2400.0|       603.65|               0.0|       0.0|                    0.0|  01-06-2014|         649.91|        null|        01-01-2016|                         0|                       null|          1|      INDIVIDUAL|            null|     null|                     null|             0|        null|       null|       null|      null|       null|       null|              null|        null|   null|       null|       null|      null|    null|            null|  null|       null|        null|          0|\n",
      "|1075269|  1311441|     5000|       5000|         5000.0| 36 months|     7.9|     156.46|    A|       A4|Veolia Transportaton|   3 years|          RENT|   36000.0|    Source Verified|01-12-2011|         n|                null|       wedding|My wedding loan I...|   852xx|        AZ| 11.2|          0|      01-11-2004|             3|                  null|                  null|       9|      0|     7963|      28.3|       12|                  f|      0.0|          0.0|5631.377753|        5631.38|         5000.0|       631.38|               0.0|       0.0|                    0.0|  01-01-2015|         161.03|        null|        01-09-2015|                         0|                       null|          1|      INDIVIDUAL|            null|     null|                     null|             0|        null|       null|       null|      null|       null|       null|              null|        null|   null|       null|       null|      null|    null|            null|  null|       null|        null|          0|\n",
      "|1072053|  1288686|     3000|       3000|         3000.0| 36 months|   18.64|     109.43|    E|       E1|     MKC Accounting |   9 years|          RENT|   48000.0|    Source Verified|01-12-2011|         n|  Borrower added ...|           car|     Car Downpayment|   900xx|        CA| 5.35|          0|      01-01-2007|             2|                  null|                  null|       4|      0|     8221|      87.5|        4|                  f|      0.0|          0.0|3938.144334|        3938.14|         3000.0|       938.14|               0.0|       0.0|                    0.0|  01-01-2015|         111.34|        null|        01-12-2014|                         0|                       null|          1|      INDIVIDUAL|            null|     null|                     null|             0|        null|       null|       null|      null|       null|       null|              null|        null|   null|       null|       null|      null|    null|            null|  null|       null|        null|          0|\n",
      "+-------+---------+---------+-----------+---------------+----------+--------+-----------+-----+---------+--------------------+----------+--------------+----------+-------------------+----------+----------+--------------------+--------------+--------------------+--------+----------+-----+-----------+----------------+--------------+----------------------+----------------------+--------+-------+---------+----------+---------+-------------------+---------+-------------+-----------+---------------+---------------+-------------+------------------+----------+-----------------------+------------+---------------+------------+------------------+--------------------------+---------------------------+-----------+----------------+----------------+---------+-------------------------+--------------+------------+-----------+-----------+----------+-----------+-----------+------------------+------------+-------+-----------+-----------+----------+--------+----------------+------+-----------+------------+-----------+\n",
      "only showing top 5 rows\n",
      "\n"
     ]
    }
   ],
   "source": [
    "df.show(5)"
   ]
  },
  {
   "attachments": {},
   "cell_type": "markdown",
   "metadata": {},
   "source": [
    "# Stage 1: Data exploration"
   ]
  },
  {
   "cell_type": "code",
   "execution_count": 9,
   "metadata": {},
   "outputs": [
    {
     "data": {
      "text/plain": [
       "[('id', 'int'),\n",
       " ('member_id', 'int'),\n",
       " ('loan_amnt', 'int'),\n",
       " ('funded_amnt', 'int'),\n",
       " ('funded_amnt_inv', 'double'),\n",
       " ('term', 'string'),\n",
       " ('int_rate', 'double'),\n",
       " ('installment', 'double'),\n",
       " ('grade', 'string'),\n",
       " ('sub_grade', 'string'),\n",
       " ('emp_title', 'string'),\n",
       " ('emp_length', 'string'),\n",
       " ('home_ownership', 'string'),\n",
       " ('annual_inc', 'double'),\n",
       " ('verification_status', 'string'),\n",
       " ('issue_d', 'string'),\n",
       " ('pymnt_plan', 'string'),\n",
       " ('desc', 'string'),\n",
       " ('purpose', 'string'),\n",
       " ('title', 'string'),\n",
       " ('zip_code', 'string'),\n",
       " ('addr_state', 'string'),\n",
       " ('dti', 'double'),\n",
       " ('delinq_2yrs', 'int'),\n",
       " ('earliest_cr_line', 'string'),\n",
       " ('inq_last_6mths', 'int'),\n",
       " ('mths_since_last_delinq', 'int'),\n",
       " ('mths_since_last_record', 'int'),\n",
       " ('open_acc', 'int'),\n",
       " ('pub_rec', 'int'),\n",
       " ('revol_bal', 'int'),\n",
       " ('revol_util', 'double'),\n",
       " ('total_acc', 'int'),\n",
       " ('initial_list_status', 'string'),\n",
       " ('out_prncp', 'double'),\n",
       " ('out_prncp_inv', 'double'),\n",
       " ('total_pymnt', 'double'),\n",
       " ('total_pymnt_inv', 'double'),\n",
       " ('total_rec_prncp', 'double'),\n",
       " ('total_rec_int', 'double'),\n",
       " ('total_rec_late_fee', 'double'),\n",
       " ('recoveries', 'double'),\n",
       " ('collection_recovery_fee', 'double'),\n",
       " ('last_pymnt_d', 'string'),\n",
       " ('last_pymnt_amnt', 'double'),\n",
       " ('next_pymnt_d', 'string'),\n",
       " ('last_credit_pull_d', 'string'),\n",
       " ('collections_12_mths_ex_med', 'int'),\n",
       " ('mths_since_last_major_derog', 'int'),\n",
       " ('policy_code', 'int'),\n",
       " ('application_type', 'string'),\n",
       " ('annual_inc_joint', 'double'),\n",
       " ('dti_joint', 'double'),\n",
       " ('verification_status_joint', 'string'),\n",
       " ('acc_now_delinq', 'int'),\n",
       " ('tot_coll_amt', 'int'),\n",
       " ('tot_cur_bal', 'int'),\n",
       " ('open_acc_6m', 'int'),\n",
       " ('open_il_6m', 'int'),\n",
       " ('open_il_12m', 'int'),\n",
       " ('open_il_24m', 'int'),\n",
       " ('mths_since_rcnt_il', 'int'),\n",
       " ('total_bal_il', 'int'),\n",
       " ('il_util', 'double'),\n",
       " ('open_rv_12m', 'int'),\n",
       " ('open_rv_24m', 'int'),\n",
       " ('max_bal_bc', 'int'),\n",
       " ('all_util', 'double'),\n",
       " ('total_rev_hi_lim', 'int'),\n",
       " ('inq_fi', 'int'),\n",
       " ('total_cu_tl', 'int'),\n",
       " ('inq_last_12m', 'int'),\n",
       " ('default_ind', 'int')]"
      ]
     },
     "execution_count": 9,
     "metadata": {},
     "output_type": "execute_result"
    }
   ],
   "source": [
    "df.dtypes"
   ]
  },
  {
   "cell_type": "code",
   "execution_count": 10,
   "metadata": {},
   "outputs": [],
   "source": [
    "column_to_hist = [item[0] for item in df.dtypes if item[1].startswith('int') or item[1].startswith('double')]"
   ]
  },
  {
   "cell_type": "code",
   "execution_count": 11,
   "metadata": {},
   "outputs": [
    {
     "name": "stderr",
     "output_type": "stream",
     "text": [
      "                                                                                \r"
     ]
    },
    {
     "data": {
      "text/plain": [
       "array([[<AxesSubplot:title={'center':'id'}>,\n",
       "        <AxesSubplot:title={'center':'member_id'}>,\n",
       "        <AxesSubplot:title={'center':'loan_amnt'}>,\n",
       "        <AxesSubplot:title={'center':'funded_amnt'}>,\n",
       "        <AxesSubplot:title={'center':'funded_amnt_inv'}>,\n",
       "        <AxesSubplot:title={'center':'int_rate'}>,\n",
       "        <AxesSubplot:title={'center':'installment'}>],\n",
       "       [<AxesSubplot:title={'center':'annual_inc'}>,\n",
       "        <AxesSubplot:title={'center':'dti'}>,\n",
       "        <AxesSubplot:title={'center':'delinq_2yrs'}>,\n",
       "        <AxesSubplot:title={'center':'inq_last_6mths'}>,\n",
       "        <AxesSubplot:title={'center':'mths_since_last_delinq'}>,\n",
       "        <AxesSubplot:title={'center':'mths_since_last_record'}>,\n",
       "        <AxesSubplot:title={'center':'open_acc'}>],\n",
       "       [<AxesSubplot:title={'center':'pub_rec'}>,\n",
       "        <AxesSubplot:title={'center':'revol_bal'}>,\n",
       "        <AxesSubplot:title={'center':'revol_util'}>,\n",
       "        <AxesSubplot:title={'center':'total_acc'}>,\n",
       "        <AxesSubplot:title={'center':'out_prncp'}>,\n",
       "        <AxesSubplot:title={'center':'out_prncp_inv'}>,\n",
       "        <AxesSubplot:title={'center':'total_pymnt'}>],\n",
       "       [<AxesSubplot:title={'center':'total_pymnt_inv'}>,\n",
       "        <AxesSubplot:title={'center':'total_rec_prncp'}>,\n",
       "        <AxesSubplot:title={'center':'total_rec_int'}>,\n",
       "        <AxesSubplot:title={'center':'total_rec_late_fee'}>,\n",
       "        <AxesSubplot:title={'center':'recoveries'}>,\n",
       "        <AxesSubplot:title={'center':'collection_recovery_fee'}>,\n",
       "        <AxesSubplot:title={'center':'last_pymnt_amnt'}>],\n",
       "       [<AxesSubplot:title={'center':'collections_12_mths_ex_med'}>,\n",
       "        <AxesSubplot:title={'center':'mths_since_last_major_derog'}>,\n",
       "        <AxesSubplot:title={'center':'policy_code'}>,\n",
       "        <AxesSubplot:title={'center':'annual_inc_joint'}>,\n",
       "        <AxesSubplot:title={'center':'dti_joint'}>,\n",
       "        <AxesSubplot:title={'center':'acc_now_delinq'}>,\n",
       "        <AxesSubplot:title={'center':'tot_coll_amt'}>],\n",
       "       [<AxesSubplot:title={'center':'tot_cur_bal'}>,\n",
       "        <AxesSubplot:title={'center':'open_acc_6m'}>,\n",
       "        <AxesSubplot:title={'center':'open_il_6m'}>,\n",
       "        <AxesSubplot:title={'center':'open_il_12m'}>,\n",
       "        <AxesSubplot:title={'center':'open_il_24m'}>,\n",
       "        <AxesSubplot:title={'center':'mths_since_rcnt_il'}>,\n",
       "        <AxesSubplot:title={'center':'total_bal_il'}>],\n",
       "       [<AxesSubplot:title={'center':'il_util'}>,\n",
       "        <AxesSubplot:title={'center':'open_rv_12m'}>,\n",
       "        <AxesSubplot:title={'center':'open_rv_24m'}>,\n",
       "        <AxesSubplot:title={'center':'max_bal_bc'}>,\n",
       "        <AxesSubplot:title={'center':'all_util'}>,\n",
       "        <AxesSubplot:title={'center':'total_rev_hi_lim'}>,\n",
       "        <AxesSubplot:title={'center':'inq_fi'}>],\n",
       "       [<AxesSubplot:title={'center':'total_cu_tl'}>,\n",
       "        <AxesSubplot:title={'center':'inq_last_12m'}>,\n",
       "        <AxesSubplot:title={'center':'default_ind'}>, <AxesSubplot:>,\n",
       "        <AxesSubplot:>, <AxesSubplot:>, <AxesSubplot:>]], dtype=object)"
      ]
     },
     "execution_count": 11,
     "metadata": {},
     "output_type": "execute_result"
    },
    {
     "data": {
      "image/png": "[encoded data removed]",
      "text/plain": [
       "<Figure size 1440x1440 with 56 Axes>"
      ]
     },
     "metadata": {
      "needs_background": "light"
     },
     "output_type": "display_data"
    }
   ],
   "source": [
    "df.select(column_to_hist).sample(withReplacement=False, fraction=0.0002, seed=None).toPandas().hist(figsize=(20,20))"
   ]
  },
  {
   "cell_type": "code",
   "execution_count": 12,
   "metadata": {},
   "outputs": [
    {
     "data": {
      "text/plain": [
       "['id',\n",
       " 'member_id',\n",
       " 'loan_amnt',\n",
       " 'funded_amnt',\n",
       " 'funded_amnt_inv',\n",
       " 'term',\n",
       " 'int_rate',\n",
       " 'installment',\n",
       " 'grade',\n",
       " 'sub_grade',\n",
       " 'emp_title',\n",
       " 'emp_length',\n",
       " 'home_ownership',\n",
       " 'annual_inc',\n",
       " 'verification_status',\n",
       " 'issue_d',\n",
       " 'pymnt_plan',\n",
       " 'desc',\n",
       " 'purpose',\n",
       " 'title',\n",
       " 'zip_code',\n",
       " 'addr_state',\n",
       " 'dti',\n",
       " 'delinq_2yrs',\n",
       " 'earliest_cr_line',\n",
       " 'inq_last_6mths',\n",
       " 'mths_since_last_delinq',\n",
       " 'mths_since_last_record',\n",
       " 'open_acc',\n",
       " 'pub_rec',\n",
       " 'revol_bal',\n",
       " 'revol_util',\n",
       " 'total_acc',\n",
       " 'initial_list_status',\n",
       " 'out_prncp',\n",
       " 'out_prncp_inv',\n",
       " 'total_pymnt',\n",
       " 'total_pymnt_inv',\n",
       " 'total_rec_prncp',\n",
       " 'total_rec_int',\n",
       " 'total_rec_late_fee',\n",
       " 'recoveries',\n",
       " 'collection_recovery_fee',\n",
       " 'last_pymnt_d',\n",
       " 'last_pymnt_amnt',\n",
       " 'next_pymnt_d',\n",
       " 'last_credit_pull_d',\n",
       " 'collections_12_mths_ex_med',\n",
       " 'mths_since_last_major_derog',\n",
       " 'policy_code',\n",
       " 'application_type',\n",
       " 'annual_inc_joint',\n",
       " 'dti_joint',\n",
       " 'verification_status_joint',\n",
       " 'acc_now_delinq',\n",
       " 'tot_coll_amt',\n",
       " 'tot_cur_bal',\n",
       " 'open_acc_6m',\n",
       " 'open_il_6m',\n",
       " 'open_il_12m',\n",
       " 'open_il_24m',\n",
       " 'mths_since_rcnt_il',\n",
       " 'total_bal_il',\n",
       " 'il_util',\n",
       " 'open_rv_12m',\n",
       " 'open_rv_24m',\n",
       " 'max_bal_bc',\n",
       " 'all_util',\n",
       " 'total_rev_hi_lim',\n",
       " 'inq_fi',\n",
       " 'total_cu_tl',\n",
       " 'inq_last_12m',\n",
       " 'default_ind']"
      ]
     },
     "execution_count": 12,
     "metadata": {},
     "output_type": "execute_result"
    }
   ],
   "source": [
    "df.columns"
   ]
  },
  {
   "attachments": {},
   "cell_type": "markdown",
   "metadata": {},
   "source": [
    "From the domain knowledge, it is noticeable that the following fields could be removed as they do not provide great insight for the prediction, and may introduce noise and cause overfitting:"
   ]
  },
  {
   "attachments": {},
   "cell_type": "markdown",
   "metadata": {},
   "source": [
    "- Unique identifiers such as `id` and `member_id`\n",
    "- `emp_title`, `desc`, `title` as text description of the loan won't be contribute much for the prediction\n",
    "- Location identifier columns such as `zip_code` and `addr_state`, as these information do not expected to have a strong influence on loan defaults \n",
    "- Date columns such as `earliest_cr_line`, `issue_d`, `last_pymnt_d`, `next_pymnt_d`, `last_credit_pull_d` can be removed, as these data might not be relevant for the prediction model. Moreover, the model to be implemented is expected to predict the upcoming loan, and these date data might not be available."
   ]
  },
  {
   "cell_type": "code",
   "execution_count": 13,
   "metadata": {},
   "outputs": [],
   "source": [
    "df = df.drop('id', 'member_id', 'emp_title', 'desc', 'emp_title', 'title', 'zip_code', 'addr_state', 'earliest_cr_line', 'issue_d', 'last_pymnt_d', 'next_pymnt_d', 'last_credit_pull_d')"
   ]
  },
  {
   "cell_type": "code",
   "execution_count": 14,
   "metadata": {},
   "outputs": [
    {
     "name": "stdout",
     "output_type": "stream",
     "text": [
      "+---------+-----------+---------------+----------+--------+-----------+-----+---------+----------+--------------+----------+-------------------+----------+------------------+-----+-----------+--------------+----------------------+----------------------+--------+-------+---------+----------+---------+-------------------+---------+-------------+-----------+---------------+---------------+-------------+------------------+----------+-----------------------+---------------+--------------------------+---------------------------+-----------+----------------+----------------+---------+-------------------------+--------------+------------+-----------+-----------+----------+-----------+-----------+------------------+------------+-------+-----------+-----------+----------+--------+----------------+------+-----------+------------+-----------+\n",
      "|loan_amnt|funded_amnt|funded_amnt_inv|      term|int_rate|installment|grade|sub_grade|emp_length|home_ownership|annual_inc|verification_status|pymnt_plan|           purpose|  dti|delinq_2yrs|inq_last_6mths|mths_since_last_delinq|mths_since_last_record|open_acc|pub_rec|revol_bal|revol_util|total_acc|initial_list_status|out_prncp|out_prncp_inv|total_pymnt|total_pymnt_inv|total_rec_prncp|total_rec_int|total_rec_late_fee|recoveries|collection_recovery_fee|last_pymnt_amnt|collections_12_mths_ex_med|mths_since_last_major_derog|policy_code|application_type|annual_inc_joint|dti_joint|verification_status_joint|acc_now_delinq|tot_coll_amt|tot_cur_bal|open_acc_6m|open_il_6m|open_il_12m|open_il_24m|mths_since_rcnt_il|total_bal_il|il_util|open_rv_12m|open_rv_24m|max_bal_bc|all_util|total_rev_hi_lim|inq_fi|total_cu_tl|inq_last_12m|default_ind|\n",
      "+---------+-----------+---------------+----------+--------+-----------+-----+---------+----------+--------------+----------+-------------------+----------+------------------+-----+-----------+--------------+----------------------+----------------------+--------+-------+---------+----------+---------+-------------------+---------+-------------+-----------+---------------+---------------+-------------+------------------+----------+-----------------------+---------------+--------------------------+---------------------------+-----------+----------------+----------------+---------+-------------------------+--------------+------------+-----------+-----------+----------+-----------+-----------+------------------+------------+-------+-----------+-----------+----------+--------+----------------+------+-----------+------------+-----------+\n",
      "|     5000|       5000|         4975.0| 36 months|   10.65|     162.87|    B|       B2| 10+ years|          RENT|   24000.0|           Verified|         n|       credit_card|27.65|          0|             1|                  null|                  null|       3|      0|    13648|      83.7|        9|                  f|      0.0|          0.0|5861.071414|        5831.78|         5000.0|       861.07|               0.0|       0.0|                    0.0|         171.62|                         0|                       null|          1|      INDIVIDUAL|            null|     null|                     null|             0|        null|       null|       null|      null|       null|       null|              null|        null|   null|       null|       null|      null|    null|            null|  null|       null|        null|          0|\n",
      "|     2500|       2500|         2500.0| 60 months|   15.27|      59.83|    C|       C4|  < 1 year|          RENT|   30000.0|    Source Verified|         n|               car|  1.0|          0|             5|                  null|                  null|       3|      0|     1687|       9.4|        4|                  f|      0.0|          0.0|    1008.71|        1008.71|         456.46|       435.17|               0.0|    117.08|                   1.11|         119.66|                         0|                       null|          1|      INDIVIDUAL|            null|     null|                     null|             0|        null|       null|       null|      null|       null|       null|              null|        null|   null|       null|       null|      null|    null|            null|  null|       null|        null|          1|\n",
      "|     2400|       2400|         2400.0| 36 months|   15.96|      84.33|    C|       C5| 10+ years|          RENT|   12252.0|       Not Verified|         n|    small_business| 8.72|          0|             2|                  null|                  null|       2|      0|     2956|      98.5|       10|                  f|      0.0|          0.0|3003.653644|        3003.65|         2400.0|       603.65|               0.0|       0.0|                    0.0|         649.91|                         0|                       null|          1|      INDIVIDUAL|            null|     null|                     null|             0|        null|       null|       null|      null|       null|       null|              null|        null|   null|       null|       null|      null|    null|            null|  null|       null|        null|          0|\n",
      "|     5000|       5000|         5000.0| 36 months|     7.9|     156.46|    A|       A4|   3 years|          RENT|   36000.0|    Source Verified|         n|           wedding| 11.2|          0|             3|                  null|                  null|       9|      0|     7963|      28.3|       12|                  f|      0.0|          0.0|5631.377753|        5631.38|         5000.0|       631.38|               0.0|       0.0|                    0.0|         161.03|                         0|                       null|          1|      INDIVIDUAL|            null|     null|                     null|             0|        null|       null|       null|      null|       null|       null|              null|        null|   null|       null|       null|      null|    null|            null|  null|       null|        null|          0|\n",
      "|     3000|       3000|         3000.0| 36 months|   18.64|     109.43|    E|       E1|   9 years|          RENT|   48000.0|    Source Verified|         n|               car| 5.35|          0|             2|                  null|                  null|       4|      0|     8221|      87.5|        4|                  f|      0.0|          0.0|3938.144334|        3938.14|         3000.0|       938.14|               0.0|       0.0|                    0.0|         111.34|                         0|                       null|          1|      INDIVIDUAL|            null|     null|                     null|             0|        null|       null|       null|      null|       null|       null|              null|        null|   null|       null|       null|      null|    null|            null|  null|       null|        null|          0|\n",
      "|     5600|       5600|         5600.0| 60 months|   21.28|     152.39|    F|       F2|   4 years|           OWN|   40000.0|    Source Verified|         n|    small_business| 5.55|          0|             2|                  null|                  null|      11|      0|     5210|      32.6|       13|                  f|      0.0|          0.0|     646.02|         646.02|         162.02|       294.94|               0.0|    189.06|                   2.09|         152.39|                         0|                       null|          1|      INDIVIDUAL|            null|     null|                     null|             0|        null|       null|       null|      null|       null|       null|              null|        null|   null|       null|       null|      null|    null|            null|  null|       null|        null|          1|\n",
      "|    12000|      12000|        12000.0| 36 months|   12.69|     402.54|    B|       B5| 10+ years|           OWN|   75000.0|    Source Verified|         n|debt_consolidation|10.78|          0|             0|                  null|                  null|      12|      0|    23336|      67.1|       34|                  f|      0.0|          0.0|   13943.08|       13943.08|        12000.0|      1943.08|               0.0|       0.0|                    0.0|         6315.3|                         0|                       null|          1|      INDIVIDUAL|            null|     null|                     null|             0|        null|       null|       null|      null|       null|       null|              null|        null|   null|       null|       null|      null|    null|            null|  null|       null|        null|          0|\n",
      "|     9000|       9000|         9000.0| 36 months|   13.49|     305.38|    C|       C1|  < 1 year|          RENT|   30000.0|    Source Verified|         n|debt_consolidation|10.08|          0|             1|                  null|                  null|       4|      0|    10452|      91.7|        9|                  f|      0.0|          0.0|     2270.7|         2270.7|        1256.14|       570.26|               0.0|     444.3|                   4.16|         305.38|                         0|                       null|          1|      INDIVIDUAL|            null|     null|                     null|             0|        null|       null|       null|      null|       null|       null|              null|        null|   null|       null|       null|      null|    null|            null|  null|       null|        null|          1|\n",
      "|    10000|      10000|        10000.0| 36 months|   10.65|     325.74|    B|       B2|   3 years|          RENT|  100000.0|    Source Verified|         n|             other| 7.06|          0|             2|                  null|                  null|      14|      0|    11997|      55.5|       29|                  f|      0.0|          0.0|    7471.99|        7471.99|        5433.47|      1393.42|               0.0|     645.1|                 6.3145|         325.74|                         0|                       null|          1|      INDIVIDUAL|            null|     null|                     null|             0|        null|       null|       null|      null|       null|       null|              null|        null|   null|       null|       null|      null|    null|            null|  null|       null|        null|          1|\n",
      "|     1000|       1000|         1000.0| 36 months|   16.29|      35.31|    D|       D1|  < 1 year|          RENT|   28000.0|       Not Verified|         n|debt_consolidation|20.31|          0|             1|                  null|                  null|      11|      0|     6524|      81.5|       23|                  f|      0.0|          0.0|1270.171106|        1270.17|         1000.0|       270.17|               0.0|       0.0|                    0.0|          36.32|                         0|                       null|          1|      INDIVIDUAL|            null|     null|                     null|             0|        null|       null|       null|      null|       null|       null|              null|        null|   null|       null|       null|      null|    null|            null|  null|       null|        null|          0|\n",
      "|    10000|      10000|        10000.0| 36 months|   15.27|     347.98|    C|       C4|   4 years|          RENT|   42000.0|       Not Verified|         n|  home_improvement| 18.6|          0|             2|                    61|                  null|      14|      0|    24043|      70.2|       28|                  f|      0.0|          0.0|12519.26045|       12519.26|        10000.0|      2519.26|               0.0|       0.0|                    0.0|         370.46|                         0|                       null|          1|      INDIVIDUAL|            null|     null|                     null|             0|        null|       null|       null|      null|       null|       null|              null|        null|   null|       null|       null|      null|    null|            null|  null|       null|        null|          0|\n",
      "|     3600|       3600|         3600.0| 36 months|    6.03|     109.57|    A|       A1| 10+ years|      MORTGAGE|  110000.0|       Not Verified|         n|    major_purchase|10.52|          0|             0|                  null|                  null|      20|      0|    22836|      16.0|       42|                  f|      0.0|          0.0|    3785.02|        3785.02|         3600.0|       185.02|               0.0|       0.0|                    0.0|         583.45|                         0|                       null|          1|      INDIVIDUAL|            null|     null|                     null|             0|        null|       null|       null|      null|       null|       null|              null|        null|   null|       null|       null|      null|    null|            null|  null|       null|        null|          0|\n",
      "|     6000|       6000|         6000.0| 36 months|   11.71|     198.46|    B|       B3|    1 year|      MORTGAGE|   84000.0|           Verified|         n|           medical|18.44|          2|             0|                     8|                  null|       4|      0|        0|     37.73|       14|                  f|      0.0|          0.0|7164.499852|         7164.5|         6000.0|       1149.5|              15.0|       0.0|                    0.0|          16.98|                         0|                       null|          1|      INDIVIDUAL|            null|     null|                     null|             0|        null|       null|       null|      null|       null|       null|              null|        null|   null|       null|       null|      null|    null|            null|  null|       null|        null|          0|\n",
      "|     9200|       9200|         9200.0| 36 months|    6.03|     280.01|    A|       A1|   6 years|          RENT|  77385.19|       Not Verified|         n|debt_consolidation| 9.86|          0|             0|                  null|                  null|       8|      0|     7314|      23.1|       28|                  f|      0.0|          0.0|    9459.96|        9459.96|         9200.0|       259.96|               0.0|       0.0|                    0.0|         8061.1|                         0|                       null|          1|      INDIVIDUAL|            null|     null|                     null|             0|        null|       null|       null|      null|       null|       null|              null|        null|   null|       null|       null|      null|    null|            null|  null|       null|        null|          0|\n",
      "|    21000|      21000|        21000.0| 36 months|   12.42|     701.73|    B|       B4| 10+ years|          RENT|  105000.0|           Verified|         n|debt_consolidation|13.22|          0|             0|                  null|                  null|       7|      0|    32135|      90.3|       38|                  f|      0.0|          0.0|    14025.4|        14025.4|       10694.96|      3330.44|               0.0|       0.0|                    0.0|         701.73|                         0|                       null|          1|      INDIVIDUAL|            null|     null|                     null|             0|        null|       null|       null|      null|       null|       null|              null|        null|   null|       null|       null|      null|    null|            null|  null|       null|        null|          1|\n",
      "|    10000|      10000|        10000.0| 36 months|   11.71|     330.76|    B|       B3|   5 years|          RENT|   50000.0|       Not Verified|         n|debt_consolidation|16.01|          0|             0|                  null|                  null|       6|      0|    17800|      91.8|       17|                  f|      0.0|          0.0|   11536.31|       11536.31|        10000.0|      1536.31|               0.0|       0.0|                    0.0|        4942.63|                         0|                       null|          1|      INDIVIDUAL|            null|     null|                     null|             0|        null|       null|       null|      null|       null|       null|              null|        null|   null|       null|       null|      null|    null|            null|  null|       null|        null|          0|\n",
      "|     6000|       6000|         6000.0| 36 months|   11.71|     198.46|    B|       B3|    1 year|          RENT|   76000.0|       Not Verified|         n|    major_purchase|  2.4|          0|             1|                  null|                  null|       7|      0|     5963|      29.7|        7|                  f|      0.0|          0.0|    2050.14|        2050.14|        1305.58|       475.25|               0.0|    269.31|                   2.57|         198.46|                         0|                       null|          1|      INDIVIDUAL|            null|     null|                     null|             0|        null|       null|       null|      null|       null|       null|              null|        null|   null|       null|       null|      null|    null|            null|  null|       null|        null|          1|\n",
      "|    15000|      15000|        15000.0| 36 months|    9.91|     483.38|    B|       B1|   2 years|      MORTGAGE|   92000.0|           Verified|         n|       credit_card|29.44|          0|             0|                  null|                  null|       8|      0|    13707|      93.9|       31|                  f|      0.0|          0.0|   15823.48|       15823.48|        15000.0|       823.48|               0.0|       0.0|                    0.0|        2447.05|                         0|                       null|          1|      INDIVIDUAL|            null|     null|                     null|             0|        null|       null|       null|      null|       null|       null|              null|        null|   null|       null|       null|      null|    null|            null|  null|       null|        null|          0|\n",
      "|    15000|      15000|         8725.0| 36 months|   14.27|     514.64|    C|       C2|   9 years|          RENT|   60000.0|       Not Verified|         n|debt_consolidation|15.22|          0|             1|                  null|                  null|       7|      0|     5872|      57.6|       11|                  f|      0.0|          0.0|        0.0|            0.0|            0.0|          0.0|               0.0|       0.0|                    0.0|            0.0|                         0|                       null|          1|      INDIVIDUAL|            null|     null|                     null|             0|        null|       null|       null|      null|       null|       null|              null|        null|   null|       null|       null|      null|    null|            null|  null|       null|        null|          1|\n",
      "|     5000|       5000|         5000.0| 60 months|   16.77|     123.65|    D|       D2|   2 years|          RENT|   50004.0|       Not Verified|         n|             other|13.97|          3|             0|                    20|                  null|      14|      0|     4345|      59.5|       22|                  f|      0.0|          0.0|    1609.12|        1609.12|         629.05|       719.11|               0.0|    260.96|                    2.3|         123.65|                         0|                       null|          1|      INDIVIDUAL|            null|     null|                     null|             0|        null|       null|       null|      null|       null|       null|              null|        null|   null|       null|       null|      null|    null|            null|  null|       null|        null|          1|\n",
      "+---------+-----------+---------------+----------+--------+-----------+-----+---------+----------+--------------+----------+-------------------+----------+------------------+-----+-----------+--------------+----------------------+----------------------+--------+-------+---------+----------+---------+-------------------+---------+-------------+-----------+---------------+---------------+-------------+------------------+----------+-----------------------+---------------+--------------------------+---------------------------+-----------+----------------+----------------+---------+-------------------------+--------------+------------+-----------+-----------+----------+-----------+-----------+------------------+------------+-------+-----------+-----------+----------+--------+----------------+------+-----------+------------+-----------+\n",
      "only showing top 20 rows\n",
      "\n"
     ]
    }
   ],
   "source": [
    "df.show()"
   ]
  },
  {
   "cell_type": "code",
   "execution_count": 15,
   "metadata": {},
   "outputs": [
    {
     "data": {
      "text/plain": [
       "61"
      ]
     },
     "execution_count": 15,
     "metadata": {},
     "output_type": "execute_result"
    }
   ],
   "source": [
    "len(df.columns)"
   ]
  },
  {
   "cell_type": "code",
   "execution_count": 16,
   "metadata": {},
   "outputs": [
    {
     "name": "stdout",
     "output_type": "stream",
     "text": [
      "+-----------+------+\n",
      "|policy_code| count|\n",
      "+-----------+------+\n",
      "|          1|804074|\n",
      "+-----------+------+\n",
      "\n"
     ]
    }
   ],
   "source": [
    "df.groupBy(df[\"policy_code\"]).count().sort(\"count\", ascending=False).show()"
   ]
  },
  {
   "attachments": {},
   "cell_type": "markdown",
   "metadata": {},
   "source": [
    "All the policy has the same policy_code. Therefore this column will be dropped"
   ]
  },
  {
   "cell_type": "code",
   "execution_count": 17,
   "metadata": {},
   "outputs": [],
   "source": [
    "df = df.drop('policy_code')"
   ]
  },
  {
   "cell_type": "code",
   "execution_count": 18,
   "metadata": {},
   "outputs": [
    {
     "name": "stdout",
     "output_type": "stream",
     "text": [
      "+-----------+------+\n",
      "|default_ind| count|\n",
      "+-----------+------+\n",
      "|          1| 40660|\n",
      "|          0|763414|\n",
      "+-----------+------+\n",
      "\n"
     ]
    }
   ],
   "source": [
    "df.groupBy(df[\"default_ind\"]).count().show()"
   ]
  },
  {
   "attachments": {},
   "cell_type": "markdown",
   "metadata": {},
   "source": [
    "5% of the data are `default`"
   ]
  },
  {
   "attachments": {},
   "cell_type": "markdown",
   "metadata": {},
   "source": [
    "Visualisation of default diagram"
   ]
  },
  {
   "cell_type": "code",
   "execution_count": 19,
   "metadata": {},
   "outputs": [
    {
     "name": "stderr",
     "output_type": "stream",
     "text": [
      "WARNING:root:'PYARROW_IGNORE_TIMEZONE' environment variable was not set. It is required to set this environment variable to '1' in both driver and executor sides if you use pyarrow>=2.0.0. pandas-on-Spark will set it for you but it does not work if there is a Spark context already launched.\n",
      "/home/huukhang1512/.local/lib/python3.9/site-packages/scipy/__init__.py:146: UserWarning: A NumPy version >=1.16.5 and <1.23.0 is required for this version of SciPy (detected version 1.24.3\n",
      "  warnings.warn(f\"A NumPy version >={np_minversion} and <{np_maxversion}\"\n"
     ]
    },
    {
     "data": {
      "application/vnd.plotly.v1+json": {
       "config": {
        "plotlyServerURL": "https://plot.ly"
       },
       "data": [
        {
         "domain": {
          "x": [
           0,
           1
          ],
          "y": [
           0,
           1
          ]
         },
         "hovertemplate": "default_ind=%{label}<br>count=%{value}<extra></extra>",
         "labels": [
          1,
          0
         ],
         "legendgroup": "",
         "name": "",
         "showlegend": true,
         "type": "pie",
         "values": [
          40660,
          763414
         ]
        }
       ],
       "layout": {
        "legend": {
         "tracegroupgap": 0
        },
        "margin": {
         "t": 60
        },
        "template": {
         "data": {
          "bar": [
           {
            "error_x": {
             "color": "#2a3f5f"
            },
            "error_y": {
             "color": "#2a3f5f"
            },
            "marker": {
             "line": {
              "color": "#E5ECF6",
              "width": 0.5
             },
             "pattern": {
              "fillmode": "overlay",
              "size": 10,
              "solidity": 0.2
             }
            },
            "type": "bar"
           }
          ],
          "barpolar": [
           {
            "marker": {
             "line": {
              "color": "#E5ECF6",
              "width": 0.5
             },
             "pattern": {
              "fillmode": "overlay",
              "size": 10,
              "solidity": 0.2
             }
            },
            "type": "barpolar"
           }
          ],
          "carpet": [
           {
            "aaxis": {
             "endlinecolor": "#2a3f5f",
             "gridcolor": "white",
             "linecolor": "white",
             "minorgridcolor": "white",
             "startlinecolor": "#2a3f5f"
            },
            "baxis": {
             "endlinecolor": "#2a3f5f",
             "gridcolor": "white",
             "linecolor": "white",
             "minorgridcolor": "white",
             "startlinecolor": "#2a3f5f"
            },
            "type": "carpet"
           }
          ],
          "choropleth": [
           {
            "colorbar": {
             "outlinewidth": 0,
             "ticks": ""
            },
            "type": "choropleth"
           }
          ],
          "contour": [
           {
            "colorbar": {
             "outlinewidth": 0,
             "ticks": ""
            },
            "colorscale": [
             [
              0,
              "#0d0887"
             ],
             [
              0.1111111111111111,
              "#46039f"
             ],
             [
              0.2222222222222222,
              "#7201a8"
             ],
             [
              0.3333333333333333,
              "#9c179e"
             ],
             [
              0.4444444444444444,
              "#bd3786"
             ],
             [
              0.5555555555555556,
              "#d8576b"
             ],
             [
              0.6666666666666666,
              "#ed7953"
             ],
             [
              0.7777777777777778,
              "#fb9f3a"
             ],
             [
              0.8888888888888888,
              "#fdca26"
             ],
             [
              1,
              "#f0f921"
             ]
            ],
            "type": "contour"
           }
          ],
          "contourcarpet": [
           {
            "colorbar": {
             "outlinewidth": 0,
             "ticks": ""
            },
            "type": "contourcarpet"
           }
          ],
          "heatmap": [
           {
            "colorbar": {
             "outlinewidth": 0,
             "ticks": ""
            },
            "colorscale": [
             [
              0,
              "#0d0887"
             ],
             [
              0.1111111111111111,
              "#46039f"
             ],
             [
              0.2222222222222222,
              "#7201a8"
             ],
             [
              0.3333333333333333,
              "#9c179e"
             ],
             [
              0.4444444444444444,
              "#bd3786"
             ],
             [
              0.5555555555555556,
              "#d8576b"
             ],
             [
              0.6666666666666666,
              "#ed7953"
             ],
             [
              0.7777777777777778,
              "#fb9f3a"
             ],
             [
              0.8888888888888888,
              "#fdca26"
             ],
             [
              1,
              "#f0f921"
             ]
            ],
            "type": "heatmap"
           }
          ],
          "heatmapgl": [
           {
            "colorbar": {
             "outlinewidth": 0,
             "ticks": ""
            },
            "colorscale": [
             [
              0,
              "#0d0887"
             ],
             [
              0.1111111111111111,
              "#46039f"
             ],
             [
              0.2222222222222222,
              "#7201a8"
             ],
             [
              0.3333333333333333,
              "#9c179e"
             ],
             [
              0.4444444444444444,
              "#bd3786"
             ],
             [
              0.5555555555555556,
              "#d8576b"
             ],
             [
              0.6666666666666666,
              "#ed7953"
             ],
             [
              0.7777777777777778,
              "#fb9f3a"
             ],
             [
              0.8888888888888888,
              "#fdca26"
             ],
             [
              1,
              "#f0f921"
             ]
            ],
            "type": "heatmapgl"
           }
          ],
          "histogram": [
           {
            "marker": {
             "pattern": {
              "fillmode": "overlay",
              "size": 10,
              "solidity": 0.2
             }
            },
            "type": "histogram"
           }
          ],
          "histogram2d": [
           {
            "colorbar": {
             "outlinewidth": 0,
             "ticks": ""
            },
            "colorscale": [
             [
              0,
              "#0d0887"
             ],
             [
              0.1111111111111111,
              "#46039f"
             ],
             [
              0.2222222222222222,
              "#7201a8"
             ],
             [
              0.3333333333333333,
              "#9c179e"
             ],
             [
              0.4444444444444444,
              "#bd3786"
             ],
             [
              0.5555555555555556,
              "#d8576b"
             ],
             [
              0.6666666666666666,
              "#ed7953"
             ],
             [
              0.7777777777777778,
              "#fb9f3a"
             ],
             [
              0.8888888888888888,
              "#fdca26"
             ],
             [
              1,
              "#f0f921"
             ]
            ],
            "type": "histogram2d"
           }
          ],
          "histogram2dcontour": [
           {
            "colorbar": {
             "outlinewidth": 0,
             "ticks": ""
            },
            "colorscale": [
             [
              0,
              "#0d0887"
             ],
             [
              0.1111111111111111,
              "#46039f"
             ],
             [
              0.2222222222222222,
              "#7201a8"
             ],
             [
              0.3333333333333333,
              "#9c179e"
             ],
             [
              0.4444444444444444,
              "#bd3786"
             ],
             [
              0.5555555555555556,
              "#d8576b"
             ],
             [
              0.6666666666666666,
              "#ed7953"
             ],
             [
              0.7777777777777778,
              "#fb9f3a"
             ],
             [
              0.8888888888888888,
              "#fdca26"
             ],
             [
              1,
              "#f0f921"
             ]
            ],
            "type": "histogram2dcontour"
           }
          ],
          "mesh3d": [
           {
            "colorbar": {
             "outlinewidth": 0,
             "ticks": ""
            },
            "type": "mesh3d"
           }
          ],
          "parcoords": [
           {
            "line": {
             "colorbar": {
              "outlinewidth": 0,
              "ticks": ""
             }
            },
            "type": "parcoords"
           }
          ],
          "pie": [
           {
            "automargin": true,
            "type": "pie"
           }
          ],
          "scatter": [
           {
            "fillpattern": {
             "fillmode": "overlay",
             "size": 10,
             "solidity": 0.2
            },
            "type": "scatter"
           }
          ],
          "scatter3d": [
           {
            "line": {
             "colorbar": {
              "outlinewidth": 0,
              "ticks": ""
             }
            },
            "marker": {
             "colorbar": {
              "outlinewidth": 0,
              "ticks": ""
             }
            },
            "type": "scatter3d"
           }
          ],
          "scattercarpet": [
           {
            "marker": {
             "colorbar": {
              "outlinewidth": 0,
              "ticks": ""
             }
            },
            "type": "scattercarpet"
           }
          ],
          "scattergeo": [
           {
            "marker": {
             "colorbar": {
              "outlinewidth": 0,
              "ticks": ""
             }
            },
            "type": "scattergeo"
           }
          ],
          "scattergl": [
           {
            "marker": {
             "colorbar": {
              "outlinewidth": 0,
              "ticks": ""
             }
            },
            "type": "scattergl"
           }
          ],
          "scattermapbox": [
           {
            "marker": {
             "colorbar": {
              "outlinewidth": 0,
              "ticks": ""
             }
            },
            "type": "scattermapbox"
           }
          ],
          "scatterpolar": [
           {
            "marker": {
             "colorbar": {
              "outlinewidth": 0,
              "ticks": ""
             }
            },
            "type": "scatterpolar"
           }
          ],
          "scatterpolargl": [
           {
            "marker": {
             "colorbar": {
              "outlinewidth": 0,
              "ticks": ""
             }
            },
            "type": "scatterpolargl"
           }
          ],
          "scatterternary": [
           {
            "marker": {
             "colorbar": {
              "outlinewidth": 0,
              "ticks": ""
             }
            },
            "type": "scatterternary"
           }
          ],
          "surface": [
           {
            "colorbar": {
             "outlinewidth": 0,
             "ticks": ""
            },
            "colorscale": [
             [
              0,
              "#0d0887"
             ],
             [
              0.1111111111111111,
              "#46039f"
             ],
             [
              0.2222222222222222,
              "#7201a8"
             ],
             [
              0.3333333333333333,
              "#9c179e"
             ],
             [
              0.4444444444444444,
              "#bd3786"
             ],
             [
              0.5555555555555556,
              "#d8576b"
             ],
             [
              0.6666666666666666,
              "#ed7953"
             ],
             [
              0.7777777777777778,
              "#fb9f3a"
             ],
             [
              0.8888888888888888,
              "#fdca26"
             ],
             [
              1,
              "#f0f921"
             ]
            ],
            "type": "surface"
           }
          ],
          "table": [
           {
            "cells": {
             "fill": {
              "color": "#EBF0F8"
             },
             "line": {
              "color": "white"
             }
            },
            "header": {
             "fill": {
              "color": "#C8D4E3"
             },
             "line": {
              "color": "white"
             }
            },
            "type": "table"
           }
          ]
         },
         "layout": {
          "annotationdefaults": {
           "arrowcolor": "#2a3f5f",
           "arrowhead": 0,
           "arrowwidth": 1
          },
          "autotypenumbers": "strict",
          "coloraxis": {
           "colorbar": {
            "outlinewidth": 0,
            "ticks": ""
           }
          },
          "colorscale": {
           "diverging": [
            [
             0,
             "#8e0152"
            ],
            [
             0.1,
             "#c51b7d"
            ],
            [
             0.2,
             "#de77ae"
            ],
            [
             0.3,
             "#f1b6da"
            ],
            [
             0.4,
             "#fde0ef"
            ],
            [
             0.5,
             "#f7f7f7"
            ],
            [
             0.6,
             "#e6f5d0"
            ],
            [
             0.7,
             "#b8e186"
            ],
            [
             0.8,
             "#7fbc41"
            ],
            [
             0.9,
             "#4d9221"
            ],
            [
             1,
             "#276419"
            ]
           ],
           "sequential": [
            [
             0,
             "#0d0887"
            ],
            [
             0.1111111111111111,
             "#46039f"
            ],
            [
             0.2222222222222222,
             "#7201a8"
            ],
            [
             0.3333333333333333,
             "#9c179e"
            ],
            [
             0.4444444444444444,
             "#bd3786"
            ],
            [
             0.5555555555555556,
             "#d8576b"
            ],
            [
             0.6666666666666666,
             "#ed7953"
            ],
            [
             0.7777777777777778,
             "#fb9f3a"
            ],
            [
             0.8888888888888888,
             "#fdca26"
            ],
            [
             1,
             "#f0f921"
            ]
           ],
           "sequentialminus": [
            [
             0,
             "#0d0887"
            ],
            [
             0.1111111111111111,
             "#46039f"
            ],
            [
             0.2222222222222222,
             "#7201a8"
            ],
            [
             0.3333333333333333,
             "#9c179e"
            ],
            [
             0.4444444444444444,
             "#bd3786"
            ],
            [
             0.5555555555555556,
             "#d8576b"
            ],
            [
             0.6666666666666666,
             "#ed7953"
            ],
            [
             0.7777777777777778,
             "#fb9f3a"
            ],
            [
             0.8888888888888888,
             "#fdca26"
            ],
            [
             1,
             "#f0f921"
            ]
           ]
          },
          "colorway": [
           "#636efa",
           "#EF553B",
           "#00cc96",
           "#ab63fa",
           "#FFA15A",
           "#19d3f3",
           "#FF6692",
           "#B6E880",
           "#FF97FF",
           "#FECB52"
          ],
          "font": {
           "color": "#2a3f5f"
          },
          "geo": {
           "bgcolor": "white",
           "lakecolor": "white",
           "landcolor": "#E5ECF6",
           "showlakes": true,
           "showland": true,
           "subunitcolor": "white"
          },
          "hoverlabel": {
           "align": "left"
          },
          "hovermode": "closest",
          "mapbox": {
           "style": "light"
          },
          "paper_bgcolor": "white",
          "plot_bgcolor": "#E5ECF6",
          "polar": {
           "angularaxis": {
            "gridcolor": "white",
            "linecolor": "white",
            "ticks": ""
           },
           "bgcolor": "#E5ECF6",
           "radialaxis": {
            "gridcolor": "white",
            "linecolor": "white",
            "ticks": ""
           }
          },
          "scene": {
           "xaxis": {
            "backgroundcolor": "#E5ECF6",
            "gridcolor": "white",
            "gridwidth": 2,
            "linecolor": "white",
            "showbackground": true,
            "ticks": "",
            "zerolinecolor": "white"
           },
           "yaxis": {
            "backgroundcolor": "#E5ECF6",
            "gridcolor": "white",
            "gridwidth": 2,
            "linecolor": "white",
            "showbackground": true,
            "ticks": "",
            "zerolinecolor": "white"
           },
           "zaxis": {
            "backgroundcolor": "#E5ECF6",
            "gridcolor": "white",
            "gridwidth": 2,
            "linecolor": "white",
            "showbackground": true,
            "ticks": "",
            "zerolinecolor": "white"
           }
          },
          "shapedefaults": {
           "line": {
            "color": "#2a3f5f"
           }
          },
          "ternary": {
           "aaxis": {
            "gridcolor": "white",
            "linecolor": "white",
            "ticks": ""
           },
           "baxis": {
            "gridcolor": "white",
            "linecolor": "white",
            "ticks": ""
           },
           "bgcolor": "#E5ECF6",
           "caxis": {
            "gridcolor": "white",
            "linecolor": "white",
            "ticks": ""
           }
          },
          "title": {
           "x": 0.05
          },
          "xaxis": {
           "automargin": true,
           "gridcolor": "white",
           "linecolor": "white",
           "ticks": "",
           "title": {
            "standoff": 15
           },
           "zerolinecolor": "white",
           "zerolinewidth": 2
          },
          "yaxis": {
           "automargin": true,
           "gridcolor": "white",
           "linecolor": "white",
           "ticks": "",
           "title": {
            "standoff": 15
           },
           "zerolinecolor": "white",
           "zerolinewidth": 2
          }
         }
        }
       }
      }
     },
     "metadata": {},
     "output_type": "display_data"
    }
   ],
   "source": [
    "df.groupby(['default_ind']).count().to_pandas_on_spark(index_col='default_ind').plot.pie(y='count')"
   ]
  },
  {
   "attachments": {},
   "cell_type": "markdown",
   "metadata": {},
   "source": [
    "We will need to resample a training data that will have equal distribution (50/50) of default and non-default rows"
   ]
  },
  {
   "cell_type": "code",
   "execution_count": 20,
   "metadata": {},
   "outputs": [
    {
     "name": "stdout",
     "output_type": "stream",
     "text": [
      "+--------------+------+\n",
      "|home_ownership| count|\n",
      "+--------------+------+\n",
      "|           OWN| 80448|\n",
      "|          RENT|320233|\n",
      "|      MORTGAGE|403274|\n",
      "|         OTHER|    81|\n",
      "|          NONE|    35|\n",
      "|           ANY|     3|\n",
      "+--------------+------+\n",
      "\n"
     ]
    }
   ],
   "source": [
    "df.groupby(['home_ownership']).count().show()\n"
   ]
  },
  {
   "attachments": {},
   "cell_type": "markdown",
   "metadata": {},
   "source": [
    "The majority of borrowers are either paying mortgage or renting a home. Around 10% of borrower actually own the house. Lastly, around 0.0148% of borrowers are in the OTHER, NONE, and ANY category. These remaining fields should be consolidate into one as 'OTHER' field."
   ]
  },
  {
   "cell_type": "code",
   "execution_count": 21,
   "metadata": {},
   "outputs": [],
   "source": [
    "df = df.replace(['NONE', 'ANY', '2 years'], 'OTHER', 'home_ownership')"
   ]
  },
  {
   "cell_type": "code",
   "execution_count": 22,
   "metadata": {},
   "outputs": [
    {
     "name": "stdout",
     "output_type": "stream",
     "text": [
      "+--------------+\n",
      "|home_ownership|\n",
      "+--------------+\n",
      "|           OWN|\n",
      "|          RENT|\n",
      "|      MORTGAGE|\n",
      "|         OTHER|\n",
      "+--------------+\n",
      "\n"
     ]
    }
   ],
   "source": [
    "df.select(['home_ownership']).distinct().show()"
   ]
  },
  {
   "cell_type": "code",
   "execution_count": 23,
   "metadata": {},
   "outputs": [
    {
     "data": {
      "application/vnd.plotly.v1+json": {
       "config": {
        "plotlyServerURL": "https://plot.ly"
       },
       "data": [
        {
         "domain": {
          "x": [
           0,
           1
          ],
          "y": [
           0,
           1
          ]
         },
         "hovertemplate": "home_ownership=%{label}<br>count=%{value}<extra></extra>",
         "labels": [
          "OWN",
          "RENT",
          "MORTGAGE",
          "OTHER"
         ],
         "legendgroup": "",
         "name": "",
         "showlegend": true,
         "type": "pie",
         "values": [
          80448,
          320233,
          403274,
          119
         ]
        }
       ],
       "layout": {
        "legend": {
         "tracegroupgap": 0
        },
        "margin": {
         "t": 60
        },
        "template": {
         "data": {
          "bar": [
           {
            "error_x": {
             "color": "#2a3f5f"
            },
            "error_y": {
             "color": "#2a3f5f"
            },
            "marker": {
             "line": {
              "color": "#E5ECF6",
              "width": 0.5
             },
             "pattern": {
              "fillmode": "overlay",
              "size": 10,
              "solidity": 0.2
             }
            },
            "type": "bar"
           }
          ],
          "barpolar": [
           {
            "marker": {
             "line": {
              "color": "#E5ECF6",
              "width": 0.5
             },
             "pattern": {
              "fillmode": "overlay",
              "size": 10,
              "solidity": 0.2
             }
            },
            "type": "barpolar"
           }
          ],
          "carpet": [
           {
            "aaxis": {
             "endlinecolor": "#2a3f5f",
             "gridcolor": "white",
             "linecolor": "white",
             "minorgridcolor": "white",
             "startlinecolor": "#2a3f5f"
            },
            "baxis": {
             "endlinecolor": "#2a3f5f",
             "gridcolor": "white",
             "linecolor": "white",
             "minorgridcolor": "white",
             "startlinecolor": "#2a3f5f"
            },
            "type": "carpet"
           }
          ],
          "choropleth": [
           {
            "colorbar": {
             "outlinewidth": 0,
             "ticks": ""
            },
            "type": "choropleth"
           }
          ],
          "contour": [
           {
            "colorbar": {
             "outlinewidth": 0,
             "ticks": ""
            },
            "colorscale": [
             [
              0,
              "#0d0887"
             ],
             [
              0.1111111111111111,
              "#46039f"
             ],
             [
              0.2222222222222222,
              "#7201a8"
             ],
             [
              0.3333333333333333,
              "#9c179e"
             ],
             [
              0.4444444444444444,
              "#bd3786"
             ],
             [
              0.5555555555555556,
              "#d8576b"
             ],
             [
              0.6666666666666666,
              "#ed7953"
             ],
             [
              0.7777777777777778,
              "#fb9f3a"
             ],
             [
              0.8888888888888888,
              "#fdca26"
             ],
             [
              1,
              "#f0f921"
             ]
            ],
            "type": "contour"
           }
          ],
          "contourcarpet": [
           {
            "colorbar": {
             "outlinewidth": 0,
             "ticks": ""
            },
            "type": "contourcarpet"
           }
          ],
          "heatmap": [
           {
            "colorbar": {
             "outlinewidth": 0,
             "ticks": ""
            },
            "colorscale": [
             [
              0,
              "#0d0887"
             ],
             [
              0.1111111111111111,
              "#46039f"
             ],
             [
              0.2222222222222222,
              "#7201a8"
             ],
             [
              0.3333333333333333,
              "#9c179e"
             ],
             [
              0.4444444444444444,
              "#bd3786"
             ],
             [
              0.5555555555555556,
              "#d8576b"
             ],
             [
              0.6666666666666666,
              "#ed7953"
             ],
             [
              0.7777777777777778,
              "#fb9f3a"
             ],
             [
              0.8888888888888888,
              "#fdca26"
             ],
             [
              1,
              "#f0f921"
             ]
            ],
            "type": "heatmap"
           }
          ],
          "heatmapgl": [
           {
            "colorbar": {
             "outlinewidth": 0,
             "ticks": ""
            },
            "colorscale": [
             [
              0,
              "#0d0887"
             ],
             [
              0.1111111111111111,
              "#46039f"
             ],
             [
              0.2222222222222222,
              "#7201a8"
             ],
             [
              0.3333333333333333,
              "#9c179e"
             ],
             [
              0.4444444444444444,
              "#bd3786"
             ],
             [
              0.5555555555555556,
              "#d8576b"
             ],
             [
              0.6666666666666666,
              "#ed7953"
             ],
             [
              0.7777777777777778,
              "#fb9f3a"
             ],
             [
              0.8888888888888888,
              "#fdca26"
             ],
             [
              1,
              "#f0f921"
             ]
            ],
            "type": "heatmapgl"
           }
          ],
          "histogram": [
           {
            "marker": {
             "pattern": {
              "fillmode": "overlay",
              "size": 10,
              "solidity": 0.2
             }
            },
            "type": "histogram"
           }
          ],
          "histogram2d": [
           {
            "colorbar": {
             "outlinewidth": 0,
             "ticks": ""
            },
            "colorscale": [
             [
              0,
              "#0d0887"
             ],
             [
              0.1111111111111111,
              "#46039f"
             ],
             [
              0.2222222222222222,
              "#7201a8"
             ],
             [
              0.3333333333333333,
              "#9c179e"
             ],
             [
              0.4444444444444444,
              "#bd3786"
             ],
             [
              0.5555555555555556,
              "#d8576b"
             ],
             [
              0.6666666666666666,
              "#ed7953"
             ],
             [
              0.7777777777777778,
              "#fb9f3a"
             ],
             [
              0.8888888888888888,
              "#fdca26"
             ],
             [
              1,
              "#f0f921"
             ]
            ],
            "type": "histogram2d"
           }
          ],
          "histogram2dcontour": [
           {
            "colorbar": {
             "outlinewidth": 0,
             "ticks": ""
            },
            "colorscale": [
             [
              0,
              "#0d0887"
             ],
             [
              0.1111111111111111,
              "#46039f"
             ],
             [
              0.2222222222222222,
              "#7201a8"
             ],
             [
              0.3333333333333333,
              "#9c179e"
             ],
             [
              0.4444444444444444,
              "#bd3786"
             ],
             [
              0.5555555555555556,
              "#d8576b"
             ],
             [
              0.6666666666666666,
              "#ed7953"
             ],
             [
              0.7777777777777778,
              "#fb9f3a"
             ],
             [
              0.8888888888888888,
              "#fdca26"
             ],
             [
              1,
              "#f0f921"
             ]
            ],
            "type": "histogram2dcontour"
           }
          ],
          "mesh3d": [
           {
            "colorbar": {
             "outlinewidth": 0,
             "ticks": ""
            },
            "type": "mesh3d"
           }
          ],
          "parcoords": [
           {
            "line": {
             "colorbar": {
              "outlinewidth": 0,
              "ticks": ""
             }
            },
            "type": "parcoords"
           }
          ],
          "pie": [
           {
            "automargin": true,
            "type": "pie"
           }
          ],
          "scatter": [
           {
            "fillpattern": {
             "fillmode": "overlay",
             "size": 10,
             "solidity": 0.2
            },
            "type": "scatter"
           }
          ],
          "scatter3d": [
           {
            "line": {
             "colorbar": {
              "outlinewidth": 0,
              "ticks": ""
             }
            },
            "marker": {
             "colorbar": {
              "outlinewidth": 0,
              "ticks": ""
             }
            },
            "type": "scatter3d"
           }
          ],
          "scattercarpet": [
           {
            "marker": {
             "colorbar": {
              "outlinewidth": 0,
              "ticks": ""
             }
            },
            "type": "scattercarpet"
           }
          ],
          "scattergeo": [
           {
            "marker": {
             "colorbar": {
              "outlinewidth": 0,
              "ticks": ""
             }
            },
            "type": "scattergeo"
           }
          ],
          "scattergl": [
           {
            "marker": {
             "colorbar": {
              "outlinewidth": 0,
              "ticks": ""
             }
            },
            "type": "scattergl"
           }
          ],
          "scattermapbox": [
           {
            "marker": {
             "colorbar": {
              "outlinewidth": 0,
              "ticks": ""
             }
            },
            "type": "scattermapbox"
           }
          ],
          "scatterpolar": [
           {
            "marker": {
             "colorbar": {
              "outlinewidth": 0,
              "ticks": ""
             }
            },
            "type": "scatterpolar"
           }
          ],
          "scatterpolargl": [
           {
            "marker": {
             "colorbar": {
              "outlinewidth": 0,
              "ticks": ""
             }
            },
            "type": "scatterpolargl"
           }
          ],
          "scatterternary": [
           {
            "marker": {
             "colorbar": {
              "outlinewidth": 0,
              "ticks": ""
             }
            },
            "type": "scatterternary"
           }
          ],
          "surface": [
           {
            "colorbar": {
             "outlinewidth": 0,
             "ticks": ""
            },
            "colorscale": [
             [
              0,
              "#0d0887"
             ],
             [
              0.1111111111111111,
              "#46039f"
             ],
             [
              0.2222222222222222,
              "#7201a8"
             ],
             [
              0.3333333333333333,
              "#9c179e"
             ],
             [
              0.4444444444444444,
              "#bd3786"
             ],
             [
              0.5555555555555556,
              "#d8576b"
             ],
             [
              0.6666666666666666,
              "#ed7953"
             ],
             [
              0.7777777777777778,
              "#fb9f3a"
             ],
             [
              0.8888888888888888,
              "#fdca26"
             ],
             [
              1,
              "#f0f921"
             ]
            ],
            "type": "surface"
           }
          ],
          "table": [
           {
            "cells": {
             "fill": {
              "color": "#EBF0F8"
             },
             "line": {
              "color": "white"
             }
            },
            "header": {
             "fill": {
              "color": "#C8D4E3"
             },
             "line": {
              "color": "white"
             }
            },
            "type": "table"
           }
          ]
         },
         "layout": {
          "annotationdefaults": {
           "arrowcolor": "#2a3f5f",
           "arrowhead": 0,
           "arrowwidth": 1
          },
          "autotypenumbers": "strict",
          "coloraxis": {
           "colorbar": {
            "outlinewidth": 0,
            "ticks": ""
           }
          },
          "colorscale": {
           "diverging": [
            [
             0,
             "#8e0152"
            ],
            [
             0.1,
             "#c51b7d"
            ],
            [
             0.2,
             "#de77ae"
            ],
            [
             0.3,
             "#f1b6da"
            ],
            [
             0.4,
             "#fde0ef"
            ],
            [
             0.5,
             "#f7f7f7"
            ],
            [
             0.6,
             "#e6f5d0"
            ],
            [
             0.7,
             "#b8e186"
            ],
            [
             0.8,
             "#7fbc41"
            ],
            [
             0.9,
             "#4d9221"
            ],
            [
             1,
             "#276419"
            ]
           ],
           "sequential": [
            [
             0,
             "#0d0887"
            ],
            [
             0.1111111111111111,
             "#46039f"
            ],
            [
             0.2222222222222222,
             "#7201a8"
            ],
            [
             0.3333333333333333,
             "#9c179e"
            ],
            [
             0.4444444444444444,
             "#bd3786"
            ],
            [
             0.5555555555555556,
             "#d8576b"
            ],
            [
             0.6666666666666666,
             "#ed7953"
            ],
            [
             0.7777777777777778,
             "#fb9f3a"
            ],
            [
             0.8888888888888888,
             "#fdca26"
            ],
            [
             1,
             "#f0f921"
            ]
           ],
           "sequentialminus": [
            [
             0,
             "#0d0887"
            ],
            [
             0.1111111111111111,
             "#46039f"
            ],
            [
             0.2222222222222222,
             "#7201a8"
            ],
            [
             0.3333333333333333,
             "#9c179e"
            ],
            [
             0.4444444444444444,
             "#bd3786"
            ],
            [
             0.5555555555555556,
             "#d8576b"
            ],
            [
             0.6666666666666666,
             "#ed7953"
            ],
            [
             0.7777777777777778,
             "#fb9f3a"
            ],
            [
             0.8888888888888888,
             "#fdca26"
            ],
            [
             1,
             "#f0f921"
            ]
           ]
          },
          "colorway": [
           "#636efa",
           "#EF553B",
           "#00cc96",
           "#ab63fa",
           "#FFA15A",
           "#19d3f3",
           "#FF6692",
           "#B6E880",
           "#FF97FF",
           "#FECB52"
          ],
          "font": {
           "color": "#2a3f5f"
          },
          "geo": {
           "bgcolor": "white",
           "lakecolor": "white",
           "landcolor": "#E5ECF6",
           "showlakes": true,
           "showland": true,
           "subunitcolor": "white"
          },
          "hoverlabel": {
           "align": "left"
          },
          "hovermode": "closest",
          "mapbox": {
           "style": "light"
          },
          "paper_bgcolor": "white",
          "plot_bgcolor": "#E5ECF6",
          "polar": {
           "angularaxis": {
            "gridcolor": "white",
            "linecolor": "white",
            "ticks": ""
           },
           "bgcolor": "#E5ECF6",
           "radialaxis": {
            "gridcolor": "white",
            "linecolor": "white",
            "ticks": ""
           }
          },
          "scene": {
           "xaxis": {
            "backgroundcolor": "#E5ECF6",
            "gridcolor": "white",
            "gridwidth": 2,
            "linecolor": "white",
            "showbackground": true,
            "ticks": "",
            "zerolinecolor": "white"
           },
           "yaxis": {
            "backgroundcolor": "#E5ECF6",
            "gridcolor": "white",
            "gridwidth": 2,
            "linecolor": "white",
            "showbackground": true,
            "ticks": "",
            "zerolinecolor": "white"
           },
           "zaxis": {
            "backgroundcolor": "#E5ECF6",
            "gridcolor": "white",
            "gridwidth": 2,
            "linecolor": "white",
            "showbackground": true,
            "ticks": "",
            "zerolinecolor": "white"
           }
          },
          "shapedefaults": {
           "line": {
            "color": "#2a3f5f"
           }
          },
          "ternary": {
           "aaxis": {
            "gridcolor": "white",
            "linecolor": "white",
            "ticks": ""
           },
           "baxis": {
            "gridcolor": "white",
            "linecolor": "white",
            "ticks": ""
           },
           "bgcolor": "#E5ECF6",
           "caxis": {
            "gridcolor": "white",
            "linecolor": "white",
            "ticks": ""
           }
          },
          "title": {
           "x": 0.05
          },
          "xaxis": {
           "automargin": true,
           "gridcolor": "white",
           "linecolor": "white",
           "ticks": "",
           "title": {
            "standoff": 15
           },
           "zerolinecolor": "white",
           "zerolinewidth": 2
          },
          "yaxis": {
           "automargin": true,
           "gridcolor": "white",
           "linecolor": "white",
           "ticks": "",
           "title": {
            "standoff": 15
           },
           "zerolinecolor": "white",
           "zerolinewidth": 2
          }
         }
        }
       }
      }
     },
     "metadata": {},
     "output_type": "display_data"
    }
   ],
   "source": [
    "df.groupby(['home_ownership']).count().to_pandas_on_spark(index_col='home_ownership').plot.pie(y='count')"
   ]
  },
  {
   "attachments": {},
   "cell_type": "markdown",
   "metadata": {},
   "source": [
    "Let's check for the default rate among all home ownership types"
   ]
  },
  {
   "cell_type": "code",
   "execution_count": 24,
   "metadata": {},
   "outputs": [
    {
     "name": "stdout",
     "output_type": "stream",
     "text": [
      "+--------------+-----+\n",
      "|home_ownership|count|\n",
      "+--------------+-----+\n",
      "|           OWN| 3699|\n",
      "|          RENT|19203|\n",
      "|      MORTGAGE|17743|\n",
      "|         OTHER|   15|\n",
      "+--------------+-----+\n",
      "\n"
     ]
    }
   ],
   "source": [
    "df.select(['default_ind','home_ownership']).filter(df['default_ind'] == 1).groupby(['home_ownership']).count().show()"
   ]
  },
  {
   "attachments": {},
   "cell_type": "markdown",
   "metadata": {},
   "source": [
    "Tenants/renter seems more likely to default a loan"
   ]
  },
  {
   "cell_type": "code",
   "execution_count": 25,
   "metadata": {},
   "outputs": [
    {
     "name": "stdout",
     "output_type": "stream",
     "text": [
      "+--------------+------+\n",
      "|home_ownership| count|\n",
      "+--------------+------+\n",
      "|           OWN| 76749|\n",
      "|          RENT|301030|\n",
      "|      MORTGAGE|385531|\n",
      "|         OTHER|   104|\n",
      "+--------------+------+\n",
      "\n"
     ]
    }
   ],
   "source": [
    "df.select(['default_ind','home_ownership']).filter(df['default_ind'] == 0).groupby(['home_ownership']).count().show()"
   ]
  },
  {
   "cell_type": "code",
   "execution_count": 26,
   "metadata": {},
   "outputs": [
    {
     "name": "stdout",
     "output_type": "stream",
     "text": [
      "+----------+------+\n",
      "|pymnt_plan| count|\n",
      "+----------+------+\n",
      "|         n|804071|\n",
      "|         y|     3|\n",
      "+----------+------+\n",
      "\n"
     ]
    }
   ],
   "source": [
    "df.select(['pymnt_plan']).groupby(['pymnt_plan']).count().show()"
   ]
  },
  {
   "attachments": {},
   "cell_type": "markdown",
   "metadata": {},
   "source": [
    "Everything in this column is no, except for 3 yes. Therefore this column will be dropped"
   ]
  },
  {
   "cell_type": "code",
   "execution_count": 27,
   "metadata": {},
   "outputs": [],
   "source": [
    "df = df.drop('pymnt_plan')"
   ]
  },
  {
   "cell_type": "code",
   "execution_count": 28,
   "metadata": {},
   "outputs": [
    {
     "name": "stdout",
     "output_type": "stream",
     "text": [
      "+---------+-----------+---------------+----------+--------+-----------+-----+---------+----------+--------------+----------+-------------------+------------------+-----+-----------+--------------+----------------------+----------------------+--------+-------+---------+----------+---------+-------------------+---------+-------------+-----------+---------------+---------------+-------------+------------------+----------+-----------------------+---------------+--------------------------+---------------------------+----------------+----------------+---------+-------------------------+--------------+------------+-----------+-----------+----------+-----------+-----------+------------------+------------+-------+-----------+-----------+----------+--------+----------------+------+-----------+------------+-----------+\n",
      "|loan_amnt|funded_amnt|funded_amnt_inv|      term|int_rate|installment|grade|sub_grade|emp_length|home_ownership|annual_inc|verification_status|           purpose|  dti|delinq_2yrs|inq_last_6mths|mths_since_last_delinq|mths_since_last_record|open_acc|pub_rec|revol_bal|revol_util|total_acc|initial_list_status|out_prncp|out_prncp_inv|total_pymnt|total_pymnt_inv|total_rec_prncp|total_rec_int|total_rec_late_fee|recoveries|collection_recovery_fee|last_pymnt_amnt|collections_12_mths_ex_med|mths_since_last_major_derog|application_type|annual_inc_joint|dti_joint|verification_status_joint|acc_now_delinq|tot_coll_amt|tot_cur_bal|open_acc_6m|open_il_6m|open_il_12m|open_il_24m|mths_since_rcnt_il|total_bal_il|il_util|open_rv_12m|open_rv_24m|max_bal_bc|all_util|total_rev_hi_lim|inq_fi|total_cu_tl|inq_last_12m|default_ind|\n",
      "+---------+-----------+---------------+----------+--------+-----------+-----+---------+----------+--------------+----------+-------------------+------------------+-----+-----------+--------------+----------------------+----------------------+--------+-------+---------+----------+---------+-------------------+---------+-------------+-----------+---------------+---------------+-------------+------------------+----------+-----------------------+---------------+--------------------------+---------------------------+----------------+----------------+---------+-------------------------+--------------+------------+-----------+-----------+----------+-----------+-----------+------------------+------------+-------+-----------+-----------+----------+--------+----------------+------+-----------+------------+-----------+\n",
      "|     5000|       5000|         4975.0| 36 months|   10.65|     162.87|    B|       B2| 10+ years|          RENT|   24000.0|           Verified|       credit_card|27.65|          0|             1|                  null|                  null|       3|      0|    13648|      83.7|        9|                  f|      0.0|          0.0|5861.071414|        5831.78|         5000.0|       861.07|               0.0|       0.0|                    0.0|         171.62|                         0|                       null|      INDIVIDUAL|            null|     null|                     null|             0|        null|       null|       null|      null|       null|       null|              null|        null|   null|       null|       null|      null|    null|            null|  null|       null|        null|          0|\n",
      "|     2500|       2500|         2500.0| 60 months|   15.27|      59.83|    C|       C4|  < 1 year|          RENT|   30000.0|    Source Verified|               car|  1.0|          0|             5|                  null|                  null|       3|      0|     1687|       9.4|        4|                  f|      0.0|          0.0|    1008.71|        1008.71|         456.46|       435.17|               0.0|    117.08|                   1.11|         119.66|                         0|                       null|      INDIVIDUAL|            null|     null|                     null|             0|        null|       null|       null|      null|       null|       null|              null|        null|   null|       null|       null|      null|    null|            null|  null|       null|        null|          1|\n",
      "|     2400|       2400|         2400.0| 36 months|   15.96|      84.33|    C|       C5| 10+ years|          RENT|   12252.0|       Not Verified|    small_business| 8.72|          0|             2|                  null|                  null|       2|      0|     2956|      98.5|       10|                  f|      0.0|          0.0|3003.653644|        3003.65|         2400.0|       603.65|               0.0|       0.0|                    0.0|         649.91|                         0|                       null|      INDIVIDUAL|            null|     null|                     null|             0|        null|       null|       null|      null|       null|       null|              null|        null|   null|       null|       null|      null|    null|            null|  null|       null|        null|          0|\n",
      "|     5000|       5000|         5000.0| 36 months|     7.9|     156.46|    A|       A4|   3 years|          RENT|   36000.0|    Source Verified|           wedding| 11.2|          0|             3|                  null|                  null|       9|      0|     7963|      28.3|       12|                  f|      0.0|          0.0|5631.377753|        5631.38|         5000.0|       631.38|               0.0|       0.0|                    0.0|         161.03|                         0|                       null|      INDIVIDUAL|            null|     null|                     null|             0|        null|       null|       null|      null|       null|       null|              null|        null|   null|       null|       null|      null|    null|            null|  null|       null|        null|          0|\n",
      "|     3000|       3000|         3000.0| 36 months|   18.64|     109.43|    E|       E1|   9 years|          RENT|   48000.0|    Source Verified|               car| 5.35|          0|             2|                  null|                  null|       4|      0|     8221|      87.5|        4|                  f|      0.0|          0.0|3938.144334|        3938.14|         3000.0|       938.14|               0.0|       0.0|                    0.0|         111.34|                         0|                       null|      INDIVIDUAL|            null|     null|                     null|             0|        null|       null|       null|      null|       null|       null|              null|        null|   null|       null|       null|      null|    null|            null|  null|       null|        null|          0|\n",
      "|     5600|       5600|         5600.0| 60 months|   21.28|     152.39|    F|       F2|   4 years|           OWN|   40000.0|    Source Verified|    small_business| 5.55|          0|             2|                  null|                  null|      11|      0|     5210|      32.6|       13|                  f|      0.0|          0.0|     646.02|         646.02|         162.02|       294.94|               0.0|    189.06|                   2.09|         152.39|                         0|                       null|      INDIVIDUAL|            null|     null|                     null|             0|        null|       null|       null|      null|       null|       null|              null|        null|   null|       null|       null|      null|    null|            null|  null|       null|        null|          1|\n",
      "|    12000|      12000|        12000.0| 36 months|   12.69|     402.54|    B|       B5| 10+ years|           OWN|   75000.0|    Source Verified|debt_consolidation|10.78|          0|             0|                  null|                  null|      12|      0|    23336|      67.1|       34|                  f|      0.0|          0.0|   13943.08|       13943.08|        12000.0|      1943.08|               0.0|       0.0|                    0.0|         6315.3|                         0|                       null|      INDIVIDUAL|            null|     null|                     null|             0|        null|       null|       null|      null|       null|       null|              null|        null|   null|       null|       null|      null|    null|            null|  null|       null|        null|          0|\n",
      "|     9000|       9000|         9000.0| 36 months|   13.49|     305.38|    C|       C1|  < 1 year|          RENT|   30000.0|    Source Verified|debt_consolidation|10.08|          0|             1|                  null|                  null|       4|      0|    10452|      91.7|        9|                  f|      0.0|          0.0|     2270.7|         2270.7|        1256.14|       570.26|               0.0|     444.3|                   4.16|         305.38|                         0|                       null|      INDIVIDUAL|            null|     null|                     null|             0|        null|       null|       null|      null|       null|       null|              null|        null|   null|       null|       null|      null|    null|            null|  null|       null|        null|          1|\n",
      "|    10000|      10000|        10000.0| 36 months|   10.65|     325.74|    B|       B2|   3 years|          RENT|  100000.0|    Source Verified|             other| 7.06|          0|             2|                  null|                  null|      14|      0|    11997|      55.5|       29|                  f|      0.0|          0.0|    7471.99|        7471.99|        5433.47|      1393.42|               0.0|     645.1|                 6.3145|         325.74|                         0|                       null|      INDIVIDUAL|            null|     null|                     null|             0|        null|       null|       null|      null|       null|       null|              null|        null|   null|       null|       null|      null|    null|            null|  null|       null|        null|          1|\n",
      "|     1000|       1000|         1000.0| 36 months|   16.29|      35.31|    D|       D1|  < 1 year|          RENT|   28000.0|       Not Verified|debt_consolidation|20.31|          0|             1|                  null|                  null|      11|      0|     6524|      81.5|       23|                  f|      0.0|          0.0|1270.171106|        1270.17|         1000.0|       270.17|               0.0|       0.0|                    0.0|          36.32|                         0|                       null|      INDIVIDUAL|            null|     null|                     null|             0|        null|       null|       null|      null|       null|       null|              null|        null|   null|       null|       null|      null|    null|            null|  null|       null|        null|          0|\n",
      "|    10000|      10000|        10000.0| 36 months|   15.27|     347.98|    C|       C4|   4 years|          RENT|   42000.0|       Not Verified|  home_improvement| 18.6|          0|             2|                    61|                  null|      14|      0|    24043|      70.2|       28|                  f|      0.0|          0.0|12519.26045|       12519.26|        10000.0|      2519.26|               0.0|       0.0|                    0.0|         370.46|                         0|                       null|      INDIVIDUAL|            null|     null|                     null|             0|        null|       null|       null|      null|       null|       null|              null|        null|   null|       null|       null|      null|    null|            null|  null|       null|        null|          0|\n",
      "|     3600|       3600|         3600.0| 36 months|    6.03|     109.57|    A|       A1| 10+ years|      MORTGAGE|  110000.0|       Not Verified|    major_purchase|10.52|          0|             0|                  null|                  null|      20|      0|    22836|      16.0|       42|                  f|      0.0|          0.0|    3785.02|        3785.02|         3600.0|       185.02|               0.0|       0.0|                    0.0|         583.45|                         0|                       null|      INDIVIDUAL|            null|     null|                     null|             0|        null|       null|       null|      null|       null|       null|              null|        null|   null|       null|       null|      null|    null|            null|  null|       null|        null|          0|\n",
      "|     6000|       6000|         6000.0| 36 months|   11.71|     198.46|    B|       B3|    1 year|      MORTGAGE|   84000.0|           Verified|           medical|18.44|          2|             0|                     8|                  null|       4|      0|        0|     37.73|       14|                  f|      0.0|          0.0|7164.499852|         7164.5|         6000.0|       1149.5|              15.0|       0.0|                    0.0|          16.98|                         0|                       null|      INDIVIDUAL|            null|     null|                     null|             0|        null|       null|       null|      null|       null|       null|              null|        null|   null|       null|       null|      null|    null|            null|  null|       null|        null|          0|\n",
      "|     9200|       9200|         9200.0| 36 months|    6.03|     280.01|    A|       A1|   6 years|          RENT|  77385.19|       Not Verified|debt_consolidation| 9.86|          0|             0|                  null|                  null|       8|      0|     7314|      23.1|       28|                  f|      0.0|          0.0|    9459.96|        9459.96|         9200.0|       259.96|               0.0|       0.0|                    0.0|         8061.1|                         0|                       null|      INDIVIDUAL|            null|     null|                     null|             0|        null|       null|       null|      null|       null|       null|              null|        null|   null|       null|       null|      null|    null|            null|  null|       null|        null|          0|\n",
      "|    21000|      21000|        21000.0| 36 months|   12.42|     701.73|    B|       B4| 10+ years|          RENT|  105000.0|           Verified|debt_consolidation|13.22|          0|             0|                  null|                  null|       7|      0|    32135|      90.3|       38|                  f|      0.0|          0.0|    14025.4|        14025.4|       10694.96|      3330.44|               0.0|       0.0|                    0.0|         701.73|                         0|                       null|      INDIVIDUAL|            null|     null|                     null|             0|        null|       null|       null|      null|       null|       null|              null|        null|   null|       null|       null|      null|    null|            null|  null|       null|        null|          1|\n",
      "|    10000|      10000|        10000.0| 36 months|   11.71|     330.76|    B|       B3|   5 years|          RENT|   50000.0|       Not Verified|debt_consolidation|16.01|          0|             0|                  null|                  null|       6|      0|    17800|      91.8|       17|                  f|      0.0|          0.0|   11536.31|       11536.31|        10000.0|      1536.31|               0.0|       0.0|                    0.0|        4942.63|                         0|                       null|      INDIVIDUAL|            null|     null|                     null|             0|        null|       null|       null|      null|       null|       null|              null|        null|   null|       null|       null|      null|    null|            null|  null|       null|        null|          0|\n",
      "|     6000|       6000|         6000.0| 36 months|   11.71|     198.46|    B|       B3|    1 year|          RENT|   76000.0|       Not Verified|    major_purchase|  2.4|          0|             1|                  null|                  null|       7|      0|     5963|      29.7|        7|                  f|      0.0|          0.0|    2050.14|        2050.14|        1305.58|       475.25|               0.0|    269.31|                   2.57|         198.46|                         0|                       null|      INDIVIDUAL|            null|     null|                     null|             0|        null|       null|       null|      null|       null|       null|              null|        null|   null|       null|       null|      null|    null|            null|  null|       null|        null|          1|\n",
      "|    15000|      15000|        15000.0| 36 months|    9.91|     483.38|    B|       B1|   2 years|      MORTGAGE|   92000.0|           Verified|       credit_card|29.44|          0|             0|                  null|                  null|       8|      0|    13707|      93.9|       31|                  f|      0.0|          0.0|   15823.48|       15823.48|        15000.0|       823.48|               0.0|       0.0|                    0.0|        2447.05|                         0|                       null|      INDIVIDUAL|            null|     null|                     null|             0|        null|       null|       null|      null|       null|       null|              null|        null|   null|       null|       null|      null|    null|            null|  null|       null|        null|          0|\n",
      "|    15000|      15000|         8725.0| 36 months|   14.27|     514.64|    C|       C2|   9 years|          RENT|   60000.0|       Not Verified|debt_consolidation|15.22|          0|             1|                  null|                  null|       7|      0|     5872|      57.6|       11|                  f|      0.0|          0.0|        0.0|            0.0|            0.0|          0.0|               0.0|       0.0|                    0.0|            0.0|                         0|                       null|      INDIVIDUAL|            null|     null|                     null|             0|        null|       null|       null|      null|       null|       null|              null|        null|   null|       null|       null|      null|    null|            null|  null|       null|        null|          1|\n",
      "|     5000|       5000|         5000.0| 60 months|   16.77|     123.65|    D|       D2|   2 years|          RENT|   50004.0|       Not Verified|             other|13.97|          3|             0|                    20|                  null|      14|      0|     4345|      59.5|       22|                  f|      0.0|          0.0|    1609.12|        1609.12|         629.05|       719.11|               0.0|    260.96|                    2.3|         123.65|                         0|                       null|      INDIVIDUAL|            null|     null|                     null|             0|        null|       null|       null|      null|       null|       null|              null|        null|   null|       null|       null|      null|    null|            null|  null|       null|        null|          1|\n",
      "+---------+-----------+---------------+----------+--------+-----------+-----+---------+----------+--------------+----------+-------------------+------------------+-----+-----------+--------------+----------------------+----------------------+--------+-------+---------+----------+---------+-------------------+---------+-------------+-----------+---------------+---------------+-------------+------------------+----------+-----------------------+---------------+--------------------------+---------------------------+----------------+----------------+---------+-------------------------+--------------+------------+-----------+-----------+----------+-----------+-----------+------------------+------------+-------+-----------+-----------+----------+--------+----------------+------+-----------+------------+-----------+\n",
      "only showing top 20 rows\n",
      "\n"
     ]
    }
   ],
   "source": [
    "df.show()"
   ]
  },
  {
   "cell_type": "code",
   "execution_count": 29,
   "metadata": {},
   "outputs": [
    {
     "data": {
      "application/vnd.plotly.v1+json": {
       "config": {
        "plotlyServerURL": "https://plot.ly"
       },
       "data": [
        {
         "domain": {
          "x": [
           0,
           1
          ],
          "y": [
           0,
           1
          ]
         },
         "hovertemplate": "initial_list_status=%{label}<br>count=%{value}<extra></extra>",
         "labels": [
          "f",
          "w"
         ],
         "legendgroup": "",
         "name": "",
         "showlegend": true,
         "type": "pie",
         "values": [
          399327,
          404747
         ]
        }
       ],
       "layout": {
        "legend": {
         "tracegroupgap": 0
        },
        "margin": {
         "t": 60
        },
        "template": {
         "data": {
          "bar": [
           {
            "error_x": {
             "color": "#2a3f5f"
            },
            "error_y": {
             "color": "#2a3f5f"
            },
            "marker": {
             "line": {
              "color": "#E5ECF6",
              "width": 0.5
             },
             "pattern": {
              "fillmode": "overlay",
              "size": 10,
              "solidity": 0.2
             }
            },
            "type": "bar"
           }
          ],
          "barpolar": [
           {
            "marker": {
             "line": {
              "color": "#E5ECF6",
              "width": 0.5
             },
             "pattern": {
              "fillmode": "overlay",
              "size": 10,
              "solidity": 0.2
             }
            },
            "type": "barpolar"
           }
          ],
          "carpet": [
           {
            "aaxis": {
             "endlinecolor": "#2a3f5f",
             "gridcolor": "white",
             "linecolor": "white",
             "minorgridcolor": "white",
             "startlinecolor": "#2a3f5f"
            },
            "baxis": {
             "endlinecolor": "#2a3f5f",
             "gridcolor": "white",
             "linecolor": "white",
             "minorgridcolor": "white",
             "startlinecolor": "#2a3f5f"
            },
            "type": "carpet"
           }
          ],
          "choropleth": [
           {
            "colorbar": {
             "outlinewidth": 0,
             "ticks": ""
            },
            "type": "choropleth"
           }
          ],
          "contour": [
           {
            "colorbar": {
             "outlinewidth": 0,
             "ticks": ""
            },
            "colorscale": [
             [
              0,
              "#0d0887"
             ],
             [
              0.1111111111111111,
              "#46039f"
             ],
             [
              0.2222222222222222,
              "#7201a8"
             ],
             [
              0.3333333333333333,
              "#9c179e"
             ],
             [
              0.4444444444444444,
              "#bd3786"
             ],
             [
              0.5555555555555556,
              "#d8576b"
             ],
             [
              0.6666666666666666,
              "#ed7953"
             ],
             [
              0.7777777777777778,
              "#fb9f3a"
             ],
             [
              0.8888888888888888,
              "#fdca26"
             ],
             [
              1,
              "#f0f921"
             ]
            ],
            "type": "contour"
           }
          ],
          "contourcarpet": [
           {
            "colorbar": {
             "outlinewidth": 0,
             "ticks": ""
            },
            "type": "contourcarpet"
           }
          ],
          "heatmap": [
           {
            "colorbar": {
             "outlinewidth": 0,
             "ticks": ""
            },
            "colorscale": [
             [
              0,
              "#0d0887"
             ],
             [
              0.1111111111111111,
              "#46039f"
             ],
             [
              0.2222222222222222,
              "#7201a8"
             ],
             [
              0.3333333333333333,
              "#9c179e"
             ],
             [
              0.4444444444444444,
              "#bd3786"
             ],
             [
              0.5555555555555556,
              "#d8576b"
             ],
             [
              0.6666666666666666,
              "#ed7953"
             ],
             [
              0.7777777777777778,
              "#fb9f3a"
             ],
             [
              0.8888888888888888,
              "#fdca26"
             ],
             [
              1,
              "#f0f921"
             ]
            ],
            "type": "heatmap"
           }
          ],
          "heatmapgl": [
           {
            "colorbar": {
             "outlinewidth": 0,
             "ticks": ""
            },
            "colorscale": [
             [
              0,
              "#0d0887"
             ],
             [
              0.1111111111111111,
              "#46039f"
             ],
             [
              0.2222222222222222,
              "#7201a8"
             ],
             [
              0.3333333333333333,
              "#9c179e"
             ],
             [
              0.4444444444444444,
              "#bd3786"
             ],
             [
              0.5555555555555556,
              "#d8576b"
             ],
             [
              0.6666666666666666,
              "#ed7953"
             ],
             [
              0.7777777777777778,
              "#fb9f3a"
             ],
             [
              0.8888888888888888,
              "#fdca26"
             ],
             [
              1,
              "#f0f921"
             ]
            ],
            "type": "heatmapgl"
           }
          ],
          "histogram": [
           {
            "marker": {
             "pattern": {
              "fillmode": "overlay",
              "size": 10,
              "solidity": 0.2
             }
            },
            "type": "histogram"
           }
          ],
          "histogram2d": [
           {
            "colorbar": {
             "outlinewidth": 0,
             "ticks": ""
            },
            "colorscale": [
             [
              0,
              "#0d0887"
             ],
             [
              0.1111111111111111,
              "#46039f"
             ],
             [
              0.2222222222222222,
              "#7201a8"
             ],
             [
              0.3333333333333333,
              "#9c179e"
             ],
             [
              0.4444444444444444,
              "#bd3786"
             ],
             [
              0.5555555555555556,
              "#d8576b"
             ],
             [
              0.6666666666666666,
              "#ed7953"
             ],
             [
              0.7777777777777778,
              "#fb9f3a"
             ],
             [
              0.8888888888888888,
              "#fdca26"
             ],
             [
              1,
              "#f0f921"
             ]
            ],
            "type": "histogram2d"
           }
          ],
          "histogram2dcontour": [
           {
            "colorbar": {
             "outlinewidth": 0,
             "ticks": ""
            },
            "colorscale": [
             [
              0,
              "#0d0887"
             ],
             [
              0.1111111111111111,
              "#46039f"
             ],
             [
              0.2222222222222222,
              "#7201a8"
             ],
             [
              0.3333333333333333,
              "#9c179e"
             ],
             [
              0.4444444444444444,
              "#bd3786"
             ],
             [
              0.5555555555555556,
              "#d8576b"
             ],
             [
              0.6666666666666666,
              "#ed7953"
             ],
             [
              0.7777777777777778,
              "#fb9f3a"
             ],
             [
              0.8888888888888888,
              "#fdca26"
             ],
             [
              1,
              "#f0f921"
             ]
            ],
            "type": "histogram2dcontour"
           }
          ],
          "mesh3d": [
           {
            "colorbar": {
             "outlinewidth": 0,
             "ticks": ""
            },
            "type": "mesh3d"
           }
          ],
          "parcoords": [
           {
            "line": {
             "colorbar": {
              "outlinewidth": 0,
              "ticks": ""
             }
            },
            "type": "parcoords"
           }
          ],
          "pie": [
           {
            "automargin": true,
            "type": "pie"
           }
          ],
          "scatter": [
           {
            "fillpattern": {
             "fillmode": "overlay",
             "size": 10,
             "solidity": 0.2
            },
            "type": "scatter"
           }
          ],
          "scatter3d": [
           {
            "line": {
             "colorbar": {
              "outlinewidth": 0,
              "ticks": ""
             }
            },
            "marker": {
             "colorbar": {
              "outlinewidth": 0,
              "ticks": ""
             }
            },
            "type": "scatter3d"
           }
          ],
          "scattercarpet": [
           {
            "marker": {
             "colorbar": {
              "outlinewidth": 0,
              "ticks": ""
             }
            },
            "type": "scattercarpet"
           }
          ],
          "scattergeo": [
           {
            "marker": {
             "colorbar": {
              "outlinewidth": 0,
              "ticks": ""
             }
            },
            "type": "scattergeo"
           }
          ],
          "scattergl": [
           {
            "marker": {
             "colorbar": {
              "outlinewidth": 0,
              "ticks": ""
             }
            },
            "type": "scattergl"
           }
          ],
          "scattermapbox": [
           {
            "marker": {
             "colorbar": {
              "outlinewidth": 0,
              "ticks": ""
             }
            },
            "type": "scattermapbox"
           }
          ],
          "scatterpolar": [
           {
            "marker": {
             "colorbar": {
              "outlinewidth": 0,
              "ticks": ""
             }
            },
            "type": "scatterpolar"
           }
          ],
          "scatterpolargl": [
           {
            "marker": {
             "colorbar": {
              "outlinewidth": 0,
              "ticks": ""
             }
            },
            "type": "scatterpolargl"
           }
          ],
          "scatterternary": [
           {
            "marker": {
             "colorbar": {
              "outlinewidth": 0,
              "ticks": ""
             }
            },
            "type": "scatterternary"
           }
          ],
          "surface": [
           {
            "colorbar": {
             "outlinewidth": 0,
             "ticks": ""
            },
            "colorscale": [
             [
              0,
              "#0d0887"
             ],
             [
              0.1111111111111111,
              "#46039f"
             ],
             [
              0.2222222222222222,
              "#7201a8"
             ],
             [
              0.3333333333333333,
              "#9c179e"
             ],
             [
              0.4444444444444444,
              "#bd3786"
             ],
             [
              0.5555555555555556,
              "#d8576b"
             ],
             [
              0.6666666666666666,
              "#ed7953"
             ],
             [
              0.7777777777777778,
              "#fb9f3a"
             ],
             [
              0.8888888888888888,
              "#fdca26"
             ],
             [
              1,
              "#f0f921"
             ]
            ],
            "type": "surface"
           }
          ],
          "table": [
           {
            "cells": {
             "fill": {
              "color": "#EBF0F8"
             },
             "line": {
              "color": "white"
             }
            },
            "header": {
             "fill": {
              "color": "#C8D4E3"
             },
             "line": {
              "color": "white"
             }
            },
            "type": "table"
           }
          ]
         },
         "layout": {
          "annotationdefaults": {
           "arrowcolor": "#2a3f5f",
           "arrowhead": 0,
           "arrowwidth": 1
          },
          "autotypenumbers": "strict",
          "coloraxis": {
           "colorbar": {
            "outlinewidth": 0,
            "ticks": ""
           }
          },
          "colorscale": {
           "diverging": [
            [
             0,
             "#8e0152"
            ],
            [
             0.1,
             "#c51b7d"
            ],
            [
             0.2,
             "#de77ae"
            ],
            [
             0.3,
             "#f1b6da"
            ],
            [
             0.4,
             "#fde0ef"
            ],
            [
             0.5,
             "#f7f7f7"
            ],
            [
             0.6,
             "#e6f5d0"
            ],
            [
             0.7,
             "#b8e186"
            ],
            [
             0.8,
             "#7fbc41"
            ],
            [
             0.9,
             "#4d9221"
            ],
            [
             1,
             "#276419"
            ]
           ],
           "sequential": [
            [
             0,
             "#0d0887"
            ],
            [
             0.1111111111111111,
             "#46039f"
            ],
            [
             0.2222222222222222,
             "#7201a8"
            ],
            [
             0.3333333333333333,
             "#9c179e"
            ],
            [
             0.4444444444444444,
             "#bd3786"
            ],
            [
             0.5555555555555556,
             "#d8576b"
            ],
            [
             0.6666666666666666,
             "#ed7953"
            ],
            [
             0.7777777777777778,
             "#fb9f3a"
            ],
            [
             0.8888888888888888,
             "#fdca26"
            ],
            [
             1,
             "#f0f921"
            ]
           ],
           "sequentialminus": [
            [
             0,
             "#0d0887"
            ],
            [
             0.1111111111111111,
             "#46039f"
            ],
            [
             0.2222222222222222,
             "#7201a8"
            ],
            [
             0.3333333333333333,
             "#9c179e"
            ],
            [
             0.4444444444444444,
             "#bd3786"
            ],
            [
             0.5555555555555556,
             "#d8576b"
            ],
            [
             0.6666666666666666,
             "#ed7953"
            ],
            [
             0.7777777777777778,
             "#fb9f3a"
            ],
            [
             0.8888888888888888,
             "#fdca26"
            ],
            [
             1,
             "#f0f921"
            ]
           ]
          },
          "colorway": [
           "#636efa",
           "#EF553B",
           "#00cc96",
           "#ab63fa",
           "#FFA15A",
           "#19d3f3",
           "#FF6692",
           "#B6E880",
           "#FF97FF",
           "#FECB52"
          ],
          "font": {
           "color": "#2a3f5f"
          },
          "geo": {
           "bgcolor": "white",
           "lakecolor": "white",
           "landcolor": "#E5ECF6",
           "showlakes": true,
           "showland": true,
           "subunitcolor": "white"
          },
          "hoverlabel": {
           "align": "left"
          },
          "hovermode": "closest",
          "mapbox": {
           "style": "light"
          },
          "paper_bgcolor": "white",
          "plot_bgcolor": "#E5ECF6",
          "polar": {
           "angularaxis": {
            "gridcolor": "white",
            "linecolor": "white",
            "ticks": ""
           },
           "bgcolor": "#E5ECF6",
           "radialaxis": {
            "gridcolor": "white",
            "linecolor": "white",
            "ticks": ""
           }
          },
          "scene": {
           "xaxis": {
            "backgroundcolor": "#E5ECF6",
            "gridcolor": "white",
            "gridwidth": 2,
            "linecolor": "white",
            "showbackground": true,
            "ticks": "",
            "zerolinecolor": "white"
           },
           "yaxis": {
            "backgroundcolor": "#E5ECF6",
            "gridcolor": "white",
            "gridwidth": 2,
            "linecolor": "white",
            "showbackground": true,
            "ticks": "",
            "zerolinecolor": "white"
           },
           "zaxis": {
            "backgroundcolor": "#E5ECF6",
            "gridcolor": "white",
            "gridwidth": 2,
            "linecolor": "white",
            "showbackground": true,
            "ticks": "",
            "zerolinecolor": "white"
           }
          },
          "shapedefaults": {
           "line": {
            "color": "#2a3f5f"
           }
          },
          "ternary": {
           "aaxis": {
            "gridcolor": "white",
            "linecolor": "white",
            "ticks": ""
           },
           "baxis": {
            "gridcolor": "white",
            "linecolor": "white",
            "ticks": ""
           },
           "bgcolor": "#E5ECF6",
           "caxis": {
            "gridcolor": "white",
            "linecolor": "white",
            "ticks": ""
           }
          },
          "title": {
           "x": 0.05
          },
          "xaxis": {
           "automargin": true,
           "gridcolor": "white",
           "linecolor": "white",
           "ticks": "",
           "title": {
            "standoff": 15
           },
           "zerolinecolor": "white",
           "zerolinewidth": 2
          },
          "yaxis": {
           "automargin": true,
           "gridcolor": "white",
           "linecolor": "white",
           "ticks": "",
           "title": {
            "standoff": 15
           },
           "zerolinecolor": "white",
           "zerolinewidth": 2
          }
         }
        }
       }
      }
     },
     "metadata": {},
     "output_type": "display_data"
    }
   ],
   "source": [
    "df.select(['initial_list_status']).groupby(['initial_list_status']).count().to_pandas_on_spark(index_col='initial_list_status').plot.pie(y='count')"
   ]
  },
  {
   "cell_type": "code",
   "execution_count": 30,
   "metadata": {},
   "outputs": [
    {
     "name": "stdout",
     "output_type": "stream",
     "text": [
      "+-----------+---------------+\n",
      "|funded_amnt|funded_amnt_inv|\n",
      "+-----------+---------------+\n",
      "|       5000|         4975.0|\n",
      "|       2500|         2500.0|\n",
      "|       2400|         2400.0|\n",
      "|       5000|         5000.0|\n",
      "|       3000|         3000.0|\n",
      "+-----------+---------------+\n",
      "only showing top 5 rows\n",
      "\n"
     ]
    }
   ],
   "source": [
    "df.select('funded_amnt', 'funded_amnt_inv').show(5)"
   ]
  },
  {
   "cell_type": "code",
   "execution_count": 31,
   "metadata": {},
   "outputs": [
    {
     "data": {
      "text/plain": [
       "722842"
      ]
     },
     "execution_count": 31,
     "metadata": {},
     "output_type": "execute_result"
    }
   ],
   "source": [
    "df.select('funded_amnt', 'funded_amnt_inv').filter(df['funded_amnt'] == df['funded_amnt_inv']).count()"
   ]
  },
  {
   "cell_type": "code",
   "execution_count": 32,
   "metadata": {},
   "outputs": [
    {
     "data": {
      "text/plain": [
       "81232"
      ]
     },
     "execution_count": 32,
     "metadata": {},
     "output_type": "execute_result"
    }
   ],
   "source": [
    "df.select('funded_amnt', 'funded_amnt_inv').filter(df['funded_amnt'] > df['funded_amnt_inv']).count()"
   ]
  },
  {
   "cell_type": "code",
   "execution_count": 33,
   "metadata": {},
   "outputs": [
    {
     "data": {
      "text/plain": [
       "755007"
      ]
     },
     "execution_count": 33,
     "metadata": {},
     "output_type": "execute_result"
    }
   ],
   "source": [
    "df.select('out_prncp', 'out_prncp_inv').filter(df['out_prncp'] == df['out_prncp_inv']).count()"
   ]
  },
  {
   "attachments": {},
   "cell_type": "markdown",
   "metadata": {},
   "source": [
    "The majority of the `funded_amnt_inv` and `out_prncp_inv` seems to be identical with the `funded_amnt` and `out_prncp` respectively. Furthermore, information about payout and investment of investor does not seem to concern with the loan itself. Therefore these two columns will be removed"
   ]
  },
  {
   "cell_type": "code",
   "execution_count": 34,
   "metadata": {},
   "outputs": [],
   "source": [
    "df = df.drop('funded_amnt_inv', 'out_prncp_inv')"
   ]
  },
  {
   "cell_type": "code",
   "execution_count": 35,
   "metadata": {},
   "outputs": [
    {
     "name": "stdout",
     "output_type": "stream",
     "text": [
      "+---------+-----------+----------+--------+-----------+-----+---------+----------+--------------+----------+-------------------+--------------+-----+-----------+--------------+----------------------+----------------------+--------+-------+---------+----------+---------+-------------------+---------+-----------+---------------+---------------+-------------+------------------+----------+-----------------------+---------------+--------------------------+---------------------------+----------------+----------------+---------+-------------------------+--------------+------------+-----------+-----------+----------+-----------+-----------+------------------+------------+-------+-----------+-----------+----------+--------+----------------+------+-----------+------------+-----------+\n",
      "|loan_amnt|funded_amnt|      term|int_rate|installment|grade|sub_grade|emp_length|home_ownership|annual_inc|verification_status|       purpose|  dti|delinq_2yrs|inq_last_6mths|mths_since_last_delinq|mths_since_last_record|open_acc|pub_rec|revol_bal|revol_util|total_acc|initial_list_status|out_prncp|total_pymnt|total_pymnt_inv|total_rec_prncp|total_rec_int|total_rec_late_fee|recoveries|collection_recovery_fee|last_pymnt_amnt|collections_12_mths_ex_med|mths_since_last_major_derog|application_type|annual_inc_joint|dti_joint|verification_status_joint|acc_now_delinq|tot_coll_amt|tot_cur_bal|open_acc_6m|open_il_6m|open_il_12m|open_il_24m|mths_since_rcnt_il|total_bal_il|il_util|open_rv_12m|open_rv_24m|max_bal_bc|all_util|total_rev_hi_lim|inq_fi|total_cu_tl|inq_last_12m|default_ind|\n",
      "+---------+-----------+----------+--------+-----------+-----+---------+----------+--------------+----------+-------------------+--------------+-----+-----------+--------------+----------------------+----------------------+--------+-------+---------+----------+---------+-------------------+---------+-----------+---------------+---------------+-------------+------------------+----------+-----------------------+---------------+--------------------------+---------------------------+----------------+----------------+---------+-------------------------+--------------+------------+-----------+-----------+----------+-----------+-----------+------------------+------------+-------+-----------+-----------+----------+--------+----------------+------+-----------+------------+-----------+\n",
      "|     5000|       5000| 36 months|   10.65|     162.87|    B|       B2| 10+ years|          RENT|   24000.0|           Verified|   credit_card|27.65|          0|             1|                  null|                  null|       3|      0|    13648|      83.7|        9|                  f|      0.0|5861.071414|        5831.78|         5000.0|       861.07|               0.0|       0.0|                    0.0|         171.62|                         0|                       null|      INDIVIDUAL|            null|     null|                     null|             0|        null|       null|       null|      null|       null|       null|              null|        null|   null|       null|       null|      null|    null|            null|  null|       null|        null|          0|\n",
      "|     2500|       2500| 60 months|   15.27|      59.83|    C|       C4|  < 1 year|          RENT|   30000.0|    Source Verified|           car|  1.0|          0|             5|                  null|                  null|       3|      0|     1687|       9.4|        4|                  f|      0.0|    1008.71|        1008.71|         456.46|       435.17|               0.0|    117.08|                   1.11|         119.66|                         0|                       null|      INDIVIDUAL|            null|     null|                     null|             0|        null|       null|       null|      null|       null|       null|              null|        null|   null|       null|       null|      null|    null|            null|  null|       null|        null|          1|\n",
      "|     2400|       2400| 36 months|   15.96|      84.33|    C|       C5| 10+ years|          RENT|   12252.0|       Not Verified|small_business| 8.72|          0|             2|                  null|                  null|       2|      0|     2956|      98.5|       10|                  f|      0.0|3003.653644|        3003.65|         2400.0|       603.65|               0.0|       0.0|                    0.0|         649.91|                         0|                       null|      INDIVIDUAL|            null|     null|                     null|             0|        null|       null|       null|      null|       null|       null|              null|        null|   null|       null|       null|      null|    null|            null|  null|       null|        null|          0|\n",
      "|     5000|       5000| 36 months|     7.9|     156.46|    A|       A4|   3 years|          RENT|   36000.0|    Source Verified|       wedding| 11.2|          0|             3|                  null|                  null|       9|      0|     7963|      28.3|       12|                  f|      0.0|5631.377753|        5631.38|         5000.0|       631.38|               0.0|       0.0|                    0.0|         161.03|                         0|                       null|      INDIVIDUAL|            null|     null|                     null|             0|        null|       null|       null|      null|       null|       null|              null|        null|   null|       null|       null|      null|    null|            null|  null|       null|        null|          0|\n",
      "|     3000|       3000| 36 months|   18.64|     109.43|    E|       E1|   9 years|          RENT|   48000.0|    Source Verified|           car| 5.35|          0|             2|                  null|                  null|       4|      0|     8221|      87.5|        4|                  f|      0.0|3938.144334|        3938.14|         3000.0|       938.14|               0.0|       0.0|                    0.0|         111.34|                         0|                       null|      INDIVIDUAL|            null|     null|                     null|             0|        null|       null|       null|      null|       null|       null|              null|        null|   null|       null|       null|      null|    null|            null|  null|       null|        null|          0|\n",
      "+---------+-----------+----------+--------+-----------+-----+---------+----------+--------------+----------+-------------------+--------------+-----+-----------+--------------+----------------------+----------------------+--------+-------+---------+----------+---------+-------------------+---------+-----------+---------------+---------------+-------------+------------------+----------+-----------------------+---------------+--------------------------+---------------------------+----------------+----------------+---------+-------------------------+--------------+------------+-----------+-----------+----------+-----------+-----------+------------------+------------+-------+-----------+-----------+----------+--------+----------------+------+-----------+------------+-----------+\n",
      "only showing top 5 rows\n",
      "\n"
     ]
    }
   ],
   "source": [
    "df.show(5)"
   ]
  },
  {
   "cell_type": "code",
   "execution_count": 36,
   "metadata": {},
   "outputs": [
    {
     "name": "stdout",
     "output_type": "stream",
     "text": [
      "+--------------------------+------+\n",
      "|collections_12_mths_ex_med| count|\n",
      "+--------------------------+------+\n",
      "|                      null|    34|\n",
      "|                         1| 10159|\n",
      "|                         2|   704|\n",
      "|                         0|793062|\n",
      "|                         3|    79|\n",
      "|                         6|     2|\n",
      "|                        16|     1|\n",
      "|                        20|     1|\n",
      "|                         4|    22|\n",
      "|                         5|     7|\n",
      "|                         7|     1|\n",
      "|                        10|     1|\n",
      "|                        14|     1|\n",
      "+--------------------------+------+\n",
      "\n"
     ]
    }
   ],
   "source": [
    "df.select('collections_12_mths_ex_med').groupBy('collections_12_mths_ex_med').count().show()"
   ]
  },
  {
   "attachments": {},
   "cell_type": "markdown",
   "metadata": {},
   "source": [
    "The majority of the `collections_12_mths_ex_med` are 0, let's see if there's any impact of this column when its more than 0 on the `default_ind`"
   ]
  },
  {
   "cell_type": "code",
   "execution_count": 37,
   "metadata": {},
   "outputs": [
    {
     "data": {
      "text/plain": [
       "10978"
      ]
     },
     "execution_count": 37,
     "metadata": {},
     "output_type": "execute_result"
    }
   ],
   "source": [
    "df.filter((df['collections_12_mths_ex_med'] > 0)).count()"
   ]
  },
  {
   "cell_type": "code",
   "execution_count": 38,
   "metadata": {},
   "outputs": [
    {
     "data": {
      "text/plain": [
       "357"
      ]
     },
     "execution_count": 38,
     "metadata": {},
     "output_type": "execute_result"
    }
   ],
   "source": [
    "df.filter((df['collections_12_mths_ex_med'] > 0) & (df['default_ind'] == 1)).count()"
   ]
  },
  {
   "attachments": {},
   "cell_type": "markdown",
   "metadata": {},
   "source": [
    "=> The majority of the values when `collections_12_mths_ex_med` > 0 end up as non-default "
   ]
  },
  {
   "attachments": {},
   "cell_type": "markdown",
   "metadata": {},
   "source": [
    "## Observation on `null` data fields:"
   ]
  },
  {
   "cell_type": "code",
   "execution_count": 39,
   "metadata": {},
   "outputs": [],
   "source": [
    "null_dict = {col : df.filter(df[col].isNull()).count() for col in df.columns}"
   ]
  },
  {
   "cell_type": "code",
   "execution_count": 40,
   "metadata": {},
   "outputs": [
    {
     "data": {
      "text/plain": [
       "{'loan_amnt': 0,\n",
       " 'funded_amnt': 0,\n",
       " 'term': 0,\n",
       " 'int_rate': 0,\n",
       " 'installment': 0,\n",
       " 'grade': 0,\n",
       " 'sub_grade': 0,\n",
       " 'emp_length': 0,\n",
       " 'home_ownership': 0,\n",
       " 'annual_inc': 0,\n",
       " 'verification_status': 0,\n",
       " 'purpose': 0,\n",
       " 'dti': 0,\n",
       " 'delinq_2yrs': 0,\n",
       " 'inq_last_6mths': 0,\n",
       " 'mths_since_last_delinq': 408833,\n",
       " 'mths_since_last_record': 677326,\n",
       " 'open_acc': 0,\n",
       " 'pub_rec': 0,\n",
       " 'revol_bal': 0,\n",
       " 'revol_util': 401,\n",
       " 'total_acc': 0,\n",
       " 'initial_list_status': 0,\n",
       " 'out_prncp': 0,\n",
       " 'total_pymnt': 0,\n",
       " 'total_pymnt_inv': 0,\n",
       " 'total_rec_prncp': 0,\n",
       " 'total_rec_int': 0,\n",
       " 'total_rec_late_fee': 0,\n",
       " 'recoveries': 0,\n",
       " 'collection_recovery_fee': 0,\n",
       " 'last_pymnt_amnt': 0,\n",
       " 'collections_12_mths_ex_med': 34,\n",
       " 'mths_since_last_major_derog': 597237,\n",
       " 'application_type': 0,\n",
       " 'annual_inc_joint': 803633,\n",
       " 'dti_joint': 803633,\n",
       " 'verification_status_joint': 803633,\n",
       " 'acc_now_delinq': 0,\n",
       " 'tot_coll_amt': 45453,\n",
       " 'tot_cur_bal': 45453,\n",
       " 'open_acc_6m': 790893,\n",
       " 'open_il_6m': 790893,\n",
       " 'open_il_12m': 790893,\n",
       " 'open_il_24m': 790893,\n",
       " 'mths_since_rcnt_il': 791244,\n",
       " 'total_bal_il': 790893,\n",
       " 'il_util': 792561,\n",
       " 'open_rv_12m': 790893,\n",
       " 'open_rv_24m': 790893,\n",
       " 'max_bal_bc': 790893,\n",
       " 'all_util': 790893,\n",
       " 'total_rev_hi_lim': 45453,\n",
       " 'inq_fi': 790893,\n",
       " 'total_cu_tl': 790893,\n",
       " 'inq_last_12m': 790893,\n",
       " 'default_ind': 0}"
      ]
     },
     "execution_count": 40,
     "metadata": {},
     "output_type": "execute_result"
    }
   ],
   "source": [
    "null_dict"
   ]
  },
  {
   "attachments": {},
   "cell_type": "markdown",
   "metadata": {},
   "source": [
    "- all `*_joint` columns (`annual_inc_joint`, `dti_joint`, `verification_status_joint`) have 803633 null values, equivalent to the number of `INDIVIDUAL` `application_type` rows -> Therefore, only the `application_type` of `JOINT` will have these columns filled\n",
    "\n",
    "Sometime null does not mean we are missing data\n",
    "- `null` value for `mths_since_last_delinq` indicate that this borrower does not have any delinquencies (does not behind on payment) record.\n",
    "- `null` value for `mths_since_last_record` indicate that this borrower does not have any public record (does not have any public records of bankruptcy and judgement information)\n",
    "- `null` value for `mths_since_last_major_derog` indicate that this borrower does not have any worse rating in the last 90 days\n"
   ]
  },
  {
   "cell_type": "code",
   "execution_count": 41,
   "metadata": {},
   "outputs": [
    {
     "data": {
      "application/vnd.plotly.v1+json": {
       "config": {
        "plotlyServerURL": "https://plot.ly"
       },
       "data": [
        {
         "domain": {
          "x": [
           0,
           1
          ],
          "y": [
           0,
           1
          ]
         },
         "hovertemplate": "application_type=%{label}<br>count=%{value}<extra></extra>",
         "labels": [
          "INDIVIDUAL",
          "JOINT"
         ],
         "legendgroup": "",
         "name": "",
         "showlegend": true,
         "type": "pie",
         "values": [
          803633,
          441
         ]
        }
       ],
       "layout": {
        "legend": {
         "tracegroupgap": 0
        },
        "margin": {
         "t": 60
        },
        "template": {
         "data": {
          "bar": [
           {
            "error_x": {
             "color": "#2a3f5f"
            },
            "error_y": {
             "color": "#2a3f5f"
            },
            "marker": {
             "line": {
              "color": "#E5ECF6",
              "width": 0.5
             },
             "pattern": {
              "fillmode": "overlay",
              "size": 10,
              "solidity": 0.2
             }
            },
            "type": "bar"
           }
          ],
          "barpolar": [
           {
            "marker": {
             "line": {
              "color": "#E5ECF6",
              "width": 0.5
             },
             "pattern": {
              "fillmode": "overlay",
              "size": 10,
              "solidity": 0.2
             }
            },
            "type": "barpolar"
           }
          ],
          "carpet": [
           {
            "aaxis": {
             "endlinecolor": "#2a3f5f",
             "gridcolor": "white",
             "linecolor": "white",
             "minorgridcolor": "white",
             "startlinecolor": "#2a3f5f"
            },
            "baxis": {
             "endlinecolor": "#2a3f5f",
             "gridcolor": "white",
             "linecolor": "white",
             "minorgridcolor": "white",
             "startlinecolor": "#2a3f5f"
            },
            "type": "carpet"
           }
          ],
          "choropleth": [
           {
            "colorbar": {
             "outlinewidth": 0,
             "ticks": ""
            },
            "type": "choropleth"
           }
          ],
          "contour": [
           {
            "colorbar": {
             "outlinewidth": 0,
             "ticks": ""
            },
            "colorscale": [
             [
              0,
              "#0d0887"
             ],
             [
              0.1111111111111111,
              "#46039f"
             ],
             [
              0.2222222222222222,
              "#7201a8"
             ],
             [
              0.3333333333333333,
              "#9c179e"
             ],
             [
              0.4444444444444444,
              "#bd3786"
             ],
             [
              0.5555555555555556,
              "#d8576b"
             ],
             [
              0.6666666666666666,
              "#ed7953"
             ],
             [
              0.7777777777777778,
              "#fb9f3a"
             ],
             [
              0.8888888888888888,
              "#fdca26"
             ],
             [
              1,
              "#f0f921"
             ]
            ],
            "type": "contour"
           }
          ],
          "contourcarpet": [
           {
            "colorbar": {
             "outlinewidth": 0,
             "ticks": ""
            },
            "type": "contourcarpet"
           }
          ],
          "heatmap": [
           {
            "colorbar": {
             "outlinewidth": 0,
             "ticks": ""
            },
            "colorscale": [
             [
              0,
              "#0d0887"
             ],
             [
              0.1111111111111111,
              "#46039f"
             ],
             [
              0.2222222222222222,
              "#7201a8"
             ],
             [
              0.3333333333333333,
              "#9c179e"
             ],
             [
              0.4444444444444444,
              "#bd3786"
             ],
             [
              0.5555555555555556,
              "#d8576b"
             ],
             [
              0.6666666666666666,
              "#ed7953"
             ],
             [
              0.7777777777777778,
              "#fb9f3a"
             ],
             [
              0.8888888888888888,
              "#fdca26"
             ],
             [
              1,
              "#f0f921"
             ]
            ],
            "type": "heatmap"
           }
          ],
          "heatmapgl": [
           {
            "colorbar": {
             "outlinewidth": 0,
             "ticks": ""
            },
            "colorscale": [
             [
              0,
              "#0d0887"
             ],
             [
              0.1111111111111111,
              "#46039f"
             ],
             [
              0.2222222222222222,
              "#7201a8"
             ],
             [
              0.3333333333333333,
              "#9c179e"
             ],
             [
              0.4444444444444444,
              "#bd3786"
             ],
             [
              0.5555555555555556,
              "#d8576b"
             ],
             [
              0.6666666666666666,
              "#ed7953"
             ],
             [
              0.7777777777777778,
              "#fb9f3a"
             ],
             [
              0.8888888888888888,
              "#fdca26"
             ],
             [
              1,
              "#f0f921"
             ]
            ],
            "type": "heatmapgl"
           }
          ],
          "histogram": [
           {
            "marker": {
             "pattern": {
              "fillmode": "overlay",
              "size": 10,
              "solidity": 0.2
             }
            },
            "type": "histogram"
           }
          ],
          "histogram2d": [
           {
            "colorbar": {
             "outlinewidth": 0,
             "ticks": ""
            },
            "colorscale": [
             [
              0,
              "#0d0887"
             ],
             [
              0.1111111111111111,
              "#46039f"
             ],
             [
              0.2222222222222222,
              "#7201a8"
             ],
             [
              0.3333333333333333,
              "#9c179e"
             ],
             [
              0.4444444444444444,
              "#bd3786"
             ],
             [
              0.5555555555555556,
              "#d8576b"
             ],
             [
              0.6666666666666666,
              "#ed7953"
             ],
             [
              0.7777777777777778,
              "#fb9f3a"
             ],
             [
              0.8888888888888888,
              "#fdca26"
             ],
             [
              1,
              "#f0f921"
             ]
            ],
            "type": "histogram2d"
           }
          ],
          "histogram2dcontour": [
           {
            "colorbar": {
             "outlinewidth": 0,
             "ticks": ""
            },
            "colorscale": [
             [
              0,
              "#0d0887"
             ],
             [
              0.1111111111111111,
              "#46039f"
             ],
             [
              0.2222222222222222,
              "#7201a8"
             ],
             [
              0.3333333333333333,
              "#9c179e"
             ],
             [
              0.4444444444444444,
              "#bd3786"
             ],
             [
              0.5555555555555556,
              "#d8576b"
             ],
             [
              0.6666666666666666,
              "#ed7953"
             ],
             [
              0.7777777777777778,
              "#fb9f3a"
             ],
             [
              0.8888888888888888,
              "#fdca26"
             ],
             [
              1,
              "#f0f921"
             ]
            ],
            "type": "histogram2dcontour"
           }
          ],
          "mesh3d": [
           {
            "colorbar": {
             "outlinewidth": 0,
             "ticks": ""
            },
            "type": "mesh3d"
           }
          ],
          "parcoords": [
           {
            "line": {
             "colorbar": {
              "outlinewidth": 0,
              "ticks": ""
             }
            },
            "type": "parcoords"
           }
          ],
          "pie": [
           {
            "automargin": true,
            "type": "pie"
           }
          ],
          "scatter": [
           {
            "fillpattern": {
             "fillmode": "overlay",
             "size": 10,
             "solidity": 0.2
            },
            "type": "scatter"
           }
          ],
          "scatter3d": [
           {
            "line": {
             "colorbar": {
              "outlinewidth": 0,
              "ticks": ""
             }
            },
            "marker": {
             "colorbar": {
              "outlinewidth": 0,
              "ticks": ""
             }
            },
            "type": "scatter3d"
           }
          ],
          "scattercarpet": [
           {
            "marker": {
             "colorbar": {
              "outlinewidth": 0,
              "ticks": ""
             }
            },
            "type": "scattercarpet"
           }
          ],
          "scattergeo": [
           {
            "marker": {
             "colorbar": {
              "outlinewidth": 0,
              "ticks": ""
             }
            },
            "type": "scattergeo"
           }
          ],
          "scattergl": [
           {
            "marker": {
             "colorbar": {
              "outlinewidth": 0,
              "ticks": ""
             }
            },
            "type": "scattergl"
           }
          ],
          "scattermapbox": [
           {
            "marker": {
             "colorbar": {
              "outlinewidth": 0,
              "ticks": ""
             }
            },
            "type": "scattermapbox"
           }
          ],
          "scatterpolar": [
           {
            "marker": {
             "colorbar": {
              "outlinewidth": 0,
              "ticks": ""
             }
            },
            "type": "scatterpolar"
           }
          ],
          "scatterpolargl": [
           {
            "marker": {
             "colorbar": {
              "outlinewidth": 0,
              "ticks": ""
             }
            },
            "type": "scatterpolargl"
           }
          ],
          "scatterternary": [
           {
            "marker": {
             "colorbar": {
              "outlinewidth": 0,
              "ticks": ""
             }
            },
            "type": "scatterternary"
           }
          ],
          "surface": [
           {
            "colorbar": {
             "outlinewidth": 0,
             "ticks": ""
            },
            "colorscale": [
             [
              0,
              "#0d0887"
             ],
             [
              0.1111111111111111,
              "#46039f"
             ],
             [
              0.2222222222222222,
              "#7201a8"
             ],
             [
              0.3333333333333333,
              "#9c179e"
             ],
             [
              0.4444444444444444,
              "#bd3786"
             ],
             [
              0.5555555555555556,
              "#d8576b"
             ],
             [
              0.6666666666666666,
              "#ed7953"
             ],
             [
              0.7777777777777778,
              "#fb9f3a"
             ],
             [
              0.8888888888888888,
              "#fdca26"
             ],
             [
              1,
              "#f0f921"
             ]
            ],
            "type": "surface"
           }
          ],
          "table": [
           {
            "cells": {
             "fill": {
              "color": "#EBF0F8"
             },
             "line": {
              "color": "white"
             }
            },
            "header": {
             "fill": {
              "color": "#C8D4E3"
             },
             "line": {
              "color": "white"
             }
            },
            "type": "table"
           }
          ]
         },
         "layout": {
          "annotationdefaults": {
           "arrowcolor": "#2a3f5f",
           "arrowhead": 0,
           "arrowwidth": 1
          },
          "autotypenumbers": "strict",
          "coloraxis": {
           "colorbar": {
            "outlinewidth": 0,
            "ticks": ""
           }
          },
          "colorscale": {
           "diverging": [
            [
             0,
             "#8e0152"
            ],
            [
             0.1,
             "#c51b7d"
            ],
            [
             0.2,
             "#de77ae"
            ],
            [
             0.3,
             "#f1b6da"
            ],
            [
             0.4,
             "#fde0ef"
            ],
            [
             0.5,
             "#f7f7f7"
            ],
            [
             0.6,
             "#e6f5d0"
            ],
            [
             0.7,
             "#b8e186"
            ],
            [
             0.8,
             "#7fbc41"
            ],
            [
             0.9,
             "#4d9221"
            ],
            [
             1,
             "#276419"
            ]
           ],
           "sequential": [
            [
             0,
             "#0d0887"
            ],
            [
             0.1111111111111111,
             "#46039f"
            ],
            [
             0.2222222222222222,
             "#7201a8"
            ],
            [
             0.3333333333333333,
             "#9c179e"
            ],
            [
             0.4444444444444444,
             "#bd3786"
            ],
            [
             0.5555555555555556,
             "#d8576b"
            ],
            [
             0.6666666666666666,
             "#ed7953"
            ],
            [
             0.7777777777777778,
             "#fb9f3a"
            ],
            [
             0.8888888888888888,
             "#fdca26"
            ],
            [
             1,
             "#f0f921"
            ]
           ],
           "sequentialminus": [
            [
             0,
             "#0d0887"
            ],
            [
             0.1111111111111111,
             "#46039f"
            ],
            [
             0.2222222222222222,
             "#7201a8"
            ],
            [
             0.3333333333333333,
             "#9c179e"
            ],
            [
             0.4444444444444444,
             "#bd3786"
            ],
            [
             0.5555555555555556,
             "#d8576b"
            ],
            [
             0.6666666666666666,
             "#ed7953"
            ],
            [
             0.7777777777777778,
             "#fb9f3a"
            ],
            [
             0.8888888888888888,
             "#fdca26"
            ],
            [
             1,
             "#f0f921"
            ]
           ]
          },
          "colorway": [
           "#636efa",
           "#EF553B",
           "#00cc96",
           "#ab63fa",
           "#FFA15A",
           "#19d3f3",
           "#FF6692",
           "#B6E880",
           "#FF97FF",
           "#FECB52"
          ],
          "font": {
           "color": "#2a3f5f"
          },
          "geo": {
           "bgcolor": "white",
           "lakecolor": "white",
           "landcolor": "#E5ECF6",
           "showlakes": true,
           "showland": true,
           "subunitcolor": "white"
          },
          "hoverlabel": {
           "align": "left"
          },
          "hovermode": "closest",
          "mapbox": {
           "style": "light"
          },
          "paper_bgcolor": "white",
          "plot_bgcolor": "#E5ECF6",
          "polar": {
           "angularaxis": {
            "gridcolor": "white",
            "linecolor": "white",
            "ticks": ""
           },
           "bgcolor": "#E5ECF6",
           "radialaxis": {
            "gridcolor": "white",
            "linecolor": "white",
            "ticks": ""
           }
          },
          "scene": {
           "xaxis": {
            "backgroundcolor": "#E5ECF6",
            "gridcolor": "white",
            "gridwidth": 2,
            "linecolor": "white",
            "showbackground": true,
            "ticks": "",
            "zerolinecolor": "white"
           },
           "yaxis": {
            "backgroundcolor": "#E5ECF6",
            "gridcolor": "white",
            "gridwidth": 2,
            "linecolor": "white",
            "showbackground": true,
            "ticks": "",
            "zerolinecolor": "white"
           },
           "zaxis": {
            "backgroundcolor": "#E5ECF6",
            "gridcolor": "white",
            "gridwidth": 2,
            "linecolor": "white",
            "showbackground": true,
            "ticks": "",
            "zerolinecolor": "white"
           }
          },
          "shapedefaults": {
           "line": {
            "color": "#2a3f5f"
           }
          },
          "ternary": {
           "aaxis": {
            "gridcolor": "white",
            "linecolor": "white",
            "ticks": ""
           },
           "baxis": {
            "gridcolor": "white",
            "linecolor": "white",
            "ticks": ""
           },
           "bgcolor": "#E5ECF6",
           "caxis": {
            "gridcolor": "white",
            "linecolor": "white",
            "ticks": ""
           }
          },
          "title": {
           "x": 0.05
          },
          "xaxis": {
           "automargin": true,
           "gridcolor": "white",
           "linecolor": "white",
           "ticks": "",
           "title": {
            "standoff": 15
           },
           "zerolinecolor": "white",
           "zerolinewidth": 2
          },
          "yaxis": {
           "automargin": true,
           "gridcolor": "white",
           "linecolor": "white",
           "ticks": "",
           "title": {
            "standoff": 15
           },
           "zerolinecolor": "white",
           "zerolinewidth": 2
          }
         }
        }
       }
      }
     },
     "metadata": {},
     "output_type": "display_data"
    }
   ],
   "source": [
    "df.groupby(['application_type']).count().to_pandas_on_spark(index_col=['application_type']).plot.pie(y='count')"
   ]
  },
  {
   "attachments": {},
   "cell_type": "markdown",
   "metadata": {},
   "source": [
    "The number of data with `application_type == 'JOINT'`  are heavily underrepresent"
   ]
  },
  {
   "attachments": {},
   "cell_type": "markdown",
   "metadata": {},
   "source": [
    "Checking if there's any default cases when `application_type == 'JOINT'`"
   ]
  },
  {
   "cell_type": "code",
   "execution_count": 42,
   "metadata": {},
   "outputs": [
    {
     "data": {
      "text/plain": [
       "0"
      ]
     },
     "execution_count": 42,
     "metadata": {},
     "output_type": "execute_result"
    }
   ],
   "source": [
    "df.filter((df['application_type'] == \"JOINT\") & (df['default_ind'] == '1')).count()"
   ]
  },
  {
   "attachments": {},
   "cell_type": "markdown",
   "metadata": {},
   "source": [
    "Base on the dataset, virutally no `default` happened when the `application_type == 'JOINT'`!"
   ]
  },
  {
   "cell_type": "code",
   "execution_count": 43,
   "metadata": {},
   "outputs": [
    {
     "data": {
      "text/plain": [
       "442"
      ]
     },
     "execution_count": 43,
     "metadata": {},
     "output_type": "execute_result"
    }
   ],
   "source": [
    "df_original.filter(df_original['application_type'] == \"JOINT\").count()"
   ]
  },
  {
   "attachments": {},
   "cell_type": "markdown",
   "metadata": {},
   "source": [
    "We only remove 1 `\"JOINT\"` account from cleaning the CSV dataset"
   ]
  },
  {
   "attachments": {},
   "cell_type": "markdown",
   "metadata": {},
   "source": [
    "Because of high percentage of missing values in the columns related to joint application, the columns related to this will be dropped"
   ]
  },
  {
   "cell_type": "code",
   "execution_count": 44,
   "metadata": {},
   "outputs": [],
   "source": [
    "df = df.drop(\"annual_inc_joint\", \"dti_joint\", \"verification_status_joint\")"
   ]
  },
  {
   "cell_type": "code",
   "execution_count": 45,
   "metadata": {},
   "outputs": [
    {
     "name": "stdout",
     "output_type": "stream",
     "text": [
      "+-------------------+------+\n",
      "|verification_status| count|\n",
      "+-------------------+------+\n",
      "|           Verified|259501|\n",
      "|    Source Verified|304870|\n",
      "|       Not Verified|239703|\n",
      "+-------------------+------+\n",
      "\n"
     ]
    }
   ],
   "source": [
    "df.groupBy(df['verification_status']).count().show()"
   ]
  },
  {
   "cell_type": "code",
   "execution_count": 46,
   "metadata": {},
   "outputs": [
    {
     "data": {
      "application/vnd.plotly.v1+json": {
       "config": {
        "plotlyServerURL": "https://plot.ly"
       },
       "data": [
        {
         "domain": {
          "x": [
           0,
           1
          ],
          "y": [
           0,
           1
          ]
         },
         "hovertemplate": "verification_status=%{label}<br>count=%{value}<extra></extra>",
         "labels": [
          "Verified",
          "Source Verified",
          "Not Verified"
         ],
         "legendgroup": "",
         "name": "",
         "showlegend": true,
         "type": "pie",
         "values": [
          259501,
          304870,
          239703
         ]
        }
       ],
       "layout": {
        "legend": {
         "tracegroupgap": 0
        },
        "margin": {
         "t": 60
        },
        "template": {
         "data": {
          "bar": [
           {
            "error_x": {
             "color": "#2a3f5f"
            },
            "error_y": {
             "color": "#2a3f5f"
            },
            "marker": {
             "line": {
              "color": "#E5ECF6",
              "width": 0.5
             },
             "pattern": {
              "fillmode": "overlay",
              "size": 10,
              "solidity": 0.2
             }
            },
            "type": "bar"
           }
          ],
          "barpolar": [
           {
            "marker": {
             "line": {
              "color": "#E5ECF6",
              "width": 0.5
             },
             "pattern": {
              "fillmode": "overlay",
              "size": 10,
              "solidity": 0.2
             }
            },
            "type": "barpolar"
           }
          ],
          "carpet": [
           {
            "aaxis": {
             "endlinecolor": "#2a3f5f",
             "gridcolor": "white",
             "linecolor": "white",
             "minorgridcolor": "white",
             "startlinecolor": "#2a3f5f"
            },
            "baxis": {
             "endlinecolor": "#2a3f5f",
             "gridcolor": "white",
             "linecolor": "white",
             "minorgridcolor": "white",
             "startlinecolor": "#2a3f5f"
            },
            "type": "carpet"
           }
          ],
          "choropleth": [
           {
            "colorbar": {
             "outlinewidth": 0,
             "ticks": ""
            },
            "type": "choropleth"
           }
          ],
          "contour": [
           {
            "colorbar": {
             "outlinewidth": 0,
             "ticks": ""
            },
            "colorscale": [
             [
              0,
              "#0d0887"
             ],
             [
              0.1111111111111111,
              "#46039f"
             ],
             [
              0.2222222222222222,
              "#7201a8"
             ],
             [
              0.3333333333333333,
              "#9c179e"
             ],
             [
              0.4444444444444444,
              "#bd3786"
             ],
             [
              0.5555555555555556,
              "#d8576b"
             ],
             [
              0.6666666666666666,
              "#ed7953"
             ],
             [
              0.7777777777777778,
              "#fb9f3a"
             ],
             [
              0.8888888888888888,
              "#fdca26"
             ],
             [
              1,
              "#f0f921"
             ]
            ],
            "type": "contour"
           }
          ],
          "contourcarpet": [
           {
            "colorbar": {
             "outlinewidth": 0,
             "ticks": ""
            },
            "type": "contourcarpet"
           }
          ],
          "heatmap": [
           {
            "colorbar": {
             "outlinewidth": 0,
             "ticks": ""
            },
            "colorscale": [
             [
              0,
              "#0d0887"
             ],
             [
              0.1111111111111111,
              "#46039f"
             ],
             [
              0.2222222222222222,
              "#7201a8"
             ],
             [
              0.3333333333333333,
              "#9c179e"
             ],
             [
              0.4444444444444444,
              "#bd3786"
             ],
             [
              0.5555555555555556,
              "#d8576b"
             ],
             [
              0.6666666666666666,
              "#ed7953"
             ],
             [
              0.7777777777777778,
              "#fb9f3a"
             ],
             [
              0.8888888888888888,
              "#fdca26"
             ],
             [
              1,
              "#f0f921"
             ]
            ],
            "type": "heatmap"
           }
          ],
          "heatmapgl": [
           {
            "colorbar": {
             "outlinewidth": 0,
             "ticks": ""
            },
            "colorscale": [
             [
              0,
              "#0d0887"
             ],
             [
              0.1111111111111111,
              "#46039f"
             ],
             [
              0.2222222222222222,
              "#7201a8"
             ],
             [
              0.3333333333333333,
              "#9c179e"
             ],
             [
              0.4444444444444444,
              "#bd3786"
             ],
             [
              0.5555555555555556,
              "#d8576b"
             ],
             [
              0.6666666666666666,
              "#ed7953"
             ],
             [
              0.7777777777777778,
              "#fb9f3a"
             ],
             [
              0.8888888888888888,
              "#fdca26"
             ],
             [
              1,
              "#f0f921"
             ]
            ],
            "type": "heatmapgl"
           }
          ],
          "histogram": [
           {
            "marker": {
             "pattern": {
              "fillmode": "overlay",
              "size": 10,
              "solidity": 0.2
             }
            },
            "type": "histogram"
           }
          ],
          "histogram2d": [
           {
            "colorbar": {
             "outlinewidth": 0,
             "ticks": ""
            },
            "colorscale": [
             [
              0,
              "#0d0887"
             ],
             [
              0.1111111111111111,
              "#46039f"
             ],
             [
              0.2222222222222222,
              "#7201a8"
             ],
             [
              0.3333333333333333,
              "#9c179e"
             ],
             [
              0.4444444444444444,
              "#bd3786"
             ],
             [
              0.5555555555555556,
              "#d8576b"
             ],
             [
              0.6666666666666666,
              "#ed7953"
             ],
             [
              0.7777777777777778,
              "#fb9f3a"
             ],
             [
              0.8888888888888888,
              "#fdca26"
             ],
             [
              1,
              "#f0f921"
             ]
            ],
            "type": "histogram2d"
           }
          ],
          "histogram2dcontour": [
           {
            "colorbar": {
             "outlinewidth": 0,
             "ticks": ""
            },
            "colorscale": [
             [
              0,
              "#0d0887"
             ],
             [
              0.1111111111111111,
              "#46039f"
             ],
             [
              0.2222222222222222,
              "#7201a8"
             ],
             [
              0.3333333333333333,
              "#9c179e"
             ],
             [
              0.4444444444444444,
              "#bd3786"
             ],
             [
              0.5555555555555556,
              "#d8576b"
             ],
             [
              0.6666666666666666,
              "#ed7953"
             ],
             [
              0.7777777777777778,
              "#fb9f3a"
             ],
             [
              0.8888888888888888,
              "#fdca26"
             ],
             [
              1,
              "#f0f921"
             ]
            ],
            "type": "histogram2dcontour"
           }
          ],
          "mesh3d": [
           {
            "colorbar": {
             "outlinewidth": 0,
             "ticks": ""
            },
            "type": "mesh3d"
           }
          ],
          "parcoords": [
           {
            "line": {
             "colorbar": {
              "outlinewidth": 0,
              "ticks": ""
             }
            },
            "type": "parcoords"
           }
          ],
          "pie": [
           {
            "automargin": true,
            "type": "pie"
           }
          ],
          "scatter": [
           {
            "fillpattern": {
             "fillmode": "overlay",
             "size": 10,
             "solidity": 0.2
            },
            "type": "scatter"
           }
          ],
          "scatter3d": [
           {
            "line": {
             "colorbar": {
              "outlinewidth": 0,
              "ticks": ""
             }
            },
            "marker": {
             "colorbar": {
              "outlinewidth": 0,
              "ticks": ""
             }
            },
            "type": "scatter3d"
           }
          ],
          "scattercarpet": [
           {
            "marker": {
             "colorbar": {
              "outlinewidth": 0,
              "ticks": ""
             }
            },
            "type": "scattercarpet"
           }
          ],
          "scattergeo": [
           {
            "marker": {
             "colorbar": {
              "outlinewidth": 0,
              "ticks": ""
             }
            },
            "type": "scattergeo"
           }
          ],
          "scattergl": [
           {
            "marker": {
             "colorbar": {
              "outlinewidth": 0,
              "ticks": ""
             }
            },
            "type": "scattergl"
           }
          ],
          "scattermapbox": [
           {
            "marker": {
             "colorbar": {
              "outlinewidth": 0,
              "ticks": ""
             }
            },
            "type": "scattermapbox"
           }
          ],
          "scatterpolar": [
           {
            "marker": {
             "colorbar": {
              "outlinewidth": 0,
              "ticks": ""
             }
            },
            "type": "scatterpolar"
           }
          ],
          "scatterpolargl": [
           {
            "marker": {
             "colorbar": {
              "outlinewidth": 0,
              "ticks": ""
             }
            },
            "type": "scatterpolargl"
           }
          ],
          "scatterternary": [
           {
            "marker": {
             "colorbar": {
              "outlinewidth": 0,
              "ticks": ""
             }
            },
            "type": "scatterternary"
           }
          ],
          "surface": [
           {
            "colorbar": {
             "outlinewidth": 0,
             "ticks": ""
            },
            "colorscale": [
             [
              0,
              "#0d0887"
             ],
             [
              0.1111111111111111,
              "#46039f"
             ],
             [
              0.2222222222222222,
              "#7201a8"
             ],
             [
              0.3333333333333333,
              "#9c179e"
             ],
             [
              0.4444444444444444,
              "#bd3786"
             ],
             [
              0.5555555555555556,
              "#d8576b"
             ],
             [
              0.6666666666666666,
              "#ed7953"
             ],
             [
              0.7777777777777778,
              "#fb9f3a"
             ],
             [
              0.8888888888888888,
              "#fdca26"
             ],
             [
              1,
              "#f0f921"
             ]
            ],
            "type": "surface"
           }
          ],
          "table": [
           {
            "cells": {
             "fill": {
              "color": "#EBF0F8"
             },
             "line": {
              "color": "white"
             }
            },
            "header": {
             "fill": {
              "color": "#C8D4E3"
             },
             "line": {
              "color": "white"
             }
            },
            "type": "table"
           }
          ]
         },
         "layout": {
          "annotationdefaults": {
           "arrowcolor": "#2a3f5f",
           "arrowhead": 0,
           "arrowwidth": 1
          },
          "autotypenumbers": "strict",
          "coloraxis": {
           "colorbar": {
            "outlinewidth": 0,
            "ticks": ""
           }
          },
          "colorscale": {
           "diverging": [
            [
             0,
             "#8e0152"
            ],
            [
             0.1,
             "#c51b7d"
            ],
            [
             0.2,
             "#de77ae"
            ],
            [
             0.3,
             "#f1b6da"
            ],
            [
             0.4,
             "#fde0ef"
            ],
            [
             0.5,
             "#f7f7f7"
            ],
            [
             0.6,
             "#e6f5d0"
            ],
            [
             0.7,
             "#b8e186"
            ],
            [
             0.8,
             "#7fbc41"
            ],
            [
             0.9,
             "#4d9221"
            ],
            [
             1,
             "#276419"
            ]
           ],
           "sequential": [
            [
             0,
             "#0d0887"
            ],
            [
             0.1111111111111111,
             "#46039f"
            ],
            [
             0.2222222222222222,
             "#7201a8"
            ],
            [
             0.3333333333333333,
             "#9c179e"
            ],
            [
             0.4444444444444444,
             "#bd3786"
            ],
            [
             0.5555555555555556,
             "#d8576b"
            ],
            [
             0.6666666666666666,
             "#ed7953"
            ],
            [
             0.7777777777777778,
             "#fb9f3a"
            ],
            [
             0.8888888888888888,
             "#fdca26"
            ],
            [
             1,
             "#f0f921"
            ]
           ],
           "sequentialminus": [
            [
             0,
             "#0d0887"
            ],
            [
             0.1111111111111111,
             "#46039f"
            ],
            [
             0.2222222222222222,
             "#7201a8"
            ],
            [
             0.3333333333333333,
             "#9c179e"
            ],
            [
             0.4444444444444444,
             "#bd3786"
            ],
            [
             0.5555555555555556,
             "#d8576b"
            ],
            [
             0.6666666666666666,
             "#ed7953"
            ],
            [
             0.7777777777777778,
             "#fb9f3a"
            ],
            [
             0.8888888888888888,
             "#fdca26"
            ],
            [
             1,
             "#f0f921"
            ]
           ]
          },
          "colorway": [
           "#636efa",
           "#EF553B",
           "#00cc96",
           "#ab63fa",
           "#FFA15A",
           "#19d3f3",
           "#FF6692",
           "#B6E880",
           "#FF97FF",
           "#FECB52"
          ],
          "font": {
           "color": "#2a3f5f"
          },
          "geo": {
           "bgcolor": "white",
           "lakecolor": "white",
           "landcolor": "#E5ECF6",
           "showlakes": true,
           "showland": true,
           "subunitcolor": "white"
          },
          "hoverlabel": {
           "align": "left"
          },
          "hovermode": "closest",
          "mapbox": {
           "style": "light"
          },
          "paper_bgcolor": "white",
          "plot_bgcolor": "#E5ECF6",
          "polar": {
           "angularaxis": {
            "gridcolor": "white",
            "linecolor": "white",
            "ticks": ""
           },
           "bgcolor": "#E5ECF6",
           "radialaxis": {
            "gridcolor": "white",
            "linecolor": "white",
            "ticks": ""
           }
          },
          "scene": {
           "xaxis": {
            "backgroundcolor": "#E5ECF6",
            "gridcolor": "white",
            "gridwidth": 2,
            "linecolor": "white",
            "showbackground": true,
            "ticks": "",
            "zerolinecolor": "white"
           },
           "yaxis": {
            "backgroundcolor": "#E5ECF6",
            "gridcolor": "white",
            "gridwidth": 2,
            "linecolor": "white",
            "showbackground": true,
            "ticks": "",
            "zerolinecolor": "white"
           },
           "zaxis": {
            "backgroundcolor": "#E5ECF6",
            "gridcolor": "white",
            "gridwidth": 2,
            "linecolor": "white",
            "showbackground": true,
            "ticks": "",
            "zerolinecolor": "white"
           }
          },
          "shapedefaults": {
           "line": {
            "color": "#2a3f5f"
           }
          },
          "ternary": {
           "aaxis": {
            "gridcolor": "white",
            "linecolor": "white",
            "ticks": ""
           },
           "baxis": {
            "gridcolor": "white",
            "linecolor": "white",
            "ticks": ""
           },
           "bgcolor": "#E5ECF6",
           "caxis": {
            "gridcolor": "white",
            "linecolor": "white",
            "ticks": ""
           }
          },
          "title": {
           "x": 0.05
          },
          "xaxis": {
           "automargin": true,
           "gridcolor": "white",
           "linecolor": "white",
           "ticks": "",
           "title": {
            "standoff": 15
           },
           "zerolinecolor": "white",
           "zerolinewidth": 2
          },
          "yaxis": {
           "automargin": true,
           "gridcolor": "white",
           "linecolor": "white",
           "ticks": "",
           "title": {
            "standoff": 15
           },
           "zerolinecolor": "white",
           "zerolinewidth": 2
          }
         }
        }
       }
      }
     },
     "metadata": {},
     "output_type": "display_data"
    }
   ],
   "source": [
    "df.groupBy(df['verification_status'])\\\n",
    "    .count()\\\n",
    "    .to_pandas_on_spark(index_col=['verification_status'])\\\n",
    "    .plot.pie(y='count')"
   ]
  },
  {
   "attachments": {},
   "cell_type": "markdown",
   "metadata": {},
   "source": [
    "=> Evenly distributed `verfication_status` accross all accounts "
   ]
  },
  {
   "attachments": {},
   "cell_type": "markdown",
   "metadata": {},
   "source": [
    "Let's see the relationship between the number of personal finance inquiries (`inq_fi`) and default rate"
   ]
  },
  {
   "cell_type": "code",
   "execution_count": 47,
   "metadata": {},
   "outputs": [
    {
     "data": {
      "text/plain": [
       "0"
      ]
     },
     "execution_count": 47,
     "metadata": {},
     "output_type": "execute_result"
    }
   ],
   "source": [
    "df.filter(df['inq_fi'].isNotNull() & (df['default_ind'] == 1)).count()"
   ]
  },
  {
   "attachments": {},
   "cell_type": "markdown",
   "metadata": {},
   "source": [
    "=> All the borrowers with a record of personal finance inquiries virtually not default. If this field is `null`, it indicate that the borrowers never inquiries any personal finance advice from this firm."
   ]
  },
  {
   "attachments": {},
   "cell_type": "markdown",
   "metadata": {},
   "source": [
    "Because of the high volume of missing values, this column will be dropped"
   ]
  },
  {
   "cell_type": "code",
   "execution_count": 48,
   "metadata": {},
   "outputs": [],
   "source": [
    "df = df.drop('inq_fi')"
   ]
  },
  {
   "attachments": {},
   "cell_type": "markdown",
   "metadata": {},
   "source": [
    "Next, let's see the relationship between the number of credit inquiries in the last 12 months (`inq_last_12m`) and default rate"
   ]
  },
  {
   "cell_type": "code",
   "execution_count": 49,
   "metadata": {},
   "outputs": [
    {
     "name": "stdout",
     "output_type": "stream",
     "text": [
      "+---------+-----------+----------+--------+-----------+-----+---------+----------+--------------+----------+-------------------+------------------+-----+-----------+--------------+----------------------+----------------------+--------+-------+---------+----------+---------+-------------------+---------+-----------+---------------+---------------+-------------+------------------+----------+-----------------------+---------------+--------------------------+---------------------------+----------------+--------------+------------+-----------+-----------+----------+-----------+-----------+------------------+------------+-------+-----------+-----------+----------+--------+----------------+-----------+------------+-----------+\n",
      "|loan_amnt|funded_amnt|      term|int_rate|installment|grade|sub_grade|emp_length|home_ownership|annual_inc|verification_status|           purpose|  dti|delinq_2yrs|inq_last_6mths|mths_since_last_delinq|mths_since_last_record|open_acc|pub_rec|revol_bal|revol_util|total_acc|initial_list_status|out_prncp|total_pymnt|total_pymnt_inv|total_rec_prncp|total_rec_int|total_rec_late_fee|recoveries|collection_recovery_fee|last_pymnt_amnt|collections_12_mths_ex_med|mths_since_last_major_derog|application_type|acc_now_delinq|tot_coll_amt|tot_cur_bal|open_acc_6m|open_il_6m|open_il_12m|open_il_24m|mths_since_rcnt_il|total_bal_il|il_util|open_rv_12m|open_rv_24m|max_bal_bc|all_util|total_rev_hi_lim|total_cu_tl|inq_last_12m|default_ind|\n",
      "+---------+-----------+----------+--------+-----------+-----+---------+----------+--------------+----------+-------------------+------------------+-----+-----------+--------------+----------------------+----------------------+--------+-------+---------+----------+---------+-------------------+---------+-----------+---------------+---------------+-------------+------------------+----------+-----------------------+---------------+--------------------------+---------------------------+----------------+--------------+------------+-----------+-----------+----------+-----------+-----------+------------------+------------+-------+-----------+-----------+----------+--------+----------------+-----------+------------+-----------+\n",
      "|     8000|       8000| 36 months|   14.48|     275.29|    C|       C5| 10+ years|      MORTGAGE|  115000.0|           Verified|debt_consolidation|17.11|          0|             4|                  null|                    88|      25|      1|    15124|      26.4|       36|                  w|   8000.0|        0.0|            0.0|            0.0|          0.0|               0.0|       0.0|                    0.0|            0.0|                         0|                       null|      INDIVIDUAL|             0|           0|     399684|          5|         5|          1|          4|                11|       46560|   66.5|          5|         12|      4527|    48.5|           57200|          1|          32|          0|\n",
      "|    10000|      10000| 36 months|   12.59|     334.97|    C|       C2|   3 years|      MORTGAGE|  150000.0|       Not Verified|               car| 15.7|          0|             5|                  null|                    61|      17|      3|     8388|      38.1|       32|                  w|  10000.0|        0.0|            0.0|            0.0|          0.0|               0.0|       0.0|                    0.0|            0.0|                         0|                       null|      INDIVIDUAL|             0|           0|     211397|          3|         3|          1|          3|                 8|       76367|   81.4|          4|          9|      3294|    51.4|           22000|          0|          25|          0|\n",
      "|    16000|      16000| 60 months|   14.48|     376.29|    C|       C5|   7 years|      MORTGAGE|  215000.0|           Verified|    major_purchase|11.14|          1|             3|                    23|                    97|      20|      1|    10235|      20.3|       58|                  w|  16000.0|        0.0|            0.0|            0.0|          0.0|               0.0|       0.0|                    0.0|            0.0|                         0|                       null|      INDIVIDUAL|             0|           0|     355620|          5|         2|          4|          6|                 7|       97434|   86.0|          6|          7|      1991|    47.5|           50147|          4|          25|          0|\n",
      "|    20000|      20000| 60 months|   19.99|     529.77|    E|       E4|   4 years|          RENT|   50000.0|           Verified|debt_consolidation|12.39|          0|             5|                    51|                  null|      14|      0|     8829|      16.3|       22|                  w|  20000.0|        0.0|            0.0|            0.0|          0.0|               0.0|       0.0|                    0.0|            0.0|                         0|                       null|      INDIVIDUAL|             0|           0|      27687|          0|         3|          0|          0|                62|       18858|   73.1|          2|          3|      4600|    34.7|           54000|          0|          24|          0|\n",
      "|     2875|       2875| 36 months|   16.99|     102.49|    D|       D3| 10+ years|      MORTGAGE|  143000.0|    Source Verified|debt_consolidation|14.96|          0|             2|                    69|                    76|      15|      1|     3003|      34.1|       41|                  w|   2875.0|        0.0|            0.0|            0.0|          0.0|               0.0|       0.0|                    0.0|            0.0|                         0|                         76|      INDIVIDUAL|             0|         162|     195449|          2|         5|          7|         11|                 2|       56603|   82.2|          3|          8|       151|    76.7|            8800|          5|          22|          0|\n",
      "|    16000|      16000| 60 months|    18.2|     408.04|    E|       E1| 10+ years|      MORTGAGE|   67000.0|    Source Verified|debt_consolidation|28.37|          2|             1|                    16|                  null|      17|      0|    19637|      61.2|       46|                  w|  16000.0|        0.0|            0.0|            0.0|          0.0|               0.0|       0.0|                    0.0|            0.0|                         0|                         43|      INDIVIDUAL|             0|           0|      63507|          4|         2|          3|          4|                 5|       43870|   93.5|          2|          8|      1407|    80.4|           32100|          1|          21|          0|\n",
      "|    20800|      20800| 60 months|   11.22|     454.53|    B|       B5|   2 years|      MORTGAGE|   85000.0|           Verified|debt_consolidation|26.12|          0|             5|                    42|                  null|      30|      0|    43316|      53.1|       65|                  w|  20800.0|        0.0|            0.0|            0.0|          0.0|               0.0|       0.0|                    0.0|            0.0|                         0|                         42|      INDIVIDUAL|             0|           0|     217666|          6|         9|          4|          5|                 2|       96926|   78.1|          4|          8|      6795|    68.2|           81600|          0|          21|          0|\n",
      "|    35000|      35000| 36 months|   14.48|     1204.4|    C|       C5|   2 years|      MORTGAGE|  300000.0|           Verified|debt_consolidation|25.78|          1|             0|                    20|                  null|      10|      0|   273361|      93.4|       35|                  w|  35000.0|        0.0|            0.0|            0.0|          0.0|               0.0|       0.0|                    0.0|            0.0|                         0|                         20|      INDIVIDUAL|             0|           0|     993549|          1|         3|          1|          1|                 6|       88170|   null|          0|          0|     19922|    93.4|          350300|          0|          20|          0|\n",
      "|    16800|      16800| 60 months|   20.99|     454.41|    E|       E5|   8 years|          RENT|   50000.0|       Not Verified|       credit_card|24.56|          0|             2|                    46|                    81|      13|      1|    15915|      53.8|       29|                  w| 16639.45|     434.82|         434.82|         160.55|       274.27|               0.0|       0.0|                    0.0|         454.41|                         0|                       null|      INDIVIDUAL|             0|         672|      80034|          1|         3|          1|          3|                12|       64119|   53.3|          2|          7|      3922|    53.6|           29600|          0|          20|          0|\n",
      "|     8400|       8400| 36 months|   15.41|     292.88|    D|       D1| 10+ years|      MORTGAGE|   52800.0|           Verified|debt_consolidation|27.89|          0|             1|                    37|                  null|      13|      0|     8786|      36.0|       37|                  w|   8400.0|        0.0|            0.0|            0.0|          0.0|               0.0|       0.0|                    0.0|            0.0|                         0|                         65|      INDIVIDUAL|             0|         245|     258531|          1|         2|          1|          3|                12|       35529|   81.5|          3|          7|      3057|    65.2|           24400|          3|          20|          0|\n",
      "|    15750|      15750| 36 months|    18.2|     570.99|    E|       E1|  < 1 year|           OWN|   47000.0|    Source Verified|debt_consolidation|17.31|          0|             1|                  null|                    54|       6|      2|     4209|      66.8|       19|                  f| 15417.89|     555.07|         555.07|         332.12|       222.96|               0.0|       0.0|                    0.0|         570.99|                         0|                       null|      INDIVIDUAL|             0|           0|      26681|          0|         2|          1|          2|                12|       22472|   82.9|          0|          3|      2470|    79.9|            6300|          0|          20|          0|\n",
      "|    10950|      10950| 36 months|   19.48|     404.05|    E|       E2|   3 years|          RENT|   60000.0|    Source Verified|debt_consolidation|18.38|          0|             2|                    72|                    66|       6|      2|    10502|      65.6|       17|                  w|  10141.9|      808.1|          808.1|          808.1|          0.0|               0.0|       0.0|                    0.0|          808.1|                         0|                         72|      INDIVIDUAL|             0|        3400|      44181|          0|         1|          2|          2|                 8|       33679|   null|          3|          4|      4138|    65.6|           16000|          0|          19|          0|\n",
      "|    21000|      21000| 36 months|   16.99|     748.61|    D|       D3|    1 year|      MORTGAGE|  185000.0|           Verified|debt_consolidation|21.54|          2|             4|                    17|                  null|      15|      0|    21692|      73.5|       48|                  w|      0.0|   21138.76|       21138.76|        21000.0|       138.76|               0.0|       0.0|                    0.0|       21188.31|                         0|                         17|      INDIVIDUAL|             0|           0|     458681|          2|         5|          1|          3|                11|       67210|   75.0|          5|          8|      5549|    74.2|           29500|          0|          19|          0|\n",
      "|    21000|      21000| 60 months|   16.55|     516.84|    D|       D2|  < 1 year|           OWN|  110000.0|           Verified|  home_improvement|20.13|          0|             4|                  null|                  null|      31|      0|    25891|      19.7|       56|                  w|  21000.0|        0.0|            0.0|            0.0|          0.0|               0.0|       0.0|                    0.0|            0.0|                         0|                       null|      INDIVIDUAL|             0|           0|     274894|          8|         2|          3|          6|                 3|       67581|   93.6|         11|         18|      3238|    32.4|          131400|          8|          19|          0|\n",
      "|     2800|       2800| 36 months|   13.67|      95.25|    C|       C4|   2 years|          RENT|   45000.0|    Source Verified|debt_consolidation| 19.2|          1|             2|                    13|                  null|      12|      0|     3200|      40.0|       21|                  w|   2800.0|        0.0|            0.0|            0.0|          0.0|               0.0|       0.0|                    0.0|            0.0|                         0|                       null|      INDIVIDUAL|             0|           0|      53941|          2|         8|          2|          2|                 7|       50741|   99.8|          2|          3|      1711|    91.7|            8000|          7|          19|          0|\n",
      "|    18000|      18000| 60 months|   16.55|     443.01|    D|       D2|   7 years|      MORTGAGE|  105000.0|           Verified|       credit_card|14.02|          0|             5|                    66|                    67|      17|      2|     9097|      35.5|       63|                  w| 17805.24|     426.46|         426.46|         194.76|        231.7|               0.0|       0.0|                    0.0|         443.01|                         0|                       null|      INDIVIDUAL|             0|         350|     251088|          4|         3|          1|          2|                 5|       53386|   80.7|          6|          9|      3033|    68.1|           25600|          0|          19|          0|\n",
      "|     7200|       7200| 36 months|   13.44|     244.13|    C|       C3|   2 years|          RENT|   57000.0|    Source Verified|debt_consolidation|24.36|          0|             3|                    39|                  null|       8|      0|     1241|      35.5|       11|                  w|   7200.0|        0.0|            0.0|            0.0|          0.0|               0.0|       0.0|                    0.0|            0.0|                         0|                         39|      INDIVIDUAL|             0|        2607|      55917|          2|         3|          0|          2|                16|       54676|   80.9|          3|          5|       967|    78.7|            3500|          1|          18|          0|\n",
      "|    27000|      27000| 36 months|   18.99|     989.58|    E|       E3|   3 years|      MORTGAGE|   65000.0|           Verified|    major_purchase| 21.8|          2|             0|                    13|                  null|      17|      0|     7009|      38.1|       35|                  w|  27000.0|        0.0|            0.0|            0.0|          0.0|               0.0|       0.0|                    0.0|            0.0|                         0|                         13|      INDIVIDUAL|             0|         532|     153974|          1|         3|          1|          2|                 6|       49844|   93.9|          1|         10|      3744|    79.5|           18400|          2|          18|          0|\n",
      "|    24000|      24000| 60 months|   19.89|     634.39|    E|       E3|   6 years|      MORTGAGE|  134000.0|           Verified|debt_consolidation|10.85|          0|             2|                  null|                    70|      12|      1|    15912|      34.1|       25|                  w|  24000.0|        0.0|            0.0|            0.0|          0.0|               0.0|       0.0|                    0.0|            0.0|                         0|                       null|      INDIVIDUAL|             0|           0|     318185|          4|         2|          3|          3|                 7|       37005|   80.2|          6|         10|      9547|    47.6|           46600|          0|          17|          0|\n",
      "|    17000|      17000| 60 months|   22.99|     479.15|    F|       F2|   3 years|      MORTGAGE|  107000.0|    Source Verified|debt_consolidation|18.56|          0|             1|                    45|                  null|      21|      0|    12085|      50.4|       28|                  f| 16846.54|     435.72|         432.52|         153.46|       282.26|               0.0|       0.0|                    0.0|         479.15|                         0|                       null|      INDIVIDUAL|             0|        2360|     357256|          3|         8|          4|          6|                 2|       89222|   91.9|          1|          2|      3507|    83.6|           24000|          0|          17|          0|\n",
      "+---------+-----------+----------+--------+-----------+-----+---------+----------+--------------+----------+-------------------+------------------+-----+-----------+--------------+----------------------+----------------------+--------+-------+---------+----------+---------+-------------------+---------+-----------+---------------+---------------+-------------+------------------+----------+-----------------------+---------------+--------------------------+---------------------------+----------------+--------------+------------+-----------+-----------+----------+-----------+-----------+------------------+------------+-------+-----------+-----------+----------+--------+----------------+-----------+------------+-----------+\n",
      "only showing top 20 rows\n",
      "\n"
     ]
    },
    {
     "name": "stderr",
     "output_type": "stream",
     "text": [
      "                                                                                \r"
     ]
    }
   ],
   "source": [
    "df.filter(df['inq_last_12m'].isNotNull()).sort('inq_last_12m', ascending=False).show()"
   ]
  },
  {
   "cell_type": "code",
   "execution_count": 50,
   "metadata": {},
   "outputs": [
    {
     "data": {
      "text/plain": [
       "0"
      ]
     },
     "execution_count": 50,
     "metadata": {},
     "output_type": "execute_result"
    }
   ],
   "source": [
    "df.filter(df['inq_last_12m'].isNotNull() & (df['default_ind'] == 1)).sort('inq_last_12m', ascending=False).count()"
   ]
  },
  {
   "attachments": {},
   "cell_type": "markdown",
   "metadata": {},
   "source": [
    "In real life, higher number of number of credit inquiries will result in lower result credit, making this loan has a higher chance of default (https://www.canstar.com.au/credit-score/do-credit-checks-affect-your-credit-score/). However it is the opposite with this dataset, as more credit inquiries result in no default rate!"
   ]
  },
  {
   "cell_type": "code",
   "execution_count": 51,
   "metadata": {},
   "outputs": [
    {
     "data": {
      "text/plain": [
       "22935"
      ]
     },
     "execution_count": 51,
     "metadata": {},
     "output_type": "execute_result"
    }
   ],
   "source": [
    "df.filter((df['inq_last_6mths'] != 0) & (df['default_ind'] == 1)).sort('inq_last_6mths', ascending=False).count()"
   ]
  },
  {
   "cell_type": "code",
   "execution_count": 52,
   "metadata": {},
   "outputs": [
    {
     "data": {
      "text/plain": [
       "348439"
      ]
     },
     "execution_count": 52,
     "metadata": {},
     "output_type": "execute_result"
    }
   ],
   "source": [
    "df.filter((df['inq_last_6mths'] != 0)).count()"
   ]
  },
  {
   "attachments": {},
   "cell_type": "markdown",
   "metadata": {},
   "source": [
    "On the other hand, for the `inq_last_6mths` values that not 0, a portion of the data does end up as default. Therefore this column should be kept as it would be a good weight for our ML model, whilst the `inq_last_12m` will be dropped"
   ]
  },
  {
   "cell_type": "code",
   "execution_count": 53,
   "metadata": {},
   "outputs": [],
   "source": [
    "df = df.drop('inq_last_12m')"
   ]
  },
  {
   "attachments": {},
   "cell_type": "markdown",
   "metadata": {},
   "source": [
    "For the rest of the high number of missing values columns, they will also be dropped."
   ]
  },
  {
   "cell_type": "code",
   "execution_count": 54,
   "metadata": {},
   "outputs": [],
   "source": [
    "df = df.drop('open_acc_6m', 'open_il_6m', 'open_il_12m', 'open_il_24m', 'mths_since_rcnt_il', 'total_bal_il', 'il_util', 'open_rv_12m', 'open_rv_24m', 'max_bal_bc', 'all_util', 'total_cu_tl', 'mths_since_last_delinq', 'mths_since_last_record', 'mths_since_last_major_derog')"
   ]
  },
  {
   "cell_type": "code",
   "execution_count": 55,
   "metadata": {},
   "outputs": [
    {
     "data": {
      "text/plain": [
       "{'loan_amnt': 0,\n",
       " 'funded_amnt': 0,\n",
       " 'term': 0,\n",
       " 'int_rate': 0,\n",
       " 'installment': 0,\n",
       " 'grade': 0,\n",
       " 'sub_grade': 0,\n",
       " 'emp_length': 0,\n",
       " 'home_ownership': 0,\n",
       " 'annual_inc': 0,\n",
       " 'verification_status': 0,\n",
       " 'purpose': 0,\n",
       " 'dti': 0,\n",
       " 'delinq_2yrs': 0,\n",
       " 'inq_last_6mths': 0,\n",
       " 'open_acc': 0,\n",
       " 'pub_rec': 0,\n",
       " 'revol_bal': 0,\n",
       " 'revol_util': 401,\n",
       " 'total_acc': 0,\n",
       " 'initial_list_status': 0,\n",
       " 'out_prncp': 0,\n",
       " 'total_pymnt': 0,\n",
       " 'total_pymnt_inv': 0,\n",
       " 'total_rec_prncp': 0,\n",
       " 'total_rec_int': 0,\n",
       " 'total_rec_late_fee': 0,\n",
       " 'recoveries': 0,\n",
       " 'collection_recovery_fee': 0,\n",
       " 'last_pymnt_amnt': 0,\n",
       " 'collections_12_mths_ex_med': 34,\n",
       " 'application_type': 0,\n",
       " 'acc_now_delinq': 0,\n",
       " 'tot_coll_amt': 45453,\n",
       " 'tot_cur_bal': 45453,\n",
       " 'total_rev_hi_lim': 45453,\n",
       " 'default_ind': 0}"
      ]
     },
     "execution_count": 55,
     "metadata": {},
     "output_type": "execute_result"
    }
   ],
   "source": [
    "{col : df.filter(df[col].isNull()).count() for col in df.columns}"
   ]
  },
  {
   "attachments": {},
   "cell_type": "markdown",
   "metadata": {},
   "source": [
    "### Impute the remaining null data"
   ]
  },
  {
   "cell_type": "code",
   "execution_count": 56,
   "metadata": {},
   "outputs": [
    {
     "name": "stderr",
     "output_type": "stream",
     "text": [
      "                                                                                \r"
     ]
    }
   ],
   "source": [
    "from pyspark.ml.feature import Imputer\n",
    "imputer = Imputer(\n",
    "    inputCols=['tot_coll_amt', 'total_rev_hi_lim', 'tot_cur_bal', 'revol_util', 'collections_12_mths_ex_med'],\n",
    "    outputCols=['tot_coll_amt', 'total_rev_hi_lim', 'tot_cur_bal', 'revol_util', 'collections_12_mths_ex_med']\n",
    ")\n",
    "\n",
    "df = imputer.setStrategy(\"median\").fit(df).transform(df)"
   ]
  },
  {
   "cell_type": "code",
   "execution_count": 57,
   "metadata": {},
   "outputs": [
    {
     "name": "stdout",
     "output_type": "stream",
     "text": [
      "+---------+-----------+----------+--------+-----------+-----+---------+----------+--------------+----------+-------------------+------------------+-----+-----------+--------------+--------+-------+---------+----------+---------+-------------------+---------+-----------+---------------+---------------+-------------+------------------+----------+-----------------------+---------------+--------------------------+----------------+--------------+------------+-----------+----------------+-----------+\n",
      "|loan_amnt|funded_amnt|      term|int_rate|installment|grade|sub_grade|emp_length|home_ownership|annual_inc|verification_status|           purpose|  dti|delinq_2yrs|inq_last_6mths|open_acc|pub_rec|revol_bal|revol_util|total_acc|initial_list_status|out_prncp|total_pymnt|total_pymnt_inv|total_rec_prncp|total_rec_int|total_rec_late_fee|recoveries|collection_recovery_fee|last_pymnt_amnt|collections_12_mths_ex_med|application_type|acc_now_delinq|tot_coll_amt|tot_cur_bal|total_rev_hi_lim|default_ind|\n",
      "+---------+-----------+----------+--------+-----------+-----+---------+----------+--------------+----------+-------------------+------------------+-----+-----------+--------------+--------+-------+---------+----------+---------+-------------------+---------+-----------+---------------+---------------+-------------+------------------+----------+-----------------------+---------------+--------------------------+----------------+--------------+------------+-----------+----------------+-----------+\n",
      "|     5000|       5000| 36 months|   10.65|     162.87|    B|       B2| 10+ years|          RENT|   24000.0|           Verified|       credit_card|27.65|          0|             1|       3|      0|    13648|      83.7|        9|                  f|      0.0|5861.071414|        5831.78|         5000.0|       861.07|               0.0|       0.0|                    0.0|         171.62|                         0|      INDIVIDUAL|             0|           0|      80123|           23700|          0|\n",
      "|     2500|       2500| 60 months|   15.27|      59.83|    C|       C4|  < 1 year|          RENT|   30000.0|    Source Verified|               car|  1.0|          0|             5|       3|      0|     1687|       9.4|        4|                  f|      0.0|    1008.71|        1008.71|         456.46|       435.17|               0.0|    117.08|                   1.11|         119.66|                         0|      INDIVIDUAL|             0|           0|      80123|           23700|          1|\n",
      "|     2400|       2400| 36 months|   15.96|      84.33|    C|       C5| 10+ years|          RENT|   12252.0|       Not Verified|    small_business| 8.72|          0|             2|       2|      0|     2956|      98.5|       10|                  f|      0.0|3003.653644|        3003.65|         2400.0|       603.65|               0.0|       0.0|                    0.0|         649.91|                         0|      INDIVIDUAL|             0|           0|      80123|           23700|          0|\n",
      "|     5000|       5000| 36 months|     7.9|     156.46|    A|       A4|   3 years|          RENT|   36000.0|    Source Verified|           wedding| 11.2|          0|             3|       9|      0|     7963|      28.3|       12|                  f|      0.0|5631.377753|        5631.38|         5000.0|       631.38|               0.0|       0.0|                    0.0|         161.03|                         0|      INDIVIDUAL|             0|           0|      80123|           23700|          0|\n",
      "|     3000|       3000| 36 months|   18.64|     109.43|    E|       E1|   9 years|          RENT|   48000.0|    Source Verified|               car| 5.35|          0|             2|       4|      0|     8221|      87.5|        4|                  f|      0.0|3938.144334|        3938.14|         3000.0|       938.14|               0.0|       0.0|                    0.0|         111.34|                         0|      INDIVIDUAL|             0|           0|      80123|           23700|          0|\n",
      "|     5600|       5600| 60 months|   21.28|     152.39|    F|       F2|   4 years|           OWN|   40000.0|    Source Verified|    small_business| 5.55|          0|             2|      11|      0|     5210|      32.6|       13|                  f|      0.0|     646.02|         646.02|         162.02|       294.94|               0.0|    189.06|                   2.09|         152.39|                         0|      INDIVIDUAL|             0|           0|      80123|           23700|          1|\n",
      "|    12000|      12000| 36 months|   12.69|     402.54|    B|       B5| 10+ years|           OWN|   75000.0|    Source Verified|debt_consolidation|10.78|          0|             0|      12|      0|    23336|      67.1|       34|                  f|      0.0|   13943.08|       13943.08|        12000.0|      1943.08|               0.0|       0.0|                    0.0|         6315.3|                         0|      INDIVIDUAL|             0|           0|      80123|           23700|          0|\n",
      "|     9000|       9000| 36 months|   13.49|     305.38|    C|       C1|  < 1 year|          RENT|   30000.0|    Source Verified|debt_consolidation|10.08|          0|             1|       4|      0|    10452|      91.7|        9|                  f|      0.0|     2270.7|         2270.7|        1256.14|       570.26|               0.0|     444.3|                   4.16|         305.38|                         0|      INDIVIDUAL|             0|           0|      80123|           23700|          1|\n",
      "|    10000|      10000| 36 months|   10.65|     325.74|    B|       B2|   3 years|          RENT|  100000.0|    Source Verified|             other| 7.06|          0|             2|      14|      0|    11997|      55.5|       29|                  f|      0.0|    7471.99|        7471.99|        5433.47|      1393.42|               0.0|     645.1|                 6.3145|         325.74|                         0|      INDIVIDUAL|             0|           0|      80123|           23700|          1|\n",
      "|     1000|       1000| 36 months|   16.29|      35.31|    D|       D1|  < 1 year|          RENT|   28000.0|       Not Verified|debt_consolidation|20.31|          0|             1|      11|      0|     6524|      81.5|       23|                  f|      0.0|1270.171106|        1270.17|         1000.0|       270.17|               0.0|       0.0|                    0.0|          36.32|                         0|      INDIVIDUAL|             0|           0|      80123|           23700|          0|\n",
      "|    10000|      10000| 36 months|   15.27|     347.98|    C|       C4|   4 years|          RENT|   42000.0|       Not Verified|  home_improvement| 18.6|          0|             2|      14|      0|    24043|      70.2|       28|                  f|      0.0|12519.26045|       12519.26|        10000.0|      2519.26|               0.0|       0.0|                    0.0|         370.46|                         0|      INDIVIDUAL|             0|           0|      80123|           23700|          0|\n",
      "|     3600|       3600| 36 months|    6.03|     109.57|    A|       A1| 10+ years|      MORTGAGE|  110000.0|       Not Verified|    major_purchase|10.52|          0|             0|      20|      0|    22836|      16.0|       42|                  f|      0.0|    3785.02|        3785.02|         3600.0|       185.02|               0.0|       0.0|                    0.0|         583.45|                         0|      INDIVIDUAL|             0|           0|      80123|           23700|          0|\n",
      "|     6000|       6000| 36 months|   11.71|     198.46|    B|       B3|    1 year|      MORTGAGE|   84000.0|           Verified|           medical|18.44|          2|             0|       4|      0|        0|     37.73|       14|                  f|      0.0|7164.499852|         7164.5|         6000.0|       1149.5|              15.0|       0.0|                    0.0|          16.98|                         0|      INDIVIDUAL|             0|           0|      80123|           23700|          0|\n",
      "|     9200|       9200| 36 months|    6.03|     280.01|    A|       A1|   6 years|          RENT|  77385.19|       Not Verified|debt_consolidation| 9.86|          0|             0|       8|      0|     7314|      23.1|       28|                  f|      0.0|    9459.96|        9459.96|         9200.0|       259.96|               0.0|       0.0|                    0.0|         8061.1|                         0|      INDIVIDUAL|             0|           0|      80123|           23700|          0|\n",
      "|    21000|      21000| 36 months|   12.42|     701.73|    B|       B4| 10+ years|          RENT|  105000.0|           Verified|debt_consolidation|13.22|          0|             0|       7|      0|    32135|      90.3|       38|                  f|      0.0|    14025.4|        14025.4|       10694.96|      3330.44|               0.0|       0.0|                    0.0|         701.73|                         0|      INDIVIDUAL|             0|           0|      80123|           23700|          1|\n",
      "|    10000|      10000| 36 months|   11.71|     330.76|    B|       B3|   5 years|          RENT|   50000.0|       Not Verified|debt_consolidation|16.01|          0|             0|       6|      0|    17800|      91.8|       17|                  f|      0.0|   11536.31|       11536.31|        10000.0|      1536.31|               0.0|       0.0|                    0.0|        4942.63|                         0|      INDIVIDUAL|             0|           0|      80123|           23700|          0|\n",
      "|     6000|       6000| 36 months|   11.71|     198.46|    B|       B3|    1 year|          RENT|   76000.0|       Not Verified|    major_purchase|  2.4|          0|             1|       7|      0|     5963|      29.7|        7|                  f|      0.0|    2050.14|        2050.14|        1305.58|       475.25|               0.0|    269.31|                   2.57|         198.46|                         0|      INDIVIDUAL|             0|           0|      80123|           23700|          1|\n",
      "|    15000|      15000| 36 months|    9.91|     483.38|    B|       B1|   2 years|      MORTGAGE|   92000.0|           Verified|       credit_card|29.44|          0|             0|       8|      0|    13707|      93.9|       31|                  f|      0.0|   15823.48|       15823.48|        15000.0|       823.48|               0.0|       0.0|                    0.0|        2447.05|                         0|      INDIVIDUAL|             0|           0|      80123|           23700|          0|\n",
      "|    15000|      15000| 36 months|   14.27|     514.64|    C|       C2|   9 years|          RENT|   60000.0|       Not Verified|debt_consolidation|15.22|          0|             1|       7|      0|     5872|      57.6|       11|                  f|      0.0|        0.0|            0.0|            0.0|          0.0|               0.0|       0.0|                    0.0|            0.0|                         0|      INDIVIDUAL|             0|           0|      80123|           23700|          1|\n",
      "|     5000|       5000| 60 months|   16.77|     123.65|    D|       D2|   2 years|          RENT|   50004.0|       Not Verified|             other|13.97|          3|             0|      14|      0|     4345|      59.5|       22|                  f|      0.0|    1609.12|        1609.12|         629.05|       719.11|               0.0|    260.96|                    2.3|         123.65|                         0|      INDIVIDUAL|             0|           0|      80123|           23700|          1|\n",
      "+---------+-----------+----------+--------+-----------+-----+---------+----------+--------------+----------+-------------------+------------------+-----+-----------+--------------+--------+-------+---------+----------+---------+-------------------+---------+-----------+---------------+---------------+-------------+------------------+----------+-----------------------+---------------+--------------------------+----------------+--------------+------------+-----------+----------------+-----------+\n",
      "only showing top 20 rows\n",
      "\n"
     ]
    }
   ],
   "source": [
    "df.show()"
   ]
  },
  {
   "cell_type": "code",
   "execution_count": 58,
   "metadata": {},
   "outputs": [
    {
     "data": {
      "application/vnd.plotly.v1+json": {
       "config": {
        "plotlyServerURL": "https://plot.ly"
       },
       "data": [
        {
         "domain": {
          "x": [
           0,
           1
          ],
          "y": [
           0,
           1
          ]
         },
         "hovertemplate": "emp_length=%{label}<br>count=%{value}<extra></extra>",
         "labels": [
          "9 years",
          "5 years",
          "1 year",
          "n/a",
          "2 years",
          "7 years",
          "8 years",
          "4 years",
          "6 years",
          "3 years",
          "10+ years",
          "< 1 year"
         ],
         "legendgroup": "",
         "name": "",
         "showlegend": true,
         "type": "pie",
         "values": [
          31620,
          49836,
          50893,
          41821,
          70536,
          40408,
          40112,
          47088,
          38313,
          62783,
          268127,
          62537
         ]
        }
       ],
       "layout": {
        "legend": {
         "tracegroupgap": 0
        },
        "margin": {
         "t": 60
        },
        "template": {
         "data": {
          "bar": [
           {
            "error_x": {
             "color": "#2a3f5f"
            },
            "error_y": {
             "color": "#2a3f5f"
            },
            "marker": {
             "line": {
              "color": "#E5ECF6",
              "width": 0.5
             },
             "pattern": {
              "fillmode": "overlay",
              "size": 10,
              "solidity": 0.2
             }
            },
            "type": "bar"
           }
          ],
          "barpolar": [
           {
            "marker": {
             "line": {
              "color": "#E5ECF6",
              "width": 0.5
             },
             "pattern": {
              "fillmode": "overlay",
              "size": 10,
              "solidity": 0.2
             }
            },
            "type": "barpolar"
           }
          ],
          "carpet": [
           {
            "aaxis": {
             "endlinecolor": "#2a3f5f",
             "gridcolor": "white",
             "linecolor": "white",
             "minorgridcolor": "white",
             "startlinecolor": "#2a3f5f"
            },
            "baxis": {
             "endlinecolor": "#2a3f5f",
             "gridcolor": "white",
             "linecolor": "white",
             "minorgridcolor": "white",
             "startlinecolor": "#2a3f5f"
            },
            "type": "carpet"
           }
          ],
          "choropleth": [
           {
            "colorbar": {
             "outlinewidth": 0,
             "ticks": ""
            },
            "type": "choropleth"
           }
          ],
          "contour": [
           {
            "colorbar": {
             "outlinewidth": 0,
             "ticks": ""
            },
            "colorscale": [
             [
              0,
              "#0d0887"
             ],
             [
              0.1111111111111111,
              "#46039f"
             ],
             [
              0.2222222222222222,
              "#7201a8"
             ],
             [
              0.3333333333333333,
              "#9c179e"
             ],
             [
              0.4444444444444444,
              "#bd3786"
             ],
             [
              0.5555555555555556,
              "#d8576b"
             ],
             [
              0.6666666666666666,
              "#ed7953"
             ],
             [
              0.7777777777777778,
              "#fb9f3a"
             ],
             [
              0.8888888888888888,
              "#fdca26"
             ],
             [
              1,
              "#f0f921"
             ]
            ],
            "type": "contour"
           }
          ],
          "contourcarpet": [
           {
            "colorbar": {
             "outlinewidth": 0,
             "ticks": ""
            },
            "type": "contourcarpet"
           }
          ],
          "heatmap": [
           {
            "colorbar": {
             "outlinewidth": 0,
             "ticks": ""
            },
            "colorscale": [
             [
              0,
              "#0d0887"
             ],
             [
              0.1111111111111111,
              "#46039f"
             ],
             [
              0.2222222222222222,
              "#7201a8"
             ],
             [
              0.3333333333333333,
              "#9c179e"
             ],
             [
              0.4444444444444444,
              "#bd3786"
             ],
             [
              0.5555555555555556,
              "#d8576b"
             ],
             [
              0.6666666666666666,
              "#ed7953"
             ],
             [
              0.7777777777777778,
              "#fb9f3a"
             ],
             [
              0.8888888888888888,
              "#fdca26"
             ],
             [
              1,
              "#f0f921"
             ]
            ],
            "type": "heatmap"
           }
          ],
          "heatmapgl": [
           {
            "colorbar": {
             "outlinewidth": 0,
             "ticks": ""
            },
            "colorscale": [
             [
              0,
              "#0d0887"
             ],
             [
              0.1111111111111111,
              "#46039f"
             ],
             [
              0.2222222222222222,
              "#7201a8"
             ],
             [
              0.3333333333333333,
              "#9c179e"
             ],
             [
              0.4444444444444444,
              "#bd3786"
             ],
             [
              0.5555555555555556,
              "#d8576b"
             ],
             [
              0.6666666666666666,
              "#ed7953"
             ],
             [
              0.7777777777777778,
              "#fb9f3a"
             ],
             [
              0.8888888888888888,
              "#fdca26"
             ],
             [
              1,
              "#f0f921"
             ]
            ],
            "type": "heatmapgl"
           }
          ],
          "histogram": [
           {
            "marker": {
             "pattern": {
              "fillmode": "overlay",
              "size": 10,
              "solidity": 0.2
             }
            },
            "type": "histogram"
           }
          ],
          "histogram2d": [
           {
            "colorbar": {
             "outlinewidth": 0,
             "ticks": ""
            },
            "colorscale": [
             [
              0,
              "#0d0887"
             ],
             [
              0.1111111111111111,
              "#46039f"
             ],
             [
              0.2222222222222222,
              "#7201a8"
             ],
             [
              0.3333333333333333,
              "#9c179e"
             ],
             [
              0.4444444444444444,
              "#bd3786"
             ],
             [
              0.5555555555555556,
              "#d8576b"
             ],
             [
              0.6666666666666666,
              "#ed7953"
             ],
             [
              0.7777777777777778,
              "#fb9f3a"
             ],
             [
              0.8888888888888888,
              "#fdca26"
             ],
             [
              1,
              "#f0f921"
             ]
            ],
            "type": "histogram2d"
           }
          ],
          "histogram2dcontour": [
           {
            "colorbar": {
             "outlinewidth": 0,
             "ticks": ""
            },
            "colorscale": [
             [
              0,
              "#0d0887"
             ],
             [
              0.1111111111111111,
              "#46039f"
             ],
             [
              0.2222222222222222,
              "#7201a8"
             ],
             [
              0.3333333333333333,
              "#9c179e"
             ],
             [
              0.4444444444444444,
              "#bd3786"
             ],
             [
              0.5555555555555556,
              "#d8576b"
             ],
             [
              0.6666666666666666,
              "#ed7953"
             ],
             [
              0.7777777777777778,
              "#fb9f3a"
             ],
             [
              0.8888888888888888,
              "#fdca26"
             ],
             [
              1,
              "#f0f921"
             ]
            ],
            "type": "histogram2dcontour"
           }
          ],
          "mesh3d": [
           {
            "colorbar": {
             "outlinewidth": 0,
             "ticks": ""
            },
            "type": "mesh3d"
           }
          ],
          "parcoords": [
           {
            "line": {
             "colorbar": {
              "outlinewidth": 0,
              "ticks": ""
             }
            },
            "type": "parcoords"
           }
          ],
          "pie": [
           {
            "automargin": true,
            "type": "pie"
           }
          ],
          "scatter": [
           {
            "fillpattern": {
             "fillmode": "overlay",
             "size": 10,
             "solidity": 0.2
            },
            "type": "scatter"
           }
          ],
          "scatter3d": [
           {
            "line": {
             "colorbar": {
              "outlinewidth": 0,
              "ticks": ""
             }
            },
            "marker": {
             "colorbar": {
              "outlinewidth": 0,
              "ticks": ""
             }
            },
            "type": "scatter3d"
           }
          ],
          "scattercarpet": [
           {
            "marker": {
             "colorbar": {
              "outlinewidth": 0,
              "ticks": ""
             }
            },
            "type": "scattercarpet"
           }
          ],
          "scattergeo": [
           {
            "marker": {
             "colorbar": {
              "outlinewidth": 0,
              "ticks": ""
             }
            },
            "type": "scattergeo"
           }
          ],
          "scattergl": [
           {
            "marker": {
             "colorbar": {
              "outlinewidth": 0,
              "ticks": ""
             }
            },
            "type": "scattergl"
           }
          ],
          "scattermapbox": [
           {
            "marker": {
             "colorbar": {
              "outlinewidth": 0,
              "ticks": ""
             }
            },
            "type": "scattermapbox"
           }
          ],
          "scatterpolar": [
           {
            "marker": {
             "colorbar": {
              "outlinewidth": 0,
              "ticks": ""
             }
            },
            "type": "scatterpolar"
           }
          ],
          "scatterpolargl": [
           {
            "marker": {
             "colorbar": {
              "outlinewidth": 0,
              "ticks": ""
             }
            },
            "type": "scatterpolargl"
           }
          ],
          "scatterternary": [
           {
            "marker": {
             "colorbar": {
              "outlinewidth": 0,
              "ticks": ""
             }
            },
            "type": "scatterternary"
           }
          ],
          "surface": [
           {
            "colorbar": {
             "outlinewidth": 0,
             "ticks": ""
            },
            "colorscale": [
             [
              0,
              "#0d0887"
             ],
             [
              0.1111111111111111,
              "#46039f"
             ],
             [
              0.2222222222222222,
              "#7201a8"
             ],
             [
              0.3333333333333333,
              "#9c179e"
             ],
             [
              0.4444444444444444,
              "#bd3786"
             ],
             [
              0.5555555555555556,
              "#d8576b"
             ],
             [
              0.6666666666666666,
              "#ed7953"
             ],
             [
              0.7777777777777778,
              "#fb9f3a"
             ],
             [
              0.8888888888888888,
              "#fdca26"
             ],
             [
              1,
              "#f0f921"
             ]
            ],
            "type": "surface"
           }
          ],
          "table": [
           {
            "cells": {
             "fill": {
              "color": "#EBF0F8"
             },
             "line": {
              "color": "white"
             }
            },
            "header": {
             "fill": {
              "color": "#C8D4E3"
             },
             "line": {
              "color": "white"
             }
            },
            "type": "table"
           }
          ]
         },
         "layout": {
          "annotationdefaults": {
           "arrowcolor": "#2a3f5f",
           "arrowhead": 0,
           "arrowwidth": 1
          },
          "autotypenumbers": "strict",
          "coloraxis": {
           "colorbar": {
            "outlinewidth": 0,
            "ticks": ""
           }
          },
          "colorscale": {
           "diverging": [
            [
             0,
             "#8e0152"
            ],
            [
             0.1,
             "#c51b7d"
            ],
            [
             0.2,
             "#de77ae"
            ],
            [
             0.3,
             "#f1b6da"
            ],
            [
             0.4,
             "#fde0ef"
            ],
            [
             0.5,
             "#f7f7f7"
            ],
            [
             0.6,
             "#e6f5d0"
            ],
            [
             0.7,
             "#b8e186"
            ],
            [
             0.8,
             "#7fbc41"
            ],
            [
             0.9,
             "#4d9221"
            ],
            [
             1,
             "#276419"
            ]
           ],
           "sequential": [
            [
             0,
             "#0d0887"
            ],
            [
             0.1111111111111111,
             "#46039f"
            ],
            [
             0.2222222222222222,
             "#7201a8"
            ],
            [
             0.3333333333333333,
             "#9c179e"
            ],
            [
             0.4444444444444444,
             "#bd3786"
            ],
            [
             0.5555555555555556,
             "#d8576b"
            ],
            [
             0.6666666666666666,
             "#ed7953"
            ],
            [
             0.7777777777777778,
             "#fb9f3a"
            ],
            [
             0.8888888888888888,
             "#fdca26"
            ],
            [
             1,
             "#f0f921"
            ]
           ],
           "sequentialminus": [
            [
             0,
             "#0d0887"
            ],
            [
             0.1111111111111111,
             "#46039f"
            ],
            [
             0.2222222222222222,
             "#7201a8"
            ],
            [
             0.3333333333333333,
             "#9c179e"
            ],
            [
             0.4444444444444444,
             "#bd3786"
            ],
            [
             0.5555555555555556,
             "#d8576b"
            ],
            [
             0.6666666666666666,
             "#ed7953"
            ],
            [
             0.7777777777777778,
             "#fb9f3a"
            ],
            [
             0.8888888888888888,
             "#fdca26"
            ],
            [
             1,
             "#f0f921"
            ]
           ]
          },
          "colorway": [
           "#636efa",
           "#EF553B",
           "#00cc96",
           "#ab63fa",
           "#FFA15A",
           "#19d3f3",
           "#FF6692",
           "#B6E880",
           "#FF97FF",
           "#FECB52"
          ],
          "font": {
           "color": "#2a3f5f"
          },
          "geo": {
           "bgcolor": "white",
           "lakecolor": "white",
           "landcolor": "#E5ECF6",
           "showlakes": true,
           "showland": true,
           "subunitcolor": "white"
          },
          "hoverlabel": {
           "align": "left"
          },
          "hovermode": "closest",
          "mapbox": {
           "style": "light"
          },
          "paper_bgcolor": "white",
          "plot_bgcolor": "#E5ECF6",
          "polar": {
           "angularaxis": {
            "gridcolor": "white",
            "linecolor": "white",
            "ticks": ""
           },
           "bgcolor": "#E5ECF6",
           "radialaxis": {
            "gridcolor": "white",
            "linecolor": "white",
            "ticks": ""
           }
          },
          "scene": {
           "xaxis": {
            "backgroundcolor": "#E5ECF6",
            "gridcolor": "white",
            "gridwidth": 2,
            "linecolor": "white",
            "showbackground": true,
            "ticks": "",
            "zerolinecolor": "white"
           },
           "yaxis": {
            "backgroundcolor": "#E5ECF6",
            "gridcolor": "white",
            "gridwidth": 2,
            "linecolor": "white",
            "showbackground": true,
            "ticks": "",
            "zerolinecolor": "white"
           },
           "zaxis": {
            "backgroundcolor": "#E5ECF6",
            "gridcolor": "white",
            "gridwidth": 2,
            "linecolor": "white",
            "showbackground": true,
            "ticks": "",
            "zerolinecolor": "white"
           }
          },
          "shapedefaults": {
           "line": {
            "color": "#2a3f5f"
           }
          },
          "ternary": {
           "aaxis": {
            "gridcolor": "white",
            "linecolor": "white",
            "ticks": ""
           },
           "baxis": {
            "gridcolor": "white",
            "linecolor": "white",
            "ticks": ""
           },
           "bgcolor": "#E5ECF6",
           "caxis": {
            "gridcolor": "white",
            "linecolor": "white",
            "ticks": ""
           }
          },
          "title": {
           "x": 0.05
          },
          "xaxis": {
           "automargin": true,
           "gridcolor": "white",
           "linecolor": "white",
           "ticks": "",
           "title": {
            "standoff": 15
           },
           "zerolinecolor": "white",
           "zerolinewidth": 2
          },
          "yaxis": {
           "automargin": true,
           "gridcolor": "white",
           "linecolor": "white",
           "ticks": "",
           "title": {
            "standoff": 15
           },
           "zerolinecolor": "white",
           "zerolinewidth": 2
          }
         }
        }
       }
      }
     },
     "metadata": {},
     "output_type": "display_data"
    }
   ],
   "source": [
    "df.select('emp_length').groupBy('emp_length').count().to_pandas_on_spark(index_col=['emp_length']).plot.pie(y='count')"
   ]
  },
  {
   "attachments": {},
   "cell_type": "markdown",
   "metadata": {},
   "source": [
    "# Stage 2: Predictive analysis "
   ]
  },
  {
   "attachments": {},
   "cell_type": "markdown",
   "metadata": {},
   "source": [
    "One Hot Encoding all the categorical value"
   ]
  },
  {
   "cell_type": "code",
   "execution_count": 59,
   "metadata": {},
   "outputs": [],
   "source": [
    "categorical_cols = [item[0] for item in df.dtypes if item[1].startswith('string')]"
   ]
  },
  {
   "cell_type": "code",
   "execution_count": 60,
   "metadata": {},
   "outputs": [
    {
     "data": {
      "text/plain": [
       "['term',\n",
       " 'grade',\n",
       " 'sub_grade',\n",
       " 'emp_length',\n",
       " 'home_ownership',\n",
       " 'verification_status',\n",
       " 'purpose',\n",
       " 'initial_list_status',\n",
       " 'application_type']"
      ]
     },
     "execution_count": 60,
     "metadata": {},
     "output_type": "execute_result"
    }
   ],
   "source": [
    "categorical_cols"
   ]
  },
  {
   "cell_type": "code",
   "execution_count": 61,
   "metadata": {},
   "outputs": [],
   "source": [
    "onehot_output_cols = list(map(lambda col : f\"{col}_onehot\", categorical_cols))"
   ]
  },
  {
   "cell_type": "code",
   "execution_count": 62,
   "metadata": {},
   "outputs": [],
   "source": [
    "numeric_output_cols = list(map(lambda col : f\"{col}_numeric\", categorical_cols))"
   ]
  },
  {
   "cell_type": "code",
   "execution_count": 63,
   "metadata": {},
   "outputs": [
    {
     "name": "stderr",
     "output_type": "stream",
     "text": [
      "                                                                                \r"
     ]
    }
   ],
   "source": [
    "from pyspark.ml.feature import OneHotEncoder, StringIndexer\n",
    "indexer = StringIndexer(inputCols=categorical_cols, outputCols=numeric_output_cols)\n",
    "indexer_fitted = indexer.fit(df)\n",
    "df_indexed = indexer_fitted.transform(df)\n",
    "\n",
    "one_hot = OneHotEncoder(inputCols=numeric_output_cols, outputCols=onehot_output_cols)\n",
    "one_hot_df = one_hot.fit(df_indexed).transform(df_indexed)\n",
    "df_one_hot = one_hot_df.drop(*numeric_output_cols, *categorical_cols)\n"
   ]
  },
  {
   "attachments": {},
   "cell_type": "markdown",
   "metadata": {},
   "source": [
    "## Process the training/testing data"
   ]
  },
  {
   "attachments": {},
   "cell_type": "markdown",
   "metadata": {},
   "source": [
    "### Resampling the training data with 50% default and 50% non-default"
   ]
  },
  {
   "cell_type": "code",
   "execution_count": 64,
   "metadata": {},
   "outputs": [],
   "source": [
    "default_records = df_one_hot.filter(df['default_ind'] == 1).count()"
   ]
  },
  {
   "cell_type": "code",
   "execution_count": 65,
   "metadata": {},
   "outputs": [],
   "source": [
    "non_default_records = df_one_hot.filter(df['default_ind'] == 0).count()"
   ]
  },
  {
   "cell_type": "code",
   "execution_count": 66,
   "metadata": {},
   "outputs": [],
   "source": [
    "X = df_one_hot.sampleBy(\"default_ind\", fractions={0: default_records/non_default_records, 1: 1}, seed=42)"
   ]
  },
  {
   "cell_type": "code",
   "execution_count": 67,
   "metadata": {},
   "outputs": [
    {
     "name": "stderr",
     "output_type": "stream",
     "text": [
      "                                                                                \r"
     ]
    },
    {
     "data": {
      "text/plain": [
       "40660"
      ]
     },
     "execution_count": 67,
     "metadata": {},
     "output_type": "execute_result"
    }
   ],
   "source": [
    "X.filter(X['default_ind'] == 1).count()"
   ]
  },
  {
   "cell_type": "code",
   "execution_count": 68,
   "metadata": {},
   "outputs": [
    {
     "name": "stderr",
     "output_type": "stream",
     "text": [
      "                                                                                \r"
     ]
    },
    {
     "data": {
      "text/plain": [
       "40928"
      ]
     },
     "execution_count": 68,
     "metadata": {},
     "output_type": "execute_result"
    }
   ],
   "source": [
    "X.filter(X['default_ind'] == 0).count()"
   ]
  },
  {
   "cell_type": "code",
   "execution_count": 69,
   "metadata": {},
   "outputs": [
    {
     "data": {
      "application/vnd.plotly.v1+json": {
       "config": {
        "plotlyServerURL": "https://plot.ly"
       },
       "data": [
        {
         "domain": {
          "x": [
           0,
           1
          ],
          "y": [
           0,
           1
          ]
         },
         "hovertemplate": "default_ind=%{label}<br>count=%{value}<extra></extra>",
         "labels": [
          1,
          0
         ],
         "legendgroup": "",
         "name": "",
         "showlegend": true,
         "type": "pie",
         "values": [
          40660,
          40928
         ]
        }
       ],
       "layout": {
        "legend": {
         "tracegroupgap": 0
        },
        "margin": {
         "t": 60
        },
        "template": {
         "data": {
          "bar": [
           {
            "error_x": {
             "color": "#2a3f5f"
            },
            "error_y": {
             "color": "#2a3f5f"
            },
            "marker": {
             "line": {
              "color": "#E5ECF6",
              "width": 0.5
             },
             "pattern": {
              "fillmode": "overlay",
              "size": 10,
              "solidity": 0.2
             }
            },
            "type": "bar"
           }
          ],
          "barpolar": [
           {
            "marker": {
             "line": {
              "color": "#E5ECF6",
              "width": 0.5
             },
             "pattern": {
              "fillmode": "overlay",
              "size": 10,
              "solidity": 0.2
             }
            },
            "type": "barpolar"
           }
          ],
          "carpet": [
           {
            "aaxis": {
             "endlinecolor": "#2a3f5f",
             "gridcolor": "white",
             "linecolor": "white",
             "minorgridcolor": "white",
             "startlinecolor": "#2a3f5f"
            },
            "baxis": {
             "endlinecolor": "#2a3f5f",
             "gridcolor": "white",
             "linecolor": "white",
             "minorgridcolor": "white",
             "startlinecolor": "#2a3f5f"
            },
            "type": "carpet"
           }
          ],
          "choropleth": [
           {
            "colorbar": {
             "outlinewidth": 0,
             "ticks": ""
            },
            "type": "choropleth"
           }
          ],
          "contour": [
           {
            "colorbar": {
             "outlinewidth": 0,
             "ticks": ""
            },
            "colorscale": [
             [
              0,
              "#0d0887"
             ],
             [
              0.1111111111111111,
              "#46039f"
             ],
             [
              0.2222222222222222,
              "#7201a8"
             ],
             [
              0.3333333333333333,
              "#9c179e"
             ],
             [
              0.4444444444444444,
              "#bd3786"
             ],
             [
              0.5555555555555556,
              "#d8576b"
             ],
             [
              0.6666666666666666,
              "#ed7953"
             ],
             [
              0.7777777777777778,
              "#fb9f3a"
             ],
             [
              0.8888888888888888,
              "#fdca26"
             ],
             [
              1,
              "#f0f921"
             ]
            ],
            "type": "contour"
           }
          ],
          "contourcarpet": [
           {
            "colorbar": {
             "outlinewidth": 0,
             "ticks": ""
            },
            "type": "contourcarpet"
           }
          ],
          "heatmap": [
           {
            "colorbar": {
             "outlinewidth": 0,
             "ticks": ""
            },
            "colorscale": [
             [
              0,
              "#0d0887"
             ],
             [
              0.1111111111111111,
              "#46039f"
             ],
             [
              0.2222222222222222,
              "#7201a8"
             ],
             [
              0.3333333333333333,
              "#9c179e"
             ],
             [
              0.4444444444444444,
              "#bd3786"
             ],
             [
              0.5555555555555556,
              "#d8576b"
             ],
             [
              0.6666666666666666,
              "#ed7953"
             ],
             [
              0.7777777777777778,
              "#fb9f3a"
             ],
             [
              0.8888888888888888,
              "#fdca26"
             ],
             [
              1,
              "#f0f921"
             ]
            ],
            "type": "heatmap"
           }
          ],
          "heatmapgl": [
           {
            "colorbar": {
             "outlinewidth": 0,
             "ticks": ""
            },
            "colorscale": [
             [
              0,
              "#0d0887"
             ],
             [
              0.1111111111111111,
              "#46039f"
             ],
             [
              0.2222222222222222,
              "#7201a8"
             ],
             [
              0.3333333333333333,
              "#9c179e"
             ],
             [
              0.4444444444444444,
              "#bd3786"
             ],
             [
              0.5555555555555556,
              "#d8576b"
             ],
             [
              0.6666666666666666,
              "#ed7953"
             ],
             [
              0.7777777777777778,
              "#fb9f3a"
             ],
             [
              0.8888888888888888,
              "#fdca26"
             ],
             [
              1,
              "#f0f921"
             ]
            ],
            "type": "heatmapgl"
           }
          ],
          "histogram": [
           {
            "marker": {
             "pattern": {
              "fillmode": "overlay",
              "size": 10,
              "solidity": 0.2
             }
            },
            "type": "histogram"
           }
          ],
          "histogram2d": [
           {
            "colorbar": {
             "outlinewidth": 0,
             "ticks": ""
            },
            "colorscale": [
             [
              0,
              "#0d0887"
             ],
             [
              0.1111111111111111,
              "#46039f"
             ],
             [
              0.2222222222222222,
              "#7201a8"
             ],
             [
              0.3333333333333333,
              "#9c179e"
             ],
             [
              0.4444444444444444,
              "#bd3786"
             ],
             [
              0.5555555555555556,
              "#d8576b"
             ],
             [
              0.6666666666666666,
              "#ed7953"
             ],
             [
              0.7777777777777778,
              "#fb9f3a"
             ],
             [
              0.8888888888888888,
              "#fdca26"
             ],
             [
              1,
              "#f0f921"
             ]
            ],
            "type": "histogram2d"
           }
          ],
          "histogram2dcontour": [
           {
            "colorbar": {
             "outlinewidth": 0,
             "ticks": ""
            },
            "colorscale": [
             [
              0,
              "#0d0887"
             ],
             [
              0.1111111111111111,
              "#46039f"
             ],
             [
              0.2222222222222222,
              "#7201a8"
             ],
             [
              0.3333333333333333,
              "#9c179e"
             ],
             [
              0.4444444444444444,
              "#bd3786"
             ],
             [
              0.5555555555555556,
              "#d8576b"
             ],
             [
              0.6666666666666666,
              "#ed7953"
             ],
             [
              0.7777777777777778,
              "#fb9f3a"
             ],
             [
              0.8888888888888888,
              "#fdca26"
             ],
             [
              1,
              "#f0f921"
             ]
            ],
            "type": "histogram2dcontour"
           }
          ],
          "mesh3d": [
           {
            "colorbar": {
             "outlinewidth": 0,
             "ticks": ""
            },
            "type": "mesh3d"
           }
          ],
          "parcoords": [
           {
            "line": {
             "colorbar": {
              "outlinewidth": 0,
              "ticks": ""
             }
            },
            "type": "parcoords"
           }
          ],
          "pie": [
           {
            "automargin": true,
            "type": "pie"
           }
          ],
          "scatter": [
           {
            "fillpattern": {
             "fillmode": "overlay",
             "size": 10,
             "solidity": 0.2
            },
            "type": "scatter"
           }
          ],
          "scatter3d": [
           {
            "line": {
             "colorbar": {
              "outlinewidth": 0,
              "ticks": ""
             }
            },
            "marker": {
             "colorbar": {
              "outlinewidth": 0,
              "ticks": ""
             }
            },
            "type": "scatter3d"
           }
          ],
          "scattercarpet": [
           {
            "marker": {
             "colorbar": {
              "outlinewidth": 0,
              "ticks": ""
             }
            },
            "type": "scattercarpet"
           }
          ],
          "scattergeo": [
           {
            "marker": {
             "colorbar": {
              "outlinewidth": 0,
              "ticks": ""
             }
            },
            "type": "scattergeo"
           }
          ],
          "scattergl": [
           {
            "marker": {
             "colorbar": {
              "outlinewidth": 0,
              "ticks": ""
             }
            },
            "type": "scattergl"
           }
          ],
          "scattermapbox": [
           {
            "marker": {
             "colorbar": {
              "outlinewidth": 0,
              "ticks": ""
             }
            },
            "type": "scattermapbox"
           }
          ],
          "scatterpolar": [
           {
            "marker": {
             "colorbar": {
              "outlinewidth": 0,
              "ticks": ""
             }
            },
            "type": "scatterpolar"
           }
          ],
          "scatterpolargl": [
           {
            "marker": {
             "colorbar": {
              "outlinewidth": 0,
              "ticks": ""
             }
            },
            "type": "scatterpolargl"
           }
          ],
          "scatterternary": [
           {
            "marker": {
             "colorbar": {
              "outlinewidth": 0,
              "ticks": ""
             }
            },
            "type": "scatterternary"
           }
          ],
          "surface": [
           {
            "colorbar": {
             "outlinewidth": 0,
             "ticks": ""
            },
            "colorscale": [
             [
              0,
              "#0d0887"
             ],
             [
              0.1111111111111111,
              "#46039f"
             ],
             [
              0.2222222222222222,
              "#7201a8"
             ],
             [
              0.3333333333333333,
              "#9c179e"
             ],
             [
              0.4444444444444444,
              "#bd3786"
             ],
             [
              0.5555555555555556,
              "#d8576b"
             ],
             [
              0.6666666666666666,
              "#ed7953"
             ],
             [
              0.7777777777777778,
              "#fb9f3a"
             ],
             [
              0.8888888888888888,
              "#fdca26"
             ],
             [
              1,
              "#f0f921"
             ]
            ],
            "type": "surface"
           }
          ],
          "table": [
           {
            "cells": {
             "fill": {
              "color": "#EBF0F8"
             },
             "line": {
              "color": "white"
             }
            },
            "header": {
             "fill": {
              "color": "#C8D4E3"
             },
             "line": {
              "color": "white"
             }
            },
            "type": "table"
           }
          ]
         },
         "layout": {
          "annotationdefaults": {
           "arrowcolor": "#2a3f5f",
           "arrowhead": 0,
           "arrowwidth": 1
          },
          "autotypenumbers": "strict",
          "coloraxis": {
           "colorbar": {
            "outlinewidth": 0,
            "ticks": ""
           }
          },
          "colorscale": {
           "diverging": [
            [
             0,
             "#8e0152"
            ],
            [
             0.1,
             "#c51b7d"
            ],
            [
             0.2,
             "#de77ae"
            ],
            [
             0.3,
             "#f1b6da"
            ],
            [
             0.4,
             "#fde0ef"
            ],
            [
             0.5,
             "#f7f7f7"
            ],
            [
             0.6,
             "#e6f5d0"
            ],
            [
             0.7,
             "#b8e186"
            ],
            [
             0.8,
             "#7fbc41"
            ],
            [
             0.9,
             "#4d9221"
            ],
            [
             1,
             "#276419"
            ]
           ],
           "sequential": [
            [
             0,
             "#0d0887"
            ],
            [
             0.1111111111111111,
             "#46039f"
            ],
            [
             0.2222222222222222,
             "#7201a8"
            ],
            [
             0.3333333333333333,
             "#9c179e"
            ],
            [
             0.4444444444444444,
             "#bd3786"
            ],
            [
             0.5555555555555556,
             "#d8576b"
            ],
            [
             0.6666666666666666,
             "#ed7953"
            ],
            [
             0.7777777777777778,
             "#fb9f3a"
            ],
            [
             0.8888888888888888,
             "#fdca26"
            ],
            [
             1,
             "#f0f921"
            ]
           ],
           "sequentialminus": [
            [
             0,
             "#0d0887"
            ],
            [
             0.1111111111111111,
             "#46039f"
            ],
            [
             0.2222222222222222,
             "#7201a8"
            ],
            [
             0.3333333333333333,
             "#9c179e"
            ],
            [
             0.4444444444444444,
             "#bd3786"
            ],
            [
             0.5555555555555556,
             "#d8576b"
            ],
            [
             0.6666666666666666,
             "#ed7953"
            ],
            [
             0.7777777777777778,
             "#fb9f3a"
            ],
            [
             0.8888888888888888,
             "#fdca26"
            ],
            [
             1,
             "#f0f921"
            ]
           ]
          },
          "colorway": [
           "#636efa",
           "#EF553B",
           "#00cc96",
           "#ab63fa",
           "#FFA15A",
           "#19d3f3",
           "#FF6692",
           "#B6E880",
           "#FF97FF",
           "#FECB52"
          ],
          "font": {
           "color": "#2a3f5f"
          },
          "geo": {
           "bgcolor": "white",
           "lakecolor": "white",
           "landcolor": "#E5ECF6",
           "showlakes": true,
           "showland": true,
           "subunitcolor": "white"
          },
          "hoverlabel": {
           "align": "left"
          },
          "hovermode": "closest",
          "mapbox": {
           "style": "light"
          },
          "paper_bgcolor": "white",
          "plot_bgcolor": "#E5ECF6",
          "polar": {
           "angularaxis": {
            "gridcolor": "white",
            "linecolor": "white",
            "ticks": ""
           },
           "bgcolor": "#E5ECF6",
           "radialaxis": {
            "gridcolor": "white",
            "linecolor": "white",
            "ticks": ""
           }
          },
          "scene": {
           "xaxis": {
            "backgroundcolor": "#E5ECF6",
            "gridcolor": "white",
            "gridwidth": 2,
            "linecolor": "white",
            "showbackground": true,
            "ticks": "",
            "zerolinecolor": "white"
           },
           "yaxis": {
            "backgroundcolor": "#E5ECF6",
            "gridcolor": "white",
            "gridwidth": 2,
            "linecolor": "white",
            "showbackground": true,
            "ticks": "",
            "zerolinecolor": "white"
           },
           "zaxis": {
            "backgroundcolor": "#E5ECF6",
            "gridcolor": "white",
            "gridwidth": 2,
            "linecolor": "white",
            "showbackground": true,
            "ticks": "",
            "zerolinecolor": "white"
           }
          },
          "shapedefaults": {
           "line": {
            "color": "#2a3f5f"
           }
          },
          "ternary": {
           "aaxis": {
            "gridcolor": "white",
            "linecolor": "white",
            "ticks": ""
           },
           "baxis": {
            "gridcolor": "white",
            "linecolor": "white",
            "ticks": ""
           },
           "bgcolor": "#E5ECF6",
           "caxis": {
            "gridcolor": "white",
            "linecolor": "white",
            "ticks": ""
           }
          },
          "title": {
           "x": 0.05
          },
          "xaxis": {
           "automargin": true,
           "gridcolor": "white",
           "linecolor": "white",
           "ticks": "",
           "title": {
            "standoff": 15
           },
           "zerolinecolor": "white",
           "zerolinewidth": 2
          },
          "yaxis": {
           "automargin": true,
           "gridcolor": "white",
           "linecolor": "white",
           "ticks": "",
           "title": {
            "standoff": 15
           },
           "zerolinecolor": "white",
           "zerolinewidth": 2
          }
         }
        }
       }
      }
     },
     "metadata": {},
     "output_type": "display_data"
    }
   ],
   "source": [
    "X.groupBy('default_ind').count().to_pandas_on_spark(index_col='default_ind').plot.pie(y='count')"
   ]
  },
  {
   "attachments": {},
   "cell_type": "markdown",
   "metadata": {},
   "source": [
    "Now that our training data is well sampled, let's split the training data into 70% training and 30% testing"
   ]
  },
  {
   "cell_type": "code",
   "execution_count": 70,
   "metadata": {},
   "outputs": [],
   "source": [
    "(train, test) = X.randomSplit([0.7, 0.3], seed=42)"
   ]
  },
  {
   "attachments": {},
   "cell_type": "markdown",
   "metadata": {},
   "source": [
    "## Process One (3 ML Models with Spark ML)"
   ]
  },
  {
   "cell_type": "code",
   "execution_count": 71,
   "metadata": {},
   "outputs": [],
   "source": [
    "from pyspark.ml.feature import VectorAssembler\n",
    "from pyspark.ml.evaluation import BinaryClassificationEvaluator, MulticlassClassificationEvaluator\n",
    "from pyspark.mllib.evaluation import MulticlassMetrics\n",
    "from pyspark.sql.types import DoubleType, FloatType"
   ]
  },
  {
   "cell_type": "code",
   "execution_count": 72,
   "metadata": {},
   "outputs": [],
   "source": [
    "columns = df_one_hot.columns\n",
    "columns.remove('default_ind')"
   ]
  },
  {
   "cell_type": "code",
   "execution_count": 73,
   "metadata": {},
   "outputs": [],
   "source": [
    "vector_assembler = VectorAssembler(\n",
    "    inputCols=columns,\n",
    "    outputCol=\"features\"\n",
    ")"
   ]
  },
  {
   "cell_type": "code",
   "execution_count": 74,
   "metadata": {},
   "outputs": [],
   "source": [
    "import matplotlib.pyplot as plt\n",
    "from sklearn.metrics import roc_curve, auc\n",
    "def graph_roc_curve(y_true, y_pred):\n",
    "    fpr, tpr, thresholds = roc_curve(y_true, y_pred)\n",
    "    roc_auc = auc(fpr, tpr)\n",
    "\n",
    "    plt.figure()\n",
    "    plt.plot(fpr, tpr, color='darkorange', label='ROC curve (area = %0.2f)' % roc_auc)\n",
    "    plt.plot([0, 1], [0, 1], color='navy', linestyle='--')\n",
    "    plt.xlim([0.0, 1.0])\n",
    "    plt.ylim([0.0, 1.05])\n",
    "    plt.xlabel('False Positive Rate')\n",
    "    plt.ylabel('True Positive Rate')\n",
    "    plt.title('ROC Curve')\n",
    "    plt.legend(loc=\"lower right\")\n",
    "    plt.show()"
   ]
  },
  {
   "cell_type": "code",
   "execution_count": 75,
   "metadata": {},
   "outputs": [],
   "source": [
    "import numpy as np\n",
    "def graph_confusion_matrix(confusion_matrix):\n",
    "    # Define class labels\n",
    "    classes = ['0', '1']\n",
    "\n",
    "    plt.imshow(confusion_matrix, cmap='Blues')\n",
    "    plt.colorbar()\n",
    "\n",
    "    plt.xticks(np.arange(len(classes)), classes)\n",
    "    plt.yticks(np.arange(len(classes)), classes)\n",
    "\n",
    "    for i in range(len(classes)):\n",
    "        for j in range(len(classes)):\n",
    "            plt.text(j, i, confusion_matrix[i, j], ha=\"center\", va=\"center\", color=\"black\" if (j == 1 and i == 0) or (j == 0 and i == 1) else \"white\")\n",
    "\n",
    "    plt.title(\"Confusion Matrix\")\n",
    "    plt.xlabel(\"Predicted label\")\n",
    "    plt.ylabel(\"True label\")\n",
    "\n",
    "    plt.show()\n"
   ]
  },
  {
   "cell_type": "code",
   "execution_count": 76,
   "metadata": {},
   "outputs": [],
   "source": [
    "def get_spark_ml_perf(predictions):\n",
    "    binary_eval = BinaryClassificationEvaluator(labelCol='label')\n",
    "    evaluate_accuracy = MulticlassClassificationEvaluator(labelCol=\"default_ind\", predictionCol=\"prediction\", metricName=\"accuracy\")\n",
    "    evaluate_precision = MulticlassClassificationEvaluator(labelCol=\"default_ind\", predictionCol=\"prediction\", metricName=\"precisionByLabel\")\n",
    "    evaluate_recall = MulticlassClassificationEvaluator(labelCol=\"default_ind\", predictionCol=\"prediction\", metricName=\"recallByLabel\")\n",
    "\n",
    "    predictions_rdd = predictions.withColumn('label', predictions['default_ind'].cast(DoubleType())).orderBy('prediction').rdd.map(lambda x: (x.prediction, x.label))\n",
    "    metrics = MulticlassMetrics(predictions_rdd)\n",
    "    confusion_matrix = metrics.confusionMatrix().toArray()\n",
    "    roc = binary_eval.evaluate(predictions.withColumn('label', predictions['default_ind'].cast(DoubleType())))\n",
    "\n",
    "    accuracy=evaluate_accuracy.evaluate(predictions)\n",
    "    precision=evaluate_precision.evaluate(predictions)\n",
    "    recall=evaluate_recall.evaluate(predictions)\n",
    "\n",
    "    print(\"Summary Stats\")\n",
    "    print(\"Accuracy = %s\" % accuracy)\n",
    "    print(\"Precision = %s\" % precision)\n",
    "    print(\"Recall = %s\" % recall)\n",
    "    print(\"Area under ROC = %s\" % roc)\n",
    "    graph_roc_curve(predictions.select(predictions['default_ind']).toPandas(), predictions.select(predictions['prediction']).toPandas())\n",
    "    graph_confusion_matrix(confusion_matrix)\n",
    "    return {\n",
    "        \"accuracy\": accuracy,\n",
    "        \"precision\": precision,\n",
    "        \"recall\": recall,\n",
    "        \"confusion_matrix\": confusion_matrix\n",
    "    }"
   ]
  },
  {
   "attachments": {},
   "cell_type": "markdown",
   "metadata": {},
   "source": [
    "### Decision Tree"
   ]
  },
  {
   "cell_type": "code",
   "execution_count": 77,
   "metadata": {},
   "outputs": [],
   "source": [
    "from pyspark.ml.classification import DecisionTreeClassifier\n",
    "from pyspark.ml import Pipeline"
   ]
  },
  {
   "cell_type": "code",
   "execution_count": 78,
   "metadata": {},
   "outputs": [],
   "source": [
    "decision_tree = DecisionTreeClassifier(labelCol='default_ind', featuresCol='features')"
   ]
  },
  {
   "cell_type": "code",
   "execution_count": 79,
   "metadata": {},
   "outputs": [],
   "source": [
    "pipeline = Pipeline(stages=[vector_assembler, decision_tree])"
   ]
  },
  {
   "cell_type": "code",
   "execution_count": 80,
   "metadata": {},
   "outputs": [
    {
     "name": "stderr",
     "output_type": "stream",
     "text": [
      "                                                                                \r"
     ]
    }
   ],
   "source": [
    "decision_tree_clf = pipeline.fit(train)"
   ]
  },
  {
   "cell_type": "code",
   "execution_count": 81,
   "metadata": {},
   "outputs": [],
   "source": [
    "predictions = decision_tree_clf.transform(test)"
   ]
  },
  {
   "cell_type": "code",
   "execution_count": 82,
   "metadata": {},
   "outputs": [
    {
     "name": "stdout",
     "output_type": "stream",
     "text": [
      "+---------+-----------+--------+-----------+----------+-----+-----------+--------------+--------+-------+---------+----------+---------+---------+-----------+---------------+---------------+-------------+------------------+----------+-----------------------+---------------+--------------------------+--------------+------------+-----------+----------------+-----------+-------------+-------------+----------------+-----------------+---------------------+--------------------------+--------------+--------------------------+-----------------------+--------------------+---------------+--------------------+----------+\n",
      "|loan_amnt|funded_amnt|int_rate|installment|annual_inc|  dti|delinq_2yrs|inq_last_6mths|open_acc|pub_rec|revol_bal|revol_util|total_acc|out_prncp|total_pymnt|total_pymnt_inv|total_rec_prncp|total_rec_int|total_rec_late_fee|recoveries|collection_recovery_fee|last_pymnt_amnt|collections_12_mths_ex_med|acc_now_delinq|tot_coll_amt|tot_cur_bal|total_rev_hi_lim|default_ind|  term_onehot| grade_onehot|sub_grade_onehot|emp_length_onehot|home_ownership_onehot|verification_status_onehot|purpose_onehot|initial_list_status_onehot|application_type_onehot|            features|  rawPrediction|         probability|prediction|\n",
      "+---------+-----------+--------+-----------+----------+-----+-----------+--------------+--------+-------+---------+----------+---------+---------+-----------+---------------+---------------+-------------+------------------+----------+-----------------------+---------------+--------------------------+--------------+------------+-----------+----------------+-----------+-------------+-------------+----------------+-----------------+---------------------+--------------------------+--------------+--------------------------+-----------------------+--------------------+---------------+--------------------+----------+\n",
      "|     1000|       1000|    7.29|      31.01|   33240.0|12.96|          0|             2|       8|      0|    15255|      86.2|       18|      0.0|      92.73|          92.73|          75.02|        17.71|               0.0|       0.0|                    0.0|          31.01|                         0|             0|           0|      80123|           23700|          1|(1,[0],[1.0])|(6,[2],[1.0])| (34,[12],[1.0])|   (11,[7],[1.0])|        (3,[2],[1.0])|             (2,[0],[1.0])|(13,[0],[1.0])|                 (1,[],[])|          (1,[0],[1.0])|(99,[0,1,2,3,4,5,...| [572.0,7878.0]|[0.06769230769230...|       1.0|\n",
      "|     1000|       1000|     8.9|      31.76|   85000.0| 0.75|          0|             0|       4|      0|      835|      24.6|        5|      0.0|    1041.65|        1041.65|         1000.0|        41.65|               0.0|       0.0|                    0.0|         883.52|                         0|             0|           0|      80123|           23700|          0|(1,[0],[1.0])|(6,[2],[1.0])|  (34,[9],[1.0])|   (11,[5],[1.0])|        (3,[1],[1.0])|                 (2,[],[])|(13,[0],[1.0])|                 (1,[],[])|          (1,[0],[1.0])|(99,[0,1,2,3,4,5,...|   [333.0,38.0]|[0.89757412398921...|       0.0|\n",
      "|     1000|       1000|    9.99|      32.27|   84000.0| 9.11|          2|             0|       5|      0|      350|      35.0|       18|      0.0|    1075.06|        1075.06|         1000.0|        75.06|               0.0|       0.0|                    0.0|         221.81|                         0|             0|           0|      80123|           23700|          0|(1,[0],[1.0])|(6,[0],[1.0])|  (34,[8],[1.0])|   (11,[3],[1.0])|        (3,[0],[1.0])|                 (2,[],[])|(13,[2],[1.0])|                 (1,[],[])|          (1,[0],[1.0])|(99,[0,1,2,3,4,5,...| [572.0,7878.0]|[0.06769230769230...|       1.0|\n",
      "|     1000|       1000|    10.0|      32.27|   13728.0|23.34|          0|             0|      13|      1|     7195|      61.5|       18|      0.0|     160.75|         160.75|         121.24|        39.51|               0.0|       0.0|                    0.0|          32.27|                         0|             0|           0|      80123|           23700|          1|(1,[0],[1.0])|(6,[0],[1.0])|  (34,[7],[1.0])|   (11,[7],[1.0])|        (3,[1],[1.0])|                 (2,[],[])|(13,[1],[1.0])|                 (1,[],[])|          (1,[0],[1.0])|(99,[0,1,2,3,4,5,...| [572.0,7878.0]|[0.06769230769230...|       1.0|\n",
      "|     1000|       1000|   10.59|      32.55|   38000.0|27.47|          0|             1|       8|      0|    58794|      97.2|       36|      0.0|     162.05|         162.05|         120.22|        41.83|               0.0|       0.0|                    0.0|          32.55|                         0|             0|           0|      80123|           23700|          1|(1,[0],[1.0])|(6,[0],[1.0])|  (34,[7],[1.0])|   (11,[7],[1.0])|        (3,[0],[1.0])|                 (2,[],[])|(13,[6],[1.0])|                 (1,[],[])|          (1,[0],[1.0])|(99,[0,1,2,3,4,5,...| [572.0,7878.0]|[0.06769230769230...|       1.0|\n",
      "|     1000|       1000|   10.59|      32.55|   55000.0|14.42|          0|             0|      12|      0|    23983|      96.7|       32|      0.0|1171.122114|        1171.12|         1000.0|       171.12|               0.0|       0.0|                    0.0|          34.66|                         0|             0|           0|      80123|           23700|          0|(1,[0],[1.0])|(6,[0],[1.0])|  (34,[7],[1.0])|   (11,[0],[1.0])|        (3,[0],[1.0])|                 (2,[],[])|(13,[0],[1.0])|                 (1,[],[])|          (1,[0],[1.0])|(99,[0,1,2,3,4,5,...| [572.0,7878.0]|[0.06769230769230...|       1.0|\n",
      "|     1000|       1000|   10.99|      32.74|   24000.0|15.35|          0|             0|       5|      0|     4418|      40.9|       11|      0.0|    1097.18|        1097.18|         143.93|        51.37|               0.0|    901.88|                  315.7|          32.74|                         0|             0|           0|      80123|           23700|          1|(1,[0],[1.0])|(6,[0],[1.0])|  (34,[1],[1.0])|   (11,[3],[1.0])|        (3,[1],[1.0])|             (2,[0],[1.0])|(13,[4],[1.0])|                 (1,[],[])|          (1,[0],[1.0])|(99,[0,1,2,3,4,5,...| [572.0,7878.0]|[0.06769230769230...|       1.0|\n",
      "|     1000|       1000|   11.99|      33.21|   19740.0| 4.26|          0|             0|       5|      0|      973|      16.8|        7|      0.0|     1152.1|         1152.1|         999.97|       152.13|               0.0|       0.0|                    0.0|         554.36|                         0|             0|        4268|        973|            5800|          0|(1,[0],[1.0])|(6,[0],[1.0])|  (34,[0],[1.0])|   (11,[7],[1.0])|        (3,[1],[1.0])|             (2,[0],[1.0])|(13,[0],[1.0])|                 (1,[],[])|          (1,[0],[1.0])|(99,[0,1,2,3,4,5,...| [572.0,7878.0]|[0.06769230769230...|       1.0|\n",
      "|     1000|       1000|   11.99|      33.21|   50000.0|15.87|          0|             3|       6|      0|     3126|      42.2|       16|   460.47|     697.41|         697.41|         539.53|       157.88|               0.0|       0.0|                    0.0|          33.21|                         0|             0|           0|     161968|            7400|          1|(1,[0],[1.0])|(6,[0],[1.0])|  (34,[0],[1.0])|   (11,[5],[1.0])|        (3,[0],[1.0])|                 (2,[],[])|(13,[1],[1.0])|             (1,[0],[1.0])|          (1,[0],[1.0])|(99,[0,1,2,3,4,5,...|[16813.0,381.0]|[0.97784110736303...|       0.0|\n",
      "|     1000|       1000|   12.68|      22.59|   24000.0| 9.15|          0|             2|      14|      0|     5204|      31.5|       30|    91.33|    1259.76|        1259.76|         908.67|       351.09|               0.0|       0.0|                    0.0|          22.59|                         0|             0|           0|      80123|           23700|          0|    (1,[],[])|(6,[1],[1.0])|  (34,[2],[1.0])|   (11,[5],[1.0])|        (3,[0],[1.0])|                 (2,[],[])|(13,[9],[1.0])|                 (1,[],[])|          (1,[0],[1.0])|(99,[0,1,2,3,4,5,...|[16813.0,381.0]|[0.97784110736303...|       0.0|\n",
      "|     1000|       1000|   12.68|      33.55|   54000.0|14.58|          0|             0|      11|      0|     6745|      63.6|       23|      0.0| 1206.32041|        1206.32|         1000.0|       206.32|               0.0|       0.0|                    0.0|          37.85|                         0|             0|           0|      80123|           23700|          0|(1,[0],[1.0])|(6,[1],[1.0])|  (34,[2],[1.0])|   (11,[0],[1.0])|        (3,[1],[1.0])|             (2,[0],[1.0])|(13,[9],[1.0])|                 (1,[],[])|          (1,[0],[1.0])|(99,[0,1,2,3,4,5,...| [572.0,7878.0]|[0.06769230769230...|       1.0|\n",
      "|     1000|       1000|   13.49|      33.94|   18000.0| 17.6|          0|             1|       6|      1|     1411|      18.6|       20|      0.0|     703.21|         703.21|          502.9|        171.9|               0.0|     28.41|                 0.2841|          33.94|                         0|             0|           0|      80123|           23700|          1|(1,[0],[1.0])|(6,[1],[1.0])|  (34,[2],[1.0])|   (11,[3],[1.0])|        (3,[1],[1.0])|             (2,[1],[1.0])|(13,[6],[1.0])|                 (1,[],[])|          (1,[0],[1.0])|(99,[0,1,2,3,4,5,...| [572.0,7878.0]|[0.06769230769230...|       1.0|\n",
      "|     1000|       1000|   13.49|      33.94|   35100.0| 6.19|          0|             1|       8|      0|     9219|      73.1|       17|      0.0|    1017.55|        1017.55|         1000.0|        17.55|               0.0|       0.0|                    0.0|         563.79|                         0|             0|           0|      80123|           23700|          0|(1,[0],[1.0])|(6,[1],[1.0])|  (34,[2],[1.0])|   (11,[9],[1.0])|        (3,[1],[1.0])|                 (2,[],[])|(13,[5],[1.0])|                 (1,[],[])|          (1,[0],[1.0])|(99,[0,1,2,3,4,5,...| [572.0,7878.0]|[0.06769230769230...|       1.0|\n",
      "|     1000|       1000|   13.49|      33.94|   76000.0|18.52|          0|             0|       9|      0|     3808|      97.6|       16|      0.0|1220.588405|        1220.59|         1000.0|       220.59|               0.0|       0.0|                    0.0|          36.33|                         0|             0|           0|      80123|           23700|          0|(1,[0],[1.0])|(6,[1],[1.0])|  (34,[2],[1.0])|   (11,[1],[1.0])|        (3,[1],[1.0])|                 (2,[],[])|(13,[4],[1.0])|                 (1,[],[])|          (1,[0],[1.0])|(99,[0,1,2,3,4,5,...| [572.0,7878.0]|[0.06769230769230...|       1.0|\n",
      "|     1000|       1000|   13.67|      34.02|   32000.0|12.19|          0|             0|       5|      0|      700|      17.5|       26|      0.0|    1033.47|        1033.47|         1000.0|        33.47|               0.0|       0.0|                    0.0|         965.57|                         0|             0|           0|      57067|            4000|          0|(1,[0],[1.0])|(6,[0],[1.0])|  (34,[6],[1.0])|   (11,[3],[1.0])|        (3,[1],[1.0])|                 (2,[],[])|(13,[0],[1.0])|                 (1,[],[])|          (1,[0],[1.0])|(99,[0,1,2,3,4,5,...|   [333.0,38.0]|[0.89757412398921...|       0.0|\n",
      "|     1000|       1000|   13.99|      34.18|   60000.0| 2.58|          0|             1|       3|      1|     5630|      62.6|       11|      0.0|      340.7|          340.7|         236.64|       104.06|               0.0|       0.0|                    0.0|          34.18|                         0|             0|           0|      80123|           23700|          1|(1,[0],[1.0])|(6,[1],[1.0])|  (34,[4],[1.0])|   (11,[6],[1.0])|        (3,[1],[1.0])|             (2,[0],[1.0])|(13,[9],[1.0])|                 (1,[],[])|          (1,[0],[1.0])|(99,[0,1,2,3,4,5,...| [572.0,7878.0]|[0.06769230769230...|       1.0|\n",
      "|     1000|       1000|   14.17|      34.27|   50000.0| 22.7|          0|             2|      13|      0|     5180|      60.9|       18|      0.0|     548.81|         548.81|         365.08|       147.32|               0.0|     36.41|                   0.39|          34.27|                         0|             0|           0|      80123|           23700|          1|(1,[0],[1.0])|(6,[1],[1.0])| (34,[10],[1.0])|       (11,[],[])|        (3,[1],[1.0])|             (2,[0],[1.0])|(13,[8],[1.0])|                 (1,[],[])|          (1,[0],[1.0])|(99,[0,1,2,3,4,5,...| [572.0,7878.0]|[0.06769230769230...|       1.0|\n",
      "|     1000|       1000|   14.96|      34.65|   12240.0|20.98|          0|             3|       4|      0|     5351|      42.8|        5|      0.0|      44.96|          44.96|            0.0|          0.0|               0.0|     44.96|                   0.44|            0.0|                         0|             0|           0|      80123|           23700|          1|(1,[0],[1.0])|(6,[3],[1.0])| (34,[13],[1.0])|   (11,[4],[1.0])|        (3,[1],[1.0])|             (2,[0],[1.0])|    (13,[],[])|                 (1,[],[])|          (1,[0],[1.0])|(99,[0,1,2,3,4,5,...| [572.0,7878.0]|[0.06769230769230...|       1.0|\n",
      "|     1000|       1000|   15.27|       34.8|   32352.0|10.42|          1|             3|       6|      1|      770|      10.8|       18|      0.0|    1072.26|        1072.26|          799.1|        244.9|               0.0|     28.26|                 0.2826|           34.8|                         0|             0|           0|      80123|           23700|          1|(1,[0],[1.0])|(6,[1],[1.0])|  (34,[5],[1.0])|   (11,[0],[1.0])|        (3,[0],[1.0])|             (2,[0],[1.0])|(13,[3],[1.0])|                 (1,[],[])|          (1,[0],[1.0])|(99,[0,1,2,3,4,5,...| [572.0,7878.0]|[0.06769230769230...|       1.0|\n",
      "|     1000|       1000|   15.27|       34.8|   38000.0|23.75|          0|             1|       3|      0|    16298|      95.3|        9|      0.0|    1252.69|        1252.69|         999.99|        252.7|               0.0|       0.0|                    0.0|          34.69|                         0|             0|           0|      80123|           23700|          0|(1,[0],[1.0])|(6,[1],[1.0])|  (34,[5],[1.0])|  (11,[10],[1.0])|        (3,[1],[1.0])|             (2,[1],[1.0])|(13,[8],[1.0])|                 (1,[],[])|          (1,[0],[1.0])|(99,[0,1,2,3,4,5,...| [572.0,7878.0]|[0.06769230769230...|       1.0|\n",
      "+---------+-----------+--------+-----------+----------+-----+-----------+--------------+--------+-------+---------+----------+---------+---------+-----------+---------------+---------------+-------------+------------------+----------+-----------------------+---------------+--------------------------+--------------+------------+-----------+----------------+-----------+-------------+-------------+----------------+-----------------+---------------------+--------------------------+--------------+--------------------------+-----------------------+--------------------+---------------+--------------------+----------+\n",
      "only showing top 20 rows\n",
      "\n"
     ]
    }
   ],
   "source": [
    "predictions.show()"
   ]
  },
  {
   "cell_type": "code",
   "execution_count": 83,
   "metadata": {},
   "outputs": [
    {
     "name": "stderr",
     "output_type": "stream",
     "text": [
      "/home/huukhang1512/miniconda3/envs/tf/lib/python3.9/site-packages/pyspark/sql/context.py:125: FutureWarning:\n",
      "\n",
      "Deprecated in 3.0.0. Use SparkSession.builder.getOrCreate() instead.\n",
      "\n",
      "/home/huukhang1512/.local/lib/python3.9/site-packages/scipy/__init__.py:146: UserWarning: A NumPy version >=1.16.5 and <1.23.0 is required for this version of SciPy (detected version 1.24.3\n",
      "  warnings.warn(f\"A NumPy version >={np_minversion} and <{np_maxversion}\"\n",
      "/home/huukhang1512/.local/lib/python3.9/site-packages/scipy/__init__.py:146: UserWarning: A NumPy version >=1.16.5 and <1.23.0 is required for this version of SciPy (detected version 1.24.3\n",
      "  warnings.warn(f\"A NumPy version >={np_minversion} and <{np_maxversion}\"\n",
      "/home/huukhang1512/.local/lib/python3.9/site-packages/scipy/__init__.py:146: UserWarning: A NumPy version >=1.16.5 and <1.23.0 is required for this version of SciPy (detected version 1.24.3\n",
      "  warnings.warn(f\"A NumPy version >={np_minversion} and <{np_maxversion}\"\n",
      "                                                                                \r"
     ]
    },
    {
     "name": "stdout",
     "output_type": "stream",
     "text": [
      "Summary Stats\n",
      "Accuracy = 0.9686816587579946\n",
      "Precision = 0.967985552454441\n",
      "Recall = 0.9696571005673875\n",
      "Area under ROC = 0.9786322304563845\n"
     ]
    },
    {
     "name": "stderr",
     "output_type": "stream",
     "text": [
      "                                                                                \r"
     ]
    },
    {
     "data": {
      "image/png": "[encoded data removed]",
      "text/plain": [
       "<Figure size 432x288 with 1 Axes>"
      ]
     },
     "metadata": {
      "needs_background": "light"
     },
     "output_type": "display_data"
    },
    {
     "data": {
      "image/png": "[encoded data removed]",
      "text/plain": [
       "<Figure size 432x288 with 2 Axes>"
      ]
     },
     "metadata": {
      "needs_background": "light"
     },
     "output_type": "display_data"
    },
    {
     "data": {
      "text/plain": [
       "{'accuracy': 0.9686816587579946,\n",
       " 'precision': 0.967985552454441,\n",
       " 'recall': 0.9696571005673875,\n",
       " 'confusion_matrix': array([[11792.,   369.],\n",
       "        [  390., 11684.]])}"
      ]
     },
     "execution_count": 83,
     "metadata": {},
     "output_type": "execute_result"
    }
   ],
   "source": [
    "get_spark_ml_perf(predictions)"
   ]
  },
  {
   "attachments": {},
   "cell_type": "markdown",
   "metadata": {},
   "source": [
    "## Random Forest"
   ]
  },
  {
   "cell_type": "code",
   "execution_count": 84,
   "metadata": {},
   "outputs": [],
   "source": [
    "from pyspark.ml.classification import RandomForestClassifier"
   ]
  },
  {
   "cell_type": "code",
   "execution_count": 85,
   "metadata": {},
   "outputs": [],
   "source": [
    "random_forest = RandomForestClassifier(labelCol='default_ind', featuresCol='features')"
   ]
  },
  {
   "cell_type": "code",
   "execution_count": 86,
   "metadata": {},
   "outputs": [],
   "source": [
    "rdn_forest_pipeline = Pipeline(stages=[vector_assembler, random_forest])"
   ]
  },
  {
   "cell_type": "code",
   "execution_count": 87,
   "metadata": {},
   "outputs": [
    {
     "name": "stderr",
     "output_type": "stream",
     "text": [
      "                                                                                \r"
     ]
    }
   ],
   "source": [
    "random_forest_tree_clf = rdn_forest_pipeline.fit(train)"
   ]
  },
  {
   "cell_type": "code",
   "execution_count": 88,
   "metadata": {},
   "outputs": [],
   "source": [
    "predictions = random_forest_tree_clf.transform(test)"
   ]
  },
  {
   "cell_type": "code",
   "execution_count": 89,
   "metadata": {},
   "outputs": [
    {
     "name": "stdout",
     "output_type": "stream",
     "text": [
      "+-----------+----------+\n",
      "|default_ind|prediction|\n",
      "+-----------+----------+\n",
      "|          1|       0.0|\n",
      "|          0|       0.0|\n",
      "|          0|       1.0|\n",
      "|          1|       0.0|\n",
      "|          1|       1.0|\n",
      "|          0|       1.0|\n",
      "|          1|       1.0|\n",
      "|          0|       1.0|\n",
      "|          1|       0.0|\n",
      "|          0|       0.0|\n",
      "|          0|       1.0|\n",
      "|          1|       1.0|\n",
      "|          0|       1.0|\n",
      "|          0|       1.0|\n",
      "|          0|       1.0|\n",
      "|          1|       1.0|\n",
      "|          1|       1.0|\n",
      "|          1|       1.0|\n",
      "|          1|       1.0|\n",
      "|          0|       1.0|\n",
      "+-----------+----------+\n",
      "only showing top 20 rows\n",
      "\n"
     ]
    }
   ],
   "source": [
    "predictions.select('default_ind', 'prediction').show()"
   ]
  },
  {
   "cell_type": "code",
   "execution_count": 90,
   "metadata": {},
   "outputs": [
    {
     "name": "stderr",
     "output_type": "stream",
     "text": [
      "/home/huukhang1512/miniconda3/envs/tf/lib/python3.9/site-packages/pyspark/sql/context.py:125: FutureWarning:\n",
      "\n",
      "Deprecated in 3.0.0. Use SparkSession.builder.getOrCreate() instead.\n",
      "\n",
      "/home/huukhang1512/.local/lib/python3.9/site-packages/scipy/__init__.py:146: UserWarning: A NumPy version >=1.16.5 and <1.23.0 is required for this version of SciPy (detected version 1.24.3\n",
      "  warnings.warn(f\"A NumPy version >={np_minversion} and <{np_maxversion}\"\n",
      "                                                                                \r"
     ]
    },
    {
     "name": "stdout",
     "output_type": "stream",
     "text": [
      "Summary Stats\n",
      "Accuracy = 0.9534970084588406\n",
      "Precision = 0.9301418992671137\n",
      "Recall = 0.9810048515747061\n",
      "Area under ROC = 0.9843642506764572\n"
     ]
    },
    {
     "name": "stderr",
     "output_type": "stream",
     "text": [
      "                                                                                \r"
     ]
    },
    {
     "data": {
      "image/png": "[encoded data removed]",
      "text/plain": [
       "<Figure size 432x288 with 1 Axes>"
      ]
     },
     "metadata": {
      "needs_background": "light"
     },
     "output_type": "display_data"
    },
    {
     "data": {
      "image/png": "[encoded data removed]",
      "text/plain": [
       "<Figure size 432x288 with 2 Axes>"
      ]
     },
     "metadata": {
      "needs_background": "light"
     },
     "output_type": "display_data"
    },
    {
     "data": {
      "text/plain": [
       "{'accuracy': 0.9534970084588406,\n",
       " 'precision': 0.9301418992671137,\n",
       " 'recall': 0.9810048515747061,\n",
       " 'confusion_matrix': array([[11930.,   231.],\n",
       "        [  896., 11178.]])}"
      ]
     },
     "execution_count": 90,
     "metadata": {},
     "output_type": "execute_result"
    }
   ],
   "source": [
    "get_spark_ml_perf(predictions)"
   ]
  },
  {
   "attachments": {},
   "cell_type": "markdown",
   "metadata": {},
   "source": [
    "# Feed Forward Network"
   ]
  },
  {
   "cell_type": "code",
   "execution_count": 91,
   "metadata": {},
   "outputs": [],
   "source": [
    "from pyspark.ml.classification import MultilayerPerceptronClassifier"
   ]
  },
  {
   "cell_type": "code",
   "execution_count": 92,
   "metadata": {},
   "outputs": [],
   "source": [
    "train_df_features = vector_assembler.transform(train)\n",
    "MLP = MultilayerPerceptronClassifier(layers=[train_df_features.schema[\"features\"].metadata[\"ml_attr\"][\"num_attrs\"],6,6,6,2], labelCol='default_ind', featuresCol='features', seed=42)\n",
    "pipeline = Pipeline(stages=[vector_assembler, MLP])"
   ]
  },
  {
   "cell_type": "code",
   "execution_count": 93,
   "metadata": {},
   "outputs": [
    {
     "name": "stderr",
     "output_type": "stream",
     "text": [
      "23/06/02 19:20:18 WARN BLAS: Failed to load implementation from: com.github.fommil.netlib.NativeSystemBLAS\n",
      "23/06/02 19:20:18 WARN BLAS: Failed to load implementation from: com.github.fommil.netlib.NativeRefBLAS\n"
     ]
    }
   ],
   "source": [
    "mlp_clf = pipeline.fit(train)"
   ]
  },
  {
   "cell_type": "code",
   "execution_count": 94,
   "metadata": {},
   "outputs": [],
   "source": [
    "predictions = mlp_clf.transform(test)"
   ]
  },
  {
   "cell_type": "code",
   "execution_count": 95,
   "metadata": {},
   "outputs": [
    {
     "name": "stderr",
     "output_type": "stream",
     "text": [
      "/home/huukhang1512/miniconda3/envs/tf/lib/python3.9/site-packages/pyspark/sql/context.py:125: FutureWarning:\n",
      "\n",
      "Deprecated in 3.0.0. Use SparkSession.builder.getOrCreate() instead.\n",
      "\n",
      "/home/huukhang1512/.local/lib/python3.9/site-packages/scipy/__init__.py:146: UserWarning: A NumPy version >=1.16.5 and <1.23.0 is required for this version of SciPy (detected version 1.24.3\n",
      "  warnings.warn(f\"A NumPy version >={np_minversion} and <{np_maxversion}\"\n",
      "                                                                                \r"
     ]
    },
    {
     "name": "stdout",
     "output_type": "stream",
     "text": [
      "Summary Stats\n",
      "Accuracy = 0.8828966370951103\n",
      "Precision = 0.9286436781609195\n",
      "Recall = 0.8304415755283283\n",
      "Area under ROC = 0.8829700435560622\n"
     ]
    },
    {
     "name": "stderr",
     "output_type": "stream",
     "text": [
      "                                                                                \r"
     ]
    },
    {
     "data": {
      "image/png": "[encoded data removed]",
      "text/plain": [
       "<Figure size 432x288 with 1 Axes>"
      ]
     },
     "metadata": {
      "needs_background": "light"
     },
     "output_type": "display_data"
    },
    {
     "data": {
      "image/png": "[encoded data removed]",
      "text/plain": [
       "<Figure size 432x288 with 2 Axes>"
      ]
     },
     "metadata": {
      "needs_background": "light"
     },
     "output_type": "display_data"
    },
    {
     "data": {
      "text/plain": [
       "{'accuracy': 0.8828966370951103,\n",
       " 'precision': 0.9286436781609195,\n",
       " 'recall': 0.8304415755283283,\n",
       " 'confusion_matrix': array([[10099.,  2062.],\n",
       "        [  776., 11298.]])}"
      ]
     },
     "execution_count": 95,
     "metadata": {},
     "output_type": "execute_result"
    }
   ],
   "source": [
    "get_spark_ml_perf(predictions)"
   ]
  },
  {
   "attachments": {},
   "cell_type": "markdown",
   "metadata": {},
   "source": [
    "## Process Two (3 ML Models with TensorFlow and Keras)"
   ]
  },
  {
   "cell_type": "code",
   "execution_count": 96,
   "metadata": {},
   "outputs": [
    {
     "name": "stderr",
     "output_type": "stream",
     "text": [
      "2023-06-02 19:20:40.751036: I tensorflow/tsl/cuda/cudart_stub.cc:28] Could not find cuda drivers on your machine, GPU will not be used.\n",
      "2023-06-02 19:20:40.881868: I tensorflow/tsl/cuda/cudart_stub.cc:28] Could not find cuda drivers on your machine, GPU will not be used.\n",
      "2023-06-02 19:20:40.882496: I tensorflow/core/platform/cpu_feature_guard.cc:182] This TensorFlow binary is optimized to use available CPU instructions in performance-critical operations.\n",
      "To enable the following instructions: AVX2 FMA, in other operations, rebuild TensorFlow with the appropriate compiler flags.\n",
      "2023-06-02 19:20:41.551471: W tensorflow/compiler/tf2tensorrt/utils/py_utils.cc:38] TF-TRT Warning: Could not find TensorRT\n"
     ]
    }
   ],
   "source": [
    "import tensorflow as tf\n",
    "import pandas as pd\n",
    "from sklearn.metrics import confusion_matrix\n",
    "pd.set_option('display.max_rows', None)"
   ]
  },
  {
   "cell_type": "code",
   "execution_count": 97,
   "metadata": {},
   "outputs": [
    {
     "name": "stderr",
     "output_type": "stream",
     "text": [
      "                                                                                \r"
     ]
    }
   ],
   "source": [
    "df_pandas = df.toPandas().sample(frac=1, random_state=42)"
   ]
  },
  {
   "cell_type": "code",
   "execution_count": 98,
   "metadata": {},
   "outputs": [],
   "source": [
    "df_pandas = pd.get_dummies(data=df_pandas, columns=categorical_cols)"
   ]
  },
  {
   "cell_type": "code",
   "execution_count": 99,
   "metadata": {},
   "outputs": [],
   "source": [
    "df_pandas = df_pandas.groupby('default_ind').sample(n=default_records, random_state=42).sample(frac=1)"
   ]
  },
  {
   "cell_type": "code",
   "execution_count": 100,
   "metadata": {},
   "outputs": [],
   "source": [
    "uint8_cols = df_pandas.select_dtypes(include='uint8').columns.to_list()"
   ]
  },
  {
   "cell_type": "code",
   "execution_count": 101,
   "metadata": {},
   "outputs": [],
   "source": [
    "df_pandas[uint8_cols] = df_pandas[uint8_cols].astype('int32')"
   ]
  },
  {
   "cell_type": "code",
   "execution_count": 102,
   "metadata": {},
   "outputs": [],
   "source": [
    "split_index = int(0.7 * len(df_pandas))\n",
    "(train, test) = (df_pandas[:split_index], df_pandas[split_index:])"
   ]
  },
  {
   "cell_type": "code",
   "execution_count": 103,
   "metadata": {},
   "outputs": [],
   "source": [
    "import tensorflow_decision_forests as tfdf"
   ]
  },
  {
   "cell_type": "code",
   "execution_count": 104,
   "metadata": {},
   "outputs": [
    {
     "name": "stdout",
     "output_type": "stream",
     "text": [
      "Warning: Some of the feature names have been changed automatically to be compatible with SavedModels because fix_feature_names=True.\n"
     ]
    },
    {
     "name": "stderr",
     "output_type": "stream",
     "text": [
      "WARNING:absl:Some of the feature names have been changed automatically to be compatible with SavedModels because fix_feature_names=True.\n",
      "2023-06-02 19:20:56.631301: I tensorflow/compiler/xla/stream_executor/cuda/cuda_gpu_executor.cc:996] successful NUMA node read from SysFS had negative value (-1), but there must be at least one NUMA node, so returning NUMA node zero. See more at https://github.com/torvalds/linux/blob/v6.0/Documentation/ABI/testing/sysfs-bus-pci#L344-L355\n",
      "2023-06-02 19:20:56.633521: W tensorflow/core/common_runtime/gpu/gpu_device.cc:1956] Cannot dlopen some GPU libraries. Please make sure the missing libraries mentioned above are installed properly if you would like to use GPU. Follow the guide at https://www.tensorflow.org/install/gpu for how to download and setup the required libraries for your platform.\n",
      "Skipping registering GPU devices...\n"
     ]
    },
    {
     "name": "stdout",
     "output_type": "stream",
     "text": [
      "Warning: Some of the feature names have been changed automatically to be compatible with SavedModels because fix_feature_names=True.\n"
     ]
    },
    {
     "name": "stderr",
     "output_type": "stream",
     "text": [
      "WARNING:absl:Some of the feature names have been changed automatically to be compatible with SavedModels because fix_feature_names=True.\n"
     ]
    }
   ],
   "source": [
    "X_train = tfdf.keras.pd_dataframe_to_tf_dataset(train, label=\"default_ind\")\n",
    "X_test = tfdf.keras.pd_dataframe_to_tf_dataset(test, label=\"default_ind\")"
   ]
  },
  {
   "attachments": {},
   "cell_type": "markdown",
   "metadata": {},
   "source": [
    "### Decision Tree"
   ]
  },
  {
   "cell_type": "code",
   "execution_count": 132,
   "metadata": {},
   "outputs": [
    {
     "name": "stdout",
     "output_type": "stream",
     "text": [
      "Use /tmp/tmp7dh7qf15 as temporary training directory\n"
     ]
    }
   ],
   "source": [
    "model = tfdf.keras.RandomForestModel(num_trees=1)"
   ]
  },
  {
   "cell_type": "code",
   "execution_count": 133,
   "metadata": {},
   "outputs": [],
   "source": [
    "model.compile(metrics=['accuracy', tf.keras.metrics.Precision(), tf.keras.metrics.Recall()])"
   ]
  },
  {
   "cell_type": "code",
   "execution_count": 134,
   "metadata": {},
   "outputs": [
    {
     "name": "stdout",
     "output_type": "stream",
     "text": [
      "Reading training dataset...\n",
      "Training dataset read in 0:00:02.222898. Found 56924 examples.\n",
      "Training model...\n",
      "Model trained in 0:00:00.262099\n",
      "Compiling model...\n"
     ]
    },
    {
     "name": "stderr",
     "output_type": "stream",
     "text": [
      "[INFO 23-06-02 19:31:03.2818 AEST kernel.cc:1242] Loading model from path /tmp/tmp7dh7qf15/model/ with prefix 32cc2d8127f147e9\n",
      "[INFO 23-06-02 19:31:03.2831 AEST decision_forest.cc:660] Model loaded with 1 root(s), 1369 node(s), and 67 input feature(s).\n",
      "[INFO 23-06-02 19:31:03.2831 AEST abstract_model.cc:1311] Engine \"RandomForestOptPred\" built\n",
      "[INFO 23-06-02 19:31:03.2831 AEST kernel.cc:1074] Use fast generic engine\n",
      "2023-06-02 19:31:03.294414: I tensorflow/core/common_runtime/executor.cc:1197] [/device:CPU:0] (DEBUG INFO) Executor start aborting (this does not indicate an error and you can ignore this message): INVALID_ARGUMENT: You must feed a value for placeholder tensor 'Placeholder/_59' with dtype int32 and shape [56924]\n",
      "\t [[{{node Placeholder/_59}}]]\n"
     ]
    },
    {
     "name": "stdout",
     "output_type": "stream",
     "text": [
      "Model compiled.\n"
     ]
    },
    {
     "data": {
      "text/plain": [
       "<keras.callbacks.History at 0x7eff6e897820>"
      ]
     },
     "execution_count": 134,
     "metadata": {},
     "output_type": "execute_result"
    }
   ],
   "source": [
    "model.fit(X_train)"
   ]
  },
  {
   "cell_type": "code",
   "execution_count": 135,
   "metadata": {},
   "outputs": [
    {
     "name": "stdout",
     "output_type": "stream",
     "text": [
      "Model: \"random_forest_model_2\"\n",
      "_________________________________________________________________\n",
      " Layer (type)                Output Shape              Param #   \n",
      "=================================================================\n",
      "=================================================================\n",
      "Total params: 1\n",
      "Trainable params: 0\n",
      "Non-trainable params: 1\n",
      "_________________________________________________________________\n",
      "Type: \"RANDOM_FOREST\"\n",
      "Task: CLASSIFICATION\n",
      "Label: \"__LABEL\"\n",
      "\n",
      "Input Features (108):\n",
      "\tacc_now_delinq\n",
      "\tannual_inc\n",
      "\tapplication_type_INDIVIDUAL\n",
      "\tapplication_type_JOINT\n",
      "\tcollection_recovery_fee\n",
      "\tcollections_12_mths_ex_med\n",
      "\tdelinq_2yrs\n",
      "\tdti\n",
      "\temp_length_10+_years\n",
      "\temp_length_1_year\n",
      "\temp_length_2_years\n",
      "\temp_length_3_years\n",
      "\temp_length_4_years\n",
      "\temp_length_5_years\n",
      "\temp_length_6_years\n",
      "\temp_length_7_years\n",
      "\temp_length_8_years\n",
      "\temp_length_9_years\n",
      "\temp_length_<_1_year\n",
      "\temp_length_n/a\n",
      "\tfunded_amnt\n",
      "\tgrade_A\n",
      "\tgrade_B\n",
      "\tgrade_C\n",
      "\tgrade_D\n",
      "\tgrade_E\n",
      "\tgrade_F\n",
      "\tgrade_G\n",
      "\thome_ownership_MORTGAGE\n",
      "\thome_ownership_OTHER\n",
      "\thome_ownership_OWN\n",
      "\thome_ownership_RENT\n",
      "\tinitial_list_status_f\n",
      "\tinitial_list_status_w\n",
      "\tinq_last_6mths\n",
      "\tinstallment\n",
      "\tint_rate\n",
      "\tlast_pymnt_amnt\n",
      "\tloan_amnt\n",
      "\topen_acc\n",
      "\tout_prncp\n",
      "\tpub_rec\n",
      "\tpurpose_car\n",
      "\tpurpose_credit_card\n",
      "\tpurpose_debt_consolidation\n",
      "\tpurpose_educational\n",
      "\tpurpose_home_improvement\n",
      "\tpurpose_house\n",
      "\tpurpose_major_purchase\n",
      "\tpurpose_medical\n",
      "\tpurpose_moving\n",
      "\tpurpose_other\n",
      "\tpurpose_renewable_energy\n",
      "\tpurpose_small_business\n",
      "\tpurpose_vacation\n",
      "\tpurpose_wedding\n",
      "\trecoveries\n",
      "\trevol_bal\n",
      "\trevol_util\n",
      "\tsub_grade_A1\n",
      "\tsub_grade_A2\n",
      "\tsub_grade_A3\n",
      "\tsub_grade_A4\n",
      "\tsub_grade_A5\n",
      "\tsub_grade_B1\n",
      "\tsub_grade_B2\n",
      "\tsub_grade_B3\n",
      "\tsub_grade_B4\n",
      "\tsub_grade_B5\n",
      "\tsub_grade_C1\n",
      "\tsub_grade_C2\n",
      "\tsub_grade_C3\n",
      "\tsub_grade_C4\n",
      "\tsub_grade_C5\n",
      "\tsub_grade_D1\n",
      "\tsub_grade_D2\n",
      "\tsub_grade_D3\n",
      "\tsub_grade_D4\n",
      "\tsub_grade_D5\n",
      "\tsub_grade_E1\n",
      "\tsub_grade_E2\n",
      "\tsub_grade_E3\n",
      "\tsub_grade_E4\n",
      "\tsub_grade_E5\n",
      "\tsub_grade_F1\n",
      "\tsub_grade_F2\n",
      "\tsub_grade_F3\n",
      "\tsub_grade_F4\n",
      "\tsub_grade_F5\n",
      "\tsub_grade_G1\n",
      "\tsub_grade_G2\n",
      "\tsub_grade_G3\n",
      "\tsub_grade_G4\n",
      "\tsub_grade_G5\n",
      "\tterm__36_months\n",
      "\tterm__60_months\n",
      "\ttot_coll_amt\n",
      "\ttot_cur_bal\n",
      "\ttotal_acc\n",
      "\ttotal_pymnt\n",
      "\ttotal_pymnt_inv\n",
      "\ttotal_rec_int\n",
      "\ttotal_rec_late_fee\n",
      "\ttotal_rec_prncp\n",
      "\ttotal_rev_hi_lim\n",
      "\tverification_status_Not_Verified\n",
      "\tverification_status_Source_Verified\n",
      "\tverification_status_Verified\n",
      "\n",
      "No weights\n",
      "\n",
      "Variable Importance: INV_MEAN_MIN_DEPTH:\n",
      "    1.                             \"grade_E\"  1.000000 ################\n",
      "    2.                  \"total_rec_late_fee\"  0.297180 ###\n",
      "    3.                             \"grade_F\"  0.254552 ###\n",
      "    4.                             \"grade_A\"  0.146901 #\n",
      "    5.                     \"last_pymnt_amnt\"  0.135913 #\n",
      "    6.                            \"int_rate\"  0.133763 #\n",
      "    7.                         \"tot_cur_bal\"  0.101859 \n",
      "    8.                           \"out_prncp\"  0.099985 \n",
      "    9.               \"initial_list_status_f\"  0.093185 \n",
      "   10.             \"collection_recovery_fee\"  0.090537 \n",
      "   11.                         \"total_pymnt\"  0.088126 \n",
      "   12.                             \"pub_rec\"  0.087206 \n",
      "   13.                          \"recoveries\"  0.084735 \n",
      "   14.                     \"total_rec_prncp\"  0.083384 \n",
      "   15.                          \"annual_inc\"  0.082990 \n",
      "   16.                    \"total_rev_hi_lim\"  0.081752 \n",
      "   17.                          \"revol_util\"  0.081538 \n",
      "   18.                         \"installment\"  0.081296 \n",
      "   19.                       \"total_rec_int\"  0.080931 \n",
      "   20.                        \"tot_coll_amt\"  0.079623 \n",
      "   21.                     \"total_pymnt_inv\"  0.079568 \n",
      "   22.                                 \"dti\"  0.079172 \n",
      "   23.                           \"revol_bal\"  0.077797 \n",
      "   24.                           \"loan_amnt\"  0.077559 \n",
      "   25.                      \"inq_last_6mths\"  0.077279 \n",
      "   26.                   \"emp_length_1_year\"  0.076622 \n",
      "   27.                            \"open_acc\"  0.076571 \n",
      "   28.                           \"total_acc\"  0.076238 \n",
      "   29.                         \"funded_amnt\"  0.076221 \n",
      "   30.               \"initial_list_status_w\"  0.076128 \n",
      "   31. \"verification_status_Source_Verified\"  0.076128 \n",
      "   32.                 \"home_ownership_RENT\"  0.076035 \n",
      "   33.                             \"grade_B\"  0.075674 \n",
      "   34.    \"verification_status_Not_Verified\"  0.075640 \n",
      "   35.                        \"sub_grade_B1\"  0.075590 \n",
      "   36.                             \"grade_D\"  0.075242 \n",
      "   37.                        \"sub_grade_A5\"  0.075217 \n",
      "   38.                  \"emp_length_3_years\"  0.075159 \n",
      "   39.                     \"term__36_months\"  0.075143 \n",
      "   40.                       \"purpose_other\"  0.075077 \n",
      "   41.                             \"grade_C\"  0.075044 \n",
      "   42.                \"emp_length_10+_years\"  0.075036 \n",
      "   43.                 \"emp_length_<_1_year\"  0.075019 \n",
      "   44.                  \"emp_length_6_years\"  0.075011 \n",
      "   45.                        \"sub_grade_D4\"  0.074945 \n",
      "   46.        \"verification_status_Verified\"  0.074904 \n",
      "   47.                        \"sub_grade_C3\"  0.074888 \n",
      "   48.                 \"purpose_credit_card\"  0.074872 \n",
      "   49.          \"purpose_debt_consolidation\"  0.074855 \n",
      "   50.                     \"term__60_months\"  0.074855 \n",
      "   51.                  \"emp_length_2_years\"  0.074847 \n",
      "   52.                  \"emp_length_9_years\"  0.074847 \n",
      "   53.                      \"emp_length_n/a\"  0.074831 \n",
      "   54.                             \"grade_G\"  0.074831 \n",
      "   55.             \"home_ownership_MORTGAGE\"  0.074831 \n",
      "   56.                  \"emp_length_7_years\"  0.074814 \n",
      "   57.                    \"purpose_vacation\"  0.074814 \n",
      "   58.                        \"sub_grade_B3\"  0.074814 \n",
      "   59.                        \"sub_grade_C4\"  0.074814 \n",
      "   60.                        \"sub_grade_D1\"  0.074814 \n",
      "   61.                        \"sub_grade_E1\"  0.074814 \n",
      "   62.                        \"sub_grade_F1\"  0.074814 \n",
      "   63.                        \"sub_grade_D5\"  0.074806 \n",
      "   64.                         \"delinq_2yrs\"  0.074790 \n",
      "   65.                  \"home_ownership_OWN\"  0.074790 \n",
      "   66.                        \"sub_grade_B4\"  0.074790 \n",
      "   67.                        \"sub_grade_E3\"  0.074790 \n",
      "\n",
      "Variable Importance: NUM_AS_ROOT:\n",
      "    1. \"grade_E\"  1.000000 \n",
      "\n",
      "Variable Importance: NUM_NODES:\n",
      "    1.                           \"out_prncp\" 56.000000 ################\n",
      "    2.                     \"total_rec_prncp\" 54.000000 ###############\n",
      "    3.                     \"total_pymnt_inv\" 40.000000 ###########\n",
      "    4.                            \"int_rate\" 39.000000 ###########\n",
      "    5.                         \"total_pymnt\" 36.000000 ##########\n",
      "    6.                       \"total_rec_int\" 34.000000 #########\n",
      "    7.                         \"installment\" 32.000000 #########\n",
      "    8.                     \"last_pymnt_amnt\" 31.000000 ########\n",
      "    9.                    \"total_rev_hi_lim\" 28.000000 #######\n",
      "   10.                           \"loan_amnt\" 26.000000 #######\n",
      "   11.                                 \"dti\" 25.000000 ######\n",
      "   12.                           \"revol_bal\" 24.000000 ######\n",
      "   13.                         \"tot_cur_bal\" 24.000000 ######\n",
      "   14.                           \"total_acc\" 22.000000 ######\n",
      "   15.                          \"revol_util\" 20.000000 #####\n",
      "   16.                          \"annual_inc\" 19.000000 #####\n",
      "   17.             \"collection_recovery_fee\" 17.000000 ####\n",
      "   18.                         \"funded_amnt\" 16.000000 ####\n",
      "   19.                          \"recoveries\" 15.000000 ####\n",
      "   20.                            \"open_acc\" 14.000000 ###\n",
      "   21.                      \"inq_last_6mths\" 10.000000 ##\n",
      "   22.                  \"total_rec_late_fee\"  6.000000 #\n",
      "   23.                \"emp_length_10+_years\"  5.000000 #\n",
      "   24.               \"initial_list_status_f\"  5.000000 #\n",
      "   25.          \"purpose_debt_consolidation\"  5.000000 #\n",
      "   26.                        \"tot_coll_amt\"  5.000000 #\n",
      "   27.                             \"grade_D\"  4.000000 \n",
      "   28.                 \"home_ownership_RENT\"  4.000000 \n",
      "   29.               \"initial_list_status_w\"  4.000000 \n",
      "   30.    \"verification_status_Not_Verified\"  4.000000 \n",
      "   31.                   \"emp_length_1_year\"  3.000000 \n",
      "   32.                  \"emp_length_2_years\"  3.000000 \n",
      "   33.                             \"pub_rec\"  3.000000 \n",
      "   34.                 \"purpose_credit_card\"  3.000000 \n",
      "   35.                     \"term__36_months\"  3.000000 \n",
      "   36.        \"verification_status_Verified\"  3.000000 \n",
      "   37.                      \"emp_length_n/a\"  2.000000 \n",
      "   38.                             \"grade_B\"  2.000000 \n",
      "   39.                             \"grade_C\"  2.000000 \n",
      "   40.                             \"grade_G\"  2.000000 \n",
      "   41.             \"home_ownership_MORTGAGE\"  2.000000 \n",
      "   42.                       \"purpose_other\"  2.000000 \n",
      "   43.                        \"sub_grade_A5\"  2.000000 \n",
      "   44.                        \"sub_grade_C3\"  2.000000 \n",
      "   45.                        \"sub_grade_D5\"  2.000000 \n",
      "   46.                     \"term__60_months\"  2.000000 \n",
      "   47. \"verification_status_Source_Verified\"  2.000000 \n",
      "   48.                         \"delinq_2yrs\"  1.000000 \n",
      "   49.                  \"emp_length_3_years\"  1.000000 \n",
      "   50.                  \"emp_length_6_years\"  1.000000 \n",
      "   51.                  \"emp_length_7_years\"  1.000000 \n",
      "   52.                  \"emp_length_9_years\"  1.000000 \n",
      "   53.                 \"emp_length_<_1_year\"  1.000000 \n",
      "   54.                             \"grade_A\"  1.000000 \n",
      "   55.                             \"grade_E\"  1.000000 \n",
      "   56.                             \"grade_F\"  1.000000 \n",
      "   57.                  \"home_ownership_OWN\"  1.000000 \n",
      "   58.                    \"purpose_vacation\"  1.000000 \n",
      "   59.                        \"sub_grade_B1\"  1.000000 \n",
      "   60.                        \"sub_grade_B3\"  1.000000 \n",
      "   61.                        \"sub_grade_B4\"  1.000000 \n",
      "   62.                        \"sub_grade_C4\"  1.000000 \n",
      "   63.                        \"sub_grade_D1\"  1.000000 \n",
      "   64.                        \"sub_grade_D4\"  1.000000 \n",
      "   65.                        \"sub_grade_E1\"  1.000000 \n",
      "   66.                        \"sub_grade_E3\"  1.000000 \n",
      "   67.                        \"sub_grade_F1\"  1.000000 \n",
      "\n",
      "Variable Importance: SUM_SCORE:\n",
      "    1.                           \"out_prncp\" 17816.920210 ################\n",
      "    2.                     \"last_pymnt_amnt\" 3411.112285 ###\n",
      "    3.             \"collection_recovery_fee\" 2056.155198 #\n",
      "    4.                            \"int_rate\" 1580.422795 #\n",
      "    5.                          \"recoveries\" 1228.692246 #\n",
      "    6.                     \"total_rec_prncp\" 1218.153107 #\n",
      "    7.                  \"total_rec_late_fee\" 1059.259968 \n",
      "    8.                         \"tot_cur_bal\" 954.916718 \n",
      "    9.                             \"grade_A\" 860.357241 \n",
      "   10.                     \"total_pymnt_inv\" 517.067029 \n",
      "   11.                         \"installment\" 487.895712 \n",
      "   12.                       \"total_rec_int\" 412.803228 \n",
      "   13.                         \"total_pymnt\" 396.917261 \n",
      "   14.                             \"grade_F\" 367.800007 \n",
      "   15.                           \"loan_amnt\" 292.378592 \n",
      "   16.                             \"grade_E\" 289.830614 \n",
      "   17.                    \"total_rev_hi_lim\" 286.039873 \n",
      "   18.               \"initial_list_status_f\" 248.320802 \n",
      "   19.                          \"annual_inc\" 184.381929 \n",
      "   20.                                 \"dti\" 147.656947 \n",
      "   21.                         \"funded_amnt\" 142.762368 \n",
      "   22.                           \"revol_bal\" 135.451872 \n",
      "   23.                          \"revol_util\" 98.562970 \n",
      "   24.                           \"total_acc\" 94.270246 \n",
      "   25.                             \"pub_rec\" 72.121903 \n",
      "   26.                            \"open_acc\" 53.546984 \n",
      "   27.                             \"grade_C\" 50.532389 \n",
      "   28.    \"verification_status_Not_Verified\" 49.149409 \n",
      "   29.                      \"inq_last_6mths\" 48.878421 \n",
      "   30.               \"initial_list_status_w\" 47.525133 \n",
      "   31.                             \"grade_B\" 42.145183 \n",
      "   32.                        \"tot_coll_amt\" 30.284732 \n",
      "   33.                             \"grade_D\" 23.723138 \n",
      "   34.                       \"purpose_other\" 23.576016 \n",
      "   35.                   \"emp_length_1_year\" 20.323545 \n",
      "   36.          \"purpose_debt_consolidation\" 17.813915 \n",
      "   37.                 \"home_ownership_RENT\" 17.285987 \n",
      "   38. \"verification_status_Source_Verified\" 15.821455 \n",
      "   39.                        \"sub_grade_D5\" 14.442936 \n",
      "   40.                        \"sub_grade_C3\" 14.349123 \n",
      "   41.                     \"term__60_months\" 13.964963 \n",
      "   42.                \"emp_length_10+_years\" 13.901176 \n",
      "   43.                        \"sub_grade_B1\" 11.829636 \n",
      "   44.                     \"term__36_months\" 11.377033 \n",
      "   45.                        \"sub_grade_A5\" 11.162249 \n",
      "   46.                        \"sub_grade_C4\" 10.752181 \n",
      "   47.                             \"grade_G\" 10.388441 \n",
      "   48.                  \"emp_length_2_years\"  9.281776 \n",
      "   49.        \"verification_status_Verified\"  9.079789 \n",
      "   50.                      \"emp_length_n/a\"  7.634114 \n",
      "   51.                 \"purpose_credit_card\"  6.886037 \n",
      "   52.             \"home_ownership_MORTGAGE\"  6.185588 \n",
      "   53.                        \"sub_grade_D1\"  5.849869 \n",
      "   54.                  \"emp_length_3_years\"  5.460745 \n",
      "   55.                  \"emp_length_6_years\"  5.247727 \n",
      "   56.                 \"emp_length_<_1_year\"  5.105203 \n",
      "   57.                        \"sub_grade_B3\"  4.560562 \n",
      "   58.                  \"home_ownership_OWN\"  4.314493 \n",
      "   59.                  \"emp_length_9_years\"  4.182643 \n",
      "   60.                        \"sub_grade_F1\"  3.682978 \n",
      "   61.                        \"sub_grade_E1\"  3.563343 \n",
      "   62.                    \"purpose_vacation\"  3.098520 \n",
      "   63.                        \"sub_grade_E3\"  3.080420 \n",
      "   64.                        \"sub_grade_D4\"  3.067252 \n",
      "   65.                         \"delinq_2yrs\"  3.028362 \n",
      "   66.                  \"emp_length_7_years\"  2.063127 \n",
      "   67.                        \"sub_grade_B4\"  1.830461 \n",
      "\n",
      "\n",
      "\n",
      "Winner takes all: true\n",
      "Out-of-bag evaluation: accuracy:0.949232 logloss:1.82986\n",
      "Number of trees: 1\n",
      "Total number of nodes: 1369\n",
      "\n",
      "Number of nodes by tree:\n",
      "Count: 1 Average: 1369 StdDev: 0\n",
      "Min: 1369 Max: 1369 Ignored: 0\n",
      "----------------------------------------------\n",
      "[ 1369, 1369] 1 100.00% 100.00% ##########\n",
      "\n",
      "Depth by leafs:\n",
      "Count: 685 Average: 12.3737 StdDev: 2.49798\n",
      "Min: 4 Max: 15 Ignored: 0\n",
      "----------------------------------------------\n",
      "[  4,  5)   4   0.58%   0.58%\n",
      "[  5,  6)   7   1.02%   1.61%\n",
      "[  6,  7)   5   0.73%   2.34%\n",
      "[  7,  8)  21   3.07%   5.40% #\n",
      "[  8,  9)  25   3.65%   9.05% #\n",
      "[  9, 10)  31   4.53%  13.58% ##\n",
      "[ 10, 11)  54   7.88%  21.46% ###\n",
      "[ 11, 12)  64   9.34%  30.80% ####\n",
      "[ 12, 13)  94  13.72%  44.53% #####\n",
      "[ 13, 14) 101  14.74%  59.27% ######\n",
      "[ 14, 15) 101  14.74%  74.01% ######\n",
      "[ 15, 15] 178  25.99% 100.00% ##########\n",
      "\n",
      "Number of training obs by leaf:\n",
      "Count: 685 Average: 83.1007 StdDev: 230.008\n",
      "Min: 5 Max: 2958 Ignored: 0\n",
      "----------------------------------------------\n",
      "[    5,  152) 610  89.05%  89.05% ##########\n",
      "[  152,  300)  27   3.94%  92.99%\n",
      "[  300,  448)  20   2.92%  95.91%\n",
      "[  448,  595)   8   1.17%  97.08%\n",
      "[  595,  743)   4   0.58%  97.66%\n",
      "[  743,  891)   4   0.58%  98.25%\n",
      "[  891, 1038)   2   0.29%  98.54%\n",
      "[ 1038, 1186)   2   0.29%  98.83%\n",
      "[ 1186, 1334)   3   0.44%  99.27%\n",
      "[ 1334, 1482)   2   0.29%  99.56%\n",
      "[ 1482, 1629)   1   0.15%  99.71%\n",
      "[ 1629, 1777)   0   0.00%  99.71%\n",
      "[ 1777, 1925)   0   0.00%  99.71%\n",
      "[ 1925, 2072)   0   0.00%  99.71%\n",
      "[ 2072, 2220)   1   0.15%  99.85%\n",
      "[ 2220, 2368)   0   0.00%  99.85%\n",
      "[ 2368, 2515)   0   0.00%  99.85%\n",
      "[ 2515, 2663)   0   0.00%  99.85%\n",
      "[ 2663, 2811)   0   0.00%  99.85%\n",
      "[ 2811, 2958]   1   0.15% 100.00%\n",
      "\n",
      "Attribute in nodes:\n",
      "\t56 : out_prncp [NUMERICAL]\n",
      "\t54 : total_rec_prncp [NUMERICAL]\n",
      "\t40 : total_pymnt_inv [NUMERICAL]\n",
      "\t39 : int_rate [NUMERICAL]\n",
      "\t36 : total_pymnt [NUMERICAL]\n",
      "\t34 : total_rec_int [NUMERICAL]\n",
      "\t32 : installment [NUMERICAL]\n",
      "\t31 : last_pymnt_amnt [NUMERICAL]\n",
      "\t28 : total_rev_hi_lim [NUMERICAL]\n",
      "\t26 : loan_amnt [NUMERICAL]\n",
      "\t25 : dti [NUMERICAL]\n",
      "\t24 : tot_cur_bal [NUMERICAL]\n",
      "\t24 : revol_bal [NUMERICAL]\n",
      "\t22 : total_acc [NUMERICAL]\n",
      "\t20 : revol_util [NUMERICAL]\n",
      "\t19 : annual_inc [NUMERICAL]\n",
      "\t17 : collection_recovery_fee [NUMERICAL]\n",
      "\t16 : funded_amnt [NUMERICAL]\n",
      "\t15 : recoveries [NUMERICAL]\n",
      "\t14 : open_acc [NUMERICAL]\n",
      "\t10 : inq_last_6mths [NUMERICAL]\n",
      "\t6 : total_rec_late_fee [NUMERICAL]\n",
      "\t5 : tot_coll_amt [NUMERICAL]\n",
      "\t5 : purpose_debt_consolidation [NUMERICAL]\n",
      "\t5 : initial_list_status_f [NUMERICAL]\n",
      "\t5 : emp_length_10+_years [NUMERICAL]\n",
      "\t4 : verification_status_Not_Verified [NUMERICAL]\n",
      "\t4 : initial_list_status_w [NUMERICAL]\n",
      "\t4 : home_ownership_RENT [NUMERICAL]\n",
      "\t4 : grade_D [NUMERICAL]\n",
      "\t3 : verification_status_Verified [NUMERICAL]\n",
      "\t3 : term__36_months [NUMERICAL]\n",
      "\t3 : purpose_credit_card [NUMERICAL]\n",
      "\t3 : pub_rec [NUMERICAL]\n",
      "\t3 : emp_length_2_years [NUMERICAL]\n",
      "\t3 : emp_length_1_year [NUMERICAL]\n",
      "\t2 : verification_status_Source_Verified [NUMERICAL]\n",
      "\t2 : term__60_months [NUMERICAL]\n",
      "\t2 : sub_grade_D5 [NUMERICAL]\n",
      "\t2 : sub_grade_C3 [NUMERICAL]\n",
      "\t2 : sub_grade_A5 [NUMERICAL]\n",
      "\t2 : purpose_other [NUMERICAL]\n",
      "\t2 : home_ownership_MORTGAGE [NUMERICAL]\n",
      "\t2 : grade_G [NUMERICAL]\n",
      "\t2 : grade_C [NUMERICAL]\n",
      "\t2 : grade_B [NUMERICAL]\n",
      "\t2 : emp_length_n/a [NUMERICAL]\n",
      "\t1 : sub_grade_F1 [NUMERICAL]\n",
      "\t1 : sub_grade_E3 [NUMERICAL]\n",
      "\t1 : sub_grade_E1 [NUMERICAL]\n",
      "\t1 : sub_grade_D4 [NUMERICAL]\n",
      "\t1 : sub_grade_D1 [NUMERICAL]\n",
      "\t1 : sub_grade_C4 [NUMERICAL]\n",
      "\t1 : sub_grade_B4 [NUMERICAL]\n",
      "\t1 : sub_grade_B3 [NUMERICAL]\n",
      "\t1 : sub_grade_B1 [NUMERICAL]\n",
      "\t1 : purpose_vacation [NUMERICAL]\n",
      "\t1 : home_ownership_OWN [NUMERICAL]\n",
      "\t1 : grade_F [NUMERICAL]\n",
      "\t1 : grade_E [NUMERICAL]\n",
      "\t1 : grade_A [NUMERICAL]\n",
      "\t1 : emp_length_<_1_year [NUMERICAL]\n",
      "\t1 : emp_length_9_years [NUMERICAL]\n",
      "\t1 : emp_length_7_years [NUMERICAL]\n",
      "\t1 : emp_length_6_years [NUMERICAL]\n",
      "\t1 : emp_length_3_years [NUMERICAL]\n",
      "\t1 : delinq_2yrs [NUMERICAL]\n",
      "\n",
      "Attribute in nodes with depth <= 0:\n",
      "\t1 : grade_E [NUMERICAL]\n",
      "\n",
      "Attribute in nodes with depth <= 1:\n",
      "\t1 : initial_list_status_f [NUMERICAL]\n",
      "\t1 : grade_F [NUMERICAL]\n",
      "\t1 : grade_E [NUMERICAL]\n",
      "\n",
      "Attribute in nodes with depth <= 2:\n",
      "\t2 : total_rec_late_fee [NUMERICAL]\n",
      "\t1 : last_pymnt_amnt [NUMERICAL]\n",
      "\t1 : int_rate [NUMERICAL]\n",
      "\t1 : initial_list_status_f [NUMERICAL]\n",
      "\t1 : grade_F [NUMERICAL]\n",
      "\t1 : grade_E [NUMERICAL]\n",
      "\n",
      "Attribute in nodes with depth <= 3:\n",
      "\t3 : total_rec_late_fee [NUMERICAL]\n",
      "\t2 : revol_bal [NUMERICAL]\n",
      "\t2 : int_rate [NUMERICAL]\n",
      "\t1 : total_pymnt [NUMERICAL]\n",
      "\t1 : recoveries [NUMERICAL]\n",
      "\t1 : loan_amnt [NUMERICAL]\n",
      "\t1 : last_pymnt_amnt [NUMERICAL]\n",
      "\t1 : initial_list_status_f [NUMERICAL]\n",
      "\t1 : grade_F [NUMERICAL]\n",
      "\t1 : grade_E [NUMERICAL]\n",
      "\t1 : grade_A [NUMERICAL]\n",
      "\n",
      "Attribute in nodes with depth <= 5:\n",
      "\t7 : int_rate [NUMERICAL]\n",
      "\t4 : total_rec_late_fee [NUMERICAL]\n",
      "\t3 : out_prncp [NUMERICAL]\n",
      "\t3 : last_pymnt_amnt [NUMERICAL]\n",
      "\t3 : installment [NUMERICAL]\n",
      "\t3 : collection_recovery_fee [NUMERICAL]\n",
      "\t2 : total_rec_prncp [NUMERICAL]\n",
      "\t2 : total_rec_int [NUMERICAL]\n",
      "\t2 : total_pymnt_inv [NUMERICAL]\n",
      "\t2 : total_pymnt [NUMERICAL]\n",
      "\t2 : revol_bal [NUMERICAL]\n",
      "\t1 : tot_cur_bal [NUMERICAL]\n",
      "\t1 : revol_util [NUMERICAL]\n",
      "\t1 : recoveries [NUMERICAL]\n",
      "\t1 : loan_amnt [NUMERICAL]\n",
      "\t1 : initial_list_status_f [NUMERICAL]\n",
      "\t1 : home_ownership_RENT [NUMERICAL]\n",
      "\t1 : grade_F [NUMERICAL]\n",
      "\t1 : grade_E [NUMERICAL]\n",
      "\t1 : grade_A [NUMERICAL]\n",
      "\t1 : emp_length_10+_years [NUMERICAL]\n",
      "\t1 : annual_inc [NUMERICAL]\n",
      "\n",
      "Condition type in nodes:\n",
      "\t684 : HigherCondition\n",
      "Condition type in nodes with depth <= 0:\n",
      "\t1 : HigherCondition\n",
      "Condition type in nodes with depth <= 1:\n",
      "\t3 : HigherCondition\n",
      "Condition type in nodes with depth <= 2:\n",
      "\t7 : HigherCondition\n",
      "Condition type in nodes with depth <= 3:\n",
      "\t15 : HigherCondition\n",
      "Condition type in nodes with depth <= 5:\n",
      "\t44 : HigherCondition\n",
      "Node format: NOT_SET\n",
      "\n",
      "Training OOB:\n",
      "\ttrees: 1, Out-of-bag evaluation: accuracy:0.949232 logloss:1.82986\n",
      "\n"
     ]
    }
   ],
   "source": [
    "model.summary()"
   ]
  },
  {
   "cell_type": "code",
   "execution_count": 136,
   "metadata": {},
   "outputs": [
    {
     "name": "stdout",
     "output_type": "stream",
     "text": [
      "25/25 [==============================] - 1s 29ms/step - loss: 0.0000e+00 - accuracy: 0.9472 - precision_2: 0.9635 - recall_2: 0.9300\n"
     ]
    },
    {
     "data": {
      "text/plain": [
       "[0.0, 0.9472454786300659, 0.9634652733802795, 0.9299623370170593]"
      ]
     },
     "execution_count": 136,
     "metadata": {},
     "output_type": "execute_result"
    }
   ],
   "source": [
    "model.evaluate(X_test)"
   ]
  },
  {
   "cell_type": "code",
   "execution_count": 137,
   "metadata": {},
   "outputs": [
    {
     "name": "stdout",
     "output_type": "stream",
     "text": [
      "25/25 [==============================] - 1s 29ms/step\n"
     ]
    }
   ],
   "source": [
    "y_pred = model.predict(X_test)"
   ]
  },
  {
   "cell_type": "code",
   "execution_count": 140,
   "metadata": {},
   "outputs": [],
   "source": [
    "cm = confusion_matrix(test['default_ind'], y_pred)"
   ]
  },
  {
   "cell_type": "code",
   "execution_count": 141,
   "metadata": {},
   "outputs": [
    {
     "data": {
      "image/png": "[encoded data removed]",
      "text/plain": [
       "<Figure size 432x288 with 2 Axes>"
      ]
     },
     "metadata": {
      "needs_background": "light"
     },
     "output_type": "display_data"
    }
   ],
   "source": [
    "graph_confusion_matrix(cm)"
   ]
  },
  {
   "cell_type": "code",
   "execution_count": 142,
   "metadata": {},
   "outputs": [
    {
     "data": {
      "image/png": "[encoded data removed]",
      "text/plain": [
       "<Figure size 432x288 with 1 Axes>"
      ]
     },
     "metadata": {
      "needs_background": "light"
     },
     "output_type": "display_data"
    }
   ],
   "source": [
    "graph_roc_curve(test['default_ind'], y_pred)"
   ]
  },
  {
   "attachments": {},
   "cell_type": "markdown",
   "metadata": {},
   "source": [
    "### Random Forrest"
   ]
  },
  {
   "cell_type": "code",
   "execution_count": 147,
   "metadata": {},
   "outputs": [
    {
     "name": "stdout",
     "output_type": "stream",
     "text": [
      "Use /tmp/tmp3xkxzh_m as temporary training directory\n"
     ]
    }
   ],
   "source": [
    "model = tfdf.keras.RandomForestModel()"
   ]
  },
  {
   "cell_type": "code",
   "execution_count": 148,
   "metadata": {},
   "outputs": [],
   "source": [
    "model.compile(metrics=['accuracy', tf.keras.metrics.Precision(), tf.keras.metrics.Recall()])"
   ]
  },
  {
   "cell_type": "code",
   "execution_count": 149,
   "metadata": {},
   "outputs": [
    {
     "name": "stdout",
     "output_type": "stream",
     "text": [
      "Reading training dataset...\n"
     ]
    },
    {
     "name": "stderr",
     "output_type": "stream",
     "text": [
      "WARNING:tensorflow:5 out of the last 5 calls to <function CoreModel._consumes_training_examples_until_eof at 0x7eff6ede8d30> triggered tf.function retracing. Tracing is expensive and the excessive number of tracings could be due to (1) creating @tf.function repeatedly in a loop, (2) passing tensors with different shapes, (3) passing Python objects instead of tensors. For (1), please define your @tf.function outside of the loop. For (2), @tf.function has reduce_retracing=True option that can avoid unnecessary retracing. For (3), please refer to https://www.tensorflow.org/guide/function#controlling_retracing and https://www.tensorflow.org/api_docs/python/tf/function for  more details.\n"
     ]
    },
    {
     "name": "stdout",
     "output_type": "stream",
     "text": [
      "Training dataset read in 0:00:02.226083. Found 56924 examples.\n",
      "Training model...\n"
     ]
    },
    {
     "name": "stderr",
     "output_type": "stream",
     "text": [
      "[INFO 23-06-02 19:34:54.9137 AEST kernel.cc:1242] Loading model from path /tmp/tmp3xkxzh_m/model/ with prefix a93a2dc0fe224131\n"
     ]
    },
    {
     "name": "stdout",
     "output_type": "stream",
     "text": [
      "Model trained in 0:00:06.403770\n",
      "Compiling model...\n"
     ]
    },
    {
     "name": "stderr",
     "output_type": "stream",
     "text": [
      "[INFO 23-06-02 19:34:55.3091 AEST decision_forest.cc:660] Model loaded with 300 root(s), 387752 node(s), and 105 input feature(s).\n",
      "[INFO 23-06-02 19:34:55.3101 AEST abstract_model.cc:1311] Engine \"RandomForestOptPred\" built\n",
      "[INFO 23-06-02 19:34:55.3112 AEST kernel.cc:1074] Use fast generic engine\n",
      "2023-06-02 19:34:55.479554: I tensorflow/core/common_runtime/executor.cc:1197] [/device:CPU:0] (DEBUG INFO) Executor start aborting (this does not indicate an error and you can ignore this message): INVALID_ARGUMENT: You must feed a value for placeholder tensor 'Placeholder/_96' with dtype int32 and shape [56924]\n",
      "\t [[{{node Placeholder/_96}}]]\n"
     ]
    },
    {
     "name": "stdout",
     "output_type": "stream",
     "text": [
      "Model compiled.\n"
     ]
    },
    {
     "name": "stderr",
     "output_type": "stream",
     "text": [
      "WARNING:tensorflow:5 out of the last 5 calls to <function InferenceCoreModel.yggdrasil_model_path_tensor at 0x7eff34e7bc10> triggered tf.function retracing. Tracing is expensive and the excessive number of tracings could be due to (1) creating @tf.function repeatedly in a loop, (2) passing tensors with different shapes, (3) passing Python objects instead of tensors. For (1), please define your @tf.function outside of the loop. For (2), @tf.function has reduce_retracing=True option that can avoid unnecessary retracing. For (3), please refer to https://www.tensorflow.org/guide/function#controlling_retracing and https://www.tensorflow.org/api_docs/python/tf/function for  more details.\n"
     ]
    },
    {
     "data": {
      "text/plain": [
       "<keras.callbacks.History at 0x7eff6c19cd30>"
      ]
     },
     "execution_count": 149,
     "metadata": {},
     "output_type": "execute_result"
    }
   ],
   "source": [
    "model.fit(X_train)"
   ]
  },
  {
   "cell_type": "code",
   "execution_count": 150,
   "metadata": {},
   "outputs": [
    {
     "name": "stdout",
     "output_type": "stream",
     "text": [
      "Model: \"random_forest_model_4\"\n",
      "_________________________________________________________________\n",
      " Layer (type)                Output Shape              Param #   \n",
      "=================================================================\n",
      "=================================================================\n",
      "Total params: 1\n",
      "Trainable params: 0\n",
      "Non-trainable params: 1\n",
      "_________________________________________________________________\n",
      "Type: \"RANDOM_FOREST\"\n",
      "Task: CLASSIFICATION\n",
      "Label: \"__LABEL\"\n",
      "\n",
      "Input Features (108):\n",
      "\tacc_now_delinq\n",
      "\tannual_inc\n",
      "\tapplication_type_INDIVIDUAL\n",
      "\tapplication_type_JOINT\n",
      "\tcollection_recovery_fee\n",
      "\tcollections_12_mths_ex_med\n",
      "\tdelinq_2yrs\n",
      "\tdti\n",
      "\temp_length_10+_years\n",
      "\temp_length_1_year\n",
      "\temp_length_2_years\n",
      "\temp_length_3_years\n",
      "\temp_length_4_years\n",
      "\temp_length_5_years\n",
      "\temp_length_6_years\n",
      "\temp_length_7_years\n",
      "\temp_length_8_years\n",
      "\temp_length_9_years\n",
      "\temp_length_<_1_year\n",
      "\temp_length_n/a\n",
      "\tfunded_amnt\n",
      "\tgrade_A\n",
      "\tgrade_B\n",
      "\tgrade_C\n",
      "\tgrade_D\n",
      "\tgrade_E\n",
      "\tgrade_F\n",
      "\tgrade_G\n",
      "\thome_ownership_MORTGAGE\n",
      "\thome_ownership_OTHER\n",
      "\thome_ownership_OWN\n",
      "\thome_ownership_RENT\n",
      "\tinitial_list_status_f\n",
      "\tinitial_list_status_w\n",
      "\tinq_last_6mths\n",
      "\tinstallment\n",
      "\tint_rate\n",
      "\tlast_pymnt_amnt\n",
      "\tloan_amnt\n",
      "\topen_acc\n",
      "\tout_prncp\n",
      "\tpub_rec\n",
      "\tpurpose_car\n",
      "\tpurpose_credit_card\n",
      "\tpurpose_debt_consolidation\n",
      "\tpurpose_educational\n",
      "\tpurpose_home_improvement\n",
      "\tpurpose_house\n",
      "\tpurpose_major_purchase\n",
      "\tpurpose_medical\n",
      "\tpurpose_moving\n",
      "\tpurpose_other\n",
      "\tpurpose_renewable_energy\n",
      "\tpurpose_small_business\n",
      "\tpurpose_vacation\n",
      "\tpurpose_wedding\n",
      "\trecoveries\n",
      "\trevol_bal\n",
      "\trevol_util\n",
      "\tsub_grade_A1\n",
      "\tsub_grade_A2\n",
      "\tsub_grade_A3\n",
      "\tsub_grade_A4\n",
      "\tsub_grade_A5\n",
      "\tsub_grade_B1\n",
      "\tsub_grade_B2\n",
      "\tsub_grade_B3\n",
      "\tsub_grade_B4\n",
      "\tsub_grade_B5\n",
      "\tsub_grade_C1\n",
      "\tsub_grade_C2\n",
      "\tsub_grade_C3\n",
      "\tsub_grade_C4\n",
      "\tsub_grade_C5\n",
      "\tsub_grade_D1\n",
      "\tsub_grade_D2\n",
      "\tsub_grade_D3\n",
      "\tsub_grade_D4\n",
      "\tsub_grade_D5\n",
      "\tsub_grade_E1\n",
      "\tsub_grade_E2\n",
      "\tsub_grade_E3\n",
      "\tsub_grade_E4\n",
      "\tsub_grade_E5\n",
      "\tsub_grade_F1\n",
      "\tsub_grade_F2\n",
      "\tsub_grade_F3\n",
      "\tsub_grade_F4\n",
      "\tsub_grade_F5\n",
      "\tsub_grade_G1\n",
      "\tsub_grade_G2\n",
      "\tsub_grade_G3\n",
      "\tsub_grade_G4\n",
      "\tsub_grade_G5\n",
      "\tterm__36_months\n",
      "\tterm__60_months\n",
      "\ttot_coll_amt\n",
      "\ttot_cur_bal\n",
      "\ttotal_acc\n",
      "\ttotal_pymnt\n",
      "\ttotal_pymnt_inv\n",
      "\ttotal_rec_int\n",
      "\ttotal_rec_late_fee\n",
      "\ttotal_rec_prncp\n",
      "\ttotal_rev_hi_lim\n",
      "\tverification_status_Not_Verified\n",
      "\tverification_status_Source_Verified\n",
      "\tverification_status_Verified\n",
      "\n",
      "No weights\n",
      "\n",
      "Variable Importance: INV_MEAN_MIN_DEPTH:\n",
      "    1.                           \"out_prncp\"  0.143174 ################\n",
      "    2.                            \"int_rate\"  0.125459 ###########\n",
      "    3.                     \"last_pymnt_amnt\"  0.120586 ##########\n",
      "    4.                          \"recoveries\"  0.113437 ########\n",
      "    5.                     \"total_rec_prncp\"  0.107572 #######\n",
      "    6.                     \"total_pymnt_inv\"  0.103754 ######\n",
      "    7.                  \"total_rec_late_fee\"  0.102269 ######\n",
      "    8.             \"collection_recovery_fee\"  0.101179 ######\n",
      "    9.                       \"total_rec_int\"  0.099299 #####\n",
      "   10.                         \"total_pymnt\"  0.098162 #####\n",
      "   11.                             \"grade_A\"  0.095336 ####\n",
      "   12.                          \"annual_inc\"  0.091534 ###\n",
      "   13.                    \"total_rev_hi_lim\"  0.091520 ###\n",
      "   14.               \"initial_list_status_f\"  0.090712 ###\n",
      "   15.                      \"inq_last_6mths\"  0.087950 ##\n",
      "   16.               \"initial_list_status_w\"  0.087867 ##\n",
      "   17.                         \"tot_cur_bal\"  0.087216 ##\n",
      "   18.                         \"installment\"  0.084893 ##\n",
      "   19.                         \"funded_amnt\"  0.083967 #\n",
      "   20.                           \"loan_amnt\"  0.083350 #\n",
      "   21.                             \"grade_B\"  0.082835 #\n",
      "   22.                          \"revol_util\"  0.082549 #\n",
      "   23.                                 \"dti\"  0.082365 #\n",
      "   24.                           \"revol_bal\"  0.081554 #\n",
      "   25.                             \"grade_D\"  0.081359 #\n",
      "   26.                             \"grade_F\"  0.080983 #\n",
      "   27.        \"verification_status_Verified\"  0.080834 #\n",
      "   28.                             \"grade_E\"  0.080719 #\n",
      "   29.                        \"sub_grade_A1\"  0.079972 #\n",
      "   30.                     \"term__36_months\"  0.079895 #\n",
      "   31.                           \"total_acc\"  0.079235 \n",
      "   32.                     \"term__60_months\"  0.079013 \n",
      "   33.                            \"open_acc\"  0.078242 \n",
      "   34.                 \"home_ownership_RENT\"  0.077942 \n",
      "   35.                        \"tot_coll_amt\"  0.077823 \n",
      "   36.                        \"sub_grade_A5\"  0.077286 \n",
      "   37.                             \"grade_C\"  0.077125 \n",
      "   38.                        \"sub_grade_A2\"  0.077035 \n",
      "   39.    \"verification_status_Not_Verified\"  0.077031 \n",
      "   40.                        \"sub_grade_B1\"  0.076980 \n",
      "   41.                             \"grade_G\"  0.076970 \n",
      "   42.                        \"sub_grade_A4\"  0.076952 \n",
      "   43.             \"home_ownership_MORTGAGE\"  0.076927 \n",
      "   44. \"verification_status_Source_Verified\"  0.076817 \n",
      "   45.                             \"pub_rec\"  0.076662 \n",
      "   46.                        \"sub_grade_F3\"  0.076591 \n",
      "   47.                         \"delinq_2yrs\"  0.076434 \n",
      "   48.                 \"purpose_credit_card\"  0.076279 \n",
      "   49.                        \"sub_grade_D5\"  0.076224 \n",
      "   50.                        \"sub_grade_C4\"  0.076223 \n",
      "   51.                        \"sub_grade_A3\"  0.076214 \n",
      "   52.                        \"sub_grade_B2\"  0.076198 \n",
      "   53.                        \"sub_grade_D4\"  0.076146 \n",
      "   54.                        \"sub_grade_C5\"  0.076127 \n",
      "   55.                \"emp_length_10+_years\"  0.076056 \n",
      "   56.                   \"emp_length_1_year\"  0.075991 \n",
      "   57.          \"purpose_debt_consolidation\"  0.075966 \n",
      "   58.                        \"sub_grade_C3\"  0.075955 \n",
      "   59.                        \"sub_grade_B4\"  0.075950 \n",
      "   60.                        \"sub_grade_B3\"  0.075927 \n",
      "   61.                        \"sub_grade_D1\"  0.075911 \n",
      "   62.                  \"emp_length_2_years\"  0.075894 \n",
      "   63.                      \"emp_length_n/a\"  0.075893 \n",
      "   64.                  \"emp_length_6_years\"  0.075889 \n",
      "   65.                        \"sub_grade_C1\"  0.075875 \n",
      "   66.                        \"sub_grade_C2\"  0.075859 \n",
      "   67.              \"purpose_small_business\"  0.075823 \n",
      "   68.            \"purpose_home_improvement\"  0.075794 \n",
      "   69.                  \"emp_length_7_years\"  0.075787 \n",
      "   70.                        \"sub_grade_E3\"  0.075768 \n",
      "   71.                  \"emp_length_8_years\"  0.075755 \n",
      "   72.                        \"sub_grade_D2\"  0.075746 \n",
      "   73.                        \"sub_grade_F1\"  0.075745 \n",
      "   74.                 \"emp_length_<_1_year\"  0.075745 \n",
      "   75.                        \"sub_grade_E2\"  0.075733 \n",
      "   76.                        \"sub_grade_B5\"  0.075733 \n",
      "   77.                  \"emp_length_3_years\"  0.075731 \n",
      "   78.                  \"home_ownership_OWN\"  0.075719 \n",
      "   79.                       \"purpose_other\"  0.075718 \n",
      "   80.                         \"purpose_car\"  0.075716 \n",
      "   81.                  \"emp_length_9_years\"  0.075715 \n",
      "   82.                  \"emp_length_5_years\"  0.075696 \n",
      "   83.                        \"sub_grade_F5\"  0.075691 \n",
      "   84.                  \"emp_length_4_years\"  0.075689 \n",
      "   85.                     \"purpose_medical\"  0.075669 \n",
      "   86.                        \"sub_grade_E1\"  0.075668 \n",
      "   87.                        \"sub_grade_E4\"  0.075667 \n",
      "   88.                        \"sub_grade_D3\"  0.075662 \n",
      "   89.                        \"sub_grade_E5\"  0.075660 \n",
      "   90.              \"purpose_major_purchase\"  0.075652 \n",
      "   91.                        \"sub_grade_G5\"  0.075644 \n",
      "   92.                      \"purpose_moving\"  0.075613 \n",
      "   93.                        \"sub_grade_G3\"  0.075605 \n",
      "   94.                    \"purpose_vacation\"  0.075605 \n",
      "   95.                        \"sub_grade_F4\"  0.075602 \n",
      "   96.                        \"sub_grade_F2\"  0.075601 \n",
      "   97.                      \"acc_now_delinq\"  0.075598 \n",
      "   98.          \"collections_12_mths_ex_med\"  0.075595 \n",
      "   99.                        \"sub_grade_G1\"  0.075594 \n",
      "  100.                     \"purpose_wedding\"  0.075593 \n",
      "  101.                        \"sub_grade_G2\"  0.075588 \n",
      "  102.                       \"purpose_house\"  0.075557 \n",
      "  103.                        \"sub_grade_G4\"  0.075553 \n",
      "  104.                \"home_ownership_OTHER\"  0.075544 \n",
      "  105.                 \"purpose_educational\"  0.075543 \n",
      "\n",
      "Variable Importance: NUM_AS_ROOT:\n",
      "    1.                    \"out_prncp\" 30.000000 ################\n",
      "    2.                   \"recoveries\" 29.000000 ###############\n",
      "    3.      \"collection_recovery_fee\" 26.000000 #############\n",
      "    4.              \"last_pymnt_amnt\" 25.000000 #############\n",
      "    5.        \"initial_list_status_f\" 20.000000 ##########\n",
      "    6.                     \"int_rate\" 17.000000 ########\n",
      "    7.              \"total_pymnt_inv\" 15.000000 #######\n",
      "    8.              \"total_rec_prncp\" 15.000000 #######\n",
      "    9.               \"inq_last_6mths\" 14.000000 #######\n",
      "   10.                      \"grade_A\" 12.000000 ######\n",
      "   11.             \"total_rev_hi_lim\" 12.000000 ######\n",
      "   12.        \"initial_list_status_w\" 11.000000 #####\n",
      "   13.                \"total_rec_int\" 11.000000 #####\n",
      "   14.           \"total_rec_late_fee\" 10.000000 ####\n",
      "   15.                  \"total_pymnt\"  9.000000 ####\n",
      "   16.                      \"grade_E\"  5.000000 ##\n",
      "   17.                      \"grade_F\"  5.000000 ##\n",
      "   18.                  \"tot_cur_bal\"  5.000000 ##\n",
      "   19.                   \"annual_inc\"  4.000000 #\n",
      "   20.                      \"grade_B\"  4.000000 #\n",
      "   21.                      \"grade_D\"  4.000000 #\n",
      "   22.                 \"sub_grade_A1\"  3.000000 #\n",
      "   23.                 \"sub_grade_A4\"  3.000000 #\n",
      "   24. \"verification_status_Verified\"  3.000000 #\n",
      "   25.          \"home_ownership_RENT\"  2.000000 \n",
      "   26.                 \"sub_grade_A2\"  2.000000 \n",
      "   27.                   \"revol_util\"  1.000000 \n",
      "   28.                 \"sub_grade_A3\"  1.000000 \n",
      "   29.                 \"sub_grade_B1\"  1.000000 \n",
      "   30.              \"term__60_months\"  1.000000 \n",
      "\n",
      "Variable Importance: NUM_NODES:\n",
      "    1.                     \"total_rec_prncp\" 13946.000000 ################\n",
      "    2.                           \"out_prncp\" 13008.000000 ##############\n",
      "    3.                     \"last_pymnt_amnt\" 11646.000000 #############\n",
      "    4.                       \"total_rec_int\" 10179.000000 ###########\n",
      "    5.                         \"total_pymnt\" 10157.000000 ###########\n",
      "    6.                     \"total_pymnt_inv\" 10037.000000 ###########\n",
      "    7.                         \"installment\" 9907.000000 ###########\n",
      "    8.                            \"int_rate\" 9087.000000 ##########\n",
      "    9.                         \"funded_amnt\" 7912.000000 #########\n",
      "   10.                           \"loan_amnt\" 7612.000000 ########\n",
      "   11.                           \"revol_bal\" 7584.000000 ########\n",
      "   12.                          \"revol_util\" 7512.000000 ########\n",
      "   13.                                 \"dti\" 7482.000000 ########\n",
      "   14.                          \"annual_inc\" 7445.000000 ########\n",
      "   15.                         \"tot_cur_bal\" 7431.000000 ########\n",
      "   16.                    \"total_rev_hi_lim\" 7280.000000 ########\n",
      "   17.                           \"total_acc\" 6212.000000 #######\n",
      "   18.                            \"open_acc\" 4743.000000 #####\n",
      "   19.                      \"inq_last_6mths\" 2174.000000 ##\n",
      "   20.                  \"total_rec_late_fee\" 2008.000000 ##\n",
      "   21.                          \"recoveries\" 1952.000000 ##\n",
      "   22.                        \"tot_coll_amt\" 1422.000000 #\n",
      "   23.             \"collection_recovery_fee\" 1268.000000 #\n",
      "   24.                         \"delinq_2yrs\" 1027.000000 #\n",
      "   25.        \"verification_status_Verified\" 985.000000 #\n",
      "   26.    \"verification_status_Not_Verified\" 971.000000 #\n",
      "   27.          \"purpose_debt_consolidation\" 935.000000 #\n",
      "   28. \"verification_status_Source_Verified\" 928.000000 #\n",
      "   29.                 \"home_ownership_RENT\" 887.000000 #\n",
      "   30.               \"initial_list_status_w\" 853.000000 \n",
      "   31.                \"emp_length_10+_years\" 845.000000 \n",
      "   32.             \"home_ownership_MORTGAGE\" 803.000000 \n",
      "   33.               \"initial_list_status_f\" 794.000000 \n",
      "   34.                     \"term__36_months\" 771.000000 \n",
      "   35.                     \"term__60_months\" 769.000000 \n",
      "   36.                             \"pub_rec\" 727.000000 \n",
      "   37.                 \"purpose_credit_card\" 705.000000 \n",
      "   38.                             \"grade_B\" 679.000000 \n",
      "   39.                             \"grade_C\" 666.000000 \n",
      "   40.                             \"grade_D\" 598.000000 \n",
      "   41.                             \"grade_A\" 583.000000 \n",
      "   42.                             \"grade_E\" 475.000000 \n",
      "   43.                  \"emp_length_2_years\" 447.000000 \n",
      "   44.                   \"emp_length_1_year\" 381.000000 \n",
      "   45.                  \"home_ownership_OWN\" 345.000000 \n",
      "   46.                  \"emp_length_8_years\" 339.000000 \n",
      "   47.                 \"emp_length_<_1_year\" 337.000000 \n",
      "   48.                        \"sub_grade_C4\" 332.000000 \n",
      "   49.                  \"emp_length_3_years\" 321.000000 \n",
      "   50.                  \"emp_length_4_years\" 319.000000 \n",
      "   51.                      \"emp_length_n/a\" 316.000000 \n",
      "   52.                             \"grade_F\" 311.000000 \n",
      "   53.                        \"sub_grade_C2\" 302.000000 \n",
      "   54.                        \"sub_grade_C3\" 301.000000 \n",
      "   55.                       \"purpose_other\" 296.000000 \n",
      "   56.                        \"sub_grade_B4\" 288.000000 \n",
      "   57.                  \"emp_length_5_years\" 285.000000 \n",
      "   58.                  \"emp_length_6_years\" 283.000000 \n",
      "   59.                        \"sub_grade_C1\" 283.000000 \n",
      "   60.                  \"emp_length_7_years\" 280.000000 \n",
      "   61.                        \"sub_grade_B3\" 258.000000 \n",
      "   62.                  \"emp_length_9_years\" 248.000000 \n",
      "   63.                        \"sub_grade_C5\" 239.000000 \n",
      "   64.            \"purpose_home_improvement\" 232.000000 \n",
      "   65.                        \"sub_grade_A5\" 222.000000 \n",
      "   66.                        \"sub_grade_D4\" 217.000000 \n",
      "   67.                        \"sub_grade_B2\" 215.000000 \n",
      "   68.                        \"sub_grade_B5\" 215.000000 \n",
      "   69.                        \"sub_grade_D1\" 204.000000 \n",
      "   70.                        \"sub_grade_D2\" 199.000000 \n",
      "   71.                        \"sub_grade_B1\" 187.000000 \n",
      "   72.                        \"sub_grade_E2\" 176.000000 \n",
      "   73.                        \"sub_grade_D5\" 164.000000 \n",
      "   74.                        \"sub_grade_F3\" 155.000000 \n",
      "   75.                        \"sub_grade_A4\" 150.000000 \n",
      "   76.                        \"sub_grade_A1\" 138.000000 \n",
      "   77.                        \"sub_grade_E1\" 130.000000 \n",
      "   78.                        \"sub_grade_E3\" 130.000000 \n",
      "   79.                             \"grade_G\" 128.000000 \n",
      "   80.                        \"sub_grade_D3\" 122.000000 \n",
      "   81.                        \"sub_grade_A3\" 108.000000 \n",
      "   82.                        \"sub_grade_E4\" 108.000000 \n",
      "   83.                        \"sub_grade_F1\" 103.000000 \n",
      "   84.                     \"purpose_medical\" 97.000000 \n",
      "   85.                        \"sub_grade_A2\" 97.000000 \n",
      "   86.              \"purpose_major_purchase\" 95.000000 \n",
      "   87.                         \"purpose_car\" 80.000000 \n",
      "   88.              \"purpose_small_business\" 76.000000 \n",
      "   89.                        \"sub_grade_E5\" 69.000000 \n",
      "   90.                    \"purpose_vacation\" 60.000000 \n",
      "   91.                        \"sub_grade_F2\" 53.000000 \n",
      "   92.                      \"purpose_moving\" 39.000000 \n",
      "   93.          \"collections_12_mths_ex_med\" 36.000000 \n",
      "   94.                        \"sub_grade_F5\" 35.000000 \n",
      "   95.                        \"sub_grade_F4\" 29.000000 \n",
      "   96.                        \"sub_grade_G2\" 27.000000 \n",
      "   97.                        \"sub_grade_G1\" 24.000000 \n",
      "   98.                      \"acc_now_delinq\" 22.000000 \n",
      "   99.                     \"purpose_wedding\" 17.000000 \n",
      "  100.                        \"sub_grade_G3\" 16.000000 \n",
      "  101.                       \"purpose_house\" 15.000000 \n",
      "  102.                        \"sub_grade_G5\" 14.000000 \n",
      "  103.                        \"sub_grade_G4\"  3.000000 \n",
      "  104.                \"home_ownership_OTHER\"  2.000000 \n",
      "  105.                 \"purpose_educational\"  1.000000 \n",
      "\n",
      "Variable Importance: SUM_SCORE:\n",
      "    1.                           \"out_prncp\" 4520104.845774 ################\n",
      "    2.                          \"recoveries\" 1244458.879208 ####\n",
      "    3.             \"collection_recovery_fee\" 995836.799893 ###\n",
      "    4.                     \"last_pymnt_amnt\" 931562.751761 ###\n",
      "    5.                     \"total_rec_prncp\" 586147.971959 ##\n",
      "    6.                            \"int_rate\" 344723.731772 #\n",
      "    7.                         \"total_pymnt\" 267069.334693 \n",
      "    8.                     \"total_pymnt_inv\" 264151.941531 \n",
      "    9.                         \"funded_amnt\" 186387.945089 \n",
      "   10.                           \"loan_amnt\" 175367.865798 \n",
      "   11.                         \"installment\" 173923.093060 \n",
      "   12.                       \"total_rec_int\" 158679.293272 \n",
      "   13.                  \"total_rec_late_fee\" 95547.040281 \n",
      "   14.               \"initial_list_status_f\" 68046.060335 \n",
      "   15.                    \"total_rev_hi_lim\" 62169.994109 \n",
      "   16.                             \"grade_A\" 61022.859871 \n",
      "   17.                          \"annual_inc\" 56305.076900 \n",
      "   18.                         \"tot_cur_bal\" 53707.492696 \n",
      "   19.               \"initial_list_status_w\" 50118.583956 \n",
      "   20.                           \"revol_bal\" 43523.387445 \n",
      "   21.                                 \"dti\" 41751.663878 \n",
      "   22.                          \"revol_util\" 40660.325163 \n",
      "   23.                      \"inq_last_6mths\" 30655.074005 \n",
      "   24.                           \"total_acc\" 30221.790848 \n",
      "   25.                            \"open_acc\" 22339.596270 \n",
      "   26.                     \"term__36_months\" 19516.018504 \n",
      "   27.                     \"term__60_months\" 16789.672538 \n",
      "   28.                             \"grade_B\" 14709.657719 \n",
      "   29.        \"verification_status_Verified\" 12190.040708 \n",
      "   30.                             \"grade_D\" 10366.060976 \n",
      "   31.                        \"tot_coll_amt\" 9217.327225 \n",
      "   32.                             \"grade_F\" 8770.905082 \n",
      "   33.                             \"grade_E\" 8318.247774 \n",
      "   34.                             \"grade_C\" 6883.811921 \n",
      "   35.    \"verification_status_Not_Verified\" 6706.726352 \n",
      "   36.                        \"sub_grade_A1\" 6532.065480 \n",
      "   37.                 \"home_ownership_RENT\" 4991.448448 \n",
      "   38. \"verification_status_Source_Verified\" 4863.489860 \n",
      "   39.                         \"delinq_2yrs\" 4854.029858 \n",
      "   40.                             \"pub_rec\" 4170.954660 \n",
      "   41.          \"purpose_debt_consolidation\" 3918.305045 \n",
      "   42.             \"home_ownership_MORTGAGE\" 3774.798828 \n",
      "   43.                \"emp_length_10+_years\" 3424.307250 \n",
      "   44.                 \"purpose_credit_card\" 3219.960430 \n",
      "   45.                        \"sub_grade_C4\" 3086.949434 \n",
      "   46.                        \"sub_grade_A5\" 2912.485947 \n",
      "   47.                        \"sub_grade_C3\" 2603.688304 \n",
      "   48.                        \"sub_grade_B1\" 2060.800039 \n",
      "   49.                   \"emp_length_1_year\" 2043.599714 \n",
      "   50.                  \"emp_length_2_years\" 1983.927857 \n",
      "   51.                        \"sub_grade_C2\" 1950.868429 \n",
      "   52.                        \"sub_grade_C1\" 1858.966278 \n",
      "   53.                        \"sub_grade_C5\" 1800.076443 \n",
      "   54.                        \"sub_grade_B2\" 1745.318919 \n",
      "   55.                        \"sub_grade_B3\" 1730.777847 \n",
      "   56.                      \"emp_length_n/a\" 1712.643915 \n",
      "   57.                             \"grade_G\" 1693.655077 \n",
      "   58.                  \"emp_length_8_years\" 1683.016085 \n",
      "   59.                        \"sub_grade_B4\" 1622.110981 \n",
      "   60.                        \"sub_grade_A2\" 1610.460940 \n",
      "   61.                  \"home_ownership_OWN\" 1535.596072 \n",
      "   62.                        \"sub_grade_A4\" 1511.472893 \n",
      "   63.                 \"emp_length_<_1_year\" 1500.494240 \n",
      "   64.                  \"emp_length_6_years\" 1473.402509 \n",
      "   65.                  \"emp_length_3_years\" 1451.756282 \n",
      "   66.                  \"emp_length_4_years\" 1438.689346 \n",
      "   67.                       \"purpose_other\" 1436.210933 \n",
      "   68.                  \"emp_length_7_years\" 1414.084890 \n",
      "   69.                  \"emp_length_5_years\" 1338.746120 \n",
      "   70.                        \"sub_grade_D4\" 1291.500161 \n",
      "   71.                        \"sub_grade_F3\" 1287.339533 \n",
      "   72.                        \"sub_grade_B5\" 1217.035130 \n",
      "   73.                  \"emp_length_9_years\" 1193.350197 \n",
      "   74.            \"purpose_home_improvement\" 1158.024035 \n",
      "   75.                        \"sub_grade_D1\" 1138.375816 \n",
      "   76.                        \"sub_grade_E2\" 1072.128315 \n",
      "   77.                        \"sub_grade_D2\" 1025.268148 \n",
      "   78.                        \"sub_grade_A3\" 1003.944752 \n",
      "   79.                        \"sub_grade_D5\" 992.526572 \n",
      "   80.                        \"sub_grade_E1\" 778.852870 \n",
      "   81.                        \"sub_grade_E3\" 759.812523 \n",
      "   82.                        \"sub_grade_D3\" 647.521358 \n",
      "   83.                        \"sub_grade_E4\" 641.322737 \n",
      "   84.                        \"sub_grade_E5\" 634.491386 \n",
      "   85.                         \"purpose_car\" 633.550724 \n",
      "   86.                        \"sub_grade_F1\" 624.639224 \n",
      "   87.                     \"purpose_medical\" 566.035220 \n",
      "   88.              \"purpose_major_purchase\" 560.933761 \n",
      "   89.              \"purpose_small_business\" 553.860546 \n",
      "   90.                    \"purpose_vacation\" 376.832611 \n",
      "   91.                        \"sub_grade_F2\" 308.537927 \n",
      "   92.                        \"sub_grade_F5\" 266.360001 \n",
      "   93.                      \"purpose_moving\" 255.465311 \n",
      "   94.          \"collections_12_mths_ex_med\" 195.745081 \n",
      "   95.                        \"sub_grade_F4\" 193.811500 \n",
      "   96.                        \"sub_grade_G2\" 185.331675 \n",
      "   97.                        \"sub_grade_G1\" 150.214800 \n",
      "   98.                      \"acc_now_delinq\" 143.244660 \n",
      "   99.                        \"sub_grade_G5\" 121.901149 \n",
      "  100.                     \"purpose_wedding\" 109.933916 \n",
      "  101.                       \"purpose_house\" 106.795870 \n",
      "  102.                        \"sub_grade_G3\" 87.824807 \n",
      "  103.                 \"purpose_educational\" 19.195336 \n",
      "  104.                        \"sub_grade_G4\" 13.820786 \n",
      "  105.                \"home_ownership_OTHER\" 10.727810 \n",
      "\n",
      "\n",
      "\n",
      "Winner takes all: true\n",
      "Out-of-bag evaluation: accuracy:0.982187 logloss:0.107443\n",
      "Number of trees: 300\n",
      "Total number of nodes: 387752\n",
      "\n",
      "Number of nodes by tree:\n",
      "Count: 300 Average: 1292.51 StdDev: 222.517\n",
      "Min: 823 Max: 1985 Ignored: 0\n",
      "----------------------------------------------\n",
      "[  823,  881)  4   1.33%   1.33% #\n",
      "[  881,  939) 15   5.00%   6.33% #####\n",
      "[  939,  997)  6   2.00%   8.33% ##\n",
      "[  997, 1055) 15   5.00%  13.33% #####\n",
      "[ 1055, 1113) 20   6.67%  20.00% ######\n",
      "[ 1113, 1171) 32  10.67%  30.67% ##########\n",
      "[ 1171, 1230) 32  10.67%  41.33% ##########\n",
      "[ 1230, 1288) 29   9.67%  51.00% #########\n",
      "[ 1288, 1346) 32  10.67%  61.67% ##########\n",
      "[ 1346, 1404) 29   9.67%  71.33% #########\n",
      "[ 1404, 1462) 23   7.67%  79.00% #######\n",
      "[ 1462, 1520) 19   6.33%  85.33% ######\n",
      "[ 1520, 1578) 10   3.33%  88.67% ###\n",
      "[ 1578, 1637) 11   3.67%  92.33% ###\n",
      "[ 1637, 1695) 11   3.67%  96.00% ###\n",
      "[ 1695, 1753)  2   0.67%  96.67% #\n",
      "[ 1753, 1811)  3   1.00%  97.67% #\n",
      "[ 1811, 1869)  4   1.33%  99.00% #\n",
      "[ 1869, 1927)  1   0.33%  99.33%\n",
      "[ 1927, 1985]  2   0.67% 100.00% #\n",
      "\n",
      "Depth by leafs:\n",
      "Count: 194026 Average: 12.2601 StdDev: 2.46973\n",
      "Min: 1 Max: 15 Ignored: 0\n",
      "----------------------------------------------\n",
      "[  1,  2)    55   0.03%   0.03%\n",
      "[  2,  3)    98   0.05%   0.08%\n",
      "[  3,  4)   188   0.10%   0.18%\n",
      "[  4,  5)   425   0.22%   0.39%\n",
      "[  5,  6)  1032   0.53%   0.93%\n",
      "[  6,  7)  2333   1.20%   2.13%\n",
      "[  7,  8)  4456   2.30%   4.43% #\n",
      "[  8,  9)  7890   4.07%   8.49% ##\n",
      "[  9, 10) 12289   6.33%  14.83% ###\n",
      "[ 10, 11) 17090   8.81%  23.63% ####\n",
      "[ 11, 12) 21368  11.01%  34.65% ####\n",
      "[ 12, 13) 24813  12.79%  47.44% #####\n",
      "[ 13, 14) 26998  13.91%  61.35% ######\n",
      "[ 14, 15) 27345  14.09%  75.44% ######\n",
      "[ 15, 15] 47646  24.56% 100.00% ##########\n",
      "\n",
      "Number of training obs by leaf:\n",
      "Count: 194026 Average: 88.015 StdDev: 451.221\n",
      "Min: 5 Max: 17573 Ignored: 0\n",
      "----------------------------------------------\n",
      "[     5,   883) 191448  98.67%  98.67% ##########\n",
      "[   883,  1761)   1651   0.85%  99.52%\n",
      "[  1761,  2640)    377   0.19%  99.72%\n",
      "[  2640,  3518)    165   0.09%  99.80%\n",
      "[  3518,  4397)     78   0.04%  99.84%\n",
      "[  4397,  5275)     44   0.02%  99.86%\n",
      "[  5275,  6154)     31   0.02%  99.88%\n",
      "[  6154,  7032)     28   0.01%  99.89%\n",
      "[  7032,  7911)     25   0.01%  99.91%\n",
      "[  7911,  8789)     20   0.01%  99.92%\n",
      "[  8789,  9667)     18   0.01%  99.93%\n",
      "[  9667, 10546)     13   0.01%  99.93%\n",
      "[ 10546, 11424)     19   0.01%  99.94%\n",
      "[ 11424, 12303)      8   0.00%  99.95%\n",
      "[ 12303, 13181)     17   0.01%  99.96%\n",
      "[ 13181, 14060)     50   0.03%  99.98%\n",
      "[ 14060, 14938)     33   0.02% 100.00%\n",
      "[ 14938, 15817)      0   0.00% 100.00%\n",
      "[ 15817, 16695)      0   0.00% 100.00%\n",
      "[ 16695, 17573]      1   0.00% 100.00%\n",
      "\n",
      "Attribute in nodes:\n",
      "\t13946 : total_rec_prncp [NUMERICAL]\n",
      "\t13008 : out_prncp [NUMERICAL]\n",
      "\t11646 : last_pymnt_amnt [NUMERICAL]\n",
      "\t10179 : total_rec_int [NUMERICAL]\n",
      "\t10157 : total_pymnt [NUMERICAL]\n",
      "\t10037 : total_pymnt_inv [NUMERICAL]\n",
      "\t9907 : installment [NUMERICAL]\n",
      "\t9087 : int_rate [NUMERICAL]\n",
      "\t7912 : funded_amnt [NUMERICAL]\n",
      "\t7612 : loan_amnt [NUMERICAL]\n",
      "\t7584 : revol_bal [NUMERICAL]\n",
      "\t7512 : revol_util [NUMERICAL]\n",
      "\t7482 : dti [NUMERICAL]\n",
      "\t7445 : annual_inc [NUMERICAL]\n",
      "\t7431 : tot_cur_bal [NUMERICAL]\n",
      "\t7280 : total_rev_hi_lim [NUMERICAL]\n",
      "\t6212 : total_acc [NUMERICAL]\n",
      "\t4743 : open_acc [NUMERICAL]\n",
      "\t2174 : inq_last_6mths [NUMERICAL]\n",
      "\t2008 : total_rec_late_fee [NUMERICAL]\n",
      "\t1952 : recoveries [NUMERICAL]\n",
      "\t1422 : tot_coll_amt [NUMERICAL]\n",
      "\t1268 : collection_recovery_fee [NUMERICAL]\n",
      "\t1027 : delinq_2yrs [NUMERICAL]\n",
      "\t985 : verification_status_Verified [NUMERICAL]\n",
      "\t971 : verification_status_Not_Verified [NUMERICAL]\n",
      "\t935 : purpose_debt_consolidation [NUMERICAL]\n",
      "\t928 : verification_status_Source_Verified [NUMERICAL]\n",
      "\t887 : home_ownership_RENT [NUMERICAL]\n",
      "\t853 : initial_list_status_w [NUMERICAL]\n",
      "\t845 : emp_length_10+_years [NUMERICAL]\n",
      "\t803 : home_ownership_MORTGAGE [NUMERICAL]\n",
      "\t794 : initial_list_status_f [NUMERICAL]\n",
      "\t771 : term__36_months [NUMERICAL]\n",
      "\t769 : term__60_months [NUMERICAL]\n",
      "\t727 : pub_rec [NUMERICAL]\n",
      "\t705 : purpose_credit_card [NUMERICAL]\n",
      "\t679 : grade_B [NUMERICAL]\n",
      "\t666 : grade_C [NUMERICAL]\n",
      "\t598 : grade_D [NUMERICAL]\n",
      "\t583 : grade_A [NUMERICAL]\n",
      "\t475 : grade_E [NUMERICAL]\n",
      "\t447 : emp_length_2_years [NUMERICAL]\n",
      "\t381 : emp_length_1_year [NUMERICAL]\n",
      "\t345 : home_ownership_OWN [NUMERICAL]\n",
      "\t339 : emp_length_8_years [NUMERICAL]\n",
      "\t337 : emp_length_<_1_year [NUMERICAL]\n",
      "\t332 : sub_grade_C4 [NUMERICAL]\n",
      "\t321 : emp_length_3_years [NUMERICAL]\n",
      "\t319 : emp_length_4_years [NUMERICAL]\n",
      "\t316 : emp_length_n/a [NUMERICAL]\n",
      "\t311 : grade_F [NUMERICAL]\n",
      "\t302 : sub_grade_C2 [NUMERICAL]\n",
      "\t301 : sub_grade_C3 [NUMERICAL]\n",
      "\t296 : purpose_other [NUMERICAL]\n",
      "\t288 : sub_grade_B4 [NUMERICAL]\n",
      "\t285 : emp_length_5_years [NUMERICAL]\n",
      "\t283 : sub_grade_C1 [NUMERICAL]\n",
      "\t283 : emp_length_6_years [NUMERICAL]\n",
      "\t280 : emp_length_7_years [NUMERICAL]\n",
      "\t258 : sub_grade_B3 [NUMERICAL]\n",
      "\t248 : emp_length_9_years [NUMERICAL]\n",
      "\t239 : sub_grade_C5 [NUMERICAL]\n",
      "\t232 : purpose_home_improvement [NUMERICAL]\n",
      "\t222 : sub_grade_A5 [NUMERICAL]\n",
      "\t217 : sub_grade_D4 [NUMERICAL]\n",
      "\t215 : sub_grade_B5 [NUMERICAL]\n",
      "\t215 : sub_grade_B2 [NUMERICAL]\n",
      "\t204 : sub_grade_D1 [NUMERICAL]\n",
      "\t199 : sub_grade_D2 [NUMERICAL]\n",
      "\t187 : sub_grade_B1 [NUMERICAL]\n",
      "\t176 : sub_grade_E2 [NUMERICAL]\n",
      "\t164 : sub_grade_D5 [NUMERICAL]\n",
      "\t155 : sub_grade_F3 [NUMERICAL]\n",
      "\t150 : sub_grade_A4 [NUMERICAL]\n",
      "\t138 : sub_grade_A1 [NUMERICAL]\n",
      "\t130 : sub_grade_E3 [NUMERICAL]\n",
      "\t130 : sub_grade_E1 [NUMERICAL]\n",
      "\t128 : grade_G [NUMERICAL]\n",
      "\t122 : sub_grade_D3 [NUMERICAL]\n",
      "\t108 : sub_grade_E4 [NUMERICAL]\n",
      "\t108 : sub_grade_A3 [NUMERICAL]\n",
      "\t103 : sub_grade_F1 [NUMERICAL]\n",
      "\t97 : sub_grade_A2 [NUMERICAL]\n",
      "\t97 : purpose_medical [NUMERICAL]\n",
      "\t95 : purpose_major_purchase [NUMERICAL]\n",
      "\t80 : purpose_car [NUMERICAL]\n",
      "\t76 : purpose_small_business [NUMERICAL]\n",
      "\t69 : sub_grade_E5 [NUMERICAL]\n",
      "\t60 : purpose_vacation [NUMERICAL]\n",
      "\t53 : sub_grade_F2 [NUMERICAL]\n",
      "\t39 : purpose_moving [NUMERICAL]\n",
      "\t36 : collections_12_mths_ex_med [NUMERICAL]\n",
      "\t35 : sub_grade_F5 [NUMERICAL]\n",
      "\t29 : sub_grade_F4 [NUMERICAL]\n",
      "\t27 : sub_grade_G2 [NUMERICAL]\n",
      "\t24 : sub_grade_G1 [NUMERICAL]\n",
      "\t22 : acc_now_delinq [NUMERICAL]\n",
      "\t17 : purpose_wedding [NUMERICAL]\n",
      "\t16 : sub_grade_G3 [NUMERICAL]\n",
      "\t15 : purpose_house [NUMERICAL]\n",
      "\t14 : sub_grade_G5 [NUMERICAL]\n",
      "\t3 : sub_grade_G4 [NUMERICAL]\n",
      "\t2 : home_ownership_OTHER [NUMERICAL]\n",
      "\t1 : purpose_educational [NUMERICAL]\n",
      "\n",
      "Attribute in nodes with depth <= 0:\n",
      "\t30 : out_prncp [NUMERICAL]\n",
      "\t29 : recoveries [NUMERICAL]\n",
      "\t26 : collection_recovery_fee [NUMERICAL]\n",
      "\t25 : last_pymnt_amnt [NUMERICAL]\n",
      "\t20 : initial_list_status_f [NUMERICAL]\n",
      "\t17 : int_rate [NUMERICAL]\n",
      "\t15 : total_rec_prncp [NUMERICAL]\n",
      "\t15 : total_pymnt_inv [NUMERICAL]\n",
      "\t14 : inq_last_6mths [NUMERICAL]\n",
      "\t12 : total_rev_hi_lim [NUMERICAL]\n",
      "\t12 : grade_A [NUMERICAL]\n",
      "\t11 : total_rec_int [NUMERICAL]\n",
      "\t11 : initial_list_status_w [NUMERICAL]\n",
      "\t10 : total_rec_late_fee [NUMERICAL]\n",
      "\t9 : total_pymnt [NUMERICAL]\n",
      "\t5 : tot_cur_bal [NUMERICAL]\n",
      "\t5 : grade_F [NUMERICAL]\n",
      "\t5 : grade_E [NUMERICAL]\n",
      "\t4 : grade_D [NUMERICAL]\n",
      "\t4 : grade_B [NUMERICAL]\n",
      "\t4 : annual_inc [NUMERICAL]\n",
      "\t3 : verification_status_Verified [NUMERICAL]\n",
      "\t3 : sub_grade_A4 [NUMERICAL]\n",
      "\t3 : sub_grade_A1 [NUMERICAL]\n",
      "\t2 : sub_grade_A2 [NUMERICAL]\n",
      "\t2 : home_ownership_RENT [NUMERICAL]\n",
      "\t1 : term__60_months [NUMERICAL]\n",
      "\t1 : sub_grade_B1 [NUMERICAL]\n",
      "\t1 : sub_grade_A3 [NUMERICAL]\n",
      "\t1 : revol_util [NUMERICAL]\n",
      "\n",
      "Attribute in nodes with depth <= 1:\n",
      "\t92 : out_prncp [NUMERICAL]\n",
      "\t79 : recoveries [NUMERICAL]\n",
      "\t71 : last_pymnt_amnt [NUMERICAL]\n",
      "\t68 : collection_recovery_fee [NUMERICAL]\n",
      "\t64 : int_rate [NUMERICAL]\n",
      "\t40 : total_rec_prncp [NUMERICAL]\n",
      "\t40 : total_rec_late_fee [NUMERICAL]\n",
      "\t39 : initial_list_status_f [NUMERICAL]\n",
      "\t35 : total_pymnt_inv [NUMERICAL]\n",
      "\t31 : grade_A [NUMERICAL]\n",
      "\t30 : total_pymnt [NUMERICAL]\n",
      "\t27 : initial_list_status_w [NUMERICAL]\n",
      "\t24 : total_rec_int [NUMERICAL]\n",
      "\t23 : total_rev_hi_lim [NUMERICAL]\n",
      "\t18 : inq_last_6mths [NUMERICAL]\n",
      "\t18 : annual_inc [NUMERICAL]\n",
      "\t16 : grade_F [NUMERICAL]\n",
      "\t15 : tot_cur_bal [NUMERICAL]\n",
      "\t10 : verification_status_Verified [NUMERICAL]\n",
      "\t10 : grade_D [NUMERICAL]\n",
      "\t9 : sub_grade_A1 [NUMERICAL]\n",
      "\t8 : grade_E [NUMERICAL]\n",
      "\t8 : grade_B [NUMERICAL]\n",
      "\t7 : loan_amnt [NUMERICAL]\n",
      "\t6 : term__36_months [NUMERICAL]\n",
      "\t5 : revol_util [NUMERICAL]\n",
      "\t4 : term__60_months [NUMERICAL]\n",
      "\t4 : sub_grade_A5 [NUMERICAL]\n",
      "\t4 : sub_grade_A2 [NUMERICAL]\n",
      "\t4 : funded_amnt [NUMERICAL]\n",
      "\t3 : sub_grade_F3 [NUMERICAL]\n",
      "\t3 : sub_grade_A4 [NUMERICAL]\n",
      "\t3 : revol_bal [NUMERICAL]\n",
      "\t3 : pub_rec [NUMERICAL]\n",
      "\t3 : installment [NUMERICAL]\n",
      "\t3 : dti [NUMERICAL]\n",
      "\t2 : verification_status_Source_Verified [NUMERICAL]\n",
      "\t2 : sub_grade_B1 [NUMERICAL]\n",
      "\t2 : sub_grade_A3 [NUMERICAL]\n",
      "\t2 : home_ownership_RENT [NUMERICAL]\n",
      "\t2 : acc_now_delinq [NUMERICAL]\n",
      "\t1 : verification_status_Not_Verified [NUMERICAL]\n",
      "\t1 : tot_coll_amt [NUMERICAL]\n",
      "\t1 : sub_grade_D5 [NUMERICAL]\n",
      "\t1 : sub_grade_D4 [NUMERICAL]\n",
      "\t1 : sub_grade_B2 [NUMERICAL]\n",
      "\t1 : purpose_small_business [NUMERICAL]\n",
      "\t1 : purpose_credit_card [NUMERICAL]\n",
      "\t1 : home_ownership_MORTGAGE [NUMERICAL]\n",
      "\n",
      "Attribute in nodes with depth <= 2:\n",
      "\t182 : out_prncp [NUMERICAL]\n",
      "\t167 : recoveries [NUMERICAL]\n",
      "\t152 : last_pymnt_amnt [NUMERICAL]\n",
      "\t130 : collection_recovery_fee [NUMERICAL]\n",
      "\t123 : int_rate [NUMERICAL]\n",
      "\t99 : total_rec_late_fee [NUMERICAL]\n",
      "\t94 : total_rec_prncp [NUMERICAL]\n",
      "\t88 : total_pymnt_inv [NUMERICAL]\n",
      "\t71 : grade_A [NUMERICAL]\n",
      "\t62 : total_pymnt [NUMERICAL]\n",
      "\t60 : total_rec_int [NUMERICAL]\n",
      "\t55 : initial_list_status_f [NUMERICAL]\n",
      "\t50 : initial_list_status_w [NUMERICAL]\n",
      "\t43 : total_rev_hi_lim [NUMERICAL]\n",
      "\t40 : inq_last_6mths [NUMERICAL]\n",
      "\t40 : annual_inc [NUMERICAL]\n",
      "\t29 : tot_cur_bal [NUMERICAL]\n",
      "\t25 : grade_F [NUMERICAL]\n",
      "\t25 : funded_amnt [NUMERICAL]\n",
      "\t22 : sub_grade_A1 [NUMERICAL]\n",
      "\t21 : grade_B [NUMERICAL]\n",
      "\t20 : loan_amnt [NUMERICAL]\n",
      "\t20 : installment [NUMERICAL]\n",
      "\t20 : grade_E [NUMERICAL]\n",
      "\t19 : grade_D [NUMERICAL]\n",
      "\t18 : verification_status_Verified [NUMERICAL]\n",
      "\t17 : term__36_months [NUMERICAL]\n",
      "\t15 : dti [NUMERICAL]\n",
      "\t14 : revol_util [NUMERICAL]\n",
      "\t12 : term__60_months [NUMERICAL]\n",
      "\t11 : revol_bal [NUMERICAL]\n",
      "\t7 : sub_grade_F3 [NUMERICAL]\n",
      "\t7 : sub_grade_A4 [NUMERICAL]\n",
      "\t6 : sub_grade_A2 [NUMERICAL]\n",
      "\t5 : sub_grade_A5 [NUMERICAL]\n",
      "\t5 : home_ownership_RENT [NUMERICAL]\n",
      "\t5 : home_ownership_MORTGAGE [NUMERICAL]\n",
      "\t4 : sub_grade_C5 [NUMERICAL]\n",
      "\t4 : sub_grade_B1 [NUMERICAL]\n",
      "\t4 : open_acc [NUMERICAL]\n",
      "\t4 : grade_G [NUMERICAL]\n",
      "\t3 : verification_status_Source_Verified [NUMERICAL]\n",
      "\t3 : total_acc [NUMERICAL]\n",
      "\t3 : sub_grade_A3 [NUMERICAL]\n",
      "\t3 : pub_rec [NUMERICAL]\n",
      "\t2 : verification_status_Not_Verified [NUMERICAL]\n",
      "\t2 : tot_coll_amt [NUMERICAL]\n",
      "\t2 : sub_grade_D5 [NUMERICAL]\n",
      "\t2 : sub_grade_D4 [NUMERICAL]\n",
      "\t2 : sub_grade_B2 [NUMERICAL]\n",
      "\t2 : purpose_small_business [NUMERICAL]\n",
      "\t2 : purpose_credit_card [NUMERICAL]\n",
      "\t2 : emp_length_9_years [NUMERICAL]\n",
      "\t2 : acc_now_delinq [NUMERICAL]\n",
      "\t1 : sub_grade_G5 [NUMERICAL]\n",
      "\t1 : sub_grade_F4 [NUMERICAL]\n",
      "\t1 : sub_grade_E5 [NUMERICAL]\n",
      "\t1 : sub_grade_C4 [NUMERICAL]\n",
      "\t1 : purpose_vacation [NUMERICAL]\n",
      "\t1 : purpose_major_purchase [NUMERICAL]\n",
      "\t1 : grade_C [NUMERICAL]\n",
      "\t1 : emp_length_6_years [NUMERICAL]\n",
      "\t1 : emp_length_3_years [NUMERICAL]\n",
      "\t1 : emp_length_1_year [NUMERICAL]\n",
      "\t1 : emp_length_10+_years [NUMERICAL]\n",
      "\t1 : delinq_2yrs [NUMERICAL]\n",
      "\n",
      "Attribute in nodes with depth <= 3:\n",
      "\t308 : recoveries [NUMERICAL]\n",
      "\t298 : out_prncp [NUMERICAL]\n",
      "\t288 : last_pymnt_amnt [NUMERICAL]\n",
      "\t261 : int_rate [NUMERICAL]\n",
      "\t216 : collection_recovery_fee [NUMERICAL]\n",
      "\t203 : total_rec_prncp [NUMERICAL]\n",
      "\t188 : total_rec_late_fee [NUMERICAL]\n",
      "\t174 : total_pymnt_inv [NUMERICAL]\n",
      "\t142 : total_rec_int [NUMERICAL]\n",
      "\t135 : total_pymnt [NUMERICAL]\n",
      "\t122 : grade_A [NUMERICAL]\n",
      "\t95 : total_rev_hi_lim [NUMERICAL]\n",
      "\t83 : initial_list_status_f [NUMERICAL]\n",
      "\t82 : annual_inc [NUMERICAL]\n",
      "\t73 : initial_list_status_w [NUMERICAL]\n",
      "\t69 : tot_cur_bal [NUMERICAL]\n",
      "\t67 : funded_amnt [NUMERICAL]\n",
      "\t65 : installment [NUMERICAL]\n",
      "\t62 : inq_last_6mths [NUMERICAL]\n",
      "\t51 : loan_amnt [NUMERICAL]\n",
      "\t46 : revol_util [NUMERICAL]\n",
      "\t46 : grade_B [NUMERICAL]\n",
      "\t44 : revol_bal [NUMERICAL]\n",
      "\t42 : dti [NUMERICAL]\n",
      "\t38 : grade_F [NUMERICAL]\n",
      "\t37 : grade_E [NUMERICAL]\n",
      "\t34 : sub_grade_A1 [NUMERICAL]\n",
      "\t33 : grade_D [NUMERICAL]\n",
      "\t30 : term__36_months [NUMERICAL]\n",
      "\t27 : verification_status_Verified [NUMERICAL]\n",
      "\t27 : term__60_months [NUMERICAL]\n",
      "\t18 : total_acc [NUMERICAL]\n",
      "\t16 : open_acc [NUMERICAL]\n",
      "\t13 : home_ownership_RENT [NUMERICAL]\n",
      "\t12 : sub_grade_B1 [NUMERICAL]\n",
      "\t12 : sub_grade_A4 [NUMERICAL]\n",
      "\t11 : sub_grade_A5 [NUMERICAL]\n",
      "\t11 : pub_rec [NUMERICAL]\n",
      "\t10 : verification_status_Not_Verified [NUMERICAL]\n",
      "\t10 : tot_coll_amt [NUMERICAL]\n",
      "\t9 : sub_grade_F3 [NUMERICAL]\n",
      "\t9 : sub_grade_A2 [NUMERICAL]\n",
      "\t9 : grade_C [NUMERICAL]\n",
      "\t8 : home_ownership_MORTGAGE [NUMERICAL]\n",
      "\t8 : grade_G [NUMERICAL]\n",
      "\t7 : verification_status_Source_Verified [NUMERICAL]\n",
      "\t5 : sub_grade_A3 [NUMERICAL]\n",
      "\t5 : purpose_credit_card [NUMERICAL]\n",
      "\t5 : delinq_2yrs [NUMERICAL]\n",
      "\t4 : sub_grade_E3 [NUMERICAL]\n",
      "\t4 : sub_grade_D5 [NUMERICAL]\n",
      "\t4 : sub_grade_D4 [NUMERICAL]\n",
      "\t4 : sub_grade_C5 [NUMERICAL]\n",
      "\t4 : emp_length_10+_years [NUMERICAL]\n",
      "\t4 : acc_now_delinq [NUMERICAL]\n",
      "\t3 : sub_grade_C4 [NUMERICAL]\n",
      "\t3 : sub_grade_B2 [NUMERICAL]\n",
      "\t3 : purpose_small_business [NUMERICAL]\n",
      "\t3 : emp_length_6_years [NUMERICAL]\n",
      "\t3 : emp_length_1_year [NUMERICAL]\n",
      "\t2 : sub_grade_F4 [NUMERICAL]\n",
      "\t2 : sub_grade_E2 [NUMERICAL]\n",
      "\t2 : sub_grade_B3 [NUMERICAL]\n",
      "\t2 : purpose_vacation [NUMERICAL]\n",
      "\t2 : emp_length_9_years [NUMERICAL]\n",
      "\t2 : emp_length_5_years [NUMERICAL]\n",
      "\t2 : emp_length_4_years [NUMERICAL]\n",
      "\t1 : sub_grade_G5 [NUMERICAL]\n",
      "\t1 : sub_grade_G2 [NUMERICAL]\n",
      "\t1 : sub_grade_F2 [NUMERICAL]\n",
      "\t1 : sub_grade_E5 [NUMERICAL]\n",
      "\t1 : sub_grade_E4 [NUMERICAL]\n",
      "\t1 : sub_grade_E1 [NUMERICAL]\n",
      "\t1 : sub_grade_D1 [NUMERICAL]\n",
      "\t1 : sub_grade_C3 [NUMERICAL]\n",
      "\t1 : sub_grade_C1 [NUMERICAL]\n",
      "\t1 : sub_grade_B4 [NUMERICAL]\n",
      "\t1 : purpose_medical [NUMERICAL]\n",
      "\t1 : purpose_major_purchase [NUMERICAL]\n",
      "\t1 : purpose_home_improvement [NUMERICAL]\n",
      "\t1 : purpose_debt_consolidation [NUMERICAL]\n",
      "\t1 : home_ownership_OWN [NUMERICAL]\n",
      "\t1 : emp_length_3_years [NUMERICAL]\n",
      "\n",
      "Attribute in nodes with depth <= 5:\n",
      "\t918 : last_pymnt_amnt [NUMERICAL]\n",
      "\t842 : total_rec_prncp [NUMERICAL]\n",
      "\t820 : int_rate [NUMERICAL]\n",
      "\t805 : out_prncp [NUMERICAL]\n",
      "\t622 : total_pymnt_inv [NUMERICAL]\n",
      "\t614 : recoveries [NUMERICAL]\n",
      "\t586 : total_rec_int [NUMERICAL]\n",
      "\t557 : total_pymnt [NUMERICAL]\n",
      "\t514 : total_rec_late_fee [NUMERICAL]\n",
      "\t496 : collection_recovery_fee [NUMERICAL]\n",
      "\t382 : installment [NUMERICAL]\n",
      "\t357 : funded_amnt [NUMERICAL]\n",
      "\t343 : total_rev_hi_lim [NUMERICAL]\n",
      "\t335 : loan_amnt [NUMERICAL]\n",
      "\t321 : annual_inc [NUMERICAL]\n",
      "\t283 : tot_cur_bal [NUMERICAL]\n",
      "\t251 : revol_util [NUMERICAL]\n",
      "\t246 : dti [NUMERICAL]\n",
      "\t236 : revol_bal [NUMERICAL]\n",
      "\t225 : grade_A [NUMERICAL]\n",
      "\t187 : total_acc [NUMERICAL]\n",
      "\t172 : inq_last_6mths [NUMERICAL]\n",
      "\t163 : initial_list_status_f [NUMERICAL]\n",
      "\t158 : initial_list_status_w [NUMERICAL]\n",
      "\t120 : open_acc [NUMERICAL]\n",
      "\t105 : grade_B [NUMERICAL]\n",
      "\t96 : term__36_months [NUMERICAL]\n",
      "\t83 : grade_E [NUMERICAL]\n",
      "\t80 : verification_status_Verified [NUMERICAL]\n",
      "\t75 : grade_D [NUMERICAL]\n",
      "\t73 : grade_F [NUMERICAL]\n",
      "\t70 : term__60_months [NUMERICAL]\n",
      "\t64 : sub_grade_A1 [NUMERICAL]\n",
      "\t61 : tot_coll_amt [NUMERICAL]\n",
      "\t57 : home_ownership_RENT [NUMERICAL]\n",
      "\t45 : verification_status_Not_Verified [NUMERICAL]\n",
      "\t35 : verification_status_Source_Verified [NUMERICAL]\n",
      "\t32 : pub_rec [NUMERICAL]\n",
      "\t31 : grade_C [NUMERICAL]\n",
      "\t30 : delinq_2yrs [NUMERICAL]\n",
      "\t29 : sub_grade_F3 [NUMERICAL]\n",
      "\t28 : home_ownership_MORTGAGE [NUMERICAL]\n",
      "\t26 : purpose_debt_consolidation [NUMERICAL]\n",
      "\t23 : sub_grade_A5 [NUMERICAL]\n",
      "\t23 : grade_G [NUMERICAL]\n",
      "\t23 : emp_length_10+_years [NUMERICAL]\n",
      "\t22 : sub_grade_B1 [NUMERICAL]\n",
      "\t22 : sub_grade_A2 [NUMERICAL]\n",
      "\t18 : emp_length_n/a [NUMERICAL]\n",
      "\t18 : emp_length_2_years [NUMERICAL]\n",
      "\t16 : sub_grade_A4 [NUMERICAL]\n",
      "\t15 : emp_length_1_year [NUMERICAL]\n",
      "\t14 : sub_grade_D4 [NUMERICAL]\n",
      "\t14 : sub_grade_C5 [NUMERICAL]\n",
      "\t13 : sub_grade_C4 [NUMERICAL]\n",
      "\t13 : sub_grade_B4 [NUMERICAL]\n",
      "\t13 : sub_grade_B2 [NUMERICAL]\n",
      "\t12 : sub_grade_D5 [NUMERICAL]\n",
      "\t12 : sub_grade_B3 [NUMERICAL]\n",
      "\t12 : home_ownership_OWN [NUMERICAL]\n",
      "\t12 : emp_length_9_years [NUMERICAL]\n",
      "\t12 : emp_length_8_years [NUMERICAL]\n",
      "\t11 : sub_grade_E3 [NUMERICAL]\n",
      "\t11 : sub_grade_C3 [NUMERICAL]\n",
      "\t11 : sub_grade_A3 [NUMERICAL]\n",
      "\t11 : emp_length_4_years [NUMERICAL]\n",
      "\t10 : emp_length_6_years [NUMERICAL]\n",
      "\t9 : sub_grade_E4 [NUMERICAL]\n",
      "\t9 : sub_grade_E2 [NUMERICAL]\n",
      "\t9 : sub_grade_D1 [NUMERICAL]\n",
      "\t9 : sub_grade_B5 [NUMERICAL]\n",
      "\t9 : purpose_other [NUMERICAL]\n",
      "\t8 : sub_grade_C1 [NUMERICAL]\n",
      "\t8 : purpose_credit_card [NUMERICAL]\n",
      "\t7 : sub_grade_C2 [NUMERICAL]\n",
      "\t7 : emp_length_7_years [NUMERICAL]\n",
      "\t6 : purpose_medical [NUMERICAL]\n",
      "\t6 : emp_length_3_years [NUMERICAL]\n",
      "\t5 : sub_grade_F1 [NUMERICAL]\n",
      "\t5 : purpose_small_business [NUMERICAL]\n",
      "\t5 : purpose_major_purchase [NUMERICAL]\n",
      "\t5 : purpose_home_improvement [NUMERICAL]\n",
      "\t5 : purpose_car [NUMERICAL]\n",
      "\t5 : emp_length_<_1_year [NUMERICAL]\n",
      "\t4 : sub_grade_F4 [NUMERICAL]\n",
      "\t4 : sub_grade_F2 [NUMERICAL]\n",
      "\t4 : sub_grade_D2 [NUMERICAL]\n",
      "\t4 : purpose_moving [NUMERICAL]\n",
      "\t4 : emp_length_5_years [NUMERICAL]\n",
      "\t4 : acc_now_delinq [NUMERICAL]\n",
      "\t3 : sub_grade_G5 [NUMERICAL]\n",
      "\t3 : sub_grade_F5 [NUMERICAL]\n",
      "\t3 : sub_grade_E5 [NUMERICAL]\n",
      "\t3 : sub_grade_E1 [NUMERICAL]\n",
      "\t3 : sub_grade_D3 [NUMERICAL]\n",
      "\t3 : purpose_vacation [NUMERICAL]\n",
      "\t2 : sub_grade_G3 [NUMERICAL]\n",
      "\t2 : purpose_wedding [NUMERICAL]\n",
      "\t2 : purpose_house [NUMERICAL]\n",
      "\t1 : sub_grade_G2 [NUMERICAL]\n",
      "\t1 : sub_grade_G1 [NUMERICAL]\n",
      "\t1 : collections_12_mths_ex_med [NUMERICAL]\n",
      "\n",
      "Condition type in nodes:\n",
      "\t193726 : HigherCondition\n",
      "Condition type in nodes with depth <= 0:\n",
      "\t300 : HigherCondition\n",
      "Condition type in nodes with depth <= 1:\n",
      "\t845 : HigherCondition\n",
      "Condition type in nodes with depth <= 2:\n",
      "\t1837 : HigherCondition\n",
      "Condition type in nodes with depth <= 3:\n",
      "\t3633 : HigherCondition\n",
      "Condition type in nodes with depth <= 5:\n",
      "\t12102 : HigherCondition\n",
      "Node format: NOT_SET\n",
      "\n",
      "Training OOB:\n",
      "\ttrees: 1, Out-of-bag evaluation: accuracy:0.944055 logloss:2.01646\n",
      "\ttrees: 11, Out-of-bag evaluation: accuracy:0.972825 logloss:0.548783\n",
      "\ttrees: 21, Out-of-bag evaluation: accuracy:0.979376 logloss:0.418043\n",
      "\ttrees: 31, Out-of-bag evaluation: accuracy:0.98108 logloss:0.350262\n",
      "\ttrees: 41, Out-of-bag evaluation: accuracy:0.981062 logloss:0.316299\n",
      "\ttrees: 51, Out-of-bag evaluation: accuracy:0.981168 logloss:0.281062\n",
      "\ttrees: 61, Out-of-bag evaluation: accuracy:0.981045 logloss:0.248958\n",
      "\ttrees: 71, Out-of-bag evaluation: accuracy:0.981502 logloss:0.227667\n",
      "\ttrees: 81, Out-of-bag evaluation: accuracy:0.981344 logloss:0.211717\n",
      "\ttrees: 91, Out-of-bag evaluation: accuracy:0.981326 logloss:0.203101\n",
      "\ttrees: 101, Out-of-bag evaluation: accuracy:0.981449 logloss:0.189663\n",
      "\ttrees: 111, Out-of-bag evaluation: accuracy:0.981572 logloss:0.17996\n",
      "\ttrees: 121, Out-of-bag evaluation: accuracy:0.981589 logloss:0.167453\n",
      "\ttrees: 131, Out-of-bag evaluation: accuracy:0.981642 logloss:0.160874\n",
      "\ttrees: 141, Out-of-bag evaluation: accuracy:0.981783 logloss:0.157065\n",
      "\ttrees: 151, Out-of-bag evaluation: accuracy:0.981835 logloss:0.154326\n",
      "\ttrees: 161, Out-of-bag evaluation: accuracy:0.981906 logloss:0.150009\n",
      "\ttrees: 171, Out-of-bag evaluation: accuracy:0.981835 logloss:0.140609\n",
      "\ttrees: 181, Out-of-bag evaluation: accuracy:0.981906 logloss:0.135377\n",
      "\ttrees: 191, Out-of-bag evaluation: accuracy:0.982029 logloss:0.13178\n",
      "\ttrees: 201, Out-of-bag evaluation: accuracy:0.981994 logloss:0.125452\n",
      "\ttrees: 211, Out-of-bag evaluation: accuracy:0.982029 logloss:0.122545\n",
      "\ttrees: 221, Out-of-bag evaluation: accuracy:0.982081 logloss:0.12025\n",
      "\ttrees: 231, Out-of-bag evaluation: accuracy:0.982152 logloss:0.119063\n",
      "\ttrees: 241, Out-of-bag evaluation: accuracy:0.982187 logloss:0.117615\n",
      "\ttrees: 251, Out-of-bag evaluation: accuracy:0.982187 logloss:0.116377\n",
      "\ttrees: 261, Out-of-bag evaluation: accuracy:0.982134 logloss:0.113602\n",
      "\ttrees: 271, Out-of-bag evaluation: accuracy:0.982152 logloss:0.111579\n",
      "\ttrees: 281, Out-of-bag evaluation: accuracy:0.982169 logloss:0.109459\n",
      "\ttrees: 291, Out-of-bag evaluation: accuracy:0.982204 logloss:0.107775\n",
      "\ttrees: 300, Out-of-bag evaluation: accuracy:0.982187 logloss:0.107443\n",
      "\n"
     ]
    }
   ],
   "source": [
    "model.summary()"
   ]
  },
  {
   "cell_type": "code",
   "execution_count": 151,
   "metadata": {},
   "outputs": [
    {
     "name": "stdout",
     "output_type": "stream",
     "text": [
      "25/25 [==============================] - 47s 2s/step - loss: 0.0000e+00 - accuracy: 0.9825 - precision_4: 0.9989 - recall_4: 0.9662\n"
     ]
    },
    {
     "data": {
      "text/plain": [
       "[0.0, 0.982538104057312, 0.9989003539085388, 0.9662084579467773]"
      ]
     },
     "execution_count": 151,
     "metadata": {},
     "output_type": "execute_result"
    }
   ],
   "source": [
    "model.evaluate(X_test)"
   ]
  },
  {
   "cell_type": "code",
   "execution_count": 160,
   "metadata": {},
   "outputs": [
    {
     "name": "stdout",
     "output_type": "stream",
     "text": [
      "25/25 [==============================] - 1s 30ms/step\n"
     ]
    }
   ],
   "source": [
    "y_pred = np.round(model.predict(X_test))"
   ]
  },
  {
   "cell_type": "code",
   "execution_count": 161,
   "metadata": {},
   "outputs": [
    {
     "data": {
      "text/plain": [
       "array([[0.],\n",
       "       [0.],\n",
       "       [0.],\n",
       "       ...,\n",
       "       [1.],\n",
       "       [1.],\n",
       "       [0.]], dtype=float32)"
      ]
     },
     "execution_count": 161,
     "metadata": {},
     "output_type": "execute_result"
    }
   ],
   "source": [
    "y_pred"
   ]
  },
  {
   "cell_type": "code",
   "execution_count": 162,
   "metadata": {},
   "outputs": [],
   "source": [
    "cm = confusion_matrix(test['default_ind'], y_pred)"
   ]
  },
  {
   "cell_type": "code",
   "execution_count": 163,
   "metadata": {},
   "outputs": [
    {
     "data": {
      "image/png": "[encoded data removed]",
      "text/plain": [
       "<Figure size 432x288 with 2 Axes>"
      ]
     },
     "metadata": {
      "needs_background": "light"
     },
     "output_type": "display_data"
    }
   ],
   "source": [
    "graph_confusion_matrix(cm)"
   ]
  },
  {
   "cell_type": "code",
   "execution_count": 164,
   "metadata": {},
   "outputs": [
    {
     "data": {
      "image/png": "[encoded data removed]",
      "text/plain": [
       "<Figure size 432x288 with 1 Axes>"
      ]
     },
     "metadata": {
      "needs_background": "light"
     },
     "output_type": "display_data"
    }
   ],
   "source": [
    "graph_roc_curve(test['default_ind'], y_pred)"
   ]
  },
  {
   "attachments": {},
   "cell_type": "markdown",
   "metadata": {},
   "source": [
    "### Feed Forward network"
   ]
  },
  {
   "cell_type": "code",
   "execution_count": 177,
   "metadata": {},
   "outputs": [],
   "source": [
    "y_train = train['default_ind']\n",
    "X_train = train.drop('default_ind', axis=1)\n",
    "y_test = test['default_ind']\n",
    "X_test = test.drop('default_ind', axis=1)"
   ]
  },
  {
   "cell_type": "code",
   "execution_count": 178,
   "metadata": {},
   "outputs": [
    {
     "data": {
      "text/plain": [
       "(56924, 108)"
      ]
     },
     "execution_count": 178,
     "metadata": {},
     "output_type": "execute_result"
    }
   ],
   "source": [
    "X_train.shape"
   ]
  },
  {
   "cell_type": "code",
   "execution_count": 179,
   "metadata": {},
   "outputs": [],
   "source": [
    "from keras.models import Sequential\n",
    "from keras.layers import Dense, Input\n",
    "\n",
    "model = Sequential()\n",
    "model.add(Input(shape=(108,)))\n",
    "model.add(Dense(8, activation=\"relu\"))\n",
    "model.add(Dense(8, activation=\"relu\"))\n",
    "model.add(Dense(8, activation=\"relu\"))\n",
    "model.add(Dense(8, activation=\"relu\"))\n",
    "model.add(Dense(2, activation=\"softmax\"))"
   ]
  },
  {
   "cell_type": "code",
   "execution_count": 180,
   "metadata": {},
   "outputs": [],
   "source": [
    "model.compile(loss=\"sparse_categorical_crossentropy\", optimizer='adam', metrics=['accuracy'])"
   ]
  },
  {
   "cell_type": "code",
   "execution_count": 181,
   "metadata": {},
   "outputs": [
    {
     "name": "stdout",
     "output_type": "stream",
     "text": [
      "Epoch 1/50\n",
      "911/911 [==============================] - 2s 1ms/step - loss: 149.0731 - accuracy: 0.6231 - val_loss: 0.8987 - val_accuracy: 0.6538\n",
      "Epoch 2/50\n",
      "911/911 [==============================] - 1s 600us/step - loss: 0.8782 - accuracy: 0.6324 - val_loss: 0.7214 - val_accuracy: 0.6962\n",
      "Epoch 3/50\n",
      "911/911 [==============================] - 1s 611us/step - loss: 0.6977 - accuracy: 0.6745 - val_loss: 0.6262 - val_accuracy: 0.6631\n",
      "Epoch 4/50\n",
      "911/911 [==============================] - 1s 611us/step - loss: 0.6108 - accuracy: 0.7273 - val_loss: 0.4678 - val_accuracy: 0.8162\n",
      "Epoch 5/50\n",
      "911/911 [==============================] - 1s 605us/step - loss: 0.4073 - accuracy: 0.8569 - val_loss: 0.4335 - val_accuracy: 0.8739\n",
      "Epoch 6/50\n",
      "911/911 [==============================] - 1s 586us/step - loss: 0.2512 - accuracy: 0.9245 - val_loss: 0.2019 - val_accuracy: 0.9406\n",
      "Epoch 7/50\n",
      "911/911 [==============================] - 1s 611us/step - loss: 0.1765 - accuracy: 0.9527 - val_loss: 0.1471 - val_accuracy: 0.9711\n",
      "Epoch 8/50\n",
      "911/911 [==============================] - 1s 595us/step - loss: 0.1376 - accuracy: 0.9665 - val_loss: 0.1283 - val_accuracy: 0.9677\n",
      "Epoch 9/50\n",
      "911/911 [==============================] - 1s 619us/step - loss: 0.1240 - accuracy: 0.9717 - val_loss: 0.1059 - val_accuracy: 0.9769\n",
      "Epoch 10/50\n",
      "911/911 [==============================] - 1s 585us/step - loss: 0.1297 - accuracy: 0.9695 - val_loss: 0.1637 - val_accuracy: 0.9653\n",
      "Epoch 11/50\n",
      "911/911 [==============================] - 1s 584us/step - loss: 0.1356 - accuracy: 0.9677 - val_loss: 0.2632 - val_accuracy: 0.9107\n",
      "Epoch 12/50\n",
      "911/911 [==============================] - 1s 606us/step - loss: 0.1387 - accuracy: 0.9678 - val_loss: 0.1951 - val_accuracy: 0.9391\n",
      "Epoch 13/50\n",
      "911/911 [==============================] - 1s 619us/step - loss: 0.1425 - accuracy: 0.9653 - val_loss: 0.0950 - val_accuracy: 0.9812\n",
      "Epoch 14/50\n",
      "911/911 [==============================] - 1s 595us/step - loss: 0.1427 - accuracy: 0.9625 - val_loss: 0.1455 - val_accuracy: 0.9585\n",
      "Epoch 15/50\n",
      "911/911 [==============================] - 1s 600us/step - loss: 0.1025 - accuracy: 0.9747 - val_loss: 0.0961 - val_accuracy: 0.9765\n",
      "Epoch 16/50\n",
      "911/911 [==============================] - 1s 585us/step - loss: 0.1021 - accuracy: 0.9748 - val_loss: 0.0967 - val_accuracy: 0.9758\n",
      "Epoch 17/50\n",
      "911/911 [==============================] - 1s 587us/step - loss: 0.1124 - accuracy: 0.9713 - val_loss: 0.0824 - val_accuracy: 0.9805\n",
      "Epoch 18/50\n",
      "911/911 [==============================] - 1s 599us/step - loss: 0.0999 - accuracy: 0.9747 - val_loss: 0.0766 - val_accuracy: 0.9819\n",
      "Epoch 19/50\n",
      "911/911 [==============================] - 1s 614us/step - loss: 0.1205 - accuracy: 0.9691 - val_loss: 0.1994 - val_accuracy: 0.9371\n",
      "Epoch 20/50\n",
      "911/911 [==============================] - 1s 636us/step - loss: 0.1056 - accuracy: 0.9725 - val_loss: 0.0791 - val_accuracy: 0.9813\n",
      "Epoch 21/50\n",
      "911/911 [==============================] - 1s 607us/step - loss: 0.1115 - accuracy: 0.9735 - val_loss: 0.0899 - val_accuracy: 0.9781\n",
      "Epoch 22/50\n",
      "911/911 [==============================] - 1s 587us/step - loss: 0.1214 - accuracy: 0.9696 - val_loss: 0.0852 - val_accuracy: 0.9794\n",
      "Epoch 23/50\n",
      "911/911 [==============================] - 1s 595us/step - loss: 0.0878 - accuracy: 0.9791 - val_loss: 0.0742 - val_accuracy: 0.9827\n",
      "Epoch 24/50\n",
      "911/911 [==============================] - 1s 590us/step - loss: 0.0820 - accuracy: 0.9803 - val_loss: 0.0755 - val_accuracy: 0.9825\n",
      "Epoch 25/50\n",
      "911/911 [==============================] - 1s 593us/step - loss: 0.1003 - accuracy: 0.9756 - val_loss: 0.0743 - val_accuracy: 0.9826\n",
      "Epoch 26/50\n",
      "911/911 [==============================] - 1s 586us/step - loss: 0.1051 - accuracy: 0.9745 - val_loss: 0.0753 - val_accuracy: 0.9827\n",
      "Epoch 27/50\n",
      "911/911 [==============================] - 1s 590us/step - loss: 0.0810 - accuracy: 0.9810 - val_loss: 0.0750 - val_accuracy: 0.9825\n",
      "Epoch 28/50\n",
      "911/911 [==============================] - 1s 594us/step - loss: 0.0829 - accuracy: 0.9804 - val_loss: 0.0765 - val_accuracy: 0.9816\n",
      "Epoch 29/50\n",
      "911/911 [==============================] - 1s 597us/step - loss: 0.0938 - accuracy: 0.9771 - val_loss: 0.0803 - val_accuracy: 0.9800\n",
      "Epoch 30/50\n",
      "911/911 [==============================] - 1s 597us/step - loss: 0.0854 - accuracy: 0.9795 - val_loss: 0.2081 - val_accuracy: 0.9392\n",
      "Epoch 31/50\n",
      "911/911 [==============================] - 1s 609us/step - loss: 0.1194 - accuracy: 0.9716 - val_loss: 0.1228 - val_accuracy: 0.9607\n",
      "Epoch 32/50\n",
      "911/911 [==============================] - 1s 590us/step - loss: 0.0983 - accuracy: 0.9777 - val_loss: 0.0845 - val_accuracy: 0.9793\n",
      "Epoch 33/50\n",
      "911/911 [==============================] - 1s 583us/step - loss: 0.0839 - accuracy: 0.9803 - val_loss: 0.0748 - val_accuracy: 0.9830\n",
      "Epoch 34/50\n",
      "911/911 [==============================] - 1s 589us/step - loss: 0.0878 - accuracy: 0.9782 - val_loss: 0.0745 - val_accuracy: 0.9826\n",
      "Epoch 35/50\n",
      "911/911 [==============================] - 1s 592us/step - loss: 0.0809 - accuracy: 0.9810 - val_loss: 0.0745 - val_accuracy: 0.9819\n",
      "Epoch 36/50\n",
      "911/911 [==============================] - 1s 599us/step - loss: 0.0829 - accuracy: 0.9797 - val_loss: 0.0808 - val_accuracy: 0.9809\n",
      "Epoch 37/50\n",
      "911/911 [==============================] - 1s 597us/step - loss: 0.0994 - accuracy: 0.9776 - val_loss: 0.0742 - val_accuracy: 0.9829\n",
      "Epoch 38/50\n",
      "911/911 [==============================] - 1s 595us/step - loss: 0.0850 - accuracy: 0.9795 - val_loss: 0.0768 - val_accuracy: 0.9799\n",
      "Epoch 39/50\n",
      "911/911 [==============================] - 1s 596us/step - loss: 0.0849 - accuracy: 0.9794 - val_loss: 0.0740 - val_accuracy: 0.9832\n",
      "Epoch 40/50\n",
      "911/911 [==============================] - 1s 595us/step - loss: 0.0818 - accuracy: 0.9801 - val_loss: 0.0714 - val_accuracy: 0.9834\n",
      "Epoch 41/50\n",
      "911/911 [==============================] - 1s 591us/step - loss: 0.0814 - accuracy: 0.9806 - val_loss: 0.0736 - val_accuracy: 0.9830\n",
      "Epoch 42/50\n",
      "911/911 [==============================] - 1s 589us/step - loss: 0.0826 - accuracy: 0.9807 - val_loss: 0.0730 - val_accuracy: 0.9832\n",
      "Epoch 43/50\n",
      "911/911 [==============================] - 1s 597us/step - loss: 0.0811 - accuracy: 0.9806 - val_loss: 0.0756 - val_accuracy: 0.9814\n",
      "Epoch 44/50\n",
      "911/911 [==============================] - 1s 586us/step - loss: 0.0809 - accuracy: 0.9808 - val_loss: 0.0726 - val_accuracy: 0.9833\n",
      "Epoch 45/50\n",
      "911/911 [==============================] - 1s 600us/step - loss: 0.0870 - accuracy: 0.9791 - val_loss: 0.1771 - val_accuracy: 0.9636\n",
      "Epoch 46/50\n",
      "911/911 [==============================] - 1s 593us/step - loss: 0.0871 - accuracy: 0.9787 - val_loss: 0.0925 - val_accuracy: 0.9777\n",
      "Epoch 47/50\n",
      "911/911 [==============================] - 1s 595us/step - loss: 0.0940 - accuracy: 0.9774 - val_loss: 0.0830 - val_accuracy: 0.9794\n",
      "Epoch 48/50\n",
      "911/911 [==============================] - 1s 597us/step - loss: 0.0867 - accuracy: 0.9791 - val_loss: 0.0790 - val_accuracy: 0.9798\n",
      "Epoch 49/50\n",
      "911/911 [==============================] - 1s 588us/step - loss: 0.0842 - accuracy: 0.9794 - val_loss: 0.0736 - val_accuracy: 0.9827\n",
      "Epoch 50/50\n",
      "911/911 [==============================] - 1s 596us/step - loss: 0.0859 - accuracy: 0.9791 - val_loss: 0.0746 - val_accuracy: 0.9820\n"
     ]
    },
    {
     "data": {
      "text/plain": [
       "<keras.callbacks.History at 0x7eff2f12e340>"
      ]
     },
     "execution_count": 181,
     "metadata": {},
     "output_type": "execute_result"
    }
   ],
   "source": [
    "model.fit(X_train, y_train, epochs=50, batch_size=50, validation_split=0.2)"
   ]
  },
  {
   "cell_type": "code",
   "execution_count": 182,
   "metadata": {},
   "outputs": [
    {
     "name": "stdout",
     "output_type": "stream",
     "text": [
      "763/763 [==============================] - 0s 401us/step - loss: 0.0767 - accuracy: 0.9815\n"
     ]
    },
    {
     "data": {
      "text/plain": [
       "[0.07672648131847382, 0.981472373008728]"
      ]
     },
     "execution_count": 182,
     "metadata": {},
     "output_type": "execute_result"
    }
   ],
   "source": [
    "model.evaluate(X_test, y_test)"
   ]
  },
  {
   "cell_type": "code",
   "execution_count": 183,
   "metadata": {},
   "outputs": [
    {
     "name": "stdout",
     "output_type": "stream",
     "text": [
      "763/763 [==============================] - 0s 340us/step\n"
     ]
    }
   ],
   "source": [
    "y_pred = model.predict(X_test)"
   ]
  },
  {
   "cell_type": "code",
   "execution_count": 184,
   "metadata": {},
   "outputs": [],
   "source": [
    "y_pred = y_pred.argmax(axis=1)"
   ]
  },
  {
   "cell_type": "code",
   "execution_count": 189,
   "metadata": {},
   "outputs": [],
   "source": [
    "cm = confusion_matrix(y_test, y_pred)"
   ]
  },
  {
   "cell_type": "code",
   "execution_count": 190,
   "metadata": {},
   "outputs": [
    {
     "data": {
      "image/png": "[encoded data removed]",
      "text/plain": [
       "<Figure size 432x288 with 2 Axes>"
      ]
     },
     "metadata": {
      "needs_background": "light"
     },
     "output_type": "display_data"
    }
   ],
   "source": [
    "graph_confusion_matrix(cm)"
   ]
  },
  {
   "cell_type": "code",
   "execution_count": 187,
   "metadata": {},
   "outputs": [
    {
     "data": {
      "image/png": "[encoded data removed]",
      "text/plain": [
       "<Figure size 432x288 with 1 Axes>"
      ]
     },
     "metadata": {
      "needs_background": "light"
     },
     "output_type": "display_data"
    }
   ],
   "source": [
    "graph_roc_curve(y_pred, y_test)"
   ]
  },
  {
   "cell_type": "code",
   "execution_count": 188,
   "metadata": {},
   "outputs": [
    {
     "name": "stdout",
     "output_type": "stream",
     "text": [
      "0.9820666046787234\n",
      "0.9815077869017396\n"
     ]
    }
   ],
   "source": [
    "from sklearn.metrics import precision_score, recall_score\n",
    "print(precision_score(y_test, y_pred , average=\"macro\"))\n",
    "print(recall_score(y_test, y_pred , average=\"macro\"))"
   ]
  },
  {
   "cell_type": "code",
   "execution_count": null,
   "metadata": {},
   "outputs": [],
   "source": []
  }
 ],
 "metadata": {
  "kernelspec": {
   "display_name": "tf",
   "language": "python",
   "name": "python3"
  },
  "language_info": {
   "codemirror_mode": {
    "name": "ipython",
    "version": 3
   },
   "file_extension": ".py",
   "mimetype": "text/x-python",
   "name": "python",
   "nbconvert_exporter": "python",
   "pygments_lexer": "ipython3",
   "version": "3.9.16"
  },
  "orig_nbformat": 4
 },
 "nbformat": 4,
 "nbformat_minor": 2
}
