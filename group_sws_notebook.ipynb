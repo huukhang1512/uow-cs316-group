{
 "cells": [
  {
   "cell_type": "code",
   "execution_count": 1,
   "metadata": {},
   "outputs": [
    {
     "name": "stderr",
     "output_type": "stream",
     "text": [
      "bash: /home/huukhang1512/miniconda3/envs/tf/lib/libtinfo.so.6: no version information available (required by bash)\n",
      "bash: /home/huukhang1512/miniconda3/envs/tf/lib/libtinfo.so.6: no version information available (required by bash)\n",
      "23/05/31 21:18:36 WARN Utils: Your hostname, huukhang1512-B550I-AORUS-PRO-AX resolves to a loopback address: 127.0.1.1; using 192.168.0.162 instead (on interface wlp6s0)\n",
      "23/05/31 21:18:36 WARN Utils: Set SPARK_LOCAL_IP if you need to bind to another address\n",
      "Using Spark's default log4j profile: org/apache/spark/log4j-defaults.properties\n",
      "Setting default log level to \"WARN\".\n",
      "To adjust logging level use sc.setLogLevel(newLevel). For SparkR, use setLogLevel(newLevel).\n",
      "23/05/31 21:18:36 WARN NativeCodeLoader: Unable to load native-hadoop library for your platform... using builtin-java classes where applicable\n"
     ]
    }
   ],
   "source": [
    "from pyspark.sql import SparkSession\n",
    "spark = SparkSession \\\n",
    "    .builder \\\n",
    "    .appName(\"credit_analysis\") \\\n",
    "    .getOrCreate()\n"
   ]
  },
  {
   "cell_type": "code",
   "execution_count": 2,
   "metadata": {},
   "outputs": [
    {
     "name": "stderr",
     "output_type": "stream",
     "text": [
      "                                                                                \r"
     ]
    }
   ],
   "source": [
    "df_original=spark.read.format(\"csv\").option(\"header\",\"true\").load('./data.csv', inferSchema=True)"
   ]
  },
  {
   "cell_type": "code",
   "execution_count": 3,
   "metadata": {},
   "outputs": [
    {
     "data": {
      "text/plain": [
       "855969"
      ]
     },
     "execution_count": 3,
     "metadata": {},
     "output_type": "execute_result"
    }
   ],
   "source": [
    "df_original.count()"
   ]
  },
  {
   "attachments": {},
   "cell_type": "markdown",
   "metadata": {},
   "source": [
    "## We realised there's many rows that have more delimeters than the others, therefore, we decided to remove some record with wrong delimeter before hand"
   ]
  },
  {
   "cell_type": "code",
   "execution_count": 4,
   "metadata": {},
   "outputs": [],
   "source": [
    "def remove_lines_with_excessive_commas(input_file, output_file):\n",
    "    with open(input_file, 'r') as csv_input, open(output_file, 'w', newline='') as csv_output:\n",
    "        first_line = csv_input.readline()\n",
    "        csv_output.write(first_line)\n",
    "        number_of_comma = first_line.count(',')\n",
    "        lines_removed = 0\n",
    "\n",
    "        for row in csv_input.readlines():\n",
    "            \n",
    "            if row.count(',') <= number_of_comma:\n",
    "                csv_output.write(row)\n",
    "            else:\n",
    "                lines_removed += 1\n",
    "\n",
    "        print(f\"{lines_removed} Lines with more than {number_of_comma} commas have been removed.\")\n",
    "\n",
    "# Usage example\n",
    "input_file = 'data.csv'\n",
    "output_file = 'output.csv'"
   ]
  },
  {
   "cell_type": "code",
   "execution_count": 5,
   "metadata": {},
   "outputs": [
    {
     "name": "stdout",
     "output_type": "stream",
     "text": [
      "51895 Lines with more than 72 commas have been removed.\n"
     ]
    }
   ],
   "source": [
    "remove_lines_with_excessive_commas(input_file, output_file)"
   ]
  },
  {
   "cell_type": "code",
   "execution_count": 6,
   "metadata": {},
   "outputs": [
    {
     "name": "stderr",
     "output_type": "stream",
     "text": [
      "                                                                                \r"
     ]
    }
   ],
   "source": [
    "df=spark.read.format(\"csv\").option(\"header\",\"true\").load('./output.csv', inferSchema=True)"
   ]
  },
  {
   "cell_type": "code",
   "execution_count": 7,
   "metadata": {},
   "outputs": [
    {
     "data": {
      "text/plain": [
       "804074"
      ]
     },
     "execution_count": 7,
     "metadata": {},
     "output_type": "execute_result"
    }
   ],
   "source": [
    "df.count()"
   ]
  },
  {
   "cell_type": "code",
   "execution_count": 8,
   "metadata": {},
   "outputs": [
    {
     "name": "stdout",
     "output_type": "stream",
     "text": [
      "+-------+---------+---------+-----------+---------------+----------+--------+-----------+-----+---------+--------------------+----------+--------------+----------+-------------------+----------+----------+--------------------+--------------+--------------------+--------+----------+-----+-----------+----------------+--------------+----------------------+----------------------+--------+-------+---------+----------+---------+-------------------+---------+-------------+-----------+---------------+---------------+-------------+------------------+----------+-----------------------+------------+---------------+------------+------------------+--------------------------+---------------------------+-----------+----------------+----------------+---------+-------------------------+--------------+------------+-----------+-----------+----------+-----------+-----------+------------------+------------+-------+-----------+-----------+----------+--------+----------------+------+-----------+------------+-----------+\n",
      "|     id|member_id|loan_amnt|funded_amnt|funded_amnt_inv|      term|int_rate|installment|grade|sub_grade|           emp_title|emp_length|home_ownership|annual_inc|verification_status|   issue_d|pymnt_plan|                desc|       purpose|               title|zip_code|addr_state|  dti|delinq_2yrs|earliest_cr_line|inq_last_6mths|mths_since_last_delinq|mths_since_last_record|open_acc|pub_rec|revol_bal|revol_util|total_acc|initial_list_status|out_prncp|out_prncp_inv|total_pymnt|total_pymnt_inv|total_rec_prncp|total_rec_int|total_rec_late_fee|recoveries|collection_recovery_fee|last_pymnt_d|last_pymnt_amnt|next_pymnt_d|last_credit_pull_d|collections_12_mths_ex_med|mths_since_last_major_derog|policy_code|application_type|annual_inc_joint|dti_joint|verification_status_joint|acc_now_delinq|tot_coll_amt|tot_cur_bal|open_acc_6m|open_il_6m|open_il_12m|open_il_24m|mths_since_rcnt_il|total_bal_il|il_util|open_rv_12m|open_rv_24m|max_bal_bc|all_util|total_rev_hi_lim|inq_fi|total_cu_tl|inq_last_12m|default_ind|\n",
      "+-------+---------+---------+-----------+---------------+----------+--------+-----------+-----+---------+--------------------+----------+--------------+----------+-------------------+----------+----------+--------------------+--------------+--------------------+--------+----------+-----+-----------+----------------+--------------+----------------------+----------------------+--------+-------+---------+----------+---------+-------------------+---------+-------------+-----------+---------------+---------------+-------------+------------------+----------+-----------------------+------------+---------------+------------+------------------+--------------------------+---------------------------+-----------+----------------+----------------+---------+-------------------------+--------------+------------+-----------+-----------+----------+-----------+-----------+------------------+------------+-------+-----------+-----------+----------+--------+----------------+------+-----------+------------+-----------+\n",
      "|1077501|  1296599|     5000|       5000|         4975.0| 36 months|   10.65|     162.87|    B|       B2|                null| 10+ years|          RENT|   24000.0|           Verified|01-12-2011|         n|  Borrower added ...|   credit_card|            Computer|   860xx|        AZ|27.65|          0|      01-01-1985|             1|                  null|                  null|       3|      0|    13648|      83.7|        9|                  f|      0.0|          0.0|5861.071414|        5831.78|         5000.0|       861.07|               0.0|       0.0|                    0.0|  01-01-2015|         171.62|        null|        01-01-2016|                         0|                       null|          1|      INDIVIDUAL|            null|     null|                     null|             0|        null|       null|       null|      null|       null|       null|              null|        null|   null|       null|       null|      null|    null|            null|  null|       null|        null|          0|\n",
      "|1077430|  1314167|     2500|       2500|         2500.0| 60 months|   15.27|      59.83|    C|       C4|               Ryder|  < 1 year|          RENT|   30000.0|    Source Verified|01-12-2011|         n|  Borrower added ...|           car|                bike|   309xx|        GA|  1.0|          0|      01-04-1999|             5|                  null|                  null|       3|      0|     1687|       9.4|        4|                  f|      0.0|          0.0|    1008.71|        1008.71|         456.46|       435.17|               0.0|    117.08|                   1.11|  01-04-2013|         119.66|        null|        01-09-2013|                         0|                       null|          1|      INDIVIDUAL|            null|     null|                     null|             0|        null|       null|       null|      null|       null|       null|              null|        null|   null|       null|       null|      null|    null|            null|  null|       null|        null|          1|\n",
      "|1077175|  1313524|     2400|       2400|         2400.0| 36 months|   15.96|      84.33|    C|       C5|                null| 10+ years|          RENT|   12252.0|       Not Verified|01-12-2011|         n|                null|small_business|real estate business|   606xx|        IL| 8.72|          0|      01-11-2001|             2|                  null|                  null|       2|      0|     2956|      98.5|       10|                  f|      0.0|          0.0|3003.653644|        3003.65|         2400.0|       603.65|               0.0|       0.0|                    0.0|  01-06-2014|         649.91|        null|        01-01-2016|                         0|                       null|          1|      INDIVIDUAL|            null|     null|                     null|             0|        null|       null|       null|      null|       null|       null|              null|        null|   null|       null|       null|      null|    null|            null|  null|       null|        null|          0|\n",
      "|1075269|  1311441|     5000|       5000|         5000.0| 36 months|     7.9|     156.46|    A|       A4|Veolia Transportaton|   3 years|          RENT|   36000.0|    Source Verified|01-12-2011|         n|                null|       wedding|My wedding loan I...|   852xx|        AZ| 11.2|          0|      01-11-2004|             3|                  null|                  null|       9|      0|     7963|      28.3|       12|                  f|      0.0|          0.0|5631.377753|        5631.38|         5000.0|       631.38|               0.0|       0.0|                    0.0|  01-01-2015|         161.03|        null|        01-09-2015|                         0|                       null|          1|      INDIVIDUAL|            null|     null|                     null|             0|        null|       null|       null|      null|       null|       null|              null|        null|   null|       null|       null|      null|    null|            null|  null|       null|        null|          0|\n",
      "|1072053|  1288686|     3000|       3000|         3000.0| 36 months|   18.64|     109.43|    E|       E1|     MKC Accounting |   9 years|          RENT|   48000.0|    Source Verified|01-12-2011|         n|  Borrower added ...|           car|     Car Downpayment|   900xx|        CA| 5.35|          0|      01-01-2007|             2|                  null|                  null|       4|      0|     8221|      87.5|        4|                  f|      0.0|          0.0|3938.144334|        3938.14|         3000.0|       938.14|               0.0|       0.0|                    0.0|  01-01-2015|         111.34|        null|        01-12-2014|                         0|                       null|          1|      INDIVIDUAL|            null|     null|                     null|             0|        null|       null|       null|      null|       null|       null|              null|        null|   null|       null|       null|      null|    null|            null|  null|       null|        null|          0|\n",
      "+-------+---------+---------+-----------+---------------+----------+--------+-----------+-----+---------+--------------------+----------+--------------+----------+-------------------+----------+----------+--------------------+--------------+--------------------+--------+----------+-----+-----------+----------------+--------------+----------------------+----------------------+--------+-------+---------+----------+---------+-------------------+---------+-------------+-----------+---------------+---------------+-------------+------------------+----------+-----------------------+------------+---------------+------------+------------------+--------------------------+---------------------------+-----------+----------------+----------------+---------+-------------------------+--------------+------------+-----------+-----------+----------+-----------+-----------+------------------+------------+-------+-----------+-----------+----------+--------+----------------+------+-----------+------------+-----------+\n",
      "only showing top 5 rows\n",
      "\n"
     ]
    },
    {
     "name": "stderr",
     "output_type": "stream",
     "text": [
      "23/05/31 21:18:43 WARN package: Truncated the string representation of a plan since it was too large. This behavior can be adjusted by setting 'spark.sql.debug.maxToStringFields'.\n"
     ]
    }
   ],
   "source": [
    "df.show(5)"
   ]
  },
  {
   "attachments": {},
   "cell_type": "markdown",
   "metadata": {},
   "source": [
    "# Stage 1: Data exploration"
   ]
  },
  {
   "cell_type": "code",
   "execution_count": 9,
   "metadata": {},
   "outputs": [
    {
     "data": {
      "text/plain": [
       "[('id', 'int'),\n",
       " ('member_id', 'int'),\n",
       " ('loan_amnt', 'int'),\n",
       " ('funded_amnt', 'int'),\n",
       " ('funded_amnt_inv', 'double'),\n",
       " ('term', 'string'),\n",
       " ('int_rate', 'double'),\n",
       " ('installment', 'double'),\n",
       " ('grade', 'string'),\n",
       " ('sub_grade', 'string'),\n",
       " ('emp_title', 'string'),\n",
       " ('emp_length', 'string'),\n",
       " ('home_ownership', 'string'),\n",
       " ('annual_inc', 'double'),\n",
       " ('verification_status', 'string'),\n",
       " ('issue_d', 'string'),\n",
       " ('pymnt_plan', 'string'),\n",
       " ('desc', 'string'),\n",
       " ('purpose', 'string'),\n",
       " ('title', 'string'),\n",
       " ('zip_code', 'string'),\n",
       " ('addr_state', 'string'),\n",
       " ('dti', 'double'),\n",
       " ('delinq_2yrs', 'int'),\n",
       " ('earliest_cr_line', 'string'),\n",
       " ('inq_last_6mths', 'int'),\n",
       " ('mths_since_last_delinq', 'int'),\n",
       " ('mths_since_last_record', 'int'),\n",
       " ('open_acc', 'int'),\n",
       " ('pub_rec', 'int'),\n",
       " ('revol_bal', 'int'),\n",
       " ('revol_util', 'double'),\n",
       " ('total_acc', 'int'),\n",
       " ('initial_list_status', 'string'),\n",
       " ('out_prncp', 'double'),\n",
       " ('out_prncp_inv', 'double'),\n",
       " ('total_pymnt', 'double'),\n",
       " ('total_pymnt_inv', 'double'),\n",
       " ('total_rec_prncp', 'double'),\n",
       " ('total_rec_int', 'double'),\n",
       " ('total_rec_late_fee', 'double'),\n",
       " ('recoveries', 'double'),\n",
       " ('collection_recovery_fee', 'double'),\n",
       " ('last_pymnt_d', 'string'),\n",
       " ('last_pymnt_amnt', 'double'),\n",
       " ('next_pymnt_d', 'string'),\n",
       " ('last_credit_pull_d', 'string'),\n",
       " ('collections_12_mths_ex_med', 'int'),\n",
       " ('mths_since_last_major_derog', 'int'),\n",
       " ('policy_code', 'int'),\n",
       " ('application_type', 'string'),\n",
       " ('annual_inc_joint', 'double'),\n",
       " ('dti_joint', 'double'),\n",
       " ('verification_status_joint', 'string'),\n",
       " ('acc_now_delinq', 'int'),\n",
       " ('tot_coll_amt', 'int'),\n",
       " ('tot_cur_bal', 'int'),\n",
       " ('open_acc_6m', 'int'),\n",
       " ('open_il_6m', 'int'),\n",
       " ('open_il_12m', 'int'),\n",
       " ('open_il_24m', 'int'),\n",
       " ('mths_since_rcnt_il', 'int'),\n",
       " ('total_bal_il', 'int'),\n",
       " ('il_util', 'double'),\n",
       " ('open_rv_12m', 'int'),\n",
       " ('open_rv_24m', 'int'),\n",
       " ('max_bal_bc', 'int'),\n",
       " ('all_util', 'double'),\n",
       " ('total_rev_hi_lim', 'int'),\n",
       " ('inq_fi', 'int'),\n",
       " ('total_cu_tl', 'int'),\n",
       " ('inq_last_12m', 'int'),\n",
       " ('default_ind', 'int')]"
      ]
     },
     "execution_count": 9,
     "metadata": {},
     "output_type": "execute_result"
    }
   ],
   "source": [
    "df.dtypes"
   ]
  },
  {
   "cell_type": "code",
   "execution_count": 10,
   "metadata": {},
   "outputs": [],
   "source": [
    "column_to_hist = [item[0] for item in df.dtypes if item[1].startswith('int') or item[1].startswith('double')]"
   ]
  },
  {
   "cell_type": "code",
   "execution_count": 11,
   "metadata": {},
   "outputs": [
    {
     "name": "stderr",
     "output_type": "stream",
     "text": [
      "                                                                                \r"
     ]
    },
    {
     "data": {
      "text/plain": [
       "array([[<AxesSubplot:title={'center':'id'}>,\n",
       "        <AxesSubplot:title={'center':'member_id'}>,\n",
       "        <AxesSubplot:title={'center':'loan_amnt'}>,\n",
       "        <AxesSubplot:title={'center':'funded_amnt'}>,\n",
       "        <AxesSubplot:title={'center':'funded_amnt_inv'}>,\n",
       "        <AxesSubplot:title={'center':'int_rate'}>,\n",
       "        <AxesSubplot:title={'center':'installment'}>],\n",
       "       [<AxesSubplot:title={'center':'annual_inc'}>,\n",
       "        <AxesSubplot:title={'center':'dti'}>,\n",
       "        <AxesSubplot:title={'center':'delinq_2yrs'}>,\n",
       "        <AxesSubplot:title={'center':'inq_last_6mths'}>,\n",
       "        <AxesSubplot:title={'center':'mths_since_last_delinq'}>,\n",
       "        <AxesSubplot:title={'center':'mths_since_last_record'}>,\n",
       "        <AxesSubplot:title={'center':'open_acc'}>],\n",
       "       [<AxesSubplot:title={'center':'pub_rec'}>,\n",
       "        <AxesSubplot:title={'center':'revol_bal'}>,\n",
       "        <AxesSubplot:title={'center':'revol_util'}>,\n",
       "        <AxesSubplot:title={'center':'total_acc'}>,\n",
       "        <AxesSubplot:title={'center':'out_prncp'}>,\n",
       "        <AxesSubplot:title={'center':'out_prncp_inv'}>,\n",
       "        <AxesSubplot:title={'center':'total_pymnt'}>],\n",
       "       [<AxesSubplot:title={'center':'total_pymnt_inv'}>,\n",
       "        <AxesSubplot:title={'center':'total_rec_prncp'}>,\n",
       "        <AxesSubplot:title={'center':'total_rec_int'}>,\n",
       "        <AxesSubplot:title={'center':'total_rec_late_fee'}>,\n",
       "        <AxesSubplot:title={'center':'recoveries'}>,\n",
       "        <AxesSubplot:title={'center':'collection_recovery_fee'}>,\n",
       "        <AxesSubplot:title={'center':'last_pymnt_amnt'}>],\n",
       "       [<AxesSubplot:title={'center':'collections_12_mths_ex_med'}>,\n",
       "        <AxesSubplot:title={'center':'mths_since_last_major_derog'}>,\n",
       "        <AxesSubplot:title={'center':'policy_code'}>,\n",
       "        <AxesSubplot:title={'center':'annual_inc_joint'}>,\n",
       "        <AxesSubplot:title={'center':'dti_joint'}>,\n",
       "        <AxesSubplot:title={'center':'acc_now_delinq'}>,\n",
       "        <AxesSubplot:title={'center':'tot_coll_amt'}>],\n",
       "       [<AxesSubplot:title={'center':'tot_cur_bal'}>,\n",
       "        <AxesSubplot:title={'center':'open_acc_6m'}>,\n",
       "        <AxesSubplot:title={'center':'open_il_6m'}>,\n",
       "        <AxesSubplot:title={'center':'open_il_12m'}>,\n",
       "        <AxesSubplot:title={'center':'open_il_24m'}>,\n",
       "        <AxesSubplot:title={'center':'mths_since_rcnt_il'}>,\n",
       "        <AxesSubplot:title={'center':'total_bal_il'}>],\n",
       "       [<AxesSubplot:title={'center':'il_util'}>,\n",
       "        <AxesSubplot:title={'center':'open_rv_12m'}>,\n",
       "        <AxesSubplot:title={'center':'open_rv_24m'}>,\n",
       "        <AxesSubplot:title={'center':'max_bal_bc'}>,\n",
       "        <AxesSubplot:title={'center':'all_util'}>,\n",
       "        <AxesSubplot:title={'center':'total_rev_hi_lim'}>,\n",
       "        <AxesSubplot:title={'center':'inq_fi'}>],\n",
       "       [<AxesSubplot:title={'center':'total_cu_tl'}>,\n",
       "        <AxesSubplot:title={'center':'inq_last_12m'}>,\n",
       "        <AxesSubplot:title={'center':'default_ind'}>, <AxesSubplot:>,\n",
       "        <AxesSubplot:>, <AxesSubplot:>, <AxesSubplot:>]], dtype=object)"
      ]
     },
     "execution_count": 11,
     "metadata": {},
     "output_type": "execute_result"
    },
    {
     "data": {
      "image/png": "[encoded data removed]",
      "text/plain": [
       "<Figure size 1440x1440 with 56 Axes>"
      ]
     },
     "metadata": {
      "needs_background": "light"
     },
     "output_type": "display_data"
    }
   ],
   "source": [
    "df.select(column_to_hist).sample(withReplacement=False, fraction=0.0002, seed=None).toPandas().hist(figsize=(20,20))"
   ]
  },
  {
   "cell_type": "code",
   "execution_count": 12,
   "metadata": {},
   "outputs": [
    {
     "data": {
      "text/plain": [
       "['id',\n",
       " 'member_id',\n",
       " 'loan_amnt',\n",
       " 'funded_amnt',\n",
       " 'funded_amnt_inv',\n",
       " 'term',\n",
       " 'int_rate',\n",
       " 'installment',\n",
       " 'grade',\n",
       " 'sub_grade',\n",
       " 'emp_title',\n",
       " 'emp_length',\n",
       " 'home_ownership',\n",
       " 'annual_inc',\n",
       " 'verification_status',\n",
       " 'issue_d',\n",
       " 'pymnt_plan',\n",
       " 'desc',\n",
       " 'purpose',\n",
       " 'title',\n",
       " 'zip_code',\n",
       " 'addr_state',\n",
       " 'dti',\n",
       " 'delinq_2yrs',\n",
       " 'earliest_cr_line',\n",
       " 'inq_last_6mths',\n",
       " 'mths_since_last_delinq',\n",
       " 'mths_since_last_record',\n",
       " 'open_acc',\n",
       " 'pub_rec',\n",
       " 'revol_bal',\n",
       " 'revol_util',\n",
       " 'total_acc',\n",
       " 'initial_list_status',\n",
       " 'out_prncp',\n",
       " 'out_prncp_inv',\n",
       " 'total_pymnt',\n",
       " 'total_pymnt_inv',\n",
       " 'total_rec_prncp',\n",
       " 'total_rec_int',\n",
       " 'total_rec_late_fee',\n",
       " 'recoveries',\n",
       " 'collection_recovery_fee',\n",
       " 'last_pymnt_d',\n",
       " 'last_pymnt_amnt',\n",
       " 'next_pymnt_d',\n",
       " 'last_credit_pull_d',\n",
       " 'collections_12_mths_ex_med',\n",
       " 'mths_since_last_major_derog',\n",
       " 'policy_code',\n",
       " 'application_type',\n",
       " 'annual_inc_joint',\n",
       " 'dti_joint',\n",
       " 'verification_status_joint',\n",
       " 'acc_now_delinq',\n",
       " 'tot_coll_amt',\n",
       " 'tot_cur_bal',\n",
       " 'open_acc_6m',\n",
       " 'open_il_6m',\n",
       " 'open_il_12m',\n",
       " 'open_il_24m',\n",
       " 'mths_since_rcnt_il',\n",
       " 'total_bal_il',\n",
       " 'il_util',\n",
       " 'open_rv_12m',\n",
       " 'open_rv_24m',\n",
       " 'max_bal_bc',\n",
       " 'all_util',\n",
       " 'total_rev_hi_lim',\n",
       " 'inq_fi',\n",
       " 'total_cu_tl',\n",
       " 'inq_last_12m',\n",
       " 'default_ind']"
      ]
     },
     "execution_count": 12,
     "metadata": {},
     "output_type": "execute_result"
    }
   ],
   "source": [
    "df.columns"
   ]
  },
  {
   "attachments": {},
   "cell_type": "markdown",
   "metadata": {},
   "source": [
    "From the domain knowledge, it is noticeable that the following fields could be removed as they do not provide great insight for the prediction, and may introduce noise and cause overfitting:"
   ]
  },
  {
   "attachments": {},
   "cell_type": "markdown",
   "metadata": {},
   "source": [
    "- Unique identifiers such as `id` and `member_id`\n",
    "- `emp_title`, `desc`, `title` as text description of the loan won't be contribute much for the prediction\n",
    "- Location identifier columns such as `zip_code` and `addr_state`, as these information do not expected to have a strong influence on loan defaults \n",
    "- Date columns such as `earliest_cr_line`, `issue_d`, `last_pymnt_d`, `next_pymnt_d`, `last_credit_pull_d` can be removed, as these data might not be relevant for the prediction model. Moreover, the model to be implemented is expected to predict the upcoming loan, and these date data might not be available."
   ]
  },
  {
   "cell_type": "code",
   "execution_count": 13,
   "metadata": {},
   "outputs": [],
   "source": [
    "df = df.drop('id', 'member_id', 'emp_title', 'desc', 'emp_title', 'title', 'zip_code', 'addr_state', 'earliest_cr_line', 'issue_d', 'last_pymnt_d', 'next_pymnt_d', 'last_credit_pull_d')"
   ]
  },
  {
   "cell_type": "code",
   "execution_count": 14,
   "metadata": {},
   "outputs": [
    {
     "name": "stdout",
     "output_type": "stream",
     "text": [
      "+---------+-----------+---------------+----------+--------+-----------+-----+---------+----------+--------------+----------+-------------------+----------+------------------+-----+-----------+--------------+----------------------+----------------------+--------+-------+---------+----------+---------+-------------------+---------+-------------+-----------+---------------+---------------+-------------+------------------+----------+-----------------------+---------------+--------------------------+---------------------------+-----------+----------------+----------------+---------+-------------------------+--------------+------------+-----------+-----------+----------+-----------+-----------+------------------+------------+-------+-----------+-----------+----------+--------+----------------+------+-----------+------------+-----------+\n",
      "|loan_amnt|funded_amnt|funded_amnt_inv|      term|int_rate|installment|grade|sub_grade|emp_length|home_ownership|annual_inc|verification_status|pymnt_plan|           purpose|  dti|delinq_2yrs|inq_last_6mths|mths_since_last_delinq|mths_since_last_record|open_acc|pub_rec|revol_bal|revol_util|total_acc|initial_list_status|out_prncp|out_prncp_inv|total_pymnt|total_pymnt_inv|total_rec_prncp|total_rec_int|total_rec_late_fee|recoveries|collection_recovery_fee|last_pymnt_amnt|collections_12_mths_ex_med|mths_since_last_major_derog|policy_code|application_type|annual_inc_joint|dti_joint|verification_status_joint|acc_now_delinq|tot_coll_amt|tot_cur_bal|open_acc_6m|open_il_6m|open_il_12m|open_il_24m|mths_since_rcnt_il|total_bal_il|il_util|open_rv_12m|open_rv_24m|max_bal_bc|all_util|total_rev_hi_lim|inq_fi|total_cu_tl|inq_last_12m|default_ind|\n",
      "+---------+-----------+---------------+----------+--------+-----------+-----+---------+----------+--------------+----------+-------------------+----------+------------------+-----+-----------+--------------+----------------------+----------------------+--------+-------+---------+----------+---------+-------------------+---------+-------------+-----------+---------------+---------------+-------------+------------------+----------+-----------------------+---------------+--------------------------+---------------------------+-----------+----------------+----------------+---------+-------------------------+--------------+------------+-----------+-----------+----------+-----------+-----------+------------------+------------+-------+-----------+-----------+----------+--------+----------------+------+-----------+------------+-----------+\n",
      "|     5000|       5000|         4975.0| 36 months|   10.65|     162.87|    B|       B2| 10+ years|          RENT|   24000.0|           Verified|         n|       credit_card|27.65|          0|             1|                  null|                  null|       3|      0|    13648|      83.7|        9|                  f|      0.0|          0.0|5861.071414|        5831.78|         5000.0|       861.07|               0.0|       0.0|                    0.0|         171.62|                         0|                       null|          1|      INDIVIDUAL|            null|     null|                     null|             0|        null|       null|       null|      null|       null|       null|              null|        null|   null|       null|       null|      null|    null|            null|  null|       null|        null|          0|\n",
      "|     2500|       2500|         2500.0| 60 months|   15.27|      59.83|    C|       C4|  < 1 year|          RENT|   30000.0|    Source Verified|         n|               car|  1.0|          0|             5|                  null|                  null|       3|      0|     1687|       9.4|        4|                  f|      0.0|          0.0|    1008.71|        1008.71|         456.46|       435.17|               0.0|    117.08|                   1.11|         119.66|                         0|                       null|          1|      INDIVIDUAL|            null|     null|                     null|             0|        null|       null|       null|      null|       null|       null|              null|        null|   null|       null|       null|      null|    null|            null|  null|       null|        null|          1|\n",
      "|     2400|       2400|         2400.0| 36 months|   15.96|      84.33|    C|       C5| 10+ years|          RENT|   12252.0|       Not Verified|         n|    small_business| 8.72|          0|             2|                  null|                  null|       2|      0|     2956|      98.5|       10|                  f|      0.0|          0.0|3003.653644|        3003.65|         2400.0|       603.65|               0.0|       0.0|                    0.0|         649.91|                         0|                       null|          1|      INDIVIDUAL|            null|     null|                     null|             0|        null|       null|       null|      null|       null|       null|              null|        null|   null|       null|       null|      null|    null|            null|  null|       null|        null|          0|\n",
      "|     5000|       5000|         5000.0| 36 months|     7.9|     156.46|    A|       A4|   3 years|          RENT|   36000.0|    Source Verified|         n|           wedding| 11.2|          0|             3|                  null|                  null|       9|      0|     7963|      28.3|       12|                  f|      0.0|          0.0|5631.377753|        5631.38|         5000.0|       631.38|               0.0|       0.0|                    0.0|         161.03|                         0|                       null|          1|      INDIVIDUAL|            null|     null|                     null|             0|        null|       null|       null|      null|       null|       null|              null|        null|   null|       null|       null|      null|    null|            null|  null|       null|        null|          0|\n",
      "|     3000|       3000|         3000.0| 36 months|   18.64|     109.43|    E|       E1|   9 years|          RENT|   48000.0|    Source Verified|         n|               car| 5.35|          0|             2|                  null|                  null|       4|      0|     8221|      87.5|        4|                  f|      0.0|          0.0|3938.144334|        3938.14|         3000.0|       938.14|               0.0|       0.0|                    0.0|         111.34|                         0|                       null|          1|      INDIVIDUAL|            null|     null|                     null|             0|        null|       null|       null|      null|       null|       null|              null|        null|   null|       null|       null|      null|    null|            null|  null|       null|        null|          0|\n",
      "|     5600|       5600|         5600.0| 60 months|   21.28|     152.39|    F|       F2|   4 years|           OWN|   40000.0|    Source Verified|         n|    small_business| 5.55|          0|             2|                  null|                  null|      11|      0|     5210|      32.6|       13|                  f|      0.0|          0.0|     646.02|         646.02|         162.02|       294.94|               0.0|    189.06|                   2.09|         152.39|                         0|                       null|          1|      INDIVIDUAL|            null|     null|                     null|             0|        null|       null|       null|      null|       null|       null|              null|        null|   null|       null|       null|      null|    null|            null|  null|       null|        null|          1|\n",
      "|    12000|      12000|        12000.0| 36 months|   12.69|     402.54|    B|       B5| 10+ years|           OWN|   75000.0|    Source Verified|         n|debt_consolidation|10.78|          0|             0|                  null|                  null|      12|      0|    23336|      67.1|       34|                  f|      0.0|          0.0|   13943.08|       13943.08|        12000.0|      1943.08|               0.0|       0.0|                    0.0|         6315.3|                         0|                       null|          1|      INDIVIDUAL|            null|     null|                     null|             0|        null|       null|       null|      null|       null|       null|              null|        null|   null|       null|       null|      null|    null|            null|  null|       null|        null|          0|\n",
      "|     9000|       9000|         9000.0| 36 months|   13.49|     305.38|    C|       C1|  < 1 year|          RENT|   30000.0|    Source Verified|         n|debt_consolidation|10.08|          0|             1|                  null|                  null|       4|      0|    10452|      91.7|        9|                  f|      0.0|          0.0|     2270.7|         2270.7|        1256.14|       570.26|               0.0|     444.3|                   4.16|         305.38|                         0|                       null|          1|      INDIVIDUAL|            null|     null|                     null|             0|        null|       null|       null|      null|       null|       null|              null|        null|   null|       null|       null|      null|    null|            null|  null|       null|        null|          1|\n",
      "|    10000|      10000|        10000.0| 36 months|   10.65|     325.74|    B|       B2|   3 years|          RENT|  100000.0|    Source Verified|         n|             other| 7.06|          0|             2|                  null|                  null|      14|      0|    11997|      55.5|       29|                  f|      0.0|          0.0|    7471.99|        7471.99|        5433.47|      1393.42|               0.0|     645.1|                 6.3145|         325.74|                         0|                       null|          1|      INDIVIDUAL|            null|     null|                     null|             0|        null|       null|       null|      null|       null|       null|              null|        null|   null|       null|       null|      null|    null|            null|  null|       null|        null|          1|\n",
      "|     1000|       1000|         1000.0| 36 months|   16.29|      35.31|    D|       D1|  < 1 year|          RENT|   28000.0|       Not Verified|         n|debt_consolidation|20.31|          0|             1|                  null|                  null|      11|      0|     6524|      81.5|       23|                  f|      0.0|          0.0|1270.171106|        1270.17|         1000.0|       270.17|               0.0|       0.0|                    0.0|          36.32|                         0|                       null|          1|      INDIVIDUAL|            null|     null|                     null|             0|        null|       null|       null|      null|       null|       null|              null|        null|   null|       null|       null|      null|    null|            null|  null|       null|        null|          0|\n",
      "|    10000|      10000|        10000.0| 36 months|   15.27|     347.98|    C|       C4|   4 years|          RENT|   42000.0|       Not Verified|         n|  home_improvement| 18.6|          0|             2|                    61|                  null|      14|      0|    24043|      70.2|       28|                  f|      0.0|          0.0|12519.26045|       12519.26|        10000.0|      2519.26|               0.0|       0.0|                    0.0|         370.46|                         0|                       null|          1|      INDIVIDUAL|            null|     null|                     null|             0|        null|       null|       null|      null|       null|       null|              null|        null|   null|       null|       null|      null|    null|            null|  null|       null|        null|          0|\n",
      "|     3600|       3600|         3600.0| 36 months|    6.03|     109.57|    A|       A1| 10+ years|      MORTGAGE|  110000.0|       Not Verified|         n|    major_purchase|10.52|          0|             0|                  null|                  null|      20|      0|    22836|      16.0|       42|                  f|      0.0|          0.0|    3785.02|        3785.02|         3600.0|       185.02|               0.0|       0.0|                    0.0|         583.45|                         0|                       null|          1|      INDIVIDUAL|            null|     null|                     null|             0|        null|       null|       null|      null|       null|       null|              null|        null|   null|       null|       null|      null|    null|            null|  null|       null|        null|          0|\n",
      "|     6000|       6000|         6000.0| 36 months|   11.71|     198.46|    B|       B3|    1 year|      MORTGAGE|   84000.0|           Verified|         n|           medical|18.44|          2|             0|                     8|                  null|       4|      0|        0|     37.73|       14|                  f|      0.0|          0.0|7164.499852|         7164.5|         6000.0|       1149.5|              15.0|       0.0|                    0.0|          16.98|                         0|                       null|          1|      INDIVIDUAL|            null|     null|                     null|             0|        null|       null|       null|      null|       null|       null|              null|        null|   null|       null|       null|      null|    null|            null|  null|       null|        null|          0|\n",
      "|     9200|       9200|         9200.0| 36 months|    6.03|     280.01|    A|       A1|   6 years|          RENT|  77385.19|       Not Verified|         n|debt_consolidation| 9.86|          0|             0|                  null|                  null|       8|      0|     7314|      23.1|       28|                  f|      0.0|          0.0|    9459.96|        9459.96|         9200.0|       259.96|               0.0|       0.0|                    0.0|         8061.1|                         0|                       null|          1|      INDIVIDUAL|            null|     null|                     null|             0|        null|       null|       null|      null|       null|       null|              null|        null|   null|       null|       null|      null|    null|            null|  null|       null|        null|          0|\n",
      "|    21000|      21000|        21000.0| 36 months|   12.42|     701.73|    B|       B4| 10+ years|          RENT|  105000.0|           Verified|         n|debt_consolidation|13.22|          0|             0|                  null|                  null|       7|      0|    32135|      90.3|       38|                  f|      0.0|          0.0|    14025.4|        14025.4|       10694.96|      3330.44|               0.0|       0.0|                    0.0|         701.73|                         0|                       null|          1|      INDIVIDUAL|            null|     null|                     null|             0|        null|       null|       null|      null|       null|       null|              null|        null|   null|       null|       null|      null|    null|            null|  null|       null|        null|          1|\n",
      "|    10000|      10000|        10000.0| 36 months|   11.71|     330.76|    B|       B3|   5 years|          RENT|   50000.0|       Not Verified|         n|debt_consolidation|16.01|          0|             0|                  null|                  null|       6|      0|    17800|      91.8|       17|                  f|      0.0|          0.0|   11536.31|       11536.31|        10000.0|      1536.31|               0.0|       0.0|                    0.0|        4942.63|                         0|                       null|          1|      INDIVIDUAL|            null|     null|                     null|             0|        null|       null|       null|      null|       null|       null|              null|        null|   null|       null|       null|      null|    null|            null|  null|       null|        null|          0|\n",
      "|     6000|       6000|         6000.0| 36 months|   11.71|     198.46|    B|       B3|    1 year|          RENT|   76000.0|       Not Verified|         n|    major_purchase|  2.4|          0|             1|                  null|                  null|       7|      0|     5963|      29.7|        7|                  f|      0.0|          0.0|    2050.14|        2050.14|        1305.58|       475.25|               0.0|    269.31|                   2.57|         198.46|                         0|                       null|          1|      INDIVIDUAL|            null|     null|                     null|             0|        null|       null|       null|      null|       null|       null|              null|        null|   null|       null|       null|      null|    null|            null|  null|       null|        null|          1|\n",
      "|    15000|      15000|        15000.0| 36 months|    9.91|     483.38|    B|       B1|   2 years|      MORTGAGE|   92000.0|           Verified|         n|       credit_card|29.44|          0|             0|                  null|                  null|       8|      0|    13707|      93.9|       31|                  f|      0.0|          0.0|   15823.48|       15823.48|        15000.0|       823.48|               0.0|       0.0|                    0.0|        2447.05|                         0|                       null|          1|      INDIVIDUAL|            null|     null|                     null|             0|        null|       null|       null|      null|       null|       null|              null|        null|   null|       null|       null|      null|    null|            null|  null|       null|        null|          0|\n",
      "|    15000|      15000|         8725.0| 36 months|   14.27|     514.64|    C|       C2|   9 years|          RENT|   60000.0|       Not Verified|         n|debt_consolidation|15.22|          0|             1|                  null|                  null|       7|      0|     5872|      57.6|       11|                  f|      0.0|          0.0|        0.0|            0.0|            0.0|          0.0|               0.0|       0.0|                    0.0|            0.0|                         0|                       null|          1|      INDIVIDUAL|            null|     null|                     null|             0|        null|       null|       null|      null|       null|       null|              null|        null|   null|       null|       null|      null|    null|            null|  null|       null|        null|          1|\n",
      "|     5000|       5000|         5000.0| 60 months|   16.77|     123.65|    D|       D2|   2 years|          RENT|   50004.0|       Not Verified|         n|             other|13.97|          3|             0|                    20|                  null|      14|      0|     4345|      59.5|       22|                  f|      0.0|          0.0|    1609.12|        1609.12|         629.05|       719.11|               0.0|    260.96|                    2.3|         123.65|                         0|                       null|          1|      INDIVIDUAL|            null|     null|                     null|             0|        null|       null|       null|      null|       null|       null|              null|        null|   null|       null|       null|      null|    null|            null|  null|       null|        null|          1|\n",
      "+---------+-----------+---------------+----------+--------+-----------+-----+---------+----------+--------------+----------+-------------------+----------+------------------+-----+-----------+--------------+----------------------+----------------------+--------+-------+---------+----------+---------+-------------------+---------+-------------+-----------+---------------+---------------+-------------+------------------+----------+-----------------------+---------------+--------------------------+---------------------------+-----------+----------------+----------------+---------+-------------------------+--------------+------------+-----------+-----------+----------+-----------+-----------+------------------+------------+-------+-----------+-----------+----------+--------+----------------+------+-----------+------------+-----------+\n",
      "only showing top 20 rows\n",
      "\n"
     ]
    }
   ],
   "source": [
    "df.show()"
   ]
  },
  {
   "cell_type": "code",
   "execution_count": 15,
   "metadata": {},
   "outputs": [
    {
     "data": {
      "text/plain": [
       "61"
      ]
     },
     "execution_count": 15,
     "metadata": {},
     "output_type": "execute_result"
    }
   ],
   "source": [
    "len(df.columns)"
   ]
  },
  {
   "cell_type": "code",
   "execution_count": 16,
   "metadata": {},
   "outputs": [
    {
     "name": "stdout",
     "output_type": "stream",
     "text": [
      "+-----------+------+\n",
      "|policy_code| count|\n",
      "+-----------+------+\n",
      "|          1|804074|\n",
      "+-----------+------+\n",
      "\n"
     ]
    }
   ],
   "source": [
    "df.groupBy(df[\"policy_code\"]).count().sort(\"count\", ascending=False).show()"
   ]
  },
  {
   "attachments": {},
   "cell_type": "markdown",
   "metadata": {},
   "source": [
    "All the policy has the same policy_code. Therefore this column will be dropped"
   ]
  },
  {
   "cell_type": "code",
   "execution_count": 17,
   "metadata": {},
   "outputs": [],
   "source": [
    "df = df.drop('policy_code')"
   ]
  },
  {
   "cell_type": "code",
   "execution_count": 18,
   "metadata": {},
   "outputs": [
    {
     "name": "stdout",
     "output_type": "stream",
     "text": [
      "+-----------+------+\n",
      "|default_ind| count|\n",
      "+-----------+------+\n",
      "|          1| 40660|\n",
      "|          0|763414|\n",
      "+-----------+------+\n",
      "\n"
     ]
    }
   ],
   "source": [
    "df.groupBy(df[\"default_ind\"]).count().show()"
   ]
  },
  {
   "attachments": {},
   "cell_type": "markdown",
   "metadata": {},
   "source": [
    "5% of the data are `default`"
   ]
  },
  {
   "attachments": {},
   "cell_type": "markdown",
   "metadata": {},
   "source": [
    "Visualisation of default diagram"
   ]
  },
  {
   "cell_type": "code",
   "execution_count": 19,
   "metadata": {},
   "outputs": [
    {
     "name": "stderr",
     "output_type": "stream",
     "text": [
      "WARNING:root:'PYARROW_IGNORE_TIMEZONE' environment variable was not set. It is required to set this environment variable to '1' in both driver and executor sides if you use pyarrow>=2.0.0. pandas-on-Spark will set it for you but it does not work if there is a Spark context already launched.\n",
      "/home/huukhang1512/.local/lib/python3.9/site-packages/scipy/__init__.py:146: UserWarning: A NumPy version >=1.16.5 and <1.23.0 is required for this version of SciPy (detected version 1.24.3\n",
      "  warnings.warn(f\"A NumPy version >={np_minversion} and <{np_maxversion}\"\n"
     ]
    },
    {
     "data": {
      "application/vnd.plotly.v1+json": {
       "config": {
        "plotlyServerURL": "https://plot.ly"
       },
       "data": [
        {
         "domain": {
          "x": [
           0,
           1
          ],
          "y": [
           0,
           1
          ]
         },
         "hovertemplate": "default_ind=%{label}<br>count=%{value}<extra></extra>",
         "labels": [
          1,
          0
         ],
         "legendgroup": "",
         "name": "",
         "showlegend": true,
         "type": "pie",
         "values": [
          40660,
          763414
         ]
        }
       ],
       "layout": {
        "legend": {
         "tracegroupgap": 0
        },
        "margin": {
         "t": 60
        },
        "template": {
         "data": {
          "bar": [
           {
            "error_x": {
             "color": "#2a3f5f"
            },
            "error_y": {
             "color": "#2a3f5f"
            },
            "marker": {
             "line": {
              "color": "#E5ECF6",
              "width": 0.5
             },
             "pattern": {
              "fillmode": "overlay",
              "size": 10,
              "solidity": 0.2
             }
            },
            "type": "bar"
           }
          ],
          "barpolar": [
           {
            "marker": {
             "line": {
              "color": "#E5ECF6",
              "width": 0.5
             },
             "pattern": {
              "fillmode": "overlay",
              "size": 10,
              "solidity": 0.2
             }
            },
            "type": "barpolar"
           }
          ],
          "carpet": [
           {
            "aaxis": {
             "endlinecolor": "#2a3f5f",
             "gridcolor": "white",
             "linecolor": "white",
             "minorgridcolor": "white",
             "startlinecolor": "#2a3f5f"
            },
            "baxis": {
             "endlinecolor": "#2a3f5f",
             "gridcolor": "white",
             "linecolor": "white",
             "minorgridcolor": "white",
             "startlinecolor": "#2a3f5f"
            },
            "type": "carpet"
           }
          ],
          "choropleth": [
           {
            "colorbar": {
             "outlinewidth": 0,
             "ticks": ""
            },
            "type": "choropleth"
           }
          ],
          "contour": [
           {
            "colorbar": {
             "outlinewidth": 0,
             "ticks": ""
            },
            "colorscale": [
             [
              0,
              "#0d0887"
             ],
             [
              0.1111111111111111,
              "#46039f"
             ],
             [
              0.2222222222222222,
              "#7201a8"
             ],
             [
              0.3333333333333333,
              "#9c179e"
             ],
             [
              0.4444444444444444,
              "#bd3786"
             ],
             [
              0.5555555555555556,
              "#d8576b"
             ],
             [
              0.6666666666666666,
              "#ed7953"
             ],
             [
              0.7777777777777778,
              "#fb9f3a"
             ],
             [
              0.8888888888888888,
              "#fdca26"
             ],
             [
              1,
              "#f0f921"
             ]
            ],
            "type": "contour"
           }
          ],
          "contourcarpet": [
           {
            "colorbar": {
             "outlinewidth": 0,
             "ticks": ""
            },
            "type": "contourcarpet"
           }
          ],
          "heatmap": [
           {
            "colorbar": {
             "outlinewidth": 0,
             "ticks": ""
            },
            "colorscale": [
             [
              0,
              "#0d0887"
             ],
             [
              0.1111111111111111,
              "#46039f"
             ],
             [
              0.2222222222222222,
              "#7201a8"
             ],
             [
              0.3333333333333333,
              "#9c179e"
             ],
             [
              0.4444444444444444,
              "#bd3786"
             ],
             [
              0.5555555555555556,
              "#d8576b"
             ],
             [
              0.6666666666666666,
              "#ed7953"
             ],
             [
              0.7777777777777778,
              "#fb9f3a"
             ],
             [
              0.8888888888888888,
              "#fdca26"
             ],
             [
              1,
              "#f0f921"
             ]
            ],
            "type": "heatmap"
           }
          ],
          "heatmapgl": [
           {
            "colorbar": {
             "outlinewidth": 0,
             "ticks": ""
            },
            "colorscale": [
             [
              0,
              "#0d0887"
             ],
             [
              0.1111111111111111,
              "#46039f"
             ],
             [
              0.2222222222222222,
              "#7201a8"
             ],
             [
              0.3333333333333333,
              "#9c179e"
             ],
             [
              0.4444444444444444,
              "#bd3786"
             ],
             [
              0.5555555555555556,
              "#d8576b"
             ],
             [
              0.6666666666666666,
              "#ed7953"
             ],
             [
              0.7777777777777778,
              "#fb9f3a"
             ],
             [
              0.8888888888888888,
              "#fdca26"
             ],
             [
              1,
              "#f0f921"
             ]
            ],
            "type": "heatmapgl"
           }
          ],
          "histogram": [
           {
            "marker": {
             "pattern": {
              "fillmode": "overlay",
              "size": 10,
              "solidity": 0.2
             }
            },
            "type": "histogram"
           }
          ],
          "histogram2d": [
           {
            "colorbar": {
             "outlinewidth": 0,
             "ticks": ""
            },
            "colorscale": [
             [
              0,
              "#0d0887"
             ],
             [
              0.1111111111111111,
              "#46039f"
             ],
             [
              0.2222222222222222,
              "#7201a8"
             ],
             [
              0.3333333333333333,
              "#9c179e"
             ],
             [
              0.4444444444444444,
              "#bd3786"
             ],
             [
              0.5555555555555556,
              "#d8576b"
             ],
             [
              0.6666666666666666,
              "#ed7953"
             ],
             [
              0.7777777777777778,
              "#fb9f3a"
             ],
             [
              0.8888888888888888,
              "#fdca26"
             ],
             [
              1,
              "#f0f921"
             ]
            ],
            "type": "histogram2d"
           }
          ],
          "histogram2dcontour": [
           {
            "colorbar": {
             "outlinewidth": 0,
             "ticks": ""
            },
            "colorscale": [
             [
              0,
              "#0d0887"
             ],
             [
              0.1111111111111111,
              "#46039f"
             ],
             [
              0.2222222222222222,
              "#7201a8"
             ],
             [
              0.3333333333333333,
              "#9c179e"
             ],
             [
              0.4444444444444444,
              "#bd3786"
             ],
             [
              0.5555555555555556,
              "#d8576b"
             ],
             [
              0.6666666666666666,
              "#ed7953"
             ],
             [
              0.7777777777777778,
              "#fb9f3a"
             ],
             [
              0.8888888888888888,
              "#fdca26"
             ],
             [
              1,
              "#f0f921"
             ]
            ],
            "type": "histogram2dcontour"
           }
          ],
          "mesh3d": [
           {
            "colorbar": {
             "outlinewidth": 0,
             "ticks": ""
            },
            "type": "mesh3d"
           }
          ],
          "parcoords": [
           {
            "line": {
             "colorbar": {
              "outlinewidth": 0,
              "ticks": ""
             }
            },
            "type": "parcoords"
           }
          ],
          "pie": [
           {
            "automargin": true,
            "type": "pie"
           }
          ],
          "scatter": [
           {
            "fillpattern": {
             "fillmode": "overlay",
             "size": 10,
             "solidity": 0.2
            },
            "type": "scatter"
           }
          ],
          "scatter3d": [
           {
            "line": {
             "colorbar": {
              "outlinewidth": 0,
              "ticks": ""
             }
            },
            "marker": {
             "colorbar": {
              "outlinewidth": 0,
              "ticks": ""
             }
            },
            "type": "scatter3d"
           }
          ],
          "scattercarpet": [
           {
            "marker": {
             "colorbar": {
              "outlinewidth": 0,
              "ticks": ""
             }
            },
            "type": "scattercarpet"
           }
          ],
          "scattergeo": [
           {
            "marker": {
             "colorbar": {
              "outlinewidth": 0,
              "ticks": ""
             }
            },
            "type": "scattergeo"
           }
          ],
          "scattergl": [
           {
            "marker": {
             "colorbar": {
              "outlinewidth": 0,
              "ticks": ""
             }
            },
            "type": "scattergl"
           }
          ],
          "scattermapbox": [
           {
            "marker": {
             "colorbar": {
              "outlinewidth": 0,
              "ticks": ""
             }
            },
            "type": "scattermapbox"
           }
          ],
          "scatterpolar": [
           {
            "marker": {
             "colorbar": {
              "outlinewidth": 0,
              "ticks": ""
             }
            },
            "type": "scatterpolar"
           }
          ],
          "scatterpolargl": [
           {
            "marker": {
             "colorbar": {
              "outlinewidth": 0,
              "ticks": ""
             }
            },
            "type": "scatterpolargl"
           }
          ],
          "scatterternary": [
           {
            "marker": {
             "colorbar": {
              "outlinewidth": 0,
              "ticks": ""
             }
            },
            "type": "scatterternary"
           }
          ],
          "surface": [
           {
            "colorbar": {
             "outlinewidth": 0,
             "ticks": ""
            },
            "colorscale": [
             [
              0,
              "#0d0887"
             ],
             [
              0.1111111111111111,
              "#46039f"
             ],
             [
              0.2222222222222222,
              "#7201a8"
             ],
             [
              0.3333333333333333,
              "#9c179e"
             ],
             [
              0.4444444444444444,
              "#bd3786"
             ],
             [
              0.5555555555555556,
              "#d8576b"
             ],
             [
              0.6666666666666666,
              "#ed7953"
             ],
             [
              0.7777777777777778,
              "#fb9f3a"
             ],
             [
              0.8888888888888888,
              "#fdca26"
             ],
             [
              1,
              "#f0f921"
             ]
            ],
            "type": "surface"
           }
          ],
          "table": [
           {
            "cells": {
             "fill": {
              "color": "#EBF0F8"
             },
             "line": {
              "color": "white"
             }
            },
            "header": {
             "fill": {
              "color": "#C8D4E3"
             },
             "line": {
              "color": "white"
             }
            },
            "type": "table"
           }
          ]
         },
         "layout": {
          "annotationdefaults": {
           "arrowcolor": "#2a3f5f",
           "arrowhead": 0,
           "arrowwidth": 1
          },
          "autotypenumbers": "strict",
          "coloraxis": {
           "colorbar": {
            "outlinewidth": 0,
            "ticks": ""
           }
          },
          "colorscale": {
           "diverging": [
            [
             0,
             "#8e0152"
            ],
            [
             0.1,
             "#c51b7d"
            ],
            [
             0.2,
             "#de77ae"
            ],
            [
             0.3,
             "#f1b6da"
            ],
            [
             0.4,
             "#fde0ef"
            ],
            [
             0.5,
             "#f7f7f7"
            ],
            [
             0.6,
             "#e6f5d0"
            ],
            [
             0.7,
             "#b8e186"
            ],
            [
             0.8,
             "#7fbc41"
            ],
            [
             0.9,
             "#4d9221"
            ],
            [
             1,
             "#276419"
            ]
           ],
           "sequential": [
            [
             0,
             "#0d0887"
            ],
            [
             0.1111111111111111,
             "#46039f"
            ],
            [
             0.2222222222222222,
             "#7201a8"
            ],
            [
             0.3333333333333333,
             "#9c179e"
            ],
            [
             0.4444444444444444,
             "#bd3786"
            ],
            [
             0.5555555555555556,
             "#d8576b"
            ],
            [
             0.6666666666666666,
             "#ed7953"
            ],
            [
             0.7777777777777778,
             "#fb9f3a"
            ],
            [
             0.8888888888888888,
             "#fdca26"
            ],
            [
             1,
             "#f0f921"
            ]
           ],
           "sequentialminus": [
            [
             0,
             "#0d0887"
            ],
            [
             0.1111111111111111,
             "#46039f"
            ],
            [
             0.2222222222222222,
             "#7201a8"
            ],
            [
             0.3333333333333333,
             "#9c179e"
            ],
            [
             0.4444444444444444,
             "#bd3786"
            ],
            [
             0.5555555555555556,
             "#d8576b"
            ],
            [
             0.6666666666666666,
             "#ed7953"
            ],
            [
             0.7777777777777778,
             "#fb9f3a"
            ],
            [
             0.8888888888888888,
             "#fdca26"
            ],
            [
             1,
             "#f0f921"
            ]
           ]
          },
          "colorway": [
           "#636efa",
           "#EF553B",
           "#00cc96",
           "#ab63fa",
           "#FFA15A",
           "#19d3f3",
           "#FF6692",
           "#B6E880",
           "#FF97FF",
           "#FECB52"
          ],
          "font": {
           "color": "#2a3f5f"
          },
          "geo": {
           "bgcolor": "white",
           "lakecolor": "white",
           "landcolor": "#E5ECF6",
           "showlakes": true,
           "showland": true,
           "subunitcolor": "white"
          },
          "hoverlabel": {
           "align": "left"
          },
          "hovermode": "closest",
          "mapbox": {
           "style": "light"
          },
          "paper_bgcolor": "white",
          "plot_bgcolor": "#E5ECF6",
          "polar": {
           "angularaxis": {
            "gridcolor": "white",
            "linecolor": "white",
            "ticks": ""
           },
           "bgcolor": "#E5ECF6",
           "radialaxis": {
            "gridcolor": "white",
            "linecolor": "white",
            "ticks": ""
           }
          },
          "scene": {
           "xaxis": {
            "backgroundcolor": "#E5ECF6",
            "gridcolor": "white",
            "gridwidth": 2,
            "linecolor": "white",
            "showbackground": true,
            "ticks": "",
            "zerolinecolor": "white"
           },
           "yaxis": {
            "backgroundcolor": "#E5ECF6",
            "gridcolor": "white",
            "gridwidth": 2,
            "linecolor": "white",
            "showbackground": true,
            "ticks": "",
            "zerolinecolor": "white"
           },
           "zaxis": {
            "backgroundcolor": "#E5ECF6",
            "gridcolor": "white",
            "gridwidth": 2,
            "linecolor": "white",
            "showbackground": true,
            "ticks": "",
            "zerolinecolor": "white"
           }
          },
          "shapedefaults": {
           "line": {
            "color": "#2a3f5f"
           }
          },
          "ternary": {
           "aaxis": {
            "gridcolor": "white",
            "linecolor": "white",
            "ticks": ""
           },
           "baxis": {
            "gridcolor": "white",
            "linecolor": "white",
            "ticks": ""
           },
           "bgcolor": "#E5ECF6",
           "caxis": {
            "gridcolor": "white",
            "linecolor": "white",
            "ticks": ""
           }
          },
          "title": {
           "x": 0.05
          },
          "xaxis": {
           "automargin": true,
           "gridcolor": "white",
           "linecolor": "white",
           "ticks": "",
           "title": {
            "standoff": 15
           },
           "zerolinecolor": "white",
           "zerolinewidth": 2
          },
          "yaxis": {
           "automargin": true,
           "gridcolor": "white",
           "linecolor": "white",
           "ticks": "",
           "title": {
            "standoff": 15
           },
           "zerolinecolor": "white",
           "zerolinewidth": 2
          }
         }
        }
       }
      }
     },
     "metadata": {},
     "output_type": "display_data"
    }
   ],
   "source": [
    "df.groupby(['default_ind']).count().to_pandas_on_spark(index_col='default_ind').plot.pie(y='count')"
   ]
  },
  {
   "attachments": {},
   "cell_type": "markdown",
   "metadata": {},
   "source": [
    "We will need to resample a training data that will have equal distribution (50/50) of default and non-default rows"
   ]
  },
  {
   "cell_type": "code",
   "execution_count": 20,
   "metadata": {},
   "outputs": [
    {
     "name": "stdout",
     "output_type": "stream",
     "text": [
      "+--------------+------+\n",
      "|home_ownership| count|\n",
      "+--------------+------+\n",
      "|           OWN| 80448|\n",
      "|          RENT|320233|\n",
      "|      MORTGAGE|403274|\n",
      "|         OTHER|    81|\n",
      "|          NONE|    35|\n",
      "|           ANY|     3|\n",
      "+--------------+------+\n",
      "\n"
     ]
    }
   ],
   "source": [
    "df.groupby(['home_ownership']).count().show()\n"
   ]
  },
  {
   "attachments": {},
   "cell_type": "markdown",
   "metadata": {},
   "source": [
    "The majority of borrowers are either paying mortgage or renting a home. Around 10% of borrower actually own the house. Lastly, around 0.0148% of borrowers are in the OTHER, NONE, and ANY category. These remaining fields should be consolidate into one as 'OTHER' field."
   ]
  },
  {
   "cell_type": "code",
   "execution_count": 21,
   "metadata": {},
   "outputs": [],
   "source": [
    "df = df.replace(['NONE', 'ANY', '2 years'], 'OTHER', 'home_ownership')"
   ]
  },
  {
   "cell_type": "code",
   "execution_count": 22,
   "metadata": {},
   "outputs": [
    {
     "name": "stdout",
     "output_type": "stream",
     "text": [
      "+--------------+\n",
      "|home_ownership|\n",
      "+--------------+\n",
      "|           OWN|\n",
      "|          RENT|\n",
      "|      MORTGAGE|\n",
      "|         OTHER|\n",
      "+--------------+\n",
      "\n"
     ]
    }
   ],
   "source": [
    "df.select(['home_ownership']).distinct().show()"
   ]
  },
  {
   "cell_type": "code",
   "execution_count": 23,
   "metadata": {},
   "outputs": [
    {
     "data": {
      "application/vnd.plotly.v1+json": {
       "config": {
        "plotlyServerURL": "https://plot.ly"
       },
       "data": [
        {
         "domain": {
          "x": [
           0,
           1
          ],
          "y": [
           0,
           1
          ]
         },
         "hovertemplate": "home_ownership=%{label}<br>count=%{value}<extra></extra>",
         "labels": [
          "OWN",
          "RENT",
          "MORTGAGE",
          "OTHER"
         ],
         "legendgroup": "",
         "name": "",
         "showlegend": true,
         "type": "pie",
         "values": [
          80448,
          320233,
          403274,
          119
         ]
        }
       ],
       "layout": {
        "legend": {
         "tracegroupgap": 0
        },
        "margin": {
         "t": 60
        },
        "template": {
         "data": {
          "bar": [
           {
            "error_x": {
             "color": "#2a3f5f"
            },
            "error_y": {
             "color": "#2a3f5f"
            },
            "marker": {
             "line": {
              "color": "#E5ECF6",
              "width": 0.5
             },
             "pattern": {
              "fillmode": "overlay",
              "size": 10,
              "solidity": 0.2
             }
            },
            "type": "bar"
           }
          ],
          "barpolar": [
           {
            "marker": {
             "line": {
              "color": "#E5ECF6",
              "width": 0.5
             },
             "pattern": {
              "fillmode": "overlay",
              "size": 10,
              "solidity": 0.2
             }
            },
            "type": "barpolar"
           }
          ],
          "carpet": [
           {
            "aaxis": {
             "endlinecolor": "#2a3f5f",
             "gridcolor": "white",
             "linecolor": "white",
             "minorgridcolor": "white",
             "startlinecolor": "#2a3f5f"
            },
            "baxis": {
             "endlinecolor": "#2a3f5f",
             "gridcolor": "white",
             "linecolor": "white",
             "minorgridcolor": "white",
             "startlinecolor": "#2a3f5f"
            },
            "type": "carpet"
           }
          ],
          "choropleth": [
           {
            "colorbar": {
             "outlinewidth": 0,
             "ticks": ""
            },
            "type": "choropleth"
           }
          ],
          "contour": [
           {
            "colorbar": {
             "outlinewidth": 0,
             "ticks": ""
            },
            "colorscale": [
             [
              0,
              "#0d0887"
             ],
             [
              0.1111111111111111,
              "#46039f"
             ],
             [
              0.2222222222222222,
              "#7201a8"
             ],
             [
              0.3333333333333333,
              "#9c179e"
             ],
             [
              0.4444444444444444,
              "#bd3786"
             ],
             [
              0.5555555555555556,
              "#d8576b"
             ],
             [
              0.6666666666666666,
              "#ed7953"
             ],
             [
              0.7777777777777778,
              "#fb9f3a"
             ],
             [
              0.8888888888888888,
              "#fdca26"
             ],
             [
              1,
              "#f0f921"
             ]
            ],
            "type": "contour"
           }
          ],
          "contourcarpet": [
           {
            "colorbar": {
             "outlinewidth": 0,
             "ticks": ""
            },
            "type": "contourcarpet"
           }
          ],
          "heatmap": [
           {
            "colorbar": {
             "outlinewidth": 0,
             "ticks": ""
            },
            "colorscale": [
             [
              0,
              "#0d0887"
             ],
             [
              0.1111111111111111,
              "#46039f"
             ],
             [
              0.2222222222222222,
              "#7201a8"
             ],
             [
              0.3333333333333333,
              "#9c179e"
             ],
             [
              0.4444444444444444,
              "#bd3786"
             ],
             [
              0.5555555555555556,
              "#d8576b"
             ],
             [
              0.6666666666666666,
              "#ed7953"
             ],
             [
              0.7777777777777778,
              "#fb9f3a"
             ],
             [
              0.8888888888888888,
              "#fdca26"
             ],
             [
              1,
              "#f0f921"
             ]
            ],
            "type": "heatmap"
           }
          ],
          "heatmapgl": [
           {
            "colorbar": {
             "outlinewidth": 0,
             "ticks": ""
            },
            "colorscale": [
             [
              0,
              "#0d0887"
             ],
             [
              0.1111111111111111,
              "#46039f"
             ],
             [
              0.2222222222222222,
              "#7201a8"
             ],
             [
              0.3333333333333333,
              "#9c179e"
             ],
             [
              0.4444444444444444,
              "#bd3786"
             ],
             [
              0.5555555555555556,
              "#d8576b"
             ],
             [
              0.6666666666666666,
              "#ed7953"
             ],
             [
              0.7777777777777778,
              "#fb9f3a"
             ],
             [
              0.8888888888888888,
              "#fdca26"
             ],
             [
              1,
              "#f0f921"
             ]
            ],
            "type": "heatmapgl"
           }
          ],
          "histogram": [
           {
            "marker": {
             "pattern": {
              "fillmode": "overlay",
              "size": 10,
              "solidity": 0.2
             }
            },
            "type": "histogram"
           }
          ],
          "histogram2d": [
           {
            "colorbar": {
             "outlinewidth": 0,
             "ticks": ""
            },
            "colorscale": [
             [
              0,
              "#0d0887"
             ],
             [
              0.1111111111111111,
              "#46039f"
             ],
             [
              0.2222222222222222,
              "#7201a8"
             ],
             [
              0.3333333333333333,
              "#9c179e"
             ],
             [
              0.4444444444444444,
              "#bd3786"
             ],
             [
              0.5555555555555556,
              "#d8576b"
             ],
             [
              0.6666666666666666,
              "#ed7953"
             ],
             [
              0.7777777777777778,
              "#fb9f3a"
             ],
             [
              0.8888888888888888,
              "#fdca26"
             ],
             [
              1,
              "#f0f921"
             ]
            ],
            "type": "histogram2d"
           }
          ],
          "histogram2dcontour": [
           {
            "colorbar": {
             "outlinewidth": 0,
             "ticks": ""
            },
            "colorscale": [
             [
              0,
              "#0d0887"
             ],
             [
              0.1111111111111111,
              "#46039f"
             ],
             [
              0.2222222222222222,
              "#7201a8"
             ],
             [
              0.3333333333333333,
              "#9c179e"
             ],
             [
              0.4444444444444444,
              "#bd3786"
             ],
             [
              0.5555555555555556,
              "#d8576b"
             ],
             [
              0.6666666666666666,
              "#ed7953"
             ],
             [
              0.7777777777777778,
              "#fb9f3a"
             ],
             [
              0.8888888888888888,
              "#fdca26"
             ],
             [
              1,
              "#f0f921"
             ]
            ],
            "type": "histogram2dcontour"
           }
          ],
          "mesh3d": [
           {
            "colorbar": {
             "outlinewidth": 0,
             "ticks": ""
            },
            "type": "mesh3d"
           }
          ],
          "parcoords": [
           {
            "line": {
             "colorbar": {
              "outlinewidth": 0,
              "ticks": ""
             }
            },
            "type": "parcoords"
           }
          ],
          "pie": [
           {
            "automargin": true,
            "type": "pie"
           }
          ],
          "scatter": [
           {
            "fillpattern": {
             "fillmode": "overlay",
             "size": 10,
             "solidity": 0.2
            },
            "type": "scatter"
           }
          ],
          "scatter3d": [
           {
            "line": {
             "colorbar": {
              "outlinewidth": 0,
              "ticks": ""
             }
            },
            "marker": {
             "colorbar": {
              "outlinewidth": 0,
              "ticks": ""
             }
            },
            "type": "scatter3d"
           }
          ],
          "scattercarpet": [
           {
            "marker": {
             "colorbar": {
              "outlinewidth": 0,
              "ticks": ""
             }
            },
            "type": "scattercarpet"
           }
          ],
          "scattergeo": [
           {
            "marker": {
             "colorbar": {
              "outlinewidth": 0,
              "ticks": ""
             }
            },
            "type": "scattergeo"
           }
          ],
          "scattergl": [
           {
            "marker": {
             "colorbar": {
              "outlinewidth": 0,
              "ticks": ""
             }
            },
            "type": "scattergl"
           }
          ],
          "scattermapbox": [
           {
            "marker": {
             "colorbar": {
              "outlinewidth": 0,
              "ticks": ""
             }
            },
            "type": "scattermapbox"
           }
          ],
          "scatterpolar": [
           {
            "marker": {
             "colorbar": {
              "outlinewidth": 0,
              "ticks": ""
             }
            },
            "type": "scatterpolar"
           }
          ],
          "scatterpolargl": [
           {
            "marker": {
             "colorbar": {
              "outlinewidth": 0,
              "ticks": ""
             }
            },
            "type": "scatterpolargl"
           }
          ],
          "scatterternary": [
           {
            "marker": {
             "colorbar": {
              "outlinewidth": 0,
              "ticks": ""
             }
            },
            "type": "scatterternary"
           }
          ],
          "surface": [
           {
            "colorbar": {
             "outlinewidth": 0,
             "ticks": ""
            },
            "colorscale": [
             [
              0,
              "#0d0887"
             ],
             [
              0.1111111111111111,
              "#46039f"
             ],
             [
              0.2222222222222222,
              "#7201a8"
             ],
             [
              0.3333333333333333,
              "#9c179e"
             ],
             [
              0.4444444444444444,
              "#bd3786"
             ],
             [
              0.5555555555555556,
              "#d8576b"
             ],
             [
              0.6666666666666666,
              "#ed7953"
             ],
             [
              0.7777777777777778,
              "#fb9f3a"
             ],
             [
              0.8888888888888888,
              "#fdca26"
             ],
             [
              1,
              "#f0f921"
             ]
            ],
            "type": "surface"
           }
          ],
          "table": [
           {
            "cells": {
             "fill": {
              "color": "#EBF0F8"
             },
             "line": {
              "color": "white"
             }
            },
            "header": {
             "fill": {
              "color": "#C8D4E3"
             },
             "line": {
              "color": "white"
             }
            },
            "type": "table"
           }
          ]
         },
         "layout": {
          "annotationdefaults": {
           "arrowcolor": "#2a3f5f",
           "arrowhead": 0,
           "arrowwidth": 1
          },
          "autotypenumbers": "strict",
          "coloraxis": {
           "colorbar": {
            "outlinewidth": 0,
            "ticks": ""
           }
          },
          "colorscale": {
           "diverging": [
            [
             0,
             "#8e0152"
            ],
            [
             0.1,
             "#c51b7d"
            ],
            [
             0.2,
             "#de77ae"
            ],
            [
             0.3,
             "#f1b6da"
            ],
            [
             0.4,
             "#fde0ef"
            ],
            [
             0.5,
             "#f7f7f7"
            ],
            [
             0.6,
             "#e6f5d0"
            ],
            [
             0.7,
             "#b8e186"
            ],
            [
             0.8,
             "#7fbc41"
            ],
            [
             0.9,
             "#4d9221"
            ],
            [
             1,
             "#276419"
            ]
           ],
           "sequential": [
            [
             0,
             "#0d0887"
            ],
            [
             0.1111111111111111,
             "#46039f"
            ],
            [
             0.2222222222222222,
             "#7201a8"
            ],
            [
             0.3333333333333333,
             "#9c179e"
            ],
            [
             0.4444444444444444,
             "#bd3786"
            ],
            [
             0.5555555555555556,
             "#d8576b"
            ],
            [
             0.6666666666666666,
             "#ed7953"
            ],
            [
             0.7777777777777778,
             "#fb9f3a"
            ],
            [
             0.8888888888888888,
             "#fdca26"
            ],
            [
             1,
             "#f0f921"
            ]
           ],
           "sequentialminus": [
            [
             0,
             "#0d0887"
            ],
            [
             0.1111111111111111,
             "#46039f"
            ],
            [
             0.2222222222222222,
             "#7201a8"
            ],
            [
             0.3333333333333333,
             "#9c179e"
            ],
            [
             0.4444444444444444,
             "#bd3786"
            ],
            [
             0.5555555555555556,
             "#d8576b"
            ],
            [
             0.6666666666666666,
             "#ed7953"
            ],
            [
             0.7777777777777778,
             "#fb9f3a"
            ],
            [
             0.8888888888888888,
             "#fdca26"
            ],
            [
             1,
             "#f0f921"
            ]
           ]
          },
          "colorway": [
           "#636efa",
           "#EF553B",
           "#00cc96",
           "#ab63fa",
           "#FFA15A",
           "#19d3f3",
           "#FF6692",
           "#B6E880",
           "#FF97FF",
           "#FECB52"
          ],
          "font": {
           "color": "#2a3f5f"
          },
          "geo": {
           "bgcolor": "white",
           "lakecolor": "white",
           "landcolor": "#E5ECF6",
           "showlakes": true,
           "showland": true,
           "subunitcolor": "white"
          },
          "hoverlabel": {
           "align": "left"
          },
          "hovermode": "closest",
          "mapbox": {
           "style": "light"
          },
          "paper_bgcolor": "white",
          "plot_bgcolor": "#E5ECF6",
          "polar": {
           "angularaxis": {
            "gridcolor": "white",
            "linecolor": "white",
            "ticks": ""
           },
           "bgcolor": "#E5ECF6",
           "radialaxis": {
            "gridcolor": "white",
            "linecolor": "white",
            "ticks": ""
           }
          },
          "scene": {
           "xaxis": {
            "backgroundcolor": "#E5ECF6",
            "gridcolor": "white",
            "gridwidth": 2,
            "linecolor": "white",
            "showbackground": true,
            "ticks": "",
            "zerolinecolor": "white"
           },
           "yaxis": {
            "backgroundcolor": "#E5ECF6",
            "gridcolor": "white",
            "gridwidth": 2,
            "linecolor": "white",
            "showbackground": true,
            "ticks": "",
            "zerolinecolor": "white"
           },
           "zaxis": {
            "backgroundcolor": "#E5ECF6",
            "gridcolor": "white",
            "gridwidth": 2,
            "linecolor": "white",
            "showbackground": true,
            "ticks": "",
            "zerolinecolor": "white"
           }
          },
          "shapedefaults": {
           "line": {
            "color": "#2a3f5f"
           }
          },
          "ternary": {
           "aaxis": {
            "gridcolor": "white",
            "linecolor": "white",
            "ticks": ""
           },
           "baxis": {
            "gridcolor": "white",
            "linecolor": "white",
            "ticks": ""
           },
           "bgcolor": "#E5ECF6",
           "caxis": {
            "gridcolor": "white",
            "linecolor": "white",
            "ticks": ""
           }
          },
          "title": {
           "x": 0.05
          },
          "xaxis": {
           "automargin": true,
           "gridcolor": "white",
           "linecolor": "white",
           "ticks": "",
           "title": {
            "standoff": 15
           },
           "zerolinecolor": "white",
           "zerolinewidth": 2
          },
          "yaxis": {
           "automargin": true,
           "gridcolor": "white",
           "linecolor": "white",
           "ticks": "",
           "title": {
            "standoff": 15
           },
           "zerolinecolor": "white",
           "zerolinewidth": 2
          }
         }
        }
       }
      }
     },
     "metadata": {},
     "output_type": "display_data"
    }
   ],
   "source": [
    "df.groupby(['home_ownership']).count().to_pandas_on_spark(index_col='home_ownership').plot.pie(y='count')"
   ]
  },
  {
   "attachments": {},
   "cell_type": "markdown",
   "metadata": {},
   "source": [
    "Let's check for the default rate among all home ownership types"
   ]
  },
  {
   "cell_type": "code",
   "execution_count": 24,
   "metadata": {},
   "outputs": [
    {
     "name": "stdout",
     "output_type": "stream",
     "text": [
      "+--------------+-----+\n",
      "|home_ownership|count|\n",
      "+--------------+-----+\n",
      "|           OWN| 3699|\n",
      "|          RENT|19203|\n",
      "|      MORTGAGE|17743|\n",
      "|         OTHER|   15|\n",
      "+--------------+-----+\n",
      "\n"
     ]
    }
   ],
   "source": [
    "df.select(['default_ind','home_ownership']).filter(df['default_ind'] == 1).groupby(['home_ownership']).count().show()"
   ]
  },
  {
   "attachments": {},
   "cell_type": "markdown",
   "metadata": {},
   "source": [
    "Tenants/renter seems more likely to default a loan"
   ]
  },
  {
   "cell_type": "code",
   "execution_count": 25,
   "metadata": {},
   "outputs": [
    {
     "name": "stdout",
     "output_type": "stream",
     "text": [
      "+--------------+------+\n",
      "|home_ownership| count|\n",
      "+--------------+------+\n",
      "|           OWN| 76749|\n",
      "|          RENT|301030|\n",
      "|      MORTGAGE|385531|\n",
      "|         OTHER|   104|\n",
      "+--------------+------+\n",
      "\n"
     ]
    }
   ],
   "source": [
    "df.select(['default_ind','home_ownership']).filter(df['default_ind'] == 0).groupby(['home_ownership']).count().show()"
   ]
  },
  {
   "cell_type": "code",
   "execution_count": 26,
   "metadata": {},
   "outputs": [
    {
     "name": "stdout",
     "output_type": "stream",
     "text": [
      "+----------+------+\n",
      "|pymnt_plan| count|\n",
      "+----------+------+\n",
      "|         n|804071|\n",
      "|         y|     3|\n",
      "+----------+------+\n",
      "\n"
     ]
    }
   ],
   "source": [
    "df.select(['pymnt_plan']).groupby(['pymnt_plan']).count().show()"
   ]
  },
  {
   "attachments": {},
   "cell_type": "markdown",
   "metadata": {},
   "source": [
    "Everything in this column is no, except for 3 yes. Therefore this column will be dropped"
   ]
  },
  {
   "cell_type": "code",
   "execution_count": 27,
   "metadata": {},
   "outputs": [],
   "source": [
    "df = df.drop('pymnt_plan')"
   ]
  },
  {
   "cell_type": "code",
   "execution_count": 28,
   "metadata": {},
   "outputs": [
    {
     "name": "stdout",
     "output_type": "stream",
     "text": [
      "+---------+-----------+---------------+----------+--------+-----------+-----+---------+----------+--------------+----------+-------------------+------------------+-----+-----------+--------------+----------------------+----------------------+--------+-------+---------+----------+---------+-------------------+---------+-------------+-----------+---------------+---------------+-------------+------------------+----------+-----------------------+---------------+--------------------------+---------------------------+----------------+----------------+---------+-------------------------+--------------+------------+-----------+-----------+----------+-----------+-----------+------------------+------------+-------+-----------+-----------+----------+--------+----------------+------+-----------+------------+-----------+\n",
      "|loan_amnt|funded_amnt|funded_amnt_inv|      term|int_rate|installment|grade|sub_grade|emp_length|home_ownership|annual_inc|verification_status|           purpose|  dti|delinq_2yrs|inq_last_6mths|mths_since_last_delinq|mths_since_last_record|open_acc|pub_rec|revol_bal|revol_util|total_acc|initial_list_status|out_prncp|out_prncp_inv|total_pymnt|total_pymnt_inv|total_rec_prncp|total_rec_int|total_rec_late_fee|recoveries|collection_recovery_fee|last_pymnt_amnt|collections_12_mths_ex_med|mths_since_last_major_derog|application_type|annual_inc_joint|dti_joint|verification_status_joint|acc_now_delinq|tot_coll_amt|tot_cur_bal|open_acc_6m|open_il_6m|open_il_12m|open_il_24m|mths_since_rcnt_il|total_bal_il|il_util|open_rv_12m|open_rv_24m|max_bal_bc|all_util|total_rev_hi_lim|inq_fi|total_cu_tl|inq_last_12m|default_ind|\n",
      "+---------+-----------+---------------+----------+--------+-----------+-----+---------+----------+--------------+----------+-------------------+------------------+-----+-----------+--------------+----------------------+----------------------+--------+-------+---------+----------+---------+-------------------+---------+-------------+-----------+---------------+---------------+-------------+------------------+----------+-----------------------+---------------+--------------------------+---------------------------+----------------+----------------+---------+-------------------------+--------------+------------+-----------+-----------+----------+-----------+-----------+------------------+------------+-------+-----------+-----------+----------+--------+----------------+------+-----------+------------+-----------+\n",
      "|     5000|       5000|         4975.0| 36 months|   10.65|     162.87|    B|       B2| 10+ years|          RENT|   24000.0|           Verified|       credit_card|27.65|          0|             1|                  null|                  null|       3|      0|    13648|      83.7|        9|                  f|      0.0|          0.0|5861.071414|        5831.78|         5000.0|       861.07|               0.0|       0.0|                    0.0|         171.62|                         0|                       null|      INDIVIDUAL|            null|     null|                     null|             0|        null|       null|       null|      null|       null|       null|              null|        null|   null|       null|       null|      null|    null|            null|  null|       null|        null|          0|\n",
      "|     2500|       2500|         2500.0| 60 months|   15.27|      59.83|    C|       C4|  < 1 year|          RENT|   30000.0|    Source Verified|               car|  1.0|          0|             5|                  null|                  null|       3|      0|     1687|       9.4|        4|                  f|      0.0|          0.0|    1008.71|        1008.71|         456.46|       435.17|               0.0|    117.08|                   1.11|         119.66|                         0|                       null|      INDIVIDUAL|            null|     null|                     null|             0|        null|       null|       null|      null|       null|       null|              null|        null|   null|       null|       null|      null|    null|            null|  null|       null|        null|          1|\n",
      "|     2400|       2400|         2400.0| 36 months|   15.96|      84.33|    C|       C5| 10+ years|          RENT|   12252.0|       Not Verified|    small_business| 8.72|          0|             2|                  null|                  null|       2|      0|     2956|      98.5|       10|                  f|      0.0|          0.0|3003.653644|        3003.65|         2400.0|       603.65|               0.0|       0.0|                    0.0|         649.91|                         0|                       null|      INDIVIDUAL|            null|     null|                     null|             0|        null|       null|       null|      null|       null|       null|              null|        null|   null|       null|       null|      null|    null|            null|  null|       null|        null|          0|\n",
      "|     5000|       5000|         5000.0| 36 months|     7.9|     156.46|    A|       A4|   3 years|          RENT|   36000.0|    Source Verified|           wedding| 11.2|          0|             3|                  null|                  null|       9|      0|     7963|      28.3|       12|                  f|      0.0|          0.0|5631.377753|        5631.38|         5000.0|       631.38|               0.0|       0.0|                    0.0|         161.03|                         0|                       null|      INDIVIDUAL|            null|     null|                     null|             0|        null|       null|       null|      null|       null|       null|              null|        null|   null|       null|       null|      null|    null|            null|  null|       null|        null|          0|\n",
      "|     3000|       3000|         3000.0| 36 months|   18.64|     109.43|    E|       E1|   9 years|          RENT|   48000.0|    Source Verified|               car| 5.35|          0|             2|                  null|                  null|       4|      0|     8221|      87.5|        4|                  f|      0.0|          0.0|3938.144334|        3938.14|         3000.0|       938.14|               0.0|       0.0|                    0.0|         111.34|                         0|                       null|      INDIVIDUAL|            null|     null|                     null|             0|        null|       null|       null|      null|       null|       null|              null|        null|   null|       null|       null|      null|    null|            null|  null|       null|        null|          0|\n",
      "|     5600|       5600|         5600.0| 60 months|   21.28|     152.39|    F|       F2|   4 years|           OWN|   40000.0|    Source Verified|    small_business| 5.55|          0|             2|                  null|                  null|      11|      0|     5210|      32.6|       13|                  f|      0.0|          0.0|     646.02|         646.02|         162.02|       294.94|               0.0|    189.06|                   2.09|         152.39|                         0|                       null|      INDIVIDUAL|            null|     null|                     null|             0|        null|       null|       null|      null|       null|       null|              null|        null|   null|       null|       null|      null|    null|            null|  null|       null|        null|          1|\n",
      "|    12000|      12000|        12000.0| 36 months|   12.69|     402.54|    B|       B5| 10+ years|           OWN|   75000.0|    Source Verified|debt_consolidation|10.78|          0|             0|                  null|                  null|      12|      0|    23336|      67.1|       34|                  f|      0.0|          0.0|   13943.08|       13943.08|        12000.0|      1943.08|               0.0|       0.0|                    0.0|         6315.3|                         0|                       null|      INDIVIDUAL|            null|     null|                     null|             0|        null|       null|       null|      null|       null|       null|              null|        null|   null|       null|       null|      null|    null|            null|  null|       null|        null|          0|\n",
      "|     9000|       9000|         9000.0| 36 months|   13.49|     305.38|    C|       C1|  < 1 year|          RENT|   30000.0|    Source Verified|debt_consolidation|10.08|          0|             1|                  null|                  null|       4|      0|    10452|      91.7|        9|                  f|      0.0|          0.0|     2270.7|         2270.7|        1256.14|       570.26|               0.0|     444.3|                   4.16|         305.38|                         0|                       null|      INDIVIDUAL|            null|     null|                     null|             0|        null|       null|       null|      null|       null|       null|              null|        null|   null|       null|       null|      null|    null|            null|  null|       null|        null|          1|\n",
      "|    10000|      10000|        10000.0| 36 months|   10.65|     325.74|    B|       B2|   3 years|          RENT|  100000.0|    Source Verified|             other| 7.06|          0|             2|                  null|                  null|      14|      0|    11997|      55.5|       29|                  f|      0.0|          0.0|    7471.99|        7471.99|        5433.47|      1393.42|               0.0|     645.1|                 6.3145|         325.74|                         0|                       null|      INDIVIDUAL|            null|     null|                     null|             0|        null|       null|       null|      null|       null|       null|              null|        null|   null|       null|       null|      null|    null|            null|  null|       null|        null|          1|\n",
      "|     1000|       1000|         1000.0| 36 months|   16.29|      35.31|    D|       D1|  < 1 year|          RENT|   28000.0|       Not Verified|debt_consolidation|20.31|          0|             1|                  null|                  null|      11|      0|     6524|      81.5|       23|                  f|      0.0|          0.0|1270.171106|        1270.17|         1000.0|       270.17|               0.0|       0.0|                    0.0|          36.32|                         0|                       null|      INDIVIDUAL|            null|     null|                     null|             0|        null|       null|       null|      null|       null|       null|              null|        null|   null|       null|       null|      null|    null|            null|  null|       null|        null|          0|\n",
      "|    10000|      10000|        10000.0| 36 months|   15.27|     347.98|    C|       C4|   4 years|          RENT|   42000.0|       Not Verified|  home_improvement| 18.6|          0|             2|                    61|                  null|      14|      0|    24043|      70.2|       28|                  f|      0.0|          0.0|12519.26045|       12519.26|        10000.0|      2519.26|               0.0|       0.0|                    0.0|         370.46|                         0|                       null|      INDIVIDUAL|            null|     null|                     null|             0|        null|       null|       null|      null|       null|       null|              null|        null|   null|       null|       null|      null|    null|            null|  null|       null|        null|          0|\n",
      "|     3600|       3600|         3600.0| 36 months|    6.03|     109.57|    A|       A1| 10+ years|      MORTGAGE|  110000.0|       Not Verified|    major_purchase|10.52|          0|             0|                  null|                  null|      20|      0|    22836|      16.0|       42|                  f|      0.0|          0.0|    3785.02|        3785.02|         3600.0|       185.02|               0.0|       0.0|                    0.0|         583.45|                         0|                       null|      INDIVIDUAL|            null|     null|                     null|             0|        null|       null|       null|      null|       null|       null|              null|        null|   null|       null|       null|      null|    null|            null|  null|       null|        null|          0|\n",
      "|     6000|       6000|         6000.0| 36 months|   11.71|     198.46|    B|       B3|    1 year|      MORTGAGE|   84000.0|           Verified|           medical|18.44|          2|             0|                     8|                  null|       4|      0|        0|     37.73|       14|                  f|      0.0|          0.0|7164.499852|         7164.5|         6000.0|       1149.5|              15.0|       0.0|                    0.0|          16.98|                         0|                       null|      INDIVIDUAL|            null|     null|                     null|             0|        null|       null|       null|      null|       null|       null|              null|        null|   null|       null|       null|      null|    null|            null|  null|       null|        null|          0|\n",
      "|     9200|       9200|         9200.0| 36 months|    6.03|     280.01|    A|       A1|   6 years|          RENT|  77385.19|       Not Verified|debt_consolidation| 9.86|          0|             0|                  null|                  null|       8|      0|     7314|      23.1|       28|                  f|      0.0|          0.0|    9459.96|        9459.96|         9200.0|       259.96|               0.0|       0.0|                    0.0|         8061.1|                         0|                       null|      INDIVIDUAL|            null|     null|                     null|             0|        null|       null|       null|      null|       null|       null|              null|        null|   null|       null|       null|      null|    null|            null|  null|       null|        null|          0|\n",
      "|    21000|      21000|        21000.0| 36 months|   12.42|     701.73|    B|       B4| 10+ years|          RENT|  105000.0|           Verified|debt_consolidation|13.22|          0|             0|                  null|                  null|       7|      0|    32135|      90.3|       38|                  f|      0.0|          0.0|    14025.4|        14025.4|       10694.96|      3330.44|               0.0|       0.0|                    0.0|         701.73|                         0|                       null|      INDIVIDUAL|            null|     null|                     null|             0|        null|       null|       null|      null|       null|       null|              null|        null|   null|       null|       null|      null|    null|            null|  null|       null|        null|          1|\n",
      "|    10000|      10000|        10000.0| 36 months|   11.71|     330.76|    B|       B3|   5 years|          RENT|   50000.0|       Not Verified|debt_consolidation|16.01|          0|             0|                  null|                  null|       6|      0|    17800|      91.8|       17|                  f|      0.0|          0.0|   11536.31|       11536.31|        10000.0|      1536.31|               0.0|       0.0|                    0.0|        4942.63|                         0|                       null|      INDIVIDUAL|            null|     null|                     null|             0|        null|       null|       null|      null|       null|       null|              null|        null|   null|       null|       null|      null|    null|            null|  null|       null|        null|          0|\n",
      "|     6000|       6000|         6000.0| 36 months|   11.71|     198.46|    B|       B3|    1 year|          RENT|   76000.0|       Not Verified|    major_purchase|  2.4|          0|             1|                  null|                  null|       7|      0|     5963|      29.7|        7|                  f|      0.0|          0.0|    2050.14|        2050.14|        1305.58|       475.25|               0.0|    269.31|                   2.57|         198.46|                         0|                       null|      INDIVIDUAL|            null|     null|                     null|             0|        null|       null|       null|      null|       null|       null|              null|        null|   null|       null|       null|      null|    null|            null|  null|       null|        null|          1|\n",
      "|    15000|      15000|        15000.0| 36 months|    9.91|     483.38|    B|       B1|   2 years|      MORTGAGE|   92000.0|           Verified|       credit_card|29.44|          0|             0|                  null|                  null|       8|      0|    13707|      93.9|       31|                  f|      0.0|          0.0|   15823.48|       15823.48|        15000.0|       823.48|               0.0|       0.0|                    0.0|        2447.05|                         0|                       null|      INDIVIDUAL|            null|     null|                     null|             0|        null|       null|       null|      null|       null|       null|              null|        null|   null|       null|       null|      null|    null|            null|  null|       null|        null|          0|\n",
      "|    15000|      15000|         8725.0| 36 months|   14.27|     514.64|    C|       C2|   9 years|          RENT|   60000.0|       Not Verified|debt_consolidation|15.22|          0|             1|                  null|                  null|       7|      0|     5872|      57.6|       11|                  f|      0.0|          0.0|        0.0|            0.0|            0.0|          0.0|               0.0|       0.0|                    0.0|            0.0|                         0|                       null|      INDIVIDUAL|            null|     null|                     null|             0|        null|       null|       null|      null|       null|       null|              null|        null|   null|       null|       null|      null|    null|            null|  null|       null|        null|          1|\n",
      "|     5000|       5000|         5000.0| 60 months|   16.77|     123.65|    D|       D2|   2 years|          RENT|   50004.0|       Not Verified|             other|13.97|          3|             0|                    20|                  null|      14|      0|     4345|      59.5|       22|                  f|      0.0|          0.0|    1609.12|        1609.12|         629.05|       719.11|               0.0|    260.96|                    2.3|         123.65|                         0|                       null|      INDIVIDUAL|            null|     null|                     null|             0|        null|       null|       null|      null|       null|       null|              null|        null|   null|       null|       null|      null|    null|            null|  null|       null|        null|          1|\n",
      "+---------+-----------+---------------+----------+--------+-----------+-----+---------+----------+--------------+----------+-------------------+------------------+-----+-----------+--------------+----------------------+----------------------+--------+-------+---------+----------+---------+-------------------+---------+-------------+-----------+---------------+---------------+-------------+------------------+----------+-----------------------+---------------+--------------------------+---------------------------+----------------+----------------+---------+-------------------------+--------------+------------+-----------+-----------+----------+-----------+-----------+------------------+------------+-------+-----------+-----------+----------+--------+----------------+------+-----------+------------+-----------+\n",
      "only showing top 20 rows\n",
      "\n"
     ]
    }
   ],
   "source": [
    "df.show()"
   ]
  },
  {
   "cell_type": "code",
   "execution_count": 29,
   "metadata": {},
   "outputs": [
    {
     "data": {
      "application/vnd.plotly.v1+json": {
       "config": {
        "plotlyServerURL": "https://plot.ly"
       },
       "data": [
        {
         "domain": {
          "x": [
           0,
           1
          ],
          "y": [
           0,
           1
          ]
         },
         "hovertemplate": "initial_list_status=%{label}<br>count=%{value}<extra></extra>",
         "labels": [
          "f",
          "w"
         ],
         "legendgroup": "",
         "name": "",
         "showlegend": true,
         "type": "pie",
         "values": [
          399327,
          404747
         ]
        }
       ],
       "layout": {
        "legend": {
         "tracegroupgap": 0
        },
        "margin": {
         "t": 60
        },
        "template": {
         "data": {
          "bar": [
           {
            "error_x": {
             "color": "#2a3f5f"
            },
            "error_y": {
             "color": "#2a3f5f"
            },
            "marker": {
             "line": {
              "color": "#E5ECF6",
              "width": 0.5
             },
             "pattern": {
              "fillmode": "overlay",
              "size": 10,
              "solidity": 0.2
             }
            },
            "type": "bar"
           }
          ],
          "barpolar": [
           {
            "marker": {
             "line": {
              "color": "#E5ECF6",
              "width": 0.5
             },
             "pattern": {
              "fillmode": "overlay",
              "size": 10,
              "solidity": 0.2
             }
            },
            "type": "barpolar"
           }
          ],
          "carpet": [
           {
            "aaxis": {
             "endlinecolor": "#2a3f5f",
             "gridcolor": "white",
             "linecolor": "white",
             "minorgridcolor": "white",
             "startlinecolor": "#2a3f5f"
            },
            "baxis": {
             "endlinecolor": "#2a3f5f",
             "gridcolor": "white",
             "linecolor": "white",
             "minorgridcolor": "white",
             "startlinecolor": "#2a3f5f"
            },
            "type": "carpet"
           }
          ],
          "choropleth": [
           {
            "colorbar": {
             "outlinewidth": 0,
             "ticks": ""
            },
            "type": "choropleth"
           }
          ],
          "contour": [
           {
            "colorbar": {
             "outlinewidth": 0,
             "ticks": ""
            },
            "colorscale": [
             [
              0,
              "#0d0887"
             ],
             [
              0.1111111111111111,
              "#46039f"
             ],
             [
              0.2222222222222222,
              "#7201a8"
             ],
             [
              0.3333333333333333,
              "#9c179e"
             ],
             [
              0.4444444444444444,
              "#bd3786"
             ],
             [
              0.5555555555555556,
              "#d8576b"
             ],
             [
              0.6666666666666666,
              "#ed7953"
             ],
             [
              0.7777777777777778,
              "#fb9f3a"
             ],
             [
              0.8888888888888888,
              "#fdca26"
             ],
             [
              1,
              "#f0f921"
             ]
            ],
            "type": "contour"
           }
          ],
          "contourcarpet": [
           {
            "colorbar": {
             "outlinewidth": 0,
             "ticks": ""
            },
            "type": "contourcarpet"
           }
          ],
          "heatmap": [
           {
            "colorbar": {
             "outlinewidth": 0,
             "ticks": ""
            },
            "colorscale": [
             [
              0,
              "#0d0887"
             ],
             [
              0.1111111111111111,
              "#46039f"
             ],
             [
              0.2222222222222222,
              "#7201a8"
             ],
             [
              0.3333333333333333,
              "#9c179e"
             ],
             [
              0.4444444444444444,
              "#bd3786"
             ],
             [
              0.5555555555555556,
              "#d8576b"
             ],
             [
              0.6666666666666666,
              "#ed7953"
             ],
             [
              0.7777777777777778,
              "#fb9f3a"
             ],
             [
              0.8888888888888888,
              "#fdca26"
             ],
             [
              1,
              "#f0f921"
             ]
            ],
            "type": "heatmap"
           }
          ],
          "heatmapgl": [
           {
            "colorbar": {
             "outlinewidth": 0,
             "ticks": ""
            },
            "colorscale": [
             [
              0,
              "#0d0887"
             ],
             [
              0.1111111111111111,
              "#46039f"
             ],
             [
              0.2222222222222222,
              "#7201a8"
             ],
             [
              0.3333333333333333,
              "#9c179e"
             ],
             [
              0.4444444444444444,
              "#bd3786"
             ],
             [
              0.5555555555555556,
              "#d8576b"
             ],
             [
              0.6666666666666666,
              "#ed7953"
             ],
             [
              0.7777777777777778,
              "#fb9f3a"
             ],
             [
              0.8888888888888888,
              "#fdca26"
             ],
             [
              1,
              "#f0f921"
             ]
            ],
            "type": "heatmapgl"
           }
          ],
          "histogram": [
           {
            "marker": {
             "pattern": {
              "fillmode": "overlay",
              "size": 10,
              "solidity": 0.2
             }
            },
            "type": "histogram"
           }
          ],
          "histogram2d": [
           {
            "colorbar": {
             "outlinewidth": 0,
             "ticks": ""
            },
            "colorscale": [
             [
              0,
              "#0d0887"
             ],
             [
              0.1111111111111111,
              "#46039f"
             ],
             [
              0.2222222222222222,
              "#7201a8"
             ],
             [
              0.3333333333333333,
              "#9c179e"
             ],
             [
              0.4444444444444444,
              "#bd3786"
             ],
             [
              0.5555555555555556,
              "#d8576b"
             ],
             [
              0.6666666666666666,
              "#ed7953"
             ],
             [
              0.7777777777777778,
              "#fb9f3a"
             ],
             [
              0.8888888888888888,
              "#fdca26"
             ],
             [
              1,
              "#f0f921"
             ]
            ],
            "type": "histogram2d"
           }
          ],
          "histogram2dcontour": [
           {
            "colorbar": {
             "outlinewidth": 0,
             "ticks": ""
            },
            "colorscale": [
             [
              0,
              "#0d0887"
             ],
             [
              0.1111111111111111,
              "#46039f"
             ],
             [
              0.2222222222222222,
              "#7201a8"
             ],
             [
              0.3333333333333333,
              "#9c179e"
             ],
             [
              0.4444444444444444,
              "#bd3786"
             ],
             [
              0.5555555555555556,
              "#d8576b"
             ],
             [
              0.6666666666666666,
              "#ed7953"
             ],
             [
              0.7777777777777778,
              "#fb9f3a"
             ],
             [
              0.8888888888888888,
              "#fdca26"
             ],
             [
              1,
              "#f0f921"
             ]
            ],
            "type": "histogram2dcontour"
           }
          ],
          "mesh3d": [
           {
            "colorbar": {
             "outlinewidth": 0,
             "ticks": ""
            },
            "type": "mesh3d"
           }
          ],
          "parcoords": [
           {
            "line": {
             "colorbar": {
              "outlinewidth": 0,
              "ticks": ""
             }
            },
            "type": "parcoords"
           }
          ],
          "pie": [
           {
            "automargin": true,
            "type": "pie"
           }
          ],
          "scatter": [
           {
            "fillpattern": {
             "fillmode": "overlay",
             "size": 10,
             "solidity": 0.2
            },
            "type": "scatter"
           }
          ],
          "scatter3d": [
           {
            "line": {
             "colorbar": {
              "outlinewidth": 0,
              "ticks": ""
             }
            },
            "marker": {
             "colorbar": {
              "outlinewidth": 0,
              "ticks": ""
             }
            },
            "type": "scatter3d"
           }
          ],
          "scattercarpet": [
           {
            "marker": {
             "colorbar": {
              "outlinewidth": 0,
              "ticks": ""
             }
            },
            "type": "scattercarpet"
           }
          ],
          "scattergeo": [
           {
            "marker": {
             "colorbar": {
              "outlinewidth": 0,
              "ticks": ""
             }
            },
            "type": "scattergeo"
           }
          ],
          "scattergl": [
           {
            "marker": {
             "colorbar": {
              "outlinewidth": 0,
              "ticks": ""
             }
            },
            "type": "scattergl"
           }
          ],
          "scattermapbox": [
           {
            "marker": {
             "colorbar": {
              "outlinewidth": 0,
              "ticks": ""
             }
            },
            "type": "scattermapbox"
           }
          ],
          "scatterpolar": [
           {
            "marker": {
             "colorbar": {
              "outlinewidth": 0,
              "ticks": ""
             }
            },
            "type": "scatterpolar"
           }
          ],
          "scatterpolargl": [
           {
            "marker": {
             "colorbar": {
              "outlinewidth": 0,
              "ticks": ""
             }
            },
            "type": "scatterpolargl"
           }
          ],
          "scatterternary": [
           {
            "marker": {
             "colorbar": {
              "outlinewidth": 0,
              "ticks": ""
             }
            },
            "type": "scatterternary"
           }
          ],
          "surface": [
           {
            "colorbar": {
             "outlinewidth": 0,
             "ticks": ""
            },
            "colorscale": [
             [
              0,
              "#0d0887"
             ],
             [
              0.1111111111111111,
              "#46039f"
             ],
             [
              0.2222222222222222,
              "#7201a8"
             ],
             [
              0.3333333333333333,
              "#9c179e"
             ],
             [
              0.4444444444444444,
              "#bd3786"
             ],
             [
              0.5555555555555556,
              "#d8576b"
             ],
             [
              0.6666666666666666,
              "#ed7953"
             ],
             [
              0.7777777777777778,
              "#fb9f3a"
             ],
             [
              0.8888888888888888,
              "#fdca26"
             ],
             [
              1,
              "#f0f921"
             ]
            ],
            "type": "surface"
           }
          ],
          "table": [
           {
            "cells": {
             "fill": {
              "color": "#EBF0F8"
             },
             "line": {
              "color": "white"
             }
            },
            "header": {
             "fill": {
              "color": "#C8D4E3"
             },
             "line": {
              "color": "white"
             }
            },
            "type": "table"
           }
          ]
         },
         "layout": {
          "annotationdefaults": {
           "arrowcolor": "#2a3f5f",
           "arrowhead": 0,
           "arrowwidth": 1
          },
          "autotypenumbers": "strict",
          "coloraxis": {
           "colorbar": {
            "outlinewidth": 0,
            "ticks": ""
           }
          },
          "colorscale": {
           "diverging": [
            [
             0,
             "#8e0152"
            ],
            [
             0.1,
             "#c51b7d"
            ],
            [
             0.2,
             "#de77ae"
            ],
            [
             0.3,
             "#f1b6da"
            ],
            [
             0.4,
             "#fde0ef"
            ],
            [
             0.5,
             "#f7f7f7"
            ],
            [
             0.6,
             "#e6f5d0"
            ],
            [
             0.7,
             "#b8e186"
            ],
            [
             0.8,
             "#7fbc41"
            ],
            [
             0.9,
             "#4d9221"
            ],
            [
             1,
             "#276419"
            ]
           ],
           "sequential": [
            [
             0,
             "#0d0887"
            ],
            [
             0.1111111111111111,
             "#46039f"
            ],
            [
             0.2222222222222222,
             "#7201a8"
            ],
            [
             0.3333333333333333,
             "#9c179e"
            ],
            [
             0.4444444444444444,
             "#bd3786"
            ],
            [
             0.5555555555555556,
             "#d8576b"
            ],
            [
             0.6666666666666666,
             "#ed7953"
            ],
            [
             0.7777777777777778,
             "#fb9f3a"
            ],
            [
             0.8888888888888888,
             "#fdca26"
            ],
            [
             1,
             "#f0f921"
            ]
           ],
           "sequentialminus": [
            [
             0,
             "#0d0887"
            ],
            [
             0.1111111111111111,
             "#46039f"
            ],
            [
             0.2222222222222222,
             "#7201a8"
            ],
            [
             0.3333333333333333,
             "#9c179e"
            ],
            [
             0.4444444444444444,
             "#bd3786"
            ],
            [
             0.5555555555555556,
             "#d8576b"
            ],
            [
             0.6666666666666666,
             "#ed7953"
            ],
            [
             0.7777777777777778,
             "#fb9f3a"
            ],
            [
             0.8888888888888888,
             "#fdca26"
            ],
            [
             1,
             "#f0f921"
            ]
           ]
          },
          "colorway": [
           "#636efa",
           "#EF553B",
           "#00cc96",
           "#ab63fa",
           "#FFA15A",
           "#19d3f3",
           "#FF6692",
           "#B6E880",
           "#FF97FF",
           "#FECB52"
          ],
          "font": {
           "color": "#2a3f5f"
          },
          "geo": {
           "bgcolor": "white",
           "lakecolor": "white",
           "landcolor": "#E5ECF6",
           "showlakes": true,
           "showland": true,
           "subunitcolor": "white"
          },
          "hoverlabel": {
           "align": "left"
          },
          "hovermode": "closest",
          "mapbox": {
           "style": "light"
          },
          "paper_bgcolor": "white",
          "plot_bgcolor": "#E5ECF6",
          "polar": {
           "angularaxis": {
            "gridcolor": "white",
            "linecolor": "white",
            "ticks": ""
           },
           "bgcolor": "#E5ECF6",
           "radialaxis": {
            "gridcolor": "white",
            "linecolor": "white",
            "ticks": ""
           }
          },
          "scene": {
           "xaxis": {
            "backgroundcolor": "#E5ECF6",
            "gridcolor": "white",
            "gridwidth": 2,
            "linecolor": "white",
            "showbackground": true,
            "ticks": "",
            "zerolinecolor": "white"
           },
           "yaxis": {
            "backgroundcolor": "#E5ECF6",
            "gridcolor": "white",
            "gridwidth": 2,
            "linecolor": "white",
            "showbackground": true,
            "ticks": "",
            "zerolinecolor": "white"
           },
           "zaxis": {
            "backgroundcolor": "#E5ECF6",
            "gridcolor": "white",
            "gridwidth": 2,
            "linecolor": "white",
            "showbackground": true,
            "ticks": "",
            "zerolinecolor": "white"
           }
          },
          "shapedefaults": {
           "line": {
            "color": "#2a3f5f"
           }
          },
          "ternary": {
           "aaxis": {
            "gridcolor": "white",
            "linecolor": "white",
            "ticks": ""
           },
           "baxis": {
            "gridcolor": "white",
            "linecolor": "white",
            "ticks": ""
           },
           "bgcolor": "#E5ECF6",
           "caxis": {
            "gridcolor": "white",
            "linecolor": "white",
            "ticks": ""
           }
          },
          "title": {
           "x": 0.05
          },
          "xaxis": {
           "automargin": true,
           "gridcolor": "white",
           "linecolor": "white",
           "ticks": "",
           "title": {
            "standoff": 15
           },
           "zerolinecolor": "white",
           "zerolinewidth": 2
          },
          "yaxis": {
           "automargin": true,
           "gridcolor": "white",
           "linecolor": "white",
           "ticks": "",
           "title": {
            "standoff": 15
           },
           "zerolinecolor": "white",
           "zerolinewidth": 2
          }
         }
        }
       }
      }
     },
     "metadata": {},
     "output_type": "display_data"
    }
   ],
   "source": [
    "df.select(['initial_list_status']).groupby(['initial_list_status']).count().to_pandas_on_spark(index_col='initial_list_status').plot.pie(y='count')"
   ]
  },
  {
   "cell_type": "code",
   "execution_count": 30,
   "metadata": {},
   "outputs": [
    {
     "name": "stdout",
     "output_type": "stream",
     "text": [
      "+-----------+---------------+\n",
      "|funded_amnt|funded_amnt_inv|\n",
      "+-----------+---------------+\n",
      "|       5000|         4975.0|\n",
      "|       2500|         2500.0|\n",
      "|       2400|         2400.0|\n",
      "|       5000|         5000.0|\n",
      "|       3000|         3000.0|\n",
      "+-----------+---------------+\n",
      "only showing top 5 rows\n",
      "\n"
     ]
    }
   ],
   "source": [
    "df.select('funded_amnt', 'funded_amnt_inv').show(5)"
   ]
  },
  {
   "cell_type": "code",
   "execution_count": 31,
   "metadata": {},
   "outputs": [
    {
     "data": {
      "text/plain": [
       "722842"
      ]
     },
     "execution_count": 31,
     "metadata": {},
     "output_type": "execute_result"
    }
   ],
   "source": [
    "df.select('funded_amnt', 'funded_amnt_inv').filter(df['funded_amnt'] == df['funded_amnt_inv']).count()"
   ]
  },
  {
   "cell_type": "code",
   "execution_count": 32,
   "metadata": {},
   "outputs": [
    {
     "data": {
      "text/plain": [
       "81232"
      ]
     },
     "execution_count": 32,
     "metadata": {},
     "output_type": "execute_result"
    }
   ],
   "source": [
    "df.select('funded_amnt', 'funded_amnt_inv').filter(df['funded_amnt'] > df['funded_amnt_inv']).count()"
   ]
  },
  {
   "cell_type": "code",
   "execution_count": 33,
   "metadata": {},
   "outputs": [
    {
     "data": {
      "text/plain": [
       "755007"
      ]
     },
     "execution_count": 33,
     "metadata": {},
     "output_type": "execute_result"
    }
   ],
   "source": [
    "df.select('out_prncp', 'out_prncp_inv').filter(df['out_prncp'] == df['out_prncp_inv']).count()"
   ]
  },
  {
   "attachments": {},
   "cell_type": "markdown",
   "metadata": {},
   "source": [
    "The majority of the `funded_amnt_inv` and `out_prncp_inv` seems to be identical with the `funded_amnt` and `out_prncp` respectively. Therefore these two columns will be removed"
   ]
  },
  {
   "cell_type": "code",
   "execution_count": 34,
   "metadata": {},
   "outputs": [],
   "source": [
    "df = df.drop('funded_amnt_inv', 'out_prncp_inv')"
   ]
  },
  {
   "cell_type": "code",
   "execution_count": 35,
   "metadata": {},
   "outputs": [
    {
     "name": "stdout",
     "output_type": "stream",
     "text": [
      "+---------+-----------+----------+--------+-----------+-----+---------+----------+--------------+----------+-------------------+--------------+-----+-----------+--------------+----------------------+----------------------+--------+-------+---------+----------+---------+-------------------+---------+-----------+---------------+---------------+-------------+------------------+----------+-----------------------+---------------+--------------------------+---------------------------+----------------+----------------+---------+-------------------------+--------------+------------+-----------+-----------+----------+-----------+-----------+------------------+------------+-------+-----------+-----------+----------+--------+----------------+------+-----------+------------+-----------+\n",
      "|loan_amnt|funded_amnt|      term|int_rate|installment|grade|sub_grade|emp_length|home_ownership|annual_inc|verification_status|       purpose|  dti|delinq_2yrs|inq_last_6mths|mths_since_last_delinq|mths_since_last_record|open_acc|pub_rec|revol_bal|revol_util|total_acc|initial_list_status|out_prncp|total_pymnt|total_pymnt_inv|total_rec_prncp|total_rec_int|total_rec_late_fee|recoveries|collection_recovery_fee|last_pymnt_amnt|collections_12_mths_ex_med|mths_since_last_major_derog|application_type|annual_inc_joint|dti_joint|verification_status_joint|acc_now_delinq|tot_coll_amt|tot_cur_bal|open_acc_6m|open_il_6m|open_il_12m|open_il_24m|mths_since_rcnt_il|total_bal_il|il_util|open_rv_12m|open_rv_24m|max_bal_bc|all_util|total_rev_hi_lim|inq_fi|total_cu_tl|inq_last_12m|default_ind|\n",
      "+---------+-----------+----------+--------+-----------+-----+---------+----------+--------------+----------+-------------------+--------------+-----+-----------+--------------+----------------------+----------------------+--------+-------+---------+----------+---------+-------------------+---------+-----------+---------------+---------------+-------------+------------------+----------+-----------------------+---------------+--------------------------+---------------------------+----------------+----------------+---------+-------------------------+--------------+------------+-----------+-----------+----------+-----------+-----------+------------------+------------+-------+-----------+-----------+----------+--------+----------------+------+-----------+------------+-----------+\n",
      "|     5000|       5000| 36 months|   10.65|     162.87|    B|       B2| 10+ years|          RENT|   24000.0|           Verified|   credit_card|27.65|          0|             1|                  null|                  null|       3|      0|    13648|      83.7|        9|                  f|      0.0|5861.071414|        5831.78|         5000.0|       861.07|               0.0|       0.0|                    0.0|         171.62|                         0|                       null|      INDIVIDUAL|            null|     null|                     null|             0|        null|       null|       null|      null|       null|       null|              null|        null|   null|       null|       null|      null|    null|            null|  null|       null|        null|          0|\n",
      "|     2500|       2500| 60 months|   15.27|      59.83|    C|       C4|  < 1 year|          RENT|   30000.0|    Source Verified|           car|  1.0|          0|             5|                  null|                  null|       3|      0|     1687|       9.4|        4|                  f|      0.0|    1008.71|        1008.71|         456.46|       435.17|               0.0|    117.08|                   1.11|         119.66|                         0|                       null|      INDIVIDUAL|            null|     null|                     null|             0|        null|       null|       null|      null|       null|       null|              null|        null|   null|       null|       null|      null|    null|            null|  null|       null|        null|          1|\n",
      "|     2400|       2400| 36 months|   15.96|      84.33|    C|       C5| 10+ years|          RENT|   12252.0|       Not Verified|small_business| 8.72|          0|             2|                  null|                  null|       2|      0|     2956|      98.5|       10|                  f|      0.0|3003.653644|        3003.65|         2400.0|       603.65|               0.0|       0.0|                    0.0|         649.91|                         0|                       null|      INDIVIDUAL|            null|     null|                     null|             0|        null|       null|       null|      null|       null|       null|              null|        null|   null|       null|       null|      null|    null|            null|  null|       null|        null|          0|\n",
      "|     5000|       5000| 36 months|     7.9|     156.46|    A|       A4|   3 years|          RENT|   36000.0|    Source Verified|       wedding| 11.2|          0|             3|                  null|                  null|       9|      0|     7963|      28.3|       12|                  f|      0.0|5631.377753|        5631.38|         5000.0|       631.38|               0.0|       0.0|                    0.0|         161.03|                         0|                       null|      INDIVIDUAL|            null|     null|                     null|             0|        null|       null|       null|      null|       null|       null|              null|        null|   null|       null|       null|      null|    null|            null|  null|       null|        null|          0|\n",
      "|     3000|       3000| 36 months|   18.64|     109.43|    E|       E1|   9 years|          RENT|   48000.0|    Source Verified|           car| 5.35|          0|             2|                  null|                  null|       4|      0|     8221|      87.5|        4|                  f|      0.0|3938.144334|        3938.14|         3000.0|       938.14|               0.0|       0.0|                    0.0|         111.34|                         0|                       null|      INDIVIDUAL|            null|     null|                     null|             0|        null|       null|       null|      null|       null|       null|              null|        null|   null|       null|       null|      null|    null|            null|  null|       null|        null|          0|\n",
      "+---------+-----------+----------+--------+-----------+-----+---------+----------+--------------+----------+-------------------+--------------+-----+-----------+--------------+----------------------+----------------------+--------+-------+---------+----------+---------+-------------------+---------+-----------+---------------+---------------+-------------+------------------+----------+-----------------------+---------------+--------------------------+---------------------------+----------------+----------------+---------+-------------------------+--------------+------------+-----------+-----------+----------+-----------+-----------+------------------+------------+-------+-----------+-----------+----------+--------+----------------+------+-----------+------------+-----------+\n",
      "only showing top 5 rows\n",
      "\n"
     ]
    }
   ],
   "source": [
    "df.show(5)"
   ]
  },
  {
   "cell_type": "code",
   "execution_count": 36,
   "metadata": {},
   "outputs": [
    {
     "name": "stdout",
     "output_type": "stream",
     "text": [
      "+--------------------------+------+\n",
      "|collections_12_mths_ex_med| count|\n",
      "+--------------------------+------+\n",
      "|                      null|    34|\n",
      "|                         1| 10159|\n",
      "|                         2|   704|\n",
      "|                         0|793062|\n",
      "|                         3|    79|\n",
      "|                         6|     2|\n",
      "|                        16|     1|\n",
      "|                        20|     1|\n",
      "|                         4|    22|\n",
      "|                         5|     7|\n",
      "|                         7|     1|\n",
      "|                        10|     1|\n",
      "|                        14|     1|\n",
      "+--------------------------+------+\n",
      "\n"
     ]
    }
   ],
   "source": [
    "df.select('collections_12_mths_ex_med').groupBy('collections_12_mths_ex_med').count().show()"
   ]
  },
  {
   "attachments": {},
   "cell_type": "markdown",
   "metadata": {},
   "source": [
    "The majority of the `collections_12_mths_ex_med` are 0, let's see if there's any impact of this column when its more than 0 on the `default_ind`"
   ]
  },
  {
   "cell_type": "code",
   "execution_count": 37,
   "metadata": {},
   "outputs": [
    {
     "data": {
      "text/plain": [
       "10978"
      ]
     },
     "execution_count": 37,
     "metadata": {},
     "output_type": "execute_result"
    }
   ],
   "source": [
    "df.filter((df['collections_12_mths_ex_med'] > 0)).count()"
   ]
  },
  {
   "cell_type": "code",
   "execution_count": 38,
   "metadata": {},
   "outputs": [
    {
     "data": {
      "text/plain": [
       "357"
      ]
     },
     "execution_count": 38,
     "metadata": {},
     "output_type": "execute_result"
    }
   ],
   "source": [
    "df.filter((df['collections_12_mths_ex_med'] > 0) & (df['default_ind'] == 1)).count()"
   ]
  },
  {
   "attachments": {},
   "cell_type": "markdown",
   "metadata": {},
   "source": [
    "=> The majority of the values when `collections_12_mths_ex_med` > 0 end up as non-default "
   ]
  },
  {
   "attachments": {},
   "cell_type": "markdown",
   "metadata": {},
   "source": [
    "## Observation on `null` data fields:"
   ]
  },
  {
   "cell_type": "code",
   "execution_count": 39,
   "metadata": {},
   "outputs": [],
   "source": [
    "null_dict = {col : df.filter(df[col].isNull()).count() for col in df.columns}"
   ]
  },
  {
   "cell_type": "code",
   "execution_count": 40,
   "metadata": {},
   "outputs": [
    {
     "data": {
      "text/plain": [
       "{'loan_amnt': 0,\n",
       " 'funded_amnt': 0,\n",
       " 'term': 0,\n",
       " 'int_rate': 0,\n",
       " 'installment': 0,\n",
       " 'grade': 0,\n",
       " 'sub_grade': 0,\n",
       " 'emp_length': 0,\n",
       " 'home_ownership': 0,\n",
       " 'annual_inc': 0,\n",
       " 'verification_status': 0,\n",
       " 'purpose': 0,\n",
       " 'dti': 0,\n",
       " 'delinq_2yrs': 0,\n",
       " 'inq_last_6mths': 0,\n",
       " 'mths_since_last_delinq': 408833,\n",
       " 'mths_since_last_record': 677326,\n",
       " 'open_acc': 0,\n",
       " 'pub_rec': 0,\n",
       " 'revol_bal': 0,\n",
       " 'revol_util': 401,\n",
       " 'total_acc': 0,\n",
       " 'initial_list_status': 0,\n",
       " 'out_prncp': 0,\n",
       " 'total_pymnt': 0,\n",
       " 'total_pymnt_inv': 0,\n",
       " 'total_rec_prncp': 0,\n",
       " 'total_rec_int': 0,\n",
       " 'total_rec_late_fee': 0,\n",
       " 'recoveries': 0,\n",
       " 'collection_recovery_fee': 0,\n",
       " 'last_pymnt_amnt': 0,\n",
       " 'collections_12_mths_ex_med': 34,\n",
       " 'mths_since_last_major_derog': 597237,\n",
       " 'application_type': 0,\n",
       " 'annual_inc_joint': 803633,\n",
       " 'dti_joint': 803633,\n",
       " 'verification_status_joint': 803633,\n",
       " 'acc_now_delinq': 0,\n",
       " 'tot_coll_amt': 45453,\n",
       " 'tot_cur_bal': 45453,\n",
       " 'open_acc_6m': 790893,\n",
       " 'open_il_6m': 790893,\n",
       " 'open_il_12m': 790893,\n",
       " 'open_il_24m': 790893,\n",
       " 'mths_since_rcnt_il': 791244,\n",
       " 'total_bal_il': 790893,\n",
       " 'il_util': 792561,\n",
       " 'open_rv_12m': 790893,\n",
       " 'open_rv_24m': 790893,\n",
       " 'max_bal_bc': 790893,\n",
       " 'all_util': 790893,\n",
       " 'total_rev_hi_lim': 45453,\n",
       " 'inq_fi': 790893,\n",
       " 'total_cu_tl': 790893,\n",
       " 'inq_last_12m': 790893,\n",
       " 'default_ind': 0}"
      ]
     },
     "execution_count": 40,
     "metadata": {},
     "output_type": "execute_result"
    }
   ],
   "source": [
    "null_dict"
   ]
  },
  {
   "attachments": {},
   "cell_type": "markdown",
   "metadata": {},
   "source": [
    "- all `*_joint` columns (`annual_inc_joint`, `dti_joint`, `verification_status_joint`) have 803633 null values, equivalent to the number of `INDIVIDUAL` `application_type` rows -> Therefore, only the `application_type` of `JOINT` will have these columns filled\n",
    "- `null` value for `mths_since_last_delinq` indicate that this borrower does not have any delinquencies (does not behind on payment) record.\n",
    "- `null` value for `mths_since_last_record` indicate that this borrower does not have any public record (does not have any public records of bankruptcy and judgement information)\n",
    "- `null` value for `mths_since_last_major_derog` indicate that this borrower does not have any worse rating in the last 90 days\n"
   ]
  },
  {
   "cell_type": "code",
   "execution_count": 41,
   "metadata": {},
   "outputs": [
    {
     "data": {
      "application/vnd.plotly.v1+json": {
       "config": {
        "plotlyServerURL": "https://plot.ly"
       },
       "data": [
        {
         "domain": {
          "x": [
           0,
           1
          ],
          "y": [
           0,
           1
          ]
         },
         "hovertemplate": "application_type=%{label}<br>count=%{value}<extra></extra>",
         "labels": [
          "INDIVIDUAL",
          "JOINT"
         ],
         "legendgroup": "",
         "name": "",
         "showlegend": true,
         "type": "pie",
         "values": [
          803633,
          441
         ]
        }
       ],
       "layout": {
        "legend": {
         "tracegroupgap": 0
        },
        "margin": {
         "t": 60
        },
        "template": {
         "data": {
          "bar": [
           {
            "error_x": {
             "color": "#2a3f5f"
            },
            "error_y": {
             "color": "#2a3f5f"
            },
            "marker": {
             "line": {
              "color": "#E5ECF6",
              "width": 0.5
             },
             "pattern": {
              "fillmode": "overlay",
              "size": 10,
              "solidity": 0.2
             }
            },
            "type": "bar"
           }
          ],
          "barpolar": [
           {
            "marker": {
             "line": {
              "color": "#E5ECF6",
              "width": 0.5
             },
             "pattern": {
              "fillmode": "overlay",
              "size": 10,
              "solidity": 0.2
             }
            },
            "type": "barpolar"
           }
          ],
          "carpet": [
           {
            "aaxis": {
             "endlinecolor": "#2a3f5f",
             "gridcolor": "white",
             "linecolor": "white",
             "minorgridcolor": "white",
             "startlinecolor": "#2a3f5f"
            },
            "baxis": {
             "endlinecolor": "#2a3f5f",
             "gridcolor": "white",
             "linecolor": "white",
             "minorgridcolor": "white",
             "startlinecolor": "#2a3f5f"
            },
            "type": "carpet"
           }
          ],
          "choropleth": [
           {
            "colorbar": {
             "outlinewidth": 0,
             "ticks": ""
            },
            "type": "choropleth"
           }
          ],
          "contour": [
           {
            "colorbar": {
             "outlinewidth": 0,
             "ticks": ""
            },
            "colorscale": [
             [
              0,
              "#0d0887"
             ],
             [
              0.1111111111111111,
              "#46039f"
             ],
             [
              0.2222222222222222,
              "#7201a8"
             ],
             [
              0.3333333333333333,
              "#9c179e"
             ],
             [
              0.4444444444444444,
              "#bd3786"
             ],
             [
              0.5555555555555556,
              "#d8576b"
             ],
             [
              0.6666666666666666,
              "#ed7953"
             ],
             [
              0.7777777777777778,
              "#fb9f3a"
             ],
             [
              0.8888888888888888,
              "#fdca26"
             ],
             [
              1,
              "#f0f921"
             ]
            ],
            "type": "contour"
           }
          ],
          "contourcarpet": [
           {
            "colorbar": {
             "outlinewidth": 0,
             "ticks": ""
            },
            "type": "contourcarpet"
           }
          ],
          "heatmap": [
           {
            "colorbar": {
             "outlinewidth": 0,
             "ticks": ""
            },
            "colorscale": [
             [
              0,
              "#0d0887"
             ],
             [
              0.1111111111111111,
              "#46039f"
             ],
             [
              0.2222222222222222,
              "#7201a8"
             ],
             [
              0.3333333333333333,
              "#9c179e"
             ],
             [
              0.4444444444444444,
              "#bd3786"
             ],
             [
              0.5555555555555556,
              "#d8576b"
             ],
             [
              0.6666666666666666,
              "#ed7953"
             ],
             [
              0.7777777777777778,
              "#fb9f3a"
             ],
             [
              0.8888888888888888,
              "#fdca26"
             ],
             [
              1,
              "#f0f921"
             ]
            ],
            "type": "heatmap"
           }
          ],
          "heatmapgl": [
           {
            "colorbar": {
             "outlinewidth": 0,
             "ticks": ""
            },
            "colorscale": [
             [
              0,
              "#0d0887"
             ],
             [
              0.1111111111111111,
              "#46039f"
             ],
             [
              0.2222222222222222,
              "#7201a8"
             ],
             [
              0.3333333333333333,
              "#9c179e"
             ],
             [
              0.4444444444444444,
              "#bd3786"
             ],
             [
              0.5555555555555556,
              "#d8576b"
             ],
             [
              0.6666666666666666,
              "#ed7953"
             ],
             [
              0.7777777777777778,
              "#fb9f3a"
             ],
             [
              0.8888888888888888,
              "#fdca26"
             ],
             [
              1,
              "#f0f921"
             ]
            ],
            "type": "heatmapgl"
           }
          ],
          "histogram": [
           {
            "marker": {
             "pattern": {
              "fillmode": "overlay",
              "size": 10,
              "solidity": 0.2
             }
            },
            "type": "histogram"
           }
          ],
          "histogram2d": [
           {
            "colorbar": {
             "outlinewidth": 0,
             "ticks": ""
            },
            "colorscale": [
             [
              0,
              "#0d0887"
             ],
             [
              0.1111111111111111,
              "#46039f"
             ],
             [
              0.2222222222222222,
              "#7201a8"
             ],
             [
              0.3333333333333333,
              "#9c179e"
             ],
             [
              0.4444444444444444,
              "#bd3786"
             ],
             [
              0.5555555555555556,
              "#d8576b"
             ],
             [
              0.6666666666666666,
              "#ed7953"
             ],
             [
              0.7777777777777778,
              "#fb9f3a"
             ],
             [
              0.8888888888888888,
              "#fdca26"
             ],
             [
              1,
              "#f0f921"
             ]
            ],
            "type": "histogram2d"
           }
          ],
          "histogram2dcontour": [
           {
            "colorbar": {
             "outlinewidth": 0,
             "ticks": ""
            },
            "colorscale": [
             [
              0,
              "#0d0887"
             ],
             [
              0.1111111111111111,
              "#46039f"
             ],
             [
              0.2222222222222222,
              "#7201a8"
             ],
             [
              0.3333333333333333,
              "#9c179e"
             ],
             [
              0.4444444444444444,
              "#bd3786"
             ],
             [
              0.5555555555555556,
              "#d8576b"
             ],
             [
              0.6666666666666666,
              "#ed7953"
             ],
             [
              0.7777777777777778,
              "#fb9f3a"
             ],
             [
              0.8888888888888888,
              "#fdca26"
             ],
             [
              1,
              "#f0f921"
             ]
            ],
            "type": "histogram2dcontour"
           }
          ],
          "mesh3d": [
           {
            "colorbar": {
             "outlinewidth": 0,
             "ticks": ""
            },
            "type": "mesh3d"
           }
          ],
          "parcoords": [
           {
            "line": {
             "colorbar": {
              "outlinewidth": 0,
              "ticks": ""
             }
            },
            "type": "parcoords"
           }
          ],
          "pie": [
           {
            "automargin": true,
            "type": "pie"
           }
          ],
          "scatter": [
           {
            "fillpattern": {
             "fillmode": "overlay",
             "size": 10,
             "solidity": 0.2
            },
            "type": "scatter"
           }
          ],
          "scatter3d": [
           {
            "line": {
             "colorbar": {
              "outlinewidth": 0,
              "ticks": ""
             }
            },
            "marker": {
             "colorbar": {
              "outlinewidth": 0,
              "ticks": ""
             }
            },
            "type": "scatter3d"
           }
          ],
          "scattercarpet": [
           {
            "marker": {
             "colorbar": {
              "outlinewidth": 0,
              "ticks": ""
             }
            },
            "type": "scattercarpet"
           }
          ],
          "scattergeo": [
           {
            "marker": {
             "colorbar": {
              "outlinewidth": 0,
              "ticks": ""
             }
            },
            "type": "scattergeo"
           }
          ],
          "scattergl": [
           {
            "marker": {
             "colorbar": {
              "outlinewidth": 0,
              "ticks": ""
             }
            },
            "type": "scattergl"
           }
          ],
          "scattermapbox": [
           {
            "marker": {
             "colorbar": {
              "outlinewidth": 0,
              "ticks": ""
             }
            },
            "type": "scattermapbox"
           }
          ],
          "scatterpolar": [
           {
            "marker": {
             "colorbar": {
              "outlinewidth": 0,
              "ticks": ""
             }
            },
            "type": "scatterpolar"
           }
          ],
          "scatterpolargl": [
           {
            "marker": {
             "colorbar": {
              "outlinewidth": 0,
              "ticks": ""
             }
            },
            "type": "scatterpolargl"
           }
          ],
          "scatterternary": [
           {
            "marker": {
             "colorbar": {
              "outlinewidth": 0,
              "ticks": ""
             }
            },
            "type": "scatterternary"
           }
          ],
          "surface": [
           {
            "colorbar": {
             "outlinewidth": 0,
             "ticks": ""
            },
            "colorscale": [
             [
              0,
              "#0d0887"
             ],
             [
              0.1111111111111111,
              "#46039f"
             ],
             [
              0.2222222222222222,
              "#7201a8"
             ],
             [
              0.3333333333333333,
              "#9c179e"
             ],
             [
              0.4444444444444444,
              "#bd3786"
             ],
             [
              0.5555555555555556,
              "#d8576b"
             ],
             [
              0.6666666666666666,
              "#ed7953"
             ],
             [
              0.7777777777777778,
              "#fb9f3a"
             ],
             [
              0.8888888888888888,
              "#fdca26"
             ],
             [
              1,
              "#f0f921"
             ]
            ],
            "type": "surface"
           }
          ],
          "table": [
           {
            "cells": {
             "fill": {
              "color": "#EBF0F8"
             },
             "line": {
              "color": "white"
             }
            },
            "header": {
             "fill": {
              "color": "#C8D4E3"
             },
             "line": {
              "color": "white"
             }
            },
            "type": "table"
           }
          ]
         },
         "layout": {
          "annotationdefaults": {
           "arrowcolor": "#2a3f5f",
           "arrowhead": 0,
           "arrowwidth": 1
          },
          "autotypenumbers": "strict",
          "coloraxis": {
           "colorbar": {
            "outlinewidth": 0,
            "ticks": ""
           }
          },
          "colorscale": {
           "diverging": [
            [
             0,
             "#8e0152"
            ],
            [
             0.1,
             "#c51b7d"
            ],
            [
             0.2,
             "#de77ae"
            ],
            [
             0.3,
             "#f1b6da"
            ],
            [
             0.4,
             "#fde0ef"
            ],
            [
             0.5,
             "#f7f7f7"
            ],
            [
             0.6,
             "#e6f5d0"
            ],
            [
             0.7,
             "#b8e186"
            ],
            [
             0.8,
             "#7fbc41"
            ],
            [
             0.9,
             "#4d9221"
            ],
            [
             1,
             "#276419"
            ]
           ],
           "sequential": [
            [
             0,
             "#0d0887"
            ],
            [
             0.1111111111111111,
             "#46039f"
            ],
            [
             0.2222222222222222,
             "#7201a8"
            ],
            [
             0.3333333333333333,
             "#9c179e"
            ],
            [
             0.4444444444444444,
             "#bd3786"
            ],
            [
             0.5555555555555556,
             "#d8576b"
            ],
            [
             0.6666666666666666,
             "#ed7953"
            ],
            [
             0.7777777777777778,
             "#fb9f3a"
            ],
            [
             0.8888888888888888,
             "#fdca26"
            ],
            [
             1,
             "#f0f921"
            ]
           ],
           "sequentialminus": [
            [
             0,
             "#0d0887"
            ],
            [
             0.1111111111111111,
             "#46039f"
            ],
            [
             0.2222222222222222,
             "#7201a8"
            ],
            [
             0.3333333333333333,
             "#9c179e"
            ],
            [
             0.4444444444444444,
             "#bd3786"
            ],
            [
             0.5555555555555556,
             "#d8576b"
            ],
            [
             0.6666666666666666,
             "#ed7953"
            ],
            [
             0.7777777777777778,
             "#fb9f3a"
            ],
            [
             0.8888888888888888,
             "#fdca26"
            ],
            [
             1,
             "#f0f921"
            ]
           ]
          },
          "colorway": [
           "#636efa",
           "#EF553B",
           "#00cc96",
           "#ab63fa",
           "#FFA15A",
           "#19d3f3",
           "#FF6692",
           "#B6E880",
           "#FF97FF",
           "#FECB52"
          ],
          "font": {
           "color": "#2a3f5f"
          },
          "geo": {
           "bgcolor": "white",
           "lakecolor": "white",
           "landcolor": "#E5ECF6",
           "showlakes": true,
           "showland": true,
           "subunitcolor": "white"
          },
          "hoverlabel": {
           "align": "left"
          },
          "hovermode": "closest",
          "mapbox": {
           "style": "light"
          },
          "paper_bgcolor": "white",
          "plot_bgcolor": "#E5ECF6",
          "polar": {
           "angularaxis": {
            "gridcolor": "white",
            "linecolor": "white",
            "ticks": ""
           },
           "bgcolor": "#E5ECF6",
           "radialaxis": {
            "gridcolor": "white",
            "linecolor": "white",
            "ticks": ""
           }
          },
          "scene": {
           "xaxis": {
            "backgroundcolor": "#E5ECF6",
            "gridcolor": "white",
            "gridwidth": 2,
            "linecolor": "white",
            "showbackground": true,
            "ticks": "",
            "zerolinecolor": "white"
           },
           "yaxis": {
            "backgroundcolor": "#E5ECF6",
            "gridcolor": "white",
            "gridwidth": 2,
            "linecolor": "white",
            "showbackground": true,
            "ticks": "",
            "zerolinecolor": "white"
           },
           "zaxis": {
            "backgroundcolor": "#E5ECF6",
            "gridcolor": "white",
            "gridwidth": 2,
            "linecolor": "white",
            "showbackground": true,
            "ticks": "",
            "zerolinecolor": "white"
           }
          },
          "shapedefaults": {
           "line": {
            "color": "#2a3f5f"
           }
          },
          "ternary": {
           "aaxis": {
            "gridcolor": "white",
            "linecolor": "white",
            "ticks": ""
           },
           "baxis": {
            "gridcolor": "white",
            "linecolor": "white",
            "ticks": ""
           },
           "bgcolor": "#E5ECF6",
           "caxis": {
            "gridcolor": "white",
            "linecolor": "white",
            "ticks": ""
           }
          },
          "title": {
           "x": 0.05
          },
          "xaxis": {
           "automargin": true,
           "gridcolor": "white",
           "linecolor": "white",
           "ticks": "",
           "title": {
            "standoff": 15
           },
           "zerolinecolor": "white",
           "zerolinewidth": 2
          },
          "yaxis": {
           "automargin": true,
           "gridcolor": "white",
           "linecolor": "white",
           "ticks": "",
           "title": {
            "standoff": 15
           },
           "zerolinecolor": "white",
           "zerolinewidth": 2
          }
         }
        }
       }
      }
     },
     "metadata": {},
     "output_type": "display_data"
    }
   ],
   "source": [
    "df.groupby(['application_type']).count().to_pandas_on_spark(index_col=['application_type']).plot.pie(y='count')"
   ]
  },
  {
   "attachments": {},
   "cell_type": "markdown",
   "metadata": {},
   "source": [
    "The number of data with `application_type == 'JOINT'`  are heavily underrepresent"
   ]
  },
  {
   "attachments": {},
   "cell_type": "markdown",
   "metadata": {},
   "source": [
    "Checking if there's any default cases when `application_type == 'JOINT'`"
   ]
  },
  {
   "cell_type": "code",
   "execution_count": 42,
   "metadata": {},
   "outputs": [
    {
     "data": {
      "text/plain": [
       "0"
      ]
     },
     "execution_count": 42,
     "metadata": {},
     "output_type": "execute_result"
    }
   ],
   "source": [
    "df.filter((df['application_type'] == \"JOINT\") & (df['default_ind'] == '1')).count()"
   ]
  },
  {
   "attachments": {},
   "cell_type": "markdown",
   "metadata": {},
   "source": [
    "Base on the dataset, virutally no `default` happened when the `application_type == 'JOINT'`!"
   ]
  },
  {
   "cell_type": "code",
   "execution_count": 43,
   "metadata": {},
   "outputs": [
    {
     "data": {
      "text/plain": [
       "442"
      ]
     },
     "execution_count": 43,
     "metadata": {},
     "output_type": "execute_result"
    }
   ],
   "source": [
    "df_original.filter(df_original['application_type'] == \"JOINT\").count()"
   ]
  },
  {
   "attachments": {},
   "cell_type": "markdown",
   "metadata": {},
   "source": [
    "We only remove 1 `\"JOINT\"` account from cleaning the CSV dataset"
   ]
  },
  {
   "attachments": {},
   "cell_type": "markdown",
   "metadata": {},
   "source": [
    "Because of high percentage of missing values in the columns related to joint application, the columns related to this will be dropped"
   ]
  },
  {
   "cell_type": "code",
   "execution_count": 44,
   "metadata": {},
   "outputs": [],
   "source": [
    "df = df.drop(\"annual_inc_joint\", \"dti_joint\", \"verification_status_joint\")"
   ]
  },
  {
   "cell_type": "code",
   "execution_count": 45,
   "metadata": {},
   "outputs": [
    {
     "name": "stdout",
     "output_type": "stream",
     "text": [
      "+-------------------+------+\n",
      "|verification_status| count|\n",
      "+-------------------+------+\n",
      "|           Verified|259501|\n",
      "|    Source Verified|304870|\n",
      "|       Not Verified|239703|\n",
      "+-------------------+------+\n",
      "\n"
     ]
    }
   ],
   "source": [
    "df.groupBy(df['verification_status']).count().show()"
   ]
  },
  {
   "cell_type": "code",
   "execution_count": 46,
   "metadata": {},
   "outputs": [
    {
     "data": {
      "application/vnd.plotly.v1+json": {
       "config": {
        "plotlyServerURL": "https://plot.ly"
       },
       "data": [
        {
         "domain": {
          "x": [
           0,
           1
          ],
          "y": [
           0,
           1
          ]
         },
         "hovertemplate": "verification_status=%{label}<br>count=%{value}<extra></extra>",
         "labels": [
          "Verified",
          "Source Verified",
          "Not Verified"
         ],
         "legendgroup": "",
         "name": "",
         "showlegend": true,
         "type": "pie",
         "values": [
          259501,
          304870,
          239703
         ]
        }
       ],
       "layout": {
        "legend": {
         "tracegroupgap": 0
        },
        "margin": {
         "t": 60
        },
        "template": {
         "data": {
          "bar": [
           {
            "error_x": {
             "color": "#2a3f5f"
            },
            "error_y": {
             "color": "#2a3f5f"
            },
            "marker": {
             "line": {
              "color": "#E5ECF6",
              "width": 0.5
             },
             "pattern": {
              "fillmode": "overlay",
              "size": 10,
              "solidity": 0.2
             }
            },
            "type": "bar"
           }
          ],
          "barpolar": [
           {
            "marker": {
             "line": {
              "color": "#E5ECF6",
              "width": 0.5
             },
             "pattern": {
              "fillmode": "overlay",
              "size": 10,
              "solidity": 0.2
             }
            },
            "type": "barpolar"
           }
          ],
          "carpet": [
           {
            "aaxis": {
             "endlinecolor": "#2a3f5f",
             "gridcolor": "white",
             "linecolor": "white",
             "minorgridcolor": "white",
             "startlinecolor": "#2a3f5f"
            },
            "baxis": {
             "endlinecolor": "#2a3f5f",
             "gridcolor": "white",
             "linecolor": "white",
             "minorgridcolor": "white",
             "startlinecolor": "#2a3f5f"
            },
            "type": "carpet"
           }
          ],
          "choropleth": [
           {
            "colorbar": {
             "outlinewidth": 0,
             "ticks": ""
            },
            "type": "choropleth"
           }
          ],
          "contour": [
           {
            "colorbar": {
             "outlinewidth": 0,
             "ticks": ""
            },
            "colorscale": [
             [
              0,
              "#0d0887"
             ],
             [
              0.1111111111111111,
              "#46039f"
             ],
             [
              0.2222222222222222,
              "#7201a8"
             ],
             [
              0.3333333333333333,
              "#9c179e"
             ],
             [
              0.4444444444444444,
              "#bd3786"
             ],
             [
              0.5555555555555556,
              "#d8576b"
             ],
             [
              0.6666666666666666,
              "#ed7953"
             ],
             [
              0.7777777777777778,
              "#fb9f3a"
             ],
             [
              0.8888888888888888,
              "#fdca26"
             ],
             [
              1,
              "#f0f921"
             ]
            ],
            "type": "contour"
           }
          ],
          "contourcarpet": [
           {
            "colorbar": {
             "outlinewidth": 0,
             "ticks": ""
            },
            "type": "contourcarpet"
           }
          ],
          "heatmap": [
           {
            "colorbar": {
             "outlinewidth": 0,
             "ticks": ""
            },
            "colorscale": [
             [
              0,
              "#0d0887"
             ],
             [
              0.1111111111111111,
              "#46039f"
             ],
             [
              0.2222222222222222,
              "#7201a8"
             ],
             [
              0.3333333333333333,
              "#9c179e"
             ],
             [
              0.4444444444444444,
              "#bd3786"
             ],
             [
              0.5555555555555556,
              "#d8576b"
             ],
             [
              0.6666666666666666,
              "#ed7953"
             ],
             [
              0.7777777777777778,
              "#fb9f3a"
             ],
             [
              0.8888888888888888,
              "#fdca26"
             ],
             [
              1,
              "#f0f921"
             ]
            ],
            "type": "heatmap"
           }
          ],
          "heatmapgl": [
           {
            "colorbar": {
             "outlinewidth": 0,
             "ticks": ""
            },
            "colorscale": [
             [
              0,
              "#0d0887"
             ],
             [
              0.1111111111111111,
              "#46039f"
             ],
             [
              0.2222222222222222,
              "#7201a8"
             ],
             [
              0.3333333333333333,
              "#9c179e"
             ],
             [
              0.4444444444444444,
              "#bd3786"
             ],
             [
              0.5555555555555556,
              "#d8576b"
             ],
             [
              0.6666666666666666,
              "#ed7953"
             ],
             [
              0.7777777777777778,
              "#fb9f3a"
             ],
             [
              0.8888888888888888,
              "#fdca26"
             ],
             [
              1,
              "#f0f921"
             ]
            ],
            "type": "heatmapgl"
           }
          ],
          "histogram": [
           {
            "marker": {
             "pattern": {
              "fillmode": "overlay",
              "size": 10,
              "solidity": 0.2
             }
            },
            "type": "histogram"
           }
          ],
          "histogram2d": [
           {
            "colorbar": {
             "outlinewidth": 0,
             "ticks": ""
            },
            "colorscale": [
             [
              0,
              "#0d0887"
             ],
             [
              0.1111111111111111,
              "#46039f"
             ],
             [
              0.2222222222222222,
              "#7201a8"
             ],
             [
              0.3333333333333333,
              "#9c179e"
             ],
             [
              0.4444444444444444,
              "#bd3786"
             ],
             [
              0.5555555555555556,
              "#d8576b"
             ],
             [
              0.6666666666666666,
              "#ed7953"
             ],
             [
              0.7777777777777778,
              "#fb9f3a"
             ],
             [
              0.8888888888888888,
              "#fdca26"
             ],
             [
              1,
              "#f0f921"
             ]
            ],
            "type": "histogram2d"
           }
          ],
          "histogram2dcontour": [
           {
            "colorbar": {
             "outlinewidth": 0,
             "ticks": ""
            },
            "colorscale": [
             [
              0,
              "#0d0887"
             ],
             [
              0.1111111111111111,
              "#46039f"
             ],
             [
              0.2222222222222222,
              "#7201a8"
             ],
             [
              0.3333333333333333,
              "#9c179e"
             ],
             [
              0.4444444444444444,
              "#bd3786"
             ],
             [
              0.5555555555555556,
              "#d8576b"
             ],
             [
              0.6666666666666666,
              "#ed7953"
             ],
             [
              0.7777777777777778,
              "#fb9f3a"
             ],
             [
              0.8888888888888888,
              "#fdca26"
             ],
             [
              1,
              "#f0f921"
             ]
            ],
            "type": "histogram2dcontour"
           }
          ],
          "mesh3d": [
           {
            "colorbar": {
             "outlinewidth": 0,
             "ticks": ""
            },
            "type": "mesh3d"
           }
          ],
          "parcoords": [
           {
            "line": {
             "colorbar": {
              "outlinewidth": 0,
              "ticks": ""
             }
            },
            "type": "parcoords"
           }
          ],
          "pie": [
           {
            "automargin": true,
            "type": "pie"
           }
          ],
          "scatter": [
           {
            "fillpattern": {
             "fillmode": "overlay",
             "size": 10,
             "solidity": 0.2
            },
            "type": "scatter"
           }
          ],
          "scatter3d": [
           {
            "line": {
             "colorbar": {
              "outlinewidth": 0,
              "ticks": ""
             }
            },
            "marker": {
             "colorbar": {
              "outlinewidth": 0,
              "ticks": ""
             }
            },
            "type": "scatter3d"
           }
          ],
          "scattercarpet": [
           {
            "marker": {
             "colorbar": {
              "outlinewidth": 0,
              "ticks": ""
             }
            },
            "type": "scattercarpet"
           }
          ],
          "scattergeo": [
           {
            "marker": {
             "colorbar": {
              "outlinewidth": 0,
              "ticks": ""
             }
            },
            "type": "scattergeo"
           }
          ],
          "scattergl": [
           {
            "marker": {
             "colorbar": {
              "outlinewidth": 0,
              "ticks": ""
             }
            },
            "type": "scattergl"
           }
          ],
          "scattermapbox": [
           {
            "marker": {
             "colorbar": {
              "outlinewidth": 0,
              "ticks": ""
             }
            },
            "type": "scattermapbox"
           }
          ],
          "scatterpolar": [
           {
            "marker": {
             "colorbar": {
              "outlinewidth": 0,
              "ticks": ""
             }
            },
            "type": "scatterpolar"
           }
          ],
          "scatterpolargl": [
           {
            "marker": {
             "colorbar": {
              "outlinewidth": 0,
              "ticks": ""
             }
            },
            "type": "scatterpolargl"
           }
          ],
          "scatterternary": [
           {
            "marker": {
             "colorbar": {
              "outlinewidth": 0,
              "ticks": ""
             }
            },
            "type": "scatterternary"
           }
          ],
          "surface": [
           {
            "colorbar": {
             "outlinewidth": 0,
             "ticks": ""
            },
            "colorscale": [
             [
              0,
              "#0d0887"
             ],
             [
              0.1111111111111111,
              "#46039f"
             ],
             [
              0.2222222222222222,
              "#7201a8"
             ],
             [
              0.3333333333333333,
              "#9c179e"
             ],
             [
              0.4444444444444444,
              "#bd3786"
             ],
             [
              0.5555555555555556,
              "#d8576b"
             ],
             [
              0.6666666666666666,
              "#ed7953"
             ],
             [
              0.7777777777777778,
              "#fb9f3a"
             ],
             [
              0.8888888888888888,
              "#fdca26"
             ],
             [
              1,
              "#f0f921"
             ]
            ],
            "type": "surface"
           }
          ],
          "table": [
           {
            "cells": {
             "fill": {
              "color": "#EBF0F8"
             },
             "line": {
              "color": "white"
             }
            },
            "header": {
             "fill": {
              "color": "#C8D4E3"
             },
             "line": {
              "color": "white"
             }
            },
            "type": "table"
           }
          ]
         },
         "layout": {
          "annotationdefaults": {
           "arrowcolor": "#2a3f5f",
           "arrowhead": 0,
           "arrowwidth": 1
          },
          "autotypenumbers": "strict",
          "coloraxis": {
           "colorbar": {
            "outlinewidth": 0,
            "ticks": ""
           }
          },
          "colorscale": {
           "diverging": [
            [
             0,
             "#8e0152"
            ],
            [
             0.1,
             "#c51b7d"
            ],
            [
             0.2,
             "#de77ae"
            ],
            [
             0.3,
             "#f1b6da"
            ],
            [
             0.4,
             "#fde0ef"
            ],
            [
             0.5,
             "#f7f7f7"
            ],
            [
             0.6,
             "#e6f5d0"
            ],
            [
             0.7,
             "#b8e186"
            ],
            [
             0.8,
             "#7fbc41"
            ],
            [
             0.9,
             "#4d9221"
            ],
            [
             1,
             "#276419"
            ]
           ],
           "sequential": [
            [
             0,
             "#0d0887"
            ],
            [
             0.1111111111111111,
             "#46039f"
            ],
            [
             0.2222222222222222,
             "#7201a8"
            ],
            [
             0.3333333333333333,
             "#9c179e"
            ],
            [
             0.4444444444444444,
             "#bd3786"
            ],
            [
             0.5555555555555556,
             "#d8576b"
            ],
            [
             0.6666666666666666,
             "#ed7953"
            ],
            [
             0.7777777777777778,
             "#fb9f3a"
            ],
            [
             0.8888888888888888,
             "#fdca26"
            ],
            [
             1,
             "#f0f921"
            ]
           ],
           "sequentialminus": [
            [
             0,
             "#0d0887"
            ],
            [
             0.1111111111111111,
             "#46039f"
            ],
            [
             0.2222222222222222,
             "#7201a8"
            ],
            [
             0.3333333333333333,
             "#9c179e"
            ],
            [
             0.4444444444444444,
             "#bd3786"
            ],
            [
             0.5555555555555556,
             "#d8576b"
            ],
            [
             0.6666666666666666,
             "#ed7953"
            ],
            [
             0.7777777777777778,
             "#fb9f3a"
            ],
            [
             0.8888888888888888,
             "#fdca26"
            ],
            [
             1,
             "#f0f921"
            ]
           ]
          },
          "colorway": [
           "#636efa",
           "#EF553B",
           "#00cc96",
           "#ab63fa",
           "#FFA15A",
           "#19d3f3",
           "#FF6692",
           "#B6E880",
           "#FF97FF",
           "#FECB52"
          ],
          "font": {
           "color": "#2a3f5f"
          },
          "geo": {
           "bgcolor": "white",
           "lakecolor": "white",
           "landcolor": "#E5ECF6",
           "showlakes": true,
           "showland": true,
           "subunitcolor": "white"
          },
          "hoverlabel": {
           "align": "left"
          },
          "hovermode": "closest",
          "mapbox": {
           "style": "light"
          },
          "paper_bgcolor": "white",
          "plot_bgcolor": "#E5ECF6",
          "polar": {
           "angularaxis": {
            "gridcolor": "white",
            "linecolor": "white",
            "ticks": ""
           },
           "bgcolor": "#E5ECF6",
           "radialaxis": {
            "gridcolor": "white",
            "linecolor": "white",
            "ticks": ""
           }
          },
          "scene": {
           "xaxis": {
            "backgroundcolor": "#E5ECF6",
            "gridcolor": "white",
            "gridwidth": 2,
            "linecolor": "white",
            "showbackground": true,
            "ticks": "",
            "zerolinecolor": "white"
           },
           "yaxis": {
            "backgroundcolor": "#E5ECF6",
            "gridcolor": "white",
            "gridwidth": 2,
            "linecolor": "white",
            "showbackground": true,
            "ticks": "",
            "zerolinecolor": "white"
           },
           "zaxis": {
            "backgroundcolor": "#E5ECF6",
            "gridcolor": "white",
            "gridwidth": 2,
            "linecolor": "white",
            "showbackground": true,
            "ticks": "",
            "zerolinecolor": "white"
           }
          },
          "shapedefaults": {
           "line": {
            "color": "#2a3f5f"
           }
          },
          "ternary": {
           "aaxis": {
            "gridcolor": "white",
            "linecolor": "white",
            "ticks": ""
           },
           "baxis": {
            "gridcolor": "white",
            "linecolor": "white",
            "ticks": ""
           },
           "bgcolor": "#E5ECF6",
           "caxis": {
            "gridcolor": "white",
            "linecolor": "white",
            "ticks": ""
           }
          },
          "title": {
           "x": 0.05
          },
          "xaxis": {
           "automargin": true,
           "gridcolor": "white",
           "linecolor": "white",
           "ticks": "",
           "title": {
            "standoff": 15
           },
           "zerolinecolor": "white",
           "zerolinewidth": 2
          },
          "yaxis": {
           "automargin": true,
           "gridcolor": "white",
           "linecolor": "white",
           "ticks": "",
           "title": {
            "standoff": 15
           },
           "zerolinecolor": "white",
           "zerolinewidth": 2
          }
         }
        }
       }
      }
     },
     "metadata": {},
     "output_type": "display_data"
    }
   ],
   "source": [
    "df.groupBy(df['verification_status'])\\\n",
    "    .count()\\\n",
    "    .to_pandas_on_spark(index_col=['verification_status'])\\\n",
    "    .plot.pie(y='count')"
   ]
  },
  {
   "attachments": {},
   "cell_type": "markdown",
   "metadata": {},
   "source": [
    "=> Evenly distributed `verfication_status` accross all accounts "
   ]
  },
  {
   "attachments": {},
   "cell_type": "markdown",
   "metadata": {},
   "source": [
    "Let's see the relationship between the number of personal finance inquiries (`inq_fi`) and default rate"
   ]
  },
  {
   "cell_type": "code",
   "execution_count": 47,
   "metadata": {},
   "outputs": [
    {
     "data": {
      "text/plain": [
       "0"
      ]
     },
     "execution_count": 47,
     "metadata": {},
     "output_type": "execute_result"
    }
   ],
   "source": [
    "df.filter(df['inq_fi'].isNotNull() & (df['default_ind'] == 1)).count()"
   ]
  },
  {
   "attachments": {},
   "cell_type": "markdown",
   "metadata": {},
   "source": [
    "=> All the borrowers with a record of personal finance inquiries virtually not default. If this field is `null`, it indicate that the borrowers never inquiries any personal finance advice from this firm."
   ]
  },
  {
   "attachments": {},
   "cell_type": "markdown",
   "metadata": {},
   "source": [
    "Because of the high volume of missing values, this column will be dropped"
   ]
  },
  {
   "cell_type": "code",
   "execution_count": 48,
   "metadata": {},
   "outputs": [],
   "source": [
    "df = df.drop('inq_fi')"
   ]
  },
  {
   "attachments": {},
   "cell_type": "markdown",
   "metadata": {},
   "source": [
    "Next, let's see the relationship between the number of credit inquiries in the last 12 months (`inq_last_12m`) and default rate"
   ]
  },
  {
   "cell_type": "code",
   "execution_count": 49,
   "metadata": {},
   "outputs": [
    {
     "name": "stdout",
     "output_type": "stream",
     "text": [
      "+---------+-----------+----------+--------+-----------+-----+---------+----------+--------------+----------+-------------------+------------------+-----+-----------+--------------+----------------------+----------------------+--------+-------+---------+----------+---------+-------------------+---------+-----------+---------------+---------------+-------------+------------------+----------+-----------------------+---------------+--------------------------+---------------------------+----------------+--------------+------------+-----------+-----------+----------+-----------+-----------+------------------+------------+-------+-----------+-----------+----------+--------+----------------+-----------+------------+-----------+\n",
      "|loan_amnt|funded_amnt|      term|int_rate|installment|grade|sub_grade|emp_length|home_ownership|annual_inc|verification_status|           purpose|  dti|delinq_2yrs|inq_last_6mths|mths_since_last_delinq|mths_since_last_record|open_acc|pub_rec|revol_bal|revol_util|total_acc|initial_list_status|out_prncp|total_pymnt|total_pymnt_inv|total_rec_prncp|total_rec_int|total_rec_late_fee|recoveries|collection_recovery_fee|last_pymnt_amnt|collections_12_mths_ex_med|mths_since_last_major_derog|application_type|acc_now_delinq|tot_coll_amt|tot_cur_bal|open_acc_6m|open_il_6m|open_il_12m|open_il_24m|mths_since_rcnt_il|total_bal_il|il_util|open_rv_12m|open_rv_24m|max_bal_bc|all_util|total_rev_hi_lim|total_cu_tl|inq_last_12m|default_ind|\n",
      "+---------+-----------+----------+--------+-----------+-----+---------+----------+--------------+----------+-------------------+------------------+-----+-----------+--------------+----------------------+----------------------+--------+-------+---------+----------+---------+-------------------+---------+-----------+---------------+---------------+-------------+------------------+----------+-----------------------+---------------+--------------------------+---------------------------+----------------+--------------+------------+-----------+-----------+----------+-----------+-----------+------------------+------------+-------+-----------+-----------+----------+--------+----------------+-----------+------------+-----------+\n",
      "|     8000|       8000| 36 months|   14.48|     275.29|    C|       C5| 10+ years|      MORTGAGE|  115000.0|           Verified|debt_consolidation|17.11|          0|             4|                  null|                    88|      25|      1|    15124|      26.4|       36|                  w|   8000.0|        0.0|            0.0|            0.0|          0.0|               0.0|       0.0|                    0.0|            0.0|                         0|                       null|      INDIVIDUAL|             0|           0|     399684|          5|         5|          1|          4|                11|       46560|   66.5|          5|         12|      4527|    48.5|           57200|          1|          32|          0|\n",
      "|    10000|      10000| 36 months|   12.59|     334.97|    C|       C2|   3 years|      MORTGAGE|  150000.0|       Not Verified|               car| 15.7|          0|             5|                  null|                    61|      17|      3|     8388|      38.1|       32|                  w|  10000.0|        0.0|            0.0|            0.0|          0.0|               0.0|       0.0|                    0.0|            0.0|                         0|                       null|      INDIVIDUAL|             0|           0|     211397|          3|         3|          1|          3|                 8|       76367|   81.4|          4|          9|      3294|    51.4|           22000|          0|          25|          0|\n",
      "|    16000|      16000| 60 months|   14.48|     376.29|    C|       C5|   7 years|      MORTGAGE|  215000.0|           Verified|    major_purchase|11.14|          1|             3|                    23|                    97|      20|      1|    10235|      20.3|       58|                  w|  16000.0|        0.0|            0.0|            0.0|          0.0|               0.0|       0.0|                    0.0|            0.0|                         0|                       null|      INDIVIDUAL|             0|           0|     355620|          5|         2|          4|          6|                 7|       97434|   86.0|          6|          7|      1991|    47.5|           50147|          4|          25|          0|\n",
      "|    20000|      20000| 60 months|   19.99|     529.77|    E|       E4|   4 years|          RENT|   50000.0|           Verified|debt_consolidation|12.39|          0|             5|                    51|                  null|      14|      0|     8829|      16.3|       22|                  w|  20000.0|        0.0|            0.0|            0.0|          0.0|               0.0|       0.0|                    0.0|            0.0|                         0|                       null|      INDIVIDUAL|             0|           0|      27687|          0|         3|          0|          0|                62|       18858|   73.1|          2|          3|      4600|    34.7|           54000|          0|          24|          0|\n",
      "|     2875|       2875| 36 months|   16.99|     102.49|    D|       D3| 10+ years|      MORTGAGE|  143000.0|    Source Verified|debt_consolidation|14.96|          0|             2|                    69|                    76|      15|      1|     3003|      34.1|       41|                  w|   2875.0|        0.0|            0.0|            0.0|          0.0|               0.0|       0.0|                    0.0|            0.0|                         0|                         76|      INDIVIDUAL|             0|         162|     195449|          2|         5|          7|         11|                 2|       56603|   82.2|          3|          8|       151|    76.7|            8800|          5|          22|          0|\n",
      "|    16000|      16000| 60 months|    18.2|     408.04|    E|       E1| 10+ years|      MORTGAGE|   67000.0|    Source Verified|debt_consolidation|28.37|          2|             1|                    16|                  null|      17|      0|    19637|      61.2|       46|                  w|  16000.0|        0.0|            0.0|            0.0|          0.0|               0.0|       0.0|                    0.0|            0.0|                         0|                         43|      INDIVIDUAL|             0|           0|      63507|          4|         2|          3|          4|                 5|       43870|   93.5|          2|          8|      1407|    80.4|           32100|          1|          21|          0|\n",
      "|    20800|      20800| 60 months|   11.22|     454.53|    B|       B5|   2 years|      MORTGAGE|   85000.0|           Verified|debt_consolidation|26.12|          0|             5|                    42|                  null|      30|      0|    43316|      53.1|       65|                  w|  20800.0|        0.0|            0.0|            0.0|          0.0|               0.0|       0.0|                    0.0|            0.0|                         0|                         42|      INDIVIDUAL|             0|           0|     217666|          6|         9|          4|          5|                 2|       96926|   78.1|          4|          8|      6795|    68.2|           81600|          0|          21|          0|\n",
      "|    35000|      35000| 36 months|   14.48|     1204.4|    C|       C5|   2 years|      MORTGAGE|  300000.0|           Verified|debt_consolidation|25.78|          1|             0|                    20|                  null|      10|      0|   273361|      93.4|       35|                  w|  35000.0|        0.0|            0.0|            0.0|          0.0|               0.0|       0.0|                    0.0|            0.0|                         0|                         20|      INDIVIDUAL|             0|           0|     993549|          1|         3|          1|          1|                 6|       88170|   null|          0|          0|     19922|    93.4|          350300|          0|          20|          0|\n",
      "|    16800|      16800| 60 months|   20.99|     454.41|    E|       E5|   8 years|          RENT|   50000.0|       Not Verified|       credit_card|24.56|          0|             2|                    46|                    81|      13|      1|    15915|      53.8|       29|                  w| 16639.45|     434.82|         434.82|         160.55|       274.27|               0.0|       0.0|                    0.0|         454.41|                         0|                       null|      INDIVIDUAL|             0|         672|      80034|          1|         3|          1|          3|                12|       64119|   53.3|          2|          7|      3922|    53.6|           29600|          0|          20|          0|\n",
      "|     8400|       8400| 36 months|   15.41|     292.88|    D|       D1| 10+ years|      MORTGAGE|   52800.0|           Verified|debt_consolidation|27.89|          0|             1|                    37|                  null|      13|      0|     8786|      36.0|       37|                  w|   8400.0|        0.0|            0.0|            0.0|          0.0|               0.0|       0.0|                    0.0|            0.0|                         0|                         65|      INDIVIDUAL|             0|         245|     258531|          1|         2|          1|          3|                12|       35529|   81.5|          3|          7|      3057|    65.2|           24400|          3|          20|          0|\n",
      "|    15750|      15750| 36 months|    18.2|     570.99|    E|       E1|  < 1 year|           OWN|   47000.0|    Source Verified|debt_consolidation|17.31|          0|             1|                  null|                    54|       6|      2|     4209|      66.8|       19|                  f| 15417.89|     555.07|         555.07|         332.12|       222.96|               0.0|       0.0|                    0.0|         570.99|                         0|                       null|      INDIVIDUAL|             0|           0|      26681|          0|         2|          1|          2|                12|       22472|   82.9|          0|          3|      2470|    79.9|            6300|          0|          20|          0|\n",
      "|    10950|      10950| 36 months|   19.48|     404.05|    E|       E2|   3 years|          RENT|   60000.0|    Source Verified|debt_consolidation|18.38|          0|             2|                    72|                    66|       6|      2|    10502|      65.6|       17|                  w|  10141.9|      808.1|          808.1|          808.1|          0.0|               0.0|       0.0|                    0.0|          808.1|                         0|                         72|      INDIVIDUAL|             0|        3400|      44181|          0|         1|          2|          2|                 8|       33679|   null|          3|          4|      4138|    65.6|           16000|          0|          19|          0|\n",
      "|    21000|      21000| 36 months|   16.99|     748.61|    D|       D3|    1 year|      MORTGAGE|  185000.0|           Verified|debt_consolidation|21.54|          2|             4|                    17|                  null|      15|      0|    21692|      73.5|       48|                  w|      0.0|   21138.76|       21138.76|        21000.0|       138.76|               0.0|       0.0|                    0.0|       21188.31|                         0|                         17|      INDIVIDUAL|             0|           0|     458681|          2|         5|          1|          3|                11|       67210|   75.0|          5|          8|      5549|    74.2|           29500|          0|          19|          0|\n",
      "|    21000|      21000| 60 months|   16.55|     516.84|    D|       D2|  < 1 year|           OWN|  110000.0|           Verified|  home_improvement|20.13|          0|             4|                  null|                  null|      31|      0|    25891|      19.7|       56|                  w|  21000.0|        0.0|            0.0|            0.0|          0.0|               0.0|       0.0|                    0.0|            0.0|                         0|                       null|      INDIVIDUAL|             0|           0|     274894|          8|         2|          3|          6|                 3|       67581|   93.6|         11|         18|      3238|    32.4|          131400|          8|          19|          0|\n",
      "|     2800|       2800| 36 months|   13.67|      95.25|    C|       C4|   2 years|          RENT|   45000.0|    Source Verified|debt_consolidation| 19.2|          1|             2|                    13|                  null|      12|      0|     3200|      40.0|       21|                  w|   2800.0|        0.0|            0.0|            0.0|          0.0|               0.0|       0.0|                    0.0|            0.0|                         0|                       null|      INDIVIDUAL|             0|           0|      53941|          2|         8|          2|          2|                 7|       50741|   99.8|          2|          3|      1711|    91.7|            8000|          7|          19|          0|\n",
      "|    18000|      18000| 60 months|   16.55|     443.01|    D|       D2|   7 years|      MORTGAGE|  105000.0|           Verified|       credit_card|14.02|          0|             5|                    66|                    67|      17|      2|     9097|      35.5|       63|                  w| 17805.24|     426.46|         426.46|         194.76|        231.7|               0.0|       0.0|                    0.0|         443.01|                         0|                       null|      INDIVIDUAL|             0|         350|     251088|          4|         3|          1|          2|                 5|       53386|   80.7|          6|          9|      3033|    68.1|           25600|          0|          19|          0|\n",
      "|     7200|       7200| 36 months|   13.44|     244.13|    C|       C3|   2 years|          RENT|   57000.0|    Source Verified|debt_consolidation|24.36|          0|             3|                    39|                  null|       8|      0|     1241|      35.5|       11|                  w|   7200.0|        0.0|            0.0|            0.0|          0.0|               0.0|       0.0|                    0.0|            0.0|                         0|                         39|      INDIVIDUAL|             0|        2607|      55917|          2|         3|          0|          2|                16|       54676|   80.9|          3|          5|       967|    78.7|            3500|          1|          18|          0|\n",
      "|    27000|      27000| 36 months|   18.99|     989.58|    E|       E3|   3 years|      MORTGAGE|   65000.0|           Verified|    major_purchase| 21.8|          2|             0|                    13|                  null|      17|      0|     7009|      38.1|       35|                  w|  27000.0|        0.0|            0.0|            0.0|          0.0|               0.0|       0.0|                    0.0|            0.0|                         0|                         13|      INDIVIDUAL|             0|         532|     153974|          1|         3|          1|          2|                 6|       49844|   93.9|          1|         10|      3744|    79.5|           18400|          2|          18|          0|\n",
      "|    24000|      24000| 60 months|   19.89|     634.39|    E|       E3|   6 years|      MORTGAGE|  134000.0|           Verified|debt_consolidation|10.85|          0|             2|                  null|                    70|      12|      1|    15912|      34.1|       25|                  w|  24000.0|        0.0|            0.0|            0.0|          0.0|               0.0|       0.0|                    0.0|            0.0|                         0|                       null|      INDIVIDUAL|             0|           0|     318185|          4|         2|          3|          3|                 7|       37005|   80.2|          6|         10|      9547|    47.6|           46600|          0|          17|          0|\n",
      "|    17000|      17000| 60 months|   22.99|     479.15|    F|       F2|   3 years|      MORTGAGE|  107000.0|    Source Verified|debt_consolidation|18.56|          0|             1|                    45|                  null|      21|      0|    12085|      50.4|       28|                  f| 16846.54|     435.72|         432.52|         153.46|       282.26|               0.0|       0.0|                    0.0|         479.15|                         0|                       null|      INDIVIDUAL|             0|        2360|     357256|          3|         8|          4|          6|                 2|       89222|   91.9|          1|          2|      3507|    83.6|           24000|          0|          17|          0|\n",
      "+---------+-----------+----------+--------+-----------+-----+---------+----------+--------------+----------+-------------------+------------------+-----+-----------+--------------+----------------------+----------------------+--------+-------+---------+----------+---------+-------------------+---------+-----------+---------------+---------------+-------------+------------------+----------+-----------------------+---------------+--------------------------+---------------------------+----------------+--------------+------------+-----------+-----------+----------+-----------+-----------+------------------+------------+-------+-----------+-----------+----------+--------+----------------+-----------+------------+-----------+\n",
      "only showing top 20 rows\n",
      "\n"
     ]
    }
   ],
   "source": [
    "df.filter(df['inq_last_12m'].isNotNull()).sort('inq_last_12m', ascending=False).show()"
   ]
  },
  {
   "cell_type": "code",
   "execution_count": 50,
   "metadata": {},
   "outputs": [
    {
     "data": {
      "text/plain": [
       "0"
      ]
     },
     "execution_count": 50,
     "metadata": {},
     "output_type": "execute_result"
    }
   ],
   "source": [
    "df.filter(df['inq_last_12m'].isNotNull() & (df['default_ind'] == 1)).sort('inq_last_12m', ascending=False).count()"
   ]
  },
  {
   "attachments": {},
   "cell_type": "markdown",
   "metadata": {},
   "source": [
    "In real life, higher number of number of credit inquiries will result in lower result credit, making this loan has a higher chance of default (https://www.canstar.com.au/credit-score/do-credit-checks-affect-your-credit-score/). However it is the opposite with this dataset, as more credit inquiries result in no default rate!"
   ]
  },
  {
   "cell_type": "code",
   "execution_count": 51,
   "metadata": {},
   "outputs": [
    {
     "data": {
      "text/plain": [
       "22935"
      ]
     },
     "execution_count": 51,
     "metadata": {},
     "output_type": "execute_result"
    }
   ],
   "source": [
    "df.filter((df['inq_last_6mths'] != 0) & (df['default_ind'] == 1)).sort('inq_last_6mths', ascending=False).count()"
   ]
  },
  {
   "cell_type": "code",
   "execution_count": 52,
   "metadata": {},
   "outputs": [
    {
     "data": {
      "text/plain": [
       "348439"
      ]
     },
     "execution_count": 52,
     "metadata": {},
     "output_type": "execute_result"
    }
   ],
   "source": [
    "df.filter((df['inq_last_6mths'] != 0)).count()"
   ]
  },
  {
   "attachments": {},
   "cell_type": "markdown",
   "metadata": {},
   "source": [
    "On the other hand, for the `inq_last_6mths` values that not 0, a portion of the data does end up as default. Therefore this column should be kept as it would be a good weight for our ML model, whilst the `inq_last_12m` will be dropped"
   ]
  },
  {
   "cell_type": "code",
   "execution_count": 53,
   "metadata": {},
   "outputs": [],
   "source": [
    "df = df.drop('inq_last_12m')"
   ]
  },
  {
   "attachments": {},
   "cell_type": "markdown",
   "metadata": {},
   "source": [
    "For the rest of the high number of missing values columns, they will also be dropped."
   ]
  },
  {
   "cell_type": "code",
   "execution_count": 54,
   "metadata": {},
   "outputs": [],
   "source": [
    "df = df.drop('open_acc_6m', 'open_il_6m', 'open_il_12m', 'open_il_24m', 'mths_since_rcnt_il', 'total_bal_il', 'il_util', 'open_rv_12m', 'open_rv_24m', 'max_bal_bc', 'all_util', 'total_cu_tl', 'mths_since_last_delinq', 'mths_since_last_record', 'mths_since_last_major_derog')"
   ]
  },
  {
   "cell_type": "code",
   "execution_count": 55,
   "metadata": {},
   "outputs": [
    {
     "data": {
      "text/plain": [
       "{'loan_amnt': 0,\n",
       " 'funded_amnt': 0,\n",
       " 'term': 0,\n",
       " 'int_rate': 0,\n",
       " 'installment': 0,\n",
       " 'grade': 0,\n",
       " 'sub_grade': 0,\n",
       " 'emp_length': 0,\n",
       " 'home_ownership': 0,\n",
       " 'annual_inc': 0,\n",
       " 'verification_status': 0,\n",
       " 'purpose': 0,\n",
       " 'dti': 0,\n",
       " 'delinq_2yrs': 0,\n",
       " 'inq_last_6mths': 0,\n",
       " 'open_acc': 0,\n",
       " 'pub_rec': 0,\n",
       " 'revol_bal': 0,\n",
       " 'revol_util': 401,\n",
       " 'total_acc': 0,\n",
       " 'initial_list_status': 0,\n",
       " 'out_prncp': 0,\n",
       " 'total_pymnt': 0,\n",
       " 'total_pymnt_inv': 0,\n",
       " 'total_rec_prncp': 0,\n",
       " 'total_rec_int': 0,\n",
       " 'total_rec_late_fee': 0,\n",
       " 'recoveries': 0,\n",
       " 'collection_recovery_fee': 0,\n",
       " 'last_pymnt_amnt': 0,\n",
       " 'collections_12_mths_ex_med': 34,\n",
       " 'application_type': 0,\n",
       " 'acc_now_delinq': 0,\n",
       " 'tot_coll_amt': 45453,\n",
       " 'tot_cur_bal': 45453,\n",
       " 'total_rev_hi_lim': 45453,\n",
       " 'default_ind': 0}"
      ]
     },
     "execution_count": 55,
     "metadata": {},
     "output_type": "execute_result"
    }
   ],
   "source": [
    "{col : df.filter(df[col].isNull()).count() for col in df.columns}"
   ]
  },
  {
   "attachments": {},
   "cell_type": "markdown",
   "metadata": {},
   "source": [
    "### Impute the remaining null data"
   ]
  },
  {
   "cell_type": "code",
   "execution_count": 56,
   "metadata": {},
   "outputs": [
    {
     "name": "stderr",
     "output_type": "stream",
     "text": [
      "                                                                                \r"
     ]
    }
   ],
   "source": [
    "from pyspark.ml.feature import Imputer\n",
    "imputer = Imputer(\n",
    "    inputCols=['tot_coll_amt', 'total_rev_hi_lim', 'tot_cur_bal', 'revol_util', 'collections_12_mths_ex_med'],\n",
    "    outputCols=['tot_coll_amt', 'total_rev_hi_lim', 'tot_cur_bal', 'revol_util', 'collections_12_mths_ex_med']\n",
    ")\n",
    "\n",
    "df = imputer.setStrategy(\"median\").fit(df).transform(df)"
   ]
  },
  {
   "cell_type": "code",
   "execution_count": 57,
   "metadata": {},
   "outputs": [
    {
     "name": "stdout",
     "output_type": "stream",
     "text": [
      "+---------+-----------+----------+--------+-----------+-----+---------+----------+--------------+----------+-------------------+------------------+-----+-----------+--------------+--------+-------+---------+----------+---------+-------------------+---------+-----------+---------------+---------------+-------------+------------------+----------+-----------------------+---------------+--------------------------+----------------+--------------+------------+-----------+----------------+-----------+\n",
      "|loan_amnt|funded_amnt|      term|int_rate|installment|grade|sub_grade|emp_length|home_ownership|annual_inc|verification_status|           purpose|  dti|delinq_2yrs|inq_last_6mths|open_acc|pub_rec|revol_bal|revol_util|total_acc|initial_list_status|out_prncp|total_pymnt|total_pymnt_inv|total_rec_prncp|total_rec_int|total_rec_late_fee|recoveries|collection_recovery_fee|last_pymnt_amnt|collections_12_mths_ex_med|application_type|acc_now_delinq|tot_coll_amt|tot_cur_bal|total_rev_hi_lim|default_ind|\n",
      "+---------+-----------+----------+--------+-----------+-----+---------+----------+--------------+----------+-------------------+------------------+-----+-----------+--------------+--------+-------+---------+----------+---------+-------------------+---------+-----------+---------------+---------------+-------------+------------------+----------+-----------------------+---------------+--------------------------+----------------+--------------+------------+-----------+----------------+-----------+\n",
      "|     5000|       5000| 36 months|   10.65|     162.87|    B|       B2| 10+ years|          RENT|   24000.0|           Verified|       credit_card|27.65|          0|             1|       3|      0|    13648|      83.7|        9|                  f|      0.0|5861.071414|        5831.78|         5000.0|       861.07|               0.0|       0.0|                    0.0|         171.62|                         0|      INDIVIDUAL|             0|           0|      80123|           23700|          0|\n",
      "|     2500|       2500| 60 months|   15.27|      59.83|    C|       C4|  < 1 year|          RENT|   30000.0|    Source Verified|               car|  1.0|          0|             5|       3|      0|     1687|       9.4|        4|                  f|      0.0|    1008.71|        1008.71|         456.46|       435.17|               0.0|    117.08|                   1.11|         119.66|                         0|      INDIVIDUAL|             0|           0|      80123|           23700|          1|\n",
      "|     2400|       2400| 36 months|   15.96|      84.33|    C|       C5| 10+ years|          RENT|   12252.0|       Not Verified|    small_business| 8.72|          0|             2|       2|      0|     2956|      98.5|       10|                  f|      0.0|3003.653644|        3003.65|         2400.0|       603.65|               0.0|       0.0|                    0.0|         649.91|                         0|      INDIVIDUAL|             0|           0|      80123|           23700|          0|\n",
      "|     5000|       5000| 36 months|     7.9|     156.46|    A|       A4|   3 years|          RENT|   36000.0|    Source Verified|           wedding| 11.2|          0|             3|       9|      0|     7963|      28.3|       12|                  f|      0.0|5631.377753|        5631.38|         5000.0|       631.38|               0.0|       0.0|                    0.0|         161.03|                         0|      INDIVIDUAL|             0|           0|      80123|           23700|          0|\n",
      "|     3000|       3000| 36 months|   18.64|     109.43|    E|       E1|   9 years|          RENT|   48000.0|    Source Verified|               car| 5.35|          0|             2|       4|      0|     8221|      87.5|        4|                  f|      0.0|3938.144334|        3938.14|         3000.0|       938.14|               0.0|       0.0|                    0.0|         111.34|                         0|      INDIVIDUAL|             0|           0|      80123|           23700|          0|\n",
      "|     5600|       5600| 60 months|   21.28|     152.39|    F|       F2|   4 years|           OWN|   40000.0|    Source Verified|    small_business| 5.55|          0|             2|      11|      0|     5210|      32.6|       13|                  f|      0.0|     646.02|         646.02|         162.02|       294.94|               0.0|    189.06|                   2.09|         152.39|                         0|      INDIVIDUAL|             0|           0|      80123|           23700|          1|\n",
      "|    12000|      12000| 36 months|   12.69|     402.54|    B|       B5| 10+ years|           OWN|   75000.0|    Source Verified|debt_consolidation|10.78|          0|             0|      12|      0|    23336|      67.1|       34|                  f|      0.0|   13943.08|       13943.08|        12000.0|      1943.08|               0.0|       0.0|                    0.0|         6315.3|                         0|      INDIVIDUAL|             0|           0|      80123|           23700|          0|\n",
      "|     9000|       9000| 36 months|   13.49|     305.38|    C|       C1|  < 1 year|          RENT|   30000.0|    Source Verified|debt_consolidation|10.08|          0|             1|       4|      0|    10452|      91.7|        9|                  f|      0.0|     2270.7|         2270.7|        1256.14|       570.26|               0.0|     444.3|                   4.16|         305.38|                         0|      INDIVIDUAL|             0|           0|      80123|           23700|          1|\n",
      "|    10000|      10000| 36 months|   10.65|     325.74|    B|       B2|   3 years|          RENT|  100000.0|    Source Verified|             other| 7.06|          0|             2|      14|      0|    11997|      55.5|       29|                  f|      0.0|    7471.99|        7471.99|        5433.47|      1393.42|               0.0|     645.1|                 6.3145|         325.74|                         0|      INDIVIDUAL|             0|           0|      80123|           23700|          1|\n",
      "|     1000|       1000| 36 months|   16.29|      35.31|    D|       D1|  < 1 year|          RENT|   28000.0|       Not Verified|debt_consolidation|20.31|          0|             1|      11|      0|     6524|      81.5|       23|                  f|      0.0|1270.171106|        1270.17|         1000.0|       270.17|               0.0|       0.0|                    0.0|          36.32|                         0|      INDIVIDUAL|             0|           0|      80123|           23700|          0|\n",
      "|    10000|      10000| 36 months|   15.27|     347.98|    C|       C4|   4 years|          RENT|   42000.0|       Not Verified|  home_improvement| 18.6|          0|             2|      14|      0|    24043|      70.2|       28|                  f|      0.0|12519.26045|       12519.26|        10000.0|      2519.26|               0.0|       0.0|                    0.0|         370.46|                         0|      INDIVIDUAL|             0|           0|      80123|           23700|          0|\n",
      "|     3600|       3600| 36 months|    6.03|     109.57|    A|       A1| 10+ years|      MORTGAGE|  110000.0|       Not Verified|    major_purchase|10.52|          0|             0|      20|      0|    22836|      16.0|       42|                  f|      0.0|    3785.02|        3785.02|         3600.0|       185.02|               0.0|       0.0|                    0.0|         583.45|                         0|      INDIVIDUAL|             0|           0|      80123|           23700|          0|\n",
      "|     6000|       6000| 36 months|   11.71|     198.46|    B|       B3|    1 year|      MORTGAGE|   84000.0|           Verified|           medical|18.44|          2|             0|       4|      0|        0|     37.73|       14|                  f|      0.0|7164.499852|         7164.5|         6000.0|       1149.5|              15.0|       0.0|                    0.0|          16.98|                         0|      INDIVIDUAL|             0|           0|      80123|           23700|          0|\n",
      "|     9200|       9200| 36 months|    6.03|     280.01|    A|       A1|   6 years|          RENT|  77385.19|       Not Verified|debt_consolidation| 9.86|          0|             0|       8|      0|     7314|      23.1|       28|                  f|      0.0|    9459.96|        9459.96|         9200.0|       259.96|               0.0|       0.0|                    0.0|         8061.1|                         0|      INDIVIDUAL|             0|           0|      80123|           23700|          0|\n",
      "|    21000|      21000| 36 months|   12.42|     701.73|    B|       B4| 10+ years|          RENT|  105000.0|           Verified|debt_consolidation|13.22|          0|             0|       7|      0|    32135|      90.3|       38|                  f|      0.0|    14025.4|        14025.4|       10694.96|      3330.44|               0.0|       0.0|                    0.0|         701.73|                         0|      INDIVIDUAL|             0|           0|      80123|           23700|          1|\n",
      "|    10000|      10000| 36 months|   11.71|     330.76|    B|       B3|   5 years|          RENT|   50000.0|       Not Verified|debt_consolidation|16.01|          0|             0|       6|      0|    17800|      91.8|       17|                  f|      0.0|   11536.31|       11536.31|        10000.0|      1536.31|               0.0|       0.0|                    0.0|        4942.63|                         0|      INDIVIDUAL|             0|           0|      80123|           23700|          0|\n",
      "|     6000|       6000| 36 months|   11.71|     198.46|    B|       B3|    1 year|          RENT|   76000.0|       Not Verified|    major_purchase|  2.4|          0|             1|       7|      0|     5963|      29.7|        7|                  f|      0.0|    2050.14|        2050.14|        1305.58|       475.25|               0.0|    269.31|                   2.57|         198.46|                         0|      INDIVIDUAL|             0|           0|      80123|           23700|          1|\n",
      "|    15000|      15000| 36 months|    9.91|     483.38|    B|       B1|   2 years|      MORTGAGE|   92000.0|           Verified|       credit_card|29.44|          0|             0|       8|      0|    13707|      93.9|       31|                  f|      0.0|   15823.48|       15823.48|        15000.0|       823.48|               0.0|       0.0|                    0.0|        2447.05|                         0|      INDIVIDUAL|             0|           0|      80123|           23700|          0|\n",
      "|    15000|      15000| 36 months|   14.27|     514.64|    C|       C2|   9 years|          RENT|   60000.0|       Not Verified|debt_consolidation|15.22|          0|             1|       7|      0|     5872|      57.6|       11|                  f|      0.0|        0.0|            0.0|            0.0|          0.0|               0.0|       0.0|                    0.0|            0.0|                         0|      INDIVIDUAL|             0|           0|      80123|           23700|          1|\n",
      "|     5000|       5000| 60 months|   16.77|     123.65|    D|       D2|   2 years|          RENT|   50004.0|       Not Verified|             other|13.97|          3|             0|      14|      0|     4345|      59.5|       22|                  f|      0.0|    1609.12|        1609.12|         629.05|       719.11|               0.0|    260.96|                    2.3|         123.65|                         0|      INDIVIDUAL|             0|           0|      80123|           23700|          1|\n",
      "+---------+-----------+----------+--------+-----------+-----+---------+----------+--------------+----------+-------------------+------------------+-----+-----------+--------------+--------+-------+---------+----------+---------+-------------------+---------+-----------+---------------+---------------+-------------+------------------+----------+-----------------------+---------------+--------------------------+----------------+--------------+------------+-----------+----------------+-----------+\n",
      "only showing top 20 rows\n",
      "\n"
     ]
    }
   ],
   "source": [
    "df.show()"
   ]
  },
  {
   "cell_type": "code",
   "execution_count": 58,
   "metadata": {},
   "outputs": [
    {
     "data": {
      "application/vnd.plotly.v1+json": {
       "config": {
        "plotlyServerURL": "https://plot.ly"
       },
       "data": [
        {
         "domain": {
          "x": [
           0,
           1
          ],
          "y": [
           0,
           1
          ]
         },
         "hovertemplate": "emp_length=%{label}<br>count=%{value}<extra></extra>",
         "labels": [
          "9 years",
          "5 years",
          "1 year",
          "n/a",
          "2 years",
          "7 years",
          "8 years",
          "4 years",
          "6 years",
          "3 years",
          "10+ years",
          "< 1 year"
         ],
         "legendgroup": "",
         "name": "",
         "showlegend": true,
         "type": "pie",
         "values": [
          31620,
          49836,
          50893,
          41821,
          70536,
          40408,
          40112,
          47088,
          38313,
          62783,
          268127,
          62537
         ]
        }
       ],
       "layout": {
        "legend": {
         "tracegroupgap": 0
        },
        "margin": {
         "t": 60
        },
        "template": {
         "data": {
          "bar": [
           {
            "error_x": {
             "color": "#2a3f5f"
            },
            "error_y": {
             "color": "#2a3f5f"
            },
            "marker": {
             "line": {
              "color": "#E5ECF6",
              "width": 0.5
             },
             "pattern": {
              "fillmode": "overlay",
              "size": 10,
              "solidity": 0.2
             }
            },
            "type": "bar"
           }
          ],
          "barpolar": [
           {
            "marker": {
             "line": {
              "color": "#E5ECF6",
              "width": 0.5
             },
             "pattern": {
              "fillmode": "overlay",
              "size": 10,
              "solidity": 0.2
             }
            },
            "type": "barpolar"
           }
          ],
          "carpet": [
           {
            "aaxis": {
             "endlinecolor": "#2a3f5f",
             "gridcolor": "white",
             "linecolor": "white",
             "minorgridcolor": "white",
             "startlinecolor": "#2a3f5f"
            },
            "baxis": {
             "endlinecolor": "#2a3f5f",
             "gridcolor": "white",
             "linecolor": "white",
             "minorgridcolor": "white",
             "startlinecolor": "#2a3f5f"
            },
            "type": "carpet"
           }
          ],
          "choropleth": [
           {
            "colorbar": {
             "outlinewidth": 0,
             "ticks": ""
            },
            "type": "choropleth"
           }
          ],
          "contour": [
           {
            "colorbar": {
             "outlinewidth": 0,
             "ticks": ""
            },
            "colorscale": [
             [
              0,
              "#0d0887"
             ],
             [
              0.1111111111111111,
              "#46039f"
             ],
             [
              0.2222222222222222,
              "#7201a8"
             ],
             [
              0.3333333333333333,
              "#9c179e"
             ],
             [
              0.4444444444444444,
              "#bd3786"
             ],
             [
              0.5555555555555556,
              "#d8576b"
             ],
             [
              0.6666666666666666,
              "#ed7953"
             ],
             [
              0.7777777777777778,
              "#fb9f3a"
             ],
             [
              0.8888888888888888,
              "#fdca26"
             ],
             [
              1,
              "#f0f921"
             ]
            ],
            "type": "contour"
           }
          ],
          "contourcarpet": [
           {
            "colorbar": {
             "outlinewidth": 0,
             "ticks": ""
            },
            "type": "contourcarpet"
           }
          ],
          "heatmap": [
           {
            "colorbar": {
             "outlinewidth": 0,
             "ticks": ""
            },
            "colorscale": [
             [
              0,
              "#0d0887"
             ],
             [
              0.1111111111111111,
              "#46039f"
             ],
             [
              0.2222222222222222,
              "#7201a8"
             ],
             [
              0.3333333333333333,
              "#9c179e"
             ],
             [
              0.4444444444444444,
              "#bd3786"
             ],
             [
              0.5555555555555556,
              "#d8576b"
             ],
             [
              0.6666666666666666,
              "#ed7953"
             ],
             [
              0.7777777777777778,
              "#fb9f3a"
             ],
             [
              0.8888888888888888,
              "#fdca26"
             ],
             [
              1,
              "#f0f921"
             ]
            ],
            "type": "heatmap"
           }
          ],
          "heatmapgl": [
           {
            "colorbar": {
             "outlinewidth": 0,
             "ticks": ""
            },
            "colorscale": [
             [
              0,
              "#0d0887"
             ],
             [
              0.1111111111111111,
              "#46039f"
             ],
             [
              0.2222222222222222,
              "#7201a8"
             ],
             [
              0.3333333333333333,
              "#9c179e"
             ],
             [
              0.4444444444444444,
              "#bd3786"
             ],
             [
              0.5555555555555556,
              "#d8576b"
             ],
             [
              0.6666666666666666,
              "#ed7953"
             ],
             [
              0.7777777777777778,
              "#fb9f3a"
             ],
             [
              0.8888888888888888,
              "#fdca26"
             ],
             [
              1,
              "#f0f921"
             ]
            ],
            "type": "heatmapgl"
           }
          ],
          "histogram": [
           {
            "marker": {
             "pattern": {
              "fillmode": "overlay",
              "size": 10,
              "solidity": 0.2
             }
            },
            "type": "histogram"
           }
          ],
          "histogram2d": [
           {
            "colorbar": {
             "outlinewidth": 0,
             "ticks": ""
            },
            "colorscale": [
             [
              0,
              "#0d0887"
             ],
             [
              0.1111111111111111,
              "#46039f"
             ],
             [
              0.2222222222222222,
              "#7201a8"
             ],
             [
              0.3333333333333333,
              "#9c179e"
             ],
             [
              0.4444444444444444,
              "#bd3786"
             ],
             [
              0.5555555555555556,
              "#d8576b"
             ],
             [
              0.6666666666666666,
              "#ed7953"
             ],
             [
              0.7777777777777778,
              "#fb9f3a"
             ],
             [
              0.8888888888888888,
              "#fdca26"
             ],
             [
              1,
              "#f0f921"
             ]
            ],
            "type": "histogram2d"
           }
          ],
          "histogram2dcontour": [
           {
            "colorbar": {
             "outlinewidth": 0,
             "ticks": ""
            },
            "colorscale": [
             [
              0,
              "#0d0887"
             ],
             [
              0.1111111111111111,
              "#46039f"
             ],
             [
              0.2222222222222222,
              "#7201a8"
             ],
             [
              0.3333333333333333,
              "#9c179e"
             ],
             [
              0.4444444444444444,
              "#bd3786"
             ],
             [
              0.5555555555555556,
              "#d8576b"
             ],
             [
              0.6666666666666666,
              "#ed7953"
             ],
             [
              0.7777777777777778,
              "#fb9f3a"
             ],
             [
              0.8888888888888888,
              "#fdca26"
             ],
             [
              1,
              "#f0f921"
             ]
            ],
            "type": "histogram2dcontour"
           }
          ],
          "mesh3d": [
           {
            "colorbar": {
             "outlinewidth": 0,
             "ticks": ""
            },
            "type": "mesh3d"
           }
          ],
          "parcoords": [
           {
            "line": {
             "colorbar": {
              "outlinewidth": 0,
              "ticks": ""
             }
            },
            "type": "parcoords"
           }
          ],
          "pie": [
           {
            "automargin": true,
            "type": "pie"
           }
          ],
          "scatter": [
           {
            "fillpattern": {
             "fillmode": "overlay",
             "size": 10,
             "solidity": 0.2
            },
            "type": "scatter"
           }
          ],
          "scatter3d": [
           {
            "line": {
             "colorbar": {
              "outlinewidth": 0,
              "ticks": ""
             }
            },
            "marker": {
             "colorbar": {
              "outlinewidth": 0,
              "ticks": ""
             }
            },
            "type": "scatter3d"
           }
          ],
          "scattercarpet": [
           {
            "marker": {
             "colorbar": {
              "outlinewidth": 0,
              "ticks": ""
             }
            },
            "type": "scattercarpet"
           }
          ],
          "scattergeo": [
           {
            "marker": {
             "colorbar": {
              "outlinewidth": 0,
              "ticks": ""
             }
            },
            "type": "scattergeo"
           }
          ],
          "scattergl": [
           {
            "marker": {
             "colorbar": {
              "outlinewidth": 0,
              "ticks": ""
             }
            },
            "type": "scattergl"
           }
          ],
          "scattermapbox": [
           {
            "marker": {
             "colorbar": {
              "outlinewidth": 0,
              "ticks": ""
             }
            },
            "type": "scattermapbox"
           }
          ],
          "scatterpolar": [
           {
            "marker": {
             "colorbar": {
              "outlinewidth": 0,
              "ticks": ""
             }
            },
            "type": "scatterpolar"
           }
          ],
          "scatterpolargl": [
           {
            "marker": {
             "colorbar": {
              "outlinewidth": 0,
              "ticks": ""
             }
            },
            "type": "scatterpolargl"
           }
          ],
          "scatterternary": [
           {
            "marker": {
             "colorbar": {
              "outlinewidth": 0,
              "ticks": ""
             }
            },
            "type": "scatterternary"
           }
          ],
          "surface": [
           {
            "colorbar": {
             "outlinewidth": 0,
             "ticks": ""
            },
            "colorscale": [
             [
              0,
              "#0d0887"
             ],
             [
              0.1111111111111111,
              "#46039f"
             ],
             [
              0.2222222222222222,
              "#7201a8"
             ],
             [
              0.3333333333333333,
              "#9c179e"
             ],
             [
              0.4444444444444444,
              "#bd3786"
             ],
             [
              0.5555555555555556,
              "#d8576b"
             ],
             [
              0.6666666666666666,
              "#ed7953"
             ],
             [
              0.7777777777777778,
              "#fb9f3a"
             ],
             [
              0.8888888888888888,
              "#fdca26"
             ],
             [
              1,
              "#f0f921"
             ]
            ],
            "type": "surface"
           }
          ],
          "table": [
           {
            "cells": {
             "fill": {
              "color": "#EBF0F8"
             },
             "line": {
              "color": "white"
             }
            },
            "header": {
             "fill": {
              "color": "#C8D4E3"
             },
             "line": {
              "color": "white"
             }
            },
            "type": "table"
           }
          ]
         },
         "layout": {
          "annotationdefaults": {
           "arrowcolor": "#2a3f5f",
           "arrowhead": 0,
           "arrowwidth": 1
          },
          "autotypenumbers": "strict",
          "coloraxis": {
           "colorbar": {
            "outlinewidth": 0,
            "ticks": ""
           }
          },
          "colorscale": {
           "diverging": [
            [
             0,
             "#8e0152"
            ],
            [
             0.1,
             "#c51b7d"
            ],
            [
             0.2,
             "#de77ae"
            ],
            [
             0.3,
             "#f1b6da"
            ],
            [
             0.4,
             "#fde0ef"
            ],
            [
             0.5,
             "#f7f7f7"
            ],
            [
             0.6,
             "#e6f5d0"
            ],
            [
             0.7,
             "#b8e186"
            ],
            [
             0.8,
             "#7fbc41"
            ],
            [
             0.9,
             "#4d9221"
            ],
            [
             1,
             "#276419"
            ]
           ],
           "sequential": [
            [
             0,
             "#0d0887"
            ],
            [
             0.1111111111111111,
             "#46039f"
            ],
            [
             0.2222222222222222,
             "#7201a8"
            ],
            [
             0.3333333333333333,
             "#9c179e"
            ],
            [
             0.4444444444444444,
             "#bd3786"
            ],
            [
             0.5555555555555556,
             "#d8576b"
            ],
            [
             0.6666666666666666,
             "#ed7953"
            ],
            [
             0.7777777777777778,
             "#fb9f3a"
            ],
            [
             0.8888888888888888,
             "#fdca26"
            ],
            [
             1,
             "#f0f921"
            ]
           ],
           "sequentialminus": [
            [
             0,
             "#0d0887"
            ],
            [
             0.1111111111111111,
             "#46039f"
            ],
            [
             0.2222222222222222,
             "#7201a8"
            ],
            [
             0.3333333333333333,
             "#9c179e"
            ],
            [
             0.4444444444444444,
             "#bd3786"
            ],
            [
             0.5555555555555556,
             "#d8576b"
            ],
            [
             0.6666666666666666,
             "#ed7953"
            ],
            [
             0.7777777777777778,
             "#fb9f3a"
            ],
            [
             0.8888888888888888,
             "#fdca26"
            ],
            [
             1,
             "#f0f921"
            ]
           ]
          },
          "colorway": [
           "#636efa",
           "#EF553B",
           "#00cc96",
           "#ab63fa",
           "#FFA15A",
           "#19d3f3",
           "#FF6692",
           "#B6E880",
           "#FF97FF",
           "#FECB52"
          ],
          "font": {
           "color": "#2a3f5f"
          },
          "geo": {
           "bgcolor": "white",
           "lakecolor": "white",
           "landcolor": "#E5ECF6",
           "showlakes": true,
           "showland": true,
           "subunitcolor": "white"
          },
          "hoverlabel": {
           "align": "left"
          },
          "hovermode": "closest",
          "mapbox": {
           "style": "light"
          },
          "paper_bgcolor": "white",
          "plot_bgcolor": "#E5ECF6",
          "polar": {
           "angularaxis": {
            "gridcolor": "white",
            "linecolor": "white",
            "ticks": ""
           },
           "bgcolor": "#E5ECF6",
           "radialaxis": {
            "gridcolor": "white",
            "linecolor": "white",
            "ticks": ""
           }
          },
          "scene": {
           "xaxis": {
            "backgroundcolor": "#E5ECF6",
            "gridcolor": "white",
            "gridwidth": 2,
            "linecolor": "white",
            "showbackground": true,
            "ticks": "",
            "zerolinecolor": "white"
           },
           "yaxis": {
            "backgroundcolor": "#E5ECF6",
            "gridcolor": "white",
            "gridwidth": 2,
            "linecolor": "white",
            "showbackground": true,
            "ticks": "",
            "zerolinecolor": "white"
           },
           "zaxis": {
            "backgroundcolor": "#E5ECF6",
            "gridcolor": "white",
            "gridwidth": 2,
            "linecolor": "white",
            "showbackground": true,
            "ticks": "",
            "zerolinecolor": "white"
           }
          },
          "shapedefaults": {
           "line": {
            "color": "#2a3f5f"
           }
          },
          "ternary": {
           "aaxis": {
            "gridcolor": "white",
            "linecolor": "white",
            "ticks": ""
           },
           "baxis": {
            "gridcolor": "white",
            "linecolor": "white",
            "ticks": ""
           },
           "bgcolor": "#E5ECF6",
           "caxis": {
            "gridcolor": "white",
            "linecolor": "white",
            "ticks": ""
           }
          },
          "title": {
           "x": 0.05
          },
          "xaxis": {
           "automargin": true,
           "gridcolor": "white",
           "linecolor": "white",
           "ticks": "",
           "title": {
            "standoff": 15
           },
           "zerolinecolor": "white",
           "zerolinewidth": 2
          },
          "yaxis": {
           "automargin": true,
           "gridcolor": "white",
           "linecolor": "white",
           "ticks": "",
           "title": {
            "standoff": 15
           },
           "zerolinecolor": "white",
           "zerolinewidth": 2
          }
         }
        }
       }
      }
     },
     "metadata": {},
     "output_type": "display_data"
    }
   ],
   "source": [
    "df.select('emp_length').groupBy('emp_length').count().to_pandas_on_spark(index_col=['emp_length']).plot.pie(y='count')"
   ]
  },
  {
   "attachments": {},
   "cell_type": "markdown",
   "metadata": {},
   "source": [
    "One Hot Encoding all the categorical value"
   ]
  },
  {
   "cell_type": "code",
   "execution_count": 59,
   "metadata": {},
   "outputs": [],
   "source": [
    "categorical_cols = [item[0] for item in df.dtypes if item[1].startswith('string')]"
   ]
  },
  {
   "cell_type": "code",
   "execution_count": 60,
   "metadata": {},
   "outputs": [
    {
     "data": {
      "text/plain": [
       "['term',\n",
       " 'grade',\n",
       " 'sub_grade',\n",
       " 'emp_length',\n",
       " 'home_ownership',\n",
       " 'verification_status',\n",
       " 'purpose',\n",
       " 'initial_list_status',\n",
       " 'application_type']"
      ]
     },
     "execution_count": 60,
     "metadata": {},
     "output_type": "execute_result"
    }
   ],
   "source": [
    "categorical_cols"
   ]
  },
  {
   "cell_type": "code",
   "execution_count": 61,
   "metadata": {},
   "outputs": [],
   "source": [
    "onehot_output_cols = list(map(lambda col : f\"{col}_onehot\", categorical_cols))"
   ]
  },
  {
   "cell_type": "code",
   "execution_count": 62,
   "metadata": {},
   "outputs": [],
   "source": [
    "numeric_output_cols = list(map(lambda col : f\"{col}_numeric\", categorical_cols))"
   ]
  },
  {
   "cell_type": "code",
   "execution_count": 63,
   "metadata": {},
   "outputs": [
    {
     "name": "stderr",
     "output_type": "stream",
     "text": [
      "                                                                                \r"
     ]
    }
   ],
   "source": [
    "from pyspark.ml.feature import OneHotEncoder, StringIndexer\n",
    "indexer = StringIndexer(inputCols=categorical_cols, outputCols=numeric_output_cols)\n",
    "indexer_fitted = indexer.fit(df)\n",
    "df_indexed = indexer_fitted.transform(df)\n",
    "\n",
    "one_hot = OneHotEncoder(inputCols=numeric_output_cols, outputCols=onehot_output_cols)\n",
    "one_hot_df = one_hot.fit(df_indexed).transform(df_indexed)\n",
    "df_one_hot = one_hot_df.drop(*numeric_output_cols, *categorical_cols)\n"
   ]
  },
  {
   "attachments": {},
   "cell_type": "markdown",
   "metadata": {},
   "source": [
    "# Stage 2: Predictive analysis "
   ]
  },
  {
   "attachments": {},
   "cell_type": "markdown",
   "metadata": {},
   "source": [
    "## Process the training/testing data"
   ]
  },
  {
   "attachments": {},
   "cell_type": "markdown",
   "metadata": {},
   "source": [
    "### Resampling the training data with 50% default and 50% non-default"
   ]
  },
  {
   "cell_type": "code",
   "execution_count": 64,
   "metadata": {},
   "outputs": [],
   "source": [
    "default_records = df_one_hot.filter(df['default_ind'] == 1).count()"
   ]
  },
  {
   "cell_type": "code",
   "execution_count": 65,
   "metadata": {},
   "outputs": [],
   "source": [
    "non_default_records = df_one_hot.filter(df['default_ind'] == 0).count()"
   ]
  },
  {
   "cell_type": "code",
   "execution_count": 66,
   "metadata": {},
   "outputs": [],
   "source": [
    "X = df_one_hot.sampleBy(\"default_ind\", fractions={0: default_records/non_default_records, 1: 1}, seed=42)"
   ]
  },
  {
   "cell_type": "code",
   "execution_count": 67,
   "metadata": {},
   "outputs": [
    {
     "name": "stderr",
     "output_type": "stream",
     "text": [
      "                                                                                \r"
     ]
    },
    {
     "data": {
      "text/plain": [
       "40660"
      ]
     },
     "execution_count": 67,
     "metadata": {},
     "output_type": "execute_result"
    }
   ],
   "source": [
    "X.filter(X['default_ind'] == 1).count()"
   ]
  },
  {
   "cell_type": "code",
   "execution_count": 68,
   "metadata": {},
   "outputs": [
    {
     "name": "stderr",
     "output_type": "stream",
     "text": [
      "                                                                                \r"
     ]
    },
    {
     "data": {
      "text/plain": [
       "40928"
      ]
     },
     "execution_count": 68,
     "metadata": {},
     "output_type": "execute_result"
    }
   ],
   "source": [
    "X.filter(X['default_ind'] == 0).count()"
   ]
  },
  {
   "cell_type": "code",
   "execution_count": 69,
   "metadata": {},
   "outputs": [
    {
     "data": {
      "application/vnd.plotly.v1+json": {
       "config": {
        "plotlyServerURL": "https://plot.ly"
       },
       "data": [
        {
         "domain": {
          "x": [
           0,
           1
          ],
          "y": [
           0,
           1
          ]
         },
         "hovertemplate": "default_ind=%{label}<br>count=%{value}<extra></extra>",
         "labels": [
          1,
          0
         ],
         "legendgroup": "",
         "name": "",
         "showlegend": true,
         "type": "pie",
         "values": [
          40660,
          40928
         ]
        }
       ],
       "layout": {
        "legend": {
         "tracegroupgap": 0
        },
        "margin": {
         "t": 60
        },
        "template": {
         "data": {
          "bar": [
           {
            "error_x": {
             "color": "#2a3f5f"
            },
            "error_y": {
             "color": "#2a3f5f"
            },
            "marker": {
             "line": {
              "color": "#E5ECF6",
              "width": 0.5
             },
             "pattern": {
              "fillmode": "overlay",
              "size": 10,
              "solidity": 0.2
             }
            },
            "type": "bar"
           }
          ],
          "barpolar": [
           {
            "marker": {
             "line": {
              "color": "#E5ECF6",
              "width": 0.5
             },
             "pattern": {
              "fillmode": "overlay",
              "size": 10,
              "solidity": 0.2
             }
            },
            "type": "barpolar"
           }
          ],
          "carpet": [
           {
            "aaxis": {
             "endlinecolor": "#2a3f5f",
             "gridcolor": "white",
             "linecolor": "white",
             "minorgridcolor": "white",
             "startlinecolor": "#2a3f5f"
            },
            "baxis": {
             "endlinecolor": "#2a3f5f",
             "gridcolor": "white",
             "linecolor": "white",
             "minorgridcolor": "white",
             "startlinecolor": "#2a3f5f"
            },
            "type": "carpet"
           }
          ],
          "choropleth": [
           {
            "colorbar": {
             "outlinewidth": 0,
             "ticks": ""
            },
            "type": "choropleth"
           }
          ],
          "contour": [
           {
            "colorbar": {
             "outlinewidth": 0,
             "ticks": ""
            },
            "colorscale": [
             [
              0,
              "#0d0887"
             ],
             [
              0.1111111111111111,
              "#46039f"
             ],
             [
              0.2222222222222222,
              "#7201a8"
             ],
             [
              0.3333333333333333,
              "#9c179e"
             ],
             [
              0.4444444444444444,
              "#bd3786"
             ],
             [
              0.5555555555555556,
              "#d8576b"
             ],
             [
              0.6666666666666666,
              "#ed7953"
             ],
             [
              0.7777777777777778,
              "#fb9f3a"
             ],
             [
              0.8888888888888888,
              "#fdca26"
             ],
             [
              1,
              "#f0f921"
             ]
            ],
            "type": "contour"
           }
          ],
          "contourcarpet": [
           {
            "colorbar": {
             "outlinewidth": 0,
             "ticks": ""
            },
            "type": "contourcarpet"
           }
          ],
          "heatmap": [
           {
            "colorbar": {
             "outlinewidth": 0,
             "ticks": ""
            },
            "colorscale": [
             [
              0,
              "#0d0887"
             ],
             [
              0.1111111111111111,
              "#46039f"
             ],
             [
              0.2222222222222222,
              "#7201a8"
             ],
             [
              0.3333333333333333,
              "#9c179e"
             ],
             [
              0.4444444444444444,
              "#bd3786"
             ],
             [
              0.5555555555555556,
              "#d8576b"
             ],
             [
              0.6666666666666666,
              "#ed7953"
             ],
             [
              0.7777777777777778,
              "#fb9f3a"
             ],
             [
              0.8888888888888888,
              "#fdca26"
             ],
             [
              1,
              "#f0f921"
             ]
            ],
            "type": "heatmap"
           }
          ],
          "heatmapgl": [
           {
            "colorbar": {
             "outlinewidth": 0,
             "ticks": ""
            },
            "colorscale": [
             [
              0,
              "#0d0887"
             ],
             [
              0.1111111111111111,
              "#46039f"
             ],
             [
              0.2222222222222222,
              "#7201a8"
             ],
             [
              0.3333333333333333,
              "#9c179e"
             ],
             [
              0.4444444444444444,
              "#bd3786"
             ],
             [
              0.5555555555555556,
              "#d8576b"
             ],
             [
              0.6666666666666666,
              "#ed7953"
             ],
             [
              0.7777777777777778,
              "#fb9f3a"
             ],
             [
              0.8888888888888888,
              "#fdca26"
             ],
             [
              1,
              "#f0f921"
             ]
            ],
            "type": "heatmapgl"
           }
          ],
          "histogram": [
           {
            "marker": {
             "pattern": {
              "fillmode": "overlay",
              "size": 10,
              "solidity": 0.2
             }
            },
            "type": "histogram"
           }
          ],
          "histogram2d": [
           {
            "colorbar": {
             "outlinewidth": 0,
             "ticks": ""
            },
            "colorscale": [
             [
              0,
              "#0d0887"
             ],
             [
              0.1111111111111111,
              "#46039f"
             ],
             [
              0.2222222222222222,
              "#7201a8"
             ],
             [
              0.3333333333333333,
              "#9c179e"
             ],
             [
              0.4444444444444444,
              "#bd3786"
             ],
             [
              0.5555555555555556,
              "#d8576b"
             ],
             [
              0.6666666666666666,
              "#ed7953"
             ],
             [
              0.7777777777777778,
              "#fb9f3a"
             ],
             [
              0.8888888888888888,
              "#fdca26"
             ],
             [
              1,
              "#f0f921"
             ]
            ],
            "type": "histogram2d"
           }
          ],
          "histogram2dcontour": [
           {
            "colorbar": {
             "outlinewidth": 0,
             "ticks": ""
            },
            "colorscale": [
             [
              0,
              "#0d0887"
             ],
             [
              0.1111111111111111,
              "#46039f"
             ],
             [
              0.2222222222222222,
              "#7201a8"
             ],
             [
              0.3333333333333333,
              "#9c179e"
             ],
             [
              0.4444444444444444,
              "#bd3786"
             ],
             [
              0.5555555555555556,
              "#d8576b"
             ],
             [
              0.6666666666666666,
              "#ed7953"
             ],
             [
              0.7777777777777778,
              "#fb9f3a"
             ],
             [
              0.8888888888888888,
              "#fdca26"
             ],
             [
              1,
              "#f0f921"
             ]
            ],
            "type": "histogram2dcontour"
           }
          ],
          "mesh3d": [
           {
            "colorbar": {
             "outlinewidth": 0,
             "ticks": ""
            },
            "type": "mesh3d"
           }
          ],
          "parcoords": [
           {
            "line": {
             "colorbar": {
              "outlinewidth": 0,
              "ticks": ""
             }
            },
            "type": "parcoords"
           }
          ],
          "pie": [
           {
            "automargin": true,
            "type": "pie"
           }
          ],
          "scatter": [
           {
            "fillpattern": {
             "fillmode": "overlay",
             "size": 10,
             "solidity": 0.2
            },
            "type": "scatter"
           }
          ],
          "scatter3d": [
           {
            "line": {
             "colorbar": {
              "outlinewidth": 0,
              "ticks": ""
             }
            },
            "marker": {
             "colorbar": {
              "outlinewidth": 0,
              "ticks": ""
             }
            },
            "type": "scatter3d"
           }
          ],
          "scattercarpet": [
           {
            "marker": {
             "colorbar": {
              "outlinewidth": 0,
              "ticks": ""
             }
            },
            "type": "scattercarpet"
           }
          ],
          "scattergeo": [
           {
            "marker": {
             "colorbar": {
              "outlinewidth": 0,
              "ticks": ""
             }
            },
            "type": "scattergeo"
           }
          ],
          "scattergl": [
           {
            "marker": {
             "colorbar": {
              "outlinewidth": 0,
              "ticks": ""
             }
            },
            "type": "scattergl"
           }
          ],
          "scattermapbox": [
           {
            "marker": {
             "colorbar": {
              "outlinewidth": 0,
              "ticks": ""
             }
            },
            "type": "scattermapbox"
           }
          ],
          "scatterpolar": [
           {
            "marker": {
             "colorbar": {
              "outlinewidth": 0,
              "ticks": ""
             }
            },
            "type": "scatterpolar"
           }
          ],
          "scatterpolargl": [
           {
            "marker": {
             "colorbar": {
              "outlinewidth": 0,
              "ticks": ""
             }
            },
            "type": "scatterpolargl"
           }
          ],
          "scatterternary": [
           {
            "marker": {
             "colorbar": {
              "outlinewidth": 0,
              "ticks": ""
             }
            },
            "type": "scatterternary"
           }
          ],
          "surface": [
           {
            "colorbar": {
             "outlinewidth": 0,
             "ticks": ""
            },
            "colorscale": [
             [
              0,
              "#0d0887"
             ],
             [
              0.1111111111111111,
              "#46039f"
             ],
             [
              0.2222222222222222,
              "#7201a8"
             ],
             [
              0.3333333333333333,
              "#9c179e"
             ],
             [
              0.4444444444444444,
              "#bd3786"
             ],
             [
              0.5555555555555556,
              "#d8576b"
             ],
             [
              0.6666666666666666,
              "#ed7953"
             ],
             [
              0.7777777777777778,
              "#fb9f3a"
             ],
             [
              0.8888888888888888,
              "#fdca26"
             ],
             [
              1,
              "#f0f921"
             ]
            ],
            "type": "surface"
           }
          ],
          "table": [
           {
            "cells": {
             "fill": {
              "color": "#EBF0F8"
             },
             "line": {
              "color": "white"
             }
            },
            "header": {
             "fill": {
              "color": "#C8D4E3"
             },
             "line": {
              "color": "white"
             }
            },
            "type": "table"
           }
          ]
         },
         "layout": {
          "annotationdefaults": {
           "arrowcolor": "#2a3f5f",
           "arrowhead": 0,
           "arrowwidth": 1
          },
          "autotypenumbers": "strict",
          "coloraxis": {
           "colorbar": {
            "outlinewidth": 0,
            "ticks": ""
           }
          },
          "colorscale": {
           "diverging": [
            [
             0,
             "#8e0152"
            ],
            [
             0.1,
             "#c51b7d"
            ],
            [
             0.2,
             "#de77ae"
            ],
            [
             0.3,
             "#f1b6da"
            ],
            [
             0.4,
             "#fde0ef"
            ],
            [
             0.5,
             "#f7f7f7"
            ],
            [
             0.6,
             "#e6f5d0"
            ],
            [
             0.7,
             "#b8e186"
            ],
            [
             0.8,
             "#7fbc41"
            ],
            [
             0.9,
             "#4d9221"
            ],
            [
             1,
             "#276419"
            ]
           ],
           "sequential": [
            [
             0,
             "#0d0887"
            ],
            [
             0.1111111111111111,
             "#46039f"
            ],
            [
             0.2222222222222222,
             "#7201a8"
            ],
            [
             0.3333333333333333,
             "#9c179e"
            ],
            [
             0.4444444444444444,
             "#bd3786"
            ],
            [
             0.5555555555555556,
             "#d8576b"
            ],
            [
             0.6666666666666666,
             "#ed7953"
            ],
            [
             0.7777777777777778,
             "#fb9f3a"
            ],
            [
             0.8888888888888888,
             "#fdca26"
            ],
            [
             1,
             "#f0f921"
            ]
           ],
           "sequentialminus": [
            [
             0,
             "#0d0887"
            ],
            [
             0.1111111111111111,
             "#46039f"
            ],
            [
             0.2222222222222222,
             "#7201a8"
            ],
            [
             0.3333333333333333,
             "#9c179e"
            ],
            [
             0.4444444444444444,
             "#bd3786"
            ],
            [
             0.5555555555555556,
             "#d8576b"
            ],
            [
             0.6666666666666666,
             "#ed7953"
            ],
            [
             0.7777777777777778,
             "#fb9f3a"
            ],
            [
             0.8888888888888888,
             "#fdca26"
            ],
            [
             1,
             "#f0f921"
            ]
           ]
          },
          "colorway": [
           "#636efa",
           "#EF553B",
           "#00cc96",
           "#ab63fa",
           "#FFA15A",
           "#19d3f3",
           "#FF6692",
           "#B6E880",
           "#FF97FF",
           "#FECB52"
          ],
          "font": {
           "color": "#2a3f5f"
          },
          "geo": {
           "bgcolor": "white",
           "lakecolor": "white",
           "landcolor": "#E5ECF6",
           "showlakes": true,
           "showland": true,
           "subunitcolor": "white"
          },
          "hoverlabel": {
           "align": "left"
          },
          "hovermode": "closest",
          "mapbox": {
           "style": "light"
          },
          "paper_bgcolor": "white",
          "plot_bgcolor": "#E5ECF6",
          "polar": {
           "angularaxis": {
            "gridcolor": "white",
            "linecolor": "white",
            "ticks": ""
           },
           "bgcolor": "#E5ECF6",
           "radialaxis": {
            "gridcolor": "white",
            "linecolor": "white",
            "ticks": ""
           }
          },
          "scene": {
           "xaxis": {
            "backgroundcolor": "#E5ECF6",
            "gridcolor": "white",
            "gridwidth": 2,
            "linecolor": "white",
            "showbackground": true,
            "ticks": "",
            "zerolinecolor": "white"
           },
           "yaxis": {
            "backgroundcolor": "#E5ECF6",
            "gridcolor": "white",
            "gridwidth": 2,
            "linecolor": "white",
            "showbackground": true,
            "ticks": "",
            "zerolinecolor": "white"
           },
           "zaxis": {
            "backgroundcolor": "#E5ECF6",
            "gridcolor": "white",
            "gridwidth": 2,
            "linecolor": "white",
            "showbackground": true,
            "ticks": "",
            "zerolinecolor": "white"
           }
          },
          "shapedefaults": {
           "line": {
            "color": "#2a3f5f"
           }
          },
          "ternary": {
           "aaxis": {
            "gridcolor": "white",
            "linecolor": "white",
            "ticks": ""
           },
           "baxis": {
            "gridcolor": "white",
            "linecolor": "white",
            "ticks": ""
           },
           "bgcolor": "#E5ECF6",
           "caxis": {
            "gridcolor": "white",
            "linecolor": "white",
            "ticks": ""
           }
          },
          "title": {
           "x": 0.05
          },
          "xaxis": {
           "automargin": true,
           "gridcolor": "white",
           "linecolor": "white",
           "ticks": "",
           "title": {
            "standoff": 15
           },
           "zerolinecolor": "white",
           "zerolinewidth": 2
          },
          "yaxis": {
           "automargin": true,
           "gridcolor": "white",
           "linecolor": "white",
           "ticks": "",
           "title": {
            "standoff": 15
           },
           "zerolinecolor": "white",
           "zerolinewidth": 2
          }
         }
        }
       }
      }
     },
     "metadata": {},
     "output_type": "display_data"
    }
   ],
   "source": [
    "X.groupBy('default_ind').count().to_pandas_on_spark(index_col='default_ind').plot.pie(y='count')"
   ]
  },
  {
   "attachments": {},
   "cell_type": "markdown",
   "metadata": {},
   "source": [
    "Now that our training data is well sampled, let's split the training data into 70% training and 30% testing"
   ]
  },
  {
   "cell_type": "code",
   "execution_count": 70,
   "metadata": {},
   "outputs": [],
   "source": [
    "(train, test) = X.randomSplit([0.7, 0.3], seed=42)"
   ]
  },
  {
   "attachments": {},
   "cell_type": "markdown",
   "metadata": {},
   "source": [
    "## Process One (3 ML Models with Spark ML)"
   ]
  },
  {
   "cell_type": "code",
   "execution_count": 71,
   "metadata": {},
   "outputs": [],
   "source": [
    "from pyspark.ml.feature import VectorAssembler\n",
    "from pyspark.ml.evaluation import MulticlassClassificationEvaluator\n",
    "from pyspark.mllib.evaluation import MulticlassMetrics\n",
    "from pyspark.sql.types import FloatType"
   ]
  },
  {
   "cell_type": "code",
   "execution_count": 72,
   "metadata": {},
   "outputs": [],
   "source": [
    "columns = df_one_hot.columns\n",
    "columns.remove('default_ind')"
   ]
  },
  {
   "cell_type": "code",
   "execution_count": 73,
   "metadata": {},
   "outputs": [],
   "source": [
    "vector_assembler = VectorAssembler(\n",
    "    inputCols=columns,\n",
    "    outputCol=\"features\"\n",
    ")"
   ]
  },
  {
   "attachments": {},
   "cell_type": "markdown",
   "metadata": {},
   "source": [
    "### Decision Tree"
   ]
  },
  {
   "cell_type": "code",
   "execution_count": 74,
   "metadata": {},
   "outputs": [],
   "source": [
    "from pyspark.ml.classification import DecisionTreeClassifier\n",
    "from pyspark.ml import Pipeline"
   ]
  },
  {
   "cell_type": "code",
   "execution_count": 75,
   "metadata": {},
   "outputs": [],
   "source": [
    "decision_tree = DecisionTreeClassifier(labelCol='default_ind', featuresCol='features')"
   ]
  },
  {
   "cell_type": "code",
   "execution_count": 76,
   "metadata": {},
   "outputs": [],
   "source": [
    "pipeline = Pipeline(stages=[vector_assembler, decision_tree])"
   ]
  },
  {
   "cell_type": "code",
   "execution_count": 77,
   "metadata": {},
   "outputs": [
    {
     "name": "stderr",
     "output_type": "stream",
     "text": [
      "                                                                                \r"
     ]
    }
   ],
   "source": [
    "decision_tree_clf = pipeline.fit(train)"
   ]
  },
  {
   "cell_type": "code",
   "execution_count": 78,
   "metadata": {},
   "outputs": [],
   "source": [
    "predictions = decision_tree_clf.transform(test)"
   ]
  },
  {
   "cell_type": "code",
   "execution_count": 79,
   "metadata": {},
   "outputs": [
    {
     "name": "stdout",
     "output_type": "stream",
     "text": [
      "+---------+-----------+--------+-----------+----------+-----+-----------+--------------+--------+-------+---------+----------+---------+---------+-----------+---------------+---------------+-------------+------------------+----------+-----------------------+---------------+--------------------------+--------------+------------+-----------+----------------+-----------+-------------+-------------+----------------+-----------------+---------------------+--------------------------+--------------+--------------------------+-----------------------+--------------------+---------------+--------------------+----------+\n",
      "|loan_amnt|funded_amnt|int_rate|installment|annual_inc|  dti|delinq_2yrs|inq_last_6mths|open_acc|pub_rec|revol_bal|revol_util|total_acc|out_prncp|total_pymnt|total_pymnt_inv|total_rec_prncp|total_rec_int|total_rec_late_fee|recoveries|collection_recovery_fee|last_pymnt_amnt|collections_12_mths_ex_med|acc_now_delinq|tot_coll_amt|tot_cur_bal|total_rev_hi_lim|default_ind|  term_onehot| grade_onehot|sub_grade_onehot|emp_length_onehot|home_ownership_onehot|verification_status_onehot|purpose_onehot|initial_list_status_onehot|application_type_onehot|            features|  rawPrediction|         probability|prediction|\n",
      "+---------+-----------+--------+-----------+----------+-----+-----------+--------------+--------+-------+---------+----------+---------+---------+-----------+---------------+---------------+-------------+------------------+----------+-----------------------+---------------+--------------------------+--------------+------------+-----------+----------------+-----------+-------------+-------------+----------------+-----------------+---------------------+--------------------------+--------------+--------------------------+-----------------------+--------------------+---------------+--------------------+----------+\n",
      "|     1000|       1000|    7.29|      31.01|   33240.0|12.96|          0|             2|       8|      0|    15255|      86.2|       18|      0.0|      92.73|          92.73|          75.02|        17.71|               0.0|       0.0|                    0.0|          31.01|                         0|             0|           0|      80123|           23700|          1|(1,[0],[1.0])|(6,[2],[1.0])| (34,[12],[1.0])|   (11,[7],[1.0])|        (3,[2],[1.0])|             (2,[0],[1.0])|(13,[0],[1.0])|                 (1,[],[])|          (1,[0],[1.0])|(99,[0,1,2,3,4,5,...| [389.0,5287.0]|[0.06853417899929...|       1.0|\n",
      "|     1000|       1000|     8.9|      31.76|   85000.0| 0.75|          0|             0|       4|      0|      835|      24.6|        5|      0.0|    1041.65|        1041.65|         1000.0|        41.65|               0.0|       0.0|                    0.0|         883.52|                         0|             0|           0|      80123|           23700|          0|(1,[0],[1.0])|(6,[2],[1.0])|  (34,[9],[1.0])|   (11,[5],[1.0])|        (3,[1],[1.0])|                 (2,[],[])|(13,[0],[1.0])|                 (1,[],[])|          (1,[0],[1.0])|(99,[0,1,2,3,4,5,...| [389.0,5287.0]|[0.06853417899929...|       1.0|\n",
      "|     1000|       1000|    9.99|      32.27|   84000.0| 9.11|          2|             0|       5|      0|      350|      35.0|       18|      0.0|    1075.06|        1075.06|         1000.0|        75.06|               0.0|       0.0|                    0.0|         221.81|                         0|             0|           0|      80123|           23700|          0|(1,[0],[1.0])|(6,[0],[1.0])|  (34,[8],[1.0])|   (11,[3],[1.0])|        (3,[0],[1.0])|                 (2,[],[])|(13,[2],[1.0])|                 (1,[],[])|          (1,[0],[1.0])|(99,[0,1,2,3,4,5,...| [389.0,5287.0]|[0.06853417899929...|       1.0|\n",
      "|     1000|       1000|    10.0|      32.27|   13728.0|23.34|          0|             0|      13|      1|     7195|      61.5|       18|      0.0|     160.75|         160.75|         121.24|        39.51|               0.0|       0.0|                    0.0|          32.27|                         0|             0|           0|      80123|           23700|          1|(1,[0],[1.0])|(6,[0],[1.0])|  (34,[7],[1.0])|   (11,[7],[1.0])|        (3,[1],[1.0])|                 (2,[],[])|(13,[1],[1.0])|                 (1,[],[])|          (1,[0],[1.0])|(99,[0,1,2,3,4,5,...| [389.0,5287.0]|[0.06853417899929...|       1.0|\n",
      "|     1000|       1000|   10.59|      32.55|   38000.0|27.47|          0|             1|       8|      0|    58794|      97.2|       36|      0.0|     162.05|         162.05|         120.22|        41.83|               0.0|       0.0|                    0.0|          32.55|                         0|             0|           0|      80123|           23700|          1|(1,[0],[1.0])|(6,[0],[1.0])|  (34,[7],[1.0])|   (11,[7],[1.0])|        (3,[0],[1.0])|                 (2,[],[])|(13,[6],[1.0])|                 (1,[],[])|          (1,[0],[1.0])|(99,[0,1,2,3,4,5,...| [389.0,5287.0]|[0.06853417899929...|       1.0|\n",
      "|     1000|       1000|   10.59|      32.55|   55000.0|14.42|          0|             0|      12|      0|    23983|      96.7|       32|      0.0|1171.122114|        1171.12|         1000.0|       171.12|               0.0|       0.0|                    0.0|          34.66|                         0|             0|           0|      80123|           23700|          0|(1,[0],[1.0])|(6,[0],[1.0])|  (34,[7],[1.0])|   (11,[0],[1.0])|        (3,[0],[1.0])|                 (2,[],[])|(13,[0],[1.0])|                 (1,[],[])|          (1,[0],[1.0])|(99,[0,1,2,3,4,5,...| [389.0,5287.0]|[0.06853417899929...|       1.0|\n",
      "|     1000|       1000|   10.99|      32.74|   24000.0|15.35|          0|             0|       5|      0|     4418|      40.9|       11|      0.0|    1097.18|        1097.18|         143.93|        51.37|               0.0|    901.88|                  315.7|          32.74|                         0|             0|           0|      80123|           23700|          1|(1,[0],[1.0])|(6,[0],[1.0])|  (34,[1],[1.0])|   (11,[3],[1.0])|        (3,[1],[1.0])|             (2,[0],[1.0])|(13,[4],[1.0])|                 (1,[],[])|          (1,[0],[1.0])|(99,[0,1,2,3,4,5,...| [389.0,5287.0]|[0.06853417899929...|       1.0|\n",
      "|     1000|       1000|   11.99|      33.21|   19740.0| 4.26|          0|             0|       5|      0|      973|      16.8|        7|      0.0|     1152.1|         1152.1|         999.97|       152.13|               0.0|       0.0|                    0.0|         554.36|                         0|             0|        4268|        973|            5800|          0|(1,[0],[1.0])|(6,[0],[1.0])|  (34,[0],[1.0])|   (11,[7],[1.0])|        (3,[1],[1.0])|             (2,[0],[1.0])|(13,[0],[1.0])|                 (1,[],[])|          (1,[0],[1.0])|(99,[0,1,2,3,4,5,...| [389.0,5287.0]|[0.06853417899929...|       1.0|\n",
      "|     1000|       1000|   11.99|      33.21|   50000.0|15.87|          0|             3|       6|      0|     3126|      42.2|       16|   460.47|     697.41|         697.41|         539.53|       157.88|               0.0|       0.0|                    0.0|          33.21|                         0|             0|           0|     161968|            7400|          1|(1,[0],[1.0])|(6,[0],[1.0])|  (34,[0],[1.0])|   (11,[5],[1.0])|        (3,[0],[1.0])|                 (2,[],[])|(13,[1],[1.0])|             (1,[0],[1.0])|          (1,[0],[1.0])|(99,[0,1,2,3,4,5,...|[16808.0,381.0]|[0.97783466170225...|       0.0|\n",
      "|     1000|       1000|   12.68|      22.59|   24000.0| 9.15|          0|             2|      14|      0|     5204|      31.5|       30|    91.33|    1259.76|        1259.76|         908.67|       351.09|               0.0|       0.0|                    0.0|          22.59|                         0|             0|           0|      80123|           23700|          0|    (1,[],[])|(6,[1],[1.0])|  (34,[2],[1.0])|   (11,[5],[1.0])|        (3,[0],[1.0])|                 (2,[],[])|(13,[9],[1.0])|                 (1,[],[])|          (1,[0],[1.0])|(99,[0,1,2,3,4,5,...|[16808.0,381.0]|[0.97783466170225...|       0.0|\n",
      "|     1000|       1000|   12.68|      33.55|   54000.0|14.58|          0|             0|      11|      0|     6745|      63.6|       23|      0.0| 1206.32041|        1206.32|         1000.0|       206.32|               0.0|       0.0|                    0.0|          37.85|                         0|             0|           0|      80123|           23700|          0|(1,[0],[1.0])|(6,[1],[1.0])|  (34,[2],[1.0])|   (11,[0],[1.0])|        (3,[1],[1.0])|             (2,[0],[1.0])|(13,[9],[1.0])|                 (1,[],[])|          (1,[0],[1.0])|(99,[0,1,2,3,4,5,...| [389.0,5287.0]|[0.06853417899929...|       1.0|\n",
      "|     1000|       1000|   13.49|      33.94|   18000.0| 17.6|          0|             1|       6|      1|     1411|      18.6|       20|      0.0|     703.21|         703.21|          502.9|        171.9|               0.0|     28.41|                 0.2841|          33.94|                         0|             0|           0|      80123|           23700|          1|(1,[0],[1.0])|(6,[1],[1.0])|  (34,[2],[1.0])|   (11,[3],[1.0])|        (3,[1],[1.0])|             (2,[1],[1.0])|(13,[6],[1.0])|                 (1,[],[])|          (1,[0],[1.0])|(99,[0,1,2,3,4,5,...| [389.0,5287.0]|[0.06853417899929...|       1.0|\n",
      "|     1000|       1000|   13.49|      33.94|   35100.0| 6.19|          0|             1|       8|      0|     9219|      73.1|       17|      0.0|    1017.55|        1017.55|         1000.0|        17.55|               0.0|       0.0|                    0.0|         563.79|                         0|             0|           0|      80123|           23700|          0|(1,[0],[1.0])|(6,[1],[1.0])|  (34,[2],[1.0])|   (11,[9],[1.0])|        (3,[1],[1.0])|                 (2,[],[])|(13,[5],[1.0])|                 (1,[],[])|          (1,[0],[1.0])|(99,[0,1,2,3,4,5,...| [389.0,5287.0]|[0.06853417899929...|       1.0|\n",
      "|     1000|       1000|   13.49|      33.94|   76000.0|18.52|          0|             0|       9|      0|     3808|      97.6|       16|      0.0|1220.588405|        1220.59|         1000.0|       220.59|               0.0|       0.0|                    0.0|          36.33|                         0|             0|           0|      80123|           23700|          0|(1,[0],[1.0])|(6,[1],[1.0])|  (34,[2],[1.0])|   (11,[1],[1.0])|        (3,[1],[1.0])|                 (2,[],[])|(13,[4],[1.0])|                 (1,[],[])|          (1,[0],[1.0])|(99,[0,1,2,3,4,5,...| [389.0,5287.0]|[0.06853417899929...|       1.0|\n",
      "|     1000|       1000|   13.67|      34.02|   32000.0|12.19|          0|             0|       5|      0|      700|      17.5|       26|      0.0|    1033.47|        1033.47|         1000.0|        33.47|               0.0|       0.0|                    0.0|         965.57|                         0|             0|           0|      57067|            4000|          0|(1,[0],[1.0])|(6,[0],[1.0])|  (34,[6],[1.0])|   (11,[3],[1.0])|        (3,[1],[1.0])|                 (2,[],[])|(13,[0],[1.0])|                 (1,[],[])|          (1,[0],[1.0])|(99,[0,1,2,3,4,5,...| [389.0,5287.0]|[0.06853417899929...|       1.0|\n",
      "|     1000|       1000|   13.99|      34.18|   60000.0| 2.58|          0|             1|       3|      1|     5630|      62.6|       11|      0.0|      340.7|          340.7|         236.64|       104.06|               0.0|       0.0|                    0.0|          34.18|                         0|             0|           0|      80123|           23700|          1|(1,[0],[1.0])|(6,[1],[1.0])|  (34,[4],[1.0])|   (11,[6],[1.0])|        (3,[1],[1.0])|             (2,[0],[1.0])|(13,[9],[1.0])|                 (1,[],[])|          (1,[0],[1.0])|(99,[0,1,2,3,4,5,...| [389.0,5287.0]|[0.06853417899929...|       1.0|\n",
      "|     1000|       1000|   14.17|      34.27|   50000.0| 22.7|          0|             2|      13|      0|     5180|      60.9|       18|      0.0|     548.81|         548.81|         365.08|       147.32|               0.0|     36.41|                   0.39|          34.27|                         0|             0|           0|      80123|           23700|          1|(1,[0],[1.0])|(6,[1],[1.0])| (34,[10],[1.0])|       (11,[],[])|        (3,[1],[1.0])|             (2,[0],[1.0])|(13,[8],[1.0])|                 (1,[],[])|          (1,[0],[1.0])|(99,[0,1,2,3,4,5,...| [389.0,5287.0]|[0.06853417899929...|       1.0|\n",
      "|     1000|       1000|   14.96|      34.65|   12240.0|20.98|          0|             3|       4|      0|     5351|      42.8|        5|      0.0|      44.96|          44.96|            0.0|          0.0|               0.0|     44.96|                   0.44|            0.0|                         0|             0|           0|      80123|           23700|          1|(1,[0],[1.0])|(6,[3],[1.0])| (34,[13],[1.0])|   (11,[4],[1.0])|        (3,[1],[1.0])|             (2,[0],[1.0])|    (13,[],[])|                 (1,[],[])|          (1,[0],[1.0])|(99,[0,1,2,3,4,5,...| [389.0,5287.0]|[0.06853417899929...|       1.0|\n",
      "|     1000|       1000|   15.27|       34.8|   32352.0|10.42|          1|             3|       6|      1|      770|      10.8|       18|      0.0|    1072.26|        1072.26|          799.1|        244.9|               0.0|     28.26|                 0.2826|           34.8|                         0|             0|           0|      80123|           23700|          1|(1,[0],[1.0])|(6,[1],[1.0])|  (34,[5],[1.0])|   (11,[0],[1.0])|        (3,[0],[1.0])|             (2,[0],[1.0])|(13,[3],[1.0])|                 (1,[],[])|          (1,[0],[1.0])|(99,[0,1,2,3,4,5,...| [389.0,5287.0]|[0.06853417899929...|       1.0|\n",
      "|     1000|       1000|   15.27|       34.8|   38000.0|23.75|          0|             1|       3|      0|    16298|      95.3|        9|      0.0|    1252.69|        1252.69|         999.99|        252.7|               0.0|       0.0|                    0.0|          34.69|                         0|             0|           0|      80123|           23700|          0|(1,[0],[1.0])|(6,[1],[1.0])|  (34,[5],[1.0])|  (11,[10],[1.0])|        (3,[1],[1.0])|             (2,[1],[1.0])|(13,[8],[1.0])|                 (1,[],[])|          (1,[0],[1.0])|(99,[0,1,2,3,4,5,...| [389.0,5287.0]|[0.06853417899929...|       1.0|\n",
      "+---------+-----------+--------+-----------+----------+-----+-----------+--------------+--------+-------+---------+----------+---------+---------+-----------+---------------+---------------+-------------+------------------+----------+-----------------------+---------------+--------------------------+--------------+------------+-----------+----------------+-----------+-------------+-------------+----------------+-----------------+---------------------+--------------------------+--------------+--------------------------+-----------------------+--------------------+---------------+--------------------+----------+\n",
      "only showing top 20 rows\n",
      "\n"
     ]
    }
   ],
   "source": [
    "predictions.show()"
   ]
  },
  {
   "cell_type": "code",
   "execution_count": 80,
   "metadata": {},
   "outputs": [],
   "source": [
    "evaluator = MulticlassClassificationEvaluator(\n",
    "    labelCol=\"default_ind\", predictionCol=\"prediction\", metricName=\"accuracy\")"
   ]
  },
  {
   "cell_type": "code",
   "execution_count": 81,
   "metadata": {},
   "outputs": [
    {
     "name": "stderr",
     "output_type": "stream",
     "text": [
      "                                                                                \r"
     ]
    }
   ],
   "source": [
    "accuracy = evaluator.evaluate(predictions)"
   ]
  },
  {
   "cell_type": "code",
   "execution_count": 82,
   "metadata": {},
   "outputs": [
    {
     "data": {
      "text/plain": [
       "0.9688467093047246"
      ]
     },
     "execution_count": 82,
     "metadata": {},
     "output_type": "execute_result"
    }
   ],
   "source": [
    "accuracy"
   ]
  },
  {
   "attachments": {},
   "cell_type": "markdown",
   "metadata": {},
   "source": [
    "## Random Forest"
   ]
  },
  {
   "cell_type": "code",
   "execution_count": 83,
   "metadata": {},
   "outputs": [],
   "source": [
    "from pyspark.ml.classification import RandomForestClassifier"
   ]
  },
  {
   "cell_type": "code",
   "execution_count": 84,
   "metadata": {},
   "outputs": [],
   "source": [
    "random_forest = RandomForestClassifier(labelCol='default_ind', featuresCol='features')"
   ]
  },
  {
   "cell_type": "code",
   "execution_count": 85,
   "metadata": {},
   "outputs": [],
   "source": [
    "rdn_forest_pipeline = Pipeline(stages=[vector_assembler, random_forest])"
   ]
  },
  {
   "cell_type": "code",
   "execution_count": 86,
   "metadata": {},
   "outputs": [
    {
     "name": "stderr",
     "output_type": "stream",
     "text": [
      "                                                                                \r"
     ]
    }
   ],
   "source": [
    "random_forest_tree_clf = rdn_forest_pipeline.fit(train)"
   ]
  },
  {
   "cell_type": "code",
   "execution_count": 87,
   "metadata": {},
   "outputs": [],
   "source": [
    "predictions = random_forest_tree_clf.transform(test)"
   ]
  },
  {
   "cell_type": "code",
   "execution_count": 88,
   "metadata": {},
   "outputs": [
    {
     "name": "stdout",
     "output_type": "stream",
     "text": [
      "+-----------+----------+\n",
      "|default_ind|prediction|\n",
      "+-----------+----------+\n",
      "|          1|       1.0|\n",
      "|          0|       1.0|\n",
      "|          0|       1.0|\n",
      "|          1|       1.0|\n",
      "|          1|       1.0|\n",
      "|          0|       1.0|\n",
      "|          1|       1.0|\n",
      "|          0|       1.0|\n",
      "|          1|       0.0|\n",
      "|          0|       0.0|\n",
      "|          0|       1.0|\n",
      "|          1|       1.0|\n",
      "|          0|       1.0|\n",
      "|          0|       1.0|\n",
      "|          0|       1.0|\n",
      "|          1|       1.0|\n",
      "|          1|       1.0|\n",
      "|          1|       1.0|\n",
      "|          1|       1.0|\n",
      "|          0|       1.0|\n",
      "+-----------+----------+\n",
      "only showing top 20 rows\n",
      "\n"
     ]
    }
   ],
   "source": [
    "predictions.select('default_ind', 'prediction').show()"
   ]
  },
  {
   "cell_type": "code",
   "execution_count": 89,
   "metadata": {},
   "outputs": [],
   "source": [
    "evaluator = MulticlassClassificationEvaluator(\n",
    "    labelCol=\"default_ind\", predictionCol=\"prediction\", metricName=\"accuracy\")"
   ]
  },
  {
   "cell_type": "code",
   "execution_count": 90,
   "metadata": {},
   "outputs": [
    {
     "name": "stderr",
     "output_type": "stream",
     "text": [
      "                                                                                \r"
     ]
    }
   ],
   "source": [
    "accuracy = evaluator.evaluate(predictions)"
   ]
  },
  {
   "cell_type": "code",
   "execution_count": 91,
   "metadata": {},
   "outputs": [
    {
     "data": {
      "text/plain": [
       "0.9518877656282236"
      ]
     },
     "execution_count": 91,
     "metadata": {},
     "output_type": "execute_result"
    }
   ],
   "source": [
    "accuracy"
   ]
  },
  {
   "attachments": {},
   "cell_type": "markdown",
   "metadata": {},
   "source": [
    "# Feed Forward Network"
   ]
  },
  {
   "cell_type": "code",
   "execution_count": 92,
   "metadata": {},
   "outputs": [],
   "source": [
    "from pyspark.ml.classification import MultilayerPerceptronClassifier"
   ]
  },
  {
   "cell_type": "code",
   "execution_count": 93,
   "metadata": {},
   "outputs": [],
   "source": [
    "train_df_features = vector_assembler.transform(train)\n",
    "MLP = MultilayerPerceptronClassifier(layers=[train_df_features.schema[\"features\"].metadata[\"ml_attr\"][\"num_attrs\"], 4,4,2], labelCol='default_ind', featuresCol='features', seed=42)\n",
    "pipeline = Pipeline(stages=[vector_assembler, MLP])"
   ]
  },
  {
   "cell_type": "code",
   "execution_count": 94,
   "metadata": {},
   "outputs": [
    {
     "name": "stderr",
     "output_type": "stream",
     "text": [
      "23/05/31 21:19:42 WARN BLAS: Failed to load implementation from: com.github.fommil.netlib.NativeSystemBLAS\n",
      "23/05/31 21:19:42 WARN BLAS: Failed to load implementation from: com.github.fommil.netlib.NativeRefBLAS\n"
     ]
    }
   ],
   "source": [
    "mlp_clf = pipeline.fit(train)"
   ]
  },
  {
   "cell_type": "code",
   "execution_count": 95,
   "metadata": {},
   "outputs": [],
   "source": [
    "predictions = mlp_clf.transform(test)"
   ]
  },
  {
   "cell_type": "code",
   "execution_count": 96,
   "metadata": {},
   "outputs": [
    {
     "name": "stderr",
     "output_type": "stream",
     "text": [
      "                                                                                \r"
     ]
    },
    {
     "data": {
      "text/plain": [
       "0.9319166494739014"
      ]
     },
     "execution_count": 96,
     "metadata": {},
     "output_type": "execute_result"
    }
   ],
   "source": [
    "evaluator = MulticlassClassificationEvaluator(\n",
    "    labelCol=\"default_ind\", predictionCol=\"prediction\", metricName=\"accuracy\")\n",
    "accuracy = evaluator.evaluate(predictions)\n",
    "accuracy"
   ]
  },
  {
   "cell_type": "code",
   "execution_count": 97,
   "metadata": {},
   "outputs": [
    {
     "name": "stderr",
     "output_type": "stream",
     "text": [
      "[Stage 920:>                                                      (0 + 12) / 12]\r"
     ]
    },
    {
     "name": "stdout",
     "output_type": "stream",
     "text": [
      "+----------+-----------+-----+\n",
      "|prediction|default_ind|label|\n",
      "+----------+-----------+-----+\n",
      "|       0.0|          0|  0.0|\n",
      "|       0.0|          0|  0.0|\n",
      "|       0.0|          1|  1.0|\n",
      "|       0.0|          0|  0.0|\n",
      "|       0.0|          0|  0.0|\n",
      "|       0.0|          0|  0.0|\n",
      "|       0.0|          0|  0.0|\n",
      "|       0.0|          0|  0.0|\n",
      "|       0.0|          0|  0.0|\n",
      "|       0.0|          0|  0.0|\n",
      "|       0.0|          0|  0.0|\n",
      "|       0.0|          0|  0.0|\n",
      "|       0.0|          0|  0.0|\n",
      "|       0.0|          0|  0.0|\n",
      "|       0.0|          0|  0.0|\n",
      "|       0.0|          0|  0.0|\n",
      "|       0.0|          0|  0.0|\n",
      "|       0.0|          0|  0.0|\n",
      "|       0.0|          0|  0.0|\n",
      "|       0.0|          0|  0.0|\n",
      "+----------+-----------+-----+\n",
      "only showing top 20 rows\n",
      "\n"
     ]
    },
    {
     "name": "stderr",
     "output_type": "stream",
     "text": [
      "                                                                                \r"
     ]
    }
   ],
   "source": [
    "preds_and_labels = predictions.select(['prediction','default_ind']).withColumn('label', predictions['default_ind'].cast(FloatType())).orderBy('prediction')\n",
    "preds_and_labels.show()"
   ]
  },
  {
   "cell_type": "code",
   "execution_count": 98,
   "metadata": {},
   "outputs": [
    {
     "name": "stderr",
     "output_type": "stream",
     "text": [
      "/home/huukhang1512/miniconda3/envs/tf/lib/python3.9/site-packages/pyspark/sql/context.py:125: FutureWarning:\n",
      "\n",
      "Deprecated in 3.0.0. Use SparkSession.builder.getOrCreate() instead.\n",
      "\n",
      "                                                                                \r"
     ]
    }
   ],
   "source": [
    "\n",
    "preds_and_labels = preds_and_labels.select(['prediction','label'])\n",
    "metrics = MulticlassMetrics(preds_and_labels.rdd.map(tuple))\n",
    "\n",
    "confusion_matrix = metrics.confusionMatrix()"
   ]
  },
  {
   "cell_type": "code",
   "execution_count": 99,
   "metadata": {},
   "outputs": [
    {
     "data": {
      "text/plain": [
       "array([[11171.,   990.],\n",
       "       [  660., 11414.]])"
      ]
     },
     "execution_count": 99,
     "metadata": {},
     "output_type": "execute_result"
    }
   ],
   "source": [
    "confusion_matrix.toArray()"
   ]
  },
  {
   "attachments": {},
   "cell_type": "markdown",
   "metadata": {},
   "source": [
    "## Process Two (3 ML Models with TensorFlow and Keras)"
   ]
  },
  {
   "cell_type": "code",
   "execution_count": 100,
   "metadata": {},
   "outputs": [
    {
     "name": "stderr",
     "output_type": "stream",
     "text": [
      "2023-05-31 21:19:56.505569: I tensorflow/core/platform/cpu_feature_guard.cc:182] This TensorFlow binary is optimized to use available CPU instructions in performance-critical operations.\n",
      "To enable the following instructions: AVX2 FMA, in other operations, rebuild TensorFlow with the appropriate compiler flags.\n",
      "2023-05-31 21:19:56.945200: W tensorflow/compiler/tf2tensorrt/utils/py_utils.cc:38] TF-TRT Warning: Could not find TensorRT\n"
     ]
    }
   ],
   "source": [
    "import tensorflow as tf\n",
    "import pandas as pd\n",
    "pd.set_option('display.max_rows', None)"
   ]
  },
  {
   "cell_type": "code",
   "execution_count": 101,
   "metadata": {},
   "outputs": [
    {
     "name": "stdout",
     "output_type": "stream",
     "text": [
      "1 Physical GPUs, 1 Logical GPUs\n"
     ]
    },
    {
     "name": "stderr",
     "output_type": "stream",
     "text": [
      "2023-05-31 21:19:57.447192: I tensorflow/compiler/xla/stream_executor/cuda/cuda_gpu_executor.cc:996] successful NUMA node read from SysFS had negative value (-1), but there must be at least one NUMA node, so returning NUMA node zero. See more at https://github.com/torvalds/linux/blob/v6.0/Documentation/ABI/testing/sysfs-bus-pci#L344-L355\n",
      "2023-05-31 21:19:57.465530: I tensorflow/compiler/xla/stream_executor/cuda/cuda_gpu_executor.cc:996] successful NUMA node read from SysFS had negative value (-1), but there must be at least one NUMA node, so returning NUMA node zero. See more at https://github.com/torvalds/linux/blob/v6.0/Documentation/ABI/testing/sysfs-bus-pci#L344-L355\n",
      "2023-05-31 21:19:57.465670: I tensorflow/compiler/xla/stream_executor/cuda/cuda_gpu_executor.cc:996] successful NUMA node read from SysFS had negative value (-1), but there must be at least one NUMA node, so returning NUMA node zero. See more at https://github.com/torvalds/linux/blob/v6.0/Documentation/ABI/testing/sysfs-bus-pci#L344-L355\n",
      "2023-05-31 21:19:57.466509: I tensorflow/compiler/xla/stream_executor/cuda/cuda_gpu_executor.cc:996] successful NUMA node read from SysFS had negative value (-1), but there must be at least one NUMA node, so returning NUMA node zero. See more at https://github.com/torvalds/linux/blob/v6.0/Documentation/ABI/testing/sysfs-bus-pci#L344-L355\n",
      "2023-05-31 21:19:57.466633: I tensorflow/compiler/xla/stream_executor/cuda/cuda_gpu_executor.cc:996] successful NUMA node read from SysFS had negative value (-1), but there must be at least one NUMA node, so returning NUMA node zero. See more at https://github.com/torvalds/linux/blob/v6.0/Documentation/ABI/testing/sysfs-bus-pci#L344-L355\n",
      "2023-05-31 21:19:57.466741: I tensorflow/compiler/xla/stream_executor/cuda/cuda_gpu_executor.cc:996] successful NUMA node read from SysFS had negative value (-1), but there must be at least one NUMA node, so returning NUMA node zero. See more at https://github.com/torvalds/linux/blob/v6.0/Documentation/ABI/testing/sysfs-bus-pci#L344-L355\n",
      "2023-05-31 21:19:57.846627: I tensorflow/compiler/xla/stream_executor/cuda/cuda_gpu_executor.cc:996] successful NUMA node read from SysFS had negative value (-1), but there must be at least one NUMA node, so returning NUMA node zero. See more at https://github.com/torvalds/linux/blob/v6.0/Documentation/ABI/testing/sysfs-bus-pci#L344-L355\n",
      "2023-05-31 21:19:57.846783: I tensorflow/compiler/xla/stream_executor/cuda/cuda_gpu_executor.cc:996] successful NUMA node read from SysFS had negative value (-1), but there must be at least one NUMA node, so returning NUMA node zero. See more at https://github.com/torvalds/linux/blob/v6.0/Documentation/ABI/testing/sysfs-bus-pci#L344-L355\n",
      "2023-05-31 21:19:57.846899: I tensorflow/compiler/xla/stream_executor/cuda/cuda_gpu_executor.cc:996] successful NUMA node read from SysFS had negative value (-1), but there must be at least one NUMA node, so returning NUMA node zero. See more at https://github.com/torvalds/linux/blob/v6.0/Documentation/ABI/testing/sysfs-bus-pci#L344-L355\n",
      "2023-05-31 21:19:57.846993: I tensorflow/core/common_runtime/gpu/gpu_device.cc:1635] Created device /job:localhost/replica:0/task:0/device:GPU:0 with 5759 MB memory:  -> device: 0, name: NVIDIA GeForce RTX 2080, pci bus id: 0000:07:00.0, compute capability: 7.5\n"
     ]
    }
   ],
   "source": [
    "gpus = tf.config.experimental.list_physical_devices('GPU')\n",
    "if gpus:\n",
    "    try:\n",
    "        # Currently, memory growth needs to be the same across GPUs\n",
    "        for gpu in gpus:\n",
    "            tf.config.experimental.set_memory_growth(gpu, True)\n",
    "        logical_gpus = tf.config.experimental.list_logical_devices('GPU')\n",
    "        print(len(gpus), \"Physical GPUs,\", len(logical_gpus), \"Logical GPUs\")\n",
    "    except RuntimeError as e:\n",
    "        # Memory growth must be set before GPUs have been initialized\n",
    "        print(e)"
   ]
  },
  {
   "cell_type": "code",
   "execution_count": 102,
   "metadata": {},
   "outputs": [
    {
     "name": "stderr",
     "output_type": "stream",
     "text": [
      "                                                                                \r"
     ]
    }
   ],
   "source": [
    "df_pandas = df.toPandas().sample(frac=1, random_state=42)"
   ]
  },
  {
   "cell_type": "code",
   "execution_count": 103,
   "metadata": {},
   "outputs": [],
   "source": [
    "df_pandas = pd.get_dummies(data=df_pandas, columns=categorical_cols)"
   ]
  },
  {
   "cell_type": "code",
   "execution_count": 104,
   "metadata": {},
   "outputs": [],
   "source": [
    "df_pandas = df_pandas.groupby('default_ind').sample(n=default_records, random_state=42)"
   ]
  },
  {
   "cell_type": "code",
   "execution_count": 105,
   "metadata": {},
   "outputs": [
    {
     "data": {
      "text/plain": [
       "loan_amnt                                int32\n",
       "funded_amnt                              int32\n",
       "int_rate                               float64\n",
       "installment                            float64\n",
       "annual_inc                             float64\n",
       "dti                                    float64\n",
       "delinq_2yrs                              int32\n",
       "inq_last_6mths                           int32\n",
       "open_acc                                 int32\n",
       "pub_rec                                  int32\n",
       "revol_bal                                int32\n",
       "revol_util                             float64\n",
       "total_acc                                int32\n",
       "out_prncp                              float64\n",
       "total_pymnt                            float64\n",
       "total_pymnt_inv                        float64\n",
       "total_rec_prncp                        float64\n",
       "total_rec_int                          float64\n",
       "total_rec_late_fee                     float64\n",
       "recoveries                             float64\n",
       "collection_recovery_fee                float64\n",
       "last_pymnt_amnt                        float64\n",
       "collections_12_mths_ex_med               int32\n",
       "acc_now_delinq                           int32\n",
       "tot_coll_amt                             int32\n",
       "tot_cur_bal                              int32\n",
       "total_rev_hi_lim                         int32\n",
       "default_ind                              int32\n",
       "term_ 36 months                          uint8\n",
       "term_ 60 months                          uint8\n",
       "grade_A                                  uint8\n",
       "grade_B                                  uint8\n",
       "grade_C                                  uint8\n",
       "grade_D                                  uint8\n",
       "grade_E                                  uint8\n",
       "grade_F                                  uint8\n",
       "grade_G                                  uint8\n",
       "sub_grade_A1                             uint8\n",
       "sub_grade_A2                             uint8\n",
       "sub_grade_A3                             uint8\n",
       "sub_grade_A4                             uint8\n",
       "sub_grade_A5                             uint8\n",
       "sub_grade_B1                             uint8\n",
       "sub_grade_B2                             uint8\n",
       "sub_grade_B3                             uint8\n",
       "sub_grade_B4                             uint8\n",
       "sub_grade_B5                             uint8\n",
       "sub_grade_C1                             uint8\n",
       "sub_grade_C2                             uint8\n",
       "sub_grade_C3                             uint8\n",
       "sub_grade_C4                             uint8\n",
       "sub_grade_C5                             uint8\n",
       "sub_grade_D1                             uint8\n",
       "sub_grade_D2                             uint8\n",
       "sub_grade_D3                             uint8\n",
       "sub_grade_D4                             uint8\n",
       "sub_grade_D5                             uint8\n",
       "sub_grade_E1                             uint8\n",
       "sub_grade_E2                             uint8\n",
       "sub_grade_E3                             uint8\n",
       "sub_grade_E4                             uint8\n",
       "sub_grade_E5                             uint8\n",
       "sub_grade_F1                             uint8\n",
       "sub_grade_F2                             uint8\n",
       "sub_grade_F3                             uint8\n",
       "sub_grade_F4                             uint8\n",
       "sub_grade_F5                             uint8\n",
       "sub_grade_G1                             uint8\n",
       "sub_grade_G2                             uint8\n",
       "sub_grade_G3                             uint8\n",
       "sub_grade_G4                             uint8\n",
       "sub_grade_G5                             uint8\n",
       "emp_length_1 year                        uint8\n",
       "emp_length_10+ years                     uint8\n",
       "emp_length_2 years                       uint8\n",
       "emp_length_3 years                       uint8\n",
       "emp_length_4 years                       uint8\n",
       "emp_length_5 years                       uint8\n",
       "emp_length_6 years                       uint8\n",
       "emp_length_7 years                       uint8\n",
       "emp_length_8 years                       uint8\n",
       "emp_length_9 years                       uint8\n",
       "emp_length_< 1 year                      uint8\n",
       "emp_length_n/a                           uint8\n",
       "home_ownership_MORTGAGE                  uint8\n",
       "home_ownership_OTHER                     uint8\n",
       "home_ownership_OWN                       uint8\n",
       "home_ownership_RENT                      uint8\n",
       "verification_status_Not Verified         uint8\n",
       "verification_status_Source Verified      uint8\n",
       "verification_status_Verified             uint8\n",
       "purpose_car                              uint8\n",
       "purpose_credit_card                      uint8\n",
       "purpose_debt_consolidation               uint8\n",
       "purpose_educational                      uint8\n",
       "purpose_home_improvement                 uint8\n",
       "purpose_house                            uint8\n",
       "purpose_major_purchase                   uint8\n",
       "purpose_medical                          uint8\n",
       "purpose_moving                           uint8\n",
       "purpose_other                            uint8\n",
       "purpose_renewable_energy                 uint8\n",
       "purpose_small_business                   uint8\n",
       "purpose_vacation                         uint8\n",
       "purpose_wedding                          uint8\n",
       "initial_list_status_f                    uint8\n",
       "initial_list_status_w                    uint8\n",
       "application_type_INDIVIDUAL              uint8\n",
       "application_type_JOINT                   uint8\n",
       "dtype: object"
      ]
     },
     "execution_count": 105,
     "metadata": {},
     "output_type": "execute_result"
    }
   ],
   "source": [
    "df_pandas.dtypes"
   ]
  },
  {
   "cell_type": "code",
   "execution_count": 106,
   "metadata": {},
   "outputs": [],
   "source": [
    "uint8_cols = df_pandas.select_dtypes(include='uint8').columns.to_list()"
   ]
  },
  {
   "cell_type": "code",
   "execution_count": 107,
   "metadata": {},
   "outputs": [],
   "source": [
    "df_pandas[uint8_cols] = df_pandas[uint8_cols].astype('int32')"
   ]
  },
  {
   "cell_type": "code",
   "execution_count": 108,
   "metadata": {},
   "outputs": [],
   "source": [
    "split_index = int(0.7 * len(df_pandas))\n",
    "(train, test) = (df_pandas[:split_index], df_pandas[split_index:])"
   ]
  },
  {
   "cell_type": "code",
   "execution_count": 109,
   "metadata": {},
   "outputs": [],
   "source": [
    "import tensorflow_decision_forests as tfdf"
   ]
  },
  {
   "cell_type": "code",
   "execution_count": 110,
   "metadata": {},
   "outputs": [
    {
     "name": "stdout",
     "output_type": "stream",
     "text": [
      "Warning: Some of the feature names have been changed automatically to be compatible with SavedModels because fix_feature_names=True.\n"
     ]
    },
    {
     "name": "stderr",
     "output_type": "stream",
     "text": [
      "WARNING:absl:Some of the feature names have been changed automatically to be compatible with SavedModels because fix_feature_names=True.\n"
     ]
    },
    {
     "name": "stdout",
     "output_type": "stream",
     "text": [
      "Warning: Some of the feature names have been changed automatically to be compatible with SavedModels because fix_feature_names=True.\n"
     ]
    },
    {
     "name": "stderr",
     "output_type": "stream",
     "text": [
      "WARNING:absl:Some of the feature names have been changed automatically to be compatible with SavedModels because fix_feature_names=True.\n"
     ]
    }
   ],
   "source": [
    "X_train = tfdf.keras.pd_dataframe_to_tf_dataset(train, label=\"default_ind\")\n",
    "X_test = tfdf.keras.pd_dataframe_to_tf_dataset(test, label=\"default_ind\")"
   ]
  },
  {
   "attachments": {},
   "cell_type": "markdown",
   "metadata": {},
   "source": [
    "### Decision Tree"
   ]
  },
  {
   "cell_type": "code",
   "execution_count": 111,
   "metadata": {},
   "outputs": [
    {
     "data": {
      "text/plain": [
       "tensorflow_decision_forests.keras.RandomForestModel"
      ]
     },
     "execution_count": 111,
     "metadata": {},
     "output_type": "execute_result"
    }
   ],
   "source": [
    "tfdf.keras.RandomForestModel"
   ]
  },
  {
   "attachments": {},
   "cell_type": "markdown",
   "metadata": {},
   "source": [
    "### Random Forrest"
   ]
  },
  {
   "cell_type": "code",
   "execution_count": 112,
   "metadata": {},
   "outputs": [
    {
     "name": "stdout",
     "output_type": "stream",
     "text": [
      "Use /tmp/tmpes117bzw as temporary training directory\n",
      "Reading training dataset...\n"
     ]
    },
    {
     "name": "stderr",
     "output_type": "stream",
     "text": [
      "2023-05-31 21:20:32.749784: I tensorflow/core/common_runtime/executor.cc:1197] [/device:CPU:0] (DEBUG INFO) Executor start aborting (this does not indicate an error and you can ignore this message): INVALID_ARGUMENT: You must feed a value for placeholder tensor 'Placeholder/_71' with dtype int32 and shape [56924]\n",
      "\t [[{{node Placeholder/_71}}]]\n"
     ]
    },
    {
     "name": "stdout",
     "output_type": "stream",
     "text": [
      "Training dataset read in 0:00:03.788670. Found 56924 examples.\n",
      "Training model...\n"
     ]
    },
    {
     "name": "stderr",
     "output_type": "stream",
     "text": [
      "[INFO 23-05-31 21:20:42.0518 AEST kernel.cc:1242] Loading model from path /tmp/tmpes117bzw/model/ with prefix 82ce417360444662\n"
     ]
    },
    {
     "name": "stdout",
     "output_type": "stream",
     "text": [
      "Model trained in 0:00:05.884123\n",
      "Compiling model...\n"
     ]
    },
    {
     "name": "stderr",
     "output_type": "stream",
     "text": [
      "[INFO 23-05-31 21:20:42.3529 AEST decision_forest.cc:660] Model loaded with 300 root(s), 342438 node(s), and 104 input feature(s).\n",
      "[INFO 23-05-31 21:20:42.3529 AEST abstract_model.cc:1311] Engine \"RandomForestOptPred\" built\n",
      "[INFO 23-05-31 21:20:42.3529 AEST kernel.cc:1074] Use fast generic engine\n",
      "2023-05-31 21:20:42.421912: I tensorflow/core/common_runtime/executor.cc:1197] [/device:CPU:0] (DEBUG INFO) Executor start aborting (this does not indicate an error and you can ignore this message): INVALID_ARGUMENT: You must feed a value for placeholder tensor 'Placeholder/_13' with dtype int32 and shape [56924]\n",
      "\t [[{{node Placeholder/_13}}]]\n",
      "WARNING:tensorflow:AutoGraph could not transform <function simple_ml_inference_op_with_handle at 0x7fe67b2ca700> and will run it as-is.\n",
      "Please report this to the TensorFlow team. When filing the bug, set the verbosity to 10 (on Linux, `export AUTOGRAPH_VERBOSITY=10`) and attach the full output.\n",
      "Cause: could not get source code\n",
      "To silence this warning, decorate the function with @tf.autograph.experimental.do_not_convert\n"
     ]
    },
    {
     "name": "stdout",
     "output_type": "stream",
     "text": [
      "WARNING: AutoGraph could not transform <function simple_ml_inference_op_with_handle at 0x7fe67b2ca700> and will run it as-is.\n",
      "Please report this to the TensorFlow team. When filing the bug, set the verbosity to 10 (on Linux, `export AUTOGRAPH_VERBOSITY=10`) and attach the full output.\n",
      "Cause: could not get source code\n",
      "To silence this warning, decorate the function with @tf.autograph.experimental.do_not_convert\n",
      "Model compiled.\n"
     ]
    },
    {
     "data": {
      "text/plain": [
       "<keras.callbacks.History at 0x7fe679a01b20>"
      ]
     },
     "execution_count": 112,
     "metadata": {},
     "output_type": "execute_result"
    }
   ],
   "source": [
    "model = tfdf.keras.RandomForestModel()\n",
    "model.fit(X_train)"
   ]
  },
  {
   "cell_type": "code",
   "execution_count": 113,
   "metadata": {},
   "outputs": [
    {
     "name": "stdout",
     "output_type": "stream",
     "text": [
      "Model: \"random_forest_model\"\n",
      "_________________________________________________________________\n",
      " Layer (type)                Output Shape              Param #   \n",
      "=================================================================\n",
      "=================================================================\n",
      "Total params: 1\n",
      "Trainable params: 0\n",
      "Non-trainable params: 1\n",
      "_________________________________________________________________\n",
      "Type: \"RANDOM_FOREST\"\n",
      "Task: CLASSIFICATION\n",
      "Label: \"__LABEL\"\n",
      "\n",
      "Input Features (108):\n",
      "\tacc_now_delinq\n",
      "\tannual_inc\n",
      "\tapplication_type_INDIVIDUAL\n",
      "\tapplication_type_JOINT\n",
      "\tcollection_recovery_fee\n",
      "\tcollections_12_mths_ex_med\n",
      "\tdelinq_2yrs\n",
      "\tdti\n",
      "\temp_length_10+_years\n",
      "\temp_length_1_year\n",
      "\temp_length_2_years\n",
      "\temp_length_3_years\n",
      "\temp_length_4_years\n",
      "\temp_length_5_years\n",
      "\temp_length_6_years\n",
      "\temp_length_7_years\n",
      "\temp_length_8_years\n",
      "\temp_length_9_years\n",
      "\temp_length_<_1_year\n",
      "\temp_length_n/a\n",
      "\tfunded_amnt\n",
      "\tgrade_A\n",
      "\tgrade_B\n",
      "\tgrade_C\n",
      "\tgrade_D\n",
      "\tgrade_E\n",
      "\tgrade_F\n",
      "\tgrade_G\n",
      "\thome_ownership_MORTGAGE\n",
      "\thome_ownership_OTHER\n",
      "\thome_ownership_OWN\n",
      "\thome_ownership_RENT\n",
      "\tinitial_list_status_f\n",
      "\tinitial_list_status_w\n",
      "\tinq_last_6mths\n",
      "\tinstallment\n",
      "\tint_rate\n",
      "\tlast_pymnt_amnt\n",
      "\tloan_amnt\n",
      "\topen_acc\n",
      "\tout_prncp\n",
      "\tpub_rec\n",
      "\tpurpose_car\n",
      "\tpurpose_credit_card\n",
      "\tpurpose_debt_consolidation\n",
      "\tpurpose_educational\n",
      "\tpurpose_home_improvement\n",
      "\tpurpose_house\n",
      "\tpurpose_major_purchase\n",
      "\tpurpose_medical\n",
      "\tpurpose_moving\n",
      "\tpurpose_other\n",
      "\tpurpose_renewable_energy\n",
      "\tpurpose_small_business\n",
      "\tpurpose_vacation\n",
      "\tpurpose_wedding\n",
      "\trecoveries\n",
      "\trevol_bal\n",
      "\trevol_util\n",
      "\tsub_grade_A1\n",
      "\tsub_grade_A2\n",
      "\tsub_grade_A3\n",
      "\tsub_grade_A4\n",
      "\tsub_grade_A5\n",
      "\tsub_grade_B1\n",
      "\tsub_grade_B2\n",
      "\tsub_grade_B3\n",
      "\tsub_grade_B4\n",
      "\tsub_grade_B5\n",
      "\tsub_grade_C1\n",
      "\tsub_grade_C2\n",
      "\tsub_grade_C3\n",
      "\tsub_grade_C4\n",
      "\tsub_grade_C5\n",
      "\tsub_grade_D1\n",
      "\tsub_grade_D2\n",
      "\tsub_grade_D3\n",
      "\tsub_grade_D4\n",
      "\tsub_grade_D5\n",
      "\tsub_grade_E1\n",
      "\tsub_grade_E2\n",
      "\tsub_grade_E3\n",
      "\tsub_grade_E4\n",
      "\tsub_grade_E5\n",
      "\tsub_grade_F1\n",
      "\tsub_grade_F2\n",
      "\tsub_grade_F3\n",
      "\tsub_grade_F4\n",
      "\tsub_grade_F5\n",
      "\tsub_grade_G1\n",
      "\tsub_grade_G2\n",
      "\tsub_grade_G3\n",
      "\tsub_grade_G4\n",
      "\tsub_grade_G5\n",
      "\tterm__36_months\n",
      "\tterm__60_months\n",
      "\ttot_coll_amt\n",
      "\ttot_cur_bal\n",
      "\ttotal_acc\n",
      "\ttotal_pymnt\n",
      "\ttotal_pymnt_inv\n",
      "\ttotal_rec_int\n",
      "\ttotal_rec_late_fee\n",
      "\ttotal_rec_prncp\n",
      "\ttotal_rev_hi_lim\n",
      "\tverification_status_Not_Verified\n",
      "\tverification_status_Source_Verified\n",
      "\tverification_status_Verified\n",
      "\n",
      "No weights\n",
      "\n",
      "Variable Importance: INV_MEAN_MIN_DEPTH:\n",
      "    1.                           \"out_prncp\"  0.140858 ################\n",
      "    2.                            \"int_rate\"  0.124095 ###########\n",
      "    3.                     \"last_pymnt_amnt\"  0.118425 ##########\n",
      "    4.                          \"recoveries\"  0.116205 #########\n",
      "    5.                     \"total_rec_prncp\"  0.112605 ########\n",
      "    6.                  \"total_rec_late_fee\"  0.109209 ########\n",
      "    7.             \"collection_recovery_fee\"  0.102739 ######\n",
      "    8.                       \"total_rec_int\"  0.101593 ######\n",
      "    9.                     \"total_pymnt_inv\"  0.100791 ######\n",
      "   10.                         \"total_pymnt\"  0.097455 #####\n",
      "   11.                             \"grade_A\"  0.092673 ####\n",
      "   12.               \"initial_list_status_f\"  0.091161 ###\n",
      "   13.                          \"annual_inc\"  0.090966 ###\n",
      "   14.                    \"total_rev_hi_lim\"  0.090423 ###\n",
      "   15.                         \"tot_cur_bal\"  0.088940 ###\n",
      "   16.               \"initial_list_status_w\"  0.088610 ###\n",
      "   17.                      \"inq_last_6mths\"  0.087825 ##\n",
      "   18.                         \"installment\"  0.085898 ##\n",
      "   19.                           \"loan_amnt\"  0.084819 ##\n",
      "   20.                                 \"dti\"  0.084775 ##\n",
      "   21.                         \"funded_amnt\"  0.084737 ##\n",
      "   22.                             \"grade_B\"  0.084165 #\n",
      "   23.                          \"revol_util\"  0.083053 #\n",
      "   24.                             \"grade_D\"  0.082861 #\n",
      "   25.                             \"grade_E\"  0.082192 #\n",
      "   26.                             \"grade_F\"  0.082000 #\n",
      "   27.                           \"revol_bal\"  0.081866 #\n",
      "   28.        \"verification_status_Verified\"  0.081409 #\n",
      "   29.                     \"term__36_months\"  0.080439 \n",
      "   30.                     \"term__60_months\"  0.080388 \n",
      "   31.                           \"total_acc\"  0.080133 \n",
      "   32.                            \"open_acc\"  0.079818 \n",
      "   33.                        \"sub_grade_A1\"  0.079478 \n",
      "   34.                 \"home_ownership_RENT\"  0.079379 \n",
      "   35.                        \"tot_coll_amt\"  0.078933 \n",
      "   36.             \"home_ownership_MORTGAGE\"  0.078665 \n",
      "   37. \"verification_status_Source_Verified\"  0.078547 \n",
      "   38.                             \"grade_C\"  0.078105 \n",
      "   39.                             \"pub_rec\"  0.077816 \n",
      "   40.                        \"sub_grade_A4\"  0.077709 \n",
      "   41.                 \"purpose_credit_card\"  0.077703 \n",
      "   42.                        \"sub_grade_A5\"  0.077627 \n",
      "   43.                        \"sub_grade_A2\"  0.077592 \n",
      "   44.                        \"sub_grade_B2\"  0.077582 \n",
      "   45.                        \"sub_grade_F3\"  0.077536 \n",
      "   46.    \"verification_status_Not_Verified\"  0.077502 \n",
      "   47.                        \"sub_grade_C4\"  0.077455 \n",
      "   48.                         \"delinq_2yrs\"  0.077280 \n",
      "   49.                        \"sub_grade_B1\"  0.077162 \n",
      "   50.          \"purpose_debt_consolidation\"  0.077154 \n",
      "   51.                             \"grade_G\"  0.077122 \n",
      "   52.                        \"sub_grade_C5\"  0.077112 \n",
      "   53.                        \"sub_grade_E3\"  0.077044 \n",
      "   54.                        \"sub_grade_A3\"  0.077018 \n",
      "   55.                        \"sub_grade_E2\"  0.076976 \n",
      "   56.                        \"sub_grade_C2\"  0.076961 \n",
      "   57.                \"emp_length_10+_years\"  0.076949 \n",
      "   58.                        \"sub_grade_C1\"  0.076896 \n",
      "   59.                   \"emp_length_1_year\"  0.076879 \n",
      "   60.                        \"sub_grade_D1\"  0.076876 \n",
      "   61.                      \"emp_length_n/a\"  0.076860 \n",
      "   62.                  \"emp_length_7_years\"  0.076858 \n",
      "   63.                        \"sub_grade_D4\"  0.076836 \n",
      "   64.                        \"sub_grade_D2\"  0.076818 \n",
      "   65.                  \"home_ownership_OWN\"  0.076795 \n",
      "   66.                        \"sub_grade_B5\"  0.076793 \n",
      "   67.                        \"sub_grade_B4\"  0.076773 \n",
      "   68.              \"purpose_small_business\"  0.076766 \n",
      "   69.                        \"sub_grade_C3\"  0.076759 \n",
      "   70.                        \"sub_grade_D5\"  0.076742 \n",
      "   71.                        \"sub_grade_F2\"  0.076732 \n",
      "   72.                        \"sub_grade_B3\"  0.076731 \n",
      "   73.                  \"emp_length_6_years\"  0.076688 \n",
      "   74.                  \"emp_length_8_years\"  0.076686 \n",
      "   75.                        \"sub_grade_F1\"  0.076685 \n",
      "   76.                        \"sub_grade_E5\"  0.076682 \n",
      "   77.                  \"emp_length_5_years\"  0.076659 \n",
      "   78.                  \"emp_length_3_years\"  0.076639 \n",
      "   79.                  \"emp_length_2_years\"  0.076629 \n",
      "   80.            \"purpose_home_improvement\"  0.076610 \n",
      "   81.                        \"sub_grade_G3\"  0.076604 \n",
      "   82.                 \"emp_length_<_1_year\"  0.076602 \n",
      "   83.                  \"emp_length_4_years\"  0.076598 \n",
      "   84.                        \"sub_grade_D3\"  0.076594 \n",
      "   85.                        \"sub_grade_F5\"  0.076592 \n",
      "   86.                        \"sub_grade_E1\"  0.076583 \n",
      "   87.                        \"sub_grade_F4\"  0.076568 \n",
      "   88.              \"purpose_major_purchase\"  0.076557 \n",
      "   89.                       \"purpose_other\"  0.076557 \n",
      "   90.                        \"sub_grade_G5\"  0.076554 \n",
      "   91.                     \"purpose_medical\"  0.076553 \n",
      "   92.                         \"purpose_car\"  0.076552 \n",
      "   93.                        \"sub_grade_E4\"  0.076550 \n",
      "   94.                    \"purpose_vacation\"  0.076549 \n",
      "   95.          \"collections_12_mths_ex_med\"  0.076536 \n",
      "   96.                        \"sub_grade_G1\"  0.076535 \n",
      "   97.                  \"emp_length_9_years\"  0.076530 \n",
      "   98.                     \"purpose_wedding\"  0.076497 \n",
      "   99.                       \"purpose_house\"  0.076495 \n",
      "  100.                      \"purpose_moving\"  0.076486 \n",
      "  101.                        \"sub_grade_G2\"  0.076466 \n",
      "  102.                      \"acc_now_delinq\"  0.076465 \n",
      "  103.                        \"sub_grade_G4\"  0.076456 \n",
      "  104.            \"purpose_renewable_energy\"  0.076450 \n",
      "\n",
      "Variable Importance: NUM_AS_ROOT:\n",
      "    1.                    \"out_prncp\" 30.000000 ################\n",
      "    2.                   \"recoveries\" 29.000000 ###############\n",
      "    3.      \"collection_recovery_fee\" 26.000000 #############\n",
      "    4.              \"last_pymnt_amnt\" 25.000000 #############\n",
      "    5.        \"initial_list_status_f\" 17.000000 ########\n",
      "    6.                     \"int_rate\" 17.000000 ########\n",
      "    7.               \"inq_last_6mths\" 16.000000 ########\n",
      "    8.           \"total_rec_late_fee\" 15.000000 #######\n",
      "    9.              \"total_rec_prncp\" 15.000000 #######\n",
      "   10.              \"total_pymnt_inv\" 14.000000 #######\n",
      "   11.             \"total_rev_hi_lim\" 13.000000 ######\n",
      "   12.                      \"grade_A\" 12.000000 ######\n",
      "   13.        \"initial_list_status_w\"  9.000000 ####\n",
      "   14.                \"total_rec_int\"  9.000000 ####\n",
      "   15.                  \"total_pymnt\"  8.000000 ###\n",
      "   16.                      \"grade_E\"  6.000000 ##\n",
      "   17.                  \"tot_cur_bal\"  6.000000 ##\n",
      "   18.                   \"annual_inc\"  5.000000 ##\n",
      "   19.                      \"grade_D\"  4.000000 #\n",
      "   20.                      \"grade_F\"  4.000000 #\n",
      "   21.                 \"sub_grade_A1\"  3.000000 #\n",
      "   22.                 \"sub_grade_A4\"  3.000000 #\n",
      "   23. \"verification_status_Verified\"  3.000000 #\n",
      "   24.                      \"grade_B\"  2.000000 \n",
      "   25.          \"home_ownership_RENT\"  2.000000 \n",
      "   26.                   \"revol_util\"  2.000000 \n",
      "   27.      \"home_ownership_MORTGAGE\"  1.000000 \n",
      "   28.          \"purpose_credit_card\"  1.000000 \n",
      "   29.                 \"sub_grade_A2\"  1.000000 \n",
      "   30.                 \"sub_grade_A3\"  1.000000 \n",
      "   31.              \"term__60_months\"  1.000000 \n",
      "\n",
      "Variable Importance: NUM_NODES:\n",
      "    1.                     \"total_rec_prncp\" 12599.000000 ################\n",
      "    2.                           \"out_prncp\" 11905.000000 ###############\n",
      "    3.                     \"last_pymnt_amnt\" 10454.000000 #############\n",
      "    4.                         \"total_pymnt\" 9355.000000 ###########\n",
      "    5.                       \"total_rec_int\" 9098.000000 ###########\n",
      "    6.                     \"total_pymnt_inv\" 9069.000000 ###########\n",
      "    7.                         \"installment\" 8869.000000 ###########\n",
      "    8.                            \"int_rate\" 7745.000000 #########\n",
      "    9.                         \"funded_amnt\" 7158.000000 #########\n",
      "   10.                           \"loan_amnt\" 6933.000000 ########\n",
      "   11.                                 \"dti\" 6860.000000 ########\n",
      "   12.                           \"revol_bal\" 6617.000000 ########\n",
      "   13.                         \"tot_cur_bal\" 6256.000000 #######\n",
      "   14.                          \"revol_util\" 6207.000000 #######\n",
      "   15.                    \"total_rev_hi_lim\" 6124.000000 #######\n",
      "   16.                          \"annual_inc\" 6054.000000 #######\n",
      "   17.                           \"total_acc\" 5135.000000 ######\n",
      "   18.                            \"open_acc\" 4242.000000 #####\n",
      "   19.                  \"total_rec_late_fee\" 1928.000000 ##\n",
      "   20.                          \"recoveries\" 1927.000000 ##\n",
      "   21.                      \"inq_last_6mths\" 1865.000000 ##\n",
      "   22.             \"collection_recovery_fee\" 1292.000000 #\n",
      "   23.                        \"tot_coll_amt\" 1104.000000 #\n",
      "   24.          \"purpose_debt_consolidation\" 825.000000 #\n",
      "   25.        \"verification_status_Verified\" 806.000000 #\n",
      "   26.                         \"delinq_2yrs\" 782.000000 \n",
      "   27. \"verification_status_Source_Verified\" 767.000000 \n",
      "   28.    \"verification_status_Not_Verified\" 751.000000 \n",
      "   29.               \"initial_list_status_f\" 739.000000 \n",
      "   30.                             \"pub_rec\" 722.000000 \n",
      "   31.                 \"home_ownership_RENT\" 713.000000 \n",
      "   32.                     \"term__36_months\" 706.000000 \n",
      "   33.                \"emp_length_10+_years\" 698.000000 \n",
      "   34.               \"initial_list_status_w\" 676.000000 \n",
      "   35.                     \"term__60_months\" 674.000000 \n",
      "   36.             \"home_ownership_MORTGAGE\" 657.000000 \n",
      "   37.                             \"grade_C\" 597.000000 \n",
      "   38.                 \"purpose_credit_card\" 586.000000 \n",
      "   39.                             \"grade_B\" 571.000000 \n",
      "   40.                             \"grade_D\" 491.000000 \n",
      "   41.                             \"grade_A\" 467.000000 \n",
      "   42.                             \"grade_E\" 389.000000 \n",
      "   43.                   \"emp_length_1_year\" 365.000000 \n",
      "   44.                  \"emp_length_2_years\" 337.000000 \n",
      "   45.                  \"home_ownership_OWN\" 315.000000 \n",
      "   46.                             \"grade_F\" 312.000000 \n",
      "   47.                        \"sub_grade_C4\" 306.000000 \n",
      "   48.                  \"emp_length_3_years\" 300.000000 \n",
      "   49.                 \"emp_length_<_1_year\" 296.000000 \n",
      "   50.                        \"sub_grade_C2\" 296.000000 \n",
      "   51.                  \"emp_length_5_years\" 292.000000 \n",
      "   52.                        \"sub_grade_B3\" 286.000000 \n",
      "   53.                  \"emp_length_7_years\" 275.000000 \n",
      "   54.                        \"sub_grade_C3\" 273.000000 \n",
      "   55.                        \"sub_grade_C1\" 270.000000 \n",
      "   56.                  \"emp_length_8_years\" 264.000000 \n",
      "   57.                  \"emp_length_4_years\" 259.000000 \n",
      "   58.                      \"emp_length_n/a\" 256.000000 \n",
      "   59.                  \"emp_length_6_years\" 246.000000 \n",
      "   60.                        \"sub_grade_B4\" 242.000000 \n",
      "   61.                        \"sub_grade_C5\" 228.000000 \n",
      "   62.                        \"sub_grade_D2\" 210.000000 \n",
      "   63.            \"purpose_home_improvement\" 206.000000 \n",
      "   64.                        \"sub_grade_E2\" 206.000000 \n",
      "   65.                        \"sub_grade_B5\" 205.000000 \n",
      "   66.                        \"sub_grade_D4\" 204.000000 \n",
      "   67.                        \"sub_grade_B2\" 198.000000 \n",
      "   68.                       \"purpose_other\" 190.000000 \n",
      "   69.                        \"sub_grade_D1\" 184.000000 \n",
      "   70.                        \"sub_grade_D5\" 184.000000 \n",
      "   71.                        \"sub_grade_A5\" 160.000000 \n",
      "   72.                        \"sub_grade_B1\" 154.000000 \n",
      "   73.                  \"emp_length_9_years\" 153.000000 \n",
      "   74.                        \"sub_grade_A4\" 131.000000 \n",
      "   75.                        \"sub_grade_F3\" 130.000000 \n",
      "   76.                        \"sub_grade_D3\" 122.000000 \n",
      "   77.                        \"sub_grade_A1\" 116.000000 \n",
      "   78.                        \"sub_grade_E1\" 109.000000 \n",
      "   79.                        \"sub_grade_E3\" 107.000000 \n",
      "   80.              \"purpose_small_business\" 103.000000 \n",
      "   81.                     \"purpose_medical\" 102.000000 \n",
      "   82.                        \"sub_grade_F1\" 99.000000 \n",
      "   83.                        \"sub_grade_E4\" 98.000000 \n",
      "   84.                             \"grade_G\" 94.000000 \n",
      "   85.              \"purpose_major_purchase\" 91.000000 \n",
      "   86.                        \"sub_grade_A3\" 89.000000 \n",
      "   87.                        \"sub_grade_E5\" 88.000000 \n",
      "   88.                        \"sub_grade_A2\" 82.000000 \n",
      "   89.                         \"purpose_car\" 55.000000 \n",
      "   90.          \"collections_12_mths_ex_med\" 44.000000 \n",
      "   91.                        \"sub_grade_F2\" 43.000000 \n",
      "   92.                        \"sub_grade_F4\" 42.000000 \n",
      "   93.                    \"purpose_vacation\" 38.000000 \n",
      "   94.                        \"sub_grade_F5\" 32.000000 \n",
      "   95.                        \"sub_grade_G1\" 27.000000 \n",
      "   96.                      \"purpose_moving\" 25.000000 \n",
      "   97.                        \"sub_grade_G3\" 25.000000 \n",
      "   98.                        \"sub_grade_G5\" 23.000000 \n",
      "   99.                     \"purpose_wedding\" 20.000000 \n",
      "  100.                       \"purpose_house\" 19.000000 \n",
      "  101.                      \"acc_now_delinq\" 12.000000 \n",
      "  102.                        \"sub_grade_G2\" 12.000000 \n",
      "  103.                        \"sub_grade_G4\"  5.000000 \n",
      "  104.            \"purpose_renewable_energy\"  1.000000 \n",
      "\n",
      "Variable Importance: SUM_SCORE:\n",
      "    1.                           \"out_prncp\" 3554636.074139 ################\n",
      "    2.                          \"recoveries\" 1284841.290822 #####\n",
      "    3.             \"collection_recovery_fee\" 1041627.470290 ####\n",
      "    4.                     \"last_pymnt_amnt\" 760590.268311 ###\n",
      "    5.                     \"total_rec_prncp\" 566986.818940 ##\n",
      "    6.                            \"int_rate\" 272131.766121 #\n",
      "    7.                         \"total_pymnt\" 247703.477336 #\n",
      "    8.                     \"total_pymnt_inv\" 241069.019703 #\n",
      "    9.                         \"installment\" 187362.067378 \n",
      "   10.                           \"loan_amnt\" 184485.907057 \n",
      "   11.                         \"funded_amnt\" 179472.970711 \n",
      "   12.                       \"total_rec_int\" 135156.355997 \n",
      "   13.                  \"total_rec_late_fee\" 100425.593591 \n",
      "   14.               \"initial_list_status_f\" 52330.252165 \n",
      "   15.                    \"total_rev_hi_lim\" 50793.806311 \n",
      "   16.                         \"tot_cur_bal\" 48157.119961 \n",
      "   17.                             \"grade_A\" 42336.261092 \n",
      "   18.                          \"annual_inc\" 42137.450238 \n",
      "   19.               \"initial_list_status_w\" 41770.883765 \n",
      "   20.                                 \"dti\" 39320.294223 \n",
      "   21.                           \"revol_bal\" 38276.286685 \n",
      "   22.                          \"revol_util\" 33094.701960 \n",
      "   23.                           \"total_acc\" 24661.575969 \n",
      "   24.                      \"inq_last_6mths\" 22277.704754 \n",
      "   25.                            \"open_acc\" 20376.411501 \n",
      "   26.                     \"term__36_months\" 17044.141579 \n",
      "   27.                     \"term__60_months\" 16015.278943 \n",
      "   28.                             \"grade_B\" 12397.530603 \n",
      "   29.        \"verification_status_Verified\" 9153.109025 \n",
      "   30.                             \"grade_D\" 8430.945816 \n",
      "   31.                             \"grade_E\" 8248.480606 \n",
      "   32.                             \"grade_F\" 7361.608978 \n",
      "   33.                        \"tot_coll_amt\" 7256.525682 \n",
      "   34.                             \"grade_C\" 6100.355128 \n",
      "   35.    \"verification_status_Not_Verified\" 5221.112043 \n",
      "   36. \"verification_status_Source_Verified\" 4665.535014 \n",
      "   37.                 \"home_ownership_RENT\" 4440.484014 \n",
      "   38.                             \"pub_rec\" 4122.701767 \n",
      "   39.          \"purpose_debt_consolidation\" 3708.480477 \n",
      "   40.                        \"sub_grade_A1\" 3595.016423 \n",
      "   41.             \"home_ownership_MORTGAGE\" 3555.658177 \n",
      "   42.                         \"delinq_2yrs\" 3544.988790 \n",
      "   43.                 \"purpose_credit_card\" 2973.837281 \n",
      "   44.                \"emp_length_10+_years\" 2823.555166 \n",
      "   45.                        \"sub_grade_C4\" 2795.564816 \n",
      "   46.                        \"sub_grade_C2\" 2213.359918 \n",
      "   47.                        \"sub_grade_C5\" 2010.697871 \n",
      "   48.                   \"emp_length_1_year\" 1801.050666 \n",
      "   49.                        \"sub_grade_C1\" 1764.328161 \n",
      "   50.                        \"sub_grade_B2\" 1762.883155 \n",
      "   51.                        \"sub_grade_B3\" 1655.313121 \n",
      "   52.                        \"sub_grade_C3\" 1654.553490 \n",
      "   53.                      \"emp_length_n/a\" 1653.317219 \n",
      "   54.                        \"sub_grade_A5\" 1536.191793 \n",
      "   55.                        \"sub_grade_B5\" 1516.371188 \n",
      "   56.                  \"emp_length_2_years\" 1467.448550 \n",
      "   57.                        \"sub_grade_B4\" 1464.345215 \n",
      "   58.                        \"sub_grade_A4\" 1418.811440 \n",
      "   59.                  \"home_ownership_OWN\" 1377.639974 \n",
      "   60.                  \"emp_length_7_years\" 1369.793292 \n",
      "   61.                  \"emp_length_5_years\" 1305.237576 \n",
      "   62.                 \"emp_length_<_1_year\" 1287.241633 \n",
      "   63.                  \"emp_length_3_years\" 1257.007910 \n",
      "   64.                  \"emp_length_6_years\" 1237.762891 \n",
      "   65.                  \"emp_length_8_years\" 1163.729269 \n",
      "   66.                        \"sub_grade_A2\" 1155.527401 \n",
      "   67.                        \"sub_grade_E2\" 1144.229177 \n",
      "   68.                        \"sub_grade_D5\" 1121.569868 \n",
      "   69.                        \"sub_grade_B1\" 1121.419389 \n",
      "   70.                        \"sub_grade_D4\" 1120.248918 \n",
      "   71.                        \"sub_grade_D2\" 1105.452983 \n",
      "   72.                  \"emp_length_4_years\" 1094.783837 \n",
      "   73.                        \"sub_grade_D1\" 1039.573470 \n",
      "   74.                        \"sub_grade_F3\" 971.493028 \n",
      "   75.            \"purpose_home_improvement\" 962.839714 \n",
      "   76.                             \"grade_G\" 888.041178 \n",
      "   77.                       \"purpose_other\" 868.227426 \n",
      "   78.                        \"sub_grade_E3\" 732.336455 \n",
      "   79.                  \"emp_length_9_years\" 693.238500 \n",
      "   80.                        \"sub_grade_A3\" 684.818921 \n",
      "   81.              \"purpose_small_business\" 674.314289 \n",
      "   82.                        \"sub_grade_E1\" 653.108855 \n",
      "   83.                        \"sub_grade_E5\" 606.267193 \n",
      "   84.                        \"sub_grade_D3\" 595.199839 \n",
      "   85.                        \"sub_grade_F1\" 572.818284 \n",
      "   86.                        \"sub_grade_E4\" 569.745304 \n",
      "   87.                     \"purpose_medical\" 567.899160 \n",
      "   88.              \"purpose_major_purchase\" 554.902115 \n",
      "   89.                         \"purpose_car\" 353.177723 \n",
      "   90.                        \"sub_grade_F2\" 334.404762 \n",
      "   91.                        \"sub_grade_F4\" 288.885823 \n",
      "   92.                    \"purpose_vacation\" 276.801008 \n",
      "   93.                        \"sub_grade_F5\" 255.018347 \n",
      "   94.          \"collections_12_mths_ex_med\" 231.394017 \n",
      "   95.                        \"sub_grade_G3\" 184.122001 \n",
      "   96.                        \"sub_grade_G1\" 161.543835 \n",
      "   97.                        \"sub_grade_G5\" 147.538165 \n",
      "   98.                      \"purpose_moving\" 136.584397 \n",
      "   99.                     \"purpose_wedding\" 136.274613 \n",
      "  100.                       \"purpose_house\" 118.125018 \n",
      "  101.                        \"sub_grade_G2\" 90.443597 \n",
      "  102.                      \"acc_now_delinq\" 77.900120 \n",
      "  103.                        \"sub_grade_G4\" 34.634414 \n",
      "  104.            \"purpose_renewable_energy\" 17.344338 \n",
      "\n",
      "\n",
      "\n",
      "Winner takes all: true\n",
      "Out-of-bag evaluation: accuracy:0.988739 logloss:0.116686\n",
      "Number of trees: 300\n",
      "Total number of nodes: 342438\n",
      "\n",
      "Number of nodes by tree:\n",
      "Count: 300 Average: 1141.46 StdDev: 216.07\n",
      "Min: 647 Max: 1695 Ignored: 0\n",
      "----------------------------------------------\n",
      "[  647,  699)  3   1.00%   1.00% #\n",
      "[  699,  751)  3   1.00%   2.00% #\n",
      "[  751,  804)  9   3.00%   5.00% ###\n",
      "[  804,  856) 12   4.00%   9.00% ####\n",
      "[  856,  909) 21   7.00%  16.00% #######\n",
      "[  909,  961) 15   5.00%  21.00% #####\n",
      "[  961, 1014) 28   9.33%  30.33% #########\n",
      "[ 1014, 1066) 30  10.00%  40.33% ##########\n",
      "[ 1066, 1119) 21   7.00%  47.33% #######\n",
      "[ 1119, 1171) 28   9.33%  56.67% #########\n",
      "[ 1171, 1223) 20   6.67%  63.33% #######\n",
      "[ 1223, 1276) 30  10.00%  73.33% ##########\n",
      "[ 1276, 1328) 20   6.67%  80.00% #######\n",
      "[ 1328, 1381) 18   6.00%  86.00% ######\n",
      "[ 1381, 1433) 11   3.67%  89.67% ####\n",
      "[ 1433, 1486) 13   4.33%  94.00% ####\n",
      "[ 1486, 1538)  5   1.67%  95.67% ##\n",
      "[ 1538, 1591)  6   2.00%  97.67% ##\n",
      "[ 1591, 1643)  1   0.33%  98.00%\n",
      "[ 1643, 1695]  6   2.00% 100.00% ##\n",
      "\n",
      "Depth by leafs:\n",
      "Count: 171369 Average: 12.1105 StdDev: 2.51475\n",
      "Min: 1 Max: 15 Ignored: 0\n",
      "----------------------------------------------\n",
      "[  1,  2)    55   0.03%   0.03%\n",
      "[  2,  3)    90   0.05%   0.08%\n",
      "[  3,  4)   214   0.12%   0.21%\n",
      "[  4,  5)   489   0.29%   0.49%\n",
      "[  5,  6)  1085   0.63%   1.13%\n",
      "[  6,  7)  2254   1.32%   2.44% #\n",
      "[  7,  8)  4495   2.62%   5.07% #\n",
      "[  8,  9)  7666   4.47%   9.54% ##\n",
      "[  9, 10) 11545   6.74%  16.28% ###\n",
      "[ 10, 11) 15696   9.16%  25.44% ####\n",
      "[ 11, 12) 19824  11.57%  37.00% #####\n",
      "[ 12, 13) 22440  13.09%  50.10% ######\n",
      "[ 13, 14) 23403  13.66%  63.75% ######\n",
      "[ 14, 15) 23347  13.62%  77.38% ######\n",
      "[ 15, 15] 38766  22.62% 100.00% ##########\n",
      "\n",
      "Number of training obs by leaf:\n",
      "Count: 171369 Average: 99.6516 StdDev: 339.454\n",
      "Min: 5 Max: 11267 Ignored: 0\n",
      "----------------------------------------------\n",
      "[     5,   568) 165157  96.38%  96.38% ##########\n",
      "[   568,  1131)   3921   2.29%  98.66%\n",
      "[  1131,  1694)   1199   0.70%  99.36%\n",
      "[  1694,  2257)    453   0.26%  99.63%\n",
      "[  2257,  2820)    259   0.15%  99.78%\n",
      "[  2820,  3383)    111   0.06%  99.84%\n",
      "[  3383,  3947)     46   0.03%  99.87%\n",
      "[  3947,  4510)     30   0.02%  99.89%\n",
      "[  4510,  5073)     36   0.02%  99.91%\n",
      "[  5073,  5636)     22   0.01%  99.92%\n",
      "[  5636,  6199)     16   0.01%  99.93%\n",
      "[  6199,  6762)     12   0.01%  99.94%\n",
      "[  6762,  7325)     19   0.01%  99.95%\n",
      "[  7325,  7889)     37   0.02%  99.97%\n",
      "[  7889,  8452)     48   0.03% 100.00%\n",
      "[  8452,  9015)      0   0.00% 100.00%\n",
      "[  9015,  9578)      0   0.00% 100.00%\n",
      "[  9578, 10141)      2   0.00% 100.00%\n",
      "[ 10141, 10704)      0   0.00% 100.00%\n",
      "[ 10704, 11267]      1   0.00% 100.00%\n",
      "\n",
      "Attribute in nodes:\n",
      "\t12599 : total_rec_prncp [NUMERICAL]\n",
      "\t11905 : out_prncp [NUMERICAL]\n",
      "\t10454 : last_pymnt_amnt [NUMERICAL]\n",
      "\t9355 : total_pymnt [NUMERICAL]\n",
      "\t9098 : total_rec_int [NUMERICAL]\n",
      "\t9069 : total_pymnt_inv [NUMERICAL]\n",
      "\t8869 : installment [NUMERICAL]\n",
      "\t7745 : int_rate [NUMERICAL]\n",
      "\t7158 : funded_amnt [NUMERICAL]\n",
      "\t6933 : loan_amnt [NUMERICAL]\n",
      "\t6860 : dti [NUMERICAL]\n",
      "\t6617 : revol_bal [NUMERICAL]\n",
      "\t6256 : tot_cur_bal [NUMERICAL]\n",
      "\t6207 : revol_util [NUMERICAL]\n",
      "\t6124 : total_rev_hi_lim [NUMERICAL]\n",
      "\t6054 : annual_inc [NUMERICAL]\n",
      "\t5135 : total_acc [NUMERICAL]\n",
      "\t4242 : open_acc [NUMERICAL]\n",
      "\t1928 : total_rec_late_fee [NUMERICAL]\n",
      "\t1927 : recoveries [NUMERICAL]\n",
      "\t1865 : inq_last_6mths [NUMERICAL]\n",
      "\t1292 : collection_recovery_fee [NUMERICAL]\n",
      "\t1104 : tot_coll_amt [NUMERICAL]\n",
      "\t825 : purpose_debt_consolidation [NUMERICAL]\n",
      "\t806 : verification_status_Verified [NUMERICAL]\n",
      "\t782 : delinq_2yrs [NUMERICAL]\n",
      "\t767 : verification_status_Source_Verified [NUMERICAL]\n",
      "\t751 : verification_status_Not_Verified [NUMERICAL]\n",
      "\t739 : initial_list_status_f [NUMERICAL]\n",
      "\t722 : pub_rec [NUMERICAL]\n",
      "\t713 : home_ownership_RENT [NUMERICAL]\n",
      "\t706 : term__36_months [NUMERICAL]\n",
      "\t698 : emp_length_10+_years [NUMERICAL]\n",
      "\t676 : initial_list_status_w [NUMERICAL]\n",
      "\t674 : term__60_months [NUMERICAL]\n",
      "\t657 : home_ownership_MORTGAGE [NUMERICAL]\n",
      "\t597 : grade_C [NUMERICAL]\n",
      "\t586 : purpose_credit_card [NUMERICAL]\n",
      "\t571 : grade_B [NUMERICAL]\n",
      "\t491 : grade_D [NUMERICAL]\n",
      "\t467 : grade_A [NUMERICAL]\n",
      "\t389 : grade_E [NUMERICAL]\n",
      "\t365 : emp_length_1_year [NUMERICAL]\n",
      "\t337 : emp_length_2_years [NUMERICAL]\n",
      "\t315 : home_ownership_OWN [NUMERICAL]\n",
      "\t312 : grade_F [NUMERICAL]\n",
      "\t306 : sub_grade_C4 [NUMERICAL]\n",
      "\t300 : emp_length_3_years [NUMERICAL]\n",
      "\t296 : sub_grade_C2 [NUMERICAL]\n",
      "\t296 : emp_length_<_1_year [NUMERICAL]\n",
      "\t292 : emp_length_5_years [NUMERICAL]\n",
      "\t286 : sub_grade_B3 [NUMERICAL]\n",
      "\t275 : emp_length_7_years [NUMERICAL]\n",
      "\t273 : sub_grade_C3 [NUMERICAL]\n",
      "\t270 : sub_grade_C1 [NUMERICAL]\n",
      "\t264 : emp_length_8_years [NUMERICAL]\n",
      "\t259 : emp_length_4_years [NUMERICAL]\n",
      "\t256 : emp_length_n/a [NUMERICAL]\n",
      "\t246 : emp_length_6_years [NUMERICAL]\n",
      "\t242 : sub_grade_B4 [NUMERICAL]\n",
      "\t228 : sub_grade_C5 [NUMERICAL]\n",
      "\t210 : sub_grade_D2 [NUMERICAL]\n",
      "\t206 : sub_grade_E2 [NUMERICAL]\n",
      "\t206 : purpose_home_improvement [NUMERICAL]\n",
      "\t205 : sub_grade_B5 [NUMERICAL]\n",
      "\t204 : sub_grade_D4 [NUMERICAL]\n",
      "\t198 : sub_grade_B2 [NUMERICAL]\n",
      "\t190 : purpose_other [NUMERICAL]\n",
      "\t184 : sub_grade_D5 [NUMERICAL]\n",
      "\t184 : sub_grade_D1 [NUMERICAL]\n",
      "\t160 : sub_grade_A5 [NUMERICAL]\n",
      "\t154 : sub_grade_B1 [NUMERICAL]\n",
      "\t153 : emp_length_9_years [NUMERICAL]\n",
      "\t131 : sub_grade_A4 [NUMERICAL]\n",
      "\t130 : sub_grade_F3 [NUMERICAL]\n",
      "\t122 : sub_grade_D3 [NUMERICAL]\n",
      "\t116 : sub_grade_A1 [NUMERICAL]\n",
      "\t109 : sub_grade_E1 [NUMERICAL]\n",
      "\t107 : sub_grade_E3 [NUMERICAL]\n",
      "\t103 : purpose_small_business [NUMERICAL]\n",
      "\t102 : purpose_medical [NUMERICAL]\n",
      "\t99 : sub_grade_F1 [NUMERICAL]\n",
      "\t98 : sub_grade_E4 [NUMERICAL]\n",
      "\t94 : grade_G [NUMERICAL]\n",
      "\t91 : purpose_major_purchase [NUMERICAL]\n",
      "\t89 : sub_grade_A3 [NUMERICAL]\n",
      "\t88 : sub_grade_E5 [NUMERICAL]\n",
      "\t82 : sub_grade_A2 [NUMERICAL]\n",
      "\t55 : purpose_car [NUMERICAL]\n",
      "\t44 : collections_12_mths_ex_med [NUMERICAL]\n",
      "\t43 : sub_grade_F2 [NUMERICAL]\n",
      "\t42 : sub_grade_F4 [NUMERICAL]\n",
      "\t38 : purpose_vacation [NUMERICAL]\n",
      "\t32 : sub_grade_F5 [NUMERICAL]\n",
      "\t27 : sub_grade_G1 [NUMERICAL]\n",
      "\t25 : sub_grade_G3 [NUMERICAL]\n",
      "\t25 : purpose_moving [NUMERICAL]\n",
      "\t23 : sub_grade_G5 [NUMERICAL]\n",
      "\t20 : purpose_wedding [NUMERICAL]\n",
      "\t19 : purpose_house [NUMERICAL]\n",
      "\t12 : sub_grade_G2 [NUMERICAL]\n",
      "\t12 : acc_now_delinq [NUMERICAL]\n",
      "\t5 : sub_grade_G4 [NUMERICAL]\n",
      "\t1 : purpose_renewable_energy [NUMERICAL]\n",
      "\n",
      "Attribute in nodes with depth <= 0:\n",
      "\t30 : out_prncp [NUMERICAL]\n",
      "\t29 : recoveries [NUMERICAL]\n",
      "\t26 : collection_recovery_fee [NUMERICAL]\n",
      "\t25 : last_pymnt_amnt [NUMERICAL]\n",
      "\t17 : int_rate [NUMERICAL]\n",
      "\t17 : initial_list_status_f [NUMERICAL]\n",
      "\t16 : inq_last_6mths [NUMERICAL]\n",
      "\t15 : total_rec_prncp [NUMERICAL]\n",
      "\t15 : total_rec_late_fee [NUMERICAL]\n",
      "\t14 : total_pymnt_inv [NUMERICAL]\n",
      "\t13 : total_rev_hi_lim [NUMERICAL]\n",
      "\t12 : grade_A [NUMERICAL]\n",
      "\t9 : total_rec_int [NUMERICAL]\n",
      "\t9 : initial_list_status_w [NUMERICAL]\n",
      "\t8 : total_pymnt [NUMERICAL]\n",
      "\t6 : tot_cur_bal [NUMERICAL]\n",
      "\t6 : grade_E [NUMERICAL]\n",
      "\t5 : annual_inc [NUMERICAL]\n",
      "\t4 : grade_F [NUMERICAL]\n",
      "\t4 : grade_D [NUMERICAL]\n",
      "\t3 : verification_status_Verified [NUMERICAL]\n",
      "\t3 : sub_grade_A4 [NUMERICAL]\n",
      "\t3 : sub_grade_A1 [NUMERICAL]\n",
      "\t2 : revol_util [NUMERICAL]\n",
      "\t2 : home_ownership_RENT [NUMERICAL]\n",
      "\t2 : grade_B [NUMERICAL]\n",
      "\t1 : term__60_months [NUMERICAL]\n",
      "\t1 : sub_grade_A3 [NUMERICAL]\n",
      "\t1 : sub_grade_A2 [NUMERICAL]\n",
      "\t1 : purpose_credit_card [NUMERICAL]\n",
      "\t1 : home_ownership_MORTGAGE [NUMERICAL]\n",
      "\n",
      "Attribute in nodes with depth <= 1:\n",
      "\t88 : out_prncp [NUMERICAL]\n",
      "\t73 : recoveries [NUMERICAL]\n",
      "\t69 : collection_recovery_fee [NUMERICAL]\n",
      "\t66 : last_pymnt_amnt [NUMERICAL]\n",
      "\t64 : int_rate [NUMERICAL]\n",
      "\t49 : total_rec_late_fee [NUMERICAL]\n",
      "\t45 : total_rec_prncp [NUMERICAL]\n",
      "\t34 : total_pymnt_inv [NUMERICAL]\n",
      "\t33 : grade_A [NUMERICAL]\n",
      "\t32 : initial_list_status_f [NUMERICAL]\n",
      "\t29 : total_rec_int [NUMERICAL]\n",
      "\t29 : total_pymnt [NUMERICAL]\n",
      "\t25 : initial_list_status_w [NUMERICAL]\n",
      "\t20 : total_rev_hi_lim [NUMERICAL]\n",
      "\t20 : tot_cur_bal [NUMERICAL]\n",
      "\t19 : inq_last_6mths [NUMERICAL]\n",
      "\t17 : annual_inc [NUMERICAL]\n",
      "\t12 : grade_D [NUMERICAL]\n",
      "\t11 : grade_E [NUMERICAL]\n",
      "\t11 : grade_B [NUMERICAL]\n",
      "\t10 : verification_status_Verified [NUMERICAL]\n",
      "\t9 : grade_F [NUMERICAL]\n",
      "\t8 : loan_amnt [NUMERICAL]\n",
      "\t7 : sub_grade_A1 [NUMERICAL]\n",
      "\t5 : sub_grade_A4 [NUMERICAL]\n",
      "\t5 : home_ownership_RENT [NUMERICAL]\n",
      "\t5 : home_ownership_MORTGAGE [NUMERICAL]\n",
      "\t4 : term__36_months [NUMERICAL]\n",
      "\t4 : revol_util [NUMERICAL]\n",
      "\t4 : funded_amnt [NUMERICAL]\n",
      "\t3 : verification_status_Source_Verified [NUMERICAL]\n",
      "\t3 : term__60_months [NUMERICAL]\n",
      "\t3 : sub_grade_A5 [NUMERICAL]\n",
      "\t3 : sub_grade_A2 [NUMERICAL]\n",
      "\t3 : pub_rec [NUMERICAL]\n",
      "\t2 : sub_grade_F3 [NUMERICAL]\n",
      "\t2 : sub_grade_B1 [NUMERICAL]\n",
      "\t2 : revol_bal [NUMERICAL]\n",
      "\t2 : purpose_credit_card [NUMERICAL]\n",
      "\t2 : open_acc [NUMERICAL]\n",
      "\t2 : installment [NUMERICAL]\n",
      "\t2 : dti [NUMERICAL]\n",
      "\t1 : verification_status_Not_Verified [NUMERICAL]\n",
      "\t1 : tot_coll_amt [NUMERICAL]\n",
      "\t1 : sub_grade_F2 [NUMERICAL]\n",
      "\t1 : sub_grade_E3 [NUMERICAL]\n",
      "\t1 : sub_grade_E2 [NUMERICAL]\n",
      "\t1 : sub_grade_D4 [NUMERICAL]\n",
      "\t1 : sub_grade_A3 [NUMERICAL]\n",
      "\t1 : grade_G [NUMERICAL]\n",
      "\t1 : emp_length_n/a [NUMERICAL]\n",
      "\n",
      "Attribute in nodes with depth <= 2:\n",
      "\t185 : out_prncp [NUMERICAL]\n",
      "\t175 : recoveries [NUMERICAL]\n",
      "\t142 : last_pymnt_amnt [NUMERICAL]\n",
      "\t133 : collection_recovery_fee [NUMERICAL]\n",
      "\t131 : int_rate [NUMERICAL]\n",
      "\t99 : total_rec_late_fee [NUMERICAL]\n",
      "\t95 : total_rec_prncp [NUMERICAL]\n",
      "\t71 : total_pymnt_inv [NUMERICAL]\n",
      "\t70 : total_rec_int [NUMERICAL]\n",
      "\t60 : total_pymnt [NUMERICAL]\n",
      "\t57 : grade_A [NUMERICAL]\n",
      "\t55 : initial_list_status_w [NUMERICAL]\n",
      "\t55 : initial_list_status_f [NUMERICAL]\n",
      "\t44 : annual_inc [NUMERICAL]\n",
      "\t40 : tot_cur_bal [NUMERICAL]\n",
      "\t36 : total_rev_hi_lim [NUMERICAL]\n",
      "\t31 : inq_last_6mths [NUMERICAL]\n",
      "\t26 : grade_B [NUMERICAL]\n",
      "\t23 : loan_amnt [NUMERICAL]\n",
      "\t23 : grade_F [NUMERICAL]\n",
      "\t22 : funded_amnt [NUMERICAL]\n",
      "\t21 : grade_D [NUMERICAL]\n",
      "\t20 : grade_E [NUMERICAL]\n",
      "\t20 : dti [NUMERICAL]\n",
      "\t19 : installment [NUMERICAL]\n",
      "\t18 : verification_status_Verified [NUMERICAL]\n",
      "\t18 : revol_util [NUMERICAL]\n",
      "\t15 : term__60_months [NUMERICAL]\n",
      "\t14 : term__36_months [NUMERICAL]\n",
      "\t13 : sub_grade_A1 [NUMERICAL]\n",
      "\t13 : home_ownership_RENT [NUMERICAL]\n",
      "\t8 : home_ownership_MORTGAGE [NUMERICAL]\n",
      "\t7 : tot_coll_amt [NUMERICAL]\n",
      "\t6 : verification_status_Source_Verified [NUMERICAL]\n",
      "\t6 : sub_grade_A4 [NUMERICAL]\n",
      "\t5 : total_acc [NUMERICAL]\n",
      "\t5 : sub_grade_A5 [NUMERICAL]\n",
      "\t5 : revol_bal [NUMERICAL]\n",
      "\t4 : sub_grade_F1 [NUMERICAL]\n",
      "\t4 : sub_grade_E3 [NUMERICAL]\n",
      "\t4 : purpose_credit_card [NUMERICAL]\n",
      "\t4 : pub_rec [NUMERICAL]\n",
      "\t4 : open_acc [NUMERICAL]\n",
      "\t3 : sub_grade_F3 [NUMERICAL]\n",
      "\t3 : sub_grade_B2 [NUMERICAL]\n",
      "\t3 : sub_grade_B1 [NUMERICAL]\n",
      "\t3 : sub_grade_A3 [NUMERICAL]\n",
      "\t3 : sub_grade_A2 [NUMERICAL]\n",
      "\t2 : sub_grade_E2 [NUMERICAL]\n",
      "\t2 : grade_G [NUMERICAL]\n",
      "\t2 : grade_C [NUMERICAL]\n",
      "\t2 : emp_length_n/a [NUMERICAL]\n",
      "\t2 : emp_length_10+_years [NUMERICAL]\n",
      "\t1 : verification_status_Not_Verified [NUMERICAL]\n",
      "\t1 : sub_grade_F2 [NUMERICAL]\n",
      "\t1 : sub_grade_E5 [NUMERICAL]\n",
      "\t1 : sub_grade_D4 [NUMERICAL]\n",
      "\t1 : sub_grade_D2 [NUMERICAL]\n",
      "\t1 : sub_grade_C5 [NUMERICAL]\n",
      "\t1 : sub_grade_B4 [NUMERICAL]\n",
      "\t1 : purpose_vacation [NUMERICAL]\n",
      "\t1 : purpose_small_business [NUMERICAL]\n",
      "\t1 : purpose_debt_consolidation [NUMERICAL]\n",
      "\t1 : home_ownership_OWN [NUMERICAL]\n",
      "\t1 : emp_length_8_years [NUMERICAL]\n",
      "\t1 : emp_length_6_years [NUMERICAL]\n",
      "\t1 : emp_length_4_years [NUMERICAL]\n",
      "\n",
      "Attribute in nodes with depth <= 3:\n",
      "\t312 : recoveries [NUMERICAL]\n",
      "\t305 : out_prncp [NUMERICAL]\n",
      "\t273 : last_pymnt_amnt [NUMERICAL]\n",
      "\t257 : int_rate [NUMERICAL]\n",
      "\t224 : collection_recovery_fee [NUMERICAL]\n",
      "\t208 : total_rec_prncp [NUMERICAL]\n",
      "\t202 : total_rec_late_fee [NUMERICAL]\n",
      "\t156 : total_pymnt_inv [NUMERICAL]\n",
      "\t145 : total_pymnt [NUMERICAL]\n",
      "\t136 : total_rec_int [NUMERICAL]\n",
      "\t96 : grade_A [NUMERICAL]\n",
      "\t94 : annual_inc [NUMERICAL]\n",
      "\t85 : tot_cur_bal [NUMERICAL]\n",
      "\t81 : initial_list_status_w [NUMERICAL]\n",
      "\t77 : initial_list_status_f [NUMERICAL]\n",
      "\t69 : total_rev_hi_lim [NUMERICAL]\n",
      "\t67 : funded_amnt [NUMERICAL]\n",
      "\t62 : inq_last_6mths [NUMERICAL]\n",
      "\t60 : installment [NUMERICAL]\n",
      "\t58 : loan_amnt [NUMERICAL]\n",
      "\t54 : revol_util [NUMERICAL]\n",
      "\t46 : dti [NUMERICAL]\n",
      "\t45 : grade_B [NUMERICAL]\n",
      "\t36 : grade_F [NUMERICAL]\n",
      "\t36 : grade_D [NUMERICAL]\n",
      "\t33 : grade_E [NUMERICAL]\n",
      "\t30 : verification_status_Verified [NUMERICAL]\n",
      "\t30 : term__36_months [NUMERICAL]\n",
      "\t28 : term__60_months [NUMERICAL]\n",
      "\t27 : revol_bal [NUMERICAL]\n",
      "\t23 : total_acc [NUMERICAL]\n",
      "\t22 : sub_grade_A1 [NUMERICAL]\n",
      "\t17 : open_acc [NUMERICAL]\n",
      "\t15 : home_ownership_RENT [NUMERICAL]\n",
      "\t15 : home_ownership_MORTGAGE [NUMERICAL]\n",
      "\t14 : tot_coll_amt [NUMERICAL]\n",
      "\t13 : verification_status_Source_Verified [NUMERICAL]\n",
      "\t12 : sub_grade_F3 [NUMERICAL]\n",
      "\t11 : pub_rec [NUMERICAL]\n",
      "\t10 : grade_C [NUMERICAL]\n",
      "\t9 : sub_grade_A4 [NUMERICAL]\n",
      "\t9 : sub_grade_A2 [NUMERICAL]\n",
      "\t9 : emp_length_n/a [NUMERICAL]\n",
      "\t7 : sub_grade_A5 [NUMERICAL]\n",
      "\t6 : sub_grade_E2 [NUMERICAL]\n",
      "\t6 : sub_grade_B2 [NUMERICAL]\n",
      "\t6 : purpose_credit_card [NUMERICAL]\n",
      "\t5 : sub_grade_E3 [NUMERICAL]\n",
      "\t5 : sub_grade_A3 [NUMERICAL]\n",
      "\t5 : purpose_debt_consolidation [NUMERICAL]\n",
      "\t5 : grade_G [NUMERICAL]\n",
      "\t4 : verification_status_Not_Verified [NUMERICAL]\n",
      "\t4 : sub_grade_F1 [NUMERICAL]\n",
      "\t4 : sub_grade_D4 [NUMERICAL]\n",
      "\t4 : sub_grade_C5 [NUMERICAL]\n",
      "\t4 : sub_grade_B1 [NUMERICAL]\n",
      "\t3 : sub_grade_E5 [NUMERICAL]\n",
      "\t3 : sub_grade_C4 [NUMERICAL]\n",
      "\t3 : purpose_small_business [NUMERICAL]\n",
      "\t3 : home_ownership_OWN [NUMERICAL]\n",
      "\t3 : emp_length_8_years [NUMERICAL]\n",
      "\t3 : emp_length_2_years [NUMERICAL]\n",
      "\t2 : sub_grade_F2 [NUMERICAL]\n",
      "\t2 : sub_grade_D5 [NUMERICAL]\n",
      "\t2 : sub_grade_D2 [NUMERICAL]\n",
      "\t2 : sub_grade_B4 [NUMERICAL]\n",
      "\t2 : purpose_medical [NUMERICAL]\n",
      "\t2 : purpose_home_improvement [NUMERICAL]\n",
      "\t2 : emp_length_7_years [NUMERICAL]\n",
      "\t2 : emp_length_4_years [NUMERICAL]\n",
      "\t2 : emp_length_3_years [NUMERICAL]\n",
      "\t2 : emp_length_10+_years [NUMERICAL]\n",
      "\t1 : sub_grade_G5 [NUMERICAL]\n",
      "\t1 : sub_grade_G3 [NUMERICAL]\n",
      "\t1 : sub_grade_G1 [NUMERICAL]\n",
      "\t1 : sub_grade_E1 [NUMERICAL]\n",
      "\t1 : sub_grade_D3 [NUMERICAL]\n",
      "\t1 : sub_grade_D1 [NUMERICAL]\n",
      "\t1 : sub_grade_C2 [NUMERICAL]\n",
      "\t1 : sub_grade_C1 [NUMERICAL]\n",
      "\t1 : purpose_wedding [NUMERICAL]\n",
      "\t1 : purpose_vacation [NUMERICAL]\n",
      "\t1 : purpose_major_purchase [NUMERICAL]\n",
      "\t1 : purpose_car [NUMERICAL]\n",
      "\t1 : emp_length_<_1_year [NUMERICAL]\n",
      "\t1 : emp_length_6_years [NUMERICAL]\n",
      "\t1 : emp_length_1_year [NUMERICAL]\n",
      "\t1 : delinq_2yrs [NUMERICAL]\n",
      "\t1 : acc_now_delinq [NUMERICAL]\n",
      "\n",
      "Attribute in nodes with depth <= 5:\n",
      "\t847 : last_pymnt_amnt [NUMERICAL]\n",
      "\t822 : out_prncp [NUMERICAL]\n",
      "\t815 : total_rec_prncp [NUMERICAL]\n",
      "\t748 : int_rate [NUMERICAL]\n",
      "\t659 : recoveries [NUMERICAL]\n",
      "\t554 : total_pymnt [NUMERICAL]\n",
      "\t547 : total_pymnt_inv [NUMERICAL]\n",
      "\t540 : total_rec_int [NUMERICAL]\n",
      "\t528 : total_rec_late_fee [NUMERICAL]\n",
      "\t469 : collection_recovery_fee [NUMERICAL]\n",
      "\t375 : installment [NUMERICAL]\n",
      "\t370 : funded_amnt [NUMERICAL]\n",
      "\t321 : tot_cur_bal [NUMERICAL]\n",
      "\t312 : loan_amnt [NUMERICAL]\n",
      "\t312 : annual_inc [NUMERICAL]\n",
      "\t295 : dti [NUMERICAL]\n",
      "\t278 : total_rev_hi_lim [NUMERICAL]\n",
      "\t218 : revol_bal [NUMERICAL]\n",
      "\t211 : revol_util [NUMERICAL]\n",
      "\t171 : total_acc [NUMERICAL]\n",
      "\t168 : grade_A [NUMERICAL]\n",
      "\t157 : initial_list_status_f [NUMERICAL]\n",
      "\t149 : inq_last_6mths [NUMERICAL]\n",
      "\t146 : initial_list_status_w [NUMERICAL]\n",
      "\t141 : open_acc [NUMERICAL]\n",
      "\t106 : grade_B [NUMERICAL]\n",
      "\t99 : term__36_months [NUMERICAL]\n",
      "\t94 : term__60_months [NUMERICAL]\n",
      "\t90 : verification_status_Verified [NUMERICAL]\n",
      "\t78 : grade_F [NUMERICAL]\n",
      "\t75 : grade_E [NUMERICAL]\n",
      "\t74 : grade_D [NUMERICAL]\n",
      "\t65 : tot_coll_amt [NUMERICAL]\n",
      "\t49 : home_ownership_RENT [NUMERICAL]\n",
      "\t47 : pub_rec [NUMERICAL]\n",
      "\t44 : grade_C [NUMERICAL]\n",
      "\t43 : verification_status_Source_Verified [NUMERICAL]\n",
      "\t41 : delinq_2yrs [NUMERICAL]\n",
      "\t40 : sub_grade_A1 [NUMERICAL]\n",
      "\t40 : home_ownership_MORTGAGE [NUMERICAL]\n",
      "\t30 : emp_length_10+_years [NUMERICAL]\n",
      "\t29 : verification_status_Not_Verified [NUMERICAL]\n",
      "\t29 : purpose_debt_consolidation [NUMERICAL]\n",
      "\t24 : sub_grade_E2 [NUMERICAL]\n",
      "\t23 : sub_grade_F3 [NUMERICAL]\n",
      "\t21 : sub_grade_B2 [NUMERICAL]\n",
      "\t21 : sub_grade_A5 [NUMERICAL]\n",
      "\t21 : emp_length_n/a [NUMERICAL]\n",
      "\t20 : purpose_credit_card [NUMERICAL]\n",
      "\t18 : sub_grade_A2 [NUMERICAL]\n",
      "\t15 : sub_grade_C5 [NUMERICAL]\n",
      "\t15 : sub_grade_C4 [NUMERICAL]\n",
      "\t15 : sub_grade_A4 [NUMERICAL]\n",
      "\t15 : grade_G [NUMERICAL]\n",
      "\t14 : sub_grade_D4 [NUMERICAL]\n",
      "\t14 : sub_grade_D1 [NUMERICAL]\n",
      "\t13 : sub_grade_C1 [NUMERICAL]\n",
      "\t13 : home_ownership_OWN [NUMERICAL]\n",
      "\t13 : emp_length_3_years [NUMERICAL]\n",
      "\t13 : emp_length_2_years [NUMERICAL]\n",
      "\t12 : sub_grade_F1 [NUMERICAL]\n",
      "\t12 : sub_grade_C2 [NUMERICAL]\n",
      "\t12 : sub_grade_A3 [NUMERICAL]\n",
      "\t12 : emp_length_4_years [NUMERICAL]\n",
      "\t11 : sub_grade_C3 [NUMERICAL]\n",
      "\t11 : sub_grade_B5 [NUMERICAL]\n",
      "\t11 : emp_length_8_years [NUMERICAL]\n",
      "\t10 : sub_grade_E3 [NUMERICAL]\n",
      "\t10 : sub_grade_D5 [NUMERICAL]\n",
      "\t10 : purpose_small_business [NUMERICAL]\n",
      "\t10 : emp_length_7_years [NUMERICAL]\n",
      "\t10 : emp_length_1_year [NUMERICAL]\n",
      "\t9 : sub_grade_B4 [NUMERICAL]\n",
      "\t9 : sub_grade_B1 [NUMERICAL]\n",
      "\t9 : purpose_home_improvement [NUMERICAL]\n",
      "\t9 : emp_length_5_years [NUMERICAL]\n",
      "\t8 : sub_grade_D2 [NUMERICAL]\n",
      "\t7 : sub_grade_F5 [NUMERICAL]\n",
      "\t7 : sub_grade_E5 [NUMERICAL]\n",
      "\t7 : sub_grade_B3 [NUMERICAL]\n",
      "\t7 : purpose_other [NUMERICAL]\n",
      "\t7 : emp_length_<_1_year [NUMERICAL]\n",
      "\t7 : emp_length_6_years [NUMERICAL]\n",
      "\t6 : sub_grade_G5 [NUMERICAL]\n",
      "\t6 : sub_grade_D3 [NUMERICAL]\n",
      "\t6 : purpose_major_purchase [NUMERICAL]\n",
      "\t5 : purpose_vacation [NUMERICAL]\n",
      "\t5 : purpose_medical [NUMERICAL]\n",
      "\t4 : sub_grade_F4 [NUMERICAL]\n",
      "\t4 : sub_grade_F2 [NUMERICAL]\n",
      "\t4 : sub_grade_E1 [NUMERICAL]\n",
      "\t4 : purpose_wedding [NUMERICAL]\n",
      "\t4 : emp_length_9_years [NUMERICAL]\n",
      "\t3 : sub_grade_G3 [NUMERICAL]\n",
      "\t3 : sub_grade_G1 [NUMERICAL]\n",
      "\t2 : sub_grade_E4 [NUMERICAL]\n",
      "\t2 : purpose_car [NUMERICAL]\n",
      "\t2 : acc_now_delinq [NUMERICAL]\n",
      "\t1 : sub_grade_G4 [NUMERICAL]\n",
      "\t1 : purpose_moving [NUMERICAL]\n",
      "\t1 : purpose_house [NUMERICAL]\n",
      "\t1 : collections_12_mths_ex_med [NUMERICAL]\n",
      "\n",
      "Condition type in nodes:\n",
      "\t171069 : HigherCondition\n",
      "Condition type in nodes with depth <= 0:\n",
      "\t300 : HigherCondition\n",
      "Condition type in nodes with depth <= 1:\n",
      "\t845 : HigherCondition\n",
      "Condition type in nodes with depth <= 2:\n",
      "\t1845 : HigherCondition\n",
      "Condition type in nodes with depth <= 3:\n",
      "\t3631 : HigherCondition\n",
      "Condition type in nodes with depth <= 5:\n",
      "\t11795 : HigherCondition\n",
      "Node format: NOT_SET\n",
      "\n",
      "Training OOB:\n",
      "\ttrees: 1, Out-of-bag evaluation: accuracy:0.960841 logloss:1.41145\n",
      "\ttrees: 11, Out-of-bag evaluation: accuracy:0.981692 logloss:0.36118\n",
      "\ttrees: 21, Out-of-bag evaluation: accuracy:0.985664 logloss:0.292261\n",
      "\ttrees: 31, Out-of-bag evaluation: accuracy:0.987088 logloss:0.264627\n",
      "\ttrees: 41, Out-of-bag evaluation: accuracy:0.987527 logloss:0.247719\n",
      "\ttrees: 51, Out-of-bag evaluation: accuracy:0.987914 logloss:0.23238\n",
      "\ttrees: 61, Out-of-bag evaluation: accuracy:0.98816 logloss:0.224055\n",
      "\ttrees: 71, Out-of-bag evaluation: accuracy:0.988212 logloss:0.214188\n",
      "\ttrees: 81, Out-of-bag evaluation: accuracy:0.988177 logloss:0.210454\n",
      "\ttrees: 91, Out-of-bag evaluation: accuracy:0.988388 logloss:0.200748\n",
      "\ttrees: 101, Out-of-bag evaluation: accuracy:0.98837 logloss:0.193255\n",
      "\ttrees: 111, Out-of-bag evaluation: accuracy:0.988335 logloss:0.181356\n",
      "\ttrees: 121, Out-of-bag evaluation: accuracy:0.988493 logloss:0.178058\n",
      "\ttrees: 131, Out-of-bag evaluation: accuracy:0.988423 logloss:0.170486\n",
      "\ttrees: 141, Out-of-bag evaluation: accuracy:0.988529 logloss:0.165415\n",
      "\ttrees: 151, Out-of-bag evaluation: accuracy:0.988511 logloss:0.159732\n",
      "\ttrees: 161, Out-of-bag evaluation: accuracy:0.988581 logloss:0.154786\n",
      "\ttrees: 171, Out-of-bag evaluation: accuracy:0.988476 logloss:0.149929\n",
      "\ttrees: 181, Out-of-bag evaluation: accuracy:0.988529 logloss:0.144886\n",
      "\ttrees: 191, Out-of-bag evaluation: accuracy:0.988581 logloss:0.141729\n",
      "\ttrees: 201, Out-of-bag evaluation: accuracy:0.988581 logloss:0.138461\n",
      "\ttrees: 211, Out-of-bag evaluation: accuracy:0.988581 logloss:0.135364\n",
      "\ttrees: 221, Out-of-bag evaluation: accuracy:0.988581 logloss:0.132657\n",
      "\ttrees: 231, Out-of-bag evaluation: accuracy:0.988652 logloss:0.129182\n",
      "\ttrees: 241, Out-of-bag evaluation: accuracy:0.988669 logloss:0.128662\n",
      "\ttrees: 251, Out-of-bag evaluation: accuracy:0.988669 logloss:0.125761\n",
      "\ttrees: 261, Out-of-bag evaluation: accuracy:0.988704 logloss:0.12376\n",
      "\ttrees: 271, Out-of-bag evaluation: accuracy:0.988704 logloss:0.121906\n",
      "\ttrees: 281, Out-of-bag evaluation: accuracy:0.988669 logloss:0.118595\n",
      "\ttrees: 291, Out-of-bag evaluation: accuracy:0.988757 logloss:0.117848\n",
      "\ttrees: 300, Out-of-bag evaluation: accuracy:0.988739 logloss:0.116686\n",
      "\n"
     ]
    }
   ],
   "source": [
    "model.summary()"
   ]
  },
  {
   "cell_type": "code",
   "execution_count": 114,
   "metadata": {},
   "outputs": [],
   "source": [
    "model.compile(metrics=[\"accuracy\"])"
   ]
  },
  {
   "cell_type": "code",
   "execution_count": 115,
   "metadata": {},
   "outputs": [
    {
     "name": "stderr",
     "output_type": "stream",
     "text": [
      "2023-05-31 21:20:43.705227: I tensorflow/core/common_runtime/executor.cc:1197] [/device:CPU:0] (DEBUG INFO) Executor start aborting (this does not indicate an error and you can ignore this message): INVALID_ARGUMENT: You must feed a value for placeholder tensor 'Placeholder/_95' with dtype int32 and shape [24396]\n",
      "\t [[{{node Placeholder/_95}}]]\n"
     ]
    },
    {
     "name": "stdout",
     "output_type": "stream",
     "text": [
      "25/25 [==============================] - 1s 27ms/step - loss: 0.0000e+00 - accuracy: 0.9613\n"
     ]
    },
    {
     "data": {
      "text/plain": [
       "[0.0, 0.9612641334533691]"
      ]
     },
     "execution_count": 115,
     "metadata": {},
     "output_type": "execute_result"
    }
   ],
   "source": [
    "model.evaluate(X_test)"
   ]
  },
  {
   "attachments": {},
   "cell_type": "markdown",
   "metadata": {},
   "source": [
    "### Feed Forward network"
   ]
  },
  {
   "cell_type": "code",
   "execution_count": 116,
   "metadata": {},
   "outputs": [],
   "source": [
    "y_train = train['default_ind']\n",
    "X_train = train.drop('default_ind', axis=1)\n",
    "y_test = test['default_ind']\n",
    "X_test = test.drop('default_ind', axis=1)"
   ]
  },
  {
   "cell_type": "code",
   "execution_count": 117,
   "metadata": {},
   "outputs": [
    {
     "data": {
      "text/plain": [
       "(56924, 108)"
      ]
     },
     "execution_count": 117,
     "metadata": {},
     "output_type": "execute_result"
    }
   ],
   "source": [
    "X_train.shape"
   ]
  },
  {
   "cell_type": "code",
   "execution_count": 118,
   "metadata": {},
   "outputs": [],
   "source": [
    "from keras.models import Sequential\n",
    "from keras.layers import Dense, Flatten\n",
    "\n",
    "model = Sequential()\n",
    "model.add(Flatten(input_shape=(108,)))\n",
    "model.add(Dense(10, activation=\"relu\"))\n",
    "model.add(Dense(10, activation=\"relu\"))\n",
    "model.add(Dense(2, activation=\"softmax\"))"
   ]
  },
  {
   "cell_type": "code",
   "execution_count": 119,
   "metadata": {},
   "outputs": [],
   "source": [
    "model.compile(loss='mean_absolute_error', optimizer='adam', metrics=['accuracy'])"
   ]
  },
  {
   "cell_type": "code",
   "execution_count": 120,
   "metadata": {},
   "outputs": [
    {
     "name": "stdout",
     "output_type": "stream",
     "text": [
      "Epoch 1/20\n"
     ]
    },
    {
     "name": "stderr",
     "output_type": "stream",
     "text": [
      "2023-05-31 21:20:48.168783: I tensorflow/compiler/xla/service/service.cc:169] XLA service 0x7fe6b805c130 initialized for platform CUDA (this does not guarantee that XLA will be used). Devices:\n",
      "2023-05-31 21:20:48.168805: I tensorflow/compiler/xla/service/service.cc:177]   StreamExecutor device (0): NVIDIA GeForce RTX 2080, Compute Capability 7.5\n",
      "2023-05-31 21:20:48.171865: I tensorflow/compiler/mlir/tensorflow/utils/dump_mlir_util.cc:269] disabling MLIR crash reproducer, set env var `MLIR_CRASH_REPRODUCER_DIRECTORY` to enable.\n",
      "2023-05-31 21:20:48.178810: E tensorflow/compiler/xla/stream_executor/cuda/cuda_dnn.cc:429] Could not create cudnn handle: CUDNN_STATUS_NOT_INITIALIZED\n",
      "2023-05-31 21:20:48.178845: E tensorflow/compiler/xla/stream_executor/cuda/cuda_dnn.cc:438] Possibly insufficient driver version: 515.65.1\n",
      "2023-05-31 21:20:48.192683: E tensorflow/compiler/xla/status_macros.cc:57] INTERNAL: RET_CHECK failure (tensorflow/compiler/xla/service/gpu/gpu_compiler.cc:618) dnn != nullptr \n",
      "*** Begin stack trace ***\n",
      "\ttsl::CurrentStackTrace[abi:cxx11]()\n",
      "\t\n",
      "\txla::status_macros::MakeErrorStream::Impl::GetStatus()\n",
      "\txla::gpu::GpuCompiler::OptimizeHloModule(xla::HloModule*, stream_executor::StreamExecutor*, stream_executor::DeviceMemoryAllocator*, xla::gpu::GpuTargetConfig const&, xla::AutotuneResults const*)\n",
      "\txla::gpu::GpuCompiler::RunHloPasses(std::unique_ptr<xla::HloModule, std::default_delete<xla::HloModule> >, stream_executor::StreamExecutor*, xla::Compiler::CompileOptions const&)\n",
      "\txla::Service::BuildExecutable(xla::HloModuleProto const&, std::unique_ptr<xla::HloModuleConfig, std::default_delete<xla::HloModuleConfig> >, xla::Backend*, stream_executor::StreamExecutor*, xla::Compiler::CompileOptions const&, bool)\n",
      "\txla::LocalService::CompileExecutables(xla::XlaComputation const&, absl::lts_20220623::Span<xla::Shape const* const>, xla::ExecutableBuildOptions const&)\n",
      "\txla::LocalClient::Compile(xla::XlaComputation const&, absl::lts_20220623::Span<xla::Shape const* const>, xla::ExecutableBuildOptions const&)\n",
      "\ttensorflow::XlaDeviceCompilerClient::BuildExecutable(tensorflow::XlaCompiler::Options const&, tensorflow::XlaCompilationResult const&)\n",
      "\ttensorflow::DeviceCompiler<xla::LocalExecutable, xla::LocalClient>::CompileStrict(tensorflow::DeviceCompilationClusterSignature const&, tensorflow::XlaCompiler::CompileOptions const&, tensorflow::XlaCompiler::Options const&, std::vector<tensorflow::XlaArgument, std::allocator<tensorflow::XlaArgument> > const&, tensorflow::NameAttrList const&, tensorflow::DeviceCompilationCache<xla::LocalExecutable>::Value, tensorflow::DeviceCompiler<xla::LocalExecutable, xla::LocalClient>::CompileScope, tensorflow::OpKernelContext*, tensorflow::DeviceCompilationProfiler*, tsl::mutex*)\n",
      "\ttensorflow::DeviceCompiler<xla::LocalExecutable, xla::LocalClient>::CompileImpl(tensorflow::XlaCompiler::CompileOptions const&, tensorflow::XlaCompiler::Options const&, tensorflow::NameAttrList const&, std::vector<tensorflow::XlaArgument, std::allocator<tensorflow::XlaArgument> > const&, tensorflow::DeviceCompiler<xla::LocalExecutable, xla::LocalClient>::CompileScope, tensorflow::DeviceCompileMode, tensorflow::OpKernelContext*, tensorflow::DeviceCompilationProfiler*, tensorflow::XlaCompilationResult const**, xla::LocalExecutable**)\n",
      "\t\n",
      "\ttensorflow::XlaLocalLaunchBase::ComputeAsync(tensorflow::OpKernelContext*, std::function<void ()>)\n",
      "\ttensorflow::BaseGPUDevice::ComputeAsync(tensorflow::AsyncOpKernel*, tensorflow::OpKernelContext*, std::function<void ()>)\n",
      "\t\n",
      "\t\n",
      "\tEigen::ThreadPoolTempl<tsl::thread::EigenEnvironment>::WorkerLoop(int)\n",
      "\tstd::_Function_handler<void (), tsl::thread::EigenEnvironment::CreateThread(std::function<void ()>)::{lambda()#1}>::_M_invoke(std::_Any_data const&)\n",
      "\t\n",
      "\t\n",
      "\t\n",
      "*** End stack trace ***\n",
      "\n",
      "2023-05-31 21:20:48.192826: W tensorflow/core/framework/op_kernel.cc:1830] OP_REQUIRES failed at xla_ops.cc:362 : INTERNAL: RET_CHECK failure (tensorflow/compiler/xla/service/gpu/gpu_compiler.cc:618) dnn != nullptr \n",
      "2023-05-31 21:20:48.192840: I tensorflow/core/common_runtime/executor.cc:1197] [/job:localhost/replica:0/task:0/device:GPU:0] (DEBUG INFO) Executor start aborting (this does not indicate an error and you can ignore this message): INTERNAL: RET_CHECK failure (tensorflow/compiler/xla/service/gpu/gpu_compiler.cc:618) dnn != nullptr \n",
      "\t [[{{node StatefulPartitionedCall_4}}]]\n",
      "2023-05-31 21:20:48.200276: E tensorflow/compiler/xla/stream_executor/cuda/cuda_dnn.cc:429] Could not create cudnn handle: CUDNN_STATUS_NOT_INITIALIZED\n",
      "2023-05-31 21:20:48.200314: E tensorflow/compiler/xla/stream_executor/cuda/cuda_dnn.cc:438] Possibly insufficient driver version: 515.65.1\n",
      "2023-05-31 21:20:48.214054: E tensorflow/compiler/xla/status_macros.cc:57] INTERNAL: RET_CHECK failure (tensorflow/compiler/xla/service/gpu/gpu_compiler.cc:618) dnn != nullptr \n",
      "*** Begin stack trace ***\n",
      "\ttsl::CurrentStackTrace[abi:cxx11]()\n",
      "\t\n",
      "\txla::status_macros::MakeErrorStream::Impl::GetStatus()\n",
      "\txla::gpu::GpuCompiler::OptimizeHloModule(xla::HloModule*, stream_executor::StreamExecutor*, stream_executor::DeviceMemoryAllocator*, xla::gpu::GpuTargetConfig const&, xla::AutotuneResults const*)\n",
      "\txla::gpu::GpuCompiler::RunHloPasses(std::unique_ptr<xla::HloModule, std::default_delete<xla::HloModule> >, stream_executor::StreamExecutor*, xla::Compiler::CompileOptions const&)\n",
      "\txla::Service::BuildExecutable(xla::HloModuleProto const&, std::unique_ptr<xla::HloModuleConfig, std::default_delete<xla::HloModuleConfig> >, xla::Backend*, stream_executor::StreamExecutor*, xla::Compiler::CompileOptions const&, bool)\n",
      "\txla::LocalService::CompileExecutables(xla::XlaComputation const&, absl::lts_20220623::Span<xla::Shape const* const>, xla::ExecutableBuildOptions const&)\n",
      "\txla::LocalClient::Compile(xla::XlaComputation const&, absl::lts_20220623::Span<xla::Shape const* const>, xla::ExecutableBuildOptions const&)\n",
      "\ttensorflow::XlaDeviceCompilerClient::BuildExecutable(tensorflow::XlaCompiler::Options const&, tensorflow::XlaCompilationResult const&)\n",
      "\ttensorflow::DeviceCompiler<xla::LocalExecutable, xla::LocalClient>::CompileStrict(tensorflow::DeviceCompilationClusterSignature const&, tensorflow::XlaCompiler::CompileOptions const&, tensorflow::XlaCompiler::Options const&, std::vector<tensorflow::XlaArgument, std::allocator<tensorflow::XlaArgument> > const&, tensorflow::NameAttrList const&, tensorflow::DeviceCompilationCache<xla::LocalExecutable>::Value, tensorflow::DeviceCompiler<xla::LocalExecutable, xla::LocalClient>::CompileScope, tensorflow::OpKernelContext*, tensorflow::DeviceCompilationProfiler*, tsl::mutex*)\n",
      "\ttensorflow::DeviceCompiler<xla::LocalExecutable, xla::LocalClient>::CompileImpl(tensorflow::XlaCompiler::CompileOptions const&, tensorflow::XlaCompiler::Options const&, tensorflow::NameAttrList const&, std::vector<tensorflow::XlaArgument, std::allocator<tensorflow::XlaArgument> > const&, tensorflow::DeviceCompiler<xla::LocalExecutable, xla::LocalClient>::CompileScope, tensorflow::DeviceCompileMode, tensorflow::OpKernelContext*, tensorflow::DeviceCompilationProfiler*, tensorflow::XlaCompilationResult const**, xla::LocalExecutable**)\n",
      "\t\n",
      "\ttensorflow::XlaLocalLaunchBase::ComputeAsync(tensorflow::OpKernelContext*, std::function<void ()>)\n",
      "\ttensorflow::BaseGPUDevice::ComputeAsync(tensorflow::AsyncOpKernel*, tensorflow::OpKernelContext*, std::function<void ()>)\n",
      "\t\n",
      "\t\n",
      "\tEigen::ThreadPoolTempl<tsl::thread::EigenEnvironment>::WorkerLoop(int)\n",
      "\tstd::_Function_handler<void (), tsl::thread::EigenEnvironment::CreateThread(std::function<void ()>)::{lambda()#1}>::_M_invoke(std::_Any_data const&)\n",
      "\t\n",
      "\t\n",
      "\t\n",
      "*** End stack trace ***\n",
      "\n",
      "2023-05-31 21:20:48.214216: W tensorflow/core/framework/op_kernel.cc:1830] OP_REQUIRES failed at xla_ops.cc:362 : INTERNAL: RET_CHECK failure (tensorflow/compiler/xla/service/gpu/gpu_compiler.cc:618) dnn != nullptr \n",
      "2023-05-31 21:20:48.221353: E tensorflow/compiler/xla/stream_executor/cuda/cuda_dnn.cc:429] Could not create cudnn handle: CUDNN_STATUS_NOT_INITIALIZED\n",
      "2023-05-31 21:20:48.221388: E tensorflow/compiler/xla/stream_executor/cuda/cuda_dnn.cc:438] Possibly insufficient driver version: 515.65.1\n",
      "2023-05-31 21:20:48.235114: E tensorflow/compiler/xla/status_macros.cc:57] INTERNAL: RET_CHECK failure (tensorflow/compiler/xla/service/gpu/gpu_compiler.cc:618) dnn != nullptr \n",
      "*** Begin stack trace ***\n",
      "\ttsl::CurrentStackTrace[abi:cxx11]()\n",
      "\t\n",
      "\txla::status_macros::MakeErrorStream::Impl::GetStatus()\n",
      "\txla::gpu::GpuCompiler::OptimizeHloModule(xla::HloModule*, stream_executor::StreamExecutor*, stream_executor::DeviceMemoryAllocator*, xla::gpu::GpuTargetConfig const&, xla::AutotuneResults const*)\n",
      "\txla::gpu::GpuCompiler::RunHloPasses(std::unique_ptr<xla::HloModule, std::default_delete<xla::HloModule> >, stream_executor::StreamExecutor*, xla::Compiler::CompileOptions const&)\n",
      "\txla::Service::BuildExecutable(xla::HloModuleProto const&, std::unique_ptr<xla::HloModuleConfig, std::default_delete<xla::HloModuleConfig> >, xla::Backend*, stream_executor::StreamExecutor*, xla::Compiler::CompileOptions const&, bool)\n",
      "\txla::LocalService::CompileExecutables(xla::XlaComputation const&, absl::lts_20220623::Span<xla::Shape const* const>, xla::ExecutableBuildOptions const&)\n",
      "\txla::LocalClient::Compile(xla::XlaComputation const&, absl::lts_20220623::Span<xla::Shape const* const>, xla::ExecutableBuildOptions const&)\n",
      "\ttensorflow::XlaDeviceCompilerClient::BuildExecutable(tensorflow::XlaCompiler::Options const&, tensorflow::XlaCompilationResult const&)\n",
      "\ttensorflow::DeviceCompiler<xla::LocalExecutable, xla::LocalClient>::CompileStrict(tensorflow::DeviceCompilationClusterSignature const&, tensorflow::XlaCompiler::CompileOptions const&, tensorflow::XlaCompiler::Options const&, std::vector<tensorflow::XlaArgument, std::allocator<tensorflow::XlaArgument> > const&, tensorflow::NameAttrList const&, tensorflow::DeviceCompilationCache<xla::LocalExecutable>::Value, tensorflow::DeviceCompiler<xla::LocalExecutable, xla::LocalClient>::CompileScope, tensorflow::OpKernelContext*, tensorflow::DeviceCompilationProfiler*, tsl::mutex*)\n",
      "\ttensorflow::DeviceCompiler<xla::LocalExecutable, xla::LocalClient>::CompileImpl(tensorflow::XlaCompiler::CompileOptions const&, tensorflow::XlaCompiler::Options const&, tensorflow::NameAttrList const&, std::vector<tensorflow::XlaArgument, std::allocator<tensorflow::XlaArgument> > const&, tensorflow::DeviceCompiler<xla::LocalExecutable, xla::LocalClient>::CompileScope, tensorflow::DeviceCompileMode, tensorflow::OpKernelContext*, tensorflow::DeviceCompilationProfiler*, tensorflow::XlaCompilationResult const**, xla::LocalExecutable**)\n",
      "\t\n",
      "\ttensorflow::XlaLocalLaunchBase::ComputeAsync(tensorflow::OpKernelContext*, std::function<void ()>)\n",
      "\ttensorflow::BaseGPUDevice::ComputeAsync(tensorflow::AsyncOpKernel*, tensorflow::OpKernelContext*, std::function<void ()>)\n",
      "\t\n",
      "\t\n",
      "\tEigen::ThreadPoolTempl<tsl::thread::EigenEnvironment>::WorkerLoop(int)\n",
      "\tstd::_Function_handler<void (), tsl::thread::EigenEnvironment::CreateThread(std::function<void ()>)::{lambda()#1}>::_M_invoke(std::_Any_data const&)\n",
      "\t\n",
      "\t\n",
      "\t\n",
      "*** End stack trace ***\n",
      "\n",
      "2023-05-31 21:20:48.235302: W tensorflow/core/framework/op_kernel.cc:1830] OP_REQUIRES failed at xla_ops.cc:362 : INTERNAL: RET_CHECK failure (tensorflow/compiler/xla/service/gpu/gpu_compiler.cc:618) dnn != nullptr \n",
      "2023-05-31 21:20:48.242692: E tensorflow/compiler/xla/stream_executor/cuda/cuda_dnn.cc:429] Could not create cudnn handle: CUDNN_STATUS_NOT_INITIALIZED\n",
      "2023-05-31 21:20:48.242725: E tensorflow/compiler/xla/stream_executor/cuda/cuda_dnn.cc:438] Possibly insufficient driver version: 515.65.1\n",
      "2023-05-31 21:20:48.256450: E tensorflow/compiler/xla/status_macros.cc:57] INTERNAL: RET_CHECK failure (tensorflow/compiler/xla/service/gpu/gpu_compiler.cc:618) dnn != nullptr \n",
      "*** Begin stack trace ***\n",
      "\ttsl::CurrentStackTrace[abi:cxx11]()\n",
      "\t\n",
      "\txla::status_macros::MakeErrorStream::Impl::GetStatus()\n",
      "\txla::gpu::GpuCompiler::OptimizeHloModule(xla::HloModule*, stream_executor::StreamExecutor*, stream_executor::DeviceMemoryAllocator*, xla::gpu::GpuTargetConfig const&, xla::AutotuneResults const*)\n",
      "\txla::gpu::GpuCompiler::RunHloPasses(std::unique_ptr<xla::HloModule, std::default_delete<xla::HloModule> >, stream_executor::StreamExecutor*, xla::Compiler::CompileOptions const&)\n",
      "\txla::Service::BuildExecutable(xla::HloModuleProto const&, std::unique_ptr<xla::HloModuleConfig, std::default_delete<xla::HloModuleConfig> >, xla::Backend*, stream_executor::StreamExecutor*, xla::Compiler::CompileOptions const&, bool)\n",
      "\txla::LocalService::CompileExecutables(xla::XlaComputation const&, absl::lts_20220623::Span<xla::Shape const* const>, xla::ExecutableBuildOptions const&)\n",
      "\txla::LocalClient::Compile(xla::XlaComputation const&, absl::lts_20220623::Span<xla::Shape const* const>, xla::ExecutableBuildOptions const&)\n",
      "\ttensorflow::XlaDeviceCompilerClient::BuildExecutable(tensorflow::XlaCompiler::Options const&, tensorflow::XlaCompilationResult const&)\n",
      "\ttensorflow::DeviceCompiler<xla::LocalExecutable, xla::LocalClient>::CompileStrict(tensorflow::DeviceCompilationClusterSignature const&, tensorflow::XlaCompiler::CompileOptions const&, tensorflow::XlaCompiler::Options const&, std::vector<tensorflow::XlaArgument, std::allocator<tensorflow::XlaArgument> > const&, tensorflow::NameAttrList const&, tensorflow::DeviceCompilationCache<xla::LocalExecutable>::Value, tensorflow::DeviceCompiler<xla::LocalExecutable, xla::LocalClient>::CompileScope, tensorflow::OpKernelContext*, tensorflow::DeviceCompilationProfiler*, tsl::mutex*)\n",
      "\ttensorflow::DeviceCompiler<xla::LocalExecutable, xla::LocalClient>::CompileImpl(tensorflow::XlaCompiler::CompileOptions const&, tensorflow::XlaCompiler::Options const&, tensorflow::NameAttrList const&, std::vector<tensorflow::XlaArgument, std::allocator<tensorflow::XlaArgument> > const&, tensorflow::DeviceCompiler<xla::LocalExecutable, xla::LocalClient>::CompileScope, tensorflow::DeviceCompileMode, tensorflow::OpKernelContext*, tensorflow::DeviceCompilationProfiler*, tensorflow::XlaCompilationResult const**, xla::LocalExecutable**)\n",
      "\t\n",
      "\ttensorflow::XlaLocalLaunchBase::ComputeAsync(tensorflow::OpKernelContext*, std::function<void ()>)\n",
      "\ttensorflow::BaseGPUDevice::ComputeAsync(tensorflow::AsyncOpKernel*, tensorflow::OpKernelContext*, std::function<void ()>)\n",
      "\t\n",
      "\t\n",
      "\tEigen::ThreadPoolTempl<tsl::thread::EigenEnvironment>::WorkerLoop(int)\n",
      "\tstd::_Function_handler<void (), tsl::thread::EigenEnvironment::CreateThread(std::function<void ()>)::{lambda()#1}>::_M_invoke(std::_Any_data const&)\n",
      "\t\n",
      "\t\n",
      "\t\n",
      "*** End stack trace ***\n",
      "\n",
      "2023-05-31 21:20:48.256570: W tensorflow/core/framework/op_kernel.cc:1830] OP_REQUIRES failed at xla_ops.cc:362 : INTERNAL: RET_CHECK failure (tensorflow/compiler/xla/service/gpu/gpu_compiler.cc:618) dnn != nullptr \n",
      "2023-05-31 21:20:48.264022: E tensorflow/compiler/xla/stream_executor/cuda/cuda_dnn.cc:429] Could not create cudnn handle: CUDNN_STATUS_NOT_INITIALIZED\n",
      "2023-05-31 21:20:48.264056: E tensorflow/compiler/xla/stream_executor/cuda/cuda_dnn.cc:438] Possibly insufficient driver version: 515.65.1\n",
      "2023-05-31 21:20:48.277696: E tensorflow/compiler/xla/status_macros.cc:57] INTERNAL: RET_CHECK failure (tensorflow/compiler/xla/service/gpu/gpu_compiler.cc:618) dnn != nullptr \n",
      "*** Begin stack trace ***\n",
      "\ttsl::CurrentStackTrace[abi:cxx11]()\n",
      "\t\n",
      "\txla::status_macros::MakeErrorStream::Impl::GetStatus()\n",
      "\txla::gpu::GpuCompiler::OptimizeHloModule(xla::HloModule*, stream_executor::StreamExecutor*, stream_executor::DeviceMemoryAllocator*, xla::gpu::GpuTargetConfig const&, xla::AutotuneResults const*)\n",
      "\txla::gpu::GpuCompiler::RunHloPasses(std::unique_ptr<xla::HloModule, std::default_delete<xla::HloModule> >, stream_executor::StreamExecutor*, xla::Compiler::CompileOptions const&)\n",
      "\txla::Service::BuildExecutable(xla::HloModuleProto const&, std::unique_ptr<xla::HloModuleConfig, std::default_delete<xla::HloModuleConfig> >, xla::Backend*, stream_executor::StreamExecutor*, xla::Compiler::CompileOptions const&, bool)\n",
      "\txla::LocalService::CompileExecutables(xla::XlaComputation const&, absl::lts_20220623::Span<xla::Shape const* const>, xla::ExecutableBuildOptions const&)\n",
      "\txla::LocalClient::Compile(xla::XlaComputation const&, absl::lts_20220623::Span<xla::Shape const* const>, xla::ExecutableBuildOptions const&)\n",
      "\ttensorflow::XlaDeviceCompilerClient::BuildExecutable(tensorflow::XlaCompiler::Options const&, tensorflow::XlaCompilationResult const&)\n",
      "\ttensorflow::DeviceCompiler<xla::LocalExecutable, xla::LocalClient>::CompileStrict(tensorflow::DeviceCompilationClusterSignature const&, tensorflow::XlaCompiler::CompileOptions const&, tensorflow::XlaCompiler::Options const&, std::vector<tensorflow::XlaArgument, std::allocator<tensorflow::XlaArgument> > const&, tensorflow::NameAttrList const&, tensorflow::DeviceCompilationCache<xla::LocalExecutable>::Value, tensorflow::DeviceCompiler<xla::LocalExecutable, xla::LocalClient>::CompileScope, tensorflow::OpKernelContext*, tensorflow::DeviceCompilationProfiler*, tsl::mutex*)\n",
      "\ttensorflow::DeviceCompiler<xla::LocalExecutable, xla::LocalClient>::CompileImpl(tensorflow::XlaCompiler::CompileOptions const&, tensorflow::XlaCompiler::Options const&, tensorflow::NameAttrList const&, std::vector<tensorflow::XlaArgument, std::allocator<tensorflow::XlaArgument> > const&, tensorflow::DeviceCompiler<xla::LocalExecutable, xla::LocalClient>::CompileScope, tensorflow::DeviceCompileMode, tensorflow::OpKernelContext*, tensorflow::DeviceCompilationProfiler*, tensorflow::XlaCompilationResult const**, xla::LocalExecutable**)\n",
      "\t\n",
      "\ttensorflow::XlaLocalLaunchBase::ComputeAsync(tensorflow::OpKernelContext*, std::function<void ()>)\n",
      "\ttensorflow::BaseGPUDevice::ComputeAsync(tensorflow::AsyncOpKernel*, tensorflow::OpKernelContext*, std::function<void ()>)\n",
      "\t\n",
      "\t\n",
      "\tEigen::ThreadPoolTempl<tsl::thread::EigenEnvironment>::WorkerLoop(int)\n",
      "\tstd::_Function_handler<void (), tsl::thread::EigenEnvironment::CreateThread(std::function<void ()>)::{lambda()#1}>::_M_invoke(std::_Any_data const&)\n",
      "\t\n",
      "\t\n",
      "\t\n",
      "*** End stack trace ***\n",
      "\n",
      "2023-05-31 21:20:48.277833: W tensorflow/core/framework/op_kernel.cc:1830] OP_REQUIRES failed at xla_ops.cc:362 : INTERNAL: RET_CHECK failure (tensorflow/compiler/xla/service/gpu/gpu_compiler.cc:618) dnn != nullptr \n",
      "2023-05-31 21:20:48.285231: E tensorflow/compiler/xla/stream_executor/cuda/cuda_dnn.cc:429] Could not create cudnn handle: CUDNN_STATUS_NOT_INITIALIZED\n",
      "2023-05-31 21:20:48.285259: E tensorflow/compiler/xla/stream_executor/cuda/cuda_dnn.cc:438] Possibly insufficient driver version: 515.65.1\n",
      "2023-05-31 21:20:48.298997: E tensorflow/compiler/xla/status_macros.cc:57] INTERNAL: RET_CHECK failure (tensorflow/compiler/xla/service/gpu/gpu_compiler.cc:618) dnn != nullptr \n",
      "*** Begin stack trace ***\n",
      "\ttsl::CurrentStackTrace[abi:cxx11]()\n",
      "\t\n",
      "\txla::status_macros::MakeErrorStream::Impl::GetStatus()\n",
      "\txla::gpu::GpuCompiler::OptimizeHloModule(xla::HloModule*, stream_executor::StreamExecutor*, stream_executor::DeviceMemoryAllocator*, xla::gpu::GpuTargetConfig const&, xla::AutotuneResults const*)\n",
      "\txla::gpu::GpuCompiler::RunHloPasses(std::unique_ptr<xla::HloModule, std::default_delete<xla::HloModule> >, stream_executor::StreamExecutor*, xla::Compiler::CompileOptions const&)\n",
      "\txla::Service::BuildExecutable(xla::HloModuleProto const&, std::unique_ptr<xla::HloModuleConfig, std::default_delete<xla::HloModuleConfig> >, xla::Backend*, stream_executor::StreamExecutor*, xla::Compiler::CompileOptions const&, bool)\n",
      "\txla::LocalService::CompileExecutables(xla::XlaComputation const&, absl::lts_20220623::Span<xla::Shape const* const>, xla::ExecutableBuildOptions const&)\n",
      "\txla::LocalClient::Compile(xla::XlaComputation const&, absl::lts_20220623::Span<xla::Shape const* const>, xla::ExecutableBuildOptions const&)\n",
      "\ttensorflow::XlaDeviceCompilerClient::BuildExecutable(tensorflow::XlaCompiler::Options const&, tensorflow::XlaCompilationResult const&)\n",
      "\ttensorflow::DeviceCompiler<xla::LocalExecutable, xla::LocalClient>::CompileStrict(tensorflow::DeviceCompilationClusterSignature const&, tensorflow::XlaCompiler::CompileOptions const&, tensorflow::XlaCompiler::Options const&, std::vector<tensorflow::XlaArgument, std::allocator<tensorflow::XlaArgument> > const&, tensorflow::NameAttrList const&, tensorflow::DeviceCompilationCache<xla::LocalExecutable>::Value, tensorflow::DeviceCompiler<xla::LocalExecutable, xla::LocalClient>::CompileScope, tensorflow::OpKernelContext*, tensorflow::DeviceCompilationProfiler*, tsl::mutex*)\n",
      "\ttensorflow::DeviceCompiler<xla::LocalExecutable, xla::LocalClient>::CompileImpl(tensorflow::XlaCompiler::CompileOptions const&, tensorflow::XlaCompiler::Options const&, tensorflow::NameAttrList const&, std::vector<tensorflow::XlaArgument, std::allocator<tensorflow::XlaArgument> > const&, tensorflow::DeviceCompiler<xla::LocalExecutable, xla::LocalClient>::CompileScope, tensorflow::DeviceCompileMode, tensorflow::OpKernelContext*, tensorflow::DeviceCompilationProfiler*, tensorflow::XlaCompilationResult const**, xla::LocalExecutable**)\n",
      "\t\n",
      "\ttensorflow::XlaLocalLaunchBase::ComputeAsync(tensorflow::OpKernelContext*, std::function<void ()>)\n",
      "\ttensorflow::BaseGPUDevice::ComputeAsync(tensorflow::AsyncOpKernel*, tensorflow::OpKernelContext*, std::function<void ()>)\n",
      "\t\n",
      "\t\n",
      "\tEigen::ThreadPoolTempl<tsl::thread::EigenEnvironment>::WorkerLoop(int)\n",
      "\tstd::_Function_handler<void (), tsl::thread::EigenEnvironment::CreateThread(std::function<void ()>)::{lambda()#1}>::_M_invoke(std::_Any_data const&)\n",
      "\t\n",
      "\t\n",
      "\t\n",
      "*** End stack trace ***\n",
      "\n",
      "2023-05-31 21:20:48.299140: W tensorflow/core/framework/op_kernel.cc:1830] OP_REQUIRES failed at xla_ops.cc:362 : INTERNAL: RET_CHECK failure (tensorflow/compiler/xla/service/gpu/gpu_compiler.cc:618) dnn != nullptr \n"
     ]
    },
    {
     "ename": "InternalError",
     "evalue": "Graph execution error:\n\nDetected at node 'StatefulPartitionedCall_4' defined at (most recent call last):\n    File \"/home/huukhang1512/miniconda3/envs/tf/lib/python3.9/runpy.py\", line 197, in _run_module_as_main\n      return _run_code(code, main_globals, None,\n    File \"/home/huukhang1512/miniconda3/envs/tf/lib/python3.9/runpy.py\", line 87, in _run_code\n      exec(code, run_globals)\n    File \"/home/huukhang1512/.local/lib/python3.9/site-packages/ipykernel_launcher.py\", line 16, in <module>\n      app.launch_new_instance()\n    File \"/home/huukhang1512/.local/lib/python3.9/site-packages/traitlets/config/application.py\", line 845, in launch_instance\n      app.start()\n    File \"/home/huukhang1512/.local/lib/python3.9/site-packages/ipykernel/kernelapp.py\", line 667, in start\n      self.io_loop.start()\n    File \"/home/huukhang1512/.local/lib/python3.9/site-packages/tornado/platform/asyncio.py\", line 199, in start\n      self.asyncio_loop.run_forever()\n    File \"/home/huukhang1512/miniconda3/envs/tf/lib/python3.9/asyncio/base_events.py\", line 601, in run_forever\n      self._run_once()\n    File \"/home/huukhang1512/miniconda3/envs/tf/lib/python3.9/asyncio/base_events.py\", line 1905, in _run_once\n      handle._run()\n    File \"/home/huukhang1512/miniconda3/envs/tf/lib/python3.9/asyncio/events.py\", line 80, in _run\n      self._context.run(self._callback, *self._args)\n    File \"/home/huukhang1512/.local/lib/python3.9/site-packages/ipykernel/kernelbase.py\", line 456, in dispatch_queue\n      await self.process_one()\n    File \"/home/huukhang1512/.local/lib/python3.9/site-packages/ipykernel/kernelbase.py\", line 445, in process_one\n      await dispatch(*args)\n    File \"/home/huukhang1512/.local/lib/python3.9/site-packages/ipykernel/kernelbase.py\", line 352, in dispatch_shell\n      await result\n    File \"/home/huukhang1512/.local/lib/python3.9/site-packages/ipykernel/kernelbase.py\", line 647, in execute_request\n      reply_content = await reply_content\n    File \"/home/huukhang1512/.local/lib/python3.9/site-packages/ipykernel/ipkernel.py\", line 345, in do_execute\n      res = shell.run_cell(code, store_history=store_history, silent=silent)\n    File \"/home/huukhang1512/.local/lib/python3.9/site-packages/ipykernel/zmqshell.py\", line 532, in run_cell\n      return super(ZMQInteractiveShell, self).run_cell(*args, **kwargs)\n    File \"/home/huukhang1512/.local/lib/python3.9/site-packages/IPython/core/interactiveshell.py\", line 2898, in run_cell\n      result = self._run_cell(\n    File \"/home/huukhang1512/.local/lib/python3.9/site-packages/IPython/core/interactiveshell.py\", line 2944, in _run_cell\n      return runner(coro)\n    File \"/home/huukhang1512/.local/lib/python3.9/site-packages/IPython/core/async_helpers.py\", line 68, in _pseudo_sync_runner\n      coro.send(None)\n    File \"/home/huukhang1512/.local/lib/python3.9/site-packages/IPython/core/interactiveshell.py\", line 3169, in run_cell_async\n      has_raised = await self.run_ast_nodes(code_ast.body, cell_name,\n    File \"/home/huukhang1512/.local/lib/python3.9/site-packages/IPython/core/interactiveshell.py\", line 3361, in run_ast_nodes\n      if (await self.run_code(code, result,  async_=asy)):\n    File \"/home/huukhang1512/.local/lib/python3.9/site-packages/IPython/core/interactiveshell.py\", line 3441, in run_code\n      exec(code_obj, self.user_global_ns, self.user_ns)\n    File \"/tmp/ipykernel_163145/1158015367.py\", line 1, in <module>\n      model.fit(X_train, y_train, epochs=20, batch_size=100, validation_split=0.2)\n    File \"/home/huukhang1512/miniconda3/envs/tf/lib/python3.9/site-packages/keras/utils/traceback_utils.py\", line 65, in error_handler\n      return fn(*args, **kwargs)\n    File \"/home/huukhang1512/miniconda3/envs/tf/lib/python3.9/site-packages/keras/engine/training.py\", line 1685, in fit\n      tmp_logs = self.train_function(iterator)\n    File \"/home/huukhang1512/miniconda3/envs/tf/lib/python3.9/site-packages/keras/engine/training.py\", line 1284, in train_function\n      return step_function(self, iterator)\n    File \"/home/huukhang1512/miniconda3/envs/tf/lib/python3.9/site-packages/keras/engine/training.py\", line 1268, in step_function\n      outputs = model.distribute_strategy.run(run_step, args=(data,))\n    File \"/home/huukhang1512/miniconda3/envs/tf/lib/python3.9/site-packages/keras/engine/training.py\", line 1249, in run_step\n      outputs = model.train_step(data)\n    File \"/home/huukhang1512/miniconda3/envs/tf/lib/python3.9/site-packages/keras/engine/training.py\", line 1054, in train_step\n      self.optimizer.minimize(loss, self.trainable_variables, tape=tape)\n    File \"/home/huukhang1512/miniconda3/envs/tf/lib/python3.9/site-packages/keras/optimizers/optimizer.py\", line 543, in minimize\n      self.apply_gradients(grads_and_vars)\n    File \"/home/huukhang1512/miniconda3/envs/tf/lib/python3.9/site-packages/keras/optimizers/optimizer.py\", line 1174, in apply_gradients\n      return super().apply_gradients(grads_and_vars, name=name)\n    File \"/home/huukhang1512/miniconda3/envs/tf/lib/python3.9/site-packages/keras/optimizers/optimizer.py\", line 650, in apply_gradients\n      iteration = self._internal_apply_gradients(grads_and_vars)\n    File \"/home/huukhang1512/miniconda3/envs/tf/lib/python3.9/site-packages/keras/optimizers/optimizer.py\", line 1200, in _internal_apply_gradients\n      return tf.__internal__.distribute.interim.maybe_merge_call(\n    File \"/home/huukhang1512/miniconda3/envs/tf/lib/python3.9/site-packages/keras/optimizers/optimizer.py\", line 1250, in _distributed_apply_gradients_fn\n      distribution.extended.update(\n    File \"/home/huukhang1512/miniconda3/envs/tf/lib/python3.9/site-packages/keras/optimizers/optimizer.py\", line 1245, in apply_grad_to_update_var\n      return self._update_step_xla(grad, var, id(self._var_key(var)))\nNode: 'StatefulPartitionedCall_4'\nRET_CHECK failure (tensorflow/compiler/xla/service/gpu/gpu_compiler.cc:618) dnn != nullptr \n\t [[{{node StatefulPartitionedCall_4}}]] [Op:__inference_train_function_3226]",
     "output_type": "error",
     "traceback": [
      "\u001b[0;31m---------------------------------------------------------------------------\u001b[0m",
      "\u001b[0;31mInternalError\u001b[0m                             Traceback (most recent call last)",
      "\u001b[0;32m/tmp/ipykernel_163145/1158015367.py\u001b[0m in \u001b[0;36m<module>\u001b[0;34m\u001b[0m\n\u001b[0;32m----> 1\u001b[0;31m \u001b[0mmodel\u001b[0m\u001b[0;34m.\u001b[0m\u001b[0mfit\u001b[0m\u001b[0;34m(\u001b[0m\u001b[0mX_train\u001b[0m\u001b[0;34m,\u001b[0m \u001b[0my_train\u001b[0m\u001b[0;34m,\u001b[0m \u001b[0mepochs\u001b[0m\u001b[0;34m=\u001b[0m\u001b[0;36m20\u001b[0m\u001b[0;34m,\u001b[0m \u001b[0mbatch_size\u001b[0m\u001b[0;34m=\u001b[0m\u001b[0;36m100\u001b[0m\u001b[0;34m,\u001b[0m \u001b[0mvalidation_split\u001b[0m\u001b[0;34m=\u001b[0m\u001b[0;36m0.2\u001b[0m\u001b[0;34m)\u001b[0m\u001b[0;34m\u001b[0m\u001b[0;34m\u001b[0m\u001b[0m\n\u001b[0m",
      "\u001b[0;32m~/miniconda3/envs/tf/lib/python3.9/site-packages/keras/utils/traceback_utils.py\u001b[0m in \u001b[0;36merror_handler\u001b[0;34m(*args, **kwargs)\u001b[0m\n\u001b[1;32m     68\u001b[0m             \u001b[0;31m# To get the full stack trace, call:\u001b[0m\u001b[0;34m\u001b[0m\u001b[0;34m\u001b[0m\u001b[0m\n\u001b[1;32m     69\u001b[0m             \u001b[0;31m# `tf.debugging.disable_traceback_filtering()`\u001b[0m\u001b[0;34m\u001b[0m\u001b[0;34m\u001b[0m\u001b[0m\n\u001b[0;32m---> 70\u001b[0;31m             \u001b[0;32mraise\u001b[0m \u001b[0me\u001b[0m\u001b[0;34m.\u001b[0m\u001b[0mwith_traceback\u001b[0m\u001b[0;34m(\u001b[0m\u001b[0mfiltered_tb\u001b[0m\u001b[0;34m)\u001b[0m \u001b[0;32mfrom\u001b[0m \u001b[0;32mNone\u001b[0m\u001b[0;34m\u001b[0m\u001b[0;34m\u001b[0m\u001b[0m\n\u001b[0m\u001b[1;32m     71\u001b[0m         \u001b[0;32mfinally\u001b[0m\u001b[0;34m:\u001b[0m\u001b[0;34m\u001b[0m\u001b[0;34m\u001b[0m\u001b[0m\n\u001b[1;32m     72\u001b[0m             \u001b[0;32mdel\u001b[0m \u001b[0mfiltered_tb\u001b[0m\u001b[0;34m\u001b[0m\u001b[0;34m\u001b[0m\u001b[0m\n",
      "\u001b[0;32m~/miniconda3/envs/tf/lib/python3.9/site-packages/tensorflow/python/eager/execute.py\u001b[0m in \u001b[0;36mquick_execute\u001b[0;34m(op_name, num_outputs, inputs, attrs, ctx, name)\u001b[0m\n\u001b[1;32m     50\u001b[0m   \u001b[0;32mtry\u001b[0m\u001b[0;34m:\u001b[0m\u001b[0;34m\u001b[0m\u001b[0;34m\u001b[0m\u001b[0m\n\u001b[1;32m     51\u001b[0m     \u001b[0mctx\u001b[0m\u001b[0;34m.\u001b[0m\u001b[0mensure_initialized\u001b[0m\u001b[0;34m(\u001b[0m\u001b[0;34m)\u001b[0m\u001b[0;34m\u001b[0m\u001b[0;34m\u001b[0m\u001b[0m\n\u001b[0;32m---> 52\u001b[0;31m     tensors = pywrap_tfe.TFE_Py_Execute(ctx._handle, device_name, op_name,\n\u001b[0m\u001b[1;32m     53\u001b[0m                                         inputs, attrs, num_outputs)\n\u001b[1;32m     54\u001b[0m   \u001b[0;32mexcept\u001b[0m \u001b[0mcore\u001b[0m\u001b[0;34m.\u001b[0m\u001b[0m_NotOkStatusException\u001b[0m \u001b[0;32mas\u001b[0m \u001b[0me\u001b[0m\u001b[0;34m:\u001b[0m\u001b[0;34m\u001b[0m\u001b[0;34m\u001b[0m\u001b[0m\n",
      "\u001b[0;31mInternalError\u001b[0m: Graph execution error:\n\nDetected at node 'StatefulPartitionedCall_4' defined at (most recent call last):\n    File \"/home/huukhang1512/miniconda3/envs/tf/lib/python3.9/runpy.py\", line 197, in _run_module_as_main\n      return _run_code(code, main_globals, None,\n    File \"/home/huukhang1512/miniconda3/envs/tf/lib/python3.9/runpy.py\", line 87, in _run_code\n      exec(code, run_globals)\n    File \"/home/huukhang1512/.local/lib/python3.9/site-packages/ipykernel_launcher.py\", line 16, in <module>\n      app.launch_new_instance()\n    File \"/home/huukhang1512/.local/lib/python3.9/site-packages/traitlets/config/application.py\", line 845, in launch_instance\n      app.start()\n    File \"/home/huukhang1512/.local/lib/python3.9/site-packages/ipykernel/kernelapp.py\", line 667, in start\n      self.io_loop.start()\n    File \"/home/huukhang1512/.local/lib/python3.9/site-packages/tornado/platform/asyncio.py\", line 199, in start\n      self.asyncio_loop.run_forever()\n    File \"/home/huukhang1512/miniconda3/envs/tf/lib/python3.9/asyncio/base_events.py\", line 601, in run_forever\n      self._run_once()\n    File \"/home/huukhang1512/miniconda3/envs/tf/lib/python3.9/asyncio/base_events.py\", line 1905, in _run_once\n      handle._run()\n    File \"/home/huukhang1512/miniconda3/envs/tf/lib/python3.9/asyncio/events.py\", line 80, in _run\n      self._context.run(self._callback, *self._args)\n    File \"/home/huukhang1512/.local/lib/python3.9/site-packages/ipykernel/kernelbase.py\", line 456, in dispatch_queue\n      await self.process_one()\n    File \"/home/huukhang1512/.local/lib/python3.9/site-packages/ipykernel/kernelbase.py\", line 445, in process_one\n      await dispatch(*args)\n    File \"/home/huukhang1512/.local/lib/python3.9/site-packages/ipykernel/kernelbase.py\", line 352, in dispatch_shell\n      await result\n    File \"/home/huukhang1512/.local/lib/python3.9/site-packages/ipykernel/kernelbase.py\", line 647, in execute_request\n      reply_content = await reply_content\n    File \"/home/huukhang1512/.local/lib/python3.9/site-packages/ipykernel/ipkernel.py\", line 345, in do_execute\n      res = shell.run_cell(code, store_history=store_history, silent=silent)\n    File \"/home/huukhang1512/.local/lib/python3.9/site-packages/ipykernel/zmqshell.py\", line 532, in run_cell\n      return super(ZMQInteractiveShell, self).run_cell(*args, **kwargs)\n    File \"/home/huukhang1512/.local/lib/python3.9/site-packages/IPython/core/interactiveshell.py\", line 2898, in run_cell\n      result = self._run_cell(\n    File \"/home/huukhang1512/.local/lib/python3.9/site-packages/IPython/core/interactiveshell.py\", line 2944, in _run_cell\n      return runner(coro)\n    File \"/home/huukhang1512/.local/lib/python3.9/site-packages/IPython/core/async_helpers.py\", line 68, in _pseudo_sync_runner\n      coro.send(None)\n    File \"/home/huukhang1512/.local/lib/python3.9/site-packages/IPython/core/interactiveshell.py\", line 3169, in run_cell_async\n      has_raised = await self.run_ast_nodes(code_ast.body, cell_name,\n    File \"/home/huukhang1512/.local/lib/python3.9/site-packages/IPython/core/interactiveshell.py\", line 3361, in run_ast_nodes\n      if (await self.run_code(code, result,  async_=asy)):\n    File \"/home/huukhang1512/.local/lib/python3.9/site-packages/IPython/core/interactiveshell.py\", line 3441, in run_code\n      exec(code_obj, self.user_global_ns, self.user_ns)\n    File \"/tmp/ipykernel_163145/1158015367.py\", line 1, in <module>\n      model.fit(X_train, y_train, epochs=20, batch_size=100, validation_split=0.2)\n    File \"/home/huukhang1512/miniconda3/envs/tf/lib/python3.9/site-packages/keras/utils/traceback_utils.py\", line 65, in error_handler\n      return fn(*args, **kwargs)\n    File \"/home/huukhang1512/miniconda3/envs/tf/lib/python3.9/site-packages/keras/engine/training.py\", line 1685, in fit\n      tmp_logs = self.train_function(iterator)\n    File \"/home/huukhang1512/miniconda3/envs/tf/lib/python3.9/site-packages/keras/engine/training.py\", line 1284, in train_function\n      return step_function(self, iterator)\n    File \"/home/huukhang1512/miniconda3/envs/tf/lib/python3.9/site-packages/keras/engine/training.py\", line 1268, in step_function\n      outputs = model.distribute_strategy.run(run_step, args=(data,))\n    File \"/home/huukhang1512/miniconda3/envs/tf/lib/python3.9/site-packages/keras/engine/training.py\", line 1249, in run_step\n      outputs = model.train_step(data)\n    File \"/home/huukhang1512/miniconda3/envs/tf/lib/python3.9/site-packages/keras/engine/training.py\", line 1054, in train_step\n      self.optimizer.minimize(loss, self.trainable_variables, tape=tape)\n    File \"/home/huukhang1512/miniconda3/envs/tf/lib/python3.9/site-packages/keras/optimizers/optimizer.py\", line 543, in minimize\n      self.apply_gradients(grads_and_vars)\n    File \"/home/huukhang1512/miniconda3/envs/tf/lib/python3.9/site-packages/keras/optimizers/optimizer.py\", line 1174, in apply_gradients\n      return super().apply_gradients(grads_and_vars, name=name)\n    File \"/home/huukhang1512/miniconda3/envs/tf/lib/python3.9/site-packages/keras/optimizers/optimizer.py\", line 650, in apply_gradients\n      iteration = self._internal_apply_gradients(grads_and_vars)\n    File \"/home/huukhang1512/miniconda3/envs/tf/lib/python3.9/site-packages/keras/optimizers/optimizer.py\", line 1200, in _internal_apply_gradients\n      return tf.__internal__.distribute.interim.maybe_merge_call(\n    File \"/home/huukhang1512/miniconda3/envs/tf/lib/python3.9/site-packages/keras/optimizers/optimizer.py\", line 1250, in _distributed_apply_gradients_fn\n      distribution.extended.update(\n    File \"/home/huukhang1512/miniconda3/envs/tf/lib/python3.9/site-packages/keras/optimizers/optimizer.py\", line 1245, in apply_grad_to_update_var\n      return self._update_step_xla(grad, var, id(self._var_key(var)))\nNode: 'StatefulPartitionedCall_4'\nRET_CHECK failure (tensorflow/compiler/xla/service/gpu/gpu_compiler.cc:618) dnn != nullptr \n\t [[{{node StatefulPartitionedCall_4}}]] [Op:__inference_train_function_3226]"
     ]
    }
   ],
   "source": [
    "model.fit(X_train, y_train, epochs=20, batch_size=100, validation_split=0.2)"
   ]
  },
  {
   "cell_type": "code",
   "execution_count": null,
   "metadata": {},
   "outputs": [],
   "source": [
    "model.evaluate(X_test)"
   ]
  }
 ],
 "metadata": {
  "kernelspec": {
   "display_name": "tf",
   "language": "python",
   "name": "python3"
  },
  "language_info": {
   "codemirror_mode": {
    "name": "ipython",
    "version": 3
   },
   "file_extension": ".py",
   "mimetype": "text/x-python",
   "name": "python",
   "nbconvert_exporter": "python",
   "pygments_lexer": "ipython3",
   "version": "3.9.16"
  },
  "orig_nbformat": 4
 },
 "nbformat": 4,
 "nbformat_minor": 2
}
