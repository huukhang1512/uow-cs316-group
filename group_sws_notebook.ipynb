{
 "cells": [
  {
   "cell_type": "code",
   "execution_count": 148,
   "metadata": {},
   "outputs": [],
   "source": [
    "from pyspark.sql import SparkSession\n",
    "spark = SparkSession \\\n",
    "    .builder \\\n",
    "    .appName(\"credit_analysis\") \\\n",
    "    .getOrCreate()\n"
   ]
  },
  {
   "cell_type": "code",
   "execution_count": 149,
   "metadata": {},
   "outputs": [
    {
     "name": "stderr",
     "output_type": "stream",
     "text": [
      "                                                                                \r"
     ]
    }
   ],
   "source": [
    "df_original=spark.read.format(\"csv\").option(\"header\",\"true\").load('./data.csv', inferSchema=True)"
   ]
  },
  {
   "cell_type": "code",
   "execution_count": 150,
   "metadata": {},
   "outputs": [
    {
     "data": {
      "text/plain": [
       "855969"
      ]
     },
     "execution_count": 150,
     "metadata": {},
     "output_type": "execute_result"
    }
   ],
   "source": [
    "df_original.count()"
   ]
  },
  {
   "attachments": {},
   "cell_type": "markdown",
   "metadata": {},
   "source": [
    "## We realised there's many rows that have more delimeters than the others, therefore, we decided to remove some record with wrong delimeter before hand"
   ]
  },
  {
   "cell_type": "code",
   "execution_count": 151,
   "metadata": {},
   "outputs": [],
   "source": [
    "def remove_lines_with_excessive_commas(input_file, output_file):\n",
    "    with open(input_file, 'r') as csv_input, open(output_file, 'w', newline='') as csv_output:\n",
    "        first_line = csv_input.readline()\n",
    "        csv_output.write(first_line)\n",
    "        number_of_comma = first_line.count(',')\n",
    "        lines_removed = 0\n",
    "\n",
    "        for row in csv_input.readlines():\n",
    "            \n",
    "            if row.count(',') <= number_of_comma:\n",
    "                csv_output.write(row)\n",
    "            else:\n",
    "                lines_removed += 1\n",
    "\n",
    "        print(f\"{lines_removed} Lines with more than {number_of_comma} commas have been removed.\")\n",
    "\n",
    "# Usage example\n",
    "input_file = 'data.csv'\n",
    "output_file = 'output.csv'"
   ]
  },
  {
   "cell_type": "code",
   "execution_count": 152,
   "metadata": {},
   "outputs": [
    {
     "name": "stdout",
     "output_type": "stream",
     "text": [
      "51895 Lines with more than 72 commas have been removed.\n"
     ]
    }
   ],
   "source": [
    "remove_lines_with_excessive_commas(input_file, output_file)"
   ]
  },
  {
   "cell_type": "code",
   "execution_count": 153,
   "metadata": {},
   "outputs": [
    {
     "name": "stderr",
     "output_type": "stream",
     "text": [
      "                                                                                \r"
     ]
    }
   ],
   "source": [
    "df=spark.read.format(\"csv\").option(\"header\",\"true\").load('./output.csv', inferSchema=True)"
   ]
  },
  {
   "cell_type": "code",
   "execution_count": 154,
   "metadata": {},
   "outputs": [
    {
     "data": {
      "text/plain": [
       "804074"
      ]
     },
     "execution_count": 154,
     "metadata": {},
     "output_type": "execute_result"
    }
   ],
   "source": [
    "df.count()"
   ]
  },
  {
   "cell_type": "code",
   "execution_count": 155,
   "metadata": {},
   "outputs": [
    {
     "name": "stdout",
     "output_type": "stream",
     "text": [
      "+-------+---------+---------+-----------+---------------+----------+--------+-----------+-----+---------+--------------------+----------+--------------+----------+-------------------+----------+----------+--------------------+--------------+--------------------+--------+----------+-----+-----------+----------------+--------------+----------------------+----------------------+--------+-------+---------+----------+---------+-------------------+---------+-------------+-----------+---------------+---------------+-------------+------------------+----------+-----------------------+------------+---------------+------------+------------------+--------------------------+---------------------------+-----------+----------------+----------------+---------+-------------------------+--------------+------------+-----------+-----------+----------+-----------+-----------+------------------+------------+-------+-----------+-----------+----------+--------+----------------+------+-----------+------------+-----------+\n",
      "|     id|member_id|loan_amnt|funded_amnt|funded_amnt_inv|      term|int_rate|installment|grade|sub_grade|           emp_title|emp_length|home_ownership|annual_inc|verification_status|   issue_d|pymnt_plan|                desc|       purpose|               title|zip_code|addr_state|  dti|delinq_2yrs|earliest_cr_line|inq_last_6mths|mths_since_last_delinq|mths_since_last_record|open_acc|pub_rec|revol_bal|revol_util|total_acc|initial_list_status|out_prncp|out_prncp_inv|total_pymnt|total_pymnt_inv|total_rec_prncp|total_rec_int|total_rec_late_fee|recoveries|collection_recovery_fee|last_pymnt_d|last_pymnt_amnt|next_pymnt_d|last_credit_pull_d|collections_12_mths_ex_med|mths_since_last_major_derog|policy_code|application_type|annual_inc_joint|dti_joint|verification_status_joint|acc_now_delinq|tot_coll_amt|tot_cur_bal|open_acc_6m|open_il_6m|open_il_12m|open_il_24m|mths_since_rcnt_il|total_bal_il|il_util|open_rv_12m|open_rv_24m|max_bal_bc|all_util|total_rev_hi_lim|inq_fi|total_cu_tl|inq_last_12m|default_ind|\n",
      "+-------+---------+---------+-----------+---------------+----------+--------+-----------+-----+---------+--------------------+----------+--------------+----------+-------------------+----------+----------+--------------------+--------------+--------------------+--------+----------+-----+-----------+----------------+--------------+----------------------+----------------------+--------+-------+---------+----------+---------+-------------------+---------+-------------+-----------+---------------+---------------+-------------+------------------+----------+-----------------------+------------+---------------+------------+------------------+--------------------------+---------------------------+-----------+----------------+----------------+---------+-------------------------+--------------+------------+-----------+-----------+----------+-----------+-----------+------------------+------------+-------+-----------+-----------+----------+--------+----------------+------+-----------+------------+-----------+\n",
      "|1077501|  1296599|     5000|       5000|         4975.0| 36 months|   10.65|     162.87|    B|       B2|                null| 10+ years|          RENT|   24000.0|           Verified|01-12-2011|         n|  Borrower added ...|   credit_card|            Computer|   860xx|        AZ|27.65|          0|      01-01-1985|             1|                  null|                  null|       3|      0|    13648|      83.7|        9|                  f|      0.0|          0.0|5861.071414|        5831.78|         5000.0|       861.07|               0.0|       0.0|                    0.0|  01-01-2015|         171.62|        null|        01-01-2016|                         0|                       null|          1|      INDIVIDUAL|            null|     null|                     null|             0|        null|       null|       null|      null|       null|       null|              null|        null|   null|       null|       null|      null|    null|            null|  null|       null|        null|          0|\n",
      "|1077430|  1314167|     2500|       2500|         2500.0| 60 months|   15.27|      59.83|    C|       C4|               Ryder|  < 1 year|          RENT|   30000.0|    Source Verified|01-12-2011|         n|  Borrower added ...|           car|                bike|   309xx|        GA|  1.0|          0|      01-04-1999|             5|                  null|                  null|       3|      0|     1687|       9.4|        4|                  f|      0.0|          0.0|    1008.71|        1008.71|         456.46|       435.17|               0.0|    117.08|                   1.11|  01-04-2013|         119.66|        null|        01-09-2013|                         0|                       null|          1|      INDIVIDUAL|            null|     null|                     null|             0|        null|       null|       null|      null|       null|       null|              null|        null|   null|       null|       null|      null|    null|            null|  null|       null|        null|          1|\n",
      "|1077175|  1313524|     2400|       2400|         2400.0| 36 months|   15.96|      84.33|    C|       C5|                null| 10+ years|          RENT|   12252.0|       Not Verified|01-12-2011|         n|                null|small_business|real estate business|   606xx|        IL| 8.72|          0|      01-11-2001|             2|                  null|                  null|       2|      0|     2956|      98.5|       10|                  f|      0.0|          0.0|3003.653644|        3003.65|         2400.0|       603.65|               0.0|       0.0|                    0.0|  01-06-2014|         649.91|        null|        01-01-2016|                         0|                       null|          1|      INDIVIDUAL|            null|     null|                     null|             0|        null|       null|       null|      null|       null|       null|              null|        null|   null|       null|       null|      null|    null|            null|  null|       null|        null|          0|\n",
      "|1075269|  1311441|     5000|       5000|         5000.0| 36 months|     7.9|     156.46|    A|       A4|Veolia Transportaton|   3 years|          RENT|   36000.0|    Source Verified|01-12-2011|         n|                null|       wedding|My wedding loan I...|   852xx|        AZ| 11.2|          0|      01-11-2004|             3|                  null|                  null|       9|      0|     7963|      28.3|       12|                  f|      0.0|          0.0|5631.377753|        5631.38|         5000.0|       631.38|               0.0|       0.0|                    0.0|  01-01-2015|         161.03|        null|        01-09-2015|                         0|                       null|          1|      INDIVIDUAL|            null|     null|                     null|             0|        null|       null|       null|      null|       null|       null|              null|        null|   null|       null|       null|      null|    null|            null|  null|       null|        null|          0|\n",
      "|1072053|  1288686|     3000|       3000|         3000.0| 36 months|   18.64|     109.43|    E|       E1|     MKC Accounting |   9 years|          RENT|   48000.0|    Source Verified|01-12-2011|         n|  Borrower added ...|           car|     Car Downpayment|   900xx|        CA| 5.35|          0|      01-01-2007|             2|                  null|                  null|       4|      0|     8221|      87.5|        4|                  f|      0.0|          0.0|3938.144334|        3938.14|         3000.0|       938.14|               0.0|       0.0|                    0.0|  01-01-2015|         111.34|        null|        01-12-2014|                         0|                       null|          1|      INDIVIDUAL|            null|     null|                     null|             0|        null|       null|       null|      null|       null|       null|              null|        null|   null|       null|       null|      null|    null|            null|  null|       null|        null|          0|\n",
      "+-------+---------+---------+-----------+---------------+----------+--------+-----------+-----+---------+--------------------+----------+--------------+----------+-------------------+----------+----------+--------------------+--------------+--------------------+--------+----------+-----+-----------+----------------+--------------+----------------------+----------------------+--------+-------+---------+----------+---------+-------------------+---------+-------------+-----------+---------------+---------------+-------------+------------------+----------+-----------------------+------------+---------------+------------+------------------+--------------------------+---------------------------+-----------+----------------+----------------+---------+-------------------------+--------------+------------+-----------+-----------+----------+-----------+-----------+------------------+------------+-------+-----------+-----------+----------+--------+----------------+------+-----------+------------+-----------+\n",
      "only showing top 5 rows\n",
      "\n"
     ]
    }
   ],
   "source": [
    "df.show(5)"
   ]
  },
  {
   "attachments": {},
   "cell_type": "markdown",
   "metadata": {},
   "source": [
    "# Stage 1: Data exploration"
   ]
  },
  {
   "cell_type": "code",
   "execution_count": 156,
   "metadata": {},
   "outputs": [
    {
     "data": {
      "text/plain": [
       "[('id', 'int'),\n",
       " ('member_id', 'int'),\n",
       " ('loan_amnt', 'int'),\n",
       " ('funded_amnt', 'int'),\n",
       " ('funded_amnt_inv', 'double'),\n",
       " ('term', 'string'),\n",
       " ('int_rate', 'double'),\n",
       " ('installment', 'double'),\n",
       " ('grade', 'string'),\n",
       " ('sub_grade', 'string'),\n",
       " ('emp_title', 'string'),\n",
       " ('emp_length', 'string'),\n",
       " ('home_ownership', 'string'),\n",
       " ('annual_inc', 'double'),\n",
       " ('verification_status', 'string'),\n",
       " ('issue_d', 'string'),\n",
       " ('pymnt_plan', 'string'),\n",
       " ('desc', 'string'),\n",
       " ('purpose', 'string'),\n",
       " ('title', 'string'),\n",
       " ('zip_code', 'string'),\n",
       " ('addr_state', 'string'),\n",
       " ('dti', 'double'),\n",
       " ('delinq_2yrs', 'int'),\n",
       " ('earliest_cr_line', 'string'),\n",
       " ('inq_last_6mths', 'int'),\n",
       " ('mths_since_last_delinq', 'int'),\n",
       " ('mths_since_last_record', 'int'),\n",
       " ('open_acc', 'int'),\n",
       " ('pub_rec', 'int'),\n",
       " ('revol_bal', 'int'),\n",
       " ('revol_util', 'double'),\n",
       " ('total_acc', 'int'),\n",
       " ('initial_list_status', 'string'),\n",
       " ('out_prncp', 'double'),\n",
       " ('out_prncp_inv', 'double'),\n",
       " ('total_pymnt', 'double'),\n",
       " ('total_pymnt_inv', 'double'),\n",
       " ('total_rec_prncp', 'double'),\n",
       " ('total_rec_int', 'double'),\n",
       " ('total_rec_late_fee', 'double'),\n",
       " ('recoveries', 'double'),\n",
       " ('collection_recovery_fee', 'double'),\n",
       " ('last_pymnt_d', 'string'),\n",
       " ('last_pymnt_amnt', 'double'),\n",
       " ('next_pymnt_d', 'string'),\n",
       " ('last_credit_pull_d', 'string'),\n",
       " ('collections_12_mths_ex_med', 'int'),\n",
       " ('mths_since_last_major_derog', 'int'),\n",
       " ('policy_code', 'int'),\n",
       " ('application_type', 'string'),\n",
       " ('annual_inc_joint', 'double'),\n",
       " ('dti_joint', 'double'),\n",
       " ('verification_status_joint', 'string'),\n",
       " ('acc_now_delinq', 'int'),\n",
       " ('tot_coll_amt', 'int'),\n",
       " ('tot_cur_bal', 'int'),\n",
       " ('open_acc_6m', 'int'),\n",
       " ('open_il_6m', 'int'),\n",
       " ('open_il_12m', 'int'),\n",
       " ('open_il_24m', 'int'),\n",
       " ('mths_since_rcnt_il', 'int'),\n",
       " ('total_bal_il', 'int'),\n",
       " ('il_util', 'double'),\n",
       " ('open_rv_12m', 'int'),\n",
       " ('open_rv_24m', 'int'),\n",
       " ('max_bal_bc', 'int'),\n",
       " ('all_util', 'double'),\n",
       " ('total_rev_hi_lim', 'int'),\n",
       " ('inq_fi', 'int'),\n",
       " ('total_cu_tl', 'int'),\n",
       " ('inq_last_12m', 'int'),\n",
       " ('default_ind', 'int')]"
      ]
     },
     "execution_count": 156,
     "metadata": {},
     "output_type": "execute_result"
    }
   ],
   "source": [
    "df.dtypes"
   ]
  },
  {
   "cell_type": "code",
   "execution_count": 157,
   "metadata": {},
   "outputs": [],
   "source": [
    "column_to_hist = [item[0] for item in df.dtypes if item[1].startswith('int') or item[1].startswith('double')]"
   ]
  },
  {
   "cell_type": "code",
   "execution_count": 158,
   "metadata": {},
   "outputs": [
    {
     "data": {
      "text/plain": [
       "array([[<AxesSubplot:title={'center':'id'}>,\n",
       "        <AxesSubplot:title={'center':'member_id'}>,\n",
       "        <AxesSubplot:title={'center':'loan_amnt'}>,\n",
       "        <AxesSubplot:title={'center':'funded_amnt'}>,\n",
       "        <AxesSubplot:title={'center':'funded_amnt_inv'}>,\n",
       "        <AxesSubplot:title={'center':'int_rate'}>,\n",
       "        <AxesSubplot:title={'center':'installment'}>],\n",
       "       [<AxesSubplot:title={'center':'annual_inc'}>,\n",
       "        <AxesSubplot:title={'center':'dti'}>,\n",
       "        <AxesSubplot:title={'center':'delinq_2yrs'}>,\n",
       "        <AxesSubplot:title={'center':'inq_last_6mths'}>,\n",
       "        <AxesSubplot:title={'center':'mths_since_last_delinq'}>,\n",
       "        <AxesSubplot:title={'center':'mths_since_last_record'}>,\n",
       "        <AxesSubplot:title={'center':'open_acc'}>],\n",
       "       [<AxesSubplot:title={'center':'pub_rec'}>,\n",
       "        <AxesSubplot:title={'center':'revol_bal'}>,\n",
       "        <AxesSubplot:title={'center':'revol_util'}>,\n",
       "        <AxesSubplot:title={'center':'total_acc'}>,\n",
       "        <AxesSubplot:title={'center':'out_prncp'}>,\n",
       "        <AxesSubplot:title={'center':'out_prncp_inv'}>,\n",
       "        <AxesSubplot:title={'center':'total_pymnt'}>],\n",
       "       [<AxesSubplot:title={'center':'total_pymnt_inv'}>,\n",
       "        <AxesSubplot:title={'center':'total_rec_prncp'}>,\n",
       "        <AxesSubplot:title={'center':'total_rec_int'}>,\n",
       "        <AxesSubplot:title={'center':'total_rec_late_fee'}>,\n",
       "        <AxesSubplot:title={'center':'recoveries'}>,\n",
       "        <AxesSubplot:title={'center':'collection_recovery_fee'}>,\n",
       "        <AxesSubplot:title={'center':'last_pymnt_amnt'}>],\n",
       "       [<AxesSubplot:title={'center':'collections_12_mths_ex_med'}>,\n",
       "        <AxesSubplot:title={'center':'mths_since_last_major_derog'}>,\n",
       "        <AxesSubplot:title={'center':'policy_code'}>,\n",
       "        <AxesSubplot:title={'center':'annual_inc_joint'}>,\n",
       "        <AxesSubplot:title={'center':'dti_joint'}>,\n",
       "        <AxesSubplot:title={'center':'acc_now_delinq'}>,\n",
       "        <AxesSubplot:title={'center':'tot_coll_amt'}>],\n",
       "       [<AxesSubplot:title={'center':'tot_cur_bal'}>,\n",
       "        <AxesSubplot:title={'center':'open_acc_6m'}>,\n",
       "        <AxesSubplot:title={'center':'open_il_6m'}>,\n",
       "        <AxesSubplot:title={'center':'open_il_12m'}>,\n",
       "        <AxesSubplot:title={'center':'open_il_24m'}>,\n",
       "        <AxesSubplot:title={'center':'mths_since_rcnt_il'}>,\n",
       "        <AxesSubplot:title={'center':'total_bal_il'}>],\n",
       "       [<AxesSubplot:title={'center':'il_util'}>,\n",
       "        <AxesSubplot:title={'center':'open_rv_12m'}>,\n",
       "        <AxesSubplot:title={'center':'open_rv_24m'}>,\n",
       "        <AxesSubplot:title={'center':'max_bal_bc'}>,\n",
       "        <AxesSubplot:title={'center':'all_util'}>,\n",
       "        <AxesSubplot:title={'center':'total_rev_hi_lim'}>,\n",
       "        <AxesSubplot:title={'center':'inq_fi'}>],\n",
       "       [<AxesSubplot:title={'center':'total_cu_tl'}>,\n",
       "        <AxesSubplot:title={'center':'inq_last_12m'}>,\n",
       "        <AxesSubplot:title={'center':'default_ind'}>, <AxesSubplot:>,\n",
       "        <AxesSubplot:>, <AxesSubplot:>, <AxesSubplot:>]], dtype=object)"
      ]
     },
     "execution_count": 158,
     "metadata": {},
     "output_type": "execute_result"
    },
    {
     "data": {
      "image/png": "[encoded data removed]",
      "text/plain": [
       "<Figure size 1440x1440 with 56 Axes>"
      ]
     },
     "metadata": {
      "needs_background": "light"
     },
     "output_type": "display_data"
    }
   ],
   "source": [
    "df.select(column_to_hist).sample(withReplacement=False, fraction=0.0002, seed=None).toPandas().hist(figsize=(20,20))"
   ]
  },
  {
   "cell_type": "code",
   "execution_count": 159,
   "metadata": {},
   "outputs": [
    {
     "data": {
      "text/plain": [
       "['id',\n",
       " 'member_id',\n",
       " 'loan_amnt',\n",
       " 'funded_amnt',\n",
       " 'funded_amnt_inv',\n",
       " 'term',\n",
       " 'int_rate',\n",
       " 'installment',\n",
       " 'grade',\n",
       " 'sub_grade',\n",
       " 'emp_title',\n",
       " 'emp_length',\n",
       " 'home_ownership',\n",
       " 'annual_inc',\n",
       " 'verification_status',\n",
       " 'issue_d',\n",
       " 'pymnt_plan',\n",
       " 'desc',\n",
       " 'purpose',\n",
       " 'title',\n",
       " 'zip_code',\n",
       " 'addr_state',\n",
       " 'dti',\n",
       " 'delinq_2yrs',\n",
       " 'earliest_cr_line',\n",
       " 'inq_last_6mths',\n",
       " 'mths_since_last_delinq',\n",
       " 'mths_since_last_record',\n",
       " 'open_acc',\n",
       " 'pub_rec',\n",
       " 'revol_bal',\n",
       " 'revol_util',\n",
       " 'total_acc',\n",
       " 'initial_list_status',\n",
       " 'out_prncp',\n",
       " 'out_prncp_inv',\n",
       " 'total_pymnt',\n",
       " 'total_pymnt_inv',\n",
       " 'total_rec_prncp',\n",
       " 'total_rec_int',\n",
       " 'total_rec_late_fee',\n",
       " 'recoveries',\n",
       " 'collection_recovery_fee',\n",
       " 'last_pymnt_d',\n",
       " 'last_pymnt_amnt',\n",
       " 'next_pymnt_d',\n",
       " 'last_credit_pull_d',\n",
       " 'collections_12_mths_ex_med',\n",
       " 'mths_since_last_major_derog',\n",
       " 'policy_code',\n",
       " 'application_type',\n",
       " 'annual_inc_joint',\n",
       " 'dti_joint',\n",
       " 'verification_status_joint',\n",
       " 'acc_now_delinq',\n",
       " 'tot_coll_amt',\n",
       " 'tot_cur_bal',\n",
       " 'open_acc_6m',\n",
       " 'open_il_6m',\n",
       " 'open_il_12m',\n",
       " 'open_il_24m',\n",
       " 'mths_since_rcnt_il',\n",
       " 'total_bal_il',\n",
       " 'il_util',\n",
       " 'open_rv_12m',\n",
       " 'open_rv_24m',\n",
       " 'max_bal_bc',\n",
       " 'all_util',\n",
       " 'total_rev_hi_lim',\n",
       " 'inq_fi',\n",
       " 'total_cu_tl',\n",
       " 'inq_last_12m',\n",
       " 'default_ind']"
      ]
     },
     "execution_count": 159,
     "metadata": {},
     "output_type": "execute_result"
    }
   ],
   "source": [
    "df.columns"
   ]
  },
  {
   "attachments": {},
   "cell_type": "markdown",
   "metadata": {},
   "source": [
    "From the domain knowledge, it is noticeable that the following fields could be removed as they do not provide great insight for the prediction, and may introduce noise and cause overfitting:"
   ]
  },
  {
   "attachments": {},
   "cell_type": "markdown",
   "metadata": {},
   "source": [
    "- Unique identifiers such as `id` and `member_id`\n",
    "- `emp_title`, `desc`, `title` as text description of the loan won't be contribute much for the prediction\n",
    "- Location identifier columns such as `zip_code` and `addr_state`, as these information do not expected to have a strong influence on loan defaults \n",
    "- Date columns such as `earliest_cr_line`, `issue_d`, `last_pymnt_d`, `next_pymnt_d`, `last_credit_pull_d` can be removed, as these data might not be relevant for the prediction model. Moreover, the model to be implemented is expected to predict the upcoming loan, and these date data might not be available."
   ]
  },
  {
   "cell_type": "code",
   "execution_count": 160,
   "metadata": {},
   "outputs": [],
   "source": [
    "df = df.drop('id', 'member_id', 'emp_title', 'desc', 'emp_title', 'title', 'zip_code', 'addr_state', 'earliest_cr_line', 'issue_d', 'last_pymnt_d', 'next_pymnt_d', 'last_credit_pull_d')"
   ]
  },
  {
   "cell_type": "code",
   "execution_count": 161,
   "metadata": {},
   "outputs": [
    {
     "name": "stdout",
     "output_type": "stream",
     "text": [
      "+---------+-----------+---------------+----------+--------+-----------+-----+---------+----------+--------------+----------+-------------------+----------+------------------+-----+-----------+--------------+----------------------+----------------------+--------+-------+---------+----------+---------+-------------------+---------+-------------+-----------+---------------+---------------+-------------+------------------+----------+-----------------------+---------------+--------------------------+---------------------------+-----------+----------------+----------------+---------+-------------------------+--------------+------------+-----------+-----------+----------+-----------+-----------+------------------+------------+-------+-----------+-----------+----------+--------+----------------+------+-----------+------------+-----------+\n",
      "|loan_amnt|funded_amnt|funded_amnt_inv|      term|int_rate|installment|grade|sub_grade|emp_length|home_ownership|annual_inc|verification_status|pymnt_plan|           purpose|  dti|delinq_2yrs|inq_last_6mths|mths_since_last_delinq|mths_since_last_record|open_acc|pub_rec|revol_bal|revol_util|total_acc|initial_list_status|out_prncp|out_prncp_inv|total_pymnt|total_pymnt_inv|total_rec_prncp|total_rec_int|total_rec_late_fee|recoveries|collection_recovery_fee|last_pymnt_amnt|collections_12_mths_ex_med|mths_since_last_major_derog|policy_code|application_type|annual_inc_joint|dti_joint|verification_status_joint|acc_now_delinq|tot_coll_amt|tot_cur_bal|open_acc_6m|open_il_6m|open_il_12m|open_il_24m|mths_since_rcnt_il|total_bal_il|il_util|open_rv_12m|open_rv_24m|max_bal_bc|all_util|total_rev_hi_lim|inq_fi|total_cu_tl|inq_last_12m|default_ind|\n",
      "+---------+-----------+---------------+----------+--------+-----------+-----+---------+----------+--------------+----------+-------------------+----------+------------------+-----+-----------+--------------+----------------------+----------------------+--------+-------+---------+----------+---------+-------------------+---------+-------------+-----------+---------------+---------------+-------------+------------------+----------+-----------------------+---------------+--------------------------+---------------------------+-----------+----------------+----------------+---------+-------------------------+--------------+------------+-----------+-----------+----------+-----------+-----------+------------------+------------+-------+-----------+-----------+----------+--------+----------------+------+-----------+------------+-----------+\n",
      "|     5000|       5000|         4975.0| 36 months|   10.65|     162.87|    B|       B2| 10+ years|          RENT|   24000.0|           Verified|         n|       credit_card|27.65|          0|             1|                  null|                  null|       3|      0|    13648|      83.7|        9|                  f|      0.0|          0.0|5861.071414|        5831.78|         5000.0|       861.07|               0.0|       0.0|                    0.0|         171.62|                         0|                       null|          1|      INDIVIDUAL|            null|     null|                     null|             0|        null|       null|       null|      null|       null|       null|              null|        null|   null|       null|       null|      null|    null|            null|  null|       null|        null|          0|\n",
      "|     2500|       2500|         2500.0| 60 months|   15.27|      59.83|    C|       C4|  < 1 year|          RENT|   30000.0|    Source Verified|         n|               car|  1.0|          0|             5|                  null|                  null|       3|      0|     1687|       9.4|        4|                  f|      0.0|          0.0|    1008.71|        1008.71|         456.46|       435.17|               0.0|    117.08|                   1.11|         119.66|                         0|                       null|          1|      INDIVIDUAL|            null|     null|                     null|             0|        null|       null|       null|      null|       null|       null|              null|        null|   null|       null|       null|      null|    null|            null|  null|       null|        null|          1|\n",
      "|     2400|       2400|         2400.0| 36 months|   15.96|      84.33|    C|       C5| 10+ years|          RENT|   12252.0|       Not Verified|         n|    small_business| 8.72|          0|             2|                  null|                  null|       2|      0|     2956|      98.5|       10|                  f|      0.0|          0.0|3003.653644|        3003.65|         2400.0|       603.65|               0.0|       0.0|                    0.0|         649.91|                         0|                       null|          1|      INDIVIDUAL|            null|     null|                     null|             0|        null|       null|       null|      null|       null|       null|              null|        null|   null|       null|       null|      null|    null|            null|  null|       null|        null|          0|\n",
      "|     5000|       5000|         5000.0| 36 months|     7.9|     156.46|    A|       A4|   3 years|          RENT|   36000.0|    Source Verified|         n|           wedding| 11.2|          0|             3|                  null|                  null|       9|      0|     7963|      28.3|       12|                  f|      0.0|          0.0|5631.377753|        5631.38|         5000.0|       631.38|               0.0|       0.0|                    0.0|         161.03|                         0|                       null|          1|      INDIVIDUAL|            null|     null|                     null|             0|        null|       null|       null|      null|       null|       null|              null|        null|   null|       null|       null|      null|    null|            null|  null|       null|        null|          0|\n",
      "|     3000|       3000|         3000.0| 36 months|   18.64|     109.43|    E|       E1|   9 years|          RENT|   48000.0|    Source Verified|         n|               car| 5.35|          0|             2|                  null|                  null|       4|      0|     8221|      87.5|        4|                  f|      0.0|          0.0|3938.144334|        3938.14|         3000.0|       938.14|               0.0|       0.0|                    0.0|         111.34|                         0|                       null|          1|      INDIVIDUAL|            null|     null|                     null|             0|        null|       null|       null|      null|       null|       null|              null|        null|   null|       null|       null|      null|    null|            null|  null|       null|        null|          0|\n",
      "|     5600|       5600|         5600.0| 60 months|   21.28|     152.39|    F|       F2|   4 years|           OWN|   40000.0|    Source Verified|         n|    small_business| 5.55|          0|             2|                  null|                  null|      11|      0|     5210|      32.6|       13|                  f|      0.0|          0.0|     646.02|         646.02|         162.02|       294.94|               0.0|    189.06|                   2.09|         152.39|                         0|                       null|          1|      INDIVIDUAL|            null|     null|                     null|             0|        null|       null|       null|      null|       null|       null|              null|        null|   null|       null|       null|      null|    null|            null|  null|       null|        null|          1|\n",
      "|    12000|      12000|        12000.0| 36 months|   12.69|     402.54|    B|       B5| 10+ years|           OWN|   75000.0|    Source Verified|         n|debt_consolidation|10.78|          0|             0|                  null|                  null|      12|      0|    23336|      67.1|       34|                  f|      0.0|          0.0|   13943.08|       13943.08|        12000.0|      1943.08|               0.0|       0.0|                    0.0|         6315.3|                         0|                       null|          1|      INDIVIDUAL|            null|     null|                     null|             0|        null|       null|       null|      null|       null|       null|              null|        null|   null|       null|       null|      null|    null|            null|  null|       null|        null|          0|\n",
      "|     9000|       9000|         9000.0| 36 months|   13.49|     305.38|    C|       C1|  < 1 year|          RENT|   30000.0|    Source Verified|         n|debt_consolidation|10.08|          0|             1|                  null|                  null|       4|      0|    10452|      91.7|        9|                  f|      0.0|          0.0|     2270.7|         2270.7|        1256.14|       570.26|               0.0|     444.3|                   4.16|         305.38|                         0|                       null|          1|      INDIVIDUAL|            null|     null|                     null|             0|        null|       null|       null|      null|       null|       null|              null|        null|   null|       null|       null|      null|    null|            null|  null|       null|        null|          1|\n",
      "|    10000|      10000|        10000.0| 36 months|   10.65|     325.74|    B|       B2|   3 years|          RENT|  100000.0|    Source Verified|         n|             other| 7.06|          0|             2|                  null|                  null|      14|      0|    11997|      55.5|       29|                  f|      0.0|          0.0|    7471.99|        7471.99|        5433.47|      1393.42|               0.0|     645.1|                 6.3145|         325.74|                         0|                       null|          1|      INDIVIDUAL|            null|     null|                     null|             0|        null|       null|       null|      null|       null|       null|              null|        null|   null|       null|       null|      null|    null|            null|  null|       null|        null|          1|\n",
      "|     1000|       1000|         1000.0| 36 months|   16.29|      35.31|    D|       D1|  < 1 year|          RENT|   28000.0|       Not Verified|         n|debt_consolidation|20.31|          0|             1|                  null|                  null|      11|      0|     6524|      81.5|       23|                  f|      0.0|          0.0|1270.171106|        1270.17|         1000.0|       270.17|               0.0|       0.0|                    0.0|          36.32|                         0|                       null|          1|      INDIVIDUAL|            null|     null|                     null|             0|        null|       null|       null|      null|       null|       null|              null|        null|   null|       null|       null|      null|    null|            null|  null|       null|        null|          0|\n",
      "|    10000|      10000|        10000.0| 36 months|   15.27|     347.98|    C|       C4|   4 years|          RENT|   42000.0|       Not Verified|         n|  home_improvement| 18.6|          0|             2|                    61|                  null|      14|      0|    24043|      70.2|       28|                  f|      0.0|          0.0|12519.26045|       12519.26|        10000.0|      2519.26|               0.0|       0.0|                    0.0|         370.46|                         0|                       null|          1|      INDIVIDUAL|            null|     null|                     null|             0|        null|       null|       null|      null|       null|       null|              null|        null|   null|       null|       null|      null|    null|            null|  null|       null|        null|          0|\n",
      "|     3600|       3600|         3600.0| 36 months|    6.03|     109.57|    A|       A1| 10+ years|      MORTGAGE|  110000.0|       Not Verified|         n|    major_purchase|10.52|          0|             0|                  null|                  null|      20|      0|    22836|      16.0|       42|                  f|      0.0|          0.0|    3785.02|        3785.02|         3600.0|       185.02|               0.0|       0.0|                    0.0|         583.45|                         0|                       null|          1|      INDIVIDUAL|            null|     null|                     null|             0|        null|       null|       null|      null|       null|       null|              null|        null|   null|       null|       null|      null|    null|            null|  null|       null|        null|          0|\n",
      "|     6000|       6000|         6000.0| 36 months|   11.71|     198.46|    B|       B3|    1 year|      MORTGAGE|   84000.0|           Verified|         n|           medical|18.44|          2|             0|                     8|                  null|       4|      0|        0|     37.73|       14|                  f|      0.0|          0.0|7164.499852|         7164.5|         6000.0|       1149.5|              15.0|       0.0|                    0.0|          16.98|                         0|                       null|          1|      INDIVIDUAL|            null|     null|                     null|             0|        null|       null|       null|      null|       null|       null|              null|        null|   null|       null|       null|      null|    null|            null|  null|       null|        null|          0|\n",
      "|     9200|       9200|         9200.0| 36 months|    6.03|     280.01|    A|       A1|   6 years|          RENT|  77385.19|       Not Verified|         n|debt_consolidation| 9.86|          0|             0|                  null|                  null|       8|      0|     7314|      23.1|       28|                  f|      0.0|          0.0|    9459.96|        9459.96|         9200.0|       259.96|               0.0|       0.0|                    0.0|         8061.1|                         0|                       null|          1|      INDIVIDUAL|            null|     null|                     null|             0|        null|       null|       null|      null|       null|       null|              null|        null|   null|       null|       null|      null|    null|            null|  null|       null|        null|          0|\n",
      "|    21000|      21000|        21000.0| 36 months|   12.42|     701.73|    B|       B4| 10+ years|          RENT|  105000.0|           Verified|         n|debt_consolidation|13.22|          0|             0|                  null|                  null|       7|      0|    32135|      90.3|       38|                  f|      0.0|          0.0|    14025.4|        14025.4|       10694.96|      3330.44|               0.0|       0.0|                    0.0|         701.73|                         0|                       null|          1|      INDIVIDUAL|            null|     null|                     null|             0|        null|       null|       null|      null|       null|       null|              null|        null|   null|       null|       null|      null|    null|            null|  null|       null|        null|          1|\n",
      "|    10000|      10000|        10000.0| 36 months|   11.71|     330.76|    B|       B3|   5 years|          RENT|   50000.0|       Not Verified|         n|debt_consolidation|16.01|          0|             0|                  null|                  null|       6|      0|    17800|      91.8|       17|                  f|      0.0|          0.0|   11536.31|       11536.31|        10000.0|      1536.31|               0.0|       0.0|                    0.0|        4942.63|                         0|                       null|          1|      INDIVIDUAL|            null|     null|                     null|             0|        null|       null|       null|      null|       null|       null|              null|        null|   null|       null|       null|      null|    null|            null|  null|       null|        null|          0|\n",
      "|     6000|       6000|         6000.0| 36 months|   11.71|     198.46|    B|       B3|    1 year|          RENT|   76000.0|       Not Verified|         n|    major_purchase|  2.4|          0|             1|                  null|                  null|       7|      0|     5963|      29.7|        7|                  f|      0.0|          0.0|    2050.14|        2050.14|        1305.58|       475.25|               0.0|    269.31|                   2.57|         198.46|                         0|                       null|          1|      INDIVIDUAL|            null|     null|                     null|             0|        null|       null|       null|      null|       null|       null|              null|        null|   null|       null|       null|      null|    null|            null|  null|       null|        null|          1|\n",
      "|    15000|      15000|        15000.0| 36 months|    9.91|     483.38|    B|       B1|   2 years|      MORTGAGE|   92000.0|           Verified|         n|       credit_card|29.44|          0|             0|                  null|                  null|       8|      0|    13707|      93.9|       31|                  f|      0.0|          0.0|   15823.48|       15823.48|        15000.0|       823.48|               0.0|       0.0|                    0.0|        2447.05|                         0|                       null|          1|      INDIVIDUAL|            null|     null|                     null|             0|        null|       null|       null|      null|       null|       null|              null|        null|   null|       null|       null|      null|    null|            null|  null|       null|        null|          0|\n",
      "|    15000|      15000|         8725.0| 36 months|   14.27|     514.64|    C|       C2|   9 years|          RENT|   60000.0|       Not Verified|         n|debt_consolidation|15.22|          0|             1|                  null|                  null|       7|      0|     5872|      57.6|       11|                  f|      0.0|          0.0|        0.0|            0.0|            0.0|          0.0|               0.0|       0.0|                    0.0|            0.0|                         0|                       null|          1|      INDIVIDUAL|            null|     null|                     null|             0|        null|       null|       null|      null|       null|       null|              null|        null|   null|       null|       null|      null|    null|            null|  null|       null|        null|          1|\n",
      "|     5000|       5000|         5000.0| 60 months|   16.77|     123.65|    D|       D2|   2 years|          RENT|   50004.0|       Not Verified|         n|             other|13.97|          3|             0|                    20|                  null|      14|      0|     4345|      59.5|       22|                  f|      0.0|          0.0|    1609.12|        1609.12|         629.05|       719.11|               0.0|    260.96|                    2.3|         123.65|                         0|                       null|          1|      INDIVIDUAL|            null|     null|                     null|             0|        null|       null|       null|      null|       null|       null|              null|        null|   null|       null|       null|      null|    null|            null|  null|       null|        null|          1|\n",
      "+---------+-----------+---------------+----------+--------+-----------+-----+---------+----------+--------------+----------+-------------------+----------+------------------+-----+-----------+--------------+----------------------+----------------------+--------+-------+---------+----------+---------+-------------------+---------+-------------+-----------+---------------+---------------+-------------+------------------+----------+-----------------------+---------------+--------------------------+---------------------------+-----------+----------------+----------------+---------+-------------------------+--------------+------------+-----------+-----------+----------+-----------+-----------+------------------+------------+-------+-----------+-----------+----------+--------+----------------+------+-----------+------------+-----------+\n",
      "only showing top 20 rows\n",
      "\n"
     ]
    }
   ],
   "source": [
    "df.show()"
   ]
  },
  {
   "cell_type": "code",
   "execution_count": 162,
   "metadata": {},
   "outputs": [
    {
     "data": {
      "text/plain": [
       "61"
      ]
     },
     "execution_count": 162,
     "metadata": {},
     "output_type": "execute_result"
    }
   ],
   "source": [
    "len(df.columns)"
   ]
  },
  {
   "cell_type": "code",
   "execution_count": 163,
   "metadata": {},
   "outputs": [
    {
     "name": "stdout",
     "output_type": "stream",
     "text": [
      "+-----------+------+\n",
      "|policy_code| count|\n",
      "+-----------+------+\n",
      "|          1|804074|\n",
      "+-----------+------+\n",
      "\n"
     ]
    }
   ],
   "source": [
    "df.groupBy(df[\"policy_code\"]).count().sort(\"count\", ascending=False).show()"
   ]
  },
  {
   "attachments": {},
   "cell_type": "markdown",
   "metadata": {},
   "source": [
    "All the policy has the same policy_code. Therefore this column will be dropped"
   ]
  },
  {
   "cell_type": "code",
   "execution_count": 164,
   "metadata": {},
   "outputs": [],
   "source": [
    "df = df.drop('policy_code')"
   ]
  },
  {
   "cell_type": "code",
   "execution_count": 165,
   "metadata": {},
   "outputs": [
    {
     "name": "stdout",
     "output_type": "stream",
     "text": [
      "+-----------+------+\n",
      "|default_ind| count|\n",
      "+-----------+------+\n",
      "|          1| 40660|\n",
      "|          0|763414|\n",
      "+-----------+------+\n",
      "\n"
     ]
    }
   ],
   "source": [
    "df.groupBy(df[\"default_ind\"]).count().show()"
   ]
  },
  {
   "attachments": {},
   "cell_type": "markdown",
   "metadata": {},
   "source": [
    "5% of the data are `default`"
   ]
  },
  {
   "attachments": {},
   "cell_type": "markdown",
   "metadata": {},
   "source": [
    "Visualisation of default diagram"
   ]
  },
  {
   "cell_type": "code",
   "execution_count": 166,
   "metadata": {},
   "outputs": [
    {
     "data": {
      "application/vnd.plotly.v1+json": {
       "config": {
        "plotlyServerURL": "https://plot.ly"
       },
       "data": [
        {
         "domain": {
          "x": [
           0,
           1
          ],
          "y": [
           0,
           1
          ]
         },
         "hovertemplate": "default_ind=%{label}<br>count=%{value}<extra></extra>",
         "labels": [
          1,
          0
         ],
         "legendgroup": "",
         "name": "",
         "showlegend": true,
         "type": "pie",
         "values": [
          40660,
          763414
         ]
        }
       ],
       "layout": {
        "legend": {
         "tracegroupgap": 0
        },
        "margin": {
         "t": 60
        },
        "template": {
         "data": {
          "bar": [
           {
            "error_x": {
             "color": "#2a3f5f"
            },
            "error_y": {
             "color": "#2a3f5f"
            },
            "marker": {
             "line": {
              "color": "#E5ECF6",
              "width": 0.5
             },
             "pattern": {
              "fillmode": "overlay",
              "size": 10,
              "solidity": 0.2
             }
            },
            "type": "bar"
           }
          ],
          "barpolar": [
           {
            "marker": {
             "line": {
              "color": "#E5ECF6",
              "width": 0.5
             },
             "pattern": {
              "fillmode": "overlay",
              "size": 10,
              "solidity": 0.2
             }
            },
            "type": "barpolar"
           }
          ],
          "carpet": [
           {
            "aaxis": {
             "endlinecolor": "#2a3f5f",
             "gridcolor": "white",
             "linecolor": "white",
             "minorgridcolor": "white",
             "startlinecolor": "#2a3f5f"
            },
            "baxis": {
             "endlinecolor": "#2a3f5f",
             "gridcolor": "white",
             "linecolor": "white",
             "minorgridcolor": "white",
             "startlinecolor": "#2a3f5f"
            },
            "type": "carpet"
           }
          ],
          "choropleth": [
           {
            "colorbar": {
             "outlinewidth": 0,
             "ticks": ""
            },
            "type": "choropleth"
           }
          ],
          "contour": [
           {
            "colorbar": {
             "outlinewidth": 0,
             "ticks": ""
            },
            "colorscale": [
             [
              0,
              "#0d0887"
             ],
             [
              0.1111111111111111,
              "#46039f"
             ],
             [
              0.2222222222222222,
              "#7201a8"
             ],
             [
              0.3333333333333333,
              "#9c179e"
             ],
             [
              0.4444444444444444,
              "#bd3786"
             ],
             [
              0.5555555555555556,
              "#d8576b"
             ],
             [
              0.6666666666666666,
              "#ed7953"
             ],
             [
              0.7777777777777778,
              "#fb9f3a"
             ],
             [
              0.8888888888888888,
              "#fdca26"
             ],
             [
              1,
              "#f0f921"
             ]
            ],
            "type": "contour"
           }
          ],
          "contourcarpet": [
           {
            "colorbar": {
             "outlinewidth": 0,
             "ticks": ""
            },
            "type": "contourcarpet"
           }
          ],
          "heatmap": [
           {
            "colorbar": {
             "outlinewidth": 0,
             "ticks": ""
            },
            "colorscale": [
             [
              0,
              "#0d0887"
             ],
             [
              0.1111111111111111,
              "#46039f"
             ],
             [
              0.2222222222222222,
              "#7201a8"
             ],
             [
              0.3333333333333333,
              "#9c179e"
             ],
             [
              0.4444444444444444,
              "#bd3786"
             ],
             [
              0.5555555555555556,
              "#d8576b"
             ],
             [
              0.6666666666666666,
              "#ed7953"
             ],
             [
              0.7777777777777778,
              "#fb9f3a"
             ],
             [
              0.8888888888888888,
              "#fdca26"
             ],
             [
              1,
              "#f0f921"
             ]
            ],
            "type": "heatmap"
           }
          ],
          "heatmapgl": [
           {
            "colorbar": {
             "outlinewidth": 0,
             "ticks": ""
            },
            "colorscale": [
             [
              0,
              "#0d0887"
             ],
             [
              0.1111111111111111,
              "#46039f"
             ],
             [
              0.2222222222222222,
              "#7201a8"
             ],
             [
              0.3333333333333333,
              "#9c179e"
             ],
             [
              0.4444444444444444,
              "#bd3786"
             ],
             [
              0.5555555555555556,
              "#d8576b"
             ],
             [
              0.6666666666666666,
              "#ed7953"
             ],
             [
              0.7777777777777778,
              "#fb9f3a"
             ],
             [
              0.8888888888888888,
              "#fdca26"
             ],
             [
              1,
              "#f0f921"
             ]
            ],
            "type": "heatmapgl"
           }
          ],
          "histogram": [
           {
            "marker": {
             "pattern": {
              "fillmode": "overlay",
              "size": 10,
              "solidity": 0.2
             }
            },
            "type": "histogram"
           }
          ],
          "histogram2d": [
           {
            "colorbar": {
             "outlinewidth": 0,
             "ticks": ""
            },
            "colorscale": [
             [
              0,
              "#0d0887"
             ],
             [
              0.1111111111111111,
              "#46039f"
             ],
             [
              0.2222222222222222,
              "#7201a8"
             ],
             [
              0.3333333333333333,
              "#9c179e"
             ],
             [
              0.4444444444444444,
              "#bd3786"
             ],
             [
              0.5555555555555556,
              "#d8576b"
             ],
             [
              0.6666666666666666,
              "#ed7953"
             ],
             [
              0.7777777777777778,
              "#fb9f3a"
             ],
             [
              0.8888888888888888,
              "#fdca26"
             ],
             [
              1,
              "#f0f921"
             ]
            ],
            "type": "histogram2d"
           }
          ],
          "histogram2dcontour": [
           {
            "colorbar": {
             "outlinewidth": 0,
             "ticks": ""
            },
            "colorscale": [
             [
              0,
              "#0d0887"
             ],
             [
              0.1111111111111111,
              "#46039f"
             ],
             [
              0.2222222222222222,
              "#7201a8"
             ],
             [
              0.3333333333333333,
              "#9c179e"
             ],
             [
              0.4444444444444444,
              "#bd3786"
             ],
             [
              0.5555555555555556,
              "#d8576b"
             ],
             [
              0.6666666666666666,
              "#ed7953"
             ],
             [
              0.7777777777777778,
              "#fb9f3a"
             ],
             [
              0.8888888888888888,
              "#fdca26"
             ],
             [
              1,
              "#f0f921"
             ]
            ],
            "type": "histogram2dcontour"
           }
          ],
          "mesh3d": [
           {
            "colorbar": {
             "outlinewidth": 0,
             "ticks": ""
            },
            "type": "mesh3d"
           }
          ],
          "parcoords": [
           {
            "line": {
             "colorbar": {
              "outlinewidth": 0,
              "ticks": ""
             }
            },
            "type": "parcoords"
           }
          ],
          "pie": [
           {
            "automargin": true,
            "type": "pie"
           }
          ],
          "scatter": [
           {
            "fillpattern": {
             "fillmode": "overlay",
             "size": 10,
             "solidity": 0.2
            },
            "type": "scatter"
           }
          ],
          "scatter3d": [
           {
            "line": {
             "colorbar": {
              "outlinewidth": 0,
              "ticks": ""
             }
            },
            "marker": {
             "colorbar": {
              "outlinewidth": 0,
              "ticks": ""
             }
            },
            "type": "scatter3d"
           }
          ],
          "scattercarpet": [
           {
            "marker": {
             "colorbar": {
              "outlinewidth": 0,
              "ticks": ""
             }
            },
            "type": "scattercarpet"
           }
          ],
          "scattergeo": [
           {
            "marker": {
             "colorbar": {
              "outlinewidth": 0,
              "ticks": ""
             }
            },
            "type": "scattergeo"
           }
          ],
          "scattergl": [
           {
            "marker": {
             "colorbar": {
              "outlinewidth": 0,
              "ticks": ""
             }
            },
            "type": "scattergl"
           }
          ],
          "scattermapbox": [
           {
            "marker": {
             "colorbar": {
              "outlinewidth": 0,
              "ticks": ""
             }
            },
            "type": "scattermapbox"
           }
          ],
          "scatterpolar": [
           {
            "marker": {
             "colorbar": {
              "outlinewidth": 0,
              "ticks": ""
             }
            },
            "type": "scatterpolar"
           }
          ],
          "scatterpolargl": [
           {
            "marker": {
             "colorbar": {
              "outlinewidth": 0,
              "ticks": ""
             }
            },
            "type": "scatterpolargl"
           }
          ],
          "scatterternary": [
           {
            "marker": {
             "colorbar": {
              "outlinewidth": 0,
              "ticks": ""
             }
            },
            "type": "scatterternary"
           }
          ],
          "surface": [
           {
            "colorbar": {
             "outlinewidth": 0,
             "ticks": ""
            },
            "colorscale": [
             [
              0,
              "#0d0887"
             ],
             [
              0.1111111111111111,
              "#46039f"
             ],
             [
              0.2222222222222222,
              "#7201a8"
             ],
             [
              0.3333333333333333,
              "#9c179e"
             ],
             [
              0.4444444444444444,
              "#bd3786"
             ],
             [
              0.5555555555555556,
              "#d8576b"
             ],
             [
              0.6666666666666666,
              "#ed7953"
             ],
             [
              0.7777777777777778,
              "#fb9f3a"
             ],
             [
              0.8888888888888888,
              "#fdca26"
             ],
             [
              1,
              "#f0f921"
             ]
            ],
            "type": "surface"
           }
          ],
          "table": [
           {
            "cells": {
             "fill": {
              "color": "#EBF0F8"
             },
             "line": {
              "color": "white"
             }
            },
            "header": {
             "fill": {
              "color": "#C8D4E3"
             },
             "line": {
              "color": "white"
             }
            },
            "type": "table"
           }
          ]
         },
         "layout": {
          "annotationdefaults": {
           "arrowcolor": "#2a3f5f",
           "arrowhead": 0,
           "arrowwidth": 1
          },
          "autotypenumbers": "strict",
          "coloraxis": {
           "colorbar": {
            "outlinewidth": 0,
            "ticks": ""
           }
          },
          "colorscale": {
           "diverging": [
            [
             0,
             "#8e0152"
            ],
            [
             0.1,
             "#c51b7d"
            ],
            [
             0.2,
             "#de77ae"
            ],
            [
             0.3,
             "#f1b6da"
            ],
            [
             0.4,
             "#fde0ef"
            ],
            [
             0.5,
             "#f7f7f7"
            ],
            [
             0.6,
             "#e6f5d0"
            ],
            [
             0.7,
             "#b8e186"
            ],
            [
             0.8,
             "#7fbc41"
            ],
            [
             0.9,
             "#4d9221"
            ],
            [
             1,
             "#276419"
            ]
           ],
           "sequential": [
            [
             0,
             "#0d0887"
            ],
            [
             0.1111111111111111,
             "#46039f"
            ],
            [
             0.2222222222222222,
             "#7201a8"
            ],
            [
             0.3333333333333333,
             "#9c179e"
            ],
            [
             0.4444444444444444,
             "#bd3786"
            ],
            [
             0.5555555555555556,
             "#d8576b"
            ],
            [
             0.6666666666666666,
             "#ed7953"
            ],
            [
             0.7777777777777778,
             "#fb9f3a"
            ],
            [
             0.8888888888888888,
             "#fdca26"
            ],
            [
             1,
             "#f0f921"
            ]
           ],
           "sequentialminus": [
            [
             0,
             "#0d0887"
            ],
            [
             0.1111111111111111,
             "#46039f"
            ],
            [
             0.2222222222222222,
             "#7201a8"
            ],
            [
             0.3333333333333333,
             "#9c179e"
            ],
            [
             0.4444444444444444,
             "#bd3786"
            ],
            [
             0.5555555555555556,
             "#d8576b"
            ],
            [
             0.6666666666666666,
             "#ed7953"
            ],
            [
             0.7777777777777778,
             "#fb9f3a"
            ],
            [
             0.8888888888888888,
             "#fdca26"
            ],
            [
             1,
             "#f0f921"
            ]
           ]
          },
          "colorway": [
           "#636efa",
           "#EF553B",
           "#00cc96",
           "#ab63fa",
           "#FFA15A",
           "#19d3f3",
           "#FF6692",
           "#B6E880",
           "#FF97FF",
           "#FECB52"
          ],
          "font": {
           "color": "#2a3f5f"
          },
          "geo": {
           "bgcolor": "white",
           "lakecolor": "white",
           "landcolor": "#E5ECF6",
           "showlakes": true,
           "showland": true,
           "subunitcolor": "white"
          },
          "hoverlabel": {
           "align": "left"
          },
          "hovermode": "closest",
          "mapbox": {
           "style": "light"
          },
          "paper_bgcolor": "white",
          "plot_bgcolor": "#E5ECF6",
          "polar": {
           "angularaxis": {
            "gridcolor": "white",
            "linecolor": "white",
            "ticks": ""
           },
           "bgcolor": "#E5ECF6",
           "radialaxis": {
            "gridcolor": "white",
            "linecolor": "white",
            "ticks": ""
           }
          },
          "scene": {
           "xaxis": {
            "backgroundcolor": "#E5ECF6",
            "gridcolor": "white",
            "gridwidth": 2,
            "linecolor": "white",
            "showbackground": true,
            "ticks": "",
            "zerolinecolor": "white"
           },
           "yaxis": {
            "backgroundcolor": "#E5ECF6",
            "gridcolor": "white",
            "gridwidth": 2,
            "linecolor": "white",
            "showbackground": true,
            "ticks": "",
            "zerolinecolor": "white"
           },
           "zaxis": {
            "backgroundcolor": "#E5ECF6",
            "gridcolor": "white",
            "gridwidth": 2,
            "linecolor": "white",
            "showbackground": true,
            "ticks": "",
            "zerolinecolor": "white"
           }
          },
          "shapedefaults": {
           "line": {
            "color": "#2a3f5f"
           }
          },
          "ternary": {
           "aaxis": {
            "gridcolor": "white",
            "linecolor": "white",
            "ticks": ""
           },
           "baxis": {
            "gridcolor": "white",
            "linecolor": "white",
            "ticks": ""
           },
           "bgcolor": "#E5ECF6",
           "caxis": {
            "gridcolor": "white",
            "linecolor": "white",
            "ticks": ""
           }
          },
          "title": {
           "x": 0.05
          },
          "xaxis": {
           "automargin": true,
           "gridcolor": "white",
           "linecolor": "white",
           "ticks": "",
           "title": {
            "standoff": 15
           },
           "zerolinecolor": "white",
           "zerolinewidth": 2
          },
          "yaxis": {
           "automargin": true,
           "gridcolor": "white",
           "linecolor": "white",
           "ticks": "",
           "title": {
            "standoff": 15
           },
           "zerolinecolor": "white",
           "zerolinewidth": 2
          }
         }
        }
       }
      }
     },
     "metadata": {},
     "output_type": "display_data"
    }
   ],
   "source": [
    "df.groupby(['default_ind']).count().to_pandas_on_spark(index_col='default_ind').plot.pie(y='count')"
   ]
  },
  {
   "attachments": {},
   "cell_type": "markdown",
   "metadata": {},
   "source": [
    "We will need to resample a training data that will have equal distribution (50/50) of default and non-default rows"
   ]
  },
  {
   "cell_type": "code",
   "execution_count": 167,
   "metadata": {},
   "outputs": [
    {
     "name": "stdout",
     "output_type": "stream",
     "text": [
      "+--------------+------+\n",
      "|home_ownership| count|\n",
      "+--------------+------+\n",
      "|           OWN| 80448|\n",
      "|          RENT|320233|\n",
      "|      MORTGAGE|403274|\n",
      "|         OTHER|    81|\n",
      "|          NONE|    35|\n",
      "|           ANY|     3|\n",
      "+--------------+------+\n",
      "\n"
     ]
    }
   ],
   "source": [
    "df.groupby(['home_ownership']).count().show()\n"
   ]
  },
  {
   "attachments": {},
   "cell_type": "markdown",
   "metadata": {},
   "source": [
    "The majority of borrowers are either paying mortgage or renting a home. Around 10% of borrower actually own the house. Lastly, around 0.0148% of borrowers are in the OTHER, NONE, and ANY category. These remaining fields should be consolidate into one as 'OTHER' field."
   ]
  },
  {
   "cell_type": "code",
   "execution_count": 168,
   "metadata": {},
   "outputs": [],
   "source": [
    "df = df.replace(['NONE', 'ANY', '2 years'], 'OTHER', 'home_ownership')"
   ]
  },
  {
   "cell_type": "code",
   "execution_count": 169,
   "metadata": {},
   "outputs": [
    {
     "name": "stdout",
     "output_type": "stream",
     "text": [
      "+--------------+\n",
      "|home_ownership|\n",
      "+--------------+\n",
      "|           OWN|\n",
      "|          RENT|\n",
      "|      MORTGAGE|\n",
      "|         OTHER|\n",
      "+--------------+\n",
      "\n"
     ]
    }
   ],
   "source": [
    "df.select(['home_ownership']).distinct().show()"
   ]
  },
  {
   "cell_type": "code",
   "execution_count": 170,
   "metadata": {},
   "outputs": [
    {
     "data": {
      "application/vnd.plotly.v1+json": {
       "config": {
        "plotlyServerURL": "https://plot.ly"
       },
       "data": [
        {
         "domain": {
          "x": [
           0,
           1
          ],
          "y": [
           0,
           1
          ]
         },
         "hovertemplate": "home_ownership=%{label}<br>count=%{value}<extra></extra>",
         "labels": [
          "OWN",
          "RENT",
          "MORTGAGE",
          "OTHER"
         ],
         "legendgroup": "",
         "name": "",
         "showlegend": true,
         "type": "pie",
         "values": [
          80448,
          320233,
          403274,
          119
         ]
        }
       ],
       "layout": {
        "legend": {
         "tracegroupgap": 0
        },
        "margin": {
         "t": 60
        },
        "template": {
         "data": {
          "bar": [
           {
            "error_x": {
             "color": "#2a3f5f"
            },
            "error_y": {
             "color": "#2a3f5f"
            },
            "marker": {
             "line": {
              "color": "#E5ECF6",
              "width": 0.5
             },
             "pattern": {
              "fillmode": "overlay",
              "size": 10,
              "solidity": 0.2
             }
            },
            "type": "bar"
           }
          ],
          "barpolar": [
           {
            "marker": {
             "line": {
              "color": "#E5ECF6",
              "width": 0.5
             },
             "pattern": {
              "fillmode": "overlay",
              "size": 10,
              "solidity": 0.2
             }
            },
            "type": "barpolar"
           }
          ],
          "carpet": [
           {
            "aaxis": {
             "endlinecolor": "#2a3f5f",
             "gridcolor": "white",
             "linecolor": "white",
             "minorgridcolor": "white",
             "startlinecolor": "#2a3f5f"
            },
            "baxis": {
             "endlinecolor": "#2a3f5f",
             "gridcolor": "white",
             "linecolor": "white",
             "minorgridcolor": "white",
             "startlinecolor": "#2a3f5f"
            },
            "type": "carpet"
           }
          ],
          "choropleth": [
           {
            "colorbar": {
             "outlinewidth": 0,
             "ticks": ""
            },
            "type": "choropleth"
           }
          ],
          "contour": [
           {
            "colorbar": {
             "outlinewidth": 0,
             "ticks": ""
            },
            "colorscale": [
             [
              0,
              "#0d0887"
             ],
             [
              0.1111111111111111,
              "#46039f"
             ],
             [
              0.2222222222222222,
              "#7201a8"
             ],
             [
              0.3333333333333333,
              "#9c179e"
             ],
             [
              0.4444444444444444,
              "#bd3786"
             ],
             [
              0.5555555555555556,
              "#d8576b"
             ],
             [
              0.6666666666666666,
              "#ed7953"
             ],
             [
              0.7777777777777778,
              "#fb9f3a"
             ],
             [
              0.8888888888888888,
              "#fdca26"
             ],
             [
              1,
              "#f0f921"
             ]
            ],
            "type": "contour"
           }
          ],
          "contourcarpet": [
           {
            "colorbar": {
             "outlinewidth": 0,
             "ticks": ""
            },
            "type": "contourcarpet"
           }
          ],
          "heatmap": [
           {
            "colorbar": {
             "outlinewidth": 0,
             "ticks": ""
            },
            "colorscale": [
             [
              0,
              "#0d0887"
             ],
             [
              0.1111111111111111,
              "#46039f"
             ],
             [
              0.2222222222222222,
              "#7201a8"
             ],
             [
              0.3333333333333333,
              "#9c179e"
             ],
             [
              0.4444444444444444,
              "#bd3786"
             ],
             [
              0.5555555555555556,
              "#d8576b"
             ],
             [
              0.6666666666666666,
              "#ed7953"
             ],
             [
              0.7777777777777778,
              "#fb9f3a"
             ],
             [
              0.8888888888888888,
              "#fdca26"
             ],
             [
              1,
              "#f0f921"
             ]
            ],
            "type": "heatmap"
           }
          ],
          "heatmapgl": [
           {
            "colorbar": {
             "outlinewidth": 0,
             "ticks": ""
            },
            "colorscale": [
             [
              0,
              "#0d0887"
             ],
             [
              0.1111111111111111,
              "#46039f"
             ],
             [
              0.2222222222222222,
              "#7201a8"
             ],
             [
              0.3333333333333333,
              "#9c179e"
             ],
             [
              0.4444444444444444,
              "#bd3786"
             ],
             [
              0.5555555555555556,
              "#d8576b"
             ],
             [
              0.6666666666666666,
              "#ed7953"
             ],
             [
              0.7777777777777778,
              "#fb9f3a"
             ],
             [
              0.8888888888888888,
              "#fdca26"
             ],
             [
              1,
              "#f0f921"
             ]
            ],
            "type": "heatmapgl"
           }
          ],
          "histogram": [
           {
            "marker": {
             "pattern": {
              "fillmode": "overlay",
              "size": 10,
              "solidity": 0.2
             }
            },
            "type": "histogram"
           }
          ],
          "histogram2d": [
           {
            "colorbar": {
             "outlinewidth": 0,
             "ticks": ""
            },
            "colorscale": [
             [
              0,
              "#0d0887"
             ],
             [
              0.1111111111111111,
              "#46039f"
             ],
             [
              0.2222222222222222,
              "#7201a8"
             ],
             [
              0.3333333333333333,
              "#9c179e"
             ],
             [
              0.4444444444444444,
              "#bd3786"
             ],
             [
              0.5555555555555556,
              "#d8576b"
             ],
             [
              0.6666666666666666,
              "#ed7953"
             ],
             [
              0.7777777777777778,
              "#fb9f3a"
             ],
             [
              0.8888888888888888,
              "#fdca26"
             ],
             [
              1,
              "#f0f921"
             ]
            ],
            "type": "histogram2d"
           }
          ],
          "histogram2dcontour": [
           {
            "colorbar": {
             "outlinewidth": 0,
             "ticks": ""
            },
            "colorscale": [
             [
              0,
              "#0d0887"
             ],
             [
              0.1111111111111111,
              "#46039f"
             ],
             [
              0.2222222222222222,
              "#7201a8"
             ],
             [
              0.3333333333333333,
              "#9c179e"
             ],
             [
              0.4444444444444444,
              "#bd3786"
             ],
             [
              0.5555555555555556,
              "#d8576b"
             ],
             [
              0.6666666666666666,
              "#ed7953"
             ],
             [
              0.7777777777777778,
              "#fb9f3a"
             ],
             [
              0.8888888888888888,
              "#fdca26"
             ],
             [
              1,
              "#f0f921"
             ]
            ],
            "type": "histogram2dcontour"
           }
          ],
          "mesh3d": [
           {
            "colorbar": {
             "outlinewidth": 0,
             "ticks": ""
            },
            "type": "mesh3d"
           }
          ],
          "parcoords": [
           {
            "line": {
             "colorbar": {
              "outlinewidth": 0,
              "ticks": ""
             }
            },
            "type": "parcoords"
           }
          ],
          "pie": [
           {
            "automargin": true,
            "type": "pie"
           }
          ],
          "scatter": [
           {
            "fillpattern": {
             "fillmode": "overlay",
             "size": 10,
             "solidity": 0.2
            },
            "type": "scatter"
           }
          ],
          "scatter3d": [
           {
            "line": {
             "colorbar": {
              "outlinewidth": 0,
              "ticks": ""
             }
            },
            "marker": {
             "colorbar": {
              "outlinewidth": 0,
              "ticks": ""
             }
            },
            "type": "scatter3d"
           }
          ],
          "scattercarpet": [
           {
            "marker": {
             "colorbar": {
              "outlinewidth": 0,
              "ticks": ""
             }
            },
            "type": "scattercarpet"
           }
          ],
          "scattergeo": [
           {
            "marker": {
             "colorbar": {
              "outlinewidth": 0,
              "ticks": ""
             }
            },
            "type": "scattergeo"
           }
          ],
          "scattergl": [
           {
            "marker": {
             "colorbar": {
              "outlinewidth": 0,
              "ticks": ""
             }
            },
            "type": "scattergl"
           }
          ],
          "scattermapbox": [
           {
            "marker": {
             "colorbar": {
              "outlinewidth": 0,
              "ticks": ""
             }
            },
            "type": "scattermapbox"
           }
          ],
          "scatterpolar": [
           {
            "marker": {
             "colorbar": {
              "outlinewidth": 0,
              "ticks": ""
             }
            },
            "type": "scatterpolar"
           }
          ],
          "scatterpolargl": [
           {
            "marker": {
             "colorbar": {
              "outlinewidth": 0,
              "ticks": ""
             }
            },
            "type": "scatterpolargl"
           }
          ],
          "scatterternary": [
           {
            "marker": {
             "colorbar": {
              "outlinewidth": 0,
              "ticks": ""
             }
            },
            "type": "scatterternary"
           }
          ],
          "surface": [
           {
            "colorbar": {
             "outlinewidth": 0,
             "ticks": ""
            },
            "colorscale": [
             [
              0,
              "#0d0887"
             ],
             [
              0.1111111111111111,
              "#46039f"
             ],
             [
              0.2222222222222222,
              "#7201a8"
             ],
             [
              0.3333333333333333,
              "#9c179e"
             ],
             [
              0.4444444444444444,
              "#bd3786"
             ],
             [
              0.5555555555555556,
              "#d8576b"
             ],
             [
              0.6666666666666666,
              "#ed7953"
             ],
             [
              0.7777777777777778,
              "#fb9f3a"
             ],
             [
              0.8888888888888888,
              "#fdca26"
             ],
             [
              1,
              "#f0f921"
             ]
            ],
            "type": "surface"
           }
          ],
          "table": [
           {
            "cells": {
             "fill": {
              "color": "#EBF0F8"
             },
             "line": {
              "color": "white"
             }
            },
            "header": {
             "fill": {
              "color": "#C8D4E3"
             },
             "line": {
              "color": "white"
             }
            },
            "type": "table"
           }
          ]
         },
         "layout": {
          "annotationdefaults": {
           "arrowcolor": "#2a3f5f",
           "arrowhead": 0,
           "arrowwidth": 1
          },
          "autotypenumbers": "strict",
          "coloraxis": {
           "colorbar": {
            "outlinewidth": 0,
            "ticks": ""
           }
          },
          "colorscale": {
           "diverging": [
            [
             0,
             "#8e0152"
            ],
            [
             0.1,
             "#c51b7d"
            ],
            [
             0.2,
             "#de77ae"
            ],
            [
             0.3,
             "#f1b6da"
            ],
            [
             0.4,
             "#fde0ef"
            ],
            [
             0.5,
             "#f7f7f7"
            ],
            [
             0.6,
             "#e6f5d0"
            ],
            [
             0.7,
             "#b8e186"
            ],
            [
             0.8,
             "#7fbc41"
            ],
            [
             0.9,
             "#4d9221"
            ],
            [
             1,
             "#276419"
            ]
           ],
           "sequential": [
            [
             0,
             "#0d0887"
            ],
            [
             0.1111111111111111,
             "#46039f"
            ],
            [
             0.2222222222222222,
             "#7201a8"
            ],
            [
             0.3333333333333333,
             "#9c179e"
            ],
            [
             0.4444444444444444,
             "#bd3786"
            ],
            [
             0.5555555555555556,
             "#d8576b"
            ],
            [
             0.6666666666666666,
             "#ed7953"
            ],
            [
             0.7777777777777778,
             "#fb9f3a"
            ],
            [
             0.8888888888888888,
             "#fdca26"
            ],
            [
             1,
             "#f0f921"
            ]
           ],
           "sequentialminus": [
            [
             0,
             "#0d0887"
            ],
            [
             0.1111111111111111,
             "#46039f"
            ],
            [
             0.2222222222222222,
             "#7201a8"
            ],
            [
             0.3333333333333333,
             "#9c179e"
            ],
            [
             0.4444444444444444,
             "#bd3786"
            ],
            [
             0.5555555555555556,
             "#d8576b"
            ],
            [
             0.6666666666666666,
             "#ed7953"
            ],
            [
             0.7777777777777778,
             "#fb9f3a"
            ],
            [
             0.8888888888888888,
             "#fdca26"
            ],
            [
             1,
             "#f0f921"
            ]
           ]
          },
          "colorway": [
           "#636efa",
           "#EF553B",
           "#00cc96",
           "#ab63fa",
           "#FFA15A",
           "#19d3f3",
           "#FF6692",
           "#B6E880",
           "#FF97FF",
           "#FECB52"
          ],
          "font": {
           "color": "#2a3f5f"
          },
          "geo": {
           "bgcolor": "white",
           "lakecolor": "white",
           "landcolor": "#E5ECF6",
           "showlakes": true,
           "showland": true,
           "subunitcolor": "white"
          },
          "hoverlabel": {
           "align": "left"
          },
          "hovermode": "closest",
          "mapbox": {
           "style": "light"
          },
          "paper_bgcolor": "white",
          "plot_bgcolor": "#E5ECF6",
          "polar": {
           "angularaxis": {
            "gridcolor": "white",
            "linecolor": "white",
            "ticks": ""
           },
           "bgcolor": "#E5ECF6",
           "radialaxis": {
            "gridcolor": "white",
            "linecolor": "white",
            "ticks": ""
           }
          },
          "scene": {
           "xaxis": {
            "backgroundcolor": "#E5ECF6",
            "gridcolor": "white",
            "gridwidth": 2,
            "linecolor": "white",
            "showbackground": true,
            "ticks": "",
            "zerolinecolor": "white"
           },
           "yaxis": {
            "backgroundcolor": "#E5ECF6",
            "gridcolor": "white",
            "gridwidth": 2,
            "linecolor": "white",
            "showbackground": true,
            "ticks": "",
            "zerolinecolor": "white"
           },
           "zaxis": {
            "backgroundcolor": "#E5ECF6",
            "gridcolor": "white",
            "gridwidth": 2,
            "linecolor": "white",
            "showbackground": true,
            "ticks": "",
            "zerolinecolor": "white"
           }
          },
          "shapedefaults": {
           "line": {
            "color": "#2a3f5f"
           }
          },
          "ternary": {
           "aaxis": {
            "gridcolor": "white",
            "linecolor": "white",
            "ticks": ""
           },
           "baxis": {
            "gridcolor": "white",
            "linecolor": "white",
            "ticks": ""
           },
           "bgcolor": "#E5ECF6",
           "caxis": {
            "gridcolor": "white",
            "linecolor": "white",
            "ticks": ""
           }
          },
          "title": {
           "x": 0.05
          },
          "xaxis": {
           "automargin": true,
           "gridcolor": "white",
           "linecolor": "white",
           "ticks": "",
           "title": {
            "standoff": 15
           },
           "zerolinecolor": "white",
           "zerolinewidth": 2
          },
          "yaxis": {
           "automargin": true,
           "gridcolor": "white",
           "linecolor": "white",
           "ticks": "",
           "title": {
            "standoff": 15
           },
           "zerolinecolor": "white",
           "zerolinewidth": 2
          }
         }
        }
       }
      }
     },
     "metadata": {},
     "output_type": "display_data"
    }
   ],
   "source": [
    "df.groupby(['home_ownership']).count().to_pandas_on_spark(index_col='home_ownership').plot.pie(y='count')"
   ]
  },
  {
   "attachments": {},
   "cell_type": "markdown",
   "metadata": {},
   "source": [
    "Let's check for the default rate among all home ownership types"
   ]
  },
  {
   "cell_type": "code",
   "execution_count": 171,
   "metadata": {},
   "outputs": [
    {
     "name": "stdout",
     "output_type": "stream",
     "text": [
      "+--------------+-----+\n",
      "|home_ownership|count|\n",
      "+--------------+-----+\n",
      "|           OWN| 3699|\n",
      "|          RENT|19203|\n",
      "|      MORTGAGE|17743|\n",
      "|         OTHER|   15|\n",
      "+--------------+-----+\n",
      "\n"
     ]
    }
   ],
   "source": [
    "df.select(['default_ind','home_ownership']).filter(df['default_ind'] == 1).groupby(['home_ownership']).count().show()"
   ]
  },
  {
   "attachments": {},
   "cell_type": "markdown",
   "metadata": {},
   "source": [
    "Tenants/renter seems more likely to default a loan"
   ]
  },
  {
   "cell_type": "code",
   "execution_count": 172,
   "metadata": {},
   "outputs": [
    {
     "name": "stdout",
     "output_type": "stream",
     "text": [
      "+--------------+------+\n",
      "|home_ownership| count|\n",
      "+--------------+------+\n",
      "|           OWN| 76749|\n",
      "|          RENT|301030|\n",
      "|      MORTGAGE|385531|\n",
      "|         OTHER|   104|\n",
      "+--------------+------+\n",
      "\n"
     ]
    }
   ],
   "source": [
    "df.select(['default_ind','home_ownership']).filter(df['default_ind'] == 0).groupby(['home_ownership']).count().show()"
   ]
  },
  {
   "cell_type": "code",
   "execution_count": 173,
   "metadata": {},
   "outputs": [
    {
     "name": "stdout",
     "output_type": "stream",
     "text": [
      "+----------+------+\n",
      "|pymnt_plan| count|\n",
      "+----------+------+\n",
      "|         n|804071|\n",
      "|         y|     3|\n",
      "+----------+------+\n",
      "\n"
     ]
    }
   ],
   "source": [
    "df.select(['pymnt_plan']).groupby(['pymnt_plan']).count().show()"
   ]
  },
  {
   "attachments": {},
   "cell_type": "markdown",
   "metadata": {},
   "source": [
    "Everything in this column is no, except for 3 yes. Therefore this column will be dropped"
   ]
  },
  {
   "cell_type": "code",
   "execution_count": 174,
   "metadata": {},
   "outputs": [],
   "source": [
    "df = df.drop('pymnt_plan')"
   ]
  },
  {
   "cell_type": "code",
   "execution_count": 175,
   "metadata": {},
   "outputs": [
    {
     "name": "stdout",
     "output_type": "stream",
     "text": [
      "+---------+-----------+---------------+----------+--------+-----------+-----+---------+----------+--------------+----------+-------------------+------------------+-----+-----------+--------------+----------------------+----------------------+--------+-------+---------+----------+---------+-------------------+---------+-------------+-----------+---------------+---------------+-------------+------------------+----------+-----------------------+---------------+--------------------------+---------------------------+----------------+----------------+---------+-------------------------+--------------+------------+-----------+-----------+----------+-----------+-----------+------------------+------------+-------+-----------+-----------+----------+--------+----------------+------+-----------+------------+-----------+\n",
      "|loan_amnt|funded_amnt|funded_amnt_inv|      term|int_rate|installment|grade|sub_grade|emp_length|home_ownership|annual_inc|verification_status|           purpose|  dti|delinq_2yrs|inq_last_6mths|mths_since_last_delinq|mths_since_last_record|open_acc|pub_rec|revol_bal|revol_util|total_acc|initial_list_status|out_prncp|out_prncp_inv|total_pymnt|total_pymnt_inv|total_rec_prncp|total_rec_int|total_rec_late_fee|recoveries|collection_recovery_fee|last_pymnt_amnt|collections_12_mths_ex_med|mths_since_last_major_derog|application_type|annual_inc_joint|dti_joint|verification_status_joint|acc_now_delinq|tot_coll_amt|tot_cur_bal|open_acc_6m|open_il_6m|open_il_12m|open_il_24m|mths_since_rcnt_il|total_bal_il|il_util|open_rv_12m|open_rv_24m|max_bal_bc|all_util|total_rev_hi_lim|inq_fi|total_cu_tl|inq_last_12m|default_ind|\n",
      "+---------+-----------+---------------+----------+--------+-----------+-----+---------+----------+--------------+----------+-------------------+------------------+-----+-----------+--------------+----------------------+----------------------+--------+-------+---------+----------+---------+-------------------+---------+-------------+-----------+---------------+---------------+-------------+------------------+----------+-----------------------+---------------+--------------------------+---------------------------+----------------+----------------+---------+-------------------------+--------------+------------+-----------+-----------+----------+-----------+-----------+------------------+------------+-------+-----------+-----------+----------+--------+----------------+------+-----------+------------+-----------+\n",
      "|     5000|       5000|         4975.0| 36 months|   10.65|     162.87|    B|       B2| 10+ years|          RENT|   24000.0|           Verified|       credit_card|27.65|          0|             1|                  null|                  null|       3|      0|    13648|      83.7|        9|                  f|      0.0|          0.0|5861.071414|        5831.78|         5000.0|       861.07|               0.0|       0.0|                    0.0|         171.62|                         0|                       null|      INDIVIDUAL|            null|     null|                     null|             0|        null|       null|       null|      null|       null|       null|              null|        null|   null|       null|       null|      null|    null|            null|  null|       null|        null|          0|\n",
      "|     2500|       2500|         2500.0| 60 months|   15.27|      59.83|    C|       C4|  < 1 year|          RENT|   30000.0|    Source Verified|               car|  1.0|          0|             5|                  null|                  null|       3|      0|     1687|       9.4|        4|                  f|      0.0|          0.0|    1008.71|        1008.71|         456.46|       435.17|               0.0|    117.08|                   1.11|         119.66|                         0|                       null|      INDIVIDUAL|            null|     null|                     null|             0|        null|       null|       null|      null|       null|       null|              null|        null|   null|       null|       null|      null|    null|            null|  null|       null|        null|          1|\n",
      "|     2400|       2400|         2400.0| 36 months|   15.96|      84.33|    C|       C5| 10+ years|          RENT|   12252.0|       Not Verified|    small_business| 8.72|          0|             2|                  null|                  null|       2|      0|     2956|      98.5|       10|                  f|      0.0|          0.0|3003.653644|        3003.65|         2400.0|       603.65|               0.0|       0.0|                    0.0|         649.91|                         0|                       null|      INDIVIDUAL|            null|     null|                     null|             0|        null|       null|       null|      null|       null|       null|              null|        null|   null|       null|       null|      null|    null|            null|  null|       null|        null|          0|\n",
      "|     5000|       5000|         5000.0| 36 months|     7.9|     156.46|    A|       A4|   3 years|          RENT|   36000.0|    Source Verified|           wedding| 11.2|          0|             3|                  null|                  null|       9|      0|     7963|      28.3|       12|                  f|      0.0|          0.0|5631.377753|        5631.38|         5000.0|       631.38|               0.0|       0.0|                    0.0|         161.03|                         0|                       null|      INDIVIDUAL|            null|     null|                     null|             0|        null|       null|       null|      null|       null|       null|              null|        null|   null|       null|       null|      null|    null|            null|  null|       null|        null|          0|\n",
      "|     3000|       3000|         3000.0| 36 months|   18.64|     109.43|    E|       E1|   9 years|          RENT|   48000.0|    Source Verified|               car| 5.35|          0|             2|                  null|                  null|       4|      0|     8221|      87.5|        4|                  f|      0.0|          0.0|3938.144334|        3938.14|         3000.0|       938.14|               0.0|       0.0|                    0.0|         111.34|                         0|                       null|      INDIVIDUAL|            null|     null|                     null|             0|        null|       null|       null|      null|       null|       null|              null|        null|   null|       null|       null|      null|    null|            null|  null|       null|        null|          0|\n",
      "|     5600|       5600|         5600.0| 60 months|   21.28|     152.39|    F|       F2|   4 years|           OWN|   40000.0|    Source Verified|    small_business| 5.55|          0|             2|                  null|                  null|      11|      0|     5210|      32.6|       13|                  f|      0.0|          0.0|     646.02|         646.02|         162.02|       294.94|               0.0|    189.06|                   2.09|         152.39|                         0|                       null|      INDIVIDUAL|            null|     null|                     null|             0|        null|       null|       null|      null|       null|       null|              null|        null|   null|       null|       null|      null|    null|            null|  null|       null|        null|          1|\n",
      "|    12000|      12000|        12000.0| 36 months|   12.69|     402.54|    B|       B5| 10+ years|           OWN|   75000.0|    Source Verified|debt_consolidation|10.78|          0|             0|                  null|                  null|      12|      0|    23336|      67.1|       34|                  f|      0.0|          0.0|   13943.08|       13943.08|        12000.0|      1943.08|               0.0|       0.0|                    0.0|         6315.3|                         0|                       null|      INDIVIDUAL|            null|     null|                     null|             0|        null|       null|       null|      null|       null|       null|              null|        null|   null|       null|       null|      null|    null|            null|  null|       null|        null|          0|\n",
      "|     9000|       9000|         9000.0| 36 months|   13.49|     305.38|    C|       C1|  < 1 year|          RENT|   30000.0|    Source Verified|debt_consolidation|10.08|          0|             1|                  null|                  null|       4|      0|    10452|      91.7|        9|                  f|      0.0|          0.0|     2270.7|         2270.7|        1256.14|       570.26|               0.0|     444.3|                   4.16|         305.38|                         0|                       null|      INDIVIDUAL|            null|     null|                     null|             0|        null|       null|       null|      null|       null|       null|              null|        null|   null|       null|       null|      null|    null|            null|  null|       null|        null|          1|\n",
      "|    10000|      10000|        10000.0| 36 months|   10.65|     325.74|    B|       B2|   3 years|          RENT|  100000.0|    Source Verified|             other| 7.06|          0|             2|                  null|                  null|      14|      0|    11997|      55.5|       29|                  f|      0.0|          0.0|    7471.99|        7471.99|        5433.47|      1393.42|               0.0|     645.1|                 6.3145|         325.74|                         0|                       null|      INDIVIDUAL|            null|     null|                     null|             0|        null|       null|       null|      null|       null|       null|              null|        null|   null|       null|       null|      null|    null|            null|  null|       null|        null|          1|\n",
      "|     1000|       1000|         1000.0| 36 months|   16.29|      35.31|    D|       D1|  < 1 year|          RENT|   28000.0|       Not Verified|debt_consolidation|20.31|          0|             1|                  null|                  null|      11|      0|     6524|      81.5|       23|                  f|      0.0|          0.0|1270.171106|        1270.17|         1000.0|       270.17|               0.0|       0.0|                    0.0|          36.32|                         0|                       null|      INDIVIDUAL|            null|     null|                     null|             0|        null|       null|       null|      null|       null|       null|              null|        null|   null|       null|       null|      null|    null|            null|  null|       null|        null|          0|\n",
      "|    10000|      10000|        10000.0| 36 months|   15.27|     347.98|    C|       C4|   4 years|          RENT|   42000.0|       Not Verified|  home_improvement| 18.6|          0|             2|                    61|                  null|      14|      0|    24043|      70.2|       28|                  f|      0.0|          0.0|12519.26045|       12519.26|        10000.0|      2519.26|               0.0|       0.0|                    0.0|         370.46|                         0|                       null|      INDIVIDUAL|            null|     null|                     null|             0|        null|       null|       null|      null|       null|       null|              null|        null|   null|       null|       null|      null|    null|            null|  null|       null|        null|          0|\n",
      "|     3600|       3600|         3600.0| 36 months|    6.03|     109.57|    A|       A1| 10+ years|      MORTGAGE|  110000.0|       Not Verified|    major_purchase|10.52|          0|             0|                  null|                  null|      20|      0|    22836|      16.0|       42|                  f|      0.0|          0.0|    3785.02|        3785.02|         3600.0|       185.02|               0.0|       0.0|                    0.0|         583.45|                         0|                       null|      INDIVIDUAL|            null|     null|                     null|             0|        null|       null|       null|      null|       null|       null|              null|        null|   null|       null|       null|      null|    null|            null|  null|       null|        null|          0|\n",
      "|     6000|       6000|         6000.0| 36 months|   11.71|     198.46|    B|       B3|    1 year|      MORTGAGE|   84000.0|           Verified|           medical|18.44|          2|             0|                     8|                  null|       4|      0|        0|     37.73|       14|                  f|      0.0|          0.0|7164.499852|         7164.5|         6000.0|       1149.5|              15.0|       0.0|                    0.0|          16.98|                         0|                       null|      INDIVIDUAL|            null|     null|                     null|             0|        null|       null|       null|      null|       null|       null|              null|        null|   null|       null|       null|      null|    null|            null|  null|       null|        null|          0|\n",
      "|     9200|       9200|         9200.0| 36 months|    6.03|     280.01|    A|       A1|   6 years|          RENT|  77385.19|       Not Verified|debt_consolidation| 9.86|          0|             0|                  null|                  null|       8|      0|     7314|      23.1|       28|                  f|      0.0|          0.0|    9459.96|        9459.96|         9200.0|       259.96|               0.0|       0.0|                    0.0|         8061.1|                         0|                       null|      INDIVIDUAL|            null|     null|                     null|             0|        null|       null|       null|      null|       null|       null|              null|        null|   null|       null|       null|      null|    null|            null|  null|       null|        null|          0|\n",
      "|    21000|      21000|        21000.0| 36 months|   12.42|     701.73|    B|       B4| 10+ years|          RENT|  105000.0|           Verified|debt_consolidation|13.22|          0|             0|                  null|                  null|       7|      0|    32135|      90.3|       38|                  f|      0.0|          0.0|    14025.4|        14025.4|       10694.96|      3330.44|               0.0|       0.0|                    0.0|         701.73|                         0|                       null|      INDIVIDUAL|            null|     null|                     null|             0|        null|       null|       null|      null|       null|       null|              null|        null|   null|       null|       null|      null|    null|            null|  null|       null|        null|          1|\n",
      "|    10000|      10000|        10000.0| 36 months|   11.71|     330.76|    B|       B3|   5 years|          RENT|   50000.0|       Not Verified|debt_consolidation|16.01|          0|             0|                  null|                  null|       6|      0|    17800|      91.8|       17|                  f|      0.0|          0.0|   11536.31|       11536.31|        10000.0|      1536.31|               0.0|       0.0|                    0.0|        4942.63|                         0|                       null|      INDIVIDUAL|            null|     null|                     null|             0|        null|       null|       null|      null|       null|       null|              null|        null|   null|       null|       null|      null|    null|            null|  null|       null|        null|          0|\n",
      "|     6000|       6000|         6000.0| 36 months|   11.71|     198.46|    B|       B3|    1 year|          RENT|   76000.0|       Not Verified|    major_purchase|  2.4|          0|             1|                  null|                  null|       7|      0|     5963|      29.7|        7|                  f|      0.0|          0.0|    2050.14|        2050.14|        1305.58|       475.25|               0.0|    269.31|                   2.57|         198.46|                         0|                       null|      INDIVIDUAL|            null|     null|                     null|             0|        null|       null|       null|      null|       null|       null|              null|        null|   null|       null|       null|      null|    null|            null|  null|       null|        null|          1|\n",
      "|    15000|      15000|        15000.0| 36 months|    9.91|     483.38|    B|       B1|   2 years|      MORTGAGE|   92000.0|           Verified|       credit_card|29.44|          0|             0|                  null|                  null|       8|      0|    13707|      93.9|       31|                  f|      0.0|          0.0|   15823.48|       15823.48|        15000.0|       823.48|               0.0|       0.0|                    0.0|        2447.05|                         0|                       null|      INDIVIDUAL|            null|     null|                     null|             0|        null|       null|       null|      null|       null|       null|              null|        null|   null|       null|       null|      null|    null|            null|  null|       null|        null|          0|\n",
      "|    15000|      15000|         8725.0| 36 months|   14.27|     514.64|    C|       C2|   9 years|          RENT|   60000.0|       Not Verified|debt_consolidation|15.22|          0|             1|                  null|                  null|       7|      0|     5872|      57.6|       11|                  f|      0.0|          0.0|        0.0|            0.0|            0.0|          0.0|               0.0|       0.0|                    0.0|            0.0|                         0|                       null|      INDIVIDUAL|            null|     null|                     null|             0|        null|       null|       null|      null|       null|       null|              null|        null|   null|       null|       null|      null|    null|            null|  null|       null|        null|          1|\n",
      "|     5000|       5000|         5000.0| 60 months|   16.77|     123.65|    D|       D2|   2 years|          RENT|   50004.0|       Not Verified|             other|13.97|          3|             0|                    20|                  null|      14|      0|     4345|      59.5|       22|                  f|      0.0|          0.0|    1609.12|        1609.12|         629.05|       719.11|               0.0|    260.96|                    2.3|         123.65|                         0|                       null|      INDIVIDUAL|            null|     null|                     null|             0|        null|       null|       null|      null|       null|       null|              null|        null|   null|       null|       null|      null|    null|            null|  null|       null|        null|          1|\n",
      "+---------+-----------+---------------+----------+--------+-----------+-----+---------+----------+--------------+----------+-------------------+------------------+-----+-----------+--------------+----------------------+----------------------+--------+-------+---------+----------+---------+-------------------+---------+-------------+-----------+---------------+---------------+-------------+------------------+----------+-----------------------+---------------+--------------------------+---------------------------+----------------+----------------+---------+-------------------------+--------------+------------+-----------+-----------+----------+-----------+-----------+------------------+------------+-------+-----------+-----------+----------+--------+----------------+------+-----------+------------+-----------+\n",
      "only showing top 20 rows\n",
      "\n"
     ]
    }
   ],
   "source": [
    "df.show()"
   ]
  },
  {
   "cell_type": "code",
   "execution_count": 176,
   "metadata": {},
   "outputs": [
    {
     "data": {
      "application/vnd.plotly.v1+json": {
       "config": {
        "plotlyServerURL": "https://plot.ly"
       },
       "data": [
        {
         "domain": {
          "x": [
           0,
           1
          ],
          "y": [
           0,
           1
          ]
         },
         "hovertemplate": "initial_list_status=%{label}<br>count=%{value}<extra></extra>",
         "labels": [
          "f",
          "w"
         ],
         "legendgroup": "",
         "name": "",
         "showlegend": true,
         "type": "pie",
         "values": [
          399327,
          404747
         ]
        }
       ],
       "layout": {
        "legend": {
         "tracegroupgap": 0
        },
        "margin": {
         "t": 60
        },
        "template": {
         "data": {
          "bar": [
           {
            "error_x": {
             "color": "#2a3f5f"
            },
            "error_y": {
             "color": "#2a3f5f"
            },
            "marker": {
             "line": {
              "color": "#E5ECF6",
              "width": 0.5
             },
             "pattern": {
              "fillmode": "overlay",
              "size": 10,
              "solidity": 0.2
             }
            },
            "type": "bar"
           }
          ],
          "barpolar": [
           {
            "marker": {
             "line": {
              "color": "#E5ECF6",
              "width": 0.5
             },
             "pattern": {
              "fillmode": "overlay",
              "size": 10,
              "solidity": 0.2
             }
            },
            "type": "barpolar"
           }
          ],
          "carpet": [
           {
            "aaxis": {
             "endlinecolor": "#2a3f5f",
             "gridcolor": "white",
             "linecolor": "white",
             "minorgridcolor": "white",
             "startlinecolor": "#2a3f5f"
            },
            "baxis": {
             "endlinecolor": "#2a3f5f",
             "gridcolor": "white",
             "linecolor": "white",
             "minorgridcolor": "white",
             "startlinecolor": "#2a3f5f"
            },
            "type": "carpet"
           }
          ],
          "choropleth": [
           {
            "colorbar": {
             "outlinewidth": 0,
             "ticks": ""
            },
            "type": "choropleth"
           }
          ],
          "contour": [
           {
            "colorbar": {
             "outlinewidth": 0,
             "ticks": ""
            },
            "colorscale": [
             [
              0,
              "#0d0887"
             ],
             [
              0.1111111111111111,
              "#46039f"
             ],
             [
              0.2222222222222222,
              "#7201a8"
             ],
             [
              0.3333333333333333,
              "#9c179e"
             ],
             [
              0.4444444444444444,
              "#bd3786"
             ],
             [
              0.5555555555555556,
              "#d8576b"
             ],
             [
              0.6666666666666666,
              "#ed7953"
             ],
             [
              0.7777777777777778,
              "#fb9f3a"
             ],
             [
              0.8888888888888888,
              "#fdca26"
             ],
             [
              1,
              "#f0f921"
             ]
            ],
            "type": "contour"
           }
          ],
          "contourcarpet": [
           {
            "colorbar": {
             "outlinewidth": 0,
             "ticks": ""
            },
            "type": "contourcarpet"
           }
          ],
          "heatmap": [
           {
            "colorbar": {
             "outlinewidth": 0,
             "ticks": ""
            },
            "colorscale": [
             [
              0,
              "#0d0887"
             ],
             [
              0.1111111111111111,
              "#46039f"
             ],
             [
              0.2222222222222222,
              "#7201a8"
             ],
             [
              0.3333333333333333,
              "#9c179e"
             ],
             [
              0.4444444444444444,
              "#bd3786"
             ],
             [
              0.5555555555555556,
              "#d8576b"
             ],
             [
              0.6666666666666666,
              "#ed7953"
             ],
             [
              0.7777777777777778,
              "#fb9f3a"
             ],
             [
              0.8888888888888888,
              "#fdca26"
             ],
             [
              1,
              "#f0f921"
             ]
            ],
            "type": "heatmap"
           }
          ],
          "heatmapgl": [
           {
            "colorbar": {
             "outlinewidth": 0,
             "ticks": ""
            },
            "colorscale": [
             [
              0,
              "#0d0887"
             ],
             [
              0.1111111111111111,
              "#46039f"
             ],
             [
              0.2222222222222222,
              "#7201a8"
             ],
             [
              0.3333333333333333,
              "#9c179e"
             ],
             [
              0.4444444444444444,
              "#bd3786"
             ],
             [
              0.5555555555555556,
              "#d8576b"
             ],
             [
              0.6666666666666666,
              "#ed7953"
             ],
             [
              0.7777777777777778,
              "#fb9f3a"
             ],
             [
              0.8888888888888888,
              "#fdca26"
             ],
             [
              1,
              "#f0f921"
             ]
            ],
            "type": "heatmapgl"
           }
          ],
          "histogram": [
           {
            "marker": {
             "pattern": {
              "fillmode": "overlay",
              "size": 10,
              "solidity": 0.2
             }
            },
            "type": "histogram"
           }
          ],
          "histogram2d": [
           {
            "colorbar": {
             "outlinewidth": 0,
             "ticks": ""
            },
            "colorscale": [
             [
              0,
              "#0d0887"
             ],
             [
              0.1111111111111111,
              "#46039f"
             ],
             [
              0.2222222222222222,
              "#7201a8"
             ],
             [
              0.3333333333333333,
              "#9c179e"
             ],
             [
              0.4444444444444444,
              "#bd3786"
             ],
             [
              0.5555555555555556,
              "#d8576b"
             ],
             [
              0.6666666666666666,
              "#ed7953"
             ],
             [
              0.7777777777777778,
              "#fb9f3a"
             ],
             [
              0.8888888888888888,
              "#fdca26"
             ],
             [
              1,
              "#f0f921"
             ]
            ],
            "type": "histogram2d"
           }
          ],
          "histogram2dcontour": [
           {
            "colorbar": {
             "outlinewidth": 0,
             "ticks": ""
            },
            "colorscale": [
             [
              0,
              "#0d0887"
             ],
             [
              0.1111111111111111,
              "#46039f"
             ],
             [
              0.2222222222222222,
              "#7201a8"
             ],
             [
              0.3333333333333333,
              "#9c179e"
             ],
             [
              0.4444444444444444,
              "#bd3786"
             ],
             [
              0.5555555555555556,
              "#d8576b"
             ],
             [
              0.6666666666666666,
              "#ed7953"
             ],
             [
              0.7777777777777778,
              "#fb9f3a"
             ],
             [
              0.8888888888888888,
              "#fdca26"
             ],
             [
              1,
              "#f0f921"
             ]
            ],
            "type": "histogram2dcontour"
           }
          ],
          "mesh3d": [
           {
            "colorbar": {
             "outlinewidth": 0,
             "ticks": ""
            },
            "type": "mesh3d"
           }
          ],
          "parcoords": [
           {
            "line": {
             "colorbar": {
              "outlinewidth": 0,
              "ticks": ""
             }
            },
            "type": "parcoords"
           }
          ],
          "pie": [
           {
            "automargin": true,
            "type": "pie"
           }
          ],
          "scatter": [
           {
            "fillpattern": {
             "fillmode": "overlay",
             "size": 10,
             "solidity": 0.2
            },
            "type": "scatter"
           }
          ],
          "scatter3d": [
           {
            "line": {
             "colorbar": {
              "outlinewidth": 0,
              "ticks": ""
             }
            },
            "marker": {
             "colorbar": {
              "outlinewidth": 0,
              "ticks": ""
             }
            },
            "type": "scatter3d"
           }
          ],
          "scattercarpet": [
           {
            "marker": {
             "colorbar": {
              "outlinewidth": 0,
              "ticks": ""
             }
            },
            "type": "scattercarpet"
           }
          ],
          "scattergeo": [
           {
            "marker": {
             "colorbar": {
              "outlinewidth": 0,
              "ticks": ""
             }
            },
            "type": "scattergeo"
           }
          ],
          "scattergl": [
           {
            "marker": {
             "colorbar": {
              "outlinewidth": 0,
              "ticks": ""
             }
            },
            "type": "scattergl"
           }
          ],
          "scattermapbox": [
           {
            "marker": {
             "colorbar": {
              "outlinewidth": 0,
              "ticks": ""
             }
            },
            "type": "scattermapbox"
           }
          ],
          "scatterpolar": [
           {
            "marker": {
             "colorbar": {
              "outlinewidth": 0,
              "ticks": ""
             }
            },
            "type": "scatterpolar"
           }
          ],
          "scatterpolargl": [
           {
            "marker": {
             "colorbar": {
              "outlinewidth": 0,
              "ticks": ""
             }
            },
            "type": "scatterpolargl"
           }
          ],
          "scatterternary": [
           {
            "marker": {
             "colorbar": {
              "outlinewidth": 0,
              "ticks": ""
             }
            },
            "type": "scatterternary"
           }
          ],
          "surface": [
           {
            "colorbar": {
             "outlinewidth": 0,
             "ticks": ""
            },
            "colorscale": [
             [
              0,
              "#0d0887"
             ],
             [
              0.1111111111111111,
              "#46039f"
             ],
             [
              0.2222222222222222,
              "#7201a8"
             ],
             [
              0.3333333333333333,
              "#9c179e"
             ],
             [
              0.4444444444444444,
              "#bd3786"
             ],
             [
              0.5555555555555556,
              "#d8576b"
             ],
             [
              0.6666666666666666,
              "#ed7953"
             ],
             [
              0.7777777777777778,
              "#fb9f3a"
             ],
             [
              0.8888888888888888,
              "#fdca26"
             ],
             [
              1,
              "#f0f921"
             ]
            ],
            "type": "surface"
           }
          ],
          "table": [
           {
            "cells": {
             "fill": {
              "color": "#EBF0F8"
             },
             "line": {
              "color": "white"
             }
            },
            "header": {
             "fill": {
              "color": "#C8D4E3"
             },
             "line": {
              "color": "white"
             }
            },
            "type": "table"
           }
          ]
         },
         "layout": {
          "annotationdefaults": {
           "arrowcolor": "#2a3f5f",
           "arrowhead": 0,
           "arrowwidth": 1
          },
          "autotypenumbers": "strict",
          "coloraxis": {
           "colorbar": {
            "outlinewidth": 0,
            "ticks": ""
           }
          },
          "colorscale": {
           "diverging": [
            [
             0,
             "#8e0152"
            ],
            [
             0.1,
             "#c51b7d"
            ],
            [
             0.2,
             "#de77ae"
            ],
            [
             0.3,
             "#f1b6da"
            ],
            [
             0.4,
             "#fde0ef"
            ],
            [
             0.5,
             "#f7f7f7"
            ],
            [
             0.6,
             "#e6f5d0"
            ],
            [
             0.7,
             "#b8e186"
            ],
            [
             0.8,
             "#7fbc41"
            ],
            [
             0.9,
             "#4d9221"
            ],
            [
             1,
             "#276419"
            ]
           ],
           "sequential": [
            [
             0,
             "#0d0887"
            ],
            [
             0.1111111111111111,
             "#46039f"
            ],
            [
             0.2222222222222222,
             "#7201a8"
            ],
            [
             0.3333333333333333,
             "#9c179e"
            ],
            [
             0.4444444444444444,
             "#bd3786"
            ],
            [
             0.5555555555555556,
             "#d8576b"
            ],
            [
             0.6666666666666666,
             "#ed7953"
            ],
            [
             0.7777777777777778,
             "#fb9f3a"
            ],
            [
             0.8888888888888888,
             "#fdca26"
            ],
            [
             1,
             "#f0f921"
            ]
           ],
           "sequentialminus": [
            [
             0,
             "#0d0887"
            ],
            [
             0.1111111111111111,
             "#46039f"
            ],
            [
             0.2222222222222222,
             "#7201a8"
            ],
            [
             0.3333333333333333,
             "#9c179e"
            ],
            [
             0.4444444444444444,
             "#bd3786"
            ],
            [
             0.5555555555555556,
             "#d8576b"
            ],
            [
             0.6666666666666666,
             "#ed7953"
            ],
            [
             0.7777777777777778,
             "#fb9f3a"
            ],
            [
             0.8888888888888888,
             "#fdca26"
            ],
            [
             1,
             "#f0f921"
            ]
           ]
          },
          "colorway": [
           "#636efa",
           "#EF553B",
           "#00cc96",
           "#ab63fa",
           "#FFA15A",
           "#19d3f3",
           "#FF6692",
           "#B6E880",
           "#FF97FF",
           "#FECB52"
          ],
          "font": {
           "color": "#2a3f5f"
          },
          "geo": {
           "bgcolor": "white",
           "lakecolor": "white",
           "landcolor": "#E5ECF6",
           "showlakes": true,
           "showland": true,
           "subunitcolor": "white"
          },
          "hoverlabel": {
           "align": "left"
          },
          "hovermode": "closest",
          "mapbox": {
           "style": "light"
          },
          "paper_bgcolor": "white",
          "plot_bgcolor": "#E5ECF6",
          "polar": {
           "angularaxis": {
            "gridcolor": "white",
            "linecolor": "white",
            "ticks": ""
           },
           "bgcolor": "#E5ECF6",
           "radialaxis": {
            "gridcolor": "white",
            "linecolor": "white",
            "ticks": ""
           }
          },
          "scene": {
           "xaxis": {
            "backgroundcolor": "#E5ECF6",
            "gridcolor": "white",
            "gridwidth": 2,
            "linecolor": "white",
            "showbackground": true,
            "ticks": "",
            "zerolinecolor": "white"
           },
           "yaxis": {
            "backgroundcolor": "#E5ECF6",
            "gridcolor": "white",
            "gridwidth": 2,
            "linecolor": "white",
            "showbackground": true,
            "ticks": "",
            "zerolinecolor": "white"
           },
           "zaxis": {
            "backgroundcolor": "#E5ECF6",
            "gridcolor": "white",
            "gridwidth": 2,
            "linecolor": "white",
            "showbackground": true,
            "ticks": "",
            "zerolinecolor": "white"
           }
          },
          "shapedefaults": {
           "line": {
            "color": "#2a3f5f"
           }
          },
          "ternary": {
           "aaxis": {
            "gridcolor": "white",
            "linecolor": "white",
            "ticks": ""
           },
           "baxis": {
            "gridcolor": "white",
            "linecolor": "white",
            "ticks": ""
           },
           "bgcolor": "#E5ECF6",
           "caxis": {
            "gridcolor": "white",
            "linecolor": "white",
            "ticks": ""
           }
          },
          "title": {
           "x": 0.05
          },
          "xaxis": {
           "automargin": true,
           "gridcolor": "white",
           "linecolor": "white",
           "ticks": "",
           "title": {
            "standoff": 15
           },
           "zerolinecolor": "white",
           "zerolinewidth": 2
          },
          "yaxis": {
           "automargin": true,
           "gridcolor": "white",
           "linecolor": "white",
           "ticks": "",
           "title": {
            "standoff": 15
           },
           "zerolinecolor": "white",
           "zerolinewidth": 2
          }
         }
        }
       }
      }
     },
     "metadata": {},
     "output_type": "display_data"
    }
   ],
   "source": [
    "df.select(['initial_list_status']).groupby(['initial_list_status']).count().to_pandas_on_spark(index_col='initial_list_status').plot.pie(y='count')"
   ]
  },
  {
   "cell_type": "code",
   "execution_count": 177,
   "metadata": {},
   "outputs": [
    {
     "name": "stdout",
     "output_type": "stream",
     "text": [
      "+-----------+---------------+\n",
      "|funded_amnt|funded_amnt_inv|\n",
      "+-----------+---------------+\n",
      "|       5000|         4975.0|\n",
      "|       2500|         2500.0|\n",
      "|       2400|         2400.0|\n",
      "|       5000|         5000.0|\n",
      "|       3000|         3000.0|\n",
      "+-----------+---------------+\n",
      "only showing top 5 rows\n",
      "\n"
     ]
    }
   ],
   "source": [
    "df.select('funded_amnt', 'funded_amnt_inv').show(5)"
   ]
  },
  {
   "cell_type": "code",
   "execution_count": 178,
   "metadata": {},
   "outputs": [
    {
     "data": {
      "text/plain": [
       "722842"
      ]
     },
     "execution_count": 178,
     "metadata": {},
     "output_type": "execute_result"
    }
   ],
   "source": [
    "df.select('funded_amnt', 'funded_amnt_inv').filter(df['funded_amnt'] == df['funded_amnt_inv']).count()"
   ]
  },
  {
   "cell_type": "code",
   "execution_count": 179,
   "metadata": {},
   "outputs": [
    {
     "data": {
      "text/plain": [
       "81232"
      ]
     },
     "execution_count": 179,
     "metadata": {},
     "output_type": "execute_result"
    }
   ],
   "source": [
    "df.select('funded_amnt', 'funded_amnt_inv').filter(df['funded_amnt'] > df['funded_amnt_inv']).count()"
   ]
  },
  {
   "cell_type": "code",
   "execution_count": 180,
   "metadata": {},
   "outputs": [
    {
     "data": {
      "text/plain": [
       "755007"
      ]
     },
     "execution_count": 180,
     "metadata": {},
     "output_type": "execute_result"
    }
   ],
   "source": [
    "df.select('out_prncp', 'out_prncp_inv').filter(df['out_prncp'] == df['out_prncp_inv']).count()"
   ]
  },
  {
   "attachments": {},
   "cell_type": "markdown",
   "metadata": {},
   "source": [
    "The majority of the `funded_amnt_inv` and `out_prncp_inv` seems to be identical with the `funded_amnt` and `out_prncp` respectively. Furthermore, information about payout and investment of investor does not seem to concern with the loan itself. Therefore these two columns will be removed"
   ]
  },
  {
   "cell_type": "code",
   "execution_count": 181,
   "metadata": {},
   "outputs": [],
   "source": [
    "df = df.drop('funded_amnt_inv', 'out_prncp_inv')"
   ]
  },
  {
   "cell_type": "code",
   "execution_count": 182,
   "metadata": {},
   "outputs": [
    {
     "name": "stdout",
     "output_type": "stream",
     "text": [
      "+---------+-----------+----------+--------+-----------+-----+---------+----------+--------------+----------+-------------------+--------------+-----+-----------+--------------+----------------------+----------------------+--------+-------+---------+----------+---------+-------------------+---------+-----------+---------------+---------------+-------------+------------------+----------+-----------------------+---------------+--------------------------+---------------------------+----------------+----------------+---------+-------------------------+--------------+------------+-----------+-----------+----------+-----------+-----------+------------------+------------+-------+-----------+-----------+----------+--------+----------------+------+-----------+------------+-----------+\n",
      "|loan_amnt|funded_amnt|      term|int_rate|installment|grade|sub_grade|emp_length|home_ownership|annual_inc|verification_status|       purpose|  dti|delinq_2yrs|inq_last_6mths|mths_since_last_delinq|mths_since_last_record|open_acc|pub_rec|revol_bal|revol_util|total_acc|initial_list_status|out_prncp|total_pymnt|total_pymnt_inv|total_rec_prncp|total_rec_int|total_rec_late_fee|recoveries|collection_recovery_fee|last_pymnt_amnt|collections_12_mths_ex_med|mths_since_last_major_derog|application_type|annual_inc_joint|dti_joint|verification_status_joint|acc_now_delinq|tot_coll_amt|tot_cur_bal|open_acc_6m|open_il_6m|open_il_12m|open_il_24m|mths_since_rcnt_il|total_bal_il|il_util|open_rv_12m|open_rv_24m|max_bal_bc|all_util|total_rev_hi_lim|inq_fi|total_cu_tl|inq_last_12m|default_ind|\n",
      "+---------+-----------+----------+--------+-----------+-----+---------+----------+--------------+----------+-------------------+--------------+-----+-----------+--------------+----------------------+----------------------+--------+-------+---------+----------+---------+-------------------+---------+-----------+---------------+---------------+-------------+------------------+----------+-----------------------+---------------+--------------------------+---------------------------+----------------+----------------+---------+-------------------------+--------------+------------+-----------+-----------+----------+-----------+-----------+------------------+------------+-------+-----------+-----------+----------+--------+----------------+------+-----------+------------+-----------+\n",
      "|     5000|       5000| 36 months|   10.65|     162.87|    B|       B2| 10+ years|          RENT|   24000.0|           Verified|   credit_card|27.65|          0|             1|                  null|                  null|       3|      0|    13648|      83.7|        9|                  f|      0.0|5861.071414|        5831.78|         5000.0|       861.07|               0.0|       0.0|                    0.0|         171.62|                         0|                       null|      INDIVIDUAL|            null|     null|                     null|             0|        null|       null|       null|      null|       null|       null|              null|        null|   null|       null|       null|      null|    null|            null|  null|       null|        null|          0|\n",
      "|     2500|       2500| 60 months|   15.27|      59.83|    C|       C4|  < 1 year|          RENT|   30000.0|    Source Verified|           car|  1.0|          0|             5|                  null|                  null|       3|      0|     1687|       9.4|        4|                  f|      0.0|    1008.71|        1008.71|         456.46|       435.17|               0.0|    117.08|                   1.11|         119.66|                         0|                       null|      INDIVIDUAL|            null|     null|                     null|             0|        null|       null|       null|      null|       null|       null|              null|        null|   null|       null|       null|      null|    null|            null|  null|       null|        null|          1|\n",
      "|     2400|       2400| 36 months|   15.96|      84.33|    C|       C5| 10+ years|          RENT|   12252.0|       Not Verified|small_business| 8.72|          0|             2|                  null|                  null|       2|      0|     2956|      98.5|       10|                  f|      0.0|3003.653644|        3003.65|         2400.0|       603.65|               0.0|       0.0|                    0.0|         649.91|                         0|                       null|      INDIVIDUAL|            null|     null|                     null|             0|        null|       null|       null|      null|       null|       null|              null|        null|   null|       null|       null|      null|    null|            null|  null|       null|        null|          0|\n",
      "|     5000|       5000| 36 months|     7.9|     156.46|    A|       A4|   3 years|          RENT|   36000.0|    Source Verified|       wedding| 11.2|          0|             3|                  null|                  null|       9|      0|     7963|      28.3|       12|                  f|      0.0|5631.377753|        5631.38|         5000.0|       631.38|               0.0|       0.0|                    0.0|         161.03|                         0|                       null|      INDIVIDUAL|            null|     null|                     null|             0|        null|       null|       null|      null|       null|       null|              null|        null|   null|       null|       null|      null|    null|            null|  null|       null|        null|          0|\n",
      "|     3000|       3000| 36 months|   18.64|     109.43|    E|       E1|   9 years|          RENT|   48000.0|    Source Verified|           car| 5.35|          0|             2|                  null|                  null|       4|      0|     8221|      87.5|        4|                  f|      0.0|3938.144334|        3938.14|         3000.0|       938.14|               0.0|       0.0|                    0.0|         111.34|                         0|                       null|      INDIVIDUAL|            null|     null|                     null|             0|        null|       null|       null|      null|       null|       null|              null|        null|   null|       null|       null|      null|    null|            null|  null|       null|        null|          0|\n",
      "+---------+-----------+----------+--------+-----------+-----+---------+----------+--------------+----------+-------------------+--------------+-----+-----------+--------------+----------------------+----------------------+--------+-------+---------+----------+---------+-------------------+---------+-----------+---------------+---------------+-------------+------------------+----------+-----------------------+---------------+--------------------------+---------------------------+----------------+----------------+---------+-------------------------+--------------+------------+-----------+-----------+----------+-----------+-----------+------------------+------------+-------+-----------+-----------+----------+--------+----------------+------+-----------+------------+-----------+\n",
      "only showing top 5 rows\n",
      "\n"
     ]
    }
   ],
   "source": [
    "df.show(5)"
   ]
  },
  {
   "cell_type": "code",
   "execution_count": 183,
   "metadata": {},
   "outputs": [
    {
     "name": "stdout",
     "output_type": "stream",
     "text": [
      "+--------------------------+------+\n",
      "|collections_12_mths_ex_med| count|\n",
      "+--------------------------+------+\n",
      "|                      null|    34|\n",
      "|                         1| 10159|\n",
      "|                         2|   704|\n",
      "|                         0|793062|\n",
      "|                         3|    79|\n",
      "|                         6|     2|\n",
      "|                        16|     1|\n",
      "|                        20|     1|\n",
      "|                         4|    22|\n",
      "|                         5|     7|\n",
      "|                         7|     1|\n",
      "|                        10|     1|\n",
      "|                        14|     1|\n",
      "+--------------------------+------+\n",
      "\n"
     ]
    }
   ],
   "source": [
    "df.select('collections_12_mths_ex_med').groupBy('collections_12_mths_ex_med').count().show()"
   ]
  },
  {
   "attachments": {},
   "cell_type": "markdown",
   "metadata": {},
   "source": [
    "The majority of the `collections_12_mths_ex_med` are 0, let's see if there's any impact of this column when its more than 0 on the `default_ind`"
   ]
  },
  {
   "cell_type": "code",
   "execution_count": 184,
   "metadata": {},
   "outputs": [
    {
     "data": {
      "text/plain": [
       "10978"
      ]
     },
     "execution_count": 184,
     "metadata": {},
     "output_type": "execute_result"
    }
   ],
   "source": [
    "df.filter((df['collections_12_mths_ex_med'] > 0)).count()"
   ]
  },
  {
   "cell_type": "code",
   "execution_count": 185,
   "metadata": {},
   "outputs": [
    {
     "data": {
      "text/plain": [
       "357"
      ]
     },
     "execution_count": 185,
     "metadata": {},
     "output_type": "execute_result"
    }
   ],
   "source": [
    "df.filter((df['collections_12_mths_ex_med'] > 0) & (df['default_ind'] == 1)).count()"
   ]
  },
  {
   "attachments": {},
   "cell_type": "markdown",
   "metadata": {},
   "source": [
    "=> The majority of the values when `collections_12_mths_ex_med` > 0 end up as non-default "
   ]
  },
  {
   "attachments": {},
   "cell_type": "markdown",
   "metadata": {},
   "source": [
    "## Observation on `null` data fields:"
   ]
  },
  {
   "cell_type": "code",
   "execution_count": 186,
   "metadata": {},
   "outputs": [],
   "source": [
    "null_dict = {col : df.filter(df[col].isNull()).count() for col in df.columns}"
   ]
  },
  {
   "cell_type": "code",
   "execution_count": 187,
   "metadata": {},
   "outputs": [
    {
     "data": {
      "text/plain": [
       "{'loan_amnt': 0,\n",
       " 'funded_amnt': 0,\n",
       " 'term': 0,\n",
       " 'int_rate': 0,\n",
       " 'installment': 0,\n",
       " 'grade': 0,\n",
       " 'sub_grade': 0,\n",
       " 'emp_length': 0,\n",
       " 'home_ownership': 0,\n",
       " 'annual_inc': 0,\n",
       " 'verification_status': 0,\n",
       " 'purpose': 0,\n",
       " 'dti': 0,\n",
       " 'delinq_2yrs': 0,\n",
       " 'inq_last_6mths': 0,\n",
       " 'mths_since_last_delinq': 408833,\n",
       " 'mths_since_last_record': 677326,\n",
       " 'open_acc': 0,\n",
       " 'pub_rec': 0,\n",
       " 'revol_bal': 0,\n",
       " 'revol_util': 401,\n",
       " 'total_acc': 0,\n",
       " 'initial_list_status': 0,\n",
       " 'out_prncp': 0,\n",
       " 'total_pymnt': 0,\n",
       " 'total_pymnt_inv': 0,\n",
       " 'total_rec_prncp': 0,\n",
       " 'total_rec_int': 0,\n",
       " 'total_rec_late_fee': 0,\n",
       " 'recoveries': 0,\n",
       " 'collection_recovery_fee': 0,\n",
       " 'last_pymnt_amnt': 0,\n",
       " 'collections_12_mths_ex_med': 34,\n",
       " 'mths_since_last_major_derog': 597237,\n",
       " 'application_type': 0,\n",
       " 'annual_inc_joint': 803633,\n",
       " 'dti_joint': 803633,\n",
       " 'verification_status_joint': 803633,\n",
       " 'acc_now_delinq': 0,\n",
       " 'tot_coll_amt': 45453,\n",
       " 'tot_cur_bal': 45453,\n",
       " 'open_acc_6m': 790893,\n",
       " 'open_il_6m': 790893,\n",
       " 'open_il_12m': 790893,\n",
       " 'open_il_24m': 790893,\n",
       " 'mths_since_rcnt_il': 791244,\n",
       " 'total_bal_il': 790893,\n",
       " 'il_util': 792561,\n",
       " 'open_rv_12m': 790893,\n",
       " 'open_rv_24m': 790893,\n",
       " 'max_bal_bc': 790893,\n",
       " 'all_util': 790893,\n",
       " 'total_rev_hi_lim': 45453,\n",
       " 'inq_fi': 790893,\n",
       " 'total_cu_tl': 790893,\n",
       " 'inq_last_12m': 790893,\n",
       " 'default_ind': 0}"
      ]
     },
     "execution_count": 187,
     "metadata": {},
     "output_type": "execute_result"
    }
   ],
   "source": [
    "null_dict"
   ]
  },
  {
   "attachments": {},
   "cell_type": "markdown",
   "metadata": {},
   "source": [
    "- all `*_joint` columns (`annual_inc_joint`, `dti_joint`, `verification_status_joint`) have 803633 null values, equivalent to the number of `INDIVIDUAL` `application_type` rows -> Therefore, only the `application_type` of `JOINT` will have these columns filled\n",
    "\n",
    "Sometime null does not mean we are missing data\n",
    "- `null` value for `mths_since_last_delinq` indicate that this borrower does not have any delinquencies (does not behind on payment) record.\n",
    "- `null` value for `mths_since_last_record` indicate that this borrower does not have any public record (does not have any public records of bankruptcy and judgement information)\n",
    "- `null` value for `mths_since_last_major_derog` indicate that this borrower does not have any worse rating in the last 90 days\n"
   ]
  },
  {
   "cell_type": "code",
   "execution_count": 188,
   "metadata": {},
   "outputs": [
    {
     "data": {
      "application/vnd.plotly.v1+json": {
       "config": {
        "plotlyServerURL": "https://plot.ly"
       },
       "data": [
        {
         "domain": {
          "x": [
           0,
           1
          ],
          "y": [
           0,
           1
          ]
         },
         "hovertemplate": "application_type=%{label}<br>count=%{value}<extra></extra>",
         "labels": [
          "INDIVIDUAL",
          "JOINT"
         ],
         "legendgroup": "",
         "name": "",
         "showlegend": true,
         "type": "pie",
         "values": [
          803633,
          441
         ]
        }
       ],
       "layout": {
        "legend": {
         "tracegroupgap": 0
        },
        "margin": {
         "t": 60
        },
        "template": {
         "data": {
          "bar": [
           {
            "error_x": {
             "color": "#2a3f5f"
            },
            "error_y": {
             "color": "#2a3f5f"
            },
            "marker": {
             "line": {
              "color": "#E5ECF6",
              "width": 0.5
             },
             "pattern": {
              "fillmode": "overlay",
              "size": 10,
              "solidity": 0.2
             }
            },
            "type": "bar"
           }
          ],
          "barpolar": [
           {
            "marker": {
             "line": {
              "color": "#E5ECF6",
              "width": 0.5
             },
             "pattern": {
              "fillmode": "overlay",
              "size": 10,
              "solidity": 0.2
             }
            },
            "type": "barpolar"
           }
          ],
          "carpet": [
           {
            "aaxis": {
             "endlinecolor": "#2a3f5f",
             "gridcolor": "white",
             "linecolor": "white",
             "minorgridcolor": "white",
             "startlinecolor": "#2a3f5f"
            },
            "baxis": {
             "endlinecolor": "#2a3f5f",
             "gridcolor": "white",
             "linecolor": "white",
             "minorgridcolor": "white",
             "startlinecolor": "#2a3f5f"
            },
            "type": "carpet"
           }
          ],
          "choropleth": [
           {
            "colorbar": {
             "outlinewidth": 0,
             "ticks": ""
            },
            "type": "choropleth"
           }
          ],
          "contour": [
           {
            "colorbar": {
             "outlinewidth": 0,
             "ticks": ""
            },
            "colorscale": [
             [
              0,
              "#0d0887"
             ],
             [
              0.1111111111111111,
              "#46039f"
             ],
             [
              0.2222222222222222,
              "#7201a8"
             ],
             [
              0.3333333333333333,
              "#9c179e"
             ],
             [
              0.4444444444444444,
              "#bd3786"
             ],
             [
              0.5555555555555556,
              "#d8576b"
             ],
             [
              0.6666666666666666,
              "#ed7953"
             ],
             [
              0.7777777777777778,
              "#fb9f3a"
             ],
             [
              0.8888888888888888,
              "#fdca26"
             ],
             [
              1,
              "#f0f921"
             ]
            ],
            "type": "contour"
           }
          ],
          "contourcarpet": [
           {
            "colorbar": {
             "outlinewidth": 0,
             "ticks": ""
            },
            "type": "contourcarpet"
           }
          ],
          "heatmap": [
           {
            "colorbar": {
             "outlinewidth": 0,
             "ticks": ""
            },
            "colorscale": [
             [
              0,
              "#0d0887"
             ],
             [
              0.1111111111111111,
              "#46039f"
             ],
             [
              0.2222222222222222,
              "#7201a8"
             ],
             [
              0.3333333333333333,
              "#9c179e"
             ],
             [
              0.4444444444444444,
              "#bd3786"
             ],
             [
              0.5555555555555556,
              "#d8576b"
             ],
             [
              0.6666666666666666,
              "#ed7953"
             ],
             [
              0.7777777777777778,
              "#fb9f3a"
             ],
             [
              0.8888888888888888,
              "#fdca26"
             ],
             [
              1,
              "#f0f921"
             ]
            ],
            "type": "heatmap"
           }
          ],
          "heatmapgl": [
           {
            "colorbar": {
             "outlinewidth": 0,
             "ticks": ""
            },
            "colorscale": [
             [
              0,
              "#0d0887"
             ],
             [
              0.1111111111111111,
              "#46039f"
             ],
             [
              0.2222222222222222,
              "#7201a8"
             ],
             [
              0.3333333333333333,
              "#9c179e"
             ],
             [
              0.4444444444444444,
              "#bd3786"
             ],
             [
              0.5555555555555556,
              "#d8576b"
             ],
             [
              0.6666666666666666,
              "#ed7953"
             ],
             [
              0.7777777777777778,
              "#fb9f3a"
             ],
             [
              0.8888888888888888,
              "#fdca26"
             ],
             [
              1,
              "#f0f921"
             ]
            ],
            "type": "heatmapgl"
           }
          ],
          "histogram": [
           {
            "marker": {
             "pattern": {
              "fillmode": "overlay",
              "size": 10,
              "solidity": 0.2
             }
            },
            "type": "histogram"
           }
          ],
          "histogram2d": [
           {
            "colorbar": {
             "outlinewidth": 0,
             "ticks": ""
            },
            "colorscale": [
             [
              0,
              "#0d0887"
             ],
             [
              0.1111111111111111,
              "#46039f"
             ],
             [
              0.2222222222222222,
              "#7201a8"
             ],
             [
              0.3333333333333333,
              "#9c179e"
             ],
             [
              0.4444444444444444,
              "#bd3786"
             ],
             [
              0.5555555555555556,
              "#d8576b"
             ],
             [
              0.6666666666666666,
              "#ed7953"
             ],
             [
              0.7777777777777778,
              "#fb9f3a"
             ],
             [
              0.8888888888888888,
              "#fdca26"
             ],
             [
              1,
              "#f0f921"
             ]
            ],
            "type": "histogram2d"
           }
          ],
          "histogram2dcontour": [
           {
            "colorbar": {
             "outlinewidth": 0,
             "ticks": ""
            },
            "colorscale": [
             [
              0,
              "#0d0887"
             ],
             [
              0.1111111111111111,
              "#46039f"
             ],
             [
              0.2222222222222222,
              "#7201a8"
             ],
             [
              0.3333333333333333,
              "#9c179e"
             ],
             [
              0.4444444444444444,
              "#bd3786"
             ],
             [
              0.5555555555555556,
              "#d8576b"
             ],
             [
              0.6666666666666666,
              "#ed7953"
             ],
             [
              0.7777777777777778,
              "#fb9f3a"
             ],
             [
              0.8888888888888888,
              "#fdca26"
             ],
             [
              1,
              "#f0f921"
             ]
            ],
            "type": "histogram2dcontour"
           }
          ],
          "mesh3d": [
           {
            "colorbar": {
             "outlinewidth": 0,
             "ticks": ""
            },
            "type": "mesh3d"
           }
          ],
          "parcoords": [
           {
            "line": {
             "colorbar": {
              "outlinewidth": 0,
              "ticks": ""
             }
            },
            "type": "parcoords"
           }
          ],
          "pie": [
           {
            "automargin": true,
            "type": "pie"
           }
          ],
          "scatter": [
           {
            "fillpattern": {
             "fillmode": "overlay",
             "size": 10,
             "solidity": 0.2
            },
            "type": "scatter"
           }
          ],
          "scatter3d": [
           {
            "line": {
             "colorbar": {
              "outlinewidth": 0,
              "ticks": ""
             }
            },
            "marker": {
             "colorbar": {
              "outlinewidth": 0,
              "ticks": ""
             }
            },
            "type": "scatter3d"
           }
          ],
          "scattercarpet": [
           {
            "marker": {
             "colorbar": {
              "outlinewidth": 0,
              "ticks": ""
             }
            },
            "type": "scattercarpet"
           }
          ],
          "scattergeo": [
           {
            "marker": {
             "colorbar": {
              "outlinewidth": 0,
              "ticks": ""
             }
            },
            "type": "scattergeo"
           }
          ],
          "scattergl": [
           {
            "marker": {
             "colorbar": {
              "outlinewidth": 0,
              "ticks": ""
             }
            },
            "type": "scattergl"
           }
          ],
          "scattermapbox": [
           {
            "marker": {
             "colorbar": {
              "outlinewidth": 0,
              "ticks": ""
             }
            },
            "type": "scattermapbox"
           }
          ],
          "scatterpolar": [
           {
            "marker": {
             "colorbar": {
              "outlinewidth": 0,
              "ticks": ""
             }
            },
            "type": "scatterpolar"
           }
          ],
          "scatterpolargl": [
           {
            "marker": {
             "colorbar": {
              "outlinewidth": 0,
              "ticks": ""
             }
            },
            "type": "scatterpolargl"
           }
          ],
          "scatterternary": [
           {
            "marker": {
             "colorbar": {
              "outlinewidth": 0,
              "ticks": ""
             }
            },
            "type": "scatterternary"
           }
          ],
          "surface": [
           {
            "colorbar": {
             "outlinewidth": 0,
             "ticks": ""
            },
            "colorscale": [
             [
              0,
              "#0d0887"
             ],
             [
              0.1111111111111111,
              "#46039f"
             ],
             [
              0.2222222222222222,
              "#7201a8"
             ],
             [
              0.3333333333333333,
              "#9c179e"
             ],
             [
              0.4444444444444444,
              "#bd3786"
             ],
             [
              0.5555555555555556,
              "#d8576b"
             ],
             [
              0.6666666666666666,
              "#ed7953"
             ],
             [
              0.7777777777777778,
              "#fb9f3a"
             ],
             [
              0.8888888888888888,
              "#fdca26"
             ],
             [
              1,
              "#f0f921"
             ]
            ],
            "type": "surface"
           }
          ],
          "table": [
           {
            "cells": {
             "fill": {
              "color": "#EBF0F8"
             },
             "line": {
              "color": "white"
             }
            },
            "header": {
             "fill": {
              "color": "#C8D4E3"
             },
             "line": {
              "color": "white"
             }
            },
            "type": "table"
           }
          ]
         },
         "layout": {
          "annotationdefaults": {
           "arrowcolor": "#2a3f5f",
           "arrowhead": 0,
           "arrowwidth": 1
          },
          "autotypenumbers": "strict",
          "coloraxis": {
           "colorbar": {
            "outlinewidth": 0,
            "ticks": ""
           }
          },
          "colorscale": {
           "diverging": [
            [
             0,
             "#8e0152"
            ],
            [
             0.1,
             "#c51b7d"
            ],
            [
             0.2,
             "#de77ae"
            ],
            [
             0.3,
             "#f1b6da"
            ],
            [
             0.4,
             "#fde0ef"
            ],
            [
             0.5,
             "#f7f7f7"
            ],
            [
             0.6,
             "#e6f5d0"
            ],
            [
             0.7,
             "#b8e186"
            ],
            [
             0.8,
             "#7fbc41"
            ],
            [
             0.9,
             "#4d9221"
            ],
            [
             1,
             "#276419"
            ]
           ],
           "sequential": [
            [
             0,
             "#0d0887"
            ],
            [
             0.1111111111111111,
             "#46039f"
            ],
            [
             0.2222222222222222,
             "#7201a8"
            ],
            [
             0.3333333333333333,
             "#9c179e"
            ],
            [
             0.4444444444444444,
             "#bd3786"
            ],
            [
             0.5555555555555556,
             "#d8576b"
            ],
            [
             0.6666666666666666,
             "#ed7953"
            ],
            [
             0.7777777777777778,
             "#fb9f3a"
            ],
            [
             0.8888888888888888,
             "#fdca26"
            ],
            [
             1,
             "#f0f921"
            ]
           ],
           "sequentialminus": [
            [
             0,
             "#0d0887"
            ],
            [
             0.1111111111111111,
             "#46039f"
            ],
            [
             0.2222222222222222,
             "#7201a8"
            ],
            [
             0.3333333333333333,
             "#9c179e"
            ],
            [
             0.4444444444444444,
             "#bd3786"
            ],
            [
             0.5555555555555556,
             "#d8576b"
            ],
            [
             0.6666666666666666,
             "#ed7953"
            ],
            [
             0.7777777777777778,
             "#fb9f3a"
            ],
            [
             0.8888888888888888,
             "#fdca26"
            ],
            [
             1,
             "#f0f921"
            ]
           ]
          },
          "colorway": [
           "#636efa",
           "#EF553B",
           "#00cc96",
           "#ab63fa",
           "#FFA15A",
           "#19d3f3",
           "#FF6692",
           "#B6E880",
           "#FF97FF",
           "#FECB52"
          ],
          "font": {
           "color": "#2a3f5f"
          },
          "geo": {
           "bgcolor": "white",
           "lakecolor": "white",
           "landcolor": "#E5ECF6",
           "showlakes": true,
           "showland": true,
           "subunitcolor": "white"
          },
          "hoverlabel": {
           "align": "left"
          },
          "hovermode": "closest",
          "mapbox": {
           "style": "light"
          },
          "paper_bgcolor": "white",
          "plot_bgcolor": "#E5ECF6",
          "polar": {
           "angularaxis": {
            "gridcolor": "white",
            "linecolor": "white",
            "ticks": ""
           },
           "bgcolor": "#E5ECF6",
           "radialaxis": {
            "gridcolor": "white",
            "linecolor": "white",
            "ticks": ""
           }
          },
          "scene": {
           "xaxis": {
            "backgroundcolor": "#E5ECF6",
            "gridcolor": "white",
            "gridwidth": 2,
            "linecolor": "white",
            "showbackground": true,
            "ticks": "",
            "zerolinecolor": "white"
           },
           "yaxis": {
            "backgroundcolor": "#E5ECF6",
            "gridcolor": "white",
            "gridwidth": 2,
            "linecolor": "white",
            "showbackground": true,
            "ticks": "",
            "zerolinecolor": "white"
           },
           "zaxis": {
            "backgroundcolor": "#E5ECF6",
            "gridcolor": "white",
            "gridwidth": 2,
            "linecolor": "white",
            "showbackground": true,
            "ticks": "",
            "zerolinecolor": "white"
           }
          },
          "shapedefaults": {
           "line": {
            "color": "#2a3f5f"
           }
          },
          "ternary": {
           "aaxis": {
            "gridcolor": "white",
            "linecolor": "white",
            "ticks": ""
           },
           "baxis": {
            "gridcolor": "white",
            "linecolor": "white",
            "ticks": ""
           },
           "bgcolor": "#E5ECF6",
           "caxis": {
            "gridcolor": "white",
            "linecolor": "white",
            "ticks": ""
           }
          },
          "title": {
           "x": 0.05
          },
          "xaxis": {
           "automargin": true,
           "gridcolor": "white",
           "linecolor": "white",
           "ticks": "",
           "title": {
            "standoff": 15
           },
           "zerolinecolor": "white",
           "zerolinewidth": 2
          },
          "yaxis": {
           "automargin": true,
           "gridcolor": "white",
           "linecolor": "white",
           "ticks": "",
           "title": {
            "standoff": 15
           },
           "zerolinecolor": "white",
           "zerolinewidth": 2
          }
         }
        }
       }
      }
     },
     "metadata": {},
     "output_type": "display_data"
    }
   ],
   "source": [
    "df.groupby(['application_type']).count().to_pandas_on_spark(index_col=['application_type']).plot.pie(y='count')"
   ]
  },
  {
   "attachments": {},
   "cell_type": "markdown",
   "metadata": {},
   "source": [
    "The number of data with `application_type == 'JOINT'`  are heavily underrepresent"
   ]
  },
  {
   "attachments": {},
   "cell_type": "markdown",
   "metadata": {},
   "source": [
    "Checking if there's any default cases when `application_type == 'JOINT'`"
   ]
  },
  {
   "cell_type": "code",
   "execution_count": 189,
   "metadata": {},
   "outputs": [
    {
     "data": {
      "text/plain": [
       "0"
      ]
     },
     "execution_count": 189,
     "metadata": {},
     "output_type": "execute_result"
    }
   ],
   "source": [
    "df.filter((df['application_type'] == \"JOINT\") & (df['default_ind'] == '1')).count()"
   ]
  },
  {
   "attachments": {},
   "cell_type": "markdown",
   "metadata": {},
   "source": [
    "Base on the dataset, virutally no `default` happened when the `application_type == 'JOINT'`!"
   ]
  },
  {
   "cell_type": "code",
   "execution_count": 190,
   "metadata": {},
   "outputs": [
    {
     "data": {
      "text/plain": [
       "442"
      ]
     },
     "execution_count": 190,
     "metadata": {},
     "output_type": "execute_result"
    }
   ],
   "source": [
    "df_original.filter(df_original['application_type'] == \"JOINT\").count()"
   ]
  },
  {
   "attachments": {},
   "cell_type": "markdown",
   "metadata": {},
   "source": [
    "We only remove 1 `\"JOINT\"` account from cleaning the CSV dataset"
   ]
  },
  {
   "attachments": {},
   "cell_type": "markdown",
   "metadata": {},
   "source": [
    "Because of high percentage of missing values in the columns related to joint application, the columns related to this will be dropped"
   ]
  },
  {
   "cell_type": "code",
   "execution_count": 191,
   "metadata": {},
   "outputs": [],
   "source": [
    "df = df.drop(\"annual_inc_joint\", \"dti_joint\", \"verification_status_joint\")"
   ]
  },
  {
   "cell_type": "code",
   "execution_count": 192,
   "metadata": {},
   "outputs": [
    {
     "name": "stdout",
     "output_type": "stream",
     "text": [
      "+-------------------+------+\n",
      "|verification_status| count|\n",
      "+-------------------+------+\n",
      "|           Verified|259501|\n",
      "|    Source Verified|304870|\n",
      "|       Not Verified|239703|\n",
      "+-------------------+------+\n",
      "\n"
     ]
    }
   ],
   "source": [
    "df.groupBy(df['verification_status']).count().show()"
   ]
  },
  {
   "cell_type": "code",
   "execution_count": 193,
   "metadata": {},
   "outputs": [
    {
     "data": {
      "application/vnd.plotly.v1+json": {
       "config": {
        "plotlyServerURL": "https://plot.ly"
       },
       "data": [
        {
         "domain": {
          "x": [
           0,
           1
          ],
          "y": [
           0,
           1
          ]
         },
         "hovertemplate": "verification_status=%{label}<br>count=%{value}<extra></extra>",
         "labels": [
          "Verified",
          "Source Verified",
          "Not Verified"
         ],
         "legendgroup": "",
         "name": "",
         "showlegend": true,
         "type": "pie",
         "values": [
          259501,
          304870,
          239703
         ]
        }
       ],
       "layout": {
        "legend": {
         "tracegroupgap": 0
        },
        "margin": {
         "t": 60
        },
        "template": {
         "data": {
          "bar": [
           {
            "error_x": {
             "color": "#2a3f5f"
            },
            "error_y": {
             "color": "#2a3f5f"
            },
            "marker": {
             "line": {
              "color": "#E5ECF6",
              "width": 0.5
             },
             "pattern": {
              "fillmode": "overlay",
              "size": 10,
              "solidity": 0.2
             }
            },
            "type": "bar"
           }
          ],
          "barpolar": [
           {
            "marker": {
             "line": {
              "color": "#E5ECF6",
              "width": 0.5
             },
             "pattern": {
              "fillmode": "overlay",
              "size": 10,
              "solidity": 0.2
             }
            },
            "type": "barpolar"
           }
          ],
          "carpet": [
           {
            "aaxis": {
             "endlinecolor": "#2a3f5f",
             "gridcolor": "white",
             "linecolor": "white",
             "minorgridcolor": "white",
             "startlinecolor": "#2a3f5f"
            },
            "baxis": {
             "endlinecolor": "#2a3f5f",
             "gridcolor": "white",
             "linecolor": "white",
             "minorgridcolor": "white",
             "startlinecolor": "#2a3f5f"
            },
            "type": "carpet"
           }
          ],
          "choropleth": [
           {
            "colorbar": {
             "outlinewidth": 0,
             "ticks": ""
            },
            "type": "choropleth"
           }
          ],
          "contour": [
           {
            "colorbar": {
             "outlinewidth": 0,
             "ticks": ""
            },
            "colorscale": [
             [
              0,
              "#0d0887"
             ],
             [
              0.1111111111111111,
              "#46039f"
             ],
             [
              0.2222222222222222,
              "#7201a8"
             ],
             [
              0.3333333333333333,
              "#9c179e"
             ],
             [
              0.4444444444444444,
              "#bd3786"
             ],
             [
              0.5555555555555556,
              "#d8576b"
             ],
             [
              0.6666666666666666,
              "#ed7953"
             ],
             [
              0.7777777777777778,
              "#fb9f3a"
             ],
             [
              0.8888888888888888,
              "#fdca26"
             ],
             [
              1,
              "#f0f921"
             ]
            ],
            "type": "contour"
           }
          ],
          "contourcarpet": [
           {
            "colorbar": {
             "outlinewidth": 0,
             "ticks": ""
            },
            "type": "contourcarpet"
           }
          ],
          "heatmap": [
           {
            "colorbar": {
             "outlinewidth": 0,
             "ticks": ""
            },
            "colorscale": [
             [
              0,
              "#0d0887"
             ],
             [
              0.1111111111111111,
              "#46039f"
             ],
             [
              0.2222222222222222,
              "#7201a8"
             ],
             [
              0.3333333333333333,
              "#9c179e"
             ],
             [
              0.4444444444444444,
              "#bd3786"
             ],
             [
              0.5555555555555556,
              "#d8576b"
             ],
             [
              0.6666666666666666,
              "#ed7953"
             ],
             [
              0.7777777777777778,
              "#fb9f3a"
             ],
             [
              0.8888888888888888,
              "#fdca26"
             ],
             [
              1,
              "#f0f921"
             ]
            ],
            "type": "heatmap"
           }
          ],
          "heatmapgl": [
           {
            "colorbar": {
             "outlinewidth": 0,
             "ticks": ""
            },
            "colorscale": [
             [
              0,
              "#0d0887"
             ],
             [
              0.1111111111111111,
              "#46039f"
             ],
             [
              0.2222222222222222,
              "#7201a8"
             ],
             [
              0.3333333333333333,
              "#9c179e"
             ],
             [
              0.4444444444444444,
              "#bd3786"
             ],
             [
              0.5555555555555556,
              "#d8576b"
             ],
             [
              0.6666666666666666,
              "#ed7953"
             ],
             [
              0.7777777777777778,
              "#fb9f3a"
             ],
             [
              0.8888888888888888,
              "#fdca26"
             ],
             [
              1,
              "#f0f921"
             ]
            ],
            "type": "heatmapgl"
           }
          ],
          "histogram": [
           {
            "marker": {
             "pattern": {
              "fillmode": "overlay",
              "size": 10,
              "solidity": 0.2
             }
            },
            "type": "histogram"
           }
          ],
          "histogram2d": [
           {
            "colorbar": {
             "outlinewidth": 0,
             "ticks": ""
            },
            "colorscale": [
             [
              0,
              "#0d0887"
             ],
             [
              0.1111111111111111,
              "#46039f"
             ],
             [
              0.2222222222222222,
              "#7201a8"
             ],
             [
              0.3333333333333333,
              "#9c179e"
             ],
             [
              0.4444444444444444,
              "#bd3786"
             ],
             [
              0.5555555555555556,
              "#d8576b"
             ],
             [
              0.6666666666666666,
              "#ed7953"
             ],
             [
              0.7777777777777778,
              "#fb9f3a"
             ],
             [
              0.8888888888888888,
              "#fdca26"
             ],
             [
              1,
              "#f0f921"
             ]
            ],
            "type": "histogram2d"
           }
          ],
          "histogram2dcontour": [
           {
            "colorbar": {
             "outlinewidth": 0,
             "ticks": ""
            },
            "colorscale": [
             [
              0,
              "#0d0887"
             ],
             [
              0.1111111111111111,
              "#46039f"
             ],
             [
              0.2222222222222222,
              "#7201a8"
             ],
             [
              0.3333333333333333,
              "#9c179e"
             ],
             [
              0.4444444444444444,
              "#bd3786"
             ],
             [
              0.5555555555555556,
              "#d8576b"
             ],
             [
              0.6666666666666666,
              "#ed7953"
             ],
             [
              0.7777777777777778,
              "#fb9f3a"
             ],
             [
              0.8888888888888888,
              "#fdca26"
             ],
             [
              1,
              "#f0f921"
             ]
            ],
            "type": "histogram2dcontour"
           }
          ],
          "mesh3d": [
           {
            "colorbar": {
             "outlinewidth": 0,
             "ticks": ""
            },
            "type": "mesh3d"
           }
          ],
          "parcoords": [
           {
            "line": {
             "colorbar": {
              "outlinewidth": 0,
              "ticks": ""
             }
            },
            "type": "parcoords"
           }
          ],
          "pie": [
           {
            "automargin": true,
            "type": "pie"
           }
          ],
          "scatter": [
           {
            "fillpattern": {
             "fillmode": "overlay",
             "size": 10,
             "solidity": 0.2
            },
            "type": "scatter"
           }
          ],
          "scatter3d": [
           {
            "line": {
             "colorbar": {
              "outlinewidth": 0,
              "ticks": ""
             }
            },
            "marker": {
             "colorbar": {
              "outlinewidth": 0,
              "ticks": ""
             }
            },
            "type": "scatter3d"
           }
          ],
          "scattercarpet": [
           {
            "marker": {
             "colorbar": {
              "outlinewidth": 0,
              "ticks": ""
             }
            },
            "type": "scattercarpet"
           }
          ],
          "scattergeo": [
           {
            "marker": {
             "colorbar": {
              "outlinewidth": 0,
              "ticks": ""
             }
            },
            "type": "scattergeo"
           }
          ],
          "scattergl": [
           {
            "marker": {
             "colorbar": {
              "outlinewidth": 0,
              "ticks": ""
             }
            },
            "type": "scattergl"
           }
          ],
          "scattermapbox": [
           {
            "marker": {
             "colorbar": {
              "outlinewidth": 0,
              "ticks": ""
             }
            },
            "type": "scattermapbox"
           }
          ],
          "scatterpolar": [
           {
            "marker": {
             "colorbar": {
              "outlinewidth": 0,
              "ticks": ""
             }
            },
            "type": "scatterpolar"
           }
          ],
          "scatterpolargl": [
           {
            "marker": {
             "colorbar": {
              "outlinewidth": 0,
              "ticks": ""
             }
            },
            "type": "scatterpolargl"
           }
          ],
          "scatterternary": [
           {
            "marker": {
             "colorbar": {
              "outlinewidth": 0,
              "ticks": ""
             }
            },
            "type": "scatterternary"
           }
          ],
          "surface": [
           {
            "colorbar": {
             "outlinewidth": 0,
             "ticks": ""
            },
            "colorscale": [
             [
              0,
              "#0d0887"
             ],
             [
              0.1111111111111111,
              "#46039f"
             ],
             [
              0.2222222222222222,
              "#7201a8"
             ],
             [
              0.3333333333333333,
              "#9c179e"
             ],
             [
              0.4444444444444444,
              "#bd3786"
             ],
             [
              0.5555555555555556,
              "#d8576b"
             ],
             [
              0.6666666666666666,
              "#ed7953"
             ],
             [
              0.7777777777777778,
              "#fb9f3a"
             ],
             [
              0.8888888888888888,
              "#fdca26"
             ],
             [
              1,
              "#f0f921"
             ]
            ],
            "type": "surface"
           }
          ],
          "table": [
           {
            "cells": {
             "fill": {
              "color": "#EBF0F8"
             },
             "line": {
              "color": "white"
             }
            },
            "header": {
             "fill": {
              "color": "#C8D4E3"
             },
             "line": {
              "color": "white"
             }
            },
            "type": "table"
           }
          ]
         },
         "layout": {
          "annotationdefaults": {
           "arrowcolor": "#2a3f5f",
           "arrowhead": 0,
           "arrowwidth": 1
          },
          "autotypenumbers": "strict",
          "coloraxis": {
           "colorbar": {
            "outlinewidth": 0,
            "ticks": ""
           }
          },
          "colorscale": {
           "diverging": [
            [
             0,
             "#8e0152"
            ],
            [
             0.1,
             "#c51b7d"
            ],
            [
             0.2,
             "#de77ae"
            ],
            [
             0.3,
             "#f1b6da"
            ],
            [
             0.4,
             "#fde0ef"
            ],
            [
             0.5,
             "#f7f7f7"
            ],
            [
             0.6,
             "#e6f5d0"
            ],
            [
             0.7,
             "#b8e186"
            ],
            [
             0.8,
             "#7fbc41"
            ],
            [
             0.9,
             "#4d9221"
            ],
            [
             1,
             "#276419"
            ]
           ],
           "sequential": [
            [
             0,
             "#0d0887"
            ],
            [
             0.1111111111111111,
             "#46039f"
            ],
            [
             0.2222222222222222,
             "#7201a8"
            ],
            [
             0.3333333333333333,
             "#9c179e"
            ],
            [
             0.4444444444444444,
             "#bd3786"
            ],
            [
             0.5555555555555556,
             "#d8576b"
            ],
            [
             0.6666666666666666,
             "#ed7953"
            ],
            [
             0.7777777777777778,
             "#fb9f3a"
            ],
            [
             0.8888888888888888,
             "#fdca26"
            ],
            [
             1,
             "#f0f921"
            ]
           ],
           "sequentialminus": [
            [
             0,
             "#0d0887"
            ],
            [
             0.1111111111111111,
             "#46039f"
            ],
            [
             0.2222222222222222,
             "#7201a8"
            ],
            [
             0.3333333333333333,
             "#9c179e"
            ],
            [
             0.4444444444444444,
             "#bd3786"
            ],
            [
             0.5555555555555556,
             "#d8576b"
            ],
            [
             0.6666666666666666,
             "#ed7953"
            ],
            [
             0.7777777777777778,
             "#fb9f3a"
            ],
            [
             0.8888888888888888,
             "#fdca26"
            ],
            [
             1,
             "#f0f921"
            ]
           ]
          },
          "colorway": [
           "#636efa",
           "#EF553B",
           "#00cc96",
           "#ab63fa",
           "#FFA15A",
           "#19d3f3",
           "#FF6692",
           "#B6E880",
           "#FF97FF",
           "#FECB52"
          ],
          "font": {
           "color": "#2a3f5f"
          },
          "geo": {
           "bgcolor": "white",
           "lakecolor": "white",
           "landcolor": "#E5ECF6",
           "showlakes": true,
           "showland": true,
           "subunitcolor": "white"
          },
          "hoverlabel": {
           "align": "left"
          },
          "hovermode": "closest",
          "mapbox": {
           "style": "light"
          },
          "paper_bgcolor": "white",
          "plot_bgcolor": "#E5ECF6",
          "polar": {
           "angularaxis": {
            "gridcolor": "white",
            "linecolor": "white",
            "ticks": ""
           },
           "bgcolor": "#E5ECF6",
           "radialaxis": {
            "gridcolor": "white",
            "linecolor": "white",
            "ticks": ""
           }
          },
          "scene": {
           "xaxis": {
            "backgroundcolor": "#E5ECF6",
            "gridcolor": "white",
            "gridwidth": 2,
            "linecolor": "white",
            "showbackground": true,
            "ticks": "",
            "zerolinecolor": "white"
           },
           "yaxis": {
            "backgroundcolor": "#E5ECF6",
            "gridcolor": "white",
            "gridwidth": 2,
            "linecolor": "white",
            "showbackground": true,
            "ticks": "",
            "zerolinecolor": "white"
           },
           "zaxis": {
            "backgroundcolor": "#E5ECF6",
            "gridcolor": "white",
            "gridwidth": 2,
            "linecolor": "white",
            "showbackground": true,
            "ticks": "",
            "zerolinecolor": "white"
           }
          },
          "shapedefaults": {
           "line": {
            "color": "#2a3f5f"
           }
          },
          "ternary": {
           "aaxis": {
            "gridcolor": "white",
            "linecolor": "white",
            "ticks": ""
           },
           "baxis": {
            "gridcolor": "white",
            "linecolor": "white",
            "ticks": ""
           },
           "bgcolor": "#E5ECF6",
           "caxis": {
            "gridcolor": "white",
            "linecolor": "white",
            "ticks": ""
           }
          },
          "title": {
           "x": 0.05
          },
          "xaxis": {
           "automargin": true,
           "gridcolor": "white",
           "linecolor": "white",
           "ticks": "",
           "title": {
            "standoff": 15
           },
           "zerolinecolor": "white",
           "zerolinewidth": 2
          },
          "yaxis": {
           "automargin": true,
           "gridcolor": "white",
           "linecolor": "white",
           "ticks": "",
           "title": {
            "standoff": 15
           },
           "zerolinecolor": "white",
           "zerolinewidth": 2
          }
         }
        }
       }
      }
     },
     "metadata": {},
     "output_type": "display_data"
    }
   ],
   "source": [
    "df.groupBy(df['verification_status'])\\\n",
    "    .count()\\\n",
    "    .to_pandas_on_spark(index_col=['verification_status'])\\\n",
    "    .plot.pie(y='count')"
   ]
  },
  {
   "attachments": {},
   "cell_type": "markdown",
   "metadata": {},
   "source": [
    "=> Evenly distributed `verfication_status` accross all accounts "
   ]
  },
  {
   "attachments": {},
   "cell_type": "markdown",
   "metadata": {},
   "source": [
    "Let's see the relationship between the number of personal finance inquiries (`inq_fi`) and default rate"
   ]
  },
  {
   "cell_type": "code",
   "execution_count": 194,
   "metadata": {},
   "outputs": [
    {
     "data": {
      "text/plain": [
       "0"
      ]
     },
     "execution_count": 194,
     "metadata": {},
     "output_type": "execute_result"
    }
   ],
   "source": [
    "df.filter(df['inq_fi'].isNotNull() & (df['default_ind'] == 1)).count()"
   ]
  },
  {
   "attachments": {},
   "cell_type": "markdown",
   "metadata": {},
   "source": [
    "=> All the borrowers with a record of personal finance inquiries virtually not default. If this field is `null`, it indicate that the borrowers never inquiries any personal finance advice from this firm."
   ]
  },
  {
   "attachments": {},
   "cell_type": "markdown",
   "metadata": {},
   "source": [
    "Because of the high volume of missing values, this column will be dropped"
   ]
  },
  {
   "cell_type": "code",
   "execution_count": 195,
   "metadata": {},
   "outputs": [],
   "source": [
    "df = df.drop('inq_fi')"
   ]
  },
  {
   "attachments": {},
   "cell_type": "markdown",
   "metadata": {},
   "source": [
    "Next, let's see the relationship between the number of credit inquiries in the last 12 months (`inq_last_12m`) and default rate"
   ]
  },
  {
   "cell_type": "code",
   "execution_count": 196,
   "metadata": {},
   "outputs": [
    {
     "name": "stdout",
     "output_type": "stream",
     "text": [
      "+---------+-----------+----------+--------+-----------+-----+---------+----------+--------------+----------+-------------------+------------------+-----+-----------+--------------+----------------------+----------------------+--------+-------+---------+----------+---------+-------------------+---------+-----------+---------------+---------------+-------------+------------------+----------+-----------------------+---------------+--------------------------+---------------------------+----------------+--------------+------------+-----------+-----------+----------+-----------+-----------+------------------+------------+-------+-----------+-----------+----------+--------+----------------+-----------+------------+-----------+\n",
      "|loan_amnt|funded_amnt|      term|int_rate|installment|grade|sub_grade|emp_length|home_ownership|annual_inc|verification_status|           purpose|  dti|delinq_2yrs|inq_last_6mths|mths_since_last_delinq|mths_since_last_record|open_acc|pub_rec|revol_bal|revol_util|total_acc|initial_list_status|out_prncp|total_pymnt|total_pymnt_inv|total_rec_prncp|total_rec_int|total_rec_late_fee|recoveries|collection_recovery_fee|last_pymnt_amnt|collections_12_mths_ex_med|mths_since_last_major_derog|application_type|acc_now_delinq|tot_coll_amt|tot_cur_bal|open_acc_6m|open_il_6m|open_il_12m|open_il_24m|mths_since_rcnt_il|total_bal_il|il_util|open_rv_12m|open_rv_24m|max_bal_bc|all_util|total_rev_hi_lim|total_cu_tl|inq_last_12m|default_ind|\n",
      "+---------+-----------+----------+--------+-----------+-----+---------+----------+--------------+----------+-------------------+------------------+-----+-----------+--------------+----------------------+----------------------+--------+-------+---------+----------+---------+-------------------+---------+-----------+---------------+---------------+-------------+------------------+----------+-----------------------+---------------+--------------------------+---------------------------+----------------+--------------+------------+-----------+-----------+----------+-----------+-----------+------------------+------------+-------+-----------+-----------+----------+--------+----------------+-----------+------------+-----------+\n",
      "|     8000|       8000| 36 months|   14.48|     275.29|    C|       C5| 10+ years|      MORTGAGE|  115000.0|           Verified|debt_consolidation|17.11|          0|             4|                  null|                    88|      25|      1|    15124|      26.4|       36|                  w|   8000.0|        0.0|            0.0|            0.0|          0.0|               0.0|       0.0|                    0.0|            0.0|                         0|                       null|      INDIVIDUAL|             0|           0|     399684|          5|         5|          1|          4|                11|       46560|   66.5|          5|         12|      4527|    48.5|           57200|          1|          32|          0|\n",
      "|    10000|      10000| 36 months|   12.59|     334.97|    C|       C2|   3 years|      MORTGAGE|  150000.0|       Not Verified|               car| 15.7|          0|             5|                  null|                    61|      17|      3|     8388|      38.1|       32|                  w|  10000.0|        0.0|            0.0|            0.0|          0.0|               0.0|       0.0|                    0.0|            0.0|                         0|                       null|      INDIVIDUAL|             0|           0|     211397|          3|         3|          1|          3|                 8|       76367|   81.4|          4|          9|      3294|    51.4|           22000|          0|          25|          0|\n",
      "|    16000|      16000| 60 months|   14.48|     376.29|    C|       C5|   7 years|      MORTGAGE|  215000.0|           Verified|    major_purchase|11.14|          1|             3|                    23|                    97|      20|      1|    10235|      20.3|       58|                  w|  16000.0|        0.0|            0.0|            0.0|          0.0|               0.0|       0.0|                    0.0|            0.0|                         0|                       null|      INDIVIDUAL|             0|           0|     355620|          5|         2|          4|          6|                 7|       97434|   86.0|          6|          7|      1991|    47.5|           50147|          4|          25|          0|\n",
      "|    20000|      20000| 60 months|   19.99|     529.77|    E|       E4|   4 years|          RENT|   50000.0|           Verified|debt_consolidation|12.39|          0|             5|                    51|                  null|      14|      0|     8829|      16.3|       22|                  w|  20000.0|        0.0|            0.0|            0.0|          0.0|               0.0|       0.0|                    0.0|            0.0|                         0|                       null|      INDIVIDUAL|             0|           0|      27687|          0|         3|          0|          0|                62|       18858|   73.1|          2|          3|      4600|    34.7|           54000|          0|          24|          0|\n",
      "|     2875|       2875| 36 months|   16.99|     102.49|    D|       D3| 10+ years|      MORTGAGE|  143000.0|    Source Verified|debt_consolidation|14.96|          0|             2|                    69|                    76|      15|      1|     3003|      34.1|       41|                  w|   2875.0|        0.0|            0.0|            0.0|          0.0|               0.0|       0.0|                    0.0|            0.0|                         0|                         76|      INDIVIDUAL|             0|         162|     195449|          2|         5|          7|         11|                 2|       56603|   82.2|          3|          8|       151|    76.7|            8800|          5|          22|          0|\n",
      "|    16000|      16000| 60 months|    18.2|     408.04|    E|       E1| 10+ years|      MORTGAGE|   67000.0|    Source Verified|debt_consolidation|28.37|          2|             1|                    16|                  null|      17|      0|    19637|      61.2|       46|                  w|  16000.0|        0.0|            0.0|            0.0|          0.0|               0.0|       0.0|                    0.0|            0.0|                         0|                         43|      INDIVIDUAL|             0|           0|      63507|          4|         2|          3|          4|                 5|       43870|   93.5|          2|          8|      1407|    80.4|           32100|          1|          21|          0|\n",
      "|    20800|      20800| 60 months|   11.22|     454.53|    B|       B5|   2 years|      MORTGAGE|   85000.0|           Verified|debt_consolidation|26.12|          0|             5|                    42|                  null|      30|      0|    43316|      53.1|       65|                  w|  20800.0|        0.0|            0.0|            0.0|          0.0|               0.0|       0.0|                    0.0|            0.0|                         0|                         42|      INDIVIDUAL|             0|           0|     217666|          6|         9|          4|          5|                 2|       96926|   78.1|          4|          8|      6795|    68.2|           81600|          0|          21|          0|\n",
      "|    35000|      35000| 36 months|   14.48|     1204.4|    C|       C5|   2 years|      MORTGAGE|  300000.0|           Verified|debt_consolidation|25.78|          1|             0|                    20|                  null|      10|      0|   273361|      93.4|       35|                  w|  35000.0|        0.0|            0.0|            0.0|          0.0|               0.0|       0.0|                    0.0|            0.0|                         0|                         20|      INDIVIDUAL|             0|           0|     993549|          1|         3|          1|          1|                 6|       88170|   null|          0|          0|     19922|    93.4|          350300|          0|          20|          0|\n",
      "|    16800|      16800| 60 months|   20.99|     454.41|    E|       E5|   8 years|          RENT|   50000.0|       Not Verified|       credit_card|24.56|          0|             2|                    46|                    81|      13|      1|    15915|      53.8|       29|                  w| 16639.45|     434.82|         434.82|         160.55|       274.27|               0.0|       0.0|                    0.0|         454.41|                         0|                       null|      INDIVIDUAL|             0|         672|      80034|          1|         3|          1|          3|                12|       64119|   53.3|          2|          7|      3922|    53.6|           29600|          0|          20|          0|\n",
      "|     8400|       8400| 36 months|   15.41|     292.88|    D|       D1| 10+ years|      MORTGAGE|   52800.0|           Verified|debt_consolidation|27.89|          0|             1|                    37|                  null|      13|      0|     8786|      36.0|       37|                  w|   8400.0|        0.0|            0.0|            0.0|          0.0|               0.0|       0.0|                    0.0|            0.0|                         0|                         65|      INDIVIDUAL|             0|         245|     258531|          1|         2|          1|          3|                12|       35529|   81.5|          3|          7|      3057|    65.2|           24400|          3|          20|          0|\n",
      "|    15750|      15750| 36 months|    18.2|     570.99|    E|       E1|  < 1 year|           OWN|   47000.0|    Source Verified|debt_consolidation|17.31|          0|             1|                  null|                    54|       6|      2|     4209|      66.8|       19|                  f| 15417.89|     555.07|         555.07|         332.12|       222.96|               0.0|       0.0|                    0.0|         570.99|                         0|                       null|      INDIVIDUAL|             0|           0|      26681|          0|         2|          1|          2|                12|       22472|   82.9|          0|          3|      2470|    79.9|            6300|          0|          20|          0|\n",
      "|    10950|      10950| 36 months|   19.48|     404.05|    E|       E2|   3 years|          RENT|   60000.0|    Source Verified|debt_consolidation|18.38|          0|             2|                    72|                    66|       6|      2|    10502|      65.6|       17|                  w|  10141.9|      808.1|          808.1|          808.1|          0.0|               0.0|       0.0|                    0.0|          808.1|                         0|                         72|      INDIVIDUAL|             0|        3400|      44181|          0|         1|          2|          2|                 8|       33679|   null|          3|          4|      4138|    65.6|           16000|          0|          19|          0|\n",
      "|    21000|      21000| 36 months|   16.99|     748.61|    D|       D3|    1 year|      MORTGAGE|  185000.0|           Verified|debt_consolidation|21.54|          2|             4|                    17|                  null|      15|      0|    21692|      73.5|       48|                  w|      0.0|   21138.76|       21138.76|        21000.0|       138.76|               0.0|       0.0|                    0.0|       21188.31|                         0|                         17|      INDIVIDUAL|             0|           0|     458681|          2|         5|          1|          3|                11|       67210|   75.0|          5|          8|      5549|    74.2|           29500|          0|          19|          0|\n",
      "|    21000|      21000| 60 months|   16.55|     516.84|    D|       D2|  < 1 year|           OWN|  110000.0|           Verified|  home_improvement|20.13|          0|             4|                  null|                  null|      31|      0|    25891|      19.7|       56|                  w|  21000.0|        0.0|            0.0|            0.0|          0.0|               0.0|       0.0|                    0.0|            0.0|                         0|                       null|      INDIVIDUAL|             0|           0|     274894|          8|         2|          3|          6|                 3|       67581|   93.6|         11|         18|      3238|    32.4|          131400|          8|          19|          0|\n",
      "|     2800|       2800| 36 months|   13.67|      95.25|    C|       C4|   2 years|          RENT|   45000.0|    Source Verified|debt_consolidation| 19.2|          1|             2|                    13|                  null|      12|      0|     3200|      40.0|       21|                  w|   2800.0|        0.0|            0.0|            0.0|          0.0|               0.0|       0.0|                    0.0|            0.0|                         0|                       null|      INDIVIDUAL|             0|           0|      53941|          2|         8|          2|          2|                 7|       50741|   99.8|          2|          3|      1711|    91.7|            8000|          7|          19|          0|\n",
      "|    18000|      18000| 60 months|   16.55|     443.01|    D|       D2|   7 years|      MORTGAGE|  105000.0|           Verified|       credit_card|14.02|          0|             5|                    66|                    67|      17|      2|     9097|      35.5|       63|                  w| 17805.24|     426.46|         426.46|         194.76|        231.7|               0.0|       0.0|                    0.0|         443.01|                         0|                       null|      INDIVIDUAL|             0|         350|     251088|          4|         3|          1|          2|                 5|       53386|   80.7|          6|          9|      3033|    68.1|           25600|          0|          19|          0|\n",
      "|     7200|       7200| 36 months|   13.44|     244.13|    C|       C3|   2 years|          RENT|   57000.0|    Source Verified|debt_consolidation|24.36|          0|             3|                    39|                  null|       8|      0|     1241|      35.5|       11|                  w|   7200.0|        0.0|            0.0|            0.0|          0.0|               0.0|       0.0|                    0.0|            0.0|                         0|                         39|      INDIVIDUAL|             0|        2607|      55917|          2|         3|          0|          2|                16|       54676|   80.9|          3|          5|       967|    78.7|            3500|          1|          18|          0|\n",
      "|    27000|      27000| 36 months|   18.99|     989.58|    E|       E3|   3 years|      MORTGAGE|   65000.0|           Verified|    major_purchase| 21.8|          2|             0|                    13|                  null|      17|      0|     7009|      38.1|       35|                  w|  27000.0|        0.0|            0.0|            0.0|          0.0|               0.0|       0.0|                    0.0|            0.0|                         0|                         13|      INDIVIDUAL|             0|         532|     153974|          1|         3|          1|          2|                 6|       49844|   93.9|          1|         10|      3744|    79.5|           18400|          2|          18|          0|\n",
      "|    24000|      24000| 60 months|   19.89|     634.39|    E|       E3|   6 years|      MORTGAGE|  134000.0|           Verified|debt_consolidation|10.85|          0|             2|                  null|                    70|      12|      1|    15912|      34.1|       25|                  w|  24000.0|        0.0|            0.0|            0.0|          0.0|               0.0|       0.0|                    0.0|            0.0|                         0|                       null|      INDIVIDUAL|             0|           0|     318185|          4|         2|          3|          3|                 7|       37005|   80.2|          6|         10|      9547|    47.6|           46600|          0|          17|          0|\n",
      "|    17000|      17000| 60 months|   22.99|     479.15|    F|       F2|   3 years|      MORTGAGE|  107000.0|    Source Verified|debt_consolidation|18.56|          0|             1|                    45|                  null|      21|      0|    12085|      50.4|       28|                  f| 16846.54|     435.72|         432.52|         153.46|       282.26|               0.0|       0.0|                    0.0|         479.15|                         0|                       null|      INDIVIDUAL|             0|        2360|     357256|          3|         8|          4|          6|                 2|       89222|   91.9|          1|          2|      3507|    83.6|           24000|          0|          17|          0|\n",
      "+---------+-----------+----------+--------+-----------+-----+---------+----------+--------------+----------+-------------------+------------------+-----+-----------+--------------+----------------------+----------------------+--------+-------+---------+----------+---------+-------------------+---------+-----------+---------------+---------------+-------------+------------------+----------+-----------------------+---------------+--------------------------+---------------------------+----------------+--------------+------------+-----------+-----------+----------+-----------+-----------+------------------+------------+-------+-----------+-----------+----------+--------+----------------+-----------+------------+-----------+\n",
      "only showing top 20 rows\n",
      "\n"
     ]
    }
   ],
   "source": [
    "df.filter(df['inq_last_12m'].isNotNull()).sort('inq_last_12m', ascending=False).show()"
   ]
  },
  {
   "cell_type": "code",
   "execution_count": 197,
   "metadata": {},
   "outputs": [
    {
     "data": {
      "text/plain": [
       "0"
      ]
     },
     "execution_count": 197,
     "metadata": {},
     "output_type": "execute_result"
    }
   ],
   "source": [
    "df.filter(df['inq_last_12m'].isNotNull() & (df['default_ind'] == 1)).sort('inq_last_12m', ascending=False).count()"
   ]
  },
  {
   "attachments": {},
   "cell_type": "markdown",
   "metadata": {},
   "source": [
    "In real life, higher number of number of credit inquiries will result in lower result credit, making this loan has a higher chance of default (https://www.canstar.com.au/credit-score/do-credit-checks-affect-your-credit-score/). However it is the opposite with this dataset, as more credit inquiries result in no default rate!"
   ]
  },
  {
   "cell_type": "code",
   "execution_count": 198,
   "metadata": {},
   "outputs": [
    {
     "data": {
      "text/plain": [
       "22935"
      ]
     },
     "execution_count": 198,
     "metadata": {},
     "output_type": "execute_result"
    }
   ],
   "source": [
    "df.filter((df['inq_last_6mths'] != 0) & (df['default_ind'] == 1)).sort('inq_last_6mths', ascending=False).count()"
   ]
  },
  {
   "cell_type": "code",
   "execution_count": 199,
   "metadata": {},
   "outputs": [
    {
     "data": {
      "text/plain": [
       "348439"
      ]
     },
     "execution_count": 199,
     "metadata": {},
     "output_type": "execute_result"
    }
   ],
   "source": [
    "df.filter((df['inq_last_6mths'] != 0)).count()"
   ]
  },
  {
   "attachments": {},
   "cell_type": "markdown",
   "metadata": {},
   "source": [
    "On the other hand, for the `inq_last_6mths` values that not 0, a portion of the data does end up as default. Therefore this column should be kept as it would be a good weight for our ML model, whilst the `inq_last_12m` will be dropped"
   ]
  },
  {
   "cell_type": "code",
   "execution_count": 200,
   "metadata": {},
   "outputs": [],
   "source": [
    "df = df.drop('inq_last_12m')"
   ]
  },
  {
   "attachments": {},
   "cell_type": "markdown",
   "metadata": {},
   "source": [
    "For the rest of the high number of missing values columns, they will also be dropped."
   ]
  },
  {
   "cell_type": "code",
   "execution_count": 201,
   "metadata": {},
   "outputs": [],
   "source": [
    "df = df.drop('open_acc_6m', 'open_il_6m', 'open_il_12m', 'open_il_24m', 'mths_since_rcnt_il', 'total_bal_il', 'il_util', 'open_rv_12m', 'open_rv_24m', 'max_bal_bc', 'all_util', 'total_cu_tl', 'mths_since_last_delinq', 'mths_since_last_record', 'mths_since_last_major_derog')"
   ]
  },
  {
   "cell_type": "code",
   "execution_count": 202,
   "metadata": {},
   "outputs": [
    {
     "data": {
      "text/plain": [
       "{'loan_amnt': 0,\n",
       " 'funded_amnt': 0,\n",
       " 'term': 0,\n",
       " 'int_rate': 0,\n",
       " 'installment': 0,\n",
       " 'grade': 0,\n",
       " 'sub_grade': 0,\n",
       " 'emp_length': 0,\n",
       " 'home_ownership': 0,\n",
       " 'annual_inc': 0,\n",
       " 'verification_status': 0,\n",
       " 'purpose': 0,\n",
       " 'dti': 0,\n",
       " 'delinq_2yrs': 0,\n",
       " 'inq_last_6mths': 0,\n",
       " 'open_acc': 0,\n",
       " 'pub_rec': 0,\n",
       " 'revol_bal': 0,\n",
       " 'revol_util': 401,\n",
       " 'total_acc': 0,\n",
       " 'initial_list_status': 0,\n",
       " 'out_prncp': 0,\n",
       " 'total_pymnt': 0,\n",
       " 'total_pymnt_inv': 0,\n",
       " 'total_rec_prncp': 0,\n",
       " 'total_rec_int': 0,\n",
       " 'total_rec_late_fee': 0,\n",
       " 'recoveries': 0,\n",
       " 'collection_recovery_fee': 0,\n",
       " 'last_pymnt_amnt': 0,\n",
       " 'collections_12_mths_ex_med': 34,\n",
       " 'application_type': 0,\n",
       " 'acc_now_delinq': 0,\n",
       " 'tot_coll_amt': 45453,\n",
       " 'tot_cur_bal': 45453,\n",
       " 'total_rev_hi_lim': 45453,\n",
       " 'default_ind': 0}"
      ]
     },
     "execution_count": 202,
     "metadata": {},
     "output_type": "execute_result"
    }
   ],
   "source": [
    "{col : df.filter(df[col].isNull()).count() for col in df.columns}"
   ]
  },
  {
   "attachments": {},
   "cell_type": "markdown",
   "metadata": {},
   "source": [
    "### Impute the remaining null data"
   ]
  },
  {
   "cell_type": "code",
   "execution_count": 203,
   "metadata": {},
   "outputs": [
    {
     "name": "stderr",
     "output_type": "stream",
     "text": [
      "                                                                                \r"
     ]
    }
   ],
   "source": [
    "from pyspark.ml.feature import Imputer\n",
    "imputer = Imputer(\n",
    "    inputCols=['tot_coll_amt', 'total_rev_hi_lim', 'tot_cur_bal', 'revol_util', 'collections_12_mths_ex_med'],\n",
    "    outputCols=['tot_coll_amt', 'total_rev_hi_lim', 'tot_cur_bal', 'revol_util', 'collections_12_mths_ex_med']\n",
    ")\n",
    "\n",
    "df = imputer.setStrategy(\"median\").fit(df).transform(df)"
   ]
  },
  {
   "cell_type": "code",
   "execution_count": 204,
   "metadata": {},
   "outputs": [
    {
     "name": "stdout",
     "output_type": "stream",
     "text": [
      "+---------+-----------+----------+--------+-----------+-----+---------+----------+--------------+----------+-------------------+------------------+-----+-----------+--------------+--------+-------+---------+----------+---------+-------------------+---------+-----------+---------------+---------------+-------------+------------------+----------+-----------------------+---------------+--------------------------+----------------+--------------+------------+-----------+----------------+-----------+\n",
      "|loan_amnt|funded_amnt|      term|int_rate|installment|grade|sub_grade|emp_length|home_ownership|annual_inc|verification_status|           purpose|  dti|delinq_2yrs|inq_last_6mths|open_acc|pub_rec|revol_bal|revol_util|total_acc|initial_list_status|out_prncp|total_pymnt|total_pymnt_inv|total_rec_prncp|total_rec_int|total_rec_late_fee|recoveries|collection_recovery_fee|last_pymnt_amnt|collections_12_mths_ex_med|application_type|acc_now_delinq|tot_coll_amt|tot_cur_bal|total_rev_hi_lim|default_ind|\n",
      "+---------+-----------+----------+--------+-----------+-----+---------+----------+--------------+----------+-------------------+------------------+-----+-----------+--------------+--------+-------+---------+----------+---------+-------------------+---------+-----------+---------------+---------------+-------------+------------------+----------+-----------------------+---------------+--------------------------+----------------+--------------+------------+-----------+----------------+-----------+\n",
      "|     5000|       5000| 36 months|   10.65|     162.87|    B|       B2| 10+ years|          RENT|   24000.0|           Verified|       credit_card|27.65|          0|             1|       3|      0|    13648|      83.7|        9|                  f|      0.0|5861.071414|        5831.78|         5000.0|       861.07|               0.0|       0.0|                    0.0|         171.62|                         0|      INDIVIDUAL|             0|           0|      80123|           23700|          0|\n",
      "|     2500|       2500| 60 months|   15.27|      59.83|    C|       C4|  < 1 year|          RENT|   30000.0|    Source Verified|               car|  1.0|          0|             5|       3|      0|     1687|       9.4|        4|                  f|      0.0|    1008.71|        1008.71|         456.46|       435.17|               0.0|    117.08|                   1.11|         119.66|                         0|      INDIVIDUAL|             0|           0|      80123|           23700|          1|\n",
      "|     2400|       2400| 36 months|   15.96|      84.33|    C|       C5| 10+ years|          RENT|   12252.0|       Not Verified|    small_business| 8.72|          0|             2|       2|      0|     2956|      98.5|       10|                  f|      0.0|3003.653644|        3003.65|         2400.0|       603.65|               0.0|       0.0|                    0.0|         649.91|                         0|      INDIVIDUAL|             0|           0|      80123|           23700|          0|\n",
      "|     5000|       5000| 36 months|     7.9|     156.46|    A|       A4|   3 years|          RENT|   36000.0|    Source Verified|           wedding| 11.2|          0|             3|       9|      0|     7963|      28.3|       12|                  f|      0.0|5631.377753|        5631.38|         5000.0|       631.38|               0.0|       0.0|                    0.0|         161.03|                         0|      INDIVIDUAL|             0|           0|      80123|           23700|          0|\n",
      "|     3000|       3000| 36 months|   18.64|     109.43|    E|       E1|   9 years|          RENT|   48000.0|    Source Verified|               car| 5.35|          0|             2|       4|      0|     8221|      87.5|        4|                  f|      0.0|3938.144334|        3938.14|         3000.0|       938.14|               0.0|       0.0|                    0.0|         111.34|                         0|      INDIVIDUAL|             0|           0|      80123|           23700|          0|\n",
      "|     5600|       5600| 60 months|   21.28|     152.39|    F|       F2|   4 years|           OWN|   40000.0|    Source Verified|    small_business| 5.55|          0|             2|      11|      0|     5210|      32.6|       13|                  f|      0.0|     646.02|         646.02|         162.02|       294.94|               0.0|    189.06|                   2.09|         152.39|                         0|      INDIVIDUAL|             0|           0|      80123|           23700|          1|\n",
      "|    12000|      12000| 36 months|   12.69|     402.54|    B|       B5| 10+ years|           OWN|   75000.0|    Source Verified|debt_consolidation|10.78|          0|             0|      12|      0|    23336|      67.1|       34|                  f|      0.0|   13943.08|       13943.08|        12000.0|      1943.08|               0.0|       0.0|                    0.0|         6315.3|                         0|      INDIVIDUAL|             0|           0|      80123|           23700|          0|\n",
      "|     9000|       9000| 36 months|   13.49|     305.38|    C|       C1|  < 1 year|          RENT|   30000.0|    Source Verified|debt_consolidation|10.08|          0|             1|       4|      0|    10452|      91.7|        9|                  f|      0.0|     2270.7|         2270.7|        1256.14|       570.26|               0.0|     444.3|                   4.16|         305.38|                         0|      INDIVIDUAL|             0|           0|      80123|           23700|          1|\n",
      "|    10000|      10000| 36 months|   10.65|     325.74|    B|       B2|   3 years|          RENT|  100000.0|    Source Verified|             other| 7.06|          0|             2|      14|      0|    11997|      55.5|       29|                  f|      0.0|    7471.99|        7471.99|        5433.47|      1393.42|               0.0|     645.1|                 6.3145|         325.74|                         0|      INDIVIDUAL|             0|           0|      80123|           23700|          1|\n",
      "|     1000|       1000| 36 months|   16.29|      35.31|    D|       D1|  < 1 year|          RENT|   28000.0|       Not Verified|debt_consolidation|20.31|          0|             1|      11|      0|     6524|      81.5|       23|                  f|      0.0|1270.171106|        1270.17|         1000.0|       270.17|               0.0|       0.0|                    0.0|          36.32|                         0|      INDIVIDUAL|             0|           0|      80123|           23700|          0|\n",
      "|    10000|      10000| 36 months|   15.27|     347.98|    C|       C4|   4 years|          RENT|   42000.0|       Not Verified|  home_improvement| 18.6|          0|             2|      14|      0|    24043|      70.2|       28|                  f|      0.0|12519.26045|       12519.26|        10000.0|      2519.26|               0.0|       0.0|                    0.0|         370.46|                         0|      INDIVIDUAL|             0|           0|      80123|           23700|          0|\n",
      "|     3600|       3600| 36 months|    6.03|     109.57|    A|       A1| 10+ years|      MORTGAGE|  110000.0|       Not Verified|    major_purchase|10.52|          0|             0|      20|      0|    22836|      16.0|       42|                  f|      0.0|    3785.02|        3785.02|         3600.0|       185.02|               0.0|       0.0|                    0.0|         583.45|                         0|      INDIVIDUAL|             0|           0|      80123|           23700|          0|\n",
      "|     6000|       6000| 36 months|   11.71|     198.46|    B|       B3|    1 year|      MORTGAGE|   84000.0|           Verified|           medical|18.44|          2|             0|       4|      0|        0|     37.73|       14|                  f|      0.0|7164.499852|         7164.5|         6000.0|       1149.5|              15.0|       0.0|                    0.0|          16.98|                         0|      INDIVIDUAL|             0|           0|      80123|           23700|          0|\n",
      "|     9200|       9200| 36 months|    6.03|     280.01|    A|       A1|   6 years|          RENT|  77385.19|       Not Verified|debt_consolidation| 9.86|          0|             0|       8|      0|     7314|      23.1|       28|                  f|      0.0|    9459.96|        9459.96|         9200.0|       259.96|               0.0|       0.0|                    0.0|         8061.1|                         0|      INDIVIDUAL|             0|           0|      80123|           23700|          0|\n",
      "|    21000|      21000| 36 months|   12.42|     701.73|    B|       B4| 10+ years|          RENT|  105000.0|           Verified|debt_consolidation|13.22|          0|             0|       7|      0|    32135|      90.3|       38|                  f|      0.0|    14025.4|        14025.4|       10694.96|      3330.44|               0.0|       0.0|                    0.0|         701.73|                         0|      INDIVIDUAL|             0|           0|      80123|           23700|          1|\n",
      "|    10000|      10000| 36 months|   11.71|     330.76|    B|       B3|   5 years|          RENT|   50000.0|       Not Verified|debt_consolidation|16.01|          0|             0|       6|      0|    17800|      91.8|       17|                  f|      0.0|   11536.31|       11536.31|        10000.0|      1536.31|               0.0|       0.0|                    0.0|        4942.63|                         0|      INDIVIDUAL|             0|           0|      80123|           23700|          0|\n",
      "|     6000|       6000| 36 months|   11.71|     198.46|    B|       B3|    1 year|          RENT|   76000.0|       Not Verified|    major_purchase|  2.4|          0|             1|       7|      0|     5963|      29.7|        7|                  f|      0.0|    2050.14|        2050.14|        1305.58|       475.25|               0.0|    269.31|                   2.57|         198.46|                         0|      INDIVIDUAL|             0|           0|      80123|           23700|          1|\n",
      "|    15000|      15000| 36 months|    9.91|     483.38|    B|       B1|   2 years|      MORTGAGE|   92000.0|           Verified|       credit_card|29.44|          0|             0|       8|      0|    13707|      93.9|       31|                  f|      0.0|   15823.48|       15823.48|        15000.0|       823.48|               0.0|       0.0|                    0.0|        2447.05|                         0|      INDIVIDUAL|             0|           0|      80123|           23700|          0|\n",
      "|    15000|      15000| 36 months|   14.27|     514.64|    C|       C2|   9 years|          RENT|   60000.0|       Not Verified|debt_consolidation|15.22|          0|             1|       7|      0|     5872|      57.6|       11|                  f|      0.0|        0.0|            0.0|            0.0|          0.0|               0.0|       0.0|                    0.0|            0.0|                         0|      INDIVIDUAL|             0|           0|      80123|           23700|          1|\n",
      "|     5000|       5000| 60 months|   16.77|     123.65|    D|       D2|   2 years|          RENT|   50004.0|       Not Verified|             other|13.97|          3|             0|      14|      0|     4345|      59.5|       22|                  f|      0.0|    1609.12|        1609.12|         629.05|       719.11|               0.0|    260.96|                    2.3|         123.65|                         0|      INDIVIDUAL|             0|           0|      80123|           23700|          1|\n",
      "+---------+-----------+----------+--------+-----------+-----+---------+----------+--------------+----------+-------------------+------------------+-----+-----------+--------------+--------+-------+---------+----------+---------+-------------------+---------+-----------+---------------+---------------+-------------+------------------+----------+-----------------------+---------------+--------------------------+----------------+--------------+------------+-----------+----------------+-----------+\n",
      "only showing top 20 rows\n",
      "\n"
     ]
    }
   ],
   "source": [
    "df.show()"
   ]
  },
  {
   "cell_type": "code",
   "execution_count": 205,
   "metadata": {},
   "outputs": [
    {
     "data": {
      "application/vnd.plotly.v1+json": {
       "config": {
        "plotlyServerURL": "https://plot.ly"
       },
       "data": [
        {
         "domain": {
          "x": [
           0,
           1
          ],
          "y": [
           0,
           1
          ]
         },
         "hovertemplate": "emp_length=%{label}<br>count=%{value}<extra></extra>",
         "labels": [
          "9 years",
          "5 years",
          "1 year",
          "n/a",
          "2 years",
          "7 years",
          "8 years",
          "4 years",
          "6 years",
          "3 years",
          "10+ years",
          "< 1 year"
         ],
         "legendgroup": "",
         "name": "",
         "showlegend": true,
         "type": "pie",
         "values": [
          31620,
          49836,
          50893,
          41821,
          70536,
          40408,
          40112,
          47088,
          38313,
          62783,
          268127,
          62537
         ]
        }
       ],
       "layout": {
        "legend": {
         "tracegroupgap": 0
        },
        "margin": {
         "t": 60
        },
        "template": {
         "data": {
          "bar": [
           {
            "error_x": {
             "color": "#2a3f5f"
            },
            "error_y": {
             "color": "#2a3f5f"
            },
            "marker": {
             "line": {
              "color": "#E5ECF6",
              "width": 0.5
             },
             "pattern": {
              "fillmode": "overlay",
              "size": 10,
              "solidity": 0.2
             }
            },
            "type": "bar"
           }
          ],
          "barpolar": [
           {
            "marker": {
             "line": {
              "color": "#E5ECF6",
              "width": 0.5
             },
             "pattern": {
              "fillmode": "overlay",
              "size": 10,
              "solidity": 0.2
             }
            },
            "type": "barpolar"
           }
          ],
          "carpet": [
           {
            "aaxis": {
             "endlinecolor": "#2a3f5f",
             "gridcolor": "white",
             "linecolor": "white",
             "minorgridcolor": "white",
             "startlinecolor": "#2a3f5f"
            },
            "baxis": {
             "endlinecolor": "#2a3f5f",
             "gridcolor": "white",
             "linecolor": "white",
             "minorgridcolor": "white",
             "startlinecolor": "#2a3f5f"
            },
            "type": "carpet"
           }
          ],
          "choropleth": [
           {
            "colorbar": {
             "outlinewidth": 0,
             "ticks": ""
            },
            "type": "choropleth"
           }
          ],
          "contour": [
           {
            "colorbar": {
             "outlinewidth": 0,
             "ticks": ""
            },
            "colorscale": [
             [
              0,
              "#0d0887"
             ],
             [
              0.1111111111111111,
              "#46039f"
             ],
             [
              0.2222222222222222,
              "#7201a8"
             ],
             [
              0.3333333333333333,
              "#9c179e"
             ],
             [
              0.4444444444444444,
              "#bd3786"
             ],
             [
              0.5555555555555556,
              "#d8576b"
             ],
             [
              0.6666666666666666,
              "#ed7953"
             ],
             [
              0.7777777777777778,
              "#fb9f3a"
             ],
             [
              0.8888888888888888,
              "#fdca26"
             ],
             [
              1,
              "#f0f921"
             ]
            ],
            "type": "contour"
           }
          ],
          "contourcarpet": [
           {
            "colorbar": {
             "outlinewidth": 0,
             "ticks": ""
            },
            "type": "contourcarpet"
           }
          ],
          "heatmap": [
           {
            "colorbar": {
             "outlinewidth": 0,
             "ticks": ""
            },
            "colorscale": [
             [
              0,
              "#0d0887"
             ],
             [
              0.1111111111111111,
              "#46039f"
             ],
             [
              0.2222222222222222,
              "#7201a8"
             ],
             [
              0.3333333333333333,
              "#9c179e"
             ],
             [
              0.4444444444444444,
              "#bd3786"
             ],
             [
              0.5555555555555556,
              "#d8576b"
             ],
             [
              0.6666666666666666,
              "#ed7953"
             ],
             [
              0.7777777777777778,
              "#fb9f3a"
             ],
             [
              0.8888888888888888,
              "#fdca26"
             ],
             [
              1,
              "#f0f921"
             ]
            ],
            "type": "heatmap"
           }
          ],
          "heatmapgl": [
           {
            "colorbar": {
             "outlinewidth": 0,
             "ticks": ""
            },
            "colorscale": [
             [
              0,
              "#0d0887"
             ],
             [
              0.1111111111111111,
              "#46039f"
             ],
             [
              0.2222222222222222,
              "#7201a8"
             ],
             [
              0.3333333333333333,
              "#9c179e"
             ],
             [
              0.4444444444444444,
              "#bd3786"
             ],
             [
              0.5555555555555556,
              "#d8576b"
             ],
             [
              0.6666666666666666,
              "#ed7953"
             ],
             [
              0.7777777777777778,
              "#fb9f3a"
             ],
             [
              0.8888888888888888,
              "#fdca26"
             ],
             [
              1,
              "#f0f921"
             ]
            ],
            "type": "heatmapgl"
           }
          ],
          "histogram": [
           {
            "marker": {
             "pattern": {
              "fillmode": "overlay",
              "size": 10,
              "solidity": 0.2
             }
            },
            "type": "histogram"
           }
          ],
          "histogram2d": [
           {
            "colorbar": {
             "outlinewidth": 0,
             "ticks": ""
            },
            "colorscale": [
             [
              0,
              "#0d0887"
             ],
             [
              0.1111111111111111,
              "#46039f"
             ],
             [
              0.2222222222222222,
              "#7201a8"
             ],
             [
              0.3333333333333333,
              "#9c179e"
             ],
             [
              0.4444444444444444,
              "#bd3786"
             ],
             [
              0.5555555555555556,
              "#d8576b"
             ],
             [
              0.6666666666666666,
              "#ed7953"
             ],
             [
              0.7777777777777778,
              "#fb9f3a"
             ],
             [
              0.8888888888888888,
              "#fdca26"
             ],
             [
              1,
              "#f0f921"
             ]
            ],
            "type": "histogram2d"
           }
          ],
          "histogram2dcontour": [
           {
            "colorbar": {
             "outlinewidth": 0,
             "ticks": ""
            },
            "colorscale": [
             [
              0,
              "#0d0887"
             ],
             [
              0.1111111111111111,
              "#46039f"
             ],
             [
              0.2222222222222222,
              "#7201a8"
             ],
             [
              0.3333333333333333,
              "#9c179e"
             ],
             [
              0.4444444444444444,
              "#bd3786"
             ],
             [
              0.5555555555555556,
              "#d8576b"
             ],
             [
              0.6666666666666666,
              "#ed7953"
             ],
             [
              0.7777777777777778,
              "#fb9f3a"
             ],
             [
              0.8888888888888888,
              "#fdca26"
             ],
             [
              1,
              "#f0f921"
             ]
            ],
            "type": "histogram2dcontour"
           }
          ],
          "mesh3d": [
           {
            "colorbar": {
             "outlinewidth": 0,
             "ticks": ""
            },
            "type": "mesh3d"
           }
          ],
          "parcoords": [
           {
            "line": {
             "colorbar": {
              "outlinewidth": 0,
              "ticks": ""
             }
            },
            "type": "parcoords"
           }
          ],
          "pie": [
           {
            "automargin": true,
            "type": "pie"
           }
          ],
          "scatter": [
           {
            "fillpattern": {
             "fillmode": "overlay",
             "size": 10,
             "solidity": 0.2
            },
            "type": "scatter"
           }
          ],
          "scatter3d": [
           {
            "line": {
             "colorbar": {
              "outlinewidth": 0,
              "ticks": ""
             }
            },
            "marker": {
             "colorbar": {
              "outlinewidth": 0,
              "ticks": ""
             }
            },
            "type": "scatter3d"
           }
          ],
          "scattercarpet": [
           {
            "marker": {
             "colorbar": {
              "outlinewidth": 0,
              "ticks": ""
             }
            },
            "type": "scattercarpet"
           }
          ],
          "scattergeo": [
           {
            "marker": {
             "colorbar": {
              "outlinewidth": 0,
              "ticks": ""
             }
            },
            "type": "scattergeo"
           }
          ],
          "scattergl": [
           {
            "marker": {
             "colorbar": {
              "outlinewidth": 0,
              "ticks": ""
             }
            },
            "type": "scattergl"
           }
          ],
          "scattermapbox": [
           {
            "marker": {
             "colorbar": {
              "outlinewidth": 0,
              "ticks": ""
             }
            },
            "type": "scattermapbox"
           }
          ],
          "scatterpolar": [
           {
            "marker": {
             "colorbar": {
              "outlinewidth": 0,
              "ticks": ""
             }
            },
            "type": "scatterpolar"
           }
          ],
          "scatterpolargl": [
           {
            "marker": {
             "colorbar": {
              "outlinewidth": 0,
              "ticks": ""
             }
            },
            "type": "scatterpolargl"
           }
          ],
          "scatterternary": [
           {
            "marker": {
             "colorbar": {
              "outlinewidth": 0,
              "ticks": ""
             }
            },
            "type": "scatterternary"
           }
          ],
          "surface": [
           {
            "colorbar": {
             "outlinewidth": 0,
             "ticks": ""
            },
            "colorscale": [
             [
              0,
              "#0d0887"
             ],
             [
              0.1111111111111111,
              "#46039f"
             ],
             [
              0.2222222222222222,
              "#7201a8"
             ],
             [
              0.3333333333333333,
              "#9c179e"
             ],
             [
              0.4444444444444444,
              "#bd3786"
             ],
             [
              0.5555555555555556,
              "#d8576b"
             ],
             [
              0.6666666666666666,
              "#ed7953"
             ],
             [
              0.7777777777777778,
              "#fb9f3a"
             ],
             [
              0.8888888888888888,
              "#fdca26"
             ],
             [
              1,
              "#f0f921"
             ]
            ],
            "type": "surface"
           }
          ],
          "table": [
           {
            "cells": {
             "fill": {
              "color": "#EBF0F8"
             },
             "line": {
              "color": "white"
             }
            },
            "header": {
             "fill": {
              "color": "#C8D4E3"
             },
             "line": {
              "color": "white"
             }
            },
            "type": "table"
           }
          ]
         },
         "layout": {
          "annotationdefaults": {
           "arrowcolor": "#2a3f5f",
           "arrowhead": 0,
           "arrowwidth": 1
          },
          "autotypenumbers": "strict",
          "coloraxis": {
           "colorbar": {
            "outlinewidth": 0,
            "ticks": ""
           }
          },
          "colorscale": {
           "diverging": [
            [
             0,
             "#8e0152"
            ],
            [
             0.1,
             "#c51b7d"
            ],
            [
             0.2,
             "#de77ae"
            ],
            [
             0.3,
             "#f1b6da"
            ],
            [
             0.4,
             "#fde0ef"
            ],
            [
             0.5,
             "#f7f7f7"
            ],
            [
             0.6,
             "#e6f5d0"
            ],
            [
             0.7,
             "#b8e186"
            ],
            [
             0.8,
             "#7fbc41"
            ],
            [
             0.9,
             "#4d9221"
            ],
            [
             1,
             "#276419"
            ]
           ],
           "sequential": [
            [
             0,
             "#0d0887"
            ],
            [
             0.1111111111111111,
             "#46039f"
            ],
            [
             0.2222222222222222,
             "#7201a8"
            ],
            [
             0.3333333333333333,
             "#9c179e"
            ],
            [
             0.4444444444444444,
             "#bd3786"
            ],
            [
             0.5555555555555556,
             "#d8576b"
            ],
            [
             0.6666666666666666,
             "#ed7953"
            ],
            [
             0.7777777777777778,
             "#fb9f3a"
            ],
            [
             0.8888888888888888,
             "#fdca26"
            ],
            [
             1,
             "#f0f921"
            ]
           ],
           "sequentialminus": [
            [
             0,
             "#0d0887"
            ],
            [
             0.1111111111111111,
             "#46039f"
            ],
            [
             0.2222222222222222,
             "#7201a8"
            ],
            [
             0.3333333333333333,
             "#9c179e"
            ],
            [
             0.4444444444444444,
             "#bd3786"
            ],
            [
             0.5555555555555556,
             "#d8576b"
            ],
            [
             0.6666666666666666,
             "#ed7953"
            ],
            [
             0.7777777777777778,
             "#fb9f3a"
            ],
            [
             0.8888888888888888,
             "#fdca26"
            ],
            [
             1,
             "#f0f921"
            ]
           ]
          },
          "colorway": [
           "#636efa",
           "#EF553B",
           "#00cc96",
           "#ab63fa",
           "#FFA15A",
           "#19d3f3",
           "#FF6692",
           "#B6E880",
           "#FF97FF",
           "#FECB52"
          ],
          "font": {
           "color": "#2a3f5f"
          },
          "geo": {
           "bgcolor": "white",
           "lakecolor": "white",
           "landcolor": "#E5ECF6",
           "showlakes": true,
           "showland": true,
           "subunitcolor": "white"
          },
          "hoverlabel": {
           "align": "left"
          },
          "hovermode": "closest",
          "mapbox": {
           "style": "light"
          },
          "paper_bgcolor": "white",
          "plot_bgcolor": "#E5ECF6",
          "polar": {
           "angularaxis": {
            "gridcolor": "white",
            "linecolor": "white",
            "ticks": ""
           },
           "bgcolor": "#E5ECF6",
           "radialaxis": {
            "gridcolor": "white",
            "linecolor": "white",
            "ticks": ""
           }
          },
          "scene": {
           "xaxis": {
            "backgroundcolor": "#E5ECF6",
            "gridcolor": "white",
            "gridwidth": 2,
            "linecolor": "white",
            "showbackground": true,
            "ticks": "",
            "zerolinecolor": "white"
           },
           "yaxis": {
            "backgroundcolor": "#E5ECF6",
            "gridcolor": "white",
            "gridwidth": 2,
            "linecolor": "white",
            "showbackground": true,
            "ticks": "",
            "zerolinecolor": "white"
           },
           "zaxis": {
            "backgroundcolor": "#E5ECF6",
            "gridcolor": "white",
            "gridwidth": 2,
            "linecolor": "white",
            "showbackground": true,
            "ticks": "",
            "zerolinecolor": "white"
           }
          },
          "shapedefaults": {
           "line": {
            "color": "#2a3f5f"
           }
          },
          "ternary": {
           "aaxis": {
            "gridcolor": "white",
            "linecolor": "white",
            "ticks": ""
           },
           "baxis": {
            "gridcolor": "white",
            "linecolor": "white",
            "ticks": ""
           },
           "bgcolor": "#E5ECF6",
           "caxis": {
            "gridcolor": "white",
            "linecolor": "white",
            "ticks": ""
           }
          },
          "title": {
           "x": 0.05
          },
          "xaxis": {
           "automargin": true,
           "gridcolor": "white",
           "linecolor": "white",
           "ticks": "",
           "title": {
            "standoff": 15
           },
           "zerolinecolor": "white",
           "zerolinewidth": 2
          },
          "yaxis": {
           "automargin": true,
           "gridcolor": "white",
           "linecolor": "white",
           "ticks": "",
           "title": {
            "standoff": 15
           },
           "zerolinecolor": "white",
           "zerolinewidth": 2
          }
         }
        }
       }
      }
     },
     "metadata": {},
     "output_type": "display_data"
    }
   ],
   "source": [
    "df.select('emp_length').groupBy('emp_length').count().to_pandas_on_spark(index_col=['emp_length']).plot.pie(y='count')"
   ]
  },
  {
   "attachments": {},
   "cell_type": "markdown",
   "metadata": {},
   "source": [
    "# Stage 2: Predictive analysis "
   ]
  },
  {
   "attachments": {},
   "cell_type": "markdown",
   "metadata": {},
   "source": [
    "One Hot Encoding all the categorical value"
   ]
  },
  {
   "cell_type": "code",
   "execution_count": 206,
   "metadata": {},
   "outputs": [],
   "source": [
    "categorical_cols = [item[0] for item in df.dtypes if item[1].startswith('string')]"
   ]
  },
  {
   "cell_type": "code",
   "execution_count": 207,
   "metadata": {},
   "outputs": [
    {
     "data": {
      "text/plain": [
       "['term',\n",
       " 'grade',\n",
       " 'sub_grade',\n",
       " 'emp_length',\n",
       " 'home_ownership',\n",
       " 'verification_status',\n",
       " 'purpose',\n",
       " 'initial_list_status',\n",
       " 'application_type']"
      ]
     },
     "execution_count": 207,
     "metadata": {},
     "output_type": "execute_result"
    }
   ],
   "source": [
    "categorical_cols"
   ]
  },
  {
   "cell_type": "code",
   "execution_count": 208,
   "metadata": {},
   "outputs": [],
   "source": [
    "onehot_output_cols = list(map(lambda col : f\"{col}_onehot\", categorical_cols))"
   ]
  },
  {
   "cell_type": "code",
   "execution_count": 209,
   "metadata": {},
   "outputs": [],
   "source": [
    "numeric_output_cols = list(map(lambda col : f\"{col}_numeric\", categorical_cols))"
   ]
  },
  {
   "cell_type": "code",
   "execution_count": 210,
   "metadata": {},
   "outputs": [
    {
     "name": "stderr",
     "output_type": "stream",
     "text": [
      "                                                                                \r"
     ]
    }
   ],
   "source": [
    "from pyspark.ml.feature import OneHotEncoder, StringIndexer\n",
    "indexer = StringIndexer(inputCols=categorical_cols, outputCols=numeric_output_cols)\n",
    "indexer_fitted = indexer.fit(df)\n",
    "df_indexed = indexer_fitted.transform(df)\n",
    "\n",
    "one_hot = OneHotEncoder(inputCols=numeric_output_cols, outputCols=onehot_output_cols)\n",
    "one_hot_df = one_hot.fit(df_indexed).transform(df_indexed)\n",
    "df_one_hot = one_hot_df.drop(*numeric_output_cols, *categorical_cols)\n"
   ]
  },
  {
   "attachments": {},
   "cell_type": "markdown",
   "metadata": {},
   "source": [
    "## Process the training/testing data"
   ]
  },
  {
   "attachments": {},
   "cell_type": "markdown",
   "metadata": {},
   "source": [
    "### Resampling the training data with 50% default and 50% non-default"
   ]
  },
  {
   "cell_type": "code",
   "execution_count": 211,
   "metadata": {},
   "outputs": [],
   "source": [
    "default_records = df_one_hot.filter(df['default_ind'] == 1).count()"
   ]
  },
  {
   "cell_type": "code",
   "execution_count": 212,
   "metadata": {},
   "outputs": [],
   "source": [
    "non_default_records = df_one_hot.filter(df['default_ind'] == 0).count()"
   ]
  },
  {
   "cell_type": "code",
   "execution_count": 213,
   "metadata": {},
   "outputs": [],
   "source": [
    "X = df_one_hot.sampleBy(\"default_ind\", fractions={0: default_records/non_default_records, 1: 1}, seed=42)"
   ]
  },
  {
   "cell_type": "code",
   "execution_count": 214,
   "metadata": {},
   "outputs": [
    {
     "name": "stderr",
     "output_type": "stream",
     "text": [
      "                                                                                \r"
     ]
    },
    {
     "data": {
      "text/plain": [
       "40660"
      ]
     },
     "execution_count": 214,
     "metadata": {},
     "output_type": "execute_result"
    }
   ],
   "source": [
    "X.filter(X['default_ind'] == 1).count()"
   ]
  },
  {
   "cell_type": "code",
   "execution_count": 215,
   "metadata": {},
   "outputs": [
    {
     "name": "stderr",
     "output_type": "stream",
     "text": [
      "                                                                                \r"
     ]
    },
    {
     "data": {
      "text/plain": [
       "40928"
      ]
     },
     "execution_count": 215,
     "metadata": {},
     "output_type": "execute_result"
    }
   ],
   "source": [
    "X.filter(X['default_ind'] == 0).count()"
   ]
  },
  {
   "cell_type": "code",
   "execution_count": 216,
   "metadata": {},
   "outputs": [
    {
     "data": {
      "application/vnd.plotly.v1+json": {
       "config": {
        "plotlyServerURL": "https://plot.ly"
       },
       "data": [
        {
         "domain": {
          "x": [
           0,
           1
          ],
          "y": [
           0,
           1
          ]
         },
         "hovertemplate": "default_ind=%{label}<br>count=%{value}<extra></extra>",
         "labels": [
          1,
          0
         ],
         "legendgroup": "",
         "name": "",
         "showlegend": true,
         "type": "pie",
         "values": [
          40660,
          40928
         ]
        }
       ],
       "layout": {
        "legend": {
         "tracegroupgap": 0
        },
        "margin": {
         "t": 60
        },
        "template": {
         "data": {
          "bar": [
           {
            "error_x": {
             "color": "#2a3f5f"
            },
            "error_y": {
             "color": "#2a3f5f"
            },
            "marker": {
             "line": {
              "color": "#E5ECF6",
              "width": 0.5
             },
             "pattern": {
              "fillmode": "overlay",
              "size": 10,
              "solidity": 0.2
             }
            },
            "type": "bar"
           }
          ],
          "barpolar": [
           {
            "marker": {
             "line": {
              "color": "#E5ECF6",
              "width": 0.5
             },
             "pattern": {
              "fillmode": "overlay",
              "size": 10,
              "solidity": 0.2
             }
            },
            "type": "barpolar"
           }
          ],
          "carpet": [
           {
            "aaxis": {
             "endlinecolor": "#2a3f5f",
             "gridcolor": "white",
             "linecolor": "white",
             "minorgridcolor": "white",
             "startlinecolor": "#2a3f5f"
            },
            "baxis": {
             "endlinecolor": "#2a3f5f",
             "gridcolor": "white",
             "linecolor": "white",
             "minorgridcolor": "white",
             "startlinecolor": "#2a3f5f"
            },
            "type": "carpet"
           }
          ],
          "choropleth": [
           {
            "colorbar": {
             "outlinewidth": 0,
             "ticks": ""
            },
            "type": "choropleth"
           }
          ],
          "contour": [
           {
            "colorbar": {
             "outlinewidth": 0,
             "ticks": ""
            },
            "colorscale": [
             [
              0,
              "#0d0887"
             ],
             [
              0.1111111111111111,
              "#46039f"
             ],
             [
              0.2222222222222222,
              "#7201a8"
             ],
             [
              0.3333333333333333,
              "#9c179e"
             ],
             [
              0.4444444444444444,
              "#bd3786"
             ],
             [
              0.5555555555555556,
              "#d8576b"
             ],
             [
              0.6666666666666666,
              "#ed7953"
             ],
             [
              0.7777777777777778,
              "#fb9f3a"
             ],
             [
              0.8888888888888888,
              "#fdca26"
             ],
             [
              1,
              "#f0f921"
             ]
            ],
            "type": "contour"
           }
          ],
          "contourcarpet": [
           {
            "colorbar": {
             "outlinewidth": 0,
             "ticks": ""
            },
            "type": "contourcarpet"
           }
          ],
          "heatmap": [
           {
            "colorbar": {
             "outlinewidth": 0,
             "ticks": ""
            },
            "colorscale": [
             [
              0,
              "#0d0887"
             ],
             [
              0.1111111111111111,
              "#46039f"
             ],
             [
              0.2222222222222222,
              "#7201a8"
             ],
             [
              0.3333333333333333,
              "#9c179e"
             ],
             [
              0.4444444444444444,
              "#bd3786"
             ],
             [
              0.5555555555555556,
              "#d8576b"
             ],
             [
              0.6666666666666666,
              "#ed7953"
             ],
             [
              0.7777777777777778,
              "#fb9f3a"
             ],
             [
              0.8888888888888888,
              "#fdca26"
             ],
             [
              1,
              "#f0f921"
             ]
            ],
            "type": "heatmap"
           }
          ],
          "heatmapgl": [
           {
            "colorbar": {
             "outlinewidth": 0,
             "ticks": ""
            },
            "colorscale": [
             [
              0,
              "#0d0887"
             ],
             [
              0.1111111111111111,
              "#46039f"
             ],
             [
              0.2222222222222222,
              "#7201a8"
             ],
             [
              0.3333333333333333,
              "#9c179e"
             ],
             [
              0.4444444444444444,
              "#bd3786"
             ],
             [
              0.5555555555555556,
              "#d8576b"
             ],
             [
              0.6666666666666666,
              "#ed7953"
             ],
             [
              0.7777777777777778,
              "#fb9f3a"
             ],
             [
              0.8888888888888888,
              "#fdca26"
             ],
             [
              1,
              "#f0f921"
             ]
            ],
            "type": "heatmapgl"
           }
          ],
          "histogram": [
           {
            "marker": {
             "pattern": {
              "fillmode": "overlay",
              "size": 10,
              "solidity": 0.2
             }
            },
            "type": "histogram"
           }
          ],
          "histogram2d": [
           {
            "colorbar": {
             "outlinewidth": 0,
             "ticks": ""
            },
            "colorscale": [
             [
              0,
              "#0d0887"
             ],
             [
              0.1111111111111111,
              "#46039f"
             ],
             [
              0.2222222222222222,
              "#7201a8"
             ],
             [
              0.3333333333333333,
              "#9c179e"
             ],
             [
              0.4444444444444444,
              "#bd3786"
             ],
             [
              0.5555555555555556,
              "#d8576b"
             ],
             [
              0.6666666666666666,
              "#ed7953"
             ],
             [
              0.7777777777777778,
              "#fb9f3a"
             ],
             [
              0.8888888888888888,
              "#fdca26"
             ],
             [
              1,
              "#f0f921"
             ]
            ],
            "type": "histogram2d"
           }
          ],
          "histogram2dcontour": [
           {
            "colorbar": {
             "outlinewidth": 0,
             "ticks": ""
            },
            "colorscale": [
             [
              0,
              "#0d0887"
             ],
             [
              0.1111111111111111,
              "#46039f"
             ],
             [
              0.2222222222222222,
              "#7201a8"
             ],
             [
              0.3333333333333333,
              "#9c179e"
             ],
             [
              0.4444444444444444,
              "#bd3786"
             ],
             [
              0.5555555555555556,
              "#d8576b"
             ],
             [
              0.6666666666666666,
              "#ed7953"
             ],
             [
              0.7777777777777778,
              "#fb9f3a"
             ],
             [
              0.8888888888888888,
              "#fdca26"
             ],
             [
              1,
              "#f0f921"
             ]
            ],
            "type": "histogram2dcontour"
           }
          ],
          "mesh3d": [
           {
            "colorbar": {
             "outlinewidth": 0,
             "ticks": ""
            },
            "type": "mesh3d"
           }
          ],
          "parcoords": [
           {
            "line": {
             "colorbar": {
              "outlinewidth": 0,
              "ticks": ""
             }
            },
            "type": "parcoords"
           }
          ],
          "pie": [
           {
            "automargin": true,
            "type": "pie"
           }
          ],
          "scatter": [
           {
            "fillpattern": {
             "fillmode": "overlay",
             "size": 10,
             "solidity": 0.2
            },
            "type": "scatter"
           }
          ],
          "scatter3d": [
           {
            "line": {
             "colorbar": {
              "outlinewidth": 0,
              "ticks": ""
             }
            },
            "marker": {
             "colorbar": {
              "outlinewidth": 0,
              "ticks": ""
             }
            },
            "type": "scatter3d"
           }
          ],
          "scattercarpet": [
           {
            "marker": {
             "colorbar": {
              "outlinewidth": 0,
              "ticks": ""
             }
            },
            "type": "scattercarpet"
           }
          ],
          "scattergeo": [
           {
            "marker": {
             "colorbar": {
              "outlinewidth": 0,
              "ticks": ""
             }
            },
            "type": "scattergeo"
           }
          ],
          "scattergl": [
           {
            "marker": {
             "colorbar": {
              "outlinewidth": 0,
              "ticks": ""
             }
            },
            "type": "scattergl"
           }
          ],
          "scattermapbox": [
           {
            "marker": {
             "colorbar": {
              "outlinewidth": 0,
              "ticks": ""
             }
            },
            "type": "scattermapbox"
           }
          ],
          "scatterpolar": [
           {
            "marker": {
             "colorbar": {
              "outlinewidth": 0,
              "ticks": ""
             }
            },
            "type": "scatterpolar"
           }
          ],
          "scatterpolargl": [
           {
            "marker": {
             "colorbar": {
              "outlinewidth": 0,
              "ticks": ""
             }
            },
            "type": "scatterpolargl"
           }
          ],
          "scatterternary": [
           {
            "marker": {
             "colorbar": {
              "outlinewidth": 0,
              "ticks": ""
             }
            },
            "type": "scatterternary"
           }
          ],
          "surface": [
           {
            "colorbar": {
             "outlinewidth": 0,
             "ticks": ""
            },
            "colorscale": [
             [
              0,
              "#0d0887"
             ],
             [
              0.1111111111111111,
              "#46039f"
             ],
             [
              0.2222222222222222,
              "#7201a8"
             ],
             [
              0.3333333333333333,
              "#9c179e"
             ],
             [
              0.4444444444444444,
              "#bd3786"
             ],
             [
              0.5555555555555556,
              "#d8576b"
             ],
             [
              0.6666666666666666,
              "#ed7953"
             ],
             [
              0.7777777777777778,
              "#fb9f3a"
             ],
             [
              0.8888888888888888,
              "#fdca26"
             ],
             [
              1,
              "#f0f921"
             ]
            ],
            "type": "surface"
           }
          ],
          "table": [
           {
            "cells": {
             "fill": {
              "color": "#EBF0F8"
             },
             "line": {
              "color": "white"
             }
            },
            "header": {
             "fill": {
              "color": "#C8D4E3"
             },
             "line": {
              "color": "white"
             }
            },
            "type": "table"
           }
          ]
         },
         "layout": {
          "annotationdefaults": {
           "arrowcolor": "#2a3f5f",
           "arrowhead": 0,
           "arrowwidth": 1
          },
          "autotypenumbers": "strict",
          "coloraxis": {
           "colorbar": {
            "outlinewidth": 0,
            "ticks": ""
           }
          },
          "colorscale": {
           "diverging": [
            [
             0,
             "#8e0152"
            ],
            [
             0.1,
             "#c51b7d"
            ],
            [
             0.2,
             "#de77ae"
            ],
            [
             0.3,
             "#f1b6da"
            ],
            [
             0.4,
             "#fde0ef"
            ],
            [
             0.5,
             "#f7f7f7"
            ],
            [
             0.6,
             "#e6f5d0"
            ],
            [
             0.7,
             "#b8e186"
            ],
            [
             0.8,
             "#7fbc41"
            ],
            [
             0.9,
             "#4d9221"
            ],
            [
             1,
             "#276419"
            ]
           ],
           "sequential": [
            [
             0,
             "#0d0887"
            ],
            [
             0.1111111111111111,
             "#46039f"
            ],
            [
             0.2222222222222222,
             "#7201a8"
            ],
            [
             0.3333333333333333,
             "#9c179e"
            ],
            [
             0.4444444444444444,
             "#bd3786"
            ],
            [
             0.5555555555555556,
             "#d8576b"
            ],
            [
             0.6666666666666666,
             "#ed7953"
            ],
            [
             0.7777777777777778,
             "#fb9f3a"
            ],
            [
             0.8888888888888888,
             "#fdca26"
            ],
            [
             1,
             "#f0f921"
            ]
           ],
           "sequentialminus": [
            [
             0,
             "#0d0887"
            ],
            [
             0.1111111111111111,
             "#46039f"
            ],
            [
             0.2222222222222222,
             "#7201a8"
            ],
            [
             0.3333333333333333,
             "#9c179e"
            ],
            [
             0.4444444444444444,
             "#bd3786"
            ],
            [
             0.5555555555555556,
             "#d8576b"
            ],
            [
             0.6666666666666666,
             "#ed7953"
            ],
            [
             0.7777777777777778,
             "#fb9f3a"
            ],
            [
             0.8888888888888888,
             "#fdca26"
            ],
            [
             1,
             "#f0f921"
            ]
           ]
          },
          "colorway": [
           "#636efa",
           "#EF553B",
           "#00cc96",
           "#ab63fa",
           "#FFA15A",
           "#19d3f3",
           "#FF6692",
           "#B6E880",
           "#FF97FF",
           "#FECB52"
          ],
          "font": {
           "color": "#2a3f5f"
          },
          "geo": {
           "bgcolor": "white",
           "lakecolor": "white",
           "landcolor": "#E5ECF6",
           "showlakes": true,
           "showland": true,
           "subunitcolor": "white"
          },
          "hoverlabel": {
           "align": "left"
          },
          "hovermode": "closest",
          "mapbox": {
           "style": "light"
          },
          "paper_bgcolor": "white",
          "plot_bgcolor": "#E5ECF6",
          "polar": {
           "angularaxis": {
            "gridcolor": "white",
            "linecolor": "white",
            "ticks": ""
           },
           "bgcolor": "#E5ECF6",
           "radialaxis": {
            "gridcolor": "white",
            "linecolor": "white",
            "ticks": ""
           }
          },
          "scene": {
           "xaxis": {
            "backgroundcolor": "#E5ECF6",
            "gridcolor": "white",
            "gridwidth": 2,
            "linecolor": "white",
            "showbackground": true,
            "ticks": "",
            "zerolinecolor": "white"
           },
           "yaxis": {
            "backgroundcolor": "#E5ECF6",
            "gridcolor": "white",
            "gridwidth": 2,
            "linecolor": "white",
            "showbackground": true,
            "ticks": "",
            "zerolinecolor": "white"
           },
           "zaxis": {
            "backgroundcolor": "#E5ECF6",
            "gridcolor": "white",
            "gridwidth": 2,
            "linecolor": "white",
            "showbackground": true,
            "ticks": "",
            "zerolinecolor": "white"
           }
          },
          "shapedefaults": {
           "line": {
            "color": "#2a3f5f"
           }
          },
          "ternary": {
           "aaxis": {
            "gridcolor": "white",
            "linecolor": "white",
            "ticks": ""
           },
           "baxis": {
            "gridcolor": "white",
            "linecolor": "white",
            "ticks": ""
           },
           "bgcolor": "#E5ECF6",
           "caxis": {
            "gridcolor": "white",
            "linecolor": "white",
            "ticks": ""
           }
          },
          "title": {
           "x": 0.05
          },
          "xaxis": {
           "automargin": true,
           "gridcolor": "white",
           "linecolor": "white",
           "ticks": "",
           "title": {
            "standoff": 15
           },
           "zerolinecolor": "white",
           "zerolinewidth": 2
          },
          "yaxis": {
           "automargin": true,
           "gridcolor": "white",
           "linecolor": "white",
           "ticks": "",
           "title": {
            "standoff": 15
           },
           "zerolinecolor": "white",
           "zerolinewidth": 2
          }
         }
        }
       }
      }
     },
     "metadata": {},
     "output_type": "display_data"
    }
   ],
   "source": [
    "X.groupBy('default_ind').count().to_pandas_on_spark(index_col='default_ind').plot.pie(y='count')"
   ]
  },
  {
   "attachments": {},
   "cell_type": "markdown",
   "metadata": {},
   "source": [
    "Now that our training data is well sampled, let's split the training data into 70% training and 30% testing"
   ]
  },
  {
   "cell_type": "code",
   "execution_count": 217,
   "metadata": {},
   "outputs": [],
   "source": [
    "(train, test) = X.randomSplit([0.7, 0.3], seed=42)"
   ]
  },
  {
   "attachments": {},
   "cell_type": "markdown",
   "metadata": {},
   "source": [
    "## Process One (3 ML Models with Spark ML)"
   ]
  },
  {
   "cell_type": "code",
   "execution_count": 218,
   "metadata": {},
   "outputs": [],
   "source": [
    "from pyspark.ml.feature import VectorAssembler\n",
    "from pyspark.ml.evaluation import BinaryClassificationEvaluator, MulticlassClassificationEvaluator\n",
    "from pyspark.mllib.evaluation import MulticlassMetrics\n",
    "from pyspark.sql.types import DoubleType, FloatType"
   ]
  },
  {
   "cell_type": "code",
   "execution_count": 219,
   "metadata": {},
   "outputs": [],
   "source": [
    "columns = df_one_hot.columns\n",
    "columns.remove('default_ind')"
   ]
  },
  {
   "cell_type": "code",
   "execution_count": 220,
   "metadata": {},
   "outputs": [],
   "source": [
    "vector_assembler = VectorAssembler(\n",
    "    inputCols=columns,\n",
    "    outputCol=\"features\"\n",
    ")"
   ]
  },
  {
   "cell_type": "code",
   "execution_count": 221,
   "metadata": {},
   "outputs": [],
   "source": [
    "import matplotlib.pyplot as plt\n",
    "from sklearn.metrics import roc_curve, auc\n",
    "def graph_roc_curve(y_true, y_pred):\n",
    "    fpr, tpr, thresholds = roc_curve(y_true, y_pred)\n",
    "    roc_auc = auc(fpr, tpr)\n",
    "\n",
    "    plt.figure()\n",
    "    plt.plot(fpr, tpr, color='darkorange', label='ROC curve (area = %0.2f)' % roc_auc)\n",
    "    plt.plot([0, 1], [0, 1], color='navy', linestyle='--')\n",
    "    plt.xlim([0.0, 1.0])\n",
    "    plt.ylim([0.0, 1.05])\n",
    "    plt.xlabel('False Positive Rate')\n",
    "    plt.ylabel('True Positive Rate')\n",
    "    plt.title('ROC Curve')\n",
    "    plt.legend(loc=\"lower right\")\n",
    "    plt.show()"
   ]
  },
  {
   "cell_type": "code",
   "execution_count": 222,
   "metadata": {},
   "outputs": [],
   "source": [
    "def get_spark_ml_perf(predictions):\n",
    "    binary_eval = BinaryClassificationEvaluator(labelCol='label')\n",
    "    evaluate_accuracy = MulticlassClassificationEvaluator(labelCol=\"default_ind\", predictionCol=\"prediction\", metricName=\"accuracy\")\n",
    "    evaluate_precision = MulticlassClassificationEvaluator(labelCol=\"default_ind\", predictionCol=\"prediction\", metricName=\"precisionByLabel\")\n",
    "    evaluate_recall = MulticlassClassificationEvaluator(labelCol=\"default_ind\", predictionCol=\"prediction\", metricName=\"recallByLabel\")\n",
    "    evaluate_f1 = MulticlassClassificationEvaluator(labelCol=\"default_ind\", predictionCol=\"prediction\", metricName=\"f1\")\n",
    "    roc = binary_eval.evaluate(predictions.withColumn('label', predictions['default_ind'].cast(DoubleType())))\n",
    "\n",
    "    accuracy=evaluate_accuracy.evaluate(predictions)\n",
    "    precision=evaluate_precision.evaluate(predictions)\n",
    "    recall=evaluate_recall.evaluate(predictions)\n",
    "\n",
    "    print(\"Summary Stats\")\n",
    "    print(\"Accuracy = %s\" % accuracy)\n",
    "    print(\"Precision = %s\" % precision)\n",
    "    print(\"Recall = %s\" % recall)\n",
    "    print(\"Area under ROC = %s\" % roc)\n",
    "    graph_roc_curve(predictions.select(predictions['default_ind']).toPandas(), predictions.select(predictions['prediction']).toPandas())\n",
    "    return {\n",
    "        \"accuracy\": accuracy,\n",
    "        \"precision\": precision,\n",
    "        \"recall\": recall,\n",
    "    }"
   ]
  },
  {
   "attachments": {},
   "cell_type": "markdown",
   "metadata": {},
   "source": [
    "### Decision Tree"
   ]
  },
  {
   "cell_type": "code",
   "execution_count": 223,
   "metadata": {},
   "outputs": [],
   "source": [
    "from pyspark.ml.classification import DecisionTreeClassifier\n",
    "from pyspark.ml import Pipeline"
   ]
  },
  {
   "cell_type": "code",
   "execution_count": 224,
   "metadata": {},
   "outputs": [],
   "source": [
    "decision_tree = DecisionTreeClassifier(labelCol='default_ind', featuresCol='features')"
   ]
  },
  {
   "cell_type": "code",
   "execution_count": 225,
   "metadata": {},
   "outputs": [],
   "source": [
    "pipeline = Pipeline(stages=[vector_assembler, decision_tree])"
   ]
  },
  {
   "cell_type": "code",
   "execution_count": 226,
   "metadata": {},
   "outputs": [
    {
     "name": "stderr",
     "output_type": "stream",
     "text": [
      "                                                                                \r"
     ]
    }
   ],
   "source": [
    "decision_tree_clf = pipeline.fit(train)"
   ]
  },
  {
   "cell_type": "code",
   "execution_count": 227,
   "metadata": {},
   "outputs": [],
   "source": [
    "predictions = decision_tree_clf.transform(test)"
   ]
  },
  {
   "cell_type": "code",
   "execution_count": 228,
   "metadata": {},
   "outputs": [
    {
     "name": "stdout",
     "output_type": "stream",
     "text": [
      "+---------+-----------+--------+-----------+----------+-----+-----------+--------------+--------+-------+---------+----------+---------+---------+-----------+---------------+---------------+-------------+------------------+----------+-----------------------+---------------+--------------------------+--------------+------------+-----------+----------------+-----------+-------------+-------------+----------------+-----------------+---------------------+--------------------------+--------------+--------------------------+-----------------------+--------------------+---------------+--------------------+----------+\n",
      "|loan_amnt|funded_amnt|int_rate|installment|annual_inc|  dti|delinq_2yrs|inq_last_6mths|open_acc|pub_rec|revol_bal|revol_util|total_acc|out_prncp|total_pymnt|total_pymnt_inv|total_rec_prncp|total_rec_int|total_rec_late_fee|recoveries|collection_recovery_fee|last_pymnt_amnt|collections_12_mths_ex_med|acc_now_delinq|tot_coll_amt|tot_cur_bal|total_rev_hi_lim|default_ind|  term_onehot| grade_onehot|sub_grade_onehot|emp_length_onehot|home_ownership_onehot|verification_status_onehot|purpose_onehot|initial_list_status_onehot|application_type_onehot|            features|  rawPrediction|         probability|prediction|\n",
      "+---------+-----------+--------+-----------+----------+-----+-----------+--------------+--------+-------+---------+----------+---------+---------+-----------+---------------+---------------+-------------+------------------+----------+-----------------------+---------------+--------------------------+--------------+------------+-----------+----------------+-----------+-------------+-------------+----------------+-----------------+---------------------+--------------------------+--------------+--------------------------+-----------------------+--------------------+---------------+--------------------+----------+\n",
      "|     1000|       1000|    7.29|      31.01|   33240.0|12.96|          0|             2|       8|      0|    15255|      86.2|       18|      0.0|      92.73|          92.73|          75.02|        17.71|               0.0|       0.0|                    0.0|          31.01|                         0|             0|           0|      80123|           23700|          1|(1,[0],[1.0])|(6,[2],[1.0])| (34,[12],[1.0])|   (11,[7],[1.0])|        (3,[2],[1.0])|             (2,[0],[1.0])|(13,[0],[1.0])|                 (1,[],[])|          (1,[0],[1.0])|(99,[0,1,2,3,4,5,...| [400.0,5879.0]|[0.06370441153049...|       1.0|\n",
      "|     1000|       1000|     8.9|      31.76|   85000.0| 0.75|          0|             0|       4|      0|      835|      24.6|        5|      0.0|    1041.65|        1041.65|         1000.0|        41.65|               0.0|       0.0|                    0.0|         883.52|                         0|             0|           0|      80123|           23700|          0|(1,[0],[1.0])|(6,[2],[1.0])|  (34,[9],[1.0])|   (11,[5],[1.0])|        (3,[1],[1.0])|                 (2,[],[])|(13,[0],[1.0])|                 (1,[],[])|          (1,[0],[1.0])|(99,[0,1,2,3,4,5,...| [400.0,5879.0]|[0.06370441153049...|       1.0|\n",
      "|     1000|       1000|    9.99|      32.27|   84000.0| 9.11|          2|             0|       5|      0|      350|      35.0|       18|      0.0|    1075.06|        1075.06|         1000.0|        75.06|               0.0|       0.0|                    0.0|         221.81|                         0|             0|           0|      80123|           23700|          0|(1,[0],[1.0])|(6,[0],[1.0])|  (34,[8],[1.0])|   (11,[3],[1.0])|        (3,[0],[1.0])|                 (2,[],[])|(13,[2],[1.0])|                 (1,[],[])|          (1,[0],[1.0])|(99,[0,1,2,3,4,5,...| [400.0,5879.0]|[0.06370441153049...|       1.0|\n",
      "|     1000|       1000|    10.0|      32.27|   13728.0|23.34|          0|             0|      13|      1|     7195|      61.5|       18|      0.0|     160.75|         160.75|         121.24|        39.51|               0.0|       0.0|                    0.0|          32.27|                         0|             0|           0|      80123|           23700|          1|(1,[0],[1.0])|(6,[0],[1.0])|  (34,[7],[1.0])|   (11,[7],[1.0])|        (3,[1],[1.0])|                 (2,[],[])|(13,[1],[1.0])|                 (1,[],[])|          (1,[0],[1.0])|(99,[0,1,2,3,4,5,...| [400.0,5879.0]|[0.06370441153049...|       1.0|\n",
      "|     1000|       1000|   10.59|      32.55|   38000.0|27.47|          0|             1|       8|      0|    58794|      97.2|       36|      0.0|     162.05|         162.05|         120.22|        41.83|               0.0|       0.0|                    0.0|          32.55|                         0|             0|           0|      80123|           23700|          1|(1,[0],[1.0])|(6,[0],[1.0])|  (34,[7],[1.0])|   (11,[7],[1.0])|        (3,[0],[1.0])|                 (2,[],[])|(13,[6],[1.0])|                 (1,[],[])|          (1,[0],[1.0])|(99,[0,1,2,3,4,5,...| [400.0,5879.0]|[0.06370441153049...|       1.0|\n",
      "|     1000|       1000|   10.59|      32.55|   55000.0|14.42|          0|             0|      12|      0|    23983|      96.7|       32|      0.0|1171.122114|        1171.12|         1000.0|       171.12|               0.0|       0.0|                    0.0|          34.66|                         0|             0|           0|      80123|           23700|          0|(1,[0],[1.0])|(6,[0],[1.0])|  (34,[7],[1.0])|   (11,[0],[1.0])|        (3,[0],[1.0])|                 (2,[],[])|(13,[0],[1.0])|                 (1,[],[])|          (1,[0],[1.0])|(99,[0,1,2,3,4,5,...| [400.0,5879.0]|[0.06370441153049...|       1.0|\n",
      "|     1000|       1000|   10.99|      32.74|   24000.0|15.35|          0|             0|       5|      0|     4418|      40.9|       11|      0.0|    1097.18|        1097.18|         143.93|        51.37|               0.0|    901.88|                  315.7|          32.74|                         0|             0|           0|      80123|           23700|          1|(1,[0],[1.0])|(6,[0],[1.0])|  (34,[1],[1.0])|   (11,[3],[1.0])|        (3,[1],[1.0])|             (2,[0],[1.0])|(13,[4],[1.0])|                 (1,[],[])|          (1,[0],[1.0])|(99,[0,1,2,3,4,5,...| [400.0,5879.0]|[0.06370441153049...|       1.0|\n",
      "|     1000|       1000|   11.99|      33.21|   19740.0| 4.26|          0|             0|       5|      0|      973|      16.8|        7|      0.0|     1152.1|         1152.1|         999.97|       152.13|               0.0|       0.0|                    0.0|         554.36|                         0|             0|        4268|        973|            5800|          0|(1,[0],[1.0])|(6,[0],[1.0])|  (34,[0],[1.0])|   (11,[7],[1.0])|        (3,[1],[1.0])|             (2,[0],[1.0])|(13,[0],[1.0])|                 (1,[],[])|          (1,[0],[1.0])|(99,[0,1,2,3,4,5,...| [400.0,5879.0]|[0.06370441153049...|       1.0|\n",
      "|     1000|       1000|   11.99|      33.21|   50000.0|15.87|          0|             3|       6|      0|     3126|      42.2|       16|   460.47|     697.41|         697.41|         539.53|       157.88|               0.0|       0.0|                    0.0|          33.21|                         0|             0|           0|     161968|            7400|          1|(1,[0],[1.0])|(6,[0],[1.0])|  (34,[0],[1.0])|   (11,[5],[1.0])|        (3,[0],[1.0])|                 (2,[],[])|(13,[1],[1.0])|             (1,[0],[1.0])|          (1,[0],[1.0])|(99,[0,1,2,3,4,5,...|[16843.0,388.0]|[0.97748244443154...|       0.0|\n",
      "|     1000|       1000|   12.68|      22.59|   24000.0| 9.15|          0|             2|      14|      0|     5204|      31.5|       30|    91.33|    1259.76|        1259.76|         908.67|       351.09|               0.0|       0.0|                    0.0|          22.59|                         0|             0|           0|      80123|           23700|          0|    (1,[],[])|(6,[1],[1.0])|  (34,[2],[1.0])|   (11,[5],[1.0])|        (3,[0],[1.0])|                 (2,[],[])|(13,[9],[1.0])|                 (1,[],[])|          (1,[0],[1.0])|(99,[0,1,2,3,4,5,...|[16843.0,388.0]|[0.97748244443154...|       0.0|\n",
      "|     1000|       1000|   12.68|      33.55|   54000.0|14.58|          0|             0|      11|      0|     6745|      63.6|       23|      0.0| 1206.32041|        1206.32|         1000.0|       206.32|               0.0|       0.0|                    0.0|          37.85|                         0|             0|           0|      80123|           23700|          0|(1,[0],[1.0])|(6,[1],[1.0])|  (34,[2],[1.0])|   (11,[0],[1.0])|        (3,[1],[1.0])|             (2,[0],[1.0])|(13,[9],[1.0])|                 (1,[],[])|          (1,[0],[1.0])|(99,[0,1,2,3,4,5,...| [400.0,5879.0]|[0.06370441153049...|       1.0|\n",
      "|     1000|       1000|   13.49|      33.94|   18000.0| 17.6|          0|             1|       6|      1|     1411|      18.6|       20|      0.0|     703.21|         703.21|          502.9|        171.9|               0.0|     28.41|                 0.2841|          33.94|                         0|             0|           0|      80123|           23700|          1|(1,[0],[1.0])|(6,[1],[1.0])|  (34,[2],[1.0])|   (11,[3],[1.0])|        (3,[1],[1.0])|             (2,[1],[1.0])|(13,[6],[1.0])|                 (1,[],[])|          (1,[0],[1.0])|(99,[0,1,2,3,4,5,...| [400.0,5879.0]|[0.06370441153049...|       1.0|\n",
      "|     1000|       1000|   13.49|      33.94|   35100.0| 6.19|          0|             1|       8|      0|     9219|      73.1|       17|      0.0|    1017.55|        1017.55|         1000.0|        17.55|               0.0|       0.0|                    0.0|         563.79|                         0|             0|           0|      80123|           23700|          0|(1,[0],[1.0])|(6,[1],[1.0])|  (34,[2],[1.0])|   (11,[9],[1.0])|        (3,[1],[1.0])|                 (2,[],[])|(13,[5],[1.0])|                 (1,[],[])|          (1,[0],[1.0])|(99,[0,1,2,3,4,5,...| [400.0,5879.0]|[0.06370441153049...|       1.0|\n",
      "|     1000|       1000|   13.49|      33.94|   76000.0|18.52|          0|             0|       9|      0|     3808|      97.6|       16|      0.0|1220.588405|        1220.59|         1000.0|       220.59|               0.0|       0.0|                    0.0|          36.33|                         0|             0|           0|      80123|           23700|          0|(1,[0],[1.0])|(6,[1],[1.0])|  (34,[2],[1.0])|   (11,[1],[1.0])|        (3,[1],[1.0])|                 (2,[],[])|(13,[4],[1.0])|                 (1,[],[])|          (1,[0],[1.0])|(99,[0,1,2,3,4,5,...| [400.0,5879.0]|[0.06370441153049...|       1.0|\n",
      "|     1000|       1000|   13.67|      34.02|   32000.0|12.19|          0|             0|       5|      0|      700|      17.5|       26|      0.0|    1033.47|        1033.47|         1000.0|        33.47|               0.0|       0.0|                    0.0|         965.57|                         0|             0|           0|      57067|            4000|          0|(1,[0],[1.0])|(6,[0],[1.0])|  (34,[6],[1.0])|   (11,[3],[1.0])|        (3,[1],[1.0])|                 (2,[],[])|(13,[0],[1.0])|                 (1,[],[])|          (1,[0],[1.0])|(99,[0,1,2,3,4,5,...| [400.0,5879.0]|[0.06370441153049...|       1.0|\n",
      "|     1000|       1000|   13.99|      34.18|   60000.0| 2.58|          0|             1|       3|      1|     5630|      62.6|       11|      0.0|      340.7|          340.7|         236.64|       104.06|               0.0|       0.0|                    0.0|          34.18|                         0|             0|           0|      80123|           23700|          1|(1,[0],[1.0])|(6,[1],[1.0])|  (34,[4],[1.0])|   (11,[6],[1.0])|        (3,[1],[1.0])|             (2,[0],[1.0])|(13,[9],[1.0])|                 (1,[],[])|          (1,[0],[1.0])|(99,[0,1,2,3,4,5,...| [400.0,5879.0]|[0.06370441153049...|       1.0|\n",
      "|     1000|       1000|   14.17|      34.27|   50000.0| 22.7|          0|             2|      13|      0|     5180|      60.9|       18|      0.0|     548.81|         548.81|         365.08|       147.32|               0.0|     36.41|                   0.39|          34.27|                         0|             0|           0|      80123|           23700|          1|(1,[0],[1.0])|(6,[1],[1.0])| (34,[10],[1.0])|       (11,[],[])|        (3,[1],[1.0])|             (2,[0],[1.0])|(13,[8],[1.0])|                 (1,[],[])|          (1,[0],[1.0])|(99,[0,1,2,3,4,5,...| [400.0,5879.0]|[0.06370441153049...|       1.0|\n",
      "|     1000|       1000|   14.96|      34.65|   12240.0|20.98|          0|             3|       4|      0|     5351|      42.8|        5|      0.0|      44.96|          44.96|            0.0|          0.0|               0.0|     44.96|                   0.44|            0.0|                         0|             0|           0|      80123|           23700|          1|(1,[0],[1.0])|(6,[3],[1.0])| (34,[13],[1.0])|   (11,[4],[1.0])|        (3,[1],[1.0])|             (2,[0],[1.0])|    (13,[],[])|                 (1,[],[])|          (1,[0],[1.0])|(99,[0,1,2,3,4,5,...| [400.0,5879.0]|[0.06370441153049...|       1.0|\n",
      "|     1000|       1000|   15.27|       34.8|   32352.0|10.42|          1|             3|       6|      1|      770|      10.8|       18|      0.0|    1072.26|        1072.26|          799.1|        244.9|               0.0|     28.26|                 0.2826|           34.8|                         0|             0|           0|      80123|           23700|          1|(1,[0],[1.0])|(6,[1],[1.0])|  (34,[5],[1.0])|   (11,[0],[1.0])|        (3,[0],[1.0])|             (2,[0],[1.0])|(13,[3],[1.0])|                 (1,[],[])|          (1,[0],[1.0])|(99,[0,1,2,3,4,5,...| [400.0,5879.0]|[0.06370441153049...|       1.0|\n",
      "|     1000|       1000|   15.27|       34.8|   38000.0|23.75|          0|             1|       3|      0|    16298|      95.3|        9|      0.0|    1252.69|        1252.69|         999.99|        252.7|               0.0|       0.0|                    0.0|          34.69|                         0|             0|           0|      80123|           23700|          0|(1,[0],[1.0])|(6,[1],[1.0])|  (34,[5],[1.0])|  (11,[10],[1.0])|        (3,[1],[1.0])|             (2,[1],[1.0])|(13,[8],[1.0])|                 (1,[],[])|          (1,[0],[1.0])|(99,[0,1,2,3,4,5,...| [400.0,5879.0]|[0.06370441153049...|       1.0|\n",
      "+---------+-----------+--------+-----------+----------+-----+-----------+--------------+--------+-------+---------+----------+---------+---------+-----------+---------------+---------------+-------------+------------------+----------+-----------------------+---------------+--------------------------+--------------+------------+-----------+----------------+-----------+-------------+-------------+----------------+-----------------+---------------------+--------------------------+--------------+--------------------------+-----------------------+--------------------+---------------+--------------------+----------+\n",
      "only showing top 20 rows\n",
      "\n"
     ]
    }
   ],
   "source": [
    "predictions.show()"
   ]
  },
  {
   "cell_type": "code",
   "execution_count": 229,
   "metadata": {},
   "outputs": [
    {
     "name": "stderr",
     "output_type": "stream",
     "text": [
      "                                                                                \r"
     ]
    },
    {
     "name": "stdout",
     "output_type": "stream",
     "text": [
      "Summary Stats\n",
      "Accuracy = 0.9686403961213121\n",
      "Precision = 0.9653089543710718\n",
      "Recall = 0.9724529232793356\n",
      "F1 Score = 0.9686395455250653\n",
      "Area under ROC = 0.9760033605500777\n"
     ]
    },
    {
     "name": "stderr",
     "output_type": "stream",
     "text": [
      "                                                                                \r"
     ]
    },
    {
     "data": {
      "image/png": "[encoded data removed]",
      "text/plain": [
       "<Figure size 432x288 with 1 Axes>"
      ]
     },
     "metadata": {
      "needs_background": "light"
     },
     "output_type": "display_data"
    },
    {
     "data": {
      "text/plain": [
       "{'accuracy': 0.9686403961213121,\n",
       " 'precision': 0.9653089543710718,\n",
       " 'recall': 0.9724529232793356,\n",
       " 'f1': 0.9686395455250653}"
      ]
     },
     "execution_count": 229,
     "metadata": {},
     "output_type": "execute_result"
    }
   ],
   "source": [
    "get_spark_ml_perf(predictions)"
   ]
  },
  {
   "attachments": {},
   "cell_type": "markdown",
   "metadata": {},
   "source": [
    "## Random Forest"
   ]
  },
  {
   "cell_type": "code",
   "execution_count": 230,
   "metadata": {},
   "outputs": [],
   "source": [
    "from pyspark.ml.classification import RandomForestClassifier"
   ]
  },
  {
   "cell_type": "code",
   "execution_count": 231,
   "metadata": {},
   "outputs": [],
   "source": [
    "random_forest = RandomForestClassifier(labelCol='default_ind', featuresCol='features')"
   ]
  },
  {
   "cell_type": "code",
   "execution_count": 232,
   "metadata": {},
   "outputs": [],
   "source": [
    "rdn_forest_pipeline = Pipeline(stages=[vector_assembler, random_forest])"
   ]
  },
  {
   "cell_type": "code",
   "execution_count": 233,
   "metadata": {},
   "outputs": [
    {
     "name": "stderr",
     "output_type": "stream",
     "text": [
      "                                                                                \r"
     ]
    }
   ],
   "source": [
    "random_forest_tree_clf = rdn_forest_pipeline.fit(train)"
   ]
  },
  {
   "cell_type": "code",
   "execution_count": 234,
   "metadata": {},
   "outputs": [],
   "source": [
    "predictions = random_forest_tree_clf.transform(test)"
   ]
  },
  {
   "cell_type": "code",
   "execution_count": 235,
   "metadata": {},
   "outputs": [
    {
     "name": "stdout",
     "output_type": "stream",
     "text": [
      "+-----------+----------+\n",
      "|default_ind|prediction|\n",
      "+-----------+----------+\n",
      "|          1|       1.0|\n",
      "|          0|       1.0|\n",
      "|          0|       1.0|\n",
      "|          1|       1.0|\n",
      "|          1|       1.0|\n",
      "|          0|       1.0|\n",
      "|          1|       1.0|\n",
      "|          0|       1.0|\n",
      "|          1|       0.0|\n",
      "|          0|       0.0|\n",
      "|          0|       1.0|\n",
      "|          1|       1.0|\n",
      "|          0|       1.0|\n",
      "|          0|       1.0|\n",
      "|          0|       1.0|\n",
      "|          1|       1.0|\n",
      "|          1|       1.0|\n",
      "|          1|       1.0|\n",
      "|          1|       1.0|\n",
      "|          0|       1.0|\n",
      "+-----------+----------+\n",
      "only showing top 20 rows\n",
      "\n"
     ]
    }
   ],
   "source": [
    "predictions.select('default_ind', 'prediction').show()"
   ]
  },
  {
   "cell_type": "code",
   "execution_count": 236,
   "metadata": {},
   "outputs": [
    {
     "name": "stderr",
     "output_type": "stream",
     "text": [
      "                                                                                \r"
     ]
    },
    {
     "name": "stdout",
     "output_type": "stream",
     "text": [
      "Summary Stats\n",
      "Accuracy = 0.963771404992779\n",
      "Precision = 0.964818324132817\n",
      "Recall = 0.962914234026807\n",
      "F1 Score = 0.9637714982580958\n",
      "Area under ROC = 0.9856802009677541\n"
     ]
    },
    {
     "name": "stderr",
     "output_type": "stream",
     "text": [
      "                                                                                \r"
     ]
    },
    {
     "data": {
      "image/png": "[encoded data removed]",
      "text/plain": [
       "<Figure size 432x288 with 1 Axes>"
      ]
     },
     "metadata": {
      "needs_background": "light"
     },
     "output_type": "display_data"
    },
    {
     "data": {
      "text/plain": [
       "{'accuracy': 0.963771404992779,\n",
       " 'precision': 0.964818324132817,\n",
       " 'recall': 0.962914234026807,\n",
       " 'f1': 0.9637714982580958}"
      ]
     },
     "execution_count": 236,
     "metadata": {},
     "output_type": "execute_result"
    }
   ],
   "source": [
    "get_spark_ml_perf(predictions)"
   ]
  },
  {
   "attachments": {},
   "cell_type": "markdown",
   "metadata": {},
   "source": [
    "# Feed Forward Network"
   ]
  },
  {
   "cell_type": "code",
   "execution_count": 237,
   "metadata": {},
   "outputs": [],
   "source": [
    "from pyspark.ml.classification import MultilayerPerceptronClassifier"
   ]
  },
  {
   "cell_type": "code",
   "execution_count": 238,
   "metadata": {},
   "outputs": [],
   "source": [
    "train_df_features = vector_assembler.transform(train)\n",
    "MLP = MultilayerPerceptronClassifier(layers=[train_df_features.schema[\"features\"].metadata[\"ml_attr\"][\"num_attrs\"], 4, 6,2], labelCol='default_ind', featuresCol='features', seed=42)\n",
    "pipeline = Pipeline(stages=[vector_assembler, MLP])"
   ]
  },
  {
   "cell_type": "code",
   "execution_count": 239,
   "metadata": {},
   "outputs": [
    {
     "name": "stderr",
     "output_type": "stream",
     "text": [
      "                                                                                \r"
     ]
    }
   ],
   "source": [
    "mlp_clf = pipeline.fit(train)"
   ]
  },
  {
   "cell_type": "code",
   "execution_count": 240,
   "metadata": {},
   "outputs": [],
   "source": [
    "predictions = mlp_clf.transform(test)"
   ]
  },
  {
   "cell_type": "code",
   "execution_count": 241,
   "metadata": {},
   "outputs": [
    {
     "name": "stderr",
     "output_type": "stream",
     "text": [
      "                                                                                \r"
     ]
    },
    {
     "name": "stdout",
     "output_type": "stream",
     "text": [
      "Summary Stats\n",
      "Accuracy = 0.6884258304105633\n",
      "Precision = 0.760334312175288\n",
      "Recall = 0.5535728969657101\n",
      "F1 Score = 0.682675395785765\n",
      "Area under ROC = 0.7326346607454834\n"
     ]
    },
    {
     "name": "stderr",
     "output_type": "stream",
     "text": [
      "                                                                                \r"
     ]
    },
    {
     "data": {
      "image/png": "[encoded data removed]",
      "text/plain": [
       "<Figure size 432x288 with 1 Axes>"
      ]
     },
     "metadata": {
      "needs_background": "light"
     },
     "output_type": "display_data"
    },
    {
     "data": {
      "text/plain": [
       "{'accuracy': 0.6884258304105633,\n",
       " 'precision': 0.760334312175288,\n",
       " 'recall': 0.5535728969657101,\n",
       " 'f1': 0.682675395785765}"
      ]
     },
     "execution_count": 241,
     "metadata": {},
     "output_type": "execute_result"
    }
   ],
   "source": [
    "get_spark_ml_perf(predictions)"
   ]
  },
  {
   "attachments": {},
   "cell_type": "markdown",
   "metadata": {},
   "source": [
    "## Process Two (3 ML Models with TensorFlow and Keras)"
   ]
  },
  {
   "cell_type": "code",
   "execution_count": 242,
   "metadata": {},
   "outputs": [],
   "source": [
    "import tensorflow as tf\n",
    "import pandas as pd\n",
    "pd.set_option('display.max_rows', None)"
   ]
  },
  {
   "cell_type": "code",
   "execution_count": 243,
   "metadata": {},
   "outputs": [
    {
     "name": "stderr",
     "output_type": "stream",
     "text": [
      "                                                                                \r"
     ]
    }
   ],
   "source": [
    "df_pandas = df.toPandas().sample(frac=1, random_state=42)"
   ]
  },
  {
   "cell_type": "code",
   "execution_count": 244,
   "metadata": {},
   "outputs": [],
   "source": [
    "df_pandas = pd.get_dummies(data=df_pandas, columns=categorical_cols)"
   ]
  },
  {
   "cell_type": "code",
   "execution_count": 245,
   "metadata": {},
   "outputs": [],
   "source": [
    "df_pandas = df_pandas.groupby('default_ind').sample(n=default_records, random_state=42).sample(frac=1)"
   ]
  },
  {
   "cell_type": "code",
   "execution_count": 246,
   "metadata": {},
   "outputs": [],
   "source": [
    "uint8_cols = df_pandas.select_dtypes(include='uint8').columns.to_list()"
   ]
  },
  {
   "cell_type": "code",
   "execution_count": 247,
   "metadata": {},
   "outputs": [],
   "source": [
    "df_pandas[uint8_cols] = df_pandas[uint8_cols].astype('int32')"
   ]
  },
  {
   "cell_type": "code",
   "execution_count": 248,
   "metadata": {},
   "outputs": [],
   "source": [
    "split_index = int(0.7 * len(df_pandas))\n",
    "(train, test) = (df_pandas[:split_index], df_pandas[split_index:])"
   ]
  },
  {
   "cell_type": "code",
   "execution_count": 249,
   "metadata": {},
   "outputs": [],
   "source": [
    "import tensorflow_decision_forests as tfdf"
   ]
  },
  {
   "cell_type": "code",
   "execution_count": 250,
   "metadata": {},
   "outputs": [
    {
     "name": "stdout",
     "output_type": "stream",
     "text": [
      "Warning: Some of the feature names have been changed automatically to be compatible with SavedModels because fix_feature_names=True.\n"
     ]
    },
    {
     "name": "stderr",
     "output_type": "stream",
     "text": [
      "WARNING:absl:Some of the feature names have been changed automatically to be compatible with SavedModels because fix_feature_names=True.\n"
     ]
    },
    {
     "name": "stdout",
     "output_type": "stream",
     "text": [
      "Warning: Some of the feature names have been changed automatically to be compatible with SavedModels because fix_feature_names=True.\n"
     ]
    },
    {
     "name": "stderr",
     "output_type": "stream",
     "text": [
      "WARNING:absl:Some of the feature names have been changed automatically to be compatible with SavedModels because fix_feature_names=True.\n"
     ]
    }
   ],
   "source": [
    "X_train = tfdf.keras.pd_dataframe_to_tf_dataset(train, label=\"default_ind\")\n",
    "X_test = tfdf.keras.pd_dataframe_to_tf_dataset(test, label=\"default_ind\")"
   ]
  },
  {
   "attachments": {},
   "cell_type": "markdown",
   "metadata": {},
   "source": [
    "### Decision Tree"
   ]
  },
  {
   "cell_type": "code",
   "execution_count": 251,
   "metadata": {},
   "outputs": [
    {
     "name": "stdout",
     "output_type": "stream",
     "text": [
      "Use /tmp/tmp1orfyc82 as temporary training directory\n"
     ]
    }
   ],
   "source": [
    "model = tfdf.keras.RandomForestModel(num_trees=1)"
   ]
  },
  {
   "cell_type": "code",
   "execution_count": 252,
   "metadata": {},
   "outputs": [],
   "source": [
    "model.compile(metrics=['accuracy', tf.keras.metrics.Precision(), tf.keras.metrics.Recall()])"
   ]
  },
  {
   "cell_type": "code",
   "execution_count": 253,
   "metadata": {},
   "outputs": [
    {
     "name": "stdout",
     "output_type": "stream",
     "text": [
      "Reading training dataset...\n"
     ]
    },
    {
     "name": "stderr",
     "output_type": "stream",
     "text": [
      "2023-06-01 00:38:04.177031: I tensorflow/core/common_runtime/executor.cc:1197] [/device:CPU:0] (DEBUG INFO) Executor start aborting (this does not indicate an error and you can ignore this message): INVALID_ARGUMENT: You must feed a value for placeholder tensor 'Placeholder/_90' with dtype int32 and shape [56924]\n",
      "\t [[{{node Placeholder/_90}}]]\n"
     ]
    },
    {
     "name": "stdout",
     "output_type": "stream",
     "text": [
      "Training dataset read in 0:00:01.884573. Found 56924 examples.\n",
      "Training model...\n",
      "Model trained in 0:00:00.231523\n",
      "Compiling model...\n"
     ]
    },
    {
     "name": "stderr",
     "output_type": "stream",
     "text": [
      "[INFO 23-06-01 00:38:06.2858 AEST kernel.cc:1242] Loading model from path /tmp/tmp1orfyc82/model/ with prefix 4e4910c29c2149fd\n",
      "[INFO 23-06-01 00:38:06.2871 AEST decision_forest.cc:660] Model loaded with 1 root(s), 1403 node(s), and 67 input feature(s).\n",
      "[INFO 23-06-01 00:38:06.2871 AEST abstract_model.cc:1311] Engine \"RandomForestOptPred\" built\n",
      "[INFO 23-06-01 00:38:06.2872 AEST kernel.cc:1074] Use fast generic engine\n",
      "2023-06-01 00:38:06.293576: I tensorflow/core/common_runtime/executor.cc:1197] [/device:CPU:0] (DEBUG INFO) Executor start aborting (this does not indicate an error and you can ignore this message): INVALID_ARGUMENT: You must feed a value for placeholder tensor 'Placeholder/_69' with dtype int32 and shape [56924]\n",
      "\t [[{{node Placeholder/_69}}]]\n"
     ]
    },
    {
     "name": "stdout",
     "output_type": "stream",
     "text": [
      "Model compiled.\n"
     ]
    },
    {
     "data": {
      "text/plain": [
       "<keras.callbacks.History at 0x7f996645f130>"
      ]
     },
     "execution_count": 253,
     "metadata": {},
     "output_type": "execute_result"
    }
   ],
   "source": [
    "model.fit(X_train)"
   ]
  },
  {
   "cell_type": "code",
   "execution_count": 254,
   "metadata": {},
   "outputs": [
    {
     "name": "stdout",
     "output_type": "stream",
     "text": [
      "Model: \"random_forest_model_2\"\n",
      "_________________________________________________________________\n",
      " Layer (type)                Output Shape              Param #   \n",
      "=================================================================\n",
      "=================================================================\n",
      "Total params: 1\n",
      "Trainable params: 0\n",
      "Non-trainable params: 1\n",
      "_________________________________________________________________\n",
      "Type: \"RANDOM_FOREST\"\n",
      "Task: CLASSIFICATION\n",
      "Label: \"__LABEL\"\n",
      "\n",
      "Input Features (108):\n",
      "\tacc_now_delinq\n",
      "\tannual_inc\n",
      "\tapplication_type_INDIVIDUAL\n",
      "\tapplication_type_JOINT\n",
      "\tcollection_recovery_fee\n",
      "\tcollections_12_mths_ex_med\n",
      "\tdelinq_2yrs\n",
      "\tdti\n",
      "\temp_length_10+_years\n",
      "\temp_length_1_year\n",
      "\temp_length_2_years\n",
      "\temp_length_3_years\n",
      "\temp_length_4_years\n",
      "\temp_length_5_years\n",
      "\temp_length_6_years\n",
      "\temp_length_7_years\n",
      "\temp_length_8_years\n",
      "\temp_length_9_years\n",
      "\temp_length_<_1_year\n",
      "\temp_length_n/a\n",
      "\tfunded_amnt\n",
      "\tgrade_A\n",
      "\tgrade_B\n",
      "\tgrade_C\n",
      "\tgrade_D\n",
      "\tgrade_E\n",
      "\tgrade_F\n",
      "\tgrade_G\n",
      "\thome_ownership_MORTGAGE\n",
      "\thome_ownership_OTHER\n",
      "\thome_ownership_OWN\n",
      "\thome_ownership_RENT\n",
      "\tinitial_list_status_f\n",
      "\tinitial_list_status_w\n",
      "\tinq_last_6mths\n",
      "\tinstallment\n",
      "\tint_rate\n",
      "\tlast_pymnt_amnt\n",
      "\tloan_amnt\n",
      "\topen_acc\n",
      "\tout_prncp\n",
      "\tpub_rec\n",
      "\tpurpose_car\n",
      "\tpurpose_credit_card\n",
      "\tpurpose_debt_consolidation\n",
      "\tpurpose_educational\n",
      "\tpurpose_home_improvement\n",
      "\tpurpose_house\n",
      "\tpurpose_major_purchase\n",
      "\tpurpose_medical\n",
      "\tpurpose_moving\n",
      "\tpurpose_other\n",
      "\tpurpose_renewable_energy\n",
      "\tpurpose_small_business\n",
      "\tpurpose_vacation\n",
      "\tpurpose_wedding\n",
      "\trecoveries\n",
      "\trevol_bal\n",
      "\trevol_util\n",
      "\tsub_grade_A1\n",
      "\tsub_grade_A2\n",
      "\tsub_grade_A3\n",
      "\tsub_grade_A4\n",
      "\tsub_grade_A5\n",
      "\tsub_grade_B1\n",
      "\tsub_grade_B2\n",
      "\tsub_grade_B3\n",
      "\tsub_grade_B4\n",
      "\tsub_grade_B5\n",
      "\tsub_grade_C1\n",
      "\tsub_grade_C2\n",
      "\tsub_grade_C3\n",
      "\tsub_grade_C4\n",
      "\tsub_grade_C5\n",
      "\tsub_grade_D1\n",
      "\tsub_grade_D2\n",
      "\tsub_grade_D3\n",
      "\tsub_grade_D4\n",
      "\tsub_grade_D5\n",
      "\tsub_grade_E1\n",
      "\tsub_grade_E2\n",
      "\tsub_grade_E3\n",
      "\tsub_grade_E4\n",
      "\tsub_grade_E5\n",
      "\tsub_grade_F1\n",
      "\tsub_grade_F2\n",
      "\tsub_grade_F3\n",
      "\tsub_grade_F4\n",
      "\tsub_grade_F5\n",
      "\tsub_grade_G1\n",
      "\tsub_grade_G2\n",
      "\tsub_grade_G3\n",
      "\tsub_grade_G4\n",
      "\tsub_grade_G5\n",
      "\tterm__36_months\n",
      "\tterm__60_months\n",
      "\ttot_coll_amt\n",
      "\ttot_cur_bal\n",
      "\ttotal_acc\n",
      "\ttotal_pymnt\n",
      "\ttotal_pymnt_inv\n",
      "\ttotal_rec_int\n",
      "\ttotal_rec_late_fee\n",
      "\ttotal_rec_prncp\n",
      "\ttotal_rev_hi_lim\n",
      "\tverification_status_Not_Verified\n",
      "\tverification_status_Source_Verified\n",
      "\tverification_status_Verified\n",
      "\n",
      "No weights\n",
      "\n",
      "Variable Importance: INV_MEAN_MIN_DEPTH:\n",
      "    1.                             \"grade_E\"  1.000000 ################\n",
      "    2.                         \"total_pymnt\"  0.268966 ###\n",
      "    3.                             \"grade_D\"  0.178762 #\n",
      "    4.                            \"int_rate\"  0.167462 #\n",
      "    5.                           \"out_prncp\"  0.110638 \n",
      "    6.                          \"recoveries\"  0.106283 \n",
      "    7.                     \"total_rec_prncp\"  0.100214 \n",
      "    8.             \"collection_recovery_fee\"  0.091561 \n",
      "    9.                           \"loan_amnt\"  0.091003 \n",
      "   10.                     \"total_pymnt_inv\"  0.090499 \n",
      "   11.                     \"last_pymnt_amnt\"  0.089667 \n",
      "   12.                         \"installment\"  0.089120 \n",
      "   13.               \"initial_list_status_f\"  0.088536 \n",
      "   14.                        \"tot_coll_amt\"  0.083254 \n",
      "   15.                       \"total_rec_int\"  0.083047 \n",
      "   16.                  \"total_rec_late_fee\"  0.082327 \n",
      "   17.               \"initial_list_status_w\"  0.081439 \n",
      "   18.                        \"sub_grade_D5\"  0.080783 \n",
      "   19.                           \"revol_bal\"  0.080348 \n",
      "   20.        \"verification_status_Verified\"  0.080192 \n",
      "   21.                        \"sub_grade_C5\"  0.079964 \n",
      "   22.                          \"annual_inc\"  0.079764 \n",
      "   23.                    \"total_rev_hi_lim\"  0.079277 \n",
      "   24.                            \"open_acc\"  0.078992 \n",
      "   25.                         \"tot_cur_bal\"  0.078427 \n",
      "   26.                         \"funded_amnt\"  0.078401 \n",
      "   27.                          \"revol_util\"  0.077913 \n",
      "   28.                     \"term__36_months\"  0.077853 \n",
      "   29.                                 \"dti\"  0.077245 \n",
      "   30.                      \"inq_last_6mths\"  0.077228 \n",
      "   31.                           \"total_acc\"  0.076629 \n",
      "   32.                     \"purpose_wedding\"  0.076521 \n",
      "   33.                             \"grade_C\"  0.076371 \n",
      "   34.                     \"term__60_months\"  0.076279 \n",
      "   35.                  \"home_ownership_OWN\"  0.076246 \n",
      "   36.                        \"sub_grade_D1\"  0.076213 \n",
      "   37.                             \"pub_rec\"  0.075982 \n",
      "   38.                  \"emp_length_5_years\"  0.075949 \n",
      "   39.                        \"sub_grade_E2\"  0.075802 \n",
      "   40.            \"purpose_home_improvement\"  0.075728 \n",
      "   41.                        \"sub_grade_B4\"  0.075712 \n",
      "   42.                        \"sub_grade_A5\"  0.075630 \n",
      "   43.                        \"sub_grade_B5\"  0.075614 \n",
      "   44.                        \"sub_grade_E3\"  0.075598 \n",
      "   45.                  \"emp_length_3_years\"  0.075549 \n",
      "   46.                        \"sub_grade_G4\"  0.075533 \n",
      "   47.                        \"sub_grade_C2\"  0.075524 \n",
      "   48.                        \"sub_grade_A1\"  0.075516 \n",
      "   49.                  \"emp_length_7_years\"  0.075484 \n",
      "   50.                         \"delinq_2yrs\"  0.075460 \n",
      "   51.          \"purpose_debt_consolidation\"  0.075451 \n",
      "   52.              \"purpose_small_business\"  0.075443 \n",
      "   53. \"verification_status_Source_Verified\"  0.075443 \n",
      "   54.                   \"emp_length_1_year\"  0.075427 \n",
      "   55.                        \"sub_grade_C1\"  0.075427 \n",
      "   56.    \"verification_status_Not_Verified\"  0.075427 \n",
      "   57.                \"emp_length_10+_years\"  0.075411 \n",
      "   58.                 \"home_ownership_RENT\"  0.075395 \n",
      "   59.                  \"emp_length_8_years\"  0.075387 \n",
      "   60.              \"purpose_major_purchase\"  0.075370 \n",
      "   61.                     \"purpose_medical\"  0.075370 \n",
      "   62.             \"home_ownership_MORTGAGE\"  0.075362 \n",
      "   63.                  \"emp_length_4_years\"  0.075346 \n",
      "   64.                 \"emp_length_<_1_year\"  0.075346 \n",
      "   65.                      \"emp_length_n/a\"  0.075346 \n",
      "   66.                        \"sub_grade_F2\"  0.075346 \n",
      "   67.                        \"sub_grade_G3\"  0.075346 \n",
      "\n",
      "Variable Importance: NUM_AS_ROOT:\n",
      "    1. \"grade_E\"  1.000000 \n",
      "\n",
      "Variable Importance: NUM_NODES:\n",
      "    1.                           \"out_prncp\" 62.000000 ################\n",
      "    2.                     \"last_pymnt_amnt\" 51.000000 #############\n",
      "    3.                     \"total_rec_prncp\" 49.000000 ############\n",
      "    4.                         \"total_pymnt\" 43.000000 ###########\n",
      "    5.                       \"total_rec_int\" 40.000000 ##########\n",
      "    6.                     \"total_pymnt_inv\" 38.000000 #########\n",
      "    7.                           \"loan_amnt\" 36.000000 #########\n",
      "    8.                            \"int_rate\" 31.000000 #######\n",
      "    9.                    \"total_rev_hi_lim\" 31.000000 #######\n",
      "   10.                         \"installment\" 30.000000 #######\n",
      "   11.                          \"revol_util\" 27.000000 ######\n",
      "   12.                                 \"dti\" 26.000000 ######\n",
      "   13.                         \"funded_amnt\" 26.000000 ######\n",
      "   14.                          \"annual_inc\" 21.000000 #####\n",
      "   15.                           \"revol_bal\" 21.000000 #####\n",
      "   16.                         \"tot_cur_bal\" 19.000000 ####\n",
      "   17.                           \"total_acc\" 18.000000 ####\n",
      "   18.                            \"open_acc\" 16.000000 ###\n",
      "   19.                      \"inq_last_6mths\"  9.000000 ##\n",
      "   20.                  \"total_rec_late_fee\"  9.000000 ##\n",
      "   21.             \"collection_recovery_fee\"  8.000000 #\n",
      "   22.                          \"recoveries\"  8.000000 #\n",
      "   23.                        \"tot_coll_amt\"  7.000000 #\n",
      "   24.               \"initial_list_status_f\"  6.000000 #\n",
      "   25.          \"purpose_debt_consolidation\"  4.000000 \n",
      "   26.        \"verification_status_Verified\"  4.000000 \n",
      "   27.                         \"delinq_2yrs\"  3.000000 \n",
      "   28.               \"initial_list_status_w\"  3.000000 \n",
      "   29.                             \"pub_rec\"  3.000000 \n",
      "   30.                     \"term__36_months\"  3.000000 \n",
      "   31.                \"emp_length_10+_years\"  2.000000 \n",
      "   32.                  \"emp_length_3_years\"  2.000000 \n",
      "   33.                  \"emp_length_5_years\"  2.000000 \n",
      "   34.                  \"emp_length_8_years\"  2.000000 \n",
      "   35.                             \"grade_D\"  2.000000 \n",
      "   36.             \"home_ownership_MORTGAGE\"  2.000000 \n",
      "   37.                  \"home_ownership_OWN\"  2.000000 \n",
      "   38.              \"purpose_small_business\"  2.000000 \n",
      "   39.                        \"sub_grade_B5\"  2.000000 \n",
      "   40.                        \"sub_grade_C5\"  2.000000 \n",
      "   41.                        \"sub_grade_E3\"  2.000000 \n",
      "   42.                     \"term__60_months\"  2.000000 \n",
      "   43.                   \"emp_length_1_year\"  1.000000 \n",
      "   44.                  \"emp_length_4_years\"  1.000000 \n",
      "   45.                  \"emp_length_7_years\"  1.000000 \n",
      "   46.                 \"emp_length_<_1_year\"  1.000000 \n",
      "   47.                      \"emp_length_n/a\"  1.000000 \n",
      "   48.                             \"grade_C\"  1.000000 \n",
      "   49.                             \"grade_E\"  1.000000 \n",
      "   50.                 \"home_ownership_RENT\"  1.000000 \n",
      "   51.            \"purpose_home_improvement\"  1.000000 \n",
      "   52.              \"purpose_major_purchase\"  1.000000 \n",
      "   53.                     \"purpose_medical\"  1.000000 \n",
      "   54.                     \"purpose_wedding\"  1.000000 \n",
      "   55.                        \"sub_grade_A1\"  1.000000 \n",
      "   56.                        \"sub_grade_A5\"  1.000000 \n",
      "   57.                        \"sub_grade_B4\"  1.000000 \n",
      "   58.                        \"sub_grade_C1\"  1.000000 \n",
      "   59.                        \"sub_grade_C2\"  1.000000 \n",
      "   60.                        \"sub_grade_D1\"  1.000000 \n",
      "   61.                        \"sub_grade_D5\"  1.000000 \n",
      "   62.                        \"sub_grade_E2\"  1.000000 \n",
      "   63.                        \"sub_grade_F2\"  1.000000 \n",
      "   64.                        \"sub_grade_G3\"  1.000000 \n",
      "   65.                        \"sub_grade_G4\"  1.000000 \n",
      "   66.    \"verification_status_Not_Verified\"  1.000000 \n",
      "   67. \"verification_status_Source_Verified\"  1.000000 \n",
      "\n",
      "Variable Importance: SUM_SCORE:\n",
      "    1.                           \"out_prncp\" 13098.134520 ################\n",
      "    2.             \"collection_recovery_fee\" 4824.923860 #####\n",
      "    3.                          \"recoveries\" 3470.959655 ####\n",
      "    4.                            \"int_rate\" 2524.862513 ###\n",
      "    5.                     \"total_rec_prncp\" 2263.715837 ##\n",
      "    6.                           \"loan_amnt\" 2122.183887 ##\n",
      "    7.                     \"last_pymnt_amnt\" 1546.736072 #\n",
      "    8.                         \"total_pymnt\" 1417.036526 #\n",
      "    9.                     \"total_pymnt_inv\" 1282.174147 #\n",
      "   10.                         \"funded_amnt\" 462.624553 \n",
      "   11.                             \"grade_D\" 426.033565 \n",
      "   12.                       \"total_rec_int\" 392.183454 \n",
      "   13.                             \"grade_E\" 309.494871 \n",
      "   14.                         \"installment\" 294.692514 \n",
      "   15.                           \"revol_bal\" 269.004888 \n",
      "   16.                    \"total_rev_hi_lim\" 222.297011 \n",
      "   17.               \"initial_list_status_w\" 199.582821 \n",
      "   18.                          \"revol_util\" 138.756327 \n",
      "   19.                  \"total_rec_late_fee\" 131.920049 \n",
      "   20.                                 \"dti\" 129.945954 \n",
      "   21.               \"initial_list_status_f\" 129.256406 \n",
      "   22.                          \"annual_inc\" 118.476357 \n",
      "   23.                         \"tot_cur_bal\" 112.204548 \n",
      "   24.                            \"open_acc\" 87.834190 \n",
      "   25.                           \"total_acc\" 87.112700 \n",
      "   26.                             \"grade_C\" 78.161832 \n",
      "   27.                        \"sub_grade_C5\" 77.864868 \n",
      "   28.                        \"tot_coll_amt\" 55.460865 \n",
      "   29.                     \"term__36_months\" 41.990083 \n",
      "   30.                      \"inq_last_6mths\" 41.953894 \n",
      "   31.                        \"sub_grade_D5\" 39.861727 \n",
      "   32.        \"verification_status_Verified\" 38.132147 \n",
      "   33.          \"purpose_debt_consolidation\" 17.782675 \n",
      "   34.                         \"delinq_2yrs\" 17.756955 \n",
      "   35.                        \"sub_grade_E3\" 16.108393 \n",
      "   36.                             \"pub_rec\" 14.632852 \n",
      "   37.                        \"sub_grade_C2\" 14.369739 \n",
      "   38.                     \"term__60_months\" 14.213550 \n",
      "   39.                        \"sub_grade_D1\" 13.667616 \n",
      "   40.                 \"home_ownership_RENT\" 13.249495 \n",
      "   41.                        \"sub_grade_B5\" 12.159727 \n",
      "   42.                  \"emp_length_5_years\" 11.540860 \n",
      "   43.              \"purpose_small_business\" 10.664150 \n",
      "   44.                        \"sub_grade_A5\"  9.062960 \n",
      "   45.                        \"sub_grade_G4\"  8.499601 \n",
      "   46.                     \"purpose_wedding\"  8.385806 \n",
      "   47.                        \"sub_grade_E2\"  8.227195 \n",
      "   48.                        \"sub_grade_G3\"  8.203411 \n",
      "   49.                  \"home_ownership_OWN\"  8.026732 \n",
      "   50.             \"home_ownership_MORTGAGE\"  7.026351 \n",
      "   51.                \"emp_length_10+_years\"  6.728761 \n",
      "   52.            \"purpose_home_improvement\"  6.386628 \n",
      "   53.                        \"sub_grade_C1\"  5.163343 \n",
      "   54.              \"purpose_major_purchase\"  4.990421 \n",
      "   55.                  \"emp_length_8_years\"  4.875624 \n",
      "   56.                  \"emp_length_3_years\"  4.863836 \n",
      "   57.                        \"sub_grade_A1\"  4.630994 \n",
      "   58.    \"verification_status_Not_Verified\"  4.517943 \n",
      "   59.                   \"emp_length_1_year\"  4.480516 \n",
      "   60.                     \"purpose_medical\"  4.446056 \n",
      "   61.                        \"sub_grade_B4\"  4.397779 \n",
      "   62.                        \"sub_grade_F2\"  4.316841 \n",
      "   63.                 \"emp_length_<_1_year\"  4.050671 \n",
      "   64. \"verification_status_Source_Verified\"  3.945367 \n",
      "   65.                  \"emp_length_7_years\"  3.395242 \n",
      "   66.                      \"emp_length_n/a\"  3.124569 \n",
      "   67.                  \"emp_length_4_years\"  3.071543 \n",
      "\n",
      "\n",
      "\n",
      "Winner takes all: true\n",
      "Out-of-bag evaluation: accuracy:0.962044 logloss:1.36807\n",
      "Number of trees: 1\n",
      "Total number of nodes: 1403\n",
      "\n",
      "Number of nodes by tree:\n",
      "Count: 1 Average: 1403 StdDev: 0\n",
      "Min: 1403 Max: 1403 Ignored: 0\n",
      "----------------------------------------------\n",
      "[ 1403, 1403] 1 100.00% 100.00% ##########\n",
      "\n",
      "Depth by leafs:\n",
      "Count: 702 Average: 12.2749 StdDev: 2.5397\n",
      "Min: 4 Max: 15 Ignored: 0\n",
      "----------------------------------------------\n",
      "[  4,  5)   3   0.43%   0.43%\n",
      "[  5,  6)   6   0.85%   1.28%\n",
      "[  6,  7)   9   1.28%   2.56%\n",
      "[  7,  8)  22   3.13%   5.70% #\n",
      "[  8,  9)  20   2.85%   8.55% #\n",
      "[  9, 10)  52   7.41%  15.95% ###\n",
      "[ 10, 11)  52   7.41%  23.36% ###\n",
      "[ 11, 12)  80  11.40%  34.76% ####\n",
      "[ 12, 13)  80  11.40%  46.15% ####\n",
      "[ 13, 14)  99  14.10%  60.26% #####\n",
      "[ 14, 15)  93  13.25%  73.50% #####\n",
      "[ 15, 15] 186  26.50% 100.00% ##########\n",
      "\n",
      "Number of training obs by leaf:\n",
      "Count: 702 Average: 81.0883 StdDev: 258.575\n",
      "Min: 5 Max: 3575 Ignored: 0\n",
      "----------------------------------------------\n",
      "[    5,  183) 639  91.03%  91.03% ##########\n",
      "[  183,  362)  32   4.56%  95.58% #\n",
      "[  362,  540)  12   1.71%  97.29%\n",
      "[  540,  719)   6   0.85%  98.15%\n",
      "[  719,  897)   5   0.71%  98.86%\n",
      "[  897, 1076)   2   0.28%  99.15%\n",
      "[ 1076, 1254)   1   0.14%  99.29%\n",
      "[ 1254, 1433)   1   0.14%  99.43%\n",
      "[ 1433, 1611)   0   0.00%  99.43%\n",
      "[ 1611, 1790)   0   0.00%  99.43%\n",
      "[ 1790, 1969)   0   0.00%  99.43%\n",
      "[ 1969, 2147)   0   0.00%  99.43%\n",
      "[ 2147, 2326)   0   0.00%  99.43%\n",
      "[ 2326, 2504)   1   0.14%  99.57%\n",
      "[ 2504, 2683)   1   0.14%  99.72%\n",
      "[ 2683, 2861)   0   0.00%  99.72%\n",
      "[ 2861, 3040)   0   0.00%  99.72%\n",
      "[ 3040, 3218)   1   0.14%  99.86%\n",
      "[ 3218, 3397)   0   0.00%  99.86%\n",
      "[ 3397, 3575]   1   0.14% 100.00%\n",
      "\n",
      "Attribute in nodes:\n",
      "\t62 : out_prncp [NUMERICAL]\n",
      "\t51 : last_pymnt_amnt [NUMERICAL]\n",
      "\t49 : total_rec_prncp [NUMERICAL]\n",
      "\t43 : total_pymnt [NUMERICAL]\n",
      "\t40 : total_rec_int [NUMERICAL]\n",
      "\t38 : total_pymnt_inv [NUMERICAL]\n",
      "\t36 : loan_amnt [NUMERICAL]\n",
      "\t31 : total_rev_hi_lim [NUMERICAL]\n",
      "\t31 : int_rate [NUMERICAL]\n",
      "\t30 : installment [NUMERICAL]\n",
      "\t27 : revol_util [NUMERICAL]\n",
      "\t26 : funded_amnt [NUMERICAL]\n",
      "\t26 : dti [NUMERICAL]\n",
      "\t21 : revol_bal [NUMERICAL]\n",
      "\t21 : annual_inc [NUMERICAL]\n",
      "\t19 : tot_cur_bal [NUMERICAL]\n",
      "\t18 : total_acc [NUMERICAL]\n",
      "\t16 : open_acc [NUMERICAL]\n",
      "\t9 : total_rec_late_fee [NUMERICAL]\n",
      "\t9 : inq_last_6mths [NUMERICAL]\n",
      "\t8 : recoveries [NUMERICAL]\n",
      "\t8 : collection_recovery_fee [NUMERICAL]\n",
      "\t7 : tot_coll_amt [NUMERICAL]\n",
      "\t6 : initial_list_status_f [NUMERICAL]\n",
      "\t4 : verification_status_Verified [NUMERICAL]\n",
      "\t4 : purpose_debt_consolidation [NUMERICAL]\n",
      "\t3 : term__36_months [NUMERICAL]\n",
      "\t3 : pub_rec [NUMERICAL]\n",
      "\t3 : initial_list_status_w [NUMERICAL]\n",
      "\t3 : delinq_2yrs [NUMERICAL]\n",
      "\t2 : term__60_months [NUMERICAL]\n",
      "\t2 : sub_grade_E3 [NUMERICAL]\n",
      "\t2 : sub_grade_C5 [NUMERICAL]\n",
      "\t2 : sub_grade_B5 [NUMERICAL]\n",
      "\t2 : purpose_small_business [NUMERICAL]\n",
      "\t2 : home_ownership_OWN [NUMERICAL]\n",
      "\t2 : home_ownership_MORTGAGE [NUMERICAL]\n",
      "\t2 : grade_D [NUMERICAL]\n",
      "\t2 : emp_length_8_years [NUMERICAL]\n",
      "\t2 : emp_length_5_years [NUMERICAL]\n",
      "\t2 : emp_length_3_years [NUMERICAL]\n",
      "\t2 : emp_length_10+_years [NUMERICAL]\n",
      "\t1 : verification_status_Source_Verified [NUMERICAL]\n",
      "\t1 : verification_status_Not_Verified [NUMERICAL]\n",
      "\t1 : sub_grade_G4 [NUMERICAL]\n",
      "\t1 : sub_grade_G3 [NUMERICAL]\n",
      "\t1 : sub_grade_F2 [NUMERICAL]\n",
      "\t1 : sub_grade_E2 [NUMERICAL]\n",
      "\t1 : sub_grade_D5 [NUMERICAL]\n",
      "\t1 : sub_grade_D1 [NUMERICAL]\n",
      "\t1 : sub_grade_C2 [NUMERICAL]\n",
      "\t1 : sub_grade_C1 [NUMERICAL]\n",
      "\t1 : sub_grade_B4 [NUMERICAL]\n",
      "\t1 : sub_grade_A5 [NUMERICAL]\n",
      "\t1 : sub_grade_A1 [NUMERICAL]\n",
      "\t1 : purpose_wedding [NUMERICAL]\n",
      "\t1 : purpose_medical [NUMERICAL]\n",
      "\t1 : purpose_major_purchase [NUMERICAL]\n",
      "\t1 : purpose_home_improvement [NUMERICAL]\n",
      "\t1 : home_ownership_RENT [NUMERICAL]\n",
      "\t1 : grade_E [NUMERICAL]\n",
      "\t1 : grade_C [NUMERICAL]\n",
      "\t1 : emp_length_n/a [NUMERICAL]\n",
      "\t1 : emp_length_<_1_year [NUMERICAL]\n",
      "\t1 : emp_length_7_years [NUMERICAL]\n",
      "\t1 : emp_length_4_years [NUMERICAL]\n",
      "\t1 : emp_length_1_year [NUMERICAL]\n",
      "\n",
      "Attribute in nodes with depth <= 0:\n",
      "\t1 : grade_E [NUMERICAL]\n",
      "\n",
      "Attribute in nodes with depth <= 1:\n",
      "\t1 : total_pymnt [NUMERICAL]\n",
      "\t1 : initial_list_status_f [NUMERICAL]\n",
      "\t1 : grade_E [NUMERICAL]\n",
      "\n",
      "Attribute in nodes with depth <= 2:\n",
      "\t1 : total_rec_prncp [NUMERICAL]\n",
      "\t1 : total_pymnt [NUMERICAL]\n",
      "\t1 : tot_coll_amt [NUMERICAL]\n",
      "\t1 : last_pymnt_amnt [NUMERICAL]\n",
      "\t1 : initial_list_status_f [NUMERICAL]\n",
      "\t1 : grade_E [NUMERICAL]\n",
      "\t1 : grade_D [NUMERICAL]\n",
      "\n",
      "Attribute in nodes with depth <= 3:\n",
      "\t3 : recoveries [NUMERICAL]\n",
      "\t2 : total_rec_prncp [NUMERICAL]\n",
      "\t1 : verification_status_Verified [NUMERICAL]\n",
      "\t1 : total_pymnt [NUMERICAL]\n",
      "\t1 : tot_coll_amt [NUMERICAL]\n",
      "\t1 : out_prncp [NUMERICAL]\n",
      "\t1 : loan_amnt [NUMERICAL]\n",
      "\t1 : last_pymnt_amnt [NUMERICAL]\n",
      "\t1 : int_rate [NUMERICAL]\n",
      "\t1 : initial_list_status_f [NUMERICAL]\n",
      "\t1 : grade_E [NUMERICAL]\n",
      "\t1 : grade_D [NUMERICAL]\n",
      "\n",
      "Attribute in nodes with depth <= 5:\n",
      "\t6 : total_pymnt [NUMERICAL]\n",
      "\t5 : total_rec_prncp [NUMERICAL]\n",
      "\t5 : out_prncp [NUMERICAL]\n",
      "\t4 : recoveries [NUMERICAL]\n",
      "\t3 : int_rate [NUMERICAL]\n",
      "\t2 : total_pymnt_inv [NUMERICAL]\n",
      "\t2 : term__36_months [NUMERICAL]\n",
      "\t2 : loan_amnt [NUMERICAL]\n",
      "\t2 : funded_amnt [NUMERICAL]\n",
      "\t2 : collection_recovery_fee [NUMERICAL]\n",
      "\t1 : verification_status_Verified [NUMERICAL]\n",
      "\t1 : total_rec_int [NUMERICAL]\n",
      "\t1 : tot_cur_bal [NUMERICAL]\n",
      "\t1 : tot_coll_amt [NUMERICAL]\n",
      "\t1 : revol_util [NUMERICAL]\n",
      "\t1 : open_acc [NUMERICAL]\n",
      "\t1 : last_pymnt_amnt [NUMERICAL]\n",
      "\t1 : installment [NUMERICAL]\n",
      "\t1 : inq_last_6mths [NUMERICAL]\n",
      "\t1 : initial_list_status_w [NUMERICAL]\n",
      "\t1 : initial_list_status_f [NUMERICAL]\n",
      "\t1 : grade_E [NUMERICAL]\n",
      "\t1 : grade_D [NUMERICAL]\n",
      "\t1 : emp_length_<_1_year [NUMERICAL]\n",
      "\t1 : dti [NUMERICAL]\n",
      "\n",
      "Condition type in nodes:\n",
      "\t701 : HigherCondition\n",
      "Condition type in nodes with depth <= 0:\n",
      "\t1 : HigherCondition\n",
      "Condition type in nodes with depth <= 1:\n",
      "\t3 : HigherCondition\n",
      "Condition type in nodes with depth <= 2:\n",
      "\t7 : HigherCondition\n",
      "Condition type in nodes with depth <= 3:\n",
      "\t15 : HigherCondition\n",
      "Condition type in nodes with depth <= 5:\n",
      "\t48 : HigherCondition\n",
      "Node format: NOT_SET\n",
      "\n",
      "Training OOB:\n",
      "\ttrees: 1, Out-of-bag evaluation: accuracy:0.962044 logloss:1.36807\n",
      "\n"
     ]
    }
   ],
   "source": [
    "model.summary()"
   ]
  },
  {
   "cell_type": "code",
   "execution_count": 255,
   "metadata": {},
   "outputs": [
    {
     "name": "stderr",
     "output_type": "stream",
     "text": [
      "2023-06-01 00:38:06.776643: I tensorflow/core/common_runtime/executor.cc:1197] [/device:CPU:0] (DEBUG INFO) Executor start aborting (this does not indicate an error and you can ignore this message): INVALID_ARGUMENT: You must feed a value for placeholder tensor 'Placeholder/_93' with dtype int32 and shape [24396]\n",
      "\t [[{{node Placeholder/_93}}]]\n"
     ]
    },
    {
     "name": "stdout",
     "output_type": "stream",
     "text": [
      "25/25 [==============================] - 1s 26ms/step - loss: 0.0000e+00 - accuracy: 0.9617 - precision_5: 0.9689 - recall_5: 0.9546\n"
     ]
    },
    {
     "data": {
      "text/plain": [
       "[0.0, 0.9616740345954895, 0.9688738584518433, 0.9546083211898804]"
      ]
     },
     "execution_count": 255,
     "metadata": {},
     "output_type": "execute_result"
    }
   ],
   "source": [
    "model.evaluate(X_test)"
   ]
  },
  {
   "cell_type": "code",
   "execution_count": 256,
   "metadata": {},
   "outputs": [
    {
     "name": "stdout",
     "output_type": "stream",
     "text": [
      "25/25 [==============================] - 1s 26ms/step\n"
     ]
    }
   ],
   "source": [
    "y_pred = model.predict(X_test)"
   ]
  },
  {
   "cell_type": "code",
   "execution_count": 257,
   "metadata": {},
   "outputs": [
    {
     "data": {
      "image/png": "[encoded data removed]",
      "text/plain": [
       "<Figure size 432x288 with 1 Axes>"
      ]
     },
     "metadata": {
      "needs_background": "light"
     },
     "output_type": "display_data"
    }
   ],
   "source": [
    "graph_roc_curve(test['default_ind'], y_pred)"
   ]
  },
  {
   "attachments": {},
   "cell_type": "markdown",
   "metadata": {},
   "source": [
    "### Random Forrest"
   ]
  },
  {
   "cell_type": "code",
   "execution_count": 258,
   "metadata": {},
   "outputs": [
    {
     "name": "stdout",
     "output_type": "stream",
     "text": [
      "Use /tmp/tmp9on3btzc as temporary training directory\n"
     ]
    }
   ],
   "source": [
    "model = tfdf.keras.RandomForestModel()"
   ]
  },
  {
   "cell_type": "code",
   "execution_count": 259,
   "metadata": {},
   "outputs": [],
   "source": [
    "model.compile(metrics=['accuracy', tf.keras.metrics.Precision(), tf.keras.metrics.Recall()])"
   ]
  },
  {
   "cell_type": "code",
   "execution_count": 260,
   "metadata": {},
   "outputs": [
    {
     "name": "stdout",
     "output_type": "stream",
     "text": [
      "Reading training dataset...\n",
      "Training dataset read in 0:00:01.883526. Found 56924 examples.\n",
      "Training model...\n"
     ]
    },
    {
     "name": "stderr",
     "output_type": "stream",
     "text": [
      "[INFO 23-06-01 00:38:15.9018 AEST kernel.cc:1242] Loading model from path /tmp/tmp9on3btzc/model/ with prefix ffbe50a00d76467d\n"
     ]
    },
    {
     "name": "stdout",
     "output_type": "stream",
     "text": [
      "Model trained in 0:00:05.678977\n",
      "Compiling model...\n"
     ]
    },
    {
     "name": "stderr",
     "output_type": "stream",
     "text": [
      "[INFO 23-06-01 00:38:16.2601 AEST decision_forest.cc:660] Model loaded with 300 root(s), 392366 node(s), and 103 input feature(s).\n",
      "[INFO 23-06-01 00:38:16.2601 AEST kernel.cc:1074] Use fast generic engine\n",
      "2023-06-01 00:38:16.328662: I tensorflow/core/common_runtime/executor.cc:1197] [/device:CPU:0] (DEBUG INFO) Executor start aborting (this does not indicate an error and you can ignore this message): INVALID_ARGUMENT: You must feed a value for placeholder tensor 'Placeholder/_102' with dtype double and shape [56924]\n",
      "\t [[{{node Placeholder/_102}}]]\n"
     ]
    },
    {
     "name": "stdout",
     "output_type": "stream",
     "text": [
      "Model compiled.\n"
     ]
    },
    {
     "data": {
      "text/plain": [
       "<keras.callbacks.History at 0x7f996692c520>"
      ]
     },
     "execution_count": 260,
     "metadata": {},
     "output_type": "execute_result"
    }
   ],
   "source": [
    "model.fit(X_train)"
   ]
  },
  {
   "cell_type": "code",
   "execution_count": 261,
   "metadata": {},
   "outputs": [
    {
     "name": "stdout",
     "output_type": "stream",
     "text": [
      "Model: \"random_forest_model_3\"\n",
      "_________________________________________________________________\n",
      " Layer (type)                Output Shape              Param #   \n",
      "=================================================================\n",
      "=================================================================\n",
      "Total params: 1\n",
      "Trainable params: 0\n",
      "Non-trainable params: 1\n",
      "_________________________________________________________________\n",
      "Type: \"RANDOM_FOREST\"\n",
      "Task: CLASSIFICATION\n",
      "Label: \"__LABEL\"\n",
      "\n",
      "Input Features (108):\n",
      "\tacc_now_delinq\n",
      "\tannual_inc\n",
      "\tapplication_type_INDIVIDUAL\n",
      "\tapplication_type_JOINT\n",
      "\tcollection_recovery_fee\n",
      "\tcollections_12_mths_ex_med\n",
      "\tdelinq_2yrs\n",
      "\tdti\n",
      "\temp_length_10+_years\n",
      "\temp_length_1_year\n",
      "\temp_length_2_years\n",
      "\temp_length_3_years\n",
      "\temp_length_4_years\n",
      "\temp_length_5_years\n",
      "\temp_length_6_years\n",
      "\temp_length_7_years\n",
      "\temp_length_8_years\n",
      "\temp_length_9_years\n",
      "\temp_length_<_1_year\n",
      "\temp_length_n/a\n",
      "\tfunded_amnt\n",
      "\tgrade_A\n",
      "\tgrade_B\n",
      "\tgrade_C\n",
      "\tgrade_D\n",
      "\tgrade_E\n",
      "\tgrade_F\n",
      "\tgrade_G\n",
      "\thome_ownership_MORTGAGE\n",
      "\thome_ownership_OTHER\n",
      "\thome_ownership_OWN\n",
      "\thome_ownership_RENT\n",
      "\tinitial_list_status_f\n",
      "\tinitial_list_status_w\n",
      "\tinq_last_6mths\n",
      "\tinstallment\n",
      "\tint_rate\n",
      "\tlast_pymnt_amnt\n",
      "\tloan_amnt\n",
      "\topen_acc\n",
      "\tout_prncp\n",
      "\tpub_rec\n",
      "\tpurpose_car\n",
      "\tpurpose_credit_card\n",
      "\tpurpose_debt_consolidation\n",
      "\tpurpose_educational\n",
      "\tpurpose_home_improvement\n",
      "\tpurpose_house\n",
      "\tpurpose_major_purchase\n",
      "\tpurpose_medical\n",
      "\tpurpose_moving\n",
      "\tpurpose_other\n",
      "\tpurpose_renewable_energy\n",
      "\tpurpose_small_business\n",
      "\tpurpose_vacation\n",
      "\tpurpose_wedding\n",
      "\trecoveries\n",
      "\trevol_bal\n",
      "\trevol_util\n",
      "\tsub_grade_A1\n",
      "\tsub_grade_A2\n",
      "\tsub_grade_A3\n",
      "\tsub_grade_A4\n",
      "\tsub_grade_A5\n",
      "\tsub_grade_B1\n",
      "\tsub_grade_B2\n",
      "\tsub_grade_B3\n",
      "\tsub_grade_B4\n",
      "\tsub_grade_B5\n",
      "\tsub_grade_C1\n",
      "\tsub_grade_C2\n",
      "\tsub_grade_C3\n",
      "\tsub_grade_C4\n",
      "\tsub_grade_C5\n",
      "\tsub_grade_D1\n",
      "\tsub_grade_D2\n",
      "\tsub_grade_D3\n",
      "\tsub_grade_D4\n",
      "\tsub_grade_D5\n",
      "\tsub_grade_E1\n",
      "\tsub_grade_E2\n",
      "\tsub_grade_E3\n",
      "\tsub_grade_E4\n",
      "\tsub_grade_E5\n",
      "\tsub_grade_F1\n",
      "\tsub_grade_F2\n",
      "\tsub_grade_F3\n",
      "\tsub_grade_F4\n",
      "\tsub_grade_F5\n",
      "\tsub_grade_G1\n",
      "\tsub_grade_G2\n",
      "\tsub_grade_G3\n",
      "\tsub_grade_G4\n",
      "\tsub_grade_G5\n",
      "\tterm__36_months\n",
      "\tterm__60_months\n",
      "\ttot_coll_amt\n",
      "\ttot_cur_bal\n",
      "\ttotal_acc\n",
      "\ttotal_pymnt\n",
      "\ttotal_pymnt_inv\n",
      "\ttotal_rec_int\n",
      "\ttotal_rec_late_fee\n",
      "\ttotal_rec_prncp\n",
      "\ttotal_rev_hi_lim\n",
      "\tverification_status_Not_Verified\n",
      "\tverification_status_Source_Verified\n",
      "\tverification_status_Verified\n",
      "\n",
      "No weights\n",
      "\n",
      "Variable Importance: INV_MEAN_MIN_DEPTH:\n",
      "    1.                           \"out_prncp\"  0.135810 ################\n",
      "    2.                            \"int_rate\"  0.122117 ############\n",
      "    3.                     \"last_pymnt_amnt\"  0.118303 ###########\n",
      "    4.                          \"recoveries\"  0.111477 #########\n",
      "    5.                     \"total_rec_prncp\"  0.110331 #########\n",
      "    6.             \"collection_recovery_fee\"  0.103811 #######\n",
      "    7.                       \"total_rec_int\"  0.103215 #######\n",
      "    8.                  \"total_rec_late_fee\"  0.103029 #######\n",
      "    9.                     \"total_pymnt_inv\"  0.100934 ######\n",
      "   10.                         \"total_pymnt\"  0.099116 ######\n",
      "   11.                             \"grade_A\"  0.093049 ####\n",
      "   12.                          \"annual_inc\"  0.090562 ####\n",
      "   13.                    \"total_rev_hi_lim\"  0.090370 ###\n",
      "   14.               \"initial_list_status_f\"  0.089684 ###\n",
      "   15.                      \"inq_last_6mths\"  0.089200 ###\n",
      "   16.               \"initial_list_status_w\"  0.089132 ###\n",
      "   17.                         \"tot_cur_bal\"  0.086604 ##\n",
      "   18.                         \"installment\"  0.084800 ##\n",
      "   19.                         \"funded_amnt\"  0.083542 ##\n",
      "   20.                           \"loan_amnt\"  0.083466 ##\n",
      "   21.                             \"grade_B\"  0.083450 ##\n",
      "   22.                                 \"dti\"  0.082584 #\n",
      "   23.                          \"revol_util\"  0.082458 #\n",
      "   24.                           \"revol_bal\"  0.081340 #\n",
      "   25.                             \"grade_E\"  0.080925 #\n",
      "   26.                             \"grade_D\"  0.080910 #\n",
      "   27.                             \"grade_F\"  0.079832 #\n",
      "   28.        \"verification_status_Verified\"  0.079792 #\n",
      "   29.                     \"term__36_months\"  0.079597 #\n",
      "   30.                        \"sub_grade_A1\"  0.079449 #\n",
      "   31.                     \"term__60_months\"  0.078898 \n",
      "   32.                           \"total_acc\"  0.078615 \n",
      "   33.                 \"home_ownership_RENT\"  0.078196 \n",
      "   34.                            \"open_acc\"  0.078141 \n",
      "   35.                        \"sub_grade_A2\"  0.077327 \n",
      "   36.                        \"tot_coll_amt\"  0.077101 \n",
      "   37.                             \"grade_C\"  0.076869 \n",
      "   38.             \"home_ownership_MORTGAGE\"  0.076836 \n",
      "   39.                        \"sub_grade_A5\"  0.076761 \n",
      "   40.                        \"sub_grade_A4\"  0.076648 \n",
      "   41.    \"verification_status_Not_Verified\"  0.076623 \n",
      "   42.                             \"grade_G\"  0.076608 \n",
      "   43. \"verification_status_Source_Verified\"  0.076599 \n",
      "   44.                        \"sub_grade_F3\"  0.076490 \n",
      "   45.                             \"pub_rec\"  0.076469 \n",
      "   46.                        \"sub_grade_B1\"  0.076364 \n",
      "   47.                         \"delinq_2yrs\"  0.076201 \n",
      "   48.                        \"sub_grade_A3\"  0.076175 \n",
      "   49.                 \"purpose_credit_card\"  0.076071 \n",
      "   50.                        \"sub_grade_B2\"  0.075980 \n",
      "   51.                        \"sub_grade_E3\"  0.075885 \n",
      "   52.                        \"sub_grade_C3\"  0.075881 \n",
      "   53.                        \"sub_grade_C4\"  0.075873 \n",
      "   54.                        \"sub_grade_C1\"  0.075835 \n",
      "   55.                        \"sub_grade_B4\"  0.075791 \n",
      "   56.                        \"sub_grade_D4\"  0.075790 \n",
      "   57.                        \"sub_grade_C2\"  0.075780 \n",
      "   58.          \"purpose_debt_consolidation\"  0.075758 \n",
      "   59.                   \"emp_length_1_year\"  0.075750 \n",
      "   60.                \"emp_length_10+_years\"  0.075737 \n",
      "   61.                        \"sub_grade_D2\"  0.075712 \n",
      "   62.                        \"sub_grade_B3\"  0.075710 \n",
      "   63.                      \"emp_length_n/a\"  0.075700 \n",
      "   64.                        \"sub_grade_B5\"  0.075687 \n",
      "   65.                  \"emp_length_2_years\"  0.075642 \n",
      "   66.                  \"emp_length_7_years\"  0.075615 \n",
      "   67.                        \"sub_grade_C5\"  0.075584 \n",
      "   68.            \"purpose_home_improvement\"  0.075566 \n",
      "   69.                 \"emp_length_<_1_year\"  0.075562 \n",
      "   70.                        \"sub_grade_D5\"  0.075556 \n",
      "   71.                  \"emp_length_3_years\"  0.075517 \n",
      "   72.                  \"emp_length_4_years\"  0.075509 \n",
      "   73.                        \"sub_grade_D1\"  0.075497 \n",
      "   74.                  \"emp_length_5_years\"  0.075495 \n",
      "   75.                  \"home_ownership_OWN\"  0.075493 \n",
      "   76.                        \"sub_grade_E2\"  0.075492 \n",
      "   77.                        \"sub_grade_E1\"  0.075489 \n",
      "   78.                  \"emp_length_8_years\"  0.075477 \n",
      "   79.                       \"purpose_other\"  0.075471 \n",
      "   80.              \"purpose_small_business\"  0.075455 \n",
      "   81.                        \"sub_grade_F1\"  0.075455 \n",
      "   82.                  \"emp_length_9_years\"  0.075453 \n",
      "   83.                         \"purpose_car\"  0.075448 \n",
      "   84.                        \"sub_grade_F5\"  0.075444 \n",
      "   85.                        \"sub_grade_E5\"  0.075443 \n",
      "   86.                  \"emp_length_6_years\"  0.075430 \n",
      "   87.                     \"purpose_medical\"  0.075424 \n",
      "   88.                        \"sub_grade_E4\"  0.075421 \n",
      "   89.              \"purpose_major_purchase\"  0.075419 \n",
      "   90.                    \"purpose_vacation\"  0.075417 \n",
      "   91.                        \"sub_grade_D3\"  0.075410 \n",
      "   92.                        \"sub_grade_G3\"  0.075389 \n",
      "   93.                      \"purpose_moving\"  0.075386 \n",
      "   94.                        \"sub_grade_G2\"  0.075377 \n",
      "   95.          \"collections_12_mths_ex_med\"  0.075377 \n",
      "   96.                        \"sub_grade_F4\"  0.075371 \n",
      "   97.                        \"sub_grade_G5\"  0.075360 \n",
      "   98.                        \"sub_grade_G1\"  0.075351 \n",
      "   99.                     \"purpose_wedding\"  0.075339 \n",
      "  100.                        \"sub_grade_F2\"  0.075329 \n",
      "  101.                      \"acc_now_delinq\"  0.075317 \n",
      "  102.                        \"sub_grade_G4\"  0.075316 \n",
      "  103.                       \"purpose_house\"  0.075310 \n",
      "\n",
      "Variable Importance: NUM_AS_ROOT:\n",
      "    1.                    \"out_prncp\" 30.000000 ################\n",
      "    2.                   \"recoveries\" 30.000000 ################\n",
      "    3.      \"collection_recovery_fee\" 26.000000 #############\n",
      "    4.              \"last_pymnt_amnt\" 25.000000 #############\n",
      "    5.        \"initial_list_status_f\" 18.000000 #########\n",
      "    6.                     \"int_rate\" 17.000000 ########\n",
      "    7.               \"inq_last_6mths\" 15.000000 #######\n",
      "    8.              \"total_rec_prncp\" 15.000000 #######\n",
      "    9.                \"total_rec_int\" 13.000000 ######\n",
      "   10.                      \"grade_A\" 12.000000 ######\n",
      "   11.        \"initial_list_status_w\" 12.000000 ######\n",
      "   12.             \"total_rev_hi_lim\" 12.000000 ######\n",
      "   13.              \"total_pymnt_inv\" 11.000000 #####\n",
      "   14.           \"total_rec_late_fee\" 10.000000 ####\n",
      "   15.                  \"total_pymnt\"  9.000000 ####\n",
      "   16.                      \"grade_E\"  6.000000 ##\n",
      "   17.                  \"tot_cur_bal\"  6.000000 ##\n",
      "   18.                      \"grade_F\"  5.000000 ##\n",
      "   19.                   \"annual_inc\"  4.000000 #\n",
      "   20.                      \"grade_B\"  4.000000 #\n",
      "   21.                      \"grade_D\"  4.000000 #\n",
      "   22.                 \"sub_grade_A4\"  3.000000 #\n",
      "   23. \"verification_status_Verified\"  3.000000 #\n",
      "   24.          \"home_ownership_RENT\"  2.000000 \n",
      "   25.                 \"sub_grade_A1\"  2.000000 \n",
      "   26.                 \"sub_grade_A2\"  2.000000 \n",
      "   27.          \"purpose_credit_card\"  1.000000 \n",
      "   28.                   \"revol_util\"  1.000000 \n",
      "   29.                 \"sub_grade_A3\"  1.000000 \n",
      "   30.              \"term__60_months\"  1.000000 \n",
      "\n",
      "Variable Importance: NUM_NODES:\n",
      "    1.                           \"out_prncp\" 14075.000000 ################\n",
      "    2.                     \"total_rec_prncp\" 14053.000000 ###############\n",
      "    3.                     \"last_pymnt_amnt\" 11874.000000 #############\n",
      "    4.                       \"total_rec_int\" 10505.000000 ###########\n",
      "    5.                         \"total_pymnt\" 10193.000000 ###########\n",
      "    6.                         \"installment\" 10006.000000 ###########\n",
      "    7.                     \"total_pymnt_inv\" 9880.000000 ###########\n",
      "    8.                            \"int_rate\" 9223.000000 ##########\n",
      "    9.                                 \"dti\" 8032.000000 #########\n",
      "   10.                         \"funded_amnt\" 7934.000000 #########\n",
      "   11.                           \"loan_amnt\" 7751.000000 ########\n",
      "   12.                          \"revol_util\" 7537.000000 ########\n",
      "   13.                           \"revol_bal\" 7497.000000 ########\n",
      "   14.                         \"tot_cur_bal\" 7351.000000 ########\n",
      "   15.                          \"annual_inc\" 7137.000000 ########\n",
      "   16.                    \"total_rev_hi_lim\" 7058.000000 ########\n",
      "   17.                           \"total_acc\" 6216.000000 #######\n",
      "   18.                            \"open_acc\" 4828.000000 #####\n",
      "   19.                      \"inq_last_6mths\" 2282.000000 ##\n",
      "   20.                  \"total_rec_late_fee\" 2068.000000 ##\n",
      "   21.                          \"recoveries\" 1979.000000 ##\n",
      "   22.                        \"tot_coll_amt\" 1351.000000 #\n",
      "   23.             \"collection_recovery_fee\" 1319.000000 #\n",
      "   24.        \"verification_status_Verified\" 987.000000 #\n",
      "   25.                         \"delinq_2yrs\" 963.000000 #\n",
      "   26.    \"verification_status_Not_Verified\" 959.000000 #\n",
      "   27. \"verification_status_Source_Verified\" 955.000000 #\n",
      "   28.                 \"home_ownership_RENT\" 950.000000 #\n",
      "   29.                \"emp_length_10+_years\" 917.000000 #\n",
      "   30.          \"purpose_debt_consolidation\" 907.000000 #\n",
      "   31.               \"initial_list_status_w\" 874.000000 \n",
      "   32.               \"initial_list_status_f\" 853.000000 \n",
      "   33.             \"home_ownership_MORTGAGE\" 819.000000 \n",
      "   34.                     \"term__60_months\" 748.000000 \n",
      "   35.                     \"term__36_months\" 730.000000 \n",
      "   36.                             \"pub_rec\" 727.000000 \n",
      "   37.                             \"grade_B\" 688.000000 \n",
      "   38.                 \"purpose_credit_card\" 675.000000 \n",
      "   39.                             \"grade_C\" 625.000000 \n",
      "   40.                             \"grade_D\" 623.000000 \n",
      "   41.                             \"grade_A\" 585.000000 \n",
      "   42.                             \"grade_E\" 469.000000 \n",
      "   43.                   \"emp_length_1_year\" 423.000000 \n",
      "   44.                  \"emp_length_3_years\" 380.000000 \n",
      "   45.                  \"emp_length_5_years\" 364.000000 \n",
      "   46.                  \"emp_length_2_years\" 353.000000 \n",
      "   47.                        \"sub_grade_C1\" 334.000000 \n",
      "   48.                  \"home_ownership_OWN\" 331.000000 \n",
      "   49.                             \"grade_F\" 323.000000 \n",
      "   50.                        \"sub_grade_B4\" 317.000000 \n",
      "   51.                        \"sub_grade_C3\" 316.000000 \n",
      "   52.                        \"sub_grade_C2\" 308.000000 \n",
      "   53.                  \"emp_length_7_years\" 307.000000 \n",
      "   54.                        \"sub_grade_C4\" 303.000000 \n",
      "   55.                 \"emp_length_<_1_year\" 301.000000 \n",
      "   56.                      \"emp_length_n/a\" 301.000000 \n",
      "   57.                  \"emp_length_8_years\" 296.000000 \n",
      "   58.                       \"purpose_other\" 280.000000 \n",
      "   59.                        \"sub_grade_B5\" 275.000000 \n",
      "   60.                        \"sub_grade_B3\" 252.000000 \n",
      "   61.                        \"sub_grade_D4\" 251.000000 \n",
      "   62.            \"purpose_home_improvement\" 247.000000 \n",
      "   63.                  \"emp_length_4_years\" 236.000000 \n",
      "   64.                        \"sub_grade_B2\" 230.000000 \n",
      "   65.                        \"sub_grade_B1\" 217.000000 \n",
      "   66.                  \"emp_length_6_years\" 215.000000 \n",
      "   67.                        \"sub_grade_C5\" 214.000000 \n",
      "   68.                        \"sub_grade_A5\" 212.000000 \n",
      "   69.                  \"emp_length_9_years\" 204.000000 \n",
      "   70.                        \"sub_grade_D2\" 204.000000 \n",
      "   71.                        \"sub_grade_D1\" 200.000000 \n",
      "   72.                        \"sub_grade_E3\" 200.000000 \n",
      "   73.                        \"sub_grade_D5\" 165.000000 \n",
      "   74.                        \"sub_grade_E2\" 159.000000 \n",
      "   75.                        \"sub_grade_A4\" 149.000000 \n",
      "   76.                        \"sub_grade_A1\" 148.000000 \n",
      "   77.                        \"sub_grade_D3\" 137.000000 \n",
      "   78.                        \"sub_grade_F3\" 136.000000 \n",
      "   79.                        \"sub_grade_A3\" 130.000000 \n",
      "   80.                        \"sub_grade_E4\" 127.000000 \n",
      "   81.                             \"grade_G\" 118.000000 \n",
      "   82.                        \"sub_grade_E1\" 112.000000 \n",
      "   83.              \"purpose_major_purchase\" 104.000000 \n",
      "   84.                     \"purpose_medical\" 102.000000 \n",
      "   85.                        \"sub_grade_F1\" 101.000000 \n",
      "   86.                        \"sub_grade_E5\" 93.000000 \n",
      "   87.                        \"sub_grade_A2\" 90.000000 \n",
      "   88.              \"purpose_small_business\" 84.000000 \n",
      "   89.                         \"purpose_car\" 76.000000 \n",
      "   90.          \"collections_12_mths_ex_med\" 70.000000 \n",
      "   91.                    \"purpose_vacation\" 63.000000 \n",
      "   92.                        \"sub_grade_F5\" 52.000000 \n",
      "   93.                      \"purpose_moving\" 50.000000 \n",
      "   94.                        \"sub_grade_F2\" 39.000000 \n",
      "   95.                        \"sub_grade_F4\" 27.000000 \n",
      "   96.                        \"sub_grade_G2\" 20.000000 \n",
      "   97.                     \"purpose_wedding\" 17.000000 \n",
      "   98.                        \"sub_grade_G3\" 15.000000 \n",
      "   99.                        \"sub_grade_G1\" 14.000000 \n",
      "  100.                      \"acc_now_delinq\" 11.000000 \n",
      "  101.                        \"sub_grade_G5\" 10.000000 \n",
      "  102.                        \"sub_grade_G4\"  9.000000 \n",
      "  103.                       \"purpose_house\"  8.000000 \n",
      "\n",
      "Variable Importance: SUM_SCORE:\n",
      "    1.                           \"out_prncp\" 4467548.696333 ################\n",
      "    2.                          \"recoveries\" 1208776.740223 ####\n",
      "    3.             \"collection_recovery_fee\" 1082856.588811 ###\n",
      "    4.                     \"last_pymnt_amnt\" 890650.778223 ###\n",
      "    5.                     \"total_rec_prncp\" 601761.919616 ##\n",
      "    6.                            \"int_rate\" 350942.433434 #\n",
      "    7.                         \"total_pymnt\" 264417.904783 \n",
      "    8.                     \"total_pymnt_inv\" 248752.686147 \n",
      "    9.                         \"installment\" 185923.134551 \n",
      "   10.                         \"funded_amnt\" 176352.514985 \n",
      "   11.                       \"total_rec_int\" 171116.913624 \n",
      "   12.                           \"loan_amnt\" 167054.325695 \n",
      "   13.                  \"total_rec_late_fee\" 99617.941028 \n",
      "   14.               \"initial_list_status_w\" 62242.847855 \n",
      "   15.               \"initial_list_status_f\" 62045.100270 \n",
      "   16.                    \"total_rev_hi_lim\" 61529.355311 \n",
      "   17.                         \"tot_cur_bal\" 58071.769927 \n",
      "   18.                             \"grade_A\" 57289.599759 \n",
      "   19.                          \"annual_inc\" 52581.345327 \n",
      "   20.                                 \"dti\" 44893.408176 \n",
      "   21.                           \"revol_bal\" 43339.124434 \n",
      "   22.                          \"revol_util\" 42045.506271 \n",
      "   23.                      \"inq_last_6mths\" 34327.676669 \n",
      "   24.                           \"total_acc\" 30195.602406 \n",
      "   25.                            \"open_acc\" 22977.118396 \n",
      "   26.                     \"term__36_months\" 18549.235303 \n",
      "   27.                     \"term__60_months\" 18244.623253 \n",
      "   28.                             \"grade_B\" 15541.775611 \n",
      "   29.        \"verification_status_Verified\" 11292.613204 \n",
      "   30.                             \"grade_D\" 9723.954514 \n",
      "   31.                             \"grade_E\" 9030.802399 \n",
      "   32.                        \"tot_coll_amt\" 8134.516823 \n",
      "   33.                             \"grade_F\" 7121.450216 \n",
      "   34.                             \"grade_C\" 6961.019407 \n",
      "   35.    \"verification_status_Not_Verified\" 6653.121018 \n",
      "   36.                        \"sub_grade_A1\" 6504.095199 \n",
      "   37.                 \"home_ownership_RENT\" 5781.886474 \n",
      "   38. \"verification_status_Source_Verified\" 5450.489539 \n",
      "   39.                         \"delinq_2yrs\" 4635.807205 \n",
      "   40.          \"purpose_debt_consolidation\" 4229.817169 \n",
      "   41.             \"home_ownership_MORTGAGE\" 3911.727361 \n",
      "   42.                             \"pub_rec\" 3826.814162 \n",
      "   43.                \"emp_length_10+_years\" 3811.574818 \n",
      "   44.                 \"purpose_credit_card\" 3223.705723 \n",
      "   45.                        \"sub_grade_C4\" 2893.366295 \n",
      "   46.                        \"sub_grade_C3\" 2660.336000 \n",
      "   47.                        \"sub_grade_C2\" 2537.944326 \n",
      "   48.                   \"emp_length_1_year\" 2315.010612 \n",
      "   49.                        \"sub_grade_C1\" 2299.922025 \n",
      "   50.                        \"sub_grade_A2\" 2208.113821 \n",
      "   51.                        \"sub_grade_B1\" 2190.972203 \n",
      "   52.                        \"sub_grade_A5\" 2154.551663 \n",
      "   53.                        \"sub_grade_B5\" 2057.981873 \n",
      "   54.                        \"sub_grade_B2\" 2023.308172 \n",
      "   55.                        \"sub_grade_B3\" 1934.567348 \n",
      "   56.                        \"sub_grade_B4\" 1915.904450 \n",
      "   57.                  \"emp_length_5_years\" 1771.020907 \n",
      "   58.                        \"sub_grade_A4\" 1738.577814 \n",
      "   59.                        \"sub_grade_C5\" 1720.058339 \n",
      "   60.                  \"emp_length_3_years\" 1660.218488 \n",
      "   61.                      \"emp_length_n/a\" 1644.619162 \n",
      "   62.                  \"emp_length_7_years\" 1578.434553 \n",
      "   63.                  \"emp_length_2_years\" 1483.601347 \n",
      "   64.                       \"purpose_other\" 1398.721638 \n",
      "   65.                        \"sub_grade_D4\" 1394.391588 \n",
      "   66.                             \"grade_G\" 1380.892748 \n",
      "   67.                  \"home_ownership_OWN\" 1378.814518 \n",
      "   68.                 \"emp_length_<_1_year\" 1338.116830 \n",
      "   69.                        \"sub_grade_F3\" 1309.174483 \n",
      "   70.                        \"sub_grade_E3\" 1308.905394 \n",
      "   71.                  \"emp_length_8_years\" 1293.569850 \n",
      "   72.            \"purpose_home_improvement\" 1291.339593 \n",
      "   73.                        \"sub_grade_A3\" 1243.009904 \n",
      "   74.                        \"sub_grade_D2\" 1111.551667 \n",
      "   75.                  \"emp_length_4_years\" 1110.867083 \n",
      "   76.                        \"sub_grade_D5\" 1014.058404 \n",
      "   77.                        \"sub_grade_D1\" 1012.008328 \n",
      "   78.                  \"emp_length_9_years\" 978.776412 \n",
      "   79.                        \"sub_grade_E2\" 972.687942 \n",
      "   80.                  \"emp_length_6_years\" 972.621736 \n",
      "   81.                        \"sub_grade_E1\" 830.632044 \n",
      "   82.                        \"sub_grade_E4\" 747.434587 \n",
      "   83.                        \"sub_grade_F1\" 626.455487 \n",
      "   84.              \"purpose_major_purchase\" 617.919846 \n",
      "   85.                        \"sub_grade_E5\" 615.639522 \n",
      "   86.                        \"sub_grade_D3\" 615.201098 \n",
      "   87.                     \"purpose_medical\" 609.740261 \n",
      "   88.                         \"purpose_car\" 589.525641 \n",
      "   89.              \"purpose_small_business\" 574.050662 \n",
      "   90.          \"collections_12_mths_ex_med\" 399.721092 \n",
      "   91.                        \"sub_grade_F5\" 383.152533 \n",
      "   92.                      \"purpose_moving\" 361.536760 \n",
      "   93.                    \"purpose_vacation\" 342.283364 \n",
      "   94.                        \"sub_grade_F2\" 198.598439 \n",
      "   95.                        \"sub_grade_F4\" 161.055860 \n",
      "   96.                        \"sub_grade_G2\" 130.694096 \n",
      "   97.                        \"sub_grade_G3\" 118.840518 \n",
      "   98.                     \"purpose_wedding\" 115.062871 \n",
      "   99.                        \"sub_grade_G1\" 89.022676 \n",
      "  100.                      \"acc_now_delinq\" 87.302551 \n",
      "  101.                        \"sub_grade_G5\" 86.196416 \n",
      "  102.                        \"sub_grade_G4\" 72.502172 \n",
      "  103.                       \"purpose_house\" 60.829945 \n",
      "\n",
      "\n",
      "\n",
      "Winner takes all: true\n",
      "Out-of-bag evaluation: accuracy:0.982204 logloss:0.0988853\n",
      "Number of trees: 300\n",
      "Total number of nodes: 392366\n",
      "\n",
      "Number of nodes by tree:\n",
      "Count: 300 Average: 1307.89 StdDev: 225.877\n",
      "Min: 815 Max: 1915 Ignored: 0\n",
      "----------------------------------------------\n",
      "[  815,  870)  5   1.67%   1.67% #\n",
      "[  870,  925)  7   2.33%   4.00% ##\n",
      "[  925,  980) 10   3.33%   7.33% ###\n",
      "[  980, 1035) 13   4.33%  11.67% ###\n",
      "[ 1035, 1090) 27   9.00%  20.67% #######\n",
      "[ 1090, 1145) 15   5.00%  25.67% ####\n",
      "[ 1145, 1200) 19   6.33%  32.00% #####\n",
      "[ 1200, 1255) 38  12.67%  44.67% ##########\n",
      "[ 1255, 1310) 19   6.33%  51.00% #####\n",
      "[ 1310, 1365) 23   7.67%  58.67% ######\n",
      "[ 1365, 1420) 30  10.00%  68.67% ########\n",
      "[ 1420, 1475) 25   8.33%  77.00% #######\n",
      "[ 1475, 1530) 19   6.33%  83.33% #####\n",
      "[ 1530, 1585) 16   5.33%  88.67% ####\n",
      "[ 1585, 1640)  5   1.67%  90.33% #\n",
      "[ 1640, 1695) 15   5.00%  95.33% ####\n",
      "[ 1695, 1750)  6   2.00%  97.33% ##\n",
      "[ 1750, 1805)  4   1.33%  98.67% #\n",
      "[ 1805, 1860)  1   0.33%  99.00%\n",
      "[ 1860, 1915]  3   1.00% 100.00% #\n",
      "\n",
      "Depth by leafs:\n",
      "Count: 196333 Average: 12.3005 StdDev: 2.45919\n",
      "Min: 1 Max: 15 Ignored: 0\n",
      "----------------------------------------------\n",
      "[  1,  2)    56   0.03%   0.03%\n",
      "[  2,  3)    92   0.05%   0.08%\n",
      "[  3,  4)   217   0.11%   0.19%\n",
      "[  4,  5)   419   0.21%   0.40%\n",
      "[  5,  6)  1043   0.53%   0.93%\n",
      "[  6,  7)  2286   1.16%   2.09%\n",
      "[  7,  8)  4363   2.22%   4.32% #\n",
      "[  8,  9)  7723   3.93%   8.25% ##\n",
      "[  9, 10) 12021   6.12%  14.37% ##\n",
      "[ 10, 11) 16781   8.55%  22.92% ###\n",
      "[ 11, 12) 21557  10.98%  33.90% ####\n",
      "[ 12, 13) 25368  12.92%  46.82% #####\n",
      "[ 13, 14) 27269  13.89%  60.71% ######\n",
      "[ 14, 15) 27946  14.23%  74.94% ######\n",
      "[ 15, 15] 49192  25.06% 100.00% ##########\n",
      "\n",
      "Number of training obs by leaf:\n",
      "Count: 196333 Average: 86.9808 StdDev: 438.036\n",
      "Min: 5 Max: 19591 Ignored: 0\n",
      "----------------------------------------------\n",
      "[     5,   984) 194197  98.91%  98.91% ##########\n",
      "[   984,  1963)   1335   0.68%  99.59%\n",
      "[  1963,  2943)    315   0.16%  99.75%\n",
      "[  2943,  3922)    141   0.07%  99.82%\n",
      "[  3922,  4901)     69   0.04%  99.86%\n",
      "[  4901,  5881)     49   0.02%  99.88%\n",
      "[  5881,  6860)     22   0.01%  99.90%\n",
      "[  6860,  7839)     28   0.01%  99.91%\n",
      "[  7839,  8819)     32   0.02%  99.93%\n",
      "[  8819,  9798)     22   0.01%  99.94%\n",
      "[  9798, 10777)     17   0.01%  99.95%\n",
      "[ 10777, 11757)     18   0.01%  99.96%\n",
      "[ 11757, 12736)      8   0.00%  99.96%\n",
      "[ 12736, 13715)     40   0.02%  99.98%\n",
      "[ 13715, 14695)     38   0.02% 100.00%\n",
      "[ 14695, 15674)      1   0.00% 100.00%\n",
      "[ 15674, 16653)      0   0.00% 100.00%\n",
      "[ 16653, 17633)      0   0.00% 100.00%\n",
      "[ 17633, 18612)      0   0.00% 100.00%\n",
      "[ 18612, 19591]      1   0.00% 100.00%\n",
      "\n",
      "Attribute in nodes:\n",
      "\t14075 : out_prncp [NUMERICAL]\n",
      "\t14053 : total_rec_prncp [NUMERICAL]\n",
      "\t11874 : last_pymnt_amnt [NUMERICAL]\n",
      "\t10505 : total_rec_int [NUMERICAL]\n",
      "\t10193 : total_pymnt [NUMERICAL]\n",
      "\t10006 : installment [NUMERICAL]\n",
      "\t9880 : total_pymnt_inv [NUMERICAL]\n",
      "\t9223 : int_rate [NUMERICAL]\n",
      "\t8032 : dti [NUMERICAL]\n",
      "\t7934 : funded_amnt [NUMERICAL]\n",
      "\t7751 : loan_amnt [NUMERICAL]\n",
      "\t7537 : revol_util [NUMERICAL]\n",
      "\t7497 : revol_bal [NUMERICAL]\n",
      "\t7351 : tot_cur_bal [NUMERICAL]\n",
      "\t7137 : annual_inc [NUMERICAL]\n",
      "\t7058 : total_rev_hi_lim [NUMERICAL]\n",
      "\t6216 : total_acc [NUMERICAL]\n",
      "\t4828 : open_acc [NUMERICAL]\n",
      "\t2282 : inq_last_6mths [NUMERICAL]\n",
      "\t2068 : total_rec_late_fee [NUMERICAL]\n",
      "\t1979 : recoveries [NUMERICAL]\n",
      "\t1351 : tot_coll_amt [NUMERICAL]\n",
      "\t1319 : collection_recovery_fee [NUMERICAL]\n",
      "\t987 : verification_status_Verified [NUMERICAL]\n",
      "\t963 : delinq_2yrs [NUMERICAL]\n",
      "\t959 : verification_status_Not_Verified [NUMERICAL]\n",
      "\t955 : verification_status_Source_Verified [NUMERICAL]\n",
      "\t950 : home_ownership_RENT [NUMERICAL]\n",
      "\t917 : emp_length_10+_years [NUMERICAL]\n",
      "\t907 : purpose_debt_consolidation [NUMERICAL]\n",
      "\t874 : initial_list_status_w [NUMERICAL]\n",
      "\t853 : initial_list_status_f [NUMERICAL]\n",
      "\t819 : home_ownership_MORTGAGE [NUMERICAL]\n",
      "\t748 : term__60_months [NUMERICAL]\n",
      "\t730 : term__36_months [NUMERICAL]\n",
      "\t727 : pub_rec [NUMERICAL]\n",
      "\t688 : grade_B [NUMERICAL]\n",
      "\t675 : purpose_credit_card [NUMERICAL]\n",
      "\t625 : grade_C [NUMERICAL]\n",
      "\t623 : grade_D [NUMERICAL]\n",
      "\t585 : grade_A [NUMERICAL]\n",
      "\t469 : grade_E [NUMERICAL]\n",
      "\t423 : emp_length_1_year [NUMERICAL]\n",
      "\t380 : emp_length_3_years [NUMERICAL]\n",
      "\t364 : emp_length_5_years [NUMERICAL]\n",
      "\t353 : emp_length_2_years [NUMERICAL]\n",
      "\t334 : sub_grade_C1 [NUMERICAL]\n",
      "\t331 : home_ownership_OWN [NUMERICAL]\n",
      "\t323 : grade_F [NUMERICAL]\n",
      "\t317 : sub_grade_B4 [NUMERICAL]\n",
      "\t316 : sub_grade_C3 [NUMERICAL]\n",
      "\t308 : sub_grade_C2 [NUMERICAL]\n",
      "\t307 : emp_length_7_years [NUMERICAL]\n",
      "\t303 : sub_grade_C4 [NUMERICAL]\n",
      "\t301 : emp_length_n/a [NUMERICAL]\n",
      "\t301 : emp_length_<_1_year [NUMERICAL]\n",
      "\t296 : emp_length_8_years [NUMERICAL]\n",
      "\t280 : purpose_other [NUMERICAL]\n",
      "\t275 : sub_grade_B5 [NUMERICAL]\n",
      "\t252 : sub_grade_B3 [NUMERICAL]\n",
      "\t251 : sub_grade_D4 [NUMERICAL]\n",
      "\t247 : purpose_home_improvement [NUMERICAL]\n",
      "\t236 : emp_length_4_years [NUMERICAL]\n",
      "\t230 : sub_grade_B2 [NUMERICAL]\n",
      "\t217 : sub_grade_B1 [NUMERICAL]\n",
      "\t215 : emp_length_6_years [NUMERICAL]\n",
      "\t214 : sub_grade_C5 [NUMERICAL]\n",
      "\t212 : sub_grade_A5 [NUMERICAL]\n",
      "\t204 : sub_grade_D2 [NUMERICAL]\n",
      "\t204 : emp_length_9_years [NUMERICAL]\n",
      "\t200 : sub_grade_E3 [NUMERICAL]\n",
      "\t200 : sub_grade_D1 [NUMERICAL]\n",
      "\t165 : sub_grade_D5 [NUMERICAL]\n",
      "\t159 : sub_grade_E2 [NUMERICAL]\n",
      "\t149 : sub_grade_A4 [NUMERICAL]\n",
      "\t148 : sub_grade_A1 [NUMERICAL]\n",
      "\t137 : sub_grade_D3 [NUMERICAL]\n",
      "\t136 : sub_grade_F3 [NUMERICAL]\n",
      "\t130 : sub_grade_A3 [NUMERICAL]\n",
      "\t127 : sub_grade_E4 [NUMERICAL]\n",
      "\t118 : grade_G [NUMERICAL]\n",
      "\t112 : sub_grade_E1 [NUMERICAL]\n",
      "\t104 : purpose_major_purchase [NUMERICAL]\n",
      "\t102 : purpose_medical [NUMERICAL]\n",
      "\t101 : sub_grade_F1 [NUMERICAL]\n",
      "\t93 : sub_grade_E5 [NUMERICAL]\n",
      "\t90 : sub_grade_A2 [NUMERICAL]\n",
      "\t84 : purpose_small_business [NUMERICAL]\n",
      "\t76 : purpose_car [NUMERICAL]\n",
      "\t70 : collections_12_mths_ex_med [NUMERICAL]\n",
      "\t63 : purpose_vacation [NUMERICAL]\n",
      "\t52 : sub_grade_F5 [NUMERICAL]\n",
      "\t50 : purpose_moving [NUMERICAL]\n",
      "\t39 : sub_grade_F2 [NUMERICAL]\n",
      "\t27 : sub_grade_F4 [NUMERICAL]\n",
      "\t20 : sub_grade_G2 [NUMERICAL]\n",
      "\t17 : purpose_wedding [NUMERICAL]\n",
      "\t15 : sub_grade_G3 [NUMERICAL]\n",
      "\t14 : sub_grade_G1 [NUMERICAL]\n",
      "\t11 : acc_now_delinq [NUMERICAL]\n",
      "\t10 : sub_grade_G5 [NUMERICAL]\n",
      "\t9 : sub_grade_G4 [NUMERICAL]\n",
      "\t8 : purpose_house [NUMERICAL]\n",
      "\n",
      "Attribute in nodes with depth <= 0:\n",
      "\t30 : recoveries [NUMERICAL]\n",
      "\t30 : out_prncp [NUMERICAL]\n",
      "\t26 : collection_recovery_fee [NUMERICAL]\n",
      "\t25 : last_pymnt_amnt [NUMERICAL]\n",
      "\t18 : initial_list_status_f [NUMERICAL]\n",
      "\t17 : int_rate [NUMERICAL]\n",
      "\t15 : total_rec_prncp [NUMERICAL]\n",
      "\t15 : inq_last_6mths [NUMERICAL]\n",
      "\t13 : total_rec_int [NUMERICAL]\n",
      "\t12 : total_rev_hi_lim [NUMERICAL]\n",
      "\t12 : initial_list_status_w [NUMERICAL]\n",
      "\t12 : grade_A [NUMERICAL]\n",
      "\t11 : total_pymnt_inv [NUMERICAL]\n",
      "\t10 : total_rec_late_fee [NUMERICAL]\n",
      "\t9 : total_pymnt [NUMERICAL]\n",
      "\t6 : tot_cur_bal [NUMERICAL]\n",
      "\t6 : grade_E [NUMERICAL]\n",
      "\t5 : grade_F [NUMERICAL]\n",
      "\t4 : grade_D [NUMERICAL]\n",
      "\t4 : grade_B [NUMERICAL]\n",
      "\t4 : annual_inc [NUMERICAL]\n",
      "\t3 : verification_status_Verified [NUMERICAL]\n",
      "\t3 : sub_grade_A4 [NUMERICAL]\n",
      "\t2 : sub_grade_A2 [NUMERICAL]\n",
      "\t2 : sub_grade_A1 [NUMERICAL]\n",
      "\t2 : home_ownership_RENT [NUMERICAL]\n",
      "\t1 : term__60_months [NUMERICAL]\n",
      "\t1 : sub_grade_A3 [NUMERICAL]\n",
      "\t1 : revol_util [NUMERICAL]\n",
      "\t1 : purpose_credit_card [NUMERICAL]\n",
      "\n",
      "Attribute in nodes with depth <= 1:\n",
      "\t76 : out_prncp [NUMERICAL]\n",
      "\t72 : recoveries [NUMERICAL]\n",
      "\t72 : collection_recovery_fee [NUMERICAL]\n",
      "\t68 : last_pymnt_amnt [NUMERICAL]\n",
      "\t58 : int_rate [NUMERICAL]\n",
      "\t44 : total_rec_prncp [NUMERICAL]\n",
      "\t39 : total_rec_late_fee [NUMERICAL]\n",
      "\t38 : total_pymnt_inv [NUMERICAL]\n",
      "\t35 : total_rec_int [NUMERICAL]\n",
      "\t33 : initial_list_status_f [NUMERICAL]\n",
      "\t32 : total_pymnt [NUMERICAL]\n",
      "\t32 : initial_list_status_w [NUMERICAL]\n",
      "\t32 : grade_A [NUMERICAL]\n",
      "\t25 : inq_last_6mths [NUMERICAL]\n",
      "\t23 : total_rev_hi_lim [NUMERICAL]\n",
      "\t15 : tot_cur_bal [NUMERICAL]\n",
      "\t15 : annual_inc [NUMERICAL]\n",
      "\t14 : grade_B [NUMERICAL]\n",
      "\t12 : verification_status_Verified [NUMERICAL]\n",
      "\t11 : grade_E [NUMERICAL]\n",
      "\t11 : grade_D [NUMERICAL]\n",
      "\t10 : grade_F [NUMERICAL]\n",
      "\t9 : revol_util [NUMERICAL]\n",
      "\t8 : sub_grade_A1 [NUMERICAL]\n",
      "\t8 : loan_amnt [NUMERICAL]\n",
      "\t5 : sub_grade_A4 [NUMERICAL]\n",
      "\t4 : term__60_months [NUMERICAL]\n",
      "\t4 : term__36_months [NUMERICAL]\n",
      "\t4 : sub_grade_A2 [NUMERICAL]\n",
      "\t4 : funded_amnt [NUMERICAL]\n",
      "\t3 : sub_grade_A5 [NUMERICAL]\n",
      "\t3 : pub_rec [NUMERICAL]\n",
      "\t3 : home_ownership_RENT [NUMERICAL]\n",
      "\t3 : dti [NUMERICAL]\n",
      "\t2 : verification_status_Source_Verified [NUMERICAL]\n",
      "\t2 : sub_grade_F3 [NUMERICAL]\n",
      "\t2 : sub_grade_B1 [NUMERICAL]\n",
      "\t2 : revol_bal [NUMERICAL]\n",
      "\t2 : purpose_credit_card [NUMERICAL]\n",
      "\t2 : open_acc [NUMERICAL]\n",
      "\t1 : tot_coll_amt [NUMERICAL]\n",
      "\t1 : sub_grade_E3 [NUMERICAL]\n",
      "\t1 : sub_grade_D4 [NUMERICAL]\n",
      "\t1 : sub_grade_D2 [NUMERICAL]\n",
      "\t1 : sub_grade_A3 [NUMERICAL]\n",
      "\t1 : installment [NUMERICAL]\n",
      "\t1 : grade_G [NUMERICAL]\n",
      "\n",
      "Attribute in nodes with depth <= 2:\n",
      "\t174 : recoveries [NUMERICAL]\n",
      "\t158 : out_prncp [NUMERICAL]\n",
      "\t148 : collection_recovery_fee [NUMERICAL]\n",
      "\t145 : last_pymnt_amnt [NUMERICAL]\n",
      "\t142 : int_rate [NUMERICAL]\n",
      "\t100 : total_rec_prncp [NUMERICAL]\n",
      "\t91 : total_rec_late_fee [NUMERICAL]\n",
      "\t82 : total_pymnt_inv [NUMERICAL]\n",
      "\t75 : total_rec_int [NUMERICAL]\n",
      "\t68 : total_pymnt [NUMERICAL]\n",
      "\t60 : grade_A [NUMERICAL]\n",
      "\t56 : initial_list_status_f [NUMERICAL]\n",
      "\t54 : initial_list_status_w [NUMERICAL]\n",
      "\t41 : total_rev_hi_lim [NUMERICAL]\n",
      "\t41 : annual_inc [NUMERICAL]\n",
      "\t40 : inq_last_6mths [NUMERICAL]\n",
      "\t29 : grade_B [NUMERICAL]\n",
      "\t28 : tot_cur_bal [NUMERICAL]\n",
      "\t28 : grade_E [NUMERICAL]\n",
      "\t26 : funded_amnt [NUMERICAL]\n",
      "\t21 : grade_D [NUMERICAL]\n",
      "\t18 : revol_util [NUMERICAL]\n",
      "\t18 : loan_amnt [NUMERICAL]\n",
      "\t17 : sub_grade_A1 [NUMERICAL]\n",
      "\t17 : grade_F [NUMERICAL]\n",
      "\t15 : verification_status_Verified [NUMERICAL]\n",
      "\t14 : installment [NUMERICAL]\n",
      "\t12 : dti [NUMERICAL]\n",
      "\t10 : term__60_months [NUMERICAL]\n",
      "\t10 : term__36_months [NUMERICAL]\n",
      "\t10 : sub_grade_A2 [NUMERICAL]\n",
      "\t10 : home_ownership_RENT [NUMERICAL]\n",
      "\t6 : sub_grade_F3 [NUMERICAL]\n",
      "\t6 : sub_grade_A5 [NUMERICAL]\n",
      "\t6 : sub_grade_A4 [NUMERICAL]\n",
      "\t6 : pub_rec [NUMERICAL]\n",
      "\t5 : verification_status_Source_Verified [NUMERICAL]\n",
      "\t5 : sub_grade_A3 [NUMERICAL]\n",
      "\t5 : revol_bal [NUMERICAL]\n",
      "\t5 : grade_G [NUMERICAL]\n",
      "\t3 : tot_coll_amt [NUMERICAL]\n",
      "\t3 : sub_grade_E3 [NUMERICAL]\n",
      "\t3 : sub_grade_D4 [NUMERICAL]\n",
      "\t3 : sub_grade_B1 [NUMERICAL]\n",
      "\t3 : purpose_credit_card [NUMERICAL]\n",
      "\t3 : open_acc [NUMERICAL]\n",
      "\t2 : verification_status_Not_Verified [NUMERICAL]\n",
      "\t2 : sub_grade_D2 [NUMERICAL]\n",
      "\t2 : sub_grade_B4 [NUMERICAL]\n",
      "\t2 : purpose_small_business [NUMERICAL]\n",
      "\t2 : grade_C [NUMERICAL]\n",
      "\t1 : total_acc [NUMERICAL]\n",
      "\t1 : sub_grade_F5 [NUMERICAL]\n",
      "\t1 : sub_grade_F4 [NUMERICAL]\n",
      "\t1 : sub_grade_B5 [NUMERICAL]\n",
      "\t1 : sub_grade_B2 [NUMERICAL]\n",
      "\t1 : purpose_home_improvement [NUMERICAL]\n",
      "\t1 : home_ownership_MORTGAGE [NUMERICAL]\n",
      "\t1 : emp_length_n/a [NUMERICAL]\n",
      "\t1 : emp_length_4_years [NUMERICAL]\n",
      "\t1 : emp_length_3_years [NUMERICAL]\n",
      "\n",
      "Attribute in nodes with depth <= 3:\n",
      "\t309 : out_prncp [NUMERICAL]\n",
      "\t279 : last_pymnt_amnt [NUMERICAL]\n",
      "\t279 : int_rate [NUMERICAL]\n",
      "\t273 : recoveries [NUMERICAL]\n",
      "\t261 : collection_recovery_fee [NUMERICAL]\n",
      "\t227 : total_rec_prncp [NUMERICAL]\n",
      "\t189 : total_rec_late_fee [NUMERICAL]\n",
      "\t162 : total_rec_int [NUMERICAL]\n",
      "\t154 : total_pymnt_inv [NUMERICAL]\n",
      "\t137 : total_pymnt [NUMERICAL]\n",
      "\t98 : grade_A [NUMERICAL]\n",
      "\t87 : initial_list_status_f [NUMERICAL]\n",
      "\t87 : annual_inc [NUMERICAL]\n",
      "\t84 : total_rev_hi_lim [NUMERICAL]\n",
      "\t79 : initial_list_status_w [NUMERICAL]\n",
      "\t67 : inq_last_6mths [NUMERICAL]\n",
      "\t62 : funded_amnt [NUMERICAL]\n",
      "\t61 : tot_cur_bal [NUMERICAL]\n",
      "\t55 : installment [NUMERICAL]\n",
      "\t52 : revol_util [NUMERICAL]\n",
      "\t51 : loan_amnt [NUMERICAL]\n",
      "\t41 : grade_B [NUMERICAL]\n",
      "\t38 : grade_E [NUMERICAL]\n",
      "\t36 : dti [NUMERICAL]\n",
      "\t34 : revol_bal [NUMERICAL]\n",
      "\t33 : grade_F [NUMERICAL]\n",
      "\t31 : sub_grade_A1 [NUMERICAL]\n",
      "\t31 : grade_D [NUMERICAL]\n",
      "\t30 : verification_status_Verified [NUMERICAL]\n",
      "\t25 : term__60_months [NUMERICAL]\n",
      "\t25 : term__36_months [NUMERICAL]\n",
      "\t17 : open_acc [NUMERICAL]\n",
      "\t17 : home_ownership_RENT [NUMERICAL]\n",
      "\t15 : total_acc [NUMERICAL]\n",
      "\t13 : sub_grade_A5 [NUMERICAL]\n",
      "\t13 : sub_grade_A2 [NUMERICAL]\n",
      "\t11 : verification_status_Source_Verified [NUMERICAL]\n",
      "\t11 : sub_grade_A4 [NUMERICAL]\n",
      "\t10 : pub_rec [NUMERICAL]\n",
      "\t10 : delinq_2yrs [NUMERICAL]\n",
      "\t9 : verification_status_Not_Verified [NUMERICAL]\n",
      "\t8 : sub_grade_F3 [NUMERICAL]\n",
      "\t7 : tot_coll_amt [NUMERICAL]\n",
      "\t6 : sub_grade_B1 [NUMERICAL]\n",
      "\t6 : sub_grade_A3 [NUMERICAL]\n",
      "\t5 : sub_grade_E3 [NUMERICAL]\n",
      "\t5 : sub_grade_D4 [NUMERICAL]\n",
      "\t5 : sub_grade_B4 [NUMERICAL]\n",
      "\t5 : home_ownership_MORTGAGE [NUMERICAL]\n",
      "\t5 : grade_G [NUMERICAL]\n",
      "\t4 : grade_C [NUMERICAL]\n",
      "\t4 : emp_length_4_years [NUMERICAL]\n",
      "\t4 : emp_length_10+_years [NUMERICAL]\n",
      "\t3 : sub_grade_B5 [NUMERICAL]\n",
      "\t3 : sub_grade_B2 [NUMERICAL]\n",
      "\t3 : purpose_credit_card [NUMERICAL]\n",
      "\t3 : emp_length_<_1_year [NUMERICAL]\n",
      "\t2 : sub_grade_D2 [NUMERICAL]\n",
      "\t2 : sub_grade_C3 [NUMERICAL]\n",
      "\t2 : purpose_small_business [NUMERICAL]\n",
      "\t2 : purpose_medical [NUMERICAL]\n",
      "\t2 : purpose_major_purchase [NUMERICAL]\n",
      "\t2 : purpose_debt_consolidation [NUMERICAL]\n",
      "\t2 : home_ownership_OWN [NUMERICAL]\n",
      "\t2 : emp_length_n/a [NUMERICAL]\n",
      "\t2 : emp_length_3_years [NUMERICAL]\n",
      "\t1 : sub_grade_G2 [NUMERICAL]\n",
      "\t1 : sub_grade_F5 [NUMERICAL]\n",
      "\t1 : sub_grade_F4 [NUMERICAL]\n",
      "\t1 : sub_grade_F1 [NUMERICAL]\n",
      "\t1 : sub_grade_E2 [NUMERICAL]\n",
      "\t1 : sub_grade_D5 [NUMERICAL]\n",
      "\t1 : sub_grade_C5 [NUMERICAL]\n",
      "\t1 : sub_grade_C4 [NUMERICAL]\n",
      "\t1 : sub_grade_C1 [NUMERICAL]\n",
      "\t1 : sub_grade_B3 [NUMERICAL]\n",
      "\t1 : purpose_other [NUMERICAL]\n",
      "\t1 : purpose_moving [NUMERICAL]\n",
      "\t1 : purpose_home_improvement [NUMERICAL]\n",
      "\t1 : emp_length_5_years [NUMERICAL]\n",
      "\t1 : emp_length_2_years [NUMERICAL]\n",
      "\t1 : emp_length_1_year [NUMERICAL]\n",
      "\t1 : collections_12_mths_ex_med [NUMERICAL]\n",
      "\t1 : acc_now_delinq [NUMERICAL]\n",
      "\n",
      "Attribute in nodes with depth <= 5:\n",
      "\t900 : last_pymnt_amnt [NUMERICAL]\n",
      "\t877 : out_prncp [NUMERICAL]\n",
      "\t826 : total_rec_prncp [NUMERICAL]\n",
      "\t762 : int_rate [NUMERICAL]\n",
      "\t642 : recoveries [NUMERICAL]\n",
      "\t574 : total_rec_int [NUMERICAL]\n",
      "\t566 : total_pymnt_inv [NUMERICAL]\n",
      "\t549 : total_pymnt [NUMERICAL]\n",
      "\t525 : total_rec_late_fee [NUMERICAL]\n",
      "\t517 : collection_recovery_fee [NUMERICAL]\n",
      "\t385 : installment [NUMERICAL]\n",
      "\t361 : funded_amnt [NUMERICAL]\n",
      "\t318 : loan_amnt [NUMERICAL]\n",
      "\t317 : annual_inc [NUMERICAL]\n",
      "\t309 : total_rev_hi_lim [NUMERICAL]\n",
      "\t284 : tot_cur_bal [NUMERICAL]\n",
      "\t233 : dti [NUMERICAL]\n",
      "\t232 : revol_util [NUMERICAL]\n",
      "\t214 : revol_bal [NUMERICAL]\n",
      "\t208 : grade_A [NUMERICAL]\n",
      "\t171 : inq_last_6mths [NUMERICAL]\n",
      "\t166 : initial_list_status_f [NUMERICAL]\n",
      "\t156 : initial_list_status_w [NUMERICAL]\n",
      "\t148 : total_acc [NUMERICAL]\n",
      "\t128 : open_acc [NUMERICAL]\n",
      "\t116 : grade_B [NUMERICAL]\n",
      "\t98 : term__36_months [NUMERICAL]\n",
      "\t90 : term__60_months [NUMERICAL]\n",
      "\t73 : verification_status_Verified [NUMERICAL]\n",
      "\t73 : grade_F [NUMERICAL]\n",
      "\t73 : grade_E [NUMERICAL]\n",
      "\t71 : sub_grade_A1 [NUMERICAL]\n",
      "\t67 : grade_D [NUMERICAL]\n",
      "\t58 : verification_status_Not_Verified [NUMERICAL]\n",
      "\t51 : tot_coll_amt [NUMERICAL]\n",
      "\t50 : home_ownership_RENT [NUMERICAL]\n",
      "\t42 : verification_status_Source_Verified [NUMERICAL]\n",
      "\t41 : home_ownership_MORTGAGE [NUMERICAL]\n",
      "\t38 : grade_C [NUMERICAL]\n",
      "\t37 : delinq_2yrs [NUMERICAL]\n",
      "\t31 : sub_grade_A5 [NUMERICAL]\n",
      "\t28 : sub_grade_A2 [NUMERICAL]\n",
      "\t26 : pub_rec [NUMERICAL]\n",
      "\t22 : sub_grade_F3 [NUMERICAL]\n",
      "\t22 : sub_grade_B1 [NUMERICAL]\n",
      "\t21 : sub_grade_A4 [NUMERICAL]\n",
      "\t20 : sub_grade_E3 [NUMERICAL]\n",
      "\t17 : sub_grade_D4 [NUMERICAL]\n",
      "\t17 : grade_G [NUMERICAL]\n",
      "\t17 : emp_length_10+_years [NUMERICAL]\n",
      "\t16 : sub_grade_B2 [NUMERICAL]\n",
      "\t15 : purpose_credit_card [NUMERICAL]\n",
      "\t15 : emp_length_n/a [NUMERICAL]\n",
      "\t15 : emp_length_5_years [NUMERICAL]\n",
      "\t14 : sub_grade_B3 [NUMERICAL]\n",
      "\t13 : sub_grade_C4 [NUMERICAL]\n",
      "\t13 : sub_grade_A3 [NUMERICAL]\n",
      "\t13 : emp_length_<_1_year [NUMERICAL]\n",
      "\t13 : emp_length_1_year [NUMERICAL]\n",
      "\t12 : purpose_debt_consolidation [NUMERICAL]\n",
      "\t12 : emp_length_4_years [NUMERICAL]\n",
      "\t11 : sub_grade_F1 [NUMERICAL]\n",
      "\t11 : sub_grade_D2 [NUMERICAL]\n",
      "\t11 : sub_grade_B4 [NUMERICAL]\n",
      "\t11 : purpose_other [NUMERICAL]\n",
      "\t11 : home_ownership_OWN [NUMERICAL]\n",
      "\t10 : sub_grade_F5 [NUMERICAL]\n",
      "\t10 : sub_grade_D1 [NUMERICAL]\n",
      "\t10 : sub_grade_C3 [NUMERICAL]\n",
      "\t9 : sub_grade_E2 [NUMERICAL]\n",
      "\t9 : sub_grade_C2 [NUMERICAL]\n",
      "\t9 : sub_grade_B5 [NUMERICAL]\n",
      "\t9 : purpose_medical [NUMERICAL]\n",
      "\t9 : purpose_home_improvement [NUMERICAL]\n",
      "\t9 : emp_length_9_years [NUMERICAL]\n",
      "\t9 : emp_length_7_years [NUMERICAL]\n",
      "\t8 : sub_grade_C5 [NUMERICAL]\n",
      "\t8 : sub_grade_C1 [NUMERICAL]\n",
      "\t8 : purpose_small_business [NUMERICAL]\n",
      "\t7 : sub_grade_E1 [NUMERICAL]\n",
      "\t7 : sub_grade_D5 [NUMERICAL]\n",
      "\t7 : emp_length_3_years [NUMERICAL]\n",
      "\t7 : emp_length_2_years [NUMERICAL]\n",
      "\t6 : sub_grade_F4 [NUMERICAL]\n",
      "\t6 : purpose_major_purchase [NUMERICAL]\n",
      "\t5 : sub_grade_E4 [NUMERICAL]\n",
      "\t5 : emp_length_8_years [NUMERICAL]\n",
      "\t5 : emp_length_6_years [NUMERICAL]\n",
      "\t4 : purpose_car [NUMERICAL]\n",
      "\t3 : sub_grade_D3 [NUMERICAL]\n",
      "\t2 : purpose_moving [NUMERICAL]\n",
      "\t2 : collections_12_mths_ex_med [NUMERICAL]\n",
      "\t2 : acc_now_delinq [NUMERICAL]\n",
      "\t1 : sub_grade_G5 [NUMERICAL]\n",
      "\t1 : sub_grade_G2 [NUMERICAL]\n",
      "\t1 : sub_grade_G1 [NUMERICAL]\n",
      "\t1 : sub_grade_F2 [NUMERICAL]\n",
      "\t1 : sub_grade_E5 [NUMERICAL]\n",
      "\t1 : purpose_wedding [NUMERICAL]\n",
      "\t1 : purpose_vacation [NUMERICAL]\n",
      "\n",
      "Condition type in nodes:\n",
      "\t196033 : HigherCondition\n",
      "Condition type in nodes with depth <= 0:\n",
      "\t300 : HigherCondition\n",
      "Condition type in nodes with depth <= 1:\n",
      "\t844 : HigherCondition\n",
      "Condition type in nodes with depth <= 2:\n",
      "\t1840 : HigherCondition\n",
      "Condition type in nodes with depth <= 3:\n",
      "\t3615 : HigherCondition\n",
      "Condition type in nodes with depth <= 5:\n",
      "\t11965 : HigherCondition\n",
      "Node format: NOT_SET\n",
      "\n",
      "Training OOB:\n",
      "\ttrees: 1, Out-of-bag evaluation: accuracy:0.970765 logloss:1.05373\n",
      "\ttrees: 11, Out-of-bag evaluation: accuracy:0.973656 logloss:0.55298\n",
      "\ttrees: 21, Out-of-bag evaluation: accuracy:0.979815 logloss:0.373717\n",
      "\ttrees: 31, Out-of-bag evaluation: accuracy:0.980904 logloss:0.305457\n",
      "\ttrees: 41, Out-of-bag evaluation: accuracy:0.981027 logloss:0.264223\n",
      "\ttrees: 51, Out-of-bag evaluation: accuracy:0.981537 logloss:0.237017\n",
      "\ttrees: 61, Out-of-bag evaluation: accuracy:0.981467 logloss:0.213072\n",
      "\ttrees: 71, Out-of-bag evaluation: accuracy:0.981589 logloss:0.192427\n",
      "\ttrees: 81, Out-of-bag evaluation: accuracy:0.981748 logloss:0.178289\n",
      "\ttrees: 91, Out-of-bag evaluation: accuracy:0.981888 logloss:0.168709\n",
      "\ttrees: 101, Out-of-bag evaluation: accuracy:0.981923 logloss:0.159271\n",
      "\ttrees: 111, Out-of-bag evaluation: accuracy:0.981871 logloss:0.150603\n",
      "\ttrees: 121, Out-of-bag evaluation: accuracy:0.981871 logloss:0.145517\n",
      "\ttrees: 131, Out-of-bag evaluation: accuracy:0.982064 logloss:0.13974\n",
      "\ttrees: 141, Out-of-bag evaluation: accuracy:0.982134 logloss:0.135099\n",
      "\ttrees: 151, Out-of-bag evaluation: accuracy:0.982152 logloss:0.130846\n",
      "\ttrees: 161, Out-of-bag evaluation: accuracy:0.982204 logloss:0.125586\n",
      "\ttrees: 171, Out-of-bag evaluation: accuracy:0.982152 logloss:0.1241\n",
      "\ttrees: 181, Out-of-bag evaluation: accuracy:0.982134 logloss:0.12096\n",
      "\ttrees: 191, Out-of-bag evaluation: accuracy:0.982099 logloss:0.119299\n",
      "\ttrees: 201, Out-of-bag evaluation: accuracy:0.982099 logloss:0.11735\n",
      "\ttrees: 211, Out-of-bag evaluation: accuracy:0.982187 logloss:0.113156\n",
      "\ttrees: 221, Out-of-bag evaluation: accuracy:0.982187 logloss:0.112524\n",
      "\ttrees: 231, Out-of-bag evaluation: accuracy:0.982204 logloss:0.109775\n",
      "\ttrees: 241, Out-of-bag evaluation: accuracy:0.982169 logloss:0.107934\n",
      "\ttrees: 251, Out-of-bag evaluation: accuracy:0.982275 logloss:0.106138\n",
      "\ttrees: 261, Out-of-bag evaluation: accuracy:0.982222 logloss:0.10335\n",
      "\ttrees: 271, Out-of-bag evaluation: accuracy:0.982222 logloss:0.103233\n",
      "\ttrees: 281, Out-of-bag evaluation: accuracy:0.982257 logloss:0.101588\n",
      "\ttrees: 291, Out-of-bag evaluation: accuracy:0.982204 logloss:0.0997661\n",
      "\ttrees: 300, Out-of-bag evaluation: accuracy:0.982204 logloss:0.0988853\n",
      "\n"
     ]
    }
   ],
   "source": [
    "model.summary()"
   ]
  },
  {
   "cell_type": "code",
   "execution_count": 262,
   "metadata": {},
   "outputs": [
    {
     "name": "stdout",
     "output_type": "stream",
     "text": [
      "25/25 [==============================] - 1s 27ms/step - loss: 0.0000e+00 - accuracy: 0.9823 - precision_6: 0.9985 - recall_6: 0.9664\n"
     ]
    },
    {
     "data": {
      "text/plain": [
       "[0.0, 0.9823331832885742, 0.998487114906311, 0.9664036631584167]"
      ]
     },
     "execution_count": 262,
     "metadata": {},
     "output_type": "execute_result"
    }
   ],
   "source": [
    "model.evaluate(X_test)"
   ]
  },
  {
   "cell_type": "code",
   "execution_count": 263,
   "metadata": {},
   "outputs": [
    {
     "name": "stdout",
     "output_type": "stream",
     "text": [
      "25/25 [==============================] - 1s 27ms/step\n"
     ]
    }
   ],
   "source": [
    "y_pred = model.predict(X_test)"
   ]
  },
  {
   "cell_type": "code",
   "execution_count": 264,
   "metadata": {},
   "outputs": [
    {
     "name": "stdout",
     "output_type": "stream",
     "text": [
      "25/25 [==============================] - 1s 28ms/step\n"
     ]
    }
   ],
   "source": [
    "y_pred = model.predict(X_test)"
   ]
  },
  {
   "cell_type": "code",
   "execution_count": 265,
   "metadata": {},
   "outputs": [
    {
     "data": {
      "image/png": "[encoded data removed]",
      "text/plain": [
       "<Figure size 432x288 with 1 Axes>"
      ]
     },
     "metadata": {
      "needs_background": "light"
     },
     "output_type": "display_data"
    }
   ],
   "source": [
    "graph_roc_curve(test['default_ind'], y_pred)"
   ]
  },
  {
   "attachments": {},
   "cell_type": "markdown",
   "metadata": {},
   "source": [
    "### Feed Forward network"
   ]
  },
  {
   "cell_type": "code",
   "execution_count": 266,
   "metadata": {},
   "outputs": [],
   "source": [
    "y_train = train['default_ind']\n",
    "X_train = train.drop('default_ind', axis=1)\n",
    "y_test = test['default_ind']\n",
    "X_test = test.drop('default_ind', axis=1)"
   ]
  },
  {
   "cell_type": "code",
   "execution_count": 267,
   "metadata": {},
   "outputs": [
    {
     "data": {
      "text/plain": [
       "(56924, 108)"
      ]
     },
     "execution_count": 267,
     "metadata": {},
     "output_type": "execute_result"
    }
   ],
   "source": [
    "X_train.shape"
   ]
  },
  {
   "cell_type": "code",
   "execution_count": 268,
   "metadata": {},
   "outputs": [],
   "source": [
    "from keras.models import Sequential\n",
    "from keras.layers import Dense, Input\n",
    "\n",
    "model = Sequential()\n",
    "model.add(Input(shape=(108,)))\n",
    "model.add(Dense(8, activation=\"relu\"))\n",
    "model.add(Dense(8, activation=\"relu\"))\n",
    "model.add(Dense(8, activation=\"relu\"))\n",
    "model.add(Dense(8, activation=\"relu\"))\n",
    "model.add(Dense(2, activation=\"softmax\"))"
   ]
  },
  {
   "cell_type": "code",
   "execution_count": 279,
   "metadata": {},
   "outputs": [],
   "source": [
    "model.compile(loss=\"sparse_categorical_crossentropy\", optimizer='adam', metrics=['accuracy'])"
   ]
  },
  {
   "cell_type": "code",
   "execution_count": 280,
   "metadata": {},
   "outputs": [
    {
     "name": "stdout",
     "output_type": "stream",
     "text": [
      "Epoch 1/50\n",
      "911/911 [==============================] - 2s 1ms/step - loss: 0.0814 - accuracy: 0.9807 - val_loss: 0.0903 - val_accuracy: 0.9799\n",
      "Epoch 2/50\n",
      "911/911 [==============================] - 1s 574us/step - loss: 0.0784 - accuracy: 0.9813 - val_loss: 0.0839 - val_accuracy: 0.9810\n",
      "Epoch 3/50\n",
      "911/911 [==============================] - 1s 596us/step - loss: 0.0859 - accuracy: 0.9799 - val_loss: 0.0820 - val_accuracy: 0.9816\n",
      "Epoch 4/50\n",
      "911/911 [==============================] - 1s 566us/step - loss: 0.0758 - accuracy: 0.9823 - val_loss: 0.0811 - val_accuracy: 0.9814\n",
      "Epoch 5/50\n",
      "911/911 [==============================] - 1s 570us/step - loss: 0.1062 - accuracy: 0.9737 - val_loss: 0.2139 - val_accuracy: 0.9477\n",
      "Epoch 6/50\n",
      "911/911 [==============================] - 1s 589us/step - loss: 0.0816 - accuracy: 0.9801 - val_loss: 0.0820 - val_accuracy: 0.9817\n",
      "Epoch 7/50\n",
      "911/911 [==============================] - 1s 594us/step - loss: 0.0840 - accuracy: 0.9793 - val_loss: 0.0869 - val_accuracy: 0.9801\n",
      "Epoch 8/50\n",
      "911/911 [==============================] - 1s 591us/step - loss: 0.0815 - accuracy: 0.9803 - val_loss: 0.0860 - val_accuracy: 0.9794\n",
      "Epoch 9/50\n",
      "911/911 [==============================] - 1s 578us/step - loss: 0.0835 - accuracy: 0.9794 - val_loss: 0.0961 - val_accuracy: 0.9758\n",
      "Epoch 10/50\n",
      "911/911 [==============================] - 1s 568us/step - loss: 0.0777 - accuracy: 0.9817 - val_loss: 0.0828 - val_accuracy: 0.9817\n",
      "Epoch 11/50\n",
      "911/911 [==============================] - 1s 578us/step - loss: 0.3786 - accuracy: 0.7463 - val_loss: 0.4325 - val_accuracy: 0.5059\n",
      "Epoch 12/50\n",
      "911/911 [==============================] - 1s 576us/step - loss: 0.2806 - accuracy: 0.9613 - val_loss: 0.1976 - val_accuracy: 0.9748\n",
      "Epoch 13/50\n",
      "911/911 [==============================] - 1s 568us/step - loss: 0.1462 - accuracy: 0.9761 - val_loss: 0.0970 - val_accuracy: 0.9736\n",
      "Epoch 14/50\n",
      "911/911 [==============================] - 1s 572us/step - loss: 0.1037 - accuracy: 0.9758 - val_loss: 0.1049 - val_accuracy: 0.9699\n",
      "Epoch 15/50\n",
      "911/911 [==============================] - 1s 576us/step - loss: 0.0834 - accuracy: 0.9804 - val_loss: 0.0903 - val_accuracy: 0.9761\n",
      "Epoch 16/50\n",
      "911/911 [==============================] - 1s 572us/step - loss: 0.0884 - accuracy: 0.9800 - val_loss: 0.0862 - val_accuracy: 0.9810\n",
      "Epoch 17/50\n",
      "911/911 [==============================] - 1s 571us/step - loss: 0.0783 - accuracy: 0.9822 - val_loss: 0.0820 - val_accuracy: 0.9817\n",
      "Epoch 18/50\n",
      "911/911 [==============================] - 1s 578us/step - loss: 0.0756 - accuracy: 0.9828 - val_loss: 0.0828 - val_accuracy: 0.9809\n",
      "Epoch 19/50\n",
      "911/911 [==============================] - 1s 579us/step - loss: 0.0871 - accuracy: 0.9795 - val_loss: 0.0875 - val_accuracy: 0.9792\n",
      "Epoch 20/50\n",
      "911/911 [==============================] - 1s 570us/step - loss: 0.0794 - accuracy: 0.9813 - val_loss: 0.0954 - val_accuracy: 0.9758\n",
      "Epoch 21/50\n",
      "911/911 [==============================] - 1s 586us/step - loss: 0.0835 - accuracy: 0.9798 - val_loss: 0.0947 - val_accuracy: 0.9777\n",
      "Epoch 22/50\n",
      "911/911 [==============================] - 1s 592us/step - loss: 0.0808 - accuracy: 0.9808 - val_loss: 0.0841 - val_accuracy: 0.9805\n",
      "Epoch 23/50\n",
      "911/911 [==============================] - 1s 576us/step - loss: 0.0768 - accuracy: 0.9820 - val_loss: 0.0804 - val_accuracy: 0.9820\n",
      "Epoch 24/50\n",
      "911/911 [==============================] - 1s 586us/step - loss: 0.0766 - accuracy: 0.9822 - val_loss: 0.0858 - val_accuracy: 0.9792\n",
      "Epoch 25/50\n",
      "911/911 [==============================] - 1s 588us/step - loss: 0.0784 - accuracy: 0.9816 - val_loss: 0.0813 - val_accuracy: 0.9812\n",
      "Epoch 26/50\n",
      "911/911 [==============================] - 1s 588us/step - loss: 0.0796 - accuracy: 0.9811 - val_loss: 0.0834 - val_accuracy: 0.9801\n",
      "Epoch 27/50\n",
      "911/911 [==============================] - 1s 568us/step - loss: 0.0761 - accuracy: 0.9821 - val_loss: 0.0810 - val_accuracy: 0.9813\n",
      "Epoch 28/50\n",
      "911/911 [==============================] - 1s 565us/step - loss: 0.0851 - accuracy: 0.9798 - val_loss: 0.1800 - val_accuracy: 0.9559\n",
      "Epoch 29/50\n",
      "911/911 [==============================] - 1s 569us/step - loss: 0.0760 - accuracy: 0.9822 - val_loss: 0.0818 - val_accuracy: 0.9811\n",
      "Epoch 30/50\n",
      "911/911 [==============================] - 1s 576us/step - loss: 0.0784 - accuracy: 0.9816 - val_loss: 0.0788 - val_accuracy: 0.9820\n",
      "Epoch 31/50\n",
      "911/911 [==============================] - 1s 572us/step - loss: 0.0781 - accuracy: 0.9817 - val_loss: 0.0791 - val_accuracy: 0.9821\n",
      "Epoch 32/50\n",
      "911/911 [==============================] - 1s 581us/step - loss: 0.0792 - accuracy: 0.9814 - val_loss: 0.0784 - val_accuracy: 0.9819\n",
      "Epoch 33/50\n",
      "911/911 [==============================] - 1s 578us/step - loss: 0.0751 - accuracy: 0.9824 - val_loss: 0.0790 - val_accuracy: 0.9817\n",
      "Epoch 34/50\n",
      "911/911 [==============================] - 1s 576us/step - loss: 0.0808 - accuracy: 0.9810 - val_loss: 0.0810 - val_accuracy: 0.9814\n",
      "Epoch 35/50\n",
      "911/911 [==============================] - 1s 570us/step - loss: 0.0820 - accuracy: 0.9806 - val_loss: 0.0824 - val_accuracy: 0.9805\n",
      "Epoch 36/50\n",
      "911/911 [==============================] - 1s 568us/step - loss: 0.0852 - accuracy: 0.9792 - val_loss: 0.0823 - val_accuracy: 0.9808\n",
      "Epoch 37/50\n",
      "911/911 [==============================] - 1s 570us/step - loss: 0.0791 - accuracy: 0.9813 - val_loss: 0.0815 - val_accuracy: 0.9807\n",
      "Epoch 38/50\n",
      "911/911 [==============================] - 1s 568us/step - loss: 0.0776 - accuracy: 0.9817 - val_loss: 0.0828 - val_accuracy: 0.9801\n",
      "Epoch 39/50\n",
      "911/911 [==============================] - 1s 577us/step - loss: 0.0805 - accuracy: 0.9811 - val_loss: 0.0812 - val_accuracy: 0.9812\n",
      "Epoch 40/50\n",
      "911/911 [==============================] - 1s 571us/step - loss: 0.0768 - accuracy: 0.9820 - val_loss: 0.0818 - val_accuracy: 0.9806\n",
      "Epoch 41/50\n",
      "911/911 [==============================] - 1s 566us/step - loss: 0.0826 - accuracy: 0.9803 - val_loss: 0.0811 - val_accuracy: 0.9814\n",
      "Epoch 42/50\n",
      "911/911 [==============================] - 1s 572us/step - loss: 0.0766 - accuracy: 0.9818 - val_loss: 0.0801 - val_accuracy: 0.9816\n",
      "Epoch 43/50\n",
      "911/911 [==============================] - 1s 572us/step - loss: 0.0802 - accuracy: 0.9812 - val_loss: 0.1408 - val_accuracy: 0.9661\n",
      "Epoch 44/50\n",
      "911/911 [==============================] - 1s 568us/step - loss: 0.0818 - accuracy: 0.9798 - val_loss: 0.0925 - val_accuracy: 0.9763\n",
      "Epoch 45/50\n",
      "911/911 [==============================] - 1s 571us/step - loss: 0.0822 - accuracy: 0.9803 - val_loss: 0.0796 - val_accuracy: 0.9818\n",
      "Epoch 46/50\n",
      "911/911 [==============================] - 1s 569us/step - loss: 0.0913 - accuracy: 0.9779 - val_loss: 0.0815 - val_accuracy: 0.9809\n",
      "Epoch 47/50\n",
      "911/911 [==============================] - 1s 572us/step - loss: 0.0915 - accuracy: 0.9773 - val_loss: 0.0799 - val_accuracy: 0.9819\n",
      "Epoch 48/50\n",
      "911/911 [==============================] - 1s 574us/step - loss: 0.0755 - accuracy: 0.9826 - val_loss: 0.0841 - val_accuracy: 0.9801\n",
      "Epoch 49/50\n",
      "911/911 [==============================] - 1s 576us/step - loss: 0.0881 - accuracy: 0.9794 - val_loss: 0.1076 - val_accuracy: 0.9744\n",
      "Epoch 50/50\n",
      "911/911 [==============================] - 1s 567us/step - loss: 0.0791 - accuracy: 0.9812 - val_loss: 0.0794 - val_accuracy: 0.9819\n"
     ]
    },
    {
     "data": {
      "text/plain": [
       "<keras.callbacks.History at 0x7f996451da60>"
      ]
     },
     "execution_count": 280,
     "metadata": {},
     "output_type": "execute_result"
    }
   ],
   "source": [
    "model.fit(X_train, y_train, epochs=50, batch_size=50, validation_split=0.2)"
   ]
  },
  {
   "cell_type": "code",
   "execution_count": 281,
   "metadata": {},
   "outputs": [
    {
     "name": "stdout",
     "output_type": "stream",
     "text": [
      "763/763 [==============================] - 0s 383us/step - loss: 0.0747 - accuracy: 0.9825\n"
     ]
    },
    {
     "data": {
      "text/plain": [
       "[0.07470446079969406, 0.9824971556663513]"
      ]
     },
     "execution_count": 281,
     "metadata": {},
     "output_type": "execute_result"
    }
   ],
   "source": [
    "model.evaluate(X_test, y_test)"
   ]
  },
  {
   "cell_type": "code",
   "execution_count": 282,
   "metadata": {},
   "outputs": [
    {
     "name": "stdout",
     "output_type": "stream",
     "text": [
      "763/763 [==============================] - 0s 325us/step\n"
     ]
    }
   ],
   "source": [
    "y_pred = model.predict(X_test)"
   ]
  },
  {
   "cell_type": "code",
   "execution_count": 283,
   "metadata": {},
   "outputs": [],
   "source": [
    "y_pred = y_pred.argmax(axis=1)"
   ]
  },
  {
   "cell_type": "code",
   "execution_count": 284,
   "metadata": {},
   "outputs": [
    {
     "data": {
      "image/png": "[encoded data removed]",
      "text/plain": [
       "<Figure size 432x288 with 1 Axes>"
      ]
     },
     "metadata": {
      "needs_background": "light"
     },
     "output_type": "display_data"
    }
   ],
   "source": [
    "graph_roc_curve(y_pred, y_test)"
   ]
  },
  {
   "cell_type": "code",
   "execution_count": 285,
   "metadata": {},
   "outputs": [
    {
     "name": "stdout",
     "output_type": "stream",
     "text": [
      "0.9828759679961454\n",
      "0.9826208991064715\n"
     ]
    }
   ],
   "source": [
    "from sklearn.metrics import precision_score, recall_score\n",
    "print(precision_score(y_test, y_pred , average=\"macro\"))\n",
    "print(recall_score(y_test, y_pred , average=\"macro\"))"
   ]
  },
  {
   "cell_type": "code",
   "execution_count": null,
   "metadata": {},
   "outputs": [],
   "source": []
  }
 ],
 "metadata": {
  "kernelspec": {
   "display_name": "tf",
   "language": "python",
   "name": "python3"
  },
  "language_info": {
   "codemirror_mode": {
    "name": "ipython",
    "version": 3
   },
   "file_extension": ".py",
   "mimetype": "text/x-python",
   "name": "python",
   "nbconvert_exporter": "python",
   "pygments_lexer": "ipython3",
   "version": "3.9.16"
  },
  "orig_nbformat": 4
 },
 "nbformat": 4,
 "nbformat_minor": 2
}
