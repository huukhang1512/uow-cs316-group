{
 "cells": [
  {
   "cell_type": "code",
   "execution_count": 1,
   "metadata": {},
   "outputs": [
    {
     "name": "stderr",
     "output_type": "stream",
     "text": [
      "bash: /home/huukhang1512/miniconda3/envs/tf/lib/libtinfo.so.6: no version information available (required by bash)\n",
      "bash: /home/huukhang1512/miniconda3/envs/tf/lib/libtinfo.so.6: no version information available (required by bash)\n",
      "23/06/02 20:00:41 WARN Utils: Your hostname, huukhang1512-B550I-AORUS-PRO-AX resolves to a loopback address: 127.0.1.1; using 192.168.0.162 instead (on interface wlp6s0)\n",
      "23/06/02 20:00:41 WARN Utils: Set SPARK_LOCAL_IP if you need to bind to another address\n",
      "Using Spark's default log4j profile: org/apache/spark/log4j-defaults.properties\n",
      "Setting default log level to \"WARN\".\n",
      "To adjust logging level use sc.setLogLevel(newLevel). For SparkR, use setLogLevel(newLevel).\n",
      "23/06/02 20:00:41 WARN NativeCodeLoader: Unable to load native-hadoop library for your platform... using builtin-java classes where applicable\n",
      "23/06/02 20:00:42 WARN Utils: Service 'SparkUI' could not bind on port 4040. Attempting port 4041.\n",
      "23/06/02 20:00:42 WARN Utils: Service 'SparkUI' could not bind on port 4041. Attempting port 4042.\n"
     ]
    }
   ],
   "source": [
    "from pyspark.sql import SparkSession\n",
    "spark = SparkSession \\\n",
    "    .builder \\\n",
    "    .appName(\"credit_analysis\") \\\n",
    "    .getOrCreate()\n"
   ]
  },
  {
   "cell_type": "code",
   "execution_count": 2,
   "metadata": {},
   "outputs": [
    {
     "name": "stderr",
     "output_type": "stream",
     "text": [
      "                                                                                \r"
     ]
    }
   ],
   "source": [
    "df_original=spark.read.format(\"csv\").option(\"header\",\"true\").load('./data.csv', inferSchema=True)"
   ]
  },
  {
   "cell_type": "code",
   "execution_count": 3,
   "metadata": {},
   "outputs": [
    {
     "data": {
      "text/plain": [
       "855969"
      ]
     },
     "execution_count": 3,
     "metadata": {},
     "output_type": "execute_result"
    }
   ],
   "source": [
    "df_original.count()"
   ]
  },
  {
   "attachments": {},
   "cell_type": "markdown",
   "metadata": {},
   "source": [
    "## We realised there's many rows that have more delimeters than the others, therefore, we decided to remove some record with wrong delimeter before hand"
   ]
  },
  {
   "cell_type": "code",
   "execution_count": 4,
   "metadata": {},
   "outputs": [],
   "source": [
    "def remove_lines_with_excessive_commas(input_file, output_file):\n",
    "    with open(input_file, 'r') as csv_input, open(output_file, 'w', newline='') as csv_output:\n",
    "        first_line = csv_input.readline()\n",
    "        csv_output.write(first_line)\n",
    "        number_of_comma = first_line.count(',')\n",
    "        lines_removed = 0\n",
    "\n",
    "        for row in csv_input.readlines():\n",
    "            \n",
    "            if row.count(',') <= number_of_comma:\n",
    "                csv_output.write(row)\n",
    "            else:\n",
    "                lines_removed += 1\n",
    "\n",
    "        print(f\"{lines_removed} Lines with more than {number_of_comma} commas have been removed.\")\n",
    "\n",
    "# Usage example\n",
    "input_file = 'data.csv'\n",
    "output_file = 'output.csv'"
   ]
  },
  {
   "cell_type": "code",
   "execution_count": 5,
   "metadata": {},
   "outputs": [
    {
     "name": "stdout",
     "output_type": "stream",
     "text": [
      "51895 Lines with more than 72 commas have been removed.\n"
     ]
    }
   ],
   "source": [
    "remove_lines_with_excessive_commas(input_file, output_file)"
   ]
  },
  {
   "cell_type": "code",
   "execution_count": 6,
   "metadata": {},
   "outputs": [
    {
     "name": "stderr",
     "output_type": "stream",
     "text": [
      "                                                                                \r"
     ]
    }
   ],
   "source": [
    "df=spark.read.format(\"csv\").option(\"header\",\"true\").load('./output.csv', inferSchema=True)"
   ]
  },
  {
   "cell_type": "code",
   "execution_count": 7,
   "metadata": {},
   "outputs": [
    {
     "data": {
      "text/plain": [
       "804074"
      ]
     },
     "execution_count": 7,
     "metadata": {},
     "output_type": "execute_result"
    }
   ],
   "source": [
    "df.count()"
   ]
  },
  {
   "cell_type": "code",
   "execution_count": 8,
   "metadata": {},
   "outputs": [
    {
     "name": "stdout",
     "output_type": "stream",
     "text": [
      "+-------+---------+---------+-----------+---------------+----------+--------+-----------+-----+---------+--------------------+----------+--------------+----------+-------------------+----------+----------+--------------------+--------------+--------------------+--------+----------+-----+-----------+----------------+--------------+----------------------+----------------------+--------+-------+---------+----------+---------+-------------------+---------+-------------+-----------+---------------+---------------+-------------+------------------+----------+-----------------------+------------+---------------+------------+------------------+--------------------------+---------------------------+-----------+----------------+----------------+---------+-------------------------+--------------+------------+-----------+-----------+----------+-----------+-----------+------------------+------------+-------+-----------+-----------+----------+--------+----------------+------+-----------+------------+-----------+\n",
      "|     id|member_id|loan_amnt|funded_amnt|funded_amnt_inv|      term|int_rate|installment|grade|sub_grade|           emp_title|emp_length|home_ownership|annual_inc|verification_status|   issue_d|pymnt_plan|                desc|       purpose|               title|zip_code|addr_state|  dti|delinq_2yrs|earliest_cr_line|inq_last_6mths|mths_since_last_delinq|mths_since_last_record|open_acc|pub_rec|revol_bal|revol_util|total_acc|initial_list_status|out_prncp|out_prncp_inv|total_pymnt|total_pymnt_inv|total_rec_prncp|total_rec_int|total_rec_late_fee|recoveries|collection_recovery_fee|last_pymnt_d|last_pymnt_amnt|next_pymnt_d|last_credit_pull_d|collections_12_mths_ex_med|mths_since_last_major_derog|policy_code|application_type|annual_inc_joint|dti_joint|verification_status_joint|acc_now_delinq|tot_coll_amt|tot_cur_bal|open_acc_6m|open_il_6m|open_il_12m|open_il_24m|mths_since_rcnt_il|total_bal_il|il_util|open_rv_12m|open_rv_24m|max_bal_bc|all_util|total_rev_hi_lim|inq_fi|total_cu_tl|inq_last_12m|default_ind|\n",
      "+-------+---------+---------+-----------+---------------+----------+--------+-----------+-----+---------+--------------------+----------+--------------+----------+-------------------+----------+----------+--------------------+--------------+--------------------+--------+----------+-----+-----------+----------------+--------------+----------------------+----------------------+--------+-------+---------+----------+---------+-------------------+---------+-------------+-----------+---------------+---------------+-------------+------------------+----------+-----------------------+------------+---------------+------------+------------------+--------------------------+---------------------------+-----------+----------------+----------------+---------+-------------------------+--------------+------------+-----------+-----------+----------+-----------+-----------+------------------+------------+-------+-----------+-----------+----------+--------+----------------+------+-----------+------------+-----------+\n",
      "|1077501|  1296599|     5000|       5000|         4975.0| 36 months|   10.65|     162.87|    B|       B2|                null| 10+ years|          RENT|   24000.0|           Verified|01-12-2011|         n|  Borrower added ...|   credit_card|            Computer|   860xx|        AZ|27.65|          0|      01-01-1985|             1|                  null|                  null|       3|      0|    13648|      83.7|        9|                  f|      0.0|          0.0|5861.071414|        5831.78|         5000.0|       861.07|               0.0|       0.0|                    0.0|  01-01-2015|         171.62|        null|        01-01-2016|                         0|                       null|          1|      INDIVIDUAL|            null|     null|                     null|             0|        null|       null|       null|      null|       null|       null|              null|        null|   null|       null|       null|      null|    null|            null|  null|       null|        null|          0|\n",
      "|1077430|  1314167|     2500|       2500|         2500.0| 60 months|   15.27|      59.83|    C|       C4|               Ryder|  < 1 year|          RENT|   30000.0|    Source Verified|01-12-2011|         n|  Borrower added ...|           car|                bike|   309xx|        GA|  1.0|          0|      01-04-1999|             5|                  null|                  null|       3|      0|     1687|       9.4|        4|                  f|      0.0|          0.0|    1008.71|        1008.71|         456.46|       435.17|               0.0|    117.08|                   1.11|  01-04-2013|         119.66|        null|        01-09-2013|                         0|                       null|          1|      INDIVIDUAL|            null|     null|                     null|             0|        null|       null|       null|      null|       null|       null|              null|        null|   null|       null|       null|      null|    null|            null|  null|       null|        null|          1|\n",
      "|1077175|  1313524|     2400|       2400|         2400.0| 36 months|   15.96|      84.33|    C|       C5|                null| 10+ years|          RENT|   12252.0|       Not Verified|01-12-2011|         n|                null|small_business|real estate business|   606xx|        IL| 8.72|          0|      01-11-2001|             2|                  null|                  null|       2|      0|     2956|      98.5|       10|                  f|      0.0|          0.0|3003.653644|        3003.65|         2400.0|       603.65|               0.0|       0.0|                    0.0|  01-06-2014|         649.91|        null|        01-01-2016|                         0|                       null|          1|      INDIVIDUAL|            null|     null|                     null|             0|        null|       null|       null|      null|       null|       null|              null|        null|   null|       null|       null|      null|    null|            null|  null|       null|        null|          0|\n",
      "|1075269|  1311441|     5000|       5000|         5000.0| 36 months|     7.9|     156.46|    A|       A4|Veolia Transportaton|   3 years|          RENT|   36000.0|    Source Verified|01-12-2011|         n|                null|       wedding|My wedding loan I...|   852xx|        AZ| 11.2|          0|      01-11-2004|             3|                  null|                  null|       9|      0|     7963|      28.3|       12|                  f|      0.0|          0.0|5631.377753|        5631.38|         5000.0|       631.38|               0.0|       0.0|                    0.0|  01-01-2015|         161.03|        null|        01-09-2015|                         0|                       null|          1|      INDIVIDUAL|            null|     null|                     null|             0|        null|       null|       null|      null|       null|       null|              null|        null|   null|       null|       null|      null|    null|            null|  null|       null|        null|          0|\n",
      "|1072053|  1288686|     3000|       3000|         3000.0| 36 months|   18.64|     109.43|    E|       E1|     MKC Accounting |   9 years|          RENT|   48000.0|    Source Verified|01-12-2011|         n|  Borrower added ...|           car|     Car Downpayment|   900xx|        CA| 5.35|          0|      01-01-2007|             2|                  null|                  null|       4|      0|     8221|      87.5|        4|                  f|      0.0|          0.0|3938.144334|        3938.14|         3000.0|       938.14|               0.0|       0.0|                    0.0|  01-01-2015|         111.34|        null|        01-12-2014|                         0|                       null|          1|      INDIVIDUAL|            null|     null|                     null|             0|        null|       null|       null|      null|       null|       null|              null|        null|   null|       null|       null|      null|    null|            null|  null|       null|        null|          0|\n",
      "+-------+---------+---------+-----------+---------------+----------+--------+-----------+-----+---------+--------------------+----------+--------------+----------+-------------------+----------+----------+--------------------+--------------+--------------------+--------+----------+-----+-----------+----------------+--------------+----------------------+----------------------+--------+-------+---------+----------+---------+-------------------+---------+-------------+-----------+---------------+---------------+-------------+------------------+----------+-----------------------+------------+---------------+------------+------------------+--------------------------+---------------------------+-----------+----------------+----------------+---------+-------------------------+--------------+------------+-----------+-----------+----------+-----------+-----------+------------------+------------+-------+-----------+-----------+----------+--------+----------------+------+-----------+------------+-----------+\n",
      "only showing top 5 rows\n",
      "\n"
     ]
    },
    {
     "name": "stderr",
     "output_type": "stream",
     "text": [
      "23/06/02 20:00:49 WARN package: Truncated the string representation of a plan since it was too large. This behavior can be adjusted by setting 'spark.sql.debug.maxToStringFields'.\n"
     ]
    }
   ],
   "source": [
    "df.show(5)"
   ]
  },
  {
   "attachments": {},
   "cell_type": "markdown",
   "metadata": {},
   "source": [
    "# Stage 1: Data exploration"
   ]
  },
  {
   "cell_type": "code",
   "execution_count": 9,
   "metadata": {},
   "outputs": [
    {
     "data": {
      "text/plain": [
       "[('id', 'int'),\n",
       " ('member_id', 'int'),\n",
       " ('loan_amnt', 'int'),\n",
       " ('funded_amnt', 'int'),\n",
       " ('funded_amnt_inv', 'double'),\n",
       " ('term', 'string'),\n",
       " ('int_rate', 'double'),\n",
       " ('installment', 'double'),\n",
       " ('grade', 'string'),\n",
       " ('sub_grade', 'string'),\n",
       " ('emp_title', 'string'),\n",
       " ('emp_length', 'string'),\n",
       " ('home_ownership', 'string'),\n",
       " ('annual_inc', 'double'),\n",
       " ('verification_status', 'string'),\n",
       " ('issue_d', 'string'),\n",
       " ('pymnt_plan', 'string'),\n",
       " ('desc', 'string'),\n",
       " ('purpose', 'string'),\n",
       " ('title', 'string'),\n",
       " ('zip_code', 'string'),\n",
       " ('addr_state', 'string'),\n",
       " ('dti', 'double'),\n",
       " ('delinq_2yrs', 'int'),\n",
       " ('earliest_cr_line', 'string'),\n",
       " ('inq_last_6mths', 'int'),\n",
       " ('mths_since_last_delinq', 'int'),\n",
       " ('mths_since_last_record', 'int'),\n",
       " ('open_acc', 'int'),\n",
       " ('pub_rec', 'int'),\n",
       " ('revol_bal', 'int'),\n",
       " ('revol_util', 'double'),\n",
       " ('total_acc', 'int'),\n",
       " ('initial_list_status', 'string'),\n",
       " ('out_prncp', 'double'),\n",
       " ('out_prncp_inv', 'double'),\n",
       " ('total_pymnt', 'double'),\n",
       " ('total_pymnt_inv', 'double'),\n",
       " ('total_rec_prncp', 'double'),\n",
       " ('total_rec_int', 'double'),\n",
       " ('total_rec_late_fee', 'double'),\n",
       " ('recoveries', 'double'),\n",
       " ('collection_recovery_fee', 'double'),\n",
       " ('last_pymnt_d', 'string'),\n",
       " ('last_pymnt_amnt', 'double'),\n",
       " ('next_pymnt_d', 'string'),\n",
       " ('last_credit_pull_d', 'string'),\n",
       " ('collections_12_mths_ex_med', 'int'),\n",
       " ('mths_since_last_major_derog', 'int'),\n",
       " ('policy_code', 'int'),\n",
       " ('application_type', 'string'),\n",
       " ('annual_inc_joint', 'double'),\n",
       " ('dti_joint', 'double'),\n",
       " ('verification_status_joint', 'string'),\n",
       " ('acc_now_delinq', 'int'),\n",
       " ('tot_coll_amt', 'int'),\n",
       " ('tot_cur_bal', 'int'),\n",
       " ('open_acc_6m', 'int'),\n",
       " ('open_il_6m', 'int'),\n",
       " ('open_il_12m', 'int'),\n",
       " ('open_il_24m', 'int'),\n",
       " ('mths_since_rcnt_il', 'int'),\n",
       " ('total_bal_il', 'int'),\n",
       " ('il_util', 'double'),\n",
       " ('open_rv_12m', 'int'),\n",
       " ('open_rv_24m', 'int'),\n",
       " ('max_bal_bc', 'int'),\n",
       " ('all_util', 'double'),\n",
       " ('total_rev_hi_lim', 'int'),\n",
       " ('inq_fi', 'int'),\n",
       " ('total_cu_tl', 'int'),\n",
       " ('inq_last_12m', 'int'),\n",
       " ('default_ind', 'int')]"
      ]
     },
     "execution_count": 9,
     "metadata": {},
     "output_type": "execute_result"
    }
   ],
   "source": [
    "df.dtypes"
   ]
  },
  {
   "cell_type": "code",
   "execution_count": 10,
   "metadata": {},
   "outputs": [],
   "source": [
    "column_to_hist = [item[0] for item in df.dtypes if item[1].startswith('int') or item[1].startswith('double')]"
   ]
  },
  {
   "cell_type": "code",
   "execution_count": 11,
   "metadata": {},
   "outputs": [
    {
     "name": "stderr",
     "output_type": "stream",
     "text": [
      "                                                                                \r"
     ]
    },
    {
     "data": {
      "text/plain": [
       "array([[<AxesSubplot:title={'center':'id'}>,\n",
       "        <AxesSubplot:title={'center':'member_id'}>,\n",
       "        <AxesSubplot:title={'center':'loan_amnt'}>,\n",
       "        <AxesSubplot:title={'center':'funded_amnt'}>,\n",
       "        <AxesSubplot:title={'center':'funded_amnt_inv'}>,\n",
       "        <AxesSubplot:title={'center':'int_rate'}>,\n",
       "        <AxesSubplot:title={'center':'installment'}>],\n",
       "       [<AxesSubplot:title={'center':'annual_inc'}>,\n",
       "        <AxesSubplot:title={'center':'dti'}>,\n",
       "        <AxesSubplot:title={'center':'delinq_2yrs'}>,\n",
       "        <AxesSubplot:title={'center':'inq_last_6mths'}>,\n",
       "        <AxesSubplot:title={'center':'mths_since_last_delinq'}>,\n",
       "        <AxesSubplot:title={'center':'mths_since_last_record'}>,\n",
       "        <AxesSubplot:title={'center':'open_acc'}>],\n",
       "       [<AxesSubplot:title={'center':'pub_rec'}>,\n",
       "        <AxesSubplot:title={'center':'revol_bal'}>,\n",
       "        <AxesSubplot:title={'center':'revol_util'}>,\n",
       "        <AxesSubplot:title={'center':'total_acc'}>,\n",
       "        <AxesSubplot:title={'center':'out_prncp'}>,\n",
       "        <AxesSubplot:title={'center':'out_prncp_inv'}>,\n",
       "        <AxesSubplot:title={'center':'total_pymnt'}>],\n",
       "       [<AxesSubplot:title={'center':'total_pymnt_inv'}>,\n",
       "        <AxesSubplot:title={'center':'total_rec_prncp'}>,\n",
       "        <AxesSubplot:title={'center':'total_rec_int'}>,\n",
       "        <AxesSubplot:title={'center':'total_rec_late_fee'}>,\n",
       "        <AxesSubplot:title={'center':'recoveries'}>,\n",
       "        <AxesSubplot:title={'center':'collection_recovery_fee'}>,\n",
       "        <AxesSubplot:title={'center':'last_pymnt_amnt'}>],\n",
       "       [<AxesSubplot:title={'center':'collections_12_mths_ex_med'}>,\n",
       "        <AxesSubplot:title={'center':'mths_since_last_major_derog'}>,\n",
       "        <AxesSubplot:title={'center':'policy_code'}>,\n",
       "        <AxesSubplot:title={'center':'annual_inc_joint'}>,\n",
       "        <AxesSubplot:title={'center':'dti_joint'}>,\n",
       "        <AxesSubplot:title={'center':'acc_now_delinq'}>,\n",
       "        <AxesSubplot:title={'center':'tot_coll_amt'}>],\n",
       "       [<AxesSubplot:title={'center':'tot_cur_bal'}>,\n",
       "        <AxesSubplot:title={'center':'open_acc_6m'}>,\n",
       "        <AxesSubplot:title={'center':'open_il_6m'}>,\n",
       "        <AxesSubplot:title={'center':'open_il_12m'}>,\n",
       "        <AxesSubplot:title={'center':'open_il_24m'}>,\n",
       "        <AxesSubplot:title={'center':'mths_since_rcnt_il'}>,\n",
       "        <AxesSubplot:title={'center':'total_bal_il'}>],\n",
       "       [<AxesSubplot:title={'center':'il_util'}>,\n",
       "        <AxesSubplot:title={'center':'open_rv_12m'}>,\n",
       "        <AxesSubplot:title={'center':'open_rv_24m'}>,\n",
       "        <AxesSubplot:title={'center':'max_bal_bc'}>,\n",
       "        <AxesSubplot:title={'center':'all_util'}>,\n",
       "        <AxesSubplot:title={'center':'total_rev_hi_lim'}>,\n",
       "        <AxesSubplot:title={'center':'inq_fi'}>],\n",
       "       [<AxesSubplot:title={'center':'total_cu_tl'}>,\n",
       "        <AxesSubplot:title={'center':'inq_last_12m'}>,\n",
       "        <AxesSubplot:title={'center':'default_ind'}>, <AxesSubplot:>,\n",
       "        <AxesSubplot:>, <AxesSubplot:>, <AxesSubplot:>]], dtype=object)"
      ]
     },
     "execution_count": 11,
     "metadata": {},
     "output_type": "execute_result"
    },
    {
     "data": {
      "image/png": "[encoded data removed]",
      "text/plain": [
       "<Figure size 1440x1440 with 56 Axes>"
      ]
     },
     "metadata": {
      "needs_background": "light"
     },
     "output_type": "display_data"
    }
   ],
   "source": [
    "df.select(column_to_hist).sample(withReplacement=False, fraction=0.0002, seed=None).toPandas().hist(figsize=(20,20))"
   ]
  },
  {
   "cell_type": "code",
   "execution_count": 12,
   "metadata": {},
   "outputs": [
    {
     "data": {
      "text/plain": [
       "['id',\n",
       " 'member_id',\n",
       " 'loan_amnt',\n",
       " 'funded_amnt',\n",
       " 'funded_amnt_inv',\n",
       " 'term',\n",
       " 'int_rate',\n",
       " 'installment',\n",
       " 'grade',\n",
       " 'sub_grade',\n",
       " 'emp_title',\n",
       " 'emp_length',\n",
       " 'home_ownership',\n",
       " 'annual_inc',\n",
       " 'verification_status',\n",
       " 'issue_d',\n",
       " 'pymnt_plan',\n",
       " 'desc',\n",
       " 'purpose',\n",
       " 'title',\n",
       " 'zip_code',\n",
       " 'addr_state',\n",
       " 'dti',\n",
       " 'delinq_2yrs',\n",
       " 'earliest_cr_line',\n",
       " 'inq_last_6mths',\n",
       " 'mths_since_last_delinq',\n",
       " 'mths_since_last_record',\n",
       " 'open_acc',\n",
       " 'pub_rec',\n",
       " 'revol_bal',\n",
       " 'revol_util',\n",
       " 'total_acc',\n",
       " 'initial_list_status',\n",
       " 'out_prncp',\n",
       " 'out_prncp_inv',\n",
       " 'total_pymnt',\n",
       " 'total_pymnt_inv',\n",
       " 'total_rec_prncp',\n",
       " 'total_rec_int',\n",
       " 'total_rec_late_fee',\n",
       " 'recoveries',\n",
       " 'collection_recovery_fee',\n",
       " 'last_pymnt_d',\n",
       " 'last_pymnt_amnt',\n",
       " 'next_pymnt_d',\n",
       " 'last_credit_pull_d',\n",
       " 'collections_12_mths_ex_med',\n",
       " 'mths_since_last_major_derog',\n",
       " 'policy_code',\n",
       " 'application_type',\n",
       " 'annual_inc_joint',\n",
       " 'dti_joint',\n",
       " 'verification_status_joint',\n",
       " 'acc_now_delinq',\n",
       " 'tot_coll_amt',\n",
       " 'tot_cur_bal',\n",
       " 'open_acc_6m',\n",
       " 'open_il_6m',\n",
       " 'open_il_12m',\n",
       " 'open_il_24m',\n",
       " 'mths_since_rcnt_il',\n",
       " 'total_bal_il',\n",
       " 'il_util',\n",
       " 'open_rv_12m',\n",
       " 'open_rv_24m',\n",
       " 'max_bal_bc',\n",
       " 'all_util',\n",
       " 'total_rev_hi_lim',\n",
       " 'inq_fi',\n",
       " 'total_cu_tl',\n",
       " 'inq_last_12m',\n",
       " 'default_ind']"
      ]
     },
     "execution_count": 12,
     "metadata": {},
     "output_type": "execute_result"
    }
   ],
   "source": [
    "df.columns"
   ]
  },
  {
   "attachments": {},
   "cell_type": "markdown",
   "metadata": {},
   "source": [
    "From the domain knowledge, it is noticeable that the following fields could be removed as they do not provide great insight for the prediction, and may introduce noise and cause overfitting:"
   ]
  },
  {
   "attachments": {},
   "cell_type": "markdown",
   "metadata": {},
   "source": [
    "- Unique identifiers such as `id` and `member_id`\n",
    "- `emp_title`, `desc`, `title` as text description of the loan won't be contribute much for the prediction\n",
    "- Location identifier columns such as `zip_code` and `addr_state`, as these information do not expected to have a strong influence on loan defaults \n",
    "- Date columns such as `earliest_cr_line`, `issue_d`, `last_pymnt_d`, `next_pymnt_d`, `last_credit_pull_d` can be removed, as these data might not be relevant for the prediction model. Moreover, the model to be implemented is expected to predict the upcoming loan, and these date data might not be available."
   ]
  },
  {
   "cell_type": "code",
   "execution_count": 13,
   "metadata": {},
   "outputs": [],
   "source": [
    "df = df.drop('id', 'member_id', 'emp_title', 'desc', 'emp_title', 'title', 'zip_code', 'addr_state', 'earliest_cr_line', 'issue_d', 'last_pymnt_d', 'next_pymnt_d', 'last_credit_pull_d')"
   ]
  },
  {
   "cell_type": "code",
   "execution_count": 14,
   "metadata": {},
   "outputs": [
    {
     "name": "stdout",
     "output_type": "stream",
     "text": [
      "+---------+-----------+---------------+----------+--------+-----------+-----+---------+----------+--------------+----------+-------------------+----------+------------------+-----+-----------+--------------+----------------------+----------------------+--------+-------+---------+----------+---------+-------------------+---------+-------------+-----------+---------------+---------------+-------------+------------------+----------+-----------------------+---------------+--------------------------+---------------------------+-----------+----------------+----------------+---------+-------------------------+--------------+------------+-----------+-----------+----------+-----------+-----------+------------------+------------+-------+-----------+-----------+----------+--------+----------------+------+-----------+------------+-----------+\n",
      "|loan_amnt|funded_amnt|funded_amnt_inv|      term|int_rate|installment|grade|sub_grade|emp_length|home_ownership|annual_inc|verification_status|pymnt_plan|           purpose|  dti|delinq_2yrs|inq_last_6mths|mths_since_last_delinq|mths_since_last_record|open_acc|pub_rec|revol_bal|revol_util|total_acc|initial_list_status|out_prncp|out_prncp_inv|total_pymnt|total_pymnt_inv|total_rec_prncp|total_rec_int|total_rec_late_fee|recoveries|collection_recovery_fee|last_pymnt_amnt|collections_12_mths_ex_med|mths_since_last_major_derog|policy_code|application_type|annual_inc_joint|dti_joint|verification_status_joint|acc_now_delinq|tot_coll_amt|tot_cur_bal|open_acc_6m|open_il_6m|open_il_12m|open_il_24m|mths_since_rcnt_il|total_bal_il|il_util|open_rv_12m|open_rv_24m|max_bal_bc|all_util|total_rev_hi_lim|inq_fi|total_cu_tl|inq_last_12m|default_ind|\n",
      "+---------+-----------+---------------+----------+--------+-----------+-----+---------+----------+--------------+----------+-------------------+----------+------------------+-----+-----------+--------------+----------------------+----------------------+--------+-------+---------+----------+---------+-------------------+---------+-------------+-----------+---------------+---------------+-------------+------------------+----------+-----------------------+---------------+--------------------------+---------------------------+-----------+----------------+----------------+---------+-------------------------+--------------+------------+-----------+-----------+----------+-----------+-----------+------------------+------------+-------+-----------+-----------+----------+--------+----------------+------+-----------+------------+-----------+\n",
      "|     5000|       5000|         4975.0| 36 months|   10.65|     162.87|    B|       B2| 10+ years|          RENT|   24000.0|           Verified|         n|       credit_card|27.65|          0|             1|                  null|                  null|       3|      0|    13648|      83.7|        9|                  f|      0.0|          0.0|5861.071414|        5831.78|         5000.0|       861.07|               0.0|       0.0|                    0.0|         171.62|                         0|                       null|          1|      INDIVIDUAL|            null|     null|                     null|             0|        null|       null|       null|      null|       null|       null|              null|        null|   null|       null|       null|      null|    null|            null|  null|       null|        null|          0|\n",
      "|     2500|       2500|         2500.0| 60 months|   15.27|      59.83|    C|       C4|  < 1 year|          RENT|   30000.0|    Source Verified|         n|               car|  1.0|          0|             5|                  null|                  null|       3|      0|     1687|       9.4|        4|                  f|      0.0|          0.0|    1008.71|        1008.71|         456.46|       435.17|               0.0|    117.08|                   1.11|         119.66|                         0|                       null|          1|      INDIVIDUAL|            null|     null|                     null|             0|        null|       null|       null|      null|       null|       null|              null|        null|   null|       null|       null|      null|    null|            null|  null|       null|        null|          1|\n",
      "|     2400|       2400|         2400.0| 36 months|   15.96|      84.33|    C|       C5| 10+ years|          RENT|   12252.0|       Not Verified|         n|    small_business| 8.72|          0|             2|                  null|                  null|       2|      0|     2956|      98.5|       10|                  f|      0.0|          0.0|3003.653644|        3003.65|         2400.0|       603.65|               0.0|       0.0|                    0.0|         649.91|                         0|                       null|          1|      INDIVIDUAL|            null|     null|                     null|             0|        null|       null|       null|      null|       null|       null|              null|        null|   null|       null|       null|      null|    null|            null|  null|       null|        null|          0|\n",
      "|     5000|       5000|         5000.0| 36 months|     7.9|     156.46|    A|       A4|   3 years|          RENT|   36000.0|    Source Verified|         n|           wedding| 11.2|          0|             3|                  null|                  null|       9|      0|     7963|      28.3|       12|                  f|      0.0|          0.0|5631.377753|        5631.38|         5000.0|       631.38|               0.0|       0.0|                    0.0|         161.03|                         0|                       null|          1|      INDIVIDUAL|            null|     null|                     null|             0|        null|       null|       null|      null|       null|       null|              null|        null|   null|       null|       null|      null|    null|            null|  null|       null|        null|          0|\n",
      "|     3000|       3000|         3000.0| 36 months|   18.64|     109.43|    E|       E1|   9 years|          RENT|   48000.0|    Source Verified|         n|               car| 5.35|          0|             2|                  null|                  null|       4|      0|     8221|      87.5|        4|                  f|      0.0|          0.0|3938.144334|        3938.14|         3000.0|       938.14|               0.0|       0.0|                    0.0|         111.34|                         0|                       null|          1|      INDIVIDUAL|            null|     null|                     null|             0|        null|       null|       null|      null|       null|       null|              null|        null|   null|       null|       null|      null|    null|            null|  null|       null|        null|          0|\n",
      "|     5600|       5600|         5600.0| 60 months|   21.28|     152.39|    F|       F2|   4 years|           OWN|   40000.0|    Source Verified|         n|    small_business| 5.55|          0|             2|                  null|                  null|      11|      0|     5210|      32.6|       13|                  f|      0.0|          0.0|     646.02|         646.02|         162.02|       294.94|               0.0|    189.06|                   2.09|         152.39|                         0|                       null|          1|      INDIVIDUAL|            null|     null|                     null|             0|        null|       null|       null|      null|       null|       null|              null|        null|   null|       null|       null|      null|    null|            null|  null|       null|        null|          1|\n",
      "|    12000|      12000|        12000.0| 36 months|   12.69|     402.54|    B|       B5| 10+ years|           OWN|   75000.0|    Source Verified|         n|debt_consolidation|10.78|          0|             0|                  null|                  null|      12|      0|    23336|      67.1|       34|                  f|      0.0|          0.0|   13943.08|       13943.08|        12000.0|      1943.08|               0.0|       0.0|                    0.0|         6315.3|                         0|                       null|          1|      INDIVIDUAL|            null|     null|                     null|             0|        null|       null|       null|      null|       null|       null|              null|        null|   null|       null|       null|      null|    null|            null|  null|       null|        null|          0|\n",
      "|     9000|       9000|         9000.0| 36 months|   13.49|     305.38|    C|       C1|  < 1 year|          RENT|   30000.0|    Source Verified|         n|debt_consolidation|10.08|          0|             1|                  null|                  null|       4|      0|    10452|      91.7|        9|                  f|      0.0|          0.0|     2270.7|         2270.7|        1256.14|       570.26|               0.0|     444.3|                   4.16|         305.38|                         0|                       null|          1|      INDIVIDUAL|            null|     null|                     null|             0|        null|       null|       null|      null|       null|       null|              null|        null|   null|       null|       null|      null|    null|            null|  null|       null|        null|          1|\n",
      "|    10000|      10000|        10000.0| 36 months|   10.65|     325.74|    B|       B2|   3 years|          RENT|  100000.0|    Source Verified|         n|             other| 7.06|          0|             2|                  null|                  null|      14|      0|    11997|      55.5|       29|                  f|      0.0|          0.0|    7471.99|        7471.99|        5433.47|      1393.42|               0.0|     645.1|                 6.3145|         325.74|                         0|                       null|          1|      INDIVIDUAL|            null|     null|                     null|             0|        null|       null|       null|      null|       null|       null|              null|        null|   null|       null|       null|      null|    null|            null|  null|       null|        null|          1|\n",
      "|     1000|       1000|         1000.0| 36 months|   16.29|      35.31|    D|       D1|  < 1 year|          RENT|   28000.0|       Not Verified|         n|debt_consolidation|20.31|          0|             1|                  null|                  null|      11|      0|     6524|      81.5|       23|                  f|      0.0|          0.0|1270.171106|        1270.17|         1000.0|       270.17|               0.0|       0.0|                    0.0|          36.32|                         0|                       null|          1|      INDIVIDUAL|            null|     null|                     null|             0|        null|       null|       null|      null|       null|       null|              null|        null|   null|       null|       null|      null|    null|            null|  null|       null|        null|          0|\n",
      "|    10000|      10000|        10000.0| 36 months|   15.27|     347.98|    C|       C4|   4 years|          RENT|   42000.0|       Not Verified|         n|  home_improvement| 18.6|          0|             2|                    61|                  null|      14|      0|    24043|      70.2|       28|                  f|      0.0|          0.0|12519.26045|       12519.26|        10000.0|      2519.26|               0.0|       0.0|                    0.0|         370.46|                         0|                       null|          1|      INDIVIDUAL|            null|     null|                     null|             0|        null|       null|       null|      null|       null|       null|              null|        null|   null|       null|       null|      null|    null|            null|  null|       null|        null|          0|\n",
      "|     3600|       3600|         3600.0| 36 months|    6.03|     109.57|    A|       A1| 10+ years|      MORTGAGE|  110000.0|       Not Verified|         n|    major_purchase|10.52|          0|             0|                  null|                  null|      20|      0|    22836|      16.0|       42|                  f|      0.0|          0.0|    3785.02|        3785.02|         3600.0|       185.02|               0.0|       0.0|                    0.0|         583.45|                         0|                       null|          1|      INDIVIDUAL|            null|     null|                     null|             0|        null|       null|       null|      null|       null|       null|              null|        null|   null|       null|       null|      null|    null|            null|  null|       null|        null|          0|\n",
      "|     6000|       6000|         6000.0| 36 months|   11.71|     198.46|    B|       B3|    1 year|      MORTGAGE|   84000.0|           Verified|         n|           medical|18.44|          2|             0|                     8|                  null|       4|      0|        0|     37.73|       14|                  f|      0.0|          0.0|7164.499852|         7164.5|         6000.0|       1149.5|              15.0|       0.0|                    0.0|          16.98|                         0|                       null|          1|      INDIVIDUAL|            null|     null|                     null|             0|        null|       null|       null|      null|       null|       null|              null|        null|   null|       null|       null|      null|    null|            null|  null|       null|        null|          0|\n",
      "|     9200|       9200|         9200.0| 36 months|    6.03|     280.01|    A|       A1|   6 years|          RENT|  77385.19|       Not Verified|         n|debt_consolidation| 9.86|          0|             0|                  null|                  null|       8|      0|     7314|      23.1|       28|                  f|      0.0|          0.0|    9459.96|        9459.96|         9200.0|       259.96|               0.0|       0.0|                    0.0|         8061.1|                         0|                       null|          1|      INDIVIDUAL|            null|     null|                     null|             0|        null|       null|       null|      null|       null|       null|              null|        null|   null|       null|       null|      null|    null|            null|  null|       null|        null|          0|\n",
      "|    21000|      21000|        21000.0| 36 months|   12.42|     701.73|    B|       B4| 10+ years|          RENT|  105000.0|           Verified|         n|debt_consolidation|13.22|          0|             0|                  null|                  null|       7|      0|    32135|      90.3|       38|                  f|      0.0|          0.0|    14025.4|        14025.4|       10694.96|      3330.44|               0.0|       0.0|                    0.0|         701.73|                         0|                       null|          1|      INDIVIDUAL|            null|     null|                     null|             0|        null|       null|       null|      null|       null|       null|              null|        null|   null|       null|       null|      null|    null|            null|  null|       null|        null|          1|\n",
      "|    10000|      10000|        10000.0| 36 months|   11.71|     330.76|    B|       B3|   5 years|          RENT|   50000.0|       Not Verified|         n|debt_consolidation|16.01|          0|             0|                  null|                  null|       6|      0|    17800|      91.8|       17|                  f|      0.0|          0.0|   11536.31|       11536.31|        10000.0|      1536.31|               0.0|       0.0|                    0.0|        4942.63|                         0|                       null|          1|      INDIVIDUAL|            null|     null|                     null|             0|        null|       null|       null|      null|       null|       null|              null|        null|   null|       null|       null|      null|    null|            null|  null|       null|        null|          0|\n",
      "|     6000|       6000|         6000.0| 36 months|   11.71|     198.46|    B|       B3|    1 year|          RENT|   76000.0|       Not Verified|         n|    major_purchase|  2.4|          0|             1|                  null|                  null|       7|      0|     5963|      29.7|        7|                  f|      0.0|          0.0|    2050.14|        2050.14|        1305.58|       475.25|               0.0|    269.31|                   2.57|         198.46|                         0|                       null|          1|      INDIVIDUAL|            null|     null|                     null|             0|        null|       null|       null|      null|       null|       null|              null|        null|   null|       null|       null|      null|    null|            null|  null|       null|        null|          1|\n",
      "|    15000|      15000|        15000.0| 36 months|    9.91|     483.38|    B|       B1|   2 years|      MORTGAGE|   92000.0|           Verified|         n|       credit_card|29.44|          0|             0|                  null|                  null|       8|      0|    13707|      93.9|       31|                  f|      0.0|          0.0|   15823.48|       15823.48|        15000.0|       823.48|               0.0|       0.0|                    0.0|        2447.05|                         0|                       null|          1|      INDIVIDUAL|            null|     null|                     null|             0|        null|       null|       null|      null|       null|       null|              null|        null|   null|       null|       null|      null|    null|            null|  null|       null|        null|          0|\n",
      "|    15000|      15000|         8725.0| 36 months|   14.27|     514.64|    C|       C2|   9 years|          RENT|   60000.0|       Not Verified|         n|debt_consolidation|15.22|          0|             1|                  null|                  null|       7|      0|     5872|      57.6|       11|                  f|      0.0|          0.0|        0.0|            0.0|            0.0|          0.0|               0.0|       0.0|                    0.0|            0.0|                         0|                       null|          1|      INDIVIDUAL|            null|     null|                     null|             0|        null|       null|       null|      null|       null|       null|              null|        null|   null|       null|       null|      null|    null|            null|  null|       null|        null|          1|\n",
      "|     5000|       5000|         5000.0| 60 months|   16.77|     123.65|    D|       D2|   2 years|          RENT|   50004.0|       Not Verified|         n|             other|13.97|          3|             0|                    20|                  null|      14|      0|     4345|      59.5|       22|                  f|      0.0|          0.0|    1609.12|        1609.12|         629.05|       719.11|               0.0|    260.96|                    2.3|         123.65|                         0|                       null|          1|      INDIVIDUAL|            null|     null|                     null|             0|        null|       null|       null|      null|       null|       null|              null|        null|   null|       null|       null|      null|    null|            null|  null|       null|        null|          1|\n",
      "+---------+-----------+---------------+----------+--------+-----------+-----+---------+----------+--------------+----------+-------------------+----------+------------------+-----+-----------+--------------+----------------------+----------------------+--------+-------+---------+----------+---------+-------------------+---------+-------------+-----------+---------------+---------------+-------------+------------------+----------+-----------------------+---------------+--------------------------+---------------------------+-----------+----------------+----------------+---------+-------------------------+--------------+------------+-----------+-----------+----------+-----------+-----------+------------------+------------+-------+-----------+-----------+----------+--------+----------------+------+-----------+------------+-----------+\n",
      "only showing top 20 rows\n",
      "\n"
     ]
    }
   ],
   "source": [
    "df.show()"
   ]
  },
  {
   "cell_type": "code",
   "execution_count": 15,
   "metadata": {},
   "outputs": [
    {
     "data": {
      "text/plain": [
       "61"
      ]
     },
     "execution_count": 15,
     "metadata": {},
     "output_type": "execute_result"
    }
   ],
   "source": [
    "len(df.columns)"
   ]
  },
  {
   "cell_type": "code",
   "execution_count": 16,
   "metadata": {},
   "outputs": [
    {
     "name": "stdout",
     "output_type": "stream",
     "text": [
      "+-----------+------+\n",
      "|policy_code| count|\n",
      "+-----------+------+\n",
      "|          1|804074|\n",
      "+-----------+------+\n",
      "\n"
     ]
    }
   ],
   "source": [
    "df.groupBy(df[\"policy_code\"]).count().sort(\"count\", ascending=False).show()"
   ]
  },
  {
   "attachments": {},
   "cell_type": "markdown",
   "metadata": {},
   "source": [
    "All the policy has the same policy_code. Therefore this column will be dropped"
   ]
  },
  {
   "cell_type": "code",
   "execution_count": 17,
   "metadata": {},
   "outputs": [],
   "source": [
    "df = df.drop('policy_code')"
   ]
  },
  {
   "cell_type": "code",
   "execution_count": 18,
   "metadata": {},
   "outputs": [
    {
     "name": "stdout",
     "output_type": "stream",
     "text": [
      "+-----------+------+\n",
      "|default_ind| count|\n",
      "+-----------+------+\n",
      "|          1| 40660|\n",
      "|          0|763414|\n",
      "+-----------+------+\n",
      "\n"
     ]
    }
   ],
   "source": [
    "df.groupBy(df[\"default_ind\"]).count().show()"
   ]
  },
  {
   "attachments": {},
   "cell_type": "markdown",
   "metadata": {},
   "source": [
    "5% of the data are `default`"
   ]
  },
  {
   "attachments": {},
   "cell_type": "markdown",
   "metadata": {},
   "source": [
    "Visualisation of default diagram"
   ]
  },
  {
   "cell_type": "code",
   "execution_count": 19,
   "metadata": {},
   "outputs": [
    {
     "name": "stderr",
     "output_type": "stream",
     "text": [
      "WARNING:root:'PYARROW_IGNORE_TIMEZONE' environment variable was not set. It is required to set this environment variable to '1' in both driver and executor sides if you use pyarrow>=2.0.0. pandas-on-Spark will set it for you but it does not work if there is a Spark context already launched.\n",
      "/home/huukhang1512/.local/lib/python3.9/site-packages/scipy/__init__.py:146: UserWarning: A NumPy version >=1.16.5 and <1.23.0 is required for this version of SciPy (detected version 1.24.3\n",
      "  warnings.warn(f\"A NumPy version >={np_minversion} and <{np_maxversion}\"\n"
     ]
    },
    {
     "data": {
      "application/vnd.plotly.v1+json": {
       "config": {
        "plotlyServerURL": "https://plot.ly"
       },
       "data": [
        {
         "domain": {
          "x": [
           0,
           1
          ],
          "y": [
           0,
           1
          ]
         },
         "hovertemplate": "default_ind=%{label}<br>count=%{value}<extra></extra>",
         "labels": [
          1,
          0
         ],
         "legendgroup": "",
         "name": "",
         "showlegend": true,
         "type": "pie",
         "values": [
          40660,
          763414
         ]
        }
       ],
       "layout": {
        "legend": {
         "tracegroupgap": 0
        },
        "margin": {
         "t": 60
        },
        "template": {
         "data": {
          "bar": [
           {
            "error_x": {
             "color": "#2a3f5f"
            },
            "error_y": {
             "color": "#2a3f5f"
            },
            "marker": {
             "line": {
              "color": "#E5ECF6",
              "width": 0.5
             },
             "pattern": {
              "fillmode": "overlay",
              "size": 10,
              "solidity": 0.2
             }
            },
            "type": "bar"
           }
          ],
          "barpolar": [
           {
            "marker": {
             "line": {
              "color": "#E5ECF6",
              "width": 0.5
             },
             "pattern": {
              "fillmode": "overlay",
              "size": 10,
              "solidity": 0.2
             }
            },
            "type": "barpolar"
           }
          ],
          "carpet": [
           {
            "aaxis": {
             "endlinecolor": "#2a3f5f",
             "gridcolor": "white",
             "linecolor": "white",
             "minorgridcolor": "white",
             "startlinecolor": "#2a3f5f"
            },
            "baxis": {
             "endlinecolor": "#2a3f5f",
             "gridcolor": "white",
             "linecolor": "white",
             "minorgridcolor": "white",
             "startlinecolor": "#2a3f5f"
            },
            "type": "carpet"
           }
          ],
          "choropleth": [
           {
            "colorbar": {
             "outlinewidth": 0,
             "ticks": ""
            },
            "type": "choropleth"
           }
          ],
          "contour": [
           {
            "colorbar": {
             "outlinewidth": 0,
             "ticks": ""
            },
            "colorscale": [
             [
              0,
              "#0d0887"
             ],
             [
              0.1111111111111111,
              "#46039f"
             ],
             [
              0.2222222222222222,
              "#7201a8"
             ],
             [
              0.3333333333333333,
              "#9c179e"
             ],
             [
              0.4444444444444444,
              "#bd3786"
             ],
             [
              0.5555555555555556,
              "#d8576b"
             ],
             [
              0.6666666666666666,
              "#ed7953"
             ],
             [
              0.7777777777777778,
              "#fb9f3a"
             ],
             [
              0.8888888888888888,
              "#fdca26"
             ],
             [
              1,
              "#f0f921"
             ]
            ],
            "type": "contour"
           }
          ],
          "contourcarpet": [
           {
            "colorbar": {
             "outlinewidth": 0,
             "ticks": ""
            },
            "type": "contourcarpet"
           }
          ],
          "heatmap": [
           {
            "colorbar": {
             "outlinewidth": 0,
             "ticks": ""
            },
            "colorscale": [
             [
              0,
              "#0d0887"
             ],
             [
              0.1111111111111111,
              "#46039f"
             ],
             [
              0.2222222222222222,
              "#7201a8"
             ],
             [
              0.3333333333333333,
              "#9c179e"
             ],
             [
              0.4444444444444444,
              "#bd3786"
             ],
             [
              0.5555555555555556,
              "#d8576b"
             ],
             [
              0.6666666666666666,
              "#ed7953"
             ],
             [
              0.7777777777777778,
              "#fb9f3a"
             ],
             [
              0.8888888888888888,
              "#fdca26"
             ],
             [
              1,
              "#f0f921"
             ]
            ],
            "type": "heatmap"
           }
          ],
          "heatmapgl": [
           {
            "colorbar": {
             "outlinewidth": 0,
             "ticks": ""
            },
            "colorscale": [
             [
              0,
              "#0d0887"
             ],
             [
              0.1111111111111111,
              "#46039f"
             ],
             [
              0.2222222222222222,
              "#7201a8"
             ],
             [
              0.3333333333333333,
              "#9c179e"
             ],
             [
              0.4444444444444444,
              "#bd3786"
             ],
             [
              0.5555555555555556,
              "#d8576b"
             ],
             [
              0.6666666666666666,
              "#ed7953"
             ],
             [
              0.7777777777777778,
              "#fb9f3a"
             ],
             [
              0.8888888888888888,
              "#fdca26"
             ],
             [
              1,
              "#f0f921"
             ]
            ],
            "type": "heatmapgl"
           }
          ],
          "histogram": [
           {
            "marker": {
             "pattern": {
              "fillmode": "overlay",
              "size": 10,
              "solidity": 0.2
             }
            },
            "type": "histogram"
           }
          ],
          "histogram2d": [
           {
            "colorbar": {
             "outlinewidth": 0,
             "ticks": ""
            },
            "colorscale": [
             [
              0,
              "#0d0887"
             ],
             [
              0.1111111111111111,
              "#46039f"
             ],
             [
              0.2222222222222222,
              "#7201a8"
             ],
             [
              0.3333333333333333,
              "#9c179e"
             ],
             [
              0.4444444444444444,
              "#bd3786"
             ],
             [
              0.5555555555555556,
              "#d8576b"
             ],
             [
              0.6666666666666666,
              "#ed7953"
             ],
             [
              0.7777777777777778,
              "#fb9f3a"
             ],
             [
              0.8888888888888888,
              "#fdca26"
             ],
             [
              1,
              "#f0f921"
             ]
            ],
            "type": "histogram2d"
           }
          ],
          "histogram2dcontour": [
           {
            "colorbar": {
             "outlinewidth": 0,
             "ticks": ""
            },
            "colorscale": [
             [
              0,
              "#0d0887"
             ],
             [
              0.1111111111111111,
              "#46039f"
             ],
             [
              0.2222222222222222,
              "#7201a8"
             ],
             [
              0.3333333333333333,
              "#9c179e"
             ],
             [
              0.4444444444444444,
              "#bd3786"
             ],
             [
              0.5555555555555556,
              "#d8576b"
             ],
             [
              0.6666666666666666,
              "#ed7953"
             ],
             [
              0.7777777777777778,
              "#fb9f3a"
             ],
             [
              0.8888888888888888,
              "#fdca26"
             ],
             [
              1,
              "#f0f921"
             ]
            ],
            "type": "histogram2dcontour"
           }
          ],
          "mesh3d": [
           {
            "colorbar": {
             "outlinewidth": 0,
             "ticks": ""
            },
            "type": "mesh3d"
           }
          ],
          "parcoords": [
           {
            "line": {
             "colorbar": {
              "outlinewidth": 0,
              "ticks": ""
             }
            },
            "type": "parcoords"
           }
          ],
          "pie": [
           {
            "automargin": true,
            "type": "pie"
           }
          ],
          "scatter": [
           {
            "fillpattern": {
             "fillmode": "overlay",
             "size": 10,
             "solidity": 0.2
            },
            "type": "scatter"
           }
          ],
          "scatter3d": [
           {
            "line": {
             "colorbar": {
              "outlinewidth": 0,
              "ticks": ""
             }
            },
            "marker": {
             "colorbar": {
              "outlinewidth": 0,
              "ticks": ""
             }
            },
            "type": "scatter3d"
           }
          ],
          "scattercarpet": [
           {
            "marker": {
             "colorbar": {
              "outlinewidth": 0,
              "ticks": ""
             }
            },
            "type": "scattercarpet"
           }
          ],
          "scattergeo": [
           {
            "marker": {
             "colorbar": {
              "outlinewidth": 0,
              "ticks": ""
             }
            },
            "type": "scattergeo"
           }
          ],
          "scattergl": [
           {
            "marker": {
             "colorbar": {
              "outlinewidth": 0,
              "ticks": ""
             }
            },
            "type": "scattergl"
           }
          ],
          "scattermapbox": [
           {
            "marker": {
             "colorbar": {
              "outlinewidth": 0,
              "ticks": ""
             }
            },
            "type": "scattermapbox"
           }
          ],
          "scatterpolar": [
           {
            "marker": {
             "colorbar": {
              "outlinewidth": 0,
              "ticks": ""
             }
            },
            "type": "scatterpolar"
           }
          ],
          "scatterpolargl": [
           {
            "marker": {
             "colorbar": {
              "outlinewidth": 0,
              "ticks": ""
             }
            },
            "type": "scatterpolargl"
           }
          ],
          "scatterternary": [
           {
            "marker": {
             "colorbar": {
              "outlinewidth": 0,
              "ticks": ""
             }
            },
            "type": "scatterternary"
           }
          ],
          "surface": [
           {
            "colorbar": {
             "outlinewidth": 0,
             "ticks": ""
            },
            "colorscale": [
             [
              0,
              "#0d0887"
             ],
             [
              0.1111111111111111,
              "#46039f"
             ],
             [
              0.2222222222222222,
              "#7201a8"
             ],
             [
              0.3333333333333333,
              "#9c179e"
             ],
             [
              0.4444444444444444,
              "#bd3786"
             ],
             [
              0.5555555555555556,
              "#d8576b"
             ],
             [
              0.6666666666666666,
              "#ed7953"
             ],
             [
              0.7777777777777778,
              "#fb9f3a"
             ],
             [
              0.8888888888888888,
              "#fdca26"
             ],
             [
              1,
              "#f0f921"
             ]
            ],
            "type": "surface"
           }
          ],
          "table": [
           {
            "cells": {
             "fill": {
              "color": "#EBF0F8"
             },
             "line": {
              "color": "white"
             }
            },
            "header": {
             "fill": {
              "color": "#C8D4E3"
             },
             "line": {
              "color": "white"
             }
            },
            "type": "table"
           }
          ]
         },
         "layout": {
          "annotationdefaults": {
           "arrowcolor": "#2a3f5f",
           "arrowhead": 0,
           "arrowwidth": 1
          },
          "autotypenumbers": "strict",
          "coloraxis": {
           "colorbar": {
            "outlinewidth": 0,
            "ticks": ""
           }
          },
          "colorscale": {
           "diverging": [
            [
             0,
             "#8e0152"
            ],
            [
             0.1,
             "#c51b7d"
            ],
            [
             0.2,
             "#de77ae"
            ],
            [
             0.3,
             "#f1b6da"
            ],
            [
             0.4,
             "#fde0ef"
            ],
            [
             0.5,
             "#f7f7f7"
            ],
            [
             0.6,
             "#e6f5d0"
            ],
            [
             0.7,
             "#b8e186"
            ],
            [
             0.8,
             "#7fbc41"
            ],
            [
             0.9,
             "#4d9221"
            ],
            [
             1,
             "#276419"
            ]
           ],
           "sequential": [
            [
             0,
             "#0d0887"
            ],
            [
             0.1111111111111111,
             "#46039f"
            ],
            [
             0.2222222222222222,
             "#7201a8"
            ],
            [
             0.3333333333333333,
             "#9c179e"
            ],
            [
             0.4444444444444444,
             "#bd3786"
            ],
            [
             0.5555555555555556,
             "#d8576b"
            ],
            [
             0.6666666666666666,
             "#ed7953"
            ],
            [
             0.7777777777777778,
             "#fb9f3a"
            ],
            [
             0.8888888888888888,
             "#fdca26"
            ],
            [
             1,
             "#f0f921"
            ]
           ],
           "sequentialminus": [
            [
             0,
             "#0d0887"
            ],
            [
             0.1111111111111111,
             "#46039f"
            ],
            [
             0.2222222222222222,
             "#7201a8"
            ],
            [
             0.3333333333333333,
             "#9c179e"
            ],
            [
             0.4444444444444444,
             "#bd3786"
            ],
            [
             0.5555555555555556,
             "#d8576b"
            ],
            [
             0.6666666666666666,
             "#ed7953"
            ],
            [
             0.7777777777777778,
             "#fb9f3a"
            ],
            [
             0.8888888888888888,
             "#fdca26"
            ],
            [
             1,
             "#f0f921"
            ]
           ]
          },
          "colorway": [
           "#636efa",
           "#EF553B",
           "#00cc96",
           "#ab63fa",
           "#FFA15A",
           "#19d3f3",
           "#FF6692",
           "#B6E880",
           "#FF97FF",
           "#FECB52"
          ],
          "font": {
           "color": "#2a3f5f"
          },
          "geo": {
           "bgcolor": "white",
           "lakecolor": "white",
           "landcolor": "#E5ECF6",
           "showlakes": true,
           "showland": true,
           "subunitcolor": "white"
          },
          "hoverlabel": {
           "align": "left"
          },
          "hovermode": "closest",
          "mapbox": {
           "style": "light"
          },
          "paper_bgcolor": "white",
          "plot_bgcolor": "#E5ECF6",
          "polar": {
           "angularaxis": {
            "gridcolor": "white",
            "linecolor": "white",
            "ticks": ""
           },
           "bgcolor": "#E5ECF6",
           "radialaxis": {
            "gridcolor": "white",
            "linecolor": "white",
            "ticks": ""
           }
          },
          "scene": {
           "xaxis": {
            "backgroundcolor": "#E5ECF6",
            "gridcolor": "white",
            "gridwidth": 2,
            "linecolor": "white",
            "showbackground": true,
            "ticks": "",
            "zerolinecolor": "white"
           },
           "yaxis": {
            "backgroundcolor": "#E5ECF6",
            "gridcolor": "white",
            "gridwidth": 2,
            "linecolor": "white",
            "showbackground": true,
            "ticks": "",
            "zerolinecolor": "white"
           },
           "zaxis": {
            "backgroundcolor": "#E5ECF6",
            "gridcolor": "white",
            "gridwidth": 2,
            "linecolor": "white",
            "showbackground": true,
            "ticks": "",
            "zerolinecolor": "white"
           }
          },
          "shapedefaults": {
           "line": {
            "color": "#2a3f5f"
           }
          },
          "ternary": {
           "aaxis": {
            "gridcolor": "white",
            "linecolor": "white",
            "ticks": ""
           },
           "baxis": {
            "gridcolor": "white",
            "linecolor": "white",
            "ticks": ""
           },
           "bgcolor": "#E5ECF6",
           "caxis": {
            "gridcolor": "white",
            "linecolor": "white",
            "ticks": ""
           }
          },
          "title": {
           "x": 0.05
          },
          "xaxis": {
           "automargin": true,
           "gridcolor": "white",
           "linecolor": "white",
           "ticks": "",
           "title": {
            "standoff": 15
           },
           "zerolinecolor": "white",
           "zerolinewidth": 2
          },
          "yaxis": {
           "automargin": true,
           "gridcolor": "white",
           "linecolor": "white",
           "ticks": "",
           "title": {
            "standoff": 15
           },
           "zerolinecolor": "white",
           "zerolinewidth": 2
          }
         }
        }
       }
      }
     },
     "metadata": {},
     "output_type": "display_data"
    }
   ],
   "source": [
    "df.groupby(['default_ind']).count().to_pandas_on_spark(index_col='default_ind').plot.pie(y='count')"
   ]
  },
  {
   "attachments": {},
   "cell_type": "markdown",
   "metadata": {},
   "source": [
    "We will need to resample a training data that will have equal distribution (50/50) of default and non-default rows"
   ]
  },
  {
   "cell_type": "code",
   "execution_count": 20,
   "metadata": {},
   "outputs": [
    {
     "name": "stdout",
     "output_type": "stream",
     "text": [
      "+--------------+------+\n",
      "|home_ownership| count|\n",
      "+--------------+------+\n",
      "|           OWN| 80448|\n",
      "|          RENT|320233|\n",
      "|      MORTGAGE|403274|\n",
      "|         OTHER|    81|\n",
      "|          NONE|    35|\n",
      "|           ANY|     3|\n",
      "+--------------+------+\n",
      "\n"
     ]
    }
   ],
   "source": [
    "df.groupby(['home_ownership']).count().show()\n"
   ]
  },
  {
   "attachments": {},
   "cell_type": "markdown",
   "metadata": {},
   "source": [
    "The majority of borrowers are either paying mortgage or renting a home. Around 10% of borrower actually own the house. Lastly, around 0.0148% of borrowers are in the OTHER, NONE, and ANY category. These remaining fields should be consolidate into one as 'OTHER' field."
   ]
  },
  {
   "cell_type": "code",
   "execution_count": 21,
   "metadata": {},
   "outputs": [],
   "source": [
    "df = df.replace(['NONE', 'ANY', '2 years'], 'OTHER', 'home_ownership')"
   ]
  },
  {
   "cell_type": "code",
   "execution_count": 22,
   "metadata": {},
   "outputs": [
    {
     "name": "stdout",
     "output_type": "stream",
     "text": [
      "+--------------+\n",
      "|home_ownership|\n",
      "+--------------+\n",
      "|           OWN|\n",
      "|          RENT|\n",
      "|      MORTGAGE|\n",
      "|         OTHER|\n",
      "+--------------+\n",
      "\n"
     ]
    }
   ],
   "source": [
    "df.select(['home_ownership']).distinct().show()"
   ]
  },
  {
   "cell_type": "code",
   "execution_count": 23,
   "metadata": {},
   "outputs": [
    {
     "data": {
      "application/vnd.plotly.v1+json": {
       "config": {
        "plotlyServerURL": "https://plot.ly"
       },
       "data": [
        {
         "domain": {
          "x": [
           0,
           1
          ],
          "y": [
           0,
           1
          ]
         },
         "hovertemplate": "home_ownership=%{label}<br>count=%{value}<extra></extra>",
         "labels": [
          "OWN",
          "RENT",
          "MORTGAGE",
          "OTHER"
         ],
         "legendgroup": "",
         "name": "",
         "showlegend": true,
         "type": "pie",
         "values": [
          80448,
          320233,
          403274,
          119
         ]
        }
       ],
       "layout": {
        "legend": {
         "tracegroupgap": 0
        },
        "margin": {
         "t": 60
        },
        "template": {
         "data": {
          "bar": [
           {
            "error_x": {
             "color": "#2a3f5f"
            },
            "error_y": {
             "color": "#2a3f5f"
            },
            "marker": {
             "line": {
              "color": "#E5ECF6",
              "width": 0.5
             },
             "pattern": {
              "fillmode": "overlay",
              "size": 10,
              "solidity": 0.2
             }
            },
            "type": "bar"
           }
          ],
          "barpolar": [
           {
            "marker": {
             "line": {
              "color": "#E5ECF6",
              "width": 0.5
             },
             "pattern": {
              "fillmode": "overlay",
              "size": 10,
              "solidity": 0.2
             }
            },
            "type": "barpolar"
           }
          ],
          "carpet": [
           {
            "aaxis": {
             "endlinecolor": "#2a3f5f",
             "gridcolor": "white",
             "linecolor": "white",
             "minorgridcolor": "white",
             "startlinecolor": "#2a3f5f"
            },
            "baxis": {
             "endlinecolor": "#2a3f5f",
             "gridcolor": "white",
             "linecolor": "white",
             "minorgridcolor": "white",
             "startlinecolor": "#2a3f5f"
            },
            "type": "carpet"
           }
          ],
          "choropleth": [
           {
            "colorbar": {
             "outlinewidth": 0,
             "ticks": ""
            },
            "type": "choropleth"
           }
          ],
          "contour": [
           {
            "colorbar": {
             "outlinewidth": 0,
             "ticks": ""
            },
            "colorscale": [
             [
              0,
              "#0d0887"
             ],
             [
              0.1111111111111111,
              "#46039f"
             ],
             [
              0.2222222222222222,
              "#7201a8"
             ],
             [
              0.3333333333333333,
              "#9c179e"
             ],
             [
              0.4444444444444444,
              "#bd3786"
             ],
             [
              0.5555555555555556,
              "#d8576b"
             ],
             [
              0.6666666666666666,
              "#ed7953"
             ],
             [
              0.7777777777777778,
              "#fb9f3a"
             ],
             [
              0.8888888888888888,
              "#fdca26"
             ],
             [
              1,
              "#f0f921"
             ]
            ],
            "type": "contour"
           }
          ],
          "contourcarpet": [
           {
            "colorbar": {
             "outlinewidth": 0,
             "ticks": ""
            },
            "type": "contourcarpet"
           }
          ],
          "heatmap": [
           {
            "colorbar": {
             "outlinewidth": 0,
             "ticks": ""
            },
            "colorscale": [
             [
              0,
              "#0d0887"
             ],
             [
              0.1111111111111111,
              "#46039f"
             ],
             [
              0.2222222222222222,
              "#7201a8"
             ],
             [
              0.3333333333333333,
              "#9c179e"
             ],
             [
              0.4444444444444444,
              "#bd3786"
             ],
             [
              0.5555555555555556,
              "#d8576b"
             ],
             [
              0.6666666666666666,
              "#ed7953"
             ],
             [
              0.7777777777777778,
              "#fb9f3a"
             ],
             [
              0.8888888888888888,
              "#fdca26"
             ],
             [
              1,
              "#f0f921"
             ]
            ],
            "type": "heatmap"
           }
          ],
          "heatmapgl": [
           {
            "colorbar": {
             "outlinewidth": 0,
             "ticks": ""
            },
            "colorscale": [
             [
              0,
              "#0d0887"
             ],
             [
              0.1111111111111111,
              "#46039f"
             ],
             [
              0.2222222222222222,
              "#7201a8"
             ],
             [
              0.3333333333333333,
              "#9c179e"
             ],
             [
              0.4444444444444444,
              "#bd3786"
             ],
             [
              0.5555555555555556,
              "#d8576b"
             ],
             [
              0.6666666666666666,
              "#ed7953"
             ],
             [
              0.7777777777777778,
              "#fb9f3a"
             ],
             [
              0.8888888888888888,
              "#fdca26"
             ],
             [
              1,
              "#f0f921"
             ]
            ],
            "type": "heatmapgl"
           }
          ],
          "histogram": [
           {
            "marker": {
             "pattern": {
              "fillmode": "overlay",
              "size": 10,
              "solidity": 0.2
             }
            },
            "type": "histogram"
           }
          ],
          "histogram2d": [
           {
            "colorbar": {
             "outlinewidth": 0,
             "ticks": ""
            },
            "colorscale": [
             [
              0,
              "#0d0887"
             ],
             [
              0.1111111111111111,
              "#46039f"
             ],
             [
              0.2222222222222222,
              "#7201a8"
             ],
             [
              0.3333333333333333,
              "#9c179e"
             ],
             [
              0.4444444444444444,
              "#bd3786"
             ],
             [
              0.5555555555555556,
              "#d8576b"
             ],
             [
              0.6666666666666666,
              "#ed7953"
             ],
             [
              0.7777777777777778,
              "#fb9f3a"
             ],
             [
              0.8888888888888888,
              "#fdca26"
             ],
             [
              1,
              "#f0f921"
             ]
            ],
            "type": "histogram2d"
           }
          ],
          "histogram2dcontour": [
           {
            "colorbar": {
             "outlinewidth": 0,
             "ticks": ""
            },
            "colorscale": [
             [
              0,
              "#0d0887"
             ],
             [
              0.1111111111111111,
              "#46039f"
             ],
             [
              0.2222222222222222,
              "#7201a8"
             ],
             [
              0.3333333333333333,
              "#9c179e"
             ],
             [
              0.4444444444444444,
              "#bd3786"
             ],
             [
              0.5555555555555556,
              "#d8576b"
             ],
             [
              0.6666666666666666,
              "#ed7953"
             ],
             [
              0.7777777777777778,
              "#fb9f3a"
             ],
             [
              0.8888888888888888,
              "#fdca26"
             ],
             [
              1,
              "#f0f921"
             ]
            ],
            "type": "histogram2dcontour"
           }
          ],
          "mesh3d": [
           {
            "colorbar": {
             "outlinewidth": 0,
             "ticks": ""
            },
            "type": "mesh3d"
           }
          ],
          "parcoords": [
           {
            "line": {
             "colorbar": {
              "outlinewidth": 0,
              "ticks": ""
             }
            },
            "type": "parcoords"
           }
          ],
          "pie": [
           {
            "automargin": true,
            "type": "pie"
           }
          ],
          "scatter": [
           {
            "fillpattern": {
             "fillmode": "overlay",
             "size": 10,
             "solidity": 0.2
            },
            "type": "scatter"
           }
          ],
          "scatter3d": [
           {
            "line": {
             "colorbar": {
              "outlinewidth": 0,
              "ticks": ""
             }
            },
            "marker": {
             "colorbar": {
              "outlinewidth": 0,
              "ticks": ""
             }
            },
            "type": "scatter3d"
           }
          ],
          "scattercarpet": [
           {
            "marker": {
             "colorbar": {
              "outlinewidth": 0,
              "ticks": ""
             }
            },
            "type": "scattercarpet"
           }
          ],
          "scattergeo": [
           {
            "marker": {
             "colorbar": {
              "outlinewidth": 0,
              "ticks": ""
             }
            },
            "type": "scattergeo"
           }
          ],
          "scattergl": [
           {
            "marker": {
             "colorbar": {
              "outlinewidth": 0,
              "ticks": ""
             }
            },
            "type": "scattergl"
           }
          ],
          "scattermapbox": [
           {
            "marker": {
             "colorbar": {
              "outlinewidth": 0,
              "ticks": ""
             }
            },
            "type": "scattermapbox"
           }
          ],
          "scatterpolar": [
           {
            "marker": {
             "colorbar": {
              "outlinewidth": 0,
              "ticks": ""
             }
            },
            "type": "scatterpolar"
           }
          ],
          "scatterpolargl": [
           {
            "marker": {
             "colorbar": {
              "outlinewidth": 0,
              "ticks": ""
             }
            },
            "type": "scatterpolargl"
           }
          ],
          "scatterternary": [
           {
            "marker": {
             "colorbar": {
              "outlinewidth": 0,
              "ticks": ""
             }
            },
            "type": "scatterternary"
           }
          ],
          "surface": [
           {
            "colorbar": {
             "outlinewidth": 0,
             "ticks": ""
            },
            "colorscale": [
             [
              0,
              "#0d0887"
             ],
             [
              0.1111111111111111,
              "#46039f"
             ],
             [
              0.2222222222222222,
              "#7201a8"
             ],
             [
              0.3333333333333333,
              "#9c179e"
             ],
             [
              0.4444444444444444,
              "#bd3786"
             ],
             [
              0.5555555555555556,
              "#d8576b"
             ],
             [
              0.6666666666666666,
              "#ed7953"
             ],
             [
              0.7777777777777778,
              "#fb9f3a"
             ],
             [
              0.8888888888888888,
              "#fdca26"
             ],
             [
              1,
              "#f0f921"
             ]
            ],
            "type": "surface"
           }
          ],
          "table": [
           {
            "cells": {
             "fill": {
              "color": "#EBF0F8"
             },
             "line": {
              "color": "white"
             }
            },
            "header": {
             "fill": {
              "color": "#C8D4E3"
             },
             "line": {
              "color": "white"
             }
            },
            "type": "table"
           }
          ]
         },
         "layout": {
          "annotationdefaults": {
           "arrowcolor": "#2a3f5f",
           "arrowhead": 0,
           "arrowwidth": 1
          },
          "autotypenumbers": "strict",
          "coloraxis": {
           "colorbar": {
            "outlinewidth": 0,
            "ticks": ""
           }
          },
          "colorscale": {
           "diverging": [
            [
             0,
             "#8e0152"
            ],
            [
             0.1,
             "#c51b7d"
            ],
            [
             0.2,
             "#de77ae"
            ],
            [
             0.3,
             "#f1b6da"
            ],
            [
             0.4,
             "#fde0ef"
            ],
            [
             0.5,
             "#f7f7f7"
            ],
            [
             0.6,
             "#e6f5d0"
            ],
            [
             0.7,
             "#b8e186"
            ],
            [
             0.8,
             "#7fbc41"
            ],
            [
             0.9,
             "#4d9221"
            ],
            [
             1,
             "#276419"
            ]
           ],
           "sequential": [
            [
             0,
             "#0d0887"
            ],
            [
             0.1111111111111111,
             "#46039f"
            ],
            [
             0.2222222222222222,
             "#7201a8"
            ],
            [
             0.3333333333333333,
             "#9c179e"
            ],
            [
             0.4444444444444444,
             "#bd3786"
            ],
            [
             0.5555555555555556,
             "#d8576b"
            ],
            [
             0.6666666666666666,
             "#ed7953"
            ],
            [
             0.7777777777777778,
             "#fb9f3a"
            ],
            [
             0.8888888888888888,
             "#fdca26"
            ],
            [
             1,
             "#f0f921"
            ]
           ],
           "sequentialminus": [
            [
             0,
             "#0d0887"
            ],
            [
             0.1111111111111111,
             "#46039f"
            ],
            [
             0.2222222222222222,
             "#7201a8"
            ],
            [
             0.3333333333333333,
             "#9c179e"
            ],
            [
             0.4444444444444444,
             "#bd3786"
            ],
            [
             0.5555555555555556,
             "#d8576b"
            ],
            [
             0.6666666666666666,
             "#ed7953"
            ],
            [
             0.7777777777777778,
             "#fb9f3a"
            ],
            [
             0.8888888888888888,
             "#fdca26"
            ],
            [
             1,
             "#f0f921"
            ]
           ]
          },
          "colorway": [
           "#636efa",
           "#EF553B",
           "#00cc96",
           "#ab63fa",
           "#FFA15A",
           "#19d3f3",
           "#FF6692",
           "#B6E880",
           "#FF97FF",
           "#FECB52"
          ],
          "font": {
           "color": "#2a3f5f"
          },
          "geo": {
           "bgcolor": "white",
           "lakecolor": "white",
           "landcolor": "#E5ECF6",
           "showlakes": true,
           "showland": true,
           "subunitcolor": "white"
          },
          "hoverlabel": {
           "align": "left"
          },
          "hovermode": "closest",
          "mapbox": {
           "style": "light"
          },
          "paper_bgcolor": "white",
          "plot_bgcolor": "#E5ECF6",
          "polar": {
           "angularaxis": {
            "gridcolor": "white",
            "linecolor": "white",
            "ticks": ""
           },
           "bgcolor": "#E5ECF6",
           "radialaxis": {
            "gridcolor": "white",
            "linecolor": "white",
            "ticks": ""
           }
          },
          "scene": {
           "xaxis": {
            "backgroundcolor": "#E5ECF6",
            "gridcolor": "white",
            "gridwidth": 2,
            "linecolor": "white",
            "showbackground": true,
            "ticks": "",
            "zerolinecolor": "white"
           },
           "yaxis": {
            "backgroundcolor": "#E5ECF6",
            "gridcolor": "white",
            "gridwidth": 2,
            "linecolor": "white",
            "showbackground": true,
            "ticks": "",
            "zerolinecolor": "white"
           },
           "zaxis": {
            "backgroundcolor": "#E5ECF6",
            "gridcolor": "white",
            "gridwidth": 2,
            "linecolor": "white",
            "showbackground": true,
            "ticks": "",
            "zerolinecolor": "white"
           }
          },
          "shapedefaults": {
           "line": {
            "color": "#2a3f5f"
           }
          },
          "ternary": {
           "aaxis": {
            "gridcolor": "white",
            "linecolor": "white",
            "ticks": ""
           },
           "baxis": {
            "gridcolor": "white",
            "linecolor": "white",
            "ticks": ""
           },
           "bgcolor": "#E5ECF6",
           "caxis": {
            "gridcolor": "white",
            "linecolor": "white",
            "ticks": ""
           }
          },
          "title": {
           "x": 0.05
          },
          "xaxis": {
           "automargin": true,
           "gridcolor": "white",
           "linecolor": "white",
           "ticks": "",
           "title": {
            "standoff": 15
           },
           "zerolinecolor": "white",
           "zerolinewidth": 2
          },
          "yaxis": {
           "automargin": true,
           "gridcolor": "white",
           "linecolor": "white",
           "ticks": "",
           "title": {
            "standoff": 15
           },
           "zerolinecolor": "white",
           "zerolinewidth": 2
          }
         }
        }
       }
      }
     },
     "metadata": {},
     "output_type": "display_data"
    }
   ],
   "source": [
    "df.groupby(['home_ownership']).count().to_pandas_on_spark(index_col='home_ownership').plot.pie(y='count')"
   ]
  },
  {
   "attachments": {},
   "cell_type": "markdown",
   "metadata": {},
   "source": [
    "Let's check for the default rate among all home ownership types"
   ]
  },
  {
   "cell_type": "code",
   "execution_count": 24,
   "metadata": {},
   "outputs": [
    {
     "name": "stdout",
     "output_type": "stream",
     "text": [
      "+--------------+-----+\n",
      "|home_ownership|count|\n",
      "+--------------+-----+\n",
      "|           OWN| 3699|\n",
      "|          RENT|19203|\n",
      "|      MORTGAGE|17743|\n",
      "|         OTHER|   15|\n",
      "+--------------+-----+\n",
      "\n"
     ]
    }
   ],
   "source": [
    "df.select(['default_ind','home_ownership']).filter(df['default_ind'] == 1).groupby(['home_ownership']).count().show()"
   ]
  },
  {
   "attachments": {},
   "cell_type": "markdown",
   "metadata": {},
   "source": [
    "Tenants/renter seems more likely to default a loan"
   ]
  },
  {
   "cell_type": "code",
   "execution_count": 25,
   "metadata": {},
   "outputs": [
    {
     "name": "stdout",
     "output_type": "stream",
     "text": [
      "+--------------+------+\n",
      "|home_ownership| count|\n",
      "+--------------+------+\n",
      "|           OWN| 76749|\n",
      "|          RENT|301030|\n",
      "|      MORTGAGE|385531|\n",
      "|         OTHER|   104|\n",
      "+--------------+------+\n",
      "\n"
     ]
    }
   ],
   "source": [
    "df.select(['default_ind','home_ownership']).filter(df['default_ind'] == 0).groupby(['home_ownership']).count().show()"
   ]
  },
  {
   "cell_type": "code",
   "execution_count": 26,
   "metadata": {},
   "outputs": [
    {
     "name": "stdout",
     "output_type": "stream",
     "text": [
      "+----------+------+\n",
      "|pymnt_plan| count|\n",
      "+----------+------+\n",
      "|         n|804071|\n",
      "|         y|     3|\n",
      "+----------+------+\n",
      "\n"
     ]
    }
   ],
   "source": [
    "df.select(['pymnt_plan']).groupby(['pymnt_plan']).count().show()"
   ]
  },
  {
   "attachments": {},
   "cell_type": "markdown",
   "metadata": {},
   "source": [
    "Everything in this column is no, except for 3 yes. Therefore this column will be dropped"
   ]
  },
  {
   "cell_type": "code",
   "execution_count": 27,
   "metadata": {},
   "outputs": [],
   "source": [
    "df = df.drop('pymnt_plan')"
   ]
  },
  {
   "cell_type": "code",
   "execution_count": 28,
   "metadata": {},
   "outputs": [
    {
     "name": "stdout",
     "output_type": "stream",
     "text": [
      "+---------+-----------+---------------+----------+--------+-----------+-----+---------+----------+--------------+----------+-------------------+------------------+-----+-----------+--------------+----------------------+----------------------+--------+-------+---------+----------+---------+-------------------+---------+-------------+-----------+---------------+---------------+-------------+------------------+----------+-----------------------+---------------+--------------------------+---------------------------+----------------+----------------+---------+-------------------------+--------------+------------+-----------+-----------+----------+-----------+-----------+------------------+------------+-------+-----------+-----------+----------+--------+----------------+------+-----------+------------+-----------+\n",
      "|loan_amnt|funded_amnt|funded_amnt_inv|      term|int_rate|installment|grade|sub_grade|emp_length|home_ownership|annual_inc|verification_status|           purpose|  dti|delinq_2yrs|inq_last_6mths|mths_since_last_delinq|mths_since_last_record|open_acc|pub_rec|revol_bal|revol_util|total_acc|initial_list_status|out_prncp|out_prncp_inv|total_pymnt|total_pymnt_inv|total_rec_prncp|total_rec_int|total_rec_late_fee|recoveries|collection_recovery_fee|last_pymnt_amnt|collections_12_mths_ex_med|mths_since_last_major_derog|application_type|annual_inc_joint|dti_joint|verification_status_joint|acc_now_delinq|tot_coll_amt|tot_cur_bal|open_acc_6m|open_il_6m|open_il_12m|open_il_24m|mths_since_rcnt_il|total_bal_il|il_util|open_rv_12m|open_rv_24m|max_bal_bc|all_util|total_rev_hi_lim|inq_fi|total_cu_tl|inq_last_12m|default_ind|\n",
      "+---------+-----------+---------------+----------+--------+-----------+-----+---------+----------+--------------+----------+-------------------+------------------+-----+-----------+--------------+----------------------+----------------------+--------+-------+---------+----------+---------+-------------------+---------+-------------+-----------+---------------+---------------+-------------+------------------+----------+-----------------------+---------------+--------------------------+---------------------------+----------------+----------------+---------+-------------------------+--------------+------------+-----------+-----------+----------+-----------+-----------+------------------+------------+-------+-----------+-----------+----------+--------+----------------+------+-----------+------------+-----------+\n",
      "|     5000|       5000|         4975.0| 36 months|   10.65|     162.87|    B|       B2| 10+ years|          RENT|   24000.0|           Verified|       credit_card|27.65|          0|             1|                  null|                  null|       3|      0|    13648|      83.7|        9|                  f|      0.0|          0.0|5861.071414|        5831.78|         5000.0|       861.07|               0.0|       0.0|                    0.0|         171.62|                         0|                       null|      INDIVIDUAL|            null|     null|                     null|             0|        null|       null|       null|      null|       null|       null|              null|        null|   null|       null|       null|      null|    null|            null|  null|       null|        null|          0|\n",
      "|     2500|       2500|         2500.0| 60 months|   15.27|      59.83|    C|       C4|  < 1 year|          RENT|   30000.0|    Source Verified|               car|  1.0|          0|             5|                  null|                  null|       3|      0|     1687|       9.4|        4|                  f|      0.0|          0.0|    1008.71|        1008.71|         456.46|       435.17|               0.0|    117.08|                   1.11|         119.66|                         0|                       null|      INDIVIDUAL|            null|     null|                     null|             0|        null|       null|       null|      null|       null|       null|              null|        null|   null|       null|       null|      null|    null|            null|  null|       null|        null|          1|\n",
      "|     2400|       2400|         2400.0| 36 months|   15.96|      84.33|    C|       C5| 10+ years|          RENT|   12252.0|       Not Verified|    small_business| 8.72|          0|             2|                  null|                  null|       2|      0|     2956|      98.5|       10|                  f|      0.0|          0.0|3003.653644|        3003.65|         2400.0|       603.65|               0.0|       0.0|                    0.0|         649.91|                         0|                       null|      INDIVIDUAL|            null|     null|                     null|             0|        null|       null|       null|      null|       null|       null|              null|        null|   null|       null|       null|      null|    null|            null|  null|       null|        null|          0|\n",
      "|     5000|       5000|         5000.0| 36 months|     7.9|     156.46|    A|       A4|   3 years|          RENT|   36000.0|    Source Verified|           wedding| 11.2|          0|             3|                  null|                  null|       9|      0|     7963|      28.3|       12|                  f|      0.0|          0.0|5631.377753|        5631.38|         5000.0|       631.38|               0.0|       0.0|                    0.0|         161.03|                         0|                       null|      INDIVIDUAL|            null|     null|                     null|             0|        null|       null|       null|      null|       null|       null|              null|        null|   null|       null|       null|      null|    null|            null|  null|       null|        null|          0|\n",
      "|     3000|       3000|         3000.0| 36 months|   18.64|     109.43|    E|       E1|   9 years|          RENT|   48000.0|    Source Verified|               car| 5.35|          0|             2|                  null|                  null|       4|      0|     8221|      87.5|        4|                  f|      0.0|          0.0|3938.144334|        3938.14|         3000.0|       938.14|               0.0|       0.0|                    0.0|         111.34|                         0|                       null|      INDIVIDUAL|            null|     null|                     null|             0|        null|       null|       null|      null|       null|       null|              null|        null|   null|       null|       null|      null|    null|            null|  null|       null|        null|          0|\n",
      "|     5600|       5600|         5600.0| 60 months|   21.28|     152.39|    F|       F2|   4 years|           OWN|   40000.0|    Source Verified|    small_business| 5.55|          0|             2|                  null|                  null|      11|      0|     5210|      32.6|       13|                  f|      0.0|          0.0|     646.02|         646.02|         162.02|       294.94|               0.0|    189.06|                   2.09|         152.39|                         0|                       null|      INDIVIDUAL|            null|     null|                     null|             0|        null|       null|       null|      null|       null|       null|              null|        null|   null|       null|       null|      null|    null|            null|  null|       null|        null|          1|\n",
      "|    12000|      12000|        12000.0| 36 months|   12.69|     402.54|    B|       B5| 10+ years|           OWN|   75000.0|    Source Verified|debt_consolidation|10.78|          0|             0|                  null|                  null|      12|      0|    23336|      67.1|       34|                  f|      0.0|          0.0|   13943.08|       13943.08|        12000.0|      1943.08|               0.0|       0.0|                    0.0|         6315.3|                         0|                       null|      INDIVIDUAL|            null|     null|                     null|             0|        null|       null|       null|      null|       null|       null|              null|        null|   null|       null|       null|      null|    null|            null|  null|       null|        null|          0|\n",
      "|     9000|       9000|         9000.0| 36 months|   13.49|     305.38|    C|       C1|  < 1 year|          RENT|   30000.0|    Source Verified|debt_consolidation|10.08|          0|             1|                  null|                  null|       4|      0|    10452|      91.7|        9|                  f|      0.0|          0.0|     2270.7|         2270.7|        1256.14|       570.26|               0.0|     444.3|                   4.16|         305.38|                         0|                       null|      INDIVIDUAL|            null|     null|                     null|             0|        null|       null|       null|      null|       null|       null|              null|        null|   null|       null|       null|      null|    null|            null|  null|       null|        null|          1|\n",
      "|    10000|      10000|        10000.0| 36 months|   10.65|     325.74|    B|       B2|   3 years|          RENT|  100000.0|    Source Verified|             other| 7.06|          0|             2|                  null|                  null|      14|      0|    11997|      55.5|       29|                  f|      0.0|          0.0|    7471.99|        7471.99|        5433.47|      1393.42|               0.0|     645.1|                 6.3145|         325.74|                         0|                       null|      INDIVIDUAL|            null|     null|                     null|             0|        null|       null|       null|      null|       null|       null|              null|        null|   null|       null|       null|      null|    null|            null|  null|       null|        null|          1|\n",
      "|     1000|       1000|         1000.0| 36 months|   16.29|      35.31|    D|       D1|  < 1 year|          RENT|   28000.0|       Not Verified|debt_consolidation|20.31|          0|             1|                  null|                  null|      11|      0|     6524|      81.5|       23|                  f|      0.0|          0.0|1270.171106|        1270.17|         1000.0|       270.17|               0.0|       0.0|                    0.0|          36.32|                         0|                       null|      INDIVIDUAL|            null|     null|                     null|             0|        null|       null|       null|      null|       null|       null|              null|        null|   null|       null|       null|      null|    null|            null|  null|       null|        null|          0|\n",
      "|    10000|      10000|        10000.0| 36 months|   15.27|     347.98|    C|       C4|   4 years|          RENT|   42000.0|       Not Verified|  home_improvement| 18.6|          0|             2|                    61|                  null|      14|      0|    24043|      70.2|       28|                  f|      0.0|          0.0|12519.26045|       12519.26|        10000.0|      2519.26|               0.0|       0.0|                    0.0|         370.46|                         0|                       null|      INDIVIDUAL|            null|     null|                     null|             0|        null|       null|       null|      null|       null|       null|              null|        null|   null|       null|       null|      null|    null|            null|  null|       null|        null|          0|\n",
      "|     3600|       3600|         3600.0| 36 months|    6.03|     109.57|    A|       A1| 10+ years|      MORTGAGE|  110000.0|       Not Verified|    major_purchase|10.52|          0|             0|                  null|                  null|      20|      0|    22836|      16.0|       42|                  f|      0.0|          0.0|    3785.02|        3785.02|         3600.0|       185.02|               0.0|       0.0|                    0.0|         583.45|                         0|                       null|      INDIVIDUAL|            null|     null|                     null|             0|        null|       null|       null|      null|       null|       null|              null|        null|   null|       null|       null|      null|    null|            null|  null|       null|        null|          0|\n",
      "|     6000|       6000|         6000.0| 36 months|   11.71|     198.46|    B|       B3|    1 year|      MORTGAGE|   84000.0|           Verified|           medical|18.44|          2|             0|                     8|                  null|       4|      0|        0|     37.73|       14|                  f|      0.0|          0.0|7164.499852|         7164.5|         6000.0|       1149.5|              15.0|       0.0|                    0.0|          16.98|                         0|                       null|      INDIVIDUAL|            null|     null|                     null|             0|        null|       null|       null|      null|       null|       null|              null|        null|   null|       null|       null|      null|    null|            null|  null|       null|        null|          0|\n",
      "|     9200|       9200|         9200.0| 36 months|    6.03|     280.01|    A|       A1|   6 years|          RENT|  77385.19|       Not Verified|debt_consolidation| 9.86|          0|             0|                  null|                  null|       8|      0|     7314|      23.1|       28|                  f|      0.0|          0.0|    9459.96|        9459.96|         9200.0|       259.96|               0.0|       0.0|                    0.0|         8061.1|                         0|                       null|      INDIVIDUAL|            null|     null|                     null|             0|        null|       null|       null|      null|       null|       null|              null|        null|   null|       null|       null|      null|    null|            null|  null|       null|        null|          0|\n",
      "|    21000|      21000|        21000.0| 36 months|   12.42|     701.73|    B|       B4| 10+ years|          RENT|  105000.0|           Verified|debt_consolidation|13.22|          0|             0|                  null|                  null|       7|      0|    32135|      90.3|       38|                  f|      0.0|          0.0|    14025.4|        14025.4|       10694.96|      3330.44|               0.0|       0.0|                    0.0|         701.73|                         0|                       null|      INDIVIDUAL|            null|     null|                     null|             0|        null|       null|       null|      null|       null|       null|              null|        null|   null|       null|       null|      null|    null|            null|  null|       null|        null|          1|\n",
      "|    10000|      10000|        10000.0| 36 months|   11.71|     330.76|    B|       B3|   5 years|          RENT|   50000.0|       Not Verified|debt_consolidation|16.01|          0|             0|                  null|                  null|       6|      0|    17800|      91.8|       17|                  f|      0.0|          0.0|   11536.31|       11536.31|        10000.0|      1536.31|               0.0|       0.0|                    0.0|        4942.63|                         0|                       null|      INDIVIDUAL|            null|     null|                     null|             0|        null|       null|       null|      null|       null|       null|              null|        null|   null|       null|       null|      null|    null|            null|  null|       null|        null|          0|\n",
      "|     6000|       6000|         6000.0| 36 months|   11.71|     198.46|    B|       B3|    1 year|          RENT|   76000.0|       Not Verified|    major_purchase|  2.4|          0|             1|                  null|                  null|       7|      0|     5963|      29.7|        7|                  f|      0.0|          0.0|    2050.14|        2050.14|        1305.58|       475.25|               0.0|    269.31|                   2.57|         198.46|                         0|                       null|      INDIVIDUAL|            null|     null|                     null|             0|        null|       null|       null|      null|       null|       null|              null|        null|   null|       null|       null|      null|    null|            null|  null|       null|        null|          1|\n",
      "|    15000|      15000|        15000.0| 36 months|    9.91|     483.38|    B|       B1|   2 years|      MORTGAGE|   92000.0|           Verified|       credit_card|29.44|          0|             0|                  null|                  null|       8|      0|    13707|      93.9|       31|                  f|      0.0|          0.0|   15823.48|       15823.48|        15000.0|       823.48|               0.0|       0.0|                    0.0|        2447.05|                         0|                       null|      INDIVIDUAL|            null|     null|                     null|             0|        null|       null|       null|      null|       null|       null|              null|        null|   null|       null|       null|      null|    null|            null|  null|       null|        null|          0|\n",
      "|    15000|      15000|         8725.0| 36 months|   14.27|     514.64|    C|       C2|   9 years|          RENT|   60000.0|       Not Verified|debt_consolidation|15.22|          0|             1|                  null|                  null|       7|      0|     5872|      57.6|       11|                  f|      0.0|          0.0|        0.0|            0.0|            0.0|          0.0|               0.0|       0.0|                    0.0|            0.0|                         0|                       null|      INDIVIDUAL|            null|     null|                     null|             0|        null|       null|       null|      null|       null|       null|              null|        null|   null|       null|       null|      null|    null|            null|  null|       null|        null|          1|\n",
      "|     5000|       5000|         5000.0| 60 months|   16.77|     123.65|    D|       D2|   2 years|          RENT|   50004.0|       Not Verified|             other|13.97|          3|             0|                    20|                  null|      14|      0|     4345|      59.5|       22|                  f|      0.0|          0.0|    1609.12|        1609.12|         629.05|       719.11|               0.0|    260.96|                    2.3|         123.65|                         0|                       null|      INDIVIDUAL|            null|     null|                     null|             0|        null|       null|       null|      null|       null|       null|              null|        null|   null|       null|       null|      null|    null|            null|  null|       null|        null|          1|\n",
      "+---------+-----------+---------------+----------+--------+-----------+-----+---------+----------+--------------+----------+-------------------+------------------+-----+-----------+--------------+----------------------+----------------------+--------+-------+---------+----------+---------+-------------------+---------+-------------+-----------+---------------+---------------+-------------+------------------+----------+-----------------------+---------------+--------------------------+---------------------------+----------------+----------------+---------+-------------------------+--------------+------------+-----------+-----------+----------+-----------+-----------+------------------+------------+-------+-----------+-----------+----------+--------+----------------+------+-----------+------------+-----------+\n",
      "only showing top 20 rows\n",
      "\n"
     ]
    }
   ],
   "source": [
    "df.show()"
   ]
  },
  {
   "cell_type": "code",
   "execution_count": 29,
   "metadata": {},
   "outputs": [
    {
     "data": {
      "application/vnd.plotly.v1+json": {
       "config": {
        "plotlyServerURL": "https://plot.ly"
       },
       "data": [
        {
         "domain": {
          "x": [
           0,
           1
          ],
          "y": [
           0,
           1
          ]
         },
         "hovertemplate": "initial_list_status=%{label}<br>count=%{value}<extra></extra>",
         "labels": [
          "f",
          "w"
         ],
         "legendgroup": "",
         "name": "",
         "showlegend": true,
         "type": "pie",
         "values": [
          399327,
          404747
         ]
        }
       ],
       "layout": {
        "legend": {
         "tracegroupgap": 0
        },
        "margin": {
         "t": 60
        },
        "template": {
         "data": {
          "bar": [
           {
            "error_x": {
             "color": "#2a3f5f"
            },
            "error_y": {
             "color": "#2a3f5f"
            },
            "marker": {
             "line": {
              "color": "#E5ECF6",
              "width": 0.5
             },
             "pattern": {
              "fillmode": "overlay",
              "size": 10,
              "solidity": 0.2
             }
            },
            "type": "bar"
           }
          ],
          "barpolar": [
           {
            "marker": {
             "line": {
              "color": "#E5ECF6",
              "width": 0.5
             },
             "pattern": {
              "fillmode": "overlay",
              "size": 10,
              "solidity": 0.2
             }
            },
            "type": "barpolar"
           }
          ],
          "carpet": [
           {
            "aaxis": {
             "endlinecolor": "#2a3f5f",
             "gridcolor": "white",
             "linecolor": "white",
             "minorgridcolor": "white",
             "startlinecolor": "#2a3f5f"
            },
            "baxis": {
             "endlinecolor": "#2a3f5f",
             "gridcolor": "white",
             "linecolor": "white",
             "minorgridcolor": "white",
             "startlinecolor": "#2a3f5f"
            },
            "type": "carpet"
           }
          ],
          "choropleth": [
           {
            "colorbar": {
             "outlinewidth": 0,
             "ticks": ""
            },
            "type": "choropleth"
           }
          ],
          "contour": [
           {
            "colorbar": {
             "outlinewidth": 0,
             "ticks": ""
            },
            "colorscale": [
             [
              0,
              "#0d0887"
             ],
             [
              0.1111111111111111,
              "#46039f"
             ],
             [
              0.2222222222222222,
              "#7201a8"
             ],
             [
              0.3333333333333333,
              "#9c179e"
             ],
             [
              0.4444444444444444,
              "#bd3786"
             ],
             [
              0.5555555555555556,
              "#d8576b"
             ],
             [
              0.6666666666666666,
              "#ed7953"
             ],
             [
              0.7777777777777778,
              "#fb9f3a"
             ],
             [
              0.8888888888888888,
              "#fdca26"
             ],
             [
              1,
              "#f0f921"
             ]
            ],
            "type": "contour"
           }
          ],
          "contourcarpet": [
           {
            "colorbar": {
             "outlinewidth": 0,
             "ticks": ""
            },
            "type": "contourcarpet"
           }
          ],
          "heatmap": [
           {
            "colorbar": {
             "outlinewidth": 0,
             "ticks": ""
            },
            "colorscale": [
             [
              0,
              "#0d0887"
             ],
             [
              0.1111111111111111,
              "#46039f"
             ],
             [
              0.2222222222222222,
              "#7201a8"
             ],
             [
              0.3333333333333333,
              "#9c179e"
             ],
             [
              0.4444444444444444,
              "#bd3786"
             ],
             [
              0.5555555555555556,
              "#d8576b"
             ],
             [
              0.6666666666666666,
              "#ed7953"
             ],
             [
              0.7777777777777778,
              "#fb9f3a"
             ],
             [
              0.8888888888888888,
              "#fdca26"
             ],
             [
              1,
              "#f0f921"
             ]
            ],
            "type": "heatmap"
           }
          ],
          "heatmapgl": [
           {
            "colorbar": {
             "outlinewidth": 0,
             "ticks": ""
            },
            "colorscale": [
             [
              0,
              "#0d0887"
             ],
             [
              0.1111111111111111,
              "#46039f"
             ],
             [
              0.2222222222222222,
              "#7201a8"
             ],
             [
              0.3333333333333333,
              "#9c179e"
             ],
             [
              0.4444444444444444,
              "#bd3786"
             ],
             [
              0.5555555555555556,
              "#d8576b"
             ],
             [
              0.6666666666666666,
              "#ed7953"
             ],
             [
              0.7777777777777778,
              "#fb9f3a"
             ],
             [
              0.8888888888888888,
              "#fdca26"
             ],
             [
              1,
              "#f0f921"
             ]
            ],
            "type": "heatmapgl"
           }
          ],
          "histogram": [
           {
            "marker": {
             "pattern": {
              "fillmode": "overlay",
              "size": 10,
              "solidity": 0.2
             }
            },
            "type": "histogram"
           }
          ],
          "histogram2d": [
           {
            "colorbar": {
             "outlinewidth": 0,
             "ticks": ""
            },
            "colorscale": [
             [
              0,
              "#0d0887"
             ],
             [
              0.1111111111111111,
              "#46039f"
             ],
             [
              0.2222222222222222,
              "#7201a8"
             ],
             [
              0.3333333333333333,
              "#9c179e"
             ],
             [
              0.4444444444444444,
              "#bd3786"
             ],
             [
              0.5555555555555556,
              "#d8576b"
             ],
             [
              0.6666666666666666,
              "#ed7953"
             ],
             [
              0.7777777777777778,
              "#fb9f3a"
             ],
             [
              0.8888888888888888,
              "#fdca26"
             ],
             [
              1,
              "#f0f921"
             ]
            ],
            "type": "histogram2d"
           }
          ],
          "histogram2dcontour": [
           {
            "colorbar": {
             "outlinewidth": 0,
             "ticks": ""
            },
            "colorscale": [
             [
              0,
              "#0d0887"
             ],
             [
              0.1111111111111111,
              "#46039f"
             ],
             [
              0.2222222222222222,
              "#7201a8"
             ],
             [
              0.3333333333333333,
              "#9c179e"
             ],
             [
              0.4444444444444444,
              "#bd3786"
             ],
             [
              0.5555555555555556,
              "#d8576b"
             ],
             [
              0.6666666666666666,
              "#ed7953"
             ],
             [
              0.7777777777777778,
              "#fb9f3a"
             ],
             [
              0.8888888888888888,
              "#fdca26"
             ],
             [
              1,
              "#f0f921"
             ]
            ],
            "type": "histogram2dcontour"
           }
          ],
          "mesh3d": [
           {
            "colorbar": {
             "outlinewidth": 0,
             "ticks": ""
            },
            "type": "mesh3d"
           }
          ],
          "parcoords": [
           {
            "line": {
             "colorbar": {
              "outlinewidth": 0,
              "ticks": ""
             }
            },
            "type": "parcoords"
           }
          ],
          "pie": [
           {
            "automargin": true,
            "type": "pie"
           }
          ],
          "scatter": [
           {
            "fillpattern": {
             "fillmode": "overlay",
             "size": 10,
             "solidity": 0.2
            },
            "type": "scatter"
           }
          ],
          "scatter3d": [
           {
            "line": {
             "colorbar": {
              "outlinewidth": 0,
              "ticks": ""
             }
            },
            "marker": {
             "colorbar": {
              "outlinewidth": 0,
              "ticks": ""
             }
            },
            "type": "scatter3d"
           }
          ],
          "scattercarpet": [
           {
            "marker": {
             "colorbar": {
              "outlinewidth": 0,
              "ticks": ""
             }
            },
            "type": "scattercarpet"
           }
          ],
          "scattergeo": [
           {
            "marker": {
             "colorbar": {
              "outlinewidth": 0,
              "ticks": ""
             }
            },
            "type": "scattergeo"
           }
          ],
          "scattergl": [
           {
            "marker": {
             "colorbar": {
              "outlinewidth": 0,
              "ticks": ""
             }
            },
            "type": "scattergl"
           }
          ],
          "scattermapbox": [
           {
            "marker": {
             "colorbar": {
              "outlinewidth": 0,
              "ticks": ""
             }
            },
            "type": "scattermapbox"
           }
          ],
          "scatterpolar": [
           {
            "marker": {
             "colorbar": {
              "outlinewidth": 0,
              "ticks": ""
             }
            },
            "type": "scatterpolar"
           }
          ],
          "scatterpolargl": [
           {
            "marker": {
             "colorbar": {
              "outlinewidth": 0,
              "ticks": ""
             }
            },
            "type": "scatterpolargl"
           }
          ],
          "scatterternary": [
           {
            "marker": {
             "colorbar": {
              "outlinewidth": 0,
              "ticks": ""
             }
            },
            "type": "scatterternary"
           }
          ],
          "surface": [
           {
            "colorbar": {
             "outlinewidth": 0,
             "ticks": ""
            },
            "colorscale": [
             [
              0,
              "#0d0887"
             ],
             [
              0.1111111111111111,
              "#46039f"
             ],
             [
              0.2222222222222222,
              "#7201a8"
             ],
             [
              0.3333333333333333,
              "#9c179e"
             ],
             [
              0.4444444444444444,
              "#bd3786"
             ],
             [
              0.5555555555555556,
              "#d8576b"
             ],
             [
              0.6666666666666666,
              "#ed7953"
             ],
             [
              0.7777777777777778,
              "#fb9f3a"
             ],
             [
              0.8888888888888888,
              "#fdca26"
             ],
             [
              1,
              "#f0f921"
             ]
            ],
            "type": "surface"
           }
          ],
          "table": [
           {
            "cells": {
             "fill": {
              "color": "#EBF0F8"
             },
             "line": {
              "color": "white"
             }
            },
            "header": {
             "fill": {
              "color": "#C8D4E3"
             },
             "line": {
              "color": "white"
             }
            },
            "type": "table"
           }
          ]
         },
         "layout": {
          "annotationdefaults": {
           "arrowcolor": "#2a3f5f",
           "arrowhead": 0,
           "arrowwidth": 1
          },
          "autotypenumbers": "strict",
          "coloraxis": {
           "colorbar": {
            "outlinewidth": 0,
            "ticks": ""
           }
          },
          "colorscale": {
           "diverging": [
            [
             0,
             "#8e0152"
            ],
            [
             0.1,
             "#c51b7d"
            ],
            [
             0.2,
             "#de77ae"
            ],
            [
             0.3,
             "#f1b6da"
            ],
            [
             0.4,
             "#fde0ef"
            ],
            [
             0.5,
             "#f7f7f7"
            ],
            [
             0.6,
             "#e6f5d0"
            ],
            [
             0.7,
             "#b8e186"
            ],
            [
             0.8,
             "#7fbc41"
            ],
            [
             0.9,
             "#4d9221"
            ],
            [
             1,
             "#276419"
            ]
           ],
           "sequential": [
            [
             0,
             "#0d0887"
            ],
            [
             0.1111111111111111,
             "#46039f"
            ],
            [
             0.2222222222222222,
             "#7201a8"
            ],
            [
             0.3333333333333333,
             "#9c179e"
            ],
            [
             0.4444444444444444,
             "#bd3786"
            ],
            [
             0.5555555555555556,
             "#d8576b"
            ],
            [
             0.6666666666666666,
             "#ed7953"
            ],
            [
             0.7777777777777778,
             "#fb9f3a"
            ],
            [
             0.8888888888888888,
             "#fdca26"
            ],
            [
             1,
             "#f0f921"
            ]
           ],
           "sequentialminus": [
            [
             0,
             "#0d0887"
            ],
            [
             0.1111111111111111,
             "#46039f"
            ],
            [
             0.2222222222222222,
             "#7201a8"
            ],
            [
             0.3333333333333333,
             "#9c179e"
            ],
            [
             0.4444444444444444,
             "#bd3786"
            ],
            [
             0.5555555555555556,
             "#d8576b"
            ],
            [
             0.6666666666666666,
             "#ed7953"
            ],
            [
             0.7777777777777778,
             "#fb9f3a"
            ],
            [
             0.8888888888888888,
             "#fdca26"
            ],
            [
             1,
             "#f0f921"
            ]
           ]
          },
          "colorway": [
           "#636efa",
           "#EF553B",
           "#00cc96",
           "#ab63fa",
           "#FFA15A",
           "#19d3f3",
           "#FF6692",
           "#B6E880",
           "#FF97FF",
           "#FECB52"
          ],
          "font": {
           "color": "#2a3f5f"
          },
          "geo": {
           "bgcolor": "white",
           "lakecolor": "white",
           "landcolor": "#E5ECF6",
           "showlakes": true,
           "showland": true,
           "subunitcolor": "white"
          },
          "hoverlabel": {
           "align": "left"
          },
          "hovermode": "closest",
          "mapbox": {
           "style": "light"
          },
          "paper_bgcolor": "white",
          "plot_bgcolor": "#E5ECF6",
          "polar": {
           "angularaxis": {
            "gridcolor": "white",
            "linecolor": "white",
            "ticks": ""
           },
           "bgcolor": "#E5ECF6",
           "radialaxis": {
            "gridcolor": "white",
            "linecolor": "white",
            "ticks": ""
           }
          },
          "scene": {
           "xaxis": {
            "backgroundcolor": "#E5ECF6",
            "gridcolor": "white",
            "gridwidth": 2,
            "linecolor": "white",
            "showbackground": true,
            "ticks": "",
            "zerolinecolor": "white"
           },
           "yaxis": {
            "backgroundcolor": "#E5ECF6",
            "gridcolor": "white",
            "gridwidth": 2,
            "linecolor": "white",
            "showbackground": true,
            "ticks": "",
            "zerolinecolor": "white"
           },
           "zaxis": {
            "backgroundcolor": "#E5ECF6",
            "gridcolor": "white",
            "gridwidth": 2,
            "linecolor": "white",
            "showbackground": true,
            "ticks": "",
            "zerolinecolor": "white"
           }
          },
          "shapedefaults": {
           "line": {
            "color": "#2a3f5f"
           }
          },
          "ternary": {
           "aaxis": {
            "gridcolor": "white",
            "linecolor": "white",
            "ticks": ""
           },
           "baxis": {
            "gridcolor": "white",
            "linecolor": "white",
            "ticks": ""
           },
           "bgcolor": "#E5ECF6",
           "caxis": {
            "gridcolor": "white",
            "linecolor": "white",
            "ticks": ""
           }
          },
          "title": {
           "x": 0.05
          },
          "xaxis": {
           "automargin": true,
           "gridcolor": "white",
           "linecolor": "white",
           "ticks": "",
           "title": {
            "standoff": 15
           },
           "zerolinecolor": "white",
           "zerolinewidth": 2
          },
          "yaxis": {
           "automargin": true,
           "gridcolor": "white",
           "linecolor": "white",
           "ticks": "",
           "title": {
            "standoff": 15
           },
           "zerolinecolor": "white",
           "zerolinewidth": 2
          }
         }
        }
       }
      }
     },
     "metadata": {},
     "output_type": "display_data"
    }
   ],
   "source": [
    "df.select(['initial_list_status']).groupby(['initial_list_status']).count().to_pandas_on_spark(index_col='initial_list_status').plot.pie(y='count')"
   ]
  },
  {
   "cell_type": "code",
   "execution_count": 30,
   "metadata": {},
   "outputs": [
    {
     "name": "stdout",
     "output_type": "stream",
     "text": [
      "+-----------+---------------+\n",
      "|funded_amnt|funded_amnt_inv|\n",
      "+-----------+---------------+\n",
      "|       5000|         4975.0|\n",
      "|       2500|         2500.0|\n",
      "|       2400|         2400.0|\n",
      "|       5000|         5000.0|\n",
      "|       3000|         3000.0|\n",
      "+-----------+---------------+\n",
      "only showing top 5 rows\n",
      "\n"
     ]
    }
   ],
   "source": [
    "df.select('funded_amnt', 'funded_amnt_inv').show(5)"
   ]
  },
  {
   "cell_type": "code",
   "execution_count": 31,
   "metadata": {},
   "outputs": [
    {
     "data": {
      "text/plain": [
       "722842"
      ]
     },
     "execution_count": 31,
     "metadata": {},
     "output_type": "execute_result"
    }
   ],
   "source": [
    "df.select('funded_amnt', 'funded_amnt_inv').filter(df['funded_amnt'] == df['funded_amnt_inv']).count()"
   ]
  },
  {
   "cell_type": "code",
   "execution_count": 32,
   "metadata": {},
   "outputs": [
    {
     "data": {
      "text/plain": [
       "81232"
      ]
     },
     "execution_count": 32,
     "metadata": {},
     "output_type": "execute_result"
    }
   ],
   "source": [
    "df.select('funded_amnt', 'funded_amnt_inv').filter(df['funded_amnt'] > df['funded_amnt_inv']).count()"
   ]
  },
  {
   "cell_type": "code",
   "execution_count": 33,
   "metadata": {},
   "outputs": [
    {
     "data": {
      "text/plain": [
       "755007"
      ]
     },
     "execution_count": 33,
     "metadata": {},
     "output_type": "execute_result"
    }
   ],
   "source": [
    "df.select('out_prncp', 'out_prncp_inv').filter(df['out_prncp'] == df['out_prncp_inv']).count()"
   ]
  },
  {
   "attachments": {},
   "cell_type": "markdown",
   "metadata": {},
   "source": [
    "The majority of the `funded_amnt_inv` and `out_prncp_inv` seems to be identical with the `funded_amnt` and `out_prncp` respectively. Furthermore, information about payout and investment of investor does not seem to concern with the loan itself. Therefore these two columns will be removed"
   ]
  },
  {
   "cell_type": "code",
   "execution_count": 34,
   "metadata": {},
   "outputs": [],
   "source": [
    "df = df.drop('funded_amnt_inv', 'out_prncp_inv')"
   ]
  },
  {
   "cell_type": "code",
   "execution_count": 35,
   "metadata": {},
   "outputs": [
    {
     "name": "stdout",
     "output_type": "stream",
     "text": [
      "+---------+-----------+----------+--------+-----------+-----+---------+----------+--------------+----------+-------------------+--------------+-----+-----------+--------------+----------------------+----------------------+--------+-------+---------+----------+---------+-------------------+---------+-----------+---------------+---------------+-------------+------------------+----------+-----------------------+---------------+--------------------------+---------------------------+----------------+----------------+---------+-------------------------+--------------+------------+-----------+-----------+----------+-----------+-----------+------------------+------------+-------+-----------+-----------+----------+--------+----------------+------+-----------+------------+-----------+\n",
      "|loan_amnt|funded_amnt|      term|int_rate|installment|grade|sub_grade|emp_length|home_ownership|annual_inc|verification_status|       purpose|  dti|delinq_2yrs|inq_last_6mths|mths_since_last_delinq|mths_since_last_record|open_acc|pub_rec|revol_bal|revol_util|total_acc|initial_list_status|out_prncp|total_pymnt|total_pymnt_inv|total_rec_prncp|total_rec_int|total_rec_late_fee|recoveries|collection_recovery_fee|last_pymnt_amnt|collections_12_mths_ex_med|mths_since_last_major_derog|application_type|annual_inc_joint|dti_joint|verification_status_joint|acc_now_delinq|tot_coll_amt|tot_cur_bal|open_acc_6m|open_il_6m|open_il_12m|open_il_24m|mths_since_rcnt_il|total_bal_il|il_util|open_rv_12m|open_rv_24m|max_bal_bc|all_util|total_rev_hi_lim|inq_fi|total_cu_tl|inq_last_12m|default_ind|\n",
      "+---------+-----------+----------+--------+-----------+-----+---------+----------+--------------+----------+-------------------+--------------+-----+-----------+--------------+----------------------+----------------------+--------+-------+---------+----------+---------+-------------------+---------+-----------+---------------+---------------+-------------+------------------+----------+-----------------------+---------------+--------------------------+---------------------------+----------------+----------------+---------+-------------------------+--------------+------------+-----------+-----------+----------+-----------+-----------+------------------+------------+-------+-----------+-----------+----------+--------+----------------+------+-----------+------------+-----------+\n",
      "|     5000|       5000| 36 months|   10.65|     162.87|    B|       B2| 10+ years|          RENT|   24000.0|           Verified|   credit_card|27.65|          0|             1|                  null|                  null|       3|      0|    13648|      83.7|        9|                  f|      0.0|5861.071414|        5831.78|         5000.0|       861.07|               0.0|       0.0|                    0.0|         171.62|                         0|                       null|      INDIVIDUAL|            null|     null|                     null|             0|        null|       null|       null|      null|       null|       null|              null|        null|   null|       null|       null|      null|    null|            null|  null|       null|        null|          0|\n",
      "|     2500|       2500| 60 months|   15.27|      59.83|    C|       C4|  < 1 year|          RENT|   30000.0|    Source Verified|           car|  1.0|          0|             5|                  null|                  null|       3|      0|     1687|       9.4|        4|                  f|      0.0|    1008.71|        1008.71|         456.46|       435.17|               0.0|    117.08|                   1.11|         119.66|                         0|                       null|      INDIVIDUAL|            null|     null|                     null|             0|        null|       null|       null|      null|       null|       null|              null|        null|   null|       null|       null|      null|    null|            null|  null|       null|        null|          1|\n",
      "|     2400|       2400| 36 months|   15.96|      84.33|    C|       C5| 10+ years|          RENT|   12252.0|       Not Verified|small_business| 8.72|          0|             2|                  null|                  null|       2|      0|     2956|      98.5|       10|                  f|      0.0|3003.653644|        3003.65|         2400.0|       603.65|               0.0|       0.0|                    0.0|         649.91|                         0|                       null|      INDIVIDUAL|            null|     null|                     null|             0|        null|       null|       null|      null|       null|       null|              null|        null|   null|       null|       null|      null|    null|            null|  null|       null|        null|          0|\n",
      "|     5000|       5000| 36 months|     7.9|     156.46|    A|       A4|   3 years|          RENT|   36000.0|    Source Verified|       wedding| 11.2|          0|             3|                  null|                  null|       9|      0|     7963|      28.3|       12|                  f|      0.0|5631.377753|        5631.38|         5000.0|       631.38|               0.0|       0.0|                    0.0|         161.03|                         0|                       null|      INDIVIDUAL|            null|     null|                     null|             0|        null|       null|       null|      null|       null|       null|              null|        null|   null|       null|       null|      null|    null|            null|  null|       null|        null|          0|\n",
      "|     3000|       3000| 36 months|   18.64|     109.43|    E|       E1|   9 years|          RENT|   48000.0|    Source Verified|           car| 5.35|          0|             2|                  null|                  null|       4|      0|     8221|      87.5|        4|                  f|      0.0|3938.144334|        3938.14|         3000.0|       938.14|               0.0|       0.0|                    0.0|         111.34|                         0|                       null|      INDIVIDUAL|            null|     null|                     null|             0|        null|       null|       null|      null|       null|       null|              null|        null|   null|       null|       null|      null|    null|            null|  null|       null|        null|          0|\n",
      "+---------+-----------+----------+--------+-----------+-----+---------+----------+--------------+----------+-------------------+--------------+-----+-----------+--------------+----------------------+----------------------+--------+-------+---------+----------+---------+-------------------+---------+-----------+---------------+---------------+-------------+------------------+----------+-----------------------+---------------+--------------------------+---------------------------+----------------+----------------+---------+-------------------------+--------------+------------+-----------+-----------+----------+-----------+-----------+------------------+------------+-------+-----------+-----------+----------+--------+----------------+------+-----------+------------+-----------+\n",
      "only showing top 5 rows\n",
      "\n"
     ]
    }
   ],
   "source": [
    "df.show(5)"
   ]
  },
  {
   "cell_type": "code",
   "execution_count": 36,
   "metadata": {},
   "outputs": [
    {
     "name": "stdout",
     "output_type": "stream",
     "text": [
      "+--------------------------+------+\n",
      "|collections_12_mths_ex_med| count|\n",
      "+--------------------------+------+\n",
      "|                      null|    34|\n",
      "|                         1| 10159|\n",
      "|                         2|   704|\n",
      "|                         0|793062|\n",
      "|                         3|    79|\n",
      "|                         6|     2|\n",
      "|                        16|     1|\n",
      "|                        20|     1|\n",
      "|                         4|    22|\n",
      "|                         5|     7|\n",
      "|                         7|     1|\n",
      "|                        10|     1|\n",
      "|                        14|     1|\n",
      "+--------------------------+------+\n",
      "\n"
     ]
    }
   ],
   "source": [
    "df.select('collections_12_mths_ex_med').groupBy('collections_12_mths_ex_med').count().show()"
   ]
  },
  {
   "attachments": {},
   "cell_type": "markdown",
   "metadata": {},
   "source": [
    "The majority of the `collections_12_mths_ex_med` are 0, let's see if there's any impact of this column when its more than 0 on the `default_ind`"
   ]
  },
  {
   "cell_type": "code",
   "execution_count": 37,
   "metadata": {},
   "outputs": [
    {
     "data": {
      "text/plain": [
       "10978"
      ]
     },
     "execution_count": 37,
     "metadata": {},
     "output_type": "execute_result"
    }
   ],
   "source": [
    "df.filter((df['collections_12_mths_ex_med'] > 0)).count()"
   ]
  },
  {
   "cell_type": "code",
   "execution_count": 38,
   "metadata": {},
   "outputs": [
    {
     "data": {
      "text/plain": [
       "357"
      ]
     },
     "execution_count": 38,
     "metadata": {},
     "output_type": "execute_result"
    }
   ],
   "source": [
    "df.filter((df['collections_12_mths_ex_med'] > 0) & (df['default_ind'] == 1)).count()"
   ]
  },
  {
   "attachments": {},
   "cell_type": "markdown",
   "metadata": {},
   "source": [
    "=> The majority of the values when `collections_12_mths_ex_med` > 0 end up as non-default "
   ]
  },
  {
   "cell_type": "code",
   "execution_count": 39,
   "metadata": {},
   "outputs": [],
   "source": [
    "df = df.drop('sub_grade')"
   ]
  },
  {
   "attachments": {},
   "cell_type": "markdown",
   "metadata": {},
   "source": [
    "`sub_grade` will be dropped for simplifying the data"
   ]
  },
  {
   "attachments": {},
   "cell_type": "markdown",
   "metadata": {},
   "source": [
    "## Observation on `null` data fields:"
   ]
  },
  {
   "cell_type": "code",
   "execution_count": 40,
   "metadata": {},
   "outputs": [],
   "source": [
    "null_dict = {col : df.filter(df[col].isNull()).count() for col in df.columns}"
   ]
  },
  {
   "cell_type": "code",
   "execution_count": 41,
   "metadata": {},
   "outputs": [
    {
     "data": {
      "text/plain": [
       "{'loan_amnt': 0,\n",
       " 'funded_amnt': 0,\n",
       " 'term': 0,\n",
       " 'int_rate': 0,\n",
       " 'installment': 0,\n",
       " 'grade': 0,\n",
       " 'emp_length': 0,\n",
       " 'home_ownership': 0,\n",
       " 'annual_inc': 0,\n",
       " 'verification_status': 0,\n",
       " 'purpose': 0,\n",
       " 'dti': 0,\n",
       " 'delinq_2yrs': 0,\n",
       " 'inq_last_6mths': 0,\n",
       " 'mths_since_last_delinq': 408833,\n",
       " 'mths_since_last_record': 677326,\n",
       " 'open_acc': 0,\n",
       " 'pub_rec': 0,\n",
       " 'revol_bal': 0,\n",
       " 'revol_util': 401,\n",
       " 'total_acc': 0,\n",
       " 'initial_list_status': 0,\n",
       " 'out_prncp': 0,\n",
       " 'total_pymnt': 0,\n",
       " 'total_pymnt_inv': 0,\n",
       " 'total_rec_prncp': 0,\n",
       " 'total_rec_int': 0,\n",
       " 'total_rec_late_fee': 0,\n",
       " 'recoveries': 0,\n",
       " 'collection_recovery_fee': 0,\n",
       " 'last_pymnt_amnt': 0,\n",
       " 'collections_12_mths_ex_med': 34,\n",
       " 'mths_since_last_major_derog': 597237,\n",
       " 'application_type': 0,\n",
       " 'annual_inc_joint': 803633,\n",
       " 'dti_joint': 803633,\n",
       " 'verification_status_joint': 803633,\n",
       " 'acc_now_delinq': 0,\n",
       " 'tot_coll_amt': 45453,\n",
       " 'tot_cur_bal': 45453,\n",
       " 'open_acc_6m': 790893,\n",
       " 'open_il_6m': 790893,\n",
       " 'open_il_12m': 790893,\n",
       " 'open_il_24m': 790893,\n",
       " 'mths_since_rcnt_il': 791244,\n",
       " 'total_bal_il': 790893,\n",
       " 'il_util': 792561,\n",
       " 'open_rv_12m': 790893,\n",
       " 'open_rv_24m': 790893,\n",
       " 'max_bal_bc': 790893,\n",
       " 'all_util': 790893,\n",
       " 'total_rev_hi_lim': 45453,\n",
       " 'inq_fi': 790893,\n",
       " 'total_cu_tl': 790893,\n",
       " 'inq_last_12m': 790893,\n",
       " 'default_ind': 0}"
      ]
     },
     "execution_count": 41,
     "metadata": {},
     "output_type": "execute_result"
    }
   ],
   "source": [
    "null_dict"
   ]
  },
  {
   "attachments": {},
   "cell_type": "markdown",
   "metadata": {},
   "source": [
    "- all `*_joint` columns (`annual_inc_joint`, `dti_joint`, `verification_status_joint`) have 803633 null values, equivalent to the number of `INDIVIDUAL` `application_type` rows -> Therefore, only the `application_type` of `JOINT` will have these columns filled\n",
    "\n",
    "Sometime null does not mean we are missing data\n",
    "- `null` value for `mths_since_last_delinq` indicate that this borrower does not have any delinquencies (does not behind on payment) record.\n",
    "- `null` value for `mths_since_last_record` indicate that this borrower does not have any public record (does not have any public records of bankruptcy and judgement information)\n",
    "- `null` value for `mths_since_last_major_derog` indicate that this borrower does not have any worse rating in the last 90 days\n"
   ]
  },
  {
   "cell_type": "code",
   "execution_count": 42,
   "metadata": {},
   "outputs": [
    {
     "data": {
      "application/vnd.plotly.v1+json": {
       "config": {
        "plotlyServerURL": "https://plot.ly"
       },
       "data": [
        {
         "domain": {
          "x": [
           0,
           1
          ],
          "y": [
           0,
           1
          ]
         },
         "hovertemplate": "application_type=%{label}<br>count=%{value}<extra></extra>",
         "labels": [
          "INDIVIDUAL",
          "JOINT"
         ],
         "legendgroup": "",
         "name": "",
         "showlegend": true,
         "type": "pie",
         "values": [
          803633,
          441
         ]
        }
       ],
       "layout": {
        "legend": {
         "tracegroupgap": 0
        },
        "margin": {
         "t": 60
        },
        "template": {
         "data": {
          "bar": [
           {
            "error_x": {
             "color": "#2a3f5f"
            },
            "error_y": {
             "color": "#2a3f5f"
            },
            "marker": {
             "line": {
              "color": "#E5ECF6",
              "width": 0.5
             },
             "pattern": {
              "fillmode": "overlay",
              "size": 10,
              "solidity": 0.2
             }
            },
            "type": "bar"
           }
          ],
          "barpolar": [
           {
            "marker": {
             "line": {
              "color": "#E5ECF6",
              "width": 0.5
             },
             "pattern": {
              "fillmode": "overlay",
              "size": 10,
              "solidity": 0.2
             }
            },
            "type": "barpolar"
           }
          ],
          "carpet": [
           {
            "aaxis": {
             "endlinecolor": "#2a3f5f",
             "gridcolor": "white",
             "linecolor": "white",
             "minorgridcolor": "white",
             "startlinecolor": "#2a3f5f"
            },
            "baxis": {
             "endlinecolor": "#2a3f5f",
             "gridcolor": "white",
             "linecolor": "white",
             "minorgridcolor": "white",
             "startlinecolor": "#2a3f5f"
            },
            "type": "carpet"
           }
          ],
          "choropleth": [
           {
            "colorbar": {
             "outlinewidth": 0,
             "ticks": ""
            },
            "type": "choropleth"
           }
          ],
          "contour": [
           {
            "colorbar": {
             "outlinewidth": 0,
             "ticks": ""
            },
            "colorscale": [
             [
              0,
              "#0d0887"
             ],
             [
              0.1111111111111111,
              "#46039f"
             ],
             [
              0.2222222222222222,
              "#7201a8"
             ],
             [
              0.3333333333333333,
              "#9c179e"
             ],
             [
              0.4444444444444444,
              "#bd3786"
             ],
             [
              0.5555555555555556,
              "#d8576b"
             ],
             [
              0.6666666666666666,
              "#ed7953"
             ],
             [
              0.7777777777777778,
              "#fb9f3a"
             ],
             [
              0.8888888888888888,
              "#fdca26"
             ],
             [
              1,
              "#f0f921"
             ]
            ],
            "type": "contour"
           }
          ],
          "contourcarpet": [
           {
            "colorbar": {
             "outlinewidth": 0,
             "ticks": ""
            },
            "type": "contourcarpet"
           }
          ],
          "heatmap": [
           {
            "colorbar": {
             "outlinewidth": 0,
             "ticks": ""
            },
            "colorscale": [
             [
              0,
              "#0d0887"
             ],
             [
              0.1111111111111111,
              "#46039f"
             ],
             [
              0.2222222222222222,
              "#7201a8"
             ],
             [
              0.3333333333333333,
              "#9c179e"
             ],
             [
              0.4444444444444444,
              "#bd3786"
             ],
             [
              0.5555555555555556,
              "#d8576b"
             ],
             [
              0.6666666666666666,
              "#ed7953"
             ],
             [
              0.7777777777777778,
              "#fb9f3a"
             ],
             [
              0.8888888888888888,
              "#fdca26"
             ],
             [
              1,
              "#f0f921"
             ]
            ],
            "type": "heatmap"
           }
          ],
          "heatmapgl": [
           {
            "colorbar": {
             "outlinewidth": 0,
             "ticks": ""
            },
            "colorscale": [
             [
              0,
              "#0d0887"
             ],
             [
              0.1111111111111111,
              "#46039f"
             ],
             [
              0.2222222222222222,
              "#7201a8"
             ],
             [
              0.3333333333333333,
              "#9c179e"
             ],
             [
              0.4444444444444444,
              "#bd3786"
             ],
             [
              0.5555555555555556,
              "#d8576b"
             ],
             [
              0.6666666666666666,
              "#ed7953"
             ],
             [
              0.7777777777777778,
              "#fb9f3a"
             ],
             [
              0.8888888888888888,
              "#fdca26"
             ],
             [
              1,
              "#f0f921"
             ]
            ],
            "type": "heatmapgl"
           }
          ],
          "histogram": [
           {
            "marker": {
             "pattern": {
              "fillmode": "overlay",
              "size": 10,
              "solidity": 0.2
             }
            },
            "type": "histogram"
           }
          ],
          "histogram2d": [
           {
            "colorbar": {
             "outlinewidth": 0,
             "ticks": ""
            },
            "colorscale": [
             [
              0,
              "#0d0887"
             ],
             [
              0.1111111111111111,
              "#46039f"
             ],
             [
              0.2222222222222222,
              "#7201a8"
             ],
             [
              0.3333333333333333,
              "#9c179e"
             ],
             [
              0.4444444444444444,
              "#bd3786"
             ],
             [
              0.5555555555555556,
              "#d8576b"
             ],
             [
              0.6666666666666666,
              "#ed7953"
             ],
             [
              0.7777777777777778,
              "#fb9f3a"
             ],
             [
              0.8888888888888888,
              "#fdca26"
             ],
             [
              1,
              "#f0f921"
             ]
            ],
            "type": "histogram2d"
           }
          ],
          "histogram2dcontour": [
           {
            "colorbar": {
             "outlinewidth": 0,
             "ticks": ""
            },
            "colorscale": [
             [
              0,
              "#0d0887"
             ],
             [
              0.1111111111111111,
              "#46039f"
             ],
             [
              0.2222222222222222,
              "#7201a8"
             ],
             [
              0.3333333333333333,
              "#9c179e"
             ],
             [
              0.4444444444444444,
              "#bd3786"
             ],
             [
              0.5555555555555556,
              "#d8576b"
             ],
             [
              0.6666666666666666,
              "#ed7953"
             ],
             [
              0.7777777777777778,
              "#fb9f3a"
             ],
             [
              0.8888888888888888,
              "#fdca26"
             ],
             [
              1,
              "#f0f921"
             ]
            ],
            "type": "histogram2dcontour"
           }
          ],
          "mesh3d": [
           {
            "colorbar": {
             "outlinewidth": 0,
             "ticks": ""
            },
            "type": "mesh3d"
           }
          ],
          "parcoords": [
           {
            "line": {
             "colorbar": {
              "outlinewidth": 0,
              "ticks": ""
             }
            },
            "type": "parcoords"
           }
          ],
          "pie": [
           {
            "automargin": true,
            "type": "pie"
           }
          ],
          "scatter": [
           {
            "fillpattern": {
             "fillmode": "overlay",
             "size": 10,
             "solidity": 0.2
            },
            "type": "scatter"
           }
          ],
          "scatter3d": [
           {
            "line": {
             "colorbar": {
              "outlinewidth": 0,
              "ticks": ""
             }
            },
            "marker": {
             "colorbar": {
              "outlinewidth": 0,
              "ticks": ""
             }
            },
            "type": "scatter3d"
           }
          ],
          "scattercarpet": [
           {
            "marker": {
             "colorbar": {
              "outlinewidth": 0,
              "ticks": ""
             }
            },
            "type": "scattercarpet"
           }
          ],
          "scattergeo": [
           {
            "marker": {
             "colorbar": {
              "outlinewidth": 0,
              "ticks": ""
             }
            },
            "type": "scattergeo"
           }
          ],
          "scattergl": [
           {
            "marker": {
             "colorbar": {
              "outlinewidth": 0,
              "ticks": ""
             }
            },
            "type": "scattergl"
           }
          ],
          "scattermapbox": [
           {
            "marker": {
             "colorbar": {
              "outlinewidth": 0,
              "ticks": ""
             }
            },
            "type": "scattermapbox"
           }
          ],
          "scatterpolar": [
           {
            "marker": {
             "colorbar": {
              "outlinewidth": 0,
              "ticks": ""
             }
            },
            "type": "scatterpolar"
           }
          ],
          "scatterpolargl": [
           {
            "marker": {
             "colorbar": {
              "outlinewidth": 0,
              "ticks": ""
             }
            },
            "type": "scatterpolargl"
           }
          ],
          "scatterternary": [
           {
            "marker": {
             "colorbar": {
              "outlinewidth": 0,
              "ticks": ""
             }
            },
            "type": "scatterternary"
           }
          ],
          "surface": [
           {
            "colorbar": {
             "outlinewidth": 0,
             "ticks": ""
            },
            "colorscale": [
             [
              0,
              "#0d0887"
             ],
             [
              0.1111111111111111,
              "#46039f"
             ],
             [
              0.2222222222222222,
              "#7201a8"
             ],
             [
              0.3333333333333333,
              "#9c179e"
             ],
             [
              0.4444444444444444,
              "#bd3786"
             ],
             [
              0.5555555555555556,
              "#d8576b"
             ],
             [
              0.6666666666666666,
              "#ed7953"
             ],
             [
              0.7777777777777778,
              "#fb9f3a"
             ],
             [
              0.8888888888888888,
              "#fdca26"
             ],
             [
              1,
              "#f0f921"
             ]
            ],
            "type": "surface"
           }
          ],
          "table": [
           {
            "cells": {
             "fill": {
              "color": "#EBF0F8"
             },
             "line": {
              "color": "white"
             }
            },
            "header": {
             "fill": {
              "color": "#C8D4E3"
             },
             "line": {
              "color": "white"
             }
            },
            "type": "table"
           }
          ]
         },
         "layout": {
          "annotationdefaults": {
           "arrowcolor": "#2a3f5f",
           "arrowhead": 0,
           "arrowwidth": 1
          },
          "autotypenumbers": "strict",
          "coloraxis": {
           "colorbar": {
            "outlinewidth": 0,
            "ticks": ""
           }
          },
          "colorscale": {
           "diverging": [
            [
             0,
             "#8e0152"
            ],
            [
             0.1,
             "#c51b7d"
            ],
            [
             0.2,
             "#de77ae"
            ],
            [
             0.3,
             "#f1b6da"
            ],
            [
             0.4,
             "#fde0ef"
            ],
            [
             0.5,
             "#f7f7f7"
            ],
            [
             0.6,
             "#e6f5d0"
            ],
            [
             0.7,
             "#b8e186"
            ],
            [
             0.8,
             "#7fbc41"
            ],
            [
             0.9,
             "#4d9221"
            ],
            [
             1,
             "#276419"
            ]
           ],
           "sequential": [
            [
             0,
             "#0d0887"
            ],
            [
             0.1111111111111111,
             "#46039f"
            ],
            [
             0.2222222222222222,
             "#7201a8"
            ],
            [
             0.3333333333333333,
             "#9c179e"
            ],
            [
             0.4444444444444444,
             "#bd3786"
            ],
            [
             0.5555555555555556,
             "#d8576b"
            ],
            [
             0.6666666666666666,
             "#ed7953"
            ],
            [
             0.7777777777777778,
             "#fb9f3a"
            ],
            [
             0.8888888888888888,
             "#fdca26"
            ],
            [
             1,
             "#f0f921"
            ]
           ],
           "sequentialminus": [
            [
             0,
             "#0d0887"
            ],
            [
             0.1111111111111111,
             "#46039f"
            ],
            [
             0.2222222222222222,
             "#7201a8"
            ],
            [
             0.3333333333333333,
             "#9c179e"
            ],
            [
             0.4444444444444444,
             "#bd3786"
            ],
            [
             0.5555555555555556,
             "#d8576b"
            ],
            [
             0.6666666666666666,
             "#ed7953"
            ],
            [
             0.7777777777777778,
             "#fb9f3a"
            ],
            [
             0.8888888888888888,
             "#fdca26"
            ],
            [
             1,
             "#f0f921"
            ]
           ]
          },
          "colorway": [
           "#636efa",
           "#EF553B",
           "#00cc96",
           "#ab63fa",
           "#FFA15A",
           "#19d3f3",
           "#FF6692",
           "#B6E880",
           "#FF97FF",
           "#FECB52"
          ],
          "font": {
           "color": "#2a3f5f"
          },
          "geo": {
           "bgcolor": "white",
           "lakecolor": "white",
           "landcolor": "#E5ECF6",
           "showlakes": true,
           "showland": true,
           "subunitcolor": "white"
          },
          "hoverlabel": {
           "align": "left"
          },
          "hovermode": "closest",
          "mapbox": {
           "style": "light"
          },
          "paper_bgcolor": "white",
          "plot_bgcolor": "#E5ECF6",
          "polar": {
           "angularaxis": {
            "gridcolor": "white",
            "linecolor": "white",
            "ticks": ""
           },
           "bgcolor": "#E5ECF6",
           "radialaxis": {
            "gridcolor": "white",
            "linecolor": "white",
            "ticks": ""
           }
          },
          "scene": {
           "xaxis": {
            "backgroundcolor": "#E5ECF6",
            "gridcolor": "white",
            "gridwidth": 2,
            "linecolor": "white",
            "showbackground": true,
            "ticks": "",
            "zerolinecolor": "white"
           },
           "yaxis": {
            "backgroundcolor": "#E5ECF6",
            "gridcolor": "white",
            "gridwidth": 2,
            "linecolor": "white",
            "showbackground": true,
            "ticks": "",
            "zerolinecolor": "white"
           },
           "zaxis": {
            "backgroundcolor": "#E5ECF6",
            "gridcolor": "white",
            "gridwidth": 2,
            "linecolor": "white",
            "showbackground": true,
            "ticks": "",
            "zerolinecolor": "white"
           }
          },
          "shapedefaults": {
           "line": {
            "color": "#2a3f5f"
           }
          },
          "ternary": {
           "aaxis": {
            "gridcolor": "white",
            "linecolor": "white",
            "ticks": ""
           },
           "baxis": {
            "gridcolor": "white",
            "linecolor": "white",
            "ticks": ""
           },
           "bgcolor": "#E5ECF6",
           "caxis": {
            "gridcolor": "white",
            "linecolor": "white",
            "ticks": ""
           }
          },
          "title": {
           "x": 0.05
          },
          "xaxis": {
           "automargin": true,
           "gridcolor": "white",
           "linecolor": "white",
           "ticks": "",
           "title": {
            "standoff": 15
           },
           "zerolinecolor": "white",
           "zerolinewidth": 2
          },
          "yaxis": {
           "automargin": true,
           "gridcolor": "white",
           "linecolor": "white",
           "ticks": "",
           "title": {
            "standoff": 15
           },
           "zerolinecolor": "white",
           "zerolinewidth": 2
          }
         }
        }
       }
      }
     },
     "metadata": {},
     "output_type": "display_data"
    }
   ],
   "source": [
    "df.groupby(['application_type']).count().to_pandas_on_spark(index_col=['application_type']).plot.pie(y='count')"
   ]
  },
  {
   "attachments": {},
   "cell_type": "markdown",
   "metadata": {},
   "source": [
    "The number of data with `application_type == 'JOINT'`  are heavily underrepresent"
   ]
  },
  {
   "attachments": {},
   "cell_type": "markdown",
   "metadata": {},
   "source": [
    "Checking if there's any default cases when `application_type == 'JOINT'`"
   ]
  },
  {
   "cell_type": "code",
   "execution_count": 43,
   "metadata": {},
   "outputs": [
    {
     "data": {
      "text/plain": [
       "0"
      ]
     },
     "execution_count": 43,
     "metadata": {},
     "output_type": "execute_result"
    }
   ],
   "source": [
    "df.filter((df['application_type'] == \"JOINT\") & (df['default_ind'] == '1')).count()"
   ]
  },
  {
   "attachments": {},
   "cell_type": "markdown",
   "metadata": {},
   "source": [
    "Base on the dataset, virutally no `default` happened when the `application_type == 'JOINT'`!"
   ]
  },
  {
   "cell_type": "code",
   "execution_count": 44,
   "metadata": {},
   "outputs": [
    {
     "data": {
      "text/plain": [
       "442"
      ]
     },
     "execution_count": 44,
     "metadata": {},
     "output_type": "execute_result"
    }
   ],
   "source": [
    "df_original.filter(df_original['application_type'] == \"JOINT\").count()"
   ]
  },
  {
   "attachments": {},
   "cell_type": "markdown",
   "metadata": {},
   "source": [
    "We only remove 1 `\"JOINT\"` account from cleaning the CSV dataset"
   ]
  },
  {
   "attachments": {},
   "cell_type": "markdown",
   "metadata": {},
   "source": [
    "Because of high percentage of missing values in the columns related to joint application, the columns related to this will be dropped"
   ]
  },
  {
   "cell_type": "code",
   "execution_count": 45,
   "metadata": {},
   "outputs": [],
   "source": [
    "df = df.drop(\"annual_inc_joint\", \"dti_joint\", \"verification_status_joint\")"
   ]
  },
  {
   "cell_type": "code",
   "execution_count": 46,
   "metadata": {},
   "outputs": [
    {
     "name": "stdout",
     "output_type": "stream",
     "text": [
      "+-------------------+------+\n",
      "|verification_status| count|\n",
      "+-------------------+------+\n",
      "|           Verified|259501|\n",
      "|    Source Verified|304870|\n",
      "|       Not Verified|239703|\n",
      "+-------------------+------+\n",
      "\n"
     ]
    }
   ],
   "source": [
    "df.groupBy(df['verification_status']).count().show()"
   ]
  },
  {
   "cell_type": "code",
   "execution_count": 47,
   "metadata": {},
   "outputs": [
    {
     "data": {
      "application/vnd.plotly.v1+json": {
       "config": {
        "plotlyServerURL": "https://plot.ly"
       },
       "data": [
        {
         "domain": {
          "x": [
           0,
           1
          ],
          "y": [
           0,
           1
          ]
         },
         "hovertemplate": "verification_status=%{label}<br>count=%{value}<extra></extra>",
         "labels": [
          "Verified",
          "Source Verified",
          "Not Verified"
         ],
         "legendgroup": "",
         "name": "",
         "showlegend": true,
         "type": "pie",
         "values": [
          259501,
          304870,
          239703
         ]
        }
       ],
       "layout": {
        "legend": {
         "tracegroupgap": 0
        },
        "margin": {
         "t": 60
        },
        "template": {
         "data": {
          "bar": [
           {
            "error_x": {
             "color": "#2a3f5f"
            },
            "error_y": {
             "color": "#2a3f5f"
            },
            "marker": {
             "line": {
              "color": "#E5ECF6",
              "width": 0.5
             },
             "pattern": {
              "fillmode": "overlay",
              "size": 10,
              "solidity": 0.2
             }
            },
            "type": "bar"
           }
          ],
          "barpolar": [
           {
            "marker": {
             "line": {
              "color": "#E5ECF6",
              "width": 0.5
             },
             "pattern": {
              "fillmode": "overlay",
              "size": 10,
              "solidity": 0.2
             }
            },
            "type": "barpolar"
           }
          ],
          "carpet": [
           {
            "aaxis": {
             "endlinecolor": "#2a3f5f",
             "gridcolor": "white",
             "linecolor": "white",
             "minorgridcolor": "white",
             "startlinecolor": "#2a3f5f"
            },
            "baxis": {
             "endlinecolor": "#2a3f5f",
             "gridcolor": "white",
             "linecolor": "white",
             "minorgridcolor": "white",
             "startlinecolor": "#2a3f5f"
            },
            "type": "carpet"
           }
          ],
          "choropleth": [
           {
            "colorbar": {
             "outlinewidth": 0,
             "ticks": ""
            },
            "type": "choropleth"
           }
          ],
          "contour": [
           {
            "colorbar": {
             "outlinewidth": 0,
             "ticks": ""
            },
            "colorscale": [
             [
              0,
              "#0d0887"
             ],
             [
              0.1111111111111111,
              "#46039f"
             ],
             [
              0.2222222222222222,
              "#7201a8"
             ],
             [
              0.3333333333333333,
              "#9c179e"
             ],
             [
              0.4444444444444444,
              "#bd3786"
             ],
             [
              0.5555555555555556,
              "#d8576b"
             ],
             [
              0.6666666666666666,
              "#ed7953"
             ],
             [
              0.7777777777777778,
              "#fb9f3a"
             ],
             [
              0.8888888888888888,
              "#fdca26"
             ],
             [
              1,
              "#f0f921"
             ]
            ],
            "type": "contour"
           }
          ],
          "contourcarpet": [
           {
            "colorbar": {
             "outlinewidth": 0,
             "ticks": ""
            },
            "type": "contourcarpet"
           }
          ],
          "heatmap": [
           {
            "colorbar": {
             "outlinewidth": 0,
             "ticks": ""
            },
            "colorscale": [
             [
              0,
              "#0d0887"
             ],
             [
              0.1111111111111111,
              "#46039f"
             ],
             [
              0.2222222222222222,
              "#7201a8"
             ],
             [
              0.3333333333333333,
              "#9c179e"
             ],
             [
              0.4444444444444444,
              "#bd3786"
             ],
             [
              0.5555555555555556,
              "#d8576b"
             ],
             [
              0.6666666666666666,
              "#ed7953"
             ],
             [
              0.7777777777777778,
              "#fb9f3a"
             ],
             [
              0.8888888888888888,
              "#fdca26"
             ],
             [
              1,
              "#f0f921"
             ]
            ],
            "type": "heatmap"
           }
          ],
          "heatmapgl": [
           {
            "colorbar": {
             "outlinewidth": 0,
             "ticks": ""
            },
            "colorscale": [
             [
              0,
              "#0d0887"
             ],
             [
              0.1111111111111111,
              "#46039f"
             ],
             [
              0.2222222222222222,
              "#7201a8"
             ],
             [
              0.3333333333333333,
              "#9c179e"
             ],
             [
              0.4444444444444444,
              "#bd3786"
             ],
             [
              0.5555555555555556,
              "#d8576b"
             ],
             [
              0.6666666666666666,
              "#ed7953"
             ],
             [
              0.7777777777777778,
              "#fb9f3a"
             ],
             [
              0.8888888888888888,
              "#fdca26"
             ],
             [
              1,
              "#f0f921"
             ]
            ],
            "type": "heatmapgl"
           }
          ],
          "histogram": [
           {
            "marker": {
             "pattern": {
              "fillmode": "overlay",
              "size": 10,
              "solidity": 0.2
             }
            },
            "type": "histogram"
           }
          ],
          "histogram2d": [
           {
            "colorbar": {
             "outlinewidth": 0,
             "ticks": ""
            },
            "colorscale": [
             [
              0,
              "#0d0887"
             ],
             [
              0.1111111111111111,
              "#46039f"
             ],
             [
              0.2222222222222222,
              "#7201a8"
             ],
             [
              0.3333333333333333,
              "#9c179e"
             ],
             [
              0.4444444444444444,
              "#bd3786"
             ],
             [
              0.5555555555555556,
              "#d8576b"
             ],
             [
              0.6666666666666666,
              "#ed7953"
             ],
             [
              0.7777777777777778,
              "#fb9f3a"
             ],
             [
              0.8888888888888888,
              "#fdca26"
             ],
             [
              1,
              "#f0f921"
             ]
            ],
            "type": "histogram2d"
           }
          ],
          "histogram2dcontour": [
           {
            "colorbar": {
             "outlinewidth": 0,
             "ticks": ""
            },
            "colorscale": [
             [
              0,
              "#0d0887"
             ],
             [
              0.1111111111111111,
              "#46039f"
             ],
             [
              0.2222222222222222,
              "#7201a8"
             ],
             [
              0.3333333333333333,
              "#9c179e"
             ],
             [
              0.4444444444444444,
              "#bd3786"
             ],
             [
              0.5555555555555556,
              "#d8576b"
             ],
             [
              0.6666666666666666,
              "#ed7953"
             ],
             [
              0.7777777777777778,
              "#fb9f3a"
             ],
             [
              0.8888888888888888,
              "#fdca26"
             ],
             [
              1,
              "#f0f921"
             ]
            ],
            "type": "histogram2dcontour"
           }
          ],
          "mesh3d": [
           {
            "colorbar": {
             "outlinewidth": 0,
             "ticks": ""
            },
            "type": "mesh3d"
           }
          ],
          "parcoords": [
           {
            "line": {
             "colorbar": {
              "outlinewidth": 0,
              "ticks": ""
             }
            },
            "type": "parcoords"
           }
          ],
          "pie": [
           {
            "automargin": true,
            "type": "pie"
           }
          ],
          "scatter": [
           {
            "fillpattern": {
             "fillmode": "overlay",
             "size": 10,
             "solidity": 0.2
            },
            "type": "scatter"
           }
          ],
          "scatter3d": [
           {
            "line": {
             "colorbar": {
              "outlinewidth": 0,
              "ticks": ""
             }
            },
            "marker": {
             "colorbar": {
              "outlinewidth": 0,
              "ticks": ""
             }
            },
            "type": "scatter3d"
           }
          ],
          "scattercarpet": [
           {
            "marker": {
             "colorbar": {
              "outlinewidth": 0,
              "ticks": ""
             }
            },
            "type": "scattercarpet"
           }
          ],
          "scattergeo": [
           {
            "marker": {
             "colorbar": {
              "outlinewidth": 0,
              "ticks": ""
             }
            },
            "type": "scattergeo"
           }
          ],
          "scattergl": [
           {
            "marker": {
             "colorbar": {
              "outlinewidth": 0,
              "ticks": ""
             }
            },
            "type": "scattergl"
           }
          ],
          "scattermapbox": [
           {
            "marker": {
             "colorbar": {
              "outlinewidth": 0,
              "ticks": ""
             }
            },
            "type": "scattermapbox"
           }
          ],
          "scatterpolar": [
           {
            "marker": {
             "colorbar": {
              "outlinewidth": 0,
              "ticks": ""
             }
            },
            "type": "scatterpolar"
           }
          ],
          "scatterpolargl": [
           {
            "marker": {
             "colorbar": {
              "outlinewidth": 0,
              "ticks": ""
             }
            },
            "type": "scatterpolargl"
           }
          ],
          "scatterternary": [
           {
            "marker": {
             "colorbar": {
              "outlinewidth": 0,
              "ticks": ""
             }
            },
            "type": "scatterternary"
           }
          ],
          "surface": [
           {
            "colorbar": {
             "outlinewidth": 0,
             "ticks": ""
            },
            "colorscale": [
             [
              0,
              "#0d0887"
             ],
             [
              0.1111111111111111,
              "#46039f"
             ],
             [
              0.2222222222222222,
              "#7201a8"
             ],
             [
              0.3333333333333333,
              "#9c179e"
             ],
             [
              0.4444444444444444,
              "#bd3786"
             ],
             [
              0.5555555555555556,
              "#d8576b"
             ],
             [
              0.6666666666666666,
              "#ed7953"
             ],
             [
              0.7777777777777778,
              "#fb9f3a"
             ],
             [
              0.8888888888888888,
              "#fdca26"
             ],
             [
              1,
              "#f0f921"
             ]
            ],
            "type": "surface"
           }
          ],
          "table": [
           {
            "cells": {
             "fill": {
              "color": "#EBF0F8"
             },
             "line": {
              "color": "white"
             }
            },
            "header": {
             "fill": {
              "color": "#C8D4E3"
             },
             "line": {
              "color": "white"
             }
            },
            "type": "table"
           }
          ]
         },
         "layout": {
          "annotationdefaults": {
           "arrowcolor": "#2a3f5f",
           "arrowhead": 0,
           "arrowwidth": 1
          },
          "autotypenumbers": "strict",
          "coloraxis": {
           "colorbar": {
            "outlinewidth": 0,
            "ticks": ""
           }
          },
          "colorscale": {
           "diverging": [
            [
             0,
             "#8e0152"
            ],
            [
             0.1,
             "#c51b7d"
            ],
            [
             0.2,
             "#de77ae"
            ],
            [
             0.3,
             "#f1b6da"
            ],
            [
             0.4,
             "#fde0ef"
            ],
            [
             0.5,
             "#f7f7f7"
            ],
            [
             0.6,
             "#e6f5d0"
            ],
            [
             0.7,
             "#b8e186"
            ],
            [
             0.8,
             "#7fbc41"
            ],
            [
             0.9,
             "#4d9221"
            ],
            [
             1,
             "#276419"
            ]
           ],
           "sequential": [
            [
             0,
             "#0d0887"
            ],
            [
             0.1111111111111111,
             "#46039f"
            ],
            [
             0.2222222222222222,
             "#7201a8"
            ],
            [
             0.3333333333333333,
             "#9c179e"
            ],
            [
             0.4444444444444444,
             "#bd3786"
            ],
            [
             0.5555555555555556,
             "#d8576b"
            ],
            [
             0.6666666666666666,
             "#ed7953"
            ],
            [
             0.7777777777777778,
             "#fb9f3a"
            ],
            [
             0.8888888888888888,
             "#fdca26"
            ],
            [
             1,
             "#f0f921"
            ]
           ],
           "sequentialminus": [
            [
             0,
             "#0d0887"
            ],
            [
             0.1111111111111111,
             "#46039f"
            ],
            [
             0.2222222222222222,
             "#7201a8"
            ],
            [
             0.3333333333333333,
             "#9c179e"
            ],
            [
             0.4444444444444444,
             "#bd3786"
            ],
            [
             0.5555555555555556,
             "#d8576b"
            ],
            [
             0.6666666666666666,
             "#ed7953"
            ],
            [
             0.7777777777777778,
             "#fb9f3a"
            ],
            [
             0.8888888888888888,
             "#fdca26"
            ],
            [
             1,
             "#f0f921"
            ]
           ]
          },
          "colorway": [
           "#636efa",
           "#EF553B",
           "#00cc96",
           "#ab63fa",
           "#FFA15A",
           "#19d3f3",
           "#FF6692",
           "#B6E880",
           "#FF97FF",
           "#FECB52"
          ],
          "font": {
           "color": "#2a3f5f"
          },
          "geo": {
           "bgcolor": "white",
           "lakecolor": "white",
           "landcolor": "#E5ECF6",
           "showlakes": true,
           "showland": true,
           "subunitcolor": "white"
          },
          "hoverlabel": {
           "align": "left"
          },
          "hovermode": "closest",
          "mapbox": {
           "style": "light"
          },
          "paper_bgcolor": "white",
          "plot_bgcolor": "#E5ECF6",
          "polar": {
           "angularaxis": {
            "gridcolor": "white",
            "linecolor": "white",
            "ticks": ""
           },
           "bgcolor": "#E5ECF6",
           "radialaxis": {
            "gridcolor": "white",
            "linecolor": "white",
            "ticks": ""
           }
          },
          "scene": {
           "xaxis": {
            "backgroundcolor": "#E5ECF6",
            "gridcolor": "white",
            "gridwidth": 2,
            "linecolor": "white",
            "showbackground": true,
            "ticks": "",
            "zerolinecolor": "white"
           },
           "yaxis": {
            "backgroundcolor": "#E5ECF6",
            "gridcolor": "white",
            "gridwidth": 2,
            "linecolor": "white",
            "showbackground": true,
            "ticks": "",
            "zerolinecolor": "white"
           },
           "zaxis": {
            "backgroundcolor": "#E5ECF6",
            "gridcolor": "white",
            "gridwidth": 2,
            "linecolor": "white",
            "showbackground": true,
            "ticks": "",
            "zerolinecolor": "white"
           }
          },
          "shapedefaults": {
           "line": {
            "color": "#2a3f5f"
           }
          },
          "ternary": {
           "aaxis": {
            "gridcolor": "white",
            "linecolor": "white",
            "ticks": ""
           },
           "baxis": {
            "gridcolor": "white",
            "linecolor": "white",
            "ticks": ""
           },
           "bgcolor": "#E5ECF6",
           "caxis": {
            "gridcolor": "white",
            "linecolor": "white",
            "ticks": ""
           }
          },
          "title": {
           "x": 0.05
          },
          "xaxis": {
           "automargin": true,
           "gridcolor": "white",
           "linecolor": "white",
           "ticks": "",
           "title": {
            "standoff": 15
           },
           "zerolinecolor": "white",
           "zerolinewidth": 2
          },
          "yaxis": {
           "automargin": true,
           "gridcolor": "white",
           "linecolor": "white",
           "ticks": "",
           "title": {
            "standoff": 15
           },
           "zerolinecolor": "white",
           "zerolinewidth": 2
          }
         }
        }
       }
      }
     },
     "metadata": {},
     "output_type": "display_data"
    }
   ],
   "source": [
    "df.groupBy(df['verification_status'])\\\n",
    "    .count()\\\n",
    "    .to_pandas_on_spark(index_col=['verification_status'])\\\n",
    "    .plot.pie(y='count')"
   ]
  },
  {
   "attachments": {},
   "cell_type": "markdown",
   "metadata": {},
   "source": [
    "=> Evenly distributed `verfication_status` accross all accounts "
   ]
  },
  {
   "attachments": {},
   "cell_type": "markdown",
   "metadata": {},
   "source": [
    "Let's see the relationship between the number of personal finance inquiries (`inq_fi`) and default rate"
   ]
  },
  {
   "cell_type": "code",
   "execution_count": 48,
   "metadata": {},
   "outputs": [
    {
     "data": {
      "text/plain": [
       "0"
      ]
     },
     "execution_count": 48,
     "metadata": {},
     "output_type": "execute_result"
    }
   ],
   "source": [
    "df.filter(df['inq_fi'].isNotNull() & (df['default_ind'] == 1)).count()"
   ]
  },
  {
   "attachments": {},
   "cell_type": "markdown",
   "metadata": {},
   "source": [
    "=> All the borrowers with a record of personal finance inquiries virtually not default. If this field is `null`, it indicate that the borrowers never inquiries any personal finance advice from this firm."
   ]
  },
  {
   "attachments": {},
   "cell_type": "markdown",
   "metadata": {},
   "source": [
    "Because of the high volume of missing values, this column will be dropped"
   ]
  },
  {
   "cell_type": "code",
   "execution_count": 49,
   "metadata": {},
   "outputs": [],
   "source": [
    "df = df.drop('inq_fi')"
   ]
  },
  {
   "attachments": {},
   "cell_type": "markdown",
   "metadata": {},
   "source": [
    "Next, let's see the relationship between the number of credit inquiries in the last 12 months (`inq_last_12m`) and default rate"
   ]
  },
  {
   "cell_type": "code",
   "execution_count": 50,
   "metadata": {},
   "outputs": [
    {
     "name": "stdout",
     "output_type": "stream",
     "text": [
      "+---------+-----------+----------+--------+-----------+-----+----------+--------------+----------+-------------------+------------------+-----+-----------+--------------+----------------------+----------------------+--------+-------+---------+----------+---------+-------------------+---------+-----------+---------------+---------------+-------------+------------------+----------+-----------------------+---------------+--------------------------+---------------------------+----------------+--------------+------------+-----------+-----------+----------+-----------+-----------+------------------+------------+-------+-----------+-----------+----------+--------+----------------+-----------+------------+-----------+\n",
      "|loan_amnt|funded_amnt|      term|int_rate|installment|grade|emp_length|home_ownership|annual_inc|verification_status|           purpose|  dti|delinq_2yrs|inq_last_6mths|mths_since_last_delinq|mths_since_last_record|open_acc|pub_rec|revol_bal|revol_util|total_acc|initial_list_status|out_prncp|total_pymnt|total_pymnt_inv|total_rec_prncp|total_rec_int|total_rec_late_fee|recoveries|collection_recovery_fee|last_pymnt_amnt|collections_12_mths_ex_med|mths_since_last_major_derog|application_type|acc_now_delinq|tot_coll_amt|tot_cur_bal|open_acc_6m|open_il_6m|open_il_12m|open_il_24m|mths_since_rcnt_il|total_bal_il|il_util|open_rv_12m|open_rv_24m|max_bal_bc|all_util|total_rev_hi_lim|total_cu_tl|inq_last_12m|default_ind|\n",
      "+---------+-----------+----------+--------+-----------+-----+----------+--------------+----------+-------------------+------------------+-----+-----------+--------------+----------------------+----------------------+--------+-------+---------+----------+---------+-------------------+---------+-----------+---------------+---------------+-------------+------------------+----------+-----------------------+---------------+--------------------------+---------------------------+----------------+--------------+------------+-----------+-----------+----------+-----------+-----------+------------------+------------+-------+-----------+-----------+----------+--------+----------------+-----------+------------+-----------+\n",
      "|     8000|       8000| 36 months|   14.48|     275.29|    C| 10+ years|      MORTGAGE|  115000.0|           Verified|debt_consolidation|17.11|          0|             4|                  null|                    88|      25|      1|    15124|      26.4|       36|                  w|   8000.0|        0.0|            0.0|            0.0|          0.0|               0.0|       0.0|                    0.0|            0.0|                         0|                       null|      INDIVIDUAL|             0|           0|     399684|          5|         5|          1|          4|                11|       46560|   66.5|          5|         12|      4527|    48.5|           57200|          1|          32|          0|\n",
      "|    10000|      10000| 36 months|   12.59|     334.97|    C|   3 years|      MORTGAGE|  150000.0|       Not Verified|               car| 15.7|          0|             5|                  null|                    61|      17|      3|     8388|      38.1|       32|                  w|  10000.0|        0.0|            0.0|            0.0|          0.0|               0.0|       0.0|                    0.0|            0.0|                         0|                       null|      INDIVIDUAL|             0|           0|     211397|          3|         3|          1|          3|                 8|       76367|   81.4|          4|          9|      3294|    51.4|           22000|          0|          25|          0|\n",
      "|    16000|      16000| 60 months|   14.48|     376.29|    C|   7 years|      MORTGAGE|  215000.0|           Verified|    major_purchase|11.14|          1|             3|                    23|                    97|      20|      1|    10235|      20.3|       58|                  w|  16000.0|        0.0|            0.0|            0.0|          0.0|               0.0|       0.0|                    0.0|            0.0|                         0|                       null|      INDIVIDUAL|             0|           0|     355620|          5|         2|          4|          6|                 7|       97434|   86.0|          6|          7|      1991|    47.5|           50147|          4|          25|          0|\n",
      "|    20000|      20000| 60 months|   19.99|     529.77|    E|   4 years|          RENT|   50000.0|           Verified|debt_consolidation|12.39|          0|             5|                    51|                  null|      14|      0|     8829|      16.3|       22|                  w|  20000.0|        0.0|            0.0|            0.0|          0.0|               0.0|       0.0|                    0.0|            0.0|                         0|                       null|      INDIVIDUAL|             0|           0|      27687|          0|         3|          0|          0|                62|       18858|   73.1|          2|          3|      4600|    34.7|           54000|          0|          24|          0|\n",
      "|     2875|       2875| 36 months|   16.99|     102.49|    D| 10+ years|      MORTGAGE|  143000.0|    Source Verified|debt_consolidation|14.96|          0|             2|                    69|                    76|      15|      1|     3003|      34.1|       41|                  w|   2875.0|        0.0|            0.0|            0.0|          0.0|               0.0|       0.0|                    0.0|            0.0|                         0|                         76|      INDIVIDUAL|             0|         162|     195449|          2|         5|          7|         11|                 2|       56603|   82.2|          3|          8|       151|    76.7|            8800|          5|          22|          0|\n",
      "|    16000|      16000| 60 months|    18.2|     408.04|    E| 10+ years|      MORTGAGE|   67000.0|    Source Verified|debt_consolidation|28.37|          2|             1|                    16|                  null|      17|      0|    19637|      61.2|       46|                  w|  16000.0|        0.0|            0.0|            0.0|          0.0|               0.0|       0.0|                    0.0|            0.0|                         0|                         43|      INDIVIDUAL|             0|           0|      63507|          4|         2|          3|          4|                 5|       43870|   93.5|          2|          8|      1407|    80.4|           32100|          1|          21|          0|\n",
      "|    20800|      20800| 60 months|   11.22|     454.53|    B|   2 years|      MORTGAGE|   85000.0|           Verified|debt_consolidation|26.12|          0|             5|                    42|                  null|      30|      0|    43316|      53.1|       65|                  w|  20800.0|        0.0|            0.0|            0.0|          0.0|               0.0|       0.0|                    0.0|            0.0|                         0|                         42|      INDIVIDUAL|             0|           0|     217666|          6|         9|          4|          5|                 2|       96926|   78.1|          4|          8|      6795|    68.2|           81600|          0|          21|          0|\n",
      "|    35000|      35000| 36 months|   14.48|     1204.4|    C|   2 years|      MORTGAGE|  300000.0|           Verified|debt_consolidation|25.78|          1|             0|                    20|                  null|      10|      0|   273361|      93.4|       35|                  w|  35000.0|        0.0|            0.0|            0.0|          0.0|               0.0|       0.0|                    0.0|            0.0|                         0|                         20|      INDIVIDUAL|             0|           0|     993549|          1|         3|          1|          1|                 6|       88170|   null|          0|          0|     19922|    93.4|          350300|          0|          20|          0|\n",
      "|    16800|      16800| 60 months|   20.99|     454.41|    E|   8 years|          RENT|   50000.0|       Not Verified|       credit_card|24.56|          0|             2|                    46|                    81|      13|      1|    15915|      53.8|       29|                  w| 16639.45|     434.82|         434.82|         160.55|       274.27|               0.0|       0.0|                    0.0|         454.41|                         0|                       null|      INDIVIDUAL|             0|         672|      80034|          1|         3|          1|          3|                12|       64119|   53.3|          2|          7|      3922|    53.6|           29600|          0|          20|          0|\n",
      "|     8400|       8400| 36 months|   15.41|     292.88|    D| 10+ years|      MORTGAGE|   52800.0|           Verified|debt_consolidation|27.89|          0|             1|                    37|                  null|      13|      0|     8786|      36.0|       37|                  w|   8400.0|        0.0|            0.0|            0.0|          0.0|               0.0|       0.0|                    0.0|            0.0|                         0|                         65|      INDIVIDUAL|             0|         245|     258531|          1|         2|          1|          3|                12|       35529|   81.5|          3|          7|      3057|    65.2|           24400|          3|          20|          0|\n",
      "|    15750|      15750| 36 months|    18.2|     570.99|    E|  < 1 year|           OWN|   47000.0|    Source Verified|debt_consolidation|17.31|          0|             1|                  null|                    54|       6|      2|     4209|      66.8|       19|                  f| 15417.89|     555.07|         555.07|         332.12|       222.96|               0.0|       0.0|                    0.0|         570.99|                         0|                       null|      INDIVIDUAL|             0|           0|      26681|          0|         2|          1|          2|                12|       22472|   82.9|          0|          3|      2470|    79.9|            6300|          0|          20|          0|\n",
      "|    10950|      10950| 36 months|   19.48|     404.05|    E|   3 years|          RENT|   60000.0|    Source Verified|debt_consolidation|18.38|          0|             2|                    72|                    66|       6|      2|    10502|      65.6|       17|                  w|  10141.9|      808.1|          808.1|          808.1|          0.0|               0.0|       0.0|                    0.0|          808.1|                         0|                         72|      INDIVIDUAL|             0|        3400|      44181|          0|         1|          2|          2|                 8|       33679|   null|          3|          4|      4138|    65.6|           16000|          0|          19|          0|\n",
      "|    21000|      21000| 36 months|   16.99|     748.61|    D|    1 year|      MORTGAGE|  185000.0|           Verified|debt_consolidation|21.54|          2|             4|                    17|                  null|      15|      0|    21692|      73.5|       48|                  w|      0.0|   21138.76|       21138.76|        21000.0|       138.76|               0.0|       0.0|                    0.0|       21188.31|                         0|                         17|      INDIVIDUAL|             0|           0|     458681|          2|         5|          1|          3|                11|       67210|   75.0|          5|          8|      5549|    74.2|           29500|          0|          19|          0|\n",
      "|    21000|      21000| 60 months|   16.55|     516.84|    D|  < 1 year|           OWN|  110000.0|           Verified|  home_improvement|20.13|          0|             4|                  null|                  null|      31|      0|    25891|      19.7|       56|                  w|  21000.0|        0.0|            0.0|            0.0|          0.0|               0.0|       0.0|                    0.0|            0.0|                         0|                       null|      INDIVIDUAL|             0|           0|     274894|          8|         2|          3|          6|                 3|       67581|   93.6|         11|         18|      3238|    32.4|          131400|          8|          19|          0|\n",
      "|     2800|       2800| 36 months|   13.67|      95.25|    C|   2 years|          RENT|   45000.0|    Source Verified|debt_consolidation| 19.2|          1|             2|                    13|                  null|      12|      0|     3200|      40.0|       21|                  w|   2800.0|        0.0|            0.0|            0.0|          0.0|               0.0|       0.0|                    0.0|            0.0|                         0|                       null|      INDIVIDUAL|             0|           0|      53941|          2|         8|          2|          2|                 7|       50741|   99.8|          2|          3|      1711|    91.7|            8000|          7|          19|          0|\n",
      "|    18000|      18000| 60 months|   16.55|     443.01|    D|   7 years|      MORTGAGE|  105000.0|           Verified|       credit_card|14.02|          0|             5|                    66|                    67|      17|      2|     9097|      35.5|       63|                  w| 17805.24|     426.46|         426.46|         194.76|        231.7|               0.0|       0.0|                    0.0|         443.01|                         0|                       null|      INDIVIDUAL|             0|         350|     251088|          4|         3|          1|          2|                 5|       53386|   80.7|          6|          9|      3033|    68.1|           25600|          0|          19|          0|\n",
      "|     7200|       7200| 36 months|   13.44|     244.13|    C|   2 years|          RENT|   57000.0|    Source Verified|debt_consolidation|24.36|          0|             3|                    39|                  null|       8|      0|     1241|      35.5|       11|                  w|   7200.0|        0.0|            0.0|            0.0|          0.0|               0.0|       0.0|                    0.0|            0.0|                         0|                         39|      INDIVIDUAL|             0|        2607|      55917|          2|         3|          0|          2|                16|       54676|   80.9|          3|          5|       967|    78.7|            3500|          1|          18|          0|\n",
      "|    27000|      27000| 36 months|   18.99|     989.58|    E|   3 years|      MORTGAGE|   65000.0|           Verified|    major_purchase| 21.8|          2|             0|                    13|                  null|      17|      0|     7009|      38.1|       35|                  w|  27000.0|        0.0|            0.0|            0.0|          0.0|               0.0|       0.0|                    0.0|            0.0|                         0|                         13|      INDIVIDUAL|             0|         532|     153974|          1|         3|          1|          2|                 6|       49844|   93.9|          1|         10|      3744|    79.5|           18400|          2|          18|          0|\n",
      "|    24000|      24000| 60 months|   19.89|     634.39|    E|   6 years|      MORTGAGE|  134000.0|           Verified|debt_consolidation|10.85|          0|             2|                  null|                    70|      12|      1|    15912|      34.1|       25|                  w|  24000.0|        0.0|            0.0|            0.0|          0.0|               0.0|       0.0|                    0.0|            0.0|                         0|                       null|      INDIVIDUAL|             0|           0|     318185|          4|         2|          3|          3|                 7|       37005|   80.2|          6|         10|      9547|    47.6|           46600|          0|          17|          0|\n",
      "|    17000|      17000| 60 months|   22.99|     479.15|    F|   3 years|      MORTGAGE|  107000.0|    Source Verified|debt_consolidation|18.56|          0|             1|                    45|                  null|      21|      0|    12085|      50.4|       28|                  f| 16846.54|     435.72|         432.52|         153.46|       282.26|               0.0|       0.0|                    0.0|         479.15|                         0|                       null|      INDIVIDUAL|             0|        2360|     357256|          3|         8|          4|          6|                 2|       89222|   91.9|          1|          2|      3507|    83.6|           24000|          0|          17|          0|\n",
      "+---------+-----------+----------+--------+-----------+-----+----------+--------------+----------+-------------------+------------------+-----+-----------+--------------+----------------------+----------------------+--------+-------+---------+----------+---------+-------------------+---------+-----------+---------------+---------------+-------------+------------------+----------+-----------------------+---------------+--------------------------+---------------------------+----------------+--------------+------------+-----------+-----------+----------+-----------+-----------+------------------+------------+-------+-----------+-----------+----------+--------+----------------+-----------+------------+-----------+\n",
      "only showing top 20 rows\n",
      "\n"
     ]
    },
    {
     "name": "stderr",
     "output_type": "stream",
     "text": [
      "                                                                                \r"
     ]
    }
   ],
   "source": [
    "df.filter(df['inq_last_12m'].isNotNull()).sort('inq_last_12m', ascending=False).show()"
   ]
  },
  {
   "cell_type": "code",
   "execution_count": 51,
   "metadata": {},
   "outputs": [
    {
     "data": {
      "text/plain": [
       "0"
      ]
     },
     "execution_count": 51,
     "metadata": {},
     "output_type": "execute_result"
    }
   ],
   "source": [
    "df.filter(df['inq_last_12m'].isNotNull() & (df['default_ind'] == 1)).sort('inq_last_12m', ascending=False).count()"
   ]
  },
  {
   "attachments": {},
   "cell_type": "markdown",
   "metadata": {},
   "source": [
    "In real life, higher number of number of credit inquiries will result in lower result credit, making this loan has a higher chance of default (https://www.canstar.com.au/credit-score/do-credit-checks-affect-your-credit-score/). However it is the opposite with this dataset, as more credit inquiries result in no default rate!"
   ]
  },
  {
   "cell_type": "code",
   "execution_count": 52,
   "metadata": {},
   "outputs": [
    {
     "data": {
      "text/plain": [
       "22935"
      ]
     },
     "execution_count": 52,
     "metadata": {},
     "output_type": "execute_result"
    }
   ],
   "source": [
    "df.filter((df['inq_last_6mths'] != 0) & (df['default_ind'] == 1)).sort('inq_last_6mths', ascending=False).count()"
   ]
  },
  {
   "cell_type": "code",
   "execution_count": 53,
   "metadata": {},
   "outputs": [
    {
     "data": {
      "text/plain": [
       "348439"
      ]
     },
     "execution_count": 53,
     "metadata": {},
     "output_type": "execute_result"
    }
   ],
   "source": [
    "df.filter((df['inq_last_6mths'] != 0)).count()"
   ]
  },
  {
   "attachments": {},
   "cell_type": "markdown",
   "metadata": {},
   "source": [
    "On the other hand, for the `inq_last_6mths` values that not 0, a portion of the data does end up as default. Therefore this column should be kept as it would be a good weight for our ML model, whilst the `inq_last_12m` will be dropped"
   ]
  },
  {
   "cell_type": "code",
   "execution_count": 54,
   "metadata": {},
   "outputs": [],
   "source": [
    "df = df.drop('inq_last_12m')"
   ]
  },
  {
   "attachments": {},
   "cell_type": "markdown",
   "metadata": {},
   "source": [
    "For the rest of the high number of missing values columns, they will also be dropped."
   ]
  },
  {
   "cell_type": "code",
   "execution_count": 55,
   "metadata": {},
   "outputs": [],
   "source": [
    "df = df.drop('open_acc_6m', 'open_il_6m', 'open_il_12m', 'open_il_24m', 'mths_since_rcnt_il', 'total_bal_il', 'il_util', 'open_rv_12m', 'open_rv_24m', 'max_bal_bc', 'all_util', 'total_cu_tl', 'mths_since_last_delinq', 'mths_since_last_record', 'mths_since_last_major_derog')"
   ]
  },
  {
   "cell_type": "code",
   "execution_count": 56,
   "metadata": {},
   "outputs": [
    {
     "data": {
      "text/plain": [
       "{'loan_amnt': 0,\n",
       " 'funded_amnt': 0,\n",
       " 'term': 0,\n",
       " 'int_rate': 0,\n",
       " 'installment': 0,\n",
       " 'grade': 0,\n",
       " 'emp_length': 0,\n",
       " 'home_ownership': 0,\n",
       " 'annual_inc': 0,\n",
       " 'verification_status': 0,\n",
       " 'purpose': 0,\n",
       " 'dti': 0,\n",
       " 'delinq_2yrs': 0,\n",
       " 'inq_last_6mths': 0,\n",
       " 'open_acc': 0,\n",
       " 'pub_rec': 0,\n",
       " 'revol_bal': 0,\n",
       " 'revol_util': 401,\n",
       " 'total_acc': 0,\n",
       " 'initial_list_status': 0,\n",
       " 'out_prncp': 0,\n",
       " 'total_pymnt': 0,\n",
       " 'total_pymnt_inv': 0,\n",
       " 'total_rec_prncp': 0,\n",
       " 'total_rec_int': 0,\n",
       " 'total_rec_late_fee': 0,\n",
       " 'recoveries': 0,\n",
       " 'collection_recovery_fee': 0,\n",
       " 'last_pymnt_amnt': 0,\n",
       " 'collections_12_mths_ex_med': 34,\n",
       " 'application_type': 0,\n",
       " 'acc_now_delinq': 0,\n",
       " 'tot_coll_amt': 45453,\n",
       " 'tot_cur_bal': 45453,\n",
       " 'total_rev_hi_lim': 45453,\n",
       " 'default_ind': 0}"
      ]
     },
     "execution_count": 56,
     "metadata": {},
     "output_type": "execute_result"
    }
   ],
   "source": [
    "{col : df.filter(df[col].isNull()).count() for col in df.columns}"
   ]
  },
  {
   "attachments": {},
   "cell_type": "markdown",
   "metadata": {},
   "source": [
    "### Impute the remaining null data"
   ]
  },
  {
   "cell_type": "code",
   "execution_count": 57,
   "metadata": {},
   "outputs": [
    {
     "name": "stderr",
     "output_type": "stream",
     "text": [
      "                                                                                \r"
     ]
    }
   ],
   "source": [
    "from pyspark.ml.feature import Imputer\n",
    "imputer = Imputer(\n",
    "    inputCols=['tot_coll_amt', 'total_rev_hi_lim', 'tot_cur_bal', 'revol_util', 'collections_12_mths_ex_med'],\n",
    "    outputCols=['tot_coll_amt', 'total_rev_hi_lim', 'tot_cur_bal', 'revol_util', 'collections_12_mths_ex_med']\n",
    ")\n",
    "\n",
    "df = imputer.setStrategy(\"median\").fit(df).transform(df)"
   ]
  },
  {
   "cell_type": "code",
   "execution_count": 58,
   "metadata": {},
   "outputs": [
    {
     "name": "stdout",
     "output_type": "stream",
     "text": [
      "+---------+-----------+----------+--------+-----------+-----+----------+--------------+----------+-------------------+------------------+-----+-----------+--------------+--------+-------+---------+----------+---------+-------------------+---------+-----------+---------------+---------------+-------------+------------------+----------+-----------------------+---------------+--------------------------+----------------+--------------+------------+-----------+----------------+-----------+\n",
      "|loan_amnt|funded_amnt|      term|int_rate|installment|grade|emp_length|home_ownership|annual_inc|verification_status|           purpose|  dti|delinq_2yrs|inq_last_6mths|open_acc|pub_rec|revol_bal|revol_util|total_acc|initial_list_status|out_prncp|total_pymnt|total_pymnt_inv|total_rec_prncp|total_rec_int|total_rec_late_fee|recoveries|collection_recovery_fee|last_pymnt_amnt|collections_12_mths_ex_med|application_type|acc_now_delinq|tot_coll_amt|tot_cur_bal|total_rev_hi_lim|default_ind|\n",
      "+---------+-----------+----------+--------+-----------+-----+----------+--------------+----------+-------------------+------------------+-----+-----------+--------------+--------+-------+---------+----------+---------+-------------------+---------+-----------+---------------+---------------+-------------+------------------+----------+-----------------------+---------------+--------------------------+----------------+--------------+------------+-----------+----------------+-----------+\n",
      "|     5000|       5000| 36 months|   10.65|     162.87|    B| 10+ years|          RENT|   24000.0|           Verified|       credit_card|27.65|          0|             1|       3|      0|    13648|      83.7|        9|                  f|      0.0|5861.071414|        5831.78|         5000.0|       861.07|               0.0|       0.0|                    0.0|         171.62|                         0|      INDIVIDUAL|             0|           0|      80123|           23700|          0|\n",
      "|     2500|       2500| 60 months|   15.27|      59.83|    C|  < 1 year|          RENT|   30000.0|    Source Verified|               car|  1.0|          0|             5|       3|      0|     1687|       9.4|        4|                  f|      0.0|    1008.71|        1008.71|         456.46|       435.17|               0.0|    117.08|                   1.11|         119.66|                         0|      INDIVIDUAL|             0|           0|      80123|           23700|          1|\n",
      "|     2400|       2400| 36 months|   15.96|      84.33|    C| 10+ years|          RENT|   12252.0|       Not Verified|    small_business| 8.72|          0|             2|       2|      0|     2956|      98.5|       10|                  f|      0.0|3003.653644|        3003.65|         2400.0|       603.65|               0.0|       0.0|                    0.0|         649.91|                         0|      INDIVIDUAL|             0|           0|      80123|           23700|          0|\n",
      "|     5000|       5000| 36 months|     7.9|     156.46|    A|   3 years|          RENT|   36000.0|    Source Verified|           wedding| 11.2|          0|             3|       9|      0|     7963|      28.3|       12|                  f|      0.0|5631.377753|        5631.38|         5000.0|       631.38|               0.0|       0.0|                    0.0|         161.03|                         0|      INDIVIDUAL|             0|           0|      80123|           23700|          0|\n",
      "|     3000|       3000| 36 months|   18.64|     109.43|    E|   9 years|          RENT|   48000.0|    Source Verified|               car| 5.35|          0|             2|       4|      0|     8221|      87.5|        4|                  f|      0.0|3938.144334|        3938.14|         3000.0|       938.14|               0.0|       0.0|                    0.0|         111.34|                         0|      INDIVIDUAL|             0|           0|      80123|           23700|          0|\n",
      "|     5600|       5600| 60 months|   21.28|     152.39|    F|   4 years|           OWN|   40000.0|    Source Verified|    small_business| 5.55|          0|             2|      11|      0|     5210|      32.6|       13|                  f|      0.0|     646.02|         646.02|         162.02|       294.94|               0.0|    189.06|                   2.09|         152.39|                         0|      INDIVIDUAL|             0|           0|      80123|           23700|          1|\n",
      "|    12000|      12000| 36 months|   12.69|     402.54|    B| 10+ years|           OWN|   75000.0|    Source Verified|debt_consolidation|10.78|          0|             0|      12|      0|    23336|      67.1|       34|                  f|      0.0|   13943.08|       13943.08|        12000.0|      1943.08|               0.0|       0.0|                    0.0|         6315.3|                         0|      INDIVIDUAL|             0|           0|      80123|           23700|          0|\n",
      "|     9000|       9000| 36 months|   13.49|     305.38|    C|  < 1 year|          RENT|   30000.0|    Source Verified|debt_consolidation|10.08|          0|             1|       4|      0|    10452|      91.7|        9|                  f|      0.0|     2270.7|         2270.7|        1256.14|       570.26|               0.0|     444.3|                   4.16|         305.38|                         0|      INDIVIDUAL|             0|           0|      80123|           23700|          1|\n",
      "|    10000|      10000| 36 months|   10.65|     325.74|    B|   3 years|          RENT|  100000.0|    Source Verified|             other| 7.06|          0|             2|      14|      0|    11997|      55.5|       29|                  f|      0.0|    7471.99|        7471.99|        5433.47|      1393.42|               0.0|     645.1|                 6.3145|         325.74|                         0|      INDIVIDUAL|             0|           0|      80123|           23700|          1|\n",
      "|     1000|       1000| 36 months|   16.29|      35.31|    D|  < 1 year|          RENT|   28000.0|       Not Verified|debt_consolidation|20.31|          0|             1|      11|      0|     6524|      81.5|       23|                  f|      0.0|1270.171106|        1270.17|         1000.0|       270.17|               0.0|       0.0|                    0.0|          36.32|                         0|      INDIVIDUAL|             0|           0|      80123|           23700|          0|\n",
      "|    10000|      10000| 36 months|   15.27|     347.98|    C|   4 years|          RENT|   42000.0|       Not Verified|  home_improvement| 18.6|          0|             2|      14|      0|    24043|      70.2|       28|                  f|      0.0|12519.26045|       12519.26|        10000.0|      2519.26|               0.0|       0.0|                    0.0|         370.46|                         0|      INDIVIDUAL|             0|           0|      80123|           23700|          0|\n",
      "|     3600|       3600| 36 months|    6.03|     109.57|    A| 10+ years|      MORTGAGE|  110000.0|       Not Verified|    major_purchase|10.52|          0|             0|      20|      0|    22836|      16.0|       42|                  f|      0.0|    3785.02|        3785.02|         3600.0|       185.02|               0.0|       0.0|                    0.0|         583.45|                         0|      INDIVIDUAL|             0|           0|      80123|           23700|          0|\n",
      "|     6000|       6000| 36 months|   11.71|     198.46|    B|    1 year|      MORTGAGE|   84000.0|           Verified|           medical|18.44|          2|             0|       4|      0|        0|     37.73|       14|                  f|      0.0|7164.499852|         7164.5|         6000.0|       1149.5|              15.0|       0.0|                    0.0|          16.98|                         0|      INDIVIDUAL|             0|           0|      80123|           23700|          0|\n",
      "|     9200|       9200| 36 months|    6.03|     280.01|    A|   6 years|          RENT|  77385.19|       Not Verified|debt_consolidation| 9.86|          0|             0|       8|      0|     7314|      23.1|       28|                  f|      0.0|    9459.96|        9459.96|         9200.0|       259.96|               0.0|       0.0|                    0.0|         8061.1|                         0|      INDIVIDUAL|             0|           0|      80123|           23700|          0|\n",
      "|    21000|      21000| 36 months|   12.42|     701.73|    B| 10+ years|          RENT|  105000.0|           Verified|debt_consolidation|13.22|          0|             0|       7|      0|    32135|      90.3|       38|                  f|      0.0|    14025.4|        14025.4|       10694.96|      3330.44|               0.0|       0.0|                    0.0|         701.73|                         0|      INDIVIDUAL|             0|           0|      80123|           23700|          1|\n",
      "|    10000|      10000| 36 months|   11.71|     330.76|    B|   5 years|          RENT|   50000.0|       Not Verified|debt_consolidation|16.01|          0|             0|       6|      0|    17800|      91.8|       17|                  f|      0.0|   11536.31|       11536.31|        10000.0|      1536.31|               0.0|       0.0|                    0.0|        4942.63|                         0|      INDIVIDUAL|             0|           0|      80123|           23700|          0|\n",
      "|     6000|       6000| 36 months|   11.71|     198.46|    B|    1 year|          RENT|   76000.0|       Not Verified|    major_purchase|  2.4|          0|             1|       7|      0|     5963|      29.7|        7|                  f|      0.0|    2050.14|        2050.14|        1305.58|       475.25|               0.0|    269.31|                   2.57|         198.46|                         0|      INDIVIDUAL|             0|           0|      80123|           23700|          1|\n",
      "|    15000|      15000| 36 months|    9.91|     483.38|    B|   2 years|      MORTGAGE|   92000.0|           Verified|       credit_card|29.44|          0|             0|       8|      0|    13707|      93.9|       31|                  f|      0.0|   15823.48|       15823.48|        15000.0|       823.48|               0.0|       0.0|                    0.0|        2447.05|                         0|      INDIVIDUAL|             0|           0|      80123|           23700|          0|\n",
      "|    15000|      15000| 36 months|   14.27|     514.64|    C|   9 years|          RENT|   60000.0|       Not Verified|debt_consolidation|15.22|          0|             1|       7|      0|     5872|      57.6|       11|                  f|      0.0|        0.0|            0.0|            0.0|          0.0|               0.0|       0.0|                    0.0|            0.0|                         0|      INDIVIDUAL|             0|           0|      80123|           23700|          1|\n",
      "|     5000|       5000| 60 months|   16.77|     123.65|    D|   2 years|          RENT|   50004.0|       Not Verified|             other|13.97|          3|             0|      14|      0|     4345|      59.5|       22|                  f|      0.0|    1609.12|        1609.12|         629.05|       719.11|               0.0|    260.96|                    2.3|         123.65|                         0|      INDIVIDUAL|             0|           0|      80123|           23700|          1|\n",
      "+---------+-----------+----------+--------+-----------+-----+----------+--------------+----------+-------------------+------------------+-----+-----------+--------------+--------+-------+---------+----------+---------+-------------------+---------+-----------+---------------+---------------+-------------+------------------+----------+-----------------------+---------------+--------------------------+----------------+--------------+------------+-----------+----------------+-----------+\n",
      "only showing top 20 rows\n",
      "\n"
     ]
    }
   ],
   "source": [
    "df.show()"
   ]
  },
  {
   "cell_type": "code",
   "execution_count": 59,
   "metadata": {},
   "outputs": [
    {
     "data": {
      "application/vnd.plotly.v1+json": {
       "config": {
        "plotlyServerURL": "https://plot.ly"
       },
       "data": [
        {
         "domain": {
          "x": [
           0,
           1
          ],
          "y": [
           0,
           1
          ]
         },
         "hovertemplate": "emp_length=%{label}<br>count=%{value}<extra></extra>",
         "labels": [
          "9 years",
          "5 years",
          "1 year",
          "n/a",
          "2 years",
          "7 years",
          "8 years",
          "4 years",
          "6 years",
          "3 years",
          "10+ years",
          "< 1 year"
         ],
         "legendgroup": "",
         "name": "",
         "showlegend": true,
         "type": "pie",
         "values": [
          31620,
          49836,
          50893,
          41821,
          70536,
          40408,
          40112,
          47088,
          38313,
          62783,
          268127,
          62537
         ]
        }
       ],
       "layout": {
        "legend": {
         "tracegroupgap": 0
        },
        "margin": {
         "t": 60
        },
        "template": {
         "data": {
          "bar": [
           {
            "error_x": {
             "color": "#2a3f5f"
            },
            "error_y": {
             "color": "#2a3f5f"
            },
            "marker": {
             "line": {
              "color": "#E5ECF6",
              "width": 0.5
             },
             "pattern": {
              "fillmode": "overlay",
              "size": 10,
              "solidity": 0.2
             }
            },
            "type": "bar"
           }
          ],
          "barpolar": [
           {
            "marker": {
             "line": {
              "color": "#E5ECF6",
              "width": 0.5
             },
             "pattern": {
              "fillmode": "overlay",
              "size": 10,
              "solidity": 0.2
             }
            },
            "type": "barpolar"
           }
          ],
          "carpet": [
           {
            "aaxis": {
             "endlinecolor": "#2a3f5f",
             "gridcolor": "white",
             "linecolor": "white",
             "minorgridcolor": "white",
             "startlinecolor": "#2a3f5f"
            },
            "baxis": {
             "endlinecolor": "#2a3f5f",
             "gridcolor": "white",
             "linecolor": "white",
             "minorgridcolor": "white",
             "startlinecolor": "#2a3f5f"
            },
            "type": "carpet"
           }
          ],
          "choropleth": [
           {
            "colorbar": {
             "outlinewidth": 0,
             "ticks": ""
            },
            "type": "choropleth"
           }
          ],
          "contour": [
           {
            "colorbar": {
             "outlinewidth": 0,
             "ticks": ""
            },
            "colorscale": [
             [
              0,
              "#0d0887"
             ],
             [
              0.1111111111111111,
              "#46039f"
             ],
             [
              0.2222222222222222,
              "#7201a8"
             ],
             [
              0.3333333333333333,
              "#9c179e"
             ],
             [
              0.4444444444444444,
              "#bd3786"
             ],
             [
              0.5555555555555556,
              "#d8576b"
             ],
             [
              0.6666666666666666,
              "#ed7953"
             ],
             [
              0.7777777777777778,
              "#fb9f3a"
             ],
             [
              0.8888888888888888,
              "#fdca26"
             ],
             [
              1,
              "#f0f921"
             ]
            ],
            "type": "contour"
           }
          ],
          "contourcarpet": [
           {
            "colorbar": {
             "outlinewidth": 0,
             "ticks": ""
            },
            "type": "contourcarpet"
           }
          ],
          "heatmap": [
           {
            "colorbar": {
             "outlinewidth": 0,
             "ticks": ""
            },
            "colorscale": [
             [
              0,
              "#0d0887"
             ],
             [
              0.1111111111111111,
              "#46039f"
             ],
             [
              0.2222222222222222,
              "#7201a8"
             ],
             [
              0.3333333333333333,
              "#9c179e"
             ],
             [
              0.4444444444444444,
              "#bd3786"
             ],
             [
              0.5555555555555556,
              "#d8576b"
             ],
             [
              0.6666666666666666,
              "#ed7953"
             ],
             [
              0.7777777777777778,
              "#fb9f3a"
             ],
             [
              0.8888888888888888,
              "#fdca26"
             ],
             [
              1,
              "#f0f921"
             ]
            ],
            "type": "heatmap"
           }
          ],
          "heatmapgl": [
           {
            "colorbar": {
             "outlinewidth": 0,
             "ticks": ""
            },
            "colorscale": [
             [
              0,
              "#0d0887"
             ],
             [
              0.1111111111111111,
              "#46039f"
             ],
             [
              0.2222222222222222,
              "#7201a8"
             ],
             [
              0.3333333333333333,
              "#9c179e"
             ],
             [
              0.4444444444444444,
              "#bd3786"
             ],
             [
              0.5555555555555556,
              "#d8576b"
             ],
             [
              0.6666666666666666,
              "#ed7953"
             ],
             [
              0.7777777777777778,
              "#fb9f3a"
             ],
             [
              0.8888888888888888,
              "#fdca26"
             ],
             [
              1,
              "#f0f921"
             ]
            ],
            "type": "heatmapgl"
           }
          ],
          "histogram": [
           {
            "marker": {
             "pattern": {
              "fillmode": "overlay",
              "size": 10,
              "solidity": 0.2
             }
            },
            "type": "histogram"
           }
          ],
          "histogram2d": [
           {
            "colorbar": {
             "outlinewidth": 0,
             "ticks": ""
            },
            "colorscale": [
             [
              0,
              "#0d0887"
             ],
             [
              0.1111111111111111,
              "#46039f"
             ],
             [
              0.2222222222222222,
              "#7201a8"
             ],
             [
              0.3333333333333333,
              "#9c179e"
             ],
             [
              0.4444444444444444,
              "#bd3786"
             ],
             [
              0.5555555555555556,
              "#d8576b"
             ],
             [
              0.6666666666666666,
              "#ed7953"
             ],
             [
              0.7777777777777778,
              "#fb9f3a"
             ],
             [
              0.8888888888888888,
              "#fdca26"
             ],
             [
              1,
              "#f0f921"
             ]
            ],
            "type": "histogram2d"
           }
          ],
          "histogram2dcontour": [
           {
            "colorbar": {
             "outlinewidth": 0,
             "ticks": ""
            },
            "colorscale": [
             [
              0,
              "#0d0887"
             ],
             [
              0.1111111111111111,
              "#46039f"
             ],
             [
              0.2222222222222222,
              "#7201a8"
             ],
             [
              0.3333333333333333,
              "#9c179e"
             ],
             [
              0.4444444444444444,
              "#bd3786"
             ],
             [
              0.5555555555555556,
              "#d8576b"
             ],
             [
              0.6666666666666666,
              "#ed7953"
             ],
             [
              0.7777777777777778,
              "#fb9f3a"
             ],
             [
              0.8888888888888888,
              "#fdca26"
             ],
             [
              1,
              "#f0f921"
             ]
            ],
            "type": "histogram2dcontour"
           }
          ],
          "mesh3d": [
           {
            "colorbar": {
             "outlinewidth": 0,
             "ticks": ""
            },
            "type": "mesh3d"
           }
          ],
          "parcoords": [
           {
            "line": {
             "colorbar": {
              "outlinewidth": 0,
              "ticks": ""
             }
            },
            "type": "parcoords"
           }
          ],
          "pie": [
           {
            "automargin": true,
            "type": "pie"
           }
          ],
          "scatter": [
           {
            "fillpattern": {
             "fillmode": "overlay",
             "size": 10,
             "solidity": 0.2
            },
            "type": "scatter"
           }
          ],
          "scatter3d": [
           {
            "line": {
             "colorbar": {
              "outlinewidth": 0,
              "ticks": ""
             }
            },
            "marker": {
             "colorbar": {
              "outlinewidth": 0,
              "ticks": ""
             }
            },
            "type": "scatter3d"
           }
          ],
          "scattercarpet": [
           {
            "marker": {
             "colorbar": {
              "outlinewidth": 0,
              "ticks": ""
             }
            },
            "type": "scattercarpet"
           }
          ],
          "scattergeo": [
           {
            "marker": {
             "colorbar": {
              "outlinewidth": 0,
              "ticks": ""
             }
            },
            "type": "scattergeo"
           }
          ],
          "scattergl": [
           {
            "marker": {
             "colorbar": {
              "outlinewidth": 0,
              "ticks": ""
             }
            },
            "type": "scattergl"
           }
          ],
          "scattermapbox": [
           {
            "marker": {
             "colorbar": {
              "outlinewidth": 0,
              "ticks": ""
             }
            },
            "type": "scattermapbox"
           }
          ],
          "scatterpolar": [
           {
            "marker": {
             "colorbar": {
              "outlinewidth": 0,
              "ticks": ""
             }
            },
            "type": "scatterpolar"
           }
          ],
          "scatterpolargl": [
           {
            "marker": {
             "colorbar": {
              "outlinewidth": 0,
              "ticks": ""
             }
            },
            "type": "scatterpolargl"
           }
          ],
          "scatterternary": [
           {
            "marker": {
             "colorbar": {
              "outlinewidth": 0,
              "ticks": ""
             }
            },
            "type": "scatterternary"
           }
          ],
          "surface": [
           {
            "colorbar": {
             "outlinewidth": 0,
             "ticks": ""
            },
            "colorscale": [
             [
              0,
              "#0d0887"
             ],
             [
              0.1111111111111111,
              "#46039f"
             ],
             [
              0.2222222222222222,
              "#7201a8"
             ],
             [
              0.3333333333333333,
              "#9c179e"
             ],
             [
              0.4444444444444444,
              "#bd3786"
             ],
             [
              0.5555555555555556,
              "#d8576b"
             ],
             [
              0.6666666666666666,
              "#ed7953"
             ],
             [
              0.7777777777777778,
              "#fb9f3a"
             ],
             [
              0.8888888888888888,
              "#fdca26"
             ],
             [
              1,
              "#f0f921"
             ]
            ],
            "type": "surface"
           }
          ],
          "table": [
           {
            "cells": {
             "fill": {
              "color": "#EBF0F8"
             },
             "line": {
              "color": "white"
             }
            },
            "header": {
             "fill": {
              "color": "#C8D4E3"
             },
             "line": {
              "color": "white"
             }
            },
            "type": "table"
           }
          ]
         },
         "layout": {
          "annotationdefaults": {
           "arrowcolor": "#2a3f5f",
           "arrowhead": 0,
           "arrowwidth": 1
          },
          "autotypenumbers": "strict",
          "coloraxis": {
           "colorbar": {
            "outlinewidth": 0,
            "ticks": ""
           }
          },
          "colorscale": {
           "diverging": [
            [
             0,
             "#8e0152"
            ],
            [
             0.1,
             "#c51b7d"
            ],
            [
             0.2,
             "#de77ae"
            ],
            [
             0.3,
             "#f1b6da"
            ],
            [
             0.4,
             "#fde0ef"
            ],
            [
             0.5,
             "#f7f7f7"
            ],
            [
             0.6,
             "#e6f5d0"
            ],
            [
             0.7,
             "#b8e186"
            ],
            [
             0.8,
             "#7fbc41"
            ],
            [
             0.9,
             "#4d9221"
            ],
            [
             1,
             "#276419"
            ]
           ],
           "sequential": [
            [
             0,
             "#0d0887"
            ],
            [
             0.1111111111111111,
             "#46039f"
            ],
            [
             0.2222222222222222,
             "#7201a8"
            ],
            [
             0.3333333333333333,
             "#9c179e"
            ],
            [
             0.4444444444444444,
             "#bd3786"
            ],
            [
             0.5555555555555556,
             "#d8576b"
            ],
            [
             0.6666666666666666,
             "#ed7953"
            ],
            [
             0.7777777777777778,
             "#fb9f3a"
            ],
            [
             0.8888888888888888,
             "#fdca26"
            ],
            [
             1,
             "#f0f921"
            ]
           ],
           "sequentialminus": [
            [
             0,
             "#0d0887"
            ],
            [
             0.1111111111111111,
             "#46039f"
            ],
            [
             0.2222222222222222,
             "#7201a8"
            ],
            [
             0.3333333333333333,
             "#9c179e"
            ],
            [
             0.4444444444444444,
             "#bd3786"
            ],
            [
             0.5555555555555556,
             "#d8576b"
            ],
            [
             0.6666666666666666,
             "#ed7953"
            ],
            [
             0.7777777777777778,
             "#fb9f3a"
            ],
            [
             0.8888888888888888,
             "#fdca26"
            ],
            [
             1,
             "#f0f921"
            ]
           ]
          },
          "colorway": [
           "#636efa",
           "#EF553B",
           "#00cc96",
           "#ab63fa",
           "#FFA15A",
           "#19d3f3",
           "#FF6692",
           "#B6E880",
           "#FF97FF",
           "#FECB52"
          ],
          "font": {
           "color": "#2a3f5f"
          },
          "geo": {
           "bgcolor": "white",
           "lakecolor": "white",
           "landcolor": "#E5ECF6",
           "showlakes": true,
           "showland": true,
           "subunitcolor": "white"
          },
          "hoverlabel": {
           "align": "left"
          },
          "hovermode": "closest",
          "mapbox": {
           "style": "light"
          },
          "paper_bgcolor": "white",
          "plot_bgcolor": "#E5ECF6",
          "polar": {
           "angularaxis": {
            "gridcolor": "white",
            "linecolor": "white",
            "ticks": ""
           },
           "bgcolor": "#E5ECF6",
           "radialaxis": {
            "gridcolor": "white",
            "linecolor": "white",
            "ticks": ""
           }
          },
          "scene": {
           "xaxis": {
            "backgroundcolor": "#E5ECF6",
            "gridcolor": "white",
            "gridwidth": 2,
            "linecolor": "white",
            "showbackground": true,
            "ticks": "",
            "zerolinecolor": "white"
           },
           "yaxis": {
            "backgroundcolor": "#E5ECF6",
            "gridcolor": "white",
            "gridwidth": 2,
            "linecolor": "white",
            "showbackground": true,
            "ticks": "",
            "zerolinecolor": "white"
           },
           "zaxis": {
            "backgroundcolor": "#E5ECF6",
            "gridcolor": "white",
            "gridwidth": 2,
            "linecolor": "white",
            "showbackground": true,
            "ticks": "",
            "zerolinecolor": "white"
           }
          },
          "shapedefaults": {
           "line": {
            "color": "#2a3f5f"
           }
          },
          "ternary": {
           "aaxis": {
            "gridcolor": "white",
            "linecolor": "white",
            "ticks": ""
           },
           "baxis": {
            "gridcolor": "white",
            "linecolor": "white",
            "ticks": ""
           },
           "bgcolor": "#E5ECF6",
           "caxis": {
            "gridcolor": "white",
            "linecolor": "white",
            "ticks": ""
           }
          },
          "title": {
           "x": 0.05
          },
          "xaxis": {
           "automargin": true,
           "gridcolor": "white",
           "linecolor": "white",
           "ticks": "",
           "title": {
            "standoff": 15
           },
           "zerolinecolor": "white",
           "zerolinewidth": 2
          },
          "yaxis": {
           "automargin": true,
           "gridcolor": "white",
           "linecolor": "white",
           "ticks": "",
           "title": {
            "standoff": 15
           },
           "zerolinecolor": "white",
           "zerolinewidth": 2
          }
         }
        }
       }
      }
     },
     "metadata": {},
     "output_type": "display_data"
    }
   ],
   "source": [
    "df.select('emp_length').groupBy('emp_length').count().to_pandas_on_spark(index_col=['emp_length']).plot.pie(y='count')"
   ]
  },
  {
   "attachments": {},
   "cell_type": "markdown",
   "metadata": {},
   "source": [
    "# Stage 2: Predictive analysis "
   ]
  },
  {
   "attachments": {},
   "cell_type": "markdown",
   "metadata": {},
   "source": [
    "One Hot Encoding all the categorical value"
   ]
  },
  {
   "cell_type": "code",
   "execution_count": 60,
   "metadata": {},
   "outputs": [],
   "source": [
    "categorical_cols = [item[0] for item in df.dtypes if item[1].startswith('string')]"
   ]
  },
  {
   "cell_type": "code",
   "execution_count": 61,
   "metadata": {},
   "outputs": [
    {
     "data": {
      "text/plain": [
       "['term',\n",
       " 'grade',\n",
       " 'emp_length',\n",
       " 'home_ownership',\n",
       " 'verification_status',\n",
       " 'purpose',\n",
       " 'initial_list_status',\n",
       " 'application_type']"
      ]
     },
     "execution_count": 61,
     "metadata": {},
     "output_type": "execute_result"
    }
   ],
   "source": [
    "categorical_cols"
   ]
  },
  {
   "cell_type": "code",
   "execution_count": 62,
   "metadata": {},
   "outputs": [],
   "source": [
    "onehot_output_cols = list(map(lambda col : f\"{col}_onehot\", categorical_cols))"
   ]
  },
  {
   "cell_type": "code",
   "execution_count": 63,
   "metadata": {},
   "outputs": [],
   "source": [
    "numeric_output_cols = list(map(lambda col : f\"{col}_numeric\", categorical_cols))"
   ]
  },
  {
   "cell_type": "code",
   "execution_count": 64,
   "metadata": {},
   "outputs": [
    {
     "name": "stderr",
     "output_type": "stream",
     "text": [
      "                                                                                \r"
     ]
    }
   ],
   "source": [
    "from pyspark.ml.feature import OneHotEncoder, StringIndexer\n",
    "indexer = StringIndexer(inputCols=categorical_cols, outputCols=numeric_output_cols)\n",
    "indexer_fitted = indexer.fit(df)\n",
    "df_indexed = indexer_fitted.transform(df)\n",
    "\n",
    "one_hot = OneHotEncoder(inputCols=numeric_output_cols, outputCols=onehot_output_cols)\n",
    "one_hot_df = one_hot.fit(df_indexed).transform(df_indexed)\n",
    "df_one_hot = one_hot_df.drop(*numeric_output_cols, *categorical_cols)\n"
   ]
  },
  {
   "attachments": {},
   "cell_type": "markdown",
   "metadata": {},
   "source": [
    "## Process the training/testing data"
   ]
  },
  {
   "attachments": {},
   "cell_type": "markdown",
   "metadata": {},
   "source": [
    "### Resampling the training data with 50% default and 50% non-default"
   ]
  },
  {
   "cell_type": "code",
   "execution_count": 140,
   "metadata": {},
   "outputs": [],
   "source": [
    "default_records = df_one_hot.filter(df['default_ind'] == 1).count()"
   ]
  },
  {
   "cell_type": "code",
   "execution_count": 141,
   "metadata": {},
   "outputs": [],
   "source": [
    "non_default_records = df_one_hot.filter(df['default_ind'] == 0).count()"
   ]
  },
  {
   "cell_type": "code",
   "execution_count": 142,
   "metadata": {},
   "outputs": [],
   "source": [
    "X = df_one_hot.sampleBy(\"default_ind\", fractions={0: default_records/non_default_records, 1: 1}, seed=42)"
   ]
  },
  {
   "cell_type": "code",
   "execution_count": 143,
   "metadata": {},
   "outputs": [
    {
     "name": "stderr",
     "output_type": "stream",
     "text": [
      "                                                                                \r"
     ]
    },
    {
     "data": {
      "text/plain": [
       "40660"
      ]
     },
     "execution_count": 143,
     "metadata": {},
     "output_type": "execute_result"
    }
   ],
   "source": [
    "X.filter(X['default_ind'] == 1).count()"
   ]
  },
  {
   "cell_type": "code",
   "execution_count": 144,
   "metadata": {},
   "outputs": [
    {
     "name": "stderr",
     "output_type": "stream",
     "text": [
      "                                                                                \r"
     ]
    },
    {
     "data": {
      "text/plain": [
       "40928"
      ]
     },
     "execution_count": 144,
     "metadata": {},
     "output_type": "execute_result"
    }
   ],
   "source": [
    "X.filter(X['default_ind'] == 0).count()"
   ]
  },
  {
   "cell_type": "code",
   "execution_count": 145,
   "metadata": {},
   "outputs": [
    {
     "data": {
      "application/vnd.plotly.v1+json": {
       "config": {
        "plotlyServerURL": "https://plot.ly"
       },
       "data": [
        {
         "domain": {
          "x": [
           0,
           1
          ],
          "y": [
           0,
           1
          ]
         },
         "hovertemplate": "default_ind=%{label}<br>count=%{value}<extra></extra>",
         "labels": [
          1,
          0
         ],
         "legendgroup": "",
         "name": "",
         "showlegend": true,
         "type": "pie",
         "values": [
          40660,
          40928
         ]
        }
       ],
       "layout": {
        "legend": {
         "tracegroupgap": 0
        },
        "margin": {
         "t": 60
        },
        "template": {
         "data": {
          "bar": [
           {
            "error_x": {
             "color": "#2a3f5f"
            },
            "error_y": {
             "color": "#2a3f5f"
            },
            "marker": {
             "line": {
              "color": "#E5ECF6",
              "width": 0.5
             },
             "pattern": {
              "fillmode": "overlay",
              "size": 10,
              "solidity": 0.2
             }
            },
            "type": "bar"
           }
          ],
          "barpolar": [
           {
            "marker": {
             "line": {
              "color": "#E5ECF6",
              "width": 0.5
             },
             "pattern": {
              "fillmode": "overlay",
              "size": 10,
              "solidity": 0.2
             }
            },
            "type": "barpolar"
           }
          ],
          "carpet": [
           {
            "aaxis": {
             "endlinecolor": "#2a3f5f",
             "gridcolor": "white",
             "linecolor": "white",
             "minorgridcolor": "white",
             "startlinecolor": "#2a3f5f"
            },
            "baxis": {
             "endlinecolor": "#2a3f5f",
             "gridcolor": "white",
             "linecolor": "white",
             "minorgridcolor": "white",
             "startlinecolor": "#2a3f5f"
            },
            "type": "carpet"
           }
          ],
          "choropleth": [
           {
            "colorbar": {
             "outlinewidth": 0,
             "ticks": ""
            },
            "type": "choropleth"
           }
          ],
          "contour": [
           {
            "colorbar": {
             "outlinewidth": 0,
             "ticks": ""
            },
            "colorscale": [
             [
              0,
              "#0d0887"
             ],
             [
              0.1111111111111111,
              "#46039f"
             ],
             [
              0.2222222222222222,
              "#7201a8"
             ],
             [
              0.3333333333333333,
              "#9c179e"
             ],
             [
              0.4444444444444444,
              "#bd3786"
             ],
             [
              0.5555555555555556,
              "#d8576b"
             ],
             [
              0.6666666666666666,
              "#ed7953"
             ],
             [
              0.7777777777777778,
              "#fb9f3a"
             ],
             [
              0.8888888888888888,
              "#fdca26"
             ],
             [
              1,
              "#f0f921"
             ]
            ],
            "type": "contour"
           }
          ],
          "contourcarpet": [
           {
            "colorbar": {
             "outlinewidth": 0,
             "ticks": ""
            },
            "type": "contourcarpet"
           }
          ],
          "heatmap": [
           {
            "colorbar": {
             "outlinewidth": 0,
             "ticks": ""
            },
            "colorscale": [
             [
              0,
              "#0d0887"
             ],
             [
              0.1111111111111111,
              "#46039f"
             ],
             [
              0.2222222222222222,
              "#7201a8"
             ],
             [
              0.3333333333333333,
              "#9c179e"
             ],
             [
              0.4444444444444444,
              "#bd3786"
             ],
             [
              0.5555555555555556,
              "#d8576b"
             ],
             [
              0.6666666666666666,
              "#ed7953"
             ],
             [
              0.7777777777777778,
              "#fb9f3a"
             ],
             [
              0.8888888888888888,
              "#fdca26"
             ],
             [
              1,
              "#f0f921"
             ]
            ],
            "type": "heatmap"
           }
          ],
          "heatmapgl": [
           {
            "colorbar": {
             "outlinewidth": 0,
             "ticks": ""
            },
            "colorscale": [
             [
              0,
              "#0d0887"
             ],
             [
              0.1111111111111111,
              "#46039f"
             ],
             [
              0.2222222222222222,
              "#7201a8"
             ],
             [
              0.3333333333333333,
              "#9c179e"
             ],
             [
              0.4444444444444444,
              "#bd3786"
             ],
             [
              0.5555555555555556,
              "#d8576b"
             ],
             [
              0.6666666666666666,
              "#ed7953"
             ],
             [
              0.7777777777777778,
              "#fb9f3a"
             ],
             [
              0.8888888888888888,
              "#fdca26"
             ],
             [
              1,
              "#f0f921"
             ]
            ],
            "type": "heatmapgl"
           }
          ],
          "histogram": [
           {
            "marker": {
             "pattern": {
              "fillmode": "overlay",
              "size": 10,
              "solidity": 0.2
             }
            },
            "type": "histogram"
           }
          ],
          "histogram2d": [
           {
            "colorbar": {
             "outlinewidth": 0,
             "ticks": ""
            },
            "colorscale": [
             [
              0,
              "#0d0887"
             ],
             [
              0.1111111111111111,
              "#46039f"
             ],
             [
              0.2222222222222222,
              "#7201a8"
             ],
             [
              0.3333333333333333,
              "#9c179e"
             ],
             [
              0.4444444444444444,
              "#bd3786"
             ],
             [
              0.5555555555555556,
              "#d8576b"
             ],
             [
              0.6666666666666666,
              "#ed7953"
             ],
             [
              0.7777777777777778,
              "#fb9f3a"
             ],
             [
              0.8888888888888888,
              "#fdca26"
             ],
             [
              1,
              "#f0f921"
             ]
            ],
            "type": "histogram2d"
           }
          ],
          "histogram2dcontour": [
           {
            "colorbar": {
             "outlinewidth": 0,
             "ticks": ""
            },
            "colorscale": [
             [
              0,
              "#0d0887"
             ],
             [
              0.1111111111111111,
              "#46039f"
             ],
             [
              0.2222222222222222,
              "#7201a8"
             ],
             [
              0.3333333333333333,
              "#9c179e"
             ],
             [
              0.4444444444444444,
              "#bd3786"
             ],
             [
              0.5555555555555556,
              "#d8576b"
             ],
             [
              0.6666666666666666,
              "#ed7953"
             ],
             [
              0.7777777777777778,
              "#fb9f3a"
             ],
             [
              0.8888888888888888,
              "#fdca26"
             ],
             [
              1,
              "#f0f921"
             ]
            ],
            "type": "histogram2dcontour"
           }
          ],
          "mesh3d": [
           {
            "colorbar": {
             "outlinewidth": 0,
             "ticks": ""
            },
            "type": "mesh3d"
           }
          ],
          "parcoords": [
           {
            "line": {
             "colorbar": {
              "outlinewidth": 0,
              "ticks": ""
             }
            },
            "type": "parcoords"
           }
          ],
          "pie": [
           {
            "automargin": true,
            "type": "pie"
           }
          ],
          "scatter": [
           {
            "fillpattern": {
             "fillmode": "overlay",
             "size": 10,
             "solidity": 0.2
            },
            "type": "scatter"
           }
          ],
          "scatter3d": [
           {
            "line": {
             "colorbar": {
              "outlinewidth": 0,
              "ticks": ""
             }
            },
            "marker": {
             "colorbar": {
              "outlinewidth": 0,
              "ticks": ""
             }
            },
            "type": "scatter3d"
           }
          ],
          "scattercarpet": [
           {
            "marker": {
             "colorbar": {
              "outlinewidth": 0,
              "ticks": ""
             }
            },
            "type": "scattercarpet"
           }
          ],
          "scattergeo": [
           {
            "marker": {
             "colorbar": {
              "outlinewidth": 0,
              "ticks": ""
             }
            },
            "type": "scattergeo"
           }
          ],
          "scattergl": [
           {
            "marker": {
             "colorbar": {
              "outlinewidth": 0,
              "ticks": ""
             }
            },
            "type": "scattergl"
           }
          ],
          "scattermapbox": [
           {
            "marker": {
             "colorbar": {
              "outlinewidth": 0,
              "ticks": ""
             }
            },
            "type": "scattermapbox"
           }
          ],
          "scatterpolar": [
           {
            "marker": {
             "colorbar": {
              "outlinewidth": 0,
              "ticks": ""
             }
            },
            "type": "scatterpolar"
           }
          ],
          "scatterpolargl": [
           {
            "marker": {
             "colorbar": {
              "outlinewidth": 0,
              "ticks": ""
             }
            },
            "type": "scatterpolargl"
           }
          ],
          "scatterternary": [
           {
            "marker": {
             "colorbar": {
              "outlinewidth": 0,
              "ticks": ""
             }
            },
            "type": "scatterternary"
           }
          ],
          "surface": [
           {
            "colorbar": {
             "outlinewidth": 0,
             "ticks": ""
            },
            "colorscale": [
             [
              0,
              "#0d0887"
             ],
             [
              0.1111111111111111,
              "#46039f"
             ],
             [
              0.2222222222222222,
              "#7201a8"
             ],
             [
              0.3333333333333333,
              "#9c179e"
             ],
             [
              0.4444444444444444,
              "#bd3786"
             ],
             [
              0.5555555555555556,
              "#d8576b"
             ],
             [
              0.6666666666666666,
              "#ed7953"
             ],
             [
              0.7777777777777778,
              "#fb9f3a"
             ],
             [
              0.8888888888888888,
              "#fdca26"
             ],
             [
              1,
              "#f0f921"
             ]
            ],
            "type": "surface"
           }
          ],
          "table": [
           {
            "cells": {
             "fill": {
              "color": "#EBF0F8"
             },
             "line": {
              "color": "white"
             }
            },
            "header": {
             "fill": {
              "color": "#C8D4E3"
             },
             "line": {
              "color": "white"
             }
            },
            "type": "table"
           }
          ]
         },
         "layout": {
          "annotationdefaults": {
           "arrowcolor": "#2a3f5f",
           "arrowhead": 0,
           "arrowwidth": 1
          },
          "autotypenumbers": "strict",
          "coloraxis": {
           "colorbar": {
            "outlinewidth": 0,
            "ticks": ""
           }
          },
          "colorscale": {
           "diverging": [
            [
             0,
             "#8e0152"
            ],
            [
             0.1,
             "#c51b7d"
            ],
            [
             0.2,
             "#de77ae"
            ],
            [
             0.3,
             "#f1b6da"
            ],
            [
             0.4,
             "#fde0ef"
            ],
            [
             0.5,
             "#f7f7f7"
            ],
            [
             0.6,
             "#e6f5d0"
            ],
            [
             0.7,
             "#b8e186"
            ],
            [
             0.8,
             "#7fbc41"
            ],
            [
             0.9,
             "#4d9221"
            ],
            [
             1,
             "#276419"
            ]
           ],
           "sequential": [
            [
             0,
             "#0d0887"
            ],
            [
             0.1111111111111111,
             "#46039f"
            ],
            [
             0.2222222222222222,
             "#7201a8"
            ],
            [
             0.3333333333333333,
             "#9c179e"
            ],
            [
             0.4444444444444444,
             "#bd3786"
            ],
            [
             0.5555555555555556,
             "#d8576b"
            ],
            [
             0.6666666666666666,
             "#ed7953"
            ],
            [
             0.7777777777777778,
             "#fb9f3a"
            ],
            [
             0.8888888888888888,
             "#fdca26"
            ],
            [
             1,
             "#f0f921"
            ]
           ],
           "sequentialminus": [
            [
             0,
             "#0d0887"
            ],
            [
             0.1111111111111111,
             "#46039f"
            ],
            [
             0.2222222222222222,
             "#7201a8"
            ],
            [
             0.3333333333333333,
             "#9c179e"
            ],
            [
             0.4444444444444444,
             "#bd3786"
            ],
            [
             0.5555555555555556,
             "#d8576b"
            ],
            [
             0.6666666666666666,
             "#ed7953"
            ],
            [
             0.7777777777777778,
             "#fb9f3a"
            ],
            [
             0.8888888888888888,
             "#fdca26"
            ],
            [
             1,
             "#f0f921"
            ]
           ]
          },
          "colorway": [
           "#636efa",
           "#EF553B",
           "#00cc96",
           "#ab63fa",
           "#FFA15A",
           "#19d3f3",
           "#FF6692",
           "#B6E880",
           "#FF97FF",
           "#FECB52"
          ],
          "font": {
           "color": "#2a3f5f"
          },
          "geo": {
           "bgcolor": "white",
           "lakecolor": "white",
           "landcolor": "#E5ECF6",
           "showlakes": true,
           "showland": true,
           "subunitcolor": "white"
          },
          "hoverlabel": {
           "align": "left"
          },
          "hovermode": "closest",
          "mapbox": {
           "style": "light"
          },
          "paper_bgcolor": "white",
          "plot_bgcolor": "#E5ECF6",
          "polar": {
           "angularaxis": {
            "gridcolor": "white",
            "linecolor": "white",
            "ticks": ""
           },
           "bgcolor": "#E5ECF6",
           "radialaxis": {
            "gridcolor": "white",
            "linecolor": "white",
            "ticks": ""
           }
          },
          "scene": {
           "xaxis": {
            "backgroundcolor": "#E5ECF6",
            "gridcolor": "white",
            "gridwidth": 2,
            "linecolor": "white",
            "showbackground": true,
            "ticks": "",
            "zerolinecolor": "white"
           },
           "yaxis": {
            "backgroundcolor": "#E5ECF6",
            "gridcolor": "white",
            "gridwidth": 2,
            "linecolor": "white",
            "showbackground": true,
            "ticks": "",
            "zerolinecolor": "white"
           },
           "zaxis": {
            "backgroundcolor": "#E5ECF6",
            "gridcolor": "white",
            "gridwidth": 2,
            "linecolor": "white",
            "showbackground": true,
            "ticks": "",
            "zerolinecolor": "white"
           }
          },
          "shapedefaults": {
           "line": {
            "color": "#2a3f5f"
           }
          },
          "ternary": {
           "aaxis": {
            "gridcolor": "white",
            "linecolor": "white",
            "ticks": ""
           },
           "baxis": {
            "gridcolor": "white",
            "linecolor": "white",
            "ticks": ""
           },
           "bgcolor": "#E5ECF6",
           "caxis": {
            "gridcolor": "white",
            "linecolor": "white",
            "ticks": ""
           }
          },
          "title": {
           "x": 0.05
          },
          "xaxis": {
           "automargin": true,
           "gridcolor": "white",
           "linecolor": "white",
           "ticks": "",
           "title": {
            "standoff": 15
           },
           "zerolinecolor": "white",
           "zerolinewidth": 2
          },
          "yaxis": {
           "automargin": true,
           "gridcolor": "white",
           "linecolor": "white",
           "ticks": "",
           "title": {
            "standoff": 15
           },
           "zerolinecolor": "white",
           "zerolinewidth": 2
          }
         }
        }
       }
      }
     },
     "metadata": {},
     "output_type": "display_data"
    }
   ],
   "source": [
    "X.groupBy('default_ind').count().to_pandas_on_spark(index_col='default_ind').plot.pie(y='count')"
   ]
  },
  {
   "attachments": {},
   "cell_type": "markdown",
   "metadata": {},
   "source": [
    "Now that our training data is well sampled, let's split the training data into 70% training and 30% testing"
   ]
  },
  {
   "cell_type": "code",
   "execution_count": 146,
   "metadata": {},
   "outputs": [],
   "source": [
    "(train, test) = X.randomSplit([0.7, 0.3], seed=42)"
   ]
  },
  {
   "attachments": {},
   "cell_type": "markdown",
   "metadata": {},
   "source": [
    "## Process One (3 ML Models with Spark ML)"
   ]
  },
  {
   "cell_type": "code",
   "execution_count": 72,
   "metadata": {},
   "outputs": [],
   "source": [
    "from pyspark.ml.feature import VectorAssembler\n",
    "from pyspark.ml.evaluation import BinaryClassificationEvaluator, MulticlassClassificationEvaluator\n",
    "from pyspark.mllib.evaluation import MulticlassMetrics\n",
    "from pyspark.sql.types import DoubleType, FloatType"
   ]
  },
  {
   "cell_type": "code",
   "execution_count": 73,
   "metadata": {},
   "outputs": [],
   "source": [
    "columns = df_one_hot.columns\n",
    "columns.remove('default_ind')"
   ]
  },
  {
   "cell_type": "code",
   "execution_count": 74,
   "metadata": {},
   "outputs": [],
   "source": [
    "vector_assembler = VectorAssembler(\n",
    "    inputCols=columns,\n",
    "    outputCol=\"features\"\n",
    ")"
   ]
  },
  {
   "cell_type": "code",
   "execution_count": 75,
   "metadata": {},
   "outputs": [],
   "source": [
    "import matplotlib.pyplot as plt\n",
    "from sklearn.metrics import roc_curve, auc\n",
    "def graph_roc_curve(y_true, y_pred):\n",
    "    fpr, tpr, thresholds = roc_curve(y_true, y_pred)\n",
    "    roc_auc = auc(fpr, tpr)\n",
    "\n",
    "    plt.figure()\n",
    "    plt.plot(fpr, tpr, color='darkorange', label='ROC curve (area = %0.2f)' % roc_auc)\n",
    "    plt.plot([0, 1], [0, 1], color='navy', linestyle='--')\n",
    "    plt.xlim([0.0, 1.0])\n",
    "    plt.ylim([0.0, 1.05])\n",
    "    plt.xlabel('False Positive Rate')\n",
    "    plt.ylabel('True Positive Rate')\n",
    "    plt.title('ROC Curve')\n",
    "    plt.legend(loc=\"lower right\")\n",
    "    plt.show()"
   ]
  },
  {
   "cell_type": "code",
   "execution_count": 76,
   "metadata": {},
   "outputs": [],
   "source": [
    "import numpy as np\n",
    "def graph_confusion_matrix(confusion_matrix):\n",
    "    # Define class labels\n",
    "    classes = ['0', '1']\n",
    "\n",
    "    plt.imshow(confusion_matrix, cmap='Blues')\n",
    "    plt.colorbar()\n",
    "\n",
    "    plt.xticks(np.arange(len(classes)), classes)\n",
    "    plt.yticks(np.arange(len(classes)), classes)\n",
    "\n",
    "    for i in range(len(classes)):\n",
    "        for j in range(len(classes)):\n",
    "            plt.text(j, i, confusion_matrix[i, j], ha=\"center\", va=\"center\", color=\"black\" if (j == 1 and i == 0) or (j == 0 and i == 1) else \"white\")\n",
    "\n",
    "    plt.title(\"Confusion Matrix\")\n",
    "    plt.xlabel(\"Predicted label\")\n",
    "    plt.ylabel(\"True label\")\n",
    "\n",
    "    plt.show()\n"
   ]
  },
  {
   "cell_type": "code",
   "execution_count": 77,
   "metadata": {},
   "outputs": [],
   "source": [
    "def get_spark_ml_perf(predictions):\n",
    "    binary_eval = BinaryClassificationEvaluator(labelCol='label')\n",
    "    evaluate_accuracy = MulticlassClassificationEvaluator(labelCol=\"default_ind\", predictionCol=\"prediction\", metricName=\"accuracy\")\n",
    "    evaluate_precision = MulticlassClassificationEvaluator(labelCol=\"default_ind\", predictionCol=\"prediction\", metricName=\"precisionByLabel\")\n",
    "    evaluate_recall = MulticlassClassificationEvaluator(labelCol=\"default_ind\", predictionCol=\"prediction\", metricName=\"recallByLabel\")\n",
    "\n",
    "    predictions_rdd = predictions.withColumn('label', predictions['default_ind'].cast(DoubleType())).orderBy('prediction').rdd.map(lambda x: (x.prediction, x.label))\n",
    "    metrics = MulticlassMetrics(predictions_rdd)\n",
    "    confusion_matrix = metrics.confusionMatrix().toArray()\n",
    "    roc = binary_eval.evaluate(predictions.withColumn('label', predictions['default_ind'].cast(DoubleType())))\n",
    "\n",
    "    accuracy=evaluate_accuracy.evaluate(predictions)\n",
    "    precision=evaluate_precision.evaluate(predictions)\n",
    "    recall=evaluate_recall.evaluate(predictions)\n",
    "\n",
    "    print(\"Summary Stats\")\n",
    "    print(\"Accuracy = %s\" % accuracy)\n",
    "    print(\"Precision = %s\" % precision)\n",
    "    print(\"Recall = %s\" % recall)\n",
    "    print(\"Area under ROC = %s\" % roc)\n",
    "    graph_roc_curve(predictions.select(predictions['default_ind']).toPandas(), predictions.select(predictions['prediction']).toPandas())\n",
    "    graph_confusion_matrix(confusion_matrix)\n",
    "    return {\n",
    "        \"accuracy\": accuracy,\n",
    "        \"precision\": precision,\n",
    "        \"recall\": recall,\n",
    "        \"confusion_matrix\": confusion_matrix\n",
    "    }"
   ]
  },
  {
   "attachments": {},
   "cell_type": "markdown",
   "metadata": {},
   "source": [
    "### Decision Tree"
   ]
  },
  {
   "cell_type": "code",
   "execution_count": 78,
   "metadata": {},
   "outputs": [],
   "source": [
    "from pyspark.ml.classification import DecisionTreeClassifier\n",
    "from pyspark.ml import Pipeline"
   ]
  },
  {
   "cell_type": "code",
   "execution_count": 79,
   "metadata": {},
   "outputs": [],
   "source": [
    "decision_tree = DecisionTreeClassifier(labelCol='default_ind', featuresCol='features')"
   ]
  },
  {
   "cell_type": "code",
   "execution_count": 80,
   "metadata": {},
   "outputs": [],
   "source": [
    "pipeline = Pipeline(stages=[vector_assembler, decision_tree])"
   ]
  },
  {
   "cell_type": "code",
   "execution_count": 81,
   "metadata": {},
   "outputs": [
    {
     "name": "stderr",
     "output_type": "stream",
     "text": [
      "                                                                                \r"
     ]
    }
   ],
   "source": [
    "decision_tree_clf = pipeline.fit(train)"
   ]
  },
  {
   "cell_type": "code",
   "execution_count": 82,
   "metadata": {},
   "outputs": [],
   "source": [
    "predictions = decision_tree_clf.transform(test)"
   ]
  },
  {
   "cell_type": "code",
   "execution_count": 83,
   "metadata": {},
   "outputs": [
    {
     "name": "stdout",
     "output_type": "stream",
     "text": [
      "+---------+-----------+--------+-----------+----------+-----+-----------+--------------+--------+-------+---------+----------+---------+---------+-----------+---------------+---------------+-------------+------------------+----------+-----------------------+---------------+--------------------------+--------------+------------+-----------+----------------+-----------+-------------+-------------+-----------------+---------------------+--------------------------+--------------+--------------------------+-----------------------+--------------------+---------------+--------------------+----------+\n",
      "|loan_amnt|funded_amnt|int_rate|installment|annual_inc|  dti|delinq_2yrs|inq_last_6mths|open_acc|pub_rec|revol_bal|revol_util|total_acc|out_prncp|total_pymnt|total_pymnt_inv|total_rec_prncp|total_rec_int|total_rec_late_fee|recoveries|collection_recovery_fee|last_pymnt_amnt|collections_12_mths_ex_med|acc_now_delinq|tot_coll_amt|tot_cur_bal|total_rev_hi_lim|default_ind|  term_onehot| grade_onehot|emp_length_onehot|home_ownership_onehot|verification_status_onehot|purpose_onehot|initial_list_status_onehot|application_type_onehot|            features|  rawPrediction|         probability|prediction|\n",
      "+---------+-----------+--------+-----------+----------+-----+-----------+--------------+--------+-------+---------+----------+---------+---------+-----------+---------------+---------------+-------------+------------------+----------+-----------------------+---------------+--------------------------+--------------+------------+-----------+----------------+-----------+-------------+-------------+-----------------+---------------------+--------------------------+--------------+--------------------------+-----------------------+--------------------+---------------+--------------------+----------+\n",
      "|     1000|       1000|    7.29|      31.01|   33240.0|12.96|          0|             2|       8|      0|    15255|      86.2|       18|      0.0|      92.73|          92.73|          75.02|        17.71|               0.0|       0.0|                    0.0|          31.01|                         0|             0|           0|      80123|           23700|          1|(1,[0],[1.0])|(6,[2],[1.0])|   (11,[7],[1.0])|        (3,[2],[1.0])|             (2,[0],[1.0])|(13,[0],[1.0])|                 (1,[],[])|          (1,[0],[1.0])|(65,[0,1,2,3,4,5,...| [419.0,8295.0]|[0.04808354372274...|       1.0|\n",
      "|     1000|       1000|     8.9|      31.76|   85000.0| 0.75|          0|             0|       4|      0|      835|      24.6|        5|      0.0|    1041.65|        1041.65|         1000.0|        41.65|               0.0|       0.0|                    0.0|         883.52|                         0|             0|           0|      80123|           23700|          0|(1,[0],[1.0])|(6,[2],[1.0])|   (11,[5],[1.0])|        (3,[1],[1.0])|                 (2,[],[])|(13,[0],[1.0])|                 (1,[],[])|          (1,[0],[1.0])|(65,[0,1,2,3,4,5,...| [419.0,8295.0]|[0.04808354372274...|       1.0|\n",
      "|     1000|       1000|    9.99|      32.27|   84000.0| 9.11|          2|             0|       5|      0|      350|      35.0|       18|      0.0|    1075.06|        1075.06|         1000.0|        75.06|               0.0|       0.0|                    0.0|         221.81|                         0|             0|           0|      80123|           23700|          0|(1,[0],[1.0])|(6,[0],[1.0])|   (11,[3],[1.0])|        (3,[0],[1.0])|                 (2,[],[])|(13,[2],[1.0])|                 (1,[],[])|          (1,[0],[1.0])|(65,[0,1,2,3,4,5,...| [419.0,8295.0]|[0.04808354372274...|       1.0|\n",
      "|     1000|       1000|    10.0|      32.27|   13728.0|23.34|          0|             0|      13|      1|     7195|      61.5|       18|      0.0|     160.75|         160.75|         121.24|        39.51|               0.0|       0.0|                    0.0|          32.27|                         0|             0|           0|      80123|           23700|          1|(1,[0],[1.0])|(6,[0],[1.0])|   (11,[7],[1.0])|        (3,[1],[1.0])|                 (2,[],[])|(13,[1],[1.0])|                 (1,[],[])|          (1,[0],[1.0])|(65,[0,1,2,3,4,5,...| [419.0,8295.0]|[0.04808354372274...|       1.0|\n",
      "|     1000|       1000|   10.59|      32.55|   38000.0|27.47|          0|             1|       8|      0|    58794|      97.2|       36|      0.0|     162.05|         162.05|         120.22|        41.83|               0.0|       0.0|                    0.0|          32.55|                         0|             0|           0|      80123|           23700|          1|(1,[0],[1.0])|(6,[0],[1.0])|   (11,[7],[1.0])|        (3,[0],[1.0])|                 (2,[],[])|(13,[6],[1.0])|                 (1,[],[])|          (1,[0],[1.0])|(65,[0,1,2,3,4,5,...| [419.0,8295.0]|[0.04808354372274...|       1.0|\n",
      "|     1000|       1000|   10.59|      32.55|   55000.0|14.42|          0|             0|      12|      0|    23983|      96.7|       32|      0.0|1171.122114|        1171.12|         1000.0|       171.12|               0.0|       0.0|                    0.0|          34.66|                         0|             0|           0|      80123|           23700|          0|(1,[0],[1.0])|(6,[0],[1.0])|   (11,[0],[1.0])|        (3,[0],[1.0])|                 (2,[],[])|(13,[0],[1.0])|                 (1,[],[])|          (1,[0],[1.0])|(65,[0,1,2,3,4,5,...| [419.0,8295.0]|[0.04808354372274...|       1.0|\n",
      "|     1000|       1000|   10.99|      32.74|   24000.0|15.35|          0|             0|       5|      0|     4418|      40.9|       11|      0.0|    1097.18|        1097.18|         143.93|        51.37|               0.0|    901.88|                  315.7|          32.74|                         0|             0|           0|      80123|           23700|          1|(1,[0],[1.0])|(6,[0],[1.0])|   (11,[3],[1.0])|        (3,[1],[1.0])|             (2,[0],[1.0])|(13,[4],[1.0])|                 (1,[],[])|          (1,[0],[1.0])|(65,[0,1,2,3,4,5,...| [419.0,8295.0]|[0.04808354372274...|       1.0|\n",
      "|     1000|       1000|   11.99|      33.21|   19740.0| 4.26|          0|             0|       5|      0|      973|      16.8|        7|      0.0|     1152.1|         1152.1|         999.97|       152.13|               0.0|       0.0|                    0.0|         554.36|                         0|             0|        4268|        973|            5800|          0|(1,[0],[1.0])|(6,[0],[1.0])|   (11,[7],[1.0])|        (3,[1],[1.0])|             (2,[0],[1.0])|(13,[0],[1.0])|                 (1,[],[])|          (1,[0],[1.0])|(65,[0,1,2,3,4,5,...| [419.0,8295.0]|[0.04808354372274...|       1.0|\n",
      "|     1000|       1000|   11.99|      33.21|   50000.0|15.87|          0|             3|       6|      0|     3126|      42.2|       16|   460.47|     697.41|         697.41|         539.53|       157.88|               0.0|       0.0|                    0.0|          33.21|                         0|             0|           0|     161968|            7400|          1|(1,[0],[1.0])|(6,[0],[1.0])|   (11,[5],[1.0])|        (3,[0],[1.0])|                 (2,[],[])|(13,[1],[1.0])|             (1,[0],[1.0])|          (1,[0],[1.0])|(65,[0,1,2,3,4,5,...|[16814.0,381.0]|[0.97784239604536...|       0.0|\n",
      "|     1000|       1000|   12.68|      22.59|   24000.0| 9.15|          0|             2|      14|      0|     5204|      31.5|       30|    91.33|    1259.76|        1259.76|         908.67|       351.09|               0.0|       0.0|                    0.0|          22.59|                         0|             0|           0|      80123|           23700|          0|    (1,[],[])|(6,[1],[1.0])|   (11,[5],[1.0])|        (3,[0],[1.0])|                 (2,[],[])|(13,[9],[1.0])|                 (1,[],[])|          (1,[0],[1.0])|(65,[0,1,2,3,4,5,...|[16814.0,381.0]|[0.97784239604536...|       0.0|\n",
      "|     1000|       1000|   12.68|      33.55|   54000.0|14.58|          0|             0|      11|      0|     6745|      63.6|       23|      0.0| 1206.32041|        1206.32|         1000.0|       206.32|               0.0|       0.0|                    0.0|          37.85|                         0|             0|           0|      80123|           23700|          0|(1,[0],[1.0])|(6,[1],[1.0])|   (11,[0],[1.0])|        (3,[1],[1.0])|             (2,[0],[1.0])|(13,[9],[1.0])|                 (1,[],[])|          (1,[0],[1.0])|(65,[0,1,2,3,4,5,...| [419.0,8295.0]|[0.04808354372274...|       1.0|\n",
      "|     1000|       1000|   13.49|      33.94|   18000.0| 17.6|          0|             1|       6|      1|     1411|      18.6|       20|      0.0|     703.21|         703.21|          502.9|        171.9|               0.0|     28.41|                 0.2841|          33.94|                         0|             0|           0|      80123|           23700|          1|(1,[0],[1.0])|(6,[1],[1.0])|   (11,[3],[1.0])|        (3,[1],[1.0])|             (2,[1],[1.0])|(13,[6],[1.0])|                 (1,[],[])|          (1,[0],[1.0])|(65,[0,1,2,3,4,5,...| [419.0,8295.0]|[0.04808354372274...|       1.0|\n",
      "|     1000|       1000|   13.49|      33.94|   35100.0| 6.19|          0|             1|       8|      0|     9219|      73.1|       17|      0.0|    1017.55|        1017.55|         1000.0|        17.55|               0.0|       0.0|                    0.0|         563.79|                         0|             0|           0|      80123|           23700|          0|(1,[0],[1.0])|(6,[1],[1.0])|   (11,[9],[1.0])|        (3,[1],[1.0])|                 (2,[],[])|(13,[5],[1.0])|                 (1,[],[])|          (1,[0],[1.0])|(65,[0,1,2,3,4,5,...| [419.0,8295.0]|[0.04808354372274...|       1.0|\n",
      "|     1000|       1000|   13.49|      33.94|   76000.0|18.52|          0|             0|       9|      0|     3808|      97.6|       16|      0.0|1220.588405|        1220.59|         1000.0|       220.59|               0.0|       0.0|                    0.0|          36.33|                         0|             0|           0|      80123|           23700|          0|(1,[0],[1.0])|(6,[1],[1.0])|   (11,[1],[1.0])|        (3,[1],[1.0])|                 (2,[],[])|(13,[4],[1.0])|                 (1,[],[])|          (1,[0],[1.0])|(65,[0,1,2,3,4,5,...| [419.0,8295.0]|[0.04808354372274...|       1.0|\n",
      "|     1000|       1000|   13.67|      34.02|   32000.0|12.19|          0|             0|       5|      0|      700|      17.5|       26|      0.0|    1033.47|        1033.47|         1000.0|        33.47|               0.0|       0.0|                    0.0|         965.57|                         0|             0|           0|      57067|            4000|          0|(1,[0],[1.0])|(6,[0],[1.0])|   (11,[3],[1.0])|        (3,[1],[1.0])|                 (2,[],[])|(13,[0],[1.0])|                 (1,[],[])|          (1,[0],[1.0])|(65,[0,1,2,3,4,5,...| [419.0,8295.0]|[0.04808354372274...|       1.0|\n",
      "|     1000|       1000|   13.99|      34.18|   60000.0| 2.58|          0|             1|       3|      1|     5630|      62.6|       11|      0.0|      340.7|          340.7|         236.64|       104.06|               0.0|       0.0|                    0.0|          34.18|                         0|             0|           0|      80123|           23700|          1|(1,[0],[1.0])|(6,[1],[1.0])|   (11,[6],[1.0])|        (3,[1],[1.0])|             (2,[0],[1.0])|(13,[9],[1.0])|                 (1,[],[])|          (1,[0],[1.0])|(65,[0,1,2,3,4,5,...| [419.0,8295.0]|[0.04808354372274...|       1.0|\n",
      "|     1000|       1000|   14.17|      34.27|   50000.0| 22.7|          0|             2|      13|      0|     5180|      60.9|       18|      0.0|     548.81|         548.81|         365.08|       147.32|               0.0|     36.41|                   0.39|          34.27|                         0|             0|           0|      80123|           23700|          1|(1,[0],[1.0])|(6,[1],[1.0])|       (11,[],[])|        (3,[1],[1.0])|             (2,[0],[1.0])|(13,[8],[1.0])|                 (1,[],[])|          (1,[0],[1.0])|(65,[0,1,2,3,4,5,...| [419.0,8295.0]|[0.04808354372274...|       1.0|\n",
      "|     1000|       1000|   14.96|      34.65|   12240.0|20.98|          0|             3|       4|      0|     5351|      42.8|        5|      0.0|      44.96|          44.96|            0.0|          0.0|               0.0|     44.96|                   0.44|            0.0|                         0|             0|           0|      80123|           23700|          1|(1,[0],[1.0])|(6,[3],[1.0])|   (11,[4],[1.0])|        (3,[1],[1.0])|             (2,[0],[1.0])|    (13,[],[])|                 (1,[],[])|          (1,[0],[1.0])|(65,[0,1,2,3,4,5,...| [419.0,8295.0]|[0.04808354372274...|       1.0|\n",
      "|     1000|       1000|   15.27|       34.8|   32352.0|10.42|          1|             3|       6|      1|      770|      10.8|       18|      0.0|    1072.26|        1072.26|          799.1|        244.9|               0.0|     28.26|                 0.2826|           34.8|                         0|             0|           0|      80123|           23700|          1|(1,[0],[1.0])|(6,[1],[1.0])|   (11,[0],[1.0])|        (3,[0],[1.0])|             (2,[0],[1.0])|(13,[3],[1.0])|                 (1,[],[])|          (1,[0],[1.0])|(65,[0,1,2,3,4,5,...| [419.0,8295.0]|[0.04808354372274...|       1.0|\n",
      "|     1000|       1000|   15.27|       34.8|   38000.0|23.75|          0|             1|       3|      0|    16298|      95.3|        9|      0.0|    1252.69|        1252.69|         999.99|        252.7|               0.0|       0.0|                    0.0|          34.69|                         0|             0|           0|      80123|           23700|          0|(1,[0],[1.0])|(6,[1],[1.0])|  (11,[10],[1.0])|        (3,[1],[1.0])|             (2,[1],[1.0])|(13,[8],[1.0])|                 (1,[],[])|          (1,[0],[1.0])|(65,[0,1,2,3,4,5,...| [419.0,8295.0]|[0.04808354372274...|       1.0|\n",
      "+---------+-----------+--------+-----------+----------+-----+-----------+--------------+--------+-------+---------+----------+---------+---------+-----------+---------------+---------------+-------------+------------------+----------+-----------------------+---------------+--------------------------+--------------+------------+-----------+----------------+-----------+-------------+-------------+-----------------+---------------------+--------------------------+--------------+--------------------------+-----------------------+--------------------+---------------+--------------------+----------+\n",
      "only showing top 20 rows\n",
      "\n"
     ]
    }
   ],
   "source": [
    "predictions.show()"
   ]
  },
  {
   "cell_type": "code",
   "execution_count": 84,
   "metadata": {},
   "outputs": [
    {
     "name": "stderr",
     "output_type": "stream",
     "text": [
      "/home/huukhang1512/miniconda3/envs/tf/lib/python3.9/site-packages/pyspark/sql/context.py:125: FutureWarning:\n",
      "\n",
      "Deprecated in 3.0.0. Use SparkSession.builder.getOrCreate() instead.\n",
      "\n",
      "/home/huukhang1512/.local/lib/python3.9/site-packages/scipy/__init__.py:146: UserWarning: A NumPy version >=1.16.5 and <1.23.0 is required for this version of SciPy (detected version 1.24.3\n",
      "  warnings.warn(f\"A NumPy version >={np_minversion} and <{np_maxversion}\"\n",
      "/home/huukhang1512/.local/lib/python3.9/site-packages/scipy/__init__.py:146: UserWarning: A NumPy version >=1.16.5 and <1.23.0 is required for this version of SciPy (detected version 1.24.3\n",
      "  warnings.warn(f\"A NumPy version >={np_minversion} and <{np_maxversion}\"\n",
      "/home/huukhang1512/.local/lib/python3.9/site-packages/scipy/__init__.py:146: UserWarning: A NumPy version >=1.16.5 and <1.23.0 is required for this version of SciPy (detected version 1.24.3\n",
      "  warnings.warn(f\"A NumPy version >={np_minversion} and <{np_maxversion}\"\n",
      "                                                                                \r"
     ]
    },
    {
     "name": "stdout",
     "output_type": "stream",
     "text": [
      "Summary Stats\n",
      "Accuracy = 0.9672374664741077\n",
      "Precision = 0.9603142463756378\n",
      "Recall = 0.9750020557519941\n",
      "Area under ROC = 0.9689574876753293\n"
     ]
    },
    {
     "name": "stderr",
     "output_type": "stream",
     "text": [
      "                                                                                \r"
     ]
    },
    {
     "data": {
      "image/png": "[encoded data removed]",
      "text/plain": [
       "<Figure size 432x288 with 1 Axes>"
      ]
     },
     "metadata": {
      "needs_background": "light"
     },
     "output_type": "display_data"
    },
    {
     "data": {
      "image/png": "[encoded data removed]",
      "text/plain": [
       "<Figure size 432x288 with 2 Axes>"
      ]
     },
     "metadata": {
      "needs_background": "light"
     },
     "output_type": "display_data"
    },
    {
     "data": {
      "text/plain": [
       "{'accuracy': 0.9672374664741077,\n",
       " 'precision': 0.9603142463756378,\n",
       " 'recall': 0.9750020557519941,\n",
       " 'confusion_matrix': array([[11857.,   304.],\n",
       "        [  490., 11584.]])}"
      ]
     },
     "execution_count": 84,
     "metadata": {},
     "output_type": "execute_result"
    }
   ],
   "source": [
    "get_spark_ml_perf(predictions)"
   ]
  },
  {
   "attachments": {},
   "cell_type": "markdown",
   "metadata": {},
   "source": [
    "## Random Forest"
   ]
  },
  {
   "cell_type": "code",
   "execution_count": 85,
   "metadata": {},
   "outputs": [],
   "source": [
    "from pyspark.ml.classification import RandomForestClassifier"
   ]
  },
  {
   "cell_type": "code",
   "execution_count": 86,
   "metadata": {},
   "outputs": [],
   "source": [
    "random_forest = RandomForestClassifier(labelCol='default_ind', featuresCol='features')"
   ]
  },
  {
   "cell_type": "code",
   "execution_count": 87,
   "metadata": {},
   "outputs": [],
   "source": [
    "rdn_forest_pipeline = Pipeline(stages=[vector_assembler, random_forest])"
   ]
  },
  {
   "cell_type": "code",
   "execution_count": 88,
   "metadata": {},
   "outputs": [
    {
     "name": "stderr",
     "output_type": "stream",
     "text": [
      "                                                                                \r"
     ]
    }
   ],
   "source": [
    "random_forest_tree_clf = rdn_forest_pipeline.fit(train)"
   ]
  },
  {
   "cell_type": "code",
   "execution_count": 89,
   "metadata": {},
   "outputs": [],
   "source": [
    "predictions = random_forest_tree_clf.transform(test)"
   ]
  },
  {
   "cell_type": "code",
   "execution_count": 90,
   "metadata": {},
   "outputs": [
    {
     "name": "stdout",
     "output_type": "stream",
     "text": [
      "+-----------+----------+\n",
      "|default_ind|prediction|\n",
      "+-----------+----------+\n",
      "|          1|       1.0|\n",
      "|          0|       1.0|\n",
      "|          0|       1.0|\n",
      "|          1|       1.0|\n",
      "|          1|       1.0|\n",
      "|          0|       1.0|\n",
      "|          1|       1.0|\n",
      "|          0|       1.0|\n",
      "|          1|       0.0|\n",
      "|          0|       0.0|\n",
      "|          0|       1.0|\n",
      "|          1|       1.0|\n",
      "|          0|       1.0|\n",
      "|          0|       1.0|\n",
      "|          0|       1.0|\n",
      "|          1|       1.0|\n",
      "|          1|       1.0|\n",
      "|          1|       1.0|\n",
      "|          1|       1.0|\n",
      "|          0|       1.0|\n",
      "+-----------+----------+\n",
      "only showing top 20 rows\n",
      "\n"
     ]
    }
   ],
   "source": [
    "predictions.select('default_ind', 'prediction').show()"
   ]
  },
  {
   "cell_type": "code",
   "execution_count": 91,
   "metadata": {},
   "outputs": [
    {
     "name": "stderr",
     "output_type": "stream",
     "text": [
      "/home/huukhang1512/miniconda3/envs/tf/lib/python3.9/site-packages/pyspark/sql/context.py:125: FutureWarning:\n",
      "\n",
      "Deprecated in 3.0.0. Use SparkSession.builder.getOrCreate() instead.\n",
      "\n",
      "/home/huukhang1512/.local/lib/python3.9/site-packages/scipy/__init__.py:146: UserWarning: A NumPy version >=1.16.5 and <1.23.0 is required for this version of SciPy (detected version 1.24.3\n",
      "  warnings.warn(f\"A NumPy version >={np_minversion} and <{np_maxversion}\"\n",
      "                                                                                \r"
     ]
    },
    {
     "name": "stdout",
     "output_type": "stream",
     "text": [
      "Summary Stats\n",
      "Accuracy = 0.9636063544460491\n",
      "Precision = 0.9531538770590599\n",
      "Recall = 0.97541320615081\n",
      "Area under ROC = 0.9857185645621972\n"
     ]
    },
    {
     "name": "stderr",
     "output_type": "stream",
     "text": [
      "                                                                                \r"
     ]
    },
    {
     "data": {
      "image/png": "[encoded data removed]",
      "text/plain": [
       "<Figure size 432x288 with 1 Axes>"
      ]
     },
     "metadata": {
      "needs_background": "light"
     },
     "output_type": "display_data"
    },
    {
     "data": {
      "image/png": "[encoded data removed]",
      "text/plain": [
       "<Figure size 432x288 with 2 Axes>"
      ]
     },
     "metadata": {
      "needs_background": "light"
     },
     "output_type": "display_data"
    },
    {
     "data": {
      "text/plain": [
       "{'accuracy': 0.9636063544460491,\n",
       " 'precision': 0.9531538770590599,\n",
       " 'recall': 0.97541320615081,\n",
       " 'confusion_matrix': array([[11862.,   299.],\n",
       "        [  583., 11491.]])}"
      ]
     },
     "execution_count": 91,
     "metadata": {},
     "output_type": "execute_result"
    }
   ],
   "source": [
    "get_spark_ml_perf(predictions)"
   ]
  },
  {
   "attachments": {},
   "cell_type": "markdown",
   "metadata": {},
   "source": [
    "# Feed Forward Network"
   ]
  },
  {
   "cell_type": "code",
   "execution_count": 152,
   "metadata": {},
   "outputs": [],
   "source": [
    "from pyspark.ml.classification import MultilayerPerceptronClassifier"
   ]
  },
  {
   "cell_type": "code",
   "execution_count": 153,
   "metadata": {},
   "outputs": [],
   "source": [
    "train_df_features = vector_assembler.transform(train)\n",
    "MLP = MultilayerPerceptronClassifier(layers=[train_df_features.schema[\"features\"].metadata[\"ml_attr\"][\"num_attrs\"],6,6,6,2], labelCol='default_ind', featuresCol='features', seed=42)\n",
    "pipeline = Pipeline(stages=[vector_assembler, MLP])"
   ]
  },
  {
   "cell_type": "code",
   "execution_count": 154,
   "metadata": {},
   "outputs": [
    {
     "name": "stderr",
     "output_type": "stream",
     "text": [
      "                                                                                \r"
     ]
    }
   ],
   "source": [
    "mlp_clf = pipeline.fit(train)"
   ]
  },
  {
   "cell_type": "code",
   "execution_count": 155,
   "metadata": {},
   "outputs": [],
   "source": [
    "predictions = mlp_clf.transform(test)"
   ]
  },
  {
   "cell_type": "code",
   "execution_count": 156,
   "metadata": {},
   "outputs": [
    {
     "name": "stderr",
     "output_type": "stream",
     "text": [
      "/home/huukhang1512/miniconda3/envs/tf/lib/python3.9/site-packages/pyspark/sql/context.py:125: FutureWarning:\n",
      "\n",
      "Deprecated in 3.0.0. Use SparkSession.builder.getOrCreate() instead.\n",
      "\n",
      "/home/huukhang1512/.local/lib/python3.9/site-packages/scipy/__init__.py:146: UserWarning: A NumPy version >=1.16.5 and <1.23.0 is required for this version of SciPy (detected version 1.24.3\n",
      "  warnings.warn(f\"A NumPy version >={np_minversion} and <{np_maxversion}\"\n",
      "                                                                                \r"
     ]
    },
    {
     "name": "stdout",
     "output_type": "stream",
     "text": [
      "Summary Stats\n",
      "Accuracy = 0.9534144831854755\n",
      "Precision = 0.9430522088353414\n",
      "Recall = 0.9654633664994655\n",
      "Area under ROC = 0.9526440689181509\n"
     ]
    },
    {
     "name": "stderr",
     "output_type": "stream",
     "text": [
      "                                                                                \r"
     ]
    },
    {
     "data": {
      "image/png": "[encoded data removed]",
      "text/plain": [
       "<Figure size 432x288 with 1 Axes>"
      ]
     },
     "metadata": {
      "needs_background": "light"
     },
     "output_type": "display_data"
    },
    {
     "data": {
      "image/png": "[encoded data removed]",
      "text/plain": [
       "<Figure size 432x288 with 2 Axes>"
      ]
     },
     "metadata": {
      "needs_background": "light"
     },
     "output_type": "display_data"
    },
    {
     "data": {
      "text/plain": [
       "{'accuracy': 0.9534144831854755,\n",
       " 'precision': 0.9430522088353414,\n",
       " 'recall': 0.9654633664994655,\n",
       " 'confusion_matrix': array([[11741.,   420.],\n",
       "        [  709., 11365.]])}"
      ]
     },
     "execution_count": 156,
     "metadata": {},
     "output_type": "execute_result"
    }
   ],
   "source": [
    "get_spark_ml_perf(predictions)"
   ]
  },
  {
   "attachments": {},
   "cell_type": "markdown",
   "metadata": {},
   "source": [
    "## Process Two (3 ML Models with TensorFlow and Keras)"
   ]
  },
  {
   "cell_type": "code",
   "execution_count": 97,
   "metadata": {},
   "outputs": [
    {
     "name": "stderr",
     "output_type": "stream",
     "text": [
      "2023-06-02 20:02:30.821086: I tensorflow/tsl/cuda/cudart_stub.cc:28] Could not find cuda drivers on your machine, GPU will not be used.\n",
      "2023-06-02 20:02:30.934195: I tensorflow/tsl/cuda/cudart_stub.cc:28] Could not find cuda drivers on your machine, GPU will not be used.\n",
      "2023-06-02 20:02:30.934727: I tensorflow/core/platform/cpu_feature_guard.cc:182] This TensorFlow binary is optimized to use available CPU instructions in performance-critical operations.\n",
      "To enable the following instructions: AVX2 FMA, in other operations, rebuild TensorFlow with the appropriate compiler flags.\n",
      "2023-06-02 20:02:31.575677: W tensorflow/compiler/tf2tensorrt/utils/py_utils.cc:38] TF-TRT Warning: Could not find TensorRT\n"
     ]
    }
   ],
   "source": [
    "import tensorflow as tf\n",
    "import pandas as pd\n",
    "from sklearn.metrics import confusion_matrix\n",
    "pd.set_option('display.max_rows', None)"
   ]
  },
  {
   "cell_type": "code",
   "execution_count": 98,
   "metadata": {},
   "outputs": [
    {
     "name": "stderr",
     "output_type": "stream",
     "text": [
      "                                                                                \r"
     ]
    }
   ],
   "source": [
    "df_pandas = df.toPandas().sample(frac=1, random_state=42)"
   ]
  },
  {
   "cell_type": "code",
   "execution_count": 99,
   "metadata": {},
   "outputs": [],
   "source": [
    "df_pandas = pd.get_dummies(data=df_pandas, columns=categorical_cols)"
   ]
  },
  {
   "cell_type": "code",
   "execution_count": 100,
   "metadata": {},
   "outputs": [],
   "source": [
    "df_pandas = df_pandas.groupby('default_ind').sample(n=default_records, random_state=42).sample(frac=1)"
   ]
  },
  {
   "cell_type": "code",
   "execution_count": 101,
   "metadata": {},
   "outputs": [],
   "source": [
    "uint8_cols = df_pandas.select_dtypes(include='uint8').columns.to_list()"
   ]
  },
  {
   "cell_type": "code",
   "execution_count": 102,
   "metadata": {},
   "outputs": [],
   "source": [
    "df_pandas[uint8_cols] = df_pandas[uint8_cols].astype('int32')"
   ]
  },
  {
   "cell_type": "code",
   "execution_count": 103,
   "metadata": {},
   "outputs": [],
   "source": [
    "split_index = int(0.7 * len(df_pandas))\n",
    "(train, test) = (df_pandas[:split_index], df_pandas[split_index:])"
   ]
  },
  {
   "cell_type": "code",
   "execution_count": 104,
   "metadata": {},
   "outputs": [],
   "source": [
    "import tensorflow_decision_forests as tfdf"
   ]
  },
  {
   "cell_type": "code",
   "execution_count": 105,
   "metadata": {},
   "outputs": [
    {
     "name": "stdout",
     "output_type": "stream",
     "text": [
      "Warning: Some of the feature names have been changed automatically to be compatible with SavedModels because fix_feature_names=True.\n"
     ]
    },
    {
     "name": "stderr",
     "output_type": "stream",
     "text": [
      "WARNING:absl:Some of the feature names have been changed automatically to be compatible with SavedModels because fix_feature_names=True.\n",
      "2023-06-02 20:02:44.371339: I tensorflow/compiler/xla/stream_executor/cuda/cuda_gpu_executor.cc:996] successful NUMA node read from SysFS had negative value (-1), but there must be at least one NUMA node, so returning NUMA node zero. See more at https://github.com/torvalds/linux/blob/v6.0/Documentation/ABI/testing/sysfs-bus-pci#L344-L355\n",
      "2023-06-02 20:02:44.372097: W tensorflow/core/common_runtime/gpu/gpu_device.cc:1956] Cannot dlopen some GPU libraries. Please make sure the missing libraries mentioned above are installed properly if you would like to use GPU. Follow the guide at https://www.tensorflow.org/install/gpu for how to download and setup the required libraries for your platform.\n",
      "Skipping registering GPU devices...\n"
     ]
    },
    {
     "name": "stdout",
     "output_type": "stream",
     "text": [
      "Warning: Some of the feature names have been changed automatically to be compatible with SavedModels because fix_feature_names=True.\n"
     ]
    },
    {
     "name": "stderr",
     "output_type": "stream",
     "text": [
      "WARNING:absl:Some of the feature names have been changed automatically to be compatible with SavedModels because fix_feature_names=True.\n"
     ]
    }
   ],
   "source": [
    "X_train = tfdf.keras.pd_dataframe_to_tf_dataset(train, label=\"default_ind\")\n",
    "X_test = tfdf.keras.pd_dataframe_to_tf_dataset(test, label=\"default_ind\")"
   ]
  },
  {
   "attachments": {},
   "cell_type": "markdown",
   "metadata": {},
   "source": [
    "### Decision Tree"
   ]
  },
  {
   "cell_type": "code",
   "execution_count": 106,
   "metadata": {},
   "outputs": [
    {
     "name": "stdout",
     "output_type": "stream",
     "text": [
      "Use /tmp/tmpwmans3tc as temporary training directory\n"
     ]
    }
   ],
   "source": [
    "model = tfdf.keras.RandomForestModel(num_trees=1)"
   ]
  },
  {
   "cell_type": "code",
   "execution_count": 107,
   "metadata": {},
   "outputs": [],
   "source": [
    "model.compile(metrics=['accuracy', tf.keras.metrics.Precision(), tf.keras.metrics.Recall()])"
   ]
  },
  {
   "cell_type": "code",
   "execution_count": 108,
   "metadata": {},
   "outputs": [
    {
     "name": "stdout",
     "output_type": "stream",
     "text": [
      "Reading training dataset...\n"
     ]
    },
    {
     "name": "stderr",
     "output_type": "stream",
     "text": [
      "2023-06-02 20:03:01.705874: I tensorflow/core/common_runtime/executor.cc:1197] [/device:CPU:0] (DEBUG INFO) Executor start aborting (this does not indicate an error and you can ignore this message): INVALID_ARGUMENT: You must feed a value for placeholder tensor 'Placeholder/_58' with dtype double and shape [56924]\n",
      "\t [[{{node Placeholder/_58}}]]\n"
     ]
    },
    {
     "name": "stdout",
     "output_type": "stream",
     "text": [
      "Training dataset read in 0:00:03.572803. Found 56924 examples.\n",
      "Training model...\n",
      "Model trained in 0:00:00.175112\n",
      "Compiling model...\n"
     ]
    },
    {
     "name": "stderr",
     "output_type": "stream",
     "text": [
      "[INFO 23-06-02 20:03:05.4427 AEST kernel.cc:1242] Loading model from path /tmp/tmpwmans3tc/model/ with prefix a3d47001b3644100\n",
      "[INFO 23-06-02 20:03:05.4444 AEST decision_forest.cc:660] Model loaded with 1 root(s), 1033 node(s), and 50 input feature(s).\n",
      "[INFO 23-06-02 20:03:05.4444 AEST abstract_model.cc:1311] Engine \"RandomForestOptPred\" built\n",
      "[INFO 23-06-02 20:03:05.4444 AEST kernel.cc:1074] Use fast generic engine\n",
      "2023-06-02 20:03:05.456013: I tensorflow/core/common_runtime/executor.cc:1197] [/device:CPU:0] (DEBUG INFO) Executor start aborting (this does not indicate an error and you can ignore this message): INVALID_ARGUMENT: You must feed a value for placeholder tensor 'Placeholder/_14' with dtype int32 and shape [56924]\n",
      "\t [[{{node Placeholder/_14}}]]\n",
      "WARNING:tensorflow:AutoGraph could not transform <function simple_ml_inference_op_with_handle at 0x7f9175d2dc10> and will run it as-is.\n",
      "Please report this to the TensorFlow team. When filing the bug, set the verbosity to 10 (on Linux, `export AUTOGRAPH_VERBOSITY=10`) and attach the full output.\n",
      "Cause: could not get source code\n",
      "To silence this warning, decorate the function with @tf.autograph.experimental.do_not_convert\n"
     ]
    },
    {
     "name": "stdout",
     "output_type": "stream",
     "text": [
      "WARNING: AutoGraph could not transform <function simple_ml_inference_op_with_handle at 0x7f9175d2dc10> and will run it as-is.\n",
      "Please report this to the TensorFlow team. When filing the bug, set the verbosity to 10 (on Linux, `export AUTOGRAPH_VERBOSITY=10`) and attach the full output.\n",
      "Cause: could not get source code\n",
      "To silence this warning, decorate the function with @tf.autograph.experimental.do_not_convert\n",
      "Model compiled.\n"
     ]
    },
    {
     "data": {
      "text/plain": [
       "<keras.callbacks.History at 0x7f91ac3a7490>"
      ]
     },
     "execution_count": 108,
     "metadata": {},
     "output_type": "execute_result"
    }
   ],
   "source": [
    "model.fit(X_train)"
   ]
  },
  {
   "cell_type": "code",
   "execution_count": 109,
   "metadata": {},
   "outputs": [
    {
     "name": "stdout",
     "output_type": "stream",
     "text": [
      "Model: \"random_forest_model\"\n",
      "_________________________________________________________________\n",
      " Layer (type)                Output Shape              Param #   \n",
      "=================================================================\n",
      "=================================================================\n",
      "Total params: 1\n",
      "Trainable params: 0\n",
      "Non-trainable params: 1\n",
      "_________________________________________________________________\n",
      "Type: \"RANDOM_FOREST\"\n",
      "Task: CLASSIFICATION\n",
      "Label: \"__LABEL\"\n",
      "\n",
      "Input Features (73):\n",
      "\tacc_now_delinq\n",
      "\tannual_inc\n",
      "\tapplication_type_INDIVIDUAL\n",
      "\tapplication_type_JOINT\n",
      "\tcollection_recovery_fee\n",
      "\tcollections_12_mths_ex_med\n",
      "\tdelinq_2yrs\n",
      "\tdti\n",
      "\temp_length_10+_years\n",
      "\temp_length_1_year\n",
      "\temp_length_2_years\n",
      "\temp_length_3_years\n",
      "\temp_length_4_years\n",
      "\temp_length_5_years\n",
      "\temp_length_6_years\n",
      "\temp_length_7_years\n",
      "\temp_length_8_years\n",
      "\temp_length_9_years\n",
      "\temp_length_<_1_year\n",
      "\temp_length_n/a\n",
      "\tfunded_amnt\n",
      "\tgrade_A\n",
      "\tgrade_B\n",
      "\tgrade_C\n",
      "\tgrade_D\n",
      "\tgrade_E\n",
      "\tgrade_F\n",
      "\tgrade_G\n",
      "\thome_ownership_MORTGAGE\n",
      "\thome_ownership_OTHER\n",
      "\thome_ownership_OWN\n",
      "\thome_ownership_RENT\n",
      "\tinitial_list_status_f\n",
      "\tinitial_list_status_w\n",
      "\tinq_last_6mths\n",
      "\tinstallment\n",
      "\tint_rate\n",
      "\tlast_pymnt_amnt\n",
      "\tloan_amnt\n",
      "\topen_acc\n",
      "\tout_prncp\n",
      "\tpub_rec\n",
      "\tpurpose_car\n",
      "\tpurpose_credit_card\n",
      "\tpurpose_debt_consolidation\n",
      "\tpurpose_educational\n",
      "\tpurpose_home_improvement\n",
      "\tpurpose_house\n",
      "\tpurpose_major_purchase\n",
      "\tpurpose_medical\n",
      "\tpurpose_moving\n",
      "\tpurpose_other\n",
      "\tpurpose_renewable_energy\n",
      "\tpurpose_small_business\n",
      "\tpurpose_vacation\n",
      "\tpurpose_wedding\n",
      "\trecoveries\n",
      "\trevol_bal\n",
      "\trevol_util\n",
      "\tterm__36_months\n",
      "\tterm__60_months\n",
      "\ttot_coll_amt\n",
      "\ttot_cur_bal\n",
      "\ttotal_acc\n",
      "\ttotal_pymnt\n",
      "\ttotal_pymnt_inv\n",
      "\ttotal_rec_int\n",
      "\ttotal_rec_late_fee\n",
      "\ttotal_rec_prncp\n",
      "\ttotal_rev_hi_lim\n",
      "\tverification_status_Not_Verified\n",
      "\tverification_status_Source_Verified\n",
      "\tverification_status_Verified\n",
      "\n",
      "No weights\n",
      "\n",
      "Variable Importance: INV_MEAN_MIN_DEPTH:\n",
      "    1.                     \"last_pymnt_amnt\"  1.000000 ################\n",
      "    2.                             \"grade_A\"  0.387556 #####\n",
      "    3.                          \"recoveries\"  0.220281 ##\n",
      "    4.                           \"out_prncp\"  0.177419 #\n",
      "    5.                      \"inq_last_6mths\"  0.143691 #\n",
      "    6.                            \"int_rate\"  0.102620 \n",
      "    7.                  \"total_rec_late_fee\"  0.096491 \n",
      "    8.                         \"total_pymnt\"  0.096186 \n",
      "    9.                             \"grade_B\"  0.090195 \n",
      "   10.                     \"total_pymnt_inv\"  0.086455 \n",
      "   11.               \"initial_list_status_w\"  0.084685 \n",
      "   12.                       \"total_rec_int\"  0.084339 \n",
      "   13.                             \"grade_C\"  0.083360 \n",
      "   14.                         \"funded_amnt\"  0.083293 \n",
      "   15.                         \"tot_cur_bal\"  0.082813 \n",
      "   16.                           \"loan_amnt\"  0.082799 \n",
      "   17.                     \"total_rec_prncp\"  0.082377 \n",
      "   18.                         \"installment\"  0.081998 \n",
      "   19.                           \"total_acc\"  0.081494 \n",
      "   20.                            \"open_acc\"  0.080870 \n",
      "   21.                          \"annual_inc\"  0.079846 \n",
      "   22.                          \"revol_util\"  0.079624 \n",
      "   23.                    \"total_rev_hi_lim\"  0.079587 \n",
      "   24.             \"collection_recovery_fee\"  0.079551 \n",
      "   25.                           \"revol_bal\"  0.079246 \n",
      "   26.                             \"pub_rec\"  0.078512 \n",
      "   27.                                 \"dti\"  0.078452 \n",
      "   28.               \"initial_list_status_f\"  0.077674 \n",
      "   29.                  \"emp_length_4_years\"  0.077488 \n",
      "   30.          \"purpose_debt_consolidation\"  0.076969 \n",
      "   31.                             \"grade_D\"  0.076923 \n",
      "   32.                     \"term__36_months\"  0.076900 \n",
      "   33.                             \"grade_F\"  0.076729 \n",
      "   34. \"verification_status_Source_Verified\"  0.076604 \n",
      "   35.             \"home_ownership_MORTGAGE\"  0.076547 \n",
      "   36.                        \"tot_coll_amt\"  0.076547 \n",
      "   37.                      \"emp_length_n/a\"  0.076457 \n",
      "   38.    \"verification_status_Not_Verified\"  0.076321 \n",
      "   39.                 \"home_ownership_RENT\"  0.076265 \n",
      "   40.                     \"term__60_months\"  0.076197 \n",
      "   41.                  \"emp_length_2_years\"  0.075951 \n",
      "   42.                  \"emp_length_7_years\"  0.075907 \n",
      "   43.        \"verification_status_Verified\"  0.075907 \n",
      "   44.                \"emp_length_10+_years\"  0.075884 \n",
      "   45.                  \"emp_length_3_years\"  0.075884 \n",
      "   46.                 \"emp_length_<_1_year\"  0.075884 \n",
      "   47.                   \"emp_length_1_year\"  0.075851 \n",
      "   48.                  \"emp_length_6_years\"  0.075851 \n",
      "   49.                  \"emp_length_9_years\"  0.075851 \n",
      "   50.                  \"home_ownership_OWN\"  0.075851 \n",
      "\n",
      "Variable Importance: NUM_AS_ROOT:\n",
      "    1. \"last_pymnt_amnt\"  1.000000 \n",
      "\n",
      "Variable Importance: NUM_NODES:\n",
      "    1.                     \"total_rec_prncp\" 40.000000 ################\n",
      "    2.                         \"funded_amnt\" 32.000000 ############\n",
      "    3.                         \"installment\" 29.000000 ###########\n",
      "    4.                     \"last_pymnt_amnt\" 27.000000 ##########\n",
      "    5.                         \"total_pymnt\" 27.000000 ##########\n",
      "    6.                     \"total_pymnt_inv\" 27.000000 ##########\n",
      "    7.                           \"revol_bal\" 26.000000 ##########\n",
      "    8.                          \"annual_inc\" 25.000000 #########\n",
      "    9.                       \"total_rec_int\" 25.000000 #########\n",
      "   10.                           \"total_acc\" 24.000000 #########\n",
      "   11.                    \"total_rev_hi_lim\" 23.000000 #########\n",
      "   12.                          \"revol_util\" 22.000000 ########\n",
      "   13.                                 \"dti\" 20.000000 #######\n",
      "   14.                           \"out_prncp\" 20.000000 #######\n",
      "   15.                            \"int_rate\" 18.000000 ######\n",
      "   16.                            \"open_acc\" 18.000000 ######\n",
      "   17.                           \"loan_amnt\" 16.000000 ######\n",
      "   18.                         \"tot_cur_bal\" 16.000000 ######\n",
      "   19.                        \"tot_coll_amt\"  8.000000 ##\n",
      "   20.                  \"total_rec_late_fee\"  7.000000 ##\n",
      "   21.                          \"recoveries\"  6.000000 ##\n",
      "   22.    \"verification_status_Not_Verified\"  5.000000 #\n",
      "   23.                  \"emp_length_4_years\"  4.000000 #\n",
      "   24.                      \"inq_last_6mths\"  4.000000 #\n",
      "   25.             \"collection_recovery_fee\"  3.000000 \n",
      "   26.                             \"grade_B\"  3.000000 \n",
      "   27.                             \"grade_C\"  3.000000 \n",
      "   28.             \"home_ownership_MORTGAGE\"  3.000000 \n",
      "   29.                 \"home_ownership_RENT\"  3.000000 \n",
      "   30.               \"initial_list_status_w\"  3.000000 \n",
      "   31.                             \"pub_rec\"  3.000000 \n",
      "   32.                  \"emp_length_2_years\"  2.000000 \n",
      "   33.                  \"emp_length_7_years\"  2.000000 \n",
      "   34.                      \"emp_length_n/a\"  2.000000 \n",
      "   35.                     \"term__36_months\"  2.000000 \n",
      "   36.                     \"term__60_months\"  2.000000 \n",
      "   37. \"verification_status_Source_Verified\"  2.000000 \n",
      "   38.        \"verification_status_Verified\"  2.000000 \n",
      "   39.                \"emp_length_10+_years\"  1.000000 \n",
      "   40.                   \"emp_length_1_year\"  1.000000 \n",
      "   41.                  \"emp_length_3_years\"  1.000000 \n",
      "   42.                  \"emp_length_6_years\"  1.000000 \n",
      "   43.                  \"emp_length_9_years\"  1.000000 \n",
      "   44.                 \"emp_length_<_1_year\"  1.000000 \n",
      "   45.                             \"grade_A\"  1.000000 \n",
      "   46.                             \"grade_D\"  1.000000 \n",
      "   47.                             \"grade_F\"  1.000000 \n",
      "   48.                  \"home_ownership_OWN\"  1.000000 \n",
      "   49.               \"initial_list_status_f\"  1.000000 \n",
      "   50.          \"purpose_debt_consolidation\"  1.000000 \n",
      "\n",
      "Variable Importance: SUM_SCORE:\n",
      "    1.                           \"out_prncp\" 16317.877614 ################\n",
      "    2.                          \"recoveries\" 9607.472895 #########\n",
      "    3.                     \"last_pymnt_amnt\" 3779.870112 ###\n",
      "    4.                         \"funded_amnt\" 1373.908461 #\n",
      "    5.                             \"grade_A\" 974.714563 \n",
      "    6.                         \"total_pymnt\" 784.017939 \n",
      "    7.                     \"total_rec_prncp\" 597.161062 \n",
      "    8.                            \"int_rate\" 394.483618 \n",
      "    9.             \"collection_recovery_fee\" 372.522265 \n",
      "   10.                     \"total_pymnt_inv\" 353.401130 \n",
      "   11.                         \"installment\" 336.112390 \n",
      "   12.                       \"total_rec_int\" 292.925216 \n",
      "   13.                           \"loan_amnt\" 226.903516 \n",
      "   14.                         \"tot_cur_bal\" 128.892194 \n",
      "   15.                    \"total_rev_hi_lim\" 123.456480 \n",
      "   16.               \"initial_list_status_w\" 121.175311 \n",
      "   17.                          \"annual_inc\" 118.242183 \n",
      "   18.                           \"revol_bal\" 113.619682 \n",
      "   19.                           \"total_acc\" 110.889198 \n",
      "   20.                          \"revol_util\" 110.708284 \n",
      "   21.                      \"inq_last_6mths\" 108.498484 \n",
      "   22.                  \"total_rec_late_fee\" 95.588535 \n",
      "   23.                            \"open_acc\" 86.857209 \n",
      "   24.                                 \"dti\" 84.325317 \n",
      "   25.                     \"term__60_months\" 46.632247 \n",
      "   26.                        \"tot_coll_amt\" 34.607080 \n",
      "   27.                             \"grade_B\" 26.464137 \n",
      "   28.                  \"emp_length_4_years\" 26.275157 \n",
      "   29.               \"initial_list_status_f\" 21.549670 \n",
      "   30.                             \"grade_C\" 19.967111 \n",
      "   31.                     \"term__36_months\" 19.703129 \n",
      "   32.          \"purpose_debt_consolidation\" 17.859059 \n",
      "   33.    \"verification_status_Not_Verified\" 17.653481 \n",
      "   34.                  \"emp_length_7_years\" 16.752330 \n",
      "   35.                  \"emp_length_2_years\" 13.587510 \n",
      "   36.                             \"pub_rec\" 13.506446 \n",
      "   37.                 \"home_ownership_RENT\" 12.710533 \n",
      "   38.                             \"grade_D\" 11.780595 \n",
      "   39. \"verification_status_Source_Verified\" 10.324661 \n",
      "   40.             \"home_ownership_MORTGAGE\"  7.875185 \n",
      "   41.                \"emp_length_10+_years\"  7.261116 \n",
      "   42.                             \"grade_F\"  6.910234 \n",
      "   43.                  \"home_ownership_OWN\"  6.598716 \n",
      "   44.                      \"emp_length_n/a\"  6.531514 \n",
      "   45.                  \"emp_length_6_years\"  6.402638 \n",
      "   46.        \"verification_status_Verified\"  4.910549 \n",
      "   47.                  \"emp_length_9_years\"  3.749318 \n",
      "   48.                   \"emp_length_1_year\"  3.325780 \n",
      "   49.                  \"emp_length_3_years\"  2.637248 \n",
      "   50.                 \"emp_length_<_1_year\"  2.310286 \n",
      "\n",
      "\n",
      "\n",
      "Winner takes all: true\n",
      "Out-of-bag evaluation: accuracy:0.969434 logloss:1.10172\n",
      "Number of trees: 1\n",
      "Total number of nodes: 1033\n",
      "\n",
      "Number of nodes by tree:\n",
      "Count: 1 Average: 1033 StdDev: 0\n",
      "Min: 1033 Max: 1033 Ignored: 0\n",
      "----------------------------------------------\n",
      "[ 1033, 1033] 1 100.00% 100.00% ##########\n",
      "\n",
      "Depth by leafs:\n",
      "Count: 517 Average: 12.1876 StdDev: 2.58728\n",
      "Min: 2 Max: 15 Ignored: 0\n",
      "----------------------------------------------\n",
      "[  2,  3)   1   0.19%   0.19%\n",
      "[  3,  4)   1   0.19%   0.39%\n",
      "[  4,  5)   0   0.00%   0.39%\n",
      "[  5,  6)   2   0.39%   0.77%\n",
      "[  6,  7)  14   2.71%   3.48% #\n",
      "[  7,  8)  13   2.51%   6.00% #\n",
      "[  8,  9)  21   4.06%  10.06% ##\n",
      "[  9, 10)  27   5.22%  15.28% ##\n",
      "[ 10, 11)  46   8.90%  24.18% ###\n",
      "[ 11, 12)  62  11.99%  36.17% ####\n",
      "[ 12, 13)  66  12.77%  48.94% #####\n",
      "[ 13, 14)  70  13.54%  62.48% #####\n",
      "[ 14, 15)  54  10.44%  72.92% ####\n",
      "[ 15, 15] 140  27.08% 100.00% ##########\n",
      "\n",
      "Number of training obs by leaf:\n",
      "Count: 517 Average: 110.104 StdDev: 649.668\n",
      "Min: 5 Max: 13334 Ignored: 0\n",
      "----------------------------------------------\n",
      "[     5,   671) 506  97.87%  97.87% ##########\n",
      "[   671,  1338)   8   1.55%  99.42%\n",
      "[  1338,  2004)   0   0.00%  99.42%\n",
      "[  2004,  2671)   0   0.00%  99.42%\n",
      "[  2671,  3337)   0   0.00%  99.42%\n",
      "[  3337,  4004)   1   0.19%  99.61%\n",
      "[  4004,  4670)   1   0.19%  99.81%\n",
      "[  4670,  5337)   0   0.00%  99.81%\n",
      "[  5337,  6003)   0   0.00%  99.81%\n",
      "[  6003,  6670)   0   0.00%  99.81%\n",
      "[  6670,  7336)   0   0.00%  99.81%\n",
      "[  7336,  8003)   0   0.00%  99.81%\n",
      "[  8003,  8669)   0   0.00%  99.81%\n",
      "[  8669,  9336)   0   0.00%  99.81%\n",
      "[  9336, 10002)   0   0.00%  99.81%\n",
      "[ 10002, 10669)   0   0.00%  99.81%\n",
      "[ 10669, 11335)   0   0.00%  99.81%\n",
      "[ 11335, 12002)   0   0.00%  99.81%\n",
      "[ 12002, 12668)   0   0.00%  99.81%\n",
      "[ 12668, 13334]   1   0.19% 100.00%\n",
      "\n",
      "Attribute in nodes:\n",
      "\t40 : total_rec_prncp [NUMERICAL]\n",
      "\t32 : funded_amnt [NUMERICAL]\n",
      "\t29 : installment [NUMERICAL]\n",
      "\t27 : total_pymnt_inv [NUMERICAL]\n",
      "\t27 : total_pymnt [NUMERICAL]\n",
      "\t27 : last_pymnt_amnt [NUMERICAL]\n",
      "\t26 : revol_bal [NUMERICAL]\n",
      "\t25 : total_rec_int [NUMERICAL]\n",
      "\t25 : annual_inc [NUMERICAL]\n",
      "\t24 : total_acc [NUMERICAL]\n",
      "\t23 : total_rev_hi_lim [NUMERICAL]\n",
      "\t22 : revol_util [NUMERICAL]\n",
      "\t20 : out_prncp [NUMERICAL]\n",
      "\t20 : dti [NUMERICAL]\n",
      "\t18 : open_acc [NUMERICAL]\n",
      "\t18 : int_rate [NUMERICAL]\n",
      "\t16 : tot_cur_bal [NUMERICAL]\n",
      "\t16 : loan_amnt [NUMERICAL]\n",
      "\t8 : tot_coll_amt [NUMERICAL]\n",
      "\t7 : total_rec_late_fee [NUMERICAL]\n",
      "\t6 : recoveries [NUMERICAL]\n",
      "\t5 : verification_status_Not_Verified [NUMERICAL]\n",
      "\t4 : inq_last_6mths [NUMERICAL]\n",
      "\t4 : emp_length_4_years [NUMERICAL]\n",
      "\t3 : pub_rec [NUMERICAL]\n",
      "\t3 : initial_list_status_w [NUMERICAL]\n",
      "\t3 : home_ownership_RENT [NUMERICAL]\n",
      "\t3 : home_ownership_MORTGAGE [NUMERICAL]\n",
      "\t3 : grade_C [NUMERICAL]\n",
      "\t3 : grade_B [NUMERICAL]\n",
      "\t3 : collection_recovery_fee [NUMERICAL]\n",
      "\t2 : verification_status_Verified [NUMERICAL]\n",
      "\t2 : verification_status_Source_Verified [NUMERICAL]\n",
      "\t2 : term__60_months [NUMERICAL]\n",
      "\t2 : term__36_months [NUMERICAL]\n",
      "\t2 : emp_length_n/a [NUMERICAL]\n",
      "\t2 : emp_length_7_years [NUMERICAL]\n",
      "\t2 : emp_length_2_years [NUMERICAL]\n",
      "\t1 : purpose_debt_consolidation [NUMERICAL]\n",
      "\t1 : initial_list_status_f [NUMERICAL]\n",
      "\t1 : home_ownership_OWN [NUMERICAL]\n",
      "\t1 : grade_F [NUMERICAL]\n",
      "\t1 : grade_D [NUMERICAL]\n",
      "\t1 : grade_A [NUMERICAL]\n",
      "\t1 : emp_length_<_1_year [NUMERICAL]\n",
      "\t1 : emp_length_9_years [NUMERICAL]\n",
      "\t1 : emp_length_6_years [NUMERICAL]\n",
      "\t1 : emp_length_3_years [NUMERICAL]\n",
      "\t1 : emp_length_1_year [NUMERICAL]\n",
      "\t1 : emp_length_10+_years [NUMERICAL]\n",
      "\n",
      "Attribute in nodes with depth <= 0:\n",
      "\t1 : last_pymnt_amnt [NUMERICAL]\n",
      "\n",
      "Attribute in nodes with depth <= 1:\n",
      "\t1 : recoveries [NUMERICAL]\n",
      "\t1 : last_pymnt_amnt [NUMERICAL]\n",
      "\t1 : grade_A [NUMERICAL]\n",
      "\n",
      "Attribute in nodes with depth <= 2:\n",
      "\t2 : recoveries [NUMERICAL]\n",
      "\t2 : last_pymnt_amnt [NUMERICAL]\n",
      "\t1 : inq_last_6mths [NUMERICAL]\n",
      "\t1 : grade_A [NUMERICAL]\n",
      "\n",
      "Attribute in nodes with depth <= 3:\n",
      "\t3 : last_pymnt_amnt [NUMERICAL]\n",
      "\t2 : recoveries [NUMERICAL]\n",
      "\t2 : out_prncp [NUMERICAL]\n",
      "\t1 : verification_status_Source_Verified [NUMERICAL]\n",
      "\t1 : tot_cur_bal [NUMERICAL]\n",
      "\t1 : inq_last_6mths [NUMERICAL]\n",
      "\t1 : grade_A [NUMERICAL]\n",
      "\n",
      "Attribute in nodes with depth <= 5:\n",
      "\t4 : last_pymnt_amnt [NUMERICAL]\n",
      "\t3 : total_pymnt [NUMERICAL]\n",
      "\t3 : recoveries [NUMERICAL]\n",
      "\t3 : out_prncp [NUMERICAL]\n",
      "\t2 : tot_cur_bal [NUMERICAL]\n",
      "\t2 : revol_bal [NUMERICAL]\n",
      "\t2 : int_rate [NUMERICAL]\n",
      "\t2 : inq_last_6mths [NUMERICAL]\n",
      "\t2 : annual_inc [NUMERICAL]\n",
      "\t1 : verification_status_Source_Verified [NUMERICAL]\n",
      "\t1 : verification_status_Not_Verified [NUMERICAL]\n",
      "\t1 : total_rec_late_fee [NUMERICAL]\n",
      "\t1 : total_rec_int [NUMERICAL]\n",
      "\t1 : total_acc [NUMERICAL]\n",
      "\t1 : term__36_months [NUMERICAL]\n",
      "\t1 : installment [NUMERICAL]\n",
      "\t1 : initial_list_status_w [NUMERICAL]\n",
      "\t1 : grade_C [NUMERICAL]\n",
      "\t1 : grade_B [NUMERICAL]\n",
      "\t1 : grade_A [NUMERICAL]\n",
      "\t1 : funded_amnt [NUMERICAL]\n",
      "\t1 : emp_length_6_years [NUMERICAL]\n",
      "\t1 : emp_length_4_years [NUMERICAL]\n",
      "\t1 : dti [NUMERICAL]\n",
      "\t1 : collection_recovery_fee [NUMERICAL]\n",
      "\n",
      "Condition type in nodes:\n",
      "\t516 : HigherCondition\n",
      "Condition type in nodes with depth <= 0:\n",
      "\t1 : HigherCondition\n",
      "Condition type in nodes with depth <= 1:\n",
      "\t3 : HigherCondition\n",
      "Condition type in nodes with depth <= 2:\n",
      "\t6 : HigherCondition\n",
      "Condition type in nodes with depth <= 3:\n",
      "\t11 : HigherCondition\n",
      "Condition type in nodes with depth <= 5:\n",
      "\t39 : HigherCondition\n",
      "Node format: NOT_SET\n",
      "\n",
      "Training OOB:\n",
      "\ttrees: 1, Out-of-bag evaluation: accuracy:0.969434 logloss:1.10172\n",
      "\n"
     ]
    }
   ],
   "source": [
    "model.summary()"
   ]
  },
  {
   "cell_type": "code",
   "execution_count": 110,
   "metadata": {},
   "outputs": [
    {
     "name": "stderr",
     "output_type": "stream",
     "text": [
      "2023-06-02 20:03:06.455186: I tensorflow/core/common_runtime/executor.cc:1197] [/device:CPU:0] (DEBUG INFO) Executor start aborting (this does not indicate an error and you can ignore this message): INVALID_ARGUMENT: You must feed a value for placeholder tensor 'Placeholder/_70' with dtype int32 and shape [24396]\n",
      "\t [[{{node Placeholder/_70}}]]\n"
     ]
    },
    {
     "name": "stdout",
     "output_type": "stream",
     "text": [
      "25/25 [==============================] - 1s 17ms/step - loss: 0.0000e+00 - accuracy: 0.9704 - precision: 0.9817 - recall: 0.9587\n"
     ]
    },
    {
     "data": {
      "text/plain": [
       "[0.0, 0.9704049825668335, 0.9816868305206299, 0.9586546421051025]"
      ]
     },
     "execution_count": 110,
     "metadata": {},
     "output_type": "execute_result"
    }
   ],
   "source": [
    "model.evaluate(X_test)"
   ]
  },
  {
   "cell_type": "code",
   "execution_count": 111,
   "metadata": {},
   "outputs": [
    {
     "name": "stdout",
     "output_type": "stream",
     "text": [
      "25/25 [==============================] - 0s 16ms/step\n"
     ]
    }
   ],
   "source": [
    "y_pred = model.predict(X_test)"
   ]
  },
  {
   "cell_type": "code",
   "execution_count": 112,
   "metadata": {},
   "outputs": [],
   "source": [
    "cm = confusion_matrix(test['default_ind'], y_pred)"
   ]
  },
  {
   "cell_type": "code",
   "execution_count": 113,
   "metadata": {},
   "outputs": [
    {
     "data": {
      "image/png": "[encoded data removed]",
      "text/plain": [
       "<Figure size 432x288 with 2 Axes>"
      ]
     },
     "metadata": {
      "needs_background": "light"
     },
     "output_type": "display_data"
    }
   ],
   "source": [
    "graph_confusion_matrix(cm)"
   ]
  },
  {
   "cell_type": "code",
   "execution_count": 114,
   "metadata": {},
   "outputs": [
    {
     "data": {
      "image/png": "[encoded data removed]",
      "text/plain": [
       "<Figure size 432x288 with 1 Axes>"
      ]
     },
     "metadata": {
      "needs_background": "light"
     },
     "output_type": "display_data"
    }
   ],
   "source": [
    "graph_roc_curve(test['default_ind'], y_pred)"
   ]
  },
  {
   "attachments": {},
   "cell_type": "markdown",
   "metadata": {},
   "source": [
    "### Random Forrest"
   ]
  },
  {
   "cell_type": "code",
   "execution_count": 115,
   "metadata": {},
   "outputs": [
    {
     "name": "stdout",
     "output_type": "stream",
     "text": [
      "Use /tmp/tmpusjs7ag1 as temporary training directory\n"
     ]
    }
   ],
   "source": [
    "model = tfdf.keras.RandomForestModel()"
   ]
  },
  {
   "cell_type": "code",
   "execution_count": 116,
   "metadata": {},
   "outputs": [],
   "source": [
    "model.compile(metrics=['accuracy', tf.keras.metrics.Precision(), tf.keras.metrics.Recall()])"
   ]
  },
  {
   "cell_type": "code",
   "execution_count": 117,
   "metadata": {},
   "outputs": [
    {
     "name": "stdout",
     "output_type": "stream",
     "text": [
      "Reading training dataset...\n",
      "Training dataset read in 0:00:01.293811. Found 56924 examples.\n",
      "Training model...\n"
     ]
    },
    {
     "name": "stderr",
     "output_type": "stream",
     "text": [
      "[INFO 23-06-02 20:03:14.1592 AEST kernel.cc:1242] Loading model from path /tmp/tmpusjs7ag1/model/ with prefix 43d32e9235e64599\n"
     ]
    },
    {
     "name": "stdout",
     "output_type": "stream",
     "text": [
      "Model trained in 0:00:05.049519\n",
      "Compiling model...\n"
     ]
    },
    {
     "name": "stderr",
     "output_type": "stream",
     "text": [
      "[INFO 23-06-02 20:03:14.5372 AEST decision_forest.cc:660] Model loaded with 300 root(s), 392708 node(s), and 69 input feature(s).\n",
      "[INFO 23-06-02 20:03:14.5372 AEST kernel.cc:1074] Use fast generic engine\n",
      "2023-06-02 20:03:14.611839: I tensorflow/core/common_runtime/executor.cc:1197] [/device:CPU:0] (DEBUG INFO) Executor start aborting (this does not indicate an error and you can ignore this message): INVALID_ARGUMENT: You must feed a value for placeholder tensor 'Placeholder/_45' with dtype int32 and shape [56924]\n",
      "\t [[{{node Placeholder/_45}}]]\n"
     ]
    },
    {
     "name": "stdout",
     "output_type": "stream",
     "text": [
      "Model compiled.\n"
     ]
    },
    {
     "data": {
      "text/plain": [
       "<keras.callbacks.History at 0x7f91a8ff5640>"
      ]
     },
     "execution_count": 117,
     "metadata": {},
     "output_type": "execute_result"
    }
   ],
   "source": [
    "model.fit(X_train)"
   ]
  },
  {
   "cell_type": "code",
   "execution_count": 118,
   "metadata": {},
   "outputs": [
    {
     "name": "stdout",
     "output_type": "stream",
     "text": [
      "Model: \"random_forest_model_1\"\n",
      "_________________________________________________________________\n",
      " Layer (type)                Output Shape              Param #   \n",
      "=================================================================\n",
      "=================================================================\n",
      "Total params: 1\n",
      "Trainable params: 0\n",
      "Non-trainable params: 1\n",
      "_________________________________________________________________\n",
      "Type: \"RANDOM_FOREST\"\n",
      "Task: CLASSIFICATION\n",
      "Label: \"__LABEL\"\n",
      "\n",
      "Input Features (73):\n",
      "\tacc_now_delinq\n",
      "\tannual_inc\n",
      "\tapplication_type_INDIVIDUAL\n",
      "\tapplication_type_JOINT\n",
      "\tcollection_recovery_fee\n",
      "\tcollections_12_mths_ex_med\n",
      "\tdelinq_2yrs\n",
      "\tdti\n",
      "\temp_length_10+_years\n",
      "\temp_length_1_year\n",
      "\temp_length_2_years\n",
      "\temp_length_3_years\n",
      "\temp_length_4_years\n",
      "\temp_length_5_years\n",
      "\temp_length_6_years\n",
      "\temp_length_7_years\n",
      "\temp_length_8_years\n",
      "\temp_length_9_years\n",
      "\temp_length_<_1_year\n",
      "\temp_length_n/a\n",
      "\tfunded_amnt\n",
      "\tgrade_A\n",
      "\tgrade_B\n",
      "\tgrade_C\n",
      "\tgrade_D\n",
      "\tgrade_E\n",
      "\tgrade_F\n",
      "\tgrade_G\n",
      "\thome_ownership_MORTGAGE\n",
      "\thome_ownership_OTHER\n",
      "\thome_ownership_OWN\n",
      "\thome_ownership_RENT\n",
      "\tinitial_list_status_f\n",
      "\tinitial_list_status_w\n",
      "\tinq_last_6mths\n",
      "\tinstallment\n",
      "\tint_rate\n",
      "\tlast_pymnt_amnt\n",
      "\tloan_amnt\n",
      "\topen_acc\n",
      "\tout_prncp\n",
      "\tpub_rec\n",
      "\tpurpose_car\n",
      "\tpurpose_credit_card\n",
      "\tpurpose_debt_consolidation\n",
      "\tpurpose_educational\n",
      "\tpurpose_home_improvement\n",
      "\tpurpose_house\n",
      "\tpurpose_major_purchase\n",
      "\tpurpose_medical\n",
      "\tpurpose_moving\n",
      "\tpurpose_other\n",
      "\tpurpose_renewable_energy\n",
      "\tpurpose_small_business\n",
      "\tpurpose_vacation\n",
      "\tpurpose_wedding\n",
      "\trecoveries\n",
      "\trevol_bal\n",
      "\trevol_util\n",
      "\tterm__36_months\n",
      "\tterm__60_months\n",
      "\ttot_coll_amt\n",
      "\ttot_cur_bal\n",
      "\ttotal_acc\n",
      "\ttotal_pymnt\n",
      "\ttotal_pymnt_inv\n",
      "\ttotal_rec_int\n",
      "\ttotal_rec_late_fee\n",
      "\ttotal_rec_prncp\n",
      "\ttotal_rev_hi_lim\n",
      "\tverification_status_Not_Verified\n",
      "\tverification_status_Source_Verified\n",
      "\tverification_status_Verified\n",
      "\n",
      "No weights\n",
      "\n",
      "Variable Importance: INV_MEAN_MIN_DEPTH:\n",
      "    1.                           \"out_prncp\"  0.152046 ################\n",
      "    2.                            \"int_rate\"  0.135942 ############\n",
      "    3.                     \"last_pymnt_amnt\"  0.126805 ##########\n",
      "    4.                          \"recoveries\"  0.113719 #######\n",
      "    5.                     \"total_rec_prncp\"  0.112368 #######\n",
      "    6.                  \"total_rec_late_fee\"  0.108115 ######\n",
      "    7.             \"collection_recovery_fee\"  0.102729 #####\n",
      "    8.                             \"grade_A\"  0.097847 ####\n",
      "    9.                         \"total_pymnt\"  0.097206 ####\n",
      "   10.                     \"total_pymnt_inv\"  0.097196 ####\n",
      "   11.                       \"total_rec_int\"  0.096935 ####\n",
      "   12.               \"initial_list_status_w\"  0.093577 ###\n",
      "   13.                          \"annual_inc\"  0.089429 ##\n",
      "   14.                    \"total_rev_hi_lim\"  0.088157 ##\n",
      "   15.                         \"tot_cur_bal\"  0.088130 ##\n",
      "   16.               \"initial_list_status_f\"  0.087530 ##\n",
      "   17.                      \"inq_last_6mths\"  0.085580 ##\n",
      "   18.                         \"installment\"  0.085476 ##\n",
      "   19.                           \"loan_amnt\"  0.084349 #\n",
      "   20.                         \"funded_amnt\"  0.084345 #\n",
      "   21.                                 \"dti\"  0.083940 #\n",
      "   22.                             \"grade_B\"  0.082253 #\n",
      "   23.                          \"revol_util\"  0.082098 #\n",
      "   24.                           \"revol_bal\"  0.081684 #\n",
      "   25.                             \"grade_D\"  0.081325 #\n",
      "   26.        \"verification_status_Verified\"  0.080558 #\n",
      "   27.                             \"grade_E\"  0.080517 #\n",
      "   28.                             \"grade_F\"  0.080365 #\n",
      "   29.                     \"term__60_months\"  0.079830 \n",
      "   30.                           \"total_acc\"  0.079795 \n",
      "   31.                            \"open_acc\"  0.079237 \n",
      "   32.                     \"term__36_months\"  0.078129 \n",
      "   33. \"verification_status_Source_Verified\"  0.077698 \n",
      "   34.                             \"grade_C\"  0.077669 \n",
      "   35.                 \"home_ownership_RENT\"  0.077609 \n",
      "   36.                        \"tot_coll_amt\"  0.077537 \n",
      "   37.             \"home_ownership_MORTGAGE\"  0.076987 \n",
      "   38.    \"verification_status_Not_Verified\"  0.076873 \n",
      "   39.                 \"purpose_credit_card\"  0.076780 \n",
      "   40.                         \"delinq_2yrs\"  0.076635 \n",
      "   41.                             \"pub_rec\"  0.076238 \n",
      "   42.          \"purpose_debt_consolidation\"  0.075994 \n",
      "   43.                             \"grade_G\"  0.075978 \n",
      "   44.                \"emp_length_10+_years\"  0.075934 \n",
      "   45.                      \"emp_length_n/a\"  0.075786 \n",
      "   46.            \"purpose_home_improvement\"  0.075775 \n",
      "   47.              \"purpose_small_business\"  0.075762 \n",
      "   48.                   \"emp_length_1_year\"  0.075739 \n",
      "   49.                  \"emp_length_3_years\"  0.075720 \n",
      "   50.                       \"purpose_other\"  0.075715 \n",
      "   51.                  \"emp_length_2_years\"  0.075704 \n",
      "   52.                 \"emp_length_<_1_year\"  0.075675 \n",
      "   53.                  \"emp_length_9_years\"  0.075663 \n",
      "   54.                     \"purpose_medical\"  0.075663 \n",
      "   55.                  \"emp_length_6_years\"  0.075645 \n",
      "   56.                  \"emp_length_4_years\"  0.075644 \n",
      "   57.                  \"home_ownership_OWN\"  0.075640 \n",
      "   58.                  \"emp_length_8_years\"  0.075635 \n",
      "   59.                  \"emp_length_5_years\"  0.075625 \n",
      "   60.                  \"emp_length_7_years\"  0.075599 \n",
      "   61.          \"collections_12_mths_ex_med\"  0.075588 \n",
      "   62.                         \"purpose_car\"  0.075562 \n",
      "   63.              \"purpose_major_purchase\"  0.075524 \n",
      "   64.                      \"purpose_moving\"  0.075513 \n",
      "   65.                    \"purpose_vacation\"  0.075492 \n",
      "   66.                       \"purpose_house\"  0.075446 \n",
      "   67.                      \"acc_now_delinq\"  0.075433 \n",
      "   68.                     \"purpose_wedding\"  0.075425 \n",
      "   69.            \"purpose_renewable_energy\"  0.075414 \n",
      "\n",
      "Variable Importance: NUM_AS_ROOT:\n",
      "    1.                           \"out_prncp\" 45.000000 ################\n",
      "    2.             \"collection_recovery_fee\" 31.000000 ##########\n",
      "    3.                     \"last_pymnt_amnt\" 30.000000 ##########\n",
      "    4.                            \"int_rate\" 28.000000 #########\n",
      "    5.                          \"recoveries\" 27.000000 #########\n",
      "    6.                     \"total_rec_prncp\" 25.000000 ########\n",
      "    7.               \"initial_list_status_w\" 22.000000 #######\n",
      "    8.                  \"total_rec_late_fee\" 17.000000 #####\n",
      "    9.                             \"grade_A\" 16.000000 #####\n",
      "   10.                      \"inq_last_6mths\" 11.000000 ###\n",
      "   11.               \"initial_list_status_f\"  9.000000 ##\n",
      "   12.                    \"total_rev_hi_lim\"  7.000000 ##\n",
      "   13.                             \"grade_F\"  4.000000 #\n",
      "   14.                         \"tot_cur_bal\"  4.000000 #\n",
      "   15.                          \"annual_inc\"  3.000000 \n",
      "   16.                             \"grade_D\"  3.000000 \n",
      "   17.                 \"purpose_credit_card\"  3.000000 \n",
      "   18.                             \"grade_B\"  2.000000 \n",
      "   19.                          \"revol_util\"  2.000000 \n",
      "   20.                     \"total_pymnt_inv\"  2.000000 \n",
      "   21.                       \"total_rec_int\"  2.000000 \n",
      "   22. \"verification_status_Source_Verified\"  2.000000 \n",
      "   23.                             \"grade_E\"  1.000000 \n",
      "   24.             \"home_ownership_MORTGAGE\"  1.000000 \n",
      "   25.                 \"home_ownership_RENT\"  1.000000 \n",
      "   26.                        \"tot_coll_amt\"  1.000000 \n",
      "   27.                         \"total_pymnt\"  1.000000 \n",
      "\n",
      "Variable Importance: NUM_NODES:\n",
      "    1.                     \"total_rec_prncp\" 14153.000000 ################\n",
      "    2.                           \"out_prncp\" 12771.000000 ##############\n",
      "    3.                     \"last_pymnt_amnt\" 12060.000000 #############\n",
      "    4.                         \"total_pymnt\" 10778.000000 ############\n",
      "    5.                       \"total_rec_int\" 10686.000000 ############\n",
      "    6.                         \"installment\" 10425.000000 ###########\n",
      "    7.                     \"total_pymnt_inv\" 10371.000000 ###########\n",
      "    8.                            \"int_rate\" 9525.000000 ##########\n",
      "    9.                                 \"dti\" 8186.000000 #########\n",
      "   10.                           \"loan_amnt\" 8171.000000 #########\n",
      "   11.                         \"funded_amnt\" 8141.000000 #########\n",
      "   12.                          \"revol_util\" 7911.000000 ########\n",
      "   13.                           \"revol_bal\" 7908.000000 ########\n",
      "   14.                         \"tot_cur_bal\" 7833.000000 ########\n",
      "   15.                          \"annual_inc\" 7788.000000 ########\n",
      "   16.                    \"total_rev_hi_lim\" 7600.000000 ########\n",
      "   17.                           \"total_acc\" 6552.000000 #######\n",
      "   18.                            \"open_acc\" 5264.000000 #####\n",
      "   19.                      \"inq_last_6mths\" 2108.000000 ##\n",
      "   20.                  \"total_rec_late_fee\" 2055.000000 ##\n",
      "   21.                          \"recoveries\" 1738.000000 #\n",
      "   22.                        \"tot_coll_amt\" 1503.000000 #\n",
      "   23.                         \"delinq_2yrs\" 1200.000000 #\n",
      "   24.             \"collection_recovery_fee\" 1118.000000 #\n",
      "   25.        \"verification_status_Verified\" 1042.000000 #\n",
      "   26.          \"purpose_debt_consolidation\" 1015.000000 #\n",
      "   27. \"verification_status_Source_Verified\" 967.000000 #\n",
      "   28.                 \"home_ownership_RENT\" 954.000000 #\n",
      "   29.    \"verification_status_Not_Verified\" 924.000000 #\n",
      "   30.                \"emp_length_10+_years\" 913.000000 #\n",
      "   31.             \"home_ownership_MORTGAGE\" 902.000000 #\n",
      "   32.               \"initial_list_status_f\" 803.000000 \n",
      "   33.                             \"grade_C\" 801.000000 \n",
      "   34.                             \"pub_rec\" 800.000000 \n",
      "   35.                     \"term__60_months\" 800.000000 \n",
      "   36.               \"initial_list_status_w\" 774.000000 \n",
      "   37.                             \"grade_B\" 742.000000 \n",
      "   38.                     \"term__36_months\" 735.000000 \n",
      "   39.                 \"purpose_credit_card\" 699.000000 \n",
      "   40.                             \"grade_D\" 612.000000 \n",
      "   41.                             \"grade_A\" 575.000000 \n",
      "   42.                             \"grade_E\" 486.000000 \n",
      "   43.                  \"emp_length_2_years\" 470.000000 \n",
      "   44.                  \"home_ownership_OWN\" 434.000000 \n",
      "   45.                  \"emp_length_3_years\" 417.000000 \n",
      "   46.                 \"emp_length_<_1_year\" 394.000000 \n",
      "   47.                   \"emp_length_1_year\" 386.000000 \n",
      "   48.                      \"emp_length_n/a\" 335.000000 \n",
      "   49.                  \"emp_length_4_years\" 324.000000 \n",
      "   50.                  \"emp_length_5_years\" 324.000000 \n",
      "   51.                             \"grade_F\" 308.000000 \n",
      "   52.                       \"purpose_other\" 304.000000 \n",
      "   53.                  \"emp_length_8_years\" 289.000000 \n",
      "   54.                  \"emp_length_7_years\" 282.000000 \n",
      "   55.                  \"emp_length_9_years\" 276.000000 \n",
      "   56.                  \"emp_length_6_years\" 265.000000 \n",
      "   57.            \"purpose_home_improvement\" 230.000000 \n",
      "   58.                     \"purpose_medical\" 138.000000 \n",
      "   59.              \"purpose_major_purchase\" 121.000000 \n",
      "   60.              \"purpose_small_business\" 120.000000 \n",
      "   61.                             \"grade_G\" 89.000000 \n",
      "   62.          \"collections_12_mths_ex_med\" 69.000000 \n",
      "   63.                         \"purpose_car\" 68.000000 \n",
      "   64.                    \"purpose_vacation\" 61.000000 \n",
      "   65.                      \"purpose_moving\" 57.000000 \n",
      "   66.                       \"purpose_house\" 22.000000 \n",
      "   67.                     \"purpose_wedding\" 16.000000 \n",
      "   68.                      \"acc_now_delinq\" 14.000000 \n",
      "   69.            \"purpose_renewable_energy\"  2.000000 \n",
      "\n",
      "Variable Importance: SUM_SCORE:\n",
      "    1.                           \"out_prncp\" 4638043.596904 ################\n",
      "    2.                          \"recoveries\" 1215799.181404 ####\n",
      "    3.             \"collection_recovery_fee\" 1003944.233533 ###\n",
      "    4.                     \"last_pymnt_amnt\" 943876.368230 ###\n",
      "    5.                     \"total_rec_prncp\" 606250.231168 ##\n",
      "    6.                            \"int_rate\" 361941.856697 #\n",
      "    7.                         \"total_pymnt\" 286549.865585 \n",
      "    8.                     \"total_pymnt_inv\" 246175.537507 \n",
      "    9.                           \"loan_amnt\" 189882.295896 \n",
      "   10.                         \"installment\" 187147.925035 \n",
      "   11.                         \"funded_amnt\" 184530.652052 \n",
      "   12.                       \"total_rec_int\" 161876.255214 \n",
      "   13.                  \"total_rec_late_fee\" 98065.665844 \n",
      "   14.               \"initial_list_status_w\" 72346.353310 \n",
      "   15.                             \"grade_A\" 66128.872307 \n",
      "   16.                    \"total_rev_hi_lim\" 60064.334597 \n",
      "   17.                         \"tot_cur_bal\" 55755.445335 \n",
      "   18.               \"initial_list_status_f\" 51977.664899 \n",
      "   19.                          \"annual_inc\" 50081.498881 \n",
      "   20.                                 \"dti\" 44873.251899 \n",
      "   21.                           \"revol_bal\" 44497.804044 \n",
      "   22.                          \"revol_util\" 41994.158752 \n",
      "   23.                           \"total_acc\" 31781.462553 \n",
      "   24.                      \"inq_last_6mths\" 25108.436458 \n",
      "   25.                            \"open_acc\" 24657.878090 \n",
      "   26.                     \"term__60_months\" 21900.043686 \n",
      "   27.                     \"term__36_months\" 14479.050665 \n",
      "   28.                             \"grade_B\" 14390.547875 \n",
      "   29.        \"verification_status_Verified\" 11889.258600 \n",
      "   30.                        \"tot_coll_amt\" 8735.591764 \n",
      "   31.                             \"grade_D\" 8627.191409 \n",
      "   32.                             \"grade_E\" 8381.032653 \n",
      "   33.                             \"grade_C\" 7917.252767 \n",
      "   34.    \"verification_status_Not_Verified\" 6470.381114 \n",
      "   35. \"verification_status_Source_Verified\" 6082.679549 \n",
      "   36.                             \"grade_F\" 5988.218112 \n",
      "   37.                         \"delinq_2yrs\" 5968.252588 \n",
      "   38.                 \"home_ownership_RENT\" 4880.871193 \n",
      "   39.             \"home_ownership_MORTGAGE\" 4244.150469 \n",
      "   40.          \"purpose_debt_consolidation\" 4204.974748 \n",
      "   41.                             \"pub_rec\" 3914.576123 \n",
      "   42.                \"emp_length_10+_years\" 3691.482652 \n",
      "   43.                 \"purpose_credit_card\" 3554.029058 \n",
      "   44.                  \"emp_length_2_years\" 2005.780876 \n",
      "   45.                  \"emp_length_3_years\" 1985.888456 \n",
      "   46.                      \"emp_length_n/a\" 1979.098238 \n",
      "   47.                  \"home_ownership_OWN\" 1942.164658 \n",
      "   48.                   \"emp_length_1_year\" 1912.187917 \n",
      "   49.                 \"emp_length_<_1_year\" 1767.189319 \n",
      "   50.                       \"purpose_other\" 1593.264606 \n",
      "   51.                  \"emp_length_5_years\" 1583.002412 \n",
      "   52.                  \"emp_length_4_years\" 1510.608569 \n",
      "   53.                  \"emp_length_7_years\" 1363.492601 \n",
      "   54.                  \"emp_length_9_years\" 1349.832109 \n",
      "   55.                  \"emp_length_8_years\" 1347.136793 \n",
      "   56.                  \"emp_length_6_years\" 1343.008745 \n",
      "   57.            \"purpose_home_improvement\" 1085.940411 \n",
      "   58.                             \"grade_G\" 904.789239 \n",
      "   59.              \"purpose_small_business\" 864.865957 \n",
      "   60.                     \"purpose_medical\" 839.138496 \n",
      "   61.              \"purpose_major_purchase\" 717.569805 \n",
      "   62.                         \"purpose_car\" 461.405443 \n",
      "   63.          \"collections_12_mths_ex_med\" 418.942346 \n",
      "   64.                      \"purpose_moving\" 363.245780 \n",
      "   65.                    \"purpose_vacation\" 327.238265 \n",
      "   66.                       \"purpose_house\" 142.868747 \n",
      "   67.                     \"purpose_wedding\" 98.331760 \n",
      "   68.                      \"acc_now_delinq\" 78.294148 \n",
      "   69.            \"purpose_renewable_energy\" 15.760308 \n",
      "\n",
      "\n",
      "\n",
      "Winner takes all: true\n",
      "Out-of-bag evaluation: accuracy:0.982889 logloss:0.106823\n",
      "Number of trees: 300\n",
      "Total number of nodes: 392708\n",
      "\n",
      "Number of nodes by tree:\n",
      "Count: 300 Average: 1309.03 StdDev: 196.877\n",
      "Min: 919 Max: 1847 Ignored: 0\n",
      "----------------------------------------------\n",
      "[  919,  965)  4   1.33%   1.33% #\n",
      "[  965, 1011)  5   1.67%   3.00% ##\n",
      "[ 1011, 1058) 16   5.33%   8.33% #####\n",
      "[ 1058, 1104) 22   7.33%  15.67% #######\n",
      "[ 1104, 1151) 23   7.67%  23.33% ########\n",
      "[ 1151, 1197) 28   9.33%  32.67% #########\n",
      "[ 1197, 1244) 29   9.67%  42.33% ##########\n",
      "[ 1244, 1290) 24   8.00%  50.33% ########\n",
      "[ 1290, 1337) 25   8.33%  58.67% ########\n",
      "[ 1337, 1383) 30  10.00%  68.67% ##########\n",
      "[ 1383, 1429) 15   5.00%  73.67% #####\n",
      "[ 1429, 1476) 25   8.33%  82.00% ########\n",
      "[ 1476, 1522)  6   2.00%  84.00% ##\n",
      "[ 1522, 1569) 10   3.33%  87.33% ###\n",
      "[ 1569, 1615)  9   3.00%  90.33% ###\n",
      "[ 1615, 1662) 12   4.00%  94.33% ####\n",
      "[ 1662, 1708)  5   1.67%  96.00% ##\n",
      "[ 1708, 1755)  7   2.33%  98.33% ##\n",
      "[ 1755, 1801)  3   1.00%  99.33% #\n",
      "[ 1801, 1847]  2   0.67% 100.00% #\n",
      "\n",
      "Depth by leafs:\n",
      "Count: 196504 Average: 12.2804 StdDev: 2.45573\n",
      "Min: 1 Max: 15 Ignored: 0\n",
      "----------------------------------------------\n",
      "[  1,  2)    58   0.03%   0.03%\n",
      "[  2,  3)    91   0.05%   0.08%\n",
      "[  3,  4)   196   0.10%   0.18%\n",
      "[  4,  5)   431   0.22%   0.39%\n",
      "[  5,  6)  1044   0.53%   0.93%\n",
      "[  6,  7)  2239   1.14%   2.07%\n",
      "[  7,  8)  4496   2.29%   4.35% #\n",
      "[  8,  9)  7793   3.97%   8.32% ##\n",
      "[  9, 10) 12140   6.18%  14.50% ###\n",
      "[ 10, 11) 16914   8.61%  23.10% ####\n",
      "[ 11, 12) 21828  11.11%  34.21% #####\n",
      "[ 12, 13) 25375  12.91%  47.13% #####\n",
      "[ 13, 14) 27528  14.01%  61.14% ######\n",
      "[ 14, 15) 28309  14.41%  75.54% ######\n",
      "[ 15, 15] 48062  24.46% 100.00% ##########\n",
      "\n",
      "Number of training obs by leaf:\n",
      "Count: 196504 Average: 86.9051 StdDev: 457.46\n",
      "Min: 5 Max: 19446 Ignored: 0\n",
      "----------------------------------------------\n",
      "[     5,   977) 194439  98.95%  98.95% ##########\n",
      "[   977,  1949)   1238   0.63%  99.58%\n",
      "[  1949,  2921)    305   0.16%  99.73%\n",
      "[  2921,  3893)    129   0.07%  99.80%\n",
      "[  3893,  4865)     88   0.04%  99.84%\n",
      "[  4865,  5837)     53   0.03%  99.87%\n",
      "[  5837,  6809)     37   0.02%  99.89%\n",
      "[  6809,  7781)     23   0.01%  99.90%\n",
      "[  7781,  8753)     26   0.01%  99.92%\n",
      "[  8753,  9726)     17   0.01%  99.92%\n",
      "[  9726, 10698)     21   0.01%  99.93%\n",
      "[ 10698, 11670)     22   0.01%  99.95%\n",
      "[ 11670, 12642)      9   0.00%  99.95%\n",
      "[ 12642, 13614)     48   0.02%  99.98%\n",
      "[ 13614, 14586)     45   0.02% 100.00%\n",
      "[ 14586, 15558)      1   0.00% 100.00%\n",
      "[ 15558, 16530)      0   0.00% 100.00%\n",
      "[ 16530, 17502)      0   0.00% 100.00%\n",
      "[ 17502, 18474)      1   0.00% 100.00%\n",
      "[ 18474, 19446]      2   0.00% 100.00%\n",
      "\n",
      "Attribute in nodes:\n",
      "\t14153 : total_rec_prncp [NUMERICAL]\n",
      "\t12771 : out_prncp [NUMERICAL]\n",
      "\t12060 : last_pymnt_amnt [NUMERICAL]\n",
      "\t10778 : total_pymnt [NUMERICAL]\n",
      "\t10686 : total_rec_int [NUMERICAL]\n",
      "\t10425 : installment [NUMERICAL]\n",
      "\t10371 : total_pymnt_inv [NUMERICAL]\n",
      "\t9525 : int_rate [NUMERICAL]\n",
      "\t8186 : dti [NUMERICAL]\n",
      "\t8171 : loan_amnt [NUMERICAL]\n",
      "\t8141 : funded_amnt [NUMERICAL]\n",
      "\t7911 : revol_util [NUMERICAL]\n",
      "\t7908 : revol_bal [NUMERICAL]\n",
      "\t7833 : tot_cur_bal [NUMERICAL]\n",
      "\t7788 : annual_inc [NUMERICAL]\n",
      "\t7600 : total_rev_hi_lim [NUMERICAL]\n",
      "\t6552 : total_acc [NUMERICAL]\n",
      "\t5264 : open_acc [NUMERICAL]\n",
      "\t2108 : inq_last_6mths [NUMERICAL]\n",
      "\t2055 : total_rec_late_fee [NUMERICAL]\n",
      "\t1738 : recoveries [NUMERICAL]\n",
      "\t1503 : tot_coll_amt [NUMERICAL]\n",
      "\t1200 : delinq_2yrs [NUMERICAL]\n",
      "\t1118 : collection_recovery_fee [NUMERICAL]\n",
      "\t1042 : verification_status_Verified [NUMERICAL]\n",
      "\t1015 : purpose_debt_consolidation [NUMERICAL]\n",
      "\t967 : verification_status_Source_Verified [NUMERICAL]\n",
      "\t954 : home_ownership_RENT [NUMERICAL]\n",
      "\t924 : verification_status_Not_Verified [NUMERICAL]\n",
      "\t913 : emp_length_10+_years [NUMERICAL]\n",
      "\t902 : home_ownership_MORTGAGE [NUMERICAL]\n",
      "\t803 : initial_list_status_f [NUMERICAL]\n",
      "\t801 : grade_C [NUMERICAL]\n",
      "\t800 : term__60_months [NUMERICAL]\n",
      "\t800 : pub_rec [NUMERICAL]\n",
      "\t774 : initial_list_status_w [NUMERICAL]\n",
      "\t742 : grade_B [NUMERICAL]\n",
      "\t735 : term__36_months [NUMERICAL]\n",
      "\t699 : purpose_credit_card [NUMERICAL]\n",
      "\t612 : grade_D [NUMERICAL]\n",
      "\t575 : grade_A [NUMERICAL]\n",
      "\t486 : grade_E [NUMERICAL]\n",
      "\t470 : emp_length_2_years [NUMERICAL]\n",
      "\t434 : home_ownership_OWN [NUMERICAL]\n",
      "\t417 : emp_length_3_years [NUMERICAL]\n",
      "\t394 : emp_length_<_1_year [NUMERICAL]\n",
      "\t386 : emp_length_1_year [NUMERICAL]\n",
      "\t335 : emp_length_n/a [NUMERICAL]\n",
      "\t324 : emp_length_5_years [NUMERICAL]\n",
      "\t324 : emp_length_4_years [NUMERICAL]\n",
      "\t308 : grade_F [NUMERICAL]\n",
      "\t304 : purpose_other [NUMERICAL]\n",
      "\t289 : emp_length_8_years [NUMERICAL]\n",
      "\t282 : emp_length_7_years [NUMERICAL]\n",
      "\t276 : emp_length_9_years [NUMERICAL]\n",
      "\t265 : emp_length_6_years [NUMERICAL]\n",
      "\t230 : purpose_home_improvement [NUMERICAL]\n",
      "\t138 : purpose_medical [NUMERICAL]\n",
      "\t121 : purpose_major_purchase [NUMERICAL]\n",
      "\t120 : purpose_small_business [NUMERICAL]\n",
      "\t89 : grade_G [NUMERICAL]\n",
      "\t69 : collections_12_mths_ex_med [NUMERICAL]\n",
      "\t68 : purpose_car [NUMERICAL]\n",
      "\t61 : purpose_vacation [NUMERICAL]\n",
      "\t57 : purpose_moving [NUMERICAL]\n",
      "\t22 : purpose_house [NUMERICAL]\n",
      "\t16 : purpose_wedding [NUMERICAL]\n",
      "\t14 : acc_now_delinq [NUMERICAL]\n",
      "\t2 : purpose_renewable_energy [NUMERICAL]\n",
      "\n",
      "Attribute in nodes with depth <= 0:\n",
      "\t45 : out_prncp [NUMERICAL]\n",
      "\t31 : collection_recovery_fee [NUMERICAL]\n",
      "\t30 : last_pymnt_amnt [NUMERICAL]\n",
      "\t28 : int_rate [NUMERICAL]\n",
      "\t27 : recoveries [NUMERICAL]\n",
      "\t25 : total_rec_prncp [NUMERICAL]\n",
      "\t22 : initial_list_status_w [NUMERICAL]\n",
      "\t17 : total_rec_late_fee [NUMERICAL]\n",
      "\t16 : grade_A [NUMERICAL]\n",
      "\t11 : inq_last_6mths [NUMERICAL]\n",
      "\t9 : initial_list_status_f [NUMERICAL]\n",
      "\t7 : total_rev_hi_lim [NUMERICAL]\n",
      "\t4 : tot_cur_bal [NUMERICAL]\n",
      "\t4 : grade_F [NUMERICAL]\n",
      "\t3 : purpose_credit_card [NUMERICAL]\n",
      "\t3 : grade_D [NUMERICAL]\n",
      "\t3 : annual_inc [NUMERICAL]\n",
      "\t2 : verification_status_Source_Verified [NUMERICAL]\n",
      "\t2 : total_rec_int [NUMERICAL]\n",
      "\t2 : total_pymnt_inv [NUMERICAL]\n",
      "\t2 : revol_util [NUMERICAL]\n",
      "\t2 : grade_B [NUMERICAL]\n",
      "\t1 : total_pymnt [NUMERICAL]\n",
      "\t1 : tot_coll_amt [NUMERICAL]\n",
      "\t1 : home_ownership_RENT [NUMERICAL]\n",
      "\t1 : home_ownership_MORTGAGE [NUMERICAL]\n",
      "\t1 : grade_E [NUMERICAL]\n",
      "\n",
      "Attribute in nodes with depth <= 1:\n",
      "\t96 : out_prncp [NUMERICAL]\n",
      "\t85 : last_pymnt_amnt [NUMERICAL]\n",
      "\t77 : recoveries [NUMERICAL]\n",
      "\t71 : collection_recovery_fee [NUMERICAL]\n",
      "\t69 : int_rate [NUMERICAL]\n",
      "\t51 : total_rec_late_fee [NUMERICAL]\n",
      "\t50 : grade_A [NUMERICAL]\n",
      "\t48 : total_rec_prncp [NUMERICAL]\n",
      "\t40 : initial_list_status_w [NUMERICAL]\n",
      "\t29 : initial_list_status_f [NUMERICAL]\n",
      "\t23 : total_pymnt [NUMERICAL]\n",
      "\t21 : total_pymnt_inv [NUMERICAL]\n",
      "\t20 : total_rev_hi_lim [NUMERICAL]\n",
      "\t20 : total_rec_int [NUMERICAL]\n",
      "\t19 : inq_last_6mths [NUMERICAL]\n",
      "\t13 : tot_cur_bal [NUMERICAL]\n",
      "\t13 : grade_F [NUMERICAL]\n",
      "\t12 : grade_D [NUMERICAL]\n",
      "\t11 : verification_status_Verified [NUMERICAL]\n",
      "\t10 : grade_E [NUMERICAL]\n",
      "\t10 : grade_B [NUMERICAL]\n",
      "\t10 : annual_inc [NUMERICAL]\n",
      "\t7 : loan_amnt [NUMERICAL]\n",
      "\t6 : term__60_months [NUMERICAL]\n",
      "\t4 : revol_util [NUMERICAL]\n",
      "\t4 : purpose_credit_card [NUMERICAL]\n",
      "\t4 : installment [NUMERICAL]\n",
      "\t3 : verification_status_Source_Verified [NUMERICAL]\n",
      "\t3 : funded_amnt [NUMERICAL]\n",
      "\t3 : dti [NUMERICAL]\n",
      "\t2 : tot_coll_amt [NUMERICAL]\n",
      "\t2 : term__36_months [NUMERICAL]\n",
      "\t2 : emp_length_3_years [NUMERICAL]\n",
      "\t1 : total_acc [NUMERICAL]\n",
      "\t1 : revol_bal [NUMERICAL]\n",
      "\t1 : home_ownership_RENT [NUMERICAL]\n",
      "\t1 : home_ownership_MORTGAGE [NUMERICAL]\n",
      "\n",
      "Attribute in nodes with depth <= 2:\n",
      "\t177 : recoveries [NUMERICAL]\n",
      "\t176 : out_prncp [NUMERICAL]\n",
      "\t165 : last_pymnt_amnt [NUMERICAL]\n",
      "\t149 : int_rate [NUMERICAL]\n",
      "\t140 : collection_recovery_fee [NUMERICAL]\n",
      "\t117 : total_rec_prncp [NUMERICAL]\n",
      "\t109 : total_rec_late_fee [NUMERICAL]\n",
      "\t84 : grade_A [NUMERICAL]\n",
      "\t69 : total_pymnt [NUMERICAL]\n",
      "\t63 : initial_list_status_w [NUMERICAL]\n",
      "\t62 : total_pymnt_inv [NUMERICAL]\n",
      "\t55 : total_rec_int [NUMERICAL]\n",
      "\t48 : initial_list_status_f [NUMERICAL]\n",
      "\t36 : total_rev_hi_lim [NUMERICAL]\n",
      "\t36 : tot_cur_bal [NUMERICAL]\n",
      "\t36 : installment [NUMERICAL]\n",
      "\t35 : annual_inc [NUMERICAL]\n",
      "\t30 : inq_last_6mths [NUMERICAL]\n",
      "\t23 : loan_amnt [NUMERICAL]\n",
      "\t21 : grade_F [NUMERICAL]\n",
      "\t20 : verification_status_Verified [NUMERICAL]\n",
      "\t20 : grade_B [NUMERICAL]\n",
      "\t19 : term__60_months [NUMERICAL]\n",
      "\t18 : grade_E [NUMERICAL]\n",
      "\t18 : funded_amnt [NUMERICAL]\n",
      "\t17 : grade_D [NUMERICAL]\n",
      "\t14 : revol_util [NUMERICAL]\n",
      "\t11 : dti [NUMERICAL]\n",
      "\t9 : revol_bal [NUMERICAL]\n",
      "\t9 : home_ownership_RENT [NUMERICAL]\n",
      "\t8 : term__36_months [NUMERICAL]\n",
      "\t6 : total_acc [NUMERICAL]\n",
      "\t5 : verification_status_Source_Verified [NUMERICAL]\n",
      "\t5 : open_acc [NUMERICAL]\n",
      "\t4 : purpose_credit_card [NUMERICAL]\n",
      "\t3 : verification_status_Not_Verified [NUMERICAL]\n",
      "\t3 : emp_length_3_years [NUMERICAL]\n",
      "\t3 : emp_length_10+_years [NUMERICAL]\n",
      "\t2 : tot_coll_amt [NUMERICAL]\n",
      "\t2 : pub_rec [NUMERICAL]\n",
      "\t2 : home_ownership_MORTGAGE [NUMERICAL]\n",
      "\t2 : grade_C [NUMERICAL]\n",
      "\t1 : purpose_medical [NUMERICAL]\n",
      "\t1 : purpose_debt_consolidation [NUMERICAL]\n",
      "\t1 : grade_G [NUMERICAL]\n",
      "\t1 : emp_length_n/a [NUMERICAL]\n",
      "\n",
      "Attribute in nodes with depth <= 3:\n",
      "\t308 : last_pymnt_amnt [NUMERICAL]\n",
      "\t304 : out_prncp [NUMERICAL]\n",
      "\t303 : int_rate [NUMERICAL]\n",
      "\t300 : recoveries [NUMERICAL]\n",
      "\t243 : collection_recovery_fee [NUMERICAL]\n",
      "\t236 : total_rec_prncp [NUMERICAL]\n",
      "\t201 : total_rec_late_fee [NUMERICAL]\n",
      "\t164 : total_pymnt [NUMERICAL]\n",
      "\t158 : total_pymnt_inv [NUMERICAL]\n",
      "\t137 : total_rec_int [NUMERICAL]\n",
      "\t120 : grade_A [NUMERICAL]\n",
      "\t93 : installment [NUMERICAL]\n",
      "\t87 : initial_list_status_w [NUMERICAL]\n",
      "\t79 : annual_inc [NUMERICAL]\n",
      "\t74 : tot_cur_bal [NUMERICAL]\n",
      "\t74 : initial_list_status_f [NUMERICAL]\n",
      "\t73 : loan_amnt [NUMERICAL]\n",
      "\t72 : total_rev_hi_lim [NUMERICAL]\n",
      "\t65 : funded_amnt [NUMERICAL]\n",
      "\t50 : inq_last_6mths [NUMERICAL]\n",
      "\t39 : revol_bal [NUMERICAL]\n",
      "\t37 : grade_F [NUMERICAL]\n",
      "\t37 : dti [NUMERICAL]\n",
      "\t36 : grade_B [NUMERICAL]\n",
      "\t34 : verification_status_Verified [NUMERICAL]\n",
      "\t33 : grade_E [NUMERICAL]\n",
      "\t31 : revol_util [NUMERICAL]\n",
      "\t29 : term__60_months [NUMERICAL]\n",
      "\t25 : total_acc [NUMERICAL]\n",
      "\t24 : grade_D [NUMERICAL]\n",
      "\t19 : term__36_months [NUMERICAL]\n",
      "\t16 : open_acc [NUMERICAL]\n",
      "\t16 : home_ownership_RENT [NUMERICAL]\n",
      "\t12 : verification_status_Not_Verified [NUMERICAL]\n",
      "\t11 : tot_coll_amt [NUMERICAL]\n",
      "\t10 : home_ownership_MORTGAGE [NUMERICAL]\n",
      "\t9 : grade_C [NUMERICAL]\n",
      "\t7 : verification_status_Source_Verified [NUMERICAL]\n",
      "\t7 : emp_length_3_years [NUMERICAL]\n",
      "\t6 : purpose_credit_card [NUMERICAL]\n",
      "\t5 : purpose_medical [NUMERICAL]\n",
      "\t5 : emp_length_10+_years [NUMERICAL]\n",
      "\t4 : purpose_debt_consolidation [NUMERICAL]\n",
      "\t3 : pub_rec [NUMERICAL]\n",
      "\t3 : emp_length_4_years [NUMERICAL]\n",
      "\t3 : emp_length_2_years [NUMERICAL]\n",
      "\t3 : delinq_2yrs [NUMERICAL]\n",
      "\t3 : collections_12_mths_ex_med [NUMERICAL]\n",
      "\t2 : grade_G [NUMERICAL]\n",
      "\t2 : emp_length_n/a [NUMERICAL]\n",
      "\t2 : emp_length_<_1_year [NUMERICAL]\n",
      "\t2 : emp_length_1_year [NUMERICAL]\n",
      "\t1 : purpose_other [NUMERICAL]\n",
      "\t1 : purpose_moving [NUMERICAL]\n",
      "\t1 : purpose_major_purchase [NUMERICAL]\n",
      "\t1 : purpose_house [NUMERICAL]\n",
      "\t1 : purpose_home_improvement [NUMERICAL]\n",
      "\t1 : emp_length_8_years [NUMERICAL]\n",
      "\t1 : emp_length_7_years [NUMERICAL]\n",
      "\t1 : emp_length_6_years [NUMERICAL]\n",
      "\t1 : emp_length_5_years [NUMERICAL]\n",
      "\n",
      "Attribute in nodes with depth <= 5:\n",
      "\t943 : last_pymnt_amnt [NUMERICAL]\n",
      "\t896 : total_rec_prncp [NUMERICAL]\n",
      "\t839 : out_prncp [NUMERICAL]\n",
      "\t828 : int_rate [NUMERICAL]\n",
      "\t651 : recoveries [NUMERICAL]\n",
      "\t586 : total_pymnt [NUMERICAL]\n",
      "\t577 : total_pymnt_inv [NUMERICAL]\n",
      "\t568 : total_rec_int [NUMERICAL]\n",
      "\t557 : total_rec_late_fee [NUMERICAL]\n",
      "\t471 : collection_recovery_fee [NUMERICAL]\n",
      "\t445 : installment [NUMERICAL]\n",
      "\t389 : funded_amnt [NUMERICAL]\n",
      "\t384 : loan_amnt [NUMERICAL]\n",
      "\t333 : annual_inc [NUMERICAL]\n",
      "\t316 : tot_cur_bal [NUMERICAL]\n",
      "\t286 : total_rev_hi_lim [NUMERICAL]\n",
      "\t280 : dti [NUMERICAL]\n",
      "\t250 : revol_bal [NUMERICAL]\n",
      "\t211 : revol_util [NUMERICAL]\n",
      "\t208 : grade_A [NUMERICAL]\n",
      "\t203 : total_acc [NUMERICAL]\n",
      "\t162 : initial_list_status_w [NUMERICAL]\n",
      "\t146 : initial_list_status_f [NUMERICAL]\n",
      "\t134 : inq_last_6mths [NUMERICAL]\n",
      "\t133 : open_acc [NUMERICAL]\n",
      "\t100 : term__60_months [NUMERICAL]\n",
      "\t99 : grade_B [NUMERICAL]\n",
      "\t85 : verification_status_Verified [NUMERICAL]\n",
      "\t81 : grade_D [NUMERICAL]\n",
      "\t79 : term__36_months [NUMERICAL]\n",
      "\t65 : grade_F [NUMERICAL]\n",
      "\t64 : grade_E [NUMERICAL]\n",
      "\t61 : tot_coll_amt [NUMERICAL]\n",
      "\t51 : grade_C [NUMERICAL]\n",
      "\t47 : home_ownership_RENT [NUMERICAL]\n",
      "\t46 : verification_status_Not_Verified [NUMERICAL]\n",
      "\t46 : delinq_2yrs [NUMERICAL]\n",
      "\t44 : home_ownership_MORTGAGE [NUMERICAL]\n",
      "\t34 : pub_rec [NUMERICAL]\n",
      "\t32 : verification_status_Source_Verified [NUMERICAL]\n",
      "\t24 : purpose_credit_card [NUMERICAL]\n",
      "\t23 : purpose_debt_consolidation [NUMERICAL]\n",
      "\t20 : purpose_medical [NUMERICAL]\n",
      "\t19 : emp_length_2_years [NUMERICAL]\n",
      "\t18 : emp_length_4_years [NUMERICAL]\n",
      "\t17 : emp_length_10+_years [NUMERICAL]\n",
      "\t15 : purpose_other [NUMERICAL]\n",
      "\t14 : purpose_home_improvement [NUMERICAL]\n",
      "\t14 : grade_G [NUMERICAL]\n",
      "\t13 : home_ownership_OWN [NUMERICAL]\n",
      "\t13 : emp_length_<_1_year [NUMERICAL]\n",
      "\t12 : purpose_small_business [NUMERICAL]\n",
      "\t12 : emp_length_3_years [NUMERICAL]\n",
      "\t11 : emp_length_7_years [NUMERICAL]\n",
      "\t11 : emp_length_1_year [NUMERICAL]\n",
      "\t10 : emp_length_8_years [NUMERICAL]\n",
      "\t10 : emp_length_5_years [NUMERICAL]\n",
      "\t9 : emp_length_6_years [NUMERICAL]\n",
      "\t8 : emp_length_n/a [NUMERICAL]\n",
      "\t5 : emp_length_9_years [NUMERICAL]\n",
      "\t5 : collections_12_mths_ex_med [NUMERICAL]\n",
      "\t4 : purpose_moving [NUMERICAL]\n",
      "\t4 : purpose_car [NUMERICAL]\n",
      "\t3 : purpose_major_purchase [NUMERICAL]\n",
      "\t3 : purpose_house [NUMERICAL]\n",
      "\t1 : acc_now_delinq [NUMERICAL]\n",
      "\n",
      "Condition type in nodes:\n",
      "\t196204 : HigherCondition\n",
      "Condition type in nodes with depth <= 0:\n",
      "\t300 : HigherCondition\n",
      "Condition type in nodes with depth <= 1:\n",
      "\t842 : HigherCondition\n",
      "Condition type in nodes with depth <= 2:\n",
      "\t1835 : HigherCondition\n",
      "Condition type in nodes with depth <= 3:\n",
      "\t3625 : HigherCondition\n",
      "Condition type in nodes with depth <= 5:\n",
      "\t12028 : HigherCondition\n",
      "Node format: NOT_SET\n",
      "\n",
      "Training OOB:\n",
      "\ttrees: 1, Out-of-bag evaluation: accuracy:0.969434 logloss:1.10172\n",
      "\ttrees: 11, Out-of-bag evaluation: accuracy:0.975086 logloss:0.528197\n",
      "\ttrees: 21, Out-of-bag evaluation: accuracy:0.980167 logloss:0.38588\n",
      "\ttrees: 31, Out-of-bag evaluation: accuracy:0.981502 logloss:0.320959\n",
      "\ttrees: 41, Out-of-bag evaluation: accuracy:0.981923 logloss:0.283195\n",
      "\ttrees: 51, Out-of-bag evaluation: accuracy:0.982187 logloss:0.260441\n",
      "\ttrees: 61, Out-of-bag evaluation: accuracy:0.982415 logloss:0.24015\n",
      "\ttrees: 71, Out-of-bag evaluation: accuracy:0.982573 logloss:0.219886\n",
      "\ttrees: 81, Out-of-bag evaluation: accuracy:0.982521 logloss:0.199962\n",
      "\ttrees: 91, Out-of-bag evaluation: accuracy:0.982433 logloss:0.191884\n",
      "\ttrees: 101, Out-of-bag evaluation: accuracy:0.982398 logloss:0.181639\n",
      "\ttrees: 111, Out-of-bag evaluation: accuracy:0.982556 logloss:0.17365\n",
      "\ttrees: 121, Out-of-bag evaluation: accuracy:0.982679 logloss:0.169124\n",
      "\ttrees: 131, Out-of-bag evaluation: accuracy:0.982608 logloss:0.162775\n",
      "\ttrees: 141, Out-of-bag evaluation: accuracy:0.982573 logloss:0.153697\n",
      "\ttrees: 151, Out-of-bag evaluation: accuracy:0.982749 logloss:0.151547\n",
      "\ttrees: 161, Out-of-bag evaluation: accuracy:0.982819 logloss:0.147006\n",
      "\ttrees: 171, Out-of-bag evaluation: accuracy:0.982731 logloss:0.140646\n",
      "\ttrees: 181, Out-of-bag evaluation: accuracy:0.982767 logloss:0.135644\n",
      "\ttrees: 191, Out-of-bag evaluation: accuracy:0.982802 logloss:0.129947\n",
      "\ttrees: 201, Out-of-bag evaluation: accuracy:0.982854 logloss:0.126337\n",
      "\ttrees: 211, Out-of-bag evaluation: accuracy:0.982837 logloss:0.12524\n",
      "\ttrees: 221, Out-of-bag evaluation: accuracy:0.982819 logloss:0.12088\n",
      "\ttrees: 232, Out-of-bag evaluation: accuracy:0.982872 logloss:0.117406\n",
      "\ttrees: 242, Out-of-bag evaluation: accuracy:0.982907 logloss:0.115525\n",
      "\ttrees: 252, Out-of-bag evaluation: accuracy:0.982854 logloss:0.112805\n",
      "\ttrees: 262, Out-of-bag evaluation: accuracy:0.982837 logloss:0.112332\n",
      "\ttrees: 272, Out-of-bag evaluation: accuracy:0.982907 logloss:0.11054\n",
      "\ttrees: 282, Out-of-bag evaluation: accuracy:0.982907 logloss:0.108578\n",
      "\ttrees: 292, Out-of-bag evaluation: accuracy:0.982889 logloss:0.107986\n",
      "\ttrees: 300, Out-of-bag evaluation: accuracy:0.982889 logloss:0.106823\n",
      "\n"
     ]
    }
   ],
   "source": [
    "model.summary()"
   ]
  },
  {
   "cell_type": "code",
   "execution_count": 119,
   "metadata": {},
   "outputs": [
    {
     "name": "stdout",
     "output_type": "stream",
     "text": [
      "25/25 [==============================] - 1s 25ms/step - loss: 0.0000e+00 - accuracy: 0.9823 - precision_1: 0.9987 - recall_1: 0.9657\n"
     ]
    },
    {
     "data": {
      "text/plain": [
       "[0.0, 0.9822511672973633, 0.9987274408340454, 0.9657096266746521]"
      ]
     },
     "execution_count": 119,
     "metadata": {},
     "output_type": "execute_result"
    }
   ],
   "source": [
    "model.evaluate(X_test)"
   ]
  },
  {
   "cell_type": "code",
   "execution_count": 120,
   "metadata": {},
   "outputs": [
    {
     "name": "stdout",
     "output_type": "stream",
     "text": [
      "25/25 [==============================] - 1s 23ms/step\n"
     ]
    }
   ],
   "source": [
    "y_pred = np.round(model.predict(X_test))"
   ]
  },
  {
   "cell_type": "code",
   "execution_count": 121,
   "metadata": {},
   "outputs": [
    {
     "data": {
      "text/plain": [
       "array([[1.],\n",
       "       [0.],\n",
       "       [1.],\n",
       "       ...,\n",
       "       [1.],\n",
       "       [1.],\n",
       "       [0.]], dtype=float32)"
      ]
     },
     "execution_count": 121,
     "metadata": {},
     "output_type": "execute_result"
    }
   ],
   "source": [
    "y_pred"
   ]
  },
  {
   "cell_type": "code",
   "execution_count": 122,
   "metadata": {},
   "outputs": [],
   "source": [
    "cm = confusion_matrix(test['default_ind'], y_pred)"
   ]
  },
  {
   "cell_type": "code",
   "execution_count": 123,
   "metadata": {},
   "outputs": [
    {
     "data": {
      "image/png": "[encoded data removed]",
      "text/plain": [
       "<Figure size 432x288 with 2 Axes>"
      ]
     },
     "metadata": {
      "needs_background": "light"
     },
     "output_type": "display_data"
    }
   ],
   "source": [
    "graph_confusion_matrix(cm)"
   ]
  },
  {
   "cell_type": "code",
   "execution_count": 124,
   "metadata": {},
   "outputs": [
    {
     "data": {
      "image/png": "[encoded data removed]",
      "text/plain": [
       "<Figure size 432x288 with 1 Axes>"
      ]
     },
     "metadata": {
      "needs_background": "light"
     },
     "output_type": "display_data"
    }
   ],
   "source": [
    "graph_roc_curve(test['default_ind'], y_pred)"
   ]
  },
  {
   "attachments": {},
   "cell_type": "markdown",
   "metadata": {},
   "source": [
    "### Feed Forward network"
   ]
  },
  {
   "cell_type": "code",
   "execution_count": 125,
   "metadata": {},
   "outputs": [],
   "source": [
    "y_train = train['default_ind']\n",
    "X_train = train.drop('default_ind', axis=1)\n",
    "y_test = test['default_ind']\n",
    "X_test = test.drop('default_ind', axis=1)"
   ]
  },
  {
   "cell_type": "code",
   "execution_count": 126,
   "metadata": {},
   "outputs": [
    {
     "data": {
      "text/plain": [
       "(56924, 73)"
      ]
     },
     "execution_count": 126,
     "metadata": {},
     "output_type": "execute_result"
    }
   ],
   "source": [
    "X_train.shape"
   ]
  },
  {
   "cell_type": "code",
   "execution_count": 130,
   "metadata": {},
   "outputs": [],
   "source": [
    "from keras.models import Sequential\n",
    "from keras.layers import Dense, Input\n",
    "\n",
    "model = Sequential()\n",
    "model.add(Input(shape=(73,)))\n",
    "model.add(Dense(8, activation=\"relu\"))\n",
    "model.add(Dense(8, activation=\"relu\"))\n",
    "model.add(Dense(8, activation=\"relu\"))\n",
    "model.add(Dense(8, activation=\"relu\"))\n",
    "model.add(Dense(2, activation=\"softmax\"))"
   ]
  },
  {
   "cell_type": "code",
   "execution_count": 131,
   "metadata": {},
   "outputs": [],
   "source": [
    "model.compile(loss=\"sparse_categorical_crossentropy\", optimizer='adam', metrics=['accuracy'])"
   ]
  },
  {
   "cell_type": "code",
   "execution_count": 132,
   "metadata": {},
   "outputs": [
    {
     "name": "stdout",
     "output_type": "stream",
     "text": [
      "Epoch 1/50\n",
      "911/911 [==============================] - 2s 1ms/step - loss: 41.5687 - accuracy: 0.6062 - val_loss: 11.4727 - val_accuracy: 0.5968\n",
      "Epoch 2/50\n",
      "911/911 [==============================] - 1s 596us/step - loss: 4.7006 - accuracy: 0.6980 - val_loss: 15.4243 - val_accuracy: 0.5033\n",
      "Epoch 3/50\n",
      "911/911 [==============================] - 1s 579us/step - loss: 1.4265 - accuracy: 0.8520 - val_loss: 0.7024 - val_accuracy: 0.9228\n",
      "Epoch 4/50\n",
      "911/911 [==============================] - 1s 580us/step - loss: 0.5970 - accuracy: 0.9229 - val_loss: 0.5193 - val_accuracy: 0.9105\n",
      "Epoch 5/50\n",
      "911/911 [==============================] - 1s 579us/step - loss: 0.4661 - accuracy: 0.9431 - val_loss: 0.5924 - val_accuracy: 0.9479\n",
      "Epoch 6/50\n",
      "911/911 [==============================] - 1s 589us/step - loss: 0.2189 - accuracy: 0.9639 - val_loss: 0.2795 - val_accuracy: 0.9676\n",
      "Epoch 7/50\n",
      "911/911 [==============================] - 1s 577us/step - loss: 0.3539 - accuracy: 0.9502 - val_loss: 0.4500 - val_accuracy: 0.9133\n",
      "Epoch 8/50\n",
      "911/911 [==============================] - 1s 575us/step - loss: 0.1611 - accuracy: 0.9718 - val_loss: 0.3618 - val_accuracy: 0.9783\n",
      "Epoch 9/50\n",
      "911/911 [==============================] - 1s 586us/step - loss: 0.3320 - accuracy: 0.9567 - val_loss: 0.2220 - val_accuracy: 0.9764\n",
      "Epoch 10/50\n",
      "911/911 [==============================] - 1s 597us/step - loss: 0.2143 - accuracy: 0.9507 - val_loss: 0.1589 - val_accuracy: 0.9724\n",
      "Epoch 11/50\n",
      "911/911 [==============================] - 1s 580us/step - loss: 0.2613 - accuracy: 0.9390 - val_loss: 0.1684 - val_accuracy: 0.9596\n",
      "Epoch 12/50\n",
      "911/911 [==============================] - 1s 581us/step - loss: 0.1117 - accuracy: 0.9735 - val_loss: 0.0989 - val_accuracy: 0.9815\n",
      "Epoch 13/50\n",
      "911/911 [==============================] - 1s 582us/step - loss: 0.2881 - accuracy: 0.9032 - val_loss: 0.3029 - val_accuracy: 0.9453\n",
      "Epoch 14/50\n",
      "911/911 [==============================] - 1s 590us/step - loss: 0.1168 - accuracy: 0.9726 - val_loss: 0.1011 - val_accuracy: 0.9795\n",
      "Epoch 15/50\n",
      "911/911 [==============================] - 1s 585us/step - loss: 0.4063 - accuracy: 0.8422 - val_loss: 0.3199 - val_accuracy: 0.9144\n",
      "Epoch 16/50\n",
      "911/911 [==============================] - 1s 581us/step - loss: 0.4193 - accuracy: 0.8246 - val_loss: 0.2392 - val_accuracy: 0.9462\n",
      "Epoch 17/50\n",
      "911/911 [==============================] - 1s 573us/step - loss: 0.2362 - accuracy: 0.9307 - val_loss: 0.2652 - val_accuracy: 0.9159\n",
      "Epoch 18/50\n",
      "911/911 [==============================] - 1s 580us/step - loss: 0.2585 - accuracy: 0.9395 - val_loss: 0.1889 - val_accuracy: 0.9690\n",
      "Epoch 19/50\n",
      "911/911 [==============================] - 1s 589us/step - loss: 0.2204 - accuracy: 0.9484 - val_loss: 0.1698 - val_accuracy: 0.9683\n",
      "Epoch 20/50\n",
      "911/911 [==============================] - 1s 594us/step - loss: 0.1834 - accuracy: 0.9499 - val_loss: 0.1548 - val_accuracy: 0.9792\n",
      "Epoch 21/50\n",
      "911/911 [==============================] - 1s 597us/step - loss: 0.3857 - accuracy: 0.8546 - val_loss: 0.4109 - val_accuracy: 0.8024\n",
      "Epoch 22/50\n",
      "911/911 [==============================] - 1s 581us/step - loss: 0.2587 - accuracy: 0.9059 - val_loss: 0.1178 - val_accuracy: 0.9757\n",
      "Epoch 23/50\n",
      "911/911 [==============================] - 1s 577us/step - loss: 0.1051 - accuracy: 0.9738 - val_loss: 0.2077 - val_accuracy: 0.9368\n",
      "Epoch 24/50\n",
      "911/911 [==============================] - 1s 580us/step - loss: 0.1665 - accuracy: 0.9587 - val_loss: 0.1747 - val_accuracy: 0.9525\n",
      "Epoch 25/50\n",
      "911/911 [==============================] - 1s 594us/step - loss: 0.3586 - accuracy: 0.9085 - val_loss: 0.4561 - val_accuracy: 0.7694\n",
      "Epoch 26/50\n",
      "911/911 [==============================] - 1s 578us/step - loss: 0.3163 - accuracy: 0.8661 - val_loss: 1.1496 - val_accuracy: 0.9771\n",
      "Epoch 27/50\n",
      "911/911 [==============================] - 1s 579us/step - loss: 0.3755 - accuracy: 0.8615 - val_loss: 0.3966 - val_accuracy: 0.8170\n",
      "Epoch 28/50\n",
      "911/911 [==============================] - 1s 583us/step - loss: 0.1159 - accuracy: 0.9730 - val_loss: 0.0946 - val_accuracy: 0.9780\n",
      "Epoch 29/50\n",
      "911/911 [==============================] - 1s 579us/step - loss: 0.0857 - accuracy: 0.9803 - val_loss: 0.0757 - val_accuracy: 0.9828\n",
      "Epoch 30/50\n",
      "911/911 [==============================] - 1s 577us/step - loss: 0.1205 - accuracy: 0.9699 - val_loss: 0.1279 - val_accuracy: 0.9686\n",
      "Epoch 31/50\n",
      "911/911 [==============================] - 1s 592us/step - loss: 0.3403 - accuracy: 0.9169 - val_loss: 0.1385 - val_accuracy: 0.9666\n",
      "Epoch 32/50\n",
      "911/911 [==============================] - 1s 587us/step - loss: 0.5497 - accuracy: 0.8656 - val_loss: 0.5091 - val_accuracy: 0.7133\n",
      "Epoch 33/50\n",
      "911/911 [==============================] - 1s 594us/step - loss: 0.3812 - accuracy: 0.8247 - val_loss: 0.3301 - val_accuracy: 0.8649\n",
      "Epoch 34/50\n",
      "911/911 [==============================] - 1s 587us/step - loss: 0.3223 - accuracy: 0.9167 - val_loss: 0.3251 - val_accuracy: 0.8667\n",
      "Epoch 35/50\n",
      "911/911 [==============================] - 1s 580us/step - loss: 0.2085 - accuracy: 0.9271 - val_loss: 0.4120 - val_accuracy: 0.9738\n",
      "Epoch 36/50\n",
      "911/911 [==============================] - 1s 580us/step - loss: 0.1762 - accuracy: 0.9585 - val_loss: 0.1090 - val_accuracy: 0.9725\n",
      "Epoch 37/50\n",
      "911/911 [==============================] - 1s 583us/step - loss: 0.1554 - accuracy: 0.9598 - val_loss: 0.0968 - val_accuracy: 0.9768\n",
      "Epoch 38/50\n",
      "911/911 [==============================] - 1s 579us/step - loss: 0.0922 - accuracy: 0.9784 - val_loss: 0.0955 - val_accuracy: 0.9813\n",
      "Epoch 39/50\n",
      "911/911 [==============================] - 1s 579us/step - loss: 0.1799 - accuracy: 0.9624 - val_loss: 0.1368 - val_accuracy: 0.9622\n",
      "Epoch 40/50\n",
      "911/911 [==============================] - 1s 582us/step - loss: 0.1460 - accuracy: 0.9619 - val_loss: 0.1270 - val_accuracy: 0.9662\n",
      "Epoch 41/50\n",
      "911/911 [==============================] - 1s 577us/step - loss: 0.3196 - accuracy: 0.9647 - val_loss: 0.2149 - val_accuracy: 0.9314\n",
      "Epoch 42/50\n",
      "911/911 [==============================] - 1s 579us/step - loss: 0.1586 - accuracy: 0.9571 - val_loss: 0.5343 - val_accuracy: 0.9776\n",
      "Epoch 43/50\n",
      "911/911 [==============================] - 1s 588us/step - loss: 0.1235 - accuracy: 0.9730 - val_loss: 0.1196 - val_accuracy: 0.9799\n",
      "Epoch 44/50\n",
      "911/911 [==============================] - 1s 581us/step - loss: 0.1237 - accuracy: 0.9730 - val_loss: 0.0946 - val_accuracy: 0.9769\n",
      "Epoch 45/50\n",
      "911/911 [==============================] - 1s 588us/step - loss: 0.0916 - accuracy: 0.9802 - val_loss: 0.0784 - val_accuracy: 0.9819\n",
      "Epoch 46/50\n",
      "911/911 [==============================] - 1s 577us/step - loss: 0.0928 - accuracy: 0.9790 - val_loss: 0.0778 - val_accuracy: 0.9820\n",
      "Epoch 47/50\n",
      "911/911 [==============================] - 1s 609us/step - loss: 0.0882 - accuracy: 0.9798 - val_loss: 0.0770 - val_accuracy: 0.9819\n",
      "Epoch 48/50\n",
      "911/911 [==============================] - 1s 576us/step - loss: 0.4443 - accuracy: 0.9642 - val_loss: 0.1843 - val_accuracy: 0.9797\n",
      "Epoch 49/50\n",
      "911/911 [==============================] - 1s 600us/step - loss: 0.1648 - accuracy: 0.9662 - val_loss: 0.1000 - val_accuracy: 0.9754\n",
      "Epoch 50/50\n",
      "911/911 [==============================] - 1s 585us/step - loss: 0.0933 - accuracy: 0.9789 - val_loss: 0.1704 - val_accuracy: 0.9819\n"
     ]
    },
    {
     "data": {
      "text/plain": [
       "<keras.callbacks.History at 0x7f91a87dda90>"
      ]
     },
     "execution_count": 132,
     "metadata": {},
     "output_type": "execute_result"
    }
   ],
   "source": [
    "model.fit(X_train, y_train, epochs=50, batch_size=50, validation_split=0.2)"
   ]
  },
  {
   "cell_type": "code",
   "execution_count": 133,
   "metadata": {},
   "outputs": [
    {
     "name": "stdout",
     "output_type": "stream",
     "text": [
      "763/763 [==============================] - 0s 421us/step - loss: 0.2656 - accuracy: 0.9808\n"
     ]
    },
    {
     "data": {
      "text/plain": [
       "[0.2655651271343231, 0.9807755351066589]"
      ]
     },
     "execution_count": 133,
     "metadata": {},
     "output_type": "execute_result"
    }
   ],
   "source": [
    "model.evaluate(X_test, y_test)"
   ]
  },
  {
   "cell_type": "code",
   "execution_count": 134,
   "metadata": {},
   "outputs": [
    {
     "name": "stdout",
     "output_type": "stream",
     "text": [
      "763/763 [==============================] - 0s 332us/step\n"
     ]
    }
   ],
   "source": [
    "y_pred = model.predict(X_test)"
   ]
  },
  {
   "cell_type": "code",
   "execution_count": 135,
   "metadata": {},
   "outputs": [],
   "source": [
    "y_pred = y_pred.argmax(axis=1)"
   ]
  },
  {
   "cell_type": "code",
   "execution_count": 136,
   "metadata": {},
   "outputs": [],
   "source": [
    "cm = confusion_matrix(y_test, y_pred)"
   ]
  },
  {
   "cell_type": "code",
   "execution_count": 137,
   "metadata": {},
   "outputs": [
    {
     "data": {
      "image/png": "[encoded data removed]",
      "text/plain": [
       "<Figure size 432x288 with 2 Axes>"
      ]
     },
     "metadata": {
      "needs_background": "light"
     },
     "output_type": "display_data"
    }
   ],
   "source": [
    "graph_confusion_matrix(cm)"
   ]
  },
  {
   "cell_type": "code",
   "execution_count": 138,
   "metadata": {},
   "outputs": [
    {
     "data": {
      "image/png": "[encoded data removed]",
      "text/plain": [
       "<Figure size 432x288 with 1 Axes>"
      ]
     },
     "metadata": {
      "needs_background": "light"
     },
     "output_type": "display_data"
    }
   ],
   "source": [
    "graph_roc_curve(y_pred, y_test)"
   ]
  },
  {
   "cell_type": "code",
   "execution_count": 139,
   "metadata": {},
   "outputs": [
    {
     "name": "stdout",
     "output_type": "stream",
     "text": [
      "0.9814508081216469\n",
      "0.9807633505597175\n"
     ]
    }
   ],
   "source": [
    "from sklearn.metrics import precision_score, recall_score\n",
    "print(precision_score(y_test, y_pred , average=\"macro\"))\n",
    "print(recall_score(y_test, y_pred , average=\"macro\"))"
   ]
  },
  {
   "cell_type": "code",
   "execution_count": null,
   "metadata": {},
   "outputs": [],
   "source": []
  }
 ],
 "metadata": {
  "kernelspec": {
   "display_name": "tf",
   "language": "python",
   "name": "python3"
  },
  "language_info": {
   "codemirror_mode": {
    "name": "ipython",
    "version": 3
   },
   "file_extension": ".py",
   "mimetype": "text/x-python",
   "name": "python",
   "nbconvert_exporter": "python",
   "pygments_lexer": "ipython3",
   "version": "3.9.16"
  },
  "orig_nbformat": 4
 },
 "nbformat": 4,
 "nbformat_minor": 2
}
